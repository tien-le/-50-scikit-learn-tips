{
 "cells": [
  {
   "cell_type": "markdown",
   "id": "1c9654a5",
   "metadata": {},
   "source": [
    "Course \"50 scikit-learn tips\" by **Kenvin Markham**\n",
    "\n",
    "Link: https://courses.dataschool.io/courses/scikit-learn-tips/801794-introduction/2376425-welcome-to-the-course\n",
    "\n",
    "* Updated by Tien LE\n",
    "* Updated date: 2021-10-01\n"
   ]
  },
  {
   "cell_type": "code",
   "execution_count": 1,
   "id": "69662ef3",
   "metadata": {
    "ExecuteTime": {
     "end_time": "2021-10-17T18:27:04.042932Z",
     "start_time": "2021-10-17T18:27:02.792014Z"
    }
   },
   "outputs": [],
   "source": [
    "import os\n",
    "import sys\n",
    "import sklearn\n",
    "import numpy as np\n",
    "import pandas as pd\n",
    "import matplotlib.pyplot as plt"
   ]
  },
  {
   "cell_type": "code",
   "execution_count": 2,
   "id": "b3d3096e",
   "metadata": {
    "ExecuteTime": {
     "end_time": "2021-10-17T18:27:04.074149Z",
     "start_time": "2021-10-17T18:27:04.058524Z"
    }
   },
   "outputs": [
    {
     "data": {
      "text/plain": [
       "'1.0.1'"
      ]
     },
     "execution_count": 2,
     "metadata": {},
     "output_type": "execute_result"
    }
   ],
   "source": [
    "sklearn.__version__"
   ]
  },
  {
   "cell_type": "code",
   "execution_count": 3,
   "id": "a7d9429c",
   "metadata": {
    "ExecuteTime": {
     "end_time": "2021-10-17T18:27:04.111927Z",
     "start_time": "2021-10-17T18:27:04.096274Z"
    }
   },
   "outputs": [],
   "source": [
    "# Upgrade scikit-learn to 1.0\n",
    "# ! pip install --upgrade scikit-learn"
   ]
  },
  {
   "cell_type": "markdown",
   "id": "378c36a3-047e-4e4a-a58e-79c6011c84ae",
   "metadata": {},
   "source": [
    "# Data Settings"
   ]
  },
  {
   "cell_type": "code",
   "execution_count": 4,
   "id": "05f73c10-6100-416a-86a3-6d4cb7dc1784",
   "metadata": {},
   "outputs": [],
   "source": [
    "file_input_path = \"titanic_train.csv\"\n",
    "if not os.path.exists(file_input_path):\n",
    "    df_train = pd.read_csv(\"http://bit.ly/kaggletrain\")\n",
    "    df_train.to_csv(file_input_path, header=True, index=False, sep=\"\\t\")\n",
    "else:\n",
    "    df_train = pd.read_csv(file_input_path, header=0, sep=\"\\t\")\n",
    "    \n",
    "features = [\"Pclass\", \"Fare\"]\n",
    "X, y = df_train[features], df_train[\"Survived\"]\n",
    "\n",
    "from sklearn.model_selection import train_test_split\n",
    "X_train, X_test, y_train, y_test = train_test_split(X, y, random_state=0)"
   ]
  },
  {
   "cell_type": "code",
   "execution_count": 5,
   "id": "7f62a09d-1a3b-4097-9a30-2e3fc40f3330",
   "metadata": {},
   "outputs": [],
   "source": [
    "file_input_path = \"titanic_test.csv\"\n",
    "if not os.path.exists(file_input_path):\n",
    "    df_test = pd.read_csv(\"http://bit.ly/kaggletest\")\n",
    "    df_test.to_csv(file_input_path, header=True, index=False, sep=\"\\t\")\n",
    "else:\n",
    "    df_test = pd.read_csv(file_input_path, header=0, sep=\"\\t\")"
   ]
  },
  {
   "cell_type": "markdown",
   "id": "29fa6d89",
   "metadata": {},
   "source": [
    "# Data Preprocessing"
   ]
  },
  {
   "cell_type": "markdown",
   "id": "8c6424ba",
   "metadata": {},
   "source": [
    "## Use ColumnTransformer to apply different preprocessing to different columns\n",
    "\n",
    "Use ColumnTransformer to apply different preprocessing to different columns:\n",
    "+ select from DataFrame columns by name\n",
    "+ passthrough or drop unspecified columns\n",
    "\n",
    "Requires scikit-learn 0.20+\n",
    "\n",
    "Additional links: [OneHotEncoder](https://scikit-learn.org/stable/modules/generated/sklearn.preprocessing.OneHotEncoder.html), [SimpleImputer](https://scikit-learn.org/stable/modules/generated/sklearn.impute.SimpleImputer.html), [make_column_transformer](https://scikit-learn.org/stable/modules/generated/sklearn.compose.make_column_transformer.html?highlight=make_column_transformer)"
   ]
  },
  {
   "cell_type": "code",
   "execution_count": 6,
   "id": "df79d079",
   "metadata": {
    "ExecuteTime": {
     "end_time": "2021-10-17T18:27:04.591014Z",
     "start_time": "2021-10-17T18:27:04.544150Z"
    }
   },
   "outputs": [],
   "source": [
    "file_input_path = \"titanic_train.csv\"\n",
    "if not os.path.exists(file_input_path):\n",
    "    df = pd.read_csv(\"http://bit.ly/kaggletrain\")\n",
    "    df.to_csv(file_input_path, header=True, index=False, sep=\"\\t\")\n",
    "else:\n",
    "    df = pd.read_csv(file_input_path, header=0, sep=\"\\t\")"
   ]
  },
  {
   "cell_type": "code",
   "execution_count": 7,
   "id": "a8359d1c",
   "metadata": {
    "ExecuteTime": {
     "end_time": "2021-10-17T18:27:04.644390Z",
     "start_time": "2021-10-17T18:27:04.597519Z"
    }
   },
   "outputs": [
    {
     "name": "stdout",
     "output_type": "stream",
     "text": [
      "<class 'pandas.core.frame.DataFrame'>\n",
      "RangeIndex: 891 entries, 0 to 890\n",
      "Data columns (total 12 columns):\n",
      " #   Column       Non-Null Count  Dtype  \n",
      "---  ------       --------------  -----  \n",
      " 0   PassengerId  891 non-null    int64  \n",
      " 1   Survived     891 non-null    int64  \n",
      " 2   Pclass       891 non-null    int64  \n",
      " 3   Name         891 non-null    object \n",
      " 4   Sex          891 non-null    object \n",
      " 5   Age          714 non-null    float64\n",
      " 6   SibSp        891 non-null    int64  \n",
      " 7   Parch        891 non-null    int64  \n",
      " 8   Ticket       891 non-null    object \n",
      " 9   Fare         891 non-null    float64\n",
      " 10  Cabin        204 non-null    object \n",
      " 11  Embarked     889 non-null    object \n",
      "dtypes: float64(2), int64(5), object(5)\n",
      "memory usage: 83.7+ KB\n"
     ]
    }
   ],
   "source": [
    "df.info()"
   ]
  },
  {
   "cell_type": "code",
   "execution_count": 8,
   "id": "de1617b9",
   "metadata": {
    "ExecuteTime": {
     "end_time": "2021-10-17T18:27:04.675631Z",
     "start_time": "2021-10-17T18:27:04.644390Z"
    }
   },
   "outputs": [
    {
     "data": {
      "text/html": [
       "<div>\n",
       "<style scoped>\n",
       "    .dataframe tbody tr th:only-of-type {\n",
       "        vertical-align: middle;\n",
       "    }\n",
       "\n",
       "    .dataframe tbody tr th {\n",
       "        vertical-align: top;\n",
       "    }\n",
       "\n",
       "    .dataframe thead th {\n",
       "        text-align: right;\n",
       "    }\n",
       "</style>\n",
       "<table border=\"1\" class=\"dataframe\">\n",
       "  <thead>\n",
       "    <tr style=\"text-align: right;\">\n",
       "      <th></th>\n",
       "      <th>PassengerId</th>\n",
       "      <th>Survived</th>\n",
       "      <th>Pclass</th>\n",
       "      <th>Name</th>\n",
       "      <th>Sex</th>\n",
       "      <th>Age</th>\n",
       "      <th>SibSp</th>\n",
       "      <th>Parch</th>\n",
       "      <th>Ticket</th>\n",
       "      <th>Fare</th>\n",
       "      <th>Cabin</th>\n",
       "      <th>Embarked</th>\n",
       "    </tr>\n",
       "  </thead>\n",
       "  <tbody>\n",
       "    <tr>\n",
       "      <th>0</th>\n",
       "      <td>1</td>\n",
       "      <td>0</td>\n",
       "      <td>3</td>\n",
       "      <td>Braund, Mr. Owen Harris</td>\n",
       "      <td>male</td>\n",
       "      <td>22.0</td>\n",
       "      <td>1</td>\n",
       "      <td>0</td>\n",
       "      <td>A/5 21171</td>\n",
       "      <td>7.2500</td>\n",
       "      <td>NaN</td>\n",
       "      <td>S</td>\n",
       "    </tr>\n",
       "    <tr>\n",
       "      <th>1</th>\n",
       "      <td>2</td>\n",
       "      <td>1</td>\n",
       "      <td>1</td>\n",
       "      <td>Cumings, Mrs. John Bradley (Florence Briggs Th...</td>\n",
       "      <td>female</td>\n",
       "      <td>38.0</td>\n",
       "      <td>1</td>\n",
       "      <td>0</td>\n",
       "      <td>PC 17599</td>\n",
       "      <td>71.2833</td>\n",
       "      <td>C85</td>\n",
       "      <td>C</td>\n",
       "    </tr>\n",
       "    <tr>\n",
       "      <th>2</th>\n",
       "      <td>3</td>\n",
       "      <td>1</td>\n",
       "      <td>3</td>\n",
       "      <td>Heikkinen, Miss. Laina</td>\n",
       "      <td>female</td>\n",
       "      <td>26.0</td>\n",
       "      <td>0</td>\n",
       "      <td>0</td>\n",
       "      <td>STON/O2. 3101282</td>\n",
       "      <td>7.9250</td>\n",
       "      <td>NaN</td>\n",
       "      <td>S</td>\n",
       "    </tr>\n",
       "    <tr>\n",
       "      <th>3</th>\n",
       "      <td>4</td>\n",
       "      <td>1</td>\n",
       "      <td>1</td>\n",
       "      <td>Futrelle, Mrs. Jacques Heath (Lily May Peel)</td>\n",
       "      <td>female</td>\n",
       "      <td>35.0</td>\n",
       "      <td>1</td>\n",
       "      <td>0</td>\n",
       "      <td>113803</td>\n",
       "      <td>53.1000</td>\n",
       "      <td>C123</td>\n",
       "      <td>S</td>\n",
       "    </tr>\n",
       "    <tr>\n",
       "      <th>4</th>\n",
       "      <td>5</td>\n",
       "      <td>0</td>\n",
       "      <td>3</td>\n",
       "      <td>Allen, Mr. William Henry</td>\n",
       "      <td>male</td>\n",
       "      <td>35.0</td>\n",
       "      <td>0</td>\n",
       "      <td>0</td>\n",
       "      <td>373450</td>\n",
       "      <td>8.0500</td>\n",
       "      <td>NaN</td>\n",
       "      <td>S</td>\n",
       "    </tr>\n",
       "    <tr>\n",
       "      <th>5</th>\n",
       "      <td>6</td>\n",
       "      <td>0</td>\n",
       "      <td>3</td>\n",
       "      <td>Moran, Mr. James</td>\n",
       "      <td>male</td>\n",
       "      <td>NaN</td>\n",
       "      <td>0</td>\n",
       "      <td>0</td>\n",
       "      <td>330877</td>\n",
       "      <td>8.4583</td>\n",
       "      <td>NaN</td>\n",
       "      <td>Q</td>\n",
       "    </tr>\n",
       "  </tbody>\n",
       "</table>\n",
       "</div>"
      ],
      "text/plain": [
       "   PassengerId  Survived  Pclass  \\\n",
       "0            1         0       3   \n",
       "1            2         1       1   \n",
       "2            3         1       3   \n",
       "3            4         1       1   \n",
       "4            5         0       3   \n",
       "5            6         0       3   \n",
       "\n",
       "                                                Name     Sex   Age  SibSp  \\\n",
       "0                            Braund, Mr. Owen Harris    male  22.0      1   \n",
       "1  Cumings, Mrs. John Bradley (Florence Briggs Th...  female  38.0      1   \n",
       "2                             Heikkinen, Miss. Laina  female  26.0      0   \n",
       "3       Futrelle, Mrs. Jacques Heath (Lily May Peel)  female  35.0      1   \n",
       "4                           Allen, Mr. William Henry    male  35.0      0   \n",
       "5                                   Moran, Mr. James    male   NaN      0   \n",
       "\n",
       "   Parch            Ticket     Fare Cabin Embarked  \n",
       "0      0         A/5 21171   7.2500   NaN        S  \n",
       "1      0          PC 17599  71.2833   C85        C  \n",
       "2      0  STON/O2. 3101282   7.9250   NaN        S  \n",
       "3      0            113803  53.1000  C123        S  \n",
       "4      0            373450   8.0500   NaN        S  \n",
       "5      0            330877   8.4583   NaN        Q  "
      ]
     },
     "execution_count": 8,
     "metadata": {},
     "output_type": "execute_result"
    }
   ],
   "source": [
    "df.head(6)"
   ]
  },
  {
   "cell_type": "code",
   "execution_count": 9,
   "id": "f988b93e",
   "metadata": {
    "ExecuteTime": {
     "end_time": "2021-10-17T18:27:04.720388Z",
     "start_time": "2021-10-17T18:27:04.691252Z"
    }
   },
   "outputs": [
    {
     "data": {
      "text/html": [
       "<div>\n",
       "<style scoped>\n",
       "    .dataframe tbody tr th:only-of-type {\n",
       "        vertical-align: middle;\n",
       "    }\n",
       "\n",
       "    .dataframe tbody tr th {\n",
       "        vertical-align: top;\n",
       "    }\n",
       "\n",
       "    .dataframe thead th {\n",
       "        text-align: right;\n",
       "    }\n",
       "</style>\n",
       "<table border=\"1\" class=\"dataframe\">\n",
       "  <thead>\n",
       "    <tr style=\"text-align: right;\">\n",
       "      <th></th>\n",
       "      <th>Fare</th>\n",
       "      <th>Embarked</th>\n",
       "      <th>Sex</th>\n",
       "      <th>Age</th>\n",
       "    </tr>\n",
       "  </thead>\n",
       "  <tbody>\n",
       "    <tr>\n",
       "      <th>0</th>\n",
       "      <td>7.2500</td>\n",
       "      <td>S</td>\n",
       "      <td>male</td>\n",
       "      <td>22.0</td>\n",
       "    </tr>\n",
       "    <tr>\n",
       "      <th>1</th>\n",
       "      <td>71.2833</td>\n",
       "      <td>C</td>\n",
       "      <td>female</td>\n",
       "      <td>38.0</td>\n",
       "    </tr>\n",
       "    <tr>\n",
       "      <th>2</th>\n",
       "      <td>7.9250</td>\n",
       "      <td>S</td>\n",
       "      <td>female</td>\n",
       "      <td>26.0</td>\n",
       "    </tr>\n",
       "    <tr>\n",
       "      <th>3</th>\n",
       "      <td>53.1000</td>\n",
       "      <td>S</td>\n",
       "      <td>female</td>\n",
       "      <td>35.0</td>\n",
       "    </tr>\n",
       "    <tr>\n",
       "      <th>4</th>\n",
       "      <td>8.0500</td>\n",
       "      <td>S</td>\n",
       "      <td>male</td>\n",
       "      <td>35.0</td>\n",
       "    </tr>\n",
       "    <tr>\n",
       "      <th>5</th>\n",
       "      <td>8.4583</td>\n",
       "      <td>Q</td>\n",
       "      <td>male</td>\n",
       "      <td>NaN</td>\n",
       "    </tr>\n",
       "  </tbody>\n",
       "</table>\n",
       "</div>"
      ],
      "text/plain": [
       "      Fare Embarked     Sex   Age\n",
       "0   7.2500        S    male  22.0\n",
       "1  71.2833        C  female  38.0\n",
       "2   7.9250        S  female  26.0\n",
       "3  53.1000        S  female  35.0\n",
       "4   8.0500        S    male  35.0\n",
       "5   8.4583        Q    male   NaN"
      ]
     },
     "execution_count": 9,
     "metadata": {},
     "output_type": "execute_result"
    }
   ],
   "source": [
    "cols = [\"Fare\", \"Embarked\", \"Sex\", \"Age\"]\n",
    "X = df[cols]\n",
    "X = X.head(6)\n",
    "X"
   ]
  },
  {
   "cell_type": "code",
   "execution_count": 10,
   "id": "82340a4a",
   "metadata": {
    "ExecuteTime": {
     "end_time": "2021-10-17T18:27:04.920871Z",
     "start_time": "2021-10-17T18:27:04.720388Z"
    }
   },
   "outputs": [],
   "source": [
    "from sklearn.preprocessing import OneHotEncoder\n",
    "from sklearn.impute import SimpleImputer\n",
    "from sklearn.compose import make_column_transformer"
   ]
  },
  {
   "cell_type": "code",
   "execution_count": 11,
   "id": "f48537b0",
   "metadata": {
    "ExecuteTime": {
     "end_time": "2021-10-17T18:27:04.936492Z",
     "start_time": "2021-10-17T18:27:04.920871Z"
    }
   },
   "outputs": [],
   "source": [
    "ohe = OneHotEncoder()\n",
    "simple_imputer = SimpleImputer()  # get mean value"
   ]
  },
  {
   "cell_type": "code",
   "execution_count": 12,
   "id": "67386b4b",
   "metadata": {
    "ExecuteTime": {
     "end_time": "2021-10-17T18:27:04.983362Z",
     "start_time": "2021-10-17T18:27:04.952112Z"
    }
   },
   "outputs": [],
   "source": [
    "col_transformer = make_column_transformer(\n",
    "    (ohe, [\"Embarked\", \"Sex\"]),\n",
    "    (simple_imputer, [\"Age\"]),\n",
    "    remainder=\"passthrough\"\n",
    ")\n",
    "\n",
    "#https://scikit-learn.org/stable/modules/generated/sklearn.compose.make_column_transformer.html?highlight=make_column_transformer\n",
    "#remainder{‘drop’, ‘passthrough’} or estimator, default=’drop’\n",
    "#   By default, only the specified columns in transformers are transformed and combined in the output, and the non-specified columns are dropped. (default of 'drop'). By specifying remainder='passthrough', all remaining columns that were not specified in transformers will be automatically passed through. This subset of columns is concatenated with the output of the transformers. By setting remainder to be an estimator, the remaining non-specified columns will use the remainder estimator. The estimator must support fit and transform."
   ]
  },
  {
   "cell_type": "code",
   "execution_count": 13,
   "id": "0997c6b2",
   "metadata": {
    "ExecuteTime": {
     "end_time": "2021-10-17T18:27:05.021110Z",
     "start_time": "2021-10-17T18:27:04.983362Z"
    }
   },
   "outputs": [
    {
     "data": {
      "text/plain": [
       "array([[ 0.    ,  0.    ,  1.    ,  0.    ,  1.    , 22.    ,  7.25  ],\n",
       "       [ 1.    ,  0.    ,  0.    ,  1.    ,  0.    , 38.    , 71.2833],\n",
       "       [ 0.    ,  0.    ,  1.    ,  1.    ,  0.    , 26.    ,  7.925 ],\n",
       "       [ 0.    ,  0.    ,  1.    ,  1.    ,  0.    , 35.    , 53.1   ],\n",
       "       [ 0.    ,  0.    ,  1.    ,  0.    ,  1.    , 35.    ,  8.05  ],\n",
       "       [ 0.    ,  1.    ,  0.    ,  0.    ,  1.    , 31.2   ,  8.4583]])"
      ]
     },
     "execution_count": 13,
     "metadata": {},
     "output_type": "execute_result"
    }
   ],
   "source": [
    "col_transformer.fit_transform(X)"
   ]
  },
  {
   "cell_type": "markdown",
   "id": "aa7a5db0",
   "metadata": {},
   "source": [
    "## Seven ways to select columns using ColumnTransformer\n",
    "\n",
    "There are SEVEN ways to select columns using [ColumnTransformer](https://scikit-learn.org/stable/modules/generated/sklearn.compose.make_column_transformer.html):\n",
    "+ column name\n",
    "+ integer position\n",
    "+ slice\n",
    "+ boolean mask\n",
    "+ regex pattern\n",
    "+ dtypes to include\n",
    "+ dtypes to exclude\n",
    "\n",
    "Additional links: [make_column_selector](https://scikit-learn.org/stable/modules/generated/sklearn.compose.make_column_selector.html)"
   ]
  },
  {
   "cell_type": "code",
   "execution_count": 14,
   "id": "23d4209b",
   "metadata": {
    "ExecuteTime": {
     "end_time": "2021-10-17T18:27:05.036731Z",
     "start_time": "2021-10-17T18:27:05.021110Z"
    }
   },
   "outputs": [],
   "source": [
    "import os \n",
    "\n",
    "file_input_path = \"titanic_train.csv\"\n",
    "if not os.path.exists(file_input_path):\n",
    "    df = pd.read_csv(\"http://bit.ly/kaggletrain\")\n",
    "    df.to_csv(file_input_path, header=True, index=False, sep=\"\\t\")\n",
    "else:\n",
    "    df = pd.read_csv(file_input_path, header=0, sep=\"\\t\")"
   ]
  },
  {
   "cell_type": "code",
   "execution_count": 15,
   "id": "8fec41bd",
   "metadata": {
    "ExecuteTime": {
     "end_time": "2021-10-17T18:27:05.083595Z",
     "start_time": "2021-10-17T18:27:05.036731Z"
    }
   },
   "outputs": [
    {
     "data": {
      "text/html": [
       "<div>\n",
       "<style scoped>\n",
       "    .dataframe tbody tr th:only-of-type {\n",
       "        vertical-align: middle;\n",
       "    }\n",
       "\n",
       "    .dataframe tbody tr th {\n",
       "        vertical-align: top;\n",
       "    }\n",
       "\n",
       "    .dataframe thead th {\n",
       "        text-align: right;\n",
       "    }\n",
       "</style>\n",
       "<table border=\"1\" class=\"dataframe\">\n",
       "  <thead>\n",
       "    <tr style=\"text-align: right;\">\n",
       "      <th></th>\n",
       "      <th>Fare</th>\n",
       "      <th>Embarked</th>\n",
       "      <th>Sex</th>\n",
       "      <th>Age</th>\n",
       "    </tr>\n",
       "  </thead>\n",
       "  <tbody>\n",
       "    <tr>\n",
       "      <th>0</th>\n",
       "      <td>7.2500</td>\n",
       "      <td>S</td>\n",
       "      <td>male</td>\n",
       "      <td>22.0</td>\n",
       "    </tr>\n",
       "    <tr>\n",
       "      <th>1</th>\n",
       "      <td>71.2833</td>\n",
       "      <td>C</td>\n",
       "      <td>female</td>\n",
       "      <td>38.0</td>\n",
       "    </tr>\n",
       "    <tr>\n",
       "      <th>2</th>\n",
       "      <td>7.9250</td>\n",
       "      <td>S</td>\n",
       "      <td>female</td>\n",
       "      <td>26.0</td>\n",
       "    </tr>\n",
       "    <tr>\n",
       "      <th>3</th>\n",
       "      <td>53.1000</td>\n",
       "      <td>S</td>\n",
       "      <td>female</td>\n",
       "      <td>35.0</td>\n",
       "    </tr>\n",
       "    <tr>\n",
       "      <th>4</th>\n",
       "      <td>8.0500</td>\n",
       "      <td>S</td>\n",
       "      <td>male</td>\n",
       "      <td>35.0</td>\n",
       "    </tr>\n",
       "    <tr>\n",
       "      <th>5</th>\n",
       "      <td>8.4583</td>\n",
       "      <td>Q</td>\n",
       "      <td>male</td>\n",
       "      <td>NaN</td>\n",
       "    </tr>\n",
       "  </tbody>\n",
       "</table>\n",
       "</div>"
      ],
      "text/plain": [
       "      Fare Embarked     Sex   Age\n",
       "0   7.2500        S    male  22.0\n",
       "1  71.2833        C  female  38.0\n",
       "2   7.9250        S  female  26.0\n",
       "3  53.1000        S  female  35.0\n",
       "4   8.0500        S    male  35.0\n",
       "5   8.4583        Q    male   NaN"
      ]
     },
     "execution_count": 15,
     "metadata": {},
     "output_type": "execute_result"
    }
   ],
   "source": [
    "cols = [\"Fare\", \"Embarked\", \"Sex\", \"Age\"]\n",
    "X = df[cols]\n",
    "X = X.head(6)\n",
    "X"
   ]
  },
  {
   "cell_type": "code",
   "execution_count": 16,
   "id": "87e4eb68",
   "metadata": {
    "ExecuteTime": {
     "end_time": "2021-10-17T18:27:05.099216Z",
     "start_time": "2021-10-17T18:27:05.083595Z"
    }
   },
   "outputs": [],
   "source": [
    "from sklearn.preprocessing import OneHotEncoder\n",
    "from sklearn.compose import make_column_transformer, make_column_selector"
   ]
  },
  {
   "cell_type": "code",
   "execution_count": 17,
   "id": "81d65960",
   "metadata": {
    "ExecuteTime": {
     "end_time": "2021-10-17T18:27:05.152590Z",
     "start_time": "2021-10-17T18:27:05.105722Z"
    }
   },
   "outputs": [],
   "source": [
    "ohe = OneHotEncoder()"
   ]
  },
  {
   "cell_type": "code",
   "execution_count": 18,
   "id": "0e27ce4b",
   "metadata": {
    "ExecuteTime": {
     "end_time": "2021-10-17T18:27:05.168212Z",
     "start_time": "2021-10-17T18:27:05.152590Z"
    }
   },
   "outputs": [
    {
     "data": {
      "text/plain": [
       "Index(['Fare', 'Embarked', 'Sex', 'Age'], dtype='object')"
      ]
     },
     "execution_count": 18,
     "metadata": {},
     "output_type": "execute_result"
    }
   ],
   "source": [
    "X.columns"
   ]
  },
  {
   "cell_type": "code",
   "execution_count": 19,
   "id": "2bcdcfa8",
   "metadata": {
    "ExecuteTime": {
     "end_time": "2021-10-17T18:27:05.223587Z",
     "start_time": "2021-10-17T18:27:05.168212Z"
    }
   },
   "outputs": [],
   "source": [
    "# all SEVEN of these produce the same results\n",
    "# Note that: reminder = \"drop\" (by default)\n",
    "\n",
    "# column name\n",
    "col_transformer = make_column_transformer((ohe, ['Embarked', 'Sex']))\n",
    "\n",
    "# integer position\n",
    "col_transformer = make_column_transformer((ohe, [1,2]))  # column index 0,1,2,...\n",
    "\n",
    "# slice\n",
    "col_transformer = make_column_transformer((ohe, slice(1,3)))  # column from index 1 to k-1\n",
    "\n",
    "# boolean mask\n",
    "col_transformer = make_column_transformer((ohe, [False, True, True, False]))\n",
    "\n",
    "# regex pattern\n",
    "col_transformer = make_column_transformer((ohe, make_column_selector(pattern=\"E|S\")))  # startwiths E or S\n",
    "# https://scikit-learn.org/stable/modules/generated/sklearn.compose.make_column_selector.html\n",
    "# patternstr, default=None\n",
    "#   Name of columns containing this regex pattern will be included. If None, column selection will not be selected based on pattern.\n",
    "\n",
    "# dtypes to include\n",
    "col_transformer = make_column_transformer((ohe, make_column_selector(dtype_include=object)))\n",
    "\n",
    "# dtypes to exclude\n",
    "col_transformer = make_column_transformer((ohe, make_column_selector(dtype_exclude=np.number)))"
   ]
  },
  {
   "cell_type": "code",
   "execution_count": 20,
   "id": "13282248",
   "metadata": {
    "ExecuteTime": {
     "end_time": "2021-10-17T18:27:05.254830Z",
     "start_time": "2021-10-17T18:27:05.223587Z"
    }
   },
   "outputs": [
    {
     "data": {
      "text/plain": [
       "array([[0., 0., 1., 0., 1.],\n",
       "       [1., 0., 0., 1., 0.],\n",
       "       [0., 0., 1., 1., 0.],\n",
       "       [0., 0., 1., 1., 0.],\n",
       "       [0., 0., 1., 0., 1.],\n",
       "       [0., 1., 0., 0., 1.]])"
      ]
     },
     "execution_count": 20,
     "metadata": {},
     "output_type": "execute_result"
    }
   ],
   "source": [
    "col_transformer.fit_transform(X)"
   ]
  },
  {
   "cell_type": "markdown",
   "id": "68146ed9",
   "metadata": {},
   "source": [
    "### Simple Case\n",
    "\n",
    "https://scikit-learn.org/stable/modules/generated/sklearn.preprocessing.StandardScaler.html?highlight=standardscaler#sklearn.preprocessing.StandardScaler\n",
    "\n",
    "Standardize features by removing the mean and scaling to unit variance."
   ]
  },
  {
   "cell_type": "code",
   "execution_count": 21,
   "id": "b8a63c05",
   "metadata": {
    "ExecuteTime": {
     "end_time": "2021-10-17T18:27:05.286080Z",
     "start_time": "2021-10-17T18:27:05.254830Z"
    }
   },
   "outputs": [
    {
     "data": {
      "text/html": [
       "<div>\n",
       "<style scoped>\n",
       "    .dataframe tbody tr th:only-of-type {\n",
       "        vertical-align: middle;\n",
       "    }\n",
       "\n",
       "    .dataframe tbody tr th {\n",
       "        vertical-align: top;\n",
       "    }\n",
       "\n",
       "    .dataframe thead th {\n",
       "        text-align: right;\n",
       "    }\n",
       "</style>\n",
       "<table border=\"1\" class=\"dataframe\">\n",
       "  <thead>\n",
       "    <tr style=\"text-align: right;\">\n",
       "      <th></th>\n",
       "      <th>Fare</th>\n",
       "      <th>Embarked</th>\n",
       "      <th>Sex</th>\n",
       "      <th>Age</th>\n",
       "    </tr>\n",
       "  </thead>\n",
       "  <tbody>\n",
       "    <tr>\n",
       "      <th>0</th>\n",
       "      <td>7.2500</td>\n",
       "      <td>S</td>\n",
       "      <td>male</td>\n",
       "      <td>22.0</td>\n",
       "    </tr>\n",
       "    <tr>\n",
       "      <th>1</th>\n",
       "      <td>71.2833</td>\n",
       "      <td>C</td>\n",
       "      <td>female</td>\n",
       "      <td>38.0</td>\n",
       "    </tr>\n",
       "    <tr>\n",
       "      <th>2</th>\n",
       "      <td>7.9250</td>\n",
       "      <td>S</td>\n",
       "      <td>female</td>\n",
       "      <td>26.0</td>\n",
       "    </tr>\n",
       "    <tr>\n",
       "      <th>3</th>\n",
       "      <td>53.1000</td>\n",
       "      <td>S</td>\n",
       "      <td>female</td>\n",
       "      <td>35.0</td>\n",
       "    </tr>\n",
       "    <tr>\n",
       "      <th>4</th>\n",
       "      <td>8.0500</td>\n",
       "      <td>S</td>\n",
       "      <td>male</td>\n",
       "      <td>35.0</td>\n",
       "    </tr>\n",
       "    <tr>\n",
       "      <th>5</th>\n",
       "      <td>8.4583</td>\n",
       "      <td>Q</td>\n",
       "      <td>male</td>\n",
       "      <td>NaN</td>\n",
       "    </tr>\n",
       "  </tbody>\n",
       "</table>\n",
       "</div>"
      ],
      "text/plain": [
       "      Fare Embarked     Sex   Age\n",
       "0   7.2500        S    male  22.0\n",
       "1  71.2833        C  female  38.0\n",
       "2   7.9250        S  female  26.0\n",
       "3  53.1000        S  female  35.0\n",
       "4   8.0500        S    male  35.0\n",
       "5   8.4583        Q    male   NaN"
      ]
     },
     "execution_count": 21,
     "metadata": {},
     "output_type": "execute_result"
    }
   ],
   "source": [
    "X"
   ]
  },
  {
   "cell_type": "code",
   "execution_count": 22,
   "id": "4611ec0a",
   "metadata": {
    "ExecuteTime": {
     "end_time": "2021-10-17T18:27:05.323828Z",
     "start_time": "2021-10-17T18:27:05.286080Z"
    }
   },
   "outputs": [
    {
     "data": {
      "text/plain": [
       "array([[-0.71829711, -1.50516598,  0.        ,  0.        ,  1.        ,\n",
       "         0.        ,  1.        ],\n",
       "       [ 1.7333147 ,  1.11251398,  1.        ,  0.        ,  0.        ,\n",
       "         1.        ,  0.        ],\n",
       "       [-0.69245371, -0.85074599,  0.        ,  0.        ,  1.        ,\n",
       "         1.        ,  0.        ],\n",
       "       [ 1.03713954,  0.62169899,  0.        ,  0.        ,  1.        ,\n",
       "         1.        ,  0.        ],\n",
       "       [-0.6876679 ,  0.62169899,  0.        ,  0.        ,  1.        ,\n",
       "         0.        ,  1.        ],\n",
       "       [-0.67203551,         nan,  0.        ,  1.        ,  0.        ,\n",
       "         0.        ,  1.        ]])"
      ]
     },
     "execution_count": 22,
     "metadata": {},
     "output_type": "execute_result"
    }
   ],
   "source": [
    "from sklearn.preprocessing import StandardScaler, OneHotEncoder\n",
    "\n",
    "col_transformer = make_column_transformer(\n",
    "    (StandardScaler(), make_column_selector(dtype_include=np.number)),  \n",
    "    (OneHotEncoder(), make_column_selector(dtype_include=object))\n",
    ")\n",
    "\n",
    "col_transformer.fit_transform(X)"
   ]
  },
  {
   "cell_type": "markdown",
   "id": "9a5e785c",
   "metadata": {},
   "source": [
    "### Flexible Case\n",
    "\n",
    "Link: https://scikit-learn.org/stable/auto_examples/compose/plot_column_transformer_mixed_types.html#sphx-glr-auto-examples-compose-plot-column-transformer-mixed-types-py"
   ]
  },
  {
   "cell_type": "code",
   "execution_count": 23,
   "id": "8bbc83ed",
   "metadata": {
    "ExecuteTime": {
     "end_time": "2021-10-17T18:27:05.370691Z",
     "start_time": "2021-10-17T18:27:05.339450Z"
    }
   },
   "outputs": [
    {
     "data": {
      "text/plain": [
       "array([[-0.71829711, -1.70817275,  0.        ,  0.        ,  1.        ,\n",
       "         0.        ,  1.        ],\n",
       "       [ 1.7333147 ,  1.07122698,  1.        ,  0.        ,  0.        ,\n",
       "         1.        ,  0.        ],\n",
       "       [-0.69245371, -1.01332282,  0.        ,  0.        ,  1.        ,\n",
       "         1.        ,  0.        ],\n",
       "       [ 1.03713954,  0.55008953,  0.        ,  0.        ,  1.        ,\n",
       "         1.        ,  0.        ],\n",
       "       [-0.6876679 ,  0.55008953,  0.        ,  0.        ,  1.        ,\n",
       "         0.        ,  1.        ],\n",
       "       [-0.67203551,  0.55008953,  0.        ,  1.        ,  0.        ,\n",
       "         0.        ,  1.        ]])"
      ]
     },
     "execution_count": 23,
     "metadata": {},
     "output_type": "execute_result"
    }
   ],
   "source": [
    "from sklearn.preprocessing import StandardScaler, OneHotEncoder\n",
    "from sklearn.pipeline import Pipeline\n",
    "from sklearn.impute import SimpleImputer\n",
    "from sklearn.compose import ColumnTransformer\n",
    "\n",
    "numeric_features = [\"Fare\", \"Age\"]\n",
    "numeric_transformer = Pipeline(\n",
    "    steps=[\n",
    "        (\"imputer\", SimpleImputer(strategy=\"median\")),\n",
    "        (\"scaler\", StandardScaler())\n",
    "    ]\n",
    ")\n",
    "\n",
    "categorical_features = [\"Embarked\", \"Sex\"]\n",
    "categorical_transformer = OneHotEncoder(handle_unknown=\"ignore\")\n",
    "\n",
    "preprocessor = ColumnTransformer(\n",
    "    transformers=[\n",
    "        (\"numeric\", numeric_transformer, numeric_features),\n",
    "        (\"categorical\", categorical_transformer, categorical_features)\n",
    "    ]\n",
    ")\n",
    "\n",
    "preprocessor.fit_transform(X)"
   ]
  },
  {
   "cell_type": "markdown",
   "id": "0184cdde",
   "metadata": {},
   "source": [
    "## What is the difference between \"fit\" and \"transform\"?\n",
    "\n",
    "Q: What is the difference between the \"fit\" and \"transform\" methods?\n",
    "\n",
    "+ \"[fit](https://scikit-learn.org/stable/glossary.html#term-fit)\": transformer learns something about the data\n",
    "+ \"[transform](https://scikit-learn.org/stable/glossary.html#term-transform)\": it uses what it learned to do the data transformation\n",
    "\n",
    "For examples\n",
    "+ CountVectorizer\n",
    "    - fit: learns the vocabulary\n",
    "    - transform: creates a document-term matrix using the vocabulary\n",
    "    \n",
    "+ SimpleImputer\n",
    "    - fit: learns the value to impute\n",
    "    - transform: fills in missing entries using the imputation value\n",
    "    \n",
    "+ StandardScaler\n",
    "    - fit: learns the mean and scale of each feature\n",
    "    - transform: standardizes the features using the mean and scale\n",
    "    \n",
    "+ HashingVectorizer\n",
    "    - fit: is not used, and thus it is known as a \"stateless\" transformer\n",
    "    - transform: create the document-term matrix using a hash of the token"
   ]
  },
  {
   "cell_type": "markdown",
   "id": "08fbc95b",
   "metadata": {},
   "source": [
    "## Use \"fit_transform\" on training data, but \"transform\" (only) on testing/new data\n",
    "\n",
    "Use \"[fit_transform](https://scikit-learn.org/stable/glossary.html#term-fit_transform)\" on training data, but \"[transform](https://scikit-learn.org/stable/glossary.html#term-transform)\" (only) on testing/new data.\n",
    "\n",
    "Applies the same transformations to both sets of data, which creates consistent columns and prevents [data leakage](https://scikit-learn.org/stable/common_pitfalls.html#data-leakage)!"
   ]
  },
  {
   "cell_type": "markdown",
   "id": "e0148db9",
   "metadata": {},
   "source": [
    "## Get the feature names output by a ColumnTransformer\n",
    "\n",
    "Need to get the feature names output by a [ColumnTransformer](https://scikit-learn.org/stable/modules/generated/sklearn.compose.ColumnTransformer.html)?\n",
    "\n",
    "Use get_feature_names(), which now works with \"passthrough\" columns (new in version 0.23)!\n",
    "\n",
    "Note: Beginning in scikit-learn 1.0, the get_feature_names method has been deprecated in favor of [get_feature_names_out](https://scikit-learn.org/stable/modules/generated/sklearn.compose.ColumnTransformer.html#sklearn.compose.ColumnTransformer.get_feature_names_out).\n"
   ]
  },
  {
   "cell_type": "code",
   "execution_count": 24,
   "id": "fdb5a536",
   "metadata": {
    "ExecuteTime": {
     "end_time": "2021-10-17T18:27:05.386313Z",
     "start_time": "2021-10-17T18:27:05.370691Z"
    }
   },
   "outputs": [
    {
     "data": {
      "text/html": [
       "<div>\n",
       "<style scoped>\n",
       "    .dataframe tbody tr th:only-of-type {\n",
       "        vertical-align: middle;\n",
       "    }\n",
       "\n",
       "    .dataframe tbody tr th {\n",
       "        vertical-align: top;\n",
       "    }\n",
       "\n",
       "    .dataframe thead th {\n",
       "        text-align: right;\n",
       "    }\n",
       "</style>\n",
       "<table border=\"1\" class=\"dataframe\">\n",
       "  <thead>\n",
       "    <tr style=\"text-align: right;\">\n",
       "      <th></th>\n",
       "      <th>Fare</th>\n",
       "      <th>Embarked</th>\n",
       "      <th>Sex</th>\n",
       "      <th>Age</th>\n",
       "    </tr>\n",
       "  </thead>\n",
       "  <tbody>\n",
       "    <tr>\n",
       "      <th>0</th>\n",
       "      <td>7.2500</td>\n",
       "      <td>S</td>\n",
       "      <td>male</td>\n",
       "      <td>22.0</td>\n",
       "    </tr>\n",
       "    <tr>\n",
       "      <th>1</th>\n",
       "      <td>71.2833</td>\n",
       "      <td>C</td>\n",
       "      <td>female</td>\n",
       "      <td>38.0</td>\n",
       "    </tr>\n",
       "    <tr>\n",
       "      <th>2</th>\n",
       "      <td>7.9250</td>\n",
       "      <td>S</td>\n",
       "      <td>female</td>\n",
       "      <td>26.0</td>\n",
       "    </tr>\n",
       "    <tr>\n",
       "      <th>3</th>\n",
       "      <td>53.1000</td>\n",
       "      <td>S</td>\n",
       "      <td>female</td>\n",
       "      <td>35.0</td>\n",
       "    </tr>\n",
       "    <tr>\n",
       "      <th>4</th>\n",
       "      <td>8.0500</td>\n",
       "      <td>S</td>\n",
       "      <td>male</td>\n",
       "      <td>35.0</td>\n",
       "    </tr>\n",
       "    <tr>\n",
       "      <th>5</th>\n",
       "      <td>8.4583</td>\n",
       "      <td>Q</td>\n",
       "      <td>male</td>\n",
       "      <td>NaN</td>\n",
       "    </tr>\n",
       "  </tbody>\n",
       "</table>\n",
       "</div>"
      ],
      "text/plain": [
       "      Fare Embarked     Sex   Age\n",
       "0   7.2500        S    male  22.0\n",
       "1  71.2833        C  female  38.0\n",
       "2   7.9250        S  female  26.0\n",
       "3  53.1000        S  female  35.0\n",
       "4   8.0500        S    male  35.0\n",
       "5   8.4583        Q    male   NaN"
      ]
     },
     "execution_count": 24,
     "metadata": {},
     "output_type": "execute_result"
    }
   ],
   "source": [
    "X"
   ]
  },
  {
   "cell_type": "code",
   "execution_count": 25,
   "id": "a9eff50f",
   "metadata": {
    "ExecuteTime": {
     "end_time": "2021-10-17T18:27:05.424067Z",
     "start_time": "2021-10-17T18:27:05.386313Z"
    }
   },
   "outputs": [
    {
     "data": {
      "text/plain": [
       "Index(['Fare', 'Embarked', 'Sex', 'Age'], dtype='object')"
      ]
     },
     "execution_count": 25,
     "metadata": {},
     "output_type": "execute_result"
    }
   ],
   "source": [
    "X.columns"
   ]
  },
  {
   "cell_type": "code",
   "execution_count": 26,
   "id": "8458886e",
   "metadata": {
    "ExecuteTime": {
     "end_time": "2021-10-17T18:27:05.439689Z",
     "start_time": "2021-10-17T18:27:05.424067Z"
    }
   },
   "outputs": [],
   "source": [
    "col_transformer = make_column_transformer(\n",
    "    (OneHotEncoder(), [\"Embarked\", \"Sex\"]),\n",
    "    remainder=\"passthrough\"\n",
    ")"
   ]
  },
  {
   "cell_type": "code",
   "execution_count": 27,
   "id": "ce53dad4",
   "metadata": {
    "ExecuteTime": {
     "end_time": "2021-10-17T18:27:05.470931Z",
     "start_time": "2021-10-17T18:27:05.455310Z"
    }
   },
   "outputs": [
    {
     "data": {
      "text/plain": [
       "array([[ 0.    ,  0.    ,  1.    ,  0.    ,  1.    ,  7.25  , 22.    ],\n",
       "       [ 1.    ,  0.    ,  0.    ,  1.    ,  0.    , 71.2833, 38.    ],\n",
       "       [ 0.    ,  0.    ,  1.    ,  1.    ,  0.    ,  7.925 , 26.    ],\n",
       "       [ 0.    ,  0.    ,  1.    ,  1.    ,  0.    , 53.1   , 35.    ],\n",
       "       [ 0.    ,  0.    ,  1.    ,  0.    ,  1.    ,  8.05  , 35.    ],\n",
       "       [ 0.    ,  1.    ,  0.    ,  0.    ,  1.    ,  8.4583,     nan]])"
      ]
     },
     "execution_count": 27,
     "metadata": {},
     "output_type": "execute_result"
    }
   ],
   "source": [
    "ft = col_transformer.fit_transform(X)\n",
    "ft"
   ]
  },
  {
   "cell_type": "code",
   "execution_count": 28,
   "id": "bb46a78d",
   "metadata": {
    "ExecuteTime": {
     "end_time": "2021-10-17T18:27:05.502174Z",
     "start_time": "2021-10-17T18:27:05.470931Z"
    }
   },
   "outputs": [
    {
     "data": {
      "text/plain": [
       "(6, 7)"
      ]
     },
     "execution_count": 28,
     "metadata": {},
     "output_type": "execute_result"
    }
   ],
   "source": [
    "ft.shape"
   ]
  },
  {
   "cell_type": "code",
   "execution_count": 29,
   "id": "8fff2656",
   "metadata": {
    "ExecuteTime": {
     "end_time": "2021-10-17T18:27:05.524807Z",
     "start_time": "2021-10-17T18:27:05.509180Z"
    }
   },
   "outputs": [
    {
     "name": "stderr",
     "output_type": "stream",
     "text": [
      "C:\\Users\\TienLE\\anaconda3\\envs\\py39\\lib\\site-packages\\sklearn\\utils\\deprecation.py:87: FutureWarning: Function get_feature_names is deprecated; get_feature_names is deprecated in 1.0 and will be removed in 1.2. Please use get_feature_names_out instead.\n",
      "  warnings.warn(msg, category=FutureWarning)\n"
     ]
    },
    {
     "data": {
      "text/plain": [
       "['onehotencoder__x0_C',\n",
       " 'onehotencoder__x0_Q',\n",
       " 'onehotencoder__x0_S',\n",
       " 'onehotencoder__x1_female',\n",
       " 'onehotencoder__x1_male',\n",
       " 'Fare',\n",
       " 'Age']"
      ]
     },
     "execution_count": 29,
     "metadata": {},
     "output_type": "execute_result"
    }
   ],
   "source": [
    "col_transformer.get_feature_names()"
   ]
  },
  {
   "cell_type": "markdown",
   "id": "0f9294c4",
   "metadata": {},
   "source": [
    "## Passthrough some columns and drop others in a ColumnTransformer\n",
    "\n",
    "In a [ColumnTransformer](https://scikit-learn.org/stable/modules/generated/sklearn.compose.make_column_transformer.html), you can use the strings 'passthrough' and 'drop' in place of a transformer. \n",
    "\n",
    "Useful if you need to passthrough some columns and drop others!"
   ]
  },
  {
   "cell_type": "code",
   "execution_count": 30,
   "id": "dfda9ab1",
   "metadata": {
    "ExecuteTime": {
     "end_time": "2021-10-17T18:27:05.556050Z",
     "start_time": "2021-10-17T18:27:05.524807Z"
    }
   },
   "outputs": [
    {
     "data": {
      "text/html": [
       "<div>\n",
       "<style scoped>\n",
       "    .dataframe tbody tr th:only-of-type {\n",
       "        vertical-align: middle;\n",
       "    }\n",
       "\n",
       "    .dataframe tbody tr th {\n",
       "        vertical-align: top;\n",
       "    }\n",
       "\n",
       "    .dataframe thead th {\n",
       "        text-align: right;\n",
       "    }\n",
       "</style>\n",
       "<table border=\"1\" class=\"dataframe\">\n",
       "  <thead>\n",
       "    <tr style=\"text-align: right;\">\n",
       "      <th></th>\n",
       "      <th>Fare</th>\n",
       "      <th>Embarked</th>\n",
       "      <th>Sex</th>\n",
       "      <th>Age</th>\n",
       "    </tr>\n",
       "  </thead>\n",
       "  <tbody>\n",
       "    <tr>\n",
       "      <th>0</th>\n",
       "      <td>7.2500</td>\n",
       "      <td>S</td>\n",
       "      <td>male</td>\n",
       "      <td>22.0</td>\n",
       "    </tr>\n",
       "    <tr>\n",
       "      <th>1</th>\n",
       "      <td>71.2833</td>\n",
       "      <td>C</td>\n",
       "      <td>female</td>\n",
       "      <td>38.0</td>\n",
       "    </tr>\n",
       "    <tr>\n",
       "      <th>2</th>\n",
       "      <td>7.9250</td>\n",
       "      <td>S</td>\n",
       "      <td>female</td>\n",
       "      <td>26.0</td>\n",
       "    </tr>\n",
       "    <tr>\n",
       "      <th>3</th>\n",
       "      <td>53.1000</td>\n",
       "      <td>S</td>\n",
       "      <td>female</td>\n",
       "      <td>35.0</td>\n",
       "    </tr>\n",
       "    <tr>\n",
       "      <th>4</th>\n",
       "      <td>8.0500</td>\n",
       "      <td>S</td>\n",
       "      <td>male</td>\n",
       "      <td>35.0</td>\n",
       "    </tr>\n",
       "    <tr>\n",
       "      <th>5</th>\n",
       "      <td>8.4583</td>\n",
       "      <td>Q</td>\n",
       "      <td>male</td>\n",
       "      <td>NaN</td>\n",
       "    </tr>\n",
       "  </tbody>\n",
       "</table>\n",
       "</div>"
      ],
      "text/plain": [
       "      Fare Embarked     Sex   Age\n",
       "0   7.2500        S    male  22.0\n",
       "1  71.2833        C  female  38.0\n",
       "2   7.9250        S  female  26.0\n",
       "3  53.1000        S  female  35.0\n",
       "4   8.0500        S    male  35.0\n",
       "5   8.4583        Q    male   NaN"
      ]
     },
     "execution_count": 30,
     "metadata": {},
     "output_type": "execute_result"
    }
   ],
   "source": [
    "X"
   ]
  },
  {
   "cell_type": "markdown",
   "id": "684a697c",
   "metadata": {},
   "source": [
    "### Method 1: \"passthrough\" with some columns"
   ]
  },
  {
   "cell_type": "code",
   "execution_count": 31,
   "id": "6e904b93",
   "metadata": {
    "ExecuteTime": {
     "end_time": "2021-10-17T18:27:05.602915Z",
     "start_time": "2021-10-17T18:27:05.556050Z"
    }
   },
   "outputs": [
    {
     "data": {
      "text/plain": [
       "array([[22.    ,  7.25  ],\n",
       "       [38.    , 71.2833],\n",
       "       [26.    ,  7.925 ],\n",
       "       [35.    , 53.1   ],\n",
       "       [35.    ,  8.05  ],\n",
       "       [31.2   ,  8.4583]])"
      ]
     },
     "execution_count": 31,
     "metadata": {},
     "output_type": "execute_result"
    }
   ],
   "source": [
    "col_transformer = make_column_transformer(\n",
    "    (SimpleImputer(), [\"Age\"]),\n",
    "    (\"passthrough\", [\"Fare\"]),\n",
    "    remainder=\"drop\"\n",
    ")\n",
    "col_transformer.fit_transform(X)"
   ]
  },
  {
   "cell_type": "markdown",
   "id": "711bb405",
   "metadata": {},
   "source": [
    "### Method 2: \"drop\" with some columns"
   ]
  },
  {
   "cell_type": "code",
   "execution_count": 32,
   "id": "d570f84b",
   "metadata": {
    "ExecuteTime": {
     "end_time": "2021-10-17T18:27:05.723332Z",
     "start_time": "2021-10-17T18:27:05.690143Z"
    }
   },
   "outputs": [
    {
     "data": {
      "text/plain": [
       "array([[22.    ,  7.25  ],\n",
       "       [38.    , 71.2833],\n",
       "       [26.    ,  7.925 ],\n",
       "       [35.    , 53.1   ],\n",
       "       [35.    ,  8.05  ],\n",
       "       [31.2   ,  8.4583]])"
      ]
     },
     "execution_count": 32,
     "metadata": {},
     "output_type": "execute_result"
    }
   ],
   "source": [
    "col_transformer = make_column_transformer(\n",
    "    (SimpleImputer(), [\"Age\"]),\n",
    "    (\"drop\", [\"Embarked\", \"Sex\"]),\n",
    "    remainder=\"passthrough\"\n",
    ")\n",
    "\n",
    "col_transformer.fit_transform(X)"
   ]
  },
  {
   "cell_type": "markdown",
   "id": "ee98c976",
   "metadata": {},
   "source": [
    "## (Detail ?) Four reasons to use scikit-learn (not pandas) for ML preprocessing\n",
    "\n",
    "Reasons to use scikit-learn (not pandas) for ML [preprocessing](https://scikit-learn.org/stable/modules/preprocessing.html):\n",
    "+ You can cross-validate the entire workflow\n",
    "+ You can [grid search](https://scikit-learn.org/stable/modules/grid_search.html) model & preprocessing hyperparameters\n",
    "+ Avoids adding new columns to the source DataFrame\n",
    "+ pandas lacks separate fit/transform steps to prevent [data leakage](https://scikit-learn.org/stable/common_pitfalls.html#data-leakage)"
   ]
  },
  {
   "cell_type": "markdown",
   "id": "ad915c6e",
   "metadata": {},
   "source": [
    "## Don't use .values when passing a pandas object to scikit-learn\n",
    "\n",
    "There's no need to use \".values\" when passing a DataFrame or Series to scikit-learn... it knows how to access the underlying NumPy array!\n"
   ]
  },
  {
   "cell_type": "code",
   "execution_count": 33,
   "id": "13d90e82",
   "metadata": {
    "ExecuteTime": {
     "end_time": "2021-10-17T18:27:06.239697Z",
     "start_time": "2021-10-17T18:27:06.208433Z"
    }
   },
   "outputs": [
    {
     "data": {
      "text/html": [
       "<div>\n",
       "<style scoped>\n",
       "    .dataframe tbody tr th:only-of-type {\n",
       "        vertical-align: middle;\n",
       "    }\n",
       "\n",
       "    .dataframe tbody tr th {\n",
       "        vertical-align: top;\n",
       "    }\n",
       "\n",
       "    .dataframe thead th {\n",
       "        text-align: right;\n",
       "    }\n",
       "</style>\n",
       "<table border=\"1\" class=\"dataframe\">\n",
       "  <thead>\n",
       "    <tr style=\"text-align: right;\">\n",
       "      <th></th>\n",
       "      <th>PassengerId</th>\n",
       "      <th>Survived</th>\n",
       "      <th>Pclass</th>\n",
       "      <th>Name</th>\n",
       "      <th>Sex</th>\n",
       "      <th>Age</th>\n",
       "      <th>SibSp</th>\n",
       "      <th>Parch</th>\n",
       "      <th>Ticket</th>\n",
       "      <th>Fare</th>\n",
       "      <th>Cabin</th>\n",
       "      <th>Embarked</th>\n",
       "    </tr>\n",
       "  </thead>\n",
       "  <tbody>\n",
       "    <tr>\n",
       "      <th>0</th>\n",
       "      <td>1</td>\n",
       "      <td>0</td>\n",
       "      <td>3</td>\n",
       "      <td>Braund, Mr. Owen Harris</td>\n",
       "      <td>male</td>\n",
       "      <td>22.0</td>\n",
       "      <td>1</td>\n",
       "      <td>0</td>\n",
       "      <td>A/5 21171</td>\n",
       "      <td>7.2500</td>\n",
       "      <td>NaN</td>\n",
       "      <td>S</td>\n",
       "    </tr>\n",
       "    <tr>\n",
       "      <th>1</th>\n",
       "      <td>2</td>\n",
       "      <td>1</td>\n",
       "      <td>1</td>\n",
       "      <td>Cumings, Mrs. John Bradley (Florence Briggs Th...</td>\n",
       "      <td>female</td>\n",
       "      <td>38.0</td>\n",
       "      <td>1</td>\n",
       "      <td>0</td>\n",
       "      <td>PC 17599</td>\n",
       "      <td>71.2833</td>\n",
       "      <td>C85</td>\n",
       "      <td>C</td>\n",
       "    </tr>\n",
       "  </tbody>\n",
       "</table>\n",
       "</div>"
      ],
      "text/plain": [
       "   PassengerId  Survived  Pclass  \\\n",
       "0            1         0       3   \n",
       "1            2         1       1   \n",
       "\n",
       "                                                Name     Sex   Age  SibSp  \\\n",
       "0                            Braund, Mr. Owen Harris    male  22.0      1   \n",
       "1  Cumings, Mrs. John Bradley (Florence Briggs Th...  female  38.0      1   \n",
       "\n",
       "   Parch     Ticket     Fare Cabin Embarked  \n",
       "0      0  A/5 21171   7.2500   NaN        S  \n",
       "1      0   PC 17599  71.2833   C85        C  "
      ]
     },
     "execution_count": 33,
     "metadata": {},
     "output_type": "execute_result"
    }
   ],
   "source": [
    "df.head(2)"
   ]
  },
  {
   "cell_type": "code",
   "execution_count": 34,
   "id": "799e3653",
   "metadata": {
    "ExecuteTime": {
     "end_time": "2021-10-17T18:27:06.277429Z",
     "start_time": "2021-10-17T18:27:06.239697Z"
    }
   },
   "outputs": [],
   "source": [
    "from sklearn.linear_model import LogisticRegression"
   ]
  },
  {
   "cell_type": "code",
   "execution_count": 35,
   "id": "71d9bcbb",
   "metadata": {
    "ExecuteTime": {
     "end_time": "2021-10-17T18:27:06.308671Z",
     "start_time": "2021-10-17T18:27:06.293050Z"
    }
   },
   "outputs": [],
   "source": [
    "clf = LogisticRegression()"
   ]
  },
  {
   "cell_type": "code",
   "execution_count": 36,
   "id": "98963de0",
   "metadata": {
    "ExecuteTime": {
     "end_time": "2021-10-17T18:27:06.339914Z",
     "start_time": "2021-10-17T18:27:06.324292Z"
    }
   },
   "outputs": [],
   "source": [
    "X = df[[\"Pclass\", \"Fare\"]]\n",
    "y = df[\"Survived\"]"
   ]
  },
  {
   "cell_type": "code",
   "execution_count": 37,
   "id": "c7aeccd1",
   "metadata": {
    "ExecuteTime": {
     "end_time": "2021-10-17T18:27:06.380168Z",
     "start_time": "2021-10-17T18:27:06.339914Z"
    }
   },
   "outputs": [
    {
     "data": {
      "text/plain": [
       "pandas.core.frame.DataFrame"
      ]
     },
     "execution_count": 37,
     "metadata": {},
     "output_type": "execute_result"
    }
   ],
   "source": [
    "type(X)"
   ]
  },
  {
   "cell_type": "code",
   "execution_count": 38,
   "id": "8fece016",
   "metadata": {
    "ExecuteTime": {
     "end_time": "2021-10-17T18:27:06.395789Z",
     "start_time": "2021-10-17T18:27:06.380168Z"
    }
   },
   "outputs": [
    {
     "data": {
      "text/plain": [
       "pandas.core.series.Series"
      ]
     },
     "execution_count": 38,
     "metadata": {},
     "output_type": "execute_result"
    }
   ],
   "source": [
    "type(y)"
   ]
  },
  {
   "cell_type": "code",
   "execution_count": 39,
   "id": "e4056d03",
   "metadata": {
    "ExecuteTime": {
     "end_time": "2021-10-17T18:27:06.458274Z",
     "start_time": "2021-10-17T18:27:06.395789Z"
    }
   },
   "outputs": [
    {
     "data": {
      "text/plain": [
       "LogisticRegression()"
      ]
     },
     "execution_count": 39,
     "metadata": {},
     "output_type": "execute_result"
    }
   ],
   "source": [
    "clf.fit(X, y)"
   ]
  },
  {
   "cell_type": "markdown",
   "id": "7165e1e6",
   "metadata": {},
   "source": [
    "## Load a toy dataset into a DataFrame\n",
    "\n",
    "New in version 0.23: Need to load a [toy dataset](https://scikit-learn.org/stable/datasets/toy_dataset.html) into a DataFrame, including column names? Set as_frame=True.\n",
    "\n",
    "Want features and target as separate objects? Also set return_X_y=True.\n",
    "\n",
    "Additional links: [load_iris](https://scikit-learn.org/stable/modules/generated/sklearn.datasets.load_iris.html)"
   ]
  },
  {
   "cell_type": "code",
   "execution_count": 40,
   "id": "0472a149",
   "metadata": {
    "ExecuteTime": {
     "end_time": "2021-10-17T18:27:06.658807Z",
     "start_time": "2021-10-17T18:27:06.587134Z"
    }
   },
   "outputs": [],
   "source": [
    "from sklearn.datasets import load_iris"
   ]
  },
  {
   "cell_type": "markdown",
   "id": "67663962",
   "metadata": {},
   "source": [
    "### Return DataFrame with features and target"
   ]
  },
  {
   "cell_type": "code",
   "execution_count": 41,
   "id": "1933eebd",
   "metadata": {
    "ExecuteTime": {
     "end_time": "2021-10-17T18:27:06.864246Z",
     "start_time": "2021-10-17T18:27:06.817417Z"
    }
   },
   "outputs": [],
   "source": [
    "df_toy = load_iris(as_frame=True)"
   ]
  },
  {
   "cell_type": "code",
   "execution_count": 42,
   "id": "d603c999",
   "metadata": {
    "ExecuteTime": {
     "end_time": "2021-10-17T18:27:06.917650Z",
     "start_time": "2021-10-17T18:27:06.864246Z"
    }
   },
   "outputs": [
    {
     "data": {
      "text/plain": [
       "sklearn.utils.Bunch"
      ]
     },
     "execution_count": 42,
     "metadata": {},
     "output_type": "execute_result"
    }
   ],
   "source": [
    "type(df_toy)"
   ]
  },
  {
   "cell_type": "code",
   "execution_count": 43,
   "id": "7c11ee7f",
   "metadata": {
    "ExecuteTime": {
     "end_time": "2021-10-17T18:27:06.933243Z",
     "start_time": "2021-10-17T18:27:06.917650Z"
    }
   },
   "outputs": [
    {
     "name": "stdout",
     "output_type": "stream",
     "text": [
      "['DESCR', 'data', 'data_module', 'feature_names', 'filename', 'frame', 'target', 'target_names']\n"
     ]
    }
   ],
   "source": [
    "print(dir(df_toy))"
   ]
  },
  {
   "cell_type": "code",
   "execution_count": 44,
   "id": "d86b4bc4",
   "metadata": {
    "ExecuteTime": {
     "end_time": "2021-10-17T18:27:06.980107Z",
     "start_time": "2021-10-17T18:27:06.933243Z"
    }
   },
   "outputs": [],
   "source": [
    "df_toy_frame = df_toy[\"frame\"]"
   ]
  },
  {
   "cell_type": "code",
   "execution_count": 45,
   "id": "dc969840",
   "metadata": {
    "ExecuteTime": {
     "end_time": "2021-10-17T18:27:07.020360Z",
     "start_time": "2021-10-17T18:27:06.980107Z"
    }
   },
   "outputs": [
    {
     "data": {
      "text/html": [
       "<div>\n",
       "<style scoped>\n",
       "    .dataframe tbody tr th:only-of-type {\n",
       "        vertical-align: middle;\n",
       "    }\n",
       "\n",
       "    .dataframe tbody tr th {\n",
       "        vertical-align: top;\n",
       "    }\n",
       "\n",
       "    .dataframe thead th {\n",
       "        text-align: right;\n",
       "    }\n",
       "</style>\n",
       "<table border=\"1\" class=\"dataframe\">\n",
       "  <thead>\n",
       "    <tr style=\"text-align: right;\">\n",
       "      <th></th>\n",
       "      <th>sepal length (cm)</th>\n",
       "      <th>sepal width (cm)</th>\n",
       "      <th>petal length (cm)</th>\n",
       "      <th>petal width (cm)</th>\n",
       "      <th>target</th>\n",
       "    </tr>\n",
       "  </thead>\n",
       "  <tbody>\n",
       "    <tr>\n",
       "      <th>0</th>\n",
       "      <td>5.1</td>\n",
       "      <td>3.5</td>\n",
       "      <td>1.4</td>\n",
       "      <td>0.2</td>\n",
       "      <td>0</td>\n",
       "    </tr>\n",
       "    <tr>\n",
       "      <th>1</th>\n",
       "      <td>4.9</td>\n",
       "      <td>3.0</td>\n",
       "      <td>1.4</td>\n",
       "      <td>0.2</td>\n",
       "      <td>0</td>\n",
       "    </tr>\n",
       "    <tr>\n",
       "      <th>2</th>\n",
       "      <td>4.7</td>\n",
       "      <td>3.2</td>\n",
       "      <td>1.3</td>\n",
       "      <td>0.2</td>\n",
       "      <td>0</td>\n",
       "    </tr>\n",
       "  </tbody>\n",
       "</table>\n",
       "</div>"
      ],
      "text/plain": [
       "   sepal length (cm)  sepal width (cm)  petal length (cm)  petal width (cm)  \\\n",
       "0                5.1               3.5                1.4               0.2   \n",
       "1                4.9               3.0                1.4               0.2   \n",
       "2                4.7               3.2                1.3               0.2   \n",
       "\n",
       "   target  \n",
       "0       0  \n",
       "1       0  \n",
       "2       0  "
      ]
     },
     "execution_count": 45,
     "metadata": {},
     "output_type": "execute_result"
    }
   ],
   "source": [
    "df_toy_frame.head(3)"
   ]
  },
  {
   "cell_type": "markdown",
   "id": "44d8803f",
   "metadata": {},
   "source": [
    "### Return Feature DataFrame and Target Series "
   ]
  },
  {
   "cell_type": "code",
   "execution_count": 46,
   "id": "d3383aab",
   "metadata": {
    "ExecuteTime": {
     "end_time": "2021-10-17T18:27:07.183116Z",
     "start_time": "2021-10-17T18:27:07.167495Z"
    }
   },
   "outputs": [],
   "source": [
    "X_toy, y_toy = load_iris(as_frame=True, return_X_y=True)"
   ]
  },
  {
   "cell_type": "code",
   "execution_count": 47,
   "id": "86b89257",
   "metadata": {
    "ExecuteTime": {
     "end_time": "2021-10-17T18:27:07.237493Z",
     "start_time": "2021-10-17T18:27:07.183116Z"
    }
   },
   "outputs": [
    {
     "data": {
      "text/html": [
       "<div>\n",
       "<style scoped>\n",
       "    .dataframe tbody tr th:only-of-type {\n",
       "        vertical-align: middle;\n",
       "    }\n",
       "\n",
       "    .dataframe tbody tr th {\n",
       "        vertical-align: top;\n",
       "    }\n",
       "\n",
       "    .dataframe thead th {\n",
       "        text-align: right;\n",
       "    }\n",
       "</style>\n",
       "<table border=\"1\" class=\"dataframe\">\n",
       "  <thead>\n",
       "    <tr style=\"text-align: right;\">\n",
       "      <th></th>\n",
       "      <th>sepal length (cm)</th>\n",
       "      <th>sepal width (cm)</th>\n",
       "      <th>petal length (cm)</th>\n",
       "      <th>petal width (cm)</th>\n",
       "    </tr>\n",
       "  </thead>\n",
       "  <tbody>\n",
       "    <tr>\n",
       "      <th>0</th>\n",
       "      <td>5.1</td>\n",
       "      <td>3.5</td>\n",
       "      <td>1.4</td>\n",
       "      <td>0.2</td>\n",
       "    </tr>\n",
       "    <tr>\n",
       "      <th>1</th>\n",
       "      <td>4.9</td>\n",
       "      <td>3.0</td>\n",
       "      <td>1.4</td>\n",
       "      <td>0.2</td>\n",
       "    </tr>\n",
       "    <tr>\n",
       "      <th>2</th>\n",
       "      <td>4.7</td>\n",
       "      <td>3.2</td>\n",
       "      <td>1.3</td>\n",
       "      <td>0.2</td>\n",
       "    </tr>\n",
       "  </tbody>\n",
       "</table>\n",
       "</div>"
      ],
      "text/plain": [
       "   sepal length (cm)  sepal width (cm)  petal length (cm)  petal width (cm)\n",
       "0                5.1               3.5                1.4               0.2\n",
       "1                4.9               3.0                1.4               0.2\n",
       "2                4.7               3.2                1.3               0.2"
      ]
     },
     "execution_count": 47,
     "metadata": {},
     "output_type": "execute_result"
    }
   ],
   "source": [
    "X_toy.head(3)"
   ]
  },
  {
   "cell_type": "code",
   "execution_count": 48,
   "id": "75cf18be",
   "metadata": {
    "ExecuteTime": {
     "end_time": "2021-10-17T18:27:07.253116Z",
     "start_time": "2021-10-17T18:27:07.237493Z"
    }
   },
   "outputs": [
    {
     "data": {
      "text/plain": [
       "0    0\n",
       "1    0\n",
       "2    0\n",
       "Name: target, dtype: int32"
      ]
     },
     "execution_count": 48,
     "metadata": {},
     "output_type": "execute_result"
    }
   ],
   "source": [
    "y_toy.head(3)"
   ]
  },
  {
   "cell_type": "markdown",
   "id": "10be6fe8",
   "metadata": {},
   "source": [
    "# Categorical Features"
   ]
  },
  {
   "cell_type": "markdown",
   "id": "32f004df",
   "metadata": {},
   "source": [
    "## Encode categorical features using OneHotEncoder or OrdinalEncoder\n",
    "\n",
    "Two common ways to encode categorical features:\n",
    "+ [OneHotEncoder](https://scikit-learn.org/stable/modules/generated/sklearn.preprocessing.OneHotEncoder.html) for unordered (nominal) data\n",
    "+ [OrdinalEncoder](https://scikit-learn.org/stable/modules/generated/sklearn.preprocessing.OrdinalEncoder.html) for ordered (ordinal) data\n",
    "\n",
    "P.S. [LabelEncoder](https://scikit-learn.org/stable/modules/generated/sklearn.preprocessing.LabelEncoder.html) is for labels, not features!"
   ]
  },
  {
   "cell_type": "code",
   "execution_count": 49,
   "id": "54e4cf27",
   "metadata": {
    "ExecuteTime": {
     "end_time": "2021-10-17T18:27:07.746808Z",
     "start_time": "2021-10-17T18:27:07.731216Z"
    }
   },
   "outputs": [],
   "source": [
    "# \"Shape\" is unordered, \"Class\" and \"Size\" are ordered\n",
    "X = pd.DataFrame({'Shape':['square', 'square', 'oval', 'circle'],\n",
    "                  'Class': ['third', 'first', 'second', 'third'],\n",
    "                  'Size': ['S', 'S', 'L', 'XL']})"
   ]
  },
  {
   "cell_type": "code",
   "execution_count": 50,
   "id": "0678ecfa",
   "metadata": {
    "ExecuteTime": {
     "end_time": "2021-10-17T18:27:07.793673Z",
     "start_time": "2021-10-17T18:27:07.762430Z"
    }
   },
   "outputs": [
    {
     "data": {
      "text/html": [
       "<div>\n",
       "<style scoped>\n",
       "    .dataframe tbody tr th:only-of-type {\n",
       "        vertical-align: middle;\n",
       "    }\n",
       "\n",
       "    .dataframe tbody tr th {\n",
       "        vertical-align: top;\n",
       "    }\n",
       "\n",
       "    .dataframe thead th {\n",
       "        text-align: right;\n",
       "    }\n",
       "</style>\n",
       "<table border=\"1\" class=\"dataframe\">\n",
       "  <thead>\n",
       "    <tr style=\"text-align: right;\">\n",
       "      <th></th>\n",
       "      <th>Shape</th>\n",
       "      <th>Class</th>\n",
       "      <th>Size</th>\n",
       "    </tr>\n",
       "  </thead>\n",
       "  <tbody>\n",
       "    <tr>\n",
       "      <th>0</th>\n",
       "      <td>square</td>\n",
       "      <td>third</td>\n",
       "      <td>S</td>\n",
       "    </tr>\n",
       "    <tr>\n",
       "      <th>1</th>\n",
       "      <td>square</td>\n",
       "      <td>first</td>\n",
       "      <td>S</td>\n",
       "    </tr>\n",
       "    <tr>\n",
       "      <th>2</th>\n",
       "      <td>oval</td>\n",
       "      <td>second</td>\n",
       "      <td>L</td>\n",
       "    </tr>\n",
       "    <tr>\n",
       "      <th>3</th>\n",
       "      <td>circle</td>\n",
       "      <td>third</td>\n",
       "      <td>XL</td>\n",
       "    </tr>\n",
       "  </tbody>\n",
       "</table>\n",
       "</div>"
      ],
      "text/plain": [
       "    Shape   Class Size\n",
       "0  square   third    S\n",
       "1  square   first    S\n",
       "2    oval  second    L\n",
       "3  circle   third   XL"
      ]
     },
     "execution_count": 50,
     "metadata": {},
     "output_type": "execute_result"
    }
   ],
   "source": [
    "X"
   ]
  },
  {
   "cell_type": "code",
   "execution_count": 51,
   "id": "28d8156e",
   "metadata": {
    "ExecuteTime": {
     "end_time": "2021-10-17T18:27:07.809294Z",
     "start_time": "2021-10-17T18:27:07.793673Z"
    }
   },
   "outputs": [
    {
     "data": {
      "text/plain": [
       "(4,)"
      ]
     },
     "execution_count": 51,
     "metadata": {},
     "output_type": "execute_result"
    }
   ],
   "source": [
    "X[\"Shape\"].shape"
   ]
  },
  {
   "cell_type": "code",
   "execution_count": 52,
   "id": "d55f71b0",
   "metadata": {
    "ExecuteTime": {
     "end_time": "2021-10-17T18:27:07.847091Z",
     "start_time": "2021-10-17T18:27:07.815801Z"
    }
   },
   "outputs": [
    {
     "data": {
      "text/plain": [
       "(4, 1)"
      ]
     },
     "execution_count": 52,
     "metadata": {},
     "output_type": "execute_result"
    }
   ],
   "source": [
    "X[[\"Shape\"]].shape"
   ]
  },
  {
   "cell_type": "markdown",
   "id": "1c21ef03",
   "metadata": {},
   "source": [
    "### left-to-right column order is alphabetical (circle, oval, square)"
   ]
  },
  {
   "cell_type": "code",
   "execution_count": 53,
   "id": "cce28190",
   "metadata": {
    "ExecuteTime": {
     "end_time": "2021-10-17T18:27:08.096424Z",
     "start_time": "2021-10-17T18:27:08.084457Z"
    }
   },
   "outputs": [
    {
     "data": {
      "text/plain": [
       "array([[0., 0., 1.],\n",
       "       [0., 0., 1.],\n",
       "       [0., 1., 0.],\n",
       "       [1., 0., 0.]])"
      ]
     },
     "execution_count": 53,
     "metadata": {},
     "output_type": "execute_result"
    }
   ],
   "source": [
    "ohe = OneHotEncoder(sparse=False)\n",
    "ohe.fit_transform(X[[\"Shape\"]])"
   ]
  },
  {
   "cell_type": "code",
   "execution_count": 54,
   "id": "328b72b3",
   "metadata": {
    "ExecuteTime": {
     "end_time": "2021-10-17T18:27:08.144296Z",
     "start_time": "2021-10-17T18:27:08.117368Z"
    }
   },
   "outputs": [
    {
     "data": {
      "text/plain": [
       "[array(['circle', 'oval', 'square'], dtype=object)]"
      ]
     },
     "execution_count": 54,
     "metadata": {},
     "output_type": "execute_result"
    }
   ],
   "source": [
    "ohe.categories_"
   ]
  },
  {
   "cell_type": "markdown",
   "id": "9960e657",
   "metadata": {},
   "source": [
    "### category ordering (within each feature) "
   ]
  },
  {
   "cell_type": "code",
   "execution_count": 55,
   "id": "5fa14dcb",
   "metadata": {
    "ExecuteTime": {
     "end_time": "2021-10-17T18:27:08.395734Z",
     "start_time": "2021-10-17T18:27:08.380113Z"
    }
   },
   "outputs": [
    {
     "data": {
      "text/plain": [
       "array([[2., 0.],\n",
       "       [0., 0.],\n",
       "       [1., 2.],\n",
       "       [2., 3.]])"
      ]
     },
     "execution_count": 55,
     "metadata": {},
     "output_type": "execute_result"
    }
   ],
   "source": [
    "from sklearn.preprocessing import OrdinalEncoder\n",
    "\n",
    "oe = OrdinalEncoder(categories=[\n",
    "    [\"first\", \"second\", \"third\"],  # order of Class\n",
    "    [\"S\", \"M\", \"L\", \"XL\"]          # order of Size  \n",
    "])\n",
    "\n",
    "oe.fit_transform(X[[\"Class\", \"Size\"]])"
   ]
  },
  {
   "cell_type": "code",
   "execution_count": 56,
   "id": "eef6b05b",
   "metadata": {
    "ExecuteTime": {
     "end_time": "2021-10-17T18:27:08.433496Z",
     "start_time": "2021-10-17T18:27:08.411356Z"
    }
   },
   "outputs": [
    {
     "data": {
      "text/plain": [
       "[array(['first', 'second', 'third'], dtype=object),\n",
       " array(['S', 'M', 'L', 'XL'], dtype=object)]"
      ]
     },
     "execution_count": 56,
     "metadata": {},
     "output_type": "execute_result"
    }
   ],
   "source": [
    "oe.categories_"
   ]
  },
  {
   "cell_type": "markdown",
   "id": "0cb524a8",
   "metadata": {},
   "source": [
    "## Handle unknown categories with OneHotEncoder by encoding them as zeros\n",
    "\n",
    "Q: For a [one-hot encoded feature](https://scikit-learn.org/stable/modules/preprocessing.html#encoding-categorical-features), what can you do if new data contains categories that weren't seen during training?\n",
    "\n",
    "A: Set handle_unknown='ignore' to encode new categories as all zeros.\n",
    "\n",
    "P.S. If you know all possible categories that might ever appear, you can instead specify the categories manually. handle_unknown='ignore' is useful specifically when you don't know all possible categories."
   ]
  },
  {
   "cell_type": "code",
   "execution_count": 57,
   "id": "3fa6b879",
   "metadata": {
    "ExecuteTime": {
     "end_time": "2021-10-17T18:27:08.686399Z",
     "start_time": "2021-10-17T18:27:08.670779Z"
    }
   },
   "outputs": [],
   "source": [
    "X = pd.DataFrame({'col':['A', 'B', 'C', 'B']})\n",
    "X_new = pd.DataFrame({'col':['A', 'C', 'D']})"
   ]
  },
  {
   "cell_type": "code",
   "execution_count": 58,
   "id": "b616c928",
   "metadata": {
    "ExecuteTime": {
     "end_time": "2021-10-17T18:27:08.739804Z",
     "start_time": "2021-10-17T18:27:08.686399Z"
    }
   },
   "outputs": [],
   "source": [
    "ohe = OneHotEncoder(sparse=False, handle_unknown=\"ignore\")\n",
    "#sparse : bool, default=True\n",
    "#    Will return sparse matrix if set True else will return an array.\n",
    "\n",
    "#handle_unknown : {'error', 'ignore'}, default='error'\n",
    "#    Whether to raise an error or ignore if an unknown categorical feature\n",
    "#    is present during transform (default is to raise). When this parameter\n",
    "#    is set to 'ignore' and an unknown category is encountered during\n",
    "#    transform, the resulting one-hot encoded columns for this feature\n",
    "#    will be all zeros. In the inverse transform, an unknown category\n",
    "#    will be denoted as None.\n"
   ]
  },
  {
   "cell_type": "code",
   "execution_count": 59,
   "id": "66b77c2b",
   "metadata": {
    "ExecuteTime": {
     "end_time": "2021-10-17T18:27:08.755394Z",
     "start_time": "2021-10-17T18:27:08.739804Z"
    }
   },
   "outputs": [
    {
     "data": {
      "text/html": [
       "<div>\n",
       "<style scoped>\n",
       "    .dataframe tbody tr th:only-of-type {\n",
       "        vertical-align: middle;\n",
       "    }\n",
       "\n",
       "    .dataframe tbody tr th {\n",
       "        vertical-align: top;\n",
       "    }\n",
       "\n",
       "    .dataframe thead th {\n",
       "        text-align: right;\n",
       "    }\n",
       "</style>\n",
       "<table border=\"1\" class=\"dataframe\">\n",
       "  <thead>\n",
       "    <tr style=\"text-align: right;\">\n",
       "      <th></th>\n",
       "      <th>col</th>\n",
       "    </tr>\n",
       "  </thead>\n",
       "  <tbody>\n",
       "    <tr>\n",
       "      <th>0</th>\n",
       "      <td>A</td>\n",
       "    </tr>\n",
       "    <tr>\n",
       "      <th>1</th>\n",
       "      <td>B</td>\n",
       "    </tr>\n",
       "    <tr>\n",
       "      <th>2</th>\n",
       "      <td>C</td>\n",
       "    </tr>\n",
       "    <tr>\n",
       "      <th>3</th>\n",
       "      <td>B</td>\n",
       "    </tr>\n",
       "  </tbody>\n",
       "</table>\n",
       "</div>"
      ],
      "text/plain": [
       "  col\n",
       "0   A\n",
       "1   B\n",
       "2   C\n",
       "3   B"
      ]
     },
     "execution_count": 59,
     "metadata": {},
     "output_type": "execute_result"
    }
   ],
   "source": [
    "X"
   ]
  },
  {
   "cell_type": "code",
   "execution_count": 60,
   "id": "6bb1feac",
   "metadata": {
    "ExecuteTime": {
     "end_time": "2021-10-17T18:27:08.786637Z",
     "start_time": "2021-10-17T18:27:08.755394Z"
    }
   },
   "outputs": [
    {
     "data": {
      "text/html": [
       "<div>\n",
       "<style scoped>\n",
       "    .dataframe tbody tr th:only-of-type {\n",
       "        vertical-align: middle;\n",
       "    }\n",
       "\n",
       "    .dataframe tbody tr th {\n",
       "        vertical-align: top;\n",
       "    }\n",
       "\n",
       "    .dataframe thead th {\n",
       "        text-align: right;\n",
       "    }\n",
       "</style>\n",
       "<table border=\"1\" class=\"dataframe\">\n",
       "  <thead>\n",
       "    <tr style=\"text-align: right;\">\n",
       "      <th></th>\n",
       "      <th>col</th>\n",
       "    </tr>\n",
       "  </thead>\n",
       "  <tbody>\n",
       "    <tr>\n",
       "      <th>0</th>\n",
       "      <td>A</td>\n",
       "    </tr>\n",
       "    <tr>\n",
       "      <th>1</th>\n",
       "      <td>C</td>\n",
       "    </tr>\n",
       "    <tr>\n",
       "      <th>2</th>\n",
       "      <td>D</td>\n",
       "    </tr>\n",
       "  </tbody>\n",
       "</table>\n",
       "</div>"
      ],
      "text/plain": [
       "  col\n",
       "0   A\n",
       "1   C\n",
       "2   D"
      ]
     },
     "execution_count": 60,
     "metadata": {},
     "output_type": "execute_result"
    }
   ],
   "source": [
    "X_new"
   ]
  },
  {
   "cell_type": "code",
   "execution_count": 61,
   "id": "b140ea85",
   "metadata": {
    "ExecuteTime": {
     "end_time": "2021-10-17T18:27:08.841012Z",
     "start_time": "2021-10-17T18:27:08.802258Z"
    }
   },
   "outputs": [
    {
     "data": {
      "text/plain": [
       "array([[1., 0., 0.],\n",
       "       [0., 1., 0.],\n",
       "       [0., 0., 1.],\n",
       "       [0., 1., 0.]])"
      ]
     },
     "execution_count": 61,
     "metadata": {},
     "output_type": "execute_result"
    }
   ],
   "source": [
    "# three columns represent categories A, B, and C\n",
    "ohe.fit_transform(X[[\"col\"]])"
   ]
  },
  {
   "cell_type": "code",
   "execution_count": 62,
   "id": "01191af3",
   "metadata": {
    "ExecuteTime": {
     "end_time": "2021-10-17T18:27:08.856634Z",
     "start_time": "2021-10-17T18:27:08.841012Z"
    }
   },
   "outputs": [
    {
     "data": {
      "text/plain": [
       "array([[1., 0., 0.],\n",
       "       [0., 0., 1.],\n",
       "       [0., 0., 0.]])"
      ]
     },
     "execution_count": 62,
     "metadata": {},
     "output_type": "execute_result"
    }
   ],
   "source": [
    "# category D was not learned by OneHotEncoder during the \"fit\" step\n",
    "# category D is encoded as all zeros\n",
    "ohe.transform(X_new)"
   ]
  },
  {
   "cell_type": "markdown",
   "id": "2f4d3b39",
   "metadata": {},
   "source": [
    "## Three reasons not to use drop='first' with OneHotEncoder\n",
    "\n",
    "In most cases, I recommend that you don't use drop='first' with OneHotEncoder. Here's why:\n",
    "\n",
    "+ Multicollinearity is rarely an issue with scikit-learn models\n",
    "+ drop='first' is incompatible with handle_unknown='ignore'\n",
    "+ May be problematic if you standardize all features or use a regularized model\n",
    "\n",
    "\n",
    "Note: Beginning in scikit-learn 1.0, drop='first' and handle_unknown='ignore' can be used together. However, the dropped category and an unknown category will both be encoded as all zeros. "
   ]
  },
  {
   "cell_type": "markdown",
   "id": "89f655e3",
   "metadata": {},
   "source": [
    "## Drop the first category from binary features (only) with OneHotEncoder\n",
    "\n",
    "New in version 0.23: Use drop='if_binary' with OneHotEncoder to drop the first category ONLY if it's a binary feature (meaning it has exactly two categories).\n",
    "\n",
    "Note: Beginning in scikit-learn 1.0, drop='first' and drop='if_binary' can both be used with handle_unknown='ignore'. However, the dropped category and an unknown category will both be encoded as all zeros."
   ]
  },
  {
   "cell_type": "code",
   "execution_count": 63,
   "id": "a9f37a74",
   "metadata": {
    "ExecuteTime": {
     "end_time": "2021-10-17T18:27:09.342383Z",
     "start_time": "2021-10-17T18:27:09.326756Z"
    }
   },
   "outputs": [],
   "source": [
    "X = pd.DataFrame({'Shape':['circle', 'oval', 'square', 'square'],\n",
    "                  'Color': ['pink', 'yellow', 'pink', 'yellow']})"
   ]
  },
  {
   "cell_type": "code",
   "execution_count": 64,
   "id": "d593b220",
   "metadata": {
    "ExecuteTime": {
     "end_time": "2021-10-17T18:27:09.389247Z",
     "start_time": "2021-10-17T18:27:09.358004Z"
    }
   },
   "outputs": [
    {
     "data": {
      "text/html": [
       "<div>\n",
       "<style scoped>\n",
       "    .dataframe tbody tr th:only-of-type {\n",
       "        vertical-align: middle;\n",
       "    }\n",
       "\n",
       "    .dataframe tbody tr th {\n",
       "        vertical-align: top;\n",
       "    }\n",
       "\n",
       "    .dataframe thead th {\n",
       "        text-align: right;\n",
       "    }\n",
       "</style>\n",
       "<table border=\"1\" class=\"dataframe\">\n",
       "  <thead>\n",
       "    <tr style=\"text-align: right;\">\n",
       "      <th></th>\n",
       "      <th>Shape</th>\n",
       "      <th>Color</th>\n",
       "    </tr>\n",
       "  </thead>\n",
       "  <tbody>\n",
       "    <tr>\n",
       "      <th>0</th>\n",
       "      <td>circle</td>\n",
       "      <td>pink</td>\n",
       "    </tr>\n",
       "    <tr>\n",
       "      <th>1</th>\n",
       "      <td>oval</td>\n",
       "      <td>yellow</td>\n",
       "    </tr>\n",
       "    <tr>\n",
       "      <th>2</th>\n",
       "      <td>square</td>\n",
       "      <td>pink</td>\n",
       "    </tr>\n",
       "    <tr>\n",
       "      <th>3</th>\n",
       "      <td>square</td>\n",
       "      <td>yellow</td>\n",
       "    </tr>\n",
       "  </tbody>\n",
       "</table>\n",
       "</div>"
      ],
      "text/plain": [
       "    Shape   Color\n",
       "0  circle    pink\n",
       "1    oval  yellow\n",
       "2  square    pink\n",
       "3  square  yellow"
      ]
     },
     "execution_count": 64,
     "metadata": {},
     "output_type": "execute_result"
    }
   ],
   "source": [
    "# Shape has 3 categories, Color has 2 categories\n",
    "X"
   ]
  },
  {
   "cell_type": "code",
   "execution_count": 65,
   "id": "177f0f8c",
   "metadata": {
    "ExecuteTime": {
     "end_time": "2021-10-17T18:27:09.420489Z",
     "start_time": "2021-10-17T18:27:09.389247Z"
    }
   },
   "outputs": [
    {
     "data": {
      "text/plain": [
       "array([[1., 0., 0., 1., 0.],\n",
       "       [0., 1., 0., 0., 1.],\n",
       "       [0., 0., 1., 1., 0.],\n",
       "       [0., 0., 1., 0., 1.]])"
      ]
     },
     "execution_count": 65,
     "metadata": {},
     "output_type": "execute_result"
    }
   ],
   "source": [
    "# drop=None (default) creates one feature column per category\n",
    "ohe = OneHotEncoder(sparse=False, drop=None)\n",
    "ohe.fit_transform(X)"
   ]
  },
  {
   "cell_type": "code",
   "execution_count": 66,
   "id": "e69e15ea",
   "metadata": {
    "ExecuteTime": {
     "end_time": "2021-10-17T18:27:09.458242Z",
     "start_time": "2021-10-17T18:27:09.420489Z"
    }
   },
   "outputs": [
    {
     "data": {
      "text/plain": [
       "array([[1., 0., 0., 0.],\n",
       "       [0., 1., 0., 1.],\n",
       "       [0., 0., 1., 0.],\n",
       "       [0., 0., 1., 1.]])"
      ]
     },
     "execution_count": 66,
     "metadata": {},
     "output_type": "execute_result"
    }
   ],
   "source": [
    "# drop='if_binary' drops the first category of binary features\n",
    "ohe = OneHotEncoder(sparse=False, drop=\"if_binary\")\n",
    "ohe.fit_transform(X)"
   ]
  },
  {
   "cell_type": "markdown",
   "id": "6a7abe30",
   "metadata": {},
   "source": [
    "## Use OrdinalEncoder instead of OneHotEncoder with tree-based models\n",
    "\n",
    "With a [tree-based model](https://scikit-learn.org/stable/modules/tree.html), try [OrdinalEncoder](https://scikit-learn.org/stable/modules/generated/sklearn.preprocessing.OrdinalEncoder.html) instead of [OneHotEncoder](https://scikit-learn.org/stable/modules/generated/sklearn.preprocessing.OneHotEncoder.html) even for nominal (unordered) features.\n",
    "\n",
    "Accuracy will often be similar, but OrdinalEncoder will be much faster!\n",
    "\n",
    "Additional links: [Random Forests](https://scikit-learn.org/stable/modules/ensemble.html#forests-of-randomized-trees)"
   ]
  },
  {
   "cell_type": "code",
   "execution_count": 67,
   "id": "8ccee629",
   "metadata": {
    "ExecuteTime": {
     "end_time": "2021-10-17T18:27:09.848216Z",
     "start_time": "2021-10-17T18:27:09.721249Z"
    }
   },
   "outputs": [],
   "source": [
    "file_input_path = \"adult-census.csv\"\n",
    "if not os.path.exists(file_input_path):\n",
    "    df = pd.read_csv('https://www.openml.org/data/get_csv/1595261/adult-census.csv')\n",
    "    df.to_csv(file_input_path, header=True, index=False, sep=\"\\t\")\n",
    "else:\n",
    "    df = pd.read_csv(file_input_path, header=0, sep=\"\\t\")"
   ]
  },
  {
   "cell_type": "code",
   "execution_count": 68,
   "id": "315a6459",
   "metadata": {
    "ExecuteTime": {
     "end_time": "2021-10-17T18:27:09.895080Z",
     "start_time": "2021-10-17T18:27:09.848216Z"
    }
   },
   "outputs": [
    {
     "name": "stdout",
     "output_type": "stream",
     "text": [
      "<class 'pandas.core.frame.DataFrame'>\n",
      "RangeIndex: 48842 entries, 0 to 48841\n",
      "Data columns (total 15 columns):\n",
      " #   Column          Non-Null Count  Dtype \n",
      "---  ------          --------------  ----- \n",
      " 0   age             48842 non-null  int64 \n",
      " 1   workclass       48842 non-null  object\n",
      " 2   fnlwgt          48842 non-null  int64 \n",
      " 3   education       48842 non-null  object\n",
      " 4   education-num   48842 non-null  int64 \n",
      " 5   marital-status  48842 non-null  object\n",
      " 6   occupation      48842 non-null  object\n",
      " 7   relationship    48842 non-null  object\n",
      " 8   race            48842 non-null  object\n",
      " 9   sex             48842 non-null  object\n",
      " 10  capital-gain    48842 non-null  int64 \n",
      " 11  capital-loss    48842 non-null  int64 \n",
      " 12  hours-per-week  48842 non-null  int64 \n",
      " 13  native-country  48842 non-null  object\n",
      " 14  class           48842 non-null  object\n",
      "dtypes: int64(6), object(9)\n",
      "memory usage: 5.6+ MB\n"
     ]
    }
   ],
   "source": [
    "df.info()"
   ]
  },
  {
   "cell_type": "code",
   "execution_count": 69,
   "id": "2f50561e",
   "metadata": {
    "ExecuteTime": {
     "end_time": "2021-10-17T18:27:09.948457Z",
     "start_time": "2021-10-17T18:27:09.895080Z"
    }
   },
   "outputs": [
    {
     "data": {
      "text/html": [
       "<div>\n",
       "<style scoped>\n",
       "    .dataframe tbody tr th:only-of-type {\n",
       "        vertical-align: middle;\n",
       "    }\n",
       "\n",
       "    .dataframe tbody tr th {\n",
       "        vertical-align: top;\n",
       "    }\n",
       "\n",
       "    .dataframe thead th {\n",
       "        text-align: right;\n",
       "    }\n",
       "</style>\n",
       "<table border=\"1\" class=\"dataframe\">\n",
       "  <thead>\n",
       "    <tr style=\"text-align: right;\">\n",
       "      <th></th>\n",
       "      <th>age</th>\n",
       "      <th>fnlwgt</th>\n",
       "      <th>education-num</th>\n",
       "      <th>capital-gain</th>\n",
       "      <th>capital-loss</th>\n",
       "      <th>hours-per-week</th>\n",
       "    </tr>\n",
       "  </thead>\n",
       "  <tbody>\n",
       "    <tr>\n",
       "      <th>count</th>\n",
       "      <td>48842.000000</td>\n",
       "      <td>4.884200e+04</td>\n",
       "      <td>48842.000000</td>\n",
       "      <td>48842.000000</td>\n",
       "      <td>48842.000000</td>\n",
       "      <td>48842.000000</td>\n",
       "    </tr>\n",
       "    <tr>\n",
       "      <th>mean</th>\n",
       "      <td>38.643585</td>\n",
       "      <td>1.896641e+05</td>\n",
       "      <td>10.078089</td>\n",
       "      <td>1079.067626</td>\n",
       "      <td>87.502314</td>\n",
       "      <td>40.422382</td>\n",
       "    </tr>\n",
       "    <tr>\n",
       "      <th>std</th>\n",
       "      <td>13.710510</td>\n",
       "      <td>1.056040e+05</td>\n",
       "      <td>2.570973</td>\n",
       "      <td>7452.019058</td>\n",
       "      <td>403.004552</td>\n",
       "      <td>12.391444</td>\n",
       "    </tr>\n",
       "    <tr>\n",
       "      <th>min</th>\n",
       "      <td>17.000000</td>\n",
       "      <td>1.228500e+04</td>\n",
       "      <td>1.000000</td>\n",
       "      <td>0.000000</td>\n",
       "      <td>0.000000</td>\n",
       "      <td>1.000000</td>\n",
       "    </tr>\n",
       "    <tr>\n",
       "      <th>25%</th>\n",
       "      <td>28.000000</td>\n",
       "      <td>1.175505e+05</td>\n",
       "      <td>9.000000</td>\n",
       "      <td>0.000000</td>\n",
       "      <td>0.000000</td>\n",
       "      <td>40.000000</td>\n",
       "    </tr>\n",
       "    <tr>\n",
       "      <th>50%</th>\n",
       "      <td>37.000000</td>\n",
       "      <td>1.781445e+05</td>\n",
       "      <td>10.000000</td>\n",
       "      <td>0.000000</td>\n",
       "      <td>0.000000</td>\n",
       "      <td>40.000000</td>\n",
       "    </tr>\n",
       "    <tr>\n",
       "      <th>75%</th>\n",
       "      <td>48.000000</td>\n",
       "      <td>2.376420e+05</td>\n",
       "      <td>12.000000</td>\n",
       "      <td>0.000000</td>\n",
       "      <td>0.000000</td>\n",
       "      <td>45.000000</td>\n",
       "    </tr>\n",
       "    <tr>\n",
       "      <th>max</th>\n",
       "      <td>90.000000</td>\n",
       "      <td>1.490400e+06</td>\n",
       "      <td>16.000000</td>\n",
       "      <td>99999.000000</td>\n",
       "      <td>4356.000000</td>\n",
       "      <td>99.000000</td>\n",
       "    </tr>\n",
       "  </tbody>\n",
       "</table>\n",
       "</div>"
      ],
      "text/plain": [
       "                age        fnlwgt  education-num  capital-gain  capital-loss  \\\n",
       "count  48842.000000  4.884200e+04   48842.000000  48842.000000  48842.000000   \n",
       "mean      38.643585  1.896641e+05      10.078089   1079.067626     87.502314   \n",
       "std       13.710510  1.056040e+05       2.570973   7452.019058    403.004552   \n",
       "min       17.000000  1.228500e+04       1.000000      0.000000      0.000000   \n",
       "25%       28.000000  1.175505e+05       9.000000      0.000000      0.000000   \n",
       "50%       37.000000  1.781445e+05      10.000000      0.000000      0.000000   \n",
       "75%       48.000000  2.376420e+05      12.000000      0.000000      0.000000   \n",
       "max       90.000000  1.490400e+06      16.000000  99999.000000   4356.000000   \n",
       "\n",
       "       hours-per-week  \n",
       "count    48842.000000  \n",
       "mean        40.422382  \n",
       "std         12.391444  \n",
       "min          1.000000  \n",
       "25%         40.000000  \n",
       "50%         40.000000  \n",
       "75%         45.000000  \n",
       "max         99.000000  "
      ]
     },
     "execution_count": 69,
     "metadata": {},
     "output_type": "execute_result"
    }
   ],
   "source": [
    "df.describe()"
   ]
  },
  {
   "cell_type": "code",
   "execution_count": 70,
   "id": "e41fd59c",
   "metadata": {
    "ExecuteTime": {
     "end_time": "2021-10-17T18:27:09.979699Z",
     "start_time": "2021-10-17T18:27:09.948457Z"
    }
   },
   "outputs": [
    {
     "data": {
      "text/html": [
       "<div>\n",
       "<style scoped>\n",
       "    .dataframe tbody tr th:only-of-type {\n",
       "        vertical-align: middle;\n",
       "    }\n",
       "\n",
       "    .dataframe tbody tr th {\n",
       "        vertical-align: top;\n",
       "    }\n",
       "\n",
       "    .dataframe thead th {\n",
       "        text-align: right;\n",
       "    }\n",
       "</style>\n",
       "<table border=\"1\" class=\"dataframe\">\n",
       "  <thead>\n",
       "    <tr style=\"text-align: right;\">\n",
       "      <th></th>\n",
       "      <th>age</th>\n",
       "      <th>workclass</th>\n",
       "      <th>fnlwgt</th>\n",
       "      <th>education</th>\n",
       "      <th>education-num</th>\n",
       "      <th>marital-status</th>\n",
       "      <th>occupation</th>\n",
       "      <th>relationship</th>\n",
       "      <th>race</th>\n",
       "      <th>sex</th>\n",
       "      <th>capital-gain</th>\n",
       "      <th>capital-loss</th>\n",
       "      <th>hours-per-week</th>\n",
       "      <th>native-country</th>\n",
       "      <th>class</th>\n",
       "    </tr>\n",
       "  </thead>\n",
       "  <tbody>\n",
       "    <tr>\n",
       "      <th>0</th>\n",
       "      <td>25</td>\n",
       "      <td>Private</td>\n",
       "      <td>226802</td>\n",
       "      <td>11th</td>\n",
       "      <td>7</td>\n",
       "      <td>Never-married</td>\n",
       "      <td>Machine-op-inspct</td>\n",
       "      <td>Own-child</td>\n",
       "      <td>Black</td>\n",
       "      <td>Male</td>\n",
       "      <td>0</td>\n",
       "      <td>0</td>\n",
       "      <td>40</td>\n",
       "      <td>United-States</td>\n",
       "      <td>&lt;=50K</td>\n",
       "    </tr>\n",
       "    <tr>\n",
       "      <th>1</th>\n",
       "      <td>38</td>\n",
       "      <td>Private</td>\n",
       "      <td>89814</td>\n",
       "      <td>HS-grad</td>\n",
       "      <td>9</td>\n",
       "      <td>Married-civ-spouse</td>\n",
       "      <td>Farming-fishing</td>\n",
       "      <td>Husband</td>\n",
       "      <td>White</td>\n",
       "      <td>Male</td>\n",
       "      <td>0</td>\n",
       "      <td>0</td>\n",
       "      <td>50</td>\n",
       "      <td>United-States</td>\n",
       "      <td>&lt;=50K</td>\n",
       "    </tr>\n",
       "  </tbody>\n",
       "</table>\n",
       "</div>"
      ],
      "text/plain": [
       "   age workclass  fnlwgt education  education-num       marital-status  \\\n",
       "0   25   Private  226802      11th              7        Never-married   \n",
       "1   38   Private   89814   HS-grad              9   Married-civ-spouse   \n",
       "\n",
       "           occupation relationship    race    sex  capital-gain  capital-loss  \\\n",
       "0   Machine-op-inspct    Own-child   Black   Male             0             0   \n",
       "1     Farming-fishing      Husband   White   Male             0             0   \n",
       "\n",
       "   hours-per-week  native-country   class  \n",
       "0              40   United-States   <=50K  \n",
       "1              50   United-States   <=50K  "
      ]
     },
     "execution_count": 70,
     "metadata": {},
     "output_type": "execute_result"
    }
   ],
   "source": [
    "df.head(2)"
   ]
  },
  {
   "cell_type": "code",
   "execution_count": 71,
   "id": "782ec57a",
   "metadata": {
    "ExecuteTime": {
     "end_time": "2021-10-17T18:27:09.995293Z",
     "start_time": "2021-10-17T18:27:09.979699Z"
    }
   },
   "outputs": [],
   "source": [
    "categorical_cols = ['workclass', 'education', 'marital-status',\n",
    "                    'occupation', 'relationship', 'race', 'sex']"
   ]
  },
  {
   "cell_type": "code",
   "execution_count": 72,
   "id": "e260d416",
   "metadata": {
    "ExecuteTime": {
     "end_time": "2021-10-17T18:27:10.064316Z",
     "start_time": "2021-10-17T18:27:09.995293Z"
    }
   },
   "outputs": [],
   "source": [
    "from sklearn.preprocessing import OneHotEncoder, OrdinalEncoder\n",
    "from sklearn.pipeline import make_pipeline\n",
    "from sklearn.ensemble import RandomForestClassifier\n",
    "from sklearn.model_selection import cross_val_score"
   ]
  },
  {
   "cell_type": "code",
   "execution_count": 73,
   "id": "f163aebb",
   "metadata": {
    "ExecuteTime": {
     "end_time": "2021-10-17T18:27:10.079916Z",
     "start_time": "2021-10-17T18:27:10.064316Z"
    }
   },
   "outputs": [],
   "source": [
    "X = df[categorical_cols]\n",
    "y = df[\"class\"]"
   ]
  },
  {
   "cell_type": "code",
   "execution_count": 74,
   "id": "7fa27199",
   "metadata": {
    "ExecuteTime": {
     "end_time": "2021-10-17T18:27:10.111152Z",
     "start_time": "2021-10-17T18:27:10.079916Z"
    }
   },
   "outputs": [
    {
     "data": {
      "text/plain": [
       "Index(['workclass', 'education', 'marital-status', 'occupation',\n",
       "       'relationship', 'race', 'sex'],\n",
       "      dtype='object')"
      ]
     },
     "execution_count": 74,
     "metadata": {},
     "output_type": "execute_result"
    }
   ],
   "source": [
    "X.columns"
   ]
  },
  {
   "cell_type": "code",
   "execution_count": 75,
   "id": "dd8e6bf3",
   "metadata": {
    "ExecuteTime": {
     "end_time": "2021-10-17T18:27:10.148906Z",
     "start_time": "2021-10-17T18:27:10.111152Z"
    }
   },
   "outputs": [
    {
     "data": {
      "text/html": [
       "<div>\n",
       "<style scoped>\n",
       "    .dataframe tbody tr th:only-of-type {\n",
       "        vertical-align: middle;\n",
       "    }\n",
       "\n",
       "    .dataframe tbody tr th {\n",
       "        vertical-align: top;\n",
       "    }\n",
       "\n",
       "    .dataframe thead th {\n",
       "        text-align: right;\n",
       "    }\n",
       "</style>\n",
       "<table border=\"1\" class=\"dataframe\">\n",
       "  <thead>\n",
       "    <tr style=\"text-align: right;\">\n",
       "      <th></th>\n",
       "      <th>workclass</th>\n",
       "      <th>education</th>\n",
       "      <th>marital-status</th>\n",
       "      <th>occupation</th>\n",
       "      <th>relationship</th>\n",
       "      <th>race</th>\n",
       "      <th>sex</th>\n",
       "    </tr>\n",
       "  </thead>\n",
       "  <tbody>\n",
       "    <tr>\n",
       "      <th>0</th>\n",
       "      <td>Private</td>\n",
       "      <td>11th</td>\n",
       "      <td>Never-married</td>\n",
       "      <td>Machine-op-inspct</td>\n",
       "      <td>Own-child</td>\n",
       "      <td>Black</td>\n",
       "      <td>Male</td>\n",
       "    </tr>\n",
       "    <tr>\n",
       "      <th>1</th>\n",
       "      <td>Private</td>\n",
       "      <td>HS-grad</td>\n",
       "      <td>Married-civ-spouse</td>\n",
       "      <td>Farming-fishing</td>\n",
       "      <td>Husband</td>\n",
       "      <td>White</td>\n",
       "      <td>Male</td>\n",
       "    </tr>\n",
       "  </tbody>\n",
       "</table>\n",
       "</div>"
      ],
      "text/plain": [
       "  workclass education       marital-status          occupation relationship  \\\n",
       "0   Private      11th        Never-married   Machine-op-inspct    Own-child   \n",
       "1   Private   HS-grad   Married-civ-spouse     Farming-fishing      Husband   \n",
       "\n",
       "     race    sex  \n",
       "0   Black   Male  \n",
       "1   White   Male  "
      ]
     },
     "execution_count": 75,
     "metadata": {},
     "output_type": "execute_result"
    }
   ],
   "source": [
    "X.head(2)"
   ]
  },
  {
   "cell_type": "code",
   "execution_count": 76,
   "id": "8ad0d621",
   "metadata": {
    "ExecuteTime": {
     "end_time": "2021-10-17T18:27:10.164526Z",
     "start_time": "2021-10-17T18:27:10.148906Z"
    }
   },
   "outputs": [
    {
     "data": {
      "text/plain": [
       "0     <=50K\n",
       "1     <=50K\n",
       "Name: class, dtype: object"
      ]
     },
     "execution_count": 76,
     "metadata": {},
     "output_type": "execute_result"
    }
   ],
   "source": [
    "y.head(2)"
   ]
  },
  {
   "cell_type": "markdown",
   "id": "ce333755",
   "metadata": {},
   "source": [
    "### Comparasion between OneHotEncoder and OrdinalEncoder"
   ]
  },
  {
   "cell_type": "code",
   "execution_count": 77,
   "id": "c63db6c3",
   "metadata": {
    "ExecuteTime": {
     "end_time": "2021-10-17T18:27:10.249174Z",
     "start_time": "2021-10-17T18:27:10.233549Z"
    }
   },
   "outputs": [
    {
     "name": "stdout",
     "output_type": "stream",
     "text": [
      "Number of columns in X: 7\n"
     ]
    }
   ],
   "source": [
    "print(f\"Number of columns in X: {len(X.columns)}\")"
   ]
  },
  {
   "cell_type": "code",
   "execution_count": 78,
   "id": "30ba60c3",
   "metadata": {
    "ExecuteTime": {
     "end_time": "2021-10-17T18:27:10.380661Z",
     "start_time": "2021-10-17T18:27:10.264795Z"
    }
   },
   "outputs": [
    {
     "data": {
      "text/plain": [
       "(48842, 60)"
      ]
     },
     "execution_count": 78,
     "metadata": {},
     "output_type": "execute_result"
    }
   ],
   "source": [
    "ohe = OneHotEncoder(sparse=False)\n",
    "ohe.fit_transform(X).shape"
   ]
  },
  {
   "cell_type": "code",
   "execution_count": 79,
   "id": "de5cbbaf",
   "metadata": {
    "ExecuteTime": {
     "end_time": "2021-10-17T18:27:10.465273Z",
     "start_time": "2021-10-17T18:27:10.380661Z"
    }
   },
   "outputs": [
    {
     "data": {
      "text/plain": [
       "array([[0., 0., 0., ..., 0., 0., 1.],\n",
       "       [0., 0., 0., ..., 1., 0., 1.],\n",
       "       [0., 0., 1., ..., 1., 0., 1.],\n",
       "       ...,\n",
       "       [0., 0., 0., ..., 1., 1., 0.],\n",
       "       [0., 0., 0., ..., 1., 0., 1.],\n",
       "       [0., 0., 0., ..., 1., 1., 0.]])"
      ]
     },
     "execution_count": 79,
     "metadata": {},
     "output_type": "execute_result"
    }
   ],
   "source": [
    "ohe.fit_transform(X)"
   ]
  },
  {
   "cell_type": "code",
   "execution_count": 80,
   "id": "200c51d4",
   "metadata": {
    "ExecuteTime": {
     "end_time": "2021-10-17T18:27:10.581135Z",
     "start_time": "2021-10-17T18:27:10.465273Z"
    }
   },
   "outputs": [
    {
     "data": {
      "text/plain": [
       "(48842, 7)"
      ]
     },
     "execution_count": 80,
     "metadata": {},
     "output_type": "execute_result"
    }
   ],
   "source": [
    "oe = OrdinalEncoder()\n",
    "oe.fit_transform(X).shape"
   ]
  },
  {
   "cell_type": "code",
   "execution_count": 81,
   "id": "871906c5",
   "metadata": {
    "ExecuteTime": {
     "end_time": "2021-10-17T18:27:10.681377Z",
     "start_time": "2021-10-17T18:27:10.581135Z"
    }
   },
   "outputs": [
    {
     "data": {
      "text/plain": [
       "array([[ 4.,  1.,  4., ...,  3.,  2.,  1.],\n",
       "       [ 4., 11.,  2., ...,  0.,  4.,  1.],\n",
       "       [ 2.,  7.,  2., ...,  0.,  4.,  1.],\n",
       "       ...,\n",
       "       [ 4., 11.,  6., ...,  4.,  4.,  0.],\n",
       "       [ 4., 11.,  4., ...,  3.,  4.,  1.],\n",
       "       [ 5., 11.,  2., ...,  5.,  4.,  0.]])"
      ]
     },
     "execution_count": 81,
     "metadata": {},
     "output_type": "execute_result"
    }
   ],
   "source": [
    "oe.fit_transform(X)"
   ]
  },
  {
   "cell_type": "markdown",
   "id": "03154271",
   "metadata": {},
   "source": [
    "### Classifier"
   ]
  },
  {
   "cell_type": "code",
   "execution_count": 82,
   "id": "ef3434a7",
   "metadata": {
    "ExecuteTime": {
     "end_time": "2021-10-17T18:27:10.750380Z",
     "start_time": "2021-10-17T18:27:10.728241Z"
    }
   },
   "outputs": [],
   "source": [
    "rf = RandomForestClassifier(random_state=1, n_jobs=-1)"
   ]
  },
  {
   "cell_type": "code",
   "execution_count": 83,
   "id": "5f5c8b95",
   "metadata": {
    "ExecuteTime": {
     "end_time": "2021-10-17T18:27:23.089276Z",
     "start_time": "2021-10-17T18:27:10.766002Z"
    }
   },
   "outputs": [
    {
     "name": "stdout",
     "output_type": "stream",
     "text": [
      "Wall time: 11.6 s\n"
     ]
    },
    {
     "data": {
      "text/plain": [
       "0.8262561170407418"
      ]
     },
     "execution_count": 83,
     "metadata": {},
     "output_type": "execute_result"
    }
   ],
   "source": [
    "# Pipeline containing OneHotEncoder\n",
    "ohe_pipe = make_pipeline(\n",
    "    ohe,\n",
    "    rf\n",
    ")\n",
    "%time cross_val_score(ohe_pipe, X, y).mean()"
   ]
  },
  {
   "cell_type": "code",
   "execution_count": 84,
   "id": "9f7409ce",
   "metadata": {
    "ExecuteTime": {
     "end_time": "2021-10-17T18:27:28.445448Z",
     "start_time": "2021-10-17T18:27:23.096257Z"
    }
   },
   "outputs": [
    {
     "name": "stdout",
     "output_type": "stream",
     "text": [
      "Wall time: 4.55 s\n"
     ]
    },
    {
     "data": {
      "text/plain": [
       "0.8256623624061437"
      ]
     },
     "execution_count": 84,
     "metadata": {},
     "output_type": "execute_result"
    }
   ],
   "source": [
    "# Pipeline containing OrdinalEncoder\n",
    "oe_pipe = make_pipeline(\n",
    "    oe,\n",
    "    rf\n",
    ")\n",
    "%time cross_val_score(oe_pipe, X, y).mean()"
   ]
  },
  {
   "cell_type": "markdown",
   "id": "2a8222cf",
   "metadata": {},
   "source": [
    "# Missing values"
   ]
  },
  {
   "cell_type": "markdown",
   "id": "d919e25d",
   "metadata": {},
   "source": [
    "## Add a missing indicator to encode \"missingness\" as a feature\n",
    "\n",
    "When [imputing missing values](https://scikit-learn.org/stable/modules/impute.html), you can preserve info about which values were missing and use THAT as a feature!\n",
    "\n",
    "Why? Sometimes there's a relationship between \"missingness\" and the target/label you are trying to predict."
   ]
  },
  {
   "cell_type": "code",
   "execution_count": 85,
   "id": "c1a12a44",
   "metadata": {
    "ExecuteTime": {
     "end_time": "2021-10-17T18:27:28.476690Z",
     "start_time": "2021-10-17T18:27:28.445448Z"
    }
   },
   "outputs": [],
   "source": [
    "X = pd.DataFrame({'Age':[20, 30, 10, np.nan, 10]})"
   ]
  },
  {
   "cell_type": "code",
   "execution_count": 86,
   "id": "027e33ca",
   "metadata": {
    "ExecuteTime": {
     "end_time": "2021-10-17T18:27:28.514443Z",
     "start_time": "2021-10-17T18:27:28.476690Z"
    }
   },
   "outputs": [],
   "source": [
    "from sklearn.impute import SimpleImputer"
   ]
  },
  {
   "cell_type": "code",
   "execution_count": 87,
   "id": "f652aea1",
   "metadata": {
    "ExecuteTime": {
     "end_time": "2021-10-17T18:27:28.530064Z",
     "start_time": "2021-10-17T18:27:28.514443Z"
    }
   },
   "outputs": [
    {
     "data": {
      "text/plain": [
       "array([[20. ],\n",
       "       [30. ],\n",
       "       [10. ],\n",
       "       [17.5],\n",
       "       [10. ]])"
      ]
     },
     "execution_count": 87,
     "metadata": {},
     "output_type": "execute_result"
    }
   ],
   "source": [
    "# impute the mean\n",
    "imputer = SimpleImputer()\n",
    "imputer.fit_transform(X)"
   ]
  },
  {
   "cell_type": "code",
   "execution_count": 88,
   "id": "d9e652bd",
   "metadata": {
    "ExecuteTime": {
     "end_time": "2021-10-17T18:27:28.592549Z",
     "start_time": "2021-10-17T18:27:28.530064Z"
    }
   },
   "outputs": [
    {
     "data": {
      "text/plain": [
       "array([[20. ,  0. ],\n",
       "       [30. ,  0. ],\n",
       "       [10. ,  0. ],\n",
       "       [17.5,  1. ],\n",
       "       [10. ,  0. ]])"
      ]
     },
     "execution_count": 88,
     "metadata": {},
     "output_type": "execute_result"
    }
   ],
   "source": [
    "# add an indicator\n",
    "imputer = SimpleImputer(add_indicator=True)\n",
    "imputer.fit_transform(X)"
   ]
  },
  {
   "cell_type": "markdown",
   "id": "1067ae6d",
   "metadata": {},
   "source": [
    "## Impute missing values using KNNImputer or IterativeImputer\n",
    "\n",
    "Need something better than [SimpleImputer](https://scikit-learn.org/stable/modules/generated/sklearn.impute.SimpleImputer.html) for missing value imputation?\n",
    "\n",
    "Try [KNNImputer](https://scikit-learn.org/stable/modules/generated/sklearn.impute.KNNImputer.html) or [IterativeImputer](https://scikit-learn.org/stable/modules/generated/sklearn.impute.IterativeImputer.html) (inspired by R's MICE package). Both are multivariate approaches (they take other features into account!)\n"
   ]
  },
  {
   "cell_type": "code",
   "execution_count": 89,
   "id": "4380ffad",
   "metadata": {
    "ExecuteTime": {
     "end_time": "2021-10-17T18:27:28.630302Z",
     "start_time": "2021-10-17T18:27:28.592549Z"
    }
   },
   "outputs": [],
   "source": [
    "from sklearn.experimental import enable_iterative_imputer\n",
    "from sklearn.impute import IterativeImputer\n",
    "\n",
    "from sklearn.impute import KNNImputer"
   ]
  },
  {
   "cell_type": "code",
   "execution_count": 90,
   "id": "f83cc600",
   "metadata": {
    "ExecuteTime": {
     "end_time": "2021-10-17T18:27:28.645923Z",
     "start_time": "2021-10-17T18:27:28.630302Z"
    }
   },
   "outputs": [],
   "source": [
    "import os \n",
    "\n",
    "file_input_path = \"titanic_train.csv\"\n",
    "if not os.path.exists(file_input_path):\n",
    "    df = pd.read_csv(\"http://bit.ly/kaggletrain\")\n",
    "    df.to_csv(file_input_path, header=True, index=False, sep=\"\\t\")\n",
    "else:\n",
    "    df = pd.read_csv(file_input_path, header=0, sep=\"\\t\")"
   ]
  },
  {
   "cell_type": "code",
   "execution_count": 91,
   "id": "0ca067dd",
   "metadata": {
    "ExecuteTime": {
     "end_time": "2021-10-17T18:27:28.692787Z",
     "start_time": "2021-10-17T18:27:28.661544Z"
    }
   },
   "outputs": [
    {
     "data": {
      "text/html": [
       "<div>\n",
       "<style scoped>\n",
       "    .dataframe tbody tr th:only-of-type {\n",
       "        vertical-align: middle;\n",
       "    }\n",
       "\n",
       "    .dataframe tbody tr th {\n",
       "        vertical-align: top;\n",
       "    }\n",
       "\n",
       "    .dataframe thead th {\n",
       "        text-align: right;\n",
       "    }\n",
       "</style>\n",
       "<table border=\"1\" class=\"dataframe\">\n",
       "  <thead>\n",
       "    <tr style=\"text-align: right;\">\n",
       "      <th></th>\n",
       "      <th>PassengerId</th>\n",
       "      <th>Survived</th>\n",
       "      <th>Pclass</th>\n",
       "      <th>Name</th>\n",
       "      <th>Sex</th>\n",
       "      <th>Age</th>\n",
       "      <th>SibSp</th>\n",
       "      <th>Parch</th>\n",
       "      <th>Ticket</th>\n",
       "      <th>Fare</th>\n",
       "      <th>Cabin</th>\n",
       "      <th>Embarked</th>\n",
       "    </tr>\n",
       "  </thead>\n",
       "  <tbody>\n",
       "    <tr>\n",
       "      <th>0</th>\n",
       "      <td>1</td>\n",
       "      <td>0</td>\n",
       "      <td>3</td>\n",
       "      <td>Braund, Mr. Owen Harris</td>\n",
       "      <td>male</td>\n",
       "      <td>22.0</td>\n",
       "      <td>1</td>\n",
       "      <td>0</td>\n",
       "      <td>A/5 21171</td>\n",
       "      <td>7.2500</td>\n",
       "      <td>NaN</td>\n",
       "      <td>S</td>\n",
       "    </tr>\n",
       "    <tr>\n",
       "      <th>1</th>\n",
       "      <td>2</td>\n",
       "      <td>1</td>\n",
       "      <td>1</td>\n",
       "      <td>Cumings, Mrs. John Bradley (Florence Briggs Th...</td>\n",
       "      <td>female</td>\n",
       "      <td>38.0</td>\n",
       "      <td>1</td>\n",
       "      <td>0</td>\n",
       "      <td>PC 17599</td>\n",
       "      <td>71.2833</td>\n",
       "      <td>C85</td>\n",
       "      <td>C</td>\n",
       "    </tr>\n",
       "  </tbody>\n",
       "</table>\n",
       "</div>"
      ],
      "text/plain": [
       "   PassengerId  Survived  Pclass  \\\n",
       "0            1         0       3   \n",
       "1            2         1       1   \n",
       "\n",
       "                                                Name     Sex   Age  SibSp  \\\n",
       "0                            Braund, Mr. Owen Harris    male  22.0      1   \n",
       "1  Cumings, Mrs. John Bradley (Florence Briggs Th...  female  38.0      1   \n",
       "\n",
       "   Parch     Ticket     Fare Cabin Embarked  \n",
       "0      0  A/5 21171   7.2500   NaN        S  \n",
       "1      0   PC 17599  71.2833   C85        C  "
      ]
     },
     "execution_count": 91,
     "metadata": {},
     "output_type": "execute_result"
    }
   ],
   "source": [
    "df.head(2)"
   ]
  },
  {
   "cell_type": "code",
   "execution_count": 92,
   "id": "41665222",
   "metadata": {
    "ExecuteTime": {
     "end_time": "2021-10-17T18:27:28.734043Z",
     "start_time": "2021-10-17T18:27:28.692787Z"
    }
   },
   "outputs": [],
   "source": [
    "cols = ['SibSp', 'Fare', 'Age']\n",
    "X = df[cols][:6]"
   ]
  },
  {
   "cell_type": "code",
   "execution_count": 93,
   "id": "73adcc31",
   "metadata": {
    "ExecuteTime": {
     "end_time": "2021-10-17T18:27:28.749667Z",
     "start_time": "2021-10-17T18:27:28.734043Z"
    }
   },
   "outputs": [
    {
     "data": {
      "text/html": [
       "<div>\n",
       "<style scoped>\n",
       "    .dataframe tbody tr th:only-of-type {\n",
       "        vertical-align: middle;\n",
       "    }\n",
       "\n",
       "    .dataframe tbody tr th {\n",
       "        vertical-align: top;\n",
       "    }\n",
       "\n",
       "    .dataframe thead th {\n",
       "        text-align: right;\n",
       "    }\n",
       "</style>\n",
       "<table border=\"1\" class=\"dataframe\">\n",
       "  <thead>\n",
       "    <tr style=\"text-align: right;\">\n",
       "      <th></th>\n",
       "      <th>SibSp</th>\n",
       "      <th>Fare</th>\n",
       "      <th>Age</th>\n",
       "    </tr>\n",
       "  </thead>\n",
       "  <tbody>\n",
       "    <tr>\n",
       "      <th>0</th>\n",
       "      <td>1</td>\n",
       "      <td>7.2500</td>\n",
       "      <td>22.0</td>\n",
       "    </tr>\n",
       "    <tr>\n",
       "      <th>1</th>\n",
       "      <td>1</td>\n",
       "      <td>71.2833</td>\n",
       "      <td>38.0</td>\n",
       "    </tr>\n",
       "    <tr>\n",
       "      <th>2</th>\n",
       "      <td>0</td>\n",
       "      <td>7.9250</td>\n",
       "      <td>26.0</td>\n",
       "    </tr>\n",
       "    <tr>\n",
       "      <th>3</th>\n",
       "      <td>1</td>\n",
       "      <td>53.1000</td>\n",
       "      <td>35.0</td>\n",
       "    </tr>\n",
       "    <tr>\n",
       "      <th>4</th>\n",
       "      <td>0</td>\n",
       "      <td>8.0500</td>\n",
       "      <td>35.0</td>\n",
       "    </tr>\n",
       "    <tr>\n",
       "      <th>5</th>\n",
       "      <td>0</td>\n",
       "      <td>8.4583</td>\n",
       "      <td>NaN</td>\n",
       "    </tr>\n",
       "  </tbody>\n",
       "</table>\n",
       "</div>"
      ],
      "text/plain": [
       "   SibSp     Fare   Age\n",
       "0      1   7.2500  22.0\n",
       "1      1  71.2833  38.0\n",
       "2      0   7.9250  26.0\n",
       "3      1  53.1000  35.0\n",
       "4      0   8.0500  35.0\n",
       "5      0   8.4583   NaN"
      ]
     },
     "execution_count": 93,
     "metadata": {},
     "output_type": "execute_result"
    }
   ],
   "source": [
    "X"
   ]
  },
  {
   "cell_type": "code",
   "execution_count": 94,
   "id": "b1c050ba",
   "metadata": {
    "ExecuteTime": {
     "end_time": "2021-10-17T18:27:28.819156Z",
     "start_time": "2021-10-17T18:27:28.749667Z"
    }
   },
   "outputs": [
    {
     "data": {
      "text/plain": [
       "array([[ 1.        ,  7.25      , 22.        ],\n",
       "       [ 1.        , 71.2833    , 38.        ],\n",
       "       [ 0.        ,  7.925     , 26.        ],\n",
       "       [ 1.        , 53.1       , 35.        ],\n",
       "       [ 0.        ,  8.05      , 35.        ],\n",
       "       [ 0.        ,  8.4583    , 28.50639495]])"
      ]
     },
     "execution_count": 94,
     "metadata": {},
     "output_type": "execute_result"
    }
   ],
   "source": [
    "imputer_it = IterativeImputer()\n",
    "imputer_it.fit_transform(X)"
   ]
  },
  {
   "cell_type": "code",
   "execution_count": 95,
   "id": "0af50ff3",
   "metadata": {
    "ExecuteTime": {
     "end_time": "2021-10-17T18:27:28.836789Z",
     "start_time": "2021-10-17T18:27:28.821164Z"
    }
   },
   "outputs": [
    {
     "data": {
      "text/plain": [
       "array([[ 1.    ,  7.25  , 22.    ],\n",
       "       [ 1.    , 71.2833, 38.    ],\n",
       "       [ 0.    ,  7.925 , 26.    ],\n",
       "       [ 1.    , 53.1   , 35.    ],\n",
       "       [ 0.    ,  8.05  , 35.    ],\n",
       "       [ 0.    ,  8.4583, 30.5   ]])"
      ]
     },
     "execution_count": 95,
     "metadata": {},
     "output_type": "execute_result"
    }
   ],
   "source": [
    "imputer_knn = KNNImputer(n_neighbors=2)  # default=5\n",
    "imputer_knn.fit_transform(X)\n",
    "# Note: (26+35)/2 = 30.5"
   ]
  },
  {
   "cell_type": "markdown",
   "id": "47cc9345",
   "metadata": {},
   "source": [
    "## HistGradientBoostingClassifier natively supports missing values\n",
    "\n",
    "Four options for handling missing values (NaNs):\n",
    "+ Drop rows containing NaNs\n",
    "+ Drop columns containing NaNs\n",
    "+ Fill NaNs with imputed values\n",
    "+ [Use a model that natively handles NaNs (NEW!)](https://scikit-learn.org/stable/modules/ensemble.html#missing-values-support)\n",
    "\n",
    "Note: Beginning in scikit-learn 1.0, HistGradientBoostingClassifier and HistGradientBoostingRegressor are considered stable (rather than experimental), and thus you no longer have to enable them explicitly.\n"
   ]
  },
  {
   "cell_type": "code",
   "execution_count": 96,
   "id": "85fb3da6",
   "metadata": {
    "ExecuteTime": {
     "end_time": "2021-10-17T18:27:28.868371Z",
     "start_time": "2021-10-17T18:27:28.852631Z"
    }
   },
   "outputs": [],
   "source": [
    "import os \n",
    "\n",
    "file_input_path = \"titanic_train.csv\"\n",
    "if not os.path.exists(file_input_path):\n",
    "    df_train = pd.read_csv(\"http://bit.ly/kaggletrain\")\n",
    "    df_train.to_csv(file_input_path, header=True, index=False, sep=\"\\t\")\n",
    "else:\n",
    "    df_train = pd.read_csv(file_input_path, header=0, sep=\"\\t\")"
   ]
  },
  {
   "cell_type": "code",
   "execution_count": 97,
   "id": "0a80abfe",
   "metadata": {
    "ExecuteTime": {
     "end_time": "2021-10-17T18:27:28.924423Z",
     "start_time": "2021-10-17T18:27:28.868371Z"
    }
   },
   "outputs": [],
   "source": [
    "import os \n",
    "\n",
    "file_input_path = \"titanic_test.csv\"\n",
    "if not os.path.exists(file_input_path):\n",
    "    df_test = pd.read_csv(\"http://bit.ly/kaggletest\")\n",
    "    df_test.to_csv(file_input_path, header=True, index=False, sep=\"\\t\")\n",
    "else:\n",
    "    df_test = pd.read_csv(file_input_path, header=0, sep=\"\\t\")"
   ]
  },
  {
   "cell_type": "code",
   "execution_count": 98,
   "id": "8120fa5b",
   "metadata": {
    "ExecuteTime": {
     "end_time": "2021-10-17T18:27:28.945096Z",
     "start_time": "2021-10-17T18:27:28.926431Z"
    }
   },
   "outputs": [],
   "source": [
    "df_test = df_test[:175]"
   ]
  },
  {
   "cell_type": "code",
   "execution_count": 99,
   "id": "85001449",
   "metadata": {
    "ExecuteTime": {
     "end_time": "2021-10-17T18:27:28.988506Z",
     "start_time": "2021-10-17T18:27:28.945096Z"
    }
   },
   "outputs": [],
   "source": [
    "col_train = ['Survived', 'Age', 'Fare', 'Pclass']\n",
    "col_test = ['Age', 'Fare', 'Pclass']"
   ]
  },
  {
   "cell_type": "code",
   "execution_count": 100,
   "id": "9ce449ae",
   "metadata": {
    "ExecuteTime": {
     "end_time": "2021-10-17T18:27:29.014141Z",
     "start_time": "2021-10-17T18:27:28.988506Z"
    }
   },
   "outputs": [],
   "source": [
    "df_train = df_train[col_train]\n",
    "df_test = df_test[col_test]"
   ]
  },
  {
   "cell_type": "markdown",
   "id": "88319e29",
   "metadata": {},
   "source": [
    "### count the number of NaNs in each column"
   ]
  },
  {
   "cell_type": "code",
   "execution_count": 101,
   "id": "931446a5",
   "metadata": {
    "ExecuteTime": {
     "end_time": "2021-10-17T18:27:29.045385Z",
     "start_time": "2021-10-17T18:27:29.014141Z"
    }
   },
   "outputs": [
    {
     "data": {
      "text/plain": [
       "Survived      0\n",
       "Age         177\n",
       "Fare          0\n",
       "Pclass        0\n",
       "dtype: int64"
      ]
     },
     "execution_count": 101,
     "metadata": {},
     "output_type": "execute_result"
    }
   ],
   "source": [
    "df_train.isna().sum()"
   ]
  },
  {
   "cell_type": "code",
   "execution_count": 102,
   "id": "b70fefb9",
   "metadata": {
    "ExecuteTime": {
     "end_time": "2021-10-17T18:27:29.092248Z",
     "start_time": "2021-10-17T18:27:29.045385Z"
    }
   },
   "outputs": [
    {
     "data": {
      "text/plain": [
       "Age       36\n",
       "Fare       1\n",
       "Pclass     0\n",
       "dtype: int64"
      ]
     },
     "execution_count": 102,
     "metadata": {},
     "output_type": "execute_result"
    }
   ],
   "source": [
    "df_test.isna().sum()"
   ]
  },
  {
   "cell_type": "code",
   "execution_count": 103,
   "id": "d45c3423",
   "metadata": {
    "ExecuteTime": {
     "end_time": "2021-10-17T18:27:29.114384Z",
     "start_time": "2021-10-17T18:27:29.092248Z"
    }
   },
   "outputs": [],
   "source": [
    "df_label = df_train.pop(\"Survived\")"
   ]
  },
  {
   "cell_type": "code",
   "execution_count": 104,
   "id": "d057ec1d",
   "metadata": {
    "ExecuteTime": {
     "end_time": "2021-10-17T18:27:29.145622Z",
     "start_time": "2021-10-17T18:27:29.130000Z"
    }
   },
   "outputs": [
    {
     "data": {
      "text/plain": [
       "pandas.core.series.Series"
      ]
     },
     "execution_count": 104,
     "metadata": {},
     "output_type": "execute_result"
    }
   ],
   "source": [
    "type(df_label)"
   ]
  },
  {
   "cell_type": "code",
   "execution_count": 105,
   "id": "f292a145",
   "metadata": {
    "ExecuteTime": {
     "end_time": "2021-10-17T18:27:29.230240Z",
     "start_time": "2021-10-17T18:27:29.145622Z"
    }
   },
   "outputs": [
    {
     "name": "stderr",
     "output_type": "stream",
     "text": [
      "C:\\Users\\TienLE\\anaconda3\\envs\\py39\\lib\\site-packages\\sklearn\\experimental\\enable_hist_gradient_boosting.py:16: UserWarning: Since version 1.0, it is not needed to import enable_hist_gradient_boosting anymore. HistGradientBoostingClassifier and HistGradientBoostingRegressor are now stable and can be normally imported from sklearn.ensemble.\n",
      "  warnings.warn(\n"
     ]
    }
   ],
   "source": [
    "from sklearn.experimental import enable_hist_gradient_boosting\n",
    "from sklearn.ensemble import HistGradientBoostingClassifier"
   ]
  },
  {
   "cell_type": "code",
   "execution_count": 106,
   "id": "fb87eb91",
   "metadata": {
    "ExecuteTime": {
     "end_time": "2021-10-17T18:27:29.630620Z",
     "start_time": "2021-10-17T18:27:29.230240Z"
    }
   },
   "outputs": [
    {
     "data": {
      "text/plain": [
       "HistGradientBoostingClassifier()"
      ]
     },
     "execution_count": 106,
     "metadata": {},
     "output_type": "execute_result"
    }
   ],
   "source": [
    "# no errors, despite NaNs in train and test!\n",
    "clf = HistGradientBoostingClassifier()\n",
    "clf.fit(df_train, df_label)"
   ]
  },
  {
   "cell_type": "code",
   "execution_count": 107,
   "id": "e0b573cd",
   "metadata": {
    "ExecuteTime": {
     "end_time": "2021-10-17T18:27:29.673744Z",
     "start_time": "2021-10-17T18:27:29.633691Z"
    }
   },
   "outputs": [
    {
     "data": {
      "text/plain": [
       "array([0, 0, 0, 1, 0, 0, 0, 0, 0, 0, 0, 0, 1, 0, 0, 1, 0, 1, 1, 0, 1, 0,\n",
       "       1, 1, 1, 0, 1, 1, 1, 0, 1, 1, 0, 0, 1, 0, 0, 0, 0, 1, 0, 0, 0, 0,\n",
       "       1, 0, 0, 0, 1, 1, 1, 0, 1, 0, 0, 0, 0, 0, 1, 1, 0, 1, 0, 1, 1, 0,\n",
       "       1, 0, 0, 1, 0, 0, 0, 0, 1, 1, 0, 0, 0, 0, 1, 0, 1, 0, 1, 0, 1, 1,\n",
       "       0, 1, 0, 0, 1, 0, 1, 0, 1, 0, 0, 0, 1, 0, 0, 0, 0, 0, 0, 0, 0, 0,\n",
       "       0, 0, 1, 0, 1, 0, 0, 1, 1, 1, 1, 0, 1, 0, 0, 0, 0, 1, 1, 0, 0, 0,\n",
       "       0, 0, 0, 0, 0, 0, 0, 0, 0, 1, 1, 1, 1, 0, 1, 0, 0, 1, 1, 0, 0, 0,\n",
       "       0, 0, 1, 0, 1, 0, 0, 1, 0, 0, 1, 0, 1, 0, 0, 0, 0, 0, 0, 0, 0],\n",
       "      dtype=int64)"
      ]
     },
     "execution_count": 107,
     "metadata": {},
     "output_type": "execute_result"
    }
   ],
   "source": [
    "pred = clf.predict(df_test)\n",
    "pred"
   ]
  },
  {
   "cell_type": "code",
   "execution_count": 108,
   "id": "d494db1c",
   "metadata": {
    "ExecuteTime": {
     "end_time": "2021-10-17T18:27:29.711056Z",
     "start_time": "2021-10-17T18:27:29.675765Z"
    }
   },
   "outputs": [
    {
     "data": {
      "text/html": [
       "<div>\n",
       "<style scoped>\n",
       "    .dataframe tbody tr th:only-of-type {\n",
       "        vertical-align: middle;\n",
       "    }\n",
       "\n",
       "    .dataframe tbody tr th {\n",
       "        vertical-align: top;\n",
       "    }\n",
       "\n",
       "    .dataframe thead th {\n",
       "        text-align: right;\n",
       "    }\n",
       "</style>\n",
       "<table border=\"1\" class=\"dataframe\">\n",
       "  <thead>\n",
       "    <tr style=\"text-align: right;\">\n",
       "      <th></th>\n",
       "      <th>Age</th>\n",
       "      <th>Fare</th>\n",
       "      <th>Pclass</th>\n",
       "    </tr>\n",
       "  </thead>\n",
       "  <tbody>\n",
       "    <tr>\n",
       "      <th>0</th>\n",
       "      <td>34.5</td>\n",
       "      <td>7.8292</td>\n",
       "      <td>3</td>\n",
       "    </tr>\n",
       "    <tr>\n",
       "      <th>1</th>\n",
       "      <td>47.0</td>\n",
       "      <td>7.0000</td>\n",
       "      <td>3</td>\n",
       "    </tr>\n",
       "    <tr>\n",
       "      <th>2</th>\n",
       "      <td>62.0</td>\n",
       "      <td>9.6875</td>\n",
       "      <td>2</td>\n",
       "    </tr>\n",
       "    <tr>\n",
       "      <th>3</th>\n",
       "      <td>27.0</td>\n",
       "      <td>8.6625</td>\n",
       "      <td>3</td>\n",
       "    </tr>\n",
       "    <tr>\n",
       "      <th>4</th>\n",
       "      <td>22.0</td>\n",
       "      <td>12.2875</td>\n",
       "      <td>3</td>\n",
       "    </tr>\n",
       "  </tbody>\n",
       "</table>\n",
       "</div>"
      ],
      "text/plain": [
       "    Age     Fare  Pclass\n",
       "0  34.5   7.8292       3\n",
       "1  47.0   7.0000       3\n",
       "2  62.0   9.6875       2\n",
       "3  27.0   8.6625       3\n",
       "4  22.0  12.2875       3"
      ]
     },
     "execution_count": 108,
     "metadata": {},
     "output_type": "execute_result"
    }
   ],
   "source": [
    "df_test.head()"
   ]
  },
  {
   "cell_type": "markdown",
   "id": "e5569ce8",
   "metadata": {},
   "source": [
    "## Two ways to impute missing values for a categorical feature\n",
    "\n",
    "Need to [impute missing values](https://scikit-learn.org/stable/modules/generated/sklearn.impute.SimpleImputer.html) for a categorical feature?\n",
    "\n",
    "Two options:\n",
    "+ Impute the most frequent value\n",
    "+ Impute the value \"missing\", which treats it as a separate category\n",
    "\n",
    "strategy : str, default='mean'\n",
    "    The imputation strategy.\n",
    "\n",
    "    - If \"mean\", then replace missing values using the mean along\n",
    "      each column. Can only be used with numeric data.\n",
    "    - If \"median\", then replace missing values using the median along\n",
    "      each column. Can only be used with numeric data.\n",
    "    - If \"most_frequent\", then replace missing using the most frequent\n",
    "      value along each column. Can be used with strings or numeric data.\n",
    "      If there is more than one such value, only the smallest is returned.\n",
    "    - If \"constant\", then replace missing values with fill_value. Can be\n",
    "      used with strings or numeric data.\n",
    "\n",
    "    .. versionadded:: 0.20\n",
    "       strategy=\"constant\" for fixed value imputation.\n",
    "\n",
    "fill_value : str or numerical value, default=None\n",
    "    When strategy == \"constant\", fill_value is used to replace all\n",
    "    occurrences of missing_values.\n",
    "    If left to the default, fill_value will be 0 when imputing numerical\n",
    "    data and \"missing_value\" for strings or object data types."
   ]
  },
  {
   "cell_type": "code",
   "execution_count": 109,
   "id": "45b4680f",
   "metadata": {
    "ExecuteTime": {
     "end_time": "2021-10-17T18:27:29.733864Z",
     "start_time": "2021-10-17T18:27:29.715697Z"
    }
   },
   "outputs": [],
   "source": [
    "X = pd.DataFrame({'Shape':['square', 'square', 'oval', 'circle', np.nan]})"
   ]
  },
  {
   "cell_type": "code",
   "execution_count": 110,
   "id": "b52d2a5e",
   "metadata": {
    "ExecuteTime": {
     "end_time": "2021-10-17T18:27:29.751498Z",
     "start_time": "2021-10-17T18:27:29.735873Z"
    }
   },
   "outputs": [],
   "source": [
    "from sklearn.impute import SimpleImputer"
   ]
  },
  {
   "cell_type": "code",
   "execution_count": 111,
   "id": "7dadd4d7",
   "metadata": {
    "ExecuteTime": {
     "end_time": "2021-10-17T18:27:29.788089Z",
     "start_time": "2021-10-17T18:27:29.764407Z"
    }
   },
   "outputs": [
    {
     "data": {
      "text/plain": [
       "array([['square'],\n",
       "       ['square'],\n",
       "       ['oval'],\n",
       "       ['circle'],\n",
       "       ['square']], dtype=object)"
      ]
     },
     "execution_count": 111,
     "metadata": {},
     "output_type": "execute_result"
    }
   ],
   "source": [
    "imputer = SimpleImputer(strategy=\"most_frequent\")\n",
    "imputer.fit_transform(X)"
   ]
  },
  {
   "cell_type": "code",
   "execution_count": 112,
   "id": "a2030f4e",
   "metadata": {
    "ExecuteTime": {
     "end_time": "2021-10-17T18:27:29.820507Z",
     "start_time": "2021-10-17T18:27:29.791883Z"
    }
   },
   "outputs": [
    {
     "data": {
      "text/plain": [
       "array([['square'],\n",
       "       ['square'],\n",
       "       ['oval'],\n",
       "       ['circle'],\n",
       "       ['missing']], dtype=object)"
      ]
     },
     "execution_count": 112,
     "metadata": {},
     "output_type": "execute_result"
    }
   ],
   "source": [
    "imputer = SimpleImputer(strategy=\"constant\", fill_value=\"missing\")\n",
    "imputer.fit_transform(X)\n",
    "# Note: after imputering based on \"missing\" value, we can use OneHotEncoding to numerize this column."
   ]
  },
  {
   "cell_type": "markdown",
   "id": "221bef91",
   "metadata": {},
   "source": [
    "# Pipeline"
   ]
  },
  {
   "cell_type": "markdown",
   "id": "4e02b68a",
   "metadata": {},
   "source": [
    "## Use Pipeline to chain together multiple steps\n",
    "\n",
    "Q: What does [\"pipeline\"](https://scikit-learn.org/stable/modules/compose.html#pipeline-chaining-estimators) do?\n",
    "\n",
    "A: Chains together multiple steps: output of each step is used as input to the next step.\n",
    "\n",
    "Makes it easy to apply the same [preprocessing](https://scikit-learn.org/stable/modules/preprocessing.html) to train and test!\n",
    "\n",
    "Additional links: [SimpleImputer](https://scikit-learn.org/stable/modules/generated/sklearn.impute.SimpleImputer.html), [data leakage](https://scikit-learn.org/stable/common_pitfalls.html#data-leakage)\n"
   ]
  },
  {
   "cell_type": "code",
   "execution_count": 113,
   "id": "5eddb261",
   "metadata": {
    "ExecuteTime": {
     "end_time": "2021-10-17T18:27:29.854724Z",
     "start_time": "2021-10-17T18:27:29.822527Z"
    }
   },
   "outputs": [],
   "source": [
    "train = pd.DataFrame({'feat1':[10, 20, np.nan, 2], 'feat2':[25., 20, 5, 3], 'label':['A', 'A', 'B', 'B']})\n",
    "test = pd.DataFrame({'feat1':[30., 5, 15], 'feat2':[12, 10, np.nan]})"
   ]
  },
  {
   "cell_type": "code",
   "execution_count": 114,
   "id": "a172f871",
   "metadata": {
    "ExecuteTime": {
     "end_time": "2021-10-17T18:27:29.880357Z",
     "start_time": "2021-10-17T18:27:29.854724Z"
    }
   },
   "outputs": [],
   "source": [
    "from sklearn.impute import SimpleImputer\n",
    "from sklearn.linear_model import LogisticRegression\n",
    "from sklearn.pipeline import make_pipeline"
   ]
  },
  {
   "cell_type": "code",
   "execution_count": 115,
   "id": "8a7c2bd1",
   "metadata": {
    "ExecuteTime": {
     "end_time": "2021-10-17T18:27:29.895978Z",
     "start_time": "2021-10-17T18:27:29.880357Z"
    }
   },
   "outputs": [],
   "source": [
    "imputer = SimpleImputer()\n",
    "clf = LogisticRegression()"
   ]
  },
  {
   "cell_type": "code",
   "execution_count": 116,
   "id": "460ede6d",
   "metadata": {
    "ExecuteTime": {
     "end_time": "2021-10-17T18:27:29.927220Z",
     "start_time": "2021-10-17T18:27:29.895978Z"
    }
   },
   "outputs": [],
   "source": [
    "# pipeline: impute missing values, then pass the results to the classifier\n",
    "pipe = make_pipeline(\n",
    "    imputer,\n",
    "    clf\n",
    ")"
   ]
  },
  {
   "cell_type": "code",
   "execution_count": 117,
   "id": "76f1c9c9",
   "metadata": {
    "ExecuteTime": {
     "end_time": "2021-10-17T18:27:29.942842Z",
     "start_time": "2021-10-17T18:27:29.927220Z"
    }
   },
   "outputs": [
    {
     "data": {
      "text/html": [
       "<div>\n",
       "<style scoped>\n",
       "    .dataframe tbody tr th:only-of-type {\n",
       "        vertical-align: middle;\n",
       "    }\n",
       "\n",
       "    .dataframe tbody tr th {\n",
       "        vertical-align: top;\n",
       "    }\n",
       "\n",
       "    .dataframe thead th {\n",
       "        text-align: right;\n",
       "    }\n",
       "</style>\n",
       "<table border=\"1\" class=\"dataframe\">\n",
       "  <thead>\n",
       "    <tr style=\"text-align: right;\">\n",
       "      <th></th>\n",
       "      <th>feat1</th>\n",
       "      <th>feat2</th>\n",
       "      <th>label</th>\n",
       "    </tr>\n",
       "  </thead>\n",
       "  <tbody>\n",
       "    <tr>\n",
       "      <th>0</th>\n",
       "      <td>10.0</td>\n",
       "      <td>25.0</td>\n",
       "      <td>A</td>\n",
       "    </tr>\n",
       "    <tr>\n",
       "      <th>1</th>\n",
       "      <td>20.0</td>\n",
       "      <td>20.0</td>\n",
       "      <td>A</td>\n",
       "    </tr>\n",
       "    <tr>\n",
       "      <th>2</th>\n",
       "      <td>NaN</td>\n",
       "      <td>5.0</td>\n",
       "      <td>B</td>\n",
       "    </tr>\n",
       "    <tr>\n",
       "      <th>3</th>\n",
       "      <td>2.0</td>\n",
       "      <td>3.0</td>\n",
       "      <td>B</td>\n",
       "    </tr>\n",
       "  </tbody>\n",
       "</table>\n",
       "</div>"
      ],
      "text/plain": [
       "   feat1  feat2 label\n",
       "0   10.0   25.0     A\n",
       "1   20.0   20.0     A\n",
       "2    NaN    5.0     B\n",
       "3    2.0    3.0     B"
      ]
     },
     "execution_count": 117,
     "metadata": {},
     "output_type": "execute_result"
    }
   ],
   "source": [
    "train"
   ]
  },
  {
   "cell_type": "code",
   "execution_count": 118,
   "id": "79054743",
   "metadata": {
    "ExecuteTime": {
     "end_time": "2021-10-17T18:27:29.982596Z",
     "start_time": "2021-10-17T18:27:29.942842Z"
    }
   },
   "outputs": [
    {
     "data": {
      "text/html": [
       "<div>\n",
       "<style scoped>\n",
       "    .dataframe tbody tr th:only-of-type {\n",
       "        vertical-align: middle;\n",
       "    }\n",
       "\n",
       "    .dataframe tbody tr th {\n",
       "        vertical-align: top;\n",
       "    }\n",
       "\n",
       "    .dataframe thead th {\n",
       "        text-align: right;\n",
       "    }\n",
       "</style>\n",
       "<table border=\"1\" class=\"dataframe\">\n",
       "  <thead>\n",
       "    <tr style=\"text-align: right;\">\n",
       "      <th></th>\n",
       "      <th>feat1</th>\n",
       "      <th>feat2</th>\n",
       "    </tr>\n",
       "  </thead>\n",
       "  <tbody>\n",
       "    <tr>\n",
       "      <th>0</th>\n",
       "      <td>30.0</td>\n",
       "      <td>12.0</td>\n",
       "    </tr>\n",
       "    <tr>\n",
       "      <th>1</th>\n",
       "      <td>5.0</td>\n",
       "      <td>10.0</td>\n",
       "    </tr>\n",
       "    <tr>\n",
       "      <th>2</th>\n",
       "      <td>15.0</td>\n",
       "      <td>NaN</td>\n",
       "    </tr>\n",
       "  </tbody>\n",
       "</table>\n",
       "</div>"
      ],
      "text/plain": [
       "   feat1  feat2\n",
       "0   30.0   12.0\n",
       "1    5.0   10.0\n",
       "2   15.0    NaN"
      ]
     },
     "execution_count": 118,
     "metadata": {},
     "output_type": "execute_result"
    }
   ],
   "source": [
    "test"
   ]
  },
  {
   "cell_type": "code",
   "execution_count": 119,
   "id": "6199922f",
   "metadata": {
    "ExecuteTime": {
     "end_time": "2021-10-17T18:27:29.998216Z",
     "start_time": "2021-10-17T18:27:29.982596Z"
    }
   },
   "outputs": [],
   "source": [
    "features, label = train[['feat1', 'feat2']], train[\"label\"]"
   ]
  },
  {
   "cell_type": "code",
   "execution_count": 120,
   "id": "22ca2117",
   "metadata": {
    "ExecuteTime": {
     "end_time": "2021-10-17T18:27:30.045081Z",
     "start_time": "2021-10-17T18:27:30.013838Z"
    }
   },
   "outputs": [
    {
     "data": {
      "text/plain": [
       "Pipeline(steps=[('simpleimputer', SimpleImputer()),\n",
       "                ('logisticregression', LogisticRegression())])"
      ]
     },
     "execution_count": 120,
     "metadata": {},
     "output_type": "execute_result"
    }
   ],
   "source": [
    "# Train phase based on pipeline\n",
    "pipe.fit(features, label)"
   ]
  },
  {
   "cell_type": "code",
   "execution_count": 121,
   "id": "bcf92e46",
   "metadata": {
    "ExecuteTime": {
     "end_time": "2021-10-17T18:27:30.060702Z",
     "start_time": "2021-10-17T18:27:30.045081Z"
    }
   },
   "outputs": [
    {
     "data": {
      "text/plain": [
       "array(['A', 'B', 'A'], dtype=object)"
      ]
     },
     "execution_count": 121,
     "metadata": {},
     "output_type": "execute_result"
    }
   ],
   "source": [
    "# Predict based on pipeline\n",
    "pipe.predict(test)"
   ]
  },
  {
   "cell_type": "code",
   "execution_count": 122,
   "id": "fe9e46f8",
   "metadata": {
    "ExecuteTime": {
     "end_time": "2021-10-17T18:27:30.099458Z",
     "start_time": "2021-10-17T18:27:30.068211Z"
    }
   },
   "outputs": [
    {
     "data": {
      "text/plain": [
       "array([[0.91180344, 0.08819656],\n",
       "       [0.07269959, 0.92730041],\n",
       "       [0.61128195, 0.38871805]])"
      ]
     },
     "execution_count": 122,
     "metadata": {},
     "output_type": "execute_result"
    }
   ],
   "source": [
    "pipe.predict_proba(test)"
   ]
  },
  {
   "cell_type": "markdown",
   "id": "c09b7d06",
   "metadata": {},
   "source": [
    "## What is the difference between Pipeline and make_pipeline?\n",
    "\n",
    "Q: What's the difference between [Pipeline](https://scikit-learn.org/stable/modules/generated/sklearn.pipeline.Pipeline.html) and [make_pipeline](https://scikit-learn.org/stable/modules/generated/sklearn.pipeline.make_pipeline.html)?\n",
    "\n",
    "A: Pipeline requires naming of steps, make_pipeline does not.\n",
    "\n",
    "(Same applies to [ColumnTransformer](https://scikit-learn.org/stable/modules/generated/sklearn.compose.ColumnTransformer.html) vs [make_column_transformer](https://scikit-learn.org/stable/modules/generated/sklearn.compose.make_column_transformer.html))"
   ]
  },
  {
   "cell_type": "code",
   "execution_count": 123,
   "id": "633cdf8c",
   "metadata": {
    "ExecuteTime": {
     "end_time": "2021-10-17T18:27:30.146322Z",
     "start_time": "2021-10-17T18:27:30.115080Z"
    }
   },
   "outputs": [],
   "source": [
    "from sklearn.preprocessing import OneHotEncoder\n",
    "from sklearn.impute import SimpleImputer\n",
    "from sklearn.linear_model import LogisticRegression"
   ]
  },
  {
   "cell_type": "code",
   "execution_count": 124,
   "id": "f504310b",
   "metadata": {
    "ExecuteTime": {
     "end_time": "2021-10-17T18:27:30.161945Z",
     "start_time": "2021-10-17T18:27:30.146322Z"
    }
   },
   "outputs": [],
   "source": [
    "ohe = OneHotEncoder()\n",
    "imp = SimpleImputer()\n",
    "clf = LogisticRegression()"
   ]
  },
  {
   "cell_type": "markdown",
   "id": "4412549e",
   "metadata": {},
   "source": [
    "### make_column_transformer & make_pipeline"
   ]
  },
  {
   "cell_type": "code",
   "execution_count": 125,
   "id": "45dbc5a3",
   "metadata": {
    "ExecuteTime": {
     "end_time": "2021-10-17T18:27:30.184077Z",
     "start_time": "2021-10-17T18:27:30.161945Z"
    }
   },
   "outputs": [],
   "source": [
    "from sklearn.compose import make_column_transformer\n",
    "from sklearn.pipeline import make_pipeline"
   ]
  },
  {
   "cell_type": "code",
   "execution_count": 126,
   "id": "f20c00e9",
   "metadata": {
    "ExecuteTime": {
     "end_time": "2021-10-17T18:27:30.199699Z",
     "start_time": "2021-10-17T18:27:30.184077Z"
    }
   },
   "outputs": [],
   "source": [
    "col_transformer = make_column_transformer(\n",
    "    (ohe, [\"Embarked\", \"Sex\"]),\n",
    "    (imp, [\"Age\"]),\n",
    "    remainder=\"passthrough\"\n",
    ")"
   ]
  },
  {
   "cell_type": "code",
   "execution_count": 127,
   "id": "1eb6c5c0",
   "metadata": {
    "ExecuteTime": {
     "end_time": "2021-10-17T18:27:30.246562Z",
     "start_time": "2021-10-17T18:27:30.215320Z"
    }
   },
   "outputs": [],
   "source": [
    "pipe = make_pipeline(col_transformer, clf)"
   ]
  },
  {
   "cell_type": "markdown",
   "id": "d32cad64",
   "metadata": {},
   "source": [
    "### ColumnTransformer & Pipeline"
   ]
  },
  {
   "cell_type": "code",
   "execution_count": 128,
   "id": "19816d99",
   "metadata": {
    "ExecuteTime": {
     "end_time": "2021-10-17T18:27:30.262183Z",
     "start_time": "2021-10-17T18:27:30.246562Z"
    }
   },
   "outputs": [],
   "source": [
    "from sklearn.compose import ColumnTransformer\n",
    "from sklearn.pipeline import Pipeline"
   ]
  },
  {
   "cell_type": "code",
   "execution_count": 129,
   "id": "68f9622d",
   "metadata": {
    "ExecuteTime": {
     "end_time": "2021-10-17T18:27:30.284315Z",
     "start_time": "2021-10-17T18:27:30.262183Z"
    }
   },
   "outputs": [],
   "source": [
    "col_transformer = ColumnTransformer(\n",
    "    [\n",
    "        (\"encoder\", ohe, [\"Embarked\", \"Sex\"]),\n",
    "        (\"imputer\", imp, [\"Age\"])\n",
    "    ],\n",
    "    remainder=\"passthrough\"\n",
    ")"
   ]
  },
  {
   "cell_type": "code",
   "execution_count": 130,
   "id": "ee501ff3",
   "metadata": {
    "ExecuteTime": {
     "end_time": "2021-10-17T18:27:30.315559Z",
     "start_time": "2021-10-17T18:27:30.284315Z"
    }
   },
   "outputs": [],
   "source": [
    "pipe = Pipeline(\n",
    "    [\n",
    "        (\"preprocessor\", col_transformer),\n",
    "        (\"classifier\", clf)\n",
    "    ]\n",
    ")"
   ]
  },
  {
   "cell_type": "markdown",
   "id": "5cf30a17",
   "metadata": {},
   "source": [
    "## Examine the intermediate steps in a Pipeline\n",
    "\n",
    "Q: How do you examine the intermediate steps in a Pipeline?\n",
    "\n",
    "A: By using the \"named_steps\" attribute:\n",
    "\n",
    "pipe.named_steps.STEP_NAME.ATTRIBUTE"
   ]
  },
  {
   "cell_type": "code",
   "execution_count": 131,
   "id": "74e52c28",
   "metadata": {
    "ExecuteTime": {
     "end_time": "2021-10-17T18:27:30.346801Z",
     "start_time": "2021-10-17T18:27:30.315559Z"
    }
   },
   "outputs": [],
   "source": [
    "import os \n",
    "\n",
    "file_input_path = \"titanic_train.csv\"\n",
    "if not os.path.exists(file_input_path):\n",
    "    df_train = pd.read_csv(\"http://bit.ly/kaggletrain\")\n",
    "    df_train.to_csv(file_input_path, header=True, index=False, sep=\"\\t\")\n",
    "else:\n",
    "    df_train = pd.read_csv(file_input_path, header=0, sep=\"\\t\")"
   ]
  },
  {
   "cell_type": "code",
   "execution_count": 132,
   "id": "c73b5072",
   "metadata": {
    "ExecuteTime": {
     "end_time": "2021-10-17T18:27:30.362421Z",
     "start_time": "2021-10-17T18:27:30.346801Z"
    }
   },
   "outputs": [],
   "source": [
    "df_train = df_train[:6][[\"Age\", \"Pclass\", \"Survived\"]]"
   ]
  },
  {
   "cell_type": "code",
   "execution_count": 133,
   "id": "73590dfc",
   "metadata": {
    "ExecuteTime": {
     "end_time": "2021-10-17T18:27:30.400194Z",
     "start_time": "2021-10-17T18:27:30.362421Z"
    }
   },
   "outputs": [
    {
     "data": {
      "text/html": [
       "<div>\n",
       "<style scoped>\n",
       "    .dataframe tbody tr th:only-of-type {\n",
       "        vertical-align: middle;\n",
       "    }\n",
       "\n",
       "    .dataframe tbody tr th {\n",
       "        vertical-align: top;\n",
       "    }\n",
       "\n",
       "    .dataframe thead th {\n",
       "        text-align: right;\n",
       "    }\n",
       "</style>\n",
       "<table border=\"1\" class=\"dataframe\">\n",
       "  <thead>\n",
       "    <tr style=\"text-align: right;\">\n",
       "      <th></th>\n",
       "      <th>Age</th>\n",
       "      <th>Pclass</th>\n",
       "      <th>Survived</th>\n",
       "    </tr>\n",
       "  </thead>\n",
       "  <tbody>\n",
       "    <tr>\n",
       "      <th>0</th>\n",
       "      <td>22.0</td>\n",
       "      <td>3</td>\n",
       "      <td>0</td>\n",
       "    </tr>\n",
       "    <tr>\n",
       "      <th>1</th>\n",
       "      <td>38.0</td>\n",
       "      <td>1</td>\n",
       "      <td>1</td>\n",
       "    </tr>\n",
       "    <tr>\n",
       "      <th>2</th>\n",
       "      <td>26.0</td>\n",
       "      <td>3</td>\n",
       "      <td>1</td>\n",
       "    </tr>\n",
       "    <tr>\n",
       "      <th>3</th>\n",
       "      <td>35.0</td>\n",
       "      <td>1</td>\n",
       "      <td>1</td>\n",
       "    </tr>\n",
       "    <tr>\n",
       "      <th>4</th>\n",
       "      <td>35.0</td>\n",
       "      <td>3</td>\n",
       "      <td>0</td>\n",
       "    </tr>\n",
       "    <tr>\n",
       "      <th>5</th>\n",
       "      <td>NaN</td>\n",
       "      <td>3</td>\n",
       "      <td>0</td>\n",
       "    </tr>\n",
       "  </tbody>\n",
       "</table>\n",
       "</div>"
      ],
      "text/plain": [
       "    Age  Pclass  Survived\n",
       "0  22.0       3         0\n",
       "1  38.0       1         1\n",
       "2  26.0       3         1\n",
       "3  35.0       1         1\n",
       "4  35.0       3         0\n",
       "5   NaN       3         0"
      ]
     },
     "execution_count": 133,
     "metadata": {},
     "output_type": "execute_result"
    }
   ],
   "source": [
    "df_train"
   ]
  },
  {
   "cell_type": "code",
   "execution_count": 134,
   "id": "618bc435",
   "metadata": {
    "ExecuteTime": {
     "end_time": "2021-10-17T18:27:30.436783Z",
     "start_time": "2021-10-17T18:27:30.413464Z"
    }
   },
   "outputs": [],
   "source": [
    "X, y = df_train[[\"Age\", \"Pclass\"]], df_train[\"Survived\"]"
   ]
  },
  {
   "cell_type": "code",
   "execution_count": 135,
   "id": "e8618905",
   "metadata": {
    "ExecuteTime": {
     "end_time": "2021-10-17T18:27:30.461464Z",
     "start_time": "2021-10-17T18:27:30.436783Z"
    }
   },
   "outputs": [
    {
     "data": {
      "text/html": [
       "<div>\n",
       "<style scoped>\n",
       "    .dataframe tbody tr th:only-of-type {\n",
       "        vertical-align: middle;\n",
       "    }\n",
       "\n",
       "    .dataframe tbody tr th {\n",
       "        vertical-align: top;\n",
       "    }\n",
       "\n",
       "    .dataframe thead th {\n",
       "        text-align: right;\n",
       "    }\n",
       "</style>\n",
       "<table border=\"1\" class=\"dataframe\">\n",
       "  <thead>\n",
       "    <tr style=\"text-align: right;\">\n",
       "      <th></th>\n",
       "      <th>Age</th>\n",
       "      <th>Pclass</th>\n",
       "    </tr>\n",
       "  </thead>\n",
       "  <tbody>\n",
       "    <tr>\n",
       "      <th>0</th>\n",
       "      <td>22.0</td>\n",
       "      <td>3</td>\n",
       "    </tr>\n",
       "    <tr>\n",
       "      <th>1</th>\n",
       "      <td>38.0</td>\n",
       "      <td>1</td>\n",
       "    </tr>\n",
       "    <tr>\n",
       "      <th>2</th>\n",
       "      <td>26.0</td>\n",
       "      <td>3</td>\n",
       "    </tr>\n",
       "    <tr>\n",
       "      <th>3</th>\n",
       "      <td>35.0</td>\n",
       "      <td>1</td>\n",
       "    </tr>\n",
       "    <tr>\n",
       "      <th>4</th>\n",
       "      <td>35.0</td>\n",
       "      <td>3</td>\n",
       "    </tr>\n",
       "    <tr>\n",
       "      <th>5</th>\n",
       "      <td>NaN</td>\n",
       "      <td>3</td>\n",
       "    </tr>\n",
       "  </tbody>\n",
       "</table>\n",
       "</div>"
      ],
      "text/plain": [
       "    Age  Pclass\n",
       "0  22.0       3\n",
       "1  38.0       1\n",
       "2  26.0       3\n",
       "3  35.0       1\n",
       "4  35.0       3\n",
       "5   NaN       3"
      ]
     },
     "execution_count": 135,
     "metadata": {},
     "output_type": "execute_result"
    }
   ],
   "source": [
    "X"
   ]
  },
  {
   "cell_type": "code",
   "execution_count": 136,
   "id": "33de45e8",
   "metadata": {
    "ExecuteTime": {
     "end_time": "2021-10-17T18:27:30.494310Z",
     "start_time": "2021-10-17T18:27:30.463483Z"
    }
   },
   "outputs": [
    {
     "data": {
      "text/plain": [
       "0    0\n",
       "1    1\n",
       "2    1\n",
       "3    1\n",
       "4    0\n",
       "5    0\n",
       "Name: Survived, dtype: int64"
      ]
     },
     "execution_count": 136,
     "metadata": {},
     "output_type": "execute_result"
    }
   ],
   "source": [
    "y\n",
    "# if y is a DataFrame, we will see the warning when fitting phase as follows\n",
    "# .../sklearn/utils/validation.py:985: DataConversionWarning: A column-vector y was passed when a 1d array was expected. Please change the shape of y to (n_samples, ), for example using ravel().\n",
    "# y = column_or_1d(y, warn=True)"
   ]
  },
  {
   "cell_type": "code",
   "execution_count": 137,
   "id": "77398dc3",
   "metadata": {
    "ExecuteTime": {
     "end_time": "2021-10-17T18:27:30.509944Z",
     "start_time": "2021-10-17T18:27:30.496330Z"
    }
   },
   "outputs": [],
   "source": [
    "from sklearn.impute import SimpleImputer\n",
    "from sklearn.linear_model import LogisticRegression\n",
    "from sklearn.pipeline import make_pipeline"
   ]
  },
  {
   "cell_type": "code",
   "execution_count": 138,
   "id": "81e37205",
   "metadata": {
    "ExecuteTime": {
     "end_time": "2021-10-17T18:27:30.549740Z",
     "start_time": "2021-10-17T18:27:30.509944Z"
    }
   },
   "outputs": [],
   "source": [
    "pipe = make_pipeline(\n",
    "    SimpleImputer(),\n",
    "    LogisticRegression()\n",
    ")"
   ]
  },
  {
   "cell_type": "code",
   "execution_count": 139,
   "id": "e4995398",
   "metadata": {
    "ExecuteTime": {
     "end_time": "2021-10-17T18:27:30.580776Z",
     "start_time": "2021-10-17T18:27:30.554477Z"
    }
   },
   "outputs": [
    {
     "data": {
      "text/plain": [
       "Pipeline(steps=[('simpleimputer', SimpleImputer()),\n",
       "                ('logisticregression', LogisticRegression())])"
      ]
     },
     "execution_count": 139,
     "metadata": {},
     "output_type": "execute_result"
    }
   ],
   "source": [
    "pipe.fit(X, y)"
   ]
  },
  {
   "cell_type": "markdown",
   "id": "c952e8eb",
   "metadata": {},
   "source": [
    "### Step in pipeline"
   ]
  },
  {
   "cell_type": "code",
   "execution_count": 140,
   "id": "fac5c5a7",
   "metadata": {
    "ExecuteTime": {
     "end_time": "2021-10-17T18:27:30.623313Z",
     "start_time": "2021-10-17T18:27:30.580776Z"
    }
   },
   "outputs": [
    {
     "data": {
      "text/plain": [
       "{'simpleimputer': SimpleImputer(), 'logisticregression': LogisticRegression()}"
      ]
     },
     "execution_count": 140,
     "metadata": {},
     "output_type": "execute_result"
    }
   ],
   "source": [
    "pipe.named_steps"
   ]
  },
  {
   "cell_type": "markdown",
   "id": "2f60ab31",
   "metadata": {},
   "source": [
    "### Values of imputation and model coefficients"
   ]
  },
  {
   "cell_type": "code",
   "execution_count": 141,
   "id": "65814053",
   "metadata": {
    "ExecuteTime": {
     "end_time": "2021-10-17T18:27:30.648947Z",
     "start_time": "2021-10-17T18:27:30.623313Z"
    }
   },
   "outputs": [
    {
     "data": {
      "text/plain": [
       "array([31.2       ,  2.33333333])"
      ]
     },
     "execution_count": 141,
     "metadata": {},
     "output_type": "execute_result"
    }
   ],
   "source": [
    "pipe.named_steps.simpleimputer.statistics_"
   ]
  },
  {
   "cell_type": "code",
   "execution_count": 142,
   "id": "c529b3e0",
   "metadata": {
    "ExecuteTime": {
     "end_time": "2021-10-17T18:27:30.664569Z",
     "start_time": "2021-10-17T18:27:30.648947Z"
    },
    "cell_style": "split"
   },
   "outputs": [
    {
     "data": {
      "text/plain": [
       "[('Age', 31.2), ('Pclass', 2.3333333333333335)]"
      ]
     },
     "execution_count": 142,
     "metadata": {},
     "output_type": "execute_result"
    }
   ],
   "source": [
    "list(zip(X.columns, pipe.named_steps.simpleimputer.statistics_.tolist()))"
   ]
  },
  {
   "cell_type": "code",
   "execution_count": 143,
   "id": "6faed4b2",
   "metadata": {
    "ExecuteTime": {
     "end_time": "2021-10-17T18:27:30.711432Z",
     "start_time": "2021-10-17T18:27:30.680190Z"
    }
   },
   "outputs": [
    {
     "data": {
      "text/plain": [
       "array([[ 0.03232238, -0.83741131]])"
      ]
     },
     "execution_count": 143,
     "metadata": {},
     "output_type": "execute_result"
    }
   ],
   "source": [
    "pipe.named_steps.logisticregression.coef_"
   ]
  },
  {
   "cell_type": "code",
   "execution_count": 144,
   "id": "a4be1bba",
   "metadata": {
    "ExecuteTime": {
     "end_time": "2021-10-17T18:27:30.742675Z",
     "start_time": "2021-10-17T18:27:30.711432Z"
    }
   },
   "outputs": [
    {
     "data": {
      "text/plain": [
       "[('Age', 0.03232237651702789), ('Pclass', -0.8374113057215837)]"
      ]
     },
     "execution_count": 144,
     "metadata": {},
     "output_type": "execute_result"
    }
   ],
   "source": [
    "list(zip(X.columns, pipe.named_steps.logisticregression.coef_[0].tolist()))"
   ]
  },
  {
   "cell_type": "markdown",
   "id": "749218d2",
   "metadata": {},
   "source": [
    "## Use the correct methods for each type of Pipeline\n",
    "\n",
    "Did you know that there are two types of [Pipelines](https://scikit-learn.org/stable/modules/compose.html#pipeline-chaining-estimators)?\n",
    "\n",
    "The Pipeline type determines which methods you can use with it, and what those methods actually do.\n",
    "\n",
    "Additional links: [fit_transform](https://scikit-learn.org/stable/glossary.html#term-fit_transform), [transform](https://scikit-learn.org/stable/glossary.html#term-transform)\n",
    "\n",
    "### Last step of Pipeline is classifier / regressor --> fit & predict\n",
    "+ **pipe.fit()** : All steps before the final one run **fit_transform()**, and then trains based on **fit()**\n",
    "+ **pipe.predict()** : All steps before the final one run **transform()**, and then runs **predict()**\n",
    "\n",
    "### Last step of Pipeline is a transformer --> fit_transform & transform\n",
    "+ **pipe.fit_transform()** : All steps run **fit_transorform()**\n",
    "+ **pipe.transform()** : All steps run **transform()**"
   ]
  },
  {
   "cell_type": "markdown",
   "id": "7696c6ef",
   "metadata": {},
   "source": [
    "## Save a model of Pipeline using joblib\n",
    "\n",
    "Want to [save a model](https://scikit-learn.org/stable/modules/model_persistence.html) (or pipeline) for later use? Use joblib!\n",
    "\n",
    "Warning: You must load it into an identical environment, and only load objects you trust 😇\n",
    "\n",
    "Additional links: [pickle](https://docs.python.org/3/library/pickle.html)"
   ]
  },
  {
   "cell_type": "code",
   "execution_count": 145,
   "id": "472fec92",
   "metadata": {
    "ExecuteTime": {
     "end_time": "2021-10-17T18:27:30.775429Z",
     "start_time": "2021-10-17T18:27:30.759808Z"
    }
   },
   "outputs": [],
   "source": [
    "import os \n",
    "\n",
    "file_input_path = \"titanic_train.csv\"\n",
    "if not os.path.exists(file_input_path):\n",
    "    df_train = pd.read_csv(\"http://bit.ly/kaggletrain\")\n",
    "    df_train.to_csv(file_input_path, header=True, index=False, sep=\"\\t\")\n",
    "else:\n",
    "    df_train = pd.read_csv(file_input_path, header=0, sep=\"\\t\")"
   ]
  },
  {
   "cell_type": "code",
   "execution_count": 146,
   "id": "94a858b4",
   "metadata": {
    "ExecuteTime": {
     "end_time": "2021-10-17T18:27:30.791051Z",
     "start_time": "2021-10-17T18:27:30.775429Z"
    }
   },
   "outputs": [],
   "source": [
    "file_input_path = \"titanic_test.csv\"\n",
    "if not os.path.exists(file_input_path):\n",
    "    df_test = pd.read_csv(\"http://bit.ly/kaggletest\")\n",
    "    df_test.to_csv(file_input_path, header=True, index=False, sep=\"\\t\")\n",
    "else:\n",
    "    df_test = pd.read_csv(file_input_path, header=0, sep=\"\\t\")"
   ]
  },
  {
   "cell_type": "code",
   "execution_count": 147,
   "id": "e750cf0b",
   "metadata": {
    "ExecuteTime": {
     "end_time": "2021-10-17T18:27:30.806673Z",
     "start_time": "2021-10-17T18:27:30.791051Z"
    }
   },
   "outputs": [],
   "source": [
    "cols = ['Embarked', 'Sex']"
   ]
  },
  {
   "cell_type": "code",
   "execution_count": 148,
   "id": "7dd6cd34",
   "metadata": {
    "ExecuteTime": {
     "end_time": "2021-10-17T18:27:30.875172Z",
     "start_time": "2021-10-17T18:27:30.806673Z"
    }
   },
   "outputs": [],
   "source": [
    "X, y = df_train[cols], df_train[\"Survived\"]"
   ]
  },
  {
   "cell_type": "code",
   "execution_count": 149,
   "id": "09a19f69",
   "metadata": {
    "ExecuteTime": {
     "end_time": "2021-10-17T18:27:30.890792Z",
     "start_time": "2021-10-17T18:27:30.875172Z"
    }
   },
   "outputs": [],
   "source": [
    "from sklearn.preprocessing import OneHotEncoder\n",
    "from sklearn.linear_model import LogisticRegression\n",
    "from sklearn.pipeline import make_pipeline"
   ]
  },
  {
   "cell_type": "code",
   "execution_count": 150,
   "id": "22876c91",
   "metadata": {
    "ExecuteTime": {
     "end_time": "2021-10-17T18:27:30.937662Z",
     "start_time": "2021-10-17T18:27:30.890792Z"
    }
   },
   "outputs": [],
   "source": [
    "pipe = make_pipeline(\n",
    "    OneHotEncoder(),\n",
    "    LogisticRegression(solver=\"liblinear\", random_state=1)\n",
    ")"
   ]
  },
  {
   "cell_type": "code",
   "execution_count": 151,
   "id": "9807c9de",
   "metadata": {
    "ExecuteTime": {
     "end_time": "2021-10-17T18:27:30.953278Z",
     "start_time": "2021-10-17T18:27:30.937662Z"
    }
   },
   "outputs": [
    {
     "data": {
      "text/plain": [
       "Pipeline(steps=[('onehotencoder', OneHotEncoder()),\n",
       "                ('logisticregression',\n",
       "                 LogisticRegression(random_state=1, solver='liblinear'))])"
      ]
     },
     "execution_count": 151,
     "metadata": {},
     "output_type": "execute_result"
    }
   ],
   "source": [
    "pipe.fit(X, y)"
   ]
  },
  {
   "cell_type": "code",
   "execution_count": 152,
   "id": "70727ec2",
   "metadata": {
    "ExecuteTime": {
     "end_time": "2021-10-17T18:27:30.975409Z",
     "start_time": "2021-10-17T18:27:30.959784Z"
    }
   },
   "outputs": [
    {
     "data": {
      "text/plain": [
       "array([0, 1, 0, 0, 1, 0, 1, 0, 1, 0], dtype=int64)"
      ]
     },
     "execution_count": 152,
     "metadata": {},
     "output_type": "execute_result"
    }
   ],
   "source": [
    "pipe.predict(df_test[cols][:10])"
   ]
  },
  {
   "cell_type": "markdown",
   "id": "032c170e",
   "metadata": {},
   "source": [
    "### Save a model pipeline"
   ]
  },
  {
   "cell_type": "code",
   "execution_count": 153,
   "id": "764292f2",
   "metadata": {
    "ExecuteTime": {
     "end_time": "2021-10-17T18:27:31.022273Z",
     "start_time": "2021-10-17T18:27:30.975409Z"
    }
   },
   "outputs": [
    {
     "data": {
      "text/plain": [
       "['pipe4-5.joblib']"
      ]
     },
     "execution_count": 153,
     "metadata": {},
     "output_type": "execute_result"
    }
   ],
   "source": [
    "import joblib\n",
    "model_path = \"pipe4-5.joblib\"\n",
    "joblib.dump(pipe, model_path)"
   ]
  },
  {
   "cell_type": "markdown",
   "id": "f0dcc457",
   "metadata": {},
   "source": [
    "### Load model pipeline"
   ]
  },
  {
   "cell_type": "code",
   "execution_count": 154,
   "id": "891d4a73",
   "metadata": {
    "ExecuteTime": {
     "end_time": "2021-10-17T18:27:31.053516Z",
     "start_time": "2021-10-17T18:27:31.022273Z"
    }
   },
   "outputs": [],
   "source": [
    "loaded_pipe = joblib.load(model_path)"
   ]
  },
  {
   "cell_type": "code",
   "execution_count": 155,
   "id": "be90d9b0",
   "metadata": {
    "ExecuteTime": {
     "end_time": "2021-10-17T18:27:31.071505Z",
     "start_time": "2021-10-17T18:27:31.053516Z"
    }
   },
   "outputs": [
    {
     "data": {
      "text/plain": [
       "array([0, 1, 0, 0, 1, 0, 1, 0, 1, 0], dtype=int64)"
      ]
     },
     "execution_count": 155,
     "metadata": {},
     "output_type": "execute_result"
    }
   ],
   "source": [
    "loaded_pipe.predict(df_test[cols][:10])"
   ]
  },
  {
   "cell_type": "markdown",
   "id": "0781fcef",
   "metadata": {},
   "source": [
    "### Save and load based on pickle\n"
   ]
  },
  {
   "cell_type": "code",
   "execution_count": 156,
   "id": "e6892b3f",
   "metadata": {
    "ExecuteTime": {
     "end_time": "2021-10-17T18:27:31.115132Z",
     "start_time": "2021-10-17T18:27:31.073524Z"
    }
   },
   "outputs": [],
   "source": [
    "model_pkl_path = \"pipe4-5.pkl\"\n",
    "\n",
    "import pickle\n",
    "with open(model_pkl_path, \"wb\") as f:\n",
    "    pickle.dump(pipe, f)\n",
    "\n",
    "# Load model\n",
    "with open(model_pkl_path, \"rb\") as f:\n",
    "    loaded_pipe_pkl = pickle.load(f)"
   ]
  },
  {
   "cell_type": "code",
   "execution_count": 157,
   "id": "57f31c4b",
   "metadata": {
    "ExecuteTime": {
     "end_time": "2021-10-17T18:27:31.130303Z",
     "start_time": "2021-10-17T18:27:31.117154Z"
    }
   },
   "outputs": [
    {
     "data": {
      "text/plain": [
       "array([0, 1, 0, 0, 1, 0, 1, 0, 1, 0], dtype=int64)"
      ]
     },
     "execution_count": 157,
     "metadata": {},
     "output_type": "execute_result"
    }
   ],
   "source": [
    "loaded_pipe_pkl.predict(df_test[cols][:10])"
   ]
  },
  {
   "cell_type": "markdown",
   "id": "419dbced",
   "metadata": {},
   "source": [
    "## Four ways to examine the steps of a Pipeline\n",
    "\n",
    "There are FOUR ways to examine the steps of a [Pipeline](https://scikit-learn.org/stable/modules/compose.html#pipeline-chaining-estimators)!\n",
    "\n",
    "(I prefer method 1 since you can autocomplete the step & parameter names... but method 4 is SO short!)"
   ]
  },
  {
   "cell_type": "code",
   "execution_count": 158,
   "id": "e2fddff2",
   "metadata": {
    "ExecuteTime": {
     "end_time": "2021-10-17T18:27:31.180133Z",
     "start_time": "2021-10-17T18:27:31.138312Z"
    }
   },
   "outputs": [],
   "source": [
    "from sklearn.preprocessing import OneHotEncoder\n",
    "from sklearn.linear_model import LogisticRegression\n",
    "from sklearn.pipeline import Pipeline"
   ]
  },
  {
   "cell_type": "code",
   "execution_count": 159,
   "id": "383ae292",
   "metadata": {
    "ExecuteTime": {
     "end_time": "2021-10-17T18:27:31.207054Z",
     "start_time": "2021-10-17T18:27:31.190183Z"
    }
   },
   "outputs": [],
   "source": [
    "pipe = Pipeline(\n",
    "    steps=[\n",
    "        (\"ohe\", OneHotEncoder()),\n",
    "        (\"clf\", LogisticRegression())\n",
    "    ]\n",
    ")"
   ]
  },
  {
   "cell_type": "code",
   "execution_count": 160,
   "id": "929105d5",
   "metadata": {
    "ExecuteTime": {
     "end_time": "2021-10-17T18:27:31.252015Z",
     "start_time": "2021-10-17T18:27:31.209078Z"
    }
   },
   "outputs": [
    {
     "data": {
      "text/plain": [
       "Pipeline(steps=[('ohe', OneHotEncoder()), ('clf', LogisticRegression())])"
      ]
     },
     "execution_count": 160,
     "metadata": {},
     "output_type": "execute_result"
    }
   ],
   "source": [
    "pipe.fit(X, y)"
   ]
  },
  {
   "cell_type": "markdown",
   "id": "99108ea7",
   "metadata": {},
   "source": [
    "### Four ways to illustrate the coefficients"
   ]
  },
  {
   "cell_type": "code",
   "execution_count": 161,
   "id": "7c070bec",
   "metadata": {
    "ExecuteTime": {
     "end_time": "2021-10-17T18:27:31.270130Z",
     "start_time": "2021-10-17T18:27:31.254037Z"
    }
   },
   "outputs": [
    {
     "data": {
      "text/plain": [
       "array([[ 0.50148245, -0.49193018, -0.35190112,  0.3419172 ,  1.24440439,\n",
       "        -1.24483605]])"
      ]
     },
     "execution_count": 161,
     "metadata": {},
     "output_type": "execute_result"
    }
   ],
   "source": [
    "pipe.named_steps.clf.coef_"
   ]
  },
  {
   "cell_type": "code",
   "execution_count": 162,
   "id": "27ef977e",
   "metadata": {
    "ExecuteTime": {
     "end_time": "2021-10-17T18:27:31.290954Z",
     "start_time": "2021-10-17T18:27:31.270130Z"
    }
   },
   "outputs": [
    {
     "data": {
      "text/plain": [
       "array([[ 0.50148245, -0.49193018, -0.35190112,  0.3419172 ,  1.24440439,\n",
       "        -1.24483605]])"
      ]
     },
     "execution_count": 162,
     "metadata": {},
     "output_type": "execute_result"
    }
   ],
   "source": [
    "pipe.named_steps[\"clf\"].coef_"
   ]
  },
  {
   "cell_type": "code",
   "execution_count": 163,
   "id": "5f3601f3",
   "metadata": {
    "ExecuteTime": {
     "end_time": "2021-10-17T18:27:31.309624Z",
     "start_time": "2021-10-17T18:27:31.293579Z"
    }
   },
   "outputs": [
    {
     "data": {
      "text/plain": [
       "array([[ 0.50148245, -0.49193018, -0.35190112,  0.3419172 ,  1.24440439,\n",
       "        -1.24483605]])"
      ]
     },
     "execution_count": 163,
     "metadata": {},
     "output_type": "execute_result"
    }
   ],
   "source": [
    "pipe[\"clf\"].coef_"
   ]
  },
  {
   "cell_type": "code",
   "execution_count": 164,
   "id": "ddb3e0b8",
   "metadata": {
    "ExecuteTime": {
     "end_time": "2021-10-17T18:27:31.350549Z",
     "start_time": "2021-10-17T18:27:31.319363Z"
    }
   },
   "outputs": [
    {
     "data": {
      "text/plain": [
       "array([[ 0.50148245, -0.49193018, -0.35190112,  0.3419172 ,  1.24440439,\n",
       "        -1.24483605]])"
      ]
     },
     "execution_count": 164,
     "metadata": {},
     "output_type": "execute_result"
    }
   ],
   "source": [
    "pipe[1].coef_"
   ]
  },
  {
   "cell_type": "markdown",
   "id": "2e1d24e4",
   "metadata": {},
   "source": [
    "### Name of steps"
   ]
  },
  {
   "cell_type": "code",
   "execution_count": 165,
   "id": "63fb758c",
   "metadata": {
    "ExecuteTime": {
     "end_time": "2021-10-17T18:27:31.386528Z",
     "start_time": "2021-10-17T18:27:31.374097Z"
    }
   },
   "outputs": [
    {
     "data": {
      "text/plain": [
       "sklearn.utils.Bunch"
      ]
     },
     "execution_count": 165,
     "metadata": {},
     "output_type": "execute_result"
    }
   ],
   "source": [
    "type(pipe.named_steps)"
   ]
  },
  {
   "cell_type": "code",
   "execution_count": 166,
   "id": "61eb4e9d",
   "metadata": {
    "ExecuteTime": {
     "end_time": "2021-10-17T18:27:31.425388Z",
     "start_time": "2021-10-17T18:27:31.401761Z"
    }
   },
   "outputs": [
    {
     "data": {
      "text/plain": [
       "['ohe', 'clf']"
      ]
     },
     "execution_count": 166,
     "metadata": {},
     "output_type": "execute_result"
    }
   ],
   "source": [
    "list(pipe.named_steps.keys())"
   ]
  },
  {
   "cell_type": "markdown",
   "id": "13e979f2",
   "metadata": {},
   "source": [
    "## Add feature selection to Pipeline\n",
    "\n",
    "It's simple to add [feature selection](https://scikit-learn.org/stable/modules/feature_selection.html) to a Pipeline:\n",
    "+ Use [SelectPercentile](https://scikit-learn.org/stable/modules/generated/sklearn.feature_selection.SelectPercentile.html) to keep the highest scoring features\n",
    "+ Add feature selection after preprocessing but before model building\n",
    "\n",
    "P.S. Make sure to tune the percentile value!\n",
    "\n",
    "Additional links: [chi2](https://scikit-learn.org/stable/modules/generated/sklearn.feature_selection.chi2.html)"
   ]
  },
  {
   "cell_type": "code",
   "execution_count": 167,
   "id": "daab3dd3",
   "metadata": {
    "ExecuteTime": {
     "end_time": "2021-10-17T18:27:31.460096Z",
     "start_time": "2021-10-17T18:27:31.427396Z"
    }
   },
   "outputs": [],
   "source": [
    "import os \n",
    "\n",
    "file_input_path = \"titanic_train.csv\"\n",
    "if not os.path.exists(file_input_path):\n",
    "    df_train = pd.read_csv(\"http://bit.ly/kaggletrain\")\n",
    "    df_train.to_csv(file_input_path, header=True, index=False, sep=\"\\t\")\n",
    "else:\n",
    "    df_train = pd.read_csv(file_input_path, header=0, sep=\"\\t\")"
   ]
  },
  {
   "cell_type": "code",
   "execution_count": 168,
   "id": "b67ab205",
   "metadata": {
    "ExecuteTime": {
     "end_time": "2021-10-17T18:27:31.488535Z",
     "start_time": "2021-10-17T18:27:31.462120Z"
    }
   },
   "outputs": [],
   "source": [
    "X = df['Name']\n",
    "y = df['Survived']"
   ]
  },
  {
   "cell_type": "code",
   "execution_count": 169,
   "id": "10f30bff",
   "metadata": {
    "ExecuteTime": {
     "end_time": "2021-10-17T18:27:31.544052Z",
     "start_time": "2021-10-17T18:27:31.494828Z"
    }
   },
   "outputs": [],
   "source": [
    "from sklearn.pipeline import make_pipeline\n",
    "from sklearn.feature_extraction.text import CountVectorizer\n",
    "from sklearn.linear_model import LogisticRegression\n",
    "from sklearn.model_selection import cross_val_score"
   ]
  },
  {
   "cell_type": "markdown",
   "id": "f226e283",
   "metadata": {},
   "source": [
    "### Not using Feature Selection"
   ]
  },
  {
   "cell_type": "code",
   "execution_count": 170,
   "id": "614319dc",
   "metadata": {
    "ExecuteTime": {
     "end_time": "2021-10-17T18:27:32.096086Z",
     "start_time": "2021-10-17T18:27:32.075415Z"
    }
   },
   "outputs": [],
   "source": [
    "pipe = make_pipeline(\n",
    "    CountVectorizer(),\n",
    "    LogisticRegression()\n",
    ")"
   ]
  },
  {
   "cell_type": "code",
   "execution_count": 171,
   "id": "b4798d10",
   "metadata": {
    "ExecuteTime": {
     "end_time": "2021-10-17T18:27:32.236646Z",
     "start_time": "2021-10-17T18:27:32.097594Z"
    }
   },
   "outputs": [
    {
     "data": {
      "text/plain": [
       "0.7957190383528967"
      ]
     },
     "execution_count": 171,
     "metadata": {},
     "output_type": "execute_result"
    }
   ],
   "source": [
    "cross_val_score(pipe, X, y, scoring='accuracy').mean()"
   ]
  },
  {
   "cell_type": "markdown",
   "id": "a6f4e1e5",
   "metadata": {},
   "source": [
    "### Using Feature Selection"
   ]
  },
  {
   "cell_type": "code",
   "execution_count": 172,
   "id": "c58af82c",
   "metadata": {
    "ExecuteTime": {
     "end_time": "2021-10-17T18:27:32.722436Z",
     "start_time": "2021-10-17T18:27:32.684681Z"
    }
   },
   "outputs": [],
   "source": [
    "from sklearn.feature_selection import chi2, SelectPercentile"
   ]
  },
  {
   "cell_type": "code",
   "execution_count": 173,
   "id": "8f62610d",
   "metadata": {
    "ExecuteTime": {
     "end_time": "2021-10-17T18:27:32.753648Z",
     "start_time": "2021-10-17T18:27:32.738028Z"
    }
   },
   "outputs": [],
   "source": [
    "pipe = make_pipeline(\n",
    "    CountVectorizer(),\n",
    "    SelectPercentile(score_func=chi2, percentile=50),\n",
    "    LogisticRegression()\n",
    ")"
   ]
  },
  {
   "cell_type": "code",
   "execution_count": 174,
   "id": "67bc6c44",
   "metadata": {
    "ExecuteTime": {
     "end_time": "2021-10-17T18:27:32.938568Z",
     "start_time": "2021-10-17T18:27:32.753648Z"
    }
   },
   "outputs": [
    {
     "data": {
      "text/plain": [
       "0.8147824995292197"
      ]
     },
     "execution_count": 174,
     "metadata": {},
     "output_type": "execute_result"
    }
   ],
   "source": [
    "cross_val_score(pipe, X, y, scoring=\"accuracy\").mean()"
   ]
  },
  {
   "cell_type": "markdown",
   "id": "0caacecd",
   "metadata": {},
   "source": [
    "## Create an interactive diagram of Pipeline\n",
    "\n",
    "New in version 0.23: Create [interactive diagrams](https://scikit-learn.org/stable/auto_examples/release_highlights/plot_release_highlights_0_23_0.html#rich-visual-representation-of-estimators) of Pipelines (and other estimators) in Jupyter!\n",
    "\n",
    "Click on any element to see more details. You can even export the diagram to an HTML file!\n",
    "\n",
    "Additional links: [set_config](https://scikit-learn.org/stable/modules/generated/sklearn.set_config.html)"
   ]
  },
  {
   "cell_type": "markdown",
   "id": "2c6c81f4",
   "metadata": {},
   "source": [
    "### Sample Codes 1"
   ]
  },
  {
   "cell_type": "code",
   "execution_count": 175,
   "id": "7b0f263a",
   "metadata": {
    "ExecuteTime": {
     "end_time": "2021-10-17T18:27:33.979158Z",
     "start_time": "2021-10-17T18:27:33.963533Z"
    }
   },
   "outputs": [],
   "source": [
    "from sklearn import set_config\n",
    "set_config(display='diagram')"
   ]
  },
  {
   "cell_type": "code",
   "execution_count": 176,
   "id": "c2d0c8b1",
   "metadata": {
    "ExecuteTime": {
     "end_time": "2021-10-17T18:27:34.026051Z",
     "start_time": "2021-10-17T18:27:33.994779Z"
    }
   },
   "outputs": [],
   "source": [
    "from sklearn.pipeline import make_pipeline\n",
    "from sklearn.preprocessing import OneHotEncoder, StandardScaler\n",
    "from sklearn.impute import SimpleImputer\n",
    "from sklearn.compose import make_column_transformer\n",
    "from sklearn.linear_model import LogisticRegression"
   ]
  },
  {
   "cell_type": "code",
   "execution_count": 177,
   "id": "1f42e8bd",
   "metadata": {
    "ExecuteTime": {
     "end_time": "2021-10-17T18:27:34.110669Z",
     "start_time": "2021-10-17T18:27:34.026051Z"
    }
   },
   "outputs": [
    {
     "data": {
      "text/html": [
       "<style>#sk-3f0d388b-50b0-4c10-b3fb-6ae14843cf50 {color: black;background-color: white;}#sk-3f0d388b-50b0-4c10-b3fb-6ae14843cf50 pre{padding: 0;}#sk-3f0d388b-50b0-4c10-b3fb-6ae14843cf50 div.sk-toggleable {background-color: white;}#sk-3f0d388b-50b0-4c10-b3fb-6ae14843cf50 label.sk-toggleable__label {cursor: pointer;display: block;width: 100%;margin-bottom: 0;padding: 0.3em;box-sizing: border-box;text-align: center;}#sk-3f0d388b-50b0-4c10-b3fb-6ae14843cf50 div.sk-toggleable__content {max-height: 0;max-width: 0;overflow: hidden;text-align: left;background-color: #f0f8ff;}#sk-3f0d388b-50b0-4c10-b3fb-6ae14843cf50 div.sk-toggleable__content pre {margin: 0.2em;color: black;border-radius: 0.25em;background-color: #f0f8ff;}#sk-3f0d388b-50b0-4c10-b3fb-6ae14843cf50 input.sk-toggleable__control:checked~div.sk-toggleable__content {max-height: 200px;max-width: 100%;overflow: auto;}#sk-3f0d388b-50b0-4c10-b3fb-6ae14843cf50 div.sk-estimator input.sk-toggleable__control:checked~label.sk-toggleable__label {background-color: #d4ebff;}#sk-3f0d388b-50b0-4c10-b3fb-6ae14843cf50 div.sk-label input.sk-toggleable__control:checked~label.sk-toggleable__label {background-color: #d4ebff;}#sk-3f0d388b-50b0-4c10-b3fb-6ae14843cf50 input.sk-hidden--visually {border: 0;clip: rect(1px 1px 1px 1px);clip: rect(1px, 1px, 1px, 1px);height: 1px;margin: -1px;overflow: hidden;padding: 0;position: absolute;width: 1px;}#sk-3f0d388b-50b0-4c10-b3fb-6ae14843cf50 div.sk-estimator {font-family: monospace;background-color: #f0f8ff;border: 1px dotted black;border-radius: 0.25em;box-sizing: border-box;margin-bottom: 0.5em;}#sk-3f0d388b-50b0-4c10-b3fb-6ae14843cf50 div.sk-estimator:hover {background-color: #d4ebff;}#sk-3f0d388b-50b0-4c10-b3fb-6ae14843cf50 div.sk-parallel-item::after {content: \"\";width: 100%;border-bottom: 1px solid gray;flex-grow: 1;}#sk-3f0d388b-50b0-4c10-b3fb-6ae14843cf50 div.sk-label:hover label.sk-toggleable__label {background-color: #d4ebff;}#sk-3f0d388b-50b0-4c10-b3fb-6ae14843cf50 div.sk-serial::before {content: \"\";position: absolute;border-left: 1px solid gray;box-sizing: border-box;top: 2em;bottom: 0;left: 50%;}#sk-3f0d388b-50b0-4c10-b3fb-6ae14843cf50 div.sk-serial {display: flex;flex-direction: column;align-items: center;background-color: white;padding-right: 0.2em;padding-left: 0.2em;}#sk-3f0d388b-50b0-4c10-b3fb-6ae14843cf50 div.sk-item {z-index: 1;}#sk-3f0d388b-50b0-4c10-b3fb-6ae14843cf50 div.sk-parallel {display: flex;align-items: stretch;justify-content: center;background-color: white;}#sk-3f0d388b-50b0-4c10-b3fb-6ae14843cf50 div.sk-parallel::before {content: \"\";position: absolute;border-left: 1px solid gray;box-sizing: border-box;top: 2em;bottom: 0;left: 50%;}#sk-3f0d388b-50b0-4c10-b3fb-6ae14843cf50 div.sk-parallel-item {display: flex;flex-direction: column;position: relative;background-color: white;}#sk-3f0d388b-50b0-4c10-b3fb-6ae14843cf50 div.sk-parallel-item:first-child::after {align-self: flex-end;width: 50%;}#sk-3f0d388b-50b0-4c10-b3fb-6ae14843cf50 div.sk-parallel-item:last-child::after {align-self: flex-start;width: 50%;}#sk-3f0d388b-50b0-4c10-b3fb-6ae14843cf50 div.sk-parallel-item:only-child::after {width: 0;}#sk-3f0d388b-50b0-4c10-b3fb-6ae14843cf50 div.sk-dashed-wrapped {border: 1px dashed gray;margin: 0 0.4em 0.5em 0.4em;box-sizing: border-box;padding-bottom: 0.4em;background-color: white;position: relative;}#sk-3f0d388b-50b0-4c10-b3fb-6ae14843cf50 div.sk-label label {font-family: monospace;font-weight: bold;background-color: white;display: inline-block;line-height: 1.2em;}#sk-3f0d388b-50b0-4c10-b3fb-6ae14843cf50 div.sk-label-container {position: relative;z-index: 2;text-align: center;}#sk-3f0d388b-50b0-4c10-b3fb-6ae14843cf50 div.sk-container {display: inline-block;position: relative;}</style><div id=\"sk-3f0d388b-50b0-4c10-b3fb-6ae14843cf50\" class\"sk-top-container\"><div class=\"sk-container\"><div class=\"sk-item sk-dashed-wrapped\"><div class=\"sk-label-container\"><div class=\"sk-label sk-toggleable\"><input class=\"sk-toggleable__control sk-hidden--visually\" id=\"42747f03-928d-48ed-b9e0-f1fd529d9692\" type=\"checkbox\" ><label class=\"sk-toggleable__label\" for=\"42747f03-928d-48ed-b9e0-f1fd529d9692\">Pipeline</label><div class=\"sk-toggleable__content\"><pre>Pipeline(steps=[('columntransformer',\n",
       "                 ColumnTransformer(transformers=[('pipeline-1',\n",
       "                                                  Pipeline(steps=[('simpleimputer',\n",
       "                                                                   SimpleImputer(strategy='median')),\n",
       "                                                                  ('standardscaler',\n",
       "                                                                   StandardScaler())]),\n",
       "                                                  ('feat1', 'feat3')),\n",
       "                                                 ('pipeline-2',\n",
       "                                                  Pipeline(steps=[('simpleimputer',\n",
       "                                                                   SimpleImputer(fill_value='missing',\n",
       "                                                                                 strategy='constant')),\n",
       "                                                                  ('onehotencoder',\n",
       "                                                                   OneHotEncoder(handle_unknown='ignore'))]),\n",
       "                                                  ('feat0', 'feat2'))])),\n",
       "                ('logisticregression', LogisticRegression())])</pre></div></div></div><div class=\"sk-serial\"><div class=\"sk-item sk-dashed-wrapped\"><div class=\"sk-label-container\"><div class=\"sk-label sk-toggleable\"><input class=\"sk-toggleable__control sk-hidden--visually\" id=\"520c70d1-599d-4b40-92f1-7afa7f8f4e1e\" type=\"checkbox\" ><label class=\"sk-toggleable__label\" for=\"520c70d1-599d-4b40-92f1-7afa7f8f4e1e\">columntransformer: ColumnTransformer</label><div class=\"sk-toggleable__content\"><pre>ColumnTransformer(transformers=[('pipeline-1',\n",
       "                                 Pipeline(steps=[('simpleimputer',\n",
       "                                                  SimpleImputer(strategy='median')),\n",
       "                                                 ('standardscaler',\n",
       "                                                  StandardScaler())]),\n",
       "                                 ('feat1', 'feat3')),\n",
       "                                ('pipeline-2',\n",
       "                                 Pipeline(steps=[('simpleimputer',\n",
       "                                                  SimpleImputer(fill_value='missing',\n",
       "                                                                strategy='constant')),\n",
       "                                                 ('onehotencoder',\n",
       "                                                  OneHotEncoder(handle_unknown='ignore'))]),\n",
       "                                 ('feat0', 'feat2'))])</pre></div></div></div><div class=\"sk-parallel\"><div class=\"sk-parallel-item\"><div class=\"sk-item\"><div class=\"sk-label-container\"><div class=\"sk-label sk-toggleable\"><input class=\"sk-toggleable__control sk-hidden--visually\" id=\"e11b1955-2086-4404-a181-9a5e5b148376\" type=\"checkbox\" ><label class=\"sk-toggleable__label\" for=\"e11b1955-2086-4404-a181-9a5e5b148376\">pipeline-1</label><div class=\"sk-toggleable__content\"><pre>('feat1', 'feat3')</pre></div></div></div><div class=\"sk-serial\"><div class=\"sk-item\"><div class=\"sk-serial\"><div class=\"sk-item\"><div class=\"sk-estimator sk-toggleable\"><input class=\"sk-toggleable__control sk-hidden--visually\" id=\"c107190b-fdc7-4df2-af6d-e2e3a75daee9\" type=\"checkbox\" ><label class=\"sk-toggleable__label\" for=\"c107190b-fdc7-4df2-af6d-e2e3a75daee9\">SimpleImputer</label><div class=\"sk-toggleable__content\"><pre>SimpleImputer(strategy='median')</pre></div></div></div><div class=\"sk-item\"><div class=\"sk-estimator sk-toggleable\"><input class=\"sk-toggleable__control sk-hidden--visually\" id=\"66b05da6-04b9-4490-a447-853efd1b01e1\" type=\"checkbox\" ><label class=\"sk-toggleable__label\" for=\"66b05da6-04b9-4490-a447-853efd1b01e1\">StandardScaler</label><div class=\"sk-toggleable__content\"><pre>StandardScaler()</pre></div></div></div></div></div></div></div></div><div class=\"sk-parallel-item\"><div class=\"sk-item\"><div class=\"sk-label-container\"><div class=\"sk-label sk-toggleable\"><input class=\"sk-toggleable__control sk-hidden--visually\" id=\"463e3490-700b-4454-88fb-2adeaa2496b4\" type=\"checkbox\" ><label class=\"sk-toggleable__label\" for=\"463e3490-700b-4454-88fb-2adeaa2496b4\">pipeline-2</label><div class=\"sk-toggleable__content\"><pre>('feat0', 'feat2')</pre></div></div></div><div class=\"sk-serial\"><div class=\"sk-item\"><div class=\"sk-serial\"><div class=\"sk-item\"><div class=\"sk-estimator sk-toggleable\"><input class=\"sk-toggleable__control sk-hidden--visually\" id=\"b6803500-1399-4003-b8ca-098e8bad8421\" type=\"checkbox\" ><label class=\"sk-toggleable__label\" for=\"b6803500-1399-4003-b8ca-098e8bad8421\">SimpleImputer</label><div class=\"sk-toggleable__content\"><pre>SimpleImputer(fill_value='missing', strategy='constant')</pre></div></div></div><div class=\"sk-item\"><div class=\"sk-estimator sk-toggleable\"><input class=\"sk-toggleable__control sk-hidden--visually\" id=\"5da908ba-4877-46ff-987d-1f6eeaa2a473\" type=\"checkbox\" ><label class=\"sk-toggleable__label\" for=\"5da908ba-4877-46ff-987d-1f6eeaa2a473\">OneHotEncoder</label><div class=\"sk-toggleable__content\"><pre>OneHotEncoder(handle_unknown='ignore')</pre></div></div></div></div></div></div></div></div></div></div><div class=\"sk-item\"><div class=\"sk-estimator sk-toggleable\"><input class=\"sk-toggleable__control sk-hidden--visually\" id=\"a1f3a3ce-d81c-4713-8603-49b76f4c5939\" type=\"checkbox\" ><label class=\"sk-toggleable__label\" for=\"a1f3a3ce-d81c-4713-8603-49b76f4c5939\">LogisticRegression</label><div class=\"sk-toggleable__content\"><pre>LogisticRegression()</pre></div></div></div></div></div></div></div>"
      ],
      "text/plain": [
       "Pipeline(steps=[('columntransformer',\n",
       "                 ColumnTransformer(transformers=[('pipeline-1',\n",
       "                                                  Pipeline(steps=[('simpleimputer',\n",
       "                                                                   SimpleImputer(strategy='median')),\n",
       "                                                                  ('standardscaler',\n",
       "                                                                   StandardScaler())]),\n",
       "                                                  ('feat1', 'feat3')),\n",
       "                                                 ('pipeline-2',\n",
       "                                                  Pipeline(steps=[('simpleimputer',\n",
       "                                                                   SimpleImputer(fill_value='missing',\n",
       "                                                                                 strategy='constant')),\n",
       "                                                                  ('onehotencoder',\n",
       "                                                                   OneHotEncoder(handle_unknown='ignore'))]),\n",
       "                                                  ('feat0', 'feat2'))])),\n",
       "                ('logisticregression', LogisticRegression())])"
      ]
     },
     "execution_count": 177,
     "metadata": {},
     "output_type": "execute_result"
    }
   ],
   "source": [
    "num_proc = make_pipeline(SimpleImputer(strategy='median'), StandardScaler())\n",
    "\n",
    "cat_proc = make_pipeline(\n",
    "    SimpleImputer(strategy='constant', fill_value='missing'),\n",
    "    OneHotEncoder(handle_unknown='ignore'))\n",
    "\n",
    "preprocessor = make_column_transformer((num_proc, ('feat1', 'feat3')),\n",
    "                                       (cat_proc, ('feat0', 'feat2')))\n",
    "\n",
    "clf = make_pipeline(preprocessor, LogisticRegression())\n",
    "clf"
   ]
  },
  {
   "cell_type": "markdown",
   "id": "9cd0f194",
   "metadata": {},
   "source": [
    "### Sample Codes 2"
   ]
  },
  {
   "cell_type": "code",
   "execution_count": 178,
   "id": "a184364a",
   "metadata": {
    "ExecuteTime": {
     "end_time": "2021-10-17T18:27:34.727975Z",
     "start_time": "2021-10-17T18:27:34.696738Z"
    }
   },
   "outputs": [],
   "source": [
    "from sklearn.impute import SimpleImputer\n",
    "from sklearn.preprocessing import OneHotEncoder\n",
    "from sklearn.feature_extraction.text import CountVectorizer\n",
    "from sklearn.feature_selection import SelectPercentile, chi2\n",
    "from sklearn.linear_model import LogisticRegression\n",
    "from sklearn.compose import make_column_transformer\n",
    "from sklearn.pipeline import make_pipeline"
   ]
  },
  {
   "cell_type": "code",
   "execution_count": 179,
   "id": "b1d690f3",
   "metadata": {
    "ExecuteTime": {
     "end_time": "2021-10-17T18:27:34.759191Z",
     "start_time": "2021-10-17T18:27:34.743569Z"
    }
   },
   "outputs": [],
   "source": [
    "import os \n",
    "\n",
    "file_input_path = \"titanic_train.csv\"\n",
    "if not os.path.exists(file_input_path):\n",
    "    df_train = pd.read_csv(\"http://bit.ly/kaggletrain\")\n",
    "    df_train.to_csv(file_input_path, header=True, index=False, sep=\"\\t\")\n",
    "else:\n",
    "    df_train = pd.read_csv(file_input_path, header=0, sep=\"\\t\")"
   ]
  },
  {
   "cell_type": "code",
   "execution_count": 180,
   "id": "1f21807f",
   "metadata": {
    "ExecuteTime": {
     "end_time": "2021-10-17T18:27:34.812566Z",
     "start_time": "2021-10-17T18:27:34.765697Z"
    }
   },
   "outputs": [],
   "source": [
    "X = df_train[['Parch', 'Fare', 'Embarked', 'Sex', 'Name', 'Age']]\n",
    "y = df_train['Survived']"
   ]
  },
  {
   "cell_type": "code",
   "execution_count": 181,
   "id": "d84b6d16",
   "metadata": {
    "ExecuteTime": {
     "end_time": "2021-10-17T18:27:34.843809Z",
     "start_time": "2021-10-17T18:27:34.812566Z"
    }
   },
   "outputs": [],
   "source": [
    "imp_ohe = make_pipeline(\n",
    "    SimpleImputer(strategy=\"constant\"),\n",
    "    OneHotEncoder()\n",
    ")\n",
    "vect = CountVectorizer()\n",
    "imp = SimpleImputer()"
   ]
  },
  {
   "cell_type": "code",
   "execution_count": 182,
   "id": "e487b0c4",
   "metadata": {
    "ExecuteTime": {
     "end_time": "2021-10-17T18:27:34.882063Z",
     "start_time": "2021-10-17T18:27:34.859430Z"
    }
   },
   "outputs": [],
   "source": [
    "# pipeline step 1\n",
    "ct = make_column_transformer(\n",
    "    (imp_ohe, ['Embarked', 'Sex']),\n",
    "    (vect, 'Name'),\n",
    "    (imp, ['Age', 'Fare']),\n",
    "    ('passthrough', ['Parch'])\n",
    ")"
   ]
  },
  {
   "cell_type": "code",
   "execution_count": 183,
   "id": "49b175dc",
   "metadata": {
    "ExecuteTime": {
     "end_time": "2021-10-17T18:27:34.913306Z",
     "start_time": "2021-10-17T18:27:34.882063Z"
    }
   },
   "outputs": [],
   "source": [
    "# pipeline step 2\n",
    "selection = SelectPercentile(score_func=chi2, percentile=50)"
   ]
  },
  {
   "cell_type": "code",
   "execution_count": 184,
   "id": "c75f05ef",
   "metadata": {
    "ExecuteTime": {
     "end_time": "2021-10-17T18:27:34.928927Z",
     "start_time": "2021-10-17T18:27:34.913306Z"
    }
   },
   "outputs": [],
   "source": [
    "# pipeline step 3\n",
    "clf = LogisticRegression(solver='liblinear')"
   ]
  },
  {
   "cell_type": "code",
   "execution_count": 185,
   "id": "a43e7c1d",
   "metadata": {
    "ExecuteTime": {
     "end_time": "2021-10-17T18:27:34.998926Z",
     "start_time": "2021-10-17T18:27:34.928927Z"
    }
   },
   "outputs": [
    {
     "data": {
      "text/html": [
       "<style>#sk-cc028891-5c05-4d8d-a9b1-66592129c795 {color: black;background-color: white;}#sk-cc028891-5c05-4d8d-a9b1-66592129c795 pre{padding: 0;}#sk-cc028891-5c05-4d8d-a9b1-66592129c795 div.sk-toggleable {background-color: white;}#sk-cc028891-5c05-4d8d-a9b1-66592129c795 label.sk-toggleable__label {cursor: pointer;display: block;width: 100%;margin-bottom: 0;padding: 0.3em;box-sizing: border-box;text-align: center;}#sk-cc028891-5c05-4d8d-a9b1-66592129c795 div.sk-toggleable__content {max-height: 0;max-width: 0;overflow: hidden;text-align: left;background-color: #f0f8ff;}#sk-cc028891-5c05-4d8d-a9b1-66592129c795 div.sk-toggleable__content pre {margin: 0.2em;color: black;border-radius: 0.25em;background-color: #f0f8ff;}#sk-cc028891-5c05-4d8d-a9b1-66592129c795 input.sk-toggleable__control:checked~div.sk-toggleable__content {max-height: 200px;max-width: 100%;overflow: auto;}#sk-cc028891-5c05-4d8d-a9b1-66592129c795 div.sk-estimator input.sk-toggleable__control:checked~label.sk-toggleable__label {background-color: #d4ebff;}#sk-cc028891-5c05-4d8d-a9b1-66592129c795 div.sk-label input.sk-toggleable__control:checked~label.sk-toggleable__label {background-color: #d4ebff;}#sk-cc028891-5c05-4d8d-a9b1-66592129c795 input.sk-hidden--visually {border: 0;clip: rect(1px 1px 1px 1px);clip: rect(1px, 1px, 1px, 1px);height: 1px;margin: -1px;overflow: hidden;padding: 0;position: absolute;width: 1px;}#sk-cc028891-5c05-4d8d-a9b1-66592129c795 div.sk-estimator {font-family: monospace;background-color: #f0f8ff;border: 1px dotted black;border-radius: 0.25em;box-sizing: border-box;margin-bottom: 0.5em;}#sk-cc028891-5c05-4d8d-a9b1-66592129c795 div.sk-estimator:hover {background-color: #d4ebff;}#sk-cc028891-5c05-4d8d-a9b1-66592129c795 div.sk-parallel-item::after {content: \"\";width: 100%;border-bottom: 1px solid gray;flex-grow: 1;}#sk-cc028891-5c05-4d8d-a9b1-66592129c795 div.sk-label:hover label.sk-toggleable__label {background-color: #d4ebff;}#sk-cc028891-5c05-4d8d-a9b1-66592129c795 div.sk-serial::before {content: \"\";position: absolute;border-left: 1px solid gray;box-sizing: border-box;top: 2em;bottom: 0;left: 50%;}#sk-cc028891-5c05-4d8d-a9b1-66592129c795 div.sk-serial {display: flex;flex-direction: column;align-items: center;background-color: white;padding-right: 0.2em;padding-left: 0.2em;}#sk-cc028891-5c05-4d8d-a9b1-66592129c795 div.sk-item {z-index: 1;}#sk-cc028891-5c05-4d8d-a9b1-66592129c795 div.sk-parallel {display: flex;align-items: stretch;justify-content: center;background-color: white;}#sk-cc028891-5c05-4d8d-a9b1-66592129c795 div.sk-parallel::before {content: \"\";position: absolute;border-left: 1px solid gray;box-sizing: border-box;top: 2em;bottom: 0;left: 50%;}#sk-cc028891-5c05-4d8d-a9b1-66592129c795 div.sk-parallel-item {display: flex;flex-direction: column;position: relative;background-color: white;}#sk-cc028891-5c05-4d8d-a9b1-66592129c795 div.sk-parallel-item:first-child::after {align-self: flex-end;width: 50%;}#sk-cc028891-5c05-4d8d-a9b1-66592129c795 div.sk-parallel-item:last-child::after {align-self: flex-start;width: 50%;}#sk-cc028891-5c05-4d8d-a9b1-66592129c795 div.sk-parallel-item:only-child::after {width: 0;}#sk-cc028891-5c05-4d8d-a9b1-66592129c795 div.sk-dashed-wrapped {border: 1px dashed gray;margin: 0 0.4em 0.5em 0.4em;box-sizing: border-box;padding-bottom: 0.4em;background-color: white;position: relative;}#sk-cc028891-5c05-4d8d-a9b1-66592129c795 div.sk-label label {font-family: monospace;font-weight: bold;background-color: white;display: inline-block;line-height: 1.2em;}#sk-cc028891-5c05-4d8d-a9b1-66592129c795 div.sk-label-container {position: relative;z-index: 2;text-align: center;}#sk-cc028891-5c05-4d8d-a9b1-66592129c795 div.sk-container {display: inline-block;position: relative;}</style><div id=\"sk-cc028891-5c05-4d8d-a9b1-66592129c795\" class\"sk-top-container\"><div class=\"sk-container\"><div class=\"sk-item sk-dashed-wrapped\"><div class=\"sk-label-container\"><div class=\"sk-label sk-toggleable\"><input class=\"sk-toggleable__control sk-hidden--visually\" id=\"14c7a65c-2548-4887-a309-1532fb3f93a0\" type=\"checkbox\" ><label class=\"sk-toggleable__label\" for=\"14c7a65c-2548-4887-a309-1532fb3f93a0\">Pipeline</label><div class=\"sk-toggleable__content\"><pre>Pipeline(steps=[('columntransformer',\n",
       "                 ColumnTransformer(transformers=[('pipeline',\n",
       "                                                  Pipeline(steps=[('simpleimputer',\n",
       "                                                                   SimpleImputer(strategy='constant')),\n",
       "                                                                  ('onehotencoder',\n",
       "                                                                   OneHotEncoder())]),\n",
       "                                                  ['Embarked', 'Sex']),\n",
       "                                                 ('countvectorizer',\n",
       "                                                  CountVectorizer(), 'Name'),\n",
       "                                                 ('simpleimputer',\n",
       "                                                  SimpleImputer(),\n",
       "                                                  ['Age', 'Fare']),\n",
       "                                                 ('passthrough', 'passthrough',\n",
       "                                                  ['Parch'])])),\n",
       "                ('selectpercentile',\n",
       "                 SelectPercentile(percentile=50,\n",
       "                                  score_func=<function chi2 at 0x000001671C1C8430>)),\n",
       "                ('logisticregression', LogisticRegression(solver='liblinear'))])</pre></div></div></div><div class=\"sk-serial\"><div class=\"sk-item sk-dashed-wrapped\"><div class=\"sk-label-container\"><div class=\"sk-label sk-toggleable\"><input class=\"sk-toggleable__control sk-hidden--visually\" id=\"1815bb4b-824a-4bbd-b802-0707a3aac9c1\" type=\"checkbox\" ><label class=\"sk-toggleable__label\" for=\"1815bb4b-824a-4bbd-b802-0707a3aac9c1\">columntransformer: ColumnTransformer</label><div class=\"sk-toggleable__content\"><pre>ColumnTransformer(transformers=[('pipeline',\n",
       "                                 Pipeline(steps=[('simpleimputer',\n",
       "                                                  SimpleImputer(strategy='constant')),\n",
       "                                                 ('onehotencoder',\n",
       "                                                  OneHotEncoder())]),\n",
       "                                 ['Embarked', 'Sex']),\n",
       "                                ('countvectorizer', CountVectorizer(), 'Name'),\n",
       "                                ('simpleimputer', SimpleImputer(),\n",
       "                                 ['Age', 'Fare']),\n",
       "                                ('passthrough', 'passthrough', ['Parch'])])</pre></div></div></div><div class=\"sk-parallel\"><div class=\"sk-parallel-item\"><div class=\"sk-item\"><div class=\"sk-label-container\"><div class=\"sk-label sk-toggleable\"><input class=\"sk-toggleable__control sk-hidden--visually\" id=\"b95825f1-ede6-40b9-848b-f1035d861ef2\" type=\"checkbox\" ><label class=\"sk-toggleable__label\" for=\"b95825f1-ede6-40b9-848b-f1035d861ef2\">pipeline</label><div class=\"sk-toggleable__content\"><pre>['Embarked', 'Sex']</pre></div></div></div><div class=\"sk-serial\"><div class=\"sk-item\"><div class=\"sk-serial\"><div class=\"sk-item\"><div class=\"sk-estimator sk-toggleable\"><input class=\"sk-toggleable__control sk-hidden--visually\" id=\"708d6df5-59ea-41cf-bf2d-0fcf1252c8e4\" type=\"checkbox\" ><label class=\"sk-toggleable__label\" for=\"708d6df5-59ea-41cf-bf2d-0fcf1252c8e4\">SimpleImputer</label><div class=\"sk-toggleable__content\"><pre>SimpleImputer(strategy='constant')</pre></div></div></div><div class=\"sk-item\"><div class=\"sk-estimator sk-toggleable\"><input class=\"sk-toggleable__control sk-hidden--visually\" id=\"59614024-9600-48ad-b1ba-ac29757a31eb\" type=\"checkbox\" ><label class=\"sk-toggleable__label\" for=\"59614024-9600-48ad-b1ba-ac29757a31eb\">OneHotEncoder</label><div class=\"sk-toggleable__content\"><pre>OneHotEncoder()</pre></div></div></div></div></div></div></div></div><div class=\"sk-parallel-item\"><div class=\"sk-item\"><div class=\"sk-label-container\"><div class=\"sk-label sk-toggleable\"><input class=\"sk-toggleable__control sk-hidden--visually\" id=\"79d319e3-4d02-4c01-b011-5042ebb95bd4\" type=\"checkbox\" ><label class=\"sk-toggleable__label\" for=\"79d319e3-4d02-4c01-b011-5042ebb95bd4\">countvectorizer</label><div class=\"sk-toggleable__content\"><pre>Name</pre></div></div></div><div class=\"sk-serial\"><div class=\"sk-item\"><div class=\"sk-estimator sk-toggleable\"><input class=\"sk-toggleable__control sk-hidden--visually\" id=\"2875468e-e6f7-4dc6-a8f2-1265584ae84e\" type=\"checkbox\" ><label class=\"sk-toggleable__label\" for=\"2875468e-e6f7-4dc6-a8f2-1265584ae84e\">CountVectorizer</label><div class=\"sk-toggleable__content\"><pre>CountVectorizer()</pre></div></div></div></div></div></div><div class=\"sk-parallel-item\"><div class=\"sk-item\"><div class=\"sk-label-container\"><div class=\"sk-label sk-toggleable\"><input class=\"sk-toggleable__control sk-hidden--visually\" id=\"f292f85d-f6b1-4b85-9631-a5a2a632ba0f\" type=\"checkbox\" ><label class=\"sk-toggleable__label\" for=\"f292f85d-f6b1-4b85-9631-a5a2a632ba0f\">simpleimputer</label><div class=\"sk-toggleable__content\"><pre>['Age', 'Fare']</pre></div></div></div><div class=\"sk-serial\"><div class=\"sk-item\"><div class=\"sk-estimator sk-toggleable\"><input class=\"sk-toggleable__control sk-hidden--visually\" id=\"44323237-80d2-4493-ada6-f64e6ece0ce8\" type=\"checkbox\" ><label class=\"sk-toggleable__label\" for=\"44323237-80d2-4493-ada6-f64e6ece0ce8\">SimpleImputer</label><div class=\"sk-toggleable__content\"><pre>SimpleImputer()</pre></div></div></div></div></div></div><div class=\"sk-parallel-item\"><div class=\"sk-item\"><div class=\"sk-label-container\"><div class=\"sk-label sk-toggleable\"><input class=\"sk-toggleable__control sk-hidden--visually\" id=\"a725c047-58ae-429b-9707-2cb20ab777f8\" type=\"checkbox\" ><label class=\"sk-toggleable__label\" for=\"a725c047-58ae-429b-9707-2cb20ab777f8\">passthrough</label><div class=\"sk-toggleable__content\"><pre>['Parch']</pre></div></div></div><div class=\"sk-serial\"><div class=\"sk-item\"><div class=\"sk-estimator sk-toggleable\"><input class=\"sk-toggleable__control sk-hidden--visually\" id=\"47686763-9eef-44d7-a43d-f9453bb12520\" type=\"checkbox\" ><label class=\"sk-toggleable__label\" for=\"47686763-9eef-44d7-a43d-f9453bb12520\">passthrough</label><div class=\"sk-toggleable__content\"><pre>passthrough</pre></div></div></div></div></div></div></div></div><div class=\"sk-item\"><div class=\"sk-estimator sk-toggleable\"><input class=\"sk-toggleable__control sk-hidden--visually\" id=\"2c98a2d0-74f9-4156-b79f-5c7d79fa6c18\" type=\"checkbox\" ><label class=\"sk-toggleable__label\" for=\"2c98a2d0-74f9-4156-b79f-5c7d79fa6c18\">SelectPercentile</label><div class=\"sk-toggleable__content\"><pre>SelectPercentile(percentile=50,\n",
       "                 score_func=<function chi2 at 0x000001671C1C8430>)</pre></div></div></div><div class=\"sk-item\"><div class=\"sk-estimator sk-toggleable\"><input class=\"sk-toggleable__control sk-hidden--visually\" id=\"0cdfb2d4-001a-44ba-9121-e7945d48151a\" type=\"checkbox\" ><label class=\"sk-toggleable__label\" for=\"0cdfb2d4-001a-44ba-9121-e7945d48151a\">LogisticRegression</label><div class=\"sk-toggleable__content\"><pre>LogisticRegression(solver='liblinear')</pre></div></div></div></div></div></div></div>"
      ],
      "text/plain": [
       "Pipeline(steps=[('columntransformer',\n",
       "                 ColumnTransformer(transformers=[('pipeline',\n",
       "                                                  Pipeline(steps=[('simpleimputer',\n",
       "                                                                   SimpleImputer(strategy='constant')),\n",
       "                                                                  ('onehotencoder',\n",
       "                                                                   OneHotEncoder())]),\n",
       "                                                  ['Embarked', 'Sex']),\n",
       "                                                 ('countvectorizer',\n",
       "                                                  CountVectorizer(), 'Name'),\n",
       "                                                 ('simpleimputer',\n",
       "                                                  SimpleImputer(),\n",
       "                                                  ['Age', 'Fare']),\n",
       "                                                 ('passthrough', 'passthrough',\n",
       "                                                  ['Parch'])])),\n",
       "                ('selectpercentile',\n",
       "                 SelectPercentile(percentile=50,\n",
       "                                  score_func=<function chi2 at 0x000001671C1C8430>)),\n",
       "                ('logisticregression', LogisticRegression(solver='liblinear'))])"
      ]
     },
     "execution_count": 185,
     "metadata": {},
     "output_type": "execute_result"
    }
   ],
   "source": [
    "pipe = make_pipeline(ct, selection, clf)\n",
    "pipe"
   ]
  },
  {
   "cell_type": "markdown",
   "id": "b09e2cab",
   "metadata": {},
   "source": [
    "### Export to file HTML"
   ]
  },
  {
   "cell_type": "code",
   "execution_count": 186,
   "id": "ed6a3415",
   "metadata": {
    "ExecuteTime": {
     "end_time": "2021-10-17T18:27:35.547240Z",
     "start_time": "2021-10-17T18:27:35.500349Z"
    }
   },
   "outputs": [],
   "source": [
    "# export the diagram to a file\n",
    "file_html_path = \"pipe.html\"\n",
    "from sklearn.utils import estimator_html_repr\n",
    "with open(file_html_path, 'w') as f:  \n",
    "    f.write(estimator_html_repr(pipe))"
   ]
  },
  {
   "cell_type": "markdown",
   "id": "e7836306",
   "metadata": {},
   "source": [
    "## Access part of a Pipeline using slicing\n",
    "\n",
    "Want to operate on part of a Pipeline(instead of the whole thing)? Slice it using Python's slicing notation."
   ]
  },
  {
   "cell_type": "code",
   "execution_count": 187,
   "id": "77911e68",
   "metadata": {
    "ExecuteTime": {
     "end_time": "2021-10-17T18:27:36.164298Z",
     "start_time": "2021-10-17T18:27:36.148676Z"
    }
   },
   "outputs": [],
   "source": [
    "import os \n",
    "\n",
    "file_input_path = \"titanic_train.csv\"\n",
    "if not os.path.exists(file_input_path):\n",
    "    df_train = pd.read_csv(\"http://bit.ly/kaggletrain\")\n",
    "    df_train.to_csv(file_input_path, header=True, index=False, sep=\"\\t\")\n",
    "else:\n",
    "    df_train = pd.read_csv(file_input_path, header=0, sep=\"\\t\")"
   ]
  },
  {
   "cell_type": "code",
   "execution_count": 188,
   "id": "ffba1ba1",
   "metadata": {
    "ExecuteTime": {
     "end_time": "2021-10-17T18:27:36.217704Z",
     "start_time": "2021-10-17T18:27:36.170804Z"
    }
   },
   "outputs": [],
   "source": [
    "cols = [\"Sex\", \"Name\", \"Age\"]\n",
    "X, y = df_train[cols], df[\"Survived\"]"
   ]
  },
  {
   "cell_type": "code",
   "execution_count": 189,
   "id": "75f25907",
   "metadata": {
    "ExecuteTime": {
     "end_time": "2021-10-17T18:27:36.233294Z",
     "start_time": "2021-10-17T18:27:36.217704Z"
    }
   },
   "outputs": [
    {
     "data": {
      "text/html": [
       "<div>\n",
       "<style scoped>\n",
       "    .dataframe tbody tr th:only-of-type {\n",
       "        vertical-align: middle;\n",
       "    }\n",
       "\n",
       "    .dataframe tbody tr th {\n",
       "        vertical-align: top;\n",
       "    }\n",
       "\n",
       "    .dataframe thead th {\n",
       "        text-align: right;\n",
       "    }\n",
       "</style>\n",
       "<table border=\"1\" class=\"dataframe\">\n",
       "  <thead>\n",
       "    <tr style=\"text-align: right;\">\n",
       "      <th></th>\n",
       "      <th>Sex</th>\n",
       "      <th>Name</th>\n",
       "      <th>Age</th>\n",
       "    </tr>\n",
       "  </thead>\n",
       "  <tbody>\n",
       "    <tr>\n",
       "      <th>0</th>\n",
       "      <td>male</td>\n",
       "      <td>Braund, Mr. Owen Harris</td>\n",
       "      <td>22.0</td>\n",
       "    </tr>\n",
       "    <tr>\n",
       "      <th>1</th>\n",
       "      <td>female</td>\n",
       "      <td>Cumings, Mrs. John Bradley (Florence Briggs Th...</td>\n",
       "      <td>38.0</td>\n",
       "    </tr>\n",
       "  </tbody>\n",
       "</table>\n",
       "</div>"
      ],
      "text/plain": [
       "      Sex                                               Name   Age\n",
       "0    male                            Braund, Mr. Owen Harris  22.0\n",
       "1  female  Cumings, Mrs. John Bradley (Florence Briggs Th...  38.0"
      ]
     },
     "execution_count": 189,
     "metadata": {},
     "output_type": "execute_result"
    }
   ],
   "source": [
    "X.head(2)"
   ]
  },
  {
   "cell_type": "code",
   "execution_count": 190,
   "id": "90834f28",
   "metadata": {
    "ExecuteTime": {
     "end_time": "2021-10-17T18:27:36.272548Z",
     "start_time": "2021-10-17T18:27:36.233294Z"
    }
   },
   "outputs": [
    {
     "data": {
      "text/plain": [
       "0    0\n",
       "1    1\n",
       "Name: Survived, dtype: int64"
      ]
     },
     "execution_count": 190,
     "metadata": {},
     "output_type": "execute_result"
    }
   ],
   "source": [
    "y.head(2)"
   ]
  },
  {
   "cell_type": "code",
   "execution_count": 191,
   "id": "3b4862ba",
   "metadata": {
    "ExecuteTime": {
     "end_time": "2021-10-17T18:27:36.303795Z",
     "start_time": "2021-10-17T18:27:36.272548Z"
    }
   },
   "outputs": [],
   "source": [
    "from sklearn import set_config\n",
    "set_config(display=\"diagram\")"
   ]
  },
  {
   "cell_type": "code",
   "execution_count": 192,
   "id": "3f1e41f5",
   "metadata": {
    "ExecuteTime": {
     "end_time": "2021-10-17T18:27:36.335039Z",
     "start_time": "2021-10-17T18:27:36.303795Z"
    }
   },
   "outputs": [],
   "source": [
    "from sklearn.preprocessing import OneHotEncoder\n",
    "from sklearn.feature_extraction.text import CountVectorizer\n",
    "from sklearn.impute import SimpleImputer\n",
    "from sklearn.feature_selection import SelectPercentile, chi2\n",
    "from sklearn.linear_model import LogisticRegression\n",
    "from sklearn.compose import ColumnTransformer\n",
    "from sklearn.pipeline import Pipeline"
   ]
  },
  {
   "cell_type": "code",
   "execution_count": 193,
   "id": "13648d54",
   "metadata": {
    "ExecuteTime": {
     "end_time": "2021-10-17T18:27:36.350660Z",
     "start_time": "2021-10-17T18:27:36.335039Z"
    }
   },
   "outputs": [],
   "source": [
    "col_transformer = ColumnTransformer(\n",
    "    [\n",
    "        (\"ohe\", OneHotEncoder(), [\"Sex\"]),\n",
    "        (\"vectorizer\", CountVectorizer(), \"Name\"),\n",
    "        (\"imputer\", SimpleImputer(), [\"Age\"])\n",
    "    ]\n",
    ")"
   ]
  },
  {
   "cell_type": "code",
   "execution_count": 194,
   "id": "9308af3f",
   "metadata": {
    "ExecuteTime": {
     "end_time": "2021-10-17T18:27:36.366281Z",
     "start_time": "2021-10-17T18:27:36.350660Z"
    }
   },
   "outputs": [],
   "source": [
    "feat_selector = SelectPercentile(score_func=chi2, percentile=50)"
   ]
  },
  {
   "cell_type": "code",
   "execution_count": 195,
   "id": "fdf4fb11",
   "metadata": {
    "ExecuteTime": {
     "end_time": "2021-10-17T18:27:36.402550Z",
     "start_time": "2021-10-17T18:27:36.366281Z"
    }
   },
   "outputs": [],
   "source": [
    "clf = LogisticRegression(solver=\"liblinear\", random_state=1)"
   ]
  },
  {
   "cell_type": "code",
   "execution_count": 196,
   "id": "7ce335e7",
   "metadata": {
    "ExecuteTime": {
     "end_time": "2021-10-17T18:27:36.435790Z",
     "start_time": "2021-10-17T18:27:36.407702Z"
    }
   },
   "outputs": [],
   "source": [
    "pipe = Pipeline(\n",
    "    [\n",
    "        (\"preprocessor\", col_transformer),\n",
    "        (\"feature_selector\", feat_selector),\n",
    "        (\"classifier\", clf)\n",
    "    ]\n",
    ")"
   ]
  },
  {
   "cell_type": "code",
   "execution_count": 197,
   "id": "e6e3004a",
   "metadata": {
    "ExecuteTime": {
     "end_time": "2021-10-17T18:27:36.494082Z",
     "start_time": "2021-10-17T18:27:36.437799Z"
    }
   },
   "outputs": [
    {
     "data": {
      "text/html": [
       "<style>#sk-097633fe-b511-4c2b-8755-9c1c1da144c7 {color: black;background-color: white;}#sk-097633fe-b511-4c2b-8755-9c1c1da144c7 pre{padding: 0;}#sk-097633fe-b511-4c2b-8755-9c1c1da144c7 div.sk-toggleable {background-color: white;}#sk-097633fe-b511-4c2b-8755-9c1c1da144c7 label.sk-toggleable__label {cursor: pointer;display: block;width: 100%;margin-bottom: 0;padding: 0.3em;box-sizing: border-box;text-align: center;}#sk-097633fe-b511-4c2b-8755-9c1c1da144c7 div.sk-toggleable__content {max-height: 0;max-width: 0;overflow: hidden;text-align: left;background-color: #f0f8ff;}#sk-097633fe-b511-4c2b-8755-9c1c1da144c7 div.sk-toggleable__content pre {margin: 0.2em;color: black;border-radius: 0.25em;background-color: #f0f8ff;}#sk-097633fe-b511-4c2b-8755-9c1c1da144c7 input.sk-toggleable__control:checked~div.sk-toggleable__content {max-height: 200px;max-width: 100%;overflow: auto;}#sk-097633fe-b511-4c2b-8755-9c1c1da144c7 div.sk-estimator input.sk-toggleable__control:checked~label.sk-toggleable__label {background-color: #d4ebff;}#sk-097633fe-b511-4c2b-8755-9c1c1da144c7 div.sk-label input.sk-toggleable__control:checked~label.sk-toggleable__label {background-color: #d4ebff;}#sk-097633fe-b511-4c2b-8755-9c1c1da144c7 input.sk-hidden--visually {border: 0;clip: rect(1px 1px 1px 1px);clip: rect(1px, 1px, 1px, 1px);height: 1px;margin: -1px;overflow: hidden;padding: 0;position: absolute;width: 1px;}#sk-097633fe-b511-4c2b-8755-9c1c1da144c7 div.sk-estimator {font-family: monospace;background-color: #f0f8ff;border: 1px dotted black;border-radius: 0.25em;box-sizing: border-box;margin-bottom: 0.5em;}#sk-097633fe-b511-4c2b-8755-9c1c1da144c7 div.sk-estimator:hover {background-color: #d4ebff;}#sk-097633fe-b511-4c2b-8755-9c1c1da144c7 div.sk-parallel-item::after {content: \"\";width: 100%;border-bottom: 1px solid gray;flex-grow: 1;}#sk-097633fe-b511-4c2b-8755-9c1c1da144c7 div.sk-label:hover label.sk-toggleable__label {background-color: #d4ebff;}#sk-097633fe-b511-4c2b-8755-9c1c1da144c7 div.sk-serial::before {content: \"\";position: absolute;border-left: 1px solid gray;box-sizing: border-box;top: 2em;bottom: 0;left: 50%;}#sk-097633fe-b511-4c2b-8755-9c1c1da144c7 div.sk-serial {display: flex;flex-direction: column;align-items: center;background-color: white;padding-right: 0.2em;padding-left: 0.2em;}#sk-097633fe-b511-4c2b-8755-9c1c1da144c7 div.sk-item {z-index: 1;}#sk-097633fe-b511-4c2b-8755-9c1c1da144c7 div.sk-parallel {display: flex;align-items: stretch;justify-content: center;background-color: white;}#sk-097633fe-b511-4c2b-8755-9c1c1da144c7 div.sk-parallel::before {content: \"\";position: absolute;border-left: 1px solid gray;box-sizing: border-box;top: 2em;bottom: 0;left: 50%;}#sk-097633fe-b511-4c2b-8755-9c1c1da144c7 div.sk-parallel-item {display: flex;flex-direction: column;position: relative;background-color: white;}#sk-097633fe-b511-4c2b-8755-9c1c1da144c7 div.sk-parallel-item:first-child::after {align-self: flex-end;width: 50%;}#sk-097633fe-b511-4c2b-8755-9c1c1da144c7 div.sk-parallel-item:last-child::after {align-self: flex-start;width: 50%;}#sk-097633fe-b511-4c2b-8755-9c1c1da144c7 div.sk-parallel-item:only-child::after {width: 0;}#sk-097633fe-b511-4c2b-8755-9c1c1da144c7 div.sk-dashed-wrapped {border: 1px dashed gray;margin: 0 0.4em 0.5em 0.4em;box-sizing: border-box;padding-bottom: 0.4em;background-color: white;position: relative;}#sk-097633fe-b511-4c2b-8755-9c1c1da144c7 div.sk-label label {font-family: monospace;font-weight: bold;background-color: white;display: inline-block;line-height: 1.2em;}#sk-097633fe-b511-4c2b-8755-9c1c1da144c7 div.sk-label-container {position: relative;z-index: 2;text-align: center;}#sk-097633fe-b511-4c2b-8755-9c1c1da144c7 div.sk-container {display: inline-block;position: relative;}</style><div id=\"sk-097633fe-b511-4c2b-8755-9c1c1da144c7\" class\"sk-top-container\"><div class=\"sk-container\"><div class=\"sk-item sk-dashed-wrapped\"><div class=\"sk-label-container\"><div class=\"sk-label sk-toggleable\"><input class=\"sk-toggleable__control sk-hidden--visually\" id=\"11e8c50a-e68d-47d6-898e-c073682fbfab\" type=\"checkbox\" ><label class=\"sk-toggleable__label\" for=\"11e8c50a-e68d-47d6-898e-c073682fbfab\">Pipeline</label><div class=\"sk-toggleable__content\"><pre>Pipeline(steps=[('preprocessor',\n",
       "                 ColumnTransformer(transformers=[('ohe', OneHotEncoder(),\n",
       "                                                  ['Sex']),\n",
       "                                                 ('vectorizer',\n",
       "                                                  CountVectorizer(), 'Name'),\n",
       "                                                 ('imputer', SimpleImputer(),\n",
       "                                                  ['Age'])])),\n",
       "                ('feature_selector',\n",
       "                 SelectPercentile(percentile=50,\n",
       "                                  score_func=<function chi2 at 0x000001671C1C8430>)),\n",
       "                ('classifier',\n",
       "                 LogisticRegression(random_state=1, solver='liblinear'))])</pre></div></div></div><div class=\"sk-serial\"><div class=\"sk-item sk-dashed-wrapped\"><div class=\"sk-label-container\"><div class=\"sk-label sk-toggleable\"><input class=\"sk-toggleable__control sk-hidden--visually\" id=\"632e8869-0b68-4c9d-ab66-38dc2c860dd9\" type=\"checkbox\" ><label class=\"sk-toggleable__label\" for=\"632e8869-0b68-4c9d-ab66-38dc2c860dd9\">preprocessor: ColumnTransformer</label><div class=\"sk-toggleable__content\"><pre>ColumnTransformer(transformers=[('ohe', OneHotEncoder(), ['Sex']),\n",
       "                                ('vectorizer', CountVectorizer(), 'Name'),\n",
       "                                ('imputer', SimpleImputer(), ['Age'])])</pre></div></div></div><div class=\"sk-parallel\"><div class=\"sk-parallel-item\"><div class=\"sk-item\"><div class=\"sk-label-container\"><div class=\"sk-label sk-toggleable\"><input class=\"sk-toggleable__control sk-hidden--visually\" id=\"a77ad563-17c7-448d-877a-2c3e114e5181\" type=\"checkbox\" ><label class=\"sk-toggleable__label\" for=\"a77ad563-17c7-448d-877a-2c3e114e5181\">ohe</label><div class=\"sk-toggleable__content\"><pre>['Sex']</pre></div></div></div><div class=\"sk-serial\"><div class=\"sk-item\"><div class=\"sk-estimator sk-toggleable\"><input class=\"sk-toggleable__control sk-hidden--visually\" id=\"4ab87dbf-6994-49a4-bd5b-74937178c814\" type=\"checkbox\" ><label class=\"sk-toggleable__label\" for=\"4ab87dbf-6994-49a4-bd5b-74937178c814\">OneHotEncoder</label><div class=\"sk-toggleable__content\"><pre>OneHotEncoder()</pre></div></div></div></div></div></div><div class=\"sk-parallel-item\"><div class=\"sk-item\"><div class=\"sk-label-container\"><div class=\"sk-label sk-toggleable\"><input class=\"sk-toggleable__control sk-hidden--visually\" id=\"96bbe056-1fc8-4284-8b74-800acce9439e\" type=\"checkbox\" ><label class=\"sk-toggleable__label\" for=\"96bbe056-1fc8-4284-8b74-800acce9439e\">vectorizer</label><div class=\"sk-toggleable__content\"><pre>Name</pre></div></div></div><div class=\"sk-serial\"><div class=\"sk-item\"><div class=\"sk-estimator sk-toggleable\"><input class=\"sk-toggleable__control sk-hidden--visually\" id=\"1eab96b4-b7d6-4eee-88c2-0b3d442071d9\" type=\"checkbox\" ><label class=\"sk-toggleable__label\" for=\"1eab96b4-b7d6-4eee-88c2-0b3d442071d9\">CountVectorizer</label><div class=\"sk-toggleable__content\"><pre>CountVectorizer()</pre></div></div></div></div></div></div><div class=\"sk-parallel-item\"><div class=\"sk-item\"><div class=\"sk-label-container\"><div class=\"sk-label sk-toggleable\"><input class=\"sk-toggleable__control sk-hidden--visually\" id=\"7162a67f-496f-4c60-a6f1-7da8e2f7a886\" type=\"checkbox\" ><label class=\"sk-toggleable__label\" for=\"7162a67f-496f-4c60-a6f1-7da8e2f7a886\">imputer</label><div class=\"sk-toggleable__content\"><pre>['Age']</pre></div></div></div><div class=\"sk-serial\"><div class=\"sk-item\"><div class=\"sk-estimator sk-toggleable\"><input class=\"sk-toggleable__control sk-hidden--visually\" id=\"cbfb07cc-25d2-494c-9f2e-41847b8247f1\" type=\"checkbox\" ><label class=\"sk-toggleable__label\" for=\"cbfb07cc-25d2-494c-9f2e-41847b8247f1\">SimpleImputer</label><div class=\"sk-toggleable__content\"><pre>SimpleImputer()</pre></div></div></div></div></div></div></div></div><div class=\"sk-item\"><div class=\"sk-estimator sk-toggleable\"><input class=\"sk-toggleable__control sk-hidden--visually\" id=\"7e604959-2dbe-4d16-9e9d-f23b9456a24e\" type=\"checkbox\" ><label class=\"sk-toggleable__label\" for=\"7e604959-2dbe-4d16-9e9d-f23b9456a24e\">SelectPercentile</label><div class=\"sk-toggleable__content\"><pre>SelectPercentile(percentile=50,\n",
       "                 score_func=<function chi2 at 0x000001671C1C8430>)</pre></div></div></div><div class=\"sk-item\"><div class=\"sk-estimator sk-toggleable\"><input class=\"sk-toggleable__control sk-hidden--visually\" id=\"30c3fca1-3b8f-4636-abe6-0e37fc9cecfb\" type=\"checkbox\" ><label class=\"sk-toggleable__label\" for=\"30c3fca1-3b8f-4636-abe6-0e37fc9cecfb\">LogisticRegression</label><div class=\"sk-toggleable__content\"><pre>LogisticRegression(random_state=1, solver='liblinear')</pre></div></div></div></div></div></div></div>"
      ],
      "text/plain": [
       "Pipeline(steps=[('preprocessor',\n",
       "                 ColumnTransformer(transformers=[('ohe', OneHotEncoder(),\n",
       "                                                  ['Sex']),\n",
       "                                                 ('vectorizer',\n",
       "                                                  CountVectorizer(), 'Name'),\n",
       "                                                 ('imputer', SimpleImputer(),\n",
       "                                                  ['Age'])])),\n",
       "                ('feature_selector',\n",
       "                 SelectPercentile(percentile=50,\n",
       "                                  score_func=<function chi2 at 0x000001671C1C8430>)),\n",
       "                ('classifier',\n",
       "                 LogisticRegression(random_state=1, solver='liblinear'))])"
      ]
     },
     "execution_count": 197,
     "metadata": {},
     "output_type": "execute_result"
    }
   ],
   "source": [
    "pipe"
   ]
  },
  {
   "cell_type": "markdown",
   "id": "647f82aa",
   "metadata": {},
   "source": [
    "### access step 0: preprocessor"
   ]
  },
  {
   "cell_type": "code",
   "execution_count": 198,
   "id": "765f4107",
   "metadata": {
    "ExecuteTime": {
     "end_time": "2021-10-17T18:27:37.118313Z",
     "start_time": "2021-10-17T18:27:37.080587Z"
    }
   },
   "outputs": [
    {
     "data": {
      "text/plain": [
       "<891x1512 sparse matrix of type '<class 'numpy.float64'>'\n",
       "\twith 5348 stored elements in Compressed Sparse Row format>"
      ]
     },
     "execution_count": 198,
     "metadata": {},
     "output_type": "execute_result"
    }
   ],
   "source": [
    "pipe[0].fit_transform(X)"
   ]
  },
  {
   "cell_type": "markdown",
   "id": "00f5834d",
   "metadata": {},
   "source": [
    "### access step 0 and 1: preprocessor and feature selector"
   ]
  },
  {
   "cell_type": "code",
   "execution_count": 199,
   "id": "07e50c04",
   "metadata": {
    "ExecuteTime": {
     "end_time": "2021-10-17T18:27:37.820642Z",
     "start_time": "2021-10-17T18:27:37.782888Z"
    }
   },
   "outputs": [
    {
     "data": {
      "text/plain": [
       "<891x756 sparse matrix of type '<class 'numpy.float64'>'\n",
       "\twith 4128 stored elements in Compressed Sparse Row format>"
      ]
     },
     "execution_count": 199,
     "metadata": {},
     "output_type": "execute_result"
    }
   ],
   "source": [
    "pipe[0:2].fit_transform(X, y)"
   ]
  },
  {
   "cell_type": "markdown",
   "id": "00bc5371",
   "metadata": {},
   "source": [
    "### access step 1: feature selector"
   ]
  },
  {
   "cell_type": "code",
   "execution_count": 200,
   "id": "936e6c0a",
   "metadata": {
    "ExecuteTime": {
     "end_time": "2021-10-17T18:27:38.554205Z",
     "start_time": "2021-10-17T18:27:38.522995Z"
    }
   },
   "outputs": [
    {
     "data": {
      "text/plain": [
       "array([ True,  True,  True, ...,  True, False,  True])"
      ]
     },
     "execution_count": 200,
     "metadata": {},
     "output_type": "execute_result"
    }
   ],
   "source": [
    "pipe[1].get_support()"
   ]
  },
  {
   "cell_type": "code",
   "execution_count": 201,
   "id": "e6b056c2",
   "metadata": {
    "ExecuteTime": {
     "end_time": "2021-10-17T18:27:38.601102Z",
     "start_time": "2021-10-17T18:27:38.554205Z"
    }
   },
   "outputs": [
    {
     "data": {
      "text/plain": [
       "756"
      ]
     },
     "execution_count": 201,
     "metadata": {},
     "output_type": "execute_result"
    }
   ],
   "source": [
    "sum(pipe[1].get_support())"
   ]
  },
  {
   "cell_type": "code",
   "execution_count": 202,
   "id": "8a6e60be",
   "metadata": {
    "ExecuteTime": {
     "end_time": "2021-10-17T18:27:38.623235Z",
     "start_time": "2021-10-17T18:27:38.601102Z"
    }
   },
   "outputs": [
    {
     "data": {
      "text/plain": [
       "1512"
      ]
     },
     "execution_count": 202,
     "metadata": {},
     "output_type": "execute_result"
    }
   ],
   "source": [
    "len(pipe[1].get_support())"
   ]
  },
  {
   "cell_type": "code",
   "execution_count": 203,
   "id": "a25dde3f",
   "metadata": {
    "ExecuteTime": {
     "end_time": "2021-10-17T18:27:38.654477Z",
     "start_time": "2021-10-17T18:27:38.623235Z"
    }
   },
   "outputs": [
    {
     "data": {
      "text/plain": [
       "0.5"
      ]
     },
     "execution_count": 203,
     "metadata": {},
     "output_type": "execute_result"
    }
   ],
   "source": [
    "# Percentage - Feature Selector (verifying phase)\n",
    "sum(pipe[1].get_support()) / len(pipe[1].get_support())"
   ]
  },
  {
   "cell_type": "markdown",
   "id": "cf9106b0",
   "metadata": {},
   "source": [
    "## Adapt this pattern to solve many Machine Learning problems\n",
    "\n",
    "Here's a simple pattern that can be adapted to solve many ML problems. It has plenty of shortcomings, but can work surprisingly well as-is!\n",
    "\n",
    "Shortcomings include:\n",
    "+ Assumes all columns have proper data types\n",
    "+ May include irrelevant or improper features\n",
    "+ Does not handle text or date columns well\n",
    "+ Does not include feature engineering\n",
    "+ [Ordinal encoding](https://scikit-learn.org/stable/modules/generated/sklearn.preprocessing.OrdinalEncoder.html) may be better\n",
    "+ [Other imputation strategies](https://scikit-learn.org/stable/modules/impute.html) may be better\n",
    "+ Numeric features may not need scaling\n",
    "+ A different model may be better\n",
    "+ And so on...\n",
    "\n",
    "\n",
    "Additional links: [SimpleImputer](https://scikit-learn.org/stable/modules/generated/sklearn.impute.SimpleImputer.html), [StandardScaler](https://scikit-learn.org/stable/modules/generated/sklearn.preprocessing.StandardScaler.html), [OneHotEncoder](https://scikit-learn.org/stable/modules/generated/sklearn.preprocessing.OneHotEncoder.html), [make_column_selector](https://scikit-learn.org/stable/modules/generated/sklearn.compose.make_column_selector.html)\n",
    "\n",
    "Note: Beginning in scikit-learn 0.24, OneHotEncoder can handle missing values (without the use of SimpleImputer) by treating them as a separate category.\n"
   ]
  },
  {
   "cell_type": "code",
   "execution_count": 204,
   "id": "82cd6349",
   "metadata": {
    "ExecuteTime": {
     "end_time": "2021-10-17T18:27:39.305079Z",
     "start_time": "2021-10-17T18:27:39.289459Z"
    }
   },
   "outputs": [],
   "source": [
    "import os \n",
    "\n",
    "file_input_path = \"titanic_train.csv\"\n",
    "if not os.path.exists(file_input_path):\n",
    "    df_train = pd.read_csv(\"http://bit.ly/kaggletrain\")\n",
    "    df_train.to_csv(file_input_path, header=True, index=False, sep=\"\\t\")\n",
    "else:\n",
    "    df_train = pd.read_csv(file_input_path, header=0, sep=\"\\t\")"
   ]
  },
  {
   "cell_type": "code",
   "execution_count": 205,
   "id": "e57afef0",
   "metadata": {
    "ExecuteTime": {
     "end_time": "2021-10-17T18:27:39.342831Z",
     "start_time": "2021-10-17T18:27:39.311585Z"
    }
   },
   "outputs": [],
   "source": [
    "cols = ['Pclass', 'Name', 'Sex', 'Age', 'SibSp', 'Parch', 'Ticket', 'Fare', 'Cabin', 'Embarked']"
   ]
  },
  {
   "cell_type": "code",
   "execution_count": 206,
   "id": "eb3dbec9",
   "metadata": {
    "ExecuteTime": {
     "end_time": "2021-10-17T18:27:39.374074Z",
     "start_time": "2021-10-17T18:27:39.342831Z"
    }
   },
   "outputs": [],
   "source": [
    "X, y = df_train[cols], df_train[\"Survived\"]"
   ]
  },
  {
   "cell_type": "code",
   "execution_count": 207,
   "id": "84fb4e64",
   "metadata": {
    "ExecuteTime": {
     "end_time": "2021-10-17T18:27:39.427450Z",
     "start_time": "2021-10-17T18:27:39.389696Z"
    }
   },
   "outputs": [],
   "source": [
    "import os \n",
    "\n",
    "file_input_path = \"titanic_test.csv\"\n",
    "if not os.path.exists(file_input_path):\n",
    "    df_test = pd.read_csv(\"http://bit.ly/kaggletest\")\n",
    "    df_test.to_csv(file_input_path, header=True, index=False, sep=\"\\t\")\n",
    "else:\n",
    "    df_test = pd.read_csv(file_input_path, header=0, sep=\"\\t\")"
   ]
  },
  {
   "cell_type": "code",
   "execution_count": 208,
   "id": "942faa15",
   "metadata": {
    "ExecuteTime": {
     "end_time": "2021-10-17T18:27:39.443071Z",
     "start_time": "2021-10-17T18:27:39.427450Z"
    }
   },
   "outputs": [],
   "source": [
    "df_test = df_test[:10]\n",
    "X_new = df_test[cols]"
   ]
  },
  {
   "cell_type": "code",
   "execution_count": 209,
   "id": "6cea98dc",
   "metadata": {
    "ExecuteTime": {
     "end_time": "2021-10-17T18:27:39.489935Z",
     "start_time": "2021-10-17T18:27:39.443071Z"
    }
   },
   "outputs": [],
   "source": [
    "from sklearn.preprocessing import StandardScaler, OneHotEncoder\n",
    "from sklearn.impute import SimpleImputer\n",
    "from sklearn.linear_model import LogisticRegression\n",
    "from sklearn.pipeline import make_pipeline\n",
    "from sklearn.compose import make_column_selector, make_column_transformer\n",
    "from sklearn.model_selection import cross_val_score"
   ]
  },
  {
   "cell_type": "markdown",
   "id": "0e88585f",
   "metadata": {},
   "source": [
    "### Preprocessing"
   ]
  },
  {
   "cell_type": "markdown",
   "id": "fca17888",
   "metadata": {},
   "source": [
    "#### Preprocessing for Numeric columns and Categorical columns"
   ]
  },
  {
   "cell_type": "code",
   "execution_count": 210,
   "id": "82c80d31",
   "metadata": {
    "ExecuteTime": {
     "end_time": "2021-10-17T18:27:40.915941Z",
     "start_time": "2021-10-17T18:27:40.900320Z"
    }
   },
   "outputs": [],
   "source": [
    "imputer_median = SimpleImputer(strategy=\"median\", add_indicator=True)\n",
    "scaler = StandardScaler()"
   ]
  },
  {
   "cell_type": "code",
   "execution_count": 211,
   "id": "4b65574a",
   "metadata": {
    "ExecuteTime": {
     "end_time": "2021-10-17T18:27:40.984937Z",
     "start_time": "2021-10-17T18:27:40.938073Z"
    }
   },
   "outputs": [],
   "source": [
    "imputer_constant = SimpleImputer(strategy=\"constant\")\n",
    "ohe = OneHotEncoder(handle_unknown=\"ignore\")"
   ]
  },
  {
   "cell_type": "markdown",
   "id": "91cd1e4f",
   "metadata": {},
   "source": [
    "#### Select columns by Data type"
   ]
  },
  {
   "cell_type": "code",
   "execution_count": 212,
   "id": "0f7066af",
   "metadata": {
    "ExecuteTime": {
     "end_time": "2021-10-17T18:27:41.642532Z",
     "start_time": "2021-10-17T18:27:41.620400Z"
    }
   },
   "outputs": [],
   "source": [
    "feat_numeric = make_column_selector(dtype_include=np.number)\n",
    "feat_categorical = make_column_selector(dtype_exclude=np.number)"
   ]
  },
  {
   "cell_type": "code",
   "execution_count": 213,
   "id": "03ab2635",
   "metadata": {
    "ExecuteTime": {
     "end_time": "2021-10-17T18:27:41.658153Z",
     "start_time": "2021-10-17T18:27:41.642532Z"
    }
   },
   "outputs": [],
   "source": [
    "# Pre-processing\n",
    "preprocessor = make_column_transformer(\n",
    "    (make_pipeline(imputer_median, scaler), feat_numeric),\n",
    "    (make_pipeline(imputer_constant, ohe), feat_categorical)\n",
    ")"
   ]
  },
  {
   "cell_type": "markdown",
   "id": "73902e9e",
   "metadata": {},
   "source": [
    "### Pipeline"
   ]
  },
  {
   "cell_type": "code",
   "execution_count": 214,
   "id": "5309264d",
   "metadata": {
    "ExecuteTime": {
     "end_time": "2021-10-17T18:27:42.375713Z",
     "start_time": "2021-10-17T18:27:42.360092Z"
    }
   },
   "outputs": [],
   "source": [
    "pipe = make_pipeline(\n",
    "    preprocessor,\n",
    "    LogisticRegression()\n",
    ")"
   ]
  },
  {
   "cell_type": "code",
   "execution_count": 215,
   "id": "adb305c7",
   "metadata": {
    "ExecuteTime": {
     "end_time": "2021-10-17T18:27:42.707705Z",
     "start_time": "2021-10-17T18:27:42.391334Z"
    }
   },
   "outputs": [
    {
     "data": {
      "text/plain": [
       "0.8035904839620865"
      ]
     },
     "execution_count": 215,
     "metadata": {},
     "output_type": "execute_result"
    }
   ],
   "source": [
    "cross_val_score(pipe, X, y).mean()"
   ]
  },
  {
   "cell_type": "code",
   "execution_count": 216,
   "id": "797246cc",
   "metadata": {
    "ExecuteTime": {
     "end_time": "2021-10-17T18:27:42.723327Z",
     "start_time": "2021-10-17T18:27:42.707705Z"
    }
   },
   "outputs": [],
   "source": [
    "# Train and Predict"
   ]
  },
  {
   "cell_type": "code",
   "execution_count": 217,
   "id": "c672a002",
   "metadata": {
    "ExecuteTime": {
     "end_time": "2021-10-17T18:27:42.869382Z",
     "start_time": "2021-10-17T18:27:42.723327Z"
    }
   },
   "outputs": [
    {
     "data": {
      "text/html": [
       "<style>#sk-024d05c2-6ffc-4de9-983c-e66973776885 {color: black;background-color: white;}#sk-024d05c2-6ffc-4de9-983c-e66973776885 pre{padding: 0;}#sk-024d05c2-6ffc-4de9-983c-e66973776885 div.sk-toggleable {background-color: white;}#sk-024d05c2-6ffc-4de9-983c-e66973776885 label.sk-toggleable__label {cursor: pointer;display: block;width: 100%;margin-bottom: 0;padding: 0.3em;box-sizing: border-box;text-align: center;}#sk-024d05c2-6ffc-4de9-983c-e66973776885 div.sk-toggleable__content {max-height: 0;max-width: 0;overflow: hidden;text-align: left;background-color: #f0f8ff;}#sk-024d05c2-6ffc-4de9-983c-e66973776885 div.sk-toggleable__content pre {margin: 0.2em;color: black;border-radius: 0.25em;background-color: #f0f8ff;}#sk-024d05c2-6ffc-4de9-983c-e66973776885 input.sk-toggleable__control:checked~div.sk-toggleable__content {max-height: 200px;max-width: 100%;overflow: auto;}#sk-024d05c2-6ffc-4de9-983c-e66973776885 div.sk-estimator input.sk-toggleable__control:checked~label.sk-toggleable__label {background-color: #d4ebff;}#sk-024d05c2-6ffc-4de9-983c-e66973776885 div.sk-label input.sk-toggleable__control:checked~label.sk-toggleable__label {background-color: #d4ebff;}#sk-024d05c2-6ffc-4de9-983c-e66973776885 input.sk-hidden--visually {border: 0;clip: rect(1px 1px 1px 1px);clip: rect(1px, 1px, 1px, 1px);height: 1px;margin: -1px;overflow: hidden;padding: 0;position: absolute;width: 1px;}#sk-024d05c2-6ffc-4de9-983c-e66973776885 div.sk-estimator {font-family: monospace;background-color: #f0f8ff;border: 1px dotted black;border-radius: 0.25em;box-sizing: border-box;margin-bottom: 0.5em;}#sk-024d05c2-6ffc-4de9-983c-e66973776885 div.sk-estimator:hover {background-color: #d4ebff;}#sk-024d05c2-6ffc-4de9-983c-e66973776885 div.sk-parallel-item::after {content: \"\";width: 100%;border-bottom: 1px solid gray;flex-grow: 1;}#sk-024d05c2-6ffc-4de9-983c-e66973776885 div.sk-label:hover label.sk-toggleable__label {background-color: #d4ebff;}#sk-024d05c2-6ffc-4de9-983c-e66973776885 div.sk-serial::before {content: \"\";position: absolute;border-left: 1px solid gray;box-sizing: border-box;top: 2em;bottom: 0;left: 50%;}#sk-024d05c2-6ffc-4de9-983c-e66973776885 div.sk-serial {display: flex;flex-direction: column;align-items: center;background-color: white;padding-right: 0.2em;padding-left: 0.2em;}#sk-024d05c2-6ffc-4de9-983c-e66973776885 div.sk-item {z-index: 1;}#sk-024d05c2-6ffc-4de9-983c-e66973776885 div.sk-parallel {display: flex;align-items: stretch;justify-content: center;background-color: white;}#sk-024d05c2-6ffc-4de9-983c-e66973776885 div.sk-parallel::before {content: \"\";position: absolute;border-left: 1px solid gray;box-sizing: border-box;top: 2em;bottom: 0;left: 50%;}#sk-024d05c2-6ffc-4de9-983c-e66973776885 div.sk-parallel-item {display: flex;flex-direction: column;position: relative;background-color: white;}#sk-024d05c2-6ffc-4de9-983c-e66973776885 div.sk-parallel-item:first-child::after {align-self: flex-end;width: 50%;}#sk-024d05c2-6ffc-4de9-983c-e66973776885 div.sk-parallel-item:last-child::after {align-self: flex-start;width: 50%;}#sk-024d05c2-6ffc-4de9-983c-e66973776885 div.sk-parallel-item:only-child::after {width: 0;}#sk-024d05c2-6ffc-4de9-983c-e66973776885 div.sk-dashed-wrapped {border: 1px dashed gray;margin: 0 0.4em 0.5em 0.4em;box-sizing: border-box;padding-bottom: 0.4em;background-color: white;position: relative;}#sk-024d05c2-6ffc-4de9-983c-e66973776885 div.sk-label label {font-family: monospace;font-weight: bold;background-color: white;display: inline-block;line-height: 1.2em;}#sk-024d05c2-6ffc-4de9-983c-e66973776885 div.sk-label-container {position: relative;z-index: 2;text-align: center;}#sk-024d05c2-6ffc-4de9-983c-e66973776885 div.sk-container {display: inline-block;position: relative;}</style><div id=\"sk-024d05c2-6ffc-4de9-983c-e66973776885\" class\"sk-top-container\"><div class=\"sk-container\"><div class=\"sk-item sk-dashed-wrapped\"><div class=\"sk-label-container\"><div class=\"sk-label sk-toggleable\"><input class=\"sk-toggleable__control sk-hidden--visually\" id=\"35075ebc-8b3d-44c8-8964-494092c2523c\" type=\"checkbox\" ><label class=\"sk-toggleable__label\" for=\"35075ebc-8b3d-44c8-8964-494092c2523c\">Pipeline</label><div class=\"sk-toggleable__content\"><pre>Pipeline(steps=[('columntransformer',\n",
       "                 ColumnTransformer(transformers=[('pipeline-1',\n",
       "                                                  Pipeline(steps=[('simpleimputer',\n",
       "                                                                   SimpleImputer(add_indicator=True,\n",
       "                                                                                 strategy='median')),\n",
       "                                                                  ('standardscaler',\n",
       "                                                                   StandardScaler())]),\n",
       "                                                  <sklearn.compose._column_transformer.make_column_selector object at 0x000001671C2FFE20>),\n",
       "                                                 ('pipeline-2',\n",
       "                                                  Pipeline(steps=[('simpleimputer',\n",
       "                                                                   SimpleImputer(strategy='constant')),\n",
       "                                                                  ('onehotencoder',\n",
       "                                                                   OneHotEncoder(handle_unknown='ignore'))]),\n",
       "                                                  <sklearn.compose._column_transformer.make_column_selector object at 0x000001671C2FF070>)])),\n",
       "                ('logisticregression', LogisticRegression())])</pre></div></div></div><div class=\"sk-serial\"><div class=\"sk-item sk-dashed-wrapped\"><div class=\"sk-label-container\"><div class=\"sk-label sk-toggleable\"><input class=\"sk-toggleable__control sk-hidden--visually\" id=\"ebbe8eef-9db0-4c04-997c-d940b43de848\" type=\"checkbox\" ><label class=\"sk-toggleable__label\" for=\"ebbe8eef-9db0-4c04-997c-d940b43de848\">columntransformer: ColumnTransformer</label><div class=\"sk-toggleable__content\"><pre>ColumnTransformer(transformers=[('pipeline-1',\n",
       "                                 Pipeline(steps=[('simpleimputer',\n",
       "                                                  SimpleImputer(add_indicator=True,\n",
       "                                                                strategy='median')),\n",
       "                                                 ('standardscaler',\n",
       "                                                  StandardScaler())]),\n",
       "                                 <sklearn.compose._column_transformer.make_column_selector object at 0x000001671C2FFE20>),\n",
       "                                ('pipeline-2',\n",
       "                                 Pipeline(steps=[('simpleimputer',\n",
       "                                                  SimpleImputer(strategy='constant')),\n",
       "                                                 ('onehotencoder',\n",
       "                                                  OneHotEncoder(handle_unknown='ignore'))]),\n",
       "                                 <sklearn.compose._column_transformer.make_column_selector object at 0x000001671C2FF070>)])</pre></div></div></div><div class=\"sk-parallel\"><div class=\"sk-parallel-item\"><div class=\"sk-item\"><div class=\"sk-label-container\"><div class=\"sk-label sk-toggleable\"><input class=\"sk-toggleable__control sk-hidden--visually\" id=\"a852e85f-8d47-402a-acb8-546863020d8f\" type=\"checkbox\" ><label class=\"sk-toggleable__label\" for=\"a852e85f-8d47-402a-acb8-546863020d8f\">pipeline-1</label><div class=\"sk-toggleable__content\"><pre><sklearn.compose._column_transformer.make_column_selector object at 0x000001671C2FFE20></pre></div></div></div><div class=\"sk-serial\"><div class=\"sk-item\"><div class=\"sk-serial\"><div class=\"sk-item\"><div class=\"sk-estimator sk-toggleable\"><input class=\"sk-toggleable__control sk-hidden--visually\" id=\"c561ac5e-faff-4a94-9dd9-f8f4a5ff8f4a\" type=\"checkbox\" ><label class=\"sk-toggleable__label\" for=\"c561ac5e-faff-4a94-9dd9-f8f4a5ff8f4a\">SimpleImputer</label><div class=\"sk-toggleable__content\"><pre>SimpleImputer(add_indicator=True, strategy='median')</pre></div></div></div><div class=\"sk-item\"><div class=\"sk-estimator sk-toggleable\"><input class=\"sk-toggleable__control sk-hidden--visually\" id=\"db82ccfe-7bd4-410e-8491-0b84bc74c724\" type=\"checkbox\" ><label class=\"sk-toggleable__label\" for=\"db82ccfe-7bd4-410e-8491-0b84bc74c724\">StandardScaler</label><div class=\"sk-toggleable__content\"><pre>StandardScaler()</pre></div></div></div></div></div></div></div></div><div class=\"sk-parallel-item\"><div class=\"sk-item\"><div class=\"sk-label-container\"><div class=\"sk-label sk-toggleable\"><input class=\"sk-toggleable__control sk-hidden--visually\" id=\"5b811a73-f252-4fce-9a1b-30c0c883c68d\" type=\"checkbox\" ><label class=\"sk-toggleable__label\" for=\"5b811a73-f252-4fce-9a1b-30c0c883c68d\">pipeline-2</label><div class=\"sk-toggleable__content\"><pre><sklearn.compose._column_transformer.make_column_selector object at 0x000001671C2FF070></pre></div></div></div><div class=\"sk-serial\"><div class=\"sk-item\"><div class=\"sk-serial\"><div class=\"sk-item\"><div class=\"sk-estimator sk-toggleable\"><input class=\"sk-toggleable__control sk-hidden--visually\" id=\"063d5636-a762-42b7-a907-2277d4601c22\" type=\"checkbox\" ><label class=\"sk-toggleable__label\" for=\"063d5636-a762-42b7-a907-2277d4601c22\">SimpleImputer</label><div class=\"sk-toggleable__content\"><pre>SimpleImputer(strategy='constant')</pre></div></div></div><div class=\"sk-item\"><div class=\"sk-estimator sk-toggleable\"><input class=\"sk-toggleable__control sk-hidden--visually\" id=\"96f98fe2-956c-47aa-a8f8-d695bb6b07e6\" type=\"checkbox\" ><label class=\"sk-toggleable__label\" for=\"96f98fe2-956c-47aa-a8f8-d695bb6b07e6\">OneHotEncoder</label><div class=\"sk-toggleable__content\"><pre>OneHotEncoder(handle_unknown='ignore')</pre></div></div></div></div></div></div></div></div></div></div><div class=\"sk-item\"><div class=\"sk-estimator sk-toggleable\"><input class=\"sk-toggleable__control sk-hidden--visually\" id=\"83ef45be-1768-4bef-95e9-07d3fa62455f\" type=\"checkbox\" ><label class=\"sk-toggleable__label\" for=\"83ef45be-1768-4bef-95e9-07d3fa62455f\">LogisticRegression</label><div class=\"sk-toggleable__content\"><pre>LogisticRegression()</pre></div></div></div></div></div></div></div>"
      ],
      "text/plain": [
       "Pipeline(steps=[('columntransformer',\n",
       "                 ColumnTransformer(transformers=[('pipeline-1',\n",
       "                                                  Pipeline(steps=[('simpleimputer',\n",
       "                                                                   SimpleImputer(add_indicator=True,\n",
       "                                                                                 strategy='median')),\n",
       "                                                                  ('standardscaler',\n",
       "                                                                   StandardScaler())]),\n",
       "                                                  <sklearn.compose._column_transformer.make_column_selector object at 0x000001671C2FFE20>),\n",
       "                                                 ('pipeline-2',\n",
       "                                                  Pipeline(steps=[('simpleimputer',\n",
       "                                                                   SimpleImputer(strategy='constant')),\n",
       "                                                                  ('onehotencoder',\n",
       "                                                                   OneHotEncoder(handle_unknown='ignore'))]),\n",
       "                                                  <sklearn.compose._column_transformer.make_column_selector object at 0x000001671C2FF070>)])),\n",
       "                ('logisticregression', LogisticRegression())])"
      ]
     },
     "execution_count": 217,
     "metadata": {},
     "output_type": "execute_result"
    }
   ],
   "source": [
    "pipe.fit(X, y)"
   ]
  },
  {
   "cell_type": "code",
   "execution_count": 218,
   "id": "f43a6dbb",
   "metadata": {
    "ExecuteTime": {
     "end_time": "2021-10-17T18:27:42.916217Z",
     "start_time": "2021-10-17T18:27:42.884975Z"
    }
   },
   "outputs": [
    {
     "data": {
      "text/plain": [
       "array([0, 0, 0, 0, 1, 0, 1, 0, 1, 0], dtype=int64)"
      ]
     },
     "execution_count": 218,
     "metadata": {},
     "output_type": "execute_result"
    }
   ],
   "source": [
    "pipe.predict(X_new)"
   ]
  },
  {
   "cell_type": "markdown",
   "id": "ed8a1e5f-0bd7-4e0c-bce2-12da0767adf0",
   "metadata": {},
   "source": [
    "# Parameter Tuning\n"
   ]
  },
  {
   "cell_type": "markdown",
   "id": "d9b2ccca-3d60-44b5-981a-926032523581",
   "metadata": {},
   "source": [
    "## Use cross_val_score and GridSearchCV on a Pipeline\n",
    "\n",
    "Preprocessing steps will automatically occur AFTER each cross-validation split, which is critical if you want meaningful scores."
   ]
  },
  {
   "cell_type": "code",
   "execution_count": 219,
   "id": "2d8cf1df",
   "metadata": {},
   "outputs": [],
   "source": [
    "from sklearn.preprocessing import OneHotEncoder\n",
    "from sklearn.feature_extraction.text import CountVectorizer\n",
    "from sklearn.compose import make_column_transformer"
   ]
  },
  {
   "cell_type": "code",
   "execution_count": 220,
   "id": "776761a1-2669-4e94-a64c-75980c5795d2",
   "metadata": {},
   "outputs": [],
   "source": [
    "file_input_path = \"titanic_train.csv\"\n",
    "if not os.path.exists(file_input_path):\n",
    "    df_train = pd.read_csv(\"http://bit.ly/kaggletrain\")\n",
    "    df_train.to_csv(file_input_path, header=True, index=False, sep=\"\\t\")\n",
    "else:\n",
    "    df_train = pd.read_csv(file_input_path, header=0, sep=\"\\t\")"
   ]
  },
  {
   "cell_type": "code",
   "execution_count": 221,
   "id": "238239ee-59b6-44a1-8df3-9ae925a4293a",
   "metadata": {},
   "outputs": [],
   "source": [
    "X, y = df_train[[\"Sex\", \"Name\"]], df_train[\"Survived\"]"
   ]
  },
  {
   "cell_type": "code",
   "execution_count": 222,
   "id": "8c95861a",
   "metadata": {},
   "outputs": [],
   "source": [
    "col_transformer = make_column_transformer(\n",
    "    (OneHotEncoder(), [\"Sex\"]),\n",
    "    (CountVectorizer(), \"Name\")\n",
    ")"
   ]
  },
  {
   "cell_type": "code",
   "execution_count": 223,
   "id": "ebb7f48a",
   "metadata": {},
   "outputs": [],
   "source": [
    "from sklearn.linear_model import LogisticRegression\n",
    "clf = LogisticRegression(solver=\"liblinear\", random_state=1)"
   ]
  },
  {
   "cell_type": "code",
   "execution_count": 224,
   "id": "f5928a3d",
   "metadata": {},
   "outputs": [],
   "source": [
    "from sklearn.pipeline import make_pipeline\n",
    "pipe = make_pipeline(col_transformer, clf)"
   ]
  },
  {
   "cell_type": "markdown",
   "id": "534e3af3-84f5-4a04-8170-a0168aba36f8",
   "metadata": {
    "tags": []
   },
   "source": [
    "### Cross validate the entire pipeline, instead of the model"
   ]
  },
  {
   "cell_type": "code",
   "execution_count": 225,
   "id": "ff876223",
   "metadata": {},
   "outputs": [
    {
     "data": {
      "text/plain": [
       "0.8024543343167408"
      ]
     },
     "execution_count": 225,
     "metadata": {},
     "output_type": "execute_result"
    }
   ],
   "source": [
    "from sklearn.model_selection import cross_val_score\n",
    "cross_val_score(pipe, X, y, cv=5, scoring=\"accuracy\").mean()"
   ]
  },
  {
   "cell_type": "markdown",
   "id": "420ebd0c-d404-461c-bb0c-e0301c2c4261",
   "metadata": {},
   "source": [
    "### Find the optimal tuning parameter"
   ]
  },
  {
   "cell_type": "code",
   "execution_count": 226,
   "id": "9c90ae00",
   "metadata": {},
   "outputs": [],
   "source": [
    "# specify parameter values to search\n",
    "params = {}\n",
    "params['columntransformer__countvectorizer__min_df'] = [1, 2]\n",
    "params['logisticregression__C'] = [0.1, 1, 10]\n",
    "params['logisticregression__penalty'] = ['l1', 'l2']"
   ]
  },
  {
   "cell_type": "code",
   "execution_count": 227,
   "id": "d45448fc-e5bf-49df-be51-f298827bb0b9",
   "metadata": {},
   "outputs": [],
   "source": [
    "# try all possible combinations of those parameter values\n",
    "from sklearn.model_selection import GridSearchCV\n",
    "grid = GridSearchCV(pipe, params, cv=5, scoring='accuracy')\n",
    "grid.fit(X, y);"
   ]
  },
  {
   "cell_type": "code",
   "execution_count": 228,
   "id": "f85cc1cf-9c33-4bca-91ac-f236d41668ea",
   "metadata": {},
   "outputs": [
    {
     "data": {
      "text/plain": [
       "0.8215177954930638"
      ]
     },
     "execution_count": 228,
     "metadata": {},
     "output_type": "execute_result"
    }
   ],
   "source": [
    "# what was the best score found during the search?\n",
    "grid.best_score_"
   ]
  },
  {
   "cell_type": "code",
   "execution_count": 229,
   "id": "7c7ebf30-c9b5-4b4f-ae0c-ba6088974792",
   "metadata": {},
   "outputs": [
    {
     "data": {
      "text/plain": [
       "{'columntransformer__countvectorizer__min_df': 1,\n",
       " 'logisticregression__C': 1,\n",
       " 'logisticregression__penalty': 'l1'}"
      ]
     },
     "execution_count": 229,
     "metadata": {},
     "output_type": "execute_result"
    }
   ],
   "source": [
    "# which combination of parameters produced the best score?\n",
    "grid.best_params_"
   ]
  },
  {
   "cell_type": "markdown",
   "id": "574a878b-e365-4564-bdee-7223ec09dc7d",
   "metadata": {},
   "source": [
    "## When GridSearchCV takes too long, try RandomizedSearchCV\n",
    "\n",
    "[GridSearchCV](https://scikit-learn.org/stable/modules/generated/sklearn.model_selection.GridSearchCV.html) taking too long? Try [RandomizedSearchCV](https://scikit-learn.org/stable/modules/generated/sklearn.model_selection.RandomizedSearchCV.html) with a small number of iterations.\n",
    "\n",
    "Make sure to specify a [distribution](https://docs.scipy.org/doc/scipy/reference/stats.html) (instead of a list of values) for continuous parameters!\n",
    "\n",
    "Additional links: [np.linspace](https://numpy.org/doc/stable/reference/generated/numpy.linspace.html), [np.logspace](https://numpy.org/doc/stable/reference/generated/numpy.logspace.html)"
   ]
  },
  {
   "cell_type": "code",
   "execution_count": 230,
   "id": "fb34558c-77e3-4ab9-8cff-6dd9997a44eb",
   "metadata": {},
   "outputs": [],
   "source": [
    "file_input_path = \"titanic_train.csv\"\n",
    "if not os.path.exists(file_input_path):\n",
    "    df_train = pd.read_csv(\"http://bit.ly/kaggletrain\")\n",
    "    df_train.to_csv(file_input_path, header=True, index=False, sep=\"\\t\")\n",
    "else:\n",
    "    df_train = pd.read_csv(file_input_path, header=0, sep=\"\\t\")"
   ]
  },
  {
   "cell_type": "code",
   "execution_count": 231,
   "id": "e66c1a50-581d-4437-9dd1-3fbff2a17115",
   "metadata": {},
   "outputs": [],
   "source": [
    "X, y = df_train[\"Name\"], df_train[\"Survived\"]"
   ]
  },
  {
   "cell_type": "code",
   "execution_count": 232,
   "id": "ff157865-9d66-484b-9d83-a7667a4b1ea5",
   "metadata": {},
   "outputs": [],
   "source": [
    "from sklearn.feature_extraction.text import CountVectorizer\n",
    "from sklearn.naive_bayes import MultinomialNB\n",
    "from sklearn.pipeline import make_pipeline"
   ]
  },
  {
   "cell_type": "code",
   "execution_count": 233,
   "id": "a9fb27f1-68e7-4baf-9c9e-c6a9ba4bad7d",
   "metadata": {},
   "outputs": [],
   "source": [
    "pipe = make_pipeline(\n",
    "    CountVectorizer(),\n",
    "    MultinomialNB()\n",
    ")"
   ]
  },
  {
   "cell_type": "markdown",
   "id": "e092567a-2a3e-45aa-8ebd-f1f157b63666",
   "metadata": {},
   "source": [
    "### cross-validate the pipeline using default parameters"
   ]
  },
  {
   "cell_type": "code",
   "execution_count": 234,
   "id": "708b2a9c",
   "metadata": {},
   "outputs": [
    {
     "data": {
      "text/plain": [
       "0.8001820350260498"
      ]
     },
     "execution_count": 234,
     "metadata": {},
     "output_type": "execute_result"
    }
   ],
   "source": [
    "from sklearn.model_selection import cross_val_score\n",
    "cross_val_score(pipe, X, y, cv=5, scoring='accuracy').mean()"
   ]
  },
  {
   "cell_type": "markdown",
   "id": "2485cb18-ded1-4908-84df-c7d1e02cd629",
   "metadata": {},
   "source": [
    "### specify parameter values to search (use a distribution for any continuous parameters)"
   ]
  },
  {
   "cell_type": "code",
   "execution_count": 235,
   "id": "00cd2b83-c1c2-42c7-ac83-b4fd35c375a2",
   "metadata": {},
   "outputs": [],
   "source": [
    "import scipy as sp\n",
    "params = {}\n",
    "params['countvectorizer__min_df'] = [1, 2, 3, 4]\n",
    "params['countvectorizer__lowercase'] = [True, False]\n",
    "params['multinomialnb__alpha'] = sp.stats.uniform(scale=1)"
   ]
  },
  {
   "cell_type": "code",
   "execution_count": 236,
   "id": "b8f861c1-f739-4b46-8823-d606d13ed566",
   "metadata": {},
   "outputs": [],
   "source": [
    "# try \"n_iter\" random combinations of those parameter values\n",
    "from sklearn.model_selection import RandomizedSearchCV\n",
    "rand = RandomizedSearchCV(pipe, params, n_iter=10, cv=5, scoring='accuracy', random_state=1)\n",
    "rand.fit(X, y);"
   ]
  },
  {
   "cell_type": "code",
   "execution_count": 237,
   "id": "a1141430-e1ea-48b9-a124-0887b2569e9f",
   "metadata": {},
   "outputs": [
    {
     "data": {
      "text/plain": [
       "0.8080534806352395"
      ]
     },
     "execution_count": 237,
     "metadata": {},
     "output_type": "execute_result"
    }
   ],
   "source": [
    "# what was the best score found during the search?\n",
    "rand.best_score_"
   ]
  },
  {
   "cell_type": "code",
   "execution_count": 238,
   "id": "fea8ee9f-d005-4d39-8178-fcf4f3f8b504",
   "metadata": {},
   "outputs": [
    {
     "data": {
      "text/plain": [
       "{'countvectorizer__lowercase': False,\n",
       " 'countvectorizer__min_df': 3,\n",
       " 'multinomialnb__alpha': 0.1981014890848788}"
      ]
     },
     "execution_count": 238,
     "metadata": {},
     "output_type": "execute_result"
    }
   ],
   "source": [
    "# which combination of parameters produced the best score?\n",
    "rand.best_params_"
   ]
  },
  {
   "cell_type": "markdown",
   "id": "ae31ccdb-1896-44e1-bf6a-f8b6cb1bbd9d",
   "metadata": {},
   "source": [
    "## Display GridSearchCV and RandomizedSearchCV results in a DataFrame\n",
    "\n",
    "Hyperparameter search results (from GridSearchCV or RandomizedSearchCV) can be converted into a pandas DataFrame.\n",
    "\n",
    "Makes it far easier to explore the results!"
   ]
  },
  {
   "cell_type": "code",
   "execution_count": 239,
   "id": "3032b9bf-b670-4cc9-bc1e-0970935a73fe",
   "metadata": {},
   "outputs": [],
   "source": [
    "file_input_path = \"titanic_train.csv\"\n",
    "if not os.path.exists(file_input_path):\n",
    "    df_train = pd.read_csv(\"http://bit.ly/kaggletrain\")\n",
    "    df_train.to_csv(file_input_path, header=True, index=False, sep=\"\\t\")\n",
    "else:\n",
    "    df_train = pd.read_csv(file_input_path, header=0, sep=\"\\t\")"
   ]
  },
  {
   "cell_type": "code",
   "execution_count": 240,
   "id": "a3778752-55b1-4213-841e-eab0cf133168",
   "metadata": {},
   "outputs": [],
   "source": [
    "X = df_train[['Pclass', 'Sex', 'Name']]\n",
    "y = df_train['Survived']"
   ]
  },
  {
   "cell_type": "code",
   "execution_count": 241,
   "id": "c1866a91-2964-4ac0-a93b-69f5b2701f07",
   "metadata": {},
   "outputs": [],
   "source": [
    "from sklearn.preprocessing import OneHotEncoder\n",
    "from sklearn.feature_extraction.text import CountVectorizer\n",
    "from sklearn.linear_model import LogisticRegression\n",
    "from sklearn.compose import make_column_transformer\n",
    "from sklearn.pipeline import Pipeline"
   ]
  },
  {
   "cell_type": "code",
   "execution_count": 242,
   "id": "f131d960-8d15-42e8-a0d3-1952cc7b6ac2",
   "metadata": {},
   "outputs": [],
   "source": [
    "col_transformer = make_column_transformer(\n",
    "    (OneHotEncoder(), [\"Sex\"]),\n",
    "    (CountVectorizer(), \"Name\"),\n",
    "    remainder=\"passthrough\"\n",
    ")"
   ]
  },
  {
   "cell_type": "code",
   "execution_count": 243,
   "id": "c1182c0b-77e9-41f4-a5b1-f669045747c8",
   "metadata": {},
   "outputs": [],
   "source": [
    "clf = LogisticRegression(solver=\"liblinear\", random_state=1)"
   ]
  },
  {
   "cell_type": "code",
   "execution_count": 244,
   "id": "49699641-3eb0-4fcf-aedd-e4d03e6c46aa",
   "metadata": {},
   "outputs": [],
   "source": [
    "pipe = Pipeline(\n",
    "    [\n",
    "        (\"preprocessor\", col_transformer),\n",
    "        (\"model\", clf)\n",
    "    ]\n",
    ")"
   ]
  },
  {
   "cell_type": "code",
   "execution_count": 245,
   "id": "b75412f2-eb07-4131-9103-9f5c7b8e5de0",
   "metadata": {},
   "outputs": [],
   "source": [
    "# specify parameter values to search\n",
    "params = {}\n",
    "params['model__C'] = [0.1, 1, 10]\n",
    "params['model__penalty'] = ['l1', 'l2']"
   ]
  },
  {
   "cell_type": "code",
   "execution_count": 246,
   "id": "8d3a4e3f-0301-410e-ab17-a0d317064b69",
   "metadata": {},
   "outputs": [],
   "source": [
    "# try all possible combinations of those parameter values\n",
    "from sklearn.model_selection import GridSearchCV\n",
    "grid = GridSearchCV(pipe, params, cv=5, scoring='accuracy')\n",
    "grid.fit(X, y);"
   ]
  },
  {
   "cell_type": "code",
   "execution_count": 247,
   "id": "4da0a172-c285-4109-ae0a-c1d1fdd41632",
   "metadata": {},
   "outputs": [],
   "source": [
    "# convert results into a DataFrame\n",
    "results = pd.DataFrame(grid.cv_results_)[['params', 'mean_test_score', 'rank_test_score']]"
   ]
  },
  {
   "cell_type": "code",
   "execution_count": 248,
   "id": "70492410-3666-41e4-abeb-b9cfbc92f876",
   "metadata": {},
   "outputs": [
    {
     "data": {
      "text/html": [
       "<div>\n",
       "<style scoped>\n",
       "    .dataframe tbody tr th:only-of-type {\n",
       "        vertical-align: middle;\n",
       "    }\n",
       "\n",
       "    .dataframe tbody tr th {\n",
       "        vertical-align: top;\n",
       "    }\n",
       "\n",
       "    .dataframe thead th {\n",
       "        text-align: right;\n",
       "    }\n",
       "</style>\n",
       "<table border=\"1\" class=\"dataframe\">\n",
       "  <thead>\n",
       "    <tr style=\"text-align: right;\">\n",
       "      <th></th>\n",
       "      <th>params</th>\n",
       "      <th>mean_test_score</th>\n",
       "      <th>rank_test_score</th>\n",
       "    </tr>\n",
       "  </thead>\n",
       "  <tbody>\n",
       "    <tr>\n",
       "      <th>4</th>\n",
       "      <td>{'model__C': 10, 'model__penalty': 'l1'}</td>\n",
       "      <td>0.821537</td>\n",
       "      <td>1</td>\n",
       "    </tr>\n",
       "    <tr>\n",
       "      <th>2</th>\n",
       "      <td>{'model__C': 1, 'model__penalty': 'l1'}</td>\n",
       "      <td>0.820394</td>\n",
       "      <td>2</td>\n",
       "    </tr>\n",
       "    <tr>\n",
       "      <th>5</th>\n",
       "      <td>{'model__C': 10, 'model__penalty': 'l2'}</td>\n",
       "      <td>0.817055</td>\n",
       "      <td>3</td>\n",
       "    </tr>\n",
       "    <tr>\n",
       "      <th>3</th>\n",
       "      <td>{'model__C': 1, 'model__penalty': 'l2'}</td>\n",
       "      <td>0.812573</td>\n",
       "      <td>4</td>\n",
       "    </tr>\n",
       "    <tr>\n",
       "      <th>1</th>\n",
       "      <td>{'model__C': 0.1, 'model__penalty': 'l2'}</td>\n",
       "      <td>0.791225</td>\n",
       "      <td>5</td>\n",
       "    </tr>\n",
       "    <tr>\n",
       "      <th>0</th>\n",
       "      <td>{'model__C': 0.1, 'model__penalty': 'l1'}</td>\n",
       "      <td>0.788984</td>\n",
       "      <td>6</td>\n",
       "    </tr>\n",
       "  </tbody>\n",
       "</table>\n",
       "</div>"
      ],
      "text/plain": [
       "                                      params  mean_test_score  rank_test_score\n",
       "4   {'model__C': 10, 'model__penalty': 'l1'}         0.821537                1\n",
       "2    {'model__C': 1, 'model__penalty': 'l1'}         0.820394                2\n",
       "5   {'model__C': 10, 'model__penalty': 'l2'}         0.817055                3\n",
       "3    {'model__C': 1, 'model__penalty': 'l2'}         0.812573                4\n",
       "1  {'model__C': 0.1, 'model__penalty': 'l2'}         0.791225                5\n",
       "0  {'model__C': 0.1, 'model__penalty': 'l1'}         0.788984                6"
      ]
     },
     "execution_count": 248,
     "metadata": {},
     "output_type": "execute_result"
    }
   ],
   "source": [
    "# sort by test score\n",
    "results.sort_values('rank_test_score')"
   ]
  },
  {
   "cell_type": "markdown",
   "id": "12d1e82d-b7b6-4af6-9063-31e33a20ead7",
   "metadata": {},
   "source": [
    "## Important tuning parameter for LogisticRegression\n",
    "\n",
    "Some important tuning parameters for [LogisticRegression](https://scikit-learn.org/stable/modules/linear_model.html#logistic-regression):\n",
    "+ C: inverse of regularization strength\n",
    "+ penalty: type of regularization\n",
    "+ solver: algorithm used for optimization"
   ]
  },
  {
   "cell_type": "markdown",
   "id": "6983f9ea-37b5-4183-a684-3b8f0cef3152",
   "metadata": {},
   "source": [
    "## Prune a decision tree to avoid overfitting\n",
    "\n",
    "New in scikit-learn 0.22: Pruning of decision trees to avoid overfitting!\n",
    "+ Uses cost-complexity pruning\n",
    "+ Increase \"ccp_alpha\" to increase pruning (default value is 0)\n",
    "\n",
    "Ref: [DecisionTreeClassifier](https://scikit-learn.org/stable/modules/generated/sklearn.tree.DecisionTreeClassifier.html)"
   ]
  },
  {
   "cell_type": "code",
   "execution_count": 249,
   "id": "dc3b3fe7-fb3f-4262-8f41-d156b3ca7a29",
   "metadata": {},
   "outputs": [],
   "source": [
    "file_input_path = \"titanic_train.csv\"\n",
    "if not os.path.exists(file_input_path):\n",
    "    df_train = pd.read_csv(\"http://bit.ly/kaggletrain\")\n",
    "    df_train.to_csv(file_input_path, header=True, index=False, sep=\"\\t\")\n",
    "else:\n",
    "    df_train = pd.read_csv(file_input_path, header=0, sep=\"\\t\")"
   ]
  },
  {
   "cell_type": "code",
   "execution_count": 250,
   "id": "d1f4c94a",
   "metadata": {},
   "outputs": [
    {
     "data": {
      "text/html": [
       "<div>\n",
       "<style scoped>\n",
       "    .dataframe tbody tr th:only-of-type {\n",
       "        vertical-align: middle;\n",
       "    }\n",
       "\n",
       "    .dataframe tbody tr th {\n",
       "        vertical-align: top;\n",
       "    }\n",
       "\n",
       "    .dataframe thead th {\n",
       "        text-align: right;\n",
       "    }\n",
       "</style>\n",
       "<table border=\"1\" class=\"dataframe\">\n",
       "  <thead>\n",
       "    <tr style=\"text-align: right;\">\n",
       "      <th></th>\n",
       "      <th>PassengerId</th>\n",
       "      <th>Survived</th>\n",
       "      <th>Pclass</th>\n",
       "      <th>Name</th>\n",
       "      <th>Sex</th>\n",
       "      <th>Age</th>\n",
       "      <th>SibSp</th>\n",
       "      <th>Parch</th>\n",
       "      <th>Ticket</th>\n",
       "      <th>Fare</th>\n",
       "      <th>Cabin</th>\n",
       "      <th>Embarked</th>\n",
       "    </tr>\n",
       "  </thead>\n",
       "  <tbody>\n",
       "    <tr>\n",
       "      <th>0</th>\n",
       "      <td>1</td>\n",
       "      <td>0</td>\n",
       "      <td>3</td>\n",
       "      <td>Braund, Mr. Owen Harris</td>\n",
       "      <td>male</td>\n",
       "      <td>22.0</td>\n",
       "      <td>1</td>\n",
       "      <td>0</td>\n",
       "      <td>A/5 21171</td>\n",
       "      <td>7.2500</td>\n",
       "      <td>NaN</td>\n",
       "      <td>S</td>\n",
       "    </tr>\n",
       "    <tr>\n",
       "      <th>1</th>\n",
       "      <td>2</td>\n",
       "      <td>1</td>\n",
       "      <td>1</td>\n",
       "      <td>Cumings, Mrs. John Bradley (Florence Briggs Th...</td>\n",
       "      <td>female</td>\n",
       "      <td>38.0</td>\n",
       "      <td>1</td>\n",
       "      <td>0</td>\n",
       "      <td>PC 17599</td>\n",
       "      <td>71.2833</td>\n",
       "      <td>C85</td>\n",
       "      <td>C</td>\n",
       "    </tr>\n",
       "    <tr>\n",
       "      <th>2</th>\n",
       "      <td>3</td>\n",
       "      <td>1</td>\n",
       "      <td>3</td>\n",
       "      <td>Heikkinen, Miss. Laina</td>\n",
       "      <td>female</td>\n",
       "      <td>26.0</td>\n",
       "      <td>0</td>\n",
       "      <td>0</td>\n",
       "      <td>STON/O2. 3101282</td>\n",
       "      <td>7.9250</td>\n",
       "      <td>NaN</td>\n",
       "      <td>S</td>\n",
       "    </tr>\n",
       "  </tbody>\n",
       "</table>\n",
       "</div>"
      ],
      "text/plain": [
       "   PassengerId  Survived  Pclass  \\\n",
       "0            1         0       3   \n",
       "1            2         1       1   \n",
       "2            3         1       3   \n",
       "\n",
       "                                                Name     Sex   Age  SibSp  \\\n",
       "0                            Braund, Mr. Owen Harris    male  22.0      1   \n",
       "1  Cumings, Mrs. John Bradley (Florence Briggs Th...  female  38.0      1   \n",
       "2                             Heikkinen, Miss. Laina  female  26.0      0   \n",
       "\n",
       "   Parch            Ticket     Fare Cabin Embarked  \n",
       "0      0         A/5 21171   7.2500   NaN        S  \n",
       "1      0          PC 17599  71.2833   C85        C  \n",
       "2      0  STON/O2. 3101282   7.9250   NaN        S  "
      ]
     },
     "execution_count": 250,
     "metadata": {},
     "output_type": "execute_result"
    }
   ],
   "source": [
    "df_train.head(3)"
   ]
  },
  {
   "cell_type": "markdown",
   "id": "989408cd",
   "metadata": {},
   "source": [
    "### Transform categorical column to numeric"
   ]
  },
  {
   "cell_type": "code",
   "execution_count": 251,
   "id": "d976eb45",
   "metadata": {},
   "outputs": [],
   "source": [
    "df_train[\"Sex\"] = df_train[\"Sex\"].map(\n",
    "    {\"male\": 0, \"female\": 1}\n",
    ")"
   ]
  },
  {
   "cell_type": "code",
   "execution_count": 252,
   "id": "026a654d",
   "metadata": {},
   "outputs": [
    {
     "data": {
      "text/html": [
       "<div>\n",
       "<style scoped>\n",
       "    .dataframe tbody tr th:only-of-type {\n",
       "        vertical-align: middle;\n",
       "    }\n",
       "\n",
       "    .dataframe tbody tr th {\n",
       "        vertical-align: top;\n",
       "    }\n",
       "\n",
       "    .dataframe thead th {\n",
       "        text-align: right;\n",
       "    }\n",
       "</style>\n",
       "<table border=\"1\" class=\"dataframe\">\n",
       "  <thead>\n",
       "    <tr style=\"text-align: right;\">\n",
       "      <th></th>\n",
       "      <th>PassengerId</th>\n",
       "      <th>Survived</th>\n",
       "      <th>Pclass</th>\n",
       "      <th>Name</th>\n",
       "      <th>Sex</th>\n",
       "      <th>Age</th>\n",
       "      <th>SibSp</th>\n",
       "      <th>Parch</th>\n",
       "      <th>Ticket</th>\n",
       "      <th>Fare</th>\n",
       "      <th>Cabin</th>\n",
       "      <th>Embarked</th>\n",
       "    </tr>\n",
       "  </thead>\n",
       "  <tbody>\n",
       "    <tr>\n",
       "      <th>0</th>\n",
       "      <td>1</td>\n",
       "      <td>0</td>\n",
       "      <td>3</td>\n",
       "      <td>Braund, Mr. Owen Harris</td>\n",
       "      <td>0</td>\n",
       "      <td>22.0</td>\n",
       "      <td>1</td>\n",
       "      <td>0</td>\n",
       "      <td>A/5 21171</td>\n",
       "      <td>7.2500</td>\n",
       "      <td>NaN</td>\n",
       "      <td>S</td>\n",
       "    </tr>\n",
       "    <tr>\n",
       "      <th>1</th>\n",
       "      <td>2</td>\n",
       "      <td>1</td>\n",
       "      <td>1</td>\n",
       "      <td>Cumings, Mrs. John Bradley (Florence Briggs Th...</td>\n",
       "      <td>1</td>\n",
       "      <td>38.0</td>\n",
       "      <td>1</td>\n",
       "      <td>0</td>\n",
       "      <td>PC 17599</td>\n",
       "      <td>71.2833</td>\n",
       "      <td>C85</td>\n",
       "      <td>C</td>\n",
       "    </tr>\n",
       "    <tr>\n",
       "      <th>2</th>\n",
       "      <td>3</td>\n",
       "      <td>1</td>\n",
       "      <td>3</td>\n",
       "      <td>Heikkinen, Miss. Laina</td>\n",
       "      <td>1</td>\n",
       "      <td>26.0</td>\n",
       "      <td>0</td>\n",
       "      <td>0</td>\n",
       "      <td>STON/O2. 3101282</td>\n",
       "      <td>7.9250</td>\n",
       "      <td>NaN</td>\n",
       "      <td>S</td>\n",
       "    </tr>\n",
       "  </tbody>\n",
       "</table>\n",
       "</div>"
      ],
      "text/plain": [
       "   PassengerId  Survived  Pclass  \\\n",
       "0            1         0       3   \n",
       "1            2         1       1   \n",
       "2            3         1       3   \n",
       "\n",
       "                                                Name  Sex   Age  SibSp  Parch  \\\n",
       "0                            Braund, Mr. Owen Harris    0  22.0      1      0   \n",
       "1  Cumings, Mrs. John Bradley (Florence Briggs Th...    1  38.0      1      0   \n",
       "2                             Heikkinen, Miss. Laina    1  26.0      0      0   \n",
       "\n",
       "             Ticket     Fare Cabin Embarked  \n",
       "0         A/5 21171   7.2500   NaN        S  \n",
       "1          PC 17599  71.2833   C85        C  \n",
       "2  STON/O2. 3101282   7.9250   NaN        S  "
      ]
     },
     "execution_count": 252,
     "metadata": {},
     "output_type": "execute_result"
    }
   ],
   "source": [
    "df_train.head(3)"
   ]
  },
  {
   "cell_type": "markdown",
   "id": "9dd3da50",
   "metadata": {},
   "source": [
    "### Filter out the features"
   ]
  },
  {
   "cell_type": "code",
   "execution_count": 253,
   "id": "aaa6f023",
   "metadata": {},
   "outputs": [],
   "source": [
    "features = [\"Pclass\", \"Fare\", \"Sex\", \"Parch\"]\n",
    "X, y = df_train[features], df_train[\"Survived\"]"
   ]
  },
  {
   "cell_type": "code",
   "execution_count": 254,
   "id": "cf9b29f7",
   "metadata": {},
   "outputs": [
    {
     "data": {
      "text/html": [
       "<div>\n",
       "<style scoped>\n",
       "    .dataframe tbody tr th:only-of-type {\n",
       "        vertical-align: middle;\n",
       "    }\n",
       "\n",
       "    .dataframe tbody tr th {\n",
       "        vertical-align: top;\n",
       "    }\n",
       "\n",
       "    .dataframe thead th {\n",
       "        text-align: right;\n",
       "    }\n",
       "</style>\n",
       "<table border=\"1\" class=\"dataframe\">\n",
       "  <thead>\n",
       "    <tr style=\"text-align: right;\">\n",
       "      <th></th>\n",
       "      <th>Pclass</th>\n",
       "      <th>Fare</th>\n",
       "      <th>Sex</th>\n",
       "      <th>Parch</th>\n",
       "    </tr>\n",
       "  </thead>\n",
       "  <tbody>\n",
       "    <tr>\n",
       "      <th>0</th>\n",
       "      <td>3</td>\n",
       "      <td>7.2500</td>\n",
       "      <td>0</td>\n",
       "      <td>0</td>\n",
       "    </tr>\n",
       "    <tr>\n",
       "      <th>1</th>\n",
       "      <td>1</td>\n",
       "      <td>71.2833</td>\n",
       "      <td>1</td>\n",
       "      <td>0</td>\n",
       "    </tr>\n",
       "    <tr>\n",
       "      <th>2</th>\n",
       "      <td>3</td>\n",
       "      <td>7.9250</td>\n",
       "      <td>1</td>\n",
       "      <td>0</td>\n",
       "    </tr>\n",
       "  </tbody>\n",
       "</table>\n",
       "</div>"
      ],
      "text/plain": [
       "   Pclass     Fare  Sex  Parch\n",
       "0       3   7.2500    0      0\n",
       "1       1  71.2833    1      0\n",
       "2       3   7.9250    1      0"
      ]
     },
     "execution_count": 254,
     "metadata": {},
     "output_type": "execute_result"
    }
   ],
   "source": [
    "X.head(3)"
   ]
  },
  {
   "cell_type": "code",
   "execution_count": 255,
   "id": "826c1ce6",
   "metadata": {},
   "outputs": [
    {
     "data": {
      "text/plain": [
       "0    0\n",
       "1    1\n",
       "2    1\n",
       "Name: Survived, dtype: int64"
      ]
     },
     "execution_count": 255,
     "metadata": {},
     "output_type": "execute_result"
    }
   ],
   "source": [
    "y.head(3)"
   ]
  },
  {
   "cell_type": "markdown",
   "id": "610dd249",
   "metadata": {},
   "source": [
    "### Training phase based on cross validation"
   ]
  },
  {
   "cell_type": "code",
   "execution_count": 256,
   "id": "fcd58d52",
   "metadata": {},
   "outputs": [],
   "source": [
    "from sklearn.tree import DecisionTreeClassifier\n",
    "from sklearn.model_selection import cross_val_score"
   ]
  },
  {
   "cell_type": "code",
   "execution_count": 257,
   "id": "4cb96f10",
   "metadata": {},
   "outputs": [],
   "source": [
    "dt = DecisionTreeClassifier(random_state=0)"
   ]
  },
  {
   "cell_type": "code",
   "execution_count": 258,
   "id": "533c91dc",
   "metadata": {},
   "outputs": [
    {
     "name": "stdout",
     "output_type": "stream",
     "text": [
      "Default tree has 331 (nodes).\n"
     ]
    }
   ],
   "source": [
    "print(f\"Default tree has {dt.fit(X, y).tree_.node_count} (nodes).\")"
   ]
  },
  {
   "cell_type": "code",
   "execution_count": 259,
   "id": "8e1b34e8",
   "metadata": {},
   "outputs": [
    {
     "data": {
      "text/plain": [
       "array([0.77094972, 0.78089888, 0.83707865, 0.80337079, 0.8258427 ])"
      ]
     },
     "execution_count": 259,
     "metadata": {},
     "output_type": "execute_result"
    }
   ],
   "source": [
    "scores = cross_val_score(dt, X, y, cv=5, scoring=\"accuracy\")\n",
    "scores"
   ]
  },
  {
   "cell_type": "code",
   "execution_count": 260,
   "id": "76d2890b",
   "metadata": {},
   "outputs": [
    {
     "data": {
      "text/plain": [
       "0.8036281463812692"
      ]
     },
     "execution_count": 260,
     "metadata": {},
     "output_type": "execute_result"
    }
   ],
   "source": [
    "scores.mean()"
   ]
  },
  {
   "cell_type": "markdown",
   "id": "d973785c",
   "metadata": {},
   "source": [
    "### Prune tree"
   ]
  },
  {
   "cell_type": "code",
   "execution_count": 261,
   "id": "02463b5c",
   "metadata": {},
   "outputs": [
    {
     "data": {
      "text/html": [
       "<style>#sk-7298d129-bb88-4119-9870-e8216705edfb {color: black;background-color: white;}#sk-7298d129-bb88-4119-9870-e8216705edfb pre{padding: 0;}#sk-7298d129-bb88-4119-9870-e8216705edfb div.sk-toggleable {background-color: white;}#sk-7298d129-bb88-4119-9870-e8216705edfb label.sk-toggleable__label {cursor: pointer;display: block;width: 100%;margin-bottom: 0;padding: 0.3em;box-sizing: border-box;text-align: center;}#sk-7298d129-bb88-4119-9870-e8216705edfb div.sk-toggleable__content {max-height: 0;max-width: 0;overflow: hidden;text-align: left;background-color: #f0f8ff;}#sk-7298d129-bb88-4119-9870-e8216705edfb div.sk-toggleable__content pre {margin: 0.2em;color: black;border-radius: 0.25em;background-color: #f0f8ff;}#sk-7298d129-bb88-4119-9870-e8216705edfb input.sk-toggleable__control:checked~div.sk-toggleable__content {max-height: 200px;max-width: 100%;overflow: auto;}#sk-7298d129-bb88-4119-9870-e8216705edfb div.sk-estimator input.sk-toggleable__control:checked~label.sk-toggleable__label {background-color: #d4ebff;}#sk-7298d129-bb88-4119-9870-e8216705edfb div.sk-label input.sk-toggleable__control:checked~label.sk-toggleable__label {background-color: #d4ebff;}#sk-7298d129-bb88-4119-9870-e8216705edfb input.sk-hidden--visually {border: 0;clip: rect(1px 1px 1px 1px);clip: rect(1px, 1px, 1px, 1px);height: 1px;margin: -1px;overflow: hidden;padding: 0;position: absolute;width: 1px;}#sk-7298d129-bb88-4119-9870-e8216705edfb div.sk-estimator {font-family: monospace;background-color: #f0f8ff;border: 1px dotted black;border-radius: 0.25em;box-sizing: border-box;margin-bottom: 0.5em;}#sk-7298d129-bb88-4119-9870-e8216705edfb div.sk-estimator:hover {background-color: #d4ebff;}#sk-7298d129-bb88-4119-9870-e8216705edfb div.sk-parallel-item::after {content: \"\";width: 100%;border-bottom: 1px solid gray;flex-grow: 1;}#sk-7298d129-bb88-4119-9870-e8216705edfb div.sk-label:hover label.sk-toggleable__label {background-color: #d4ebff;}#sk-7298d129-bb88-4119-9870-e8216705edfb div.sk-serial::before {content: \"\";position: absolute;border-left: 1px solid gray;box-sizing: border-box;top: 2em;bottom: 0;left: 50%;}#sk-7298d129-bb88-4119-9870-e8216705edfb div.sk-serial {display: flex;flex-direction: column;align-items: center;background-color: white;padding-right: 0.2em;padding-left: 0.2em;}#sk-7298d129-bb88-4119-9870-e8216705edfb div.sk-item {z-index: 1;}#sk-7298d129-bb88-4119-9870-e8216705edfb div.sk-parallel {display: flex;align-items: stretch;justify-content: center;background-color: white;}#sk-7298d129-bb88-4119-9870-e8216705edfb div.sk-parallel::before {content: \"\";position: absolute;border-left: 1px solid gray;box-sizing: border-box;top: 2em;bottom: 0;left: 50%;}#sk-7298d129-bb88-4119-9870-e8216705edfb div.sk-parallel-item {display: flex;flex-direction: column;position: relative;background-color: white;}#sk-7298d129-bb88-4119-9870-e8216705edfb div.sk-parallel-item:first-child::after {align-self: flex-end;width: 50%;}#sk-7298d129-bb88-4119-9870-e8216705edfb div.sk-parallel-item:last-child::after {align-self: flex-start;width: 50%;}#sk-7298d129-bb88-4119-9870-e8216705edfb div.sk-parallel-item:only-child::after {width: 0;}#sk-7298d129-bb88-4119-9870-e8216705edfb div.sk-dashed-wrapped {border: 1px dashed gray;margin: 0 0.4em 0.5em 0.4em;box-sizing: border-box;padding-bottom: 0.4em;background-color: white;position: relative;}#sk-7298d129-bb88-4119-9870-e8216705edfb div.sk-label label {font-family: monospace;font-weight: bold;background-color: white;display: inline-block;line-height: 1.2em;}#sk-7298d129-bb88-4119-9870-e8216705edfb div.sk-label-container {position: relative;z-index: 2;text-align: center;}#sk-7298d129-bb88-4119-9870-e8216705edfb div.sk-container {display: inline-block;position: relative;}</style><div id=\"sk-7298d129-bb88-4119-9870-e8216705edfb\" class\"sk-top-container\"><div class=\"sk-container\"><div class=\"sk-item\"><div class=\"sk-estimator sk-toggleable\"><input class=\"sk-toggleable__control sk-hidden--visually\" id=\"4d868c23-dedd-4776-9e30-0416906a3545\" type=\"checkbox\" checked><label class=\"sk-toggleable__label\" for=\"4d868c23-dedd-4776-9e30-0416906a3545\">DecisionTreeClassifier</label><div class=\"sk-toggleable__content\"><pre>DecisionTreeClassifier(ccp_alpha=0.001, random_state=0)</pre></div></div></div></div></div>"
      ],
      "text/plain": [
       "DecisionTreeClassifier(ccp_alpha=0.001, random_state=0)"
      ]
     },
     "execution_count": 261,
     "metadata": {},
     "output_type": "execute_result"
    }
   ],
   "source": [
    "dt_pruned = DecisionTreeClassifier(ccp_alpha=0.001, random_state=0)\n",
    "dt_pruned"
   ]
  },
  {
   "cell_type": "code",
   "execution_count": 262,
   "id": "34bb3b39",
   "metadata": {},
   "outputs": [
    {
     "name": "stdout",
     "output_type": "stream",
     "text": [
      "Pruned tree has 121 (nodes).\n"
     ]
    }
   ],
   "source": [
    "print(f\"Pruned tree has {dt_pruned.fit(X, y).tree_.node_count} (nodes).\")"
   ]
  },
  {
   "cell_type": "code",
   "execution_count": 263,
   "id": "019c61a1",
   "metadata": {},
   "outputs": [
    {
     "data": {
      "text/plain": [
       "array([0.77653631, 0.78651685, 0.83707865, 0.82022472, 0.82022472])"
      ]
     },
     "execution_count": 263,
     "metadata": {},
     "output_type": "execute_result"
    }
   ],
   "source": [
    "scores_pruned = cross_val_score(dt_pruned, X, y, cv=5, scoring=\"accuracy\")\n",
    "scores_pruned"
   ]
  },
  {
   "cell_type": "code",
   "execution_count": 264,
   "id": "6522c14b",
   "metadata": {},
   "outputs": [
    {
     "data": {
      "text/plain": [
       "0.8081162513338773"
      ]
     },
     "execution_count": 264,
     "metadata": {},
     "output_type": "execute_result"
    }
   ],
   "source": [
    "scores_pruned.mean()"
   ]
  },
  {
   "cell_type": "code",
   "execution_count": 265,
   "id": "f8a8b1f9",
   "metadata": {},
   "outputs": [
    {
     "name": "stdout",
     "output_type": "stream",
     "text": [
      "After pruning tree, the accuracy score improves about 0.45%\n"
     ]
    }
   ],
   "source": [
    "print(f\"After pruning tree, the accuracy score improves about {np.round((scores_pruned.mean()-scores.mean())*100, 2)}%\")"
   ]
  },
  {
   "cell_type": "markdown",
   "id": "8d1828a1",
   "metadata": {},
   "source": [
    "## Estimators only print parameters that have been changed\n",
    "\n",
    "New in version 0.23: Estimators only print the parameters that are *not* set to their default values.\n",
    "\n",
    "You can still see all parameters with [get_params()](https://scikit-learn.org/stable/modules/generated/sklearn.base.BaseEstimator.html), or restore the previous behavior with [set_config()](https://scikit-learn.org/stable/modules/generated/sklearn.set_config.html)."
   ]
  },
  {
   "cell_type": "code",
   "execution_count": 266,
   "id": "c74030e0",
   "metadata": {},
   "outputs": [],
   "source": [
    "from sklearn.linear_model import LogisticRegression"
   ]
  },
  {
   "cell_type": "code",
   "execution_count": 267,
   "id": "23bfd8c8",
   "metadata": {},
   "outputs": [],
   "source": [
    "clf = LogisticRegression(C=0.01, solver=\"liblinear\")"
   ]
  },
  {
   "cell_type": "markdown",
   "id": "95b9e597",
   "metadata": {},
   "source": [
    "### Showing all parameters"
   ]
  },
  {
   "cell_type": "code",
   "execution_count": 268,
   "id": "80cdd058",
   "metadata": {},
   "outputs": [
    {
     "data": {
      "text/plain": [
       "{'C': 0.01,\n",
       " 'class_weight': None,\n",
       " 'dual': False,\n",
       " 'fit_intercept': True,\n",
       " 'intercept_scaling': 1,\n",
       " 'l1_ratio': None,\n",
       " 'max_iter': 100,\n",
       " 'multi_class': 'auto',\n",
       " 'n_jobs': None,\n",
       " 'penalty': 'l2',\n",
       " 'random_state': None,\n",
       " 'solver': 'liblinear',\n",
       " 'tol': 0.0001,\n",
       " 'verbose': 0,\n",
       " 'warm_start': False}"
      ]
     },
     "execution_count": 268,
     "metadata": {},
     "output_type": "execute_result"
    }
   ],
   "source": [
    "clf.get_params()"
   ]
  },
  {
   "cell_type": "markdown",
   "id": "edacae43",
   "metadata": {},
   "source": [
    "### Describing only the changed parameters"
   ]
  },
  {
   "cell_type": "code",
   "execution_count": 269,
   "id": "d1cb3246",
   "metadata": {},
   "outputs": [
    {
     "data": {
      "text/html": [
       "<style>#sk-440ba08c-d5c7-4198-976d-cf5b6d172a7c {color: black;background-color: white;}#sk-440ba08c-d5c7-4198-976d-cf5b6d172a7c pre{padding: 0;}#sk-440ba08c-d5c7-4198-976d-cf5b6d172a7c div.sk-toggleable {background-color: white;}#sk-440ba08c-d5c7-4198-976d-cf5b6d172a7c label.sk-toggleable__label {cursor: pointer;display: block;width: 100%;margin-bottom: 0;padding: 0.3em;box-sizing: border-box;text-align: center;}#sk-440ba08c-d5c7-4198-976d-cf5b6d172a7c div.sk-toggleable__content {max-height: 0;max-width: 0;overflow: hidden;text-align: left;background-color: #f0f8ff;}#sk-440ba08c-d5c7-4198-976d-cf5b6d172a7c div.sk-toggleable__content pre {margin: 0.2em;color: black;border-radius: 0.25em;background-color: #f0f8ff;}#sk-440ba08c-d5c7-4198-976d-cf5b6d172a7c input.sk-toggleable__control:checked~div.sk-toggleable__content {max-height: 200px;max-width: 100%;overflow: auto;}#sk-440ba08c-d5c7-4198-976d-cf5b6d172a7c div.sk-estimator input.sk-toggleable__control:checked~label.sk-toggleable__label {background-color: #d4ebff;}#sk-440ba08c-d5c7-4198-976d-cf5b6d172a7c div.sk-label input.sk-toggleable__control:checked~label.sk-toggleable__label {background-color: #d4ebff;}#sk-440ba08c-d5c7-4198-976d-cf5b6d172a7c input.sk-hidden--visually {border: 0;clip: rect(1px 1px 1px 1px);clip: rect(1px, 1px, 1px, 1px);height: 1px;margin: -1px;overflow: hidden;padding: 0;position: absolute;width: 1px;}#sk-440ba08c-d5c7-4198-976d-cf5b6d172a7c div.sk-estimator {font-family: monospace;background-color: #f0f8ff;border: 1px dotted black;border-radius: 0.25em;box-sizing: border-box;margin-bottom: 0.5em;}#sk-440ba08c-d5c7-4198-976d-cf5b6d172a7c div.sk-estimator:hover {background-color: #d4ebff;}#sk-440ba08c-d5c7-4198-976d-cf5b6d172a7c div.sk-parallel-item::after {content: \"\";width: 100%;border-bottom: 1px solid gray;flex-grow: 1;}#sk-440ba08c-d5c7-4198-976d-cf5b6d172a7c div.sk-label:hover label.sk-toggleable__label {background-color: #d4ebff;}#sk-440ba08c-d5c7-4198-976d-cf5b6d172a7c div.sk-serial::before {content: \"\";position: absolute;border-left: 1px solid gray;box-sizing: border-box;top: 2em;bottom: 0;left: 50%;}#sk-440ba08c-d5c7-4198-976d-cf5b6d172a7c div.sk-serial {display: flex;flex-direction: column;align-items: center;background-color: white;padding-right: 0.2em;padding-left: 0.2em;}#sk-440ba08c-d5c7-4198-976d-cf5b6d172a7c div.sk-item {z-index: 1;}#sk-440ba08c-d5c7-4198-976d-cf5b6d172a7c div.sk-parallel {display: flex;align-items: stretch;justify-content: center;background-color: white;}#sk-440ba08c-d5c7-4198-976d-cf5b6d172a7c div.sk-parallel::before {content: \"\";position: absolute;border-left: 1px solid gray;box-sizing: border-box;top: 2em;bottom: 0;left: 50%;}#sk-440ba08c-d5c7-4198-976d-cf5b6d172a7c div.sk-parallel-item {display: flex;flex-direction: column;position: relative;background-color: white;}#sk-440ba08c-d5c7-4198-976d-cf5b6d172a7c div.sk-parallel-item:first-child::after {align-self: flex-end;width: 50%;}#sk-440ba08c-d5c7-4198-976d-cf5b6d172a7c div.sk-parallel-item:last-child::after {align-self: flex-start;width: 50%;}#sk-440ba08c-d5c7-4198-976d-cf5b6d172a7c div.sk-parallel-item:only-child::after {width: 0;}#sk-440ba08c-d5c7-4198-976d-cf5b6d172a7c div.sk-dashed-wrapped {border: 1px dashed gray;margin: 0 0.4em 0.5em 0.4em;box-sizing: border-box;padding-bottom: 0.4em;background-color: white;position: relative;}#sk-440ba08c-d5c7-4198-976d-cf5b6d172a7c div.sk-label label {font-family: monospace;font-weight: bold;background-color: white;display: inline-block;line-height: 1.2em;}#sk-440ba08c-d5c7-4198-976d-cf5b6d172a7c div.sk-label-container {position: relative;z-index: 2;text-align: center;}#sk-440ba08c-d5c7-4198-976d-cf5b6d172a7c div.sk-container {display: inline-block;position: relative;}</style><div id=\"sk-440ba08c-d5c7-4198-976d-cf5b6d172a7c\" class\"sk-top-container\"><div class=\"sk-container\"><div class=\"sk-item\"><div class=\"sk-estimator sk-toggleable\"><input class=\"sk-toggleable__control sk-hidden--visually\" id=\"0c7fe76c-0d71-41fb-bee5-ad48ccbd63b5\" type=\"checkbox\" checked><label class=\"sk-toggleable__label\" for=\"0c7fe76c-0d71-41fb-bee5-ad48ccbd63b5\">LogisticRegression</label><div class=\"sk-toggleable__content\"><pre>LogisticRegression(C=0.01, solver='liblinear')</pre></div></div></div></div></div>"
      ],
      "text/plain": [
       "LogisticRegression(C=0.01, solver='liblinear')"
      ]
     },
     "execution_count": 269,
     "metadata": {},
     "output_type": "execute_result"
    }
   ],
   "source": [
    "clf"
   ]
  },
  {
   "cell_type": "markdown",
   "id": "d3f0289c",
   "metadata": {},
   "source": [
    "### Describing all parameters without get_params()"
   ]
  },
  {
   "cell_type": "code",
   "execution_count": 270,
   "id": "ddede22b",
   "metadata": {},
   "outputs": [],
   "source": [
    "from sklearn import set_config"
   ]
  },
  {
   "cell_type": "code",
   "execution_count": 271,
   "id": "acdd4cba",
   "metadata": {},
   "outputs": [],
   "source": [
    "set_config(print_changed_only=False)"
   ]
  },
  {
   "cell_type": "code",
   "execution_count": 272,
   "id": "e6d61b67",
   "metadata": {},
   "outputs": [
    {
     "data": {
      "text/html": [
       "<style>#sk-036d337c-8f7b-4331-b2ae-489277315204 {color: black;background-color: white;}#sk-036d337c-8f7b-4331-b2ae-489277315204 pre{padding: 0;}#sk-036d337c-8f7b-4331-b2ae-489277315204 div.sk-toggleable {background-color: white;}#sk-036d337c-8f7b-4331-b2ae-489277315204 label.sk-toggleable__label {cursor: pointer;display: block;width: 100%;margin-bottom: 0;padding: 0.3em;box-sizing: border-box;text-align: center;}#sk-036d337c-8f7b-4331-b2ae-489277315204 div.sk-toggleable__content {max-height: 0;max-width: 0;overflow: hidden;text-align: left;background-color: #f0f8ff;}#sk-036d337c-8f7b-4331-b2ae-489277315204 div.sk-toggleable__content pre {margin: 0.2em;color: black;border-radius: 0.25em;background-color: #f0f8ff;}#sk-036d337c-8f7b-4331-b2ae-489277315204 input.sk-toggleable__control:checked~div.sk-toggleable__content {max-height: 200px;max-width: 100%;overflow: auto;}#sk-036d337c-8f7b-4331-b2ae-489277315204 div.sk-estimator input.sk-toggleable__control:checked~label.sk-toggleable__label {background-color: #d4ebff;}#sk-036d337c-8f7b-4331-b2ae-489277315204 div.sk-label input.sk-toggleable__control:checked~label.sk-toggleable__label {background-color: #d4ebff;}#sk-036d337c-8f7b-4331-b2ae-489277315204 input.sk-hidden--visually {border: 0;clip: rect(1px 1px 1px 1px);clip: rect(1px, 1px, 1px, 1px);height: 1px;margin: -1px;overflow: hidden;padding: 0;position: absolute;width: 1px;}#sk-036d337c-8f7b-4331-b2ae-489277315204 div.sk-estimator {font-family: monospace;background-color: #f0f8ff;border: 1px dotted black;border-radius: 0.25em;box-sizing: border-box;margin-bottom: 0.5em;}#sk-036d337c-8f7b-4331-b2ae-489277315204 div.sk-estimator:hover {background-color: #d4ebff;}#sk-036d337c-8f7b-4331-b2ae-489277315204 div.sk-parallel-item::after {content: \"\";width: 100%;border-bottom: 1px solid gray;flex-grow: 1;}#sk-036d337c-8f7b-4331-b2ae-489277315204 div.sk-label:hover label.sk-toggleable__label {background-color: #d4ebff;}#sk-036d337c-8f7b-4331-b2ae-489277315204 div.sk-serial::before {content: \"\";position: absolute;border-left: 1px solid gray;box-sizing: border-box;top: 2em;bottom: 0;left: 50%;}#sk-036d337c-8f7b-4331-b2ae-489277315204 div.sk-serial {display: flex;flex-direction: column;align-items: center;background-color: white;padding-right: 0.2em;padding-left: 0.2em;}#sk-036d337c-8f7b-4331-b2ae-489277315204 div.sk-item {z-index: 1;}#sk-036d337c-8f7b-4331-b2ae-489277315204 div.sk-parallel {display: flex;align-items: stretch;justify-content: center;background-color: white;}#sk-036d337c-8f7b-4331-b2ae-489277315204 div.sk-parallel::before {content: \"\";position: absolute;border-left: 1px solid gray;box-sizing: border-box;top: 2em;bottom: 0;left: 50%;}#sk-036d337c-8f7b-4331-b2ae-489277315204 div.sk-parallel-item {display: flex;flex-direction: column;position: relative;background-color: white;}#sk-036d337c-8f7b-4331-b2ae-489277315204 div.sk-parallel-item:first-child::after {align-self: flex-end;width: 50%;}#sk-036d337c-8f7b-4331-b2ae-489277315204 div.sk-parallel-item:last-child::after {align-self: flex-start;width: 50%;}#sk-036d337c-8f7b-4331-b2ae-489277315204 div.sk-parallel-item:only-child::after {width: 0;}#sk-036d337c-8f7b-4331-b2ae-489277315204 div.sk-dashed-wrapped {border: 1px dashed gray;margin: 0 0.4em 0.5em 0.4em;box-sizing: border-box;padding-bottom: 0.4em;background-color: white;position: relative;}#sk-036d337c-8f7b-4331-b2ae-489277315204 div.sk-label label {font-family: monospace;font-weight: bold;background-color: white;display: inline-block;line-height: 1.2em;}#sk-036d337c-8f7b-4331-b2ae-489277315204 div.sk-label-container {position: relative;z-index: 2;text-align: center;}#sk-036d337c-8f7b-4331-b2ae-489277315204 div.sk-container {display: inline-block;position: relative;}</style><div id=\"sk-036d337c-8f7b-4331-b2ae-489277315204\" class\"sk-top-container\"><div class=\"sk-container\"><div class=\"sk-item\"><div class=\"sk-estimator sk-toggleable\"><input class=\"sk-toggleable__control sk-hidden--visually\" id=\"a230c984-1b40-48da-8c6d-8629d48a641d\" type=\"checkbox\" checked><label class=\"sk-toggleable__label\" for=\"a230c984-1b40-48da-8c6d-8629d48a641d\">LogisticRegression</label><div class=\"sk-toggleable__content\"><pre>LogisticRegression(C=0.01, class_weight=None, dual=False, fit_intercept=True,\n",
       "                   intercept_scaling=1, l1_ratio=None, max_iter=100,\n",
       "                   multi_class='auto', n_jobs=None, penalty='l2',\n",
       "                   random_state=None, solver='liblinear', tol=0.0001, verbose=0,\n",
       "                   warm_start=False)</pre></div></div></div></div></div>"
      ],
      "text/plain": [
       "LogisticRegression(C=0.01, class_weight=None, dual=False, fit_intercept=True,\n",
       "                   intercept_scaling=1, l1_ratio=None, max_iter=100,\n",
       "                   multi_class='auto', n_jobs=None, penalty='l2',\n",
       "                   random_state=None, solver='liblinear', tol=0.0001, verbose=0,\n",
       "                   warm_start=False)"
      ]
     },
     "execution_count": 272,
     "metadata": {},
     "output_type": "execute_result"
    }
   ],
   "source": [
    "clf"
   ]
  },
  {
   "cell_type": "markdown",
   "id": "217725b1",
   "metadata": {},
   "source": [
    "## Speed up GridSearchCV using parallel processing\n",
    "\n",
    "In order to run faster GridSearch, we set n_jobs=-1 to use parallel processing with all CPUs.\n",
    "\n",
    "Ref: [n_jobs](https://scikit-learn.org/stable/glossary.html#term-n_jobs)"
   ]
  },
  {
   "cell_type": "code",
   "execution_count": 273,
   "id": "f139fa29",
   "metadata": {},
   "outputs": [],
   "source": [
    "file_input_path = \"titanic_train.csv\"\n",
    "if not os.path.exists(file_input_path):\n",
    "    df_train = pd.read_csv(\"http://bit.ly/kaggletrain\")\n",
    "    df_train.to_csv(file_input_path, header=True, index=False, sep=\"\\t\")\n",
    "else:\n",
    "    df_train = pd.read_csv(file_input_path, header=0, sep=\"\\t\")"
   ]
  },
  {
   "cell_type": "code",
   "execution_count": 274,
   "id": "c30b497c",
   "metadata": {},
   "outputs": [],
   "source": [
    "features = [\"Sex\", \"Name\", \"Age\"]\n",
    "X, y = df_train[features], df_train[\"Survived\"]"
   ]
  },
  {
   "cell_type": "code",
   "execution_count": 275,
   "id": "795840cf",
   "metadata": {},
   "outputs": [],
   "source": [
    "from sklearn import set_config\n",
    "set_config(display=\"diagram\")"
   ]
  },
  {
   "cell_type": "code",
   "execution_count": 276,
   "id": "478619d3",
   "metadata": {},
   "outputs": [],
   "source": [
    "col_transformer = ColumnTransformer(\n",
    "    [\n",
    "        (\"ohe\", OneHotEncoder(), [\"Sex\"]),\n",
    "        (\"vectorizer\", CountVectorizer(), \"Name\"),\n",
    "        (\"imputer\", SimpleImputer(), [\"Age\"])\n",
    "    ]\n",
    ")"
   ]
  },
  {
   "cell_type": "code",
   "execution_count": 277,
   "id": "a148c19d",
   "metadata": {},
   "outputs": [],
   "source": [
    "clf = LogisticRegression(solver=\"liblinear\", random_state=1)"
   ]
  },
  {
   "cell_type": "code",
   "execution_count": 278,
   "id": "b37454ed",
   "metadata": {},
   "outputs": [],
   "source": [
    "pipe = Pipeline(\n",
    "    [\n",
    "        (\"preprocessor\", col_transformer),\n",
    "        (\"classifier\", clf)\n",
    "    ]\n",
    ")"
   ]
  },
  {
   "cell_type": "code",
   "execution_count": 279,
   "id": "b747e465",
   "metadata": {},
   "outputs": [],
   "source": [
    "params = {}\n",
    "params[\"preprocessor__ohe__drop\"] = [None, \"first\"]\n",
    "params[\"preprocessor__vectorizer__min_df\"] = [1,2,3]\n",
    "params[\"preprocessor__vectorizer__ngram_range\"] = [(1,1), (1,2)]\n",
    "params[\"classifier__C\"] = [0.001, 0.01, 0.1, 1, 10, 100, 1000]\n",
    "params[\"classifier__penalty\"] = [\"l1\", \"l2\"]"
   ]
  },
  {
   "cell_type": "code",
   "execution_count": 280,
   "id": "746726fd",
   "metadata": {},
   "outputs": [],
   "source": [
    "grid = GridSearchCV(pipe, params)"
   ]
  },
  {
   "cell_type": "code",
   "execution_count": 281,
   "id": "5c781a77",
   "metadata": {},
   "outputs": [
    {
     "data": {
      "text/html": [
       "<style>#sk-e008900f-57d3-4925-bf66-1ab6e59840a9 {color: black;background-color: white;}#sk-e008900f-57d3-4925-bf66-1ab6e59840a9 pre{padding: 0;}#sk-e008900f-57d3-4925-bf66-1ab6e59840a9 div.sk-toggleable {background-color: white;}#sk-e008900f-57d3-4925-bf66-1ab6e59840a9 label.sk-toggleable__label {cursor: pointer;display: block;width: 100%;margin-bottom: 0;padding: 0.3em;box-sizing: border-box;text-align: center;}#sk-e008900f-57d3-4925-bf66-1ab6e59840a9 div.sk-toggleable__content {max-height: 0;max-width: 0;overflow: hidden;text-align: left;background-color: #f0f8ff;}#sk-e008900f-57d3-4925-bf66-1ab6e59840a9 div.sk-toggleable__content pre {margin: 0.2em;color: black;border-radius: 0.25em;background-color: #f0f8ff;}#sk-e008900f-57d3-4925-bf66-1ab6e59840a9 input.sk-toggleable__control:checked~div.sk-toggleable__content {max-height: 200px;max-width: 100%;overflow: auto;}#sk-e008900f-57d3-4925-bf66-1ab6e59840a9 div.sk-estimator input.sk-toggleable__control:checked~label.sk-toggleable__label {background-color: #d4ebff;}#sk-e008900f-57d3-4925-bf66-1ab6e59840a9 div.sk-label input.sk-toggleable__control:checked~label.sk-toggleable__label {background-color: #d4ebff;}#sk-e008900f-57d3-4925-bf66-1ab6e59840a9 input.sk-hidden--visually {border: 0;clip: rect(1px 1px 1px 1px);clip: rect(1px, 1px, 1px, 1px);height: 1px;margin: -1px;overflow: hidden;padding: 0;position: absolute;width: 1px;}#sk-e008900f-57d3-4925-bf66-1ab6e59840a9 div.sk-estimator {font-family: monospace;background-color: #f0f8ff;border: 1px dotted black;border-radius: 0.25em;box-sizing: border-box;margin-bottom: 0.5em;}#sk-e008900f-57d3-4925-bf66-1ab6e59840a9 div.sk-estimator:hover {background-color: #d4ebff;}#sk-e008900f-57d3-4925-bf66-1ab6e59840a9 div.sk-parallel-item::after {content: \"\";width: 100%;border-bottom: 1px solid gray;flex-grow: 1;}#sk-e008900f-57d3-4925-bf66-1ab6e59840a9 div.sk-label:hover label.sk-toggleable__label {background-color: #d4ebff;}#sk-e008900f-57d3-4925-bf66-1ab6e59840a9 div.sk-serial::before {content: \"\";position: absolute;border-left: 1px solid gray;box-sizing: border-box;top: 2em;bottom: 0;left: 50%;}#sk-e008900f-57d3-4925-bf66-1ab6e59840a9 div.sk-serial {display: flex;flex-direction: column;align-items: center;background-color: white;padding-right: 0.2em;padding-left: 0.2em;}#sk-e008900f-57d3-4925-bf66-1ab6e59840a9 div.sk-item {z-index: 1;}#sk-e008900f-57d3-4925-bf66-1ab6e59840a9 div.sk-parallel {display: flex;align-items: stretch;justify-content: center;background-color: white;}#sk-e008900f-57d3-4925-bf66-1ab6e59840a9 div.sk-parallel::before {content: \"\";position: absolute;border-left: 1px solid gray;box-sizing: border-box;top: 2em;bottom: 0;left: 50%;}#sk-e008900f-57d3-4925-bf66-1ab6e59840a9 div.sk-parallel-item {display: flex;flex-direction: column;position: relative;background-color: white;}#sk-e008900f-57d3-4925-bf66-1ab6e59840a9 div.sk-parallel-item:first-child::after {align-self: flex-end;width: 50%;}#sk-e008900f-57d3-4925-bf66-1ab6e59840a9 div.sk-parallel-item:last-child::after {align-self: flex-start;width: 50%;}#sk-e008900f-57d3-4925-bf66-1ab6e59840a9 div.sk-parallel-item:only-child::after {width: 0;}#sk-e008900f-57d3-4925-bf66-1ab6e59840a9 div.sk-dashed-wrapped {border: 1px dashed gray;margin: 0 0.4em 0.5em 0.4em;box-sizing: border-box;padding-bottom: 0.4em;background-color: white;position: relative;}#sk-e008900f-57d3-4925-bf66-1ab6e59840a9 div.sk-label label {font-family: monospace;font-weight: bold;background-color: white;display: inline-block;line-height: 1.2em;}#sk-e008900f-57d3-4925-bf66-1ab6e59840a9 div.sk-label-container {position: relative;z-index: 2;text-align: center;}#sk-e008900f-57d3-4925-bf66-1ab6e59840a9 div.sk-container {display: inline-block;position: relative;}</style><div id=\"sk-e008900f-57d3-4925-bf66-1ab6e59840a9\" class\"sk-top-container\"><div class=\"sk-container\"><div class=\"sk-item sk-dashed-wrapped\"><div class=\"sk-label-container\"><div class=\"sk-label sk-toggleable\"><input class=\"sk-toggleable__control sk-hidden--visually\" id=\"c4574831-df2b-442f-9338-5c422b12d280\" type=\"checkbox\" ><label class=\"sk-toggleable__label\" for=\"c4574831-df2b-442f-9338-5c422b12d280\">GridSearchCV</label><div class=\"sk-toggleable__content\"><pre>GridSearchCV(cv=None, error_score=nan,\n",
       "             estimator=Pipeline(memory=None,\n",
       "                                steps=[('preprocessor',\n",
       "                                        ColumnTransformer(n_jobs=None,\n",
       "                                                          remainder='drop',\n",
       "                                                          sparse_threshold=0.3,\n",
       "                                                          transformer_weights=None,\n",
       "                                                          transformers=[('ohe',\n",
       "                                                                         OneHotEncoder(categories='auto',\n",
       "                                                                                       drop=None,\n",
       "                                                                                       dtype=<class 'numpy.float64'>,\n",
       "                                                                                       handle_unknown='error',\n",
       "                                                                                       sparse=True),\n",
       "                                                                         ['Sex']),\n",
       "                                                                        ('vectorizer',\n",
       "                                                                         CountVectorizer...\n",
       "                                                           warm_start=False))],\n",
       "                                verbose=False),\n",
       "             n_jobs=None,\n",
       "             param_grid={'classifier__C': [0.001, 0.01, 0.1, 1, 10, 100, 1000],\n",
       "                         'classifier__penalty': ['l1', 'l2'],\n",
       "                         'preprocessor__ohe__drop': [None, 'first'],\n",
       "                         'preprocessor__vectorizer__min_df': [1, 2, 3],\n",
       "                         'preprocessor__vectorizer__ngram_range': [(1, 1),\n",
       "                                                                   (1, 2)]},\n",
       "             pre_dispatch='2*n_jobs', refit=True, return_train_score=False,\n",
       "             scoring=None, verbose=0)</pre></div></div></div><div class=\"sk-parallel\"><div class=\"sk-parallel-item\"><div class=\"sk-item\"><div class=\"sk-serial\"><div class=\"sk-item\"><div class=\"sk-serial\"><div class=\"sk-item sk-dashed-wrapped\"><div class=\"sk-label-container\"><div class=\"sk-label sk-toggleable\"><input class=\"sk-toggleable__control sk-hidden--visually\" id=\"90ecb259-5856-431a-bd7d-9b129d192b03\" type=\"checkbox\" ><label class=\"sk-toggleable__label\" for=\"90ecb259-5856-431a-bd7d-9b129d192b03\">preprocessor: ColumnTransformer</label><div class=\"sk-toggleable__content\"><pre>ColumnTransformer(transformers=[('ohe', OneHotEncoder(), ['Sex']),\n",
       "                                ('vectorizer', CountVectorizer(), 'Name'),\n",
       "                                ('imputer', SimpleImputer(), ['Age'])])</pre></div></div></div><div class=\"sk-parallel\"><div class=\"sk-parallel-item\"><div class=\"sk-item\"><div class=\"sk-label-container\"><div class=\"sk-label sk-toggleable\"><input class=\"sk-toggleable__control sk-hidden--visually\" id=\"c218d339-0df5-4b40-a7a0-c44f566ebbad\" type=\"checkbox\" ><label class=\"sk-toggleable__label\" for=\"c218d339-0df5-4b40-a7a0-c44f566ebbad\">ohe</label><div class=\"sk-toggleable__content\"><pre>['Sex']</pre></div></div></div><div class=\"sk-serial\"><div class=\"sk-item\"><div class=\"sk-estimator sk-toggleable\"><input class=\"sk-toggleable__control sk-hidden--visually\" id=\"f938542c-a8c3-4333-b726-bfb27cfe8a9d\" type=\"checkbox\" ><label class=\"sk-toggleable__label\" for=\"f938542c-a8c3-4333-b726-bfb27cfe8a9d\">OneHotEncoder</label><div class=\"sk-toggleable__content\"><pre>OneHotEncoder()</pre></div></div></div></div></div></div><div class=\"sk-parallel-item\"><div class=\"sk-item\"><div class=\"sk-label-container\"><div class=\"sk-label sk-toggleable\"><input class=\"sk-toggleable__control sk-hidden--visually\" id=\"132e334b-c89b-4dc7-b63f-75ad726a5215\" type=\"checkbox\" ><label class=\"sk-toggleable__label\" for=\"132e334b-c89b-4dc7-b63f-75ad726a5215\">vectorizer</label><div class=\"sk-toggleable__content\"><pre>Name</pre></div></div></div><div class=\"sk-serial\"><div class=\"sk-item\"><div class=\"sk-estimator sk-toggleable\"><input class=\"sk-toggleable__control sk-hidden--visually\" id=\"9a9f3655-7c53-4330-8b5d-b22b04980187\" type=\"checkbox\" ><label class=\"sk-toggleable__label\" for=\"9a9f3655-7c53-4330-8b5d-b22b04980187\">CountVectorizer</label><div class=\"sk-toggleable__content\"><pre>CountVectorizer()</pre></div></div></div></div></div></div><div class=\"sk-parallel-item\"><div class=\"sk-item\"><div class=\"sk-label-container\"><div class=\"sk-label sk-toggleable\"><input class=\"sk-toggleable__control sk-hidden--visually\" id=\"7680bdf6-db96-4eae-a6fe-7e8bf2a6b1d0\" type=\"checkbox\" ><label class=\"sk-toggleable__label\" for=\"7680bdf6-db96-4eae-a6fe-7e8bf2a6b1d0\">imputer</label><div class=\"sk-toggleable__content\"><pre>['Age']</pre></div></div></div><div class=\"sk-serial\"><div class=\"sk-item\"><div class=\"sk-estimator sk-toggleable\"><input class=\"sk-toggleable__control sk-hidden--visually\" id=\"958c64de-76d8-4953-a1da-a88d80285474\" type=\"checkbox\" ><label class=\"sk-toggleable__label\" for=\"958c64de-76d8-4953-a1da-a88d80285474\">SimpleImputer</label><div class=\"sk-toggleable__content\"><pre>SimpleImputer()</pre></div></div></div></div></div></div></div></div><div class=\"sk-item\"><div class=\"sk-estimator sk-toggleable\"><input class=\"sk-toggleable__control sk-hidden--visually\" id=\"5689b1ff-56f5-429f-bb60-50e57b0d15bf\" type=\"checkbox\" ><label class=\"sk-toggleable__label\" for=\"5689b1ff-56f5-429f-bb60-50e57b0d15bf\">LogisticRegression</label><div class=\"sk-toggleable__content\"><pre>LogisticRegression(random_state=1, solver='liblinear')</pre></div></div></div></div></div></div></div></div></div></div></div></div>"
      ],
      "text/plain": [
       "GridSearchCV(cv=None, error_score=nan,\n",
       "             estimator=Pipeline(memory=None,\n",
       "                                steps=[('preprocessor',\n",
       "                                        ColumnTransformer(n_jobs=None,\n",
       "                                                          remainder='drop',\n",
       "                                                          sparse_threshold=0.3,\n",
       "                                                          transformer_weights=None,\n",
       "                                                          transformers=[('ohe',\n",
       "                                                                         OneHotEncoder(categories='auto',\n",
       "                                                                                       drop=None,\n",
       "                                                                                       dtype=<class 'numpy.float64'>,\n",
       "                                                                                       handle_unknown='error',\n",
       "                                                                                       sparse=True),\n",
       "                                                                         ['Sex']),\n",
       "                                                                        ('vectorizer',\n",
       "                                                                         CountVectorizer...\n",
       "                                                           warm_start=False))],\n",
       "                                verbose=False),\n",
       "             n_jobs=None,\n",
       "             param_grid={'classifier__C': [0.001, 0.01, 0.1, 1, 10, 100, 1000],\n",
       "                         'classifier__penalty': ['l1', 'l2'],\n",
       "                         'preprocessor__ohe__drop': [None, 'first'],\n",
       "                         'preprocessor__vectorizer__min_df': [1, 2, 3],\n",
       "                         'preprocessor__vectorizer__ngram_range': [(1, 1),\n",
       "                                                                   (1, 2)]},\n",
       "             pre_dispatch='2*n_jobs', refit=True, return_train_score=False,\n",
       "             scoring=None, verbose=0)"
      ]
     },
     "execution_count": 281,
     "metadata": {},
     "output_type": "execute_result"
    }
   ],
   "source": [
    "grid"
   ]
  },
  {
   "cell_type": "markdown",
   "id": "af954c2f",
   "metadata": {},
   "source": [
    "### Not using parallel jobs"
   ]
  },
  {
   "cell_type": "code",
   "execution_count": 282,
   "id": "c6c3c5d3",
   "metadata": {},
   "outputs": [
    {
     "name": "stdout",
     "output_type": "stream",
     "text": [
      "Wall time: 23.8 s\n"
     ]
    },
    {
     "data": {
      "text/html": [
       "<style>#sk-079737b2-d2c8-4517-bb0e-9657044dbf05 {color: black;background-color: white;}#sk-079737b2-d2c8-4517-bb0e-9657044dbf05 pre{padding: 0;}#sk-079737b2-d2c8-4517-bb0e-9657044dbf05 div.sk-toggleable {background-color: white;}#sk-079737b2-d2c8-4517-bb0e-9657044dbf05 label.sk-toggleable__label {cursor: pointer;display: block;width: 100%;margin-bottom: 0;padding: 0.3em;box-sizing: border-box;text-align: center;}#sk-079737b2-d2c8-4517-bb0e-9657044dbf05 div.sk-toggleable__content {max-height: 0;max-width: 0;overflow: hidden;text-align: left;background-color: #f0f8ff;}#sk-079737b2-d2c8-4517-bb0e-9657044dbf05 div.sk-toggleable__content pre {margin: 0.2em;color: black;border-radius: 0.25em;background-color: #f0f8ff;}#sk-079737b2-d2c8-4517-bb0e-9657044dbf05 input.sk-toggleable__control:checked~div.sk-toggleable__content {max-height: 200px;max-width: 100%;overflow: auto;}#sk-079737b2-d2c8-4517-bb0e-9657044dbf05 div.sk-estimator input.sk-toggleable__control:checked~label.sk-toggleable__label {background-color: #d4ebff;}#sk-079737b2-d2c8-4517-bb0e-9657044dbf05 div.sk-label input.sk-toggleable__control:checked~label.sk-toggleable__label {background-color: #d4ebff;}#sk-079737b2-d2c8-4517-bb0e-9657044dbf05 input.sk-hidden--visually {border: 0;clip: rect(1px 1px 1px 1px);clip: rect(1px, 1px, 1px, 1px);height: 1px;margin: -1px;overflow: hidden;padding: 0;position: absolute;width: 1px;}#sk-079737b2-d2c8-4517-bb0e-9657044dbf05 div.sk-estimator {font-family: monospace;background-color: #f0f8ff;border: 1px dotted black;border-radius: 0.25em;box-sizing: border-box;margin-bottom: 0.5em;}#sk-079737b2-d2c8-4517-bb0e-9657044dbf05 div.sk-estimator:hover {background-color: #d4ebff;}#sk-079737b2-d2c8-4517-bb0e-9657044dbf05 div.sk-parallel-item::after {content: \"\";width: 100%;border-bottom: 1px solid gray;flex-grow: 1;}#sk-079737b2-d2c8-4517-bb0e-9657044dbf05 div.sk-label:hover label.sk-toggleable__label {background-color: #d4ebff;}#sk-079737b2-d2c8-4517-bb0e-9657044dbf05 div.sk-serial::before {content: \"\";position: absolute;border-left: 1px solid gray;box-sizing: border-box;top: 2em;bottom: 0;left: 50%;}#sk-079737b2-d2c8-4517-bb0e-9657044dbf05 div.sk-serial {display: flex;flex-direction: column;align-items: center;background-color: white;padding-right: 0.2em;padding-left: 0.2em;}#sk-079737b2-d2c8-4517-bb0e-9657044dbf05 div.sk-item {z-index: 1;}#sk-079737b2-d2c8-4517-bb0e-9657044dbf05 div.sk-parallel {display: flex;align-items: stretch;justify-content: center;background-color: white;}#sk-079737b2-d2c8-4517-bb0e-9657044dbf05 div.sk-parallel::before {content: \"\";position: absolute;border-left: 1px solid gray;box-sizing: border-box;top: 2em;bottom: 0;left: 50%;}#sk-079737b2-d2c8-4517-bb0e-9657044dbf05 div.sk-parallel-item {display: flex;flex-direction: column;position: relative;background-color: white;}#sk-079737b2-d2c8-4517-bb0e-9657044dbf05 div.sk-parallel-item:first-child::after {align-self: flex-end;width: 50%;}#sk-079737b2-d2c8-4517-bb0e-9657044dbf05 div.sk-parallel-item:last-child::after {align-self: flex-start;width: 50%;}#sk-079737b2-d2c8-4517-bb0e-9657044dbf05 div.sk-parallel-item:only-child::after {width: 0;}#sk-079737b2-d2c8-4517-bb0e-9657044dbf05 div.sk-dashed-wrapped {border: 1px dashed gray;margin: 0 0.4em 0.5em 0.4em;box-sizing: border-box;padding-bottom: 0.4em;background-color: white;position: relative;}#sk-079737b2-d2c8-4517-bb0e-9657044dbf05 div.sk-label label {font-family: monospace;font-weight: bold;background-color: white;display: inline-block;line-height: 1.2em;}#sk-079737b2-d2c8-4517-bb0e-9657044dbf05 div.sk-label-container {position: relative;z-index: 2;text-align: center;}#sk-079737b2-d2c8-4517-bb0e-9657044dbf05 div.sk-container {display: inline-block;position: relative;}</style><div id=\"sk-079737b2-d2c8-4517-bb0e-9657044dbf05\" class\"sk-top-container\"><div class=\"sk-container\"><div class=\"sk-item sk-dashed-wrapped\"><div class=\"sk-label-container\"><div class=\"sk-label sk-toggleable\"><input class=\"sk-toggleable__control sk-hidden--visually\" id=\"317c27f5-0a65-41ba-8e4c-620c3889e421\" type=\"checkbox\" ><label class=\"sk-toggleable__label\" for=\"317c27f5-0a65-41ba-8e4c-620c3889e421\">GridSearchCV</label><div class=\"sk-toggleable__content\"><pre>GridSearchCV(cv=None, error_score=nan,\n",
       "             estimator=Pipeline(memory=None,\n",
       "                                steps=[('preprocessor',\n",
       "                                        ColumnTransformer(n_jobs=None,\n",
       "                                                          remainder='drop',\n",
       "                                                          sparse_threshold=0.3,\n",
       "                                                          transformer_weights=None,\n",
       "                                                          transformers=[('ohe',\n",
       "                                                                         OneHotEncoder(categories='auto',\n",
       "                                                                                       drop=None,\n",
       "                                                                                       dtype=<class 'numpy.float64'>,\n",
       "                                                                                       handle_unknown='error',\n",
       "                                                                                       sparse=True),\n",
       "                                                                         ['Sex']),\n",
       "                                                                        ('vectorizer',\n",
       "                                                                         CountVectorizer...\n",
       "                                                           warm_start=False))],\n",
       "                                verbose=False),\n",
       "             n_jobs=None,\n",
       "             param_grid={'classifier__C': [0.001, 0.01, 0.1, 1, 10, 100, 1000],\n",
       "                         'classifier__penalty': ['l1', 'l2'],\n",
       "                         'preprocessor__ohe__drop': [None, 'first'],\n",
       "                         'preprocessor__vectorizer__min_df': [1, 2, 3],\n",
       "                         'preprocessor__vectorizer__ngram_range': [(1, 1),\n",
       "                                                                   (1, 2)]},\n",
       "             pre_dispatch='2*n_jobs', refit=True, return_train_score=False,\n",
       "             scoring=None, verbose=0)</pre></div></div></div><div class=\"sk-parallel\"><div class=\"sk-parallel-item\"><div class=\"sk-item\"><div class=\"sk-serial\"><div class=\"sk-item\"><div class=\"sk-serial\"><div class=\"sk-item sk-dashed-wrapped\"><div class=\"sk-label-container\"><div class=\"sk-label sk-toggleable\"><input class=\"sk-toggleable__control sk-hidden--visually\" id=\"ec97f772-418b-4eff-a1be-c9531e3bbc5e\" type=\"checkbox\" ><label class=\"sk-toggleable__label\" for=\"ec97f772-418b-4eff-a1be-c9531e3bbc5e\">preprocessor: ColumnTransformer</label><div class=\"sk-toggleable__content\"><pre>ColumnTransformer(transformers=[('ohe', OneHotEncoder(), ['Sex']),\n",
       "                                ('vectorizer', CountVectorizer(), 'Name'),\n",
       "                                ('imputer', SimpleImputer(), ['Age'])])</pre></div></div></div><div class=\"sk-parallel\"><div class=\"sk-parallel-item\"><div class=\"sk-item\"><div class=\"sk-label-container\"><div class=\"sk-label sk-toggleable\"><input class=\"sk-toggleable__control sk-hidden--visually\" id=\"f0faaec3-ed57-4716-a523-018f5530a654\" type=\"checkbox\" ><label class=\"sk-toggleable__label\" for=\"f0faaec3-ed57-4716-a523-018f5530a654\">ohe</label><div class=\"sk-toggleable__content\"><pre>['Sex']</pre></div></div></div><div class=\"sk-serial\"><div class=\"sk-item\"><div class=\"sk-estimator sk-toggleable\"><input class=\"sk-toggleable__control sk-hidden--visually\" id=\"8e56d461-fa24-4763-abdf-bf4c9c521a67\" type=\"checkbox\" ><label class=\"sk-toggleable__label\" for=\"8e56d461-fa24-4763-abdf-bf4c9c521a67\">OneHotEncoder</label><div class=\"sk-toggleable__content\"><pre>OneHotEncoder()</pre></div></div></div></div></div></div><div class=\"sk-parallel-item\"><div class=\"sk-item\"><div class=\"sk-label-container\"><div class=\"sk-label sk-toggleable\"><input class=\"sk-toggleable__control sk-hidden--visually\" id=\"ee0cc779-995f-4793-ae1f-4ae4e98f306a\" type=\"checkbox\" ><label class=\"sk-toggleable__label\" for=\"ee0cc779-995f-4793-ae1f-4ae4e98f306a\">vectorizer</label><div class=\"sk-toggleable__content\"><pre>Name</pre></div></div></div><div class=\"sk-serial\"><div class=\"sk-item\"><div class=\"sk-estimator sk-toggleable\"><input class=\"sk-toggleable__control sk-hidden--visually\" id=\"6d01dc8e-4f2f-46c8-b066-e1f8677d08eb\" type=\"checkbox\" ><label class=\"sk-toggleable__label\" for=\"6d01dc8e-4f2f-46c8-b066-e1f8677d08eb\">CountVectorizer</label><div class=\"sk-toggleable__content\"><pre>CountVectorizer()</pre></div></div></div></div></div></div><div class=\"sk-parallel-item\"><div class=\"sk-item\"><div class=\"sk-label-container\"><div class=\"sk-label sk-toggleable\"><input class=\"sk-toggleable__control sk-hidden--visually\" id=\"7dee4e7e-9a9d-4457-8896-63051d7c2b5b\" type=\"checkbox\" ><label class=\"sk-toggleable__label\" for=\"7dee4e7e-9a9d-4457-8896-63051d7c2b5b\">imputer</label><div class=\"sk-toggleable__content\"><pre>['Age']</pre></div></div></div><div class=\"sk-serial\"><div class=\"sk-item\"><div class=\"sk-estimator sk-toggleable\"><input class=\"sk-toggleable__control sk-hidden--visually\" id=\"12e58dc1-932e-4150-809c-15953c9f259a\" type=\"checkbox\" ><label class=\"sk-toggleable__label\" for=\"12e58dc1-932e-4150-809c-15953c9f259a\">SimpleImputer</label><div class=\"sk-toggleable__content\"><pre>SimpleImputer()</pre></div></div></div></div></div></div></div></div><div class=\"sk-item\"><div class=\"sk-estimator sk-toggleable\"><input class=\"sk-toggleable__control sk-hidden--visually\" id=\"785e87d9-8bca-4173-8d81-c7caa26eb0c6\" type=\"checkbox\" ><label class=\"sk-toggleable__label\" for=\"785e87d9-8bca-4173-8d81-c7caa26eb0c6\">LogisticRegression</label><div class=\"sk-toggleable__content\"><pre>LogisticRegression(random_state=1, solver='liblinear')</pre></div></div></div></div></div></div></div></div></div></div></div></div>"
      ],
      "text/plain": [
       "GridSearchCV(cv=None, error_score=nan,\n",
       "             estimator=Pipeline(memory=None,\n",
       "                                steps=[('preprocessor',\n",
       "                                        ColumnTransformer(n_jobs=None,\n",
       "                                                          remainder='drop',\n",
       "                                                          sparse_threshold=0.3,\n",
       "                                                          transformer_weights=None,\n",
       "                                                          transformers=[('ohe',\n",
       "                                                                         OneHotEncoder(categories='auto',\n",
       "                                                                                       drop=None,\n",
       "                                                                                       dtype=<class 'numpy.float64'>,\n",
       "                                                                                       handle_unknown='error',\n",
       "                                                                                       sparse=True),\n",
       "                                                                         ['Sex']),\n",
       "                                                                        ('vectorizer',\n",
       "                                                                         CountVectorizer...\n",
       "                                                           warm_start=False))],\n",
       "                                verbose=False),\n",
       "             n_jobs=None,\n",
       "             param_grid={'classifier__C': [0.001, 0.01, 0.1, 1, 10, 100, 1000],\n",
       "                         'classifier__penalty': ['l1', 'l2'],\n",
       "                         'preprocessor__ohe__drop': [None, 'first'],\n",
       "                         'preprocessor__vectorizer__min_df': [1, 2, 3],\n",
       "                         'preprocessor__vectorizer__ngram_range': [(1, 1),\n",
       "                                                                   (1, 2)]},\n",
       "             pre_dispatch='2*n_jobs', refit=True, return_train_score=False,\n",
       "             scoring=None, verbose=0)"
      ]
     },
     "execution_count": 282,
     "metadata": {},
     "output_type": "execute_result"
    }
   ],
   "source": [
    "%time grid.fit(X, y)"
   ]
  },
  {
   "cell_type": "markdown",
   "id": "89038e90",
   "metadata": {},
   "source": [
    "### Using parallel processing"
   ]
  },
  {
   "cell_type": "code",
   "execution_count": 283,
   "id": "0039c163",
   "metadata": {},
   "outputs": [
    {
     "name": "stdout",
     "output_type": "stream",
     "text": [
      "Wall time: 23.3 s\n"
     ]
    },
    {
     "data": {
      "text/html": [
       "<style>#sk-da6f9fcf-cd88-4115-98a8-3dd89a04af84 {color: black;background-color: white;}#sk-da6f9fcf-cd88-4115-98a8-3dd89a04af84 pre{padding: 0;}#sk-da6f9fcf-cd88-4115-98a8-3dd89a04af84 div.sk-toggleable {background-color: white;}#sk-da6f9fcf-cd88-4115-98a8-3dd89a04af84 label.sk-toggleable__label {cursor: pointer;display: block;width: 100%;margin-bottom: 0;padding: 0.3em;box-sizing: border-box;text-align: center;}#sk-da6f9fcf-cd88-4115-98a8-3dd89a04af84 div.sk-toggleable__content {max-height: 0;max-width: 0;overflow: hidden;text-align: left;background-color: #f0f8ff;}#sk-da6f9fcf-cd88-4115-98a8-3dd89a04af84 div.sk-toggleable__content pre {margin: 0.2em;color: black;border-radius: 0.25em;background-color: #f0f8ff;}#sk-da6f9fcf-cd88-4115-98a8-3dd89a04af84 input.sk-toggleable__control:checked~div.sk-toggleable__content {max-height: 200px;max-width: 100%;overflow: auto;}#sk-da6f9fcf-cd88-4115-98a8-3dd89a04af84 div.sk-estimator input.sk-toggleable__control:checked~label.sk-toggleable__label {background-color: #d4ebff;}#sk-da6f9fcf-cd88-4115-98a8-3dd89a04af84 div.sk-label input.sk-toggleable__control:checked~label.sk-toggleable__label {background-color: #d4ebff;}#sk-da6f9fcf-cd88-4115-98a8-3dd89a04af84 input.sk-hidden--visually {border: 0;clip: rect(1px 1px 1px 1px);clip: rect(1px, 1px, 1px, 1px);height: 1px;margin: -1px;overflow: hidden;padding: 0;position: absolute;width: 1px;}#sk-da6f9fcf-cd88-4115-98a8-3dd89a04af84 div.sk-estimator {font-family: monospace;background-color: #f0f8ff;border: 1px dotted black;border-radius: 0.25em;box-sizing: border-box;margin-bottom: 0.5em;}#sk-da6f9fcf-cd88-4115-98a8-3dd89a04af84 div.sk-estimator:hover {background-color: #d4ebff;}#sk-da6f9fcf-cd88-4115-98a8-3dd89a04af84 div.sk-parallel-item::after {content: \"\";width: 100%;border-bottom: 1px solid gray;flex-grow: 1;}#sk-da6f9fcf-cd88-4115-98a8-3dd89a04af84 div.sk-label:hover label.sk-toggleable__label {background-color: #d4ebff;}#sk-da6f9fcf-cd88-4115-98a8-3dd89a04af84 div.sk-serial::before {content: \"\";position: absolute;border-left: 1px solid gray;box-sizing: border-box;top: 2em;bottom: 0;left: 50%;}#sk-da6f9fcf-cd88-4115-98a8-3dd89a04af84 div.sk-serial {display: flex;flex-direction: column;align-items: center;background-color: white;padding-right: 0.2em;padding-left: 0.2em;}#sk-da6f9fcf-cd88-4115-98a8-3dd89a04af84 div.sk-item {z-index: 1;}#sk-da6f9fcf-cd88-4115-98a8-3dd89a04af84 div.sk-parallel {display: flex;align-items: stretch;justify-content: center;background-color: white;}#sk-da6f9fcf-cd88-4115-98a8-3dd89a04af84 div.sk-parallel::before {content: \"\";position: absolute;border-left: 1px solid gray;box-sizing: border-box;top: 2em;bottom: 0;left: 50%;}#sk-da6f9fcf-cd88-4115-98a8-3dd89a04af84 div.sk-parallel-item {display: flex;flex-direction: column;position: relative;background-color: white;}#sk-da6f9fcf-cd88-4115-98a8-3dd89a04af84 div.sk-parallel-item:first-child::after {align-self: flex-end;width: 50%;}#sk-da6f9fcf-cd88-4115-98a8-3dd89a04af84 div.sk-parallel-item:last-child::after {align-self: flex-start;width: 50%;}#sk-da6f9fcf-cd88-4115-98a8-3dd89a04af84 div.sk-parallel-item:only-child::after {width: 0;}#sk-da6f9fcf-cd88-4115-98a8-3dd89a04af84 div.sk-dashed-wrapped {border: 1px dashed gray;margin: 0 0.4em 0.5em 0.4em;box-sizing: border-box;padding-bottom: 0.4em;background-color: white;position: relative;}#sk-da6f9fcf-cd88-4115-98a8-3dd89a04af84 div.sk-label label {font-family: monospace;font-weight: bold;background-color: white;display: inline-block;line-height: 1.2em;}#sk-da6f9fcf-cd88-4115-98a8-3dd89a04af84 div.sk-label-container {position: relative;z-index: 2;text-align: center;}#sk-da6f9fcf-cd88-4115-98a8-3dd89a04af84 div.sk-container {display: inline-block;position: relative;}</style><div id=\"sk-da6f9fcf-cd88-4115-98a8-3dd89a04af84\" class\"sk-top-container\"><div class=\"sk-container\"><div class=\"sk-item sk-dashed-wrapped\"><div class=\"sk-label-container\"><div class=\"sk-label sk-toggleable\"><input class=\"sk-toggleable__control sk-hidden--visually\" id=\"ac2f1ed5-94d2-4cc5-80e2-1904dd0b32b1\" type=\"checkbox\" ><label class=\"sk-toggleable__label\" for=\"ac2f1ed5-94d2-4cc5-80e2-1904dd0b32b1\">GridSearchCV</label><div class=\"sk-toggleable__content\"><pre>GridSearchCV(cv=None, error_score=nan,\n",
       "             estimator=Pipeline(memory=None,\n",
       "                                steps=[('preprocessor',\n",
       "                                        ColumnTransformer(n_jobs=None,\n",
       "                                                          remainder='drop',\n",
       "                                                          sparse_threshold=0.3,\n",
       "                                                          transformer_weights=None,\n",
       "                                                          transformers=[('ohe',\n",
       "                                                                         OneHotEncoder(categories='auto',\n",
       "                                                                                       drop=None,\n",
       "                                                                                       dtype=<class 'numpy.float64'>,\n",
       "                                                                                       handle_unknown='error',\n",
       "                                                                                       sparse=True),\n",
       "                                                                         ['Sex']),\n",
       "                                                                        ('vectorizer',\n",
       "                                                                         CountVectorizer...\n",
       "                                                           warm_start=False))],\n",
       "                                verbose=False),\n",
       "             n_jobs=None,\n",
       "             param_grid={'classifier__C': [0.001, 0.01, 0.1, 1, 10, 100, 1000],\n",
       "                         'classifier__penalty': ['l1', 'l2'],\n",
       "                         'preprocessor__ohe__drop': [None, 'first'],\n",
       "                         'preprocessor__vectorizer__min_df': [1, 2, 3],\n",
       "                         'preprocessor__vectorizer__ngram_range': [(1, 1),\n",
       "                                                                   (1, 2)]},\n",
       "             pre_dispatch='2*n_jobs', refit=True, return_train_score=False,\n",
       "             scoring=None, verbose=0)</pre></div></div></div><div class=\"sk-parallel\"><div class=\"sk-parallel-item\"><div class=\"sk-item\"><div class=\"sk-serial\"><div class=\"sk-item\"><div class=\"sk-serial\"><div class=\"sk-item sk-dashed-wrapped\"><div class=\"sk-label-container\"><div class=\"sk-label sk-toggleable\"><input class=\"sk-toggleable__control sk-hidden--visually\" id=\"339c8393-6c03-436e-9da5-127e48419103\" type=\"checkbox\" ><label class=\"sk-toggleable__label\" for=\"339c8393-6c03-436e-9da5-127e48419103\">preprocessor: ColumnTransformer</label><div class=\"sk-toggleable__content\"><pre>ColumnTransformer(transformers=[('ohe', OneHotEncoder(), ['Sex']),\n",
       "                                ('vectorizer', CountVectorizer(), 'Name'),\n",
       "                                ('imputer', SimpleImputer(), ['Age'])])</pre></div></div></div><div class=\"sk-parallel\"><div class=\"sk-parallel-item\"><div class=\"sk-item\"><div class=\"sk-label-container\"><div class=\"sk-label sk-toggleable\"><input class=\"sk-toggleable__control sk-hidden--visually\" id=\"e61402d9-fe8f-4b92-b437-fbd15b1cfac7\" type=\"checkbox\" ><label class=\"sk-toggleable__label\" for=\"e61402d9-fe8f-4b92-b437-fbd15b1cfac7\">ohe</label><div class=\"sk-toggleable__content\"><pre>['Sex']</pre></div></div></div><div class=\"sk-serial\"><div class=\"sk-item\"><div class=\"sk-estimator sk-toggleable\"><input class=\"sk-toggleable__control sk-hidden--visually\" id=\"14f0d315-fcbf-408e-9e98-822c6cd6cb98\" type=\"checkbox\" ><label class=\"sk-toggleable__label\" for=\"14f0d315-fcbf-408e-9e98-822c6cd6cb98\">OneHotEncoder</label><div class=\"sk-toggleable__content\"><pre>OneHotEncoder()</pre></div></div></div></div></div></div><div class=\"sk-parallel-item\"><div class=\"sk-item\"><div class=\"sk-label-container\"><div class=\"sk-label sk-toggleable\"><input class=\"sk-toggleable__control sk-hidden--visually\" id=\"dcae4970-5189-4e2a-b31b-f949c7d69bff\" type=\"checkbox\" ><label class=\"sk-toggleable__label\" for=\"dcae4970-5189-4e2a-b31b-f949c7d69bff\">vectorizer</label><div class=\"sk-toggleable__content\"><pre>Name</pre></div></div></div><div class=\"sk-serial\"><div class=\"sk-item\"><div class=\"sk-estimator sk-toggleable\"><input class=\"sk-toggleable__control sk-hidden--visually\" id=\"ce9a19a7-4f60-4a07-9967-0cabf700d8b1\" type=\"checkbox\" ><label class=\"sk-toggleable__label\" for=\"ce9a19a7-4f60-4a07-9967-0cabf700d8b1\">CountVectorizer</label><div class=\"sk-toggleable__content\"><pre>CountVectorizer()</pre></div></div></div></div></div></div><div class=\"sk-parallel-item\"><div class=\"sk-item\"><div class=\"sk-label-container\"><div class=\"sk-label sk-toggleable\"><input class=\"sk-toggleable__control sk-hidden--visually\" id=\"92b10ea7-5129-4572-80e0-3bbf9454045a\" type=\"checkbox\" ><label class=\"sk-toggleable__label\" for=\"92b10ea7-5129-4572-80e0-3bbf9454045a\">imputer</label><div class=\"sk-toggleable__content\"><pre>['Age']</pre></div></div></div><div class=\"sk-serial\"><div class=\"sk-item\"><div class=\"sk-estimator sk-toggleable\"><input class=\"sk-toggleable__control sk-hidden--visually\" id=\"961ec54e-1956-402a-a914-7da1992307ae\" type=\"checkbox\" ><label class=\"sk-toggleable__label\" for=\"961ec54e-1956-402a-a914-7da1992307ae\">SimpleImputer</label><div class=\"sk-toggleable__content\"><pre>SimpleImputer()</pre></div></div></div></div></div></div></div></div><div class=\"sk-item\"><div class=\"sk-estimator sk-toggleable\"><input class=\"sk-toggleable__control sk-hidden--visually\" id=\"ff6cf67d-4c0b-44a1-a248-d30a5a3ad29a\" type=\"checkbox\" ><label class=\"sk-toggleable__label\" for=\"ff6cf67d-4c0b-44a1-a248-d30a5a3ad29a\">LogisticRegression</label><div class=\"sk-toggleable__content\"><pre>LogisticRegression(random_state=1, solver='liblinear')</pre></div></div></div></div></div></div></div></div></div></div></div></div>"
      ],
      "text/plain": [
       "GridSearchCV(cv=None, error_score=nan,\n",
       "             estimator=Pipeline(memory=None,\n",
       "                                steps=[('preprocessor',\n",
       "                                        ColumnTransformer(n_jobs=None,\n",
       "                                                          remainder='drop',\n",
       "                                                          sparse_threshold=0.3,\n",
       "                                                          transformer_weights=None,\n",
       "                                                          transformers=[('ohe',\n",
       "                                                                         OneHotEncoder(categories='auto',\n",
       "                                                                                       drop=None,\n",
       "                                                                                       dtype=<class 'numpy.float64'>,\n",
       "                                                                                       handle_unknown='error',\n",
       "                                                                                       sparse=True),\n",
       "                                                                         ['Sex']),\n",
       "                                                                        ('vectorizer',\n",
       "                                                                         CountVectorizer...\n",
       "                                                           warm_start=False))],\n",
       "                                verbose=False),\n",
       "             n_jobs=None,\n",
       "             param_grid={'classifier__C': [0.001, 0.01, 0.1, 1, 10, 100, 1000],\n",
       "                         'classifier__penalty': ['l1', 'l2'],\n",
       "                         'preprocessor__ohe__drop': [None, 'first'],\n",
       "                         'preprocessor__vectorizer__min_df': [1, 2, 3],\n",
       "                         'preprocessor__vectorizer__ngram_range': [(1, 1),\n",
       "                                                                   (1, 2)]},\n",
       "             pre_dispatch='2*n_jobs', refit=True, return_train_score=False,\n",
       "             scoring=None, verbose=0)"
      ]
     },
     "execution_count": 283,
     "metadata": {},
     "output_type": "execute_result"
    }
   ],
   "source": [
    "grid2 = GridSearchCV(pipe, params, n_jobs=-1)\n",
    "%time grid.fit(X, y)"
   ]
  },
  {
   "cell_type": "markdown",
   "id": "00f05a8b",
   "metadata": {},
   "source": [
    "## Tune multiple models simultaneously with GridSearchCV\n",
    "\n",
    "You can tune 2+ models using the same grid search! Here's how:\n",
    "+ Create multiple parameter dictionaries\n",
    "+ Specify the model within each dictionary\n",
    "+ Put the dictionaries in a list"
   ]
  },
  {
   "cell_type": "code",
   "execution_count": 284,
   "id": "aff9741c",
   "metadata": {},
   "outputs": [],
   "source": [
    "file_input_path = \"titanic_train.csv\"\n",
    "if not os.path.exists(file_input_path):\n",
    "    df_train = pd.read_csv(\"http://bit.ly/kaggletrain\")\n",
    "    df_train.to_csv(file_input_path, header=True, index=False, sep=\"\\t\")\n",
    "else:\n",
    "    df_train = pd.read_csv(file_input_path, header=0, sep=\"\\t\")\n",
    "    \n",
    "features = [\"Sex\", \"Name\", \"Age\"]\n",
    "X, y = df_train[features], df_train[\"Survived\"]"
   ]
  },
  {
   "cell_type": "code",
   "execution_count": 285,
   "id": "3d5b3ac3",
   "metadata": {},
   "outputs": [],
   "source": [
    "col_transformer = ColumnTransformer(\n",
    "    [\n",
    "        (\"ohe\", OneHotEncoder(), [\"Sex\"]),\n",
    "        (\"vectorizer\", CountVectorizer(), \"Name\"),\n",
    "        (\"imputer\", SimpleImputer(), [\"Age\"])\n",
    "    ]\n",
    ")"
   ]
  },
  {
   "cell_type": "code",
   "execution_count": 286,
   "id": "b61f8639",
   "metadata": {},
   "outputs": [],
   "source": [
    "clf1 = LogisticRegression(solver=\"liblinear\", random_state=1)\n",
    "clf2 = RandomForestClassifier(random_state=1)"
   ]
  },
  {
   "cell_type": "markdown",
   "id": "d75d3a8b",
   "metadata": {},
   "source": [
    "### Create multiple parameter dictionaries"
   ]
  },
  {
   "cell_type": "code",
   "execution_count": 287,
   "id": "15a31234",
   "metadata": {},
   "outputs": [],
   "source": [
    "# create the parameter dictionary for clf1\n",
    "params1 = {}\n",
    "params1['preprocessor__vectorizer__ngram_range'] = [(1, 1), (1, 2)]\n",
    "params1['classifier__penalty'] = ['l1', 'l2']\n",
    "params1['classifier__C'] = [0.1, 1, 10]\n",
    "params1['classifier'] = [clf1]"
   ]
  },
  {
   "cell_type": "code",
   "execution_count": 288,
   "id": "0f73491b",
   "metadata": {},
   "outputs": [],
   "source": [
    "# create the parameter dictionary for clf2\n",
    "params2 = {}\n",
    "params2['preprocessor__vectorizer__ngram_range'] = [(1, 1), (1, 2)]\n",
    "params2['classifier__n_estimators'] = [100, 200]\n",
    "params2['classifier__min_samples_leaf'] = [1, 2]\n",
    "params2['classifier'] = [clf2]"
   ]
  },
  {
   "cell_type": "markdown",
   "id": "71c35b7e",
   "metadata": {},
   "source": [
    "### Create a list of parameter dictionaries"
   ]
  },
  {
   "cell_type": "code",
   "execution_count": 289,
   "id": "e8ecbf9f",
   "metadata": {},
   "outputs": [],
   "source": [
    "params = [params1, params2]"
   ]
  },
  {
   "cell_type": "markdown",
   "id": "3b7cd646",
   "metadata": {},
   "source": [
    "### Create the Pipeline"
   ]
  },
  {
   "cell_type": "code",
   "execution_count": 290,
   "id": "0d0e943d",
   "metadata": {},
   "outputs": [],
   "source": [
    "pipe = Pipeline([('preprocessor', col_transformer), ('classifier', clf2)])"
   ]
  },
  {
   "cell_type": "markdown",
   "id": "38f5934d",
   "metadata": {},
   "source": [
    "### Grid Search with given dictionary"
   ]
  },
  {
   "cell_type": "code",
   "execution_count": 291,
   "id": "cdaab67f",
   "metadata": {},
   "outputs": [
    {
     "data": {
      "text/html": [
       "<style>#sk-13657b38-7798-4eea-9303-7d1d17e5b032 {color: black;background-color: white;}#sk-13657b38-7798-4eea-9303-7d1d17e5b032 pre{padding: 0;}#sk-13657b38-7798-4eea-9303-7d1d17e5b032 div.sk-toggleable {background-color: white;}#sk-13657b38-7798-4eea-9303-7d1d17e5b032 label.sk-toggleable__label {cursor: pointer;display: block;width: 100%;margin-bottom: 0;padding: 0.3em;box-sizing: border-box;text-align: center;}#sk-13657b38-7798-4eea-9303-7d1d17e5b032 div.sk-toggleable__content {max-height: 0;max-width: 0;overflow: hidden;text-align: left;background-color: #f0f8ff;}#sk-13657b38-7798-4eea-9303-7d1d17e5b032 div.sk-toggleable__content pre {margin: 0.2em;color: black;border-radius: 0.25em;background-color: #f0f8ff;}#sk-13657b38-7798-4eea-9303-7d1d17e5b032 input.sk-toggleable__control:checked~div.sk-toggleable__content {max-height: 200px;max-width: 100%;overflow: auto;}#sk-13657b38-7798-4eea-9303-7d1d17e5b032 div.sk-estimator input.sk-toggleable__control:checked~label.sk-toggleable__label {background-color: #d4ebff;}#sk-13657b38-7798-4eea-9303-7d1d17e5b032 div.sk-label input.sk-toggleable__control:checked~label.sk-toggleable__label {background-color: #d4ebff;}#sk-13657b38-7798-4eea-9303-7d1d17e5b032 input.sk-hidden--visually {border: 0;clip: rect(1px 1px 1px 1px);clip: rect(1px, 1px, 1px, 1px);height: 1px;margin: -1px;overflow: hidden;padding: 0;position: absolute;width: 1px;}#sk-13657b38-7798-4eea-9303-7d1d17e5b032 div.sk-estimator {font-family: monospace;background-color: #f0f8ff;border: 1px dotted black;border-radius: 0.25em;box-sizing: border-box;margin-bottom: 0.5em;}#sk-13657b38-7798-4eea-9303-7d1d17e5b032 div.sk-estimator:hover {background-color: #d4ebff;}#sk-13657b38-7798-4eea-9303-7d1d17e5b032 div.sk-parallel-item::after {content: \"\";width: 100%;border-bottom: 1px solid gray;flex-grow: 1;}#sk-13657b38-7798-4eea-9303-7d1d17e5b032 div.sk-label:hover label.sk-toggleable__label {background-color: #d4ebff;}#sk-13657b38-7798-4eea-9303-7d1d17e5b032 div.sk-serial::before {content: \"\";position: absolute;border-left: 1px solid gray;box-sizing: border-box;top: 2em;bottom: 0;left: 50%;}#sk-13657b38-7798-4eea-9303-7d1d17e5b032 div.sk-serial {display: flex;flex-direction: column;align-items: center;background-color: white;padding-right: 0.2em;padding-left: 0.2em;}#sk-13657b38-7798-4eea-9303-7d1d17e5b032 div.sk-item {z-index: 1;}#sk-13657b38-7798-4eea-9303-7d1d17e5b032 div.sk-parallel {display: flex;align-items: stretch;justify-content: center;background-color: white;}#sk-13657b38-7798-4eea-9303-7d1d17e5b032 div.sk-parallel::before {content: \"\";position: absolute;border-left: 1px solid gray;box-sizing: border-box;top: 2em;bottom: 0;left: 50%;}#sk-13657b38-7798-4eea-9303-7d1d17e5b032 div.sk-parallel-item {display: flex;flex-direction: column;position: relative;background-color: white;}#sk-13657b38-7798-4eea-9303-7d1d17e5b032 div.sk-parallel-item:first-child::after {align-self: flex-end;width: 50%;}#sk-13657b38-7798-4eea-9303-7d1d17e5b032 div.sk-parallel-item:last-child::after {align-self: flex-start;width: 50%;}#sk-13657b38-7798-4eea-9303-7d1d17e5b032 div.sk-parallel-item:only-child::after {width: 0;}#sk-13657b38-7798-4eea-9303-7d1d17e5b032 div.sk-dashed-wrapped {border: 1px dashed gray;margin: 0 0.4em 0.5em 0.4em;box-sizing: border-box;padding-bottom: 0.4em;background-color: white;position: relative;}#sk-13657b38-7798-4eea-9303-7d1d17e5b032 div.sk-label label {font-family: monospace;font-weight: bold;background-color: white;display: inline-block;line-height: 1.2em;}#sk-13657b38-7798-4eea-9303-7d1d17e5b032 div.sk-label-container {position: relative;z-index: 2;text-align: center;}#sk-13657b38-7798-4eea-9303-7d1d17e5b032 div.sk-container {display: inline-block;position: relative;}</style><div id=\"sk-13657b38-7798-4eea-9303-7d1d17e5b032\" class\"sk-top-container\"><div class=\"sk-container\"><div class=\"sk-item sk-dashed-wrapped\"><div class=\"sk-label-container\"><div class=\"sk-label sk-toggleable\"><input class=\"sk-toggleable__control sk-hidden--visually\" id=\"fe749ada-1e1e-4189-9a90-30a931802c7b\" type=\"checkbox\" ><label class=\"sk-toggleable__label\" for=\"fe749ada-1e1e-4189-9a90-30a931802c7b\">GridSearchCV</label><div class=\"sk-toggleable__content\"><pre>GridSearchCV(cv=None, error_score=nan,\n",
       "             estimator=Pipeline(memory=None,\n",
       "                                steps=[('preprocessor',\n",
       "                                        ColumnTransformer(n_jobs=None,\n",
       "                                                          remainder='drop',\n",
       "                                                          sparse_threshold=0.3,\n",
       "                                                          transformer_weights=None,\n",
       "                                                          transformers=[('ohe',\n",
       "                                                                         OneHotEncoder(categories='auto',\n",
       "                                                                                       drop=None,\n",
       "                                                                                       dtype=<class 'numpy.float64'>,\n",
       "                                                                                       handle_unknown='error',\n",
       "                                                                                       sparse=True),\n",
       "                                                                         ['Sex']),\n",
       "                                                                        ('vectorizer',\n",
       "                                                                         CountVectorizer...\n",
       "                                                                min_samples_split=2,\n",
       "                                                                min_weight_fraction_leaf=0.0,\n",
       "                                                                n_estimators=100,\n",
       "                                                                n_jobs=None,\n",
       "                                                                oob_score=False,\n",
       "                                                                random_state=1,\n",
       "                                                                verbose=0,\n",
       "                                                                warm_start=False)],\n",
       "                          'classifier__min_samples_leaf': [1, 2],\n",
       "                          'classifier__n_estimators': [100, 200],\n",
       "                          'preprocessor__vectorizer__ngram_range': [(1, 1),\n",
       "                                                                    (1, 2)]}],\n",
       "             pre_dispatch='2*n_jobs', refit=True, return_train_score=False,\n",
       "             scoring=None, verbose=0)</pre></div></div></div><div class=\"sk-parallel\"><div class=\"sk-parallel-item\"><div class=\"sk-item\"><div class=\"sk-serial\"><div class=\"sk-item\"><div class=\"sk-serial\"><div class=\"sk-item sk-dashed-wrapped\"><div class=\"sk-label-container\"><div class=\"sk-label sk-toggleable\"><input class=\"sk-toggleable__control sk-hidden--visually\" id=\"ecf960a1-0326-4226-9097-927ae8b9983e\" type=\"checkbox\" ><label class=\"sk-toggleable__label\" for=\"ecf960a1-0326-4226-9097-927ae8b9983e\">preprocessor: ColumnTransformer</label><div class=\"sk-toggleable__content\"><pre>ColumnTransformer(transformers=[('ohe', OneHotEncoder(), ['Sex']),\n",
       "                                ('vectorizer', CountVectorizer(), 'Name'),\n",
       "                                ('imputer', SimpleImputer(), ['Age'])])</pre></div></div></div><div class=\"sk-parallel\"><div class=\"sk-parallel-item\"><div class=\"sk-item\"><div class=\"sk-label-container\"><div class=\"sk-label sk-toggleable\"><input class=\"sk-toggleable__control sk-hidden--visually\" id=\"1d0aebc7-2d25-4939-b8fc-4f2d078a23ae\" type=\"checkbox\" ><label class=\"sk-toggleable__label\" for=\"1d0aebc7-2d25-4939-b8fc-4f2d078a23ae\">ohe</label><div class=\"sk-toggleable__content\"><pre>['Sex']</pre></div></div></div><div class=\"sk-serial\"><div class=\"sk-item\"><div class=\"sk-estimator sk-toggleable\"><input class=\"sk-toggleable__control sk-hidden--visually\" id=\"6139bd38-39e6-4e62-b3a2-e2ef07c29d56\" type=\"checkbox\" ><label class=\"sk-toggleable__label\" for=\"6139bd38-39e6-4e62-b3a2-e2ef07c29d56\">OneHotEncoder</label><div class=\"sk-toggleable__content\"><pre>OneHotEncoder()</pre></div></div></div></div></div></div><div class=\"sk-parallel-item\"><div class=\"sk-item\"><div class=\"sk-label-container\"><div class=\"sk-label sk-toggleable\"><input class=\"sk-toggleable__control sk-hidden--visually\" id=\"821d3d57-4159-4bff-a0e0-9d3e62217393\" type=\"checkbox\" ><label class=\"sk-toggleable__label\" for=\"821d3d57-4159-4bff-a0e0-9d3e62217393\">vectorizer</label><div class=\"sk-toggleable__content\"><pre>Name</pre></div></div></div><div class=\"sk-serial\"><div class=\"sk-item\"><div class=\"sk-estimator sk-toggleable\"><input class=\"sk-toggleable__control sk-hidden--visually\" id=\"c97583a3-01a7-4098-ae0d-4387a1d9d8cc\" type=\"checkbox\" ><label class=\"sk-toggleable__label\" for=\"c97583a3-01a7-4098-ae0d-4387a1d9d8cc\">CountVectorizer</label><div class=\"sk-toggleable__content\"><pre>CountVectorizer()</pre></div></div></div></div></div></div><div class=\"sk-parallel-item\"><div class=\"sk-item\"><div class=\"sk-label-container\"><div class=\"sk-label sk-toggleable\"><input class=\"sk-toggleable__control sk-hidden--visually\" id=\"a8420a25-366a-451e-9e64-74903d232e8b\" type=\"checkbox\" ><label class=\"sk-toggleable__label\" for=\"a8420a25-366a-451e-9e64-74903d232e8b\">imputer</label><div class=\"sk-toggleable__content\"><pre>['Age']</pre></div></div></div><div class=\"sk-serial\"><div class=\"sk-item\"><div class=\"sk-estimator sk-toggleable\"><input class=\"sk-toggleable__control sk-hidden--visually\" id=\"ecfc54cd-a77e-439d-9a63-9fec178e539d\" type=\"checkbox\" ><label class=\"sk-toggleable__label\" for=\"ecfc54cd-a77e-439d-9a63-9fec178e539d\">SimpleImputer</label><div class=\"sk-toggleable__content\"><pre>SimpleImputer()</pre></div></div></div></div></div></div></div></div><div class=\"sk-item\"><div class=\"sk-estimator sk-toggleable\"><input class=\"sk-toggleable__control sk-hidden--visually\" id=\"3cc64456-4578-4cce-ac38-dee6ee815f9d\" type=\"checkbox\" ><label class=\"sk-toggleable__label\" for=\"3cc64456-4578-4cce-ac38-dee6ee815f9d\">RandomForestClassifier</label><div class=\"sk-toggleable__content\"><pre>RandomForestClassifier(random_state=1)</pre></div></div></div></div></div></div></div></div></div></div></div></div>"
      ],
      "text/plain": [
       "GridSearchCV(cv=None, error_score=nan,\n",
       "             estimator=Pipeline(memory=None,\n",
       "                                steps=[('preprocessor',\n",
       "                                        ColumnTransformer(n_jobs=None,\n",
       "                                                          remainder='drop',\n",
       "                                                          sparse_threshold=0.3,\n",
       "                                                          transformer_weights=None,\n",
       "                                                          transformers=[('ohe',\n",
       "                                                                         OneHotEncoder(categories='auto',\n",
       "                                                                                       drop=None,\n",
       "                                                                                       dtype=<class 'numpy.float64'>,\n",
       "                                                                                       handle_unknown='error',\n",
       "                                                                                       sparse=True),\n",
       "                                                                         ['Sex']),\n",
       "                                                                        ('vectorizer',\n",
       "                                                                         CountVectorizer...\n",
       "                                                                min_samples_split=2,\n",
       "                                                                min_weight_fraction_leaf=0.0,\n",
       "                                                                n_estimators=100,\n",
       "                                                                n_jobs=None,\n",
       "                                                                oob_score=False,\n",
       "                                                                random_state=1,\n",
       "                                                                verbose=0,\n",
       "                                                                warm_start=False)],\n",
       "                          'classifier__min_samples_leaf': [1, 2],\n",
       "                          'classifier__n_estimators': [100, 200],\n",
       "                          'preprocessor__vectorizer__ngram_range': [(1, 1),\n",
       "                                                                    (1, 2)]}],\n",
       "             pre_dispatch='2*n_jobs', refit=True, return_train_score=False,\n",
       "             scoring=None, verbose=0)"
      ]
     },
     "execution_count": 291,
     "metadata": {},
     "output_type": "execute_result"
    }
   ],
   "source": [
    "grid = GridSearchCV(pipe, params)\n",
    "grid"
   ]
  },
  {
   "cell_type": "code",
   "execution_count": 292,
   "id": "80d62179",
   "metadata": {},
   "outputs": [
    {
     "name": "stdout",
     "output_type": "stream",
     "text": [
      "Wall time: 16.5 s\n"
     ]
    },
    {
     "data": {
      "text/html": [
       "<style>#sk-8d2d7406-813c-4f38-8ce7-e23cbf109415 {color: black;background-color: white;}#sk-8d2d7406-813c-4f38-8ce7-e23cbf109415 pre{padding: 0;}#sk-8d2d7406-813c-4f38-8ce7-e23cbf109415 div.sk-toggleable {background-color: white;}#sk-8d2d7406-813c-4f38-8ce7-e23cbf109415 label.sk-toggleable__label {cursor: pointer;display: block;width: 100%;margin-bottom: 0;padding: 0.3em;box-sizing: border-box;text-align: center;}#sk-8d2d7406-813c-4f38-8ce7-e23cbf109415 div.sk-toggleable__content {max-height: 0;max-width: 0;overflow: hidden;text-align: left;background-color: #f0f8ff;}#sk-8d2d7406-813c-4f38-8ce7-e23cbf109415 div.sk-toggleable__content pre {margin: 0.2em;color: black;border-radius: 0.25em;background-color: #f0f8ff;}#sk-8d2d7406-813c-4f38-8ce7-e23cbf109415 input.sk-toggleable__control:checked~div.sk-toggleable__content {max-height: 200px;max-width: 100%;overflow: auto;}#sk-8d2d7406-813c-4f38-8ce7-e23cbf109415 div.sk-estimator input.sk-toggleable__control:checked~label.sk-toggleable__label {background-color: #d4ebff;}#sk-8d2d7406-813c-4f38-8ce7-e23cbf109415 div.sk-label input.sk-toggleable__control:checked~label.sk-toggleable__label {background-color: #d4ebff;}#sk-8d2d7406-813c-4f38-8ce7-e23cbf109415 input.sk-hidden--visually {border: 0;clip: rect(1px 1px 1px 1px);clip: rect(1px, 1px, 1px, 1px);height: 1px;margin: -1px;overflow: hidden;padding: 0;position: absolute;width: 1px;}#sk-8d2d7406-813c-4f38-8ce7-e23cbf109415 div.sk-estimator {font-family: monospace;background-color: #f0f8ff;border: 1px dotted black;border-radius: 0.25em;box-sizing: border-box;margin-bottom: 0.5em;}#sk-8d2d7406-813c-4f38-8ce7-e23cbf109415 div.sk-estimator:hover {background-color: #d4ebff;}#sk-8d2d7406-813c-4f38-8ce7-e23cbf109415 div.sk-parallel-item::after {content: \"\";width: 100%;border-bottom: 1px solid gray;flex-grow: 1;}#sk-8d2d7406-813c-4f38-8ce7-e23cbf109415 div.sk-label:hover label.sk-toggleable__label {background-color: #d4ebff;}#sk-8d2d7406-813c-4f38-8ce7-e23cbf109415 div.sk-serial::before {content: \"\";position: absolute;border-left: 1px solid gray;box-sizing: border-box;top: 2em;bottom: 0;left: 50%;}#sk-8d2d7406-813c-4f38-8ce7-e23cbf109415 div.sk-serial {display: flex;flex-direction: column;align-items: center;background-color: white;padding-right: 0.2em;padding-left: 0.2em;}#sk-8d2d7406-813c-4f38-8ce7-e23cbf109415 div.sk-item {z-index: 1;}#sk-8d2d7406-813c-4f38-8ce7-e23cbf109415 div.sk-parallel {display: flex;align-items: stretch;justify-content: center;background-color: white;}#sk-8d2d7406-813c-4f38-8ce7-e23cbf109415 div.sk-parallel::before {content: \"\";position: absolute;border-left: 1px solid gray;box-sizing: border-box;top: 2em;bottom: 0;left: 50%;}#sk-8d2d7406-813c-4f38-8ce7-e23cbf109415 div.sk-parallel-item {display: flex;flex-direction: column;position: relative;background-color: white;}#sk-8d2d7406-813c-4f38-8ce7-e23cbf109415 div.sk-parallel-item:first-child::after {align-self: flex-end;width: 50%;}#sk-8d2d7406-813c-4f38-8ce7-e23cbf109415 div.sk-parallel-item:last-child::after {align-self: flex-start;width: 50%;}#sk-8d2d7406-813c-4f38-8ce7-e23cbf109415 div.sk-parallel-item:only-child::after {width: 0;}#sk-8d2d7406-813c-4f38-8ce7-e23cbf109415 div.sk-dashed-wrapped {border: 1px dashed gray;margin: 0 0.4em 0.5em 0.4em;box-sizing: border-box;padding-bottom: 0.4em;background-color: white;position: relative;}#sk-8d2d7406-813c-4f38-8ce7-e23cbf109415 div.sk-label label {font-family: monospace;font-weight: bold;background-color: white;display: inline-block;line-height: 1.2em;}#sk-8d2d7406-813c-4f38-8ce7-e23cbf109415 div.sk-label-container {position: relative;z-index: 2;text-align: center;}#sk-8d2d7406-813c-4f38-8ce7-e23cbf109415 div.sk-container {display: inline-block;position: relative;}</style><div id=\"sk-8d2d7406-813c-4f38-8ce7-e23cbf109415\" class\"sk-top-container\"><div class=\"sk-container\"><div class=\"sk-item sk-dashed-wrapped\"><div class=\"sk-label-container\"><div class=\"sk-label sk-toggleable\"><input class=\"sk-toggleable__control sk-hidden--visually\" id=\"264dc2f8-03a0-4e07-86e9-1571695b8710\" type=\"checkbox\" ><label class=\"sk-toggleable__label\" for=\"264dc2f8-03a0-4e07-86e9-1571695b8710\">GridSearchCV</label><div class=\"sk-toggleable__content\"><pre>GridSearchCV(cv=None, error_score=nan,\n",
       "             estimator=Pipeline(memory=None,\n",
       "                                steps=[('preprocessor',\n",
       "                                        ColumnTransformer(n_jobs=None,\n",
       "                                                          remainder='drop',\n",
       "                                                          sparse_threshold=0.3,\n",
       "                                                          transformer_weights=None,\n",
       "                                                          transformers=[('ohe',\n",
       "                                                                         OneHotEncoder(categories='auto',\n",
       "                                                                                       drop=None,\n",
       "                                                                                       dtype=<class 'numpy.float64'>,\n",
       "                                                                                       handle_unknown='error',\n",
       "                                                                                       sparse=True),\n",
       "                                                                         ['Sex']),\n",
       "                                                                        ('vectorizer',\n",
       "                                                                         CountVectorizer...\n",
       "                                                                min_samples_split=2,\n",
       "                                                                min_weight_fraction_leaf=0.0,\n",
       "                                                                n_estimators=100,\n",
       "                                                                n_jobs=None,\n",
       "                                                                oob_score=False,\n",
       "                                                                random_state=1,\n",
       "                                                                verbose=0,\n",
       "                                                                warm_start=False)],\n",
       "                          'classifier__min_samples_leaf': [1, 2],\n",
       "                          'classifier__n_estimators': [100, 200],\n",
       "                          'preprocessor__vectorizer__ngram_range': [(1, 1),\n",
       "                                                                    (1, 2)]}],\n",
       "             pre_dispatch='2*n_jobs', refit=True, return_train_score=False,\n",
       "             scoring=None, verbose=0)</pre></div></div></div><div class=\"sk-parallel\"><div class=\"sk-parallel-item\"><div class=\"sk-item\"><div class=\"sk-serial\"><div class=\"sk-item\"><div class=\"sk-serial\"><div class=\"sk-item sk-dashed-wrapped\"><div class=\"sk-label-container\"><div class=\"sk-label sk-toggleable\"><input class=\"sk-toggleable__control sk-hidden--visually\" id=\"96940997-9bf3-46e8-99d2-1fcf69dd9742\" type=\"checkbox\" ><label class=\"sk-toggleable__label\" for=\"96940997-9bf3-46e8-99d2-1fcf69dd9742\">preprocessor: ColumnTransformer</label><div class=\"sk-toggleable__content\"><pre>ColumnTransformer(transformers=[('ohe', OneHotEncoder(), ['Sex']),\n",
       "                                ('vectorizer', CountVectorizer(), 'Name'),\n",
       "                                ('imputer', SimpleImputer(), ['Age'])])</pre></div></div></div><div class=\"sk-parallel\"><div class=\"sk-parallel-item\"><div class=\"sk-item\"><div class=\"sk-label-container\"><div class=\"sk-label sk-toggleable\"><input class=\"sk-toggleable__control sk-hidden--visually\" id=\"11907c3d-9842-49e8-b27a-d239b75de416\" type=\"checkbox\" ><label class=\"sk-toggleable__label\" for=\"11907c3d-9842-49e8-b27a-d239b75de416\">ohe</label><div class=\"sk-toggleable__content\"><pre>['Sex']</pre></div></div></div><div class=\"sk-serial\"><div class=\"sk-item\"><div class=\"sk-estimator sk-toggleable\"><input class=\"sk-toggleable__control sk-hidden--visually\" id=\"523b098f-cdee-4d10-a9c4-f508556fc1f7\" type=\"checkbox\" ><label class=\"sk-toggleable__label\" for=\"523b098f-cdee-4d10-a9c4-f508556fc1f7\">OneHotEncoder</label><div class=\"sk-toggleable__content\"><pre>OneHotEncoder()</pre></div></div></div></div></div></div><div class=\"sk-parallel-item\"><div class=\"sk-item\"><div class=\"sk-label-container\"><div class=\"sk-label sk-toggleable\"><input class=\"sk-toggleable__control sk-hidden--visually\" id=\"918a5ab2-067c-4053-a4ba-4622d3c672b0\" type=\"checkbox\" ><label class=\"sk-toggleable__label\" for=\"918a5ab2-067c-4053-a4ba-4622d3c672b0\">vectorizer</label><div class=\"sk-toggleable__content\"><pre>Name</pre></div></div></div><div class=\"sk-serial\"><div class=\"sk-item\"><div class=\"sk-estimator sk-toggleable\"><input class=\"sk-toggleable__control sk-hidden--visually\" id=\"b65f144a-cbb5-4424-9d42-95e9db31f736\" type=\"checkbox\" ><label class=\"sk-toggleable__label\" for=\"b65f144a-cbb5-4424-9d42-95e9db31f736\">CountVectorizer</label><div class=\"sk-toggleable__content\"><pre>CountVectorizer()</pre></div></div></div></div></div></div><div class=\"sk-parallel-item\"><div class=\"sk-item\"><div class=\"sk-label-container\"><div class=\"sk-label sk-toggleable\"><input class=\"sk-toggleable__control sk-hidden--visually\" id=\"19bf1b17-1fff-4bea-b623-ddc5f15d3f93\" type=\"checkbox\" ><label class=\"sk-toggleable__label\" for=\"19bf1b17-1fff-4bea-b623-ddc5f15d3f93\">imputer</label><div class=\"sk-toggleable__content\"><pre>['Age']</pre></div></div></div><div class=\"sk-serial\"><div class=\"sk-item\"><div class=\"sk-estimator sk-toggleable\"><input class=\"sk-toggleable__control sk-hidden--visually\" id=\"e95f4a51-5380-4e6d-94e0-b93c82158061\" type=\"checkbox\" ><label class=\"sk-toggleable__label\" for=\"e95f4a51-5380-4e6d-94e0-b93c82158061\">SimpleImputer</label><div class=\"sk-toggleable__content\"><pre>SimpleImputer()</pre></div></div></div></div></div></div></div></div><div class=\"sk-item\"><div class=\"sk-estimator sk-toggleable\"><input class=\"sk-toggleable__control sk-hidden--visually\" id=\"7d913884-96c6-4b2a-88f3-662bfd357cdd\" type=\"checkbox\" ><label class=\"sk-toggleable__label\" for=\"7d913884-96c6-4b2a-88f3-662bfd357cdd\">RandomForestClassifier</label><div class=\"sk-toggleable__content\"><pre>RandomForestClassifier(random_state=1)</pre></div></div></div></div></div></div></div></div></div></div></div></div>"
      ],
      "text/plain": [
       "GridSearchCV(cv=None, error_score=nan,\n",
       "             estimator=Pipeline(memory=None,\n",
       "                                steps=[('preprocessor',\n",
       "                                        ColumnTransformer(n_jobs=None,\n",
       "                                                          remainder='drop',\n",
       "                                                          sparse_threshold=0.3,\n",
       "                                                          transformer_weights=None,\n",
       "                                                          transformers=[('ohe',\n",
       "                                                                         OneHotEncoder(categories='auto',\n",
       "                                                                                       drop=None,\n",
       "                                                                                       dtype=<class 'numpy.float64'>,\n",
       "                                                                                       handle_unknown='error',\n",
       "                                                                                       sparse=True),\n",
       "                                                                         ['Sex']),\n",
       "                                                                        ('vectorizer',\n",
       "                                                                         CountVectorizer...\n",
       "                                                                min_samples_split=2,\n",
       "                                                                min_weight_fraction_leaf=0.0,\n",
       "                                                                n_estimators=100,\n",
       "                                                                n_jobs=None,\n",
       "                                                                oob_score=False,\n",
       "                                                                random_state=1,\n",
       "                                                                verbose=0,\n",
       "                                                                warm_start=False)],\n",
       "                          'classifier__min_samples_leaf': [1, 2],\n",
       "                          'classifier__n_estimators': [100, 200],\n",
       "                          'preprocessor__vectorizer__ngram_range': [(1, 1),\n",
       "                                                                    (1, 2)]}],\n",
       "             pre_dispatch='2*n_jobs', refit=True, return_train_score=False,\n",
       "             scoring=None, verbose=0)"
      ]
     },
     "execution_count": 292,
     "metadata": {},
     "output_type": "execute_result"
    }
   ],
   "source": [
    "%time grid.fit(X, y)"
   ]
  },
  {
   "cell_type": "code",
   "execution_count": 293,
   "id": "540be208",
   "metadata": {},
   "outputs": [
    {
     "data": {
      "text/plain": [
       "{'classifier': LogisticRegression(C=10, class_weight=None, dual=False, fit_intercept=True,\n",
       "                    intercept_scaling=1, l1_ratio=None, max_iter=100,\n",
       "                    multi_class='auto', n_jobs=None, penalty='l1',\n",
       "                    random_state=1, solver='liblinear', tol=0.0001, verbose=0,\n",
       "                    warm_start=False),\n",
       " 'classifier__C': 10,\n",
       " 'classifier__penalty': 'l1',\n",
       " 'preprocessor__vectorizer__ngram_range': (1, 2)}"
      ]
     },
     "execution_count": 293,
     "metadata": {},
     "output_type": "execute_result"
    }
   ],
   "source": [
    "grid.best_params_"
   ]
  },
  {
   "cell_type": "markdown",
   "id": "243c74b5",
   "metadata": {},
   "source": [
    "# Model Evaluation"
   ]
  },
  {
   "cell_type": "markdown",
   "id": "e3a584b3",
   "metadata": {},
   "source": [
    "## Plot a confusion matrix\n",
    "\n",
    "New in scikit-learn 0.22: [Plot a confusion matrix](https://scikit-learn.org/stable/modules/model_evaluation.html#confusion-matrix) in one line of code!\n",
    "\n",
    "Highly customizable, including the [colormap](https://matplotlib.org/stable/gallery/color/colormap_reference.html), display labels, and [value formatting](https://docs.python.org/3/library/string.html#format-specification-mini-language).\n",
    "\n",
    "Note: Beginning in scikit-learn 1.0, the plot_confusion_matrix function has been deprecated in favor of [two new methods](https://scikit-learn.org/stable/modules/generated/sklearn.metrics.ConfusionMatrixDisplay.html) in the ConfusionMatrixDisplay class."
   ]
  },
  {
   "cell_type": "code",
   "execution_count": 294,
   "id": "0069a5fc",
   "metadata": {},
   "outputs": [],
   "source": [
    "file_input_path = \"titanic_train.csv\"\n",
    "if not os.path.exists(file_input_path):\n",
    "    df_train = pd.read_csv(\"http://bit.ly/kaggletrain\")\n",
    "    df_train.to_csv(file_input_path, header=True, index=False, sep=\"\\t\")\n",
    "else:\n",
    "    df_train = pd.read_csv(file_input_path, header=0, sep=\"\\t\")\n",
    "    \n",
    "features = [\"Pclass\", \"Fare\"]\n",
    "X, y = df_train[features], df_train[\"Survived\"]\n",
    "\n",
    "from sklearn.model_selection import train_test_split\n",
    "X_train, X_test, y_train, y_test = train_test_split(X, y, random_state=0)"
   ]
  },
  {
   "cell_type": "code",
   "execution_count": 295,
   "id": "11109900",
   "metadata": {},
   "outputs": [],
   "source": [
    "from sklearn.linear_model import LogisticRegression\n",
    "from sklearn.metrics import plot_confusion_matrix, ConfusionMatrixDisplay, confusion_matrix"
   ]
  },
  {
   "cell_type": "markdown",
   "id": "820e7beb",
   "metadata": {},
   "source": [
    "### Splitting Phase"
   ]
  },
  {
   "cell_type": "code",
   "execution_count": 296,
   "id": "04eee6b0",
   "metadata": {},
   "outputs": [],
   "source": [
    "X_train, X_test, y_train, y_test = train_test_split(X, y, random_state=0)"
   ]
  },
  {
   "cell_type": "markdown",
   "id": "3b68a640",
   "metadata": {},
   "source": [
    "### Training Phase"
   ]
  },
  {
   "cell_type": "code",
   "execution_count": 297,
   "id": "1d6f6730",
   "metadata": {},
   "outputs": [
    {
     "data": {
      "text/html": [
       "<style>#sk-89573358-1de4-4da4-a661-ebd55e16f905 {color: black;background-color: white;}#sk-89573358-1de4-4da4-a661-ebd55e16f905 pre{padding: 0;}#sk-89573358-1de4-4da4-a661-ebd55e16f905 div.sk-toggleable {background-color: white;}#sk-89573358-1de4-4da4-a661-ebd55e16f905 label.sk-toggleable__label {cursor: pointer;display: block;width: 100%;margin-bottom: 0;padding: 0.3em;box-sizing: border-box;text-align: center;}#sk-89573358-1de4-4da4-a661-ebd55e16f905 div.sk-toggleable__content {max-height: 0;max-width: 0;overflow: hidden;text-align: left;background-color: #f0f8ff;}#sk-89573358-1de4-4da4-a661-ebd55e16f905 div.sk-toggleable__content pre {margin: 0.2em;color: black;border-radius: 0.25em;background-color: #f0f8ff;}#sk-89573358-1de4-4da4-a661-ebd55e16f905 input.sk-toggleable__control:checked~div.sk-toggleable__content {max-height: 200px;max-width: 100%;overflow: auto;}#sk-89573358-1de4-4da4-a661-ebd55e16f905 div.sk-estimator input.sk-toggleable__control:checked~label.sk-toggleable__label {background-color: #d4ebff;}#sk-89573358-1de4-4da4-a661-ebd55e16f905 div.sk-label input.sk-toggleable__control:checked~label.sk-toggleable__label {background-color: #d4ebff;}#sk-89573358-1de4-4da4-a661-ebd55e16f905 input.sk-hidden--visually {border: 0;clip: rect(1px 1px 1px 1px);clip: rect(1px, 1px, 1px, 1px);height: 1px;margin: -1px;overflow: hidden;padding: 0;position: absolute;width: 1px;}#sk-89573358-1de4-4da4-a661-ebd55e16f905 div.sk-estimator {font-family: monospace;background-color: #f0f8ff;border: 1px dotted black;border-radius: 0.25em;box-sizing: border-box;margin-bottom: 0.5em;}#sk-89573358-1de4-4da4-a661-ebd55e16f905 div.sk-estimator:hover {background-color: #d4ebff;}#sk-89573358-1de4-4da4-a661-ebd55e16f905 div.sk-parallel-item::after {content: \"\";width: 100%;border-bottom: 1px solid gray;flex-grow: 1;}#sk-89573358-1de4-4da4-a661-ebd55e16f905 div.sk-label:hover label.sk-toggleable__label {background-color: #d4ebff;}#sk-89573358-1de4-4da4-a661-ebd55e16f905 div.sk-serial::before {content: \"\";position: absolute;border-left: 1px solid gray;box-sizing: border-box;top: 2em;bottom: 0;left: 50%;}#sk-89573358-1de4-4da4-a661-ebd55e16f905 div.sk-serial {display: flex;flex-direction: column;align-items: center;background-color: white;padding-right: 0.2em;padding-left: 0.2em;}#sk-89573358-1de4-4da4-a661-ebd55e16f905 div.sk-item {z-index: 1;}#sk-89573358-1de4-4da4-a661-ebd55e16f905 div.sk-parallel {display: flex;align-items: stretch;justify-content: center;background-color: white;}#sk-89573358-1de4-4da4-a661-ebd55e16f905 div.sk-parallel::before {content: \"\";position: absolute;border-left: 1px solid gray;box-sizing: border-box;top: 2em;bottom: 0;left: 50%;}#sk-89573358-1de4-4da4-a661-ebd55e16f905 div.sk-parallel-item {display: flex;flex-direction: column;position: relative;background-color: white;}#sk-89573358-1de4-4da4-a661-ebd55e16f905 div.sk-parallel-item:first-child::after {align-self: flex-end;width: 50%;}#sk-89573358-1de4-4da4-a661-ebd55e16f905 div.sk-parallel-item:last-child::after {align-self: flex-start;width: 50%;}#sk-89573358-1de4-4da4-a661-ebd55e16f905 div.sk-parallel-item:only-child::after {width: 0;}#sk-89573358-1de4-4da4-a661-ebd55e16f905 div.sk-dashed-wrapped {border: 1px dashed gray;margin: 0 0.4em 0.5em 0.4em;box-sizing: border-box;padding-bottom: 0.4em;background-color: white;position: relative;}#sk-89573358-1de4-4da4-a661-ebd55e16f905 div.sk-label label {font-family: monospace;font-weight: bold;background-color: white;display: inline-block;line-height: 1.2em;}#sk-89573358-1de4-4da4-a661-ebd55e16f905 div.sk-label-container {position: relative;z-index: 2;text-align: center;}#sk-89573358-1de4-4da4-a661-ebd55e16f905 div.sk-container {display: inline-block;position: relative;}</style><div id=\"sk-89573358-1de4-4da4-a661-ebd55e16f905\" class\"sk-top-container\"><div class=\"sk-container\"><div class=\"sk-item\"><div class=\"sk-estimator sk-toggleable\"><input class=\"sk-toggleable__control sk-hidden--visually\" id=\"8614132d-f230-49a7-b265-c48f9eface85\" type=\"checkbox\" checked><label class=\"sk-toggleable__label\" for=\"8614132d-f230-49a7-b265-c48f9eface85\">LogisticRegression</label><div class=\"sk-toggleable__content\"><pre>LogisticRegression(C=1.0, class_weight=None, dual=False, fit_intercept=True,\n",
       "                   intercept_scaling=1, l1_ratio=None, max_iter=100,\n",
       "                   multi_class='auto', n_jobs=None, penalty='l2',\n",
       "                   random_state=None, solver='lbfgs', tol=0.0001, verbose=0,\n",
       "                   warm_start=False)</pre></div></div></div></div></div>"
      ],
      "text/plain": [
       "LogisticRegression(C=1.0, class_weight=None, dual=False, fit_intercept=True,\n",
       "                   intercept_scaling=1, l1_ratio=None, max_iter=100,\n",
       "                   multi_class='auto', n_jobs=None, penalty='l2',\n",
       "                   random_state=None, solver='lbfgs', tol=0.0001, verbose=0,\n",
       "                   warm_start=False)"
      ]
     },
     "execution_count": 297,
     "metadata": {},
     "output_type": "execute_result"
    }
   ],
   "source": [
    "clf = LogisticRegression()\n",
    "clf"
   ]
  },
  {
   "cell_type": "code",
   "execution_count": 298,
   "id": "bf3f5b62",
   "metadata": {},
   "outputs": [
    {
     "data": {
      "text/html": [
       "<style>#sk-afc0f9be-10aa-4550-8670-8b877fa95073 {color: black;background-color: white;}#sk-afc0f9be-10aa-4550-8670-8b877fa95073 pre{padding: 0;}#sk-afc0f9be-10aa-4550-8670-8b877fa95073 div.sk-toggleable {background-color: white;}#sk-afc0f9be-10aa-4550-8670-8b877fa95073 label.sk-toggleable__label {cursor: pointer;display: block;width: 100%;margin-bottom: 0;padding: 0.3em;box-sizing: border-box;text-align: center;}#sk-afc0f9be-10aa-4550-8670-8b877fa95073 div.sk-toggleable__content {max-height: 0;max-width: 0;overflow: hidden;text-align: left;background-color: #f0f8ff;}#sk-afc0f9be-10aa-4550-8670-8b877fa95073 div.sk-toggleable__content pre {margin: 0.2em;color: black;border-radius: 0.25em;background-color: #f0f8ff;}#sk-afc0f9be-10aa-4550-8670-8b877fa95073 input.sk-toggleable__control:checked~div.sk-toggleable__content {max-height: 200px;max-width: 100%;overflow: auto;}#sk-afc0f9be-10aa-4550-8670-8b877fa95073 div.sk-estimator input.sk-toggleable__control:checked~label.sk-toggleable__label {background-color: #d4ebff;}#sk-afc0f9be-10aa-4550-8670-8b877fa95073 div.sk-label input.sk-toggleable__control:checked~label.sk-toggleable__label {background-color: #d4ebff;}#sk-afc0f9be-10aa-4550-8670-8b877fa95073 input.sk-hidden--visually {border: 0;clip: rect(1px 1px 1px 1px);clip: rect(1px, 1px, 1px, 1px);height: 1px;margin: -1px;overflow: hidden;padding: 0;position: absolute;width: 1px;}#sk-afc0f9be-10aa-4550-8670-8b877fa95073 div.sk-estimator {font-family: monospace;background-color: #f0f8ff;border: 1px dotted black;border-radius: 0.25em;box-sizing: border-box;margin-bottom: 0.5em;}#sk-afc0f9be-10aa-4550-8670-8b877fa95073 div.sk-estimator:hover {background-color: #d4ebff;}#sk-afc0f9be-10aa-4550-8670-8b877fa95073 div.sk-parallel-item::after {content: \"\";width: 100%;border-bottom: 1px solid gray;flex-grow: 1;}#sk-afc0f9be-10aa-4550-8670-8b877fa95073 div.sk-label:hover label.sk-toggleable__label {background-color: #d4ebff;}#sk-afc0f9be-10aa-4550-8670-8b877fa95073 div.sk-serial::before {content: \"\";position: absolute;border-left: 1px solid gray;box-sizing: border-box;top: 2em;bottom: 0;left: 50%;}#sk-afc0f9be-10aa-4550-8670-8b877fa95073 div.sk-serial {display: flex;flex-direction: column;align-items: center;background-color: white;padding-right: 0.2em;padding-left: 0.2em;}#sk-afc0f9be-10aa-4550-8670-8b877fa95073 div.sk-item {z-index: 1;}#sk-afc0f9be-10aa-4550-8670-8b877fa95073 div.sk-parallel {display: flex;align-items: stretch;justify-content: center;background-color: white;}#sk-afc0f9be-10aa-4550-8670-8b877fa95073 div.sk-parallel::before {content: \"\";position: absolute;border-left: 1px solid gray;box-sizing: border-box;top: 2em;bottom: 0;left: 50%;}#sk-afc0f9be-10aa-4550-8670-8b877fa95073 div.sk-parallel-item {display: flex;flex-direction: column;position: relative;background-color: white;}#sk-afc0f9be-10aa-4550-8670-8b877fa95073 div.sk-parallel-item:first-child::after {align-self: flex-end;width: 50%;}#sk-afc0f9be-10aa-4550-8670-8b877fa95073 div.sk-parallel-item:last-child::after {align-self: flex-start;width: 50%;}#sk-afc0f9be-10aa-4550-8670-8b877fa95073 div.sk-parallel-item:only-child::after {width: 0;}#sk-afc0f9be-10aa-4550-8670-8b877fa95073 div.sk-dashed-wrapped {border: 1px dashed gray;margin: 0 0.4em 0.5em 0.4em;box-sizing: border-box;padding-bottom: 0.4em;background-color: white;position: relative;}#sk-afc0f9be-10aa-4550-8670-8b877fa95073 div.sk-label label {font-family: monospace;font-weight: bold;background-color: white;display: inline-block;line-height: 1.2em;}#sk-afc0f9be-10aa-4550-8670-8b877fa95073 div.sk-label-container {position: relative;z-index: 2;text-align: center;}#sk-afc0f9be-10aa-4550-8670-8b877fa95073 div.sk-container {display: inline-block;position: relative;}</style><div id=\"sk-afc0f9be-10aa-4550-8670-8b877fa95073\" class\"sk-top-container\"><div class=\"sk-container\"><div class=\"sk-item\"><div class=\"sk-estimator sk-toggleable\"><input class=\"sk-toggleable__control sk-hidden--visually\" id=\"155a1e1e-ce36-43bb-aadf-44caf743d7f8\" type=\"checkbox\" checked><label class=\"sk-toggleable__label\" for=\"155a1e1e-ce36-43bb-aadf-44caf743d7f8\">LogisticRegression</label><div class=\"sk-toggleable__content\"><pre>LogisticRegression(C=1.0, class_weight=None, dual=False, fit_intercept=True,\n",
       "                   intercept_scaling=1, l1_ratio=None, max_iter=100,\n",
       "                   multi_class='auto', n_jobs=None, penalty='l2',\n",
       "                   random_state=None, solver='lbfgs', tol=0.0001, verbose=0,\n",
       "                   warm_start=False)</pre></div></div></div></div></div>"
      ],
      "text/plain": [
       "LogisticRegression(C=1.0, class_weight=None, dual=False, fit_intercept=True,\n",
       "                   intercept_scaling=1, l1_ratio=None, max_iter=100,\n",
       "                   multi_class='auto', n_jobs=None, penalty='l2',\n",
       "                   random_state=None, solver='lbfgs', tol=0.0001, verbose=0,\n",
       "                   warm_start=False)"
      ]
     },
     "execution_count": 298,
     "metadata": {},
     "output_type": "execute_result"
    }
   ],
   "source": [
    "clf.fit(X_train, y_train)"
   ]
  },
  {
   "cell_type": "markdown",
   "id": "c21671d6",
   "metadata": {},
   "source": [
    "### Plot the confusion matrix\n",
    "\n",
    "It makes the predictions based on the trained model for X_test and then compares them to y_test"
   ]
  },
  {
   "cell_type": "markdown",
   "id": "ccb8604a",
   "metadata": {},
   "source": [
    "#### Using plot_confusion_matrix --> be removed in 1.2"
   ]
  },
  {
   "cell_type": "code",
   "execution_count": 299,
   "id": "14d8160d",
   "metadata": {
    "scrolled": true
   },
   "outputs": [
    {
     "name": "stderr",
     "output_type": "stream",
     "text": [
      "C:\\Users\\TienLE\\anaconda3\\envs\\py39\\lib\\site-packages\\sklearn\\utils\\deprecation.py:87: FutureWarning: Function plot_confusion_matrix is deprecated; Function `plot_confusion_matrix` is deprecated in 1.0 and will be removed in 1.2. Use one of the class methods: ConfusionMatrixDisplay.from_predictions or ConfusionMatrixDisplay.from_estimator.\n",
      "  warnings.warn(msg, category=FutureWarning)\n"
     ]
    },
    {
     "data": {
      "image/png": "[encoded data removed]",
      "text/plain": [
       "<Figure size 432x288 with 2 Axes>"
      ]
     },
     "metadata": {
      "needs_background": "light"
     },
     "output_type": "display_data"
    }
   ],
   "source": [
    "disp = plot_confusion_matrix(clf, X_test, y_test, cmap=\"viridis\", values_format=\"d\")  # Blues, default-sklearn=viridis\n",
    "# https://scikit-learn.org/stable/modules/generated/sklearn.metrics.ConfusionMatrixDisplay.html#sklearn.metrics.ConfusionMatrixDisplay.from_estimator"
   ]
  },
  {
   "cell_type": "code",
   "execution_count": 300,
   "id": "1096f622",
   "metadata": {},
   "outputs": [
    {
     "data": {
      "text/plain": [
       "array([[122,  17],\n",
       "       [ 48,  36]], dtype=int64)"
      ]
     },
     "execution_count": 300,
     "metadata": {},
     "output_type": "execute_result"
    }
   ],
   "source": [
    "disp.confusion_matrix"
   ]
  },
  {
   "cell_type": "markdown",
   "id": "582e90fe",
   "metadata": {},
   "source": [
    "#### Using ConfusionMatrixDisplay\n",
    "\n",
    "Ref: [ConfusionMatrixDisplay](https://scikit-learn.org/stable/modules/generated/sklearn.metrics.ConfusionMatrixDisplay.html)"
   ]
  },
  {
   "cell_type": "code",
   "execution_count": 301,
   "id": "5132b3e7",
   "metadata": {},
   "outputs": [
    {
     "data": {
      "text/plain": [
       "array([[122,  17],\n",
       "       [ 48,  36]], dtype=int64)"
      ]
     },
     "execution_count": 301,
     "metadata": {},
     "output_type": "execute_result"
    }
   ],
   "source": [
    "y_pred = clf.predict(X_test)\n",
    "cm = confusion_matrix(y_true=y_test, y_pred=y_pred, labels=clf.classes_)\n",
    "cm"
   ]
  },
  {
   "cell_type": "code",
   "execution_count": 302,
   "id": "dfad7a2a",
   "metadata": {},
   "outputs": [
    {
     "data": {
      "image/png": "[encoded data removed]",
      "text/plain": [
       "<Figure size 432x288 with 2 Axes>"
      ]
     },
     "metadata": {
      "needs_background": "light"
     },
     "output_type": "display_data"
    }
   ],
   "source": [
    "disp = ConfusionMatrixDisplay(confusion_matrix=cm, \n",
    "                              display_labels=clf.classes_)\n",
    "disp.plot()\n",
    "plt.show()"
   ]
  },
  {
   "cell_type": "markdown",
   "id": "a25a14e1",
   "metadata": {},
   "source": [
    "## Compare multiple ROC (Receiver Operating Characteristic) curves in a single plot\n",
    "\n",
    "New in scikit-learn 0.22: Easily [compare multiple ROC curves](https://scikit-learn.org/stable/modules/generated/sklearn.metrics.plot_roc_curve.html) in a single plot!\n",
    "\n",
    "Automatically displays the [AUC](https://www.dataschool.io/roc-curves-and-auc-explained/) for each model as well.\n",
    "\n",
    "Note: Beginning in scikit-learn 1.0, the plot_roc_curve function has been deprecated in favor of [two new methods](https://scikit-learn.org/stable/modules/generated/sklearn.metrics.RocCurveDisplay.html) in the RocCurveDisplay class."
   ]
  },
  {
   "cell_type": "code",
   "execution_count": 303,
   "id": "e1cd43a0",
   "metadata": {},
   "outputs": [],
   "source": [
    "file_input_path = \"titanic_train.csv\"\n",
    "if not os.path.exists(file_input_path):\n",
    "    df_train = pd.read_csv(\"http://bit.ly/kaggletrain\")\n",
    "    df_train.to_csv(file_input_path, header=True, index=False, sep=\"\\t\")\n",
    "else:\n",
    "    df_train = pd.read_csv(file_input_path, header=0, sep=\"\\t\")\n",
    "    \n",
    "features = [\"Pclass\", \"Fare\", \"SibSp\"]\n",
    "X, y = df_train[features], df_train[\"Survived\"]\n",
    "\n",
    "from sklearn.model_selection import train_test_split\n",
    "X_train, X_test, y_train, y_test = train_test_split(X, y, random_state=0)"
   ]
  },
  {
   "cell_type": "code",
   "execution_count": 304,
   "id": "4157e692",
   "metadata": {},
   "outputs": [
    {
     "data": {
      "text/html": [
       "<div>\n",
       "<style scoped>\n",
       "    .dataframe tbody tr th:only-of-type {\n",
       "        vertical-align: middle;\n",
       "    }\n",
       "\n",
       "    .dataframe tbody tr th {\n",
       "        vertical-align: top;\n",
       "    }\n",
       "\n",
       "    .dataframe thead th {\n",
       "        text-align: right;\n",
       "    }\n",
       "</style>\n",
       "<table border=\"1\" class=\"dataframe\">\n",
       "  <thead>\n",
       "    <tr style=\"text-align: right;\">\n",
       "      <th></th>\n",
       "      <th>Pclass</th>\n",
       "      <th>Fare</th>\n",
       "      <th>SibSp</th>\n",
       "    </tr>\n",
       "  </thead>\n",
       "  <tbody>\n",
       "    <tr>\n",
       "      <th>105</th>\n",
       "      <td>3</td>\n",
       "      <td>7.8958</td>\n",
       "      <td>0</td>\n",
       "    </tr>\n",
       "    <tr>\n",
       "      <th>68</th>\n",
       "      <td>3</td>\n",
       "      <td>7.9250</td>\n",
       "      <td>4</td>\n",
       "    </tr>\n",
       "  </tbody>\n",
       "</table>\n",
       "</div>"
      ],
      "text/plain": [
       "     Pclass    Fare  SibSp\n",
       "105       3  7.8958      0\n",
       "68        3  7.9250      4"
      ]
     },
     "execution_count": 304,
     "metadata": {},
     "output_type": "execute_result"
    }
   ],
   "source": [
    "X_train.head(2)"
   ]
  },
  {
   "cell_type": "code",
   "execution_count": 305,
   "id": "b325f6ce",
   "metadata": {},
   "outputs": [
    {
     "data": {
      "text/plain": [
       "105    0\n",
       "68     1\n",
       "Name: Survived, dtype: int64"
      ]
     },
     "execution_count": 305,
     "metadata": {},
     "output_type": "execute_result"
    }
   ],
   "source": [
    "y_train.head(2)"
   ]
  },
  {
   "cell_type": "code",
   "execution_count": 306,
   "id": "a98b1a7c",
   "metadata": {},
   "outputs": [],
   "source": [
    "from sklearn.linear_model import LogisticRegression\n",
    "from sklearn.tree import DecisionTreeClassifier\n",
    "from sklearn.ensemble import RandomForestClassifier"
   ]
  },
  {
   "cell_type": "code",
   "execution_count": 307,
   "id": "0135efa1",
   "metadata": {},
   "outputs": [],
   "source": [
    "lr = LogisticRegression()\n",
    "dt = DecisionTreeClassifier()\n",
    "rf = RandomForestClassifier()"
   ]
  },
  {
   "cell_type": "code",
   "execution_count": 308,
   "id": "57a41823",
   "metadata": {},
   "outputs": [
    {
     "data": {
      "text/html": [
       "<style>#sk-1361289e-19f4-4fbf-b8d6-b2c84d151336 {color: black;background-color: white;}#sk-1361289e-19f4-4fbf-b8d6-b2c84d151336 pre{padding: 0;}#sk-1361289e-19f4-4fbf-b8d6-b2c84d151336 div.sk-toggleable {background-color: white;}#sk-1361289e-19f4-4fbf-b8d6-b2c84d151336 label.sk-toggleable__label {cursor: pointer;display: block;width: 100%;margin-bottom: 0;padding: 0.3em;box-sizing: border-box;text-align: center;}#sk-1361289e-19f4-4fbf-b8d6-b2c84d151336 div.sk-toggleable__content {max-height: 0;max-width: 0;overflow: hidden;text-align: left;background-color: #f0f8ff;}#sk-1361289e-19f4-4fbf-b8d6-b2c84d151336 div.sk-toggleable__content pre {margin: 0.2em;color: black;border-radius: 0.25em;background-color: #f0f8ff;}#sk-1361289e-19f4-4fbf-b8d6-b2c84d151336 input.sk-toggleable__control:checked~div.sk-toggleable__content {max-height: 200px;max-width: 100%;overflow: auto;}#sk-1361289e-19f4-4fbf-b8d6-b2c84d151336 div.sk-estimator input.sk-toggleable__control:checked~label.sk-toggleable__label {background-color: #d4ebff;}#sk-1361289e-19f4-4fbf-b8d6-b2c84d151336 div.sk-label input.sk-toggleable__control:checked~label.sk-toggleable__label {background-color: #d4ebff;}#sk-1361289e-19f4-4fbf-b8d6-b2c84d151336 input.sk-hidden--visually {border: 0;clip: rect(1px 1px 1px 1px);clip: rect(1px, 1px, 1px, 1px);height: 1px;margin: -1px;overflow: hidden;padding: 0;position: absolute;width: 1px;}#sk-1361289e-19f4-4fbf-b8d6-b2c84d151336 div.sk-estimator {font-family: monospace;background-color: #f0f8ff;border: 1px dotted black;border-radius: 0.25em;box-sizing: border-box;margin-bottom: 0.5em;}#sk-1361289e-19f4-4fbf-b8d6-b2c84d151336 div.sk-estimator:hover {background-color: #d4ebff;}#sk-1361289e-19f4-4fbf-b8d6-b2c84d151336 div.sk-parallel-item::after {content: \"\";width: 100%;border-bottom: 1px solid gray;flex-grow: 1;}#sk-1361289e-19f4-4fbf-b8d6-b2c84d151336 div.sk-label:hover label.sk-toggleable__label {background-color: #d4ebff;}#sk-1361289e-19f4-4fbf-b8d6-b2c84d151336 div.sk-serial::before {content: \"\";position: absolute;border-left: 1px solid gray;box-sizing: border-box;top: 2em;bottom: 0;left: 50%;}#sk-1361289e-19f4-4fbf-b8d6-b2c84d151336 div.sk-serial {display: flex;flex-direction: column;align-items: center;background-color: white;padding-right: 0.2em;padding-left: 0.2em;}#sk-1361289e-19f4-4fbf-b8d6-b2c84d151336 div.sk-item {z-index: 1;}#sk-1361289e-19f4-4fbf-b8d6-b2c84d151336 div.sk-parallel {display: flex;align-items: stretch;justify-content: center;background-color: white;}#sk-1361289e-19f4-4fbf-b8d6-b2c84d151336 div.sk-parallel::before {content: \"\";position: absolute;border-left: 1px solid gray;box-sizing: border-box;top: 2em;bottom: 0;left: 50%;}#sk-1361289e-19f4-4fbf-b8d6-b2c84d151336 div.sk-parallel-item {display: flex;flex-direction: column;position: relative;background-color: white;}#sk-1361289e-19f4-4fbf-b8d6-b2c84d151336 div.sk-parallel-item:first-child::after {align-self: flex-end;width: 50%;}#sk-1361289e-19f4-4fbf-b8d6-b2c84d151336 div.sk-parallel-item:last-child::after {align-self: flex-start;width: 50%;}#sk-1361289e-19f4-4fbf-b8d6-b2c84d151336 div.sk-parallel-item:only-child::after {width: 0;}#sk-1361289e-19f4-4fbf-b8d6-b2c84d151336 div.sk-dashed-wrapped {border: 1px dashed gray;margin: 0 0.4em 0.5em 0.4em;box-sizing: border-box;padding-bottom: 0.4em;background-color: white;position: relative;}#sk-1361289e-19f4-4fbf-b8d6-b2c84d151336 div.sk-label label {font-family: monospace;font-weight: bold;background-color: white;display: inline-block;line-height: 1.2em;}#sk-1361289e-19f4-4fbf-b8d6-b2c84d151336 div.sk-label-container {position: relative;z-index: 2;text-align: center;}#sk-1361289e-19f4-4fbf-b8d6-b2c84d151336 div.sk-container {display: inline-block;position: relative;}</style><div id=\"sk-1361289e-19f4-4fbf-b8d6-b2c84d151336\" class\"sk-top-container\"><div class=\"sk-container\"><div class=\"sk-item\"><div class=\"sk-estimator sk-toggleable\"><input class=\"sk-toggleable__control sk-hidden--visually\" id=\"2960e5e5-7bfa-425c-af5b-3e1a9f3154ac\" type=\"checkbox\" checked><label class=\"sk-toggleable__label\" for=\"2960e5e5-7bfa-425c-af5b-3e1a9f3154ac\">LogisticRegression</label><div class=\"sk-toggleable__content\"><pre>LogisticRegression(C=1.0, class_weight=None, dual=False, fit_intercept=True,\n",
       "                   intercept_scaling=1, l1_ratio=None, max_iter=100,\n",
       "                   multi_class='auto', n_jobs=None, penalty='l2',\n",
       "                   random_state=None, solver='lbfgs', tol=0.0001, verbose=0,\n",
       "                   warm_start=False)</pre></div></div></div></div></div>"
      ],
      "text/plain": [
       "LogisticRegression(C=1.0, class_weight=None, dual=False, fit_intercept=True,\n",
       "                   intercept_scaling=1, l1_ratio=None, max_iter=100,\n",
       "                   multi_class='auto', n_jobs=None, penalty='l2',\n",
       "                   random_state=None, solver='lbfgs', tol=0.0001, verbose=0,\n",
       "                   warm_start=False)"
      ]
     },
     "execution_count": 308,
     "metadata": {},
     "output_type": "execute_result"
    }
   ],
   "source": [
    "lr.fit(X_train, y_train)"
   ]
  },
  {
   "cell_type": "code",
   "execution_count": 309,
   "id": "2490b5e0",
   "metadata": {},
   "outputs": [
    {
     "data": {
      "text/html": [
       "<style>#sk-762f05d8-452c-4246-9aa7-9c713d4e463d {color: black;background-color: white;}#sk-762f05d8-452c-4246-9aa7-9c713d4e463d pre{padding: 0;}#sk-762f05d8-452c-4246-9aa7-9c713d4e463d div.sk-toggleable {background-color: white;}#sk-762f05d8-452c-4246-9aa7-9c713d4e463d label.sk-toggleable__label {cursor: pointer;display: block;width: 100%;margin-bottom: 0;padding: 0.3em;box-sizing: border-box;text-align: center;}#sk-762f05d8-452c-4246-9aa7-9c713d4e463d div.sk-toggleable__content {max-height: 0;max-width: 0;overflow: hidden;text-align: left;background-color: #f0f8ff;}#sk-762f05d8-452c-4246-9aa7-9c713d4e463d div.sk-toggleable__content pre {margin: 0.2em;color: black;border-radius: 0.25em;background-color: #f0f8ff;}#sk-762f05d8-452c-4246-9aa7-9c713d4e463d input.sk-toggleable__control:checked~div.sk-toggleable__content {max-height: 200px;max-width: 100%;overflow: auto;}#sk-762f05d8-452c-4246-9aa7-9c713d4e463d div.sk-estimator input.sk-toggleable__control:checked~label.sk-toggleable__label {background-color: #d4ebff;}#sk-762f05d8-452c-4246-9aa7-9c713d4e463d div.sk-label input.sk-toggleable__control:checked~label.sk-toggleable__label {background-color: #d4ebff;}#sk-762f05d8-452c-4246-9aa7-9c713d4e463d input.sk-hidden--visually {border: 0;clip: rect(1px 1px 1px 1px);clip: rect(1px, 1px, 1px, 1px);height: 1px;margin: -1px;overflow: hidden;padding: 0;position: absolute;width: 1px;}#sk-762f05d8-452c-4246-9aa7-9c713d4e463d div.sk-estimator {font-family: monospace;background-color: #f0f8ff;border: 1px dotted black;border-radius: 0.25em;box-sizing: border-box;margin-bottom: 0.5em;}#sk-762f05d8-452c-4246-9aa7-9c713d4e463d div.sk-estimator:hover {background-color: #d4ebff;}#sk-762f05d8-452c-4246-9aa7-9c713d4e463d div.sk-parallel-item::after {content: \"\";width: 100%;border-bottom: 1px solid gray;flex-grow: 1;}#sk-762f05d8-452c-4246-9aa7-9c713d4e463d div.sk-label:hover label.sk-toggleable__label {background-color: #d4ebff;}#sk-762f05d8-452c-4246-9aa7-9c713d4e463d div.sk-serial::before {content: \"\";position: absolute;border-left: 1px solid gray;box-sizing: border-box;top: 2em;bottom: 0;left: 50%;}#sk-762f05d8-452c-4246-9aa7-9c713d4e463d div.sk-serial {display: flex;flex-direction: column;align-items: center;background-color: white;padding-right: 0.2em;padding-left: 0.2em;}#sk-762f05d8-452c-4246-9aa7-9c713d4e463d div.sk-item {z-index: 1;}#sk-762f05d8-452c-4246-9aa7-9c713d4e463d div.sk-parallel {display: flex;align-items: stretch;justify-content: center;background-color: white;}#sk-762f05d8-452c-4246-9aa7-9c713d4e463d div.sk-parallel::before {content: \"\";position: absolute;border-left: 1px solid gray;box-sizing: border-box;top: 2em;bottom: 0;left: 50%;}#sk-762f05d8-452c-4246-9aa7-9c713d4e463d div.sk-parallel-item {display: flex;flex-direction: column;position: relative;background-color: white;}#sk-762f05d8-452c-4246-9aa7-9c713d4e463d div.sk-parallel-item:first-child::after {align-self: flex-end;width: 50%;}#sk-762f05d8-452c-4246-9aa7-9c713d4e463d div.sk-parallel-item:last-child::after {align-self: flex-start;width: 50%;}#sk-762f05d8-452c-4246-9aa7-9c713d4e463d div.sk-parallel-item:only-child::after {width: 0;}#sk-762f05d8-452c-4246-9aa7-9c713d4e463d div.sk-dashed-wrapped {border: 1px dashed gray;margin: 0 0.4em 0.5em 0.4em;box-sizing: border-box;padding-bottom: 0.4em;background-color: white;position: relative;}#sk-762f05d8-452c-4246-9aa7-9c713d4e463d div.sk-label label {font-family: monospace;font-weight: bold;background-color: white;display: inline-block;line-height: 1.2em;}#sk-762f05d8-452c-4246-9aa7-9c713d4e463d div.sk-label-container {position: relative;z-index: 2;text-align: center;}#sk-762f05d8-452c-4246-9aa7-9c713d4e463d div.sk-container {display: inline-block;position: relative;}</style><div id=\"sk-762f05d8-452c-4246-9aa7-9c713d4e463d\" class\"sk-top-container\"><div class=\"sk-container\"><div class=\"sk-item\"><div class=\"sk-estimator sk-toggleable\"><input class=\"sk-toggleable__control sk-hidden--visually\" id=\"8e72933f-b98f-41cc-b263-845ee1500a7c\" type=\"checkbox\" checked><label class=\"sk-toggleable__label\" for=\"8e72933f-b98f-41cc-b263-845ee1500a7c\">DecisionTreeClassifier</label><div class=\"sk-toggleable__content\"><pre>DecisionTreeClassifier(ccp_alpha=0.0, class_weight=None, criterion='gini',\n",
       "                       max_depth=None, max_features=None, max_leaf_nodes=None,\n",
       "                       min_impurity_decrease=0.0, min_samples_leaf=1,\n",
       "                       min_samples_split=2, min_weight_fraction_leaf=0.0,\n",
       "                       random_state=None, splitter='best')</pre></div></div></div></div></div>"
      ],
      "text/plain": [
       "DecisionTreeClassifier(ccp_alpha=0.0, class_weight=None, criterion='gini',\n",
       "                       max_depth=None, max_features=None, max_leaf_nodes=None,\n",
       "                       min_impurity_decrease=0.0, min_samples_leaf=1,\n",
       "                       min_samples_split=2, min_weight_fraction_leaf=0.0,\n",
       "                       random_state=None, splitter='best')"
      ]
     },
     "execution_count": 309,
     "metadata": {},
     "output_type": "execute_result"
    }
   ],
   "source": [
    "dt.fit(X_train, y_train)"
   ]
  },
  {
   "cell_type": "code",
   "execution_count": 310,
   "id": "230e8b0a",
   "metadata": {},
   "outputs": [
    {
     "data": {
      "text/html": [
       "<style>#sk-6cfdaf1f-a266-4fe1-86da-65184bcf88d6 {color: black;background-color: white;}#sk-6cfdaf1f-a266-4fe1-86da-65184bcf88d6 pre{padding: 0;}#sk-6cfdaf1f-a266-4fe1-86da-65184bcf88d6 div.sk-toggleable {background-color: white;}#sk-6cfdaf1f-a266-4fe1-86da-65184bcf88d6 label.sk-toggleable__label {cursor: pointer;display: block;width: 100%;margin-bottom: 0;padding: 0.3em;box-sizing: border-box;text-align: center;}#sk-6cfdaf1f-a266-4fe1-86da-65184bcf88d6 div.sk-toggleable__content {max-height: 0;max-width: 0;overflow: hidden;text-align: left;background-color: #f0f8ff;}#sk-6cfdaf1f-a266-4fe1-86da-65184bcf88d6 div.sk-toggleable__content pre {margin: 0.2em;color: black;border-radius: 0.25em;background-color: #f0f8ff;}#sk-6cfdaf1f-a266-4fe1-86da-65184bcf88d6 input.sk-toggleable__control:checked~div.sk-toggleable__content {max-height: 200px;max-width: 100%;overflow: auto;}#sk-6cfdaf1f-a266-4fe1-86da-65184bcf88d6 div.sk-estimator input.sk-toggleable__control:checked~label.sk-toggleable__label {background-color: #d4ebff;}#sk-6cfdaf1f-a266-4fe1-86da-65184bcf88d6 div.sk-label input.sk-toggleable__control:checked~label.sk-toggleable__label {background-color: #d4ebff;}#sk-6cfdaf1f-a266-4fe1-86da-65184bcf88d6 input.sk-hidden--visually {border: 0;clip: rect(1px 1px 1px 1px);clip: rect(1px, 1px, 1px, 1px);height: 1px;margin: -1px;overflow: hidden;padding: 0;position: absolute;width: 1px;}#sk-6cfdaf1f-a266-4fe1-86da-65184bcf88d6 div.sk-estimator {font-family: monospace;background-color: #f0f8ff;border: 1px dotted black;border-radius: 0.25em;box-sizing: border-box;margin-bottom: 0.5em;}#sk-6cfdaf1f-a266-4fe1-86da-65184bcf88d6 div.sk-estimator:hover {background-color: #d4ebff;}#sk-6cfdaf1f-a266-4fe1-86da-65184bcf88d6 div.sk-parallel-item::after {content: \"\";width: 100%;border-bottom: 1px solid gray;flex-grow: 1;}#sk-6cfdaf1f-a266-4fe1-86da-65184bcf88d6 div.sk-label:hover label.sk-toggleable__label {background-color: #d4ebff;}#sk-6cfdaf1f-a266-4fe1-86da-65184bcf88d6 div.sk-serial::before {content: \"\";position: absolute;border-left: 1px solid gray;box-sizing: border-box;top: 2em;bottom: 0;left: 50%;}#sk-6cfdaf1f-a266-4fe1-86da-65184bcf88d6 div.sk-serial {display: flex;flex-direction: column;align-items: center;background-color: white;padding-right: 0.2em;padding-left: 0.2em;}#sk-6cfdaf1f-a266-4fe1-86da-65184bcf88d6 div.sk-item {z-index: 1;}#sk-6cfdaf1f-a266-4fe1-86da-65184bcf88d6 div.sk-parallel {display: flex;align-items: stretch;justify-content: center;background-color: white;}#sk-6cfdaf1f-a266-4fe1-86da-65184bcf88d6 div.sk-parallel::before {content: \"\";position: absolute;border-left: 1px solid gray;box-sizing: border-box;top: 2em;bottom: 0;left: 50%;}#sk-6cfdaf1f-a266-4fe1-86da-65184bcf88d6 div.sk-parallel-item {display: flex;flex-direction: column;position: relative;background-color: white;}#sk-6cfdaf1f-a266-4fe1-86da-65184bcf88d6 div.sk-parallel-item:first-child::after {align-self: flex-end;width: 50%;}#sk-6cfdaf1f-a266-4fe1-86da-65184bcf88d6 div.sk-parallel-item:last-child::after {align-self: flex-start;width: 50%;}#sk-6cfdaf1f-a266-4fe1-86da-65184bcf88d6 div.sk-parallel-item:only-child::after {width: 0;}#sk-6cfdaf1f-a266-4fe1-86da-65184bcf88d6 div.sk-dashed-wrapped {border: 1px dashed gray;margin: 0 0.4em 0.5em 0.4em;box-sizing: border-box;padding-bottom: 0.4em;background-color: white;position: relative;}#sk-6cfdaf1f-a266-4fe1-86da-65184bcf88d6 div.sk-label label {font-family: monospace;font-weight: bold;background-color: white;display: inline-block;line-height: 1.2em;}#sk-6cfdaf1f-a266-4fe1-86da-65184bcf88d6 div.sk-label-container {position: relative;z-index: 2;text-align: center;}#sk-6cfdaf1f-a266-4fe1-86da-65184bcf88d6 div.sk-container {display: inline-block;position: relative;}</style><div id=\"sk-6cfdaf1f-a266-4fe1-86da-65184bcf88d6\" class\"sk-top-container\"><div class=\"sk-container\"><div class=\"sk-item\"><div class=\"sk-estimator sk-toggleable\"><input class=\"sk-toggleable__control sk-hidden--visually\" id=\"5088aec8-e2a9-4f46-8a66-93776984bbef\" type=\"checkbox\" checked><label class=\"sk-toggleable__label\" for=\"5088aec8-e2a9-4f46-8a66-93776984bbef\">RandomForestClassifier</label><div class=\"sk-toggleable__content\"><pre>RandomForestClassifier(bootstrap=True, ccp_alpha=0.0, class_weight=None,\n",
       "                       criterion='gini', max_depth=None, max_features='auto',\n",
       "                       max_leaf_nodes=None, max_samples=None,\n",
       "                       min_impurity_decrease=0.0, min_samples_leaf=1,\n",
       "                       min_samples_split=2, min_weight_fraction_leaf=0.0,\n",
       "                       n_estimators=100, n_jobs=None, oob_score=False,\n",
       "                       random_state=None, verbose=0, warm_start=False)</pre></div></div></div></div></div>"
      ],
      "text/plain": [
       "RandomForestClassifier(bootstrap=True, ccp_alpha=0.0, class_weight=None,\n",
       "                       criterion='gini', max_depth=None, max_features='auto',\n",
       "                       max_leaf_nodes=None, max_samples=None,\n",
       "                       min_impurity_decrease=0.0, min_samples_leaf=1,\n",
       "                       min_samples_split=2, min_weight_fraction_leaf=0.0,\n",
       "                       n_estimators=100, n_jobs=None, oob_score=False,\n",
       "                       random_state=None, verbose=0, warm_start=False)"
      ]
     },
     "execution_count": 310,
     "metadata": {},
     "output_type": "execute_result"
    }
   ],
   "source": [
    "rf.fit(X_train, y_train)"
   ]
  },
  {
   "cell_type": "markdown",
   "id": "b238b9d8",
   "metadata": {},
   "source": [
    "### Using plot_roc_curve --> be removed in 1.2"
   ]
  },
  {
   "cell_type": "code",
   "execution_count": 311,
   "id": "67e8b78e",
   "metadata": {},
   "outputs": [
    {
     "name": "stderr",
     "output_type": "stream",
     "text": [
      "C:\\Users\\TienLE\\anaconda3\\envs\\py39\\lib\\site-packages\\sklearn\\utils\\deprecation.py:87: FutureWarning: Function plot_roc_curve is deprecated; Function `plot_roc_curve` is deprecated in 1.0 and will be removed in 1.2. Use one of the class methods: RocCurveDisplay.from_predictions or RocCurveDisplay.from_estimator.\n",
      "  warnings.warn(msg, category=FutureWarning)\n",
      "C:\\Users\\TienLE\\anaconda3\\envs\\py39\\lib\\site-packages\\sklearn\\utils\\deprecation.py:87: FutureWarning: Function plot_roc_curve is deprecated; Function `plot_roc_curve` is deprecated in 1.0 and will be removed in 1.2. Use one of the class methods: RocCurveDisplay.from_predictions or RocCurveDisplay.from_estimator.\n",
      "  warnings.warn(msg, category=FutureWarning)\n",
      "C:\\Users\\TienLE\\anaconda3\\envs\\py39\\lib\\site-packages\\sklearn\\utils\\deprecation.py:87: FutureWarning: Function plot_roc_curve is deprecated; Function `plot_roc_curve` is deprecated in 1.0 and will be removed in 1.2. Use one of the class methods: RocCurveDisplay.from_predictions or RocCurveDisplay.from_estimator.\n",
      "  warnings.warn(msg, category=FutureWarning)\n"
     ]
    },
    {
     "data": {
      "image/png": "[encoded data removed]",
      "text/plain": [
       "<Figure size 432x288 with 1 Axes>"
      ]
     },
     "metadata": {
      "needs_background": "light"
     },
     "output_type": "display_data"
    }
   ],
   "source": [
    "from sklearn.metrics import plot_roc_curve\n",
    "disp = plot_roc_curve(lr, X_test, y_test)\n",
    "plot_roc_curve(dt, X_test, y_test, ax=disp.ax_);\n",
    "plot_roc_curve(rf, X_test, y_test, ax=disp.ax_);\n",
    "plt.show()"
   ]
  },
  {
   "cell_type": "markdown",
   "id": "c201c294",
   "metadata": {},
   "source": [
    "### Using RocCurveDisplay\n",
    "\n",
    "Ref:\n",
    "+ [RocCurveDisplay](https://scikit-learn.org/stable/modules/generated/sklearn.metrics.RocCurveDisplay.html)\n",
    "+ [roc_curve](https://scikit-learn.org/stable/modules/generated/sklearn.metrics.roc_curve.html#sklearn.metrics.roc_curve)"
   ]
  },
  {
   "cell_type": "code",
   "execution_count": 312,
   "id": "4fd2d045",
   "metadata": {},
   "outputs": [],
   "source": [
    "from sklearn.metrics import RocCurveDisplay, roc_curve, auc"
   ]
  },
  {
   "cell_type": "code",
   "execution_count": 313,
   "id": "88f19d95",
   "metadata": {},
   "outputs": [],
   "source": [
    "y_pred_lr = lr.predict(X_test)\n",
    "y_pred_dt = dt.predict(X_test)\n",
    "y_pred_rf = rf.predict(X_test)"
   ]
  },
  {
   "cell_type": "code",
   "execution_count": 314,
   "id": "e4e9f2bd",
   "metadata": {},
   "outputs": [
    {
     "data": {
      "text/plain": [
       "array([0, 0, 0, 1, 0, 1, 1, 1, 1, 0], dtype=int64)"
      ]
     },
     "execution_count": 314,
     "metadata": {},
     "output_type": "execute_result"
    }
   ],
   "source": [
    "y_pred_lr[:10]"
   ]
  },
  {
   "cell_type": "code",
   "execution_count": 315,
   "id": "c699627c",
   "metadata": {},
   "outputs": [
    {
     "data": {
      "text/plain": [
       "array([0, 0, 0, 1, 1, 1, 0, 1, 1, 0], dtype=int64)"
      ]
     },
     "execution_count": 315,
     "metadata": {},
     "output_type": "execute_result"
    }
   ],
   "source": [
    "y_pred_dt[:10]"
   ]
  },
  {
   "cell_type": "code",
   "execution_count": 316,
   "id": "6e2e5176",
   "metadata": {},
   "outputs": [
    {
     "data": {
      "text/plain": [
       "array([0, 0, 0, 0, 0, 1, 1, 1, 1, 0], dtype=int64)"
      ]
     },
     "execution_count": 316,
     "metadata": {},
     "output_type": "execute_result"
    }
   ],
   "source": [
    "y_pred_rf[:10]"
   ]
  },
  {
   "cell_type": "code",
   "execution_count": 317,
   "id": "30135614",
   "metadata": {},
   "outputs": [
    {
     "data": {
      "image/png": "[encoded data removed]",
      "text/plain": [
       "<Figure size 432x288 with 1 Axes>"
      ]
     },
     "metadata": {
      "needs_background": "light"
     },
     "output_type": "display_data"
    }
   ],
   "source": [
    "# LogisticRegression\n",
    "fpr_lr, tpr_lr, thresholds_lr = roc_curve(y_true=y_test,y_score=y_pred_lr, pos_label=1)\n",
    "# pos_labelint or str, default=None\n",
    "#   The label of the positive class. When pos_label=None, if y_true is in {-1, 1} or {0, 1}, pos_label is set to 1, otherwise an error will be raised.\n",
    "\n",
    "disp = RocCurveDisplay(fpr=fpr_lr, tpr=tpr_lr, roc_auc=auc(fpr_lr, tpr_lr), estimator_name=\"LogisticRegression\")\n",
    "\n",
    "disp.plot()\n",
    "plt.show()"
   ]
  },
  {
   "cell_type": "code",
   "execution_count": 318,
   "id": "b6ea0cff",
   "metadata": {},
   "outputs": [
    {
     "data": {
      "text/plain": [
       "<Figure size 432x288 with 0 Axes>"
      ]
     },
     "metadata": {},
     "output_type": "display_data"
    },
    {
     "data": {
      "image/png": "[encoded data removed]",
      "text/plain": [
       "<Figure size 432x288 with 1 Axes>"
      ]
     },
     "metadata": {
      "needs_background": "light"
     },
     "output_type": "display_data"
    }
   ],
   "source": [
    "# Plot all ROC curves\n",
    "plt.figure()\n",
    "\n",
    "disp = RocCurveDisplay.from_predictions(y_true=y_test, y_pred=y_pred_lr, name=\"LogisticRegression\");\n",
    "RocCurveDisplay.from_predictions(y_true=y_test, y_pred=y_pred_dt, name=\"DecisionTreeClassifier\", ax=disp.ax_)\n",
    "RocCurveDisplay.from_predictions(y_true=y_test, y_pred=y_pred_rf, name=\"RandomForestClassifier\", ax=disp.ax_)\n",
    "plt.show()"
   ]
  },
  {
   "cell_type": "markdown",
   "id": "229e248c",
   "metadata": {},
   "source": [
    "## Using stratified sampling with train_test_split\n",
    "\n",
    "Be sure to set \"stratify=y\" so that class proportions are preserved when splitting.\n",
    "\n",
    "Especially important if you have class imbalance!\n",
    "\n",
    "Ref: [train_test_split](https://scikit-learn.org/stable/modules/generated/sklearn.model_selection.train_test_split.html)"
   ]
  },
  {
   "cell_type": "code",
   "execution_count": 319,
   "id": "5b5a5b09",
   "metadata": {},
   "outputs": [],
   "source": [
    "df = pd.DataFrame({'feature':list(range(8)), 'target':['not fraud']*6 + ['fraud']*2})"
   ]
  },
  {
   "cell_type": "code",
   "execution_count": 320,
   "id": "05691094",
   "metadata": {},
   "outputs": [
    {
     "data": {
      "text/html": [
       "<div>\n",
       "<style scoped>\n",
       "    .dataframe tbody tr th:only-of-type {\n",
       "        vertical-align: middle;\n",
       "    }\n",
       "\n",
       "    .dataframe tbody tr th {\n",
       "        vertical-align: top;\n",
       "    }\n",
       "\n",
       "    .dataframe thead th {\n",
       "        text-align: right;\n",
       "    }\n",
       "</style>\n",
       "<table border=\"1\" class=\"dataframe\">\n",
       "  <thead>\n",
       "    <tr style=\"text-align: right;\">\n",
       "      <th></th>\n",
       "      <th>feature</th>\n",
       "      <th>target</th>\n",
       "    </tr>\n",
       "  </thead>\n",
       "  <tbody>\n",
       "    <tr>\n",
       "      <th>0</th>\n",
       "      <td>0</td>\n",
       "      <td>not fraud</td>\n",
       "    </tr>\n",
       "    <tr>\n",
       "      <th>1</th>\n",
       "      <td>1</td>\n",
       "      <td>not fraud</td>\n",
       "    </tr>\n",
       "    <tr>\n",
       "      <th>2</th>\n",
       "      <td>2</td>\n",
       "      <td>not fraud</td>\n",
       "    </tr>\n",
       "  </tbody>\n",
       "</table>\n",
       "</div>"
      ],
      "text/plain": [
       "   feature     target\n",
       "0        0  not fraud\n",
       "1        1  not fraud\n",
       "2        2  not fraud"
      ]
     },
     "execution_count": 320,
     "metadata": {},
     "output_type": "execute_result"
    }
   ],
   "source": [
    "df.head(3)"
   ]
  },
  {
   "cell_type": "code",
   "execution_count": 321,
   "id": "36f3bf4e",
   "metadata": {},
   "outputs": [
    {
     "data": {
      "text/plain": [
       "not fraud    6\n",
       "fraud        2\n",
       "Name: target, dtype: int64"
      ]
     },
     "execution_count": 321,
     "metadata": {},
     "output_type": "execute_result"
    }
   ],
   "source": [
    "df[\"target\"].value_counts()"
   ]
  },
  {
   "cell_type": "code",
   "execution_count": 322,
   "id": "eecec41a",
   "metadata": {},
   "outputs": [],
   "source": [
    "X = df[['feature']]\n",
    "y = df['target']"
   ]
  },
  {
   "cell_type": "code",
   "execution_count": 323,
   "id": "ec5bc900",
   "metadata": {},
   "outputs": [],
   "source": [
    "from sklearn.model_selection import train_test_split"
   ]
  },
  {
   "cell_type": "markdown",
   "id": "9c58f29e",
   "metadata": {},
   "source": [
    "### Not stratified\n",
    "\n",
    "`y_train` contains **NONE** of the minority class, whereas `y_test` contains **ALL** of the minority class."
   ]
  },
  {
   "cell_type": "code",
   "execution_count": 324,
   "id": "07d8c382",
   "metadata": {},
   "outputs": [],
   "source": [
    "X_train, X_test, y_train, y_test = train_test_split(X, y, test_size=0.5, random_state=0)"
   ]
  },
  {
   "cell_type": "code",
   "execution_count": 325,
   "id": "9bb7879b",
   "metadata": {},
   "outputs": [
    {
     "data": {
      "text/plain": [
       "3    not fraud\n",
       "0    not fraud\n",
       "5    not fraud\n",
       "4    not fraud\n",
       "Name: target, dtype: object"
      ]
     },
     "execution_count": 325,
     "metadata": {},
     "output_type": "execute_result"
    }
   ],
   "source": [
    "y_train"
   ]
  },
  {
   "cell_type": "code",
   "execution_count": 326,
   "id": "8e552cae",
   "metadata": {},
   "outputs": [
    {
     "data": {
      "text/plain": [
       "6        fraud\n",
       "2    not fraud\n",
       "1    not fraud\n",
       "7        fraud\n",
       "Name: target, dtype: object"
      ]
     },
     "execution_count": 326,
     "metadata": {},
     "output_type": "execute_result"
    }
   ],
   "source": [
    "y_test"
   ]
  },
  {
   "cell_type": "markdown",
   "id": "beb7dd4e",
   "metadata": {},
   "source": [
    "### Stratified\n",
    "\n",
    "Class proportions are the **SAME** in `y_train` and `y_test`."
   ]
  },
  {
   "cell_type": "code",
   "execution_count": 327,
   "id": "bfc42ff4",
   "metadata": {},
   "outputs": [],
   "source": [
    "X_train, X_test, y_train, y_test = train_test_split(X, y, test_size=0.5, random_state=0, stratify=y)"
   ]
  },
  {
   "cell_type": "code",
   "execution_count": 328,
   "id": "798d2a7f",
   "metadata": {},
   "outputs": [
    {
     "data": {
      "text/plain": [
       "1    not fraud\n",
       "7        fraud\n",
       "2    not fraud\n",
       "4    not fraud\n",
       "Name: target, dtype: object"
      ]
     },
     "execution_count": 328,
     "metadata": {},
     "output_type": "execute_result"
    }
   ],
   "source": [
    "y_train"
   ]
  },
  {
   "cell_type": "code",
   "execution_count": 329,
   "id": "04219d6f",
   "metadata": {},
   "outputs": [
    {
     "data": {
      "text/plain": [
       "3    not fraud\n",
       "6        fraud\n",
       "0    not fraud\n",
       "5    not fraud\n",
       "Name: target, dtype: object"
      ]
     },
     "execution_count": 329,
     "metadata": {},
     "output_type": "execute_result"
    }
   ],
   "source": [
    "y_test"
   ]
  },
  {
   "cell_type": "markdown",
   "id": "d0f62826",
   "metadata": {},
   "source": [
    "## Shuffle our dataset when applying cross_val_score\n",
    "\n",
    "If you use [cross-validation](https://scikit-learn.org/stable/modules/cross_validation.html) and your samples are NOT in an arbitrary order, [shuffling](https://scikit-learn.org/stable/modules/cross_validation.html#a-note-on-shuffling) may be required to get meaningful results.\n",
    "\n",
    "Use [KFold](https://scikit-learn.org/stable/modules/cross_validation.html#k-fold) or [StratifiedKFold](https://scikit-learn.org/stable/modules/cross_validation.html#stratified-k-fold) in order to shuffle!"
   ]
  },
  {
   "cell_type": "markdown",
   "id": "e4dcb5a3",
   "metadata": {},
   "source": [
    "### Using StratifiedKFold for classification problems"
   ]
  },
  {
   "cell_type": "code",
   "execution_count": 330,
   "id": "dda1b395",
   "metadata": {},
   "outputs": [],
   "source": [
    "file_input_path = \"titanic_train.csv\"\n",
    "if not os.path.exists(file_input_path):\n",
    "    df_train = pd.read_csv(\"http://bit.ly/kaggletrain\")\n",
    "    df_train.to_csv(file_input_path, header=True, index=False, sep=\"\\t\")\n",
    "else:\n",
    "    df_train = pd.read_csv(file_input_path, header=0, sep=\"\\t\")\n",
    "    \n",
    "features = [\"Pclass\", \"Fare\", \"SibSp\"]\n",
    "X, y = df_train[features], df_train[\"Survived\"]\n",
    "\n",
    "from sklearn.model_selection import train_test_split\n",
    "X_train, X_test, y_train, y_test = train_test_split(X, y, random_state=0)"
   ]
  },
  {
   "cell_type": "code",
   "execution_count": 331,
   "id": "f4d2aacc",
   "metadata": {},
   "outputs": [],
   "source": [
    "from sklearn.model_selection import StratifiedKFold\n",
    "skf = StratifiedKFold(5, shuffle=True, random_state=1)"
   ]
  },
  {
   "cell_type": "code",
   "execution_count": 332,
   "id": "aa3cbe6c",
   "metadata": {},
   "outputs": [],
   "source": [
    "clf = LogisticRegression()"
   ]
  },
  {
   "cell_type": "code",
   "execution_count": 333,
   "id": "93365fb0",
   "metadata": {},
   "outputs": [
    {
     "data": {
      "text/plain": [
       "array([0.65363128, 0.7247191 , 0.66853933, 0.68539326, 0.65730337])"
      ]
     },
     "execution_count": 333,
     "metadata": {},
     "output_type": "execute_result"
    }
   ],
   "source": [
    "scores = cross_val_score(clf, X, y, cv=skf, scoring=\"accuracy\")\n",
    "scores"
   ]
  },
  {
   "cell_type": "code",
   "execution_count": 334,
   "id": "5d562664",
   "metadata": {},
   "outputs": [
    {
     "data": {
      "text/plain": [
       "0.6779172682191954"
      ]
     },
     "execution_count": 334,
     "metadata": {},
     "output_type": "execute_result"
    }
   ],
   "source": [
    "scores.mean()"
   ]
  },
  {
   "cell_type": "markdown",
   "id": "3b0a0c87",
   "metadata": {},
   "source": [
    "### Using KFold with regression problems"
   ]
  },
  {
   "cell_type": "code",
   "execution_count": 335,
   "id": "9bbd2c24",
   "metadata": {},
   "outputs": [],
   "source": [
    "# Regression corpus\n",
    "from sklearn.datasets import load_diabetes\n",
    "\n",
    "from sklearn.linear_model import LinearRegression\n",
    "from sklearn.model_selection import KFold"
   ]
  },
  {
   "cell_type": "code",
   "execution_count": 336,
   "id": "e2ff8e34",
   "metadata": {},
   "outputs": [],
   "source": [
    "reg = LinearRegression()"
   ]
  },
  {
   "cell_type": "code",
   "execution_count": 337,
   "id": "2bb219de",
   "metadata": {},
   "outputs": [],
   "source": [
    "X_reg, y_reg = load_diabetes(return_X_y=True)"
   ]
  },
  {
   "cell_type": "code",
   "execution_count": 338,
   "id": "713c6725",
   "metadata": {},
   "outputs": [
    {
     "data": {
      "text/plain": [
       "array([[ 0.03807591,  0.05068012,  0.06169621,  0.02187235, -0.0442235 ,\n",
       "        -0.03482076, -0.04340085, -0.00259226,  0.01990842, -0.01764613],\n",
       "       [-0.00188202, -0.04464164, -0.05147406, -0.02632783, -0.00844872,\n",
       "        -0.01916334,  0.07441156, -0.03949338, -0.06832974, -0.09220405],\n",
       "       [ 0.08529891,  0.05068012,  0.04445121, -0.00567061, -0.04559945,\n",
       "        -0.03419447, -0.03235593, -0.00259226,  0.00286377, -0.02593034]])"
      ]
     },
     "execution_count": 338,
     "metadata": {},
     "output_type": "execute_result"
    }
   ],
   "source": [
    "X_reg[:3]"
   ]
  },
  {
   "cell_type": "code",
   "execution_count": 339,
   "id": "4f5a1fa0",
   "metadata": {},
   "outputs": [
    {
     "data": {
      "text/plain": [
       "array([151.,  75., 141.])"
      ]
     },
     "execution_count": 339,
     "metadata": {},
     "output_type": "execute_result"
    }
   ],
   "source": [
    "y_reg[:3]"
   ]
  },
  {
   "cell_type": "code",
   "execution_count": 340,
   "id": "0c344651",
   "metadata": {},
   "outputs": [],
   "source": [
    "kf = KFold(5, shuffle=True, random_state=1)"
   ]
  },
  {
   "cell_type": "code",
   "execution_count": 341,
   "id": "3fe6a4d1",
   "metadata": {},
   "outputs": [
    {
     "data": {
      "text/plain": [
       "array([0.43843604, 0.38982527, 0.52792606, 0.47359858, 0.57449343])"
      ]
     },
     "execution_count": 341,
     "metadata": {},
     "output_type": "execute_result"
    }
   ],
   "source": [
    "scores = cross_val_score(reg, X_reg, y_reg, cv=kf, scoring=\"r2\")\n",
    "scores"
   ]
  },
  {
   "cell_type": "code",
   "execution_count": 342,
   "id": "1b2a483c",
   "metadata": {},
   "outputs": [
    {
     "data": {
      "text/plain": [
       "0.4808558770194292"
      ]
     },
     "execution_count": 342,
     "metadata": {},
     "output_type": "execute_result"
    }
   ],
   "source": [
    "scores.mean()"
   ]
  },
  {
   "cell_type": "markdown",
   "id": "af5b7ef2",
   "metadata": {},
   "source": [
    "## Use AUC to evaluate multi-class problems\n",
    "\n",
    "[AUC](https://scikit-learn.org/stable/modules/model_evaluation.html#receiver-operating-characteristic-roc) is an excellent evaluation metric for binary classification, especially if you have class imbalance.\n",
    "\n",
    "New in scikit-learn 0.22: AUC can be used with [multiclass problems](https://scikit-learn.org/stable/modules/model_evaluation.html#multi-class-case)! Supports \"one-vs-one\" and \"one-vs-rest\" strategies.\n",
    "\n",
    "Additional links: [ROC curves and AUC explained (video)](https://www.dataschool.io/roc-curves-and-auc-explained/)"
   ]
  },
  {
   "cell_type": "code",
   "execution_count": 343,
   "id": "97b323ab",
   "metadata": {},
   "outputs": [],
   "source": [
    "from sklearn.datasets import load_wine"
   ]
  },
  {
   "cell_type": "code",
   "execution_count": 344,
   "id": "9342ab73",
   "metadata": {},
   "outputs": [],
   "source": [
    "X, y = load_wine(return_X_y=True)"
   ]
  },
  {
   "cell_type": "code",
   "execution_count": 345,
   "id": "80f681b7",
   "metadata": {},
   "outputs": [
    {
     "data": {
      "text/plain": [
       "array([[1.423e+01, 1.710e+00, 2.430e+00, 1.560e+01, 1.270e+02, 2.800e+00,\n",
       "        3.060e+00, 2.800e-01, 2.290e+00, 5.640e+00, 1.040e+00, 3.920e+00,\n",
       "        1.065e+03],\n",
       "       [1.320e+01, 1.780e+00, 2.140e+00, 1.120e+01, 1.000e+02, 2.650e+00,\n",
       "        2.760e+00, 2.600e-01, 1.280e+00, 4.380e+00, 1.050e+00, 3.400e+00,\n",
       "        1.050e+03],\n",
       "       [1.316e+01, 2.360e+00, 2.670e+00, 1.860e+01, 1.010e+02, 2.800e+00,\n",
       "        3.240e+00, 3.000e-01, 2.810e+00, 5.680e+00, 1.030e+00, 3.170e+00,\n",
       "        1.185e+03]])"
      ]
     },
     "execution_count": 345,
     "metadata": {},
     "output_type": "execute_result"
    }
   ],
   "source": [
    "X[:3]"
   ]
  },
  {
   "cell_type": "code",
   "execution_count": 346,
   "id": "f66fc624",
   "metadata": {},
   "outputs": [
    {
     "data": {
      "text/plain": [
       "array([0, 0, 0])"
      ]
     },
     "execution_count": 346,
     "metadata": {},
     "output_type": "execute_result"
    }
   ],
   "source": [
    "y[:3]"
   ]
  },
  {
   "cell_type": "code",
   "execution_count": 347,
   "id": "116a66ec",
   "metadata": {},
   "outputs": [
    {
     "data": {
      "text/plain": [
       "array([0, 1, 2])"
      ]
     },
     "execution_count": 347,
     "metadata": {},
     "output_type": "execute_result"
    }
   ],
   "source": [
    "np.unique(y)"
   ]
  },
  {
   "cell_type": "code",
   "execution_count": 348,
   "id": "3875bfd0",
   "metadata": {},
   "outputs": [],
   "source": [
    "clf = LogisticRegression()"
   ]
  },
  {
   "cell_type": "code",
   "execution_count": 349,
   "id": "ce2192fd",
   "metadata": {},
   "outputs": [],
   "source": [
    "X_train, X_test, y_train, y_test = train_test_split(X, y, random_state=0, stratify=y)"
   ]
  },
  {
   "cell_type": "code",
   "execution_count": 350,
   "id": "27309aac",
   "metadata": {},
   "outputs": [
    {
     "name": "stderr",
     "output_type": "stream",
     "text": [
      "C:\\Users\\TienLE\\anaconda3\\envs\\py39\\lib\\site-packages\\sklearn\\linear_model\\_logistic.py:814: ConvergenceWarning: lbfgs failed to converge (status=1):\n",
      "STOP: TOTAL NO. of ITERATIONS REACHED LIMIT.\n",
      "\n",
      "Increase the number of iterations (max_iter) or scale the data as shown in:\n",
      "    https://scikit-learn.org/stable/modules/preprocessing.html\n",
      "Please also refer to the documentation for alternative solver options:\n",
      "    https://scikit-learn.org/stable/modules/linear_model.html#logistic-regression\n",
      "  n_iter_i = _check_optimize_result(\n"
     ]
    },
    {
     "data": {
      "text/html": [
       "<style>#sk-250cdb75-e15d-4a1d-9c2a-fe114eead8b8 {color: black;background-color: white;}#sk-250cdb75-e15d-4a1d-9c2a-fe114eead8b8 pre{padding: 0;}#sk-250cdb75-e15d-4a1d-9c2a-fe114eead8b8 div.sk-toggleable {background-color: white;}#sk-250cdb75-e15d-4a1d-9c2a-fe114eead8b8 label.sk-toggleable__label {cursor: pointer;display: block;width: 100%;margin-bottom: 0;padding: 0.3em;box-sizing: border-box;text-align: center;}#sk-250cdb75-e15d-4a1d-9c2a-fe114eead8b8 div.sk-toggleable__content {max-height: 0;max-width: 0;overflow: hidden;text-align: left;background-color: #f0f8ff;}#sk-250cdb75-e15d-4a1d-9c2a-fe114eead8b8 div.sk-toggleable__content pre {margin: 0.2em;color: black;border-radius: 0.25em;background-color: #f0f8ff;}#sk-250cdb75-e15d-4a1d-9c2a-fe114eead8b8 input.sk-toggleable__control:checked~div.sk-toggleable__content {max-height: 200px;max-width: 100%;overflow: auto;}#sk-250cdb75-e15d-4a1d-9c2a-fe114eead8b8 div.sk-estimator input.sk-toggleable__control:checked~label.sk-toggleable__label {background-color: #d4ebff;}#sk-250cdb75-e15d-4a1d-9c2a-fe114eead8b8 div.sk-label input.sk-toggleable__control:checked~label.sk-toggleable__label {background-color: #d4ebff;}#sk-250cdb75-e15d-4a1d-9c2a-fe114eead8b8 input.sk-hidden--visually {border: 0;clip: rect(1px 1px 1px 1px);clip: rect(1px, 1px, 1px, 1px);height: 1px;margin: -1px;overflow: hidden;padding: 0;position: absolute;width: 1px;}#sk-250cdb75-e15d-4a1d-9c2a-fe114eead8b8 div.sk-estimator {font-family: monospace;background-color: #f0f8ff;border: 1px dotted black;border-radius: 0.25em;box-sizing: border-box;margin-bottom: 0.5em;}#sk-250cdb75-e15d-4a1d-9c2a-fe114eead8b8 div.sk-estimator:hover {background-color: #d4ebff;}#sk-250cdb75-e15d-4a1d-9c2a-fe114eead8b8 div.sk-parallel-item::after {content: \"\";width: 100%;border-bottom: 1px solid gray;flex-grow: 1;}#sk-250cdb75-e15d-4a1d-9c2a-fe114eead8b8 div.sk-label:hover label.sk-toggleable__label {background-color: #d4ebff;}#sk-250cdb75-e15d-4a1d-9c2a-fe114eead8b8 div.sk-serial::before {content: \"\";position: absolute;border-left: 1px solid gray;box-sizing: border-box;top: 2em;bottom: 0;left: 50%;}#sk-250cdb75-e15d-4a1d-9c2a-fe114eead8b8 div.sk-serial {display: flex;flex-direction: column;align-items: center;background-color: white;padding-right: 0.2em;padding-left: 0.2em;}#sk-250cdb75-e15d-4a1d-9c2a-fe114eead8b8 div.sk-item {z-index: 1;}#sk-250cdb75-e15d-4a1d-9c2a-fe114eead8b8 div.sk-parallel {display: flex;align-items: stretch;justify-content: center;background-color: white;}#sk-250cdb75-e15d-4a1d-9c2a-fe114eead8b8 div.sk-parallel::before {content: \"\";position: absolute;border-left: 1px solid gray;box-sizing: border-box;top: 2em;bottom: 0;left: 50%;}#sk-250cdb75-e15d-4a1d-9c2a-fe114eead8b8 div.sk-parallel-item {display: flex;flex-direction: column;position: relative;background-color: white;}#sk-250cdb75-e15d-4a1d-9c2a-fe114eead8b8 div.sk-parallel-item:first-child::after {align-self: flex-end;width: 50%;}#sk-250cdb75-e15d-4a1d-9c2a-fe114eead8b8 div.sk-parallel-item:last-child::after {align-self: flex-start;width: 50%;}#sk-250cdb75-e15d-4a1d-9c2a-fe114eead8b8 div.sk-parallel-item:only-child::after {width: 0;}#sk-250cdb75-e15d-4a1d-9c2a-fe114eead8b8 div.sk-dashed-wrapped {border: 1px dashed gray;margin: 0 0.4em 0.5em 0.4em;box-sizing: border-box;padding-bottom: 0.4em;background-color: white;position: relative;}#sk-250cdb75-e15d-4a1d-9c2a-fe114eead8b8 div.sk-label label {font-family: monospace;font-weight: bold;background-color: white;display: inline-block;line-height: 1.2em;}#sk-250cdb75-e15d-4a1d-9c2a-fe114eead8b8 div.sk-label-container {position: relative;z-index: 2;text-align: center;}#sk-250cdb75-e15d-4a1d-9c2a-fe114eead8b8 div.sk-container {display: inline-block;position: relative;}</style><div id=\"sk-250cdb75-e15d-4a1d-9c2a-fe114eead8b8\" class\"sk-top-container\"><div class=\"sk-container\"><div class=\"sk-item\"><div class=\"sk-estimator sk-toggleable\"><input class=\"sk-toggleable__control sk-hidden--visually\" id=\"d07a8acc-b3c1-401d-b498-d9ddcdaefe68\" type=\"checkbox\" checked><label class=\"sk-toggleable__label\" for=\"d07a8acc-b3c1-401d-b498-d9ddcdaefe68\">LogisticRegression</label><div class=\"sk-toggleable__content\"><pre>LogisticRegression(C=1.0, class_weight=None, dual=False, fit_intercept=True,\n",
       "                   intercept_scaling=1, l1_ratio=None, max_iter=100,\n",
       "                   multi_class='auto', n_jobs=None, penalty='l2',\n",
       "                   random_state=None, solver='lbfgs', tol=0.0001, verbose=0,\n",
       "                   warm_start=False)</pre></div></div></div></div></div>"
      ],
      "text/plain": [
       "LogisticRegression(C=1.0, class_weight=None, dual=False, fit_intercept=True,\n",
       "                   intercept_scaling=1, l1_ratio=None, max_iter=100,\n",
       "                   multi_class='auto', n_jobs=None, penalty='l2',\n",
       "                   random_state=None, solver='lbfgs', tol=0.0001, verbose=0,\n",
       "                   warm_start=False)"
      ]
     },
     "execution_count": 350,
     "metadata": {},
     "output_type": "execute_result"
    }
   ],
   "source": [
    "clf.fit(X_train, y_train)"
   ]
  },
  {
   "cell_type": "code",
   "execution_count": 351,
   "id": "b309a56b",
   "metadata": {},
   "outputs": [],
   "source": [
    "y_pred_proba = clf.predict_proba(X_test)"
   ]
  },
  {
   "cell_type": "code",
   "execution_count": 352,
   "id": "c09225d6",
   "metadata": {},
   "outputs": [
    {
     "data": {
      "text/plain": [
       "array([[1.52956883e-03, 8.33190734e-05, 9.98387112e-01],\n",
       "       [3.52924736e-01, 6.45037036e-01, 2.03822723e-03],\n",
       "       [2.91763667e-05, 9.99875495e-01, 9.53286356e-05]])"
      ]
     },
     "execution_count": 352,
     "metadata": {},
     "output_type": "execute_result"
    }
   ],
   "source": [
    "y_pred_proba[:3]"
   ]
  },
  {
   "cell_type": "markdown",
   "id": "6515f79e",
   "metadata": {},
   "source": [
    "### Using 'ovo' (One-vs-One) or 'ovr' (One-vs-Rest)"
   ]
  },
  {
   "cell_type": "code",
   "execution_count": 353,
   "id": "62e2ae96",
   "metadata": {},
   "outputs": [],
   "source": [
    "from sklearn.metrics import roc_auc_score"
   ]
  },
  {
   "cell_type": "code",
   "execution_count": 354,
   "id": "03a4cf93",
   "metadata": {},
   "outputs": [
    {
     "data": {
      "text/plain": [
       "0.9975308641975308"
      ]
     },
     "execution_count": 354,
     "metadata": {},
     "output_type": "execute_result"
    }
   ],
   "source": [
    "roc_auc_score(y_test, y_pred_proba, multi_class=\"ovo\")"
   ]
  },
  {
   "cell_type": "markdown",
   "id": "dac11b6a",
   "metadata": {},
   "source": [
    "### Multiclass AUC with cross-validation"
   ]
  },
  {
   "cell_type": "code",
   "execution_count": 355,
   "id": "ff1b92cd",
   "metadata": {
    "scrolled": true
   },
   "outputs": [
    {
     "name": "stderr",
     "output_type": "stream",
     "text": [
      "C:\\Users\\TienLE\\anaconda3\\envs\\py39\\lib\\site-packages\\sklearn\\linear_model\\_logistic.py:814: ConvergenceWarning: lbfgs failed to converge (status=1):\n",
      "STOP: TOTAL NO. of ITERATIONS REACHED LIMIT.\n",
      "\n",
      "Increase the number of iterations (max_iter) or scale the data as shown in:\n",
      "    https://scikit-learn.org/stable/modules/preprocessing.html\n",
      "Please also refer to the documentation for alternative solver options:\n",
      "    https://scikit-learn.org/stable/modules/linear_model.html#logistic-regression\n",
      "  n_iter_i = _check_optimize_result(\n",
      "C:\\Users\\TienLE\\anaconda3\\envs\\py39\\lib\\site-packages\\sklearn\\linear_model\\_logistic.py:814: ConvergenceWarning: lbfgs failed to converge (status=1):\n",
      "STOP: TOTAL NO. of ITERATIONS REACHED LIMIT.\n",
      "\n",
      "Increase the number of iterations (max_iter) or scale the data as shown in:\n",
      "    https://scikit-learn.org/stable/modules/preprocessing.html\n",
      "Please also refer to the documentation for alternative solver options:\n",
      "    https://scikit-learn.org/stable/modules/linear_model.html#logistic-regression\n",
      "  n_iter_i = _check_optimize_result(\n",
      "C:\\Users\\TienLE\\anaconda3\\envs\\py39\\lib\\site-packages\\sklearn\\linear_model\\_logistic.py:814: ConvergenceWarning: lbfgs failed to converge (status=1):\n",
      "STOP: TOTAL NO. of ITERATIONS REACHED LIMIT.\n",
      "\n",
      "Increase the number of iterations (max_iter) or scale the data as shown in:\n",
      "    https://scikit-learn.org/stable/modules/preprocessing.html\n",
      "Please also refer to the documentation for alternative solver options:\n",
      "    https://scikit-learn.org/stable/modules/linear_model.html#logistic-regression\n",
      "  n_iter_i = _check_optimize_result(\n",
      "C:\\Users\\TienLE\\anaconda3\\envs\\py39\\lib\\site-packages\\sklearn\\linear_model\\_logistic.py:814: ConvergenceWarning: lbfgs failed to converge (status=1):\n",
      "STOP: TOTAL NO. of ITERATIONS REACHED LIMIT.\n",
      "\n",
      "Increase the number of iterations (max_iter) or scale the data as shown in:\n",
      "    https://scikit-learn.org/stable/modules/preprocessing.html\n",
      "Please also refer to the documentation for alternative solver options:\n",
      "    https://scikit-learn.org/stable/modules/linear_model.html#logistic-regression\n",
      "  n_iter_i = _check_optimize_result(\n",
      "C:\\Users\\TienLE\\anaconda3\\envs\\py39\\lib\\site-packages\\sklearn\\linear_model\\_logistic.py:814: ConvergenceWarning: lbfgs failed to converge (status=1):\n",
      "STOP: TOTAL NO. of ITERATIONS REACHED LIMIT.\n",
      "\n",
      "Increase the number of iterations (max_iter) or scale the data as shown in:\n",
      "    https://scikit-learn.org/stable/modules/preprocessing.html\n",
      "Please also refer to the documentation for alternative solver options:\n",
      "    https://scikit-learn.org/stable/modules/linear_model.html#logistic-regression\n",
      "  n_iter_i = _check_optimize_result(\n"
     ]
    },
    {
     "data": {
      "text/plain": [
       "array([0.97678571, 0.9952381 , 0.99007937, 1.        , 1.        ])"
      ]
     },
     "execution_count": 355,
     "metadata": {},
     "output_type": "execute_result"
    }
   ],
   "source": [
    "scores = cross_val_score(clf, X, y, cv=5, scoring=\"roc_auc_ovo\")\n",
    "scores"
   ]
  },
  {
   "cell_type": "code",
   "execution_count": 356,
   "id": "ba45046d",
   "metadata": {},
   "outputs": [
    {
     "data": {
      "text/plain": [
       "0.9924206349206349"
      ]
     },
     "execution_count": 356,
     "metadata": {},
     "output_type": "execute_result"
    }
   ],
   "source": [
    "scores.mean()"
   ]
  },
  {
   "cell_type": "markdown",
   "id": "fe16aea5",
   "metadata": {},
   "source": [
    "### Estimating by F1-score"
   ]
  },
  {
   "cell_type": "code",
   "execution_count": 357,
   "id": "a8a42323",
   "metadata": {},
   "outputs": [
    {
     "name": "stderr",
     "output_type": "stream",
     "text": [
      "C:\\Users\\TienLE\\anaconda3\\envs\\py39\\lib\\site-packages\\sklearn\\linear_model\\_logistic.py:814: ConvergenceWarning: lbfgs failed to converge (status=1):\n",
      "STOP: TOTAL NO. of ITERATIONS REACHED LIMIT.\n",
      "\n",
      "Increase the number of iterations (max_iter) or scale the data as shown in:\n",
      "    https://scikit-learn.org/stable/modules/preprocessing.html\n",
      "Please also refer to the documentation for alternative solver options:\n",
      "    https://scikit-learn.org/stable/modules/linear_model.html#logistic-regression\n",
      "  n_iter_i = _check_optimize_result(\n",
      "C:\\Users\\TienLE\\anaconda3\\envs\\py39\\lib\\site-packages\\sklearn\\linear_model\\_logistic.py:814: ConvergenceWarning: lbfgs failed to converge (status=1):\n",
      "STOP: TOTAL NO. of ITERATIONS REACHED LIMIT.\n",
      "\n",
      "Increase the number of iterations (max_iter) or scale the data as shown in:\n",
      "    https://scikit-learn.org/stable/modules/preprocessing.html\n",
      "Please also refer to the documentation for alternative solver options:\n",
      "    https://scikit-learn.org/stable/modules/linear_model.html#logistic-regression\n",
      "  n_iter_i = _check_optimize_result(\n",
      "C:\\Users\\TienLE\\anaconda3\\envs\\py39\\lib\\site-packages\\sklearn\\linear_model\\_logistic.py:814: ConvergenceWarning: lbfgs failed to converge (status=1):\n",
      "STOP: TOTAL NO. of ITERATIONS REACHED LIMIT.\n",
      "\n",
      "Increase the number of iterations (max_iter) or scale the data as shown in:\n",
      "    https://scikit-learn.org/stable/modules/preprocessing.html\n",
      "Please also refer to the documentation for alternative solver options:\n",
      "    https://scikit-learn.org/stable/modules/linear_model.html#logistic-regression\n",
      "  n_iter_i = _check_optimize_result(\n",
      "C:\\Users\\TienLE\\anaconda3\\envs\\py39\\lib\\site-packages\\sklearn\\linear_model\\_logistic.py:814: ConvergenceWarning: lbfgs failed to converge (status=1):\n",
      "STOP: TOTAL NO. of ITERATIONS REACHED LIMIT.\n",
      "\n",
      "Increase the number of iterations (max_iter) or scale the data as shown in:\n",
      "    https://scikit-learn.org/stable/modules/preprocessing.html\n",
      "Please also refer to the documentation for alternative solver options:\n",
      "    https://scikit-learn.org/stable/modules/linear_model.html#logistic-regression\n",
      "  n_iter_i = _check_optimize_result(\n",
      "C:\\Users\\TienLE\\anaconda3\\envs\\py39\\lib\\site-packages\\sklearn\\linear_model\\_logistic.py:814: ConvergenceWarning: lbfgs failed to converge (status=1):\n",
      "STOP: TOTAL NO. of ITERATIONS REACHED LIMIT.\n",
      "\n",
      "Increase the number of iterations (max_iter) or scale the data as shown in:\n",
      "    https://scikit-learn.org/stable/modules/preprocessing.html\n",
      "Please also refer to the documentation for alternative solver options:\n",
      "    https://scikit-learn.org/stable/modules/linear_model.html#logistic-regression\n",
      "  n_iter_i = _check_optimize_result(\n"
     ]
    },
    {
     "data": {
      "text/plain": [
       "0.9568115743905217"
      ]
     },
     "execution_count": 357,
     "metadata": {},
     "output_type": "execute_result"
    }
   ],
   "source": [
    "cross_val_score(clf, X, y, cv=5, scoring=\"f1_macro\").mean()"
   ]
  },
  {
   "cell_type": "markdown",
   "id": "043ef503",
   "metadata": {},
   "source": [
    "# Model Inspection\n"
   ]
  },
  {
   "cell_type": "markdown",
   "id": "3dfdb5ab",
   "metadata": {},
   "source": [
    "## Display the intercept and coefficients for a linear model\n",
    "\n",
    "Q: How do you display the intercept & coefficients for a [linear model](https://scikit-learn.org/stable/modules/classes.html#module-sklearn.linear_model)?\n",
    "\n",
    "A: They are stored as attributes of the model: \"intercept_\" and \"coef_\"\n",
    "\n",
    "Attributes end with \"_\" if they are set during \"fit\""
   ]
  },
  {
   "cell_type": "code",
   "execution_count": 358,
   "id": "26df2796",
   "metadata": {},
   "outputs": [],
   "source": [
    "from sklearn.datasets import load_diabetes"
   ]
  },
  {
   "cell_type": "code",
   "execution_count": 359,
   "id": "62bf5ddd",
   "metadata": {},
   "outputs": [
    {
     "data": {
      "text/plain": [
       "sklearn.utils.Bunch"
      ]
     },
     "execution_count": 359,
     "metadata": {},
     "output_type": "execute_result"
    }
   ],
   "source": [
    "dataset = load_diabetes()\n",
    "type(dataset)"
   ]
  },
  {
   "cell_type": "code",
   "execution_count": 360,
   "id": "80e2b213",
   "metadata": {},
   "outputs": [
    {
     "data": {
      "text/plain": [
       "dict_keys(['data', 'target', 'frame', 'DESCR', 'feature_names', 'data_filename', 'target_filename', 'data_module'])"
      ]
     },
     "execution_count": 360,
     "metadata": {},
     "output_type": "execute_result"
    }
   ],
   "source": [
    "dict(dataset).keys()"
   ]
  },
  {
   "cell_type": "code",
   "execution_count": 361,
   "id": "569d2d26",
   "metadata": {},
   "outputs": [],
   "source": [
    "X, y = dataset.data, dataset.target"
   ]
  },
  {
   "cell_type": "code",
   "execution_count": 362,
   "id": "cd33b112",
   "metadata": {},
   "outputs": [
    {
     "data": {
      "text/html": [
       "<style>#sk-aab5a5c0-1690-482c-82f6-fb41ec41469f {color: black;background-color: white;}#sk-aab5a5c0-1690-482c-82f6-fb41ec41469f pre{padding: 0;}#sk-aab5a5c0-1690-482c-82f6-fb41ec41469f div.sk-toggleable {background-color: white;}#sk-aab5a5c0-1690-482c-82f6-fb41ec41469f label.sk-toggleable__label {cursor: pointer;display: block;width: 100%;margin-bottom: 0;padding: 0.3em;box-sizing: border-box;text-align: center;}#sk-aab5a5c0-1690-482c-82f6-fb41ec41469f div.sk-toggleable__content {max-height: 0;max-width: 0;overflow: hidden;text-align: left;background-color: #f0f8ff;}#sk-aab5a5c0-1690-482c-82f6-fb41ec41469f div.sk-toggleable__content pre {margin: 0.2em;color: black;border-radius: 0.25em;background-color: #f0f8ff;}#sk-aab5a5c0-1690-482c-82f6-fb41ec41469f input.sk-toggleable__control:checked~div.sk-toggleable__content {max-height: 200px;max-width: 100%;overflow: auto;}#sk-aab5a5c0-1690-482c-82f6-fb41ec41469f div.sk-estimator input.sk-toggleable__control:checked~label.sk-toggleable__label {background-color: #d4ebff;}#sk-aab5a5c0-1690-482c-82f6-fb41ec41469f div.sk-label input.sk-toggleable__control:checked~label.sk-toggleable__label {background-color: #d4ebff;}#sk-aab5a5c0-1690-482c-82f6-fb41ec41469f input.sk-hidden--visually {border: 0;clip: rect(1px 1px 1px 1px);clip: rect(1px, 1px, 1px, 1px);height: 1px;margin: -1px;overflow: hidden;padding: 0;position: absolute;width: 1px;}#sk-aab5a5c0-1690-482c-82f6-fb41ec41469f div.sk-estimator {font-family: monospace;background-color: #f0f8ff;border: 1px dotted black;border-radius: 0.25em;box-sizing: border-box;margin-bottom: 0.5em;}#sk-aab5a5c0-1690-482c-82f6-fb41ec41469f div.sk-estimator:hover {background-color: #d4ebff;}#sk-aab5a5c0-1690-482c-82f6-fb41ec41469f div.sk-parallel-item::after {content: \"\";width: 100%;border-bottom: 1px solid gray;flex-grow: 1;}#sk-aab5a5c0-1690-482c-82f6-fb41ec41469f div.sk-label:hover label.sk-toggleable__label {background-color: #d4ebff;}#sk-aab5a5c0-1690-482c-82f6-fb41ec41469f div.sk-serial::before {content: \"\";position: absolute;border-left: 1px solid gray;box-sizing: border-box;top: 2em;bottom: 0;left: 50%;}#sk-aab5a5c0-1690-482c-82f6-fb41ec41469f div.sk-serial {display: flex;flex-direction: column;align-items: center;background-color: white;padding-right: 0.2em;padding-left: 0.2em;}#sk-aab5a5c0-1690-482c-82f6-fb41ec41469f div.sk-item {z-index: 1;}#sk-aab5a5c0-1690-482c-82f6-fb41ec41469f div.sk-parallel {display: flex;align-items: stretch;justify-content: center;background-color: white;}#sk-aab5a5c0-1690-482c-82f6-fb41ec41469f div.sk-parallel::before {content: \"\";position: absolute;border-left: 1px solid gray;box-sizing: border-box;top: 2em;bottom: 0;left: 50%;}#sk-aab5a5c0-1690-482c-82f6-fb41ec41469f div.sk-parallel-item {display: flex;flex-direction: column;position: relative;background-color: white;}#sk-aab5a5c0-1690-482c-82f6-fb41ec41469f div.sk-parallel-item:first-child::after {align-self: flex-end;width: 50%;}#sk-aab5a5c0-1690-482c-82f6-fb41ec41469f div.sk-parallel-item:last-child::after {align-self: flex-start;width: 50%;}#sk-aab5a5c0-1690-482c-82f6-fb41ec41469f div.sk-parallel-item:only-child::after {width: 0;}#sk-aab5a5c0-1690-482c-82f6-fb41ec41469f div.sk-dashed-wrapped {border: 1px dashed gray;margin: 0 0.4em 0.5em 0.4em;box-sizing: border-box;padding-bottom: 0.4em;background-color: white;position: relative;}#sk-aab5a5c0-1690-482c-82f6-fb41ec41469f div.sk-label label {font-family: monospace;font-weight: bold;background-color: white;display: inline-block;line-height: 1.2em;}#sk-aab5a5c0-1690-482c-82f6-fb41ec41469f div.sk-label-container {position: relative;z-index: 2;text-align: center;}#sk-aab5a5c0-1690-482c-82f6-fb41ec41469f div.sk-container {display: inline-block;position: relative;}</style><div id=\"sk-aab5a5c0-1690-482c-82f6-fb41ec41469f\" class\"sk-top-container\"><div class=\"sk-container\"><div class=\"sk-item\"><div class=\"sk-estimator sk-toggleable\"><input class=\"sk-toggleable__control sk-hidden--visually\" id=\"c2ca3729-dd66-4b51-b7a6-0a72937fab2e\" type=\"checkbox\" checked><label class=\"sk-toggleable__label\" for=\"c2ca3729-dd66-4b51-b7a6-0a72937fab2e\">LinearRegression</label><div class=\"sk-toggleable__content\"><pre>LinearRegression(copy_X=True, fit_intercept=True, n_jobs=None,\n",
       "                 normalize='deprecated', positive=False)</pre></div></div></div></div></div>"
      ],
      "text/plain": [
       "LinearRegression(copy_X=True, fit_intercept=True, n_jobs=None,\n",
       "                 normalize='deprecated', positive=False)"
      ]
     },
     "execution_count": 362,
     "metadata": {},
     "output_type": "execute_result"
    }
   ],
   "source": [
    "lr = LinearRegression()\n",
    "lr"
   ]
  },
  {
   "cell_type": "code",
   "execution_count": 363,
   "id": "9bd6c305",
   "metadata": {},
   "outputs": [
    {
     "data": {
      "text/html": [
       "<style>#sk-b1e4dc16-0ffc-4ee4-b6d1-ffc81e7fd689 {color: black;background-color: white;}#sk-b1e4dc16-0ffc-4ee4-b6d1-ffc81e7fd689 pre{padding: 0;}#sk-b1e4dc16-0ffc-4ee4-b6d1-ffc81e7fd689 div.sk-toggleable {background-color: white;}#sk-b1e4dc16-0ffc-4ee4-b6d1-ffc81e7fd689 label.sk-toggleable__label {cursor: pointer;display: block;width: 100%;margin-bottom: 0;padding: 0.3em;box-sizing: border-box;text-align: center;}#sk-b1e4dc16-0ffc-4ee4-b6d1-ffc81e7fd689 div.sk-toggleable__content {max-height: 0;max-width: 0;overflow: hidden;text-align: left;background-color: #f0f8ff;}#sk-b1e4dc16-0ffc-4ee4-b6d1-ffc81e7fd689 div.sk-toggleable__content pre {margin: 0.2em;color: black;border-radius: 0.25em;background-color: #f0f8ff;}#sk-b1e4dc16-0ffc-4ee4-b6d1-ffc81e7fd689 input.sk-toggleable__control:checked~div.sk-toggleable__content {max-height: 200px;max-width: 100%;overflow: auto;}#sk-b1e4dc16-0ffc-4ee4-b6d1-ffc81e7fd689 div.sk-estimator input.sk-toggleable__control:checked~label.sk-toggleable__label {background-color: #d4ebff;}#sk-b1e4dc16-0ffc-4ee4-b6d1-ffc81e7fd689 div.sk-label input.sk-toggleable__control:checked~label.sk-toggleable__label {background-color: #d4ebff;}#sk-b1e4dc16-0ffc-4ee4-b6d1-ffc81e7fd689 input.sk-hidden--visually {border: 0;clip: rect(1px 1px 1px 1px);clip: rect(1px, 1px, 1px, 1px);height: 1px;margin: -1px;overflow: hidden;padding: 0;position: absolute;width: 1px;}#sk-b1e4dc16-0ffc-4ee4-b6d1-ffc81e7fd689 div.sk-estimator {font-family: monospace;background-color: #f0f8ff;border: 1px dotted black;border-radius: 0.25em;box-sizing: border-box;margin-bottom: 0.5em;}#sk-b1e4dc16-0ffc-4ee4-b6d1-ffc81e7fd689 div.sk-estimator:hover {background-color: #d4ebff;}#sk-b1e4dc16-0ffc-4ee4-b6d1-ffc81e7fd689 div.sk-parallel-item::after {content: \"\";width: 100%;border-bottom: 1px solid gray;flex-grow: 1;}#sk-b1e4dc16-0ffc-4ee4-b6d1-ffc81e7fd689 div.sk-label:hover label.sk-toggleable__label {background-color: #d4ebff;}#sk-b1e4dc16-0ffc-4ee4-b6d1-ffc81e7fd689 div.sk-serial::before {content: \"\";position: absolute;border-left: 1px solid gray;box-sizing: border-box;top: 2em;bottom: 0;left: 50%;}#sk-b1e4dc16-0ffc-4ee4-b6d1-ffc81e7fd689 div.sk-serial {display: flex;flex-direction: column;align-items: center;background-color: white;padding-right: 0.2em;padding-left: 0.2em;}#sk-b1e4dc16-0ffc-4ee4-b6d1-ffc81e7fd689 div.sk-item {z-index: 1;}#sk-b1e4dc16-0ffc-4ee4-b6d1-ffc81e7fd689 div.sk-parallel {display: flex;align-items: stretch;justify-content: center;background-color: white;}#sk-b1e4dc16-0ffc-4ee4-b6d1-ffc81e7fd689 div.sk-parallel::before {content: \"\";position: absolute;border-left: 1px solid gray;box-sizing: border-box;top: 2em;bottom: 0;left: 50%;}#sk-b1e4dc16-0ffc-4ee4-b6d1-ffc81e7fd689 div.sk-parallel-item {display: flex;flex-direction: column;position: relative;background-color: white;}#sk-b1e4dc16-0ffc-4ee4-b6d1-ffc81e7fd689 div.sk-parallel-item:first-child::after {align-self: flex-end;width: 50%;}#sk-b1e4dc16-0ffc-4ee4-b6d1-ffc81e7fd689 div.sk-parallel-item:last-child::after {align-self: flex-start;width: 50%;}#sk-b1e4dc16-0ffc-4ee4-b6d1-ffc81e7fd689 div.sk-parallel-item:only-child::after {width: 0;}#sk-b1e4dc16-0ffc-4ee4-b6d1-ffc81e7fd689 div.sk-dashed-wrapped {border: 1px dashed gray;margin: 0 0.4em 0.5em 0.4em;box-sizing: border-box;padding-bottom: 0.4em;background-color: white;position: relative;}#sk-b1e4dc16-0ffc-4ee4-b6d1-ffc81e7fd689 div.sk-label label {font-family: monospace;font-weight: bold;background-color: white;display: inline-block;line-height: 1.2em;}#sk-b1e4dc16-0ffc-4ee4-b6d1-ffc81e7fd689 div.sk-label-container {position: relative;z-index: 2;text-align: center;}#sk-b1e4dc16-0ffc-4ee4-b6d1-ffc81e7fd689 div.sk-container {display: inline-block;position: relative;}</style><div id=\"sk-b1e4dc16-0ffc-4ee4-b6d1-ffc81e7fd689\" class\"sk-top-container\"><div class=\"sk-container\"><div class=\"sk-item\"><div class=\"sk-estimator sk-toggleable\"><input class=\"sk-toggleable__control sk-hidden--visually\" id=\"05e46776-f511-4f75-9188-a88cb6009bb9\" type=\"checkbox\" checked><label class=\"sk-toggleable__label\" for=\"05e46776-f511-4f75-9188-a88cb6009bb9\">LinearRegression</label><div class=\"sk-toggleable__content\"><pre>LinearRegression(copy_X=True, fit_intercept=True, n_jobs=None,\n",
       "                 normalize='deprecated', positive=False)</pre></div></div></div></div></div>"
      ],
      "text/plain": [
       "LinearRegression(copy_X=True, fit_intercept=True, n_jobs=None,\n",
       "                 normalize='deprecated', positive=False)"
      ]
     },
     "execution_count": 363,
     "metadata": {},
     "output_type": "execute_result"
    }
   ],
   "source": [
    "lr.fit(X, y)"
   ]
  },
  {
   "cell_type": "code",
   "execution_count": 364,
   "id": "b2f469aa",
   "metadata": {},
   "outputs": [
    {
     "data": {
      "text/plain": [
       "152.1334841628965"
      ]
     },
     "execution_count": 364,
     "metadata": {},
     "output_type": "execute_result"
    }
   ],
   "source": [
    "lr.intercept_"
   ]
  },
  {
   "cell_type": "code",
   "execution_count": 365,
   "id": "53e60c8f",
   "metadata": {},
   "outputs": [
    {
     "data": {
      "text/plain": [
       "array([ -10.01219782, -239.81908937,  519.83978679,  324.39042769,\n",
       "       -792.18416163,  476.74583782,  101.04457032,  177.06417623,\n",
       "        751.27932109,   67.62538639])"
      ]
     },
     "execution_count": 365,
     "metadata": {},
     "output_type": "execute_result"
    }
   ],
   "source": [
    "lr.coef_"
   ]
  },
  {
   "cell_type": "markdown",
   "id": "6e704949",
   "metadata": {},
   "source": [
    "### Display tuple (feature name, coefficient)"
   ]
  },
  {
   "cell_type": "code",
   "execution_count": 366,
   "id": "8304bff3",
   "metadata": {},
   "outputs": [
    {
     "data": {
      "text/plain": [
       "[('age', -10.012197817470962),\n",
       " ('sex', -239.81908936565566),\n",
       " ('bmi', 519.8397867901349),\n",
       " ('bp', 324.39042768937657),\n",
       " ('s1', -792.1841616283053),\n",
       " ('s2', 476.7458378236622),\n",
       " ('s3', 101.04457032134493),\n",
       " ('s4', 177.06417623225025),\n",
       " ('s5', 751.2793210873947),\n",
       " ('s6', 67.62538639104369)]"
      ]
     },
     "execution_count": 366,
     "metadata": {},
     "output_type": "execute_result"
    }
   ],
   "source": [
    "list(zip(dataset.feature_names, lr.coef_))"
   ]
  },
  {
   "cell_type": "markdown",
   "id": "25c624e9",
   "metadata": {},
   "source": [
    "## Visualize a decision tree two different ways\n",
    "\n",
    "Two new functions in scikit-learn 0.21 for visualizing [decision trees](https://scikit-learn.org/stable/modules/tree.html):\n",
    "+ [plot_tree](https://scikit-learn.org/stable/modules/generated/sklearn.tree.plot_tree.html): uses Matplotlib (not Graphviz!)\n",
    "+ [export_text](https://scikit-learn.org/stable/modules/generated/sklearn.tree.export_text.html): doesn't require any external libraries"
   ]
  },
  {
   "cell_type": "code",
   "execution_count": 367,
   "id": "d64432dd",
   "metadata": {},
   "outputs": [],
   "source": [
    "file_input_path = \"titanic_train.csv\"\n",
    "if not os.path.exists(file_input_path):\n",
    "    df_train = pd.read_csv(\"http://bit.ly/kaggletrain\")\n",
    "    df_train.to_csv(file_input_path, header=True, index=False, sep=\"\\t\")\n",
    "else:\n",
    "    df_train = pd.read_csv(file_input_path, header=0, sep=\"\\t\")\n",
    "\n",
    "df_train[\"Sex\"] = df_train[\"Sex\"].map({\"male\":0, \"female\":1})\n",
    "    \n",
    "features = [\"Pclass\", \"Fare\", \"Sex\"]\n",
    "X, y = df_train[features], df_train[\"Survived\"]"
   ]
  },
  {
   "cell_type": "code",
   "execution_count": 368,
   "id": "2ec659a4",
   "metadata": {},
   "outputs": [
    {
     "data": {
      "text/html": [
       "<div>\n",
       "<style scoped>\n",
       "    .dataframe tbody tr th:only-of-type {\n",
       "        vertical-align: middle;\n",
       "    }\n",
       "\n",
       "    .dataframe tbody tr th {\n",
       "        vertical-align: top;\n",
       "    }\n",
       "\n",
       "    .dataframe thead th {\n",
       "        text-align: right;\n",
       "    }\n",
       "</style>\n",
       "<table border=\"1\" class=\"dataframe\">\n",
       "  <thead>\n",
       "    <tr style=\"text-align: right;\">\n",
       "      <th></th>\n",
       "      <th>Pclass</th>\n",
       "      <th>Fare</th>\n",
       "      <th>Sex</th>\n",
       "    </tr>\n",
       "  </thead>\n",
       "  <tbody>\n",
       "    <tr>\n",
       "      <th>0</th>\n",
       "      <td>3</td>\n",
       "      <td>7.2500</td>\n",
       "      <td>0</td>\n",
       "    </tr>\n",
       "    <tr>\n",
       "      <th>1</th>\n",
       "      <td>1</td>\n",
       "      <td>71.2833</td>\n",
       "      <td>1</td>\n",
       "    </tr>\n",
       "    <tr>\n",
       "      <th>2</th>\n",
       "      <td>3</td>\n",
       "      <td>7.9250</td>\n",
       "      <td>1</td>\n",
       "    </tr>\n",
       "  </tbody>\n",
       "</table>\n",
       "</div>"
      ],
      "text/plain": [
       "   Pclass     Fare  Sex\n",
       "0       3   7.2500    0\n",
       "1       1  71.2833    1\n",
       "2       3   7.9250    1"
      ]
     },
     "execution_count": 368,
     "metadata": {},
     "output_type": "execute_result"
    }
   ],
   "source": [
    "X.head(3)"
   ]
  },
  {
   "cell_type": "code",
   "execution_count": 369,
   "id": "ee24fc71",
   "metadata": {},
   "outputs": [
    {
     "data": {
      "text/plain": [
       "0    0\n",
       "1    1\n",
       "2    1\n",
       "Name: Survived, dtype: int64"
      ]
     },
     "execution_count": 369,
     "metadata": {},
     "output_type": "execute_result"
    }
   ],
   "source": [
    "y.head(3)"
   ]
  },
  {
   "cell_type": "code",
   "execution_count": 370,
   "id": "1a572257",
   "metadata": {},
   "outputs": [],
   "source": [
    "labels = [\"Deceased\", \"Survived\"]"
   ]
  },
  {
   "cell_type": "code",
   "execution_count": 371,
   "id": "749f4628",
   "metadata": {},
   "outputs": [],
   "source": [
    "from sklearn.tree import DecisionTreeClassifier"
   ]
  },
  {
   "cell_type": "code",
   "execution_count": 372,
   "id": "bcfa3eef",
   "metadata": {},
   "outputs": [
    {
     "data": {
      "text/html": [
       "<style>#sk-bb5db2c6-4a95-4eb5-88d7-9f0f8a304e6d {color: black;background-color: white;}#sk-bb5db2c6-4a95-4eb5-88d7-9f0f8a304e6d pre{padding: 0;}#sk-bb5db2c6-4a95-4eb5-88d7-9f0f8a304e6d div.sk-toggleable {background-color: white;}#sk-bb5db2c6-4a95-4eb5-88d7-9f0f8a304e6d label.sk-toggleable__label {cursor: pointer;display: block;width: 100%;margin-bottom: 0;padding: 0.3em;box-sizing: border-box;text-align: center;}#sk-bb5db2c6-4a95-4eb5-88d7-9f0f8a304e6d div.sk-toggleable__content {max-height: 0;max-width: 0;overflow: hidden;text-align: left;background-color: #f0f8ff;}#sk-bb5db2c6-4a95-4eb5-88d7-9f0f8a304e6d div.sk-toggleable__content pre {margin: 0.2em;color: black;border-radius: 0.25em;background-color: #f0f8ff;}#sk-bb5db2c6-4a95-4eb5-88d7-9f0f8a304e6d input.sk-toggleable__control:checked~div.sk-toggleable__content {max-height: 200px;max-width: 100%;overflow: auto;}#sk-bb5db2c6-4a95-4eb5-88d7-9f0f8a304e6d div.sk-estimator input.sk-toggleable__control:checked~label.sk-toggleable__label {background-color: #d4ebff;}#sk-bb5db2c6-4a95-4eb5-88d7-9f0f8a304e6d div.sk-label input.sk-toggleable__control:checked~label.sk-toggleable__label {background-color: #d4ebff;}#sk-bb5db2c6-4a95-4eb5-88d7-9f0f8a304e6d input.sk-hidden--visually {border: 0;clip: rect(1px 1px 1px 1px);clip: rect(1px, 1px, 1px, 1px);height: 1px;margin: -1px;overflow: hidden;padding: 0;position: absolute;width: 1px;}#sk-bb5db2c6-4a95-4eb5-88d7-9f0f8a304e6d div.sk-estimator {font-family: monospace;background-color: #f0f8ff;border: 1px dotted black;border-radius: 0.25em;box-sizing: border-box;margin-bottom: 0.5em;}#sk-bb5db2c6-4a95-4eb5-88d7-9f0f8a304e6d div.sk-estimator:hover {background-color: #d4ebff;}#sk-bb5db2c6-4a95-4eb5-88d7-9f0f8a304e6d div.sk-parallel-item::after {content: \"\";width: 100%;border-bottom: 1px solid gray;flex-grow: 1;}#sk-bb5db2c6-4a95-4eb5-88d7-9f0f8a304e6d div.sk-label:hover label.sk-toggleable__label {background-color: #d4ebff;}#sk-bb5db2c6-4a95-4eb5-88d7-9f0f8a304e6d div.sk-serial::before {content: \"\";position: absolute;border-left: 1px solid gray;box-sizing: border-box;top: 2em;bottom: 0;left: 50%;}#sk-bb5db2c6-4a95-4eb5-88d7-9f0f8a304e6d div.sk-serial {display: flex;flex-direction: column;align-items: center;background-color: white;padding-right: 0.2em;padding-left: 0.2em;}#sk-bb5db2c6-4a95-4eb5-88d7-9f0f8a304e6d div.sk-item {z-index: 1;}#sk-bb5db2c6-4a95-4eb5-88d7-9f0f8a304e6d div.sk-parallel {display: flex;align-items: stretch;justify-content: center;background-color: white;}#sk-bb5db2c6-4a95-4eb5-88d7-9f0f8a304e6d div.sk-parallel::before {content: \"\";position: absolute;border-left: 1px solid gray;box-sizing: border-box;top: 2em;bottom: 0;left: 50%;}#sk-bb5db2c6-4a95-4eb5-88d7-9f0f8a304e6d div.sk-parallel-item {display: flex;flex-direction: column;position: relative;background-color: white;}#sk-bb5db2c6-4a95-4eb5-88d7-9f0f8a304e6d div.sk-parallel-item:first-child::after {align-self: flex-end;width: 50%;}#sk-bb5db2c6-4a95-4eb5-88d7-9f0f8a304e6d div.sk-parallel-item:last-child::after {align-self: flex-start;width: 50%;}#sk-bb5db2c6-4a95-4eb5-88d7-9f0f8a304e6d div.sk-parallel-item:only-child::after {width: 0;}#sk-bb5db2c6-4a95-4eb5-88d7-9f0f8a304e6d div.sk-dashed-wrapped {border: 1px dashed gray;margin: 0 0.4em 0.5em 0.4em;box-sizing: border-box;padding-bottom: 0.4em;background-color: white;position: relative;}#sk-bb5db2c6-4a95-4eb5-88d7-9f0f8a304e6d div.sk-label label {font-family: monospace;font-weight: bold;background-color: white;display: inline-block;line-height: 1.2em;}#sk-bb5db2c6-4a95-4eb5-88d7-9f0f8a304e6d div.sk-label-container {position: relative;z-index: 2;text-align: center;}#sk-bb5db2c6-4a95-4eb5-88d7-9f0f8a304e6d div.sk-container {display: inline-block;position: relative;}</style><div id=\"sk-bb5db2c6-4a95-4eb5-88d7-9f0f8a304e6d\" class\"sk-top-container\"><div class=\"sk-container\"><div class=\"sk-item\"><div class=\"sk-estimator sk-toggleable\"><input class=\"sk-toggleable__control sk-hidden--visually\" id=\"5c60825f-2bbb-40f2-8729-442e84760e87\" type=\"checkbox\" checked><label class=\"sk-toggleable__label\" for=\"5c60825f-2bbb-40f2-8729-442e84760e87\">DecisionTreeClassifier</label><div class=\"sk-toggleable__content\"><pre>DecisionTreeClassifier(ccp_alpha=0.0, class_weight=None, criterion='gini',\n",
       "                       max_depth=2, max_features=None, max_leaf_nodes=None,\n",
       "                       min_impurity_decrease=0.0, min_samples_leaf=1,\n",
       "                       min_samples_split=2, min_weight_fraction_leaf=0.0,\n",
       "                       random_state=0, splitter='best')</pre></div></div></div></div></div>"
      ],
      "text/plain": [
       "DecisionTreeClassifier(ccp_alpha=0.0, class_weight=None, criterion='gini',\n",
       "                       max_depth=2, max_features=None, max_leaf_nodes=None,\n",
       "                       min_impurity_decrease=0.0, min_samples_leaf=1,\n",
       "                       min_samples_split=2, min_weight_fraction_leaf=0.0,\n",
       "                       random_state=0, splitter='best')"
      ]
     },
     "execution_count": 372,
     "metadata": {},
     "output_type": "execute_result"
    }
   ],
   "source": [
    "dt = DecisionTreeClassifier(max_depth=2, random_state=0)\n",
    "dt"
   ]
  },
  {
   "cell_type": "code",
   "execution_count": 373,
   "id": "bd6d2991",
   "metadata": {},
   "outputs": [
    {
     "data": {
      "text/html": [
       "<style>#sk-0b524840-439f-4353-8cce-fe5c85cf8570 {color: black;background-color: white;}#sk-0b524840-439f-4353-8cce-fe5c85cf8570 pre{padding: 0;}#sk-0b524840-439f-4353-8cce-fe5c85cf8570 div.sk-toggleable {background-color: white;}#sk-0b524840-439f-4353-8cce-fe5c85cf8570 label.sk-toggleable__label {cursor: pointer;display: block;width: 100%;margin-bottom: 0;padding: 0.3em;box-sizing: border-box;text-align: center;}#sk-0b524840-439f-4353-8cce-fe5c85cf8570 div.sk-toggleable__content {max-height: 0;max-width: 0;overflow: hidden;text-align: left;background-color: #f0f8ff;}#sk-0b524840-439f-4353-8cce-fe5c85cf8570 div.sk-toggleable__content pre {margin: 0.2em;color: black;border-radius: 0.25em;background-color: #f0f8ff;}#sk-0b524840-439f-4353-8cce-fe5c85cf8570 input.sk-toggleable__control:checked~div.sk-toggleable__content {max-height: 200px;max-width: 100%;overflow: auto;}#sk-0b524840-439f-4353-8cce-fe5c85cf8570 div.sk-estimator input.sk-toggleable__control:checked~label.sk-toggleable__label {background-color: #d4ebff;}#sk-0b524840-439f-4353-8cce-fe5c85cf8570 div.sk-label input.sk-toggleable__control:checked~label.sk-toggleable__label {background-color: #d4ebff;}#sk-0b524840-439f-4353-8cce-fe5c85cf8570 input.sk-hidden--visually {border: 0;clip: rect(1px 1px 1px 1px);clip: rect(1px, 1px, 1px, 1px);height: 1px;margin: -1px;overflow: hidden;padding: 0;position: absolute;width: 1px;}#sk-0b524840-439f-4353-8cce-fe5c85cf8570 div.sk-estimator {font-family: monospace;background-color: #f0f8ff;border: 1px dotted black;border-radius: 0.25em;box-sizing: border-box;margin-bottom: 0.5em;}#sk-0b524840-439f-4353-8cce-fe5c85cf8570 div.sk-estimator:hover {background-color: #d4ebff;}#sk-0b524840-439f-4353-8cce-fe5c85cf8570 div.sk-parallel-item::after {content: \"\";width: 100%;border-bottom: 1px solid gray;flex-grow: 1;}#sk-0b524840-439f-4353-8cce-fe5c85cf8570 div.sk-label:hover label.sk-toggleable__label {background-color: #d4ebff;}#sk-0b524840-439f-4353-8cce-fe5c85cf8570 div.sk-serial::before {content: \"\";position: absolute;border-left: 1px solid gray;box-sizing: border-box;top: 2em;bottom: 0;left: 50%;}#sk-0b524840-439f-4353-8cce-fe5c85cf8570 div.sk-serial {display: flex;flex-direction: column;align-items: center;background-color: white;padding-right: 0.2em;padding-left: 0.2em;}#sk-0b524840-439f-4353-8cce-fe5c85cf8570 div.sk-item {z-index: 1;}#sk-0b524840-439f-4353-8cce-fe5c85cf8570 div.sk-parallel {display: flex;align-items: stretch;justify-content: center;background-color: white;}#sk-0b524840-439f-4353-8cce-fe5c85cf8570 div.sk-parallel::before {content: \"\";position: absolute;border-left: 1px solid gray;box-sizing: border-box;top: 2em;bottom: 0;left: 50%;}#sk-0b524840-439f-4353-8cce-fe5c85cf8570 div.sk-parallel-item {display: flex;flex-direction: column;position: relative;background-color: white;}#sk-0b524840-439f-4353-8cce-fe5c85cf8570 div.sk-parallel-item:first-child::after {align-self: flex-end;width: 50%;}#sk-0b524840-439f-4353-8cce-fe5c85cf8570 div.sk-parallel-item:last-child::after {align-self: flex-start;width: 50%;}#sk-0b524840-439f-4353-8cce-fe5c85cf8570 div.sk-parallel-item:only-child::after {width: 0;}#sk-0b524840-439f-4353-8cce-fe5c85cf8570 div.sk-dashed-wrapped {border: 1px dashed gray;margin: 0 0.4em 0.5em 0.4em;box-sizing: border-box;padding-bottom: 0.4em;background-color: white;position: relative;}#sk-0b524840-439f-4353-8cce-fe5c85cf8570 div.sk-label label {font-family: monospace;font-weight: bold;background-color: white;display: inline-block;line-height: 1.2em;}#sk-0b524840-439f-4353-8cce-fe5c85cf8570 div.sk-label-container {position: relative;z-index: 2;text-align: center;}#sk-0b524840-439f-4353-8cce-fe5c85cf8570 div.sk-container {display: inline-block;position: relative;}</style><div id=\"sk-0b524840-439f-4353-8cce-fe5c85cf8570\" class\"sk-top-container\"><div class=\"sk-container\"><div class=\"sk-item\"><div class=\"sk-estimator sk-toggleable\"><input class=\"sk-toggleable__control sk-hidden--visually\" id=\"8d10ba4a-5e4c-44c1-a660-0a76ff814016\" type=\"checkbox\" checked><label class=\"sk-toggleable__label\" for=\"8d10ba4a-5e4c-44c1-a660-0a76ff814016\">DecisionTreeClassifier</label><div class=\"sk-toggleable__content\"><pre>DecisionTreeClassifier(ccp_alpha=0.0, class_weight=None, criterion='gini',\n",
       "                       max_depth=2, max_features=None, max_leaf_nodes=None,\n",
       "                       min_impurity_decrease=0.0, min_samples_leaf=1,\n",
       "                       min_samples_split=2, min_weight_fraction_leaf=0.0,\n",
       "                       random_state=0, splitter='best')</pre></div></div></div></div></div>"
      ],
      "text/plain": [
       "DecisionTreeClassifier(ccp_alpha=0.0, class_weight=None, criterion='gini',\n",
       "                       max_depth=2, max_features=None, max_leaf_nodes=None,\n",
       "                       min_impurity_decrease=0.0, min_samples_leaf=1,\n",
       "                       min_samples_split=2, min_weight_fraction_leaf=0.0,\n",
       "                       random_state=0, splitter='best')"
      ]
     },
     "execution_count": 373,
     "metadata": {},
     "output_type": "execute_result"
    }
   ],
   "source": [
    "dt.fit(X, y)"
   ]
  },
  {
   "cell_type": "code",
   "execution_count": 374,
   "id": "dbc41b5a",
   "metadata": {},
   "outputs": [],
   "source": [
    "from sklearn.tree import plot_tree, export_text"
   ]
  },
  {
   "cell_type": "code",
   "execution_count": 375,
   "id": "c7a22442",
   "metadata": {},
   "outputs": [
    {
     "data": {
      "text/plain": [
       "[Text(223.2, 271.8, 'Sex <= 0.5\\ngini = 0.473\\nsamples = 891\\nvalue = [549, 342]\\nclass = Deceased'),\n",
       " Text(111.6, 163.08, 'Fare <= 26.269\\ngini = 0.306\\nsamples = 577\\nvalue = [468, 109]\\nclass = Deceased'),\n",
       " Text(55.8, 54.360000000000014, 'gini = 0.226\\nsamples = 415\\nvalue = [361, 54]\\nclass = Deceased'),\n",
       " Text(167.39999999999998, 54.360000000000014, 'gini = 0.448\\nsamples = 162\\nvalue = [107, 55]\\nclass = Deceased'),\n",
       " Text(334.79999999999995, 163.08, 'Pclass <= 2.5\\ngini = 0.383\\nsamples = 314\\nvalue = [81, 233]\\nclass = Survived'),\n",
       " Text(279.0, 54.360000000000014, 'gini = 0.1\\nsamples = 170\\nvalue = [9, 161]\\nclass = Survived'),\n",
       " Text(390.59999999999997, 54.360000000000014, 'gini = 0.5\\nsamples = 144\\nvalue = [72, 72]\\nclass = Deceased')]"
      ]
     },
     "execution_count": 375,
     "metadata": {},
     "output_type": "execute_result"
    },
    {
     "data": {
      "image/png": "[encoded data removed]",
      "text/plain": [
       "<Figure size 576x432 with 1 Axes>"
      ]
     },
     "metadata": {
      "needs_background": "light"
     },
     "output_type": "display_data"
    }
   ],
   "source": [
    "plt.figure(figsize=(8,6))\n",
    "plot_tree(dt, feature_names=features, class_names=labels, filled=True)"
   ]
  },
  {
   "cell_type": "code",
   "execution_count": 376,
   "id": "c1fc2172",
   "metadata": {},
   "outputs": [
    {
     "name": "stdout",
     "output_type": "stream",
     "text": [
      "|--- Sex <= 0.50\n",
      "|   |--- Fare <= 26.27\n",
      "|   |   |--- weights: [361.00, 54.00] class: 0\n",
      "|   |--- Fare >  26.27\n",
      "|   |   |--- weights: [107.00, 55.00] class: 0\n",
      "|--- Sex >  0.50\n",
      "|   |--- Pclass <= 2.50\n",
      "|   |   |--- weights: [9.00, 161.00] class: 1\n",
      "|   |--- Pclass >  2.50\n",
      "|   |   |--- weights: [72.00, 72.00] class: 0\n",
      "\n"
     ]
    }
   ],
   "source": [
    "print(export_text(dt, feature_names=features, show_weights=True))"
   ]
  },
  {
   "cell_type": "markdown",
   "id": "26df9b97",
   "metadata": {},
   "source": [
    "# Model Ensembling"
   ]
  },
  {
   "cell_type": "markdown",
   "id": "6f16b243",
   "metadata": {},
   "source": [
    "## Ensemble various models using VotingClassifier or VotingRegressor\n",
    "\n",
    "Want to improve your classifier's accuracy? Create multiple models and ensemble them using [VotingClassifier](https://scikit-learn.org/stable/modules/ensemble.html#voting-classifier)\n",
    "\n",
    "P.S. [VotingRegressor](https://scikit-learn.org/stable/modules/ensemble.html#voting-regressor) is also available"
   ]
  },
  {
   "cell_type": "code",
   "execution_count": 377,
   "id": "61abfbcc",
   "metadata": {},
   "outputs": [],
   "source": [
    "file_input_path = \"titanic_train.csv\"\n",
    "if not os.path.exists(file_input_path):\n",
    "    df_train = pd.read_csv(\"http://bit.ly/kaggletrain\")\n",
    "    df_train.to_csv(file_input_path, header=True, index=False, sep=\"\\t\")\n",
    "else:\n",
    "    df_train = pd.read_csv(file_input_path, header=0, sep=\"\\t\")\n",
    "   \n",
    "features = [\"Pclass\", \"Parch\", \"SibSp\", \"Fare\"]\n",
    "X, y = df_train[features], df_train[\"Survived\"]"
   ]
  },
  {
   "cell_type": "code",
   "execution_count": 378,
   "id": "ce908a14",
   "metadata": {},
   "outputs": [],
   "source": [
    "from sklearn.linear_model import LogisticRegression\n",
    "from sklearn.ensemble import RandomForestClassifier, VotingClassifier\n",
    "from sklearn.model_selection import cross_val_score"
   ]
  },
  {
   "cell_type": "code",
   "execution_count": 379,
   "id": "48401e55",
   "metadata": {},
   "outputs": [
    {
     "data": {
      "text/html": [
       "<style>#sk-4dcbcbea-34e7-49f1-96b1-11ad1ed4b528 {color: black;background-color: white;}#sk-4dcbcbea-34e7-49f1-96b1-11ad1ed4b528 pre{padding: 0;}#sk-4dcbcbea-34e7-49f1-96b1-11ad1ed4b528 div.sk-toggleable {background-color: white;}#sk-4dcbcbea-34e7-49f1-96b1-11ad1ed4b528 label.sk-toggleable__label {cursor: pointer;display: block;width: 100%;margin-bottom: 0;padding: 0.3em;box-sizing: border-box;text-align: center;}#sk-4dcbcbea-34e7-49f1-96b1-11ad1ed4b528 div.sk-toggleable__content {max-height: 0;max-width: 0;overflow: hidden;text-align: left;background-color: #f0f8ff;}#sk-4dcbcbea-34e7-49f1-96b1-11ad1ed4b528 div.sk-toggleable__content pre {margin: 0.2em;color: black;border-radius: 0.25em;background-color: #f0f8ff;}#sk-4dcbcbea-34e7-49f1-96b1-11ad1ed4b528 input.sk-toggleable__control:checked~div.sk-toggleable__content {max-height: 200px;max-width: 100%;overflow: auto;}#sk-4dcbcbea-34e7-49f1-96b1-11ad1ed4b528 div.sk-estimator input.sk-toggleable__control:checked~label.sk-toggleable__label {background-color: #d4ebff;}#sk-4dcbcbea-34e7-49f1-96b1-11ad1ed4b528 div.sk-label input.sk-toggleable__control:checked~label.sk-toggleable__label {background-color: #d4ebff;}#sk-4dcbcbea-34e7-49f1-96b1-11ad1ed4b528 input.sk-hidden--visually {border: 0;clip: rect(1px 1px 1px 1px);clip: rect(1px, 1px, 1px, 1px);height: 1px;margin: -1px;overflow: hidden;padding: 0;position: absolute;width: 1px;}#sk-4dcbcbea-34e7-49f1-96b1-11ad1ed4b528 div.sk-estimator {font-family: monospace;background-color: #f0f8ff;border: 1px dotted black;border-radius: 0.25em;box-sizing: border-box;margin-bottom: 0.5em;}#sk-4dcbcbea-34e7-49f1-96b1-11ad1ed4b528 div.sk-estimator:hover {background-color: #d4ebff;}#sk-4dcbcbea-34e7-49f1-96b1-11ad1ed4b528 div.sk-parallel-item::after {content: \"\";width: 100%;border-bottom: 1px solid gray;flex-grow: 1;}#sk-4dcbcbea-34e7-49f1-96b1-11ad1ed4b528 div.sk-label:hover label.sk-toggleable__label {background-color: #d4ebff;}#sk-4dcbcbea-34e7-49f1-96b1-11ad1ed4b528 div.sk-serial::before {content: \"\";position: absolute;border-left: 1px solid gray;box-sizing: border-box;top: 2em;bottom: 0;left: 50%;}#sk-4dcbcbea-34e7-49f1-96b1-11ad1ed4b528 div.sk-serial {display: flex;flex-direction: column;align-items: center;background-color: white;padding-right: 0.2em;padding-left: 0.2em;}#sk-4dcbcbea-34e7-49f1-96b1-11ad1ed4b528 div.sk-item {z-index: 1;}#sk-4dcbcbea-34e7-49f1-96b1-11ad1ed4b528 div.sk-parallel {display: flex;align-items: stretch;justify-content: center;background-color: white;}#sk-4dcbcbea-34e7-49f1-96b1-11ad1ed4b528 div.sk-parallel::before {content: \"\";position: absolute;border-left: 1px solid gray;box-sizing: border-box;top: 2em;bottom: 0;left: 50%;}#sk-4dcbcbea-34e7-49f1-96b1-11ad1ed4b528 div.sk-parallel-item {display: flex;flex-direction: column;position: relative;background-color: white;}#sk-4dcbcbea-34e7-49f1-96b1-11ad1ed4b528 div.sk-parallel-item:first-child::after {align-self: flex-end;width: 50%;}#sk-4dcbcbea-34e7-49f1-96b1-11ad1ed4b528 div.sk-parallel-item:last-child::after {align-self: flex-start;width: 50%;}#sk-4dcbcbea-34e7-49f1-96b1-11ad1ed4b528 div.sk-parallel-item:only-child::after {width: 0;}#sk-4dcbcbea-34e7-49f1-96b1-11ad1ed4b528 div.sk-dashed-wrapped {border: 1px dashed gray;margin: 0 0.4em 0.5em 0.4em;box-sizing: border-box;padding-bottom: 0.4em;background-color: white;position: relative;}#sk-4dcbcbea-34e7-49f1-96b1-11ad1ed4b528 div.sk-label label {font-family: monospace;font-weight: bold;background-color: white;display: inline-block;line-height: 1.2em;}#sk-4dcbcbea-34e7-49f1-96b1-11ad1ed4b528 div.sk-label-container {position: relative;z-index: 2;text-align: center;}#sk-4dcbcbea-34e7-49f1-96b1-11ad1ed4b528 div.sk-container {display: inline-block;position: relative;}</style><div id=\"sk-4dcbcbea-34e7-49f1-96b1-11ad1ed4b528\" class\"sk-top-container\"><div class=\"sk-container\"><div class=\"sk-item\"><div class=\"sk-estimator sk-toggleable\"><input class=\"sk-toggleable__control sk-hidden--visually\" id=\"0a8895e3-6275-448f-99f5-7dd6a5122f50\" type=\"checkbox\" checked><label class=\"sk-toggleable__label\" for=\"0a8895e3-6275-448f-99f5-7dd6a5122f50\">LogisticRegression</label><div class=\"sk-toggleable__content\"><pre>LogisticRegression(C=1.0, class_weight=None, dual=False, fit_intercept=True,\n",
       "                   intercept_scaling=1, l1_ratio=None, max_iter=100,\n",
       "                   multi_class='auto', n_jobs=None, penalty='l2',\n",
       "                   random_state=1, solver='liblinear', tol=0.0001, verbose=0,\n",
       "                   warm_start=False)</pre></div></div></div></div></div>"
      ],
      "text/plain": [
       "LogisticRegression(C=1.0, class_weight=None, dual=False, fit_intercept=True,\n",
       "                   intercept_scaling=1, l1_ratio=None, max_iter=100,\n",
       "                   multi_class='auto', n_jobs=None, penalty='l2',\n",
       "                   random_state=1, solver='liblinear', tol=0.0001, verbose=0,\n",
       "                   warm_start=False)"
      ]
     },
     "execution_count": 379,
     "metadata": {},
     "output_type": "execute_result"
    }
   ],
   "source": [
    "lr = LogisticRegression(solver=\"liblinear\", random_state=1)\n",
    "lr"
   ]
  },
  {
   "cell_type": "code",
   "execution_count": 380,
   "id": "6df861d5",
   "metadata": {},
   "outputs": [
    {
     "data": {
      "text/plain": [
       "array([0.61452514, 0.68539326, 0.6741573 , 0.70224719, 0.74157303])"
      ]
     },
     "execution_count": 380,
     "metadata": {},
     "output_type": "execute_result"
    }
   ],
   "source": [
    "scores = cross_val_score(lr, X, y)\n",
    "scores"
   ]
  },
  {
   "cell_type": "code",
   "execution_count": 381,
   "id": "d619a2ed",
   "metadata": {},
   "outputs": [
    {
     "data": {
      "text/plain": [
       "0.6835791852363318"
      ]
     },
     "execution_count": 381,
     "metadata": {},
     "output_type": "execute_result"
    }
   ],
   "source": [
    "scores.mean()"
   ]
  },
  {
   "cell_type": "code",
   "execution_count": 382,
   "id": "88cb4fcc",
   "metadata": {},
   "outputs": [
    {
     "data": {
      "text/html": [
       "<style>#sk-4184e7dd-9a2a-49ca-affd-2430012db613 {color: black;background-color: white;}#sk-4184e7dd-9a2a-49ca-affd-2430012db613 pre{padding: 0;}#sk-4184e7dd-9a2a-49ca-affd-2430012db613 div.sk-toggleable {background-color: white;}#sk-4184e7dd-9a2a-49ca-affd-2430012db613 label.sk-toggleable__label {cursor: pointer;display: block;width: 100%;margin-bottom: 0;padding: 0.3em;box-sizing: border-box;text-align: center;}#sk-4184e7dd-9a2a-49ca-affd-2430012db613 div.sk-toggleable__content {max-height: 0;max-width: 0;overflow: hidden;text-align: left;background-color: #f0f8ff;}#sk-4184e7dd-9a2a-49ca-affd-2430012db613 div.sk-toggleable__content pre {margin: 0.2em;color: black;border-radius: 0.25em;background-color: #f0f8ff;}#sk-4184e7dd-9a2a-49ca-affd-2430012db613 input.sk-toggleable__control:checked~div.sk-toggleable__content {max-height: 200px;max-width: 100%;overflow: auto;}#sk-4184e7dd-9a2a-49ca-affd-2430012db613 div.sk-estimator input.sk-toggleable__control:checked~label.sk-toggleable__label {background-color: #d4ebff;}#sk-4184e7dd-9a2a-49ca-affd-2430012db613 div.sk-label input.sk-toggleable__control:checked~label.sk-toggleable__label {background-color: #d4ebff;}#sk-4184e7dd-9a2a-49ca-affd-2430012db613 input.sk-hidden--visually {border: 0;clip: rect(1px 1px 1px 1px);clip: rect(1px, 1px, 1px, 1px);height: 1px;margin: -1px;overflow: hidden;padding: 0;position: absolute;width: 1px;}#sk-4184e7dd-9a2a-49ca-affd-2430012db613 div.sk-estimator {font-family: monospace;background-color: #f0f8ff;border: 1px dotted black;border-radius: 0.25em;box-sizing: border-box;margin-bottom: 0.5em;}#sk-4184e7dd-9a2a-49ca-affd-2430012db613 div.sk-estimator:hover {background-color: #d4ebff;}#sk-4184e7dd-9a2a-49ca-affd-2430012db613 div.sk-parallel-item::after {content: \"\";width: 100%;border-bottom: 1px solid gray;flex-grow: 1;}#sk-4184e7dd-9a2a-49ca-affd-2430012db613 div.sk-label:hover label.sk-toggleable__label {background-color: #d4ebff;}#sk-4184e7dd-9a2a-49ca-affd-2430012db613 div.sk-serial::before {content: \"\";position: absolute;border-left: 1px solid gray;box-sizing: border-box;top: 2em;bottom: 0;left: 50%;}#sk-4184e7dd-9a2a-49ca-affd-2430012db613 div.sk-serial {display: flex;flex-direction: column;align-items: center;background-color: white;padding-right: 0.2em;padding-left: 0.2em;}#sk-4184e7dd-9a2a-49ca-affd-2430012db613 div.sk-item {z-index: 1;}#sk-4184e7dd-9a2a-49ca-affd-2430012db613 div.sk-parallel {display: flex;align-items: stretch;justify-content: center;background-color: white;}#sk-4184e7dd-9a2a-49ca-affd-2430012db613 div.sk-parallel::before {content: \"\";position: absolute;border-left: 1px solid gray;box-sizing: border-box;top: 2em;bottom: 0;left: 50%;}#sk-4184e7dd-9a2a-49ca-affd-2430012db613 div.sk-parallel-item {display: flex;flex-direction: column;position: relative;background-color: white;}#sk-4184e7dd-9a2a-49ca-affd-2430012db613 div.sk-parallel-item:first-child::after {align-self: flex-end;width: 50%;}#sk-4184e7dd-9a2a-49ca-affd-2430012db613 div.sk-parallel-item:last-child::after {align-self: flex-start;width: 50%;}#sk-4184e7dd-9a2a-49ca-affd-2430012db613 div.sk-parallel-item:only-child::after {width: 0;}#sk-4184e7dd-9a2a-49ca-affd-2430012db613 div.sk-dashed-wrapped {border: 1px dashed gray;margin: 0 0.4em 0.5em 0.4em;box-sizing: border-box;padding-bottom: 0.4em;background-color: white;position: relative;}#sk-4184e7dd-9a2a-49ca-affd-2430012db613 div.sk-label label {font-family: monospace;font-weight: bold;background-color: white;display: inline-block;line-height: 1.2em;}#sk-4184e7dd-9a2a-49ca-affd-2430012db613 div.sk-label-container {position: relative;z-index: 2;text-align: center;}#sk-4184e7dd-9a2a-49ca-affd-2430012db613 div.sk-container {display: inline-block;position: relative;}</style><div id=\"sk-4184e7dd-9a2a-49ca-affd-2430012db613\" class\"sk-top-container\"><div class=\"sk-container\"><div class=\"sk-item\"><div class=\"sk-estimator sk-toggleable\"><input class=\"sk-toggleable__control sk-hidden--visually\" id=\"2a3d1ea1-193b-42cb-b8cb-f79dcce49a63\" type=\"checkbox\" checked><label class=\"sk-toggleable__label\" for=\"2a3d1ea1-193b-42cb-b8cb-f79dcce49a63\">RandomForestClassifier</label><div class=\"sk-toggleable__content\"><pre>RandomForestClassifier(bootstrap=True, ccp_alpha=0.0, class_weight=None,\n",
       "                       criterion='gini', max_depth=None, max_features=None,\n",
       "                       max_leaf_nodes=None, max_samples=None,\n",
       "                       min_impurity_decrease=0.0, min_samples_leaf=1,\n",
       "                       min_samples_split=2, min_weight_fraction_leaf=0.0,\n",
       "                       n_estimators=100, n_jobs=None, oob_score=False,\n",
       "                       random_state=1, verbose=0, warm_start=False)</pre></div></div></div></div></div>"
      ],
      "text/plain": [
       "RandomForestClassifier(bootstrap=True, ccp_alpha=0.0, class_weight=None,\n",
       "                       criterion='gini', max_depth=None, max_features=None,\n",
       "                       max_leaf_nodes=None, max_samples=None,\n",
       "                       min_impurity_decrease=0.0, min_samples_leaf=1,\n",
       "                       min_samples_split=2, min_weight_fraction_leaf=0.0,\n",
       "                       n_estimators=100, n_jobs=None, oob_score=False,\n",
       "                       random_state=1, verbose=0, warm_start=False)"
      ]
     },
     "execution_count": 382,
     "metadata": {},
     "output_type": "execute_result"
    }
   ],
   "source": [
    "rf = RandomForestClassifier(max_features=None, random_state=1)\n",
    "rf"
   ]
  },
  {
   "cell_type": "code",
   "execution_count": 383,
   "id": "cb2adb38",
   "metadata": {},
   "outputs": [
    {
     "data": {
      "text/plain": [
       "array([0.64804469, 0.66292135, 0.68539326, 0.73595506, 0.74157303])"
      ]
     },
     "execution_count": 383,
     "metadata": {},
     "output_type": "execute_result"
    }
   ],
   "source": [
    "scores_rf = cross_val_score(rf, X, y)\n",
    "scores_rf"
   ]
  },
  {
   "cell_type": "code",
   "execution_count": 384,
   "id": "d785b98a",
   "metadata": {},
   "outputs": [
    {
     "data": {
      "text/plain": [
       "0.6947774778733288"
      ]
     },
     "execution_count": 384,
     "metadata": {},
     "output_type": "execute_result"
    }
   ],
   "source": [
    "scores_rf.mean()"
   ]
  },
  {
   "cell_type": "markdown",
   "id": "f5ba0cfc",
   "metadata": {},
   "source": [
    "### Ensemble for improved accuracy\n",
    "\n",
    "voting{‘hard’, ‘soft’}, default=’hard’\n",
    "\n",
    "    If ‘hard’, uses predicted class labels for majority rule voting. Else if ‘soft’, predicts the class label based on the argmax of the sums of the predicted probabilities, which is recommended for an ensemble of well-calibrated classifiers.\n",
    "\n",
    "https://scikit-learn.org/stable/modules/generated/sklearn.ensemble.VotingClassifier.html#sklearn.ensemble.VotingClassifier"
   ]
  },
  {
   "cell_type": "code",
   "execution_count": 385,
   "id": "48824d3e",
   "metadata": {},
   "outputs": [
    {
     "data": {
      "text/html": [
       "<style>#sk-53d9bfef-0e34-411b-bbf2-d354035a5ba0 {color: black;background-color: white;}#sk-53d9bfef-0e34-411b-bbf2-d354035a5ba0 pre{padding: 0;}#sk-53d9bfef-0e34-411b-bbf2-d354035a5ba0 div.sk-toggleable {background-color: white;}#sk-53d9bfef-0e34-411b-bbf2-d354035a5ba0 label.sk-toggleable__label {cursor: pointer;display: block;width: 100%;margin-bottom: 0;padding: 0.3em;box-sizing: border-box;text-align: center;}#sk-53d9bfef-0e34-411b-bbf2-d354035a5ba0 div.sk-toggleable__content {max-height: 0;max-width: 0;overflow: hidden;text-align: left;background-color: #f0f8ff;}#sk-53d9bfef-0e34-411b-bbf2-d354035a5ba0 div.sk-toggleable__content pre {margin: 0.2em;color: black;border-radius: 0.25em;background-color: #f0f8ff;}#sk-53d9bfef-0e34-411b-bbf2-d354035a5ba0 input.sk-toggleable__control:checked~div.sk-toggleable__content {max-height: 200px;max-width: 100%;overflow: auto;}#sk-53d9bfef-0e34-411b-bbf2-d354035a5ba0 div.sk-estimator input.sk-toggleable__control:checked~label.sk-toggleable__label {background-color: #d4ebff;}#sk-53d9bfef-0e34-411b-bbf2-d354035a5ba0 div.sk-label input.sk-toggleable__control:checked~label.sk-toggleable__label {background-color: #d4ebff;}#sk-53d9bfef-0e34-411b-bbf2-d354035a5ba0 input.sk-hidden--visually {border: 0;clip: rect(1px 1px 1px 1px);clip: rect(1px, 1px, 1px, 1px);height: 1px;margin: -1px;overflow: hidden;padding: 0;position: absolute;width: 1px;}#sk-53d9bfef-0e34-411b-bbf2-d354035a5ba0 div.sk-estimator {font-family: monospace;background-color: #f0f8ff;border: 1px dotted black;border-radius: 0.25em;box-sizing: border-box;margin-bottom: 0.5em;}#sk-53d9bfef-0e34-411b-bbf2-d354035a5ba0 div.sk-estimator:hover {background-color: #d4ebff;}#sk-53d9bfef-0e34-411b-bbf2-d354035a5ba0 div.sk-parallel-item::after {content: \"\";width: 100%;border-bottom: 1px solid gray;flex-grow: 1;}#sk-53d9bfef-0e34-411b-bbf2-d354035a5ba0 div.sk-label:hover label.sk-toggleable__label {background-color: #d4ebff;}#sk-53d9bfef-0e34-411b-bbf2-d354035a5ba0 div.sk-serial::before {content: \"\";position: absolute;border-left: 1px solid gray;box-sizing: border-box;top: 2em;bottom: 0;left: 50%;}#sk-53d9bfef-0e34-411b-bbf2-d354035a5ba0 div.sk-serial {display: flex;flex-direction: column;align-items: center;background-color: white;padding-right: 0.2em;padding-left: 0.2em;}#sk-53d9bfef-0e34-411b-bbf2-d354035a5ba0 div.sk-item {z-index: 1;}#sk-53d9bfef-0e34-411b-bbf2-d354035a5ba0 div.sk-parallel {display: flex;align-items: stretch;justify-content: center;background-color: white;}#sk-53d9bfef-0e34-411b-bbf2-d354035a5ba0 div.sk-parallel::before {content: \"\";position: absolute;border-left: 1px solid gray;box-sizing: border-box;top: 2em;bottom: 0;left: 50%;}#sk-53d9bfef-0e34-411b-bbf2-d354035a5ba0 div.sk-parallel-item {display: flex;flex-direction: column;position: relative;background-color: white;}#sk-53d9bfef-0e34-411b-bbf2-d354035a5ba0 div.sk-parallel-item:first-child::after {align-self: flex-end;width: 50%;}#sk-53d9bfef-0e34-411b-bbf2-d354035a5ba0 div.sk-parallel-item:last-child::after {align-self: flex-start;width: 50%;}#sk-53d9bfef-0e34-411b-bbf2-d354035a5ba0 div.sk-parallel-item:only-child::after {width: 0;}#sk-53d9bfef-0e34-411b-bbf2-d354035a5ba0 div.sk-dashed-wrapped {border: 1px dashed gray;margin: 0 0.4em 0.5em 0.4em;box-sizing: border-box;padding-bottom: 0.4em;background-color: white;position: relative;}#sk-53d9bfef-0e34-411b-bbf2-d354035a5ba0 div.sk-label label {font-family: monospace;font-weight: bold;background-color: white;display: inline-block;line-height: 1.2em;}#sk-53d9bfef-0e34-411b-bbf2-d354035a5ba0 div.sk-label-container {position: relative;z-index: 2;text-align: center;}#sk-53d9bfef-0e34-411b-bbf2-d354035a5ba0 div.sk-container {display: inline-block;position: relative;}</style><div id=\"sk-53d9bfef-0e34-411b-bbf2-d354035a5ba0\" class\"sk-top-container\"><div class=\"sk-container\"><div class=\"sk-item sk-dashed-wrapped\"><div class=\"sk-label-container\"><div class=\"sk-label sk-toggleable\"><input class=\"sk-toggleable__control sk-hidden--visually\" id=\"9154add9-99b1-452a-acc1-f92d333fd089\" type=\"checkbox\" ><label class=\"sk-toggleable__label\" for=\"9154add9-99b1-452a-acc1-f92d333fd089\">VotingClassifier</label><div class=\"sk-toggleable__content\"><pre>VotingClassifier(estimators=[('clf1',\n",
       "                              LogisticRegression(C=1.0, class_weight=None,\n",
       "                                                 dual=False, fit_intercept=True,\n",
       "                                                 intercept_scaling=1,\n",
       "                                                 l1_ratio=None, max_iter=100,\n",
       "                                                 multi_class='auto',\n",
       "                                                 n_jobs=None, penalty='l2',\n",
       "                                                 random_state=1,\n",
       "                                                 solver='liblinear', tol=0.0001,\n",
       "                                                 verbose=0, warm_start=False)),\n",
       "                             ('clf2',\n",
       "                              RandomForestClassifier(bootstrap=True,\n",
       "                                                     ccp_alpha=0.0,\n",
       "                                                     class_weight=None,\n",
       "                                                     criterion='gini',\n",
       "                                                     max_depth=None,\n",
       "                                                     max_features=None,\n",
       "                                                     max_leaf_nodes=None,\n",
       "                                                     max_samples=None,\n",
       "                                                     min_impurity_decrease=0.0,\n",
       "                                                     min_samples_leaf=1,\n",
       "                                                     min_samples_split=2,\n",
       "                                                     min_weight_fraction_leaf=0.0,\n",
       "                                                     n_estimators=100,\n",
       "                                                     n_jobs=None,\n",
       "                                                     oob_score=False,\n",
       "                                                     random_state=1, verbose=0,\n",
       "                                                     warm_start=False))],\n",
       "                 flatten_transform=True, n_jobs=None, verbose=False,\n",
       "                 voting='soft', weights=None)</pre></div></div></div><div class=\"sk-parallel\"><div class=\"sk-parallel-item\"><div class=\"sk-item\"><div class=\"sk-label-container\"><div class=\"sk-label sk-toggleable\"><label>clf1</label></div></div><div class=\"sk-serial\"><div class=\"sk-item\"><div class=\"sk-estimator sk-toggleable\"><input class=\"sk-toggleable__control sk-hidden--visually\" id=\"3ad67565-c760-4648-abd2-3d9cf46ec457\" type=\"checkbox\" ><label class=\"sk-toggleable__label\" for=\"3ad67565-c760-4648-abd2-3d9cf46ec457\">LogisticRegression</label><div class=\"sk-toggleable__content\"><pre>LogisticRegression(random_state=1, solver='liblinear')</pre></div></div></div></div></div></div><div class=\"sk-parallel-item\"><div class=\"sk-item\"><div class=\"sk-label-container\"><div class=\"sk-label sk-toggleable\"><label>clf2</label></div></div><div class=\"sk-serial\"><div class=\"sk-item\"><div class=\"sk-estimator sk-toggleable\"><input class=\"sk-toggleable__control sk-hidden--visually\" id=\"accc5aa9-9e71-4a65-a3f5-0f26ac0a2fe7\" type=\"checkbox\" ><label class=\"sk-toggleable__label\" for=\"accc5aa9-9e71-4a65-a3f5-0f26ac0a2fe7\">RandomForestClassifier</label><div class=\"sk-toggleable__content\"><pre>RandomForestClassifier(max_features=None, random_state=1)</pre></div></div></div></div></div></div></div></div></div></div>"
      ],
      "text/plain": [
       "VotingClassifier(estimators=[('clf1',\n",
       "                              LogisticRegression(C=1.0, class_weight=None,\n",
       "                                                 dual=False, fit_intercept=True,\n",
       "                                                 intercept_scaling=1,\n",
       "                                                 l1_ratio=None, max_iter=100,\n",
       "                                                 multi_class='auto',\n",
       "                                                 n_jobs=None, penalty='l2',\n",
       "                                                 random_state=1,\n",
       "                                                 solver='liblinear', tol=0.0001,\n",
       "                                                 verbose=0, warm_start=False)),\n",
       "                             ('clf2',\n",
       "                              RandomForestClassifier(bootstrap=True,\n",
       "                                                     ccp_alpha=0.0,\n",
       "                                                     class_weight=None,\n",
       "                                                     criterion='gini',\n",
       "                                                     max_depth=None,\n",
       "                                                     max_features=None,\n",
       "                                                     max_leaf_nodes=None,\n",
       "                                                     max_samples=None,\n",
       "                                                     min_impurity_decrease=0.0,\n",
       "                                                     min_samples_leaf=1,\n",
       "                                                     min_samples_split=2,\n",
       "                                                     min_weight_fraction_leaf=0.0,\n",
       "                                                     n_estimators=100,\n",
       "                                                     n_jobs=None,\n",
       "                                                     oob_score=False,\n",
       "                                                     random_state=1, verbose=0,\n",
       "                                                     warm_start=False))],\n",
       "                 flatten_transform=True, n_jobs=None, verbose=False,\n",
       "                 voting='soft', weights=None)"
      ]
     },
     "execution_count": 385,
     "metadata": {},
     "output_type": "execute_result"
    }
   ],
   "source": [
    "vc = VotingClassifier(\n",
    "    [(\"clf1\", lr), (\"clf2\", rf)],\n",
    "    voting=\"soft\"\n",
    ")\n",
    "vc"
   ]
  },
  {
   "cell_type": "code",
   "execution_count": 386,
   "id": "ae9d802c",
   "metadata": {},
   "outputs": [
    {
     "data": {
      "text/plain": [
       "array([0.65921788, 0.6741573 , 0.74157303, 0.76404494, 0.78651685])"
      ]
     },
     "execution_count": 386,
     "metadata": {},
     "output_type": "execute_result"
    }
   ],
   "source": [
    "scores_vc = cross_val_score(vc, X, y)\n",
    "scores_vc"
   ]
  },
  {
   "cell_type": "code",
   "execution_count": 387,
   "id": "257a0782",
   "metadata": {},
   "outputs": [
    {
     "data": {
      "text/plain": [
       "0.7251020023852865"
      ]
     },
     "execution_count": 387,
     "metadata": {},
     "output_type": "execute_result"
    }
   ],
   "source": [
    "scores_vc.mean()"
   ]
  },
  {
   "cell_type": "markdown",
   "id": "4d2348f3",
   "metadata": {},
   "source": [
    "## Tune the parameters of a VotingClassifier or VotingRegressor\n",
    "\n",
    "Want to improve the accuracy of your VotingClassifier? Try tuning the 'voting' and 'weights' parameters to change how predictions are combined!\n",
    "\n",
    "P.S. If you're using VotingRegressor, just tune the 'weights' parameter"
   ]
  },
  {
   "cell_type": "code",
   "execution_count": 388,
   "id": "0e2d4bda",
   "metadata": {},
   "outputs": [],
   "source": [
    "file_input_path = \"titanic_train.csv\"\n",
    "if not os.path.exists(file_input_path):\n",
    "    df_train = pd.read_csv(\"http://bit.ly/kaggletrain\")\n",
    "    df_train.to_csv(file_input_path, header=True, index=False, sep=\"\\t\")\n",
    "else:\n",
    "    df_train = pd.read_csv(file_input_path, header=0, sep=\"\\t\")\n",
    "   \n",
    "features = [\"Pclass\", \"Parch\", \"SibSp\", \"Fare\"]\n",
    "X, y = df_train[features], df_train[\"Survived\"]"
   ]
  },
  {
   "cell_type": "code",
   "execution_count": 389,
   "id": "c49ca37e",
   "metadata": {},
   "outputs": [],
   "source": [
    "from sklearn.linear_model import LogisticRegression\n",
    "from sklearn.naive_bayes import MultinomialNB\n",
    "from sklearn.ensemble import RandomForestClassifier, VotingClassifier\n",
    "from sklearn.model_selection import cross_val_score, GridSearchCV"
   ]
  },
  {
   "cell_type": "code",
   "execution_count": 390,
   "id": "da2feb96",
   "metadata": {},
   "outputs": [],
   "source": [
    "lr = LogisticRegression(solver=\"liblinear\", random_state=1)\n",
    "rf = RandomForestClassifier(max_features=None, random_state=1)\n",
    "nb = MultinomialNB()"
   ]
  },
  {
   "cell_type": "markdown",
   "id": "2bf1306b",
   "metadata": {},
   "source": [
    "### Ensemble of various models"
   ]
  },
  {
   "cell_type": "code",
   "execution_count": 391,
   "id": "91625556",
   "metadata": {},
   "outputs": [
    {
     "data": {
      "text/html": [
       "<style>#sk-4fb8c40b-0da3-4240-adad-1b3e22fb9138 {color: black;background-color: white;}#sk-4fb8c40b-0da3-4240-adad-1b3e22fb9138 pre{padding: 0;}#sk-4fb8c40b-0da3-4240-adad-1b3e22fb9138 div.sk-toggleable {background-color: white;}#sk-4fb8c40b-0da3-4240-adad-1b3e22fb9138 label.sk-toggleable__label {cursor: pointer;display: block;width: 100%;margin-bottom: 0;padding: 0.3em;box-sizing: border-box;text-align: center;}#sk-4fb8c40b-0da3-4240-adad-1b3e22fb9138 div.sk-toggleable__content {max-height: 0;max-width: 0;overflow: hidden;text-align: left;background-color: #f0f8ff;}#sk-4fb8c40b-0da3-4240-adad-1b3e22fb9138 div.sk-toggleable__content pre {margin: 0.2em;color: black;border-radius: 0.25em;background-color: #f0f8ff;}#sk-4fb8c40b-0da3-4240-adad-1b3e22fb9138 input.sk-toggleable__control:checked~div.sk-toggleable__content {max-height: 200px;max-width: 100%;overflow: auto;}#sk-4fb8c40b-0da3-4240-adad-1b3e22fb9138 div.sk-estimator input.sk-toggleable__control:checked~label.sk-toggleable__label {background-color: #d4ebff;}#sk-4fb8c40b-0da3-4240-adad-1b3e22fb9138 div.sk-label input.sk-toggleable__control:checked~label.sk-toggleable__label {background-color: #d4ebff;}#sk-4fb8c40b-0da3-4240-adad-1b3e22fb9138 input.sk-hidden--visually {border: 0;clip: rect(1px 1px 1px 1px);clip: rect(1px, 1px, 1px, 1px);height: 1px;margin: -1px;overflow: hidden;padding: 0;position: absolute;width: 1px;}#sk-4fb8c40b-0da3-4240-adad-1b3e22fb9138 div.sk-estimator {font-family: monospace;background-color: #f0f8ff;border: 1px dotted black;border-radius: 0.25em;box-sizing: border-box;margin-bottom: 0.5em;}#sk-4fb8c40b-0da3-4240-adad-1b3e22fb9138 div.sk-estimator:hover {background-color: #d4ebff;}#sk-4fb8c40b-0da3-4240-adad-1b3e22fb9138 div.sk-parallel-item::after {content: \"\";width: 100%;border-bottom: 1px solid gray;flex-grow: 1;}#sk-4fb8c40b-0da3-4240-adad-1b3e22fb9138 div.sk-label:hover label.sk-toggleable__label {background-color: #d4ebff;}#sk-4fb8c40b-0da3-4240-adad-1b3e22fb9138 div.sk-serial::before {content: \"\";position: absolute;border-left: 1px solid gray;box-sizing: border-box;top: 2em;bottom: 0;left: 50%;}#sk-4fb8c40b-0da3-4240-adad-1b3e22fb9138 div.sk-serial {display: flex;flex-direction: column;align-items: center;background-color: white;padding-right: 0.2em;padding-left: 0.2em;}#sk-4fb8c40b-0da3-4240-adad-1b3e22fb9138 div.sk-item {z-index: 1;}#sk-4fb8c40b-0da3-4240-adad-1b3e22fb9138 div.sk-parallel {display: flex;align-items: stretch;justify-content: center;background-color: white;}#sk-4fb8c40b-0da3-4240-adad-1b3e22fb9138 div.sk-parallel::before {content: \"\";position: absolute;border-left: 1px solid gray;box-sizing: border-box;top: 2em;bottom: 0;left: 50%;}#sk-4fb8c40b-0da3-4240-adad-1b3e22fb9138 div.sk-parallel-item {display: flex;flex-direction: column;position: relative;background-color: white;}#sk-4fb8c40b-0da3-4240-adad-1b3e22fb9138 div.sk-parallel-item:first-child::after {align-self: flex-end;width: 50%;}#sk-4fb8c40b-0da3-4240-adad-1b3e22fb9138 div.sk-parallel-item:last-child::after {align-self: flex-start;width: 50%;}#sk-4fb8c40b-0da3-4240-adad-1b3e22fb9138 div.sk-parallel-item:only-child::after {width: 0;}#sk-4fb8c40b-0da3-4240-adad-1b3e22fb9138 div.sk-dashed-wrapped {border: 1px dashed gray;margin: 0 0.4em 0.5em 0.4em;box-sizing: border-box;padding-bottom: 0.4em;background-color: white;position: relative;}#sk-4fb8c40b-0da3-4240-adad-1b3e22fb9138 div.sk-label label {font-family: monospace;font-weight: bold;background-color: white;display: inline-block;line-height: 1.2em;}#sk-4fb8c40b-0da3-4240-adad-1b3e22fb9138 div.sk-label-container {position: relative;z-index: 2;text-align: center;}#sk-4fb8c40b-0da3-4240-adad-1b3e22fb9138 div.sk-container {display: inline-block;position: relative;}</style><div id=\"sk-4fb8c40b-0da3-4240-adad-1b3e22fb9138\" class\"sk-top-container\"><div class=\"sk-container\"><div class=\"sk-item sk-dashed-wrapped\"><div class=\"sk-label-container\"><div class=\"sk-label sk-toggleable\"><input class=\"sk-toggleable__control sk-hidden--visually\" id=\"e4bb0f52-4d77-4231-9fc6-bb551425c67d\" type=\"checkbox\" ><label class=\"sk-toggleable__label\" for=\"e4bb0f52-4d77-4231-9fc6-bb551425c67d\">VotingClassifier</label><div class=\"sk-toggleable__content\"><pre>VotingClassifier(estimators=[('clf1',\n",
       "                              LogisticRegression(C=1.0, class_weight=None,\n",
       "                                                 dual=False, fit_intercept=True,\n",
       "                                                 intercept_scaling=1,\n",
       "                                                 l1_ratio=None, max_iter=100,\n",
       "                                                 multi_class='auto',\n",
       "                                                 n_jobs=None, penalty='l2',\n",
       "                                                 random_state=1,\n",
       "                                                 solver='liblinear', tol=0.0001,\n",
       "                                                 verbose=0, warm_start=False)),\n",
       "                             ('clf2',\n",
       "                              RandomForestClassifier(bootstrap=True,\n",
       "                                                     ccp_alpha=0.0,\n",
       "                                                     class_weight=No...\n",
       "                                                     max_leaf_nodes=None,\n",
       "                                                     max_samples=None,\n",
       "                                                     min_impurity_decrease=0.0,\n",
       "                                                     min_samples_leaf=1,\n",
       "                                                     min_samples_split=2,\n",
       "                                                     min_weight_fraction_leaf=0.0,\n",
       "                                                     n_estimators=100,\n",
       "                                                     n_jobs=None,\n",
       "                                                     oob_score=False,\n",
       "                                                     random_state=1, verbose=0,\n",
       "                                                     warm_start=False)),\n",
       "                             ('clf3',\n",
       "                              MultinomialNB(alpha=1.0, class_prior=None,\n",
       "                                            fit_prior=True))],\n",
       "                 flatten_transform=True, n_jobs=None, verbose=False,\n",
       "                 voting='hard', weights=None)</pre></div></div></div><div class=\"sk-parallel\"><div class=\"sk-parallel-item\"><div class=\"sk-item\"><div class=\"sk-label-container\"><div class=\"sk-label sk-toggleable\"><label>clf1</label></div></div><div class=\"sk-serial\"><div class=\"sk-item\"><div class=\"sk-estimator sk-toggleable\"><input class=\"sk-toggleable__control sk-hidden--visually\" id=\"f0bda3f6-361a-4b3f-a073-7ae693c6c2bb\" type=\"checkbox\" ><label class=\"sk-toggleable__label\" for=\"f0bda3f6-361a-4b3f-a073-7ae693c6c2bb\">LogisticRegression</label><div class=\"sk-toggleable__content\"><pre>LogisticRegression(random_state=1, solver='liblinear')</pre></div></div></div></div></div></div><div class=\"sk-parallel-item\"><div class=\"sk-item\"><div class=\"sk-label-container\"><div class=\"sk-label sk-toggleable\"><label>clf2</label></div></div><div class=\"sk-serial\"><div class=\"sk-item\"><div class=\"sk-estimator sk-toggleable\"><input class=\"sk-toggleable__control sk-hidden--visually\" id=\"60aecb3a-c6d2-4407-adc0-527e6826f180\" type=\"checkbox\" ><label class=\"sk-toggleable__label\" for=\"60aecb3a-c6d2-4407-adc0-527e6826f180\">RandomForestClassifier</label><div class=\"sk-toggleable__content\"><pre>RandomForestClassifier(max_features=None, random_state=1)</pre></div></div></div></div></div></div><div class=\"sk-parallel-item\"><div class=\"sk-item\"><div class=\"sk-label-container\"><div class=\"sk-label sk-toggleable\"><label>clf3</label></div></div><div class=\"sk-serial\"><div class=\"sk-item\"><div class=\"sk-estimator sk-toggleable\"><input class=\"sk-toggleable__control sk-hidden--visually\" id=\"0c27f35c-426d-41c9-8d07-c4a92f91db2d\" type=\"checkbox\" ><label class=\"sk-toggleable__label\" for=\"0c27f35c-426d-41c9-8d07-c4a92f91db2d\">MultinomialNB</label><div class=\"sk-toggleable__content\"><pre>MultinomialNB()</pre></div></div></div></div></div></div></div></div></div></div>"
      ],
      "text/plain": [
       "VotingClassifier(estimators=[('clf1',\n",
       "                              LogisticRegression(C=1.0, class_weight=None,\n",
       "                                                 dual=False, fit_intercept=True,\n",
       "                                                 intercept_scaling=1,\n",
       "                                                 l1_ratio=None, max_iter=100,\n",
       "                                                 multi_class='auto',\n",
       "                                                 n_jobs=None, penalty='l2',\n",
       "                                                 random_state=1,\n",
       "                                                 solver='liblinear', tol=0.0001,\n",
       "                                                 verbose=0, warm_start=False)),\n",
       "                             ('clf2',\n",
       "                              RandomForestClassifier(bootstrap=True,\n",
       "                                                     ccp_alpha=0.0,\n",
       "                                                     class_weight=No...\n",
       "                                                     max_leaf_nodes=None,\n",
       "                                                     max_samples=None,\n",
       "                                                     min_impurity_decrease=0.0,\n",
       "                                                     min_samples_leaf=1,\n",
       "                                                     min_samples_split=2,\n",
       "                                                     min_weight_fraction_leaf=0.0,\n",
       "                                                     n_estimators=100,\n",
       "                                                     n_jobs=None,\n",
       "                                                     oob_score=False,\n",
       "                                                     random_state=1, verbose=0,\n",
       "                                                     warm_start=False)),\n",
       "                             ('clf3',\n",
       "                              MultinomialNB(alpha=1.0, class_prior=None,\n",
       "                                            fit_prior=True))],\n",
       "                 flatten_transform=True, n_jobs=None, verbose=False,\n",
       "                 voting='hard', weights=None)"
      ]
     },
     "execution_count": 391,
     "metadata": {},
     "output_type": "execute_result"
    }
   ],
   "source": [
    "vc = VotingClassifier(\n",
    "    [(\"clf1\", lr), (\"clf2\", rf), (\"clf3\", nb)], \n",
    "    voting=\"hard\"\n",
    ")\n",
    "vc"
   ]
  },
  {
   "cell_type": "code",
   "execution_count": 392,
   "id": "6c13b4ce",
   "metadata": {},
   "outputs": [
    {
     "data": {
      "text/plain": [
       "array([0.62011173, 0.68539326, 0.6741573 , 0.74157303, 0.76404494])"
      ]
     },
     "execution_count": 392,
     "metadata": {},
     "output_type": "execute_result"
    }
   ],
   "source": [
    "scores = cross_val_score(vc, X, y)\n",
    "scores"
   ]
  },
  {
   "cell_type": "code",
   "execution_count": 393,
   "id": "a06bda57",
   "metadata": {},
   "outputs": [
    {
     "data": {
      "text/plain": [
       "0.6970560542338836"
      ]
     },
     "execution_count": 393,
     "metadata": {},
     "output_type": "execute_result"
    }
   ],
   "source": [
    "scores.mean()"
   ]
  },
  {
   "cell_type": "markdown",
   "id": "d9f13b7c",
   "metadata": {},
   "source": [
    "### Define parameters for GridSearchCV"
   ]
  },
  {
   "cell_type": "code",
   "execution_count": 394,
   "id": "4b63377e",
   "metadata": {},
   "outputs": [],
   "source": [
    "params = {\n",
    "    \"voting\": [\"hard\", \"soft\"],\n",
    "    \"weights\": [(1,1,1), (2,1,1), (1,2,1), (1,1,2)]\n",
    "}"
   ]
  },
  {
   "cell_type": "code",
   "execution_count": 395,
   "id": "bdf575d1",
   "metadata": {},
   "outputs": [
    {
     "data": {
      "text/html": [
       "<style>#sk-f98b60fe-fe34-457b-8183-ac9cf6718300 {color: black;background-color: white;}#sk-f98b60fe-fe34-457b-8183-ac9cf6718300 pre{padding: 0;}#sk-f98b60fe-fe34-457b-8183-ac9cf6718300 div.sk-toggleable {background-color: white;}#sk-f98b60fe-fe34-457b-8183-ac9cf6718300 label.sk-toggleable__label {cursor: pointer;display: block;width: 100%;margin-bottom: 0;padding: 0.3em;box-sizing: border-box;text-align: center;}#sk-f98b60fe-fe34-457b-8183-ac9cf6718300 div.sk-toggleable__content {max-height: 0;max-width: 0;overflow: hidden;text-align: left;background-color: #f0f8ff;}#sk-f98b60fe-fe34-457b-8183-ac9cf6718300 div.sk-toggleable__content pre {margin: 0.2em;color: black;border-radius: 0.25em;background-color: #f0f8ff;}#sk-f98b60fe-fe34-457b-8183-ac9cf6718300 input.sk-toggleable__control:checked~div.sk-toggleable__content {max-height: 200px;max-width: 100%;overflow: auto;}#sk-f98b60fe-fe34-457b-8183-ac9cf6718300 div.sk-estimator input.sk-toggleable__control:checked~label.sk-toggleable__label {background-color: #d4ebff;}#sk-f98b60fe-fe34-457b-8183-ac9cf6718300 div.sk-label input.sk-toggleable__control:checked~label.sk-toggleable__label {background-color: #d4ebff;}#sk-f98b60fe-fe34-457b-8183-ac9cf6718300 input.sk-hidden--visually {border: 0;clip: rect(1px 1px 1px 1px);clip: rect(1px, 1px, 1px, 1px);height: 1px;margin: -1px;overflow: hidden;padding: 0;position: absolute;width: 1px;}#sk-f98b60fe-fe34-457b-8183-ac9cf6718300 div.sk-estimator {font-family: monospace;background-color: #f0f8ff;border: 1px dotted black;border-radius: 0.25em;box-sizing: border-box;margin-bottom: 0.5em;}#sk-f98b60fe-fe34-457b-8183-ac9cf6718300 div.sk-estimator:hover {background-color: #d4ebff;}#sk-f98b60fe-fe34-457b-8183-ac9cf6718300 div.sk-parallel-item::after {content: \"\";width: 100%;border-bottom: 1px solid gray;flex-grow: 1;}#sk-f98b60fe-fe34-457b-8183-ac9cf6718300 div.sk-label:hover label.sk-toggleable__label {background-color: #d4ebff;}#sk-f98b60fe-fe34-457b-8183-ac9cf6718300 div.sk-serial::before {content: \"\";position: absolute;border-left: 1px solid gray;box-sizing: border-box;top: 2em;bottom: 0;left: 50%;}#sk-f98b60fe-fe34-457b-8183-ac9cf6718300 div.sk-serial {display: flex;flex-direction: column;align-items: center;background-color: white;padding-right: 0.2em;padding-left: 0.2em;}#sk-f98b60fe-fe34-457b-8183-ac9cf6718300 div.sk-item {z-index: 1;}#sk-f98b60fe-fe34-457b-8183-ac9cf6718300 div.sk-parallel {display: flex;align-items: stretch;justify-content: center;background-color: white;}#sk-f98b60fe-fe34-457b-8183-ac9cf6718300 div.sk-parallel::before {content: \"\";position: absolute;border-left: 1px solid gray;box-sizing: border-box;top: 2em;bottom: 0;left: 50%;}#sk-f98b60fe-fe34-457b-8183-ac9cf6718300 div.sk-parallel-item {display: flex;flex-direction: column;position: relative;background-color: white;}#sk-f98b60fe-fe34-457b-8183-ac9cf6718300 div.sk-parallel-item:first-child::after {align-self: flex-end;width: 50%;}#sk-f98b60fe-fe34-457b-8183-ac9cf6718300 div.sk-parallel-item:last-child::after {align-self: flex-start;width: 50%;}#sk-f98b60fe-fe34-457b-8183-ac9cf6718300 div.sk-parallel-item:only-child::after {width: 0;}#sk-f98b60fe-fe34-457b-8183-ac9cf6718300 div.sk-dashed-wrapped {border: 1px dashed gray;margin: 0 0.4em 0.5em 0.4em;box-sizing: border-box;padding-bottom: 0.4em;background-color: white;position: relative;}#sk-f98b60fe-fe34-457b-8183-ac9cf6718300 div.sk-label label {font-family: monospace;font-weight: bold;background-color: white;display: inline-block;line-height: 1.2em;}#sk-f98b60fe-fe34-457b-8183-ac9cf6718300 div.sk-label-container {position: relative;z-index: 2;text-align: center;}#sk-f98b60fe-fe34-457b-8183-ac9cf6718300 div.sk-container {display: inline-block;position: relative;}</style><div id=\"sk-f98b60fe-fe34-457b-8183-ac9cf6718300\" class\"sk-top-container\"><div class=\"sk-container\"><div class=\"sk-item sk-dashed-wrapped\"><div class=\"sk-label-container\"><div class=\"sk-label sk-toggleable\"><input class=\"sk-toggleable__control sk-hidden--visually\" id=\"0be6f506-3d82-42f2-8512-40936f090fc6\" type=\"checkbox\" ><label class=\"sk-toggleable__label\" for=\"0be6f506-3d82-42f2-8512-40936f090fc6\">GridSearchCV</label><div class=\"sk-toggleable__content\"><pre>GridSearchCV(cv=None, error_score=nan,\n",
       "             estimator=VotingClassifier(estimators=[('clf1',\n",
       "                                                     LogisticRegression(C=1.0,\n",
       "                                                                        class_weight=None,\n",
       "                                                                        dual=False,\n",
       "                                                                        fit_intercept=True,\n",
       "                                                                        intercept_scaling=1,\n",
       "                                                                        l1_ratio=None,\n",
       "                                                                        max_iter=100,\n",
       "                                                                        multi_class='auto',\n",
       "                                                                        n_jobs=None,\n",
       "                                                                        penalty='l2',\n",
       "                                                                        random_state=1,\n",
       "                                                                        solver='liblinear',\n",
       "                                                                        tol=0.0001,\n",
       "                                                                        verbose=0,\n",
       "                                                                        warm_start=False)),\n",
       "                                                    ('clf2',\n",
       "                                                     RandomForestClassifi...\n",
       "                                                                            verbose=0,\n",
       "                                                                            warm_start=False)),\n",
       "                                                    ('clf3',\n",
       "                                                     MultinomialNB(alpha=1.0,\n",
       "                                                                   class_prior=None,\n",
       "                                                                   fit_prior=True))],\n",
       "                                        flatten_transform=True, n_jobs=None,\n",
       "                                        verbose=False, voting='hard',\n",
       "                                        weights=None),\n",
       "             n_jobs=None,\n",
       "             param_grid={'voting': ['hard', 'soft'],\n",
       "                         'weights': [(1, 1, 1), (2, 1, 1), (1, 2, 1),\n",
       "                                     (1, 1, 2)]},\n",
       "             pre_dispatch='2*n_jobs', refit=True, return_train_score=False,\n",
       "             scoring=None, verbose=0)</pre></div></div></div><div class=\"sk-parallel\"><div class=\"sk-parallel-item\"><div class=\"sk-item\"><div class=\"sk-serial\"><div class=\"sk-item sk-dashed-wrapped\"><div class=\"sk-parallel\"><div class=\"sk-parallel-item\"><div class=\"sk-item\"><div class=\"sk-label-container\"><div class=\"sk-label sk-toggleable\"><label>clf1</label></div></div><div class=\"sk-serial\"><div class=\"sk-item\"><div class=\"sk-estimator sk-toggleable\"><input class=\"sk-toggleable__control sk-hidden--visually\" id=\"0af174dc-add6-4320-98a8-f06a37c4ffd7\" type=\"checkbox\" ><label class=\"sk-toggleable__label\" for=\"0af174dc-add6-4320-98a8-f06a37c4ffd7\">LogisticRegression</label><div class=\"sk-toggleable__content\"><pre>LogisticRegression(random_state=1, solver='liblinear')</pre></div></div></div></div></div></div><div class=\"sk-parallel-item\"><div class=\"sk-item\"><div class=\"sk-label-container\"><div class=\"sk-label sk-toggleable\"><label>clf2</label></div></div><div class=\"sk-serial\"><div class=\"sk-item\"><div class=\"sk-estimator sk-toggleable\"><input class=\"sk-toggleable__control sk-hidden--visually\" id=\"ed746985-0bf6-4073-8104-604989184078\" type=\"checkbox\" ><label class=\"sk-toggleable__label\" for=\"ed746985-0bf6-4073-8104-604989184078\">RandomForestClassifier</label><div class=\"sk-toggleable__content\"><pre>RandomForestClassifier(max_features=None, random_state=1)</pre></div></div></div></div></div></div><div class=\"sk-parallel-item\"><div class=\"sk-item\"><div class=\"sk-label-container\"><div class=\"sk-label sk-toggleable\"><label>clf3</label></div></div><div class=\"sk-serial\"><div class=\"sk-item\"><div class=\"sk-estimator sk-toggleable\"><input class=\"sk-toggleable__control sk-hidden--visually\" id=\"7eaba9fa-0cda-4fcf-9fdd-ab9df09492c5\" type=\"checkbox\" ><label class=\"sk-toggleable__label\" for=\"7eaba9fa-0cda-4fcf-9fdd-ab9df09492c5\">MultinomialNB</label><div class=\"sk-toggleable__content\"><pre>MultinomialNB()</pre></div></div></div></div></div></div></div></div></div></div></div></div></div></div></div>"
      ],
      "text/plain": [
       "GridSearchCV(cv=None, error_score=nan,\n",
       "             estimator=VotingClassifier(estimators=[('clf1',\n",
       "                                                     LogisticRegression(C=1.0,\n",
       "                                                                        class_weight=None,\n",
       "                                                                        dual=False,\n",
       "                                                                        fit_intercept=True,\n",
       "                                                                        intercept_scaling=1,\n",
       "                                                                        l1_ratio=None,\n",
       "                                                                        max_iter=100,\n",
       "                                                                        multi_class='auto',\n",
       "                                                                        n_jobs=None,\n",
       "                                                                        penalty='l2',\n",
       "                                                                        random_state=1,\n",
       "                                                                        solver='liblinear',\n",
       "                                                                        tol=0.0001,\n",
       "                                                                        verbose=0,\n",
       "                                                                        warm_start=False)),\n",
       "                                                    ('clf2',\n",
       "                                                     RandomForestClassifi...\n",
       "                                                                            verbose=0,\n",
       "                                                                            warm_start=False)),\n",
       "                                                    ('clf3',\n",
       "                                                     MultinomialNB(alpha=1.0,\n",
       "                                                                   class_prior=None,\n",
       "                                                                   fit_prior=True))],\n",
       "                                        flatten_transform=True, n_jobs=None,\n",
       "                                        verbose=False, voting='hard',\n",
       "                                        weights=None),\n",
       "             n_jobs=None,\n",
       "             param_grid={'voting': ['hard', 'soft'],\n",
       "                         'weights': [(1, 1, 1), (2, 1, 1), (1, 2, 1),\n",
       "                                     (1, 1, 2)]},\n",
       "             pre_dispatch='2*n_jobs', refit=True, return_train_score=False,\n",
       "             scoring=None, verbose=0)"
      ]
     },
     "execution_count": 395,
     "metadata": {},
     "output_type": "execute_result"
    }
   ],
   "source": [
    "grid = GridSearchCV(vc, param_grid=params)\n",
    "grid"
   ]
  },
  {
   "cell_type": "code",
   "execution_count": 396,
   "id": "1875c049",
   "metadata": {},
   "outputs": [
    {
     "data": {
      "text/html": [
       "<style>#sk-7f86d2c4-b025-44c8-8464-ad76fa582749 {color: black;background-color: white;}#sk-7f86d2c4-b025-44c8-8464-ad76fa582749 pre{padding: 0;}#sk-7f86d2c4-b025-44c8-8464-ad76fa582749 div.sk-toggleable {background-color: white;}#sk-7f86d2c4-b025-44c8-8464-ad76fa582749 label.sk-toggleable__label {cursor: pointer;display: block;width: 100%;margin-bottom: 0;padding: 0.3em;box-sizing: border-box;text-align: center;}#sk-7f86d2c4-b025-44c8-8464-ad76fa582749 div.sk-toggleable__content {max-height: 0;max-width: 0;overflow: hidden;text-align: left;background-color: #f0f8ff;}#sk-7f86d2c4-b025-44c8-8464-ad76fa582749 div.sk-toggleable__content pre {margin: 0.2em;color: black;border-radius: 0.25em;background-color: #f0f8ff;}#sk-7f86d2c4-b025-44c8-8464-ad76fa582749 input.sk-toggleable__control:checked~div.sk-toggleable__content {max-height: 200px;max-width: 100%;overflow: auto;}#sk-7f86d2c4-b025-44c8-8464-ad76fa582749 div.sk-estimator input.sk-toggleable__control:checked~label.sk-toggleable__label {background-color: #d4ebff;}#sk-7f86d2c4-b025-44c8-8464-ad76fa582749 div.sk-label input.sk-toggleable__control:checked~label.sk-toggleable__label {background-color: #d4ebff;}#sk-7f86d2c4-b025-44c8-8464-ad76fa582749 input.sk-hidden--visually {border: 0;clip: rect(1px 1px 1px 1px);clip: rect(1px, 1px, 1px, 1px);height: 1px;margin: -1px;overflow: hidden;padding: 0;position: absolute;width: 1px;}#sk-7f86d2c4-b025-44c8-8464-ad76fa582749 div.sk-estimator {font-family: monospace;background-color: #f0f8ff;border: 1px dotted black;border-radius: 0.25em;box-sizing: border-box;margin-bottom: 0.5em;}#sk-7f86d2c4-b025-44c8-8464-ad76fa582749 div.sk-estimator:hover {background-color: #d4ebff;}#sk-7f86d2c4-b025-44c8-8464-ad76fa582749 div.sk-parallel-item::after {content: \"\";width: 100%;border-bottom: 1px solid gray;flex-grow: 1;}#sk-7f86d2c4-b025-44c8-8464-ad76fa582749 div.sk-label:hover label.sk-toggleable__label {background-color: #d4ebff;}#sk-7f86d2c4-b025-44c8-8464-ad76fa582749 div.sk-serial::before {content: \"\";position: absolute;border-left: 1px solid gray;box-sizing: border-box;top: 2em;bottom: 0;left: 50%;}#sk-7f86d2c4-b025-44c8-8464-ad76fa582749 div.sk-serial {display: flex;flex-direction: column;align-items: center;background-color: white;padding-right: 0.2em;padding-left: 0.2em;}#sk-7f86d2c4-b025-44c8-8464-ad76fa582749 div.sk-item {z-index: 1;}#sk-7f86d2c4-b025-44c8-8464-ad76fa582749 div.sk-parallel {display: flex;align-items: stretch;justify-content: center;background-color: white;}#sk-7f86d2c4-b025-44c8-8464-ad76fa582749 div.sk-parallel::before {content: \"\";position: absolute;border-left: 1px solid gray;box-sizing: border-box;top: 2em;bottom: 0;left: 50%;}#sk-7f86d2c4-b025-44c8-8464-ad76fa582749 div.sk-parallel-item {display: flex;flex-direction: column;position: relative;background-color: white;}#sk-7f86d2c4-b025-44c8-8464-ad76fa582749 div.sk-parallel-item:first-child::after {align-self: flex-end;width: 50%;}#sk-7f86d2c4-b025-44c8-8464-ad76fa582749 div.sk-parallel-item:last-child::after {align-self: flex-start;width: 50%;}#sk-7f86d2c4-b025-44c8-8464-ad76fa582749 div.sk-parallel-item:only-child::after {width: 0;}#sk-7f86d2c4-b025-44c8-8464-ad76fa582749 div.sk-dashed-wrapped {border: 1px dashed gray;margin: 0 0.4em 0.5em 0.4em;box-sizing: border-box;padding-bottom: 0.4em;background-color: white;position: relative;}#sk-7f86d2c4-b025-44c8-8464-ad76fa582749 div.sk-label label {font-family: monospace;font-weight: bold;background-color: white;display: inline-block;line-height: 1.2em;}#sk-7f86d2c4-b025-44c8-8464-ad76fa582749 div.sk-label-container {position: relative;z-index: 2;text-align: center;}#sk-7f86d2c4-b025-44c8-8464-ad76fa582749 div.sk-container {display: inline-block;position: relative;}</style><div id=\"sk-7f86d2c4-b025-44c8-8464-ad76fa582749\" class\"sk-top-container\"><div class=\"sk-container\"><div class=\"sk-item sk-dashed-wrapped\"><div class=\"sk-label-container\"><div class=\"sk-label sk-toggleable\"><input class=\"sk-toggleable__control sk-hidden--visually\" id=\"f1f35f15-74e9-492b-96f9-ba90da6cbdf6\" type=\"checkbox\" ><label class=\"sk-toggleable__label\" for=\"f1f35f15-74e9-492b-96f9-ba90da6cbdf6\">GridSearchCV</label><div class=\"sk-toggleable__content\"><pre>GridSearchCV(cv=None, error_score=nan,\n",
       "             estimator=VotingClassifier(estimators=[('clf1',\n",
       "                                                     LogisticRegression(C=1.0,\n",
       "                                                                        class_weight=None,\n",
       "                                                                        dual=False,\n",
       "                                                                        fit_intercept=True,\n",
       "                                                                        intercept_scaling=1,\n",
       "                                                                        l1_ratio=None,\n",
       "                                                                        max_iter=100,\n",
       "                                                                        multi_class='auto',\n",
       "                                                                        n_jobs=None,\n",
       "                                                                        penalty='l2',\n",
       "                                                                        random_state=1,\n",
       "                                                                        solver='liblinear',\n",
       "                                                                        tol=0.0001,\n",
       "                                                                        verbose=0,\n",
       "                                                                        warm_start=False)),\n",
       "                                                    ('clf2',\n",
       "                                                     RandomForestClassifi...\n",
       "                                                                            verbose=0,\n",
       "                                                                            warm_start=False)),\n",
       "                                                    ('clf3',\n",
       "                                                     MultinomialNB(alpha=1.0,\n",
       "                                                                   class_prior=None,\n",
       "                                                                   fit_prior=True))],\n",
       "                                        flatten_transform=True, n_jobs=None,\n",
       "                                        verbose=False, voting='hard',\n",
       "                                        weights=None),\n",
       "             n_jobs=None,\n",
       "             param_grid={'voting': ['hard', 'soft'],\n",
       "                         'weights': [(1, 1, 1), (2, 1, 1), (1, 2, 1),\n",
       "                                     (1, 1, 2)]},\n",
       "             pre_dispatch='2*n_jobs', refit=True, return_train_score=False,\n",
       "             scoring=None, verbose=0)</pre></div></div></div><div class=\"sk-parallel\"><div class=\"sk-parallel-item\"><div class=\"sk-item\"><div class=\"sk-serial\"><div class=\"sk-item sk-dashed-wrapped\"><div class=\"sk-parallel\"><div class=\"sk-parallel-item\"><div class=\"sk-item\"><div class=\"sk-label-container\"><div class=\"sk-label sk-toggleable\"><label>clf1</label></div></div><div class=\"sk-serial\"><div class=\"sk-item\"><div class=\"sk-estimator sk-toggleable\"><input class=\"sk-toggleable__control sk-hidden--visually\" id=\"2cb613ef-ab02-4b5c-93aa-6beed679fe37\" type=\"checkbox\" ><label class=\"sk-toggleable__label\" for=\"2cb613ef-ab02-4b5c-93aa-6beed679fe37\">LogisticRegression</label><div class=\"sk-toggleable__content\"><pre>LogisticRegression(random_state=1, solver='liblinear')</pre></div></div></div></div></div></div><div class=\"sk-parallel-item\"><div class=\"sk-item\"><div class=\"sk-label-container\"><div class=\"sk-label sk-toggleable\"><label>clf2</label></div></div><div class=\"sk-serial\"><div class=\"sk-item\"><div class=\"sk-estimator sk-toggleable\"><input class=\"sk-toggleable__control sk-hidden--visually\" id=\"ac6a920a-d91a-45f5-ba79-2b32c513080a\" type=\"checkbox\" ><label class=\"sk-toggleable__label\" for=\"ac6a920a-d91a-45f5-ba79-2b32c513080a\">RandomForestClassifier</label><div class=\"sk-toggleable__content\"><pre>RandomForestClassifier(max_features=None, random_state=1)</pre></div></div></div></div></div></div><div class=\"sk-parallel-item\"><div class=\"sk-item\"><div class=\"sk-label-container\"><div class=\"sk-label sk-toggleable\"><label>clf3</label></div></div><div class=\"sk-serial\"><div class=\"sk-item\"><div class=\"sk-estimator sk-toggleable\"><input class=\"sk-toggleable__control sk-hidden--visually\" id=\"c70f8bca-e73f-4e40-be4b-ed017fa6a4ac\" type=\"checkbox\" ><label class=\"sk-toggleable__label\" for=\"c70f8bca-e73f-4e40-be4b-ed017fa6a4ac\">MultinomialNB</label><div class=\"sk-toggleable__content\"><pre>MultinomialNB()</pre></div></div></div></div></div></div></div></div></div></div></div></div></div></div></div>"
      ],
      "text/plain": [
       "GridSearchCV(cv=None, error_score=nan,\n",
       "             estimator=VotingClassifier(estimators=[('clf1',\n",
       "                                                     LogisticRegression(C=1.0,\n",
       "                                                                        class_weight=None,\n",
       "                                                                        dual=False,\n",
       "                                                                        fit_intercept=True,\n",
       "                                                                        intercept_scaling=1,\n",
       "                                                                        l1_ratio=None,\n",
       "                                                                        max_iter=100,\n",
       "                                                                        multi_class='auto',\n",
       "                                                                        n_jobs=None,\n",
       "                                                                        penalty='l2',\n",
       "                                                                        random_state=1,\n",
       "                                                                        solver='liblinear',\n",
       "                                                                        tol=0.0001,\n",
       "                                                                        verbose=0,\n",
       "                                                                        warm_start=False)),\n",
       "                                                    ('clf2',\n",
       "                                                     RandomForestClassifi...\n",
       "                                                                            verbose=0,\n",
       "                                                                            warm_start=False)),\n",
       "                                                    ('clf3',\n",
       "                                                     MultinomialNB(alpha=1.0,\n",
       "                                                                   class_prior=None,\n",
       "                                                                   fit_prior=True))],\n",
       "                                        flatten_transform=True, n_jobs=None,\n",
       "                                        verbose=False, voting='hard',\n",
       "                                        weights=None),\n",
       "             n_jobs=None,\n",
       "             param_grid={'voting': ['hard', 'soft'],\n",
       "                         'weights': [(1, 1, 1), (2, 1, 1), (1, 2, 1),\n",
       "                                     (1, 1, 2)]},\n",
       "             pre_dispatch='2*n_jobs', refit=True, return_train_score=False,\n",
       "             scoring=None, verbose=0)"
      ]
     },
     "execution_count": 396,
     "metadata": {},
     "output_type": "execute_result"
    }
   ],
   "source": [
    "grid.fit(X, y)"
   ]
  },
  {
   "cell_type": "code",
   "execution_count": 397,
   "id": "779071e9",
   "metadata": {},
   "outputs": [
    {
     "data": {
      "text/plain": [
       "{'voting': 'soft', 'weights': (1, 2, 1)}"
      ]
     },
     "execution_count": 397,
     "metadata": {},
     "output_type": "execute_result"
    }
   ],
   "source": [
    "grid.best_params_"
   ]
  },
  {
   "cell_type": "code",
   "execution_count": 398,
   "id": "9f5d017c",
   "metadata": {},
   "outputs": [
    {
     "data": {
      "text/html": [
       "<style>#sk-55782765-1884-45b9-957f-89cbbec1ef3f {color: black;background-color: white;}#sk-55782765-1884-45b9-957f-89cbbec1ef3f pre{padding: 0;}#sk-55782765-1884-45b9-957f-89cbbec1ef3f div.sk-toggleable {background-color: white;}#sk-55782765-1884-45b9-957f-89cbbec1ef3f label.sk-toggleable__label {cursor: pointer;display: block;width: 100%;margin-bottom: 0;padding: 0.3em;box-sizing: border-box;text-align: center;}#sk-55782765-1884-45b9-957f-89cbbec1ef3f div.sk-toggleable__content {max-height: 0;max-width: 0;overflow: hidden;text-align: left;background-color: #f0f8ff;}#sk-55782765-1884-45b9-957f-89cbbec1ef3f div.sk-toggleable__content pre {margin: 0.2em;color: black;border-radius: 0.25em;background-color: #f0f8ff;}#sk-55782765-1884-45b9-957f-89cbbec1ef3f input.sk-toggleable__control:checked~div.sk-toggleable__content {max-height: 200px;max-width: 100%;overflow: auto;}#sk-55782765-1884-45b9-957f-89cbbec1ef3f div.sk-estimator input.sk-toggleable__control:checked~label.sk-toggleable__label {background-color: #d4ebff;}#sk-55782765-1884-45b9-957f-89cbbec1ef3f div.sk-label input.sk-toggleable__control:checked~label.sk-toggleable__label {background-color: #d4ebff;}#sk-55782765-1884-45b9-957f-89cbbec1ef3f input.sk-hidden--visually {border: 0;clip: rect(1px 1px 1px 1px);clip: rect(1px, 1px, 1px, 1px);height: 1px;margin: -1px;overflow: hidden;padding: 0;position: absolute;width: 1px;}#sk-55782765-1884-45b9-957f-89cbbec1ef3f div.sk-estimator {font-family: monospace;background-color: #f0f8ff;border: 1px dotted black;border-radius: 0.25em;box-sizing: border-box;margin-bottom: 0.5em;}#sk-55782765-1884-45b9-957f-89cbbec1ef3f div.sk-estimator:hover {background-color: #d4ebff;}#sk-55782765-1884-45b9-957f-89cbbec1ef3f div.sk-parallel-item::after {content: \"\";width: 100%;border-bottom: 1px solid gray;flex-grow: 1;}#sk-55782765-1884-45b9-957f-89cbbec1ef3f div.sk-label:hover label.sk-toggleable__label {background-color: #d4ebff;}#sk-55782765-1884-45b9-957f-89cbbec1ef3f div.sk-serial::before {content: \"\";position: absolute;border-left: 1px solid gray;box-sizing: border-box;top: 2em;bottom: 0;left: 50%;}#sk-55782765-1884-45b9-957f-89cbbec1ef3f div.sk-serial {display: flex;flex-direction: column;align-items: center;background-color: white;padding-right: 0.2em;padding-left: 0.2em;}#sk-55782765-1884-45b9-957f-89cbbec1ef3f div.sk-item {z-index: 1;}#sk-55782765-1884-45b9-957f-89cbbec1ef3f div.sk-parallel {display: flex;align-items: stretch;justify-content: center;background-color: white;}#sk-55782765-1884-45b9-957f-89cbbec1ef3f div.sk-parallel::before {content: \"\";position: absolute;border-left: 1px solid gray;box-sizing: border-box;top: 2em;bottom: 0;left: 50%;}#sk-55782765-1884-45b9-957f-89cbbec1ef3f div.sk-parallel-item {display: flex;flex-direction: column;position: relative;background-color: white;}#sk-55782765-1884-45b9-957f-89cbbec1ef3f div.sk-parallel-item:first-child::after {align-self: flex-end;width: 50%;}#sk-55782765-1884-45b9-957f-89cbbec1ef3f div.sk-parallel-item:last-child::after {align-self: flex-start;width: 50%;}#sk-55782765-1884-45b9-957f-89cbbec1ef3f div.sk-parallel-item:only-child::after {width: 0;}#sk-55782765-1884-45b9-957f-89cbbec1ef3f div.sk-dashed-wrapped {border: 1px dashed gray;margin: 0 0.4em 0.5em 0.4em;box-sizing: border-box;padding-bottom: 0.4em;background-color: white;position: relative;}#sk-55782765-1884-45b9-957f-89cbbec1ef3f div.sk-label label {font-family: monospace;font-weight: bold;background-color: white;display: inline-block;line-height: 1.2em;}#sk-55782765-1884-45b9-957f-89cbbec1ef3f div.sk-label-container {position: relative;z-index: 2;text-align: center;}#sk-55782765-1884-45b9-957f-89cbbec1ef3f div.sk-container {display: inline-block;position: relative;}</style><div id=\"sk-55782765-1884-45b9-957f-89cbbec1ef3f\" class\"sk-top-container\"><div class=\"sk-container\"><div class=\"sk-item sk-dashed-wrapped\"><div class=\"sk-label-container\"><div class=\"sk-label sk-toggleable\"><input class=\"sk-toggleable__control sk-hidden--visually\" id=\"f95b12bd-ed6f-4319-a940-1cfcd77f32bd\" type=\"checkbox\" ><label class=\"sk-toggleable__label\" for=\"f95b12bd-ed6f-4319-a940-1cfcd77f32bd\">VotingClassifier</label><div class=\"sk-toggleable__content\"><pre>VotingClassifier(estimators=[('clf1',\n",
       "                              LogisticRegression(C=1.0, class_weight=None,\n",
       "                                                 dual=False, fit_intercept=True,\n",
       "                                                 intercept_scaling=1,\n",
       "                                                 l1_ratio=None, max_iter=100,\n",
       "                                                 multi_class='auto',\n",
       "                                                 n_jobs=None, penalty='l2',\n",
       "                                                 random_state=1,\n",
       "                                                 solver='liblinear', tol=0.0001,\n",
       "                                                 verbose=0, warm_start=False)),\n",
       "                             ('clf2',\n",
       "                              RandomForestClassifier(bootstrap=True,\n",
       "                                                     ccp_alpha=0.0,\n",
       "                                                     class_weight=No...\n",
       "                                                     max_leaf_nodes=None,\n",
       "                                                     max_samples=None,\n",
       "                                                     min_impurity_decrease=0.0,\n",
       "                                                     min_samples_leaf=1,\n",
       "                                                     min_samples_split=2,\n",
       "                                                     min_weight_fraction_leaf=0.0,\n",
       "                                                     n_estimators=100,\n",
       "                                                     n_jobs=None,\n",
       "                                                     oob_score=False,\n",
       "                                                     random_state=1, verbose=0,\n",
       "                                                     warm_start=False)),\n",
       "                             ('clf3',\n",
       "                              MultinomialNB(alpha=1.0, class_prior=None,\n",
       "                                            fit_prior=True))],\n",
       "                 flatten_transform=True, n_jobs=None, verbose=False,\n",
       "                 voting='soft', weights=(1, 2, 1))</pre></div></div></div><div class=\"sk-parallel\"><div class=\"sk-parallel-item\"><div class=\"sk-item\"><div class=\"sk-label-container\"><div class=\"sk-label sk-toggleable\"><label>clf1</label></div></div><div class=\"sk-serial\"><div class=\"sk-item\"><div class=\"sk-estimator sk-toggleable\"><input class=\"sk-toggleable__control sk-hidden--visually\" id=\"bbd06f2b-4415-4799-a508-f972a632d4ad\" type=\"checkbox\" ><label class=\"sk-toggleable__label\" for=\"bbd06f2b-4415-4799-a508-f972a632d4ad\">LogisticRegression</label><div class=\"sk-toggleable__content\"><pre>LogisticRegression(random_state=1, solver='liblinear')</pre></div></div></div></div></div></div><div class=\"sk-parallel-item\"><div class=\"sk-item\"><div class=\"sk-label-container\"><div class=\"sk-label sk-toggleable\"><label>clf2</label></div></div><div class=\"sk-serial\"><div class=\"sk-item\"><div class=\"sk-estimator sk-toggleable\"><input class=\"sk-toggleable__control sk-hidden--visually\" id=\"ebd32cbc-e350-436e-8d0c-2afcee40dbd9\" type=\"checkbox\" ><label class=\"sk-toggleable__label\" for=\"ebd32cbc-e350-436e-8d0c-2afcee40dbd9\">RandomForestClassifier</label><div class=\"sk-toggleable__content\"><pre>RandomForestClassifier(max_features=None, random_state=1)</pre></div></div></div></div></div></div><div class=\"sk-parallel-item\"><div class=\"sk-item\"><div class=\"sk-label-container\"><div class=\"sk-label sk-toggleable\"><label>clf3</label></div></div><div class=\"sk-serial\"><div class=\"sk-item\"><div class=\"sk-estimator sk-toggleable\"><input class=\"sk-toggleable__control sk-hidden--visually\" id=\"9a9afe9a-6058-4dc2-b754-2eb0d6e8031a\" type=\"checkbox\" ><label class=\"sk-toggleable__label\" for=\"9a9afe9a-6058-4dc2-b754-2eb0d6e8031a\">MultinomialNB</label><div class=\"sk-toggleable__content\"><pre>MultinomialNB()</pre></div></div></div></div></div></div></div></div></div></div>"
      ],
      "text/plain": [
       "VotingClassifier(estimators=[('clf1',\n",
       "                              LogisticRegression(C=1.0, class_weight=None,\n",
       "                                                 dual=False, fit_intercept=True,\n",
       "                                                 intercept_scaling=1,\n",
       "                                                 l1_ratio=None, max_iter=100,\n",
       "                                                 multi_class='auto',\n",
       "                                                 n_jobs=None, penalty='l2',\n",
       "                                                 random_state=1,\n",
       "                                                 solver='liblinear', tol=0.0001,\n",
       "                                                 verbose=0, warm_start=False)),\n",
       "                             ('clf2',\n",
       "                              RandomForestClassifier(bootstrap=True,\n",
       "                                                     ccp_alpha=0.0,\n",
       "                                                     class_weight=No...\n",
       "                                                     max_leaf_nodes=None,\n",
       "                                                     max_samples=None,\n",
       "                                                     min_impurity_decrease=0.0,\n",
       "                                                     min_samples_leaf=1,\n",
       "                                                     min_samples_split=2,\n",
       "                                                     min_weight_fraction_leaf=0.0,\n",
       "                                                     n_estimators=100,\n",
       "                                                     n_jobs=None,\n",
       "                                                     oob_score=False,\n",
       "                                                     random_state=1, verbose=0,\n",
       "                                                     warm_start=False)),\n",
       "                             ('clf3',\n",
       "                              MultinomialNB(alpha=1.0, class_prior=None,\n",
       "                                            fit_prior=True))],\n",
       "                 flatten_transform=True, n_jobs=None, verbose=False,\n",
       "                 voting='soft', weights=(1, 2, 1))"
      ]
     },
     "execution_count": 398,
     "metadata": {},
     "output_type": "execute_result"
    }
   ],
   "source": [
    "grid.best_estimator_"
   ]
  },
  {
   "cell_type": "code",
   "execution_count": 399,
   "id": "b6a28331",
   "metadata": {},
   "outputs": [
    {
     "data": {
      "text/plain": [
       "0.7262820915196786"
      ]
     },
     "execution_count": 399,
     "metadata": {},
     "output_type": "execute_result"
    }
   ],
   "source": [
    "grid.best_score_"
   ]
  },
  {
   "cell_type": "markdown",
   "id": "001a08b2",
   "metadata": {},
   "source": [
    "# Feature Engineering"
   ]
  },
  {
   "cell_type": "markdown",
   "id": "cb21d4ef",
   "metadata": {},
   "source": [
    "## Vectorize two text columns in a ColumnTransformer\n",
    "\n",
    "Want to [vectorize](https://scikit-learn.org/stable/modules/generated/sklearn.feature_extraction.text.CountVectorizer.html) two text columns in a ColumnTransformer?\n",
    "\n",
    "You can't pass them in a list, but you can pass the vectorizer twice! (They'll learn separate vocabularies.)"
   ]
  },
  {
   "cell_type": "code",
   "execution_count": 400,
   "id": "b8612e9e",
   "metadata": {},
   "outputs": [],
   "source": [
    "file_input_path = \"titanic_train.csv\"\n",
    "if not os.path.exists(file_input_path):\n",
    "    df_train = pd.read_csv(\"http://bit.ly/kaggletrain\")\n",
    "    df_train.to_csv(file_input_path, header=True, index=False, sep=\"\\t\")\n",
    "else:\n",
    "    df_train = pd.read_csv(file_input_path, header=0, sep=\"\\t\")"
   ]
  },
  {
   "cell_type": "code",
   "execution_count": 401,
   "id": "3295987f",
   "metadata": {},
   "outputs": [
    {
     "data": {
      "text/html": [
       "<div>\n",
       "<style scoped>\n",
       "    .dataframe tbody tr th:only-of-type {\n",
       "        vertical-align: middle;\n",
       "    }\n",
       "\n",
       "    .dataframe tbody tr th {\n",
       "        vertical-align: top;\n",
       "    }\n",
       "\n",
       "    .dataframe thead th {\n",
       "        text-align: right;\n",
       "    }\n",
       "</style>\n",
       "<table border=\"1\" class=\"dataframe\">\n",
       "  <thead>\n",
       "    <tr style=\"text-align: right;\">\n",
       "      <th></th>\n",
       "      <th>PassengerId</th>\n",
       "      <th>Survived</th>\n",
       "      <th>Pclass</th>\n",
       "      <th>Name</th>\n",
       "      <th>Sex</th>\n",
       "      <th>Age</th>\n",
       "      <th>SibSp</th>\n",
       "      <th>Parch</th>\n",
       "      <th>Ticket</th>\n",
       "      <th>Fare</th>\n",
       "      <th>Cabin</th>\n",
       "      <th>Embarked</th>\n",
       "    </tr>\n",
       "  </thead>\n",
       "  <tbody>\n",
       "    <tr>\n",
       "      <th>0</th>\n",
       "      <td>1</td>\n",
       "      <td>0</td>\n",
       "      <td>3</td>\n",
       "      <td>Braund, Mr. Owen Harris</td>\n",
       "      <td>male</td>\n",
       "      <td>22.0</td>\n",
       "      <td>1</td>\n",
       "      <td>0</td>\n",
       "      <td>A/5 21171</td>\n",
       "      <td>7.2500</td>\n",
       "      <td>NaN</td>\n",
       "      <td>S</td>\n",
       "    </tr>\n",
       "    <tr>\n",
       "      <th>1</th>\n",
       "      <td>2</td>\n",
       "      <td>1</td>\n",
       "      <td>1</td>\n",
       "      <td>Cumings, Mrs. John Bradley (Florence Briggs Th...</td>\n",
       "      <td>female</td>\n",
       "      <td>38.0</td>\n",
       "      <td>1</td>\n",
       "      <td>0</td>\n",
       "      <td>PC 17599</td>\n",
       "      <td>71.2833</td>\n",
       "      <td>C85</td>\n",
       "      <td>C</td>\n",
       "    </tr>\n",
       "  </tbody>\n",
       "</table>\n",
       "</div>"
      ],
      "text/plain": [
       "   PassengerId  Survived  Pclass  \\\n",
       "0            1         0       3   \n",
       "1            2         1       1   \n",
       "\n",
       "                                                Name     Sex   Age  SibSp  \\\n",
       "0                            Braund, Mr. Owen Harris    male  22.0      1   \n",
       "1  Cumings, Mrs. John Bradley (Florence Briggs Th...  female  38.0      1   \n",
       "\n",
       "   Parch     Ticket     Fare Cabin Embarked  \n",
       "0      0  A/5 21171   7.2500   NaN        S  \n",
       "1      0   PC 17599  71.2833   C85        C  "
      ]
     },
     "execution_count": 401,
     "metadata": {},
     "output_type": "execute_result"
    }
   ],
   "source": [
    "df_train.head(2)"
   ]
  },
  {
   "cell_type": "code",
   "execution_count": 402,
   "id": "5d628a7c",
   "metadata": {},
   "outputs": [
    {
     "data": {
      "text/html": [
       "<div>\n",
       "<style scoped>\n",
       "    .dataframe tbody tr th:only-of-type {\n",
       "        vertical-align: middle;\n",
       "    }\n",
       "\n",
       "    .dataframe tbody tr th {\n",
       "        vertical-align: top;\n",
       "    }\n",
       "\n",
       "    .dataframe thead th {\n",
       "        text-align: right;\n",
       "    }\n",
       "</style>\n",
       "<table border=\"1\" class=\"dataframe\">\n",
       "  <thead>\n",
       "    <tr style=\"text-align: right;\">\n",
       "      <th></th>\n",
       "      <th>Name</th>\n",
       "      <th>Cabin</th>\n",
       "    </tr>\n",
       "  </thead>\n",
       "  <tbody>\n",
       "    <tr>\n",
       "      <th>0</th>\n",
       "      <td>Braund, Mr. Owen Harris</td>\n",
       "      <td>NaN</td>\n",
       "    </tr>\n",
       "    <tr>\n",
       "      <th>1</th>\n",
       "      <td>Cumings, Mrs. John Bradley (Florence Briggs Th...</td>\n",
       "      <td>C85</td>\n",
       "    </tr>\n",
       "  </tbody>\n",
       "</table>\n",
       "</div>"
      ],
      "text/plain": [
       "                                                Name Cabin\n",
       "0                            Braund, Mr. Owen Harris   NaN\n",
       "1  Cumings, Mrs. John Bradley (Florence Briggs Th...   C85"
      ]
     },
     "execution_count": 402,
     "metadata": {},
     "output_type": "execute_result"
    }
   ],
   "source": [
    "X = df_train[[\"Name\", \"Cabin\"]]\n",
    "X.head(2)"
   ]
  },
  {
   "cell_type": "code",
   "execution_count": 403,
   "id": "5777c624",
   "metadata": {},
   "outputs": [
    {
     "data": {
      "text/html": [
       "<div>\n",
       "<style scoped>\n",
       "    .dataframe tbody tr th:only-of-type {\n",
       "        vertical-align: middle;\n",
       "    }\n",
       "\n",
       "    .dataframe tbody tr th {\n",
       "        vertical-align: top;\n",
       "    }\n",
       "\n",
       "    .dataframe thead th {\n",
       "        text-align: right;\n",
       "    }\n",
       "</style>\n",
       "<table border=\"1\" class=\"dataframe\">\n",
       "  <thead>\n",
       "    <tr style=\"text-align: right;\">\n",
       "      <th></th>\n",
       "      <th>Name</th>\n",
       "      <th>Cabin</th>\n",
       "    </tr>\n",
       "  </thead>\n",
       "  <tbody>\n",
       "    <tr>\n",
       "      <th>1</th>\n",
       "      <td>Cumings, Mrs. John Bradley (Florence Briggs Th...</td>\n",
       "      <td>C85</td>\n",
       "    </tr>\n",
       "    <tr>\n",
       "      <th>3</th>\n",
       "      <td>Futrelle, Mrs. Jacques Heath (Lily May Peel)</td>\n",
       "      <td>C123</td>\n",
       "    </tr>\n",
       "  </tbody>\n",
       "</table>\n",
       "</div>"
      ],
      "text/plain": [
       "                                                Name Cabin\n",
       "1  Cumings, Mrs. John Bradley (Florence Briggs Th...   C85\n",
       "3       Futrelle, Mrs. Jacques Heath (Lily May Peel)  C123"
      ]
     },
     "execution_count": 403,
     "metadata": {},
     "output_type": "execute_result"
    }
   ],
   "source": [
    "X = X.dropna()\n",
    "X.head(2)"
   ]
  },
  {
   "cell_type": "code",
   "execution_count": 404,
   "id": "e9b928a8",
   "metadata": {},
   "outputs": [],
   "source": [
    "from sklearn.feature_extraction.text import CountVectorizer\n",
    "from sklearn.compose import make_column_transformer"
   ]
  },
  {
   "cell_type": "code",
   "execution_count": 405,
   "id": "ebdd4db6",
   "metadata": {},
   "outputs": [
    {
     "data": {
      "text/html": [
       "<style>#sk-587df34d-af06-436c-92ac-6f9f2832b38b {color: black;background-color: white;}#sk-587df34d-af06-436c-92ac-6f9f2832b38b pre{padding: 0;}#sk-587df34d-af06-436c-92ac-6f9f2832b38b div.sk-toggleable {background-color: white;}#sk-587df34d-af06-436c-92ac-6f9f2832b38b label.sk-toggleable__label {cursor: pointer;display: block;width: 100%;margin-bottom: 0;padding: 0.3em;box-sizing: border-box;text-align: center;}#sk-587df34d-af06-436c-92ac-6f9f2832b38b div.sk-toggleable__content {max-height: 0;max-width: 0;overflow: hidden;text-align: left;background-color: #f0f8ff;}#sk-587df34d-af06-436c-92ac-6f9f2832b38b div.sk-toggleable__content pre {margin: 0.2em;color: black;border-radius: 0.25em;background-color: #f0f8ff;}#sk-587df34d-af06-436c-92ac-6f9f2832b38b input.sk-toggleable__control:checked~div.sk-toggleable__content {max-height: 200px;max-width: 100%;overflow: auto;}#sk-587df34d-af06-436c-92ac-6f9f2832b38b div.sk-estimator input.sk-toggleable__control:checked~label.sk-toggleable__label {background-color: #d4ebff;}#sk-587df34d-af06-436c-92ac-6f9f2832b38b div.sk-label input.sk-toggleable__control:checked~label.sk-toggleable__label {background-color: #d4ebff;}#sk-587df34d-af06-436c-92ac-6f9f2832b38b input.sk-hidden--visually {border: 0;clip: rect(1px 1px 1px 1px);clip: rect(1px, 1px, 1px, 1px);height: 1px;margin: -1px;overflow: hidden;padding: 0;position: absolute;width: 1px;}#sk-587df34d-af06-436c-92ac-6f9f2832b38b div.sk-estimator {font-family: monospace;background-color: #f0f8ff;border: 1px dotted black;border-radius: 0.25em;box-sizing: border-box;margin-bottom: 0.5em;}#sk-587df34d-af06-436c-92ac-6f9f2832b38b div.sk-estimator:hover {background-color: #d4ebff;}#sk-587df34d-af06-436c-92ac-6f9f2832b38b div.sk-parallel-item::after {content: \"\";width: 100%;border-bottom: 1px solid gray;flex-grow: 1;}#sk-587df34d-af06-436c-92ac-6f9f2832b38b div.sk-label:hover label.sk-toggleable__label {background-color: #d4ebff;}#sk-587df34d-af06-436c-92ac-6f9f2832b38b div.sk-serial::before {content: \"\";position: absolute;border-left: 1px solid gray;box-sizing: border-box;top: 2em;bottom: 0;left: 50%;}#sk-587df34d-af06-436c-92ac-6f9f2832b38b div.sk-serial {display: flex;flex-direction: column;align-items: center;background-color: white;padding-right: 0.2em;padding-left: 0.2em;}#sk-587df34d-af06-436c-92ac-6f9f2832b38b div.sk-item {z-index: 1;}#sk-587df34d-af06-436c-92ac-6f9f2832b38b div.sk-parallel {display: flex;align-items: stretch;justify-content: center;background-color: white;}#sk-587df34d-af06-436c-92ac-6f9f2832b38b div.sk-parallel::before {content: \"\";position: absolute;border-left: 1px solid gray;box-sizing: border-box;top: 2em;bottom: 0;left: 50%;}#sk-587df34d-af06-436c-92ac-6f9f2832b38b div.sk-parallel-item {display: flex;flex-direction: column;position: relative;background-color: white;}#sk-587df34d-af06-436c-92ac-6f9f2832b38b div.sk-parallel-item:first-child::after {align-self: flex-end;width: 50%;}#sk-587df34d-af06-436c-92ac-6f9f2832b38b div.sk-parallel-item:last-child::after {align-self: flex-start;width: 50%;}#sk-587df34d-af06-436c-92ac-6f9f2832b38b div.sk-parallel-item:only-child::after {width: 0;}#sk-587df34d-af06-436c-92ac-6f9f2832b38b div.sk-dashed-wrapped {border: 1px dashed gray;margin: 0 0.4em 0.5em 0.4em;box-sizing: border-box;padding-bottom: 0.4em;background-color: white;position: relative;}#sk-587df34d-af06-436c-92ac-6f9f2832b38b div.sk-label label {font-family: monospace;font-weight: bold;background-color: white;display: inline-block;line-height: 1.2em;}#sk-587df34d-af06-436c-92ac-6f9f2832b38b div.sk-label-container {position: relative;z-index: 2;text-align: center;}#sk-587df34d-af06-436c-92ac-6f9f2832b38b div.sk-container {display: inline-block;position: relative;}</style><div id=\"sk-587df34d-af06-436c-92ac-6f9f2832b38b\" class\"sk-top-container\"><div class=\"sk-container\"><div class=\"sk-item\"><div class=\"sk-estimator sk-toggleable\"><input class=\"sk-toggleable__control sk-hidden--visually\" id=\"fc24cc9d-f62a-4aa8-9926-cead019b81ac\" type=\"checkbox\" checked><label class=\"sk-toggleable__label\" for=\"fc24cc9d-f62a-4aa8-9926-cead019b81ac\">CountVectorizer</label><div class=\"sk-toggleable__content\"><pre>CountVectorizer(analyzer='word', binary=False, decode_error='strict',\n",
       "                dtype=<class 'numpy.int64'>, encoding='utf-8', input='content',\n",
       "                lowercase=True, max_df=1.0, max_features=None, min_df=1,\n",
       "                ngram_range=(1, 1), preprocessor=None, stop_words=None,\n",
       "                strip_accents=None, token_pattern='(?u)\\\\b\\\\w\\\\w+\\\\b',\n",
       "                tokenizer=None, vocabulary=None)</pre></div></div></div></div></div>"
      ],
      "text/plain": [
       "CountVectorizer(analyzer='word', binary=False, decode_error='strict',\n",
       "                dtype=<class 'numpy.int64'>, encoding='utf-8', input='content',\n",
       "                lowercase=True, max_df=1.0, max_features=None, min_df=1,\n",
       "                ngram_range=(1, 1), preprocessor=None, stop_words=None,\n",
       "                strip_accents=None, token_pattern='(?u)\\\\b\\\\w\\\\w+\\\\b',\n",
       "                tokenizer=None, vocabulary=None)"
      ]
     },
     "execution_count": 405,
     "metadata": {},
     "output_type": "execute_result"
    }
   ],
   "source": [
    "vect = CountVectorizer()\n",
    "vect"
   ]
  },
  {
   "cell_type": "code",
   "execution_count": 406,
   "id": "b4c9aefb",
   "metadata": {},
   "outputs": [
    {
     "data": {
      "text/html": [
       "<style>#sk-aa73d7e1-bea5-4694-9335-b2e9c17afa4a {color: black;background-color: white;}#sk-aa73d7e1-bea5-4694-9335-b2e9c17afa4a pre{padding: 0;}#sk-aa73d7e1-bea5-4694-9335-b2e9c17afa4a div.sk-toggleable {background-color: white;}#sk-aa73d7e1-bea5-4694-9335-b2e9c17afa4a label.sk-toggleable__label {cursor: pointer;display: block;width: 100%;margin-bottom: 0;padding: 0.3em;box-sizing: border-box;text-align: center;}#sk-aa73d7e1-bea5-4694-9335-b2e9c17afa4a div.sk-toggleable__content {max-height: 0;max-width: 0;overflow: hidden;text-align: left;background-color: #f0f8ff;}#sk-aa73d7e1-bea5-4694-9335-b2e9c17afa4a div.sk-toggleable__content pre {margin: 0.2em;color: black;border-radius: 0.25em;background-color: #f0f8ff;}#sk-aa73d7e1-bea5-4694-9335-b2e9c17afa4a input.sk-toggleable__control:checked~div.sk-toggleable__content {max-height: 200px;max-width: 100%;overflow: auto;}#sk-aa73d7e1-bea5-4694-9335-b2e9c17afa4a div.sk-estimator input.sk-toggleable__control:checked~label.sk-toggleable__label {background-color: #d4ebff;}#sk-aa73d7e1-bea5-4694-9335-b2e9c17afa4a div.sk-label input.sk-toggleable__control:checked~label.sk-toggleable__label {background-color: #d4ebff;}#sk-aa73d7e1-bea5-4694-9335-b2e9c17afa4a input.sk-hidden--visually {border: 0;clip: rect(1px 1px 1px 1px);clip: rect(1px, 1px, 1px, 1px);height: 1px;margin: -1px;overflow: hidden;padding: 0;position: absolute;width: 1px;}#sk-aa73d7e1-bea5-4694-9335-b2e9c17afa4a div.sk-estimator {font-family: monospace;background-color: #f0f8ff;border: 1px dotted black;border-radius: 0.25em;box-sizing: border-box;margin-bottom: 0.5em;}#sk-aa73d7e1-bea5-4694-9335-b2e9c17afa4a div.sk-estimator:hover {background-color: #d4ebff;}#sk-aa73d7e1-bea5-4694-9335-b2e9c17afa4a div.sk-parallel-item::after {content: \"\";width: 100%;border-bottom: 1px solid gray;flex-grow: 1;}#sk-aa73d7e1-bea5-4694-9335-b2e9c17afa4a div.sk-label:hover label.sk-toggleable__label {background-color: #d4ebff;}#sk-aa73d7e1-bea5-4694-9335-b2e9c17afa4a div.sk-serial::before {content: \"\";position: absolute;border-left: 1px solid gray;box-sizing: border-box;top: 2em;bottom: 0;left: 50%;}#sk-aa73d7e1-bea5-4694-9335-b2e9c17afa4a div.sk-serial {display: flex;flex-direction: column;align-items: center;background-color: white;padding-right: 0.2em;padding-left: 0.2em;}#sk-aa73d7e1-bea5-4694-9335-b2e9c17afa4a div.sk-item {z-index: 1;}#sk-aa73d7e1-bea5-4694-9335-b2e9c17afa4a div.sk-parallel {display: flex;align-items: stretch;justify-content: center;background-color: white;}#sk-aa73d7e1-bea5-4694-9335-b2e9c17afa4a div.sk-parallel::before {content: \"\";position: absolute;border-left: 1px solid gray;box-sizing: border-box;top: 2em;bottom: 0;left: 50%;}#sk-aa73d7e1-bea5-4694-9335-b2e9c17afa4a div.sk-parallel-item {display: flex;flex-direction: column;position: relative;background-color: white;}#sk-aa73d7e1-bea5-4694-9335-b2e9c17afa4a div.sk-parallel-item:first-child::after {align-self: flex-end;width: 50%;}#sk-aa73d7e1-bea5-4694-9335-b2e9c17afa4a div.sk-parallel-item:last-child::after {align-self: flex-start;width: 50%;}#sk-aa73d7e1-bea5-4694-9335-b2e9c17afa4a div.sk-parallel-item:only-child::after {width: 0;}#sk-aa73d7e1-bea5-4694-9335-b2e9c17afa4a div.sk-dashed-wrapped {border: 1px dashed gray;margin: 0 0.4em 0.5em 0.4em;box-sizing: border-box;padding-bottom: 0.4em;background-color: white;position: relative;}#sk-aa73d7e1-bea5-4694-9335-b2e9c17afa4a div.sk-label label {font-family: monospace;font-weight: bold;background-color: white;display: inline-block;line-height: 1.2em;}#sk-aa73d7e1-bea5-4694-9335-b2e9c17afa4a div.sk-label-container {position: relative;z-index: 2;text-align: center;}#sk-aa73d7e1-bea5-4694-9335-b2e9c17afa4a div.sk-container {display: inline-block;position: relative;}</style><div id=\"sk-aa73d7e1-bea5-4694-9335-b2e9c17afa4a\" class\"sk-top-container\"><div class=\"sk-container\"><div class=\"sk-item sk-dashed-wrapped\"><div class=\"sk-label-container\"><div class=\"sk-label sk-toggleable\"><input class=\"sk-toggleable__control sk-hidden--visually\" id=\"a84c2ca6-4dc4-483a-8e6f-93a9bce2deeb\" type=\"checkbox\" ><label class=\"sk-toggleable__label\" for=\"a84c2ca6-4dc4-483a-8e6f-93a9bce2deeb\">ColumnTransformer</label><div class=\"sk-toggleable__content\"><pre>ColumnTransformer(n_jobs=None, remainder='drop', sparse_threshold=0.3,\n",
       "                  transformer_weights=None,\n",
       "                  transformers=[('countvectorizer-1',\n",
       "                                 CountVectorizer(analyzer='word', binary=False,\n",
       "                                                 decode_error='strict',\n",
       "                                                 dtype=<class 'numpy.int64'>,\n",
       "                                                 encoding='utf-8',\n",
       "                                                 input='content',\n",
       "                                                 lowercase=True, max_df=1.0,\n",
       "                                                 max_features=None, min_df=1,\n",
       "                                                 ngram_range=(1, 1),\n",
       "                                                 preprocessor=None,\n",
       "                                                 stop_w...\n",
       "                                 CountVectorizer(analyzer='word', binary=False,\n",
       "                                                 decode_error='strict',\n",
       "                                                 dtype=<class 'numpy.int64'>,\n",
       "                                                 encoding='utf-8',\n",
       "                                                 input='content',\n",
       "                                                 lowercase=True, max_df=1.0,\n",
       "                                                 max_features=None, min_df=1,\n",
       "                                                 ngram_range=(1, 1),\n",
       "                                                 preprocessor=None,\n",
       "                                                 stop_words=None,\n",
       "                                                 strip_accents=None,\n",
       "                                                 token_pattern='(?u)\\\\b\\\\w\\\\w+\\\\b',\n",
       "                                                 tokenizer=None,\n",
       "                                                 vocabulary=None),\n",
       "                                 'Cabin')],\n",
       "                  verbose=False, verbose_feature_names_out=True)</pre></div></div></div><div class=\"sk-parallel\"><div class=\"sk-parallel-item\"><div class=\"sk-item\"><div class=\"sk-label-container\"><div class=\"sk-label sk-toggleable\"><input class=\"sk-toggleable__control sk-hidden--visually\" id=\"063014e5-d83e-4e60-a9df-c9162c25ac36\" type=\"checkbox\" ><label class=\"sk-toggleable__label\" for=\"063014e5-d83e-4e60-a9df-c9162c25ac36\">countvectorizer-1</label><div class=\"sk-toggleable__content\"><pre>Name</pre></div></div></div><div class=\"sk-serial\"><div class=\"sk-item\"><div class=\"sk-estimator sk-toggleable\"><input class=\"sk-toggleable__control sk-hidden--visually\" id=\"2e8e062d-1a10-460c-9942-975898295787\" type=\"checkbox\" ><label class=\"sk-toggleable__label\" for=\"2e8e062d-1a10-460c-9942-975898295787\">CountVectorizer</label><div class=\"sk-toggleable__content\"><pre>CountVectorizer()</pre></div></div></div></div></div></div><div class=\"sk-parallel-item\"><div class=\"sk-item\"><div class=\"sk-label-container\"><div class=\"sk-label sk-toggleable\"><input class=\"sk-toggleable__control sk-hidden--visually\" id=\"b0182ecc-28ed-4721-8ea2-4904af86e981\" type=\"checkbox\" ><label class=\"sk-toggleable__label\" for=\"b0182ecc-28ed-4721-8ea2-4904af86e981\">countvectorizer-2</label><div class=\"sk-toggleable__content\"><pre>Cabin</pre></div></div></div><div class=\"sk-serial\"><div class=\"sk-item\"><div class=\"sk-estimator sk-toggleable\"><input class=\"sk-toggleable__control sk-hidden--visually\" id=\"5f25c6fd-8f33-4973-ba1b-a07f91c53ff2\" type=\"checkbox\" ><label class=\"sk-toggleable__label\" for=\"5f25c6fd-8f33-4973-ba1b-a07f91c53ff2\">CountVectorizer</label><div class=\"sk-toggleable__content\"><pre>CountVectorizer()</pre></div></div></div></div></div></div></div></div></div></div>"
      ],
      "text/plain": [
       "ColumnTransformer(n_jobs=None, remainder='drop', sparse_threshold=0.3,\n",
       "                  transformer_weights=None,\n",
       "                  transformers=[('countvectorizer-1',\n",
       "                                 CountVectorizer(analyzer='word', binary=False,\n",
       "                                                 decode_error='strict',\n",
       "                                                 dtype=<class 'numpy.int64'>,\n",
       "                                                 encoding='utf-8',\n",
       "                                                 input='content',\n",
       "                                                 lowercase=True, max_df=1.0,\n",
       "                                                 max_features=None, min_df=1,\n",
       "                                                 ngram_range=(1, 1),\n",
       "                                                 preprocessor=None,\n",
       "                                                 stop_w...\n",
       "                                 CountVectorizer(analyzer='word', binary=False,\n",
       "                                                 decode_error='strict',\n",
       "                                                 dtype=<class 'numpy.int64'>,\n",
       "                                                 encoding='utf-8',\n",
       "                                                 input='content',\n",
       "                                                 lowercase=True, max_df=1.0,\n",
       "                                                 max_features=None, min_df=1,\n",
       "                                                 ngram_range=(1, 1),\n",
       "                                                 preprocessor=None,\n",
       "                                                 stop_words=None,\n",
       "                                                 strip_accents=None,\n",
       "                                                 token_pattern='(?u)\\\\b\\\\w\\\\w+\\\\b',\n",
       "                                                 tokenizer=None,\n",
       "                                                 vocabulary=None),\n",
       "                                 'Cabin')],\n",
       "                  verbose=False, verbose_feature_names_out=True)"
      ]
     },
     "execution_count": 406,
     "metadata": {},
     "output_type": "execute_result"
    }
   ],
   "source": [
    "col_transformer = make_column_transformer(\n",
    "    (vect, \"Name\"), \n",
    "    (vect, \"Cabin\")\n",
    ")\n",
    "col_transformer"
   ]
  },
  {
   "cell_type": "code",
   "execution_count": 407,
   "id": "493982aa",
   "metadata": {},
   "outputs": [
    {
     "data": {
      "text/plain": [
       "<204x637 sparse matrix of type '<class 'numpy.int64'>'\n",
       "\twith 1119 stored elements in Compressed Sparse Row format>"
      ]
     },
     "execution_count": 407,
     "metadata": {},
     "output_type": "execute_result"
    }
   ],
   "source": [
    "col_transformer.fit_transform(X)"
   ]
  },
  {
   "cell_type": "markdown",
   "id": "275801c2",
   "metadata": {},
   "source": [
    "## Using FunctionTransformer to convert functions into transformers\n",
    "\n",
    "Want to do [feature engineering](https://www.dataschool.io/introduction-to-feature-engineering/) within a ColumnTransformer or Pipeline?\n",
    "+ Select an existing function (or write your own)\n",
    "+ Convert it into a transformer using [FunctionTransformer](https://scikit-learn.org/stable/modules/generated/sklearn.preprocessing.FunctionTransformer.html)"
   ]
  },
  {
   "cell_type": "code",
   "execution_count": 408,
   "id": "b350f78f",
   "metadata": {},
   "outputs": [],
   "source": [
    "X = pd.DataFrame({'Fare':[200, 300, 50, 900],\n",
    "                  'Code':['X12', 'Y20', 'Z7', np.nan],\n",
    "                  'Deck':['A101', 'C102', 'A200', 'C300']})"
   ]
  },
  {
   "cell_type": "code",
   "execution_count": 409,
   "id": "7507eeb5",
   "metadata": {},
   "outputs": [],
   "source": [
    "from sklearn.preprocessing import FunctionTransformer"
   ]
  },
  {
   "cell_type": "markdown",
   "id": "2083eed3",
   "metadata": {},
   "source": [
    "### Convert existing function into a transformer"
   ]
  },
  {
   "cell_type": "code",
   "execution_count": 410,
   "id": "cd0150ca",
   "metadata": {},
   "outputs": [],
   "source": [
    "clip_values = FunctionTransformer(np.clip, kw_args={\"a_min\": 100, \"a_max\": 600})"
   ]
  },
  {
   "cell_type": "code",
   "execution_count": 411,
   "id": "1610e6cc",
   "metadata": {},
   "outputs": [
    {
     "data": {
      "text/html": [
       "<style>#sk-6a478422-938b-48d8-bbb1-fb7fc644af01 {color: black;background-color: white;}#sk-6a478422-938b-48d8-bbb1-fb7fc644af01 pre{padding: 0;}#sk-6a478422-938b-48d8-bbb1-fb7fc644af01 div.sk-toggleable {background-color: white;}#sk-6a478422-938b-48d8-bbb1-fb7fc644af01 label.sk-toggleable__label {cursor: pointer;display: block;width: 100%;margin-bottom: 0;padding: 0.3em;box-sizing: border-box;text-align: center;}#sk-6a478422-938b-48d8-bbb1-fb7fc644af01 div.sk-toggleable__content {max-height: 0;max-width: 0;overflow: hidden;text-align: left;background-color: #f0f8ff;}#sk-6a478422-938b-48d8-bbb1-fb7fc644af01 div.sk-toggleable__content pre {margin: 0.2em;color: black;border-radius: 0.25em;background-color: #f0f8ff;}#sk-6a478422-938b-48d8-bbb1-fb7fc644af01 input.sk-toggleable__control:checked~div.sk-toggleable__content {max-height: 200px;max-width: 100%;overflow: auto;}#sk-6a478422-938b-48d8-bbb1-fb7fc644af01 div.sk-estimator input.sk-toggleable__control:checked~label.sk-toggleable__label {background-color: #d4ebff;}#sk-6a478422-938b-48d8-bbb1-fb7fc644af01 div.sk-label input.sk-toggleable__control:checked~label.sk-toggleable__label {background-color: #d4ebff;}#sk-6a478422-938b-48d8-bbb1-fb7fc644af01 input.sk-hidden--visually {border: 0;clip: rect(1px 1px 1px 1px);clip: rect(1px, 1px, 1px, 1px);height: 1px;margin: -1px;overflow: hidden;padding: 0;position: absolute;width: 1px;}#sk-6a478422-938b-48d8-bbb1-fb7fc644af01 div.sk-estimator {font-family: monospace;background-color: #f0f8ff;border: 1px dotted black;border-radius: 0.25em;box-sizing: border-box;margin-bottom: 0.5em;}#sk-6a478422-938b-48d8-bbb1-fb7fc644af01 div.sk-estimator:hover {background-color: #d4ebff;}#sk-6a478422-938b-48d8-bbb1-fb7fc644af01 div.sk-parallel-item::after {content: \"\";width: 100%;border-bottom: 1px solid gray;flex-grow: 1;}#sk-6a478422-938b-48d8-bbb1-fb7fc644af01 div.sk-label:hover label.sk-toggleable__label {background-color: #d4ebff;}#sk-6a478422-938b-48d8-bbb1-fb7fc644af01 div.sk-serial::before {content: \"\";position: absolute;border-left: 1px solid gray;box-sizing: border-box;top: 2em;bottom: 0;left: 50%;}#sk-6a478422-938b-48d8-bbb1-fb7fc644af01 div.sk-serial {display: flex;flex-direction: column;align-items: center;background-color: white;padding-right: 0.2em;padding-left: 0.2em;}#sk-6a478422-938b-48d8-bbb1-fb7fc644af01 div.sk-item {z-index: 1;}#sk-6a478422-938b-48d8-bbb1-fb7fc644af01 div.sk-parallel {display: flex;align-items: stretch;justify-content: center;background-color: white;}#sk-6a478422-938b-48d8-bbb1-fb7fc644af01 div.sk-parallel::before {content: \"\";position: absolute;border-left: 1px solid gray;box-sizing: border-box;top: 2em;bottom: 0;left: 50%;}#sk-6a478422-938b-48d8-bbb1-fb7fc644af01 div.sk-parallel-item {display: flex;flex-direction: column;position: relative;background-color: white;}#sk-6a478422-938b-48d8-bbb1-fb7fc644af01 div.sk-parallel-item:first-child::after {align-self: flex-end;width: 50%;}#sk-6a478422-938b-48d8-bbb1-fb7fc644af01 div.sk-parallel-item:last-child::after {align-self: flex-start;width: 50%;}#sk-6a478422-938b-48d8-bbb1-fb7fc644af01 div.sk-parallel-item:only-child::after {width: 0;}#sk-6a478422-938b-48d8-bbb1-fb7fc644af01 div.sk-dashed-wrapped {border: 1px dashed gray;margin: 0 0.4em 0.5em 0.4em;box-sizing: border-box;padding-bottom: 0.4em;background-color: white;position: relative;}#sk-6a478422-938b-48d8-bbb1-fb7fc644af01 div.sk-label label {font-family: monospace;font-weight: bold;background-color: white;display: inline-block;line-height: 1.2em;}#sk-6a478422-938b-48d8-bbb1-fb7fc644af01 div.sk-label-container {position: relative;z-index: 2;text-align: center;}#sk-6a478422-938b-48d8-bbb1-fb7fc644af01 div.sk-container {display: inline-block;position: relative;}</style><div id=\"sk-6a478422-938b-48d8-bbb1-fb7fc644af01\" class\"sk-top-container\"><div class=\"sk-container\"><div class=\"sk-item\"><div class=\"sk-estimator sk-toggleable\"><input class=\"sk-toggleable__control sk-hidden--visually\" id=\"d5b71a80-0a92-471c-95bf-1828ac353758\" type=\"checkbox\" checked><label class=\"sk-toggleable__label\" for=\"d5b71a80-0a92-471c-95bf-1828ac353758\">FunctionTransformer</label><div class=\"sk-toggleable__content\"><pre>FunctionTransformer(accept_sparse=False, check_inverse=True,\n",
       "                    func=<function clip at 0x0000016706978700>,\n",
       "                    inv_kw_args=None, inverse_func=None,\n",
       "                    kw_args={'a_max': 600, 'a_min': 100}, validate=False)</pre></div></div></div></div></div>"
      ],
      "text/plain": [
       "FunctionTransformer(accept_sparse=False, check_inverse=True,\n",
       "                    func=<function clip at 0x0000016706978700>,\n",
       "                    inv_kw_args=None, inverse_func=None,\n",
       "                    kw_args={'a_max': 600, 'a_min': 100}, validate=False)"
      ]
     },
     "execution_count": 411,
     "metadata": {},
     "output_type": "execute_result"
    }
   ],
   "source": [
    "clip_values"
   ]
  },
  {
   "cell_type": "markdown",
   "id": "33e4db8a",
   "metadata": {},
   "source": [
    "### Convert custom function into a transformer"
   ]
  },
  {
   "cell_type": "code",
   "execution_count": 412,
   "id": "3037f0c3",
   "metadata": {},
   "outputs": [],
   "source": [
    "# extract the first letter from each string\n",
    "def first_letter(df):\n",
    "    return df.apply(lambda x: x.str.slice(0, 1))"
   ]
  },
  {
   "cell_type": "code",
   "execution_count": 413,
   "id": "0b955408",
   "metadata": {},
   "outputs": [],
   "source": [
    "get_first_letter = FunctionTransformer(first_letter)"
   ]
  },
  {
   "cell_type": "markdown",
   "id": "7a7f1d19",
   "metadata": {},
   "source": [
    "### Include them in a ColumnTransformer"
   ]
  },
  {
   "cell_type": "code",
   "execution_count": 414,
   "id": "b8c0b7b2",
   "metadata": {},
   "outputs": [
    {
     "data": {
      "text/html": [
       "<style>#sk-765d654f-71e7-4d33-bce6-cd224d471c7b {color: black;background-color: white;}#sk-765d654f-71e7-4d33-bce6-cd224d471c7b pre{padding: 0;}#sk-765d654f-71e7-4d33-bce6-cd224d471c7b div.sk-toggleable {background-color: white;}#sk-765d654f-71e7-4d33-bce6-cd224d471c7b label.sk-toggleable__label {cursor: pointer;display: block;width: 100%;margin-bottom: 0;padding: 0.3em;box-sizing: border-box;text-align: center;}#sk-765d654f-71e7-4d33-bce6-cd224d471c7b div.sk-toggleable__content {max-height: 0;max-width: 0;overflow: hidden;text-align: left;background-color: #f0f8ff;}#sk-765d654f-71e7-4d33-bce6-cd224d471c7b div.sk-toggleable__content pre {margin: 0.2em;color: black;border-radius: 0.25em;background-color: #f0f8ff;}#sk-765d654f-71e7-4d33-bce6-cd224d471c7b input.sk-toggleable__control:checked~div.sk-toggleable__content {max-height: 200px;max-width: 100%;overflow: auto;}#sk-765d654f-71e7-4d33-bce6-cd224d471c7b div.sk-estimator input.sk-toggleable__control:checked~label.sk-toggleable__label {background-color: #d4ebff;}#sk-765d654f-71e7-4d33-bce6-cd224d471c7b div.sk-label input.sk-toggleable__control:checked~label.sk-toggleable__label {background-color: #d4ebff;}#sk-765d654f-71e7-4d33-bce6-cd224d471c7b input.sk-hidden--visually {border: 0;clip: rect(1px 1px 1px 1px);clip: rect(1px, 1px, 1px, 1px);height: 1px;margin: -1px;overflow: hidden;padding: 0;position: absolute;width: 1px;}#sk-765d654f-71e7-4d33-bce6-cd224d471c7b div.sk-estimator {font-family: monospace;background-color: #f0f8ff;border: 1px dotted black;border-radius: 0.25em;box-sizing: border-box;margin-bottom: 0.5em;}#sk-765d654f-71e7-4d33-bce6-cd224d471c7b div.sk-estimator:hover {background-color: #d4ebff;}#sk-765d654f-71e7-4d33-bce6-cd224d471c7b div.sk-parallel-item::after {content: \"\";width: 100%;border-bottom: 1px solid gray;flex-grow: 1;}#sk-765d654f-71e7-4d33-bce6-cd224d471c7b div.sk-label:hover label.sk-toggleable__label {background-color: #d4ebff;}#sk-765d654f-71e7-4d33-bce6-cd224d471c7b div.sk-serial::before {content: \"\";position: absolute;border-left: 1px solid gray;box-sizing: border-box;top: 2em;bottom: 0;left: 50%;}#sk-765d654f-71e7-4d33-bce6-cd224d471c7b div.sk-serial {display: flex;flex-direction: column;align-items: center;background-color: white;padding-right: 0.2em;padding-left: 0.2em;}#sk-765d654f-71e7-4d33-bce6-cd224d471c7b div.sk-item {z-index: 1;}#sk-765d654f-71e7-4d33-bce6-cd224d471c7b div.sk-parallel {display: flex;align-items: stretch;justify-content: center;background-color: white;}#sk-765d654f-71e7-4d33-bce6-cd224d471c7b div.sk-parallel::before {content: \"\";position: absolute;border-left: 1px solid gray;box-sizing: border-box;top: 2em;bottom: 0;left: 50%;}#sk-765d654f-71e7-4d33-bce6-cd224d471c7b div.sk-parallel-item {display: flex;flex-direction: column;position: relative;background-color: white;}#sk-765d654f-71e7-4d33-bce6-cd224d471c7b div.sk-parallel-item:first-child::after {align-self: flex-end;width: 50%;}#sk-765d654f-71e7-4d33-bce6-cd224d471c7b div.sk-parallel-item:last-child::after {align-self: flex-start;width: 50%;}#sk-765d654f-71e7-4d33-bce6-cd224d471c7b div.sk-parallel-item:only-child::after {width: 0;}#sk-765d654f-71e7-4d33-bce6-cd224d471c7b div.sk-dashed-wrapped {border: 1px dashed gray;margin: 0 0.4em 0.5em 0.4em;box-sizing: border-box;padding-bottom: 0.4em;background-color: white;position: relative;}#sk-765d654f-71e7-4d33-bce6-cd224d471c7b div.sk-label label {font-family: monospace;font-weight: bold;background-color: white;display: inline-block;line-height: 1.2em;}#sk-765d654f-71e7-4d33-bce6-cd224d471c7b div.sk-label-container {position: relative;z-index: 2;text-align: center;}#sk-765d654f-71e7-4d33-bce6-cd224d471c7b div.sk-container {display: inline-block;position: relative;}</style><div id=\"sk-765d654f-71e7-4d33-bce6-cd224d471c7b\" class\"sk-top-container\"><div class=\"sk-container\"><div class=\"sk-item sk-dashed-wrapped\"><div class=\"sk-label-container\"><div class=\"sk-label sk-toggleable\"><input class=\"sk-toggleable__control sk-hidden--visually\" id=\"552e2246-9e52-46b5-8189-a6326d3df01f\" type=\"checkbox\" ><label class=\"sk-toggleable__label\" for=\"552e2246-9e52-46b5-8189-a6326d3df01f\">ColumnTransformer</label><div class=\"sk-toggleable__content\"><pre>ColumnTransformer(n_jobs=None, remainder='drop', sparse_threshold=0.3,\n",
       "                  transformer_weights=None,\n",
       "                  transformers=[('functiontransformer-1',\n",
       "                                 FunctionTransformer(accept_sparse=False,\n",
       "                                                     check_inverse=True,\n",
       "                                                     func=<function clip at 0x0000016706978700>,\n",
       "                                                     inv_kw_args=None,\n",
       "                                                     inverse_func=None,\n",
       "                                                     kw_args={'a_max': 600,\n",
       "                                                              'a_min': 100},\n",
       "                                                     validate=False),\n",
       "                                 ['Fare']),\n",
       "                                ('functiontransformer-2',\n",
       "                                 FunctionTransformer(accept_sparse=False,\n",
       "                                                     check_inverse=True,\n",
       "                                                     func=<function first_letter at 0x000001671DFC4280>,\n",
       "                                                     inv_kw_args=None,\n",
       "                                                     inverse_func=None,\n",
       "                                                     kw_args=None,\n",
       "                                                     validate=False),\n",
       "                                 ['Code', 'Deck'])],\n",
       "                  verbose=False, verbose_feature_names_out=True)</pre></div></div></div><div class=\"sk-parallel\"><div class=\"sk-parallel-item\"><div class=\"sk-item\"><div class=\"sk-label-container\"><div class=\"sk-label sk-toggleable\"><input class=\"sk-toggleable__control sk-hidden--visually\" id=\"9002e3f9-30ff-4549-8f28-bd2c4dc68df9\" type=\"checkbox\" ><label class=\"sk-toggleable__label\" for=\"9002e3f9-30ff-4549-8f28-bd2c4dc68df9\">functiontransformer-1</label><div class=\"sk-toggleable__content\"><pre>['Fare']</pre></div></div></div><div class=\"sk-serial\"><div class=\"sk-item\"><div class=\"sk-estimator sk-toggleable\"><input class=\"sk-toggleable__control sk-hidden--visually\" id=\"ca5582a1-a7a2-4d83-a909-97dd9abeb149\" type=\"checkbox\" ><label class=\"sk-toggleable__label\" for=\"ca5582a1-a7a2-4d83-a909-97dd9abeb149\">FunctionTransformer</label><div class=\"sk-toggleable__content\"><pre>FunctionTransformer(func=<function clip at 0x0000016706978700>,\n",
       "                    kw_args={'a_max': 600, 'a_min': 100})</pre></div></div></div></div></div></div><div class=\"sk-parallel-item\"><div class=\"sk-item\"><div class=\"sk-label-container\"><div class=\"sk-label sk-toggleable\"><input class=\"sk-toggleable__control sk-hidden--visually\" id=\"7a7b92e5-de2c-4aa7-b8ea-da2f0d194031\" type=\"checkbox\" ><label class=\"sk-toggleable__label\" for=\"7a7b92e5-de2c-4aa7-b8ea-da2f0d194031\">functiontransformer-2</label><div class=\"sk-toggleable__content\"><pre>['Code', 'Deck']</pre></div></div></div><div class=\"sk-serial\"><div class=\"sk-item\"><div class=\"sk-estimator sk-toggleable\"><input class=\"sk-toggleable__control sk-hidden--visually\" id=\"399bc4f4-001a-4341-93d4-0685d8a6da4d\" type=\"checkbox\" ><label class=\"sk-toggleable__label\" for=\"399bc4f4-001a-4341-93d4-0685d8a6da4d\">FunctionTransformer</label><div class=\"sk-toggleable__content\"><pre>FunctionTransformer(func=<function first_letter at 0x000001671DFC4280>)</pre></div></div></div></div></div></div></div></div></div></div>"
      ],
      "text/plain": [
       "ColumnTransformer(n_jobs=None, remainder='drop', sparse_threshold=0.3,\n",
       "                  transformer_weights=None,\n",
       "                  transformers=[('functiontransformer-1',\n",
       "                                 FunctionTransformer(accept_sparse=False,\n",
       "                                                     check_inverse=True,\n",
       "                                                     func=<function clip at 0x0000016706978700>,\n",
       "                                                     inv_kw_args=None,\n",
       "                                                     inverse_func=None,\n",
       "                                                     kw_args={'a_max': 600,\n",
       "                                                              'a_min': 100},\n",
       "                                                     validate=False),\n",
       "                                 ['Fare']),\n",
       "                                ('functiontransformer-2',\n",
       "                                 FunctionTransformer(accept_sparse=False,\n",
       "                                                     check_inverse=True,\n",
       "                                                     func=<function first_letter at 0x000001671DFC4280>,\n",
       "                                                     inv_kw_args=None,\n",
       "                                                     inverse_func=None,\n",
       "                                                     kw_args=None,\n",
       "                                                     validate=False),\n",
       "                                 ['Code', 'Deck'])],\n",
       "                  verbose=False, verbose_feature_names_out=True)"
      ]
     },
     "execution_count": 414,
     "metadata": {},
     "output_type": "execute_result"
    }
   ],
   "source": [
    "col_transformer = make_column_transformer(\n",
    "    (clip_values, [\"Fare\"]),\n",
    "    (get_first_letter, [\"Code\", \"Deck\"])\n",
    ")\n",
    "col_transformer"
   ]
  },
  {
   "cell_type": "markdown",
   "id": "81469644",
   "metadata": {},
   "source": [
    "### Apply the transformations"
   ]
  },
  {
   "cell_type": "code",
   "execution_count": 415,
   "id": "b467c9b3",
   "metadata": {},
   "outputs": [
    {
     "data": {
      "text/html": [
       "<div>\n",
       "<style scoped>\n",
       "    .dataframe tbody tr th:only-of-type {\n",
       "        vertical-align: middle;\n",
       "    }\n",
       "\n",
       "    .dataframe tbody tr th {\n",
       "        vertical-align: top;\n",
       "    }\n",
       "\n",
       "    .dataframe thead th {\n",
       "        text-align: right;\n",
       "    }\n",
       "</style>\n",
       "<table border=\"1\" class=\"dataframe\">\n",
       "  <thead>\n",
       "    <tr style=\"text-align: right;\">\n",
       "      <th></th>\n",
       "      <th>Fare</th>\n",
       "      <th>Code</th>\n",
       "      <th>Deck</th>\n",
       "    </tr>\n",
       "  </thead>\n",
       "  <tbody>\n",
       "    <tr>\n",
       "      <th>0</th>\n",
       "      <td>200</td>\n",
       "      <td>X12</td>\n",
       "      <td>A101</td>\n",
       "    </tr>\n",
       "    <tr>\n",
       "      <th>1</th>\n",
       "      <td>300</td>\n",
       "      <td>Y20</td>\n",
       "      <td>C102</td>\n",
       "    </tr>\n",
       "    <tr>\n",
       "      <th>2</th>\n",
       "      <td>50</td>\n",
       "      <td>Z7</td>\n",
       "      <td>A200</td>\n",
       "    </tr>\n",
       "    <tr>\n",
       "      <th>3</th>\n",
       "      <td>900</td>\n",
       "      <td>NaN</td>\n",
       "      <td>C300</td>\n",
       "    </tr>\n",
       "  </tbody>\n",
       "</table>\n",
       "</div>"
      ],
      "text/plain": [
       "   Fare Code  Deck\n",
       "0   200  X12  A101\n",
       "1   300  Y20  C102\n",
       "2    50   Z7  A200\n",
       "3   900  NaN  C300"
      ]
     },
     "execution_count": 415,
     "metadata": {},
     "output_type": "execute_result"
    }
   ],
   "source": [
    "X"
   ]
  },
  {
   "cell_type": "code",
   "execution_count": 416,
   "id": "a5b09366",
   "metadata": {},
   "outputs": [
    {
     "data": {
      "text/plain": [
       "array([[200, 'X', 'A'],\n",
       "       [300, 'Y', 'C'],\n",
       "       [100, 'Z', 'A'],\n",
       "       [600, nan, 'C']], dtype=object)"
      ]
     },
     "execution_count": 416,
     "metadata": {},
     "output_type": "execute_result"
    }
   ],
   "source": [
    "col_transformer.fit_transform(X)"
   ]
  },
  {
   "cell_type": "markdown",
   "id": "d47c978a",
   "metadata": {},
   "source": [
    "## Create feature interactions using PolynomialFeatures\n",
    "\n",
    "Want to include \"feature interactions\" in your model? Use [PolynomialFeatures](https://scikit-learn.org/stable/modules/generated/sklearn.preprocessing.PolynomialFeatures.html)\n",
    "\n",
    "P.S. This is impractical if you have lots of features, and unnecessary if you're using a [tree-based model](https://scikit-learn.org/stable/modules/tree.html)."
   ]
  },
  {
   "cell_type": "code",
   "execution_count": 417,
   "id": "831938af",
   "metadata": {},
   "outputs": [],
   "source": [
    "X = pd.DataFrame({'A':[1, 2, 3], 'B':[4, 4, 4], 'C':[0, 10, 100]})"
   ]
  },
  {
   "cell_type": "code",
   "execution_count": 418,
   "id": "ada161a7",
   "metadata": {},
   "outputs": [
    {
     "data": {
      "text/html": [
       "<div>\n",
       "<style scoped>\n",
       "    .dataframe tbody tr th:only-of-type {\n",
       "        vertical-align: middle;\n",
       "    }\n",
       "\n",
       "    .dataframe tbody tr th {\n",
       "        vertical-align: top;\n",
       "    }\n",
       "\n",
       "    .dataframe thead th {\n",
       "        text-align: right;\n",
       "    }\n",
       "</style>\n",
       "<table border=\"1\" class=\"dataframe\">\n",
       "  <thead>\n",
       "    <tr style=\"text-align: right;\">\n",
       "      <th></th>\n",
       "      <th>A</th>\n",
       "      <th>B</th>\n",
       "      <th>C</th>\n",
       "    </tr>\n",
       "  </thead>\n",
       "  <tbody>\n",
       "    <tr>\n",
       "      <th>0</th>\n",
       "      <td>1</td>\n",
       "      <td>4</td>\n",
       "      <td>0</td>\n",
       "    </tr>\n",
       "    <tr>\n",
       "      <th>1</th>\n",
       "      <td>2</td>\n",
       "      <td>4</td>\n",
       "      <td>10</td>\n",
       "    </tr>\n",
       "    <tr>\n",
       "      <th>2</th>\n",
       "      <td>3</td>\n",
       "      <td>4</td>\n",
       "      <td>100</td>\n",
       "    </tr>\n",
       "  </tbody>\n",
       "</table>\n",
       "</div>"
      ],
      "text/plain": [
       "   A  B    C\n",
       "0  1  4    0\n",
       "1  2  4   10\n",
       "2  3  4  100"
      ]
     },
     "execution_count": 418,
     "metadata": {},
     "output_type": "execute_result"
    }
   ],
   "source": [
    "X"
   ]
  },
  {
   "cell_type": "code",
   "execution_count": 419,
   "id": "28777f6b",
   "metadata": {},
   "outputs": [],
   "source": [
    "from sklearn.preprocessing import PolynomialFeatures"
   ]
  },
  {
   "cell_type": "code",
   "execution_count": 420,
   "id": "22757ca2",
   "metadata": {},
   "outputs": [
    {
     "data": {
      "text/html": [
       "<style>#sk-a839b3ec-14e6-49cd-9d87-76bb0419f2a7 {color: black;background-color: white;}#sk-a839b3ec-14e6-49cd-9d87-76bb0419f2a7 pre{padding: 0;}#sk-a839b3ec-14e6-49cd-9d87-76bb0419f2a7 div.sk-toggleable {background-color: white;}#sk-a839b3ec-14e6-49cd-9d87-76bb0419f2a7 label.sk-toggleable__label {cursor: pointer;display: block;width: 100%;margin-bottom: 0;padding: 0.3em;box-sizing: border-box;text-align: center;}#sk-a839b3ec-14e6-49cd-9d87-76bb0419f2a7 div.sk-toggleable__content {max-height: 0;max-width: 0;overflow: hidden;text-align: left;background-color: #f0f8ff;}#sk-a839b3ec-14e6-49cd-9d87-76bb0419f2a7 div.sk-toggleable__content pre {margin: 0.2em;color: black;border-radius: 0.25em;background-color: #f0f8ff;}#sk-a839b3ec-14e6-49cd-9d87-76bb0419f2a7 input.sk-toggleable__control:checked~div.sk-toggleable__content {max-height: 200px;max-width: 100%;overflow: auto;}#sk-a839b3ec-14e6-49cd-9d87-76bb0419f2a7 div.sk-estimator input.sk-toggleable__control:checked~label.sk-toggleable__label {background-color: #d4ebff;}#sk-a839b3ec-14e6-49cd-9d87-76bb0419f2a7 div.sk-label input.sk-toggleable__control:checked~label.sk-toggleable__label {background-color: #d4ebff;}#sk-a839b3ec-14e6-49cd-9d87-76bb0419f2a7 input.sk-hidden--visually {border: 0;clip: rect(1px 1px 1px 1px);clip: rect(1px, 1px, 1px, 1px);height: 1px;margin: -1px;overflow: hidden;padding: 0;position: absolute;width: 1px;}#sk-a839b3ec-14e6-49cd-9d87-76bb0419f2a7 div.sk-estimator {font-family: monospace;background-color: #f0f8ff;border: 1px dotted black;border-radius: 0.25em;box-sizing: border-box;margin-bottom: 0.5em;}#sk-a839b3ec-14e6-49cd-9d87-76bb0419f2a7 div.sk-estimator:hover {background-color: #d4ebff;}#sk-a839b3ec-14e6-49cd-9d87-76bb0419f2a7 div.sk-parallel-item::after {content: \"\";width: 100%;border-bottom: 1px solid gray;flex-grow: 1;}#sk-a839b3ec-14e6-49cd-9d87-76bb0419f2a7 div.sk-label:hover label.sk-toggleable__label {background-color: #d4ebff;}#sk-a839b3ec-14e6-49cd-9d87-76bb0419f2a7 div.sk-serial::before {content: \"\";position: absolute;border-left: 1px solid gray;box-sizing: border-box;top: 2em;bottom: 0;left: 50%;}#sk-a839b3ec-14e6-49cd-9d87-76bb0419f2a7 div.sk-serial {display: flex;flex-direction: column;align-items: center;background-color: white;padding-right: 0.2em;padding-left: 0.2em;}#sk-a839b3ec-14e6-49cd-9d87-76bb0419f2a7 div.sk-item {z-index: 1;}#sk-a839b3ec-14e6-49cd-9d87-76bb0419f2a7 div.sk-parallel {display: flex;align-items: stretch;justify-content: center;background-color: white;}#sk-a839b3ec-14e6-49cd-9d87-76bb0419f2a7 div.sk-parallel::before {content: \"\";position: absolute;border-left: 1px solid gray;box-sizing: border-box;top: 2em;bottom: 0;left: 50%;}#sk-a839b3ec-14e6-49cd-9d87-76bb0419f2a7 div.sk-parallel-item {display: flex;flex-direction: column;position: relative;background-color: white;}#sk-a839b3ec-14e6-49cd-9d87-76bb0419f2a7 div.sk-parallel-item:first-child::after {align-self: flex-end;width: 50%;}#sk-a839b3ec-14e6-49cd-9d87-76bb0419f2a7 div.sk-parallel-item:last-child::after {align-self: flex-start;width: 50%;}#sk-a839b3ec-14e6-49cd-9d87-76bb0419f2a7 div.sk-parallel-item:only-child::after {width: 0;}#sk-a839b3ec-14e6-49cd-9d87-76bb0419f2a7 div.sk-dashed-wrapped {border: 1px dashed gray;margin: 0 0.4em 0.5em 0.4em;box-sizing: border-box;padding-bottom: 0.4em;background-color: white;position: relative;}#sk-a839b3ec-14e6-49cd-9d87-76bb0419f2a7 div.sk-label label {font-family: monospace;font-weight: bold;background-color: white;display: inline-block;line-height: 1.2em;}#sk-a839b3ec-14e6-49cd-9d87-76bb0419f2a7 div.sk-label-container {position: relative;z-index: 2;text-align: center;}#sk-a839b3ec-14e6-49cd-9d87-76bb0419f2a7 div.sk-container {display: inline-block;position: relative;}</style><div id=\"sk-a839b3ec-14e6-49cd-9d87-76bb0419f2a7\" class\"sk-top-container\"><div class=\"sk-container\"><div class=\"sk-item\"><div class=\"sk-estimator sk-toggleable\"><input class=\"sk-toggleable__control sk-hidden--visually\" id=\"685a78f1-76e6-4396-8b66-1413b4173602\" type=\"checkbox\" checked><label class=\"sk-toggleable__label\" for=\"685a78f1-76e6-4396-8b66-1413b4173602\">PolynomialFeatures</label><div class=\"sk-toggleable__content\"><pre>PolynomialFeatures(degree=3, include_bias=False, interaction_only=True,\n",
       "                   order='C')</pre></div></div></div></div></div>"
      ],
      "text/plain": [
       "PolynomialFeatures(degree=3, include_bias=False, interaction_only=True,\n",
       "                   order='C')"
      ]
     },
     "execution_count": 420,
     "metadata": {},
     "output_type": "execute_result"
    }
   ],
   "source": [
    "poly = PolynomialFeatures(degree=3, include_bias=False, interaction_only=True)\n",
    "poly"
   ]
  },
  {
   "cell_type": "code",
   "execution_count": 421,
   "id": "c2e0ddca",
   "metadata": {},
   "outputs": [
    {
     "data": {
      "text/plain": [
       "array([[1.0e+00, 4.0e+00, 0.0e+00, 4.0e+00, 0.0e+00, 0.0e+00, 0.0e+00],\n",
       "       [2.0e+00, 4.0e+00, 1.0e+01, 8.0e+00, 2.0e+01, 4.0e+01, 8.0e+01],\n",
       "       [3.0e+00, 4.0e+00, 1.0e+02, 1.2e+01, 3.0e+02, 4.0e+02, 1.2e+03]])"
      ]
     },
     "execution_count": 421,
     "metadata": {},
     "output_type": "execute_result"
    }
   ],
   "source": [
    "# Output columns: A, B, C, A*B, A*C, B*C, A*B*C \n",
    "poly.fit_transform(X)"
   ]
  },
  {
   "cell_type": "markdown",
   "id": "c52f7ae0",
   "metadata": {},
   "source": [
    "# Coding Practices"
   ]
  },
  {
   "cell_type": "markdown",
   "id": "fb9476cd",
   "metadata": {},
   "source": [
    "## Set a 'random_state' to make code reproducible\n",
    "\n",
    "Q: Why set a value for [\"random_state\"](https://scikit-learn.org/stable/glossary.html#term-random_state)?\n",
    "\n",
    "A: Ensures that a \"random\" process will output the same results every time, which makes your code reproducible (by you and others!)\n",
    "\n",
    "An integer\n",
    "\n",
    "    Use a new random number generator seeded by the given integer. Using an int will produce the same results across different calls. However, it may be worthwhile checking that your results are stable across a number of different distinct random seeds. Popular integer random seeds are 0 and 42.\n"
   ]
  },
  {
   "cell_type": "code",
   "execution_count": 422,
   "id": "9db9814a",
   "metadata": {},
   "outputs": [],
   "source": [
    "file_input_path = \"titanic_train.csv\"\n",
    "if not os.path.exists(file_input_path):\n",
    "    df_train = pd.read_csv(\"http://bit.ly/kaggletrain\")\n",
    "    df_train.to_csv(file_input_path, header=True, index=False, sep=\"\\t\")\n",
    "else:\n",
    "    df_train = pd.read_csv(file_input_path, header=0, sep=\"\\t\")\n",
    "   \n",
    "features = ['Fare', 'Embarked', 'Sex']\n",
    "X, y = df_train[features], df_train[\"Survived\"]"
   ]
  },
  {
   "cell_type": "code",
   "execution_count": 423,
   "id": "fd8f834f",
   "metadata": {},
   "outputs": [],
   "source": [
    "from sklearn.model_selection import train_test_split"
   ]
  },
  {
   "cell_type": "code",
   "execution_count": 424,
   "id": "342208fc",
   "metadata": {},
   "outputs": [
    {
     "data": {
      "text/html": [
       "<div>\n",
       "<style scoped>\n",
       "    .dataframe tbody tr th:only-of-type {\n",
       "        vertical-align: middle;\n",
       "    }\n",
       "\n",
       "    .dataframe tbody tr th {\n",
       "        vertical-align: top;\n",
       "    }\n",
       "\n",
       "    .dataframe thead th {\n",
       "        text-align: right;\n",
       "    }\n",
       "</style>\n",
       "<table border=\"1\" class=\"dataframe\">\n",
       "  <thead>\n",
       "    <tr style=\"text-align: right;\">\n",
       "      <th></th>\n",
       "      <th>Fare</th>\n",
       "      <th>Embarked</th>\n",
       "      <th>Sex</th>\n",
       "    </tr>\n",
       "  </thead>\n",
       "  <tbody>\n",
       "    <tr>\n",
       "      <th>0</th>\n",
       "      <td>7.2500</td>\n",
       "      <td>S</td>\n",
       "      <td>male</td>\n",
       "    </tr>\n",
       "    <tr>\n",
       "      <th>1</th>\n",
       "      <td>71.2833</td>\n",
       "      <td>C</td>\n",
       "      <td>female</td>\n",
       "    </tr>\n",
       "    <tr>\n",
       "      <th>2</th>\n",
       "      <td>7.9250</td>\n",
       "      <td>S</td>\n",
       "      <td>female</td>\n",
       "    </tr>\n",
       "    <tr>\n",
       "      <th>3</th>\n",
       "      <td>53.1000</td>\n",
       "      <td>S</td>\n",
       "      <td>female</td>\n",
       "    </tr>\n",
       "    <tr>\n",
       "      <th>4</th>\n",
       "      <td>8.0500</td>\n",
       "      <td>S</td>\n",
       "      <td>male</td>\n",
       "    </tr>\n",
       "  </tbody>\n",
       "</table>\n",
       "</div>"
      ],
      "text/plain": [
       "      Fare Embarked     Sex\n",
       "0   7.2500        S    male\n",
       "1  71.2833        C  female\n",
       "2   7.9250        S  female\n",
       "3  53.1000        S  female\n",
       "4   8.0500        S    male"
      ]
     },
     "execution_count": 424,
     "metadata": {},
     "output_type": "execute_result"
    }
   ],
   "source": [
    "X.head()"
   ]
  },
  {
   "cell_type": "markdown",
   "id": "f12304da",
   "metadata": {},
   "source": [
    "### random_state = 1"
   ]
  },
  {
   "cell_type": "code",
   "execution_count": 425,
   "id": "121e3f9f",
   "metadata": {},
   "outputs": [
    {
     "data": {
      "text/html": [
       "<div>\n",
       "<style scoped>\n",
       "    .dataframe tbody tr th:only-of-type {\n",
       "        vertical-align: middle;\n",
       "    }\n",
       "\n",
       "    .dataframe tbody tr th {\n",
       "        vertical-align: top;\n",
       "    }\n",
       "\n",
       "    .dataframe thead th {\n",
       "        text-align: right;\n",
       "    }\n",
       "</style>\n",
       "<table border=\"1\" class=\"dataframe\">\n",
       "  <thead>\n",
       "    <tr style=\"text-align: right;\">\n",
       "      <th></th>\n",
       "      <th>Fare</th>\n",
       "      <th>Embarked</th>\n",
       "      <th>Sex</th>\n",
       "    </tr>\n",
       "  </thead>\n",
       "  <tbody>\n",
       "    <tr>\n",
       "      <th>394</th>\n",
       "      <td>16.7000</td>\n",
       "      <td>S</td>\n",
       "      <td>female</td>\n",
       "    </tr>\n",
       "    <tr>\n",
       "      <th>851</th>\n",
       "      <td>7.7750</td>\n",
       "      <td>S</td>\n",
       "      <td>male</td>\n",
       "    </tr>\n",
       "    <tr>\n",
       "      <th>373</th>\n",
       "      <td>135.6333</td>\n",
       "      <td>C</td>\n",
       "      <td>male</td>\n",
       "    </tr>\n",
       "  </tbody>\n",
       "</table>\n",
       "</div>"
      ],
      "text/plain": [
       "         Fare Embarked     Sex\n",
       "394   16.7000        S  female\n",
       "851    7.7750        S    male\n",
       "373  135.6333        C    male"
      ]
     },
     "execution_count": 425,
     "metadata": {},
     "output_type": "execute_result"
    }
   ],
   "source": [
    "# any positive integer can be used for the random_state value\n",
    "X_train, X_test, y_train, y_test = train_test_split(X, y, test_size=0.5, random_state=1)\n",
    "X_train.head(3)"
   ]
  },
  {
   "cell_type": "code",
   "execution_count": 426,
   "id": "40d11223",
   "metadata": {},
   "outputs": [
    {
     "data": {
      "text/html": [
       "<div>\n",
       "<style scoped>\n",
       "    .dataframe tbody tr th:only-of-type {\n",
       "        vertical-align: middle;\n",
       "    }\n",
       "\n",
       "    .dataframe tbody tr th {\n",
       "        vertical-align: top;\n",
       "    }\n",
       "\n",
       "    .dataframe thead th {\n",
       "        text-align: right;\n",
       "    }\n",
       "</style>\n",
       "<table border=\"1\" class=\"dataframe\">\n",
       "  <thead>\n",
       "    <tr style=\"text-align: right;\">\n",
       "      <th></th>\n",
       "      <th>Fare</th>\n",
       "      <th>Embarked</th>\n",
       "      <th>Sex</th>\n",
       "    </tr>\n",
       "  </thead>\n",
       "  <tbody>\n",
       "    <tr>\n",
       "      <th>394</th>\n",
       "      <td>16.7000</td>\n",
       "      <td>S</td>\n",
       "      <td>female</td>\n",
       "    </tr>\n",
       "    <tr>\n",
       "      <th>851</th>\n",
       "      <td>7.7750</td>\n",
       "      <td>S</td>\n",
       "      <td>male</td>\n",
       "    </tr>\n",
       "    <tr>\n",
       "      <th>373</th>\n",
       "      <td>135.6333</td>\n",
       "      <td>C</td>\n",
       "      <td>male</td>\n",
       "    </tr>\n",
       "  </tbody>\n",
       "</table>\n",
       "</div>"
      ],
      "text/plain": [
       "         Fare Embarked     Sex\n",
       "394   16.7000        S  female\n",
       "851    7.7750        S    male\n",
       "373  135.6333        C    male"
      ]
     },
     "execution_count": 426,
     "metadata": {},
     "output_type": "execute_result"
    }
   ],
   "source": [
    "# using the SAME random_state value results in the SAME random split\n",
    "X_train, X_test, y_train, y_test = train_test_split(X, y, test_size=0.5, random_state=1)\n",
    "X_train.head(3)"
   ]
  },
  {
   "cell_type": "markdown",
   "id": "09a7f8df",
   "metadata": {},
   "source": [
    "### random_state = 2"
   ]
  },
  {
   "cell_type": "code",
   "execution_count": 427,
   "id": "1ef8b7b9",
   "metadata": {},
   "outputs": [
    {
     "data": {
      "text/html": [
       "<div>\n",
       "<style scoped>\n",
       "    .dataframe tbody tr th:only-of-type {\n",
       "        vertical-align: middle;\n",
       "    }\n",
       "\n",
       "    .dataframe tbody tr th {\n",
       "        vertical-align: top;\n",
       "    }\n",
       "\n",
       "    .dataframe thead th {\n",
       "        text-align: right;\n",
       "    }\n",
       "</style>\n",
       "<table border=\"1\" class=\"dataframe\">\n",
       "  <thead>\n",
       "    <tr style=\"text-align: right;\">\n",
       "      <th></th>\n",
       "      <th>Fare</th>\n",
       "      <th>Embarked</th>\n",
       "      <th>Sex</th>\n",
       "    </tr>\n",
       "  </thead>\n",
       "  <tbody>\n",
       "    <tr>\n",
       "      <th>716</th>\n",
       "      <td>227.5250</td>\n",
       "      <td>C</td>\n",
       "      <td>female</td>\n",
       "    </tr>\n",
       "    <tr>\n",
       "      <th>154</th>\n",
       "      <td>7.3125</td>\n",
       "      <td>S</td>\n",
       "      <td>male</td>\n",
       "    </tr>\n",
       "    <tr>\n",
       "      <th>843</th>\n",
       "      <td>6.4375</td>\n",
       "      <td>C</td>\n",
       "      <td>male</td>\n",
       "    </tr>\n",
       "  </tbody>\n",
       "</table>\n",
       "</div>"
      ],
      "text/plain": [
       "         Fare Embarked     Sex\n",
       "716  227.5250        C  female\n",
       "154    7.3125        S    male\n",
       "843    6.4375        C    male"
      ]
     },
     "execution_count": 427,
     "metadata": {},
     "output_type": "execute_result"
    }
   ],
   "source": [
    "# using a DIFFERENT random_state value results in a DIFFERENT random split\n",
    "X_train, X_test, y_train, y_test = train_test_split(X, y, test_size=0.5, random_state=2)\n",
    "X_train.head(3)"
   ]
  },
  {
   "cell_type": "code",
   "execution_count": 428,
   "id": "3fc37f86",
   "metadata": {},
   "outputs": [
    {
     "data": {
      "text/html": [
       "<div>\n",
       "<style scoped>\n",
       "    .dataframe tbody tr th:only-of-type {\n",
       "        vertical-align: middle;\n",
       "    }\n",
       "\n",
       "    .dataframe tbody tr th {\n",
       "        vertical-align: top;\n",
       "    }\n",
       "\n",
       "    .dataframe thead th {\n",
       "        text-align: right;\n",
       "    }\n",
       "</style>\n",
       "<table border=\"1\" class=\"dataframe\">\n",
       "  <thead>\n",
       "    <tr style=\"text-align: right;\">\n",
       "      <th></th>\n",
       "      <th>Fare</th>\n",
       "      <th>Embarked</th>\n",
       "      <th>Sex</th>\n",
       "    </tr>\n",
       "  </thead>\n",
       "  <tbody>\n",
       "    <tr>\n",
       "      <th>716</th>\n",
       "      <td>227.5250</td>\n",
       "      <td>C</td>\n",
       "      <td>female</td>\n",
       "    </tr>\n",
       "    <tr>\n",
       "      <th>154</th>\n",
       "      <td>7.3125</td>\n",
       "      <td>S</td>\n",
       "      <td>male</td>\n",
       "    </tr>\n",
       "    <tr>\n",
       "      <th>843</th>\n",
       "      <td>6.4375</td>\n",
       "      <td>C</td>\n",
       "      <td>male</td>\n",
       "    </tr>\n",
       "  </tbody>\n",
       "</table>\n",
       "</div>"
      ],
      "text/plain": [
       "         Fare Embarked     Sex\n",
       "716  227.5250        C  female\n",
       "154    7.3125        S    male\n",
       "843    6.4375        C    male"
      ]
     },
     "execution_count": 428,
     "metadata": {},
     "output_type": "execute_result"
    }
   ],
   "source": [
    "# using a DIFFERENT random_state value results in a DIFFERENT random split\n",
    "X_train, X_test, y_train, y_test = train_test_split(X, y, test_size=0.5, random_state=2)\n",
    "X_train.head(3)"
   ]
  },
  {
   "cell_type": "markdown",
   "id": "c6ab16f0",
   "metadata": {},
   "source": [
    "## Most parameters should be passed as keyword arguments\n",
    "\n",
    "New in version 0.23: Most parameters are now expected to be passed as keyword arguments.\n",
    "\n",
    "They will raise a warning ⚠️ if passed positionally, and will error 🛑 starting in 0.25."
   ]
  },
  {
   "cell_type": "code",
   "execution_count": 429,
   "id": "d64d0b89",
   "metadata": {},
   "outputs": [],
   "source": [
    "from sklearn.svm import SVC"
   ]
  },
  {
   "cell_type": "markdown",
   "id": "e7f07818",
   "metadata": {},
   "source": [
    "### Using keyword arguments"
   ]
  },
  {
   "cell_type": "code",
   "execution_count": 430,
   "id": "0b9020f4",
   "metadata": {},
   "outputs": [
    {
     "data": {
      "text/html": [
       "<style>#sk-1d8e3f67-abc1-4b70-8421-7ad8914347b5 {color: black;background-color: white;}#sk-1d8e3f67-abc1-4b70-8421-7ad8914347b5 pre{padding: 0;}#sk-1d8e3f67-abc1-4b70-8421-7ad8914347b5 div.sk-toggleable {background-color: white;}#sk-1d8e3f67-abc1-4b70-8421-7ad8914347b5 label.sk-toggleable__label {cursor: pointer;display: block;width: 100%;margin-bottom: 0;padding: 0.3em;box-sizing: border-box;text-align: center;}#sk-1d8e3f67-abc1-4b70-8421-7ad8914347b5 div.sk-toggleable__content {max-height: 0;max-width: 0;overflow: hidden;text-align: left;background-color: #f0f8ff;}#sk-1d8e3f67-abc1-4b70-8421-7ad8914347b5 div.sk-toggleable__content pre {margin: 0.2em;color: black;border-radius: 0.25em;background-color: #f0f8ff;}#sk-1d8e3f67-abc1-4b70-8421-7ad8914347b5 input.sk-toggleable__control:checked~div.sk-toggleable__content {max-height: 200px;max-width: 100%;overflow: auto;}#sk-1d8e3f67-abc1-4b70-8421-7ad8914347b5 div.sk-estimator input.sk-toggleable__control:checked~label.sk-toggleable__label {background-color: #d4ebff;}#sk-1d8e3f67-abc1-4b70-8421-7ad8914347b5 div.sk-label input.sk-toggleable__control:checked~label.sk-toggleable__label {background-color: #d4ebff;}#sk-1d8e3f67-abc1-4b70-8421-7ad8914347b5 input.sk-hidden--visually {border: 0;clip: rect(1px 1px 1px 1px);clip: rect(1px, 1px, 1px, 1px);height: 1px;margin: -1px;overflow: hidden;padding: 0;position: absolute;width: 1px;}#sk-1d8e3f67-abc1-4b70-8421-7ad8914347b5 div.sk-estimator {font-family: monospace;background-color: #f0f8ff;border: 1px dotted black;border-radius: 0.25em;box-sizing: border-box;margin-bottom: 0.5em;}#sk-1d8e3f67-abc1-4b70-8421-7ad8914347b5 div.sk-estimator:hover {background-color: #d4ebff;}#sk-1d8e3f67-abc1-4b70-8421-7ad8914347b5 div.sk-parallel-item::after {content: \"\";width: 100%;border-bottom: 1px solid gray;flex-grow: 1;}#sk-1d8e3f67-abc1-4b70-8421-7ad8914347b5 div.sk-label:hover label.sk-toggleable__label {background-color: #d4ebff;}#sk-1d8e3f67-abc1-4b70-8421-7ad8914347b5 div.sk-serial::before {content: \"\";position: absolute;border-left: 1px solid gray;box-sizing: border-box;top: 2em;bottom: 0;left: 50%;}#sk-1d8e3f67-abc1-4b70-8421-7ad8914347b5 div.sk-serial {display: flex;flex-direction: column;align-items: center;background-color: white;padding-right: 0.2em;padding-left: 0.2em;}#sk-1d8e3f67-abc1-4b70-8421-7ad8914347b5 div.sk-item {z-index: 1;}#sk-1d8e3f67-abc1-4b70-8421-7ad8914347b5 div.sk-parallel {display: flex;align-items: stretch;justify-content: center;background-color: white;}#sk-1d8e3f67-abc1-4b70-8421-7ad8914347b5 div.sk-parallel::before {content: \"\";position: absolute;border-left: 1px solid gray;box-sizing: border-box;top: 2em;bottom: 0;left: 50%;}#sk-1d8e3f67-abc1-4b70-8421-7ad8914347b5 div.sk-parallel-item {display: flex;flex-direction: column;position: relative;background-color: white;}#sk-1d8e3f67-abc1-4b70-8421-7ad8914347b5 div.sk-parallel-item:first-child::after {align-self: flex-end;width: 50%;}#sk-1d8e3f67-abc1-4b70-8421-7ad8914347b5 div.sk-parallel-item:last-child::after {align-self: flex-start;width: 50%;}#sk-1d8e3f67-abc1-4b70-8421-7ad8914347b5 div.sk-parallel-item:only-child::after {width: 0;}#sk-1d8e3f67-abc1-4b70-8421-7ad8914347b5 div.sk-dashed-wrapped {border: 1px dashed gray;margin: 0 0.4em 0.5em 0.4em;box-sizing: border-box;padding-bottom: 0.4em;background-color: white;position: relative;}#sk-1d8e3f67-abc1-4b70-8421-7ad8914347b5 div.sk-label label {font-family: monospace;font-weight: bold;background-color: white;display: inline-block;line-height: 1.2em;}#sk-1d8e3f67-abc1-4b70-8421-7ad8914347b5 div.sk-label-container {position: relative;z-index: 2;text-align: center;}#sk-1d8e3f67-abc1-4b70-8421-7ad8914347b5 div.sk-container {display: inline-block;position: relative;}</style><div id=\"sk-1d8e3f67-abc1-4b70-8421-7ad8914347b5\" class\"sk-top-container\"><div class=\"sk-container\"><div class=\"sk-item\"><div class=\"sk-estimator sk-toggleable\"><input class=\"sk-toggleable__control sk-hidden--visually\" id=\"c0281f04-f595-4e5d-ad48-78b9a04aeae8\" type=\"checkbox\" checked><label class=\"sk-toggleable__label\" for=\"c0281f04-f595-4e5d-ad48-78b9a04aeae8\">SVC</label><div class=\"sk-toggleable__content\"><pre>SVC(C=0.1, break_ties=False, cache_size=200, class_weight=None, coef0=0.0,\n",
       "    decision_function_shape='ovr', degree=3, gamma='scale', kernel='linear',\n",
       "    max_iter=-1, probability=False, random_state=None, shrinking=True,\n",
       "    tol=0.001, verbose=False)</pre></div></div></div></div></div>"
      ],
      "text/plain": [
       "SVC(C=0.1, break_ties=False, cache_size=200, class_weight=None, coef0=0.0,\n",
       "    decision_function_shape='ovr', degree=3, gamma='scale', kernel='linear',\n",
       "    max_iter=-1, probability=False, random_state=None, shrinking=True,\n",
       "    tol=0.001, verbose=False)"
      ]
     },
     "execution_count": 430,
     "metadata": {},
     "output_type": "execute_result"
    }
   ],
   "source": [
    "clf = SVC(C=0.1, kernel=\"linear\")\n",
    "clf"
   ]
  },
  {
   "cell_type": "markdown",
   "id": "8e58a09a",
   "metadata": {},
   "source": [
    "### Error when using positional arguments"
   ]
  },
  {
   "cell_type": "code",
   "execution_count": 431,
   "id": "69f58c29",
   "metadata": {},
   "outputs": [
    {
     "data": {
      "text/plain": [
       "'1.0.1'"
      ]
     },
     "execution_count": 431,
     "metadata": {},
     "output_type": "execute_result"
    }
   ],
   "source": [
    "sklearn.__version__"
   ]
  },
  {
   "cell_type": "code",
   "execution_count": 432,
   "id": "11e4c2fc",
   "metadata": {},
   "outputs": [
    {
     "ename": "TypeError",
     "evalue": "__init__() takes 1 positional argument but 3 were given",
     "output_type": "error",
     "traceback": [
      "\u001b[1;31m---------------------------------------------------------------------------\u001b[0m",
      "\u001b[1;31mTypeError\u001b[0m                                 Traceback (most recent call last)",
      "\u001b[1;32m~\\AppData\\Local\\Temp/ipykernel_2588/3064026906.py\u001b[0m in \u001b[0;36m<module>\u001b[1;34m\u001b[0m\n\u001b[1;32m----> 1\u001b[1;33m \u001b[0mclf\u001b[0m \u001b[1;33m=\u001b[0m \u001b[0mSVC\u001b[0m\u001b[1;33m(\u001b[0m\u001b[1;36m0.1\u001b[0m\u001b[1;33m,\u001b[0m \u001b[1;34m'linear'\u001b[0m\u001b[1;33m)\u001b[0m\u001b[1;33m\u001b[0m\u001b[1;33m\u001b[0m\u001b[0m\n\u001b[0m\u001b[0;32m      2\u001b[0m \u001b[0mclf\u001b[0m\u001b[1;33m\u001b[0m\u001b[1;33m\u001b[0m\u001b[0m\n",
      "\u001b[1;31mTypeError\u001b[0m: __init__() takes 1 positional argument but 3 were given"
     ]
    }
   ],
   "source": [
    "clf = SVC(0.1, 'linear')\n",
    "clf"
   ]
  },
  {
   "cell_type": "code",
   "execution_count": null,
   "id": "9783375d",
   "metadata": {},
   "outputs": [],
   "source": []
  },
  {
   "cell_type": "code",
   "execution_count": null,
   "id": "80a6e37d",
   "metadata": {},
   "outputs": [],
   "source": []
  }
 ],
 "metadata": {
  "kernelspec": {
   "display_name": "Python [conda env:py39] *",
   "language": "python",
   "name": "conda-env-py39-py"
  },
  "language_info": {
   "codemirror_mode": {
    "name": "ipython",
    "version": 3
   },
   "file_extension": ".py",
   "mimetype": "text/x-python",
   "name": "python",
   "nbconvert_exporter": "python",
   "pygments_lexer": "ipython3",
   "version": "3.9.7"
  },
  "latex_envs": {
   "LaTeX_envs_menu_present": true,
   "autoclose": false,
   "autocomplete": true,
   "bibliofile": "biblio.bib",
   "cite_by": "apalike",
   "current_citInitial": 1,
   "eqLabelWithNumbers": true,
   "eqNumInitial": 1,
   "hotkeys": {
    "equation": "Ctrl-E",
    "itemize": "Ctrl-I"
   },
   "labels_anchors": false,
   "latex_user_defs": false,
   "report_style_numbering": false,
   "user_envs_cfg": false
  },
  "toc": {
   "base_numbering": 1,
   "nav_menu": {},
   "number_sections": true,
   "sideBar": true,
   "skip_h1_title": false,
   "title_cell": "Table of Contents",
   "title_sidebar": "Contents",
   "toc_cell": false,
   "toc_position": {
    "height": "calc(100% - 180px)",
    "left": "10px",
    "top": "150px",
    "width": "369px"
   },
   "toc_section_display": true,
   "toc_window_display": true
  },
  "varInspector": {
   "cols": {
    "lenName": 16,
    "lenType": 16,
    "lenVar": 40
   },
   "kernels_config": {
    "python": {
     "delete_cmd_postfix": "",
     "delete_cmd_prefix": "del ",
     "library": "var_list.py",
     "varRefreshCmd": "print(var_dic_list())"
    },
    "r": {
     "delete_cmd_postfix": ") ",
     "delete_cmd_prefix": "rm(",
     "library": "var_list.r",
     "varRefreshCmd": "cat(var_dic_list()) "
    }
   },
   "types_to_exclude": [
    "module",
    "function",
    "builtin_function_or_method",
    "instance",
    "_Feature"
   ],
   "window_display": false
  }
 },
 "nbformat": 4,
 "nbformat_minor": 5
}
