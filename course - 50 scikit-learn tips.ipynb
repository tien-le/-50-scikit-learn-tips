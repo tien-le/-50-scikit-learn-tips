{
 "cells": [
  {
   "cell_type": "markdown",
   "id": "1c9654a5",
   "metadata": {},
   "source": [
    "Course \"50 scikit-learn tips\" by **Kenvin Markham**\n",
    "\n",
    "Link: https://courses.dataschool.io/courses/scikit-learn-tips/801794-introduction/2376425-welcome-to-the-course\n",
    "\n",
    "* Updated by Tien LE\n",
    "* Updated date: 2021-10-01\n"
   ]
  },
  {
   "cell_type": "code",
   "execution_count": 1,
   "id": "69662ef3",
   "metadata": {
    "ExecuteTime": {
     "end_time": "2021-10-17T18:27:04.042932Z",
     "start_time": "2021-10-17T18:27:02.792014Z"
    }
   },
   "outputs": [],
   "source": [
    "import os\n",
    "import sys\n",
    "import sklearn\n",
    "import numpy as np\n",
    "import pandas as pd\n",
    "import matplotlib.pyplot as plt"
   ]
  },
  {
   "cell_type": "code",
   "execution_count": 2,
   "id": "b3d3096e",
   "metadata": {
    "ExecuteTime": {
     "end_time": "2021-10-17T18:27:04.074149Z",
     "start_time": "2021-10-17T18:27:04.058524Z"
    }
   },
   "outputs": [
    {
     "data": {
      "text/plain": [
       "'1.0.1'"
      ]
     },
     "execution_count": 2,
     "metadata": {},
     "output_type": "execute_result"
    }
   ],
   "source": [
    "sklearn.__version__"
   ]
  },
  {
   "cell_type": "code",
   "execution_count": 3,
   "id": "a7d9429c",
   "metadata": {
    "ExecuteTime": {
     "end_time": "2021-10-17T18:27:04.111927Z",
     "start_time": "2021-10-17T18:27:04.096274Z"
    }
   },
   "outputs": [],
   "source": [
    "# Upgrade scikit-learn to 1.0\n",
    "# ! pip install --upgrade scikit-learn"
   ]
  },
  {
   "cell_type": "markdown",
   "id": "378c36a3-047e-4e4a-a58e-79c6011c84ae",
   "metadata": {},
   "source": [
    "# Data Settings"
   ]
  },
  {
   "cell_type": "code",
   "execution_count": 4,
   "id": "05f73c10-6100-416a-86a3-6d4cb7dc1784",
   "metadata": {},
   "outputs": [],
   "source": [
    "file_input_path = \"titanic_train.csv\"\n",
    "if not os.path.exists(file_input_path):\n",
    "    df_train = pd.read_csv(\"http://bit.ly/kaggletrain\")\n",
    "    df_train.to_csv(file_input_path, header=True, index=False, sep=\"\\t\")\n",
    "else:\n",
    "    df_train = pd.read_csv(file_input_path, header=0, sep=\"\\t\")\n",
    "    \n",
    "features = [\"Pclass\", \"Fare\"]\n",
    "X, y = df_train[features], df_train[\"Survived\"]\n",
    "\n",
    "from sklearn.model_selection import train_test_split\n",
    "X_train, X_test, y_train, y_test = train_test_split(X, y, random_state=0)"
   ]
  },
  {
   "cell_type": "code",
   "execution_count": 5,
   "id": "7f62a09d-1a3b-4097-9a30-2e3fc40f3330",
   "metadata": {},
   "outputs": [],
   "source": [
    "file_input_path = \"titanic_test.csv\"\n",
    "if not os.path.exists(file_input_path):\n",
    "    df_test = pd.read_csv(\"http://bit.ly/kaggletest\")\n",
    "    df_test.to_csv(file_input_path, header=True, index=False, sep=\"\\t\")\n",
    "else:\n",
    "    df_test = pd.read_csv(file_input_path, header=0, sep=\"\\t\")"
   ]
  },
  {
   "cell_type": "markdown",
   "id": "29fa6d89",
   "metadata": {},
   "source": [
    "# Data Preprocessing"
   ]
  },
  {
   "cell_type": "markdown",
   "id": "8c6424ba",
   "metadata": {},
   "source": [
    "## Use ColumnTransformer to apply different preprocessing to different columns\n",
    "\n",
    "Use ColumnTransformer to apply different preprocessing to different columns:\n",
    "+ select from DataFrame columns by name\n",
    "+ passthrough or drop unspecified columns\n",
    "\n",
    "Requires scikit-learn 0.20+\n",
    "\n",
    "Additional links: [OneHotEncoder](https://scikit-learn.org/stable/modules/generated/sklearn.preprocessing.OneHotEncoder.html), [SimpleImputer](https://scikit-learn.org/stable/modules/generated/sklearn.impute.SimpleImputer.html), [make_column_transformer](https://scikit-learn.org/stable/modules/generated/sklearn.compose.make_column_transformer.html?highlight=make_column_transformer)"
   ]
  },
  {
   "cell_type": "code",
   "execution_count": 6,
   "id": "df79d079",
   "metadata": {
    "ExecuteTime": {
     "end_time": "2021-10-17T18:27:04.591014Z",
     "start_time": "2021-10-17T18:27:04.544150Z"
    }
   },
   "outputs": [],
   "source": [
    "file_input_path = \"titanic_train.csv\"\n",
    "if not os.path.exists(file_input_path):\n",
    "    df = pd.read_csv(\"http://bit.ly/kaggletrain\")\n",
    "    df.to_csv(file_input_path, header=True, index=False, sep=\"\\t\")\n",
    "else:\n",
    "    df = pd.read_csv(file_input_path, header=0, sep=\"\\t\")"
   ]
  },
  {
   "cell_type": "code",
   "execution_count": 7,
   "id": "a8359d1c",
   "metadata": {
    "ExecuteTime": {
     "end_time": "2021-10-17T18:27:04.644390Z",
     "start_time": "2021-10-17T18:27:04.597519Z"
    }
   },
   "outputs": [
    {
     "name": "stdout",
     "output_type": "stream",
     "text": [
      "<class 'pandas.core.frame.DataFrame'>\n",
      "RangeIndex: 891 entries, 0 to 890\n",
      "Data columns (total 12 columns):\n",
      " #   Column       Non-Null Count  Dtype  \n",
      "---  ------       --------------  -----  \n",
      " 0   PassengerId  891 non-null    int64  \n",
      " 1   Survived     891 non-null    int64  \n",
      " 2   Pclass       891 non-null    int64  \n",
      " 3   Name         891 non-null    object \n",
      " 4   Sex          891 non-null    object \n",
      " 5   Age          714 non-null    float64\n",
      " 6   SibSp        891 non-null    int64  \n",
      " 7   Parch        891 non-null    int64  \n",
      " 8   Ticket       891 non-null    object \n",
      " 9   Fare         891 non-null    float64\n",
      " 10  Cabin        204 non-null    object \n",
      " 11  Embarked     889 non-null    object \n",
      "dtypes: float64(2), int64(5), object(5)\n",
      "memory usage: 83.7+ KB\n"
     ]
    }
   ],
   "source": [
    "df.info()"
   ]
  },
  {
   "cell_type": "code",
   "execution_count": 8,
   "id": "de1617b9",
   "metadata": {
    "ExecuteTime": {
     "end_time": "2021-10-17T18:27:04.675631Z",
     "start_time": "2021-10-17T18:27:04.644390Z"
    }
   },
   "outputs": [
    {
     "data": {
      "text/html": [
       "<div>\n",
       "<style scoped>\n",
       "    .dataframe tbody tr th:only-of-type {\n",
       "        vertical-align: middle;\n",
       "    }\n",
       "\n",
       "    .dataframe tbody tr th {\n",
       "        vertical-align: top;\n",
       "    }\n",
       "\n",
       "    .dataframe thead th {\n",
       "        text-align: right;\n",
       "    }\n",
       "</style>\n",
       "<table border=\"1\" class=\"dataframe\">\n",
       "  <thead>\n",
       "    <tr style=\"text-align: right;\">\n",
       "      <th></th>\n",
       "      <th>PassengerId</th>\n",
       "      <th>Survived</th>\n",
       "      <th>Pclass</th>\n",
       "      <th>Name</th>\n",
       "      <th>Sex</th>\n",
       "      <th>Age</th>\n",
       "      <th>SibSp</th>\n",
       "      <th>Parch</th>\n",
       "      <th>Ticket</th>\n",
       "      <th>Fare</th>\n",
       "      <th>Cabin</th>\n",
       "      <th>Embarked</th>\n",
       "    </tr>\n",
       "  </thead>\n",
       "  <tbody>\n",
       "    <tr>\n",
       "      <th>0</th>\n",
       "      <td>1</td>\n",
       "      <td>0</td>\n",
       "      <td>3</td>\n",
       "      <td>Braund, Mr. Owen Harris</td>\n",
       "      <td>male</td>\n",
       "      <td>22.0</td>\n",
       "      <td>1</td>\n",
       "      <td>0</td>\n",
       "      <td>A/5 21171</td>\n",
       "      <td>7.2500</td>\n",
       "      <td>NaN</td>\n",
       "      <td>S</td>\n",
       "    </tr>\n",
       "    <tr>\n",
       "      <th>1</th>\n",
       "      <td>2</td>\n",
       "      <td>1</td>\n",
       "      <td>1</td>\n",
       "      <td>Cumings, Mrs. John Bradley (Florence Briggs Th...</td>\n",
       "      <td>female</td>\n",
       "      <td>38.0</td>\n",
       "      <td>1</td>\n",
       "      <td>0</td>\n",
       "      <td>PC 17599</td>\n",
       "      <td>71.2833</td>\n",
       "      <td>C85</td>\n",
       "      <td>C</td>\n",
       "    </tr>\n",
       "    <tr>\n",
       "      <th>2</th>\n",
       "      <td>3</td>\n",
       "      <td>1</td>\n",
       "      <td>3</td>\n",
       "      <td>Heikkinen, Miss. Laina</td>\n",
       "      <td>female</td>\n",
       "      <td>26.0</td>\n",
       "      <td>0</td>\n",
       "      <td>0</td>\n",
       "      <td>STON/O2. 3101282</td>\n",
       "      <td>7.9250</td>\n",
       "      <td>NaN</td>\n",
       "      <td>S</td>\n",
       "    </tr>\n",
       "    <tr>\n",
       "      <th>3</th>\n",
       "      <td>4</td>\n",
       "      <td>1</td>\n",
       "      <td>1</td>\n",
       "      <td>Futrelle, Mrs. Jacques Heath (Lily May Peel)</td>\n",
       "      <td>female</td>\n",
       "      <td>35.0</td>\n",
       "      <td>1</td>\n",
       "      <td>0</td>\n",
       "      <td>113803</td>\n",
       "      <td>53.1000</td>\n",
       "      <td>C123</td>\n",
       "      <td>S</td>\n",
       "    </tr>\n",
       "    <tr>\n",
       "      <th>4</th>\n",
       "      <td>5</td>\n",
       "      <td>0</td>\n",
       "      <td>3</td>\n",
       "      <td>Allen, Mr. William Henry</td>\n",
       "      <td>male</td>\n",
       "      <td>35.0</td>\n",
       "      <td>0</td>\n",
       "      <td>0</td>\n",
       "      <td>373450</td>\n",
       "      <td>8.0500</td>\n",
       "      <td>NaN</td>\n",
       "      <td>S</td>\n",
       "    </tr>\n",
       "    <tr>\n",
       "      <th>5</th>\n",
       "      <td>6</td>\n",
       "      <td>0</td>\n",
       "      <td>3</td>\n",
       "      <td>Moran, Mr. James</td>\n",
       "      <td>male</td>\n",
       "      <td>NaN</td>\n",
       "      <td>0</td>\n",
       "      <td>0</td>\n",
       "      <td>330877</td>\n",
       "      <td>8.4583</td>\n",
       "      <td>NaN</td>\n",
       "      <td>Q</td>\n",
       "    </tr>\n",
       "  </tbody>\n",
       "</table>\n",
       "</div>"
      ],
      "text/plain": [
       "   PassengerId  Survived  Pclass  \\\n",
       "0            1         0       3   \n",
       "1            2         1       1   \n",
       "2            3         1       3   \n",
       "3            4         1       1   \n",
       "4            5         0       3   \n",
       "5            6         0       3   \n",
       "\n",
       "                                                Name     Sex   Age  SibSp  \\\n",
       "0                            Braund, Mr. Owen Harris    male  22.0      1   \n",
       "1  Cumings, Mrs. John Bradley (Florence Briggs Th...  female  38.0      1   \n",
       "2                             Heikkinen, Miss. Laina  female  26.0      0   \n",
       "3       Futrelle, Mrs. Jacques Heath (Lily May Peel)  female  35.0      1   \n",
       "4                           Allen, Mr. William Henry    male  35.0      0   \n",
       "5                                   Moran, Mr. James    male   NaN      0   \n",
       "\n",
       "   Parch            Ticket     Fare Cabin Embarked  \n",
       "0      0         A/5 21171   7.2500   NaN        S  \n",
       "1      0          PC 17599  71.2833   C85        C  \n",
       "2      0  STON/O2. 3101282   7.9250   NaN        S  \n",
       "3      0            113803  53.1000  C123        S  \n",
       "4      0            373450   8.0500   NaN        S  \n",
       "5      0            330877   8.4583   NaN        Q  "
      ]
     },
     "execution_count": 8,
     "metadata": {},
     "output_type": "execute_result"
    }
   ],
   "source": [
    "df.head(6)"
   ]
  },
  {
   "cell_type": "code",
   "execution_count": 9,
   "id": "f988b93e",
   "metadata": {
    "ExecuteTime": {
     "end_time": "2021-10-17T18:27:04.720388Z",
     "start_time": "2021-10-17T18:27:04.691252Z"
    }
   },
   "outputs": [
    {
     "data": {
      "text/html": [
       "<div>\n",
       "<style scoped>\n",
       "    .dataframe tbody tr th:only-of-type {\n",
       "        vertical-align: middle;\n",
       "    }\n",
       "\n",
       "    .dataframe tbody tr th {\n",
       "        vertical-align: top;\n",
       "    }\n",
       "\n",
       "    .dataframe thead th {\n",
       "        text-align: right;\n",
       "    }\n",
       "</style>\n",
       "<table border=\"1\" class=\"dataframe\">\n",
       "  <thead>\n",
       "    <tr style=\"text-align: right;\">\n",
       "      <th></th>\n",
       "      <th>Fare</th>\n",
       "      <th>Embarked</th>\n",
       "      <th>Sex</th>\n",
       "      <th>Age</th>\n",
       "    </tr>\n",
       "  </thead>\n",
       "  <tbody>\n",
       "    <tr>\n",
       "      <th>0</th>\n",
       "      <td>7.2500</td>\n",
       "      <td>S</td>\n",
       "      <td>male</td>\n",
       "      <td>22.0</td>\n",
       "    </tr>\n",
       "    <tr>\n",
       "      <th>1</th>\n",
       "      <td>71.2833</td>\n",
       "      <td>C</td>\n",
       "      <td>female</td>\n",
       "      <td>38.0</td>\n",
       "    </tr>\n",
       "    <tr>\n",
       "      <th>2</th>\n",
       "      <td>7.9250</td>\n",
       "      <td>S</td>\n",
       "      <td>female</td>\n",
       "      <td>26.0</td>\n",
       "    </tr>\n",
       "    <tr>\n",
       "      <th>3</th>\n",
       "      <td>53.1000</td>\n",
       "      <td>S</td>\n",
       "      <td>female</td>\n",
       "      <td>35.0</td>\n",
       "    </tr>\n",
       "    <tr>\n",
       "      <th>4</th>\n",
       "      <td>8.0500</td>\n",
       "      <td>S</td>\n",
       "      <td>male</td>\n",
       "      <td>35.0</td>\n",
       "    </tr>\n",
       "    <tr>\n",
       "      <th>5</th>\n",
       "      <td>8.4583</td>\n",
       "      <td>Q</td>\n",
       "      <td>male</td>\n",
       "      <td>NaN</td>\n",
       "    </tr>\n",
       "  </tbody>\n",
       "</table>\n",
       "</div>"
      ],
      "text/plain": [
       "      Fare Embarked     Sex   Age\n",
       "0   7.2500        S    male  22.0\n",
       "1  71.2833        C  female  38.0\n",
       "2   7.9250        S  female  26.0\n",
       "3  53.1000        S  female  35.0\n",
       "4   8.0500        S    male  35.0\n",
       "5   8.4583        Q    male   NaN"
      ]
     },
     "execution_count": 9,
     "metadata": {},
     "output_type": "execute_result"
    }
   ],
   "source": [
    "cols = [\"Fare\", \"Embarked\", \"Sex\", \"Age\"]\n",
    "X = df[cols]\n",
    "X = X.head(6)\n",
    "X"
   ]
  },
  {
   "cell_type": "code",
   "execution_count": 10,
   "id": "82340a4a",
   "metadata": {
    "ExecuteTime": {
     "end_time": "2021-10-17T18:27:04.920871Z",
     "start_time": "2021-10-17T18:27:04.720388Z"
    }
   },
   "outputs": [],
   "source": [
    "from sklearn.preprocessing import OneHotEncoder\n",
    "from sklearn.impute import SimpleImputer\n",
    "from sklearn.compose import make_column_transformer"
   ]
  },
  {
   "cell_type": "code",
   "execution_count": 11,
   "id": "f48537b0",
   "metadata": {
    "ExecuteTime": {
     "end_time": "2021-10-17T18:27:04.936492Z",
     "start_time": "2021-10-17T18:27:04.920871Z"
    }
   },
   "outputs": [],
   "source": [
    "ohe = OneHotEncoder()\n",
    "simple_imputer = SimpleImputer()  # get mean value"
   ]
  },
  {
   "cell_type": "code",
   "execution_count": 12,
   "id": "67386b4b",
   "metadata": {
    "ExecuteTime": {
     "end_time": "2021-10-17T18:27:04.983362Z",
     "start_time": "2021-10-17T18:27:04.952112Z"
    }
   },
   "outputs": [],
   "source": [
    "col_transformer = make_column_transformer(\n",
    "    (ohe, [\"Embarked\", \"Sex\"]),\n",
    "    (simple_imputer, [\"Age\"]),\n",
    "    remainder=\"passthrough\"\n",
    ")\n",
    "\n",
    "#https://scikit-learn.org/stable/modules/generated/sklearn.compose.make_column_transformer.html?highlight=make_column_transformer\n",
    "#remainder{‘drop’, ‘passthrough’} or estimator, default=’drop’\n",
    "#   By default, only the specified columns in transformers are transformed and combined in the output, and the non-specified columns are dropped. (default of 'drop'). By specifying remainder='passthrough', all remaining columns that were not specified in transformers will be automatically passed through. This subset of columns is concatenated with the output of the transformers. By setting remainder to be an estimator, the remaining non-specified columns will use the remainder estimator. The estimator must support fit and transform."
   ]
  },
  {
   "cell_type": "code",
   "execution_count": 13,
   "id": "0997c6b2",
   "metadata": {
    "ExecuteTime": {
     "end_time": "2021-10-17T18:27:05.021110Z",
     "start_time": "2021-10-17T18:27:04.983362Z"
    }
   },
   "outputs": [
    {
     "data": {
      "text/plain": [
       "array([[ 0.    ,  0.    ,  1.    ,  0.    ,  1.    , 22.    ,  7.25  ],\n",
       "       [ 1.    ,  0.    ,  0.    ,  1.    ,  0.    , 38.    , 71.2833],\n",
       "       [ 0.    ,  0.    ,  1.    ,  1.    ,  0.    , 26.    ,  7.925 ],\n",
       "       [ 0.    ,  0.    ,  1.    ,  1.    ,  0.    , 35.    , 53.1   ],\n",
       "       [ 0.    ,  0.    ,  1.    ,  0.    ,  1.    , 35.    ,  8.05  ],\n",
       "       [ 0.    ,  1.    ,  0.    ,  0.    ,  1.    , 31.2   ,  8.4583]])"
      ]
     },
     "execution_count": 13,
     "metadata": {},
     "output_type": "execute_result"
    }
   ],
   "source": [
    "col_transformer.fit_transform(X)"
   ]
  },
  {
   "cell_type": "markdown",
   "id": "aa7a5db0",
   "metadata": {},
   "source": [
    "## Seven ways to select columns using ColumnTransformer\n",
    "\n",
    "There are SEVEN ways to select columns using [ColumnTransformer](https://scikit-learn.org/stable/modules/generated/sklearn.compose.make_column_transformer.html):\n",
    "+ column name\n",
    "+ integer position\n",
    "+ slice\n",
    "+ boolean mask\n",
    "+ regex pattern\n",
    "+ dtypes to include\n",
    "+ dtypes to exclude\n",
    "\n",
    "Additional links: [make_column_selector](https://scikit-learn.org/stable/modules/generated/sklearn.compose.make_column_selector.html)"
   ]
  },
  {
   "cell_type": "code",
   "execution_count": 14,
   "id": "23d4209b",
   "metadata": {
    "ExecuteTime": {
     "end_time": "2021-10-17T18:27:05.036731Z",
     "start_time": "2021-10-17T18:27:05.021110Z"
    }
   },
   "outputs": [],
   "source": [
    "import os \n",
    "\n",
    "file_input_path = \"titanic_train.csv\"\n",
    "if not os.path.exists(file_input_path):\n",
    "    df = pd.read_csv(\"http://bit.ly/kaggletrain\")\n",
    "    df.to_csv(file_input_path, header=True, index=False, sep=\"\\t\")\n",
    "else:\n",
    "    df = pd.read_csv(file_input_path, header=0, sep=\"\\t\")"
   ]
  },
  {
   "cell_type": "code",
   "execution_count": 15,
   "id": "8fec41bd",
   "metadata": {
    "ExecuteTime": {
     "end_time": "2021-10-17T18:27:05.083595Z",
     "start_time": "2021-10-17T18:27:05.036731Z"
    }
   },
   "outputs": [
    {
     "data": {
      "text/html": [
       "<div>\n",
       "<style scoped>\n",
       "    .dataframe tbody tr th:only-of-type {\n",
       "        vertical-align: middle;\n",
       "    }\n",
       "\n",
       "    .dataframe tbody tr th {\n",
       "        vertical-align: top;\n",
       "    }\n",
       "\n",
       "    .dataframe thead th {\n",
       "        text-align: right;\n",
       "    }\n",
       "</style>\n",
       "<table border=\"1\" class=\"dataframe\">\n",
       "  <thead>\n",
       "    <tr style=\"text-align: right;\">\n",
       "      <th></th>\n",
       "      <th>Fare</th>\n",
       "      <th>Embarked</th>\n",
       "      <th>Sex</th>\n",
       "      <th>Age</th>\n",
       "    </tr>\n",
       "  </thead>\n",
       "  <tbody>\n",
       "    <tr>\n",
       "      <th>0</th>\n",
       "      <td>7.2500</td>\n",
       "      <td>S</td>\n",
       "      <td>male</td>\n",
       "      <td>22.0</td>\n",
       "    </tr>\n",
       "    <tr>\n",
       "      <th>1</th>\n",
       "      <td>71.2833</td>\n",
       "      <td>C</td>\n",
       "      <td>female</td>\n",
       "      <td>38.0</td>\n",
       "    </tr>\n",
       "    <tr>\n",
       "      <th>2</th>\n",
       "      <td>7.9250</td>\n",
       "      <td>S</td>\n",
       "      <td>female</td>\n",
       "      <td>26.0</td>\n",
       "    </tr>\n",
       "    <tr>\n",
       "      <th>3</th>\n",
       "      <td>53.1000</td>\n",
       "      <td>S</td>\n",
       "      <td>female</td>\n",
       "      <td>35.0</td>\n",
       "    </tr>\n",
       "    <tr>\n",
       "      <th>4</th>\n",
       "      <td>8.0500</td>\n",
       "      <td>S</td>\n",
       "      <td>male</td>\n",
       "      <td>35.0</td>\n",
       "    </tr>\n",
       "    <tr>\n",
       "      <th>5</th>\n",
       "      <td>8.4583</td>\n",
       "      <td>Q</td>\n",
       "      <td>male</td>\n",
       "      <td>NaN</td>\n",
       "    </tr>\n",
       "  </tbody>\n",
       "</table>\n",
       "</div>"
      ],
      "text/plain": [
       "      Fare Embarked     Sex   Age\n",
       "0   7.2500        S    male  22.0\n",
       "1  71.2833        C  female  38.0\n",
       "2   7.9250        S  female  26.0\n",
       "3  53.1000        S  female  35.0\n",
       "4   8.0500        S    male  35.0\n",
       "5   8.4583        Q    male   NaN"
      ]
     },
     "execution_count": 15,
     "metadata": {},
     "output_type": "execute_result"
    }
   ],
   "source": [
    "cols = [\"Fare\", \"Embarked\", \"Sex\", \"Age\"]\n",
    "X = df[cols]\n",
    "X = X.head(6)\n",
    "X"
   ]
  },
  {
   "cell_type": "code",
   "execution_count": 16,
   "id": "87e4eb68",
   "metadata": {
    "ExecuteTime": {
     "end_time": "2021-10-17T18:27:05.099216Z",
     "start_time": "2021-10-17T18:27:05.083595Z"
    }
   },
   "outputs": [],
   "source": [
    "from sklearn.preprocessing import OneHotEncoder\n",
    "from sklearn.compose import make_column_transformer, make_column_selector"
   ]
  },
  {
   "cell_type": "code",
   "execution_count": 17,
   "id": "81d65960",
   "metadata": {
    "ExecuteTime": {
     "end_time": "2021-10-17T18:27:05.152590Z",
     "start_time": "2021-10-17T18:27:05.105722Z"
    }
   },
   "outputs": [],
   "source": [
    "ohe = OneHotEncoder()"
   ]
  },
  {
   "cell_type": "code",
   "execution_count": 18,
   "id": "0e27ce4b",
   "metadata": {
    "ExecuteTime": {
     "end_time": "2021-10-17T18:27:05.168212Z",
     "start_time": "2021-10-17T18:27:05.152590Z"
    }
   },
   "outputs": [
    {
     "data": {
      "text/plain": [
       "Index(['Fare', 'Embarked', 'Sex', 'Age'], dtype='object')"
      ]
     },
     "execution_count": 18,
     "metadata": {},
     "output_type": "execute_result"
    }
   ],
   "source": [
    "X.columns"
   ]
  },
  {
   "cell_type": "code",
   "execution_count": 19,
   "id": "2bcdcfa8",
   "metadata": {
    "ExecuteTime": {
     "end_time": "2021-10-17T18:27:05.223587Z",
     "start_time": "2021-10-17T18:27:05.168212Z"
    }
   },
   "outputs": [],
   "source": [
    "# all SEVEN of these produce the same results\n",
    "# Note that: reminder = \"drop\" (by default)\n",
    "\n",
    "# column name\n",
    "col_transformer = make_column_transformer((ohe, ['Embarked', 'Sex']))\n",
    "\n",
    "# integer position\n",
    "col_transformer = make_column_transformer((ohe, [1,2]))  # column index 0,1,2,...\n",
    "\n",
    "# slice\n",
    "col_transformer = make_column_transformer((ohe, slice(1,3)))  # column from index 1 to k-1\n",
    "\n",
    "# boolean mask\n",
    "col_transformer = make_column_transformer((ohe, [False, True, True, False]))\n",
    "\n",
    "# regex pattern\n",
    "col_transformer = make_column_transformer((ohe, make_column_selector(pattern=\"E|S\")))  # startwiths E or S\n",
    "# https://scikit-learn.org/stable/modules/generated/sklearn.compose.make_column_selector.html\n",
    "# patternstr, default=None\n",
    "#   Name of columns containing this regex pattern will be included. If None, column selection will not be selected based on pattern.\n",
    "\n",
    "# dtypes to include\n",
    "col_transformer = make_column_transformer((ohe, make_column_selector(dtype_include=object)))\n",
    "\n",
    "# dtypes to exclude\n",
    "col_transformer = make_column_transformer((ohe, make_column_selector(dtype_exclude=np.number)))"
   ]
  },
  {
   "cell_type": "code",
   "execution_count": 20,
   "id": "13282248",
   "metadata": {
    "ExecuteTime": {
     "end_time": "2021-10-17T18:27:05.254830Z",
     "start_time": "2021-10-17T18:27:05.223587Z"
    }
   },
   "outputs": [
    {
     "data": {
      "text/plain": [
       "array([[0., 0., 1., 0., 1.],\n",
       "       [1., 0., 0., 1., 0.],\n",
       "       [0., 0., 1., 1., 0.],\n",
       "       [0., 0., 1., 1., 0.],\n",
       "       [0., 0., 1., 0., 1.],\n",
       "       [0., 1., 0., 0., 1.]])"
      ]
     },
     "execution_count": 20,
     "metadata": {},
     "output_type": "execute_result"
    }
   ],
   "source": [
    "col_transformer.fit_transform(X)"
   ]
  },
  {
   "cell_type": "markdown",
   "id": "68146ed9",
   "metadata": {},
   "source": [
    "### Simple Case\n",
    "\n",
    "https://scikit-learn.org/stable/modules/generated/sklearn.preprocessing.StandardScaler.html?highlight=standardscaler#sklearn.preprocessing.StandardScaler\n",
    "\n",
    "Standardize features by removing the mean and scaling to unit variance."
   ]
  },
  {
   "cell_type": "code",
   "execution_count": 21,
   "id": "b8a63c05",
   "metadata": {
    "ExecuteTime": {
     "end_time": "2021-10-17T18:27:05.286080Z",
     "start_time": "2021-10-17T18:27:05.254830Z"
    }
   },
   "outputs": [
    {
     "data": {
      "text/html": [
       "<div>\n",
       "<style scoped>\n",
       "    .dataframe tbody tr th:only-of-type {\n",
       "        vertical-align: middle;\n",
       "    }\n",
       "\n",
       "    .dataframe tbody tr th {\n",
       "        vertical-align: top;\n",
       "    }\n",
       "\n",
       "    .dataframe thead th {\n",
       "        text-align: right;\n",
       "    }\n",
       "</style>\n",
       "<table border=\"1\" class=\"dataframe\">\n",
       "  <thead>\n",
       "    <tr style=\"text-align: right;\">\n",
       "      <th></th>\n",
       "      <th>Fare</th>\n",
       "      <th>Embarked</th>\n",
       "      <th>Sex</th>\n",
       "      <th>Age</th>\n",
       "    </tr>\n",
       "  </thead>\n",
       "  <tbody>\n",
       "    <tr>\n",
       "      <th>0</th>\n",
       "      <td>7.2500</td>\n",
       "      <td>S</td>\n",
       "      <td>male</td>\n",
       "      <td>22.0</td>\n",
       "    </tr>\n",
       "    <tr>\n",
       "      <th>1</th>\n",
       "      <td>71.2833</td>\n",
       "      <td>C</td>\n",
       "      <td>female</td>\n",
       "      <td>38.0</td>\n",
       "    </tr>\n",
       "    <tr>\n",
       "      <th>2</th>\n",
       "      <td>7.9250</td>\n",
       "      <td>S</td>\n",
       "      <td>female</td>\n",
       "      <td>26.0</td>\n",
       "    </tr>\n",
       "    <tr>\n",
       "      <th>3</th>\n",
       "      <td>53.1000</td>\n",
       "      <td>S</td>\n",
       "      <td>female</td>\n",
       "      <td>35.0</td>\n",
       "    </tr>\n",
       "    <tr>\n",
       "      <th>4</th>\n",
       "      <td>8.0500</td>\n",
       "      <td>S</td>\n",
       "      <td>male</td>\n",
       "      <td>35.0</td>\n",
       "    </tr>\n",
       "    <tr>\n",
       "      <th>5</th>\n",
       "      <td>8.4583</td>\n",
       "      <td>Q</td>\n",
       "      <td>male</td>\n",
       "      <td>NaN</td>\n",
       "    </tr>\n",
       "  </tbody>\n",
       "</table>\n",
       "</div>"
      ],
      "text/plain": [
       "      Fare Embarked     Sex   Age\n",
       "0   7.2500        S    male  22.0\n",
       "1  71.2833        C  female  38.0\n",
       "2   7.9250        S  female  26.0\n",
       "3  53.1000        S  female  35.0\n",
       "4   8.0500        S    male  35.0\n",
       "5   8.4583        Q    male   NaN"
      ]
     },
     "execution_count": 21,
     "metadata": {},
     "output_type": "execute_result"
    }
   ],
   "source": [
    "X"
   ]
  },
  {
   "cell_type": "code",
   "execution_count": 22,
   "id": "4611ec0a",
   "metadata": {
    "ExecuteTime": {
     "end_time": "2021-10-17T18:27:05.323828Z",
     "start_time": "2021-10-17T18:27:05.286080Z"
    }
   },
   "outputs": [
    {
     "data": {
      "text/plain": [
       "array([[-0.71829711, -1.50516598,  0.        ,  0.        ,  1.        ,\n",
       "         0.        ,  1.        ],\n",
       "       [ 1.7333147 ,  1.11251398,  1.        ,  0.        ,  0.        ,\n",
       "         1.        ,  0.        ],\n",
       "       [-0.69245371, -0.85074599,  0.        ,  0.        ,  1.        ,\n",
       "         1.        ,  0.        ],\n",
       "       [ 1.03713954,  0.62169899,  0.        ,  0.        ,  1.        ,\n",
       "         1.        ,  0.        ],\n",
       "       [-0.6876679 ,  0.62169899,  0.        ,  0.        ,  1.        ,\n",
       "         0.        ,  1.        ],\n",
       "       [-0.67203551,         nan,  0.        ,  1.        ,  0.        ,\n",
       "         0.        ,  1.        ]])"
      ]
     },
     "execution_count": 22,
     "metadata": {},
     "output_type": "execute_result"
    }
   ],
   "source": [
    "from sklearn.preprocessing import StandardScaler, OneHotEncoder\n",
    "\n",
    "col_transformer = make_column_transformer(\n",
    "    (StandardScaler(), make_column_selector(dtype_include=np.number)),  \n",
    "    (OneHotEncoder(), make_column_selector(dtype_include=object))\n",
    ")\n",
    "\n",
    "col_transformer.fit_transform(X)"
   ]
  },
  {
   "cell_type": "markdown",
   "id": "9a5e785c",
   "metadata": {},
   "source": [
    "### Flexible Case\n",
    "\n",
    "Link: https://scikit-learn.org/stable/auto_examples/compose/plot_column_transformer_mixed_types.html#sphx-glr-auto-examples-compose-plot-column-transformer-mixed-types-py"
   ]
  },
  {
   "cell_type": "code",
   "execution_count": 23,
   "id": "8bbc83ed",
   "metadata": {
    "ExecuteTime": {
     "end_time": "2021-10-17T18:27:05.370691Z",
     "start_time": "2021-10-17T18:27:05.339450Z"
    }
   },
   "outputs": [
    {
     "data": {
      "text/plain": [
       "array([[-0.71829711, -1.70817275,  0.        ,  0.        ,  1.        ,\n",
       "         0.        ,  1.        ],\n",
       "       [ 1.7333147 ,  1.07122698,  1.        ,  0.        ,  0.        ,\n",
       "         1.        ,  0.        ],\n",
       "       [-0.69245371, -1.01332282,  0.        ,  0.        ,  1.        ,\n",
       "         1.        ,  0.        ],\n",
       "       [ 1.03713954,  0.55008953,  0.        ,  0.        ,  1.        ,\n",
       "         1.        ,  0.        ],\n",
       "       [-0.6876679 ,  0.55008953,  0.        ,  0.        ,  1.        ,\n",
       "         0.        ,  1.        ],\n",
       "       [-0.67203551,  0.55008953,  0.        ,  1.        ,  0.        ,\n",
       "         0.        ,  1.        ]])"
      ]
     },
     "execution_count": 23,
     "metadata": {},
     "output_type": "execute_result"
    }
   ],
   "source": [
    "from sklearn.preprocessing import StandardScaler, OneHotEncoder\n",
    "from sklearn.pipeline import Pipeline\n",
    "from sklearn.impute import SimpleImputer\n",
    "from sklearn.compose import ColumnTransformer\n",
    "\n",
    "numeric_features = [\"Fare\", \"Age\"]\n",
    "numeric_transformer = Pipeline(\n",
    "    steps=[\n",
    "        (\"imputer\", SimpleImputer(strategy=\"median\")),\n",
    "        (\"scaler\", StandardScaler())\n",
    "    ]\n",
    ")\n",
    "\n",
    "categorical_features = [\"Embarked\", \"Sex\"]\n",
    "categorical_transformer = OneHotEncoder(handle_unknown=\"ignore\")\n",
    "\n",
    "preprocessor = ColumnTransformer(\n",
    "    transformers=[\n",
    "        (\"numeric\", numeric_transformer, numeric_features),\n",
    "        (\"categorical\", categorical_transformer, categorical_features)\n",
    "    ]\n",
    ")\n",
    "\n",
    "preprocessor.fit_transform(X)"
   ]
  },
  {
   "cell_type": "markdown",
   "id": "0184cdde",
   "metadata": {},
   "source": [
    "## What is the difference between \"fit\" and \"transform\"?\n",
    "\n",
    "Q: What is the difference between the \"fit\" and \"transform\" methods?\n",
    "\n",
    "+ \"[fit](https://scikit-learn.org/stable/glossary.html#term-fit)\": transformer learns something about the data\n",
    "+ \"[transform](https://scikit-learn.org/stable/glossary.html#term-transform)\": it uses what it learned to do the data transformation\n",
    "\n",
    "For examples\n",
    "+ CountVectorizer\n",
    "    - fit: learns the vocabulary\n",
    "    - transform: creates a document-term matrix using the vocabulary\n",
    "    \n",
    "+ SimpleImputer\n",
    "    - fit: learns the value to impute\n",
    "    - transform: fills in missing entries using the imputation value\n",
    "    \n",
    "+ StandardScaler\n",
    "    - fit: learns the mean and scale of each feature\n",
    "    - transform: standardizes the features using the mean and scale\n",
    "    \n",
    "+ HashingVectorizer\n",
    "    - fit: is not used, and thus it is known as a \"stateless\" transformer\n",
    "    - transform: create the document-term matrix using a hash of the token"
   ]
  },
  {
   "cell_type": "markdown",
   "id": "08fbc95b",
   "metadata": {},
   "source": [
    "## Use \"fit_transform\" on training data, but \"transform\" (only) on testing/new data\n",
    "\n",
    "Use \"[fit_transform](https://scikit-learn.org/stable/glossary.html#term-fit_transform)\" on training data, but \"[transform](https://scikit-learn.org/stable/glossary.html#term-transform)\" (only) on testing/new data.\n",
    "\n",
    "Applies the same transformations to both sets of data, which creates consistent columns and prevents [data leakage](https://scikit-learn.org/stable/common_pitfalls.html#data-leakage)!"
   ]
  },
  {
   "cell_type": "markdown",
   "id": "e0148db9",
   "metadata": {},
   "source": [
    "## Get the feature names output by a ColumnTransformer\n",
    "\n",
    "Need to get the feature names output by a [ColumnTransformer](https://scikit-learn.org/stable/modules/generated/sklearn.compose.ColumnTransformer.html)?\n",
    "\n",
    "Use get_feature_names(), which now works with \"passthrough\" columns (new in version 0.23)!\n",
    "\n",
    "Note: Beginning in scikit-learn 1.0, the get_feature_names method has been deprecated in favor of [get_feature_names_out](https://scikit-learn.org/stable/modules/generated/sklearn.compose.ColumnTransformer.html#sklearn.compose.ColumnTransformer.get_feature_names_out).\n"
   ]
  },
  {
   "cell_type": "code",
   "execution_count": 24,
   "id": "fdb5a536",
   "metadata": {
    "ExecuteTime": {
     "end_time": "2021-10-17T18:27:05.386313Z",
     "start_time": "2021-10-17T18:27:05.370691Z"
    }
   },
   "outputs": [
    {
     "data": {
      "text/html": [
       "<div>\n",
       "<style scoped>\n",
       "    .dataframe tbody tr th:only-of-type {\n",
       "        vertical-align: middle;\n",
       "    }\n",
       "\n",
       "    .dataframe tbody tr th {\n",
       "        vertical-align: top;\n",
       "    }\n",
       "\n",
       "    .dataframe thead th {\n",
       "        text-align: right;\n",
       "    }\n",
       "</style>\n",
       "<table border=\"1\" class=\"dataframe\">\n",
       "  <thead>\n",
       "    <tr style=\"text-align: right;\">\n",
       "      <th></th>\n",
       "      <th>Fare</th>\n",
       "      <th>Embarked</th>\n",
       "      <th>Sex</th>\n",
       "      <th>Age</th>\n",
       "    </tr>\n",
       "  </thead>\n",
       "  <tbody>\n",
       "    <tr>\n",
       "      <th>0</th>\n",
       "      <td>7.2500</td>\n",
       "      <td>S</td>\n",
       "      <td>male</td>\n",
       "      <td>22.0</td>\n",
       "    </tr>\n",
       "    <tr>\n",
       "      <th>1</th>\n",
       "      <td>71.2833</td>\n",
       "      <td>C</td>\n",
       "      <td>female</td>\n",
       "      <td>38.0</td>\n",
       "    </tr>\n",
       "    <tr>\n",
       "      <th>2</th>\n",
       "      <td>7.9250</td>\n",
       "      <td>S</td>\n",
       "      <td>female</td>\n",
       "      <td>26.0</td>\n",
       "    </tr>\n",
       "    <tr>\n",
       "      <th>3</th>\n",
       "      <td>53.1000</td>\n",
       "      <td>S</td>\n",
       "      <td>female</td>\n",
       "      <td>35.0</td>\n",
       "    </tr>\n",
       "    <tr>\n",
       "      <th>4</th>\n",
       "      <td>8.0500</td>\n",
       "      <td>S</td>\n",
       "      <td>male</td>\n",
       "      <td>35.0</td>\n",
       "    </tr>\n",
       "    <tr>\n",
       "      <th>5</th>\n",
       "      <td>8.4583</td>\n",
       "      <td>Q</td>\n",
       "      <td>male</td>\n",
       "      <td>NaN</td>\n",
       "    </tr>\n",
       "  </tbody>\n",
       "</table>\n",
       "</div>"
      ],
      "text/plain": [
       "      Fare Embarked     Sex   Age\n",
       "0   7.2500        S    male  22.0\n",
       "1  71.2833        C  female  38.0\n",
       "2   7.9250        S  female  26.0\n",
       "3  53.1000        S  female  35.0\n",
       "4   8.0500        S    male  35.0\n",
       "5   8.4583        Q    male   NaN"
      ]
     },
     "execution_count": 24,
     "metadata": {},
     "output_type": "execute_result"
    }
   ],
   "source": [
    "X"
   ]
  },
  {
   "cell_type": "code",
   "execution_count": 25,
   "id": "a9eff50f",
   "metadata": {
    "ExecuteTime": {
     "end_time": "2021-10-17T18:27:05.424067Z",
     "start_time": "2021-10-17T18:27:05.386313Z"
    }
   },
   "outputs": [
    {
     "data": {
      "text/plain": [
       "Index(['Fare', 'Embarked', 'Sex', 'Age'], dtype='object')"
      ]
     },
     "execution_count": 25,
     "metadata": {},
     "output_type": "execute_result"
    }
   ],
   "source": [
    "X.columns"
   ]
  },
  {
   "cell_type": "code",
   "execution_count": 26,
   "id": "8458886e",
   "metadata": {
    "ExecuteTime": {
     "end_time": "2021-10-17T18:27:05.439689Z",
     "start_time": "2021-10-17T18:27:05.424067Z"
    }
   },
   "outputs": [],
   "source": [
    "col_transformer = make_column_transformer(\n",
    "    (OneHotEncoder(), [\"Embarked\", \"Sex\"]),\n",
    "    remainder=\"passthrough\"\n",
    ")"
   ]
  },
  {
   "cell_type": "code",
   "execution_count": 27,
   "id": "ce53dad4",
   "metadata": {
    "ExecuteTime": {
     "end_time": "2021-10-17T18:27:05.470931Z",
     "start_time": "2021-10-17T18:27:05.455310Z"
    }
   },
   "outputs": [
    {
     "data": {
      "text/plain": [
       "array([[ 0.    ,  0.    ,  1.    ,  0.    ,  1.    ,  7.25  , 22.    ],\n",
       "       [ 1.    ,  0.    ,  0.    ,  1.    ,  0.    , 71.2833, 38.    ],\n",
       "       [ 0.    ,  0.    ,  1.    ,  1.    ,  0.    ,  7.925 , 26.    ],\n",
       "       [ 0.    ,  0.    ,  1.    ,  1.    ,  0.    , 53.1   , 35.    ],\n",
       "       [ 0.    ,  0.    ,  1.    ,  0.    ,  1.    ,  8.05  , 35.    ],\n",
       "       [ 0.    ,  1.    ,  0.    ,  0.    ,  1.    ,  8.4583,     nan]])"
      ]
     },
     "execution_count": 27,
     "metadata": {},
     "output_type": "execute_result"
    }
   ],
   "source": [
    "ft = col_transformer.fit_transform(X)\n",
    "ft"
   ]
  },
  {
   "cell_type": "code",
   "execution_count": 28,
   "id": "bb46a78d",
   "metadata": {
    "ExecuteTime": {
     "end_time": "2021-10-17T18:27:05.502174Z",
     "start_time": "2021-10-17T18:27:05.470931Z"
    }
   },
   "outputs": [
    {
     "data": {
      "text/plain": [
       "(6, 7)"
      ]
     },
     "execution_count": 28,
     "metadata": {},
     "output_type": "execute_result"
    }
   ],
   "source": [
    "ft.shape"
   ]
  },
  {
   "cell_type": "code",
   "execution_count": 29,
   "id": "8fff2656",
   "metadata": {
    "ExecuteTime": {
     "end_time": "2021-10-17T18:27:05.524807Z",
     "start_time": "2021-10-17T18:27:05.509180Z"
    }
   },
   "outputs": [
    {
     "name": "stderr",
     "output_type": "stream",
     "text": [
      "C:\\Users\\TienLE\\anaconda3\\envs\\py39\\lib\\site-packages\\sklearn\\utils\\deprecation.py:87: FutureWarning: Function get_feature_names is deprecated; get_feature_names is deprecated in 1.0 and will be removed in 1.2. Please use get_feature_names_out instead.\n",
      "  warnings.warn(msg, category=FutureWarning)\n"
     ]
    },
    {
     "data": {
      "text/plain": [
       "['onehotencoder__x0_C',\n",
       " 'onehotencoder__x0_Q',\n",
       " 'onehotencoder__x0_S',\n",
       " 'onehotencoder__x1_female',\n",
       " 'onehotencoder__x1_male',\n",
       " 'Fare',\n",
       " 'Age']"
      ]
     },
     "execution_count": 29,
     "metadata": {},
     "output_type": "execute_result"
    }
   ],
   "source": [
    "col_transformer.get_feature_names()"
   ]
  },
  {
   "cell_type": "markdown",
   "id": "0f9294c4",
   "metadata": {},
   "source": [
    "## Passthrough some columns and drop others in a ColumnTransformer\n",
    "\n",
    "In a [ColumnTransformer](https://scikit-learn.org/stable/modules/generated/sklearn.compose.make_column_transformer.html), you can use the strings 'passthrough' and 'drop' in place of a transformer. \n",
    "\n",
    "Useful if you need to passthrough some columns and drop others!"
   ]
  },
  {
   "cell_type": "code",
   "execution_count": 30,
   "id": "dfda9ab1",
   "metadata": {
    "ExecuteTime": {
     "end_time": "2021-10-17T18:27:05.556050Z",
     "start_time": "2021-10-17T18:27:05.524807Z"
    }
   },
   "outputs": [
    {
     "data": {
      "text/html": [
       "<div>\n",
       "<style scoped>\n",
       "    .dataframe tbody tr th:only-of-type {\n",
       "        vertical-align: middle;\n",
       "    }\n",
       "\n",
       "    .dataframe tbody tr th {\n",
       "        vertical-align: top;\n",
       "    }\n",
       "\n",
       "    .dataframe thead th {\n",
       "        text-align: right;\n",
       "    }\n",
       "</style>\n",
       "<table border=\"1\" class=\"dataframe\">\n",
       "  <thead>\n",
       "    <tr style=\"text-align: right;\">\n",
       "      <th></th>\n",
       "      <th>Fare</th>\n",
       "      <th>Embarked</th>\n",
       "      <th>Sex</th>\n",
       "      <th>Age</th>\n",
       "    </tr>\n",
       "  </thead>\n",
       "  <tbody>\n",
       "    <tr>\n",
       "      <th>0</th>\n",
       "      <td>7.2500</td>\n",
       "      <td>S</td>\n",
       "      <td>male</td>\n",
       "      <td>22.0</td>\n",
       "    </tr>\n",
       "    <tr>\n",
       "      <th>1</th>\n",
       "      <td>71.2833</td>\n",
       "      <td>C</td>\n",
       "      <td>female</td>\n",
       "      <td>38.0</td>\n",
       "    </tr>\n",
       "    <tr>\n",
       "      <th>2</th>\n",
       "      <td>7.9250</td>\n",
       "      <td>S</td>\n",
       "      <td>female</td>\n",
       "      <td>26.0</td>\n",
       "    </tr>\n",
       "    <tr>\n",
       "      <th>3</th>\n",
       "      <td>53.1000</td>\n",
       "      <td>S</td>\n",
       "      <td>female</td>\n",
       "      <td>35.0</td>\n",
       "    </tr>\n",
       "    <tr>\n",
       "      <th>4</th>\n",
       "      <td>8.0500</td>\n",
       "      <td>S</td>\n",
       "      <td>male</td>\n",
       "      <td>35.0</td>\n",
       "    </tr>\n",
       "    <tr>\n",
       "      <th>5</th>\n",
       "      <td>8.4583</td>\n",
       "      <td>Q</td>\n",
       "      <td>male</td>\n",
       "      <td>NaN</td>\n",
       "    </tr>\n",
       "  </tbody>\n",
       "</table>\n",
       "</div>"
      ],
      "text/plain": [
       "      Fare Embarked     Sex   Age\n",
       "0   7.2500        S    male  22.0\n",
       "1  71.2833        C  female  38.0\n",
       "2   7.9250        S  female  26.0\n",
       "3  53.1000        S  female  35.0\n",
       "4   8.0500        S    male  35.0\n",
       "5   8.4583        Q    male   NaN"
      ]
     },
     "execution_count": 30,
     "metadata": {},
     "output_type": "execute_result"
    }
   ],
   "source": [
    "X"
   ]
  },
  {
   "cell_type": "markdown",
   "id": "684a697c",
   "metadata": {},
   "source": [
    "### Method 1: \"passthrough\" with some columns"
   ]
  },
  {
   "cell_type": "code",
   "execution_count": 31,
   "id": "6e904b93",
   "metadata": {
    "ExecuteTime": {
     "end_time": "2021-10-17T18:27:05.602915Z",
     "start_time": "2021-10-17T18:27:05.556050Z"
    }
   },
   "outputs": [
    {
     "data": {
      "text/plain": [
       "array([[22.    ,  7.25  ],\n",
       "       [38.    , 71.2833],\n",
       "       [26.    ,  7.925 ],\n",
       "       [35.    , 53.1   ],\n",
       "       [35.    ,  8.05  ],\n",
       "       [31.2   ,  8.4583]])"
      ]
     },
     "execution_count": 31,
     "metadata": {},
     "output_type": "execute_result"
    }
   ],
   "source": [
    "col_transformer = make_column_transformer(\n",
    "    (SimpleImputer(), [\"Age\"]),\n",
    "    (\"passthrough\", [\"Fare\"]),\n",
    "    remainder=\"drop\"\n",
    ")\n",
    "col_transformer.fit_transform(X)"
   ]
  },
  {
   "cell_type": "markdown",
   "id": "711bb405",
   "metadata": {},
   "source": [
    "### Method 2: \"drop\" with some columns"
   ]
  },
  {
   "cell_type": "code",
   "execution_count": 32,
   "id": "d570f84b",
   "metadata": {
    "ExecuteTime": {
     "end_time": "2021-10-17T18:27:05.723332Z",
     "start_time": "2021-10-17T18:27:05.690143Z"
    }
   },
   "outputs": [
    {
     "data": {
      "text/plain": [
       "array([[22.    ,  7.25  ],\n",
       "       [38.    , 71.2833],\n",
       "       [26.    ,  7.925 ],\n",
       "       [35.    , 53.1   ],\n",
       "       [35.    ,  8.05  ],\n",
       "       [31.2   ,  8.4583]])"
      ]
     },
     "execution_count": 32,
     "metadata": {},
     "output_type": "execute_result"
    }
   ],
   "source": [
    "col_transformer = make_column_transformer(\n",
    "    (SimpleImputer(), [\"Age\"]),\n",
    "    (\"drop\", [\"Embarked\", \"Sex\"]),\n",
    "    remainder=\"passthrough\"\n",
    ")\n",
    "\n",
    "col_transformer.fit_transform(X)"
   ]
  },
  {
   "cell_type": "markdown",
   "id": "ee98c976",
   "metadata": {},
   "source": [
    "## (Detail ?) Four reasons to use scikit-learn (not pandas) for ML preprocessing\n",
    "\n",
    "Reasons to use scikit-learn (not pandas) for ML [preprocessing](https://scikit-learn.org/stable/modules/preprocessing.html):\n",
    "+ You can cross-validate the entire workflow\n",
    "+ You can [grid search](https://scikit-learn.org/stable/modules/grid_search.html) model & preprocessing hyperparameters\n",
    "+ Avoids adding new columns to the source DataFrame\n",
    "+ pandas lacks separate fit/transform steps to prevent [data leakage](https://scikit-learn.org/stable/common_pitfalls.html#data-leakage)"
   ]
  },
  {
   "cell_type": "markdown",
   "id": "ad915c6e",
   "metadata": {},
   "source": [
    "## Don't use .values when passing a pandas object to scikit-learn\n",
    "\n",
    "There's no need to use \".values\" when passing a DataFrame or Series to scikit-learn... it knows how to access the underlying NumPy array!\n"
   ]
  },
  {
   "cell_type": "code",
   "execution_count": 33,
   "id": "13d90e82",
   "metadata": {
    "ExecuteTime": {
     "end_time": "2021-10-17T18:27:06.239697Z",
     "start_time": "2021-10-17T18:27:06.208433Z"
    }
   },
   "outputs": [
    {
     "data": {
      "text/html": [
       "<div>\n",
       "<style scoped>\n",
       "    .dataframe tbody tr th:only-of-type {\n",
       "        vertical-align: middle;\n",
       "    }\n",
       "\n",
       "    .dataframe tbody tr th {\n",
       "        vertical-align: top;\n",
       "    }\n",
       "\n",
       "    .dataframe thead th {\n",
       "        text-align: right;\n",
       "    }\n",
       "</style>\n",
       "<table border=\"1\" class=\"dataframe\">\n",
       "  <thead>\n",
       "    <tr style=\"text-align: right;\">\n",
       "      <th></th>\n",
       "      <th>PassengerId</th>\n",
       "      <th>Survived</th>\n",
       "      <th>Pclass</th>\n",
       "      <th>Name</th>\n",
       "      <th>Sex</th>\n",
       "      <th>Age</th>\n",
       "      <th>SibSp</th>\n",
       "      <th>Parch</th>\n",
       "      <th>Ticket</th>\n",
       "      <th>Fare</th>\n",
       "      <th>Cabin</th>\n",
       "      <th>Embarked</th>\n",
       "    </tr>\n",
       "  </thead>\n",
       "  <tbody>\n",
       "    <tr>\n",
       "      <th>0</th>\n",
       "      <td>1</td>\n",
       "      <td>0</td>\n",
       "      <td>3</td>\n",
       "      <td>Braund, Mr. Owen Harris</td>\n",
       "      <td>male</td>\n",
       "      <td>22.0</td>\n",
       "      <td>1</td>\n",
       "      <td>0</td>\n",
       "      <td>A/5 21171</td>\n",
       "      <td>7.2500</td>\n",
       "      <td>NaN</td>\n",
       "      <td>S</td>\n",
       "    </tr>\n",
       "    <tr>\n",
       "      <th>1</th>\n",
       "      <td>2</td>\n",
       "      <td>1</td>\n",
       "      <td>1</td>\n",
       "      <td>Cumings, Mrs. John Bradley (Florence Briggs Th...</td>\n",
       "      <td>female</td>\n",
       "      <td>38.0</td>\n",
       "      <td>1</td>\n",
       "      <td>0</td>\n",
       "      <td>PC 17599</td>\n",
       "      <td>71.2833</td>\n",
       "      <td>C85</td>\n",
       "      <td>C</td>\n",
       "    </tr>\n",
       "  </tbody>\n",
       "</table>\n",
       "</div>"
      ],
      "text/plain": [
       "   PassengerId  Survived  Pclass  \\\n",
       "0            1         0       3   \n",
       "1            2         1       1   \n",
       "\n",
       "                                                Name     Sex   Age  SibSp  \\\n",
       "0                            Braund, Mr. Owen Harris    male  22.0      1   \n",
       "1  Cumings, Mrs. John Bradley (Florence Briggs Th...  female  38.0      1   \n",
       "\n",
       "   Parch     Ticket     Fare Cabin Embarked  \n",
       "0      0  A/5 21171   7.2500   NaN        S  \n",
       "1      0   PC 17599  71.2833   C85        C  "
      ]
     },
     "execution_count": 33,
     "metadata": {},
     "output_type": "execute_result"
    }
   ],
   "source": [
    "df.head(2)"
   ]
  },
  {
   "cell_type": "code",
   "execution_count": 34,
   "id": "799e3653",
   "metadata": {
    "ExecuteTime": {
     "end_time": "2021-10-17T18:27:06.277429Z",
     "start_time": "2021-10-17T18:27:06.239697Z"
    }
   },
   "outputs": [],
   "source": [
    "from sklearn.linear_model import LogisticRegression"
   ]
  },
  {
   "cell_type": "code",
   "execution_count": 35,
   "id": "71d9bcbb",
   "metadata": {
    "ExecuteTime": {
     "end_time": "2021-10-17T18:27:06.308671Z",
     "start_time": "2021-10-17T18:27:06.293050Z"
    }
   },
   "outputs": [],
   "source": [
    "clf = LogisticRegression()"
   ]
  },
  {
   "cell_type": "code",
   "execution_count": 36,
   "id": "98963de0",
   "metadata": {
    "ExecuteTime": {
     "end_time": "2021-10-17T18:27:06.339914Z",
     "start_time": "2021-10-17T18:27:06.324292Z"
    }
   },
   "outputs": [],
   "source": [
    "X = df[[\"Pclass\", \"Fare\"]]\n",
    "y = df[\"Survived\"]"
   ]
  },
  {
   "cell_type": "code",
   "execution_count": 37,
   "id": "c7aeccd1",
   "metadata": {
    "ExecuteTime": {
     "end_time": "2021-10-17T18:27:06.380168Z",
     "start_time": "2021-10-17T18:27:06.339914Z"
    }
   },
   "outputs": [
    {
     "data": {
      "text/plain": [
       "pandas.core.frame.DataFrame"
      ]
     },
     "execution_count": 37,
     "metadata": {},
     "output_type": "execute_result"
    }
   ],
   "source": [
    "type(X)"
   ]
  },
  {
   "cell_type": "code",
   "execution_count": 38,
   "id": "8fece016",
   "metadata": {
    "ExecuteTime": {
     "end_time": "2021-10-17T18:27:06.395789Z",
     "start_time": "2021-10-17T18:27:06.380168Z"
    }
   },
   "outputs": [
    {
     "data": {
      "text/plain": [
       "pandas.core.series.Series"
      ]
     },
     "execution_count": 38,
     "metadata": {},
     "output_type": "execute_result"
    }
   ],
   "source": [
    "type(y)"
   ]
  },
  {
   "cell_type": "code",
   "execution_count": 39,
   "id": "e4056d03",
   "metadata": {
    "ExecuteTime": {
     "end_time": "2021-10-17T18:27:06.458274Z",
     "start_time": "2021-10-17T18:27:06.395789Z"
    }
   },
   "outputs": [
    {
     "data": {
      "text/plain": [
       "LogisticRegression()"
      ]
     },
     "execution_count": 39,
     "metadata": {},
     "output_type": "execute_result"
    }
   ],
   "source": [
    "clf.fit(X, y)"
   ]
  },
  {
   "cell_type": "markdown",
   "id": "7165e1e6",
   "metadata": {},
   "source": [
    "## Load a toy dataset into a DataFrame\n",
    "\n",
    "New in version 0.23: Need to load a [toy dataset](https://scikit-learn.org/stable/datasets/toy_dataset.html) into a DataFrame, including column names? Set as_frame=True.\n",
    "\n",
    "Want features and target as separate objects? Also set return_X_y=True.\n",
    "\n",
    "Additional links: [load_iris](https://scikit-learn.org/stable/modules/generated/sklearn.datasets.load_iris.html)"
   ]
  },
  {
   "cell_type": "code",
   "execution_count": 40,
   "id": "0472a149",
   "metadata": {
    "ExecuteTime": {
     "end_time": "2021-10-17T18:27:06.658807Z",
     "start_time": "2021-10-17T18:27:06.587134Z"
    }
   },
   "outputs": [],
   "source": [
    "from sklearn.datasets import load_iris"
   ]
  },
  {
   "cell_type": "markdown",
   "id": "67663962",
   "metadata": {},
   "source": [
    "### Return DataFrame with features and target"
   ]
  },
  {
   "cell_type": "code",
   "execution_count": 41,
   "id": "1933eebd",
   "metadata": {
    "ExecuteTime": {
     "end_time": "2021-10-17T18:27:06.864246Z",
     "start_time": "2021-10-17T18:27:06.817417Z"
    }
   },
   "outputs": [],
   "source": [
    "df_toy = load_iris(as_frame=True)"
   ]
  },
  {
   "cell_type": "code",
   "execution_count": 42,
   "id": "d603c999",
   "metadata": {
    "ExecuteTime": {
     "end_time": "2021-10-17T18:27:06.917650Z",
     "start_time": "2021-10-17T18:27:06.864246Z"
    }
   },
   "outputs": [
    {
     "data": {
      "text/plain": [
       "sklearn.utils.Bunch"
      ]
     },
     "execution_count": 42,
     "metadata": {},
     "output_type": "execute_result"
    }
   ],
   "source": [
    "type(df_toy)"
   ]
  },
  {
   "cell_type": "code",
   "execution_count": 43,
   "id": "7c11ee7f",
   "metadata": {
    "ExecuteTime": {
     "end_time": "2021-10-17T18:27:06.933243Z",
     "start_time": "2021-10-17T18:27:06.917650Z"
    }
   },
   "outputs": [
    {
     "name": "stdout",
     "output_type": "stream",
     "text": [
      "['DESCR', 'data', 'data_module', 'feature_names', 'filename', 'frame', 'target', 'target_names']\n"
     ]
    }
   ],
   "source": [
    "print(dir(df_toy))"
   ]
  },
  {
   "cell_type": "code",
   "execution_count": 44,
   "id": "d86b4bc4",
   "metadata": {
    "ExecuteTime": {
     "end_time": "2021-10-17T18:27:06.980107Z",
     "start_time": "2021-10-17T18:27:06.933243Z"
    }
   },
   "outputs": [],
   "source": [
    "df_toy_frame = df_toy[\"frame\"]"
   ]
  },
  {
   "cell_type": "code",
   "execution_count": 45,
   "id": "dc969840",
   "metadata": {
    "ExecuteTime": {
     "end_time": "2021-10-17T18:27:07.020360Z",
     "start_time": "2021-10-17T18:27:06.980107Z"
    }
   },
   "outputs": [
    {
     "data": {
      "text/html": [
       "<div>\n",
       "<style scoped>\n",
       "    .dataframe tbody tr th:only-of-type {\n",
       "        vertical-align: middle;\n",
       "    }\n",
       "\n",
       "    .dataframe tbody tr th {\n",
       "        vertical-align: top;\n",
       "    }\n",
       "\n",
       "    .dataframe thead th {\n",
       "        text-align: right;\n",
       "    }\n",
       "</style>\n",
       "<table border=\"1\" class=\"dataframe\">\n",
       "  <thead>\n",
       "    <tr style=\"text-align: right;\">\n",
       "      <th></th>\n",
       "      <th>sepal length (cm)</th>\n",
       "      <th>sepal width (cm)</th>\n",
       "      <th>petal length (cm)</th>\n",
       "      <th>petal width (cm)</th>\n",
       "      <th>target</th>\n",
       "    </tr>\n",
       "  </thead>\n",
       "  <tbody>\n",
       "    <tr>\n",
       "      <th>0</th>\n",
       "      <td>5.1</td>\n",
       "      <td>3.5</td>\n",
       "      <td>1.4</td>\n",
       "      <td>0.2</td>\n",
       "      <td>0</td>\n",
       "    </tr>\n",
       "    <tr>\n",
       "      <th>1</th>\n",
       "      <td>4.9</td>\n",
       "      <td>3.0</td>\n",
       "      <td>1.4</td>\n",
       "      <td>0.2</td>\n",
       "      <td>0</td>\n",
       "    </tr>\n",
       "    <tr>\n",
       "      <th>2</th>\n",
       "      <td>4.7</td>\n",
       "      <td>3.2</td>\n",
       "      <td>1.3</td>\n",
       "      <td>0.2</td>\n",
       "      <td>0</td>\n",
       "    </tr>\n",
       "  </tbody>\n",
       "</table>\n",
       "</div>"
      ],
      "text/plain": [
       "   sepal length (cm)  sepal width (cm)  petal length (cm)  petal width (cm)  \\\n",
       "0                5.1               3.5                1.4               0.2   \n",
       "1                4.9               3.0                1.4               0.2   \n",
       "2                4.7               3.2                1.3               0.2   \n",
       "\n",
       "   target  \n",
       "0       0  \n",
       "1       0  \n",
       "2       0  "
      ]
     },
     "execution_count": 45,
     "metadata": {},
     "output_type": "execute_result"
    }
   ],
   "source": [
    "df_toy_frame.head(3)"
   ]
  },
  {
   "cell_type": "markdown",
   "id": "44d8803f",
   "metadata": {},
   "source": [
    "### Return Feature DataFrame and Target Series "
   ]
  },
  {
   "cell_type": "code",
   "execution_count": 46,
   "id": "d3383aab",
   "metadata": {
    "ExecuteTime": {
     "end_time": "2021-10-17T18:27:07.183116Z",
     "start_time": "2021-10-17T18:27:07.167495Z"
    }
   },
   "outputs": [],
   "source": [
    "X_toy, y_toy = load_iris(as_frame=True, return_X_y=True)"
   ]
  },
  {
   "cell_type": "code",
   "execution_count": 47,
   "id": "86b89257",
   "metadata": {
    "ExecuteTime": {
     "end_time": "2021-10-17T18:27:07.237493Z",
     "start_time": "2021-10-17T18:27:07.183116Z"
    }
   },
   "outputs": [
    {
     "data": {
      "text/html": [
       "<div>\n",
       "<style scoped>\n",
       "    .dataframe tbody tr th:only-of-type {\n",
       "        vertical-align: middle;\n",
       "    }\n",
       "\n",
       "    .dataframe tbody tr th {\n",
       "        vertical-align: top;\n",
       "    }\n",
       "\n",
       "    .dataframe thead th {\n",
       "        text-align: right;\n",
       "    }\n",
       "</style>\n",
       "<table border=\"1\" class=\"dataframe\">\n",
       "  <thead>\n",
       "    <tr style=\"text-align: right;\">\n",
       "      <th></th>\n",
       "      <th>sepal length (cm)</th>\n",
       "      <th>sepal width (cm)</th>\n",
       "      <th>petal length (cm)</th>\n",
       "      <th>petal width (cm)</th>\n",
       "    </tr>\n",
       "  </thead>\n",
       "  <tbody>\n",
       "    <tr>\n",
       "      <th>0</th>\n",
       "      <td>5.1</td>\n",
       "      <td>3.5</td>\n",
       "      <td>1.4</td>\n",
       "      <td>0.2</td>\n",
       "    </tr>\n",
       "    <tr>\n",
       "      <th>1</th>\n",
       "      <td>4.9</td>\n",
       "      <td>3.0</td>\n",
       "      <td>1.4</td>\n",
       "      <td>0.2</td>\n",
       "    </tr>\n",
       "    <tr>\n",
       "      <th>2</th>\n",
       "      <td>4.7</td>\n",
       "      <td>3.2</td>\n",
       "      <td>1.3</td>\n",
       "      <td>0.2</td>\n",
       "    </tr>\n",
       "  </tbody>\n",
       "</table>\n",
       "</div>"
      ],
      "text/plain": [
       "   sepal length (cm)  sepal width (cm)  petal length (cm)  petal width (cm)\n",
       "0                5.1               3.5                1.4               0.2\n",
       "1                4.9               3.0                1.4               0.2\n",
       "2                4.7               3.2                1.3               0.2"
      ]
     },
     "execution_count": 47,
     "metadata": {},
     "output_type": "execute_result"
    }
   ],
   "source": [
    "X_toy.head(3)"
   ]
  },
  {
   "cell_type": "code",
   "execution_count": 48,
   "id": "75cf18be",
   "metadata": {
    "ExecuteTime": {
     "end_time": "2021-10-17T18:27:07.253116Z",
     "start_time": "2021-10-17T18:27:07.237493Z"
    }
   },
   "outputs": [
    {
     "data": {
      "text/plain": [
       "0    0\n",
       "1    0\n",
       "2    0\n",
       "Name: target, dtype: int32"
      ]
     },
     "execution_count": 48,
     "metadata": {},
     "output_type": "execute_result"
    }
   ],
   "source": [
    "y_toy.head(3)"
   ]
  },
  {
   "cell_type": "markdown",
   "id": "10be6fe8",
   "metadata": {},
   "source": [
    "# Categorical Features"
   ]
  },
  {
   "cell_type": "markdown",
   "id": "32f004df",
   "metadata": {},
   "source": [
    "## Encode categorical features using OneHotEncoder or OrdinalEncoder\n",
    "\n",
    "Two common ways to encode categorical features:\n",
    "+ [OneHotEncoder](https://scikit-learn.org/stable/modules/generated/sklearn.preprocessing.OneHotEncoder.html) for unordered (nominal) data\n",
    "+ [OrdinalEncoder](https://scikit-learn.org/stable/modules/generated/sklearn.preprocessing.OrdinalEncoder.html) for ordered (ordinal) data\n",
    "\n",
    "P.S. [LabelEncoder](https://scikit-learn.org/stable/modules/generated/sklearn.preprocessing.LabelEncoder.html) is for labels, not features!"
   ]
  },
  {
   "cell_type": "code",
   "execution_count": 49,
   "id": "54e4cf27",
   "metadata": {
    "ExecuteTime": {
     "end_time": "2021-10-17T18:27:07.746808Z",
     "start_time": "2021-10-17T18:27:07.731216Z"
    }
   },
   "outputs": [],
   "source": [
    "# \"Shape\" is unordered, \"Class\" and \"Size\" are ordered\n",
    "X = pd.DataFrame({'Shape':['square', 'square', 'oval', 'circle'],\n",
    "                  'Class': ['third', 'first', 'second', 'third'],\n",
    "                  'Size': ['S', 'S', 'L', 'XL']})"
   ]
  },
  {
   "cell_type": "code",
   "execution_count": 50,
   "id": "0678ecfa",
   "metadata": {
    "ExecuteTime": {
     "end_time": "2021-10-17T18:27:07.793673Z",
     "start_time": "2021-10-17T18:27:07.762430Z"
    }
   },
   "outputs": [
    {
     "data": {
      "text/html": [
       "<div>\n",
       "<style scoped>\n",
       "    .dataframe tbody tr th:only-of-type {\n",
       "        vertical-align: middle;\n",
       "    }\n",
       "\n",
       "    .dataframe tbody tr th {\n",
       "        vertical-align: top;\n",
       "    }\n",
       "\n",
       "    .dataframe thead th {\n",
       "        text-align: right;\n",
       "    }\n",
       "</style>\n",
       "<table border=\"1\" class=\"dataframe\">\n",
       "  <thead>\n",
       "    <tr style=\"text-align: right;\">\n",
       "      <th></th>\n",
       "      <th>Shape</th>\n",
       "      <th>Class</th>\n",
       "      <th>Size</th>\n",
       "    </tr>\n",
       "  </thead>\n",
       "  <tbody>\n",
       "    <tr>\n",
       "      <th>0</th>\n",
       "      <td>square</td>\n",
       "      <td>third</td>\n",
       "      <td>S</td>\n",
       "    </tr>\n",
       "    <tr>\n",
       "      <th>1</th>\n",
       "      <td>square</td>\n",
       "      <td>first</td>\n",
       "      <td>S</td>\n",
       "    </tr>\n",
       "    <tr>\n",
       "      <th>2</th>\n",
       "      <td>oval</td>\n",
       "      <td>second</td>\n",
       "      <td>L</td>\n",
       "    </tr>\n",
       "    <tr>\n",
       "      <th>3</th>\n",
       "      <td>circle</td>\n",
       "      <td>third</td>\n",
       "      <td>XL</td>\n",
       "    </tr>\n",
       "  </tbody>\n",
       "</table>\n",
       "</div>"
      ],
      "text/plain": [
       "    Shape   Class Size\n",
       "0  square   third    S\n",
       "1  square   first    S\n",
       "2    oval  second    L\n",
       "3  circle   third   XL"
      ]
     },
     "execution_count": 50,
     "metadata": {},
     "output_type": "execute_result"
    }
   ],
   "source": [
    "X"
   ]
  },
  {
   "cell_type": "code",
   "execution_count": 51,
   "id": "28d8156e",
   "metadata": {
    "ExecuteTime": {
     "end_time": "2021-10-17T18:27:07.809294Z",
     "start_time": "2021-10-17T18:27:07.793673Z"
    }
   },
   "outputs": [
    {
     "data": {
      "text/plain": [
       "(4,)"
      ]
     },
     "execution_count": 51,
     "metadata": {},
     "output_type": "execute_result"
    }
   ],
   "source": [
    "X[\"Shape\"].shape"
   ]
  },
  {
   "cell_type": "code",
   "execution_count": 52,
   "id": "d55f71b0",
   "metadata": {
    "ExecuteTime": {
     "end_time": "2021-10-17T18:27:07.847091Z",
     "start_time": "2021-10-17T18:27:07.815801Z"
    }
   },
   "outputs": [
    {
     "data": {
      "text/plain": [
       "(4, 1)"
      ]
     },
     "execution_count": 52,
     "metadata": {},
     "output_type": "execute_result"
    }
   ],
   "source": [
    "X[[\"Shape\"]].shape"
   ]
  },
  {
   "cell_type": "markdown",
   "id": "1c21ef03",
   "metadata": {},
   "source": [
    "### left-to-right column order is alphabetical (circle, oval, square)"
   ]
  },
  {
   "cell_type": "code",
   "execution_count": 53,
   "id": "cce28190",
   "metadata": {
    "ExecuteTime": {
     "end_time": "2021-10-17T18:27:08.096424Z",
     "start_time": "2021-10-17T18:27:08.084457Z"
    }
   },
   "outputs": [
    {
     "data": {
      "text/plain": [
       "array([[0., 0., 1.],\n",
       "       [0., 0., 1.],\n",
       "       [0., 1., 0.],\n",
       "       [1., 0., 0.]])"
      ]
     },
     "execution_count": 53,
     "metadata": {},
     "output_type": "execute_result"
    }
   ],
   "source": [
    "ohe = OneHotEncoder(sparse=False)\n",
    "ohe.fit_transform(X[[\"Shape\"]])"
   ]
  },
  {
   "cell_type": "code",
   "execution_count": 54,
   "id": "328b72b3",
   "metadata": {
    "ExecuteTime": {
     "end_time": "2021-10-17T18:27:08.144296Z",
     "start_time": "2021-10-17T18:27:08.117368Z"
    }
   },
   "outputs": [
    {
     "data": {
      "text/plain": [
       "[array(['circle', 'oval', 'square'], dtype=object)]"
      ]
     },
     "execution_count": 54,
     "metadata": {},
     "output_type": "execute_result"
    }
   ],
   "source": [
    "ohe.categories_"
   ]
  },
  {
   "cell_type": "markdown",
   "id": "9960e657",
   "metadata": {},
   "source": [
    "### category ordering (within each feature) "
   ]
  },
  {
   "cell_type": "code",
   "execution_count": 55,
   "id": "5fa14dcb",
   "metadata": {
    "ExecuteTime": {
     "end_time": "2021-10-17T18:27:08.395734Z",
     "start_time": "2021-10-17T18:27:08.380113Z"
    }
   },
   "outputs": [
    {
     "data": {
      "text/plain": [
       "array([[2., 0.],\n",
       "       [0., 0.],\n",
       "       [1., 2.],\n",
       "       [2., 3.]])"
      ]
     },
     "execution_count": 55,
     "metadata": {},
     "output_type": "execute_result"
    }
   ],
   "source": [
    "from sklearn.preprocessing import OrdinalEncoder\n",
    "\n",
    "oe = OrdinalEncoder(categories=[\n",
    "    [\"first\", \"second\", \"third\"],  # order of Class\n",
    "    [\"S\", \"M\", \"L\", \"XL\"]          # order of Size  \n",
    "])\n",
    "\n",
    "oe.fit_transform(X[[\"Class\", \"Size\"]])"
   ]
  },
  {
   "cell_type": "code",
   "execution_count": 56,
   "id": "eef6b05b",
   "metadata": {
    "ExecuteTime": {
     "end_time": "2021-10-17T18:27:08.433496Z",
     "start_time": "2021-10-17T18:27:08.411356Z"
    }
   },
   "outputs": [
    {
     "data": {
      "text/plain": [
       "[array(['first', 'second', 'third'], dtype=object),\n",
       " array(['S', 'M', 'L', 'XL'], dtype=object)]"
      ]
     },
     "execution_count": 56,
     "metadata": {},
     "output_type": "execute_result"
    }
   ],
   "source": [
    "oe.categories_"
   ]
  },
  {
   "cell_type": "markdown",
   "id": "0cb524a8",
   "metadata": {},
   "source": [
    "## Handle unknown categories with OneHotEncoder by encoding them as zeros\n",
    "\n",
    "Q: For a [one-hot encoded feature](https://scikit-learn.org/stable/modules/preprocessing.html#encoding-categorical-features), what can you do if new data contains categories that weren't seen during training?\n",
    "\n",
    "A: Set handle_unknown='ignore' to encode new categories as all zeros.\n",
    "\n",
    "P.S. If you know all possible categories that might ever appear, you can instead specify the categories manually. handle_unknown='ignore' is useful specifically when you don't know all possible categories."
   ]
  },
  {
   "cell_type": "code",
   "execution_count": 57,
   "id": "3fa6b879",
   "metadata": {
    "ExecuteTime": {
     "end_time": "2021-10-17T18:27:08.686399Z",
     "start_time": "2021-10-17T18:27:08.670779Z"
    }
   },
   "outputs": [],
   "source": [
    "X = pd.DataFrame({'col':['A', 'B', 'C', 'B']})\n",
    "X_new = pd.DataFrame({'col':['A', 'C', 'D']})"
   ]
  },
  {
   "cell_type": "code",
   "execution_count": 58,
   "id": "b616c928",
   "metadata": {
    "ExecuteTime": {
     "end_time": "2021-10-17T18:27:08.739804Z",
     "start_time": "2021-10-17T18:27:08.686399Z"
    }
   },
   "outputs": [],
   "source": [
    "ohe = OneHotEncoder(sparse=False, handle_unknown=\"ignore\")\n",
    "#sparse : bool, default=True\n",
    "#    Will return sparse matrix if set True else will return an array.\n",
    "\n",
    "#handle_unknown : {'error', 'ignore'}, default='error'\n",
    "#    Whether to raise an error or ignore if an unknown categorical feature\n",
    "#    is present during transform (default is to raise). When this parameter\n",
    "#    is set to 'ignore' and an unknown category is encountered during\n",
    "#    transform, the resulting one-hot encoded columns for this feature\n",
    "#    will be all zeros. In the inverse transform, an unknown category\n",
    "#    will be denoted as None.\n"
   ]
  },
  {
   "cell_type": "code",
   "execution_count": 59,
   "id": "66b77c2b",
   "metadata": {
    "ExecuteTime": {
     "end_time": "2021-10-17T18:27:08.755394Z",
     "start_time": "2021-10-17T18:27:08.739804Z"
    }
   },
   "outputs": [
    {
     "data": {
      "text/html": [
       "<div>\n",
       "<style scoped>\n",
       "    .dataframe tbody tr th:only-of-type {\n",
       "        vertical-align: middle;\n",
       "    }\n",
       "\n",
       "    .dataframe tbody tr th {\n",
       "        vertical-align: top;\n",
       "    }\n",
       "\n",
       "    .dataframe thead th {\n",
       "        text-align: right;\n",
       "    }\n",
       "</style>\n",
       "<table border=\"1\" class=\"dataframe\">\n",
       "  <thead>\n",
       "    <tr style=\"text-align: right;\">\n",
       "      <th></th>\n",
       "      <th>col</th>\n",
       "    </tr>\n",
       "  </thead>\n",
       "  <tbody>\n",
       "    <tr>\n",
       "      <th>0</th>\n",
       "      <td>A</td>\n",
       "    </tr>\n",
       "    <tr>\n",
       "      <th>1</th>\n",
       "      <td>B</td>\n",
       "    </tr>\n",
       "    <tr>\n",
       "      <th>2</th>\n",
       "      <td>C</td>\n",
       "    </tr>\n",
       "    <tr>\n",
       "      <th>3</th>\n",
       "      <td>B</td>\n",
       "    </tr>\n",
       "  </tbody>\n",
       "</table>\n",
       "</div>"
      ],
      "text/plain": [
       "  col\n",
       "0   A\n",
       "1   B\n",
       "2   C\n",
       "3   B"
      ]
     },
     "execution_count": 59,
     "metadata": {},
     "output_type": "execute_result"
    }
   ],
   "source": [
    "X"
   ]
  },
  {
   "cell_type": "code",
   "execution_count": 60,
   "id": "6bb1feac",
   "metadata": {
    "ExecuteTime": {
     "end_time": "2021-10-17T18:27:08.786637Z",
     "start_time": "2021-10-17T18:27:08.755394Z"
    }
   },
   "outputs": [
    {
     "data": {
      "text/html": [
       "<div>\n",
       "<style scoped>\n",
       "    .dataframe tbody tr th:only-of-type {\n",
       "        vertical-align: middle;\n",
       "    }\n",
       "\n",
       "    .dataframe tbody tr th {\n",
       "        vertical-align: top;\n",
       "    }\n",
       "\n",
       "    .dataframe thead th {\n",
       "        text-align: right;\n",
       "    }\n",
       "</style>\n",
       "<table border=\"1\" class=\"dataframe\">\n",
       "  <thead>\n",
       "    <tr style=\"text-align: right;\">\n",
       "      <th></th>\n",
       "      <th>col</th>\n",
       "    </tr>\n",
       "  </thead>\n",
       "  <tbody>\n",
       "    <tr>\n",
       "      <th>0</th>\n",
       "      <td>A</td>\n",
       "    </tr>\n",
       "    <tr>\n",
       "      <th>1</th>\n",
       "      <td>C</td>\n",
       "    </tr>\n",
       "    <tr>\n",
       "      <th>2</th>\n",
       "      <td>D</td>\n",
       "    </tr>\n",
       "  </tbody>\n",
       "</table>\n",
       "</div>"
      ],
      "text/plain": [
       "  col\n",
       "0   A\n",
       "1   C\n",
       "2   D"
      ]
     },
     "execution_count": 60,
     "metadata": {},
     "output_type": "execute_result"
    }
   ],
   "source": [
    "X_new"
   ]
  },
  {
   "cell_type": "code",
   "execution_count": 61,
   "id": "b140ea85",
   "metadata": {
    "ExecuteTime": {
     "end_time": "2021-10-17T18:27:08.841012Z",
     "start_time": "2021-10-17T18:27:08.802258Z"
    }
   },
   "outputs": [
    {
     "data": {
      "text/plain": [
       "array([[1., 0., 0.],\n",
       "       [0., 1., 0.],\n",
       "       [0., 0., 1.],\n",
       "       [0., 1., 0.]])"
      ]
     },
     "execution_count": 61,
     "metadata": {},
     "output_type": "execute_result"
    }
   ],
   "source": [
    "# three columns represent categories A, B, and C\n",
    "ohe.fit_transform(X[[\"col\"]])"
   ]
  },
  {
   "cell_type": "code",
   "execution_count": 62,
   "id": "01191af3",
   "metadata": {
    "ExecuteTime": {
     "end_time": "2021-10-17T18:27:08.856634Z",
     "start_time": "2021-10-17T18:27:08.841012Z"
    }
   },
   "outputs": [
    {
     "data": {
      "text/plain": [
       "array([[1., 0., 0.],\n",
       "       [0., 0., 1.],\n",
       "       [0., 0., 0.]])"
      ]
     },
     "execution_count": 62,
     "metadata": {},
     "output_type": "execute_result"
    }
   ],
   "source": [
    "# category D was not learned by OneHotEncoder during the \"fit\" step\n",
    "# category D is encoded as all zeros\n",
    "ohe.transform(X_new)"
   ]
  },
  {
   "cell_type": "markdown",
   "id": "2f4d3b39",
   "metadata": {},
   "source": [
    "## Three reasons not to use drop='first' with OneHotEncoder\n",
    "\n",
    "In most cases, I recommend that you don't use drop='first' with OneHotEncoder. Here's why:\n",
    "\n",
    "+ Multicollinearity is rarely an issue with scikit-learn models\n",
    "+ drop='first' is incompatible with handle_unknown='ignore'\n",
    "+ May be problematic if you standardize all features or use a regularized model\n",
    "\n",
    "\n",
    "Note: Beginning in scikit-learn 1.0, drop='first' and handle_unknown='ignore' can be used together. However, the dropped category and an unknown category will both be encoded as all zeros. "
   ]
  },
  {
   "cell_type": "markdown",
   "id": "89f655e3",
   "metadata": {},
   "source": [
    "## Drop the first category from binary features (only) with OneHotEncoder\n",
    "\n",
    "New in version 0.23: Use drop='if_binary' with OneHotEncoder to drop the first category ONLY if it's a binary feature (meaning it has exactly two categories).\n",
    "\n",
    "Note: Beginning in scikit-learn 1.0, drop='first' and drop='if_binary' can both be used with handle_unknown='ignore'. However, the dropped category and an unknown category will both be encoded as all zeros."
   ]
  },
  {
   "cell_type": "code",
   "execution_count": 63,
   "id": "a9f37a74",
   "metadata": {
    "ExecuteTime": {
     "end_time": "2021-10-17T18:27:09.342383Z",
     "start_time": "2021-10-17T18:27:09.326756Z"
    }
   },
   "outputs": [],
   "source": [
    "X = pd.DataFrame({'Shape':['circle', 'oval', 'square', 'square'],\n",
    "                  'Color': ['pink', 'yellow', 'pink', 'yellow']})"
   ]
  },
  {
   "cell_type": "code",
   "execution_count": 64,
   "id": "d593b220",
   "metadata": {
    "ExecuteTime": {
     "end_time": "2021-10-17T18:27:09.389247Z",
     "start_time": "2021-10-17T18:27:09.358004Z"
    }
   },
   "outputs": [
    {
     "data": {
      "text/html": [
       "<div>\n",
       "<style scoped>\n",
       "    .dataframe tbody tr th:only-of-type {\n",
       "        vertical-align: middle;\n",
       "    }\n",
       "\n",
       "    .dataframe tbody tr th {\n",
       "        vertical-align: top;\n",
       "    }\n",
       "\n",
       "    .dataframe thead th {\n",
       "        text-align: right;\n",
       "    }\n",
       "</style>\n",
       "<table border=\"1\" class=\"dataframe\">\n",
       "  <thead>\n",
       "    <tr style=\"text-align: right;\">\n",
       "      <th></th>\n",
       "      <th>Shape</th>\n",
       "      <th>Color</th>\n",
       "    </tr>\n",
       "  </thead>\n",
       "  <tbody>\n",
       "    <tr>\n",
       "      <th>0</th>\n",
       "      <td>circle</td>\n",
       "      <td>pink</td>\n",
       "    </tr>\n",
       "    <tr>\n",
       "      <th>1</th>\n",
       "      <td>oval</td>\n",
       "      <td>yellow</td>\n",
       "    </tr>\n",
       "    <tr>\n",
       "      <th>2</th>\n",
       "      <td>square</td>\n",
       "      <td>pink</td>\n",
       "    </tr>\n",
       "    <tr>\n",
       "      <th>3</th>\n",
       "      <td>square</td>\n",
       "      <td>yellow</td>\n",
       "    </tr>\n",
       "  </tbody>\n",
       "</table>\n",
       "</div>"
      ],
      "text/plain": [
       "    Shape   Color\n",
       "0  circle    pink\n",
       "1    oval  yellow\n",
       "2  square    pink\n",
       "3  square  yellow"
      ]
     },
     "execution_count": 64,
     "metadata": {},
     "output_type": "execute_result"
    }
   ],
   "source": [
    "# Shape has 3 categories, Color has 2 categories\n",
    "X"
   ]
  },
  {
   "cell_type": "code",
   "execution_count": 65,
   "id": "177f0f8c",
   "metadata": {
    "ExecuteTime": {
     "end_time": "2021-10-17T18:27:09.420489Z",
     "start_time": "2021-10-17T18:27:09.389247Z"
    }
   },
   "outputs": [
    {
     "data": {
      "text/plain": [
       "array([[1., 0., 0., 1., 0.],\n",
       "       [0., 1., 0., 0., 1.],\n",
       "       [0., 0., 1., 1., 0.],\n",
       "       [0., 0., 1., 0., 1.]])"
      ]
     },
     "execution_count": 65,
     "metadata": {},
     "output_type": "execute_result"
    }
   ],
   "source": [
    "# drop=None (default) creates one feature column per category\n",
    "ohe = OneHotEncoder(sparse=False, drop=None)\n",
    "ohe.fit_transform(X)"
   ]
  },
  {
   "cell_type": "code",
   "execution_count": 66,
   "id": "e69e15ea",
   "metadata": {
    "ExecuteTime": {
     "end_time": "2021-10-17T18:27:09.458242Z",
     "start_time": "2021-10-17T18:27:09.420489Z"
    }
   },
   "outputs": [
    {
     "data": {
      "text/plain": [
       "array([[1., 0., 0., 0.],\n",
       "       [0., 1., 0., 1.],\n",
       "       [0., 0., 1., 0.],\n",
       "       [0., 0., 1., 1.]])"
      ]
     },
     "execution_count": 66,
     "metadata": {},
     "output_type": "execute_result"
    }
   ],
   "source": [
    "# drop='if_binary' drops the first category of binary features\n",
    "ohe = OneHotEncoder(sparse=False, drop=\"if_binary\")\n",
    "ohe.fit_transform(X)"
   ]
  },
  {
   "cell_type": "markdown",
   "id": "6a7abe30",
   "metadata": {},
   "source": [
    "## Use OrdinalEncoder instead of OneHotEncoder with tree-based models\n",
    "\n",
    "With a [tree-based model](https://scikit-learn.org/stable/modules/tree.html), try [OrdinalEncoder](https://scikit-learn.org/stable/modules/generated/sklearn.preprocessing.OrdinalEncoder.html) instead of [OneHotEncoder](https://scikit-learn.org/stable/modules/generated/sklearn.preprocessing.OneHotEncoder.html) even for nominal (unordered) features.\n",
    "\n",
    "Accuracy will often be similar, but OrdinalEncoder will be much faster!\n",
    "\n",
    "Additional links: [Random Forests](https://scikit-learn.org/stable/modules/ensemble.html#forests-of-randomized-trees)"
   ]
  },
  {
   "cell_type": "code",
   "execution_count": 67,
   "id": "8ccee629",
   "metadata": {
    "ExecuteTime": {
     "end_time": "2021-10-17T18:27:09.848216Z",
     "start_time": "2021-10-17T18:27:09.721249Z"
    }
   },
   "outputs": [],
   "source": [
    "file_input_path = \"adult-census.csv\"\n",
    "if not os.path.exists(file_input_path):\n",
    "    df = pd.read_csv('https://www.openml.org/data/get_csv/1595261/adult-census.csv')\n",
    "    df.to_csv(file_input_path, header=True, index=False, sep=\"\\t\")\n",
    "else:\n",
    "    df = pd.read_csv(file_input_path, header=0, sep=\"\\t\")"
   ]
  },
  {
   "cell_type": "code",
   "execution_count": 68,
   "id": "315a6459",
   "metadata": {
    "ExecuteTime": {
     "end_time": "2021-10-17T18:27:09.895080Z",
     "start_time": "2021-10-17T18:27:09.848216Z"
    }
   },
   "outputs": [
    {
     "name": "stdout",
     "output_type": "stream",
     "text": [
      "<class 'pandas.core.frame.DataFrame'>\n",
      "RangeIndex: 48842 entries, 0 to 48841\n",
      "Data columns (total 15 columns):\n",
      " #   Column          Non-Null Count  Dtype \n",
      "---  ------          --------------  ----- \n",
      " 0   age             48842 non-null  int64 \n",
      " 1   workclass       48842 non-null  object\n",
      " 2   fnlwgt          48842 non-null  int64 \n",
      " 3   education       48842 non-null  object\n",
      " 4   education-num   48842 non-null  int64 \n",
      " 5   marital-status  48842 non-null  object\n",
      " 6   occupation      48842 non-null  object\n",
      " 7   relationship    48842 non-null  object\n",
      " 8   race            48842 non-null  object\n",
      " 9   sex             48842 non-null  object\n",
      " 10  capital-gain    48842 non-null  int64 \n",
      " 11  capital-loss    48842 non-null  int64 \n",
      " 12  hours-per-week  48842 non-null  int64 \n",
      " 13  native-country  48842 non-null  object\n",
      " 14  class           48842 non-null  object\n",
      "dtypes: int64(6), object(9)\n",
      "memory usage: 5.6+ MB\n"
     ]
    }
   ],
   "source": [
    "df.info()"
   ]
  },
  {
   "cell_type": "code",
   "execution_count": 69,
   "id": "2f50561e",
   "metadata": {
    "ExecuteTime": {
     "end_time": "2021-10-17T18:27:09.948457Z",
     "start_time": "2021-10-17T18:27:09.895080Z"
    }
   },
   "outputs": [
    {
     "data": {
      "text/html": [
       "<div>\n",
       "<style scoped>\n",
       "    .dataframe tbody tr th:only-of-type {\n",
       "        vertical-align: middle;\n",
       "    }\n",
       "\n",
       "    .dataframe tbody tr th {\n",
       "        vertical-align: top;\n",
       "    }\n",
       "\n",
       "    .dataframe thead th {\n",
       "        text-align: right;\n",
       "    }\n",
       "</style>\n",
       "<table border=\"1\" class=\"dataframe\">\n",
       "  <thead>\n",
       "    <tr style=\"text-align: right;\">\n",
       "      <th></th>\n",
       "      <th>age</th>\n",
       "      <th>fnlwgt</th>\n",
       "      <th>education-num</th>\n",
       "      <th>capital-gain</th>\n",
       "      <th>capital-loss</th>\n",
       "      <th>hours-per-week</th>\n",
       "    </tr>\n",
       "  </thead>\n",
       "  <tbody>\n",
       "    <tr>\n",
       "      <th>count</th>\n",
       "      <td>48842.000000</td>\n",
       "      <td>4.884200e+04</td>\n",
       "      <td>48842.000000</td>\n",
       "      <td>48842.000000</td>\n",
       "      <td>48842.000000</td>\n",
       "      <td>48842.000000</td>\n",
       "    </tr>\n",
       "    <tr>\n",
       "      <th>mean</th>\n",
       "      <td>38.643585</td>\n",
       "      <td>1.896641e+05</td>\n",
       "      <td>10.078089</td>\n",
       "      <td>1079.067626</td>\n",
       "      <td>87.502314</td>\n",
       "      <td>40.422382</td>\n",
       "    </tr>\n",
       "    <tr>\n",
       "      <th>std</th>\n",
       "      <td>13.710510</td>\n",
       "      <td>1.056040e+05</td>\n",
       "      <td>2.570973</td>\n",
       "      <td>7452.019058</td>\n",
       "      <td>403.004552</td>\n",
       "      <td>12.391444</td>\n",
       "    </tr>\n",
       "    <tr>\n",
       "      <th>min</th>\n",
       "      <td>17.000000</td>\n",
       "      <td>1.228500e+04</td>\n",
       "      <td>1.000000</td>\n",
       "      <td>0.000000</td>\n",
       "      <td>0.000000</td>\n",
       "      <td>1.000000</td>\n",
       "    </tr>\n",
       "    <tr>\n",
       "      <th>25%</th>\n",
       "      <td>28.000000</td>\n",
       "      <td>1.175505e+05</td>\n",
       "      <td>9.000000</td>\n",
       "      <td>0.000000</td>\n",
       "      <td>0.000000</td>\n",
       "      <td>40.000000</td>\n",
       "    </tr>\n",
       "    <tr>\n",
       "      <th>50%</th>\n",
       "      <td>37.000000</td>\n",
       "      <td>1.781445e+05</td>\n",
       "      <td>10.000000</td>\n",
       "      <td>0.000000</td>\n",
       "      <td>0.000000</td>\n",
       "      <td>40.000000</td>\n",
       "    </tr>\n",
       "    <tr>\n",
       "      <th>75%</th>\n",
       "      <td>48.000000</td>\n",
       "      <td>2.376420e+05</td>\n",
       "      <td>12.000000</td>\n",
       "      <td>0.000000</td>\n",
       "      <td>0.000000</td>\n",
       "      <td>45.000000</td>\n",
       "    </tr>\n",
       "    <tr>\n",
       "      <th>max</th>\n",
       "      <td>90.000000</td>\n",
       "      <td>1.490400e+06</td>\n",
       "      <td>16.000000</td>\n",
       "      <td>99999.000000</td>\n",
       "      <td>4356.000000</td>\n",
       "      <td>99.000000</td>\n",
       "    </tr>\n",
       "  </tbody>\n",
       "</table>\n",
       "</div>"
      ],
      "text/plain": [
       "                age        fnlwgt  education-num  capital-gain  capital-loss  \\\n",
       "count  48842.000000  4.884200e+04   48842.000000  48842.000000  48842.000000   \n",
       "mean      38.643585  1.896641e+05      10.078089   1079.067626     87.502314   \n",
       "std       13.710510  1.056040e+05       2.570973   7452.019058    403.004552   \n",
       "min       17.000000  1.228500e+04       1.000000      0.000000      0.000000   \n",
       "25%       28.000000  1.175505e+05       9.000000      0.000000      0.000000   \n",
       "50%       37.000000  1.781445e+05      10.000000      0.000000      0.000000   \n",
       "75%       48.000000  2.376420e+05      12.000000      0.000000      0.000000   \n",
       "max       90.000000  1.490400e+06      16.000000  99999.000000   4356.000000   \n",
       "\n",
       "       hours-per-week  \n",
       "count    48842.000000  \n",
       "mean        40.422382  \n",
       "std         12.391444  \n",
       "min          1.000000  \n",
       "25%         40.000000  \n",
       "50%         40.000000  \n",
       "75%         45.000000  \n",
       "max         99.000000  "
      ]
     },
     "execution_count": 69,
     "metadata": {},
     "output_type": "execute_result"
    }
   ],
   "source": [
    "df.describe()"
   ]
  },
  {
   "cell_type": "code",
   "execution_count": 70,
   "id": "e41fd59c",
   "metadata": {
    "ExecuteTime": {
     "end_time": "2021-10-17T18:27:09.979699Z",
     "start_time": "2021-10-17T18:27:09.948457Z"
    }
   },
   "outputs": [
    {
     "data": {
      "text/html": [
       "<div>\n",
       "<style scoped>\n",
       "    .dataframe tbody tr th:only-of-type {\n",
       "        vertical-align: middle;\n",
       "    }\n",
       "\n",
       "    .dataframe tbody tr th {\n",
       "        vertical-align: top;\n",
       "    }\n",
       "\n",
       "    .dataframe thead th {\n",
       "        text-align: right;\n",
       "    }\n",
       "</style>\n",
       "<table border=\"1\" class=\"dataframe\">\n",
       "  <thead>\n",
       "    <tr style=\"text-align: right;\">\n",
       "      <th></th>\n",
       "      <th>age</th>\n",
       "      <th>workclass</th>\n",
       "      <th>fnlwgt</th>\n",
       "      <th>education</th>\n",
       "      <th>education-num</th>\n",
       "      <th>marital-status</th>\n",
       "      <th>occupation</th>\n",
       "      <th>relationship</th>\n",
       "      <th>race</th>\n",
       "      <th>sex</th>\n",
       "      <th>capital-gain</th>\n",
       "      <th>capital-loss</th>\n",
       "      <th>hours-per-week</th>\n",
       "      <th>native-country</th>\n",
       "      <th>class</th>\n",
       "    </tr>\n",
       "  </thead>\n",
       "  <tbody>\n",
       "    <tr>\n",
       "      <th>0</th>\n",
       "      <td>25</td>\n",
       "      <td>Private</td>\n",
       "      <td>226802</td>\n",
       "      <td>11th</td>\n",
       "      <td>7</td>\n",
       "      <td>Never-married</td>\n",
       "      <td>Machine-op-inspct</td>\n",
       "      <td>Own-child</td>\n",
       "      <td>Black</td>\n",
       "      <td>Male</td>\n",
       "      <td>0</td>\n",
       "      <td>0</td>\n",
       "      <td>40</td>\n",
       "      <td>United-States</td>\n",
       "      <td>&lt;=50K</td>\n",
       "    </tr>\n",
       "    <tr>\n",
       "      <th>1</th>\n",
       "      <td>38</td>\n",
       "      <td>Private</td>\n",
       "      <td>89814</td>\n",
       "      <td>HS-grad</td>\n",
       "      <td>9</td>\n",
       "      <td>Married-civ-spouse</td>\n",
       "      <td>Farming-fishing</td>\n",
       "      <td>Husband</td>\n",
       "      <td>White</td>\n",
       "      <td>Male</td>\n",
       "      <td>0</td>\n",
       "      <td>0</td>\n",
       "      <td>50</td>\n",
       "      <td>United-States</td>\n",
       "      <td>&lt;=50K</td>\n",
       "    </tr>\n",
       "  </tbody>\n",
       "</table>\n",
       "</div>"
      ],
      "text/plain": [
       "   age workclass  fnlwgt education  education-num       marital-status  \\\n",
       "0   25   Private  226802      11th              7        Never-married   \n",
       "1   38   Private   89814   HS-grad              9   Married-civ-spouse   \n",
       "\n",
       "           occupation relationship    race    sex  capital-gain  capital-loss  \\\n",
       "0   Machine-op-inspct    Own-child   Black   Male             0             0   \n",
       "1     Farming-fishing      Husband   White   Male             0             0   \n",
       "\n",
       "   hours-per-week  native-country   class  \n",
       "0              40   United-States   <=50K  \n",
       "1              50   United-States   <=50K  "
      ]
     },
     "execution_count": 70,
     "metadata": {},
     "output_type": "execute_result"
    }
   ],
   "source": [
    "df.head(2)"
   ]
  },
  {
   "cell_type": "code",
   "execution_count": 71,
   "id": "782ec57a",
   "metadata": {
    "ExecuteTime": {
     "end_time": "2021-10-17T18:27:09.995293Z",
     "start_time": "2021-10-17T18:27:09.979699Z"
    }
   },
   "outputs": [],
   "source": [
    "categorical_cols = ['workclass', 'education', 'marital-status',\n",
    "                    'occupation', 'relationship', 'race', 'sex']"
   ]
  },
  {
   "cell_type": "code",
   "execution_count": 72,
   "id": "e260d416",
   "metadata": {
    "ExecuteTime": {
     "end_time": "2021-10-17T18:27:10.064316Z",
     "start_time": "2021-10-17T18:27:09.995293Z"
    }
   },
   "outputs": [],
   "source": [
    "from sklearn.preprocessing import OneHotEncoder, OrdinalEncoder\n",
    "from sklearn.pipeline import make_pipeline\n",
    "from sklearn.ensemble import RandomForestClassifier\n",
    "from sklearn.model_selection import cross_val_score"
   ]
  },
  {
   "cell_type": "code",
   "execution_count": 73,
   "id": "f163aebb",
   "metadata": {
    "ExecuteTime": {
     "end_time": "2021-10-17T18:27:10.079916Z",
     "start_time": "2021-10-17T18:27:10.064316Z"
    }
   },
   "outputs": [],
   "source": [
    "X = df[categorical_cols]\n",
    "y = df[\"class\"]"
   ]
  },
  {
   "cell_type": "code",
   "execution_count": 74,
   "id": "7fa27199",
   "metadata": {
    "ExecuteTime": {
     "end_time": "2021-10-17T18:27:10.111152Z",
     "start_time": "2021-10-17T18:27:10.079916Z"
    }
   },
   "outputs": [
    {
     "data": {
      "text/plain": [
       "Index(['workclass', 'education', 'marital-status', 'occupation',\n",
       "       'relationship', 'race', 'sex'],\n",
       "      dtype='object')"
      ]
     },
     "execution_count": 74,
     "metadata": {},
     "output_type": "execute_result"
    }
   ],
   "source": [
    "X.columns"
   ]
  },
  {
   "cell_type": "code",
   "execution_count": 75,
   "id": "dd8e6bf3",
   "metadata": {
    "ExecuteTime": {
     "end_time": "2021-10-17T18:27:10.148906Z",
     "start_time": "2021-10-17T18:27:10.111152Z"
    }
   },
   "outputs": [
    {
     "data": {
      "text/html": [
       "<div>\n",
       "<style scoped>\n",
       "    .dataframe tbody tr th:only-of-type {\n",
       "        vertical-align: middle;\n",
       "    }\n",
       "\n",
       "    .dataframe tbody tr th {\n",
       "        vertical-align: top;\n",
       "    }\n",
       "\n",
       "    .dataframe thead th {\n",
       "        text-align: right;\n",
       "    }\n",
       "</style>\n",
       "<table border=\"1\" class=\"dataframe\">\n",
       "  <thead>\n",
       "    <tr style=\"text-align: right;\">\n",
       "      <th></th>\n",
       "      <th>workclass</th>\n",
       "      <th>education</th>\n",
       "      <th>marital-status</th>\n",
       "      <th>occupation</th>\n",
       "      <th>relationship</th>\n",
       "      <th>race</th>\n",
       "      <th>sex</th>\n",
       "    </tr>\n",
       "  </thead>\n",
       "  <tbody>\n",
       "    <tr>\n",
       "      <th>0</th>\n",
       "      <td>Private</td>\n",
       "      <td>11th</td>\n",
       "      <td>Never-married</td>\n",
       "      <td>Machine-op-inspct</td>\n",
       "      <td>Own-child</td>\n",
       "      <td>Black</td>\n",
       "      <td>Male</td>\n",
       "    </tr>\n",
       "    <tr>\n",
       "      <th>1</th>\n",
       "      <td>Private</td>\n",
       "      <td>HS-grad</td>\n",
       "      <td>Married-civ-spouse</td>\n",
       "      <td>Farming-fishing</td>\n",
       "      <td>Husband</td>\n",
       "      <td>White</td>\n",
       "      <td>Male</td>\n",
       "    </tr>\n",
       "  </tbody>\n",
       "</table>\n",
       "</div>"
      ],
      "text/plain": [
       "  workclass education       marital-status          occupation relationship  \\\n",
       "0   Private      11th        Never-married   Machine-op-inspct    Own-child   \n",
       "1   Private   HS-grad   Married-civ-spouse     Farming-fishing      Husband   \n",
       "\n",
       "     race    sex  \n",
       "0   Black   Male  \n",
       "1   White   Male  "
      ]
     },
     "execution_count": 75,
     "metadata": {},
     "output_type": "execute_result"
    }
   ],
   "source": [
    "X.head(2)"
   ]
  },
  {
   "cell_type": "code",
   "execution_count": 76,
   "id": "8ad0d621",
   "metadata": {
    "ExecuteTime": {
     "end_time": "2021-10-17T18:27:10.164526Z",
     "start_time": "2021-10-17T18:27:10.148906Z"
    }
   },
   "outputs": [
    {
     "data": {
      "text/plain": [
       "0     <=50K\n",
       "1     <=50K\n",
       "Name: class, dtype: object"
      ]
     },
     "execution_count": 76,
     "metadata": {},
     "output_type": "execute_result"
    }
   ],
   "source": [
    "y.head(2)"
   ]
  },
  {
   "cell_type": "markdown",
   "id": "ce333755",
   "metadata": {},
   "source": [
    "### Comparasion between OneHotEncoder and OrdinalEncoder"
   ]
  },
  {
   "cell_type": "code",
   "execution_count": 77,
   "id": "c63db6c3",
   "metadata": {
    "ExecuteTime": {
     "end_time": "2021-10-17T18:27:10.249174Z",
     "start_time": "2021-10-17T18:27:10.233549Z"
    }
   },
   "outputs": [
    {
     "name": "stdout",
     "output_type": "stream",
     "text": [
      "Number of columns in X: 7\n"
     ]
    }
   ],
   "source": [
    "print(f\"Number of columns in X: {len(X.columns)}\")"
   ]
  },
  {
   "cell_type": "code",
   "execution_count": 78,
   "id": "30ba60c3",
   "metadata": {
    "ExecuteTime": {
     "end_time": "2021-10-17T18:27:10.380661Z",
     "start_time": "2021-10-17T18:27:10.264795Z"
    }
   },
   "outputs": [
    {
     "data": {
      "text/plain": [
       "(48842, 60)"
      ]
     },
     "execution_count": 78,
     "metadata": {},
     "output_type": "execute_result"
    }
   ],
   "source": [
    "ohe = OneHotEncoder(sparse=False)\n",
    "ohe.fit_transform(X).shape"
   ]
  },
  {
   "cell_type": "code",
   "execution_count": 79,
   "id": "de5cbbaf",
   "metadata": {
    "ExecuteTime": {
     "end_time": "2021-10-17T18:27:10.465273Z",
     "start_time": "2021-10-17T18:27:10.380661Z"
    }
   },
   "outputs": [
    {
     "data": {
      "text/plain": [
       "array([[0., 0., 0., ..., 0., 0., 1.],\n",
       "       [0., 0., 0., ..., 1., 0., 1.],\n",
       "       [0., 0., 1., ..., 1., 0., 1.],\n",
       "       ...,\n",
       "       [0., 0., 0., ..., 1., 1., 0.],\n",
       "       [0., 0., 0., ..., 1., 0., 1.],\n",
       "       [0., 0., 0., ..., 1., 1., 0.]])"
      ]
     },
     "execution_count": 79,
     "metadata": {},
     "output_type": "execute_result"
    }
   ],
   "source": [
    "ohe.fit_transform(X)"
   ]
  },
  {
   "cell_type": "code",
   "execution_count": 80,
   "id": "200c51d4",
   "metadata": {
    "ExecuteTime": {
     "end_time": "2021-10-17T18:27:10.581135Z",
     "start_time": "2021-10-17T18:27:10.465273Z"
    }
   },
   "outputs": [
    {
     "data": {
      "text/plain": [
       "(48842, 7)"
      ]
     },
     "execution_count": 80,
     "metadata": {},
     "output_type": "execute_result"
    }
   ],
   "source": [
    "oe = OrdinalEncoder()\n",
    "oe.fit_transform(X).shape"
   ]
  },
  {
   "cell_type": "code",
   "execution_count": 81,
   "id": "871906c5",
   "metadata": {
    "ExecuteTime": {
     "end_time": "2021-10-17T18:27:10.681377Z",
     "start_time": "2021-10-17T18:27:10.581135Z"
    }
   },
   "outputs": [
    {
     "data": {
      "text/plain": [
       "array([[ 4.,  1.,  4., ...,  3.,  2.,  1.],\n",
       "       [ 4., 11.,  2., ...,  0.,  4.,  1.],\n",
       "       [ 2.,  7.,  2., ...,  0.,  4.,  1.],\n",
       "       ...,\n",
       "       [ 4., 11.,  6., ...,  4.,  4.,  0.],\n",
       "       [ 4., 11.,  4., ...,  3.,  4.,  1.],\n",
       "       [ 5., 11.,  2., ...,  5.,  4.,  0.]])"
      ]
     },
     "execution_count": 81,
     "metadata": {},
     "output_type": "execute_result"
    }
   ],
   "source": [
    "oe.fit_transform(X)"
   ]
  },
  {
   "cell_type": "markdown",
   "id": "03154271",
   "metadata": {},
   "source": [
    "### Classifier"
   ]
  },
  {
   "cell_type": "code",
   "execution_count": 82,
   "id": "ef3434a7",
   "metadata": {
    "ExecuteTime": {
     "end_time": "2021-10-17T18:27:10.750380Z",
     "start_time": "2021-10-17T18:27:10.728241Z"
    }
   },
   "outputs": [],
   "source": [
    "rf = RandomForestClassifier(random_state=1, n_jobs=-1)"
   ]
  },
  {
   "cell_type": "code",
   "execution_count": 83,
   "id": "5f5c8b95",
   "metadata": {
    "ExecuteTime": {
     "end_time": "2021-10-17T18:27:23.089276Z",
     "start_time": "2021-10-17T18:27:10.766002Z"
    }
   },
   "outputs": [
    {
     "name": "stdout",
     "output_type": "stream",
     "text": [
      "Wall time: 10.7 s\n"
     ]
    },
    {
     "data": {
      "text/plain": [
       "0.8262561170407418"
      ]
     },
     "execution_count": 83,
     "metadata": {},
     "output_type": "execute_result"
    }
   ],
   "source": [
    "# Pipeline containing OneHotEncoder\n",
    "ohe_pipe = make_pipeline(\n",
    "    ohe,\n",
    "    rf\n",
    ")\n",
    "%time cross_val_score(ohe_pipe, X, y).mean()"
   ]
  },
  {
   "cell_type": "code",
   "execution_count": 84,
   "id": "9f7409ce",
   "metadata": {
    "ExecuteTime": {
     "end_time": "2021-10-17T18:27:28.445448Z",
     "start_time": "2021-10-17T18:27:23.096257Z"
    }
   },
   "outputs": [
    {
     "name": "stdout",
     "output_type": "stream",
     "text": [
      "Wall time: 4.58 s\n"
     ]
    },
    {
     "data": {
      "text/plain": [
       "0.8256623624061437"
      ]
     },
     "execution_count": 84,
     "metadata": {},
     "output_type": "execute_result"
    }
   ],
   "source": [
    "# Pipeline containing OrdinalEncoder\n",
    "oe_pipe = make_pipeline(\n",
    "    oe,\n",
    "    rf\n",
    ")\n",
    "%time cross_val_score(oe_pipe, X, y).mean()"
   ]
  },
  {
   "cell_type": "markdown",
   "id": "2a8222cf",
   "metadata": {},
   "source": [
    "# Missing values"
   ]
  },
  {
   "cell_type": "markdown",
   "id": "d919e25d",
   "metadata": {},
   "source": [
    "## Add a missing indicator to encode \"missingness\" as a feature\n",
    "\n",
    "When [imputing missing values](https://scikit-learn.org/stable/modules/impute.html), you can preserve info about which values were missing and use THAT as a feature!\n",
    "\n",
    "Why? Sometimes there's a relationship between \"missingness\" and the target/label you are trying to predict."
   ]
  },
  {
   "cell_type": "code",
   "execution_count": 85,
   "id": "c1a12a44",
   "metadata": {
    "ExecuteTime": {
     "end_time": "2021-10-17T18:27:28.476690Z",
     "start_time": "2021-10-17T18:27:28.445448Z"
    }
   },
   "outputs": [],
   "source": [
    "X = pd.DataFrame({'Age':[20, 30, 10, np.nan, 10]})"
   ]
  },
  {
   "cell_type": "code",
   "execution_count": 86,
   "id": "027e33ca",
   "metadata": {
    "ExecuteTime": {
     "end_time": "2021-10-17T18:27:28.514443Z",
     "start_time": "2021-10-17T18:27:28.476690Z"
    }
   },
   "outputs": [],
   "source": [
    "from sklearn.impute import SimpleImputer"
   ]
  },
  {
   "cell_type": "code",
   "execution_count": 87,
   "id": "f652aea1",
   "metadata": {
    "ExecuteTime": {
     "end_time": "2021-10-17T18:27:28.530064Z",
     "start_time": "2021-10-17T18:27:28.514443Z"
    }
   },
   "outputs": [
    {
     "data": {
      "text/plain": [
       "array([[20. ],\n",
       "       [30. ],\n",
       "       [10. ],\n",
       "       [17.5],\n",
       "       [10. ]])"
      ]
     },
     "execution_count": 87,
     "metadata": {},
     "output_type": "execute_result"
    }
   ],
   "source": [
    "# impute the mean\n",
    "imputer = SimpleImputer()\n",
    "imputer.fit_transform(X)"
   ]
  },
  {
   "cell_type": "code",
   "execution_count": 88,
   "id": "d9e652bd",
   "metadata": {
    "ExecuteTime": {
     "end_time": "2021-10-17T18:27:28.592549Z",
     "start_time": "2021-10-17T18:27:28.530064Z"
    }
   },
   "outputs": [
    {
     "data": {
      "text/plain": [
       "array([[20. ,  0. ],\n",
       "       [30. ,  0. ],\n",
       "       [10. ,  0. ],\n",
       "       [17.5,  1. ],\n",
       "       [10. ,  0. ]])"
      ]
     },
     "execution_count": 88,
     "metadata": {},
     "output_type": "execute_result"
    }
   ],
   "source": [
    "# add an indicator\n",
    "imputer = SimpleImputer(add_indicator=True)\n",
    "imputer.fit_transform(X)"
   ]
  },
  {
   "cell_type": "markdown",
   "id": "1067ae6d",
   "metadata": {},
   "source": [
    "## Impute missing values using KNNImputer or IterativeImputer\n",
    "\n",
    "Need something better than [SimpleImputer](https://scikit-learn.org/stable/modules/generated/sklearn.impute.SimpleImputer.html) for missing value imputation?\n",
    "\n",
    "Try [KNNImputer](https://scikit-learn.org/stable/modules/generated/sklearn.impute.KNNImputer.html) or [IterativeImputer](https://scikit-learn.org/stable/modules/generated/sklearn.impute.IterativeImputer.html) (inspired by R's MICE package). Both are multivariate approaches (they take other features into account!)\n"
   ]
  },
  {
   "cell_type": "code",
   "execution_count": 89,
   "id": "4380ffad",
   "metadata": {
    "ExecuteTime": {
     "end_time": "2021-10-17T18:27:28.630302Z",
     "start_time": "2021-10-17T18:27:28.592549Z"
    }
   },
   "outputs": [],
   "source": [
    "from sklearn.experimental import enable_iterative_imputer\n",
    "from sklearn.impute import IterativeImputer\n",
    "\n",
    "from sklearn.impute import KNNImputer"
   ]
  },
  {
   "cell_type": "code",
   "execution_count": 90,
   "id": "f83cc600",
   "metadata": {
    "ExecuteTime": {
     "end_time": "2021-10-17T18:27:28.645923Z",
     "start_time": "2021-10-17T18:27:28.630302Z"
    }
   },
   "outputs": [],
   "source": [
    "import os \n",
    "\n",
    "file_input_path = \"titanic_train.csv\"\n",
    "if not os.path.exists(file_input_path):\n",
    "    df = pd.read_csv(\"http://bit.ly/kaggletrain\")\n",
    "    df.to_csv(file_input_path, header=True, index=False, sep=\"\\t\")\n",
    "else:\n",
    "    df = pd.read_csv(file_input_path, header=0, sep=\"\\t\")"
   ]
  },
  {
   "cell_type": "code",
   "execution_count": 91,
   "id": "0ca067dd",
   "metadata": {
    "ExecuteTime": {
     "end_time": "2021-10-17T18:27:28.692787Z",
     "start_time": "2021-10-17T18:27:28.661544Z"
    }
   },
   "outputs": [
    {
     "data": {
      "text/html": [
       "<div>\n",
       "<style scoped>\n",
       "    .dataframe tbody tr th:only-of-type {\n",
       "        vertical-align: middle;\n",
       "    }\n",
       "\n",
       "    .dataframe tbody tr th {\n",
       "        vertical-align: top;\n",
       "    }\n",
       "\n",
       "    .dataframe thead th {\n",
       "        text-align: right;\n",
       "    }\n",
       "</style>\n",
       "<table border=\"1\" class=\"dataframe\">\n",
       "  <thead>\n",
       "    <tr style=\"text-align: right;\">\n",
       "      <th></th>\n",
       "      <th>PassengerId</th>\n",
       "      <th>Survived</th>\n",
       "      <th>Pclass</th>\n",
       "      <th>Name</th>\n",
       "      <th>Sex</th>\n",
       "      <th>Age</th>\n",
       "      <th>SibSp</th>\n",
       "      <th>Parch</th>\n",
       "      <th>Ticket</th>\n",
       "      <th>Fare</th>\n",
       "      <th>Cabin</th>\n",
       "      <th>Embarked</th>\n",
       "    </tr>\n",
       "  </thead>\n",
       "  <tbody>\n",
       "    <tr>\n",
       "      <th>0</th>\n",
       "      <td>1</td>\n",
       "      <td>0</td>\n",
       "      <td>3</td>\n",
       "      <td>Braund, Mr. Owen Harris</td>\n",
       "      <td>male</td>\n",
       "      <td>22.0</td>\n",
       "      <td>1</td>\n",
       "      <td>0</td>\n",
       "      <td>A/5 21171</td>\n",
       "      <td>7.2500</td>\n",
       "      <td>NaN</td>\n",
       "      <td>S</td>\n",
       "    </tr>\n",
       "    <tr>\n",
       "      <th>1</th>\n",
       "      <td>2</td>\n",
       "      <td>1</td>\n",
       "      <td>1</td>\n",
       "      <td>Cumings, Mrs. John Bradley (Florence Briggs Th...</td>\n",
       "      <td>female</td>\n",
       "      <td>38.0</td>\n",
       "      <td>1</td>\n",
       "      <td>0</td>\n",
       "      <td>PC 17599</td>\n",
       "      <td>71.2833</td>\n",
       "      <td>C85</td>\n",
       "      <td>C</td>\n",
       "    </tr>\n",
       "  </tbody>\n",
       "</table>\n",
       "</div>"
      ],
      "text/plain": [
       "   PassengerId  Survived  Pclass  \\\n",
       "0            1         0       3   \n",
       "1            2         1       1   \n",
       "\n",
       "                                                Name     Sex   Age  SibSp  \\\n",
       "0                            Braund, Mr. Owen Harris    male  22.0      1   \n",
       "1  Cumings, Mrs. John Bradley (Florence Briggs Th...  female  38.0      1   \n",
       "\n",
       "   Parch     Ticket     Fare Cabin Embarked  \n",
       "0      0  A/5 21171   7.2500   NaN        S  \n",
       "1      0   PC 17599  71.2833   C85        C  "
      ]
     },
     "execution_count": 91,
     "metadata": {},
     "output_type": "execute_result"
    }
   ],
   "source": [
    "df.head(2)"
   ]
  },
  {
   "cell_type": "code",
   "execution_count": 92,
   "id": "41665222",
   "metadata": {
    "ExecuteTime": {
     "end_time": "2021-10-17T18:27:28.734043Z",
     "start_time": "2021-10-17T18:27:28.692787Z"
    }
   },
   "outputs": [],
   "source": [
    "cols = ['SibSp', 'Fare', 'Age']\n",
    "X = df[cols][:6]"
   ]
  },
  {
   "cell_type": "code",
   "execution_count": 93,
   "id": "73adcc31",
   "metadata": {
    "ExecuteTime": {
     "end_time": "2021-10-17T18:27:28.749667Z",
     "start_time": "2021-10-17T18:27:28.734043Z"
    }
   },
   "outputs": [
    {
     "data": {
      "text/html": [
       "<div>\n",
       "<style scoped>\n",
       "    .dataframe tbody tr th:only-of-type {\n",
       "        vertical-align: middle;\n",
       "    }\n",
       "\n",
       "    .dataframe tbody tr th {\n",
       "        vertical-align: top;\n",
       "    }\n",
       "\n",
       "    .dataframe thead th {\n",
       "        text-align: right;\n",
       "    }\n",
       "</style>\n",
       "<table border=\"1\" class=\"dataframe\">\n",
       "  <thead>\n",
       "    <tr style=\"text-align: right;\">\n",
       "      <th></th>\n",
       "      <th>SibSp</th>\n",
       "      <th>Fare</th>\n",
       "      <th>Age</th>\n",
       "    </tr>\n",
       "  </thead>\n",
       "  <tbody>\n",
       "    <tr>\n",
       "      <th>0</th>\n",
       "      <td>1</td>\n",
       "      <td>7.2500</td>\n",
       "      <td>22.0</td>\n",
       "    </tr>\n",
       "    <tr>\n",
       "      <th>1</th>\n",
       "      <td>1</td>\n",
       "      <td>71.2833</td>\n",
       "      <td>38.0</td>\n",
       "    </tr>\n",
       "    <tr>\n",
       "      <th>2</th>\n",
       "      <td>0</td>\n",
       "      <td>7.9250</td>\n",
       "      <td>26.0</td>\n",
       "    </tr>\n",
       "    <tr>\n",
       "      <th>3</th>\n",
       "      <td>1</td>\n",
       "      <td>53.1000</td>\n",
       "      <td>35.0</td>\n",
       "    </tr>\n",
       "    <tr>\n",
       "      <th>4</th>\n",
       "      <td>0</td>\n",
       "      <td>8.0500</td>\n",
       "      <td>35.0</td>\n",
       "    </tr>\n",
       "    <tr>\n",
       "      <th>5</th>\n",
       "      <td>0</td>\n",
       "      <td>8.4583</td>\n",
       "      <td>NaN</td>\n",
       "    </tr>\n",
       "  </tbody>\n",
       "</table>\n",
       "</div>"
      ],
      "text/plain": [
       "   SibSp     Fare   Age\n",
       "0      1   7.2500  22.0\n",
       "1      1  71.2833  38.0\n",
       "2      0   7.9250  26.0\n",
       "3      1  53.1000  35.0\n",
       "4      0   8.0500  35.0\n",
       "5      0   8.4583   NaN"
      ]
     },
     "execution_count": 93,
     "metadata": {},
     "output_type": "execute_result"
    }
   ],
   "source": [
    "X"
   ]
  },
  {
   "cell_type": "code",
   "execution_count": 94,
   "id": "b1c050ba",
   "metadata": {
    "ExecuteTime": {
     "end_time": "2021-10-17T18:27:28.819156Z",
     "start_time": "2021-10-17T18:27:28.749667Z"
    }
   },
   "outputs": [
    {
     "data": {
      "text/plain": [
       "array([[ 1.        ,  7.25      , 22.        ],\n",
       "       [ 1.        , 71.2833    , 38.        ],\n",
       "       [ 0.        ,  7.925     , 26.        ],\n",
       "       [ 1.        , 53.1       , 35.        ],\n",
       "       [ 0.        ,  8.05      , 35.        ],\n",
       "       [ 0.        ,  8.4583    , 28.50639495]])"
      ]
     },
     "execution_count": 94,
     "metadata": {},
     "output_type": "execute_result"
    }
   ],
   "source": [
    "imputer_it = IterativeImputer()\n",
    "imputer_it.fit_transform(X)"
   ]
  },
  {
   "cell_type": "code",
   "execution_count": 95,
   "id": "0af50ff3",
   "metadata": {
    "ExecuteTime": {
     "end_time": "2021-10-17T18:27:28.836789Z",
     "start_time": "2021-10-17T18:27:28.821164Z"
    }
   },
   "outputs": [
    {
     "data": {
      "text/plain": [
       "array([[ 1.    ,  7.25  , 22.    ],\n",
       "       [ 1.    , 71.2833, 38.    ],\n",
       "       [ 0.    ,  7.925 , 26.    ],\n",
       "       [ 1.    , 53.1   , 35.    ],\n",
       "       [ 0.    ,  8.05  , 35.    ],\n",
       "       [ 0.    ,  8.4583, 30.5   ]])"
      ]
     },
     "execution_count": 95,
     "metadata": {},
     "output_type": "execute_result"
    }
   ],
   "source": [
    "imputer_knn = KNNImputer(n_neighbors=2)  # default=5\n",
    "imputer_knn.fit_transform(X)\n",
    "# Note: (26+35)/2 = 30.5"
   ]
  },
  {
   "cell_type": "markdown",
   "id": "47cc9345",
   "metadata": {},
   "source": [
    "## HistGradientBoostingClassifier natively supports missing values\n",
    "\n",
    "Four options for handling missing values (NaNs):\n",
    "+ Drop rows containing NaNs\n",
    "+ Drop columns containing NaNs\n",
    "+ Fill NaNs with imputed values\n",
    "+ [Use a model that natively handles NaNs (NEW!)](https://scikit-learn.org/stable/modules/ensemble.html#missing-values-support)\n",
    "\n",
    "Note: Beginning in scikit-learn 1.0, HistGradientBoostingClassifier and HistGradientBoostingRegressor are considered stable (rather than experimental), and thus you no longer have to enable them explicitly.\n"
   ]
  },
  {
   "cell_type": "code",
   "execution_count": 96,
   "id": "85fb3da6",
   "metadata": {
    "ExecuteTime": {
     "end_time": "2021-10-17T18:27:28.868371Z",
     "start_time": "2021-10-17T18:27:28.852631Z"
    }
   },
   "outputs": [],
   "source": [
    "import os \n",
    "\n",
    "file_input_path = \"titanic_train.csv\"\n",
    "if not os.path.exists(file_input_path):\n",
    "    df_train = pd.read_csv(\"http://bit.ly/kaggletrain\")\n",
    "    df_train.to_csv(file_input_path, header=True, index=False, sep=\"\\t\")\n",
    "else:\n",
    "    df_train = pd.read_csv(file_input_path, header=0, sep=\"\\t\")"
   ]
  },
  {
   "cell_type": "code",
   "execution_count": 97,
   "id": "0a80abfe",
   "metadata": {
    "ExecuteTime": {
     "end_time": "2021-10-17T18:27:28.924423Z",
     "start_time": "2021-10-17T18:27:28.868371Z"
    }
   },
   "outputs": [],
   "source": [
    "import os \n",
    "\n",
    "file_input_path = \"titanic_test.csv\"\n",
    "if not os.path.exists(file_input_path):\n",
    "    df_test = pd.read_csv(\"http://bit.ly/kaggletest\")\n",
    "    df_test.to_csv(file_input_path, header=True, index=False, sep=\"\\t\")\n",
    "else:\n",
    "    df_test = pd.read_csv(file_input_path, header=0, sep=\"\\t\")"
   ]
  },
  {
   "cell_type": "code",
   "execution_count": 98,
   "id": "8120fa5b",
   "metadata": {
    "ExecuteTime": {
     "end_time": "2021-10-17T18:27:28.945096Z",
     "start_time": "2021-10-17T18:27:28.926431Z"
    }
   },
   "outputs": [],
   "source": [
    "df_test = df_test[:175]"
   ]
  },
  {
   "cell_type": "code",
   "execution_count": 99,
   "id": "85001449",
   "metadata": {
    "ExecuteTime": {
     "end_time": "2021-10-17T18:27:28.988506Z",
     "start_time": "2021-10-17T18:27:28.945096Z"
    }
   },
   "outputs": [],
   "source": [
    "col_train = ['Survived', 'Age', 'Fare', 'Pclass']\n",
    "col_test = ['Age', 'Fare', 'Pclass']"
   ]
  },
  {
   "cell_type": "code",
   "execution_count": 100,
   "id": "9ce449ae",
   "metadata": {
    "ExecuteTime": {
     "end_time": "2021-10-17T18:27:29.014141Z",
     "start_time": "2021-10-17T18:27:28.988506Z"
    }
   },
   "outputs": [],
   "source": [
    "df_train = df_train[col_train]\n",
    "df_test = df_test[col_test]"
   ]
  },
  {
   "cell_type": "markdown",
   "id": "88319e29",
   "metadata": {},
   "source": [
    "### count the number of NaNs in each column"
   ]
  },
  {
   "cell_type": "code",
   "execution_count": 101,
   "id": "931446a5",
   "metadata": {
    "ExecuteTime": {
     "end_time": "2021-10-17T18:27:29.045385Z",
     "start_time": "2021-10-17T18:27:29.014141Z"
    }
   },
   "outputs": [
    {
     "data": {
      "text/plain": [
       "Survived      0\n",
       "Age         177\n",
       "Fare          0\n",
       "Pclass        0\n",
       "dtype: int64"
      ]
     },
     "execution_count": 101,
     "metadata": {},
     "output_type": "execute_result"
    }
   ],
   "source": [
    "df_train.isna().sum()"
   ]
  },
  {
   "cell_type": "code",
   "execution_count": 102,
   "id": "b70fefb9",
   "metadata": {
    "ExecuteTime": {
     "end_time": "2021-10-17T18:27:29.092248Z",
     "start_time": "2021-10-17T18:27:29.045385Z"
    }
   },
   "outputs": [
    {
     "data": {
      "text/plain": [
       "Age       36\n",
       "Fare       1\n",
       "Pclass     0\n",
       "dtype: int64"
      ]
     },
     "execution_count": 102,
     "metadata": {},
     "output_type": "execute_result"
    }
   ],
   "source": [
    "df_test.isna().sum()"
   ]
  },
  {
   "cell_type": "code",
   "execution_count": 103,
   "id": "d45c3423",
   "metadata": {
    "ExecuteTime": {
     "end_time": "2021-10-17T18:27:29.114384Z",
     "start_time": "2021-10-17T18:27:29.092248Z"
    }
   },
   "outputs": [],
   "source": [
    "df_label = df_train.pop(\"Survived\")"
   ]
  },
  {
   "cell_type": "code",
   "execution_count": 104,
   "id": "d057ec1d",
   "metadata": {
    "ExecuteTime": {
     "end_time": "2021-10-17T18:27:29.145622Z",
     "start_time": "2021-10-17T18:27:29.130000Z"
    }
   },
   "outputs": [
    {
     "data": {
      "text/plain": [
       "pandas.core.series.Series"
      ]
     },
     "execution_count": 104,
     "metadata": {},
     "output_type": "execute_result"
    }
   ],
   "source": [
    "type(df_label)"
   ]
  },
  {
   "cell_type": "code",
   "execution_count": 105,
   "id": "f292a145",
   "metadata": {
    "ExecuteTime": {
     "end_time": "2021-10-17T18:27:29.230240Z",
     "start_time": "2021-10-17T18:27:29.145622Z"
    }
   },
   "outputs": [
    {
     "name": "stderr",
     "output_type": "stream",
     "text": [
      "C:\\Users\\TienLE\\anaconda3\\envs\\py39\\lib\\site-packages\\sklearn\\experimental\\enable_hist_gradient_boosting.py:16: UserWarning: Since version 1.0, it is not needed to import enable_hist_gradient_boosting anymore. HistGradientBoostingClassifier and HistGradientBoostingRegressor are now stable and can be normally imported from sklearn.ensemble.\n",
      "  warnings.warn(\n"
     ]
    }
   ],
   "source": [
    "from sklearn.experimental import enable_hist_gradient_boosting\n",
    "from sklearn.ensemble import HistGradientBoostingClassifier"
   ]
  },
  {
   "cell_type": "code",
   "execution_count": 106,
   "id": "fb87eb91",
   "metadata": {
    "ExecuteTime": {
     "end_time": "2021-10-17T18:27:29.630620Z",
     "start_time": "2021-10-17T18:27:29.230240Z"
    }
   },
   "outputs": [
    {
     "data": {
      "text/plain": [
       "HistGradientBoostingClassifier()"
      ]
     },
     "execution_count": 106,
     "metadata": {},
     "output_type": "execute_result"
    }
   ],
   "source": [
    "# no errors, despite NaNs in train and test!\n",
    "clf = HistGradientBoostingClassifier()\n",
    "clf.fit(df_train, df_label)"
   ]
  },
  {
   "cell_type": "code",
   "execution_count": 107,
   "id": "e0b573cd",
   "metadata": {
    "ExecuteTime": {
     "end_time": "2021-10-17T18:27:29.673744Z",
     "start_time": "2021-10-17T18:27:29.633691Z"
    }
   },
   "outputs": [
    {
     "data": {
      "text/plain": [
       "array([0, 0, 0, 1, 0, 0, 0, 0, 0, 0, 0, 0, 1, 0, 0, 1, 0, 1, 1, 0, 1, 0,\n",
       "       1, 1, 1, 0, 1, 1, 1, 0, 1, 1, 0, 0, 1, 0, 0, 0, 0, 1, 0, 0, 0, 0,\n",
       "       1, 0, 0, 0, 1, 1, 1, 0, 1, 0, 0, 0, 0, 0, 1, 1, 0, 1, 0, 1, 1, 0,\n",
       "       1, 0, 0, 1, 0, 0, 0, 0, 1, 1, 0, 0, 0, 0, 1, 0, 1, 0, 1, 0, 1, 1,\n",
       "       0, 1, 0, 0, 1, 0, 1, 0, 1, 0, 0, 0, 1, 0, 0, 0, 0, 0, 0, 0, 0, 0,\n",
       "       0, 0, 1, 0, 1, 0, 0, 1, 1, 1, 1, 0, 1, 0, 0, 0, 0, 1, 1, 0, 0, 0,\n",
       "       0, 0, 0, 0, 0, 0, 0, 0, 0, 1, 1, 1, 1, 0, 1, 0, 0, 1, 1, 0, 0, 0,\n",
       "       0, 0, 1, 0, 1, 0, 0, 1, 0, 0, 1, 0, 1, 0, 0, 0, 0, 0, 0, 0, 0],\n",
       "      dtype=int64)"
      ]
     },
     "execution_count": 107,
     "metadata": {},
     "output_type": "execute_result"
    }
   ],
   "source": [
    "pred = clf.predict(df_test)\n",
    "pred"
   ]
  },
  {
   "cell_type": "code",
   "execution_count": 108,
   "id": "d494db1c",
   "metadata": {
    "ExecuteTime": {
     "end_time": "2021-10-17T18:27:29.711056Z",
     "start_time": "2021-10-17T18:27:29.675765Z"
    }
   },
   "outputs": [
    {
     "data": {
      "text/html": [
       "<div>\n",
       "<style scoped>\n",
       "    .dataframe tbody tr th:only-of-type {\n",
       "        vertical-align: middle;\n",
       "    }\n",
       "\n",
       "    .dataframe tbody tr th {\n",
       "        vertical-align: top;\n",
       "    }\n",
       "\n",
       "    .dataframe thead th {\n",
       "        text-align: right;\n",
       "    }\n",
       "</style>\n",
       "<table border=\"1\" class=\"dataframe\">\n",
       "  <thead>\n",
       "    <tr style=\"text-align: right;\">\n",
       "      <th></th>\n",
       "      <th>Age</th>\n",
       "      <th>Fare</th>\n",
       "      <th>Pclass</th>\n",
       "    </tr>\n",
       "  </thead>\n",
       "  <tbody>\n",
       "    <tr>\n",
       "      <th>0</th>\n",
       "      <td>34.5</td>\n",
       "      <td>7.8292</td>\n",
       "      <td>3</td>\n",
       "    </tr>\n",
       "    <tr>\n",
       "      <th>1</th>\n",
       "      <td>47.0</td>\n",
       "      <td>7.0000</td>\n",
       "      <td>3</td>\n",
       "    </tr>\n",
       "    <tr>\n",
       "      <th>2</th>\n",
       "      <td>62.0</td>\n",
       "      <td>9.6875</td>\n",
       "      <td>2</td>\n",
       "    </tr>\n",
       "    <tr>\n",
       "      <th>3</th>\n",
       "      <td>27.0</td>\n",
       "      <td>8.6625</td>\n",
       "      <td>3</td>\n",
       "    </tr>\n",
       "    <tr>\n",
       "      <th>4</th>\n",
       "      <td>22.0</td>\n",
       "      <td>12.2875</td>\n",
       "      <td>3</td>\n",
       "    </tr>\n",
       "  </tbody>\n",
       "</table>\n",
       "</div>"
      ],
      "text/plain": [
       "    Age     Fare  Pclass\n",
       "0  34.5   7.8292       3\n",
       "1  47.0   7.0000       3\n",
       "2  62.0   9.6875       2\n",
       "3  27.0   8.6625       3\n",
       "4  22.0  12.2875       3"
      ]
     },
     "execution_count": 108,
     "metadata": {},
     "output_type": "execute_result"
    }
   ],
   "source": [
    "df_test.head()"
   ]
  },
  {
   "cell_type": "markdown",
   "id": "e5569ce8",
   "metadata": {},
   "source": [
    "## Two ways to impute missing values for a categorical feature\n",
    "\n",
    "Need to [impute missing values](https://scikit-learn.org/stable/modules/generated/sklearn.impute.SimpleImputer.html) for a categorical feature?\n",
    "\n",
    "Two options:\n",
    "+ Impute the most frequent value\n",
    "+ Impute the value \"missing\", which treats it as a separate category\n",
    "\n",
    "strategy : str, default='mean'\n",
    "    The imputation strategy.\n",
    "\n",
    "    - If \"mean\", then replace missing values using the mean along\n",
    "      each column. Can only be used with numeric data.\n",
    "    - If \"median\", then replace missing values using the median along\n",
    "      each column. Can only be used with numeric data.\n",
    "    - If \"most_frequent\", then replace missing using the most frequent\n",
    "      value along each column. Can be used with strings or numeric data.\n",
    "      If there is more than one such value, only the smallest is returned.\n",
    "    - If \"constant\", then replace missing values with fill_value. Can be\n",
    "      used with strings or numeric data.\n",
    "\n",
    "    .. versionadded:: 0.20\n",
    "       strategy=\"constant\" for fixed value imputation.\n",
    "\n",
    "fill_value : str or numerical value, default=None\n",
    "    When strategy == \"constant\", fill_value is used to replace all\n",
    "    occurrences of missing_values.\n",
    "    If left to the default, fill_value will be 0 when imputing numerical\n",
    "    data and \"missing_value\" for strings or object data types."
   ]
  },
  {
   "cell_type": "code",
   "execution_count": 109,
   "id": "45b4680f",
   "metadata": {
    "ExecuteTime": {
     "end_time": "2021-10-17T18:27:29.733864Z",
     "start_time": "2021-10-17T18:27:29.715697Z"
    }
   },
   "outputs": [],
   "source": [
    "X = pd.DataFrame({'Shape':['square', 'square', 'oval', 'circle', np.nan]})"
   ]
  },
  {
   "cell_type": "code",
   "execution_count": 110,
   "id": "b52d2a5e",
   "metadata": {
    "ExecuteTime": {
     "end_time": "2021-10-17T18:27:29.751498Z",
     "start_time": "2021-10-17T18:27:29.735873Z"
    }
   },
   "outputs": [],
   "source": [
    "from sklearn.impute import SimpleImputer"
   ]
  },
  {
   "cell_type": "code",
   "execution_count": 111,
   "id": "7dadd4d7",
   "metadata": {
    "ExecuteTime": {
     "end_time": "2021-10-17T18:27:29.788089Z",
     "start_time": "2021-10-17T18:27:29.764407Z"
    }
   },
   "outputs": [
    {
     "data": {
      "text/plain": [
       "array([['square'],\n",
       "       ['square'],\n",
       "       ['oval'],\n",
       "       ['circle'],\n",
       "       ['square']], dtype=object)"
      ]
     },
     "execution_count": 111,
     "metadata": {},
     "output_type": "execute_result"
    }
   ],
   "source": [
    "imputer = SimpleImputer(strategy=\"most_frequent\")\n",
    "imputer.fit_transform(X)"
   ]
  },
  {
   "cell_type": "code",
   "execution_count": 112,
   "id": "a2030f4e",
   "metadata": {
    "ExecuteTime": {
     "end_time": "2021-10-17T18:27:29.820507Z",
     "start_time": "2021-10-17T18:27:29.791883Z"
    }
   },
   "outputs": [
    {
     "data": {
      "text/plain": [
       "array([['square'],\n",
       "       ['square'],\n",
       "       ['oval'],\n",
       "       ['circle'],\n",
       "       ['missing']], dtype=object)"
      ]
     },
     "execution_count": 112,
     "metadata": {},
     "output_type": "execute_result"
    }
   ],
   "source": [
    "imputer = SimpleImputer(strategy=\"constant\", fill_value=\"missing\")\n",
    "imputer.fit_transform(X)\n",
    "# Note: after imputering based on \"missing\" value, we can use OneHotEncoding to numerize this column."
   ]
  },
  {
   "cell_type": "markdown",
   "id": "221bef91",
   "metadata": {},
   "source": [
    "# Pipeline"
   ]
  },
  {
   "cell_type": "markdown",
   "id": "4e02b68a",
   "metadata": {},
   "source": [
    "## Use Pipeline to chain together multiple steps\n",
    "\n",
    "Q: What does [\"pipeline\"](https://scikit-learn.org/stable/modules/compose.html#pipeline-chaining-estimators) do?\n",
    "\n",
    "A: Chains together multiple steps: output of each step is used as input to the next step.\n",
    "\n",
    "Makes it easy to apply the same [preprocessing](https://scikit-learn.org/stable/modules/preprocessing.html) to train and test!\n",
    "\n",
    "Additional links: [SimpleImputer](https://scikit-learn.org/stable/modules/generated/sklearn.impute.SimpleImputer.html), [data leakage](https://scikit-learn.org/stable/common_pitfalls.html#data-leakage)\n"
   ]
  },
  {
   "cell_type": "code",
   "execution_count": 113,
   "id": "5eddb261",
   "metadata": {
    "ExecuteTime": {
     "end_time": "2021-10-17T18:27:29.854724Z",
     "start_time": "2021-10-17T18:27:29.822527Z"
    }
   },
   "outputs": [],
   "source": [
    "train = pd.DataFrame({'feat1':[10, 20, np.nan, 2], 'feat2':[25., 20, 5, 3], 'label':['A', 'A', 'B', 'B']})\n",
    "test = pd.DataFrame({'feat1':[30., 5, 15], 'feat2':[12, 10, np.nan]})"
   ]
  },
  {
   "cell_type": "code",
   "execution_count": 114,
   "id": "a172f871",
   "metadata": {
    "ExecuteTime": {
     "end_time": "2021-10-17T18:27:29.880357Z",
     "start_time": "2021-10-17T18:27:29.854724Z"
    }
   },
   "outputs": [],
   "source": [
    "from sklearn.impute import SimpleImputer\n",
    "from sklearn.linear_model import LogisticRegression\n",
    "from sklearn.pipeline import make_pipeline"
   ]
  },
  {
   "cell_type": "code",
   "execution_count": 115,
   "id": "8a7c2bd1",
   "metadata": {
    "ExecuteTime": {
     "end_time": "2021-10-17T18:27:29.895978Z",
     "start_time": "2021-10-17T18:27:29.880357Z"
    }
   },
   "outputs": [],
   "source": [
    "imputer = SimpleImputer()\n",
    "clf = LogisticRegression()"
   ]
  },
  {
   "cell_type": "code",
   "execution_count": 116,
   "id": "460ede6d",
   "metadata": {
    "ExecuteTime": {
     "end_time": "2021-10-17T18:27:29.927220Z",
     "start_time": "2021-10-17T18:27:29.895978Z"
    }
   },
   "outputs": [],
   "source": [
    "# pipeline: impute missing values, then pass the results to the classifier\n",
    "pipe = make_pipeline(\n",
    "    imputer,\n",
    "    clf\n",
    ")"
   ]
  },
  {
   "cell_type": "code",
   "execution_count": 117,
   "id": "76f1c9c9",
   "metadata": {
    "ExecuteTime": {
     "end_time": "2021-10-17T18:27:29.942842Z",
     "start_time": "2021-10-17T18:27:29.927220Z"
    }
   },
   "outputs": [
    {
     "data": {
      "text/html": [
       "<div>\n",
       "<style scoped>\n",
       "    .dataframe tbody tr th:only-of-type {\n",
       "        vertical-align: middle;\n",
       "    }\n",
       "\n",
       "    .dataframe tbody tr th {\n",
       "        vertical-align: top;\n",
       "    }\n",
       "\n",
       "    .dataframe thead th {\n",
       "        text-align: right;\n",
       "    }\n",
       "</style>\n",
       "<table border=\"1\" class=\"dataframe\">\n",
       "  <thead>\n",
       "    <tr style=\"text-align: right;\">\n",
       "      <th></th>\n",
       "      <th>feat1</th>\n",
       "      <th>feat2</th>\n",
       "      <th>label</th>\n",
       "    </tr>\n",
       "  </thead>\n",
       "  <tbody>\n",
       "    <tr>\n",
       "      <th>0</th>\n",
       "      <td>10.0</td>\n",
       "      <td>25.0</td>\n",
       "      <td>A</td>\n",
       "    </tr>\n",
       "    <tr>\n",
       "      <th>1</th>\n",
       "      <td>20.0</td>\n",
       "      <td>20.0</td>\n",
       "      <td>A</td>\n",
       "    </tr>\n",
       "    <tr>\n",
       "      <th>2</th>\n",
       "      <td>NaN</td>\n",
       "      <td>5.0</td>\n",
       "      <td>B</td>\n",
       "    </tr>\n",
       "    <tr>\n",
       "      <th>3</th>\n",
       "      <td>2.0</td>\n",
       "      <td>3.0</td>\n",
       "      <td>B</td>\n",
       "    </tr>\n",
       "  </tbody>\n",
       "</table>\n",
       "</div>"
      ],
      "text/plain": [
       "   feat1  feat2 label\n",
       "0   10.0   25.0     A\n",
       "1   20.0   20.0     A\n",
       "2    NaN    5.0     B\n",
       "3    2.0    3.0     B"
      ]
     },
     "execution_count": 117,
     "metadata": {},
     "output_type": "execute_result"
    }
   ],
   "source": [
    "train"
   ]
  },
  {
   "cell_type": "code",
   "execution_count": 118,
   "id": "79054743",
   "metadata": {
    "ExecuteTime": {
     "end_time": "2021-10-17T18:27:29.982596Z",
     "start_time": "2021-10-17T18:27:29.942842Z"
    }
   },
   "outputs": [
    {
     "data": {
      "text/html": [
       "<div>\n",
       "<style scoped>\n",
       "    .dataframe tbody tr th:only-of-type {\n",
       "        vertical-align: middle;\n",
       "    }\n",
       "\n",
       "    .dataframe tbody tr th {\n",
       "        vertical-align: top;\n",
       "    }\n",
       "\n",
       "    .dataframe thead th {\n",
       "        text-align: right;\n",
       "    }\n",
       "</style>\n",
       "<table border=\"1\" class=\"dataframe\">\n",
       "  <thead>\n",
       "    <tr style=\"text-align: right;\">\n",
       "      <th></th>\n",
       "      <th>feat1</th>\n",
       "      <th>feat2</th>\n",
       "    </tr>\n",
       "  </thead>\n",
       "  <tbody>\n",
       "    <tr>\n",
       "      <th>0</th>\n",
       "      <td>30.0</td>\n",
       "      <td>12.0</td>\n",
       "    </tr>\n",
       "    <tr>\n",
       "      <th>1</th>\n",
       "      <td>5.0</td>\n",
       "      <td>10.0</td>\n",
       "    </tr>\n",
       "    <tr>\n",
       "      <th>2</th>\n",
       "      <td>15.0</td>\n",
       "      <td>NaN</td>\n",
       "    </tr>\n",
       "  </tbody>\n",
       "</table>\n",
       "</div>"
      ],
      "text/plain": [
       "   feat1  feat2\n",
       "0   30.0   12.0\n",
       "1    5.0   10.0\n",
       "2   15.0    NaN"
      ]
     },
     "execution_count": 118,
     "metadata": {},
     "output_type": "execute_result"
    }
   ],
   "source": [
    "test"
   ]
  },
  {
   "cell_type": "code",
   "execution_count": 119,
   "id": "6199922f",
   "metadata": {
    "ExecuteTime": {
     "end_time": "2021-10-17T18:27:29.998216Z",
     "start_time": "2021-10-17T18:27:29.982596Z"
    }
   },
   "outputs": [],
   "source": [
    "features, label = train[['feat1', 'feat2']], train[\"label\"]"
   ]
  },
  {
   "cell_type": "code",
   "execution_count": 120,
   "id": "22ca2117",
   "metadata": {
    "ExecuteTime": {
     "end_time": "2021-10-17T18:27:30.045081Z",
     "start_time": "2021-10-17T18:27:30.013838Z"
    }
   },
   "outputs": [
    {
     "data": {
      "text/plain": [
       "Pipeline(steps=[('simpleimputer', SimpleImputer()),\n",
       "                ('logisticregression', LogisticRegression())])"
      ]
     },
     "execution_count": 120,
     "metadata": {},
     "output_type": "execute_result"
    }
   ],
   "source": [
    "# Train phase based on pipeline\n",
    "pipe.fit(features, label)"
   ]
  },
  {
   "cell_type": "code",
   "execution_count": 121,
   "id": "bcf92e46",
   "metadata": {
    "ExecuteTime": {
     "end_time": "2021-10-17T18:27:30.060702Z",
     "start_time": "2021-10-17T18:27:30.045081Z"
    }
   },
   "outputs": [
    {
     "data": {
      "text/plain": [
       "array(['A', 'B', 'A'], dtype=object)"
      ]
     },
     "execution_count": 121,
     "metadata": {},
     "output_type": "execute_result"
    }
   ],
   "source": [
    "# Predict based on pipeline\n",
    "pipe.predict(test)"
   ]
  },
  {
   "cell_type": "code",
   "execution_count": 122,
   "id": "fe9e46f8",
   "metadata": {
    "ExecuteTime": {
     "end_time": "2021-10-17T18:27:30.099458Z",
     "start_time": "2021-10-17T18:27:30.068211Z"
    }
   },
   "outputs": [
    {
     "data": {
      "text/plain": [
       "array([[0.91180344, 0.08819656],\n",
       "       [0.07269959, 0.92730041],\n",
       "       [0.61128195, 0.38871805]])"
      ]
     },
     "execution_count": 122,
     "metadata": {},
     "output_type": "execute_result"
    }
   ],
   "source": [
    "pipe.predict_proba(test)"
   ]
  },
  {
   "cell_type": "markdown",
   "id": "c09b7d06",
   "metadata": {},
   "source": [
    "## What is the difference between Pipeline and make_pipeline?\n",
    "\n",
    "Q: What's the difference between [Pipeline](https://scikit-learn.org/stable/modules/generated/sklearn.pipeline.Pipeline.html) and [make_pipeline](https://scikit-learn.org/stable/modules/generated/sklearn.pipeline.make_pipeline.html)?\n",
    "\n",
    "A: Pipeline requires naming of steps, make_pipeline does not.\n",
    "\n",
    "(Same applies to [ColumnTransformer](https://scikit-learn.org/stable/modules/generated/sklearn.compose.ColumnTransformer.html) vs [make_column_transformer](https://scikit-learn.org/stable/modules/generated/sklearn.compose.make_column_transformer.html))"
   ]
  },
  {
   "cell_type": "code",
   "execution_count": 123,
   "id": "633cdf8c",
   "metadata": {
    "ExecuteTime": {
     "end_time": "2021-10-17T18:27:30.146322Z",
     "start_time": "2021-10-17T18:27:30.115080Z"
    }
   },
   "outputs": [],
   "source": [
    "from sklearn.preprocessing import OneHotEncoder\n",
    "from sklearn.impute import SimpleImputer\n",
    "from sklearn.linear_model import LogisticRegression"
   ]
  },
  {
   "cell_type": "code",
   "execution_count": 124,
   "id": "f504310b",
   "metadata": {
    "ExecuteTime": {
     "end_time": "2021-10-17T18:27:30.161945Z",
     "start_time": "2021-10-17T18:27:30.146322Z"
    }
   },
   "outputs": [],
   "source": [
    "ohe = OneHotEncoder()\n",
    "imp = SimpleImputer()\n",
    "clf = LogisticRegression()"
   ]
  },
  {
   "cell_type": "markdown",
   "id": "4412549e",
   "metadata": {},
   "source": [
    "### make_column_transformer & make_pipeline"
   ]
  },
  {
   "cell_type": "code",
   "execution_count": 125,
   "id": "45dbc5a3",
   "metadata": {
    "ExecuteTime": {
     "end_time": "2021-10-17T18:27:30.184077Z",
     "start_time": "2021-10-17T18:27:30.161945Z"
    }
   },
   "outputs": [],
   "source": [
    "from sklearn.compose import make_column_transformer\n",
    "from sklearn.pipeline import make_pipeline"
   ]
  },
  {
   "cell_type": "code",
   "execution_count": 126,
   "id": "f20c00e9",
   "metadata": {
    "ExecuteTime": {
     "end_time": "2021-10-17T18:27:30.199699Z",
     "start_time": "2021-10-17T18:27:30.184077Z"
    }
   },
   "outputs": [],
   "source": [
    "col_transformer = make_column_transformer(\n",
    "    (ohe, [\"Embarked\", \"Sex\"]),\n",
    "    (imp, [\"Age\"]),\n",
    "    remainder=\"passthrough\"\n",
    ")"
   ]
  },
  {
   "cell_type": "code",
   "execution_count": 127,
   "id": "1eb6c5c0",
   "metadata": {
    "ExecuteTime": {
     "end_time": "2021-10-17T18:27:30.246562Z",
     "start_time": "2021-10-17T18:27:30.215320Z"
    }
   },
   "outputs": [],
   "source": [
    "pipe = make_pipeline(col_transformer, clf)"
   ]
  },
  {
   "cell_type": "markdown",
   "id": "d32cad64",
   "metadata": {},
   "source": [
    "### ColumnTransformer & Pipeline"
   ]
  },
  {
   "cell_type": "code",
   "execution_count": 128,
   "id": "19816d99",
   "metadata": {
    "ExecuteTime": {
     "end_time": "2021-10-17T18:27:30.262183Z",
     "start_time": "2021-10-17T18:27:30.246562Z"
    }
   },
   "outputs": [],
   "source": [
    "from sklearn.compose import ColumnTransformer\n",
    "from sklearn.pipeline import Pipeline"
   ]
  },
  {
   "cell_type": "code",
   "execution_count": 129,
   "id": "68f9622d",
   "metadata": {
    "ExecuteTime": {
     "end_time": "2021-10-17T18:27:30.284315Z",
     "start_time": "2021-10-17T18:27:30.262183Z"
    }
   },
   "outputs": [],
   "source": [
    "col_transformer = ColumnTransformer(\n",
    "    [\n",
    "        (\"encoder\", ohe, [\"Embarked\", \"Sex\"]),\n",
    "        (\"imputer\", imp, [\"Age\"])\n",
    "    ],\n",
    "    remainder=\"passthrough\"\n",
    ")"
   ]
  },
  {
   "cell_type": "code",
   "execution_count": 130,
   "id": "ee501ff3",
   "metadata": {
    "ExecuteTime": {
     "end_time": "2021-10-17T18:27:30.315559Z",
     "start_time": "2021-10-17T18:27:30.284315Z"
    }
   },
   "outputs": [],
   "source": [
    "pipe = Pipeline(\n",
    "    [\n",
    "        (\"preprocessor\", col_transformer),\n",
    "        (\"classifier\", clf)\n",
    "    ]\n",
    ")"
   ]
  },
  {
   "cell_type": "markdown",
   "id": "5cf30a17",
   "metadata": {},
   "source": [
    "## Examine the intermediate steps in a Pipeline\n",
    "\n",
    "Q: How do you examine the intermediate steps in a Pipeline?\n",
    "\n",
    "A: By using the \"named_steps\" attribute:\n",
    "\n",
    "pipe.named_steps.STEP_NAME.ATTRIBUTE"
   ]
  },
  {
   "cell_type": "code",
   "execution_count": 131,
   "id": "74e52c28",
   "metadata": {
    "ExecuteTime": {
     "end_time": "2021-10-17T18:27:30.346801Z",
     "start_time": "2021-10-17T18:27:30.315559Z"
    }
   },
   "outputs": [],
   "source": [
    "import os \n",
    "\n",
    "file_input_path = \"titanic_train.csv\"\n",
    "if not os.path.exists(file_input_path):\n",
    "    df_train = pd.read_csv(\"http://bit.ly/kaggletrain\")\n",
    "    df_train.to_csv(file_input_path, header=True, index=False, sep=\"\\t\")\n",
    "else:\n",
    "    df_train = pd.read_csv(file_input_path, header=0, sep=\"\\t\")"
   ]
  },
  {
   "cell_type": "code",
   "execution_count": 132,
   "id": "c73b5072",
   "metadata": {
    "ExecuteTime": {
     "end_time": "2021-10-17T18:27:30.362421Z",
     "start_time": "2021-10-17T18:27:30.346801Z"
    }
   },
   "outputs": [],
   "source": [
    "df_train = df_train[:6][[\"Age\", \"Pclass\", \"Survived\"]]"
   ]
  },
  {
   "cell_type": "code",
   "execution_count": 133,
   "id": "73590dfc",
   "metadata": {
    "ExecuteTime": {
     "end_time": "2021-10-17T18:27:30.400194Z",
     "start_time": "2021-10-17T18:27:30.362421Z"
    }
   },
   "outputs": [
    {
     "data": {
      "text/html": [
       "<div>\n",
       "<style scoped>\n",
       "    .dataframe tbody tr th:only-of-type {\n",
       "        vertical-align: middle;\n",
       "    }\n",
       "\n",
       "    .dataframe tbody tr th {\n",
       "        vertical-align: top;\n",
       "    }\n",
       "\n",
       "    .dataframe thead th {\n",
       "        text-align: right;\n",
       "    }\n",
       "</style>\n",
       "<table border=\"1\" class=\"dataframe\">\n",
       "  <thead>\n",
       "    <tr style=\"text-align: right;\">\n",
       "      <th></th>\n",
       "      <th>Age</th>\n",
       "      <th>Pclass</th>\n",
       "      <th>Survived</th>\n",
       "    </tr>\n",
       "  </thead>\n",
       "  <tbody>\n",
       "    <tr>\n",
       "      <th>0</th>\n",
       "      <td>22.0</td>\n",
       "      <td>3</td>\n",
       "      <td>0</td>\n",
       "    </tr>\n",
       "    <tr>\n",
       "      <th>1</th>\n",
       "      <td>38.0</td>\n",
       "      <td>1</td>\n",
       "      <td>1</td>\n",
       "    </tr>\n",
       "    <tr>\n",
       "      <th>2</th>\n",
       "      <td>26.0</td>\n",
       "      <td>3</td>\n",
       "      <td>1</td>\n",
       "    </tr>\n",
       "    <tr>\n",
       "      <th>3</th>\n",
       "      <td>35.0</td>\n",
       "      <td>1</td>\n",
       "      <td>1</td>\n",
       "    </tr>\n",
       "    <tr>\n",
       "      <th>4</th>\n",
       "      <td>35.0</td>\n",
       "      <td>3</td>\n",
       "      <td>0</td>\n",
       "    </tr>\n",
       "    <tr>\n",
       "      <th>5</th>\n",
       "      <td>NaN</td>\n",
       "      <td>3</td>\n",
       "      <td>0</td>\n",
       "    </tr>\n",
       "  </tbody>\n",
       "</table>\n",
       "</div>"
      ],
      "text/plain": [
       "    Age  Pclass  Survived\n",
       "0  22.0       3         0\n",
       "1  38.0       1         1\n",
       "2  26.0       3         1\n",
       "3  35.0       1         1\n",
       "4  35.0       3         0\n",
       "5   NaN       3         0"
      ]
     },
     "execution_count": 133,
     "metadata": {},
     "output_type": "execute_result"
    }
   ],
   "source": [
    "df_train"
   ]
  },
  {
   "cell_type": "code",
   "execution_count": 134,
   "id": "618bc435",
   "metadata": {
    "ExecuteTime": {
     "end_time": "2021-10-17T18:27:30.436783Z",
     "start_time": "2021-10-17T18:27:30.413464Z"
    }
   },
   "outputs": [],
   "source": [
    "X, y = df_train[[\"Age\", \"Pclass\"]], df_train[\"Survived\"]"
   ]
  },
  {
   "cell_type": "code",
   "execution_count": 135,
   "id": "e8618905",
   "metadata": {
    "ExecuteTime": {
     "end_time": "2021-10-17T18:27:30.461464Z",
     "start_time": "2021-10-17T18:27:30.436783Z"
    }
   },
   "outputs": [
    {
     "data": {
      "text/html": [
       "<div>\n",
       "<style scoped>\n",
       "    .dataframe tbody tr th:only-of-type {\n",
       "        vertical-align: middle;\n",
       "    }\n",
       "\n",
       "    .dataframe tbody tr th {\n",
       "        vertical-align: top;\n",
       "    }\n",
       "\n",
       "    .dataframe thead th {\n",
       "        text-align: right;\n",
       "    }\n",
       "</style>\n",
       "<table border=\"1\" class=\"dataframe\">\n",
       "  <thead>\n",
       "    <tr style=\"text-align: right;\">\n",
       "      <th></th>\n",
       "      <th>Age</th>\n",
       "      <th>Pclass</th>\n",
       "    </tr>\n",
       "  </thead>\n",
       "  <tbody>\n",
       "    <tr>\n",
       "      <th>0</th>\n",
       "      <td>22.0</td>\n",
       "      <td>3</td>\n",
       "    </tr>\n",
       "    <tr>\n",
       "      <th>1</th>\n",
       "      <td>38.0</td>\n",
       "      <td>1</td>\n",
       "    </tr>\n",
       "    <tr>\n",
       "      <th>2</th>\n",
       "      <td>26.0</td>\n",
       "      <td>3</td>\n",
       "    </tr>\n",
       "    <tr>\n",
       "      <th>3</th>\n",
       "      <td>35.0</td>\n",
       "      <td>1</td>\n",
       "    </tr>\n",
       "    <tr>\n",
       "      <th>4</th>\n",
       "      <td>35.0</td>\n",
       "      <td>3</td>\n",
       "    </tr>\n",
       "    <tr>\n",
       "      <th>5</th>\n",
       "      <td>NaN</td>\n",
       "      <td>3</td>\n",
       "    </tr>\n",
       "  </tbody>\n",
       "</table>\n",
       "</div>"
      ],
      "text/plain": [
       "    Age  Pclass\n",
       "0  22.0       3\n",
       "1  38.0       1\n",
       "2  26.0       3\n",
       "3  35.0       1\n",
       "4  35.0       3\n",
       "5   NaN       3"
      ]
     },
     "execution_count": 135,
     "metadata": {},
     "output_type": "execute_result"
    }
   ],
   "source": [
    "X"
   ]
  },
  {
   "cell_type": "code",
   "execution_count": 136,
   "id": "33de45e8",
   "metadata": {
    "ExecuteTime": {
     "end_time": "2021-10-17T18:27:30.494310Z",
     "start_time": "2021-10-17T18:27:30.463483Z"
    }
   },
   "outputs": [
    {
     "data": {
      "text/plain": [
       "0    0\n",
       "1    1\n",
       "2    1\n",
       "3    1\n",
       "4    0\n",
       "5    0\n",
       "Name: Survived, dtype: int64"
      ]
     },
     "execution_count": 136,
     "metadata": {},
     "output_type": "execute_result"
    }
   ],
   "source": [
    "y\n",
    "# if y is a DataFrame, we will see the warning when fitting phase as follows\n",
    "# .../sklearn/utils/validation.py:985: DataConversionWarning: A column-vector y was passed when a 1d array was expected. Please change the shape of y to (n_samples, ), for example using ravel().\n",
    "# y = column_or_1d(y, warn=True)"
   ]
  },
  {
   "cell_type": "code",
   "execution_count": 137,
   "id": "77398dc3",
   "metadata": {
    "ExecuteTime": {
     "end_time": "2021-10-17T18:27:30.509944Z",
     "start_time": "2021-10-17T18:27:30.496330Z"
    }
   },
   "outputs": [],
   "source": [
    "from sklearn.impute import SimpleImputer\n",
    "from sklearn.linear_model import LogisticRegression\n",
    "from sklearn.pipeline import make_pipeline"
   ]
  },
  {
   "cell_type": "code",
   "execution_count": 138,
   "id": "81e37205",
   "metadata": {
    "ExecuteTime": {
     "end_time": "2021-10-17T18:27:30.549740Z",
     "start_time": "2021-10-17T18:27:30.509944Z"
    }
   },
   "outputs": [],
   "source": [
    "pipe = make_pipeline(\n",
    "    SimpleImputer(),\n",
    "    LogisticRegression()\n",
    ")"
   ]
  },
  {
   "cell_type": "code",
   "execution_count": 139,
   "id": "e4995398",
   "metadata": {
    "ExecuteTime": {
     "end_time": "2021-10-17T18:27:30.580776Z",
     "start_time": "2021-10-17T18:27:30.554477Z"
    }
   },
   "outputs": [
    {
     "data": {
      "text/plain": [
       "Pipeline(steps=[('simpleimputer', SimpleImputer()),\n",
       "                ('logisticregression', LogisticRegression())])"
      ]
     },
     "execution_count": 139,
     "metadata": {},
     "output_type": "execute_result"
    }
   ],
   "source": [
    "pipe.fit(X, y)"
   ]
  },
  {
   "cell_type": "markdown",
   "id": "c952e8eb",
   "metadata": {},
   "source": [
    "### Step in pipeline"
   ]
  },
  {
   "cell_type": "code",
   "execution_count": 140,
   "id": "fac5c5a7",
   "metadata": {
    "ExecuteTime": {
     "end_time": "2021-10-17T18:27:30.623313Z",
     "start_time": "2021-10-17T18:27:30.580776Z"
    }
   },
   "outputs": [
    {
     "data": {
      "text/plain": [
       "{'simpleimputer': SimpleImputer(), 'logisticregression': LogisticRegression()}"
      ]
     },
     "execution_count": 140,
     "metadata": {},
     "output_type": "execute_result"
    }
   ],
   "source": [
    "pipe.named_steps"
   ]
  },
  {
   "cell_type": "markdown",
   "id": "2f60ab31",
   "metadata": {},
   "source": [
    "### Values of imputation and model coefficients"
   ]
  },
  {
   "cell_type": "code",
   "execution_count": 141,
   "id": "65814053",
   "metadata": {
    "ExecuteTime": {
     "end_time": "2021-10-17T18:27:30.648947Z",
     "start_time": "2021-10-17T18:27:30.623313Z"
    }
   },
   "outputs": [
    {
     "data": {
      "text/plain": [
       "array([31.2       ,  2.33333333])"
      ]
     },
     "execution_count": 141,
     "metadata": {},
     "output_type": "execute_result"
    }
   ],
   "source": [
    "pipe.named_steps.simpleimputer.statistics_"
   ]
  },
  {
   "cell_type": "code",
   "execution_count": 142,
   "id": "c529b3e0",
   "metadata": {
    "ExecuteTime": {
     "end_time": "2021-10-17T18:27:30.664569Z",
     "start_time": "2021-10-17T18:27:30.648947Z"
    },
    "cell_style": "split"
   },
   "outputs": [
    {
     "data": {
      "text/plain": [
       "[('Age', 31.2), ('Pclass', 2.3333333333333335)]"
      ]
     },
     "execution_count": 142,
     "metadata": {},
     "output_type": "execute_result"
    }
   ],
   "source": [
    "list(zip(X.columns, pipe.named_steps.simpleimputer.statistics_.tolist()))"
   ]
  },
  {
   "cell_type": "code",
   "execution_count": 143,
   "id": "6faed4b2",
   "metadata": {
    "ExecuteTime": {
     "end_time": "2021-10-17T18:27:30.711432Z",
     "start_time": "2021-10-17T18:27:30.680190Z"
    }
   },
   "outputs": [
    {
     "data": {
      "text/plain": [
       "array([[ 0.03232238, -0.83741131]])"
      ]
     },
     "execution_count": 143,
     "metadata": {},
     "output_type": "execute_result"
    }
   ],
   "source": [
    "pipe.named_steps.logisticregression.coef_"
   ]
  },
  {
   "cell_type": "code",
   "execution_count": 144,
   "id": "a4be1bba",
   "metadata": {
    "ExecuteTime": {
     "end_time": "2021-10-17T18:27:30.742675Z",
     "start_time": "2021-10-17T18:27:30.711432Z"
    }
   },
   "outputs": [
    {
     "data": {
      "text/plain": [
       "[('Age', 0.03232237651702789), ('Pclass', -0.8374113057215837)]"
      ]
     },
     "execution_count": 144,
     "metadata": {},
     "output_type": "execute_result"
    }
   ],
   "source": [
    "list(zip(X.columns, pipe.named_steps.logisticregression.coef_[0].tolist()))"
   ]
  },
  {
   "cell_type": "markdown",
   "id": "749218d2",
   "metadata": {},
   "source": [
    "## Use the correct methods for each type of Pipeline\n",
    "\n",
    "Did you know that there are two types of [Pipelines](https://scikit-learn.org/stable/modules/compose.html#pipeline-chaining-estimators)?\n",
    "\n",
    "The Pipeline type determines which methods you can use with it, and what those methods actually do.\n",
    "\n",
    "Additional links: [fit_transform](https://scikit-learn.org/stable/glossary.html#term-fit_transform), [transform](https://scikit-learn.org/stable/glossary.html#term-transform)\n",
    "\n",
    "### Last step of Pipeline is classifier / regressor --> fit & predict\n",
    "+ **pipe.fit()** : All steps before the final one run **fit_transform()**, and then trains based on **fit()**\n",
    "+ **pipe.predict()** : All steps before the final one run **transform()**, and then runs **predict()**\n",
    "\n",
    "### Last step of Pipeline is a transformer --> fit_transform & transform\n",
    "+ **pipe.fit_transform()** : All steps run **fit_transorform()**\n",
    "+ **pipe.transform()** : All steps run **transform()**"
   ]
  },
  {
   "cell_type": "markdown",
   "id": "7696c6ef",
   "metadata": {},
   "source": [
    "## Save a model of Pipeline using joblib\n",
    "\n",
    "Want to [save a model](https://scikit-learn.org/stable/modules/model_persistence.html) (or pipeline) for later use? Use joblib!\n",
    "\n",
    "Warning: You must load it into an identical environment, and only load objects you trust 😇\n",
    "\n",
    "Additional links: [pickle](https://docs.python.org/3/library/pickle.html)"
   ]
  },
  {
   "cell_type": "code",
   "execution_count": 145,
   "id": "472fec92",
   "metadata": {
    "ExecuteTime": {
     "end_time": "2021-10-17T18:27:30.775429Z",
     "start_time": "2021-10-17T18:27:30.759808Z"
    }
   },
   "outputs": [],
   "source": [
    "import os \n",
    "\n",
    "file_input_path = \"titanic_train.csv\"\n",
    "if not os.path.exists(file_input_path):\n",
    "    df_train = pd.read_csv(\"http://bit.ly/kaggletrain\")\n",
    "    df_train.to_csv(file_input_path, header=True, index=False, sep=\"\\t\")\n",
    "else:\n",
    "    df_train = pd.read_csv(file_input_path, header=0, sep=\"\\t\")"
   ]
  },
  {
   "cell_type": "code",
   "execution_count": 146,
   "id": "94a858b4",
   "metadata": {
    "ExecuteTime": {
     "end_time": "2021-10-17T18:27:30.791051Z",
     "start_time": "2021-10-17T18:27:30.775429Z"
    }
   },
   "outputs": [],
   "source": [
    "file_input_path = \"titanic_test.csv\"\n",
    "if not os.path.exists(file_input_path):\n",
    "    df_test = pd.read_csv(\"http://bit.ly/kaggletest\")\n",
    "    df_test.to_csv(file_input_path, header=True, index=False, sep=\"\\t\")\n",
    "else:\n",
    "    df_test = pd.read_csv(file_input_path, header=0, sep=\"\\t\")"
   ]
  },
  {
   "cell_type": "code",
   "execution_count": 147,
   "id": "e750cf0b",
   "metadata": {
    "ExecuteTime": {
     "end_time": "2021-10-17T18:27:30.806673Z",
     "start_time": "2021-10-17T18:27:30.791051Z"
    }
   },
   "outputs": [],
   "source": [
    "cols = ['Embarked', 'Sex']"
   ]
  },
  {
   "cell_type": "code",
   "execution_count": 148,
   "id": "7dd6cd34",
   "metadata": {
    "ExecuteTime": {
     "end_time": "2021-10-17T18:27:30.875172Z",
     "start_time": "2021-10-17T18:27:30.806673Z"
    }
   },
   "outputs": [],
   "source": [
    "X, y = df_train[cols], df_train[\"Survived\"]"
   ]
  },
  {
   "cell_type": "code",
   "execution_count": 149,
   "id": "09a19f69",
   "metadata": {
    "ExecuteTime": {
     "end_time": "2021-10-17T18:27:30.890792Z",
     "start_time": "2021-10-17T18:27:30.875172Z"
    }
   },
   "outputs": [],
   "source": [
    "from sklearn.preprocessing import OneHotEncoder\n",
    "from sklearn.linear_model import LogisticRegression\n",
    "from sklearn.pipeline import make_pipeline"
   ]
  },
  {
   "cell_type": "code",
   "execution_count": 150,
   "id": "22876c91",
   "metadata": {
    "ExecuteTime": {
     "end_time": "2021-10-17T18:27:30.937662Z",
     "start_time": "2021-10-17T18:27:30.890792Z"
    }
   },
   "outputs": [],
   "source": [
    "pipe = make_pipeline(\n",
    "    OneHotEncoder(),\n",
    "    LogisticRegression(solver=\"liblinear\", random_state=1)\n",
    ")"
   ]
  },
  {
   "cell_type": "code",
   "execution_count": 151,
   "id": "9807c9de",
   "metadata": {
    "ExecuteTime": {
     "end_time": "2021-10-17T18:27:30.953278Z",
     "start_time": "2021-10-17T18:27:30.937662Z"
    }
   },
   "outputs": [
    {
     "data": {
      "text/plain": [
       "Pipeline(steps=[('onehotencoder', OneHotEncoder()),\n",
       "                ('logisticregression',\n",
       "                 LogisticRegression(random_state=1, solver='liblinear'))])"
      ]
     },
     "execution_count": 151,
     "metadata": {},
     "output_type": "execute_result"
    }
   ],
   "source": [
    "pipe.fit(X, y)"
   ]
  },
  {
   "cell_type": "code",
   "execution_count": 152,
   "id": "70727ec2",
   "metadata": {
    "ExecuteTime": {
     "end_time": "2021-10-17T18:27:30.975409Z",
     "start_time": "2021-10-17T18:27:30.959784Z"
    }
   },
   "outputs": [
    {
     "data": {
      "text/plain": [
       "array([0, 1, 0, 0, 1, 0, 1, 0, 1, 0], dtype=int64)"
      ]
     },
     "execution_count": 152,
     "metadata": {},
     "output_type": "execute_result"
    }
   ],
   "source": [
    "pipe.predict(df_test[cols][:10])"
   ]
  },
  {
   "cell_type": "markdown",
   "id": "032c170e",
   "metadata": {},
   "source": [
    "### Save a model pipeline"
   ]
  },
  {
   "cell_type": "code",
   "execution_count": 153,
   "id": "764292f2",
   "metadata": {
    "ExecuteTime": {
     "end_time": "2021-10-17T18:27:31.022273Z",
     "start_time": "2021-10-17T18:27:30.975409Z"
    }
   },
   "outputs": [
    {
     "data": {
      "text/plain": [
       "['pipe4-5.joblib']"
      ]
     },
     "execution_count": 153,
     "metadata": {},
     "output_type": "execute_result"
    }
   ],
   "source": [
    "import joblib\n",
    "model_path = \"pipe4-5.joblib\"\n",
    "joblib.dump(pipe, model_path)"
   ]
  },
  {
   "cell_type": "markdown",
   "id": "f0dcc457",
   "metadata": {},
   "source": [
    "### Load model pipeline"
   ]
  },
  {
   "cell_type": "code",
   "execution_count": 154,
   "id": "891d4a73",
   "metadata": {
    "ExecuteTime": {
     "end_time": "2021-10-17T18:27:31.053516Z",
     "start_time": "2021-10-17T18:27:31.022273Z"
    }
   },
   "outputs": [],
   "source": [
    "loaded_pipe = joblib.load(model_path)"
   ]
  },
  {
   "cell_type": "code",
   "execution_count": 155,
   "id": "be90d9b0",
   "metadata": {
    "ExecuteTime": {
     "end_time": "2021-10-17T18:27:31.071505Z",
     "start_time": "2021-10-17T18:27:31.053516Z"
    }
   },
   "outputs": [
    {
     "data": {
      "text/plain": [
       "array([0, 1, 0, 0, 1, 0, 1, 0, 1, 0], dtype=int64)"
      ]
     },
     "execution_count": 155,
     "metadata": {},
     "output_type": "execute_result"
    }
   ],
   "source": [
    "loaded_pipe.predict(df_test[cols][:10])"
   ]
  },
  {
   "cell_type": "markdown",
   "id": "0781fcef",
   "metadata": {},
   "source": [
    "### Save and load based on pickle\n"
   ]
  },
  {
   "cell_type": "code",
   "execution_count": 156,
   "id": "e6892b3f",
   "metadata": {
    "ExecuteTime": {
     "end_time": "2021-10-17T18:27:31.115132Z",
     "start_time": "2021-10-17T18:27:31.073524Z"
    }
   },
   "outputs": [],
   "source": [
    "model_pkl_path = \"pipe4-5.pkl\"\n",
    "\n",
    "import pickle\n",
    "with open(model_pkl_path, \"wb\") as f:\n",
    "    pickle.dump(pipe, f)\n",
    "\n",
    "# Load model\n",
    "with open(model_pkl_path, \"rb\") as f:\n",
    "    loaded_pipe_pkl = pickle.load(f)"
   ]
  },
  {
   "cell_type": "code",
   "execution_count": 157,
   "id": "57f31c4b",
   "metadata": {
    "ExecuteTime": {
     "end_time": "2021-10-17T18:27:31.130303Z",
     "start_time": "2021-10-17T18:27:31.117154Z"
    }
   },
   "outputs": [
    {
     "data": {
      "text/plain": [
       "array([0, 1, 0, 0, 1, 0, 1, 0, 1, 0], dtype=int64)"
      ]
     },
     "execution_count": 157,
     "metadata": {},
     "output_type": "execute_result"
    }
   ],
   "source": [
    "loaded_pipe_pkl.predict(df_test[cols][:10])"
   ]
  },
  {
   "cell_type": "markdown",
   "id": "419dbced",
   "metadata": {},
   "source": [
    "## Four ways to examine the steps of a Pipeline\n",
    "\n",
    "There are FOUR ways to examine the steps of a [Pipeline](https://scikit-learn.org/stable/modules/compose.html#pipeline-chaining-estimators)!\n",
    "\n",
    "(I prefer method 1 since you can autocomplete the step & parameter names... but method 4 is SO short!)"
   ]
  },
  {
   "cell_type": "code",
   "execution_count": 158,
   "id": "e2fddff2",
   "metadata": {
    "ExecuteTime": {
     "end_time": "2021-10-17T18:27:31.180133Z",
     "start_time": "2021-10-17T18:27:31.138312Z"
    }
   },
   "outputs": [],
   "source": [
    "from sklearn.preprocessing import OneHotEncoder\n",
    "from sklearn.linear_model import LogisticRegression\n",
    "from sklearn.pipeline import Pipeline"
   ]
  },
  {
   "cell_type": "code",
   "execution_count": 159,
   "id": "383ae292",
   "metadata": {
    "ExecuteTime": {
     "end_time": "2021-10-17T18:27:31.207054Z",
     "start_time": "2021-10-17T18:27:31.190183Z"
    }
   },
   "outputs": [],
   "source": [
    "pipe = Pipeline(\n",
    "    steps=[\n",
    "        (\"ohe\", OneHotEncoder()),\n",
    "        (\"clf\", LogisticRegression())\n",
    "    ]\n",
    ")"
   ]
  },
  {
   "cell_type": "code",
   "execution_count": 160,
   "id": "929105d5",
   "metadata": {
    "ExecuteTime": {
     "end_time": "2021-10-17T18:27:31.252015Z",
     "start_time": "2021-10-17T18:27:31.209078Z"
    }
   },
   "outputs": [
    {
     "data": {
      "text/plain": [
       "Pipeline(steps=[('ohe', OneHotEncoder()), ('clf', LogisticRegression())])"
      ]
     },
     "execution_count": 160,
     "metadata": {},
     "output_type": "execute_result"
    }
   ],
   "source": [
    "pipe.fit(X, y)"
   ]
  },
  {
   "cell_type": "markdown",
   "id": "99108ea7",
   "metadata": {},
   "source": [
    "### Four ways to illustrate the coefficients"
   ]
  },
  {
   "cell_type": "code",
   "execution_count": 161,
   "id": "7c070bec",
   "metadata": {
    "ExecuteTime": {
     "end_time": "2021-10-17T18:27:31.270130Z",
     "start_time": "2021-10-17T18:27:31.254037Z"
    }
   },
   "outputs": [
    {
     "data": {
      "text/plain": [
       "array([[ 0.50148245, -0.49193018, -0.35190112,  0.3419172 ,  1.24440439,\n",
       "        -1.24483605]])"
      ]
     },
     "execution_count": 161,
     "metadata": {},
     "output_type": "execute_result"
    }
   ],
   "source": [
    "pipe.named_steps.clf.coef_"
   ]
  },
  {
   "cell_type": "code",
   "execution_count": 162,
   "id": "27ef977e",
   "metadata": {
    "ExecuteTime": {
     "end_time": "2021-10-17T18:27:31.290954Z",
     "start_time": "2021-10-17T18:27:31.270130Z"
    }
   },
   "outputs": [
    {
     "data": {
      "text/plain": [
       "array([[ 0.50148245, -0.49193018, -0.35190112,  0.3419172 ,  1.24440439,\n",
       "        -1.24483605]])"
      ]
     },
     "execution_count": 162,
     "metadata": {},
     "output_type": "execute_result"
    }
   ],
   "source": [
    "pipe.named_steps[\"clf\"].coef_"
   ]
  },
  {
   "cell_type": "code",
   "execution_count": 163,
   "id": "5f3601f3",
   "metadata": {
    "ExecuteTime": {
     "end_time": "2021-10-17T18:27:31.309624Z",
     "start_time": "2021-10-17T18:27:31.293579Z"
    }
   },
   "outputs": [
    {
     "data": {
      "text/plain": [
       "array([[ 0.50148245, -0.49193018, -0.35190112,  0.3419172 ,  1.24440439,\n",
       "        -1.24483605]])"
      ]
     },
     "execution_count": 163,
     "metadata": {},
     "output_type": "execute_result"
    }
   ],
   "source": [
    "pipe[\"clf\"].coef_"
   ]
  },
  {
   "cell_type": "code",
   "execution_count": 164,
   "id": "ddb3e0b8",
   "metadata": {
    "ExecuteTime": {
     "end_time": "2021-10-17T18:27:31.350549Z",
     "start_time": "2021-10-17T18:27:31.319363Z"
    }
   },
   "outputs": [
    {
     "data": {
      "text/plain": [
       "array([[ 0.50148245, -0.49193018, -0.35190112,  0.3419172 ,  1.24440439,\n",
       "        -1.24483605]])"
      ]
     },
     "execution_count": 164,
     "metadata": {},
     "output_type": "execute_result"
    }
   ],
   "source": [
    "pipe[1].coef_"
   ]
  },
  {
   "cell_type": "markdown",
   "id": "2e1d24e4",
   "metadata": {},
   "source": [
    "### Name of steps"
   ]
  },
  {
   "cell_type": "code",
   "execution_count": 165,
   "id": "63fb758c",
   "metadata": {
    "ExecuteTime": {
     "end_time": "2021-10-17T18:27:31.386528Z",
     "start_time": "2021-10-17T18:27:31.374097Z"
    }
   },
   "outputs": [
    {
     "data": {
      "text/plain": [
       "sklearn.utils.Bunch"
      ]
     },
     "execution_count": 165,
     "metadata": {},
     "output_type": "execute_result"
    }
   ],
   "source": [
    "type(pipe.named_steps)"
   ]
  },
  {
   "cell_type": "code",
   "execution_count": 166,
   "id": "61eb4e9d",
   "metadata": {
    "ExecuteTime": {
     "end_time": "2021-10-17T18:27:31.425388Z",
     "start_time": "2021-10-17T18:27:31.401761Z"
    }
   },
   "outputs": [
    {
     "data": {
      "text/plain": [
       "['ohe', 'clf']"
      ]
     },
     "execution_count": 166,
     "metadata": {},
     "output_type": "execute_result"
    }
   ],
   "source": [
    "list(pipe.named_steps.keys())"
   ]
  },
  {
   "cell_type": "markdown",
   "id": "13e979f2",
   "metadata": {},
   "source": [
    "## Add feature selection to Pipeline\n",
    "\n",
    "It's simple to add [feature selection](https://scikit-learn.org/stable/modules/feature_selection.html) to a Pipeline:\n",
    "+ Use [SelectPercentile](https://scikit-learn.org/stable/modules/generated/sklearn.feature_selection.SelectPercentile.html) to keep the highest scoring features\n",
    "+ Add feature selection after preprocessing but before model building\n",
    "\n",
    "P.S. Make sure to tune the percentile value!\n",
    "\n",
    "Additional links: [chi2](https://scikit-learn.org/stable/modules/generated/sklearn.feature_selection.chi2.html)"
   ]
  },
  {
   "cell_type": "code",
   "execution_count": 167,
   "id": "daab3dd3",
   "metadata": {
    "ExecuteTime": {
     "end_time": "2021-10-17T18:27:31.460096Z",
     "start_time": "2021-10-17T18:27:31.427396Z"
    }
   },
   "outputs": [],
   "source": [
    "import os \n",
    "\n",
    "file_input_path = \"titanic_train.csv\"\n",
    "if not os.path.exists(file_input_path):\n",
    "    df_train = pd.read_csv(\"http://bit.ly/kaggletrain\")\n",
    "    df_train.to_csv(file_input_path, header=True, index=False, sep=\"\\t\")\n",
    "else:\n",
    "    df_train = pd.read_csv(file_input_path, header=0, sep=\"\\t\")"
   ]
  },
  {
   "cell_type": "code",
   "execution_count": 168,
   "id": "b67ab205",
   "metadata": {
    "ExecuteTime": {
     "end_time": "2021-10-17T18:27:31.488535Z",
     "start_time": "2021-10-17T18:27:31.462120Z"
    }
   },
   "outputs": [],
   "source": [
    "X = df['Name']\n",
    "y = df['Survived']"
   ]
  },
  {
   "cell_type": "code",
   "execution_count": 169,
   "id": "10f30bff",
   "metadata": {
    "ExecuteTime": {
     "end_time": "2021-10-17T18:27:31.544052Z",
     "start_time": "2021-10-17T18:27:31.494828Z"
    }
   },
   "outputs": [],
   "source": [
    "from sklearn.pipeline import make_pipeline\n",
    "from sklearn.feature_extraction.text import CountVectorizer\n",
    "from sklearn.linear_model import LogisticRegression\n",
    "from sklearn.model_selection import cross_val_score"
   ]
  },
  {
   "cell_type": "markdown",
   "id": "f226e283",
   "metadata": {},
   "source": [
    "### Not using Feature Selection"
   ]
  },
  {
   "cell_type": "code",
   "execution_count": 170,
   "id": "614319dc",
   "metadata": {
    "ExecuteTime": {
     "end_time": "2021-10-17T18:27:32.096086Z",
     "start_time": "2021-10-17T18:27:32.075415Z"
    }
   },
   "outputs": [],
   "source": [
    "pipe = make_pipeline(\n",
    "    CountVectorizer(),\n",
    "    LogisticRegression()\n",
    ")"
   ]
  },
  {
   "cell_type": "code",
   "execution_count": 171,
   "id": "b4798d10",
   "metadata": {
    "ExecuteTime": {
     "end_time": "2021-10-17T18:27:32.236646Z",
     "start_time": "2021-10-17T18:27:32.097594Z"
    }
   },
   "outputs": [
    {
     "data": {
      "text/plain": [
       "0.7957190383528967"
      ]
     },
     "execution_count": 171,
     "metadata": {},
     "output_type": "execute_result"
    }
   ],
   "source": [
    "cross_val_score(pipe, X, y, scoring='accuracy').mean()"
   ]
  },
  {
   "cell_type": "markdown",
   "id": "a6f4e1e5",
   "metadata": {},
   "source": [
    "### Using Feature Selection"
   ]
  },
  {
   "cell_type": "code",
   "execution_count": 172,
   "id": "c58af82c",
   "metadata": {
    "ExecuteTime": {
     "end_time": "2021-10-17T18:27:32.722436Z",
     "start_time": "2021-10-17T18:27:32.684681Z"
    }
   },
   "outputs": [],
   "source": [
    "from sklearn.feature_selection import chi2, SelectPercentile"
   ]
  },
  {
   "cell_type": "code",
   "execution_count": 173,
   "id": "8f62610d",
   "metadata": {
    "ExecuteTime": {
     "end_time": "2021-10-17T18:27:32.753648Z",
     "start_time": "2021-10-17T18:27:32.738028Z"
    }
   },
   "outputs": [],
   "source": [
    "pipe = make_pipeline(\n",
    "    CountVectorizer(),\n",
    "    SelectPercentile(score_func=chi2, percentile=50),\n",
    "    LogisticRegression()\n",
    ")"
   ]
  },
  {
   "cell_type": "code",
   "execution_count": 174,
   "id": "67bc6c44",
   "metadata": {
    "ExecuteTime": {
     "end_time": "2021-10-17T18:27:32.938568Z",
     "start_time": "2021-10-17T18:27:32.753648Z"
    }
   },
   "outputs": [
    {
     "data": {
      "text/plain": [
       "0.8147824995292197"
      ]
     },
     "execution_count": 174,
     "metadata": {},
     "output_type": "execute_result"
    }
   ],
   "source": [
    "cross_val_score(pipe, X, y, scoring=\"accuracy\").mean()"
   ]
  },
  {
   "cell_type": "markdown",
   "id": "0caacecd",
   "metadata": {},
   "source": [
    "## Create an interactive diagram of Pipeline\n",
    "\n",
    "New in version 0.23: Create [interactive diagrams](https://scikit-learn.org/stable/auto_examples/release_highlights/plot_release_highlights_0_23_0.html#rich-visual-representation-of-estimators) of Pipelines (and other estimators) in Jupyter!\n",
    "\n",
    "Click on any element to see more details. You can even export the diagram to an HTML file!\n",
    "\n",
    "Additional links: [set_config](https://scikit-learn.org/stable/modules/generated/sklearn.set_config.html)"
   ]
  },
  {
   "cell_type": "markdown",
   "id": "2c6c81f4",
   "metadata": {},
   "source": [
    "### Sample Codes 1"
   ]
  },
  {
   "cell_type": "code",
   "execution_count": 175,
   "id": "7b0f263a",
   "metadata": {
    "ExecuteTime": {
     "end_time": "2021-10-17T18:27:33.979158Z",
     "start_time": "2021-10-17T18:27:33.963533Z"
    }
   },
   "outputs": [],
   "source": [
    "from sklearn import set_config\n",
    "set_config(display='diagram')"
   ]
  },
  {
   "cell_type": "code",
   "execution_count": 176,
   "id": "c2d0c8b1",
   "metadata": {
    "ExecuteTime": {
     "end_time": "2021-10-17T18:27:34.026051Z",
     "start_time": "2021-10-17T18:27:33.994779Z"
    }
   },
   "outputs": [],
   "source": [
    "from sklearn.pipeline import make_pipeline\n",
    "from sklearn.preprocessing import OneHotEncoder, StandardScaler\n",
    "from sklearn.impute import SimpleImputer\n",
    "from sklearn.compose import make_column_transformer\n",
    "from sklearn.linear_model import LogisticRegression"
   ]
  },
  {
   "cell_type": "code",
   "execution_count": 177,
   "id": "1f42e8bd",
   "metadata": {
    "ExecuteTime": {
     "end_time": "2021-10-17T18:27:34.110669Z",
     "start_time": "2021-10-17T18:27:34.026051Z"
    }
   },
   "outputs": [
    {
     "data": {
      "text/html": [
       "<style>#sk-1acf07be-5fd6-403d-810e-826320e18b9d {color: black;background-color: white;}#sk-1acf07be-5fd6-403d-810e-826320e18b9d pre{padding: 0;}#sk-1acf07be-5fd6-403d-810e-826320e18b9d div.sk-toggleable {background-color: white;}#sk-1acf07be-5fd6-403d-810e-826320e18b9d label.sk-toggleable__label {cursor: pointer;display: block;width: 100%;margin-bottom: 0;padding: 0.3em;box-sizing: border-box;text-align: center;}#sk-1acf07be-5fd6-403d-810e-826320e18b9d div.sk-toggleable__content {max-height: 0;max-width: 0;overflow: hidden;text-align: left;background-color: #f0f8ff;}#sk-1acf07be-5fd6-403d-810e-826320e18b9d div.sk-toggleable__content pre {margin: 0.2em;color: black;border-radius: 0.25em;background-color: #f0f8ff;}#sk-1acf07be-5fd6-403d-810e-826320e18b9d input.sk-toggleable__control:checked~div.sk-toggleable__content {max-height: 200px;max-width: 100%;overflow: auto;}#sk-1acf07be-5fd6-403d-810e-826320e18b9d div.sk-estimator input.sk-toggleable__control:checked~label.sk-toggleable__label {background-color: #d4ebff;}#sk-1acf07be-5fd6-403d-810e-826320e18b9d div.sk-label input.sk-toggleable__control:checked~label.sk-toggleable__label {background-color: #d4ebff;}#sk-1acf07be-5fd6-403d-810e-826320e18b9d input.sk-hidden--visually {border: 0;clip: rect(1px 1px 1px 1px);clip: rect(1px, 1px, 1px, 1px);height: 1px;margin: -1px;overflow: hidden;padding: 0;position: absolute;width: 1px;}#sk-1acf07be-5fd6-403d-810e-826320e18b9d div.sk-estimator {font-family: monospace;background-color: #f0f8ff;border: 1px dotted black;border-radius: 0.25em;box-sizing: border-box;margin-bottom: 0.5em;}#sk-1acf07be-5fd6-403d-810e-826320e18b9d div.sk-estimator:hover {background-color: #d4ebff;}#sk-1acf07be-5fd6-403d-810e-826320e18b9d div.sk-parallel-item::after {content: \"\";width: 100%;border-bottom: 1px solid gray;flex-grow: 1;}#sk-1acf07be-5fd6-403d-810e-826320e18b9d div.sk-label:hover label.sk-toggleable__label {background-color: #d4ebff;}#sk-1acf07be-5fd6-403d-810e-826320e18b9d div.sk-serial::before {content: \"\";position: absolute;border-left: 1px solid gray;box-sizing: border-box;top: 2em;bottom: 0;left: 50%;}#sk-1acf07be-5fd6-403d-810e-826320e18b9d div.sk-serial {display: flex;flex-direction: column;align-items: center;background-color: white;padding-right: 0.2em;padding-left: 0.2em;}#sk-1acf07be-5fd6-403d-810e-826320e18b9d div.sk-item {z-index: 1;}#sk-1acf07be-5fd6-403d-810e-826320e18b9d div.sk-parallel {display: flex;align-items: stretch;justify-content: center;background-color: white;}#sk-1acf07be-5fd6-403d-810e-826320e18b9d div.sk-parallel::before {content: \"\";position: absolute;border-left: 1px solid gray;box-sizing: border-box;top: 2em;bottom: 0;left: 50%;}#sk-1acf07be-5fd6-403d-810e-826320e18b9d div.sk-parallel-item {display: flex;flex-direction: column;position: relative;background-color: white;}#sk-1acf07be-5fd6-403d-810e-826320e18b9d div.sk-parallel-item:first-child::after {align-self: flex-end;width: 50%;}#sk-1acf07be-5fd6-403d-810e-826320e18b9d div.sk-parallel-item:last-child::after {align-self: flex-start;width: 50%;}#sk-1acf07be-5fd6-403d-810e-826320e18b9d div.sk-parallel-item:only-child::after {width: 0;}#sk-1acf07be-5fd6-403d-810e-826320e18b9d div.sk-dashed-wrapped {border: 1px dashed gray;margin: 0 0.4em 0.5em 0.4em;box-sizing: border-box;padding-bottom: 0.4em;background-color: white;position: relative;}#sk-1acf07be-5fd6-403d-810e-826320e18b9d div.sk-label label {font-family: monospace;font-weight: bold;background-color: white;display: inline-block;line-height: 1.2em;}#sk-1acf07be-5fd6-403d-810e-826320e18b9d div.sk-label-container {position: relative;z-index: 2;text-align: center;}#sk-1acf07be-5fd6-403d-810e-826320e18b9d div.sk-container {display: inline-block;position: relative;}</style><div id=\"sk-1acf07be-5fd6-403d-810e-826320e18b9d\" class\"sk-top-container\"><div class=\"sk-container\"><div class=\"sk-item sk-dashed-wrapped\"><div class=\"sk-label-container\"><div class=\"sk-label sk-toggleable\"><input class=\"sk-toggleable__control sk-hidden--visually\" id=\"340012a4-6beb-4d0b-a220-04a673e94338\" type=\"checkbox\" ><label class=\"sk-toggleable__label\" for=\"340012a4-6beb-4d0b-a220-04a673e94338\">Pipeline</label><div class=\"sk-toggleable__content\"><pre>Pipeline(steps=[('columntransformer',\n",
       "                 ColumnTransformer(transformers=[('pipeline-1',\n",
       "                                                  Pipeline(steps=[('simpleimputer',\n",
       "                                                                   SimpleImputer(strategy='median')),\n",
       "                                                                  ('standardscaler',\n",
       "                                                                   StandardScaler())]),\n",
       "                                                  ('feat1', 'feat3')),\n",
       "                                                 ('pipeline-2',\n",
       "                                                  Pipeline(steps=[('simpleimputer',\n",
       "                                                                   SimpleImputer(fill_value='missing',\n",
       "                                                                                 strategy='constant')),\n",
       "                                                                  ('onehotencoder',\n",
       "                                                                   OneHotEncoder(handle_unknown='ignore'))]),\n",
       "                                                  ('feat0', 'feat2'))])),\n",
       "                ('logisticregression', LogisticRegression())])</pre></div></div></div><div class=\"sk-serial\"><div class=\"sk-item sk-dashed-wrapped\"><div class=\"sk-label-container\"><div class=\"sk-label sk-toggleable\"><input class=\"sk-toggleable__control sk-hidden--visually\" id=\"602a2782-3a70-4756-b26b-6e8a289fb45f\" type=\"checkbox\" ><label class=\"sk-toggleable__label\" for=\"602a2782-3a70-4756-b26b-6e8a289fb45f\">columntransformer: ColumnTransformer</label><div class=\"sk-toggleable__content\"><pre>ColumnTransformer(transformers=[('pipeline-1',\n",
       "                                 Pipeline(steps=[('simpleimputer',\n",
       "                                                  SimpleImputer(strategy='median')),\n",
       "                                                 ('standardscaler',\n",
       "                                                  StandardScaler())]),\n",
       "                                 ('feat1', 'feat3')),\n",
       "                                ('pipeline-2',\n",
       "                                 Pipeline(steps=[('simpleimputer',\n",
       "                                                  SimpleImputer(fill_value='missing',\n",
       "                                                                strategy='constant')),\n",
       "                                                 ('onehotencoder',\n",
       "                                                  OneHotEncoder(handle_unknown='ignore'))]),\n",
       "                                 ('feat0', 'feat2'))])</pre></div></div></div><div class=\"sk-parallel\"><div class=\"sk-parallel-item\"><div class=\"sk-item\"><div class=\"sk-label-container\"><div class=\"sk-label sk-toggleable\"><input class=\"sk-toggleable__control sk-hidden--visually\" id=\"eef3c437-12da-434c-be86-69fef9197bf5\" type=\"checkbox\" ><label class=\"sk-toggleable__label\" for=\"eef3c437-12da-434c-be86-69fef9197bf5\">pipeline-1</label><div class=\"sk-toggleable__content\"><pre>('feat1', 'feat3')</pre></div></div></div><div class=\"sk-serial\"><div class=\"sk-item\"><div class=\"sk-serial\"><div class=\"sk-item\"><div class=\"sk-estimator sk-toggleable\"><input class=\"sk-toggleable__control sk-hidden--visually\" id=\"f2709716-d51f-4800-a987-221cfe84a2da\" type=\"checkbox\" ><label class=\"sk-toggleable__label\" for=\"f2709716-d51f-4800-a987-221cfe84a2da\">SimpleImputer</label><div class=\"sk-toggleable__content\"><pre>SimpleImputer(strategy='median')</pre></div></div></div><div class=\"sk-item\"><div class=\"sk-estimator sk-toggleable\"><input class=\"sk-toggleable__control sk-hidden--visually\" id=\"88176401-aa0d-4a7b-b834-975632fe42bb\" type=\"checkbox\" ><label class=\"sk-toggleable__label\" for=\"88176401-aa0d-4a7b-b834-975632fe42bb\">StandardScaler</label><div class=\"sk-toggleable__content\"><pre>StandardScaler()</pre></div></div></div></div></div></div></div></div><div class=\"sk-parallel-item\"><div class=\"sk-item\"><div class=\"sk-label-container\"><div class=\"sk-label sk-toggleable\"><input class=\"sk-toggleable__control sk-hidden--visually\" id=\"99ef8ba6-5da6-4e7d-9ac1-f2d7f7eac916\" type=\"checkbox\" ><label class=\"sk-toggleable__label\" for=\"99ef8ba6-5da6-4e7d-9ac1-f2d7f7eac916\">pipeline-2</label><div class=\"sk-toggleable__content\"><pre>('feat0', 'feat2')</pre></div></div></div><div class=\"sk-serial\"><div class=\"sk-item\"><div class=\"sk-serial\"><div class=\"sk-item\"><div class=\"sk-estimator sk-toggleable\"><input class=\"sk-toggleable__control sk-hidden--visually\" id=\"02eed842-a090-4ddc-a8d3-d3be252fdc20\" type=\"checkbox\" ><label class=\"sk-toggleable__label\" for=\"02eed842-a090-4ddc-a8d3-d3be252fdc20\">SimpleImputer</label><div class=\"sk-toggleable__content\"><pre>SimpleImputer(fill_value='missing', strategy='constant')</pre></div></div></div><div class=\"sk-item\"><div class=\"sk-estimator sk-toggleable\"><input class=\"sk-toggleable__control sk-hidden--visually\" id=\"48101cd9-3527-46a6-a6a9-2129ce83a5b9\" type=\"checkbox\" ><label class=\"sk-toggleable__label\" for=\"48101cd9-3527-46a6-a6a9-2129ce83a5b9\">OneHotEncoder</label><div class=\"sk-toggleable__content\"><pre>OneHotEncoder(handle_unknown='ignore')</pre></div></div></div></div></div></div></div></div></div></div><div class=\"sk-item\"><div class=\"sk-estimator sk-toggleable\"><input class=\"sk-toggleable__control sk-hidden--visually\" id=\"c252fab2-c65e-41e4-aaab-8a7cc47af665\" type=\"checkbox\" ><label class=\"sk-toggleable__label\" for=\"c252fab2-c65e-41e4-aaab-8a7cc47af665\">LogisticRegression</label><div class=\"sk-toggleable__content\"><pre>LogisticRegression()</pre></div></div></div></div></div></div></div>"
      ],
      "text/plain": [
       "Pipeline(steps=[('columntransformer',\n",
       "                 ColumnTransformer(transformers=[('pipeline-1',\n",
       "                                                  Pipeline(steps=[('simpleimputer',\n",
       "                                                                   SimpleImputer(strategy='median')),\n",
       "                                                                  ('standardscaler',\n",
       "                                                                   StandardScaler())]),\n",
       "                                                  ('feat1', 'feat3')),\n",
       "                                                 ('pipeline-2',\n",
       "                                                  Pipeline(steps=[('simpleimputer',\n",
       "                                                                   SimpleImputer(fill_value='missing',\n",
       "                                                                                 strategy='constant')),\n",
       "                                                                  ('onehotencoder',\n",
       "                                                                   OneHotEncoder(handle_unknown='ignore'))]),\n",
       "                                                  ('feat0', 'feat2'))])),\n",
       "                ('logisticregression', LogisticRegression())])"
      ]
     },
     "execution_count": 177,
     "metadata": {},
     "output_type": "execute_result"
    }
   ],
   "source": [
    "num_proc = make_pipeline(SimpleImputer(strategy='median'), StandardScaler())\n",
    "\n",
    "cat_proc = make_pipeline(\n",
    "    SimpleImputer(strategy='constant', fill_value='missing'),\n",
    "    OneHotEncoder(handle_unknown='ignore'))\n",
    "\n",
    "preprocessor = make_column_transformer((num_proc, ('feat1', 'feat3')),\n",
    "                                       (cat_proc, ('feat0', 'feat2')))\n",
    "\n",
    "clf = make_pipeline(preprocessor, LogisticRegression())\n",
    "clf"
   ]
  },
  {
   "cell_type": "markdown",
   "id": "9cd0f194",
   "metadata": {},
   "source": [
    "### Sample Codes 2"
   ]
  },
  {
   "cell_type": "code",
   "execution_count": 178,
   "id": "a184364a",
   "metadata": {
    "ExecuteTime": {
     "end_time": "2021-10-17T18:27:34.727975Z",
     "start_time": "2021-10-17T18:27:34.696738Z"
    }
   },
   "outputs": [],
   "source": [
    "from sklearn.impute import SimpleImputer\n",
    "from sklearn.preprocessing import OneHotEncoder\n",
    "from sklearn.feature_extraction.text import CountVectorizer\n",
    "from sklearn.feature_selection import SelectPercentile, chi2\n",
    "from sklearn.linear_model import LogisticRegression\n",
    "from sklearn.compose import make_column_transformer\n",
    "from sklearn.pipeline import make_pipeline"
   ]
  },
  {
   "cell_type": "code",
   "execution_count": 179,
   "id": "b1d690f3",
   "metadata": {
    "ExecuteTime": {
     "end_time": "2021-10-17T18:27:34.759191Z",
     "start_time": "2021-10-17T18:27:34.743569Z"
    }
   },
   "outputs": [],
   "source": [
    "import os \n",
    "\n",
    "file_input_path = \"titanic_train.csv\"\n",
    "if not os.path.exists(file_input_path):\n",
    "    df_train = pd.read_csv(\"http://bit.ly/kaggletrain\")\n",
    "    df_train.to_csv(file_input_path, header=True, index=False, sep=\"\\t\")\n",
    "else:\n",
    "    df_train = pd.read_csv(file_input_path, header=0, sep=\"\\t\")"
   ]
  },
  {
   "cell_type": "code",
   "execution_count": 180,
   "id": "1f21807f",
   "metadata": {
    "ExecuteTime": {
     "end_time": "2021-10-17T18:27:34.812566Z",
     "start_time": "2021-10-17T18:27:34.765697Z"
    }
   },
   "outputs": [],
   "source": [
    "X = df_train[['Parch', 'Fare', 'Embarked', 'Sex', 'Name', 'Age']]\n",
    "y = df_train['Survived']"
   ]
  },
  {
   "cell_type": "code",
   "execution_count": 181,
   "id": "d84b6d16",
   "metadata": {
    "ExecuteTime": {
     "end_time": "2021-10-17T18:27:34.843809Z",
     "start_time": "2021-10-17T18:27:34.812566Z"
    }
   },
   "outputs": [],
   "source": [
    "imp_ohe = make_pipeline(\n",
    "    SimpleImputer(strategy=\"constant\"),\n",
    "    OneHotEncoder()\n",
    ")\n",
    "vect = CountVectorizer()\n",
    "imp = SimpleImputer()"
   ]
  },
  {
   "cell_type": "code",
   "execution_count": 182,
   "id": "e487b0c4",
   "metadata": {
    "ExecuteTime": {
     "end_time": "2021-10-17T18:27:34.882063Z",
     "start_time": "2021-10-17T18:27:34.859430Z"
    }
   },
   "outputs": [],
   "source": [
    "# pipeline step 1\n",
    "ct = make_column_transformer(\n",
    "    (imp_ohe, ['Embarked', 'Sex']),\n",
    "    (vect, 'Name'),\n",
    "    (imp, ['Age', 'Fare']),\n",
    "    ('passthrough', ['Parch'])\n",
    ")"
   ]
  },
  {
   "cell_type": "code",
   "execution_count": 183,
   "id": "49b175dc",
   "metadata": {
    "ExecuteTime": {
     "end_time": "2021-10-17T18:27:34.913306Z",
     "start_time": "2021-10-17T18:27:34.882063Z"
    }
   },
   "outputs": [],
   "source": [
    "# pipeline step 2\n",
    "selection = SelectPercentile(score_func=chi2, percentile=50)"
   ]
  },
  {
   "cell_type": "code",
   "execution_count": 184,
   "id": "c75f05ef",
   "metadata": {
    "ExecuteTime": {
     "end_time": "2021-10-17T18:27:34.928927Z",
     "start_time": "2021-10-17T18:27:34.913306Z"
    }
   },
   "outputs": [],
   "source": [
    "# pipeline step 3\n",
    "clf = LogisticRegression(solver='liblinear')"
   ]
  },
  {
   "cell_type": "code",
   "execution_count": 185,
   "id": "a43e7c1d",
   "metadata": {
    "ExecuteTime": {
     "end_time": "2021-10-17T18:27:34.998926Z",
     "start_time": "2021-10-17T18:27:34.928927Z"
    }
   },
   "outputs": [
    {
     "data": {
      "text/html": [
       "<style>#sk-fbf7e687-4e25-47dd-bb1e-445efc32692f {color: black;background-color: white;}#sk-fbf7e687-4e25-47dd-bb1e-445efc32692f pre{padding: 0;}#sk-fbf7e687-4e25-47dd-bb1e-445efc32692f div.sk-toggleable {background-color: white;}#sk-fbf7e687-4e25-47dd-bb1e-445efc32692f label.sk-toggleable__label {cursor: pointer;display: block;width: 100%;margin-bottom: 0;padding: 0.3em;box-sizing: border-box;text-align: center;}#sk-fbf7e687-4e25-47dd-bb1e-445efc32692f div.sk-toggleable__content {max-height: 0;max-width: 0;overflow: hidden;text-align: left;background-color: #f0f8ff;}#sk-fbf7e687-4e25-47dd-bb1e-445efc32692f div.sk-toggleable__content pre {margin: 0.2em;color: black;border-radius: 0.25em;background-color: #f0f8ff;}#sk-fbf7e687-4e25-47dd-bb1e-445efc32692f input.sk-toggleable__control:checked~div.sk-toggleable__content {max-height: 200px;max-width: 100%;overflow: auto;}#sk-fbf7e687-4e25-47dd-bb1e-445efc32692f div.sk-estimator input.sk-toggleable__control:checked~label.sk-toggleable__label {background-color: #d4ebff;}#sk-fbf7e687-4e25-47dd-bb1e-445efc32692f div.sk-label input.sk-toggleable__control:checked~label.sk-toggleable__label {background-color: #d4ebff;}#sk-fbf7e687-4e25-47dd-bb1e-445efc32692f input.sk-hidden--visually {border: 0;clip: rect(1px 1px 1px 1px);clip: rect(1px, 1px, 1px, 1px);height: 1px;margin: -1px;overflow: hidden;padding: 0;position: absolute;width: 1px;}#sk-fbf7e687-4e25-47dd-bb1e-445efc32692f div.sk-estimator {font-family: monospace;background-color: #f0f8ff;border: 1px dotted black;border-radius: 0.25em;box-sizing: border-box;margin-bottom: 0.5em;}#sk-fbf7e687-4e25-47dd-bb1e-445efc32692f div.sk-estimator:hover {background-color: #d4ebff;}#sk-fbf7e687-4e25-47dd-bb1e-445efc32692f div.sk-parallel-item::after {content: \"\";width: 100%;border-bottom: 1px solid gray;flex-grow: 1;}#sk-fbf7e687-4e25-47dd-bb1e-445efc32692f div.sk-label:hover label.sk-toggleable__label {background-color: #d4ebff;}#sk-fbf7e687-4e25-47dd-bb1e-445efc32692f div.sk-serial::before {content: \"\";position: absolute;border-left: 1px solid gray;box-sizing: border-box;top: 2em;bottom: 0;left: 50%;}#sk-fbf7e687-4e25-47dd-bb1e-445efc32692f div.sk-serial {display: flex;flex-direction: column;align-items: center;background-color: white;padding-right: 0.2em;padding-left: 0.2em;}#sk-fbf7e687-4e25-47dd-bb1e-445efc32692f div.sk-item {z-index: 1;}#sk-fbf7e687-4e25-47dd-bb1e-445efc32692f div.sk-parallel {display: flex;align-items: stretch;justify-content: center;background-color: white;}#sk-fbf7e687-4e25-47dd-bb1e-445efc32692f div.sk-parallel::before {content: \"\";position: absolute;border-left: 1px solid gray;box-sizing: border-box;top: 2em;bottom: 0;left: 50%;}#sk-fbf7e687-4e25-47dd-bb1e-445efc32692f div.sk-parallel-item {display: flex;flex-direction: column;position: relative;background-color: white;}#sk-fbf7e687-4e25-47dd-bb1e-445efc32692f div.sk-parallel-item:first-child::after {align-self: flex-end;width: 50%;}#sk-fbf7e687-4e25-47dd-bb1e-445efc32692f div.sk-parallel-item:last-child::after {align-self: flex-start;width: 50%;}#sk-fbf7e687-4e25-47dd-bb1e-445efc32692f div.sk-parallel-item:only-child::after {width: 0;}#sk-fbf7e687-4e25-47dd-bb1e-445efc32692f div.sk-dashed-wrapped {border: 1px dashed gray;margin: 0 0.4em 0.5em 0.4em;box-sizing: border-box;padding-bottom: 0.4em;background-color: white;position: relative;}#sk-fbf7e687-4e25-47dd-bb1e-445efc32692f div.sk-label label {font-family: monospace;font-weight: bold;background-color: white;display: inline-block;line-height: 1.2em;}#sk-fbf7e687-4e25-47dd-bb1e-445efc32692f div.sk-label-container {position: relative;z-index: 2;text-align: center;}#sk-fbf7e687-4e25-47dd-bb1e-445efc32692f div.sk-container {display: inline-block;position: relative;}</style><div id=\"sk-fbf7e687-4e25-47dd-bb1e-445efc32692f\" class\"sk-top-container\"><div class=\"sk-container\"><div class=\"sk-item sk-dashed-wrapped\"><div class=\"sk-label-container\"><div class=\"sk-label sk-toggleable\"><input class=\"sk-toggleable__control sk-hidden--visually\" id=\"9f826d4f-3b38-4c5d-ac5b-03ff7aa116f1\" type=\"checkbox\" ><label class=\"sk-toggleable__label\" for=\"9f826d4f-3b38-4c5d-ac5b-03ff7aa116f1\">Pipeline</label><div class=\"sk-toggleable__content\"><pre>Pipeline(steps=[('columntransformer',\n",
       "                 ColumnTransformer(transformers=[('pipeline',\n",
       "                                                  Pipeline(steps=[('simpleimputer',\n",
       "                                                                   SimpleImputer(strategy='constant')),\n",
       "                                                                  ('onehotencoder',\n",
       "                                                                   OneHotEncoder())]),\n",
       "                                                  ['Embarked', 'Sex']),\n",
       "                                                 ('countvectorizer',\n",
       "                                                  CountVectorizer(), 'Name'),\n",
       "                                                 ('simpleimputer',\n",
       "                                                  SimpleImputer(),\n",
       "                                                  ['Age', 'Fare']),\n",
       "                                                 ('passthrough', 'passthrough',\n",
       "                                                  ['Parch'])])),\n",
       "                ('selectpercentile',\n",
       "                 SelectPercentile(percentile=50,\n",
       "                                  score_func=<function chi2 at 0x00000266817474C0>)),\n",
       "                ('logisticregression', LogisticRegression(solver='liblinear'))])</pre></div></div></div><div class=\"sk-serial\"><div class=\"sk-item sk-dashed-wrapped\"><div class=\"sk-label-container\"><div class=\"sk-label sk-toggleable\"><input class=\"sk-toggleable__control sk-hidden--visually\" id=\"519b0ac9-a5a6-4a23-9320-53e23ded19cc\" type=\"checkbox\" ><label class=\"sk-toggleable__label\" for=\"519b0ac9-a5a6-4a23-9320-53e23ded19cc\">columntransformer: ColumnTransformer</label><div class=\"sk-toggleable__content\"><pre>ColumnTransformer(transformers=[('pipeline',\n",
       "                                 Pipeline(steps=[('simpleimputer',\n",
       "                                                  SimpleImputer(strategy='constant')),\n",
       "                                                 ('onehotencoder',\n",
       "                                                  OneHotEncoder())]),\n",
       "                                 ['Embarked', 'Sex']),\n",
       "                                ('countvectorizer', CountVectorizer(), 'Name'),\n",
       "                                ('simpleimputer', SimpleImputer(),\n",
       "                                 ['Age', 'Fare']),\n",
       "                                ('passthrough', 'passthrough', ['Parch'])])</pre></div></div></div><div class=\"sk-parallel\"><div class=\"sk-parallel-item\"><div class=\"sk-item\"><div class=\"sk-label-container\"><div class=\"sk-label sk-toggleable\"><input class=\"sk-toggleable__control sk-hidden--visually\" id=\"8d6318b7-00a1-41ca-a002-7728102f0a69\" type=\"checkbox\" ><label class=\"sk-toggleable__label\" for=\"8d6318b7-00a1-41ca-a002-7728102f0a69\">pipeline</label><div class=\"sk-toggleable__content\"><pre>['Embarked', 'Sex']</pre></div></div></div><div class=\"sk-serial\"><div class=\"sk-item\"><div class=\"sk-serial\"><div class=\"sk-item\"><div class=\"sk-estimator sk-toggleable\"><input class=\"sk-toggleable__control sk-hidden--visually\" id=\"6d1d7acb-8f8b-42e4-84d3-743b180ec8de\" type=\"checkbox\" ><label class=\"sk-toggleable__label\" for=\"6d1d7acb-8f8b-42e4-84d3-743b180ec8de\">SimpleImputer</label><div class=\"sk-toggleable__content\"><pre>SimpleImputer(strategy='constant')</pre></div></div></div><div class=\"sk-item\"><div class=\"sk-estimator sk-toggleable\"><input class=\"sk-toggleable__control sk-hidden--visually\" id=\"8b8ae338-d380-4814-a66b-e1c1db52cf70\" type=\"checkbox\" ><label class=\"sk-toggleable__label\" for=\"8b8ae338-d380-4814-a66b-e1c1db52cf70\">OneHotEncoder</label><div class=\"sk-toggleable__content\"><pre>OneHotEncoder()</pre></div></div></div></div></div></div></div></div><div class=\"sk-parallel-item\"><div class=\"sk-item\"><div class=\"sk-label-container\"><div class=\"sk-label sk-toggleable\"><input class=\"sk-toggleable__control sk-hidden--visually\" id=\"12b3c46c-f551-40b3-8fa8-1dd6e5ea5419\" type=\"checkbox\" ><label class=\"sk-toggleable__label\" for=\"12b3c46c-f551-40b3-8fa8-1dd6e5ea5419\">countvectorizer</label><div class=\"sk-toggleable__content\"><pre>Name</pre></div></div></div><div class=\"sk-serial\"><div class=\"sk-item\"><div class=\"sk-estimator sk-toggleable\"><input class=\"sk-toggleable__control sk-hidden--visually\" id=\"f2f64594-9aae-4a25-b1a9-ae7339454fff\" type=\"checkbox\" ><label class=\"sk-toggleable__label\" for=\"f2f64594-9aae-4a25-b1a9-ae7339454fff\">CountVectorizer</label><div class=\"sk-toggleable__content\"><pre>CountVectorizer()</pre></div></div></div></div></div></div><div class=\"sk-parallel-item\"><div class=\"sk-item\"><div class=\"sk-label-container\"><div class=\"sk-label sk-toggleable\"><input class=\"sk-toggleable__control sk-hidden--visually\" id=\"7a32317f-4ecc-430c-b8f5-76d8924ff098\" type=\"checkbox\" ><label class=\"sk-toggleable__label\" for=\"7a32317f-4ecc-430c-b8f5-76d8924ff098\">simpleimputer</label><div class=\"sk-toggleable__content\"><pre>['Age', 'Fare']</pre></div></div></div><div class=\"sk-serial\"><div class=\"sk-item\"><div class=\"sk-estimator sk-toggleable\"><input class=\"sk-toggleable__control sk-hidden--visually\" id=\"18ef9df0-8a65-4635-8e6a-57df1d2f5903\" type=\"checkbox\" ><label class=\"sk-toggleable__label\" for=\"18ef9df0-8a65-4635-8e6a-57df1d2f5903\">SimpleImputer</label><div class=\"sk-toggleable__content\"><pre>SimpleImputer()</pre></div></div></div></div></div></div><div class=\"sk-parallel-item\"><div class=\"sk-item\"><div class=\"sk-label-container\"><div class=\"sk-label sk-toggleable\"><input class=\"sk-toggleable__control sk-hidden--visually\" id=\"c7dcf851-f6ac-4885-98e5-82be3519bf3b\" type=\"checkbox\" ><label class=\"sk-toggleable__label\" for=\"c7dcf851-f6ac-4885-98e5-82be3519bf3b\">passthrough</label><div class=\"sk-toggleable__content\"><pre>['Parch']</pre></div></div></div><div class=\"sk-serial\"><div class=\"sk-item\"><div class=\"sk-estimator sk-toggleable\"><input class=\"sk-toggleable__control sk-hidden--visually\" id=\"f19db4db-6d47-47f7-8cc1-9578a45eee52\" type=\"checkbox\" ><label class=\"sk-toggleable__label\" for=\"f19db4db-6d47-47f7-8cc1-9578a45eee52\">passthrough</label><div class=\"sk-toggleable__content\"><pre>passthrough</pre></div></div></div></div></div></div></div></div><div class=\"sk-item\"><div class=\"sk-estimator sk-toggleable\"><input class=\"sk-toggleable__control sk-hidden--visually\" id=\"583972d8-de56-4bb2-87c8-9577e7722c19\" type=\"checkbox\" ><label class=\"sk-toggleable__label\" for=\"583972d8-de56-4bb2-87c8-9577e7722c19\">SelectPercentile</label><div class=\"sk-toggleable__content\"><pre>SelectPercentile(percentile=50,\n",
       "                 score_func=<function chi2 at 0x00000266817474C0>)</pre></div></div></div><div class=\"sk-item\"><div class=\"sk-estimator sk-toggleable\"><input class=\"sk-toggleable__control sk-hidden--visually\" id=\"eb1f90b4-3a86-49ab-bb3c-2a5c8dac2a16\" type=\"checkbox\" ><label class=\"sk-toggleable__label\" for=\"eb1f90b4-3a86-49ab-bb3c-2a5c8dac2a16\">LogisticRegression</label><div class=\"sk-toggleable__content\"><pre>LogisticRegression(solver='liblinear')</pre></div></div></div></div></div></div></div>"
      ],
      "text/plain": [
       "Pipeline(steps=[('columntransformer',\n",
       "                 ColumnTransformer(transformers=[('pipeline',\n",
       "                                                  Pipeline(steps=[('simpleimputer',\n",
       "                                                                   SimpleImputer(strategy='constant')),\n",
       "                                                                  ('onehotencoder',\n",
       "                                                                   OneHotEncoder())]),\n",
       "                                                  ['Embarked', 'Sex']),\n",
       "                                                 ('countvectorizer',\n",
       "                                                  CountVectorizer(), 'Name'),\n",
       "                                                 ('simpleimputer',\n",
       "                                                  SimpleImputer(),\n",
       "                                                  ['Age', 'Fare']),\n",
       "                                                 ('passthrough', 'passthrough',\n",
       "                                                  ['Parch'])])),\n",
       "                ('selectpercentile',\n",
       "                 SelectPercentile(percentile=50,\n",
       "                                  score_func=<function chi2 at 0x00000266817474C0>)),\n",
       "                ('logisticregression', LogisticRegression(solver='liblinear'))])"
      ]
     },
     "execution_count": 185,
     "metadata": {},
     "output_type": "execute_result"
    }
   ],
   "source": [
    "pipe = make_pipeline(ct, selection, clf)\n",
    "pipe"
   ]
  },
  {
   "cell_type": "markdown",
   "id": "b09e2cab",
   "metadata": {},
   "source": [
    "### Export to file HTML"
   ]
  },
  {
   "cell_type": "code",
   "execution_count": 186,
   "id": "ed6a3415",
   "metadata": {
    "ExecuteTime": {
     "end_time": "2021-10-17T18:27:35.547240Z",
     "start_time": "2021-10-17T18:27:35.500349Z"
    }
   },
   "outputs": [],
   "source": [
    "# export the diagram to a file\n",
    "file_html_path = \"pipe.html\"\n",
    "from sklearn.utils import estimator_html_repr\n",
    "with open(file_html_path, 'w') as f:  \n",
    "    f.write(estimator_html_repr(pipe))"
   ]
  },
  {
   "cell_type": "markdown",
   "id": "e7836306",
   "metadata": {},
   "source": [
    "## Access part of a Pipeline using slicing\n",
    "\n",
    "Want to operate on part of a Pipeline(instead of the whole thing)? Slice it using Python's slicing notation."
   ]
  },
  {
   "cell_type": "code",
   "execution_count": 187,
   "id": "77911e68",
   "metadata": {
    "ExecuteTime": {
     "end_time": "2021-10-17T18:27:36.164298Z",
     "start_time": "2021-10-17T18:27:36.148676Z"
    }
   },
   "outputs": [],
   "source": [
    "import os \n",
    "\n",
    "file_input_path = \"titanic_train.csv\"\n",
    "if not os.path.exists(file_input_path):\n",
    "    df_train = pd.read_csv(\"http://bit.ly/kaggletrain\")\n",
    "    df_train.to_csv(file_input_path, header=True, index=False, sep=\"\\t\")\n",
    "else:\n",
    "    df_train = pd.read_csv(file_input_path, header=0, sep=\"\\t\")"
   ]
  },
  {
   "cell_type": "code",
   "execution_count": 188,
   "id": "ffba1ba1",
   "metadata": {
    "ExecuteTime": {
     "end_time": "2021-10-17T18:27:36.217704Z",
     "start_time": "2021-10-17T18:27:36.170804Z"
    }
   },
   "outputs": [],
   "source": [
    "cols = [\"Sex\", \"Name\", \"Age\"]\n",
    "X, y = df_train[cols], df[\"Survived\"]"
   ]
  },
  {
   "cell_type": "code",
   "execution_count": 189,
   "id": "75f25907",
   "metadata": {
    "ExecuteTime": {
     "end_time": "2021-10-17T18:27:36.233294Z",
     "start_time": "2021-10-17T18:27:36.217704Z"
    }
   },
   "outputs": [
    {
     "data": {
      "text/html": [
       "<div>\n",
       "<style scoped>\n",
       "    .dataframe tbody tr th:only-of-type {\n",
       "        vertical-align: middle;\n",
       "    }\n",
       "\n",
       "    .dataframe tbody tr th {\n",
       "        vertical-align: top;\n",
       "    }\n",
       "\n",
       "    .dataframe thead th {\n",
       "        text-align: right;\n",
       "    }\n",
       "</style>\n",
       "<table border=\"1\" class=\"dataframe\">\n",
       "  <thead>\n",
       "    <tr style=\"text-align: right;\">\n",
       "      <th></th>\n",
       "      <th>Sex</th>\n",
       "      <th>Name</th>\n",
       "      <th>Age</th>\n",
       "    </tr>\n",
       "  </thead>\n",
       "  <tbody>\n",
       "    <tr>\n",
       "      <th>0</th>\n",
       "      <td>male</td>\n",
       "      <td>Braund, Mr. Owen Harris</td>\n",
       "      <td>22.0</td>\n",
       "    </tr>\n",
       "    <tr>\n",
       "      <th>1</th>\n",
       "      <td>female</td>\n",
       "      <td>Cumings, Mrs. John Bradley (Florence Briggs Th...</td>\n",
       "      <td>38.0</td>\n",
       "    </tr>\n",
       "  </tbody>\n",
       "</table>\n",
       "</div>"
      ],
      "text/plain": [
       "      Sex                                               Name   Age\n",
       "0    male                            Braund, Mr. Owen Harris  22.0\n",
       "1  female  Cumings, Mrs. John Bradley (Florence Briggs Th...  38.0"
      ]
     },
     "execution_count": 189,
     "metadata": {},
     "output_type": "execute_result"
    }
   ],
   "source": [
    "X.head(2)"
   ]
  },
  {
   "cell_type": "code",
   "execution_count": 190,
   "id": "90834f28",
   "metadata": {
    "ExecuteTime": {
     "end_time": "2021-10-17T18:27:36.272548Z",
     "start_time": "2021-10-17T18:27:36.233294Z"
    }
   },
   "outputs": [
    {
     "data": {
      "text/plain": [
       "0    0\n",
       "1    1\n",
       "Name: Survived, dtype: int64"
      ]
     },
     "execution_count": 190,
     "metadata": {},
     "output_type": "execute_result"
    }
   ],
   "source": [
    "y.head(2)"
   ]
  },
  {
   "cell_type": "code",
   "execution_count": 191,
   "id": "3b4862ba",
   "metadata": {
    "ExecuteTime": {
     "end_time": "2021-10-17T18:27:36.303795Z",
     "start_time": "2021-10-17T18:27:36.272548Z"
    }
   },
   "outputs": [],
   "source": [
    "from sklearn import set_config\n",
    "set_config(display=\"diagram\")"
   ]
  },
  {
   "cell_type": "code",
   "execution_count": 192,
   "id": "3f1e41f5",
   "metadata": {
    "ExecuteTime": {
     "end_time": "2021-10-17T18:27:36.335039Z",
     "start_time": "2021-10-17T18:27:36.303795Z"
    }
   },
   "outputs": [],
   "source": [
    "from sklearn.preprocessing import OneHotEncoder\n",
    "from sklearn.feature_extraction.text import CountVectorizer\n",
    "from sklearn.impute import SimpleImputer\n",
    "from sklearn.feature_selection import SelectPercentile, chi2\n",
    "from sklearn.linear_model import LogisticRegression\n",
    "from sklearn.compose import ColumnTransformer\n",
    "from sklearn.pipeline import Pipeline"
   ]
  },
  {
   "cell_type": "code",
   "execution_count": 193,
   "id": "13648d54",
   "metadata": {
    "ExecuteTime": {
     "end_time": "2021-10-17T18:27:36.350660Z",
     "start_time": "2021-10-17T18:27:36.335039Z"
    }
   },
   "outputs": [],
   "source": [
    "col_transformer = ColumnTransformer(\n",
    "    [\n",
    "        (\"ohe\", OneHotEncoder(), [\"Sex\"]),\n",
    "        (\"vectorizer\", CountVectorizer(), \"Name\"),\n",
    "        (\"imputer\", SimpleImputer(), [\"Age\"])\n",
    "    ]\n",
    ")"
   ]
  },
  {
   "cell_type": "code",
   "execution_count": 194,
   "id": "9308af3f",
   "metadata": {
    "ExecuteTime": {
     "end_time": "2021-10-17T18:27:36.366281Z",
     "start_time": "2021-10-17T18:27:36.350660Z"
    }
   },
   "outputs": [],
   "source": [
    "feat_selector = SelectPercentile(score_func=chi2, percentile=50)"
   ]
  },
  {
   "cell_type": "code",
   "execution_count": 195,
   "id": "fdf4fb11",
   "metadata": {
    "ExecuteTime": {
     "end_time": "2021-10-17T18:27:36.402550Z",
     "start_time": "2021-10-17T18:27:36.366281Z"
    }
   },
   "outputs": [],
   "source": [
    "clf = LogisticRegression(solver=\"liblinear\", random_state=1)"
   ]
  },
  {
   "cell_type": "code",
   "execution_count": 196,
   "id": "7ce335e7",
   "metadata": {
    "ExecuteTime": {
     "end_time": "2021-10-17T18:27:36.435790Z",
     "start_time": "2021-10-17T18:27:36.407702Z"
    }
   },
   "outputs": [],
   "source": [
    "pipe = Pipeline(\n",
    "    [\n",
    "        (\"preprocessor\", col_transformer),\n",
    "        (\"feature_selector\", feat_selector),\n",
    "        (\"classifier\", clf)\n",
    "    ]\n",
    ")"
   ]
  },
  {
   "cell_type": "code",
   "execution_count": 197,
   "id": "e6e3004a",
   "metadata": {
    "ExecuteTime": {
     "end_time": "2021-10-17T18:27:36.494082Z",
     "start_time": "2021-10-17T18:27:36.437799Z"
    }
   },
   "outputs": [
    {
     "data": {
      "text/html": [
       "<style>#sk-fae2e51c-3f32-40ff-ba4e-6eab74a3158b {color: black;background-color: white;}#sk-fae2e51c-3f32-40ff-ba4e-6eab74a3158b pre{padding: 0;}#sk-fae2e51c-3f32-40ff-ba4e-6eab74a3158b div.sk-toggleable {background-color: white;}#sk-fae2e51c-3f32-40ff-ba4e-6eab74a3158b label.sk-toggleable__label {cursor: pointer;display: block;width: 100%;margin-bottom: 0;padding: 0.3em;box-sizing: border-box;text-align: center;}#sk-fae2e51c-3f32-40ff-ba4e-6eab74a3158b div.sk-toggleable__content {max-height: 0;max-width: 0;overflow: hidden;text-align: left;background-color: #f0f8ff;}#sk-fae2e51c-3f32-40ff-ba4e-6eab74a3158b div.sk-toggleable__content pre {margin: 0.2em;color: black;border-radius: 0.25em;background-color: #f0f8ff;}#sk-fae2e51c-3f32-40ff-ba4e-6eab74a3158b input.sk-toggleable__control:checked~div.sk-toggleable__content {max-height: 200px;max-width: 100%;overflow: auto;}#sk-fae2e51c-3f32-40ff-ba4e-6eab74a3158b div.sk-estimator input.sk-toggleable__control:checked~label.sk-toggleable__label {background-color: #d4ebff;}#sk-fae2e51c-3f32-40ff-ba4e-6eab74a3158b div.sk-label input.sk-toggleable__control:checked~label.sk-toggleable__label {background-color: #d4ebff;}#sk-fae2e51c-3f32-40ff-ba4e-6eab74a3158b input.sk-hidden--visually {border: 0;clip: rect(1px 1px 1px 1px);clip: rect(1px, 1px, 1px, 1px);height: 1px;margin: -1px;overflow: hidden;padding: 0;position: absolute;width: 1px;}#sk-fae2e51c-3f32-40ff-ba4e-6eab74a3158b div.sk-estimator {font-family: monospace;background-color: #f0f8ff;border: 1px dotted black;border-radius: 0.25em;box-sizing: border-box;margin-bottom: 0.5em;}#sk-fae2e51c-3f32-40ff-ba4e-6eab74a3158b div.sk-estimator:hover {background-color: #d4ebff;}#sk-fae2e51c-3f32-40ff-ba4e-6eab74a3158b div.sk-parallel-item::after {content: \"\";width: 100%;border-bottom: 1px solid gray;flex-grow: 1;}#sk-fae2e51c-3f32-40ff-ba4e-6eab74a3158b div.sk-label:hover label.sk-toggleable__label {background-color: #d4ebff;}#sk-fae2e51c-3f32-40ff-ba4e-6eab74a3158b div.sk-serial::before {content: \"\";position: absolute;border-left: 1px solid gray;box-sizing: border-box;top: 2em;bottom: 0;left: 50%;}#sk-fae2e51c-3f32-40ff-ba4e-6eab74a3158b div.sk-serial {display: flex;flex-direction: column;align-items: center;background-color: white;padding-right: 0.2em;padding-left: 0.2em;}#sk-fae2e51c-3f32-40ff-ba4e-6eab74a3158b div.sk-item {z-index: 1;}#sk-fae2e51c-3f32-40ff-ba4e-6eab74a3158b div.sk-parallel {display: flex;align-items: stretch;justify-content: center;background-color: white;}#sk-fae2e51c-3f32-40ff-ba4e-6eab74a3158b div.sk-parallel::before {content: \"\";position: absolute;border-left: 1px solid gray;box-sizing: border-box;top: 2em;bottom: 0;left: 50%;}#sk-fae2e51c-3f32-40ff-ba4e-6eab74a3158b div.sk-parallel-item {display: flex;flex-direction: column;position: relative;background-color: white;}#sk-fae2e51c-3f32-40ff-ba4e-6eab74a3158b div.sk-parallel-item:first-child::after {align-self: flex-end;width: 50%;}#sk-fae2e51c-3f32-40ff-ba4e-6eab74a3158b div.sk-parallel-item:last-child::after {align-self: flex-start;width: 50%;}#sk-fae2e51c-3f32-40ff-ba4e-6eab74a3158b div.sk-parallel-item:only-child::after {width: 0;}#sk-fae2e51c-3f32-40ff-ba4e-6eab74a3158b div.sk-dashed-wrapped {border: 1px dashed gray;margin: 0 0.4em 0.5em 0.4em;box-sizing: border-box;padding-bottom: 0.4em;background-color: white;position: relative;}#sk-fae2e51c-3f32-40ff-ba4e-6eab74a3158b div.sk-label label {font-family: monospace;font-weight: bold;background-color: white;display: inline-block;line-height: 1.2em;}#sk-fae2e51c-3f32-40ff-ba4e-6eab74a3158b div.sk-label-container {position: relative;z-index: 2;text-align: center;}#sk-fae2e51c-3f32-40ff-ba4e-6eab74a3158b div.sk-container {display: inline-block;position: relative;}</style><div id=\"sk-fae2e51c-3f32-40ff-ba4e-6eab74a3158b\" class\"sk-top-container\"><div class=\"sk-container\"><div class=\"sk-item sk-dashed-wrapped\"><div class=\"sk-label-container\"><div class=\"sk-label sk-toggleable\"><input class=\"sk-toggleable__control sk-hidden--visually\" id=\"89fbf567-89d1-4d15-8df0-29b75da498cd\" type=\"checkbox\" ><label class=\"sk-toggleable__label\" for=\"89fbf567-89d1-4d15-8df0-29b75da498cd\">Pipeline</label><div class=\"sk-toggleable__content\"><pre>Pipeline(steps=[('preprocessor',\n",
       "                 ColumnTransformer(transformers=[('ohe', OneHotEncoder(),\n",
       "                                                  ['Sex']),\n",
       "                                                 ('vectorizer',\n",
       "                                                  CountVectorizer(), 'Name'),\n",
       "                                                 ('imputer', SimpleImputer(),\n",
       "                                                  ['Age'])])),\n",
       "                ('feature_selector',\n",
       "                 SelectPercentile(percentile=50,\n",
       "                                  score_func=<function chi2 at 0x00000266817474C0>)),\n",
       "                ('classifier',\n",
       "                 LogisticRegression(random_state=1, solver='liblinear'))])</pre></div></div></div><div class=\"sk-serial\"><div class=\"sk-item sk-dashed-wrapped\"><div class=\"sk-label-container\"><div class=\"sk-label sk-toggleable\"><input class=\"sk-toggleable__control sk-hidden--visually\" id=\"9aebdadb-9f6f-43d8-a151-699ae6d60314\" type=\"checkbox\" ><label class=\"sk-toggleable__label\" for=\"9aebdadb-9f6f-43d8-a151-699ae6d60314\">preprocessor: ColumnTransformer</label><div class=\"sk-toggleable__content\"><pre>ColumnTransformer(transformers=[('ohe', OneHotEncoder(), ['Sex']),\n",
       "                                ('vectorizer', CountVectorizer(), 'Name'),\n",
       "                                ('imputer', SimpleImputer(), ['Age'])])</pre></div></div></div><div class=\"sk-parallel\"><div class=\"sk-parallel-item\"><div class=\"sk-item\"><div class=\"sk-label-container\"><div class=\"sk-label sk-toggleable\"><input class=\"sk-toggleable__control sk-hidden--visually\" id=\"518bd9ed-0ea4-447e-8b5e-66836a3c1a45\" type=\"checkbox\" ><label class=\"sk-toggleable__label\" for=\"518bd9ed-0ea4-447e-8b5e-66836a3c1a45\">ohe</label><div class=\"sk-toggleable__content\"><pre>['Sex']</pre></div></div></div><div class=\"sk-serial\"><div class=\"sk-item\"><div class=\"sk-estimator sk-toggleable\"><input class=\"sk-toggleable__control sk-hidden--visually\" id=\"ad1bd22f-fc05-4938-8427-b1548d59f139\" type=\"checkbox\" ><label class=\"sk-toggleable__label\" for=\"ad1bd22f-fc05-4938-8427-b1548d59f139\">OneHotEncoder</label><div class=\"sk-toggleable__content\"><pre>OneHotEncoder()</pre></div></div></div></div></div></div><div class=\"sk-parallel-item\"><div class=\"sk-item\"><div class=\"sk-label-container\"><div class=\"sk-label sk-toggleable\"><input class=\"sk-toggleable__control sk-hidden--visually\" id=\"29bcb945-653c-432e-b901-1be7a463ce2b\" type=\"checkbox\" ><label class=\"sk-toggleable__label\" for=\"29bcb945-653c-432e-b901-1be7a463ce2b\">vectorizer</label><div class=\"sk-toggleable__content\"><pre>Name</pre></div></div></div><div class=\"sk-serial\"><div class=\"sk-item\"><div class=\"sk-estimator sk-toggleable\"><input class=\"sk-toggleable__control sk-hidden--visually\" id=\"057d24f5-513c-441b-8b07-0b05bbe61a43\" type=\"checkbox\" ><label class=\"sk-toggleable__label\" for=\"057d24f5-513c-441b-8b07-0b05bbe61a43\">CountVectorizer</label><div class=\"sk-toggleable__content\"><pre>CountVectorizer()</pre></div></div></div></div></div></div><div class=\"sk-parallel-item\"><div class=\"sk-item\"><div class=\"sk-label-container\"><div class=\"sk-label sk-toggleable\"><input class=\"sk-toggleable__control sk-hidden--visually\" id=\"adf76224-98fa-47c6-b519-e7fcfee17e93\" type=\"checkbox\" ><label class=\"sk-toggleable__label\" for=\"adf76224-98fa-47c6-b519-e7fcfee17e93\">imputer</label><div class=\"sk-toggleable__content\"><pre>['Age']</pre></div></div></div><div class=\"sk-serial\"><div class=\"sk-item\"><div class=\"sk-estimator sk-toggleable\"><input class=\"sk-toggleable__control sk-hidden--visually\" id=\"ecf0d694-4a04-4aac-ab9b-878454e549d6\" type=\"checkbox\" ><label class=\"sk-toggleable__label\" for=\"ecf0d694-4a04-4aac-ab9b-878454e549d6\">SimpleImputer</label><div class=\"sk-toggleable__content\"><pre>SimpleImputer()</pre></div></div></div></div></div></div></div></div><div class=\"sk-item\"><div class=\"sk-estimator sk-toggleable\"><input class=\"sk-toggleable__control sk-hidden--visually\" id=\"8b70163d-ddb2-4097-87e4-86ca2e6c8135\" type=\"checkbox\" ><label class=\"sk-toggleable__label\" for=\"8b70163d-ddb2-4097-87e4-86ca2e6c8135\">SelectPercentile</label><div class=\"sk-toggleable__content\"><pre>SelectPercentile(percentile=50,\n",
       "                 score_func=<function chi2 at 0x00000266817474C0>)</pre></div></div></div><div class=\"sk-item\"><div class=\"sk-estimator sk-toggleable\"><input class=\"sk-toggleable__control sk-hidden--visually\" id=\"b3815f3d-cfde-4d63-b410-ac1b3e5b0753\" type=\"checkbox\" ><label class=\"sk-toggleable__label\" for=\"b3815f3d-cfde-4d63-b410-ac1b3e5b0753\">LogisticRegression</label><div class=\"sk-toggleable__content\"><pre>LogisticRegression(random_state=1, solver='liblinear')</pre></div></div></div></div></div></div></div>"
      ],
      "text/plain": [
       "Pipeline(steps=[('preprocessor',\n",
       "                 ColumnTransformer(transformers=[('ohe', OneHotEncoder(),\n",
       "                                                  ['Sex']),\n",
       "                                                 ('vectorizer',\n",
       "                                                  CountVectorizer(), 'Name'),\n",
       "                                                 ('imputer', SimpleImputer(),\n",
       "                                                  ['Age'])])),\n",
       "                ('feature_selector',\n",
       "                 SelectPercentile(percentile=50,\n",
       "                                  score_func=<function chi2 at 0x00000266817474C0>)),\n",
       "                ('classifier',\n",
       "                 LogisticRegression(random_state=1, solver='liblinear'))])"
      ]
     },
     "execution_count": 197,
     "metadata": {},
     "output_type": "execute_result"
    }
   ],
   "source": [
    "pipe"
   ]
  },
  {
   "cell_type": "markdown",
   "id": "647f82aa",
   "metadata": {},
   "source": [
    "### access step 0: preprocessor"
   ]
  },
  {
   "cell_type": "code",
   "execution_count": 198,
   "id": "765f4107",
   "metadata": {
    "ExecuteTime": {
     "end_time": "2021-10-17T18:27:37.118313Z",
     "start_time": "2021-10-17T18:27:37.080587Z"
    }
   },
   "outputs": [
    {
     "data": {
      "text/plain": [
       "<891x1512 sparse matrix of type '<class 'numpy.float64'>'\n",
       "\twith 5348 stored elements in Compressed Sparse Row format>"
      ]
     },
     "execution_count": 198,
     "metadata": {},
     "output_type": "execute_result"
    }
   ],
   "source": [
    "pipe[0].fit_transform(X)"
   ]
  },
  {
   "cell_type": "markdown",
   "id": "00f5834d",
   "metadata": {},
   "source": [
    "### access step 0 and 1: preprocessor and feature selector"
   ]
  },
  {
   "cell_type": "code",
   "execution_count": 199,
   "id": "07e50c04",
   "metadata": {
    "ExecuteTime": {
     "end_time": "2021-10-17T18:27:37.820642Z",
     "start_time": "2021-10-17T18:27:37.782888Z"
    }
   },
   "outputs": [
    {
     "data": {
      "text/plain": [
       "<891x756 sparse matrix of type '<class 'numpy.float64'>'\n",
       "\twith 4128 stored elements in Compressed Sparse Row format>"
      ]
     },
     "execution_count": 199,
     "metadata": {},
     "output_type": "execute_result"
    }
   ],
   "source": [
    "pipe[0:2].fit_transform(X, y)"
   ]
  },
  {
   "cell_type": "markdown",
   "id": "00bc5371",
   "metadata": {},
   "source": [
    "### access step 1: feature selector"
   ]
  },
  {
   "cell_type": "code",
   "execution_count": 200,
   "id": "936e6c0a",
   "metadata": {
    "ExecuteTime": {
     "end_time": "2021-10-17T18:27:38.554205Z",
     "start_time": "2021-10-17T18:27:38.522995Z"
    }
   },
   "outputs": [
    {
     "data": {
      "text/plain": [
       "array([ True,  True,  True, ...,  True, False,  True])"
      ]
     },
     "execution_count": 200,
     "metadata": {},
     "output_type": "execute_result"
    }
   ],
   "source": [
    "pipe[1].get_support()"
   ]
  },
  {
   "cell_type": "code",
   "execution_count": 201,
   "id": "e6b056c2",
   "metadata": {
    "ExecuteTime": {
     "end_time": "2021-10-17T18:27:38.601102Z",
     "start_time": "2021-10-17T18:27:38.554205Z"
    }
   },
   "outputs": [
    {
     "data": {
      "text/plain": [
       "756"
      ]
     },
     "execution_count": 201,
     "metadata": {},
     "output_type": "execute_result"
    }
   ],
   "source": [
    "sum(pipe[1].get_support())"
   ]
  },
  {
   "cell_type": "code",
   "execution_count": 202,
   "id": "8a6e60be",
   "metadata": {
    "ExecuteTime": {
     "end_time": "2021-10-17T18:27:38.623235Z",
     "start_time": "2021-10-17T18:27:38.601102Z"
    }
   },
   "outputs": [
    {
     "data": {
      "text/plain": [
       "1512"
      ]
     },
     "execution_count": 202,
     "metadata": {},
     "output_type": "execute_result"
    }
   ],
   "source": [
    "len(pipe[1].get_support())"
   ]
  },
  {
   "cell_type": "code",
   "execution_count": 203,
   "id": "a25dde3f",
   "metadata": {
    "ExecuteTime": {
     "end_time": "2021-10-17T18:27:38.654477Z",
     "start_time": "2021-10-17T18:27:38.623235Z"
    }
   },
   "outputs": [
    {
     "data": {
      "text/plain": [
       "0.5"
      ]
     },
     "execution_count": 203,
     "metadata": {},
     "output_type": "execute_result"
    }
   ],
   "source": [
    "# Percentage - Feature Selector (verifying phase)\n",
    "sum(pipe[1].get_support()) / len(pipe[1].get_support())"
   ]
  },
  {
   "cell_type": "markdown",
   "id": "cf9106b0",
   "metadata": {},
   "source": [
    "## Adapt this pattern to solve many Machine Learning problems\n",
    "\n",
    "Here's a simple pattern that can be adapted to solve many ML problems. It has plenty of shortcomings, but can work surprisingly well as-is!\n",
    "\n",
    "Shortcomings include:\n",
    "+ Assumes all columns have proper data types\n",
    "+ May include irrelevant or improper features\n",
    "+ Does not handle text or date columns well\n",
    "+ Does not include feature engineering\n",
    "+ [Ordinal encoding](https://scikit-learn.org/stable/modules/generated/sklearn.preprocessing.OrdinalEncoder.html) may be better\n",
    "+ [Other imputation strategies](https://scikit-learn.org/stable/modules/impute.html) may be better\n",
    "+ Numeric features may not need scaling\n",
    "+ A different model may be better\n",
    "+ And so on...\n",
    "\n",
    "\n",
    "Additional links: [SimpleImputer](https://scikit-learn.org/stable/modules/generated/sklearn.impute.SimpleImputer.html), [StandardScaler](https://scikit-learn.org/stable/modules/generated/sklearn.preprocessing.StandardScaler.html), [OneHotEncoder](https://scikit-learn.org/stable/modules/generated/sklearn.preprocessing.OneHotEncoder.html), [make_column_selector](https://scikit-learn.org/stable/modules/generated/sklearn.compose.make_column_selector.html)\n",
    "\n",
    "Note: Beginning in scikit-learn 0.24, OneHotEncoder can handle missing values (without the use of SimpleImputer) by treating them as a separate category.\n"
   ]
  },
  {
   "cell_type": "code",
   "execution_count": 204,
   "id": "82cd6349",
   "metadata": {
    "ExecuteTime": {
     "end_time": "2021-10-17T18:27:39.305079Z",
     "start_time": "2021-10-17T18:27:39.289459Z"
    }
   },
   "outputs": [],
   "source": [
    "import os \n",
    "\n",
    "file_input_path = \"titanic_train.csv\"\n",
    "if not os.path.exists(file_input_path):\n",
    "    df_train = pd.read_csv(\"http://bit.ly/kaggletrain\")\n",
    "    df_train.to_csv(file_input_path, header=True, index=False, sep=\"\\t\")\n",
    "else:\n",
    "    df_train = pd.read_csv(file_input_path, header=0, sep=\"\\t\")"
   ]
  },
  {
   "cell_type": "code",
   "execution_count": 205,
   "id": "e57afef0",
   "metadata": {
    "ExecuteTime": {
     "end_time": "2021-10-17T18:27:39.342831Z",
     "start_time": "2021-10-17T18:27:39.311585Z"
    }
   },
   "outputs": [],
   "source": [
    "cols = ['Pclass', 'Name', 'Sex', 'Age', 'SibSp', 'Parch', 'Ticket', 'Fare', 'Cabin', 'Embarked']"
   ]
  },
  {
   "cell_type": "code",
   "execution_count": 206,
   "id": "eb3dbec9",
   "metadata": {
    "ExecuteTime": {
     "end_time": "2021-10-17T18:27:39.374074Z",
     "start_time": "2021-10-17T18:27:39.342831Z"
    }
   },
   "outputs": [],
   "source": [
    "X, y = df_train[cols], df_train[\"Survived\"]"
   ]
  },
  {
   "cell_type": "code",
   "execution_count": 207,
   "id": "84fb4e64",
   "metadata": {
    "ExecuteTime": {
     "end_time": "2021-10-17T18:27:39.427450Z",
     "start_time": "2021-10-17T18:27:39.389696Z"
    }
   },
   "outputs": [],
   "source": [
    "import os \n",
    "\n",
    "file_input_path = \"titanic_test.csv\"\n",
    "if not os.path.exists(file_input_path):\n",
    "    df_test = pd.read_csv(\"http://bit.ly/kaggletest\")\n",
    "    df_test.to_csv(file_input_path, header=True, index=False, sep=\"\\t\")\n",
    "else:\n",
    "    df_test = pd.read_csv(file_input_path, header=0, sep=\"\\t\")"
   ]
  },
  {
   "cell_type": "code",
   "execution_count": 208,
   "id": "942faa15",
   "metadata": {
    "ExecuteTime": {
     "end_time": "2021-10-17T18:27:39.443071Z",
     "start_time": "2021-10-17T18:27:39.427450Z"
    }
   },
   "outputs": [],
   "source": [
    "df_test = df_test[:10]\n",
    "X_new = df_test[cols]"
   ]
  },
  {
   "cell_type": "code",
   "execution_count": 209,
   "id": "6cea98dc",
   "metadata": {
    "ExecuteTime": {
     "end_time": "2021-10-17T18:27:39.489935Z",
     "start_time": "2021-10-17T18:27:39.443071Z"
    }
   },
   "outputs": [],
   "source": [
    "from sklearn.preprocessing import StandardScaler, OneHotEncoder\n",
    "from sklearn.impute import SimpleImputer\n",
    "from sklearn.linear_model import LogisticRegression\n",
    "from sklearn.pipeline import make_pipeline\n",
    "from sklearn.compose import make_column_selector, make_column_transformer\n",
    "from sklearn.model_selection import cross_val_score"
   ]
  },
  {
   "cell_type": "markdown",
   "id": "0e88585f",
   "metadata": {},
   "source": [
    "### Preprocessing"
   ]
  },
  {
   "cell_type": "markdown",
   "id": "fca17888",
   "metadata": {},
   "source": [
    "#### Preprocessing for Numeric columns and Categorical columns"
   ]
  },
  {
   "cell_type": "code",
   "execution_count": 210,
   "id": "82c80d31",
   "metadata": {
    "ExecuteTime": {
     "end_time": "2021-10-17T18:27:40.915941Z",
     "start_time": "2021-10-17T18:27:40.900320Z"
    }
   },
   "outputs": [],
   "source": [
    "imputer_median = SimpleImputer(strategy=\"median\", add_indicator=True)\n",
    "scaler = StandardScaler()"
   ]
  },
  {
   "cell_type": "code",
   "execution_count": 211,
   "id": "4b65574a",
   "metadata": {
    "ExecuteTime": {
     "end_time": "2021-10-17T18:27:40.984937Z",
     "start_time": "2021-10-17T18:27:40.938073Z"
    }
   },
   "outputs": [],
   "source": [
    "imputer_constant = SimpleImputer(strategy=\"constant\")\n",
    "ohe = OneHotEncoder(handle_unknown=\"ignore\")"
   ]
  },
  {
   "cell_type": "markdown",
   "id": "91cd1e4f",
   "metadata": {},
   "source": [
    "#### Select columns by Data type"
   ]
  },
  {
   "cell_type": "code",
   "execution_count": 212,
   "id": "0f7066af",
   "metadata": {
    "ExecuteTime": {
     "end_time": "2021-10-17T18:27:41.642532Z",
     "start_time": "2021-10-17T18:27:41.620400Z"
    }
   },
   "outputs": [],
   "source": [
    "feat_numeric = make_column_selector(dtype_include=np.number)\n",
    "feat_categorical = make_column_selector(dtype_exclude=np.number)"
   ]
  },
  {
   "cell_type": "code",
   "execution_count": 213,
   "id": "03ab2635",
   "metadata": {
    "ExecuteTime": {
     "end_time": "2021-10-17T18:27:41.658153Z",
     "start_time": "2021-10-17T18:27:41.642532Z"
    }
   },
   "outputs": [],
   "source": [
    "# Pre-processing\n",
    "preprocessor = make_column_transformer(\n",
    "    (make_pipeline(imputer_median, scaler), feat_numeric),\n",
    "    (make_pipeline(imputer_constant, ohe), feat_categorical)\n",
    ")"
   ]
  },
  {
   "cell_type": "markdown",
   "id": "73902e9e",
   "metadata": {},
   "source": [
    "### Pipeline"
   ]
  },
  {
   "cell_type": "code",
   "execution_count": 214,
   "id": "5309264d",
   "metadata": {
    "ExecuteTime": {
     "end_time": "2021-10-17T18:27:42.375713Z",
     "start_time": "2021-10-17T18:27:42.360092Z"
    }
   },
   "outputs": [],
   "source": [
    "pipe = make_pipeline(\n",
    "    preprocessor,\n",
    "    LogisticRegression()\n",
    ")"
   ]
  },
  {
   "cell_type": "code",
   "execution_count": 215,
   "id": "adb305c7",
   "metadata": {
    "ExecuteTime": {
     "end_time": "2021-10-17T18:27:42.707705Z",
     "start_time": "2021-10-17T18:27:42.391334Z"
    }
   },
   "outputs": [
    {
     "data": {
      "text/plain": [
       "0.8035904839620865"
      ]
     },
     "execution_count": 215,
     "metadata": {},
     "output_type": "execute_result"
    }
   ],
   "source": [
    "cross_val_score(pipe, X, y).mean()"
   ]
  },
  {
   "cell_type": "code",
   "execution_count": 216,
   "id": "797246cc",
   "metadata": {
    "ExecuteTime": {
     "end_time": "2021-10-17T18:27:42.723327Z",
     "start_time": "2021-10-17T18:27:42.707705Z"
    }
   },
   "outputs": [],
   "source": [
    "# Train and Predict"
   ]
  },
  {
   "cell_type": "code",
   "execution_count": 217,
   "id": "c672a002",
   "metadata": {
    "ExecuteTime": {
     "end_time": "2021-10-17T18:27:42.869382Z",
     "start_time": "2021-10-17T18:27:42.723327Z"
    }
   },
   "outputs": [
    {
     "data": {
      "text/html": [
       "<style>#sk-928c9577-7e47-425e-a07b-82ae12a3a220 {color: black;background-color: white;}#sk-928c9577-7e47-425e-a07b-82ae12a3a220 pre{padding: 0;}#sk-928c9577-7e47-425e-a07b-82ae12a3a220 div.sk-toggleable {background-color: white;}#sk-928c9577-7e47-425e-a07b-82ae12a3a220 label.sk-toggleable__label {cursor: pointer;display: block;width: 100%;margin-bottom: 0;padding: 0.3em;box-sizing: border-box;text-align: center;}#sk-928c9577-7e47-425e-a07b-82ae12a3a220 div.sk-toggleable__content {max-height: 0;max-width: 0;overflow: hidden;text-align: left;background-color: #f0f8ff;}#sk-928c9577-7e47-425e-a07b-82ae12a3a220 div.sk-toggleable__content pre {margin: 0.2em;color: black;border-radius: 0.25em;background-color: #f0f8ff;}#sk-928c9577-7e47-425e-a07b-82ae12a3a220 input.sk-toggleable__control:checked~div.sk-toggleable__content {max-height: 200px;max-width: 100%;overflow: auto;}#sk-928c9577-7e47-425e-a07b-82ae12a3a220 div.sk-estimator input.sk-toggleable__control:checked~label.sk-toggleable__label {background-color: #d4ebff;}#sk-928c9577-7e47-425e-a07b-82ae12a3a220 div.sk-label input.sk-toggleable__control:checked~label.sk-toggleable__label {background-color: #d4ebff;}#sk-928c9577-7e47-425e-a07b-82ae12a3a220 input.sk-hidden--visually {border: 0;clip: rect(1px 1px 1px 1px);clip: rect(1px, 1px, 1px, 1px);height: 1px;margin: -1px;overflow: hidden;padding: 0;position: absolute;width: 1px;}#sk-928c9577-7e47-425e-a07b-82ae12a3a220 div.sk-estimator {font-family: monospace;background-color: #f0f8ff;border: 1px dotted black;border-radius: 0.25em;box-sizing: border-box;margin-bottom: 0.5em;}#sk-928c9577-7e47-425e-a07b-82ae12a3a220 div.sk-estimator:hover {background-color: #d4ebff;}#sk-928c9577-7e47-425e-a07b-82ae12a3a220 div.sk-parallel-item::after {content: \"\";width: 100%;border-bottom: 1px solid gray;flex-grow: 1;}#sk-928c9577-7e47-425e-a07b-82ae12a3a220 div.sk-label:hover label.sk-toggleable__label {background-color: #d4ebff;}#sk-928c9577-7e47-425e-a07b-82ae12a3a220 div.sk-serial::before {content: \"\";position: absolute;border-left: 1px solid gray;box-sizing: border-box;top: 2em;bottom: 0;left: 50%;}#sk-928c9577-7e47-425e-a07b-82ae12a3a220 div.sk-serial {display: flex;flex-direction: column;align-items: center;background-color: white;padding-right: 0.2em;padding-left: 0.2em;}#sk-928c9577-7e47-425e-a07b-82ae12a3a220 div.sk-item {z-index: 1;}#sk-928c9577-7e47-425e-a07b-82ae12a3a220 div.sk-parallel {display: flex;align-items: stretch;justify-content: center;background-color: white;}#sk-928c9577-7e47-425e-a07b-82ae12a3a220 div.sk-parallel::before {content: \"\";position: absolute;border-left: 1px solid gray;box-sizing: border-box;top: 2em;bottom: 0;left: 50%;}#sk-928c9577-7e47-425e-a07b-82ae12a3a220 div.sk-parallel-item {display: flex;flex-direction: column;position: relative;background-color: white;}#sk-928c9577-7e47-425e-a07b-82ae12a3a220 div.sk-parallel-item:first-child::after {align-self: flex-end;width: 50%;}#sk-928c9577-7e47-425e-a07b-82ae12a3a220 div.sk-parallel-item:last-child::after {align-self: flex-start;width: 50%;}#sk-928c9577-7e47-425e-a07b-82ae12a3a220 div.sk-parallel-item:only-child::after {width: 0;}#sk-928c9577-7e47-425e-a07b-82ae12a3a220 div.sk-dashed-wrapped {border: 1px dashed gray;margin: 0 0.4em 0.5em 0.4em;box-sizing: border-box;padding-bottom: 0.4em;background-color: white;position: relative;}#sk-928c9577-7e47-425e-a07b-82ae12a3a220 div.sk-label label {font-family: monospace;font-weight: bold;background-color: white;display: inline-block;line-height: 1.2em;}#sk-928c9577-7e47-425e-a07b-82ae12a3a220 div.sk-label-container {position: relative;z-index: 2;text-align: center;}#sk-928c9577-7e47-425e-a07b-82ae12a3a220 div.sk-container {display: inline-block;position: relative;}</style><div id=\"sk-928c9577-7e47-425e-a07b-82ae12a3a220\" class\"sk-top-container\"><div class=\"sk-container\"><div class=\"sk-item sk-dashed-wrapped\"><div class=\"sk-label-container\"><div class=\"sk-label sk-toggleable\"><input class=\"sk-toggleable__control sk-hidden--visually\" id=\"58eea066-d883-4000-8450-8183e3023413\" type=\"checkbox\" ><label class=\"sk-toggleable__label\" for=\"58eea066-d883-4000-8450-8183e3023413\">Pipeline</label><div class=\"sk-toggleable__content\"><pre>Pipeline(steps=[('columntransformer',\n",
       "                 ColumnTransformer(transformers=[('pipeline-1',\n",
       "                                                  Pipeline(steps=[('simpleimputer',\n",
       "                                                                   SimpleImputer(add_indicator=True,\n",
       "                                                                                 strategy='median')),\n",
       "                                                                  ('standardscaler',\n",
       "                                                                   StandardScaler())]),\n",
       "                                                  <sklearn.compose._column_transformer.make_column_selector object at 0x0000026681B67430>),\n",
       "                                                 ('pipeline-2',\n",
       "                                                  Pipeline(steps=[('simpleimputer',\n",
       "                                                                   SimpleImputer(strategy='constant')),\n",
       "                                                                  ('onehotencoder',\n",
       "                                                                   OneHotEncoder(handle_unknown='ignore'))]),\n",
       "                                                  <sklearn.compose._column_transformer.make_column_selector object at 0x0000026681B67490>)])),\n",
       "                ('logisticregression', LogisticRegression())])</pre></div></div></div><div class=\"sk-serial\"><div class=\"sk-item sk-dashed-wrapped\"><div class=\"sk-label-container\"><div class=\"sk-label sk-toggleable\"><input class=\"sk-toggleable__control sk-hidden--visually\" id=\"e38a45ad-79da-4e5d-be75-95a9d7d1987b\" type=\"checkbox\" ><label class=\"sk-toggleable__label\" for=\"e38a45ad-79da-4e5d-be75-95a9d7d1987b\">columntransformer: ColumnTransformer</label><div class=\"sk-toggleable__content\"><pre>ColumnTransformer(transformers=[('pipeline-1',\n",
       "                                 Pipeline(steps=[('simpleimputer',\n",
       "                                                  SimpleImputer(add_indicator=True,\n",
       "                                                                strategy='median')),\n",
       "                                                 ('standardscaler',\n",
       "                                                  StandardScaler())]),\n",
       "                                 <sklearn.compose._column_transformer.make_column_selector object at 0x0000026681B67430>),\n",
       "                                ('pipeline-2',\n",
       "                                 Pipeline(steps=[('simpleimputer',\n",
       "                                                  SimpleImputer(strategy='constant')),\n",
       "                                                 ('onehotencoder',\n",
       "                                                  OneHotEncoder(handle_unknown='ignore'))]),\n",
       "                                 <sklearn.compose._column_transformer.make_column_selector object at 0x0000026681B67490>)])</pre></div></div></div><div class=\"sk-parallel\"><div class=\"sk-parallel-item\"><div class=\"sk-item\"><div class=\"sk-label-container\"><div class=\"sk-label sk-toggleable\"><input class=\"sk-toggleable__control sk-hidden--visually\" id=\"d98f9293-5911-4b26-80e8-2244ae2aa5f9\" type=\"checkbox\" ><label class=\"sk-toggleable__label\" for=\"d98f9293-5911-4b26-80e8-2244ae2aa5f9\">pipeline-1</label><div class=\"sk-toggleable__content\"><pre><sklearn.compose._column_transformer.make_column_selector object at 0x0000026681B67430></pre></div></div></div><div class=\"sk-serial\"><div class=\"sk-item\"><div class=\"sk-serial\"><div class=\"sk-item\"><div class=\"sk-estimator sk-toggleable\"><input class=\"sk-toggleable__control sk-hidden--visually\" id=\"8c591260-2160-4aff-a21d-353a31d0fd07\" type=\"checkbox\" ><label class=\"sk-toggleable__label\" for=\"8c591260-2160-4aff-a21d-353a31d0fd07\">SimpleImputer</label><div class=\"sk-toggleable__content\"><pre>SimpleImputer(add_indicator=True, strategy='median')</pre></div></div></div><div class=\"sk-item\"><div class=\"sk-estimator sk-toggleable\"><input class=\"sk-toggleable__control sk-hidden--visually\" id=\"be5b52eb-9aa3-4968-9318-6ab9a5e3d834\" type=\"checkbox\" ><label class=\"sk-toggleable__label\" for=\"be5b52eb-9aa3-4968-9318-6ab9a5e3d834\">StandardScaler</label><div class=\"sk-toggleable__content\"><pre>StandardScaler()</pre></div></div></div></div></div></div></div></div><div class=\"sk-parallel-item\"><div class=\"sk-item\"><div class=\"sk-label-container\"><div class=\"sk-label sk-toggleable\"><input class=\"sk-toggleable__control sk-hidden--visually\" id=\"74074edc-a52c-4244-aeaf-e786a1e92f04\" type=\"checkbox\" ><label class=\"sk-toggleable__label\" for=\"74074edc-a52c-4244-aeaf-e786a1e92f04\">pipeline-2</label><div class=\"sk-toggleable__content\"><pre><sklearn.compose._column_transformer.make_column_selector object at 0x0000026681B67490></pre></div></div></div><div class=\"sk-serial\"><div class=\"sk-item\"><div class=\"sk-serial\"><div class=\"sk-item\"><div class=\"sk-estimator sk-toggleable\"><input class=\"sk-toggleable__control sk-hidden--visually\" id=\"53bd699d-72bd-4ac1-9c2c-a2a967b53d6a\" type=\"checkbox\" ><label class=\"sk-toggleable__label\" for=\"53bd699d-72bd-4ac1-9c2c-a2a967b53d6a\">SimpleImputer</label><div class=\"sk-toggleable__content\"><pre>SimpleImputer(strategy='constant')</pre></div></div></div><div class=\"sk-item\"><div class=\"sk-estimator sk-toggleable\"><input class=\"sk-toggleable__control sk-hidden--visually\" id=\"cfd34cab-552f-4ef9-bdd2-1c8f3e305cb3\" type=\"checkbox\" ><label class=\"sk-toggleable__label\" for=\"cfd34cab-552f-4ef9-bdd2-1c8f3e305cb3\">OneHotEncoder</label><div class=\"sk-toggleable__content\"><pre>OneHotEncoder(handle_unknown='ignore')</pre></div></div></div></div></div></div></div></div></div></div><div class=\"sk-item\"><div class=\"sk-estimator sk-toggleable\"><input class=\"sk-toggleable__control sk-hidden--visually\" id=\"891034ea-a749-4772-acee-83678a7b220c\" type=\"checkbox\" ><label class=\"sk-toggleable__label\" for=\"891034ea-a749-4772-acee-83678a7b220c\">LogisticRegression</label><div class=\"sk-toggleable__content\"><pre>LogisticRegression()</pre></div></div></div></div></div></div></div>"
      ],
      "text/plain": [
       "Pipeline(steps=[('columntransformer',\n",
       "                 ColumnTransformer(transformers=[('pipeline-1',\n",
       "                                                  Pipeline(steps=[('simpleimputer',\n",
       "                                                                   SimpleImputer(add_indicator=True,\n",
       "                                                                                 strategy='median')),\n",
       "                                                                  ('standardscaler',\n",
       "                                                                   StandardScaler())]),\n",
       "                                                  <sklearn.compose._column_transformer.make_column_selector object at 0x0000026681B67430>),\n",
       "                                                 ('pipeline-2',\n",
       "                                                  Pipeline(steps=[('simpleimputer',\n",
       "                                                                   SimpleImputer(strategy='constant')),\n",
       "                                                                  ('onehotencoder',\n",
       "                                                                   OneHotEncoder(handle_unknown='ignore'))]),\n",
       "                                                  <sklearn.compose._column_transformer.make_column_selector object at 0x0000026681B67490>)])),\n",
       "                ('logisticregression', LogisticRegression())])"
      ]
     },
     "execution_count": 217,
     "metadata": {},
     "output_type": "execute_result"
    }
   ],
   "source": [
    "pipe.fit(X, y)"
   ]
  },
  {
   "cell_type": "code",
   "execution_count": 218,
   "id": "f43a6dbb",
   "metadata": {
    "ExecuteTime": {
     "end_time": "2021-10-17T18:27:42.916217Z",
     "start_time": "2021-10-17T18:27:42.884975Z"
    }
   },
   "outputs": [
    {
     "data": {
      "text/plain": [
       "array([0, 0, 0, 0, 1, 0, 1, 0, 1, 0], dtype=int64)"
      ]
     },
     "execution_count": 218,
     "metadata": {},
     "output_type": "execute_result"
    }
   ],
   "source": [
    "pipe.predict(X_new)"
   ]
  },
  {
   "cell_type": "markdown",
   "id": "ed8a1e5f-0bd7-4e0c-bce2-12da0767adf0",
   "metadata": {},
   "source": [
    "# Parameter Tuning\n"
   ]
  },
  {
   "cell_type": "markdown",
   "id": "d9b2ccca-3d60-44b5-981a-926032523581",
   "metadata": {},
   "source": [
    "## Use cross_val_score and GridSearchCV on a Pipeline\n",
    "\n",
    "Preprocessing steps will automatically occur AFTER each cross-validation split, which is critical if you want meaningful scores."
   ]
  },
  {
   "cell_type": "code",
   "execution_count": 219,
   "id": "2d8cf1df",
   "metadata": {},
   "outputs": [],
   "source": [
    "from sklearn.preprocessing import OneHotEncoder\n",
    "from sklearn.feature_extraction.text import CountVectorizer\n",
    "from sklearn.compose import make_column_transformer"
   ]
  },
  {
   "cell_type": "code",
   "execution_count": 220,
   "id": "776761a1-2669-4e94-a64c-75980c5795d2",
   "metadata": {},
   "outputs": [],
   "source": [
    "file_input_path = \"titanic_train.csv\"\n",
    "if not os.path.exists(file_input_path):\n",
    "    df_train = pd.read_csv(\"http://bit.ly/kaggletrain\")\n",
    "    df_train.to_csv(file_input_path, header=True, index=False, sep=\"\\t\")\n",
    "else:\n",
    "    df_train = pd.read_csv(file_input_path, header=0, sep=\"\\t\")"
   ]
  },
  {
   "cell_type": "code",
   "execution_count": 221,
   "id": "238239ee-59b6-44a1-8df3-9ae925a4293a",
   "metadata": {},
   "outputs": [],
   "source": [
    "X, y = df_train[[\"Sex\", \"Name\"]], df_train[\"Survived\"]"
   ]
  },
  {
   "cell_type": "code",
   "execution_count": 222,
   "id": "8c95861a",
   "metadata": {},
   "outputs": [],
   "source": [
    "col_transformer = make_column_transformer(\n",
    "    (OneHotEncoder(), [\"Sex\"]),\n",
    "    (CountVectorizer(), \"Name\")\n",
    ")"
   ]
  },
  {
   "cell_type": "code",
   "execution_count": 223,
   "id": "ebb7f48a",
   "metadata": {},
   "outputs": [],
   "source": [
    "from sklearn.linear_model import LogisticRegression\n",
    "clf = LogisticRegression(solver=\"liblinear\", random_state=1)"
   ]
  },
  {
   "cell_type": "code",
   "execution_count": 224,
   "id": "f5928a3d",
   "metadata": {},
   "outputs": [],
   "source": [
    "from sklearn.pipeline import make_pipeline\n",
    "pipe = make_pipeline(col_transformer, clf)"
   ]
  },
  {
   "cell_type": "markdown",
   "id": "534e3af3-84f5-4a04-8170-a0168aba36f8",
   "metadata": {
    "tags": []
   },
   "source": [
    "### Cross validate the entire pipeline, instead of the model"
   ]
  },
  {
   "cell_type": "code",
   "execution_count": 225,
   "id": "ff876223",
   "metadata": {},
   "outputs": [
    {
     "data": {
      "text/plain": [
       "0.8024543343167408"
      ]
     },
     "execution_count": 225,
     "metadata": {},
     "output_type": "execute_result"
    }
   ],
   "source": [
    "from sklearn.model_selection import cross_val_score\n",
    "cross_val_score(pipe, X, y, cv=5, scoring=\"accuracy\").mean()"
   ]
  },
  {
   "cell_type": "markdown",
   "id": "420ebd0c-d404-461c-bb0c-e0301c2c4261",
   "metadata": {},
   "source": [
    "### Find the optimal tuning parameter"
   ]
  },
  {
   "cell_type": "code",
   "execution_count": 226,
   "id": "9c90ae00",
   "metadata": {},
   "outputs": [],
   "source": [
    "# specify parameter values to search\n",
    "params = {}\n",
    "params['columntransformer__countvectorizer__min_df'] = [1, 2]\n",
    "params['logisticregression__C'] = [0.1, 1, 10]\n",
    "params['logisticregression__penalty'] = ['l1', 'l2']"
   ]
  },
  {
   "cell_type": "code",
   "execution_count": 227,
   "id": "d45448fc-e5bf-49df-be51-f298827bb0b9",
   "metadata": {},
   "outputs": [],
   "source": [
    "# try all possible combinations of those parameter values\n",
    "from sklearn.model_selection import GridSearchCV\n",
    "grid = GridSearchCV(pipe, params, cv=5, scoring='accuracy')\n",
    "grid.fit(X, y);"
   ]
  },
  {
   "cell_type": "code",
   "execution_count": 228,
   "id": "f85cc1cf-9c33-4bca-91ac-f236d41668ea",
   "metadata": {},
   "outputs": [
    {
     "data": {
      "text/plain": [
       "0.8215177954930638"
      ]
     },
     "execution_count": 228,
     "metadata": {},
     "output_type": "execute_result"
    }
   ],
   "source": [
    "# what was the best score found during the search?\n",
    "grid.best_score_"
   ]
  },
  {
   "cell_type": "code",
   "execution_count": 229,
   "id": "7c7ebf30-c9b5-4b4f-ae0c-ba6088974792",
   "metadata": {},
   "outputs": [
    {
     "data": {
      "text/plain": [
       "{'columntransformer__countvectorizer__min_df': 1,\n",
       " 'logisticregression__C': 1,\n",
       " 'logisticregression__penalty': 'l1'}"
      ]
     },
     "execution_count": 229,
     "metadata": {},
     "output_type": "execute_result"
    }
   ],
   "source": [
    "# which combination of parameters produced the best score?\n",
    "grid.best_params_"
   ]
  },
  {
   "cell_type": "markdown",
   "id": "574a878b-e365-4564-bdee-7223ec09dc7d",
   "metadata": {},
   "source": [
    "## When GridSearchCV takes too long, try RandomizedSearchCV\n",
    "\n",
    "[GridSearchCV](https://scikit-learn.org/stable/modules/generated/sklearn.model_selection.GridSearchCV.html) taking too long? Try [RandomizedSearchCV](https://scikit-learn.org/stable/modules/generated/sklearn.model_selection.RandomizedSearchCV.html) with a small number of iterations.\n",
    "\n",
    "Make sure to specify a [distribution](https://docs.scipy.org/doc/scipy/reference/stats.html) (instead of a list of values) for continuous parameters!\n",
    "\n",
    "Additional links: [np.linspace](https://numpy.org/doc/stable/reference/generated/numpy.linspace.html), [np.logspace](https://numpy.org/doc/stable/reference/generated/numpy.logspace.html)"
   ]
  },
  {
   "cell_type": "code",
   "execution_count": 230,
   "id": "fb34558c-77e3-4ab9-8cff-6dd9997a44eb",
   "metadata": {},
   "outputs": [],
   "source": [
    "file_input_path = \"titanic_train.csv\"\n",
    "if not os.path.exists(file_input_path):\n",
    "    df_train = pd.read_csv(\"http://bit.ly/kaggletrain\")\n",
    "    df_train.to_csv(file_input_path, header=True, index=False, sep=\"\\t\")\n",
    "else:\n",
    "    df_train = pd.read_csv(file_input_path, header=0, sep=\"\\t\")"
   ]
  },
  {
   "cell_type": "code",
   "execution_count": 231,
   "id": "e66c1a50-581d-4437-9dd1-3fbff2a17115",
   "metadata": {},
   "outputs": [],
   "source": [
    "X, y = df_train[\"Name\"], df_train[\"Survived\"]"
   ]
  },
  {
   "cell_type": "code",
   "execution_count": 232,
   "id": "ff157865-9d66-484b-9d83-a7667a4b1ea5",
   "metadata": {},
   "outputs": [],
   "source": [
    "from sklearn.feature_extraction.text import CountVectorizer\n",
    "from sklearn.naive_bayes import MultinomialNB\n",
    "from sklearn.pipeline import make_pipeline"
   ]
  },
  {
   "cell_type": "code",
   "execution_count": 233,
   "id": "a9fb27f1-68e7-4baf-9c9e-c6a9ba4bad7d",
   "metadata": {},
   "outputs": [],
   "source": [
    "pipe = make_pipeline(\n",
    "    CountVectorizer(),\n",
    "    MultinomialNB()\n",
    ")"
   ]
  },
  {
   "cell_type": "markdown",
   "id": "e092567a-2a3e-45aa-8ebd-f1f157b63666",
   "metadata": {},
   "source": [
    "### cross-validate the pipeline using default parameters"
   ]
  },
  {
   "cell_type": "code",
   "execution_count": 234,
   "id": "708b2a9c",
   "metadata": {},
   "outputs": [
    {
     "data": {
      "text/plain": [
       "0.8001820350260498"
      ]
     },
     "execution_count": 234,
     "metadata": {},
     "output_type": "execute_result"
    }
   ],
   "source": [
    "from sklearn.model_selection import cross_val_score\n",
    "cross_val_score(pipe, X, y, cv=5, scoring='accuracy').mean()"
   ]
  },
  {
   "cell_type": "markdown",
   "id": "2485cb18-ded1-4908-84df-c7d1e02cd629",
   "metadata": {},
   "source": [
    "### specify parameter values to search (use a distribution for any continuous parameters)"
   ]
  },
  {
   "cell_type": "code",
   "execution_count": 235,
   "id": "00cd2b83-c1c2-42c7-ac83-b4fd35c375a2",
   "metadata": {},
   "outputs": [],
   "source": [
    "import scipy as sp\n",
    "params = {}\n",
    "params['countvectorizer__min_df'] = [1, 2, 3, 4]\n",
    "params['countvectorizer__lowercase'] = [True, False]\n",
    "params['multinomialnb__alpha'] = sp.stats.uniform(scale=1)"
   ]
  },
  {
   "cell_type": "code",
   "execution_count": 236,
   "id": "b8f861c1-f739-4b46-8823-d606d13ed566",
   "metadata": {},
   "outputs": [],
   "source": [
    "# try \"n_iter\" random combinations of those parameter values\n",
    "from sklearn.model_selection import RandomizedSearchCV\n",
    "rand = RandomizedSearchCV(pipe, params, n_iter=10, cv=5, scoring='accuracy', random_state=1)\n",
    "rand.fit(X, y);"
   ]
  },
  {
   "cell_type": "code",
   "execution_count": 237,
   "id": "a1141430-e1ea-48b9-a124-0887b2569e9f",
   "metadata": {},
   "outputs": [
    {
     "data": {
      "text/plain": [
       "0.8080534806352395"
      ]
     },
     "execution_count": 237,
     "metadata": {},
     "output_type": "execute_result"
    }
   ],
   "source": [
    "# what was the best score found during the search?\n",
    "rand.best_score_"
   ]
  },
  {
   "cell_type": "code",
   "execution_count": 238,
   "id": "fea8ee9f-d005-4d39-8178-fcf4f3f8b504",
   "metadata": {},
   "outputs": [
    {
     "data": {
      "text/plain": [
       "{'countvectorizer__lowercase': False,\n",
       " 'countvectorizer__min_df': 3,\n",
       " 'multinomialnb__alpha': 0.1981014890848788}"
      ]
     },
     "execution_count": 238,
     "metadata": {},
     "output_type": "execute_result"
    }
   ],
   "source": [
    "# which combination of parameters produced the best score?\n",
    "rand.best_params_"
   ]
  },
  {
   "cell_type": "markdown",
   "id": "ae31ccdb-1896-44e1-bf6a-f8b6cb1bbd9d",
   "metadata": {},
   "source": [
    "## Display GridSearchCV and RandomizedSearchCV results in a DataFrame\n",
    "\n",
    "Hyperparameter search results (from GridSearchCV or RandomizedSearchCV) can be converted into a pandas DataFrame.\n",
    "\n",
    "Makes it far easier to explore the results!"
   ]
  },
  {
   "cell_type": "code",
   "execution_count": 239,
   "id": "3032b9bf-b670-4cc9-bc1e-0970935a73fe",
   "metadata": {},
   "outputs": [],
   "source": [
    "file_input_path = \"titanic_train.csv\"\n",
    "if not os.path.exists(file_input_path):\n",
    "    df_train = pd.read_csv(\"http://bit.ly/kaggletrain\")\n",
    "    df_train.to_csv(file_input_path, header=True, index=False, sep=\"\\t\")\n",
    "else:\n",
    "    df_train = pd.read_csv(file_input_path, header=0, sep=\"\\t\")"
   ]
  },
  {
   "cell_type": "code",
   "execution_count": 240,
   "id": "a3778752-55b1-4213-841e-eab0cf133168",
   "metadata": {},
   "outputs": [],
   "source": [
    "X = df_train[['Pclass', 'Sex', 'Name']]\n",
    "y = df_train['Survived']"
   ]
  },
  {
   "cell_type": "code",
   "execution_count": 241,
   "id": "c1866a91-2964-4ac0-a93b-69f5b2701f07",
   "metadata": {},
   "outputs": [],
   "source": [
    "from sklearn.preprocessing import OneHotEncoder\n",
    "from sklearn.feature_extraction.text import CountVectorizer\n",
    "from sklearn.linear_model import LogisticRegression\n",
    "from sklearn.compose import make_column_transformer\n",
    "from sklearn.pipeline import Pipeline"
   ]
  },
  {
   "cell_type": "code",
   "execution_count": 242,
   "id": "f131d960-8d15-42e8-a0d3-1952cc7b6ac2",
   "metadata": {},
   "outputs": [],
   "source": [
    "col_transformer = make_column_transformer(\n",
    "    (OneHotEncoder(), [\"Sex\"]),\n",
    "    (CountVectorizer(), \"Name\"),\n",
    "    remainder=\"passthrough\"\n",
    ")"
   ]
  },
  {
   "cell_type": "code",
   "execution_count": 243,
   "id": "c1182c0b-77e9-41f4-a5b1-f669045747c8",
   "metadata": {},
   "outputs": [],
   "source": [
    "clf = LogisticRegression(solver=\"liblinear\", random_state=1)"
   ]
  },
  {
   "cell_type": "code",
   "execution_count": 244,
   "id": "49699641-3eb0-4fcf-aedd-e4d03e6c46aa",
   "metadata": {},
   "outputs": [],
   "source": [
    "pipe = Pipeline(\n",
    "    [\n",
    "        (\"preprocessor\", col_transformer),\n",
    "        (\"model\", clf)\n",
    "    ]\n",
    ")"
   ]
  },
  {
   "cell_type": "code",
   "execution_count": 245,
   "id": "b75412f2-eb07-4131-9103-9f5c7b8e5de0",
   "metadata": {},
   "outputs": [],
   "source": [
    "# specify parameter values to search\n",
    "params = {}\n",
    "params['model__C'] = [0.1, 1, 10]\n",
    "params['model__penalty'] = ['l1', 'l2']"
   ]
  },
  {
   "cell_type": "code",
   "execution_count": 246,
   "id": "8d3a4e3f-0301-410e-ab17-a0d317064b69",
   "metadata": {},
   "outputs": [],
   "source": [
    "# try all possible combinations of those parameter values\n",
    "from sklearn.model_selection import GridSearchCV\n",
    "grid = GridSearchCV(pipe, params, cv=5, scoring='accuracy')\n",
    "grid.fit(X, y);"
   ]
  },
  {
   "cell_type": "code",
   "execution_count": 247,
   "id": "4da0a172-c285-4109-ae0a-c1d1fdd41632",
   "metadata": {},
   "outputs": [],
   "source": [
    "# convert results into a DataFrame\n",
    "results = pd.DataFrame(grid.cv_results_)[['params', 'mean_test_score', 'rank_test_score']]"
   ]
  },
  {
   "cell_type": "code",
   "execution_count": 248,
   "id": "70492410-3666-41e4-abeb-b9cfbc92f876",
   "metadata": {},
   "outputs": [
    {
     "data": {
      "text/html": [
       "<div>\n",
       "<style scoped>\n",
       "    .dataframe tbody tr th:only-of-type {\n",
       "        vertical-align: middle;\n",
       "    }\n",
       "\n",
       "    .dataframe tbody tr th {\n",
       "        vertical-align: top;\n",
       "    }\n",
       "\n",
       "    .dataframe thead th {\n",
       "        text-align: right;\n",
       "    }\n",
       "</style>\n",
       "<table border=\"1\" class=\"dataframe\">\n",
       "  <thead>\n",
       "    <tr style=\"text-align: right;\">\n",
       "      <th></th>\n",
       "      <th>params</th>\n",
       "      <th>mean_test_score</th>\n",
       "      <th>rank_test_score</th>\n",
       "    </tr>\n",
       "  </thead>\n",
       "  <tbody>\n",
       "    <tr>\n",
       "      <th>4</th>\n",
       "      <td>{'model__C': 10, 'model__penalty': 'l1'}</td>\n",
       "      <td>0.821537</td>\n",
       "      <td>1</td>\n",
       "    </tr>\n",
       "    <tr>\n",
       "      <th>2</th>\n",
       "      <td>{'model__C': 1, 'model__penalty': 'l1'}</td>\n",
       "      <td>0.820394</td>\n",
       "      <td>2</td>\n",
       "    </tr>\n",
       "    <tr>\n",
       "      <th>5</th>\n",
       "      <td>{'model__C': 10, 'model__penalty': 'l2'}</td>\n",
       "      <td>0.817055</td>\n",
       "      <td>3</td>\n",
       "    </tr>\n",
       "    <tr>\n",
       "      <th>3</th>\n",
       "      <td>{'model__C': 1, 'model__penalty': 'l2'}</td>\n",
       "      <td>0.812573</td>\n",
       "      <td>4</td>\n",
       "    </tr>\n",
       "    <tr>\n",
       "      <th>1</th>\n",
       "      <td>{'model__C': 0.1, 'model__penalty': 'l2'}</td>\n",
       "      <td>0.791225</td>\n",
       "      <td>5</td>\n",
       "    </tr>\n",
       "    <tr>\n",
       "      <th>0</th>\n",
       "      <td>{'model__C': 0.1, 'model__penalty': 'l1'}</td>\n",
       "      <td>0.788984</td>\n",
       "      <td>6</td>\n",
       "    </tr>\n",
       "  </tbody>\n",
       "</table>\n",
       "</div>"
      ],
      "text/plain": [
       "                                      params  mean_test_score  rank_test_score\n",
       "4   {'model__C': 10, 'model__penalty': 'l1'}         0.821537                1\n",
       "2    {'model__C': 1, 'model__penalty': 'l1'}         0.820394                2\n",
       "5   {'model__C': 10, 'model__penalty': 'l2'}         0.817055                3\n",
       "3    {'model__C': 1, 'model__penalty': 'l2'}         0.812573                4\n",
       "1  {'model__C': 0.1, 'model__penalty': 'l2'}         0.791225                5\n",
       "0  {'model__C': 0.1, 'model__penalty': 'l1'}         0.788984                6"
      ]
     },
     "execution_count": 248,
     "metadata": {},
     "output_type": "execute_result"
    }
   ],
   "source": [
    "# sort by test score\n",
    "results.sort_values('rank_test_score')"
   ]
  },
  {
   "cell_type": "markdown",
   "id": "12d1e82d-b7b6-4af6-9063-31e33a20ead7",
   "metadata": {},
   "source": [
    "## Important tuning parameter for LogisticRegression\n",
    "\n",
    "Some important tuning parameters for [LogisticRegression](https://scikit-learn.org/stable/modules/linear_model.html#logistic-regression):\n",
    "+ C: inverse of regularization strength\n",
    "+ penalty: type of regularization\n",
    "+ solver: algorithm used for optimization"
   ]
  },
  {
   "cell_type": "markdown",
   "id": "6983f9ea-37b5-4183-a684-3b8f0cef3152",
   "metadata": {},
   "source": [
    "## Prune a decision tree to avoid overfitting\n",
    "\n",
    "New in scikit-learn 0.22: Pruning of decision trees to avoid overfitting!\n",
    "+ Uses cost-complexity pruning\n",
    "+ Increase \"ccp_alpha\" to increase pruning (default value is 0)\n",
    "\n",
    "Ref: [DecisionTreeClassifier](https://scikit-learn.org/stable/modules/generated/sklearn.tree.DecisionTreeClassifier.html)"
   ]
  },
  {
   "cell_type": "code",
   "execution_count": 249,
   "id": "dc3b3fe7-fb3f-4262-8f41-d156b3ca7a29",
   "metadata": {},
   "outputs": [],
   "source": [
    "file_input_path = \"titanic_train.csv\"\n",
    "if not os.path.exists(file_input_path):\n",
    "    df_train = pd.read_csv(\"http://bit.ly/kaggletrain\")\n",
    "    df_train.to_csv(file_input_path, header=True, index=False, sep=\"\\t\")\n",
    "else:\n",
    "    df_train = pd.read_csv(file_input_path, header=0, sep=\"\\t\")"
   ]
  },
  {
   "cell_type": "code",
   "execution_count": 250,
   "id": "d1f4c94a",
   "metadata": {},
   "outputs": [
    {
     "data": {
      "text/html": [
       "<div>\n",
       "<style scoped>\n",
       "    .dataframe tbody tr th:only-of-type {\n",
       "        vertical-align: middle;\n",
       "    }\n",
       "\n",
       "    .dataframe tbody tr th {\n",
       "        vertical-align: top;\n",
       "    }\n",
       "\n",
       "    .dataframe thead th {\n",
       "        text-align: right;\n",
       "    }\n",
       "</style>\n",
       "<table border=\"1\" class=\"dataframe\">\n",
       "  <thead>\n",
       "    <tr style=\"text-align: right;\">\n",
       "      <th></th>\n",
       "      <th>PassengerId</th>\n",
       "      <th>Survived</th>\n",
       "      <th>Pclass</th>\n",
       "      <th>Name</th>\n",
       "      <th>Sex</th>\n",
       "      <th>Age</th>\n",
       "      <th>SibSp</th>\n",
       "      <th>Parch</th>\n",
       "      <th>Ticket</th>\n",
       "      <th>Fare</th>\n",
       "      <th>Cabin</th>\n",
       "      <th>Embarked</th>\n",
       "    </tr>\n",
       "  </thead>\n",
       "  <tbody>\n",
       "    <tr>\n",
       "      <th>0</th>\n",
       "      <td>1</td>\n",
       "      <td>0</td>\n",
       "      <td>3</td>\n",
       "      <td>Braund, Mr. Owen Harris</td>\n",
       "      <td>male</td>\n",
       "      <td>22.0</td>\n",
       "      <td>1</td>\n",
       "      <td>0</td>\n",
       "      <td>A/5 21171</td>\n",
       "      <td>7.2500</td>\n",
       "      <td>NaN</td>\n",
       "      <td>S</td>\n",
       "    </tr>\n",
       "    <tr>\n",
       "      <th>1</th>\n",
       "      <td>2</td>\n",
       "      <td>1</td>\n",
       "      <td>1</td>\n",
       "      <td>Cumings, Mrs. John Bradley (Florence Briggs Th...</td>\n",
       "      <td>female</td>\n",
       "      <td>38.0</td>\n",
       "      <td>1</td>\n",
       "      <td>0</td>\n",
       "      <td>PC 17599</td>\n",
       "      <td>71.2833</td>\n",
       "      <td>C85</td>\n",
       "      <td>C</td>\n",
       "    </tr>\n",
       "    <tr>\n",
       "      <th>2</th>\n",
       "      <td>3</td>\n",
       "      <td>1</td>\n",
       "      <td>3</td>\n",
       "      <td>Heikkinen, Miss. Laina</td>\n",
       "      <td>female</td>\n",
       "      <td>26.0</td>\n",
       "      <td>0</td>\n",
       "      <td>0</td>\n",
       "      <td>STON/O2. 3101282</td>\n",
       "      <td>7.9250</td>\n",
       "      <td>NaN</td>\n",
       "      <td>S</td>\n",
       "    </tr>\n",
       "  </tbody>\n",
       "</table>\n",
       "</div>"
      ],
      "text/plain": [
       "   PassengerId  Survived  Pclass  \\\n",
       "0            1         0       3   \n",
       "1            2         1       1   \n",
       "2            3         1       3   \n",
       "\n",
       "                                                Name     Sex   Age  SibSp  \\\n",
       "0                            Braund, Mr. Owen Harris    male  22.0      1   \n",
       "1  Cumings, Mrs. John Bradley (Florence Briggs Th...  female  38.0      1   \n",
       "2                             Heikkinen, Miss. Laina  female  26.0      0   \n",
       "\n",
       "   Parch            Ticket     Fare Cabin Embarked  \n",
       "0      0         A/5 21171   7.2500   NaN        S  \n",
       "1      0          PC 17599  71.2833   C85        C  \n",
       "2      0  STON/O2. 3101282   7.9250   NaN        S  "
      ]
     },
     "execution_count": 250,
     "metadata": {},
     "output_type": "execute_result"
    }
   ],
   "source": [
    "df_train.head(3)"
   ]
  },
  {
   "cell_type": "markdown",
   "id": "989408cd",
   "metadata": {},
   "source": [
    "### Transform categorical column to numeric"
   ]
  },
  {
   "cell_type": "code",
   "execution_count": 251,
   "id": "d976eb45",
   "metadata": {},
   "outputs": [],
   "source": [
    "df_train[\"Sex\"] = df_train[\"Sex\"].map(\n",
    "    {\"male\": 0, \"female\": 1}\n",
    ")"
   ]
  },
  {
   "cell_type": "code",
   "execution_count": 252,
   "id": "026a654d",
   "metadata": {},
   "outputs": [
    {
     "data": {
      "text/html": [
       "<div>\n",
       "<style scoped>\n",
       "    .dataframe tbody tr th:only-of-type {\n",
       "        vertical-align: middle;\n",
       "    }\n",
       "\n",
       "    .dataframe tbody tr th {\n",
       "        vertical-align: top;\n",
       "    }\n",
       "\n",
       "    .dataframe thead th {\n",
       "        text-align: right;\n",
       "    }\n",
       "</style>\n",
       "<table border=\"1\" class=\"dataframe\">\n",
       "  <thead>\n",
       "    <tr style=\"text-align: right;\">\n",
       "      <th></th>\n",
       "      <th>PassengerId</th>\n",
       "      <th>Survived</th>\n",
       "      <th>Pclass</th>\n",
       "      <th>Name</th>\n",
       "      <th>Sex</th>\n",
       "      <th>Age</th>\n",
       "      <th>SibSp</th>\n",
       "      <th>Parch</th>\n",
       "      <th>Ticket</th>\n",
       "      <th>Fare</th>\n",
       "      <th>Cabin</th>\n",
       "      <th>Embarked</th>\n",
       "    </tr>\n",
       "  </thead>\n",
       "  <tbody>\n",
       "    <tr>\n",
       "      <th>0</th>\n",
       "      <td>1</td>\n",
       "      <td>0</td>\n",
       "      <td>3</td>\n",
       "      <td>Braund, Mr. Owen Harris</td>\n",
       "      <td>0</td>\n",
       "      <td>22.0</td>\n",
       "      <td>1</td>\n",
       "      <td>0</td>\n",
       "      <td>A/5 21171</td>\n",
       "      <td>7.2500</td>\n",
       "      <td>NaN</td>\n",
       "      <td>S</td>\n",
       "    </tr>\n",
       "    <tr>\n",
       "      <th>1</th>\n",
       "      <td>2</td>\n",
       "      <td>1</td>\n",
       "      <td>1</td>\n",
       "      <td>Cumings, Mrs. John Bradley (Florence Briggs Th...</td>\n",
       "      <td>1</td>\n",
       "      <td>38.0</td>\n",
       "      <td>1</td>\n",
       "      <td>0</td>\n",
       "      <td>PC 17599</td>\n",
       "      <td>71.2833</td>\n",
       "      <td>C85</td>\n",
       "      <td>C</td>\n",
       "    </tr>\n",
       "    <tr>\n",
       "      <th>2</th>\n",
       "      <td>3</td>\n",
       "      <td>1</td>\n",
       "      <td>3</td>\n",
       "      <td>Heikkinen, Miss. Laina</td>\n",
       "      <td>1</td>\n",
       "      <td>26.0</td>\n",
       "      <td>0</td>\n",
       "      <td>0</td>\n",
       "      <td>STON/O2. 3101282</td>\n",
       "      <td>7.9250</td>\n",
       "      <td>NaN</td>\n",
       "      <td>S</td>\n",
       "    </tr>\n",
       "  </tbody>\n",
       "</table>\n",
       "</div>"
      ],
      "text/plain": [
       "   PassengerId  Survived  Pclass  \\\n",
       "0            1         0       3   \n",
       "1            2         1       1   \n",
       "2            3         1       3   \n",
       "\n",
       "                                                Name  Sex   Age  SibSp  Parch  \\\n",
       "0                            Braund, Mr. Owen Harris    0  22.0      1      0   \n",
       "1  Cumings, Mrs. John Bradley (Florence Briggs Th...    1  38.0      1      0   \n",
       "2                             Heikkinen, Miss. Laina    1  26.0      0      0   \n",
       "\n",
       "             Ticket     Fare Cabin Embarked  \n",
       "0         A/5 21171   7.2500   NaN        S  \n",
       "1          PC 17599  71.2833   C85        C  \n",
       "2  STON/O2. 3101282   7.9250   NaN        S  "
      ]
     },
     "execution_count": 252,
     "metadata": {},
     "output_type": "execute_result"
    }
   ],
   "source": [
    "df_train.head(3)"
   ]
  },
  {
   "cell_type": "markdown",
   "id": "9dd3da50",
   "metadata": {},
   "source": [
    "### Filter out the features"
   ]
  },
  {
   "cell_type": "code",
   "execution_count": 253,
   "id": "aaa6f023",
   "metadata": {},
   "outputs": [],
   "source": [
    "features = [\"Pclass\", \"Fare\", \"Sex\", \"Parch\"]\n",
    "X, y = df_train[features], df_train[\"Survived\"]"
   ]
  },
  {
   "cell_type": "code",
   "execution_count": 254,
   "id": "cf9b29f7",
   "metadata": {},
   "outputs": [
    {
     "data": {
      "text/html": [
       "<div>\n",
       "<style scoped>\n",
       "    .dataframe tbody tr th:only-of-type {\n",
       "        vertical-align: middle;\n",
       "    }\n",
       "\n",
       "    .dataframe tbody tr th {\n",
       "        vertical-align: top;\n",
       "    }\n",
       "\n",
       "    .dataframe thead th {\n",
       "        text-align: right;\n",
       "    }\n",
       "</style>\n",
       "<table border=\"1\" class=\"dataframe\">\n",
       "  <thead>\n",
       "    <tr style=\"text-align: right;\">\n",
       "      <th></th>\n",
       "      <th>Pclass</th>\n",
       "      <th>Fare</th>\n",
       "      <th>Sex</th>\n",
       "      <th>Parch</th>\n",
       "    </tr>\n",
       "  </thead>\n",
       "  <tbody>\n",
       "    <tr>\n",
       "      <th>0</th>\n",
       "      <td>3</td>\n",
       "      <td>7.2500</td>\n",
       "      <td>0</td>\n",
       "      <td>0</td>\n",
       "    </tr>\n",
       "    <tr>\n",
       "      <th>1</th>\n",
       "      <td>1</td>\n",
       "      <td>71.2833</td>\n",
       "      <td>1</td>\n",
       "      <td>0</td>\n",
       "    </tr>\n",
       "    <tr>\n",
       "      <th>2</th>\n",
       "      <td>3</td>\n",
       "      <td>7.9250</td>\n",
       "      <td>1</td>\n",
       "      <td>0</td>\n",
       "    </tr>\n",
       "  </tbody>\n",
       "</table>\n",
       "</div>"
      ],
      "text/plain": [
       "   Pclass     Fare  Sex  Parch\n",
       "0       3   7.2500    0      0\n",
       "1       1  71.2833    1      0\n",
       "2       3   7.9250    1      0"
      ]
     },
     "execution_count": 254,
     "metadata": {},
     "output_type": "execute_result"
    }
   ],
   "source": [
    "X.head(3)"
   ]
  },
  {
   "cell_type": "code",
   "execution_count": 255,
   "id": "826c1ce6",
   "metadata": {},
   "outputs": [
    {
     "data": {
      "text/plain": [
       "0    0\n",
       "1    1\n",
       "2    1\n",
       "Name: Survived, dtype: int64"
      ]
     },
     "execution_count": 255,
     "metadata": {},
     "output_type": "execute_result"
    }
   ],
   "source": [
    "y.head(3)"
   ]
  },
  {
   "cell_type": "markdown",
   "id": "610dd249",
   "metadata": {},
   "source": [
    "### Training phase based on cross validation"
   ]
  },
  {
   "cell_type": "code",
   "execution_count": 256,
   "id": "fcd58d52",
   "metadata": {},
   "outputs": [],
   "source": [
    "from sklearn.tree import DecisionTreeClassifier\n",
    "from sklearn.model_selection import cross_val_score"
   ]
  },
  {
   "cell_type": "code",
   "execution_count": 257,
   "id": "4cb96f10",
   "metadata": {},
   "outputs": [],
   "source": [
    "dt = DecisionTreeClassifier(random_state=0)"
   ]
  },
  {
   "cell_type": "code",
   "execution_count": 258,
   "id": "533c91dc",
   "metadata": {},
   "outputs": [
    {
     "name": "stdout",
     "output_type": "stream",
     "text": [
      "Default tree has 331 (nodes).\n"
     ]
    }
   ],
   "source": [
    "print(f\"Default tree has {dt.fit(X, y).tree_.node_count} (nodes).\")"
   ]
  },
  {
   "cell_type": "code",
   "execution_count": 259,
   "id": "8e1b34e8",
   "metadata": {},
   "outputs": [
    {
     "data": {
      "text/plain": [
       "array([0.77094972, 0.78089888, 0.83707865, 0.80337079, 0.8258427 ])"
      ]
     },
     "execution_count": 259,
     "metadata": {},
     "output_type": "execute_result"
    }
   ],
   "source": [
    "scores = cross_val_score(dt, X, y, cv=5, scoring=\"accuracy\")\n",
    "scores"
   ]
  },
  {
   "cell_type": "code",
   "execution_count": 260,
   "id": "76d2890b",
   "metadata": {},
   "outputs": [
    {
     "data": {
      "text/plain": [
       "0.8036281463812692"
      ]
     },
     "execution_count": 260,
     "metadata": {},
     "output_type": "execute_result"
    }
   ],
   "source": [
    "scores.mean()"
   ]
  },
  {
   "cell_type": "markdown",
   "id": "d973785c",
   "metadata": {},
   "source": [
    "### Prune tree"
   ]
  },
  {
   "cell_type": "code",
   "execution_count": 261,
   "id": "02463b5c",
   "metadata": {},
   "outputs": [
    {
     "data": {
      "text/html": [
       "<style>#sk-5fdc9d6d-83b1-4074-b003-d3023453e0a2 {color: black;background-color: white;}#sk-5fdc9d6d-83b1-4074-b003-d3023453e0a2 pre{padding: 0;}#sk-5fdc9d6d-83b1-4074-b003-d3023453e0a2 div.sk-toggleable {background-color: white;}#sk-5fdc9d6d-83b1-4074-b003-d3023453e0a2 label.sk-toggleable__label {cursor: pointer;display: block;width: 100%;margin-bottom: 0;padding: 0.3em;box-sizing: border-box;text-align: center;}#sk-5fdc9d6d-83b1-4074-b003-d3023453e0a2 div.sk-toggleable__content {max-height: 0;max-width: 0;overflow: hidden;text-align: left;background-color: #f0f8ff;}#sk-5fdc9d6d-83b1-4074-b003-d3023453e0a2 div.sk-toggleable__content pre {margin: 0.2em;color: black;border-radius: 0.25em;background-color: #f0f8ff;}#sk-5fdc9d6d-83b1-4074-b003-d3023453e0a2 input.sk-toggleable__control:checked~div.sk-toggleable__content {max-height: 200px;max-width: 100%;overflow: auto;}#sk-5fdc9d6d-83b1-4074-b003-d3023453e0a2 div.sk-estimator input.sk-toggleable__control:checked~label.sk-toggleable__label {background-color: #d4ebff;}#sk-5fdc9d6d-83b1-4074-b003-d3023453e0a2 div.sk-label input.sk-toggleable__control:checked~label.sk-toggleable__label {background-color: #d4ebff;}#sk-5fdc9d6d-83b1-4074-b003-d3023453e0a2 input.sk-hidden--visually {border: 0;clip: rect(1px 1px 1px 1px);clip: rect(1px, 1px, 1px, 1px);height: 1px;margin: -1px;overflow: hidden;padding: 0;position: absolute;width: 1px;}#sk-5fdc9d6d-83b1-4074-b003-d3023453e0a2 div.sk-estimator {font-family: monospace;background-color: #f0f8ff;border: 1px dotted black;border-radius: 0.25em;box-sizing: border-box;margin-bottom: 0.5em;}#sk-5fdc9d6d-83b1-4074-b003-d3023453e0a2 div.sk-estimator:hover {background-color: #d4ebff;}#sk-5fdc9d6d-83b1-4074-b003-d3023453e0a2 div.sk-parallel-item::after {content: \"\";width: 100%;border-bottom: 1px solid gray;flex-grow: 1;}#sk-5fdc9d6d-83b1-4074-b003-d3023453e0a2 div.sk-label:hover label.sk-toggleable__label {background-color: #d4ebff;}#sk-5fdc9d6d-83b1-4074-b003-d3023453e0a2 div.sk-serial::before {content: \"\";position: absolute;border-left: 1px solid gray;box-sizing: border-box;top: 2em;bottom: 0;left: 50%;}#sk-5fdc9d6d-83b1-4074-b003-d3023453e0a2 div.sk-serial {display: flex;flex-direction: column;align-items: center;background-color: white;padding-right: 0.2em;padding-left: 0.2em;}#sk-5fdc9d6d-83b1-4074-b003-d3023453e0a2 div.sk-item {z-index: 1;}#sk-5fdc9d6d-83b1-4074-b003-d3023453e0a2 div.sk-parallel {display: flex;align-items: stretch;justify-content: center;background-color: white;}#sk-5fdc9d6d-83b1-4074-b003-d3023453e0a2 div.sk-parallel::before {content: \"\";position: absolute;border-left: 1px solid gray;box-sizing: border-box;top: 2em;bottom: 0;left: 50%;}#sk-5fdc9d6d-83b1-4074-b003-d3023453e0a2 div.sk-parallel-item {display: flex;flex-direction: column;position: relative;background-color: white;}#sk-5fdc9d6d-83b1-4074-b003-d3023453e0a2 div.sk-parallel-item:first-child::after {align-self: flex-end;width: 50%;}#sk-5fdc9d6d-83b1-4074-b003-d3023453e0a2 div.sk-parallel-item:last-child::after {align-self: flex-start;width: 50%;}#sk-5fdc9d6d-83b1-4074-b003-d3023453e0a2 div.sk-parallel-item:only-child::after {width: 0;}#sk-5fdc9d6d-83b1-4074-b003-d3023453e0a2 div.sk-dashed-wrapped {border: 1px dashed gray;margin: 0 0.4em 0.5em 0.4em;box-sizing: border-box;padding-bottom: 0.4em;background-color: white;position: relative;}#sk-5fdc9d6d-83b1-4074-b003-d3023453e0a2 div.sk-label label {font-family: monospace;font-weight: bold;background-color: white;display: inline-block;line-height: 1.2em;}#sk-5fdc9d6d-83b1-4074-b003-d3023453e0a2 div.sk-label-container {position: relative;z-index: 2;text-align: center;}#sk-5fdc9d6d-83b1-4074-b003-d3023453e0a2 div.sk-container {display: inline-block;position: relative;}</style><div id=\"sk-5fdc9d6d-83b1-4074-b003-d3023453e0a2\" class\"sk-top-container\"><div class=\"sk-container\"><div class=\"sk-item\"><div class=\"sk-estimator sk-toggleable\"><input class=\"sk-toggleable__control sk-hidden--visually\" id=\"abe91da2-cde6-4eec-b6e8-4ea47a06af05\" type=\"checkbox\" checked><label class=\"sk-toggleable__label\" for=\"abe91da2-cde6-4eec-b6e8-4ea47a06af05\">DecisionTreeClassifier</label><div class=\"sk-toggleable__content\"><pre>DecisionTreeClassifier(ccp_alpha=0.001, random_state=0)</pre></div></div></div></div></div>"
      ],
      "text/plain": [
       "DecisionTreeClassifier(ccp_alpha=0.001, random_state=0)"
      ]
     },
     "execution_count": 261,
     "metadata": {},
     "output_type": "execute_result"
    }
   ],
   "source": [
    "dt_pruned = DecisionTreeClassifier(ccp_alpha=0.001, random_state=0)\n",
    "dt_pruned"
   ]
  },
  {
   "cell_type": "code",
   "execution_count": 262,
   "id": "34bb3b39",
   "metadata": {},
   "outputs": [
    {
     "name": "stdout",
     "output_type": "stream",
     "text": [
      "Pruned tree has 121 (nodes).\n"
     ]
    }
   ],
   "source": [
    "print(f\"Pruned tree has {dt_pruned.fit(X, y).tree_.node_count} (nodes).\")"
   ]
  },
  {
   "cell_type": "code",
   "execution_count": 263,
   "id": "019c61a1",
   "metadata": {},
   "outputs": [
    {
     "data": {
      "text/plain": [
       "array([0.77653631, 0.78651685, 0.83707865, 0.82022472, 0.82022472])"
      ]
     },
     "execution_count": 263,
     "metadata": {},
     "output_type": "execute_result"
    }
   ],
   "source": [
    "scores_pruned = cross_val_score(dt_pruned, X, y, cv=5, scoring=\"accuracy\")\n",
    "scores_pruned"
   ]
  },
  {
   "cell_type": "code",
   "execution_count": 264,
   "id": "6522c14b",
   "metadata": {},
   "outputs": [
    {
     "data": {
      "text/plain": [
       "0.8081162513338773"
      ]
     },
     "execution_count": 264,
     "metadata": {},
     "output_type": "execute_result"
    }
   ],
   "source": [
    "scores_pruned.mean()"
   ]
  },
  {
   "cell_type": "code",
   "execution_count": 265,
   "id": "f8a8b1f9",
   "metadata": {},
   "outputs": [
    {
     "name": "stdout",
     "output_type": "stream",
     "text": [
      "After pruning tree, the accuracy score improves about 0.45%\n"
     ]
    }
   ],
   "source": [
    "print(f\"After pruning tree, the accuracy score improves about {np.round((scores_pruned.mean()-scores.mean())*100, 2)}%\")"
   ]
  },
  {
   "cell_type": "markdown",
   "id": "8d1828a1",
   "metadata": {},
   "source": [
    "## Estimators only print parameters that have been changed\n",
    "\n",
    "New in version 0.23: Estimators only print the parameters that are *not* set to their default values.\n",
    "\n",
    "You can still see all parameters with [get_params()](https://scikit-learn.org/stable/modules/generated/sklearn.base.BaseEstimator.html), or restore the previous behavior with [set_config()](https://scikit-learn.org/stable/modules/generated/sklearn.set_config.html)."
   ]
  },
  {
   "cell_type": "code",
   "execution_count": 266,
   "id": "c74030e0",
   "metadata": {},
   "outputs": [],
   "source": [
    "from sklearn.linear_model import LogisticRegression"
   ]
  },
  {
   "cell_type": "code",
   "execution_count": 267,
   "id": "23bfd8c8",
   "metadata": {},
   "outputs": [],
   "source": [
    "clf = LogisticRegression(C=0.01, solver=\"liblinear\")"
   ]
  },
  {
   "cell_type": "markdown",
   "id": "95b9e597",
   "metadata": {},
   "source": [
    "### Showing all parameters"
   ]
  },
  {
   "cell_type": "code",
   "execution_count": 268,
   "id": "80cdd058",
   "metadata": {},
   "outputs": [
    {
     "data": {
      "text/plain": [
       "{'C': 0.01,\n",
       " 'class_weight': None,\n",
       " 'dual': False,\n",
       " 'fit_intercept': True,\n",
       " 'intercept_scaling': 1,\n",
       " 'l1_ratio': None,\n",
       " 'max_iter': 100,\n",
       " 'multi_class': 'auto',\n",
       " 'n_jobs': None,\n",
       " 'penalty': 'l2',\n",
       " 'random_state': None,\n",
       " 'solver': 'liblinear',\n",
       " 'tol': 0.0001,\n",
       " 'verbose': 0,\n",
       " 'warm_start': False}"
      ]
     },
     "execution_count": 268,
     "metadata": {},
     "output_type": "execute_result"
    }
   ],
   "source": [
    "clf.get_params()"
   ]
  },
  {
   "cell_type": "markdown",
   "id": "edacae43",
   "metadata": {},
   "source": [
    "### Describing only the changed parameters"
   ]
  },
  {
   "cell_type": "code",
   "execution_count": 269,
   "id": "d1cb3246",
   "metadata": {},
   "outputs": [
    {
     "data": {
      "text/html": [
       "<style>#sk-0a5adffa-5c5a-4221-a87f-da80514ee0b4 {color: black;background-color: white;}#sk-0a5adffa-5c5a-4221-a87f-da80514ee0b4 pre{padding: 0;}#sk-0a5adffa-5c5a-4221-a87f-da80514ee0b4 div.sk-toggleable {background-color: white;}#sk-0a5adffa-5c5a-4221-a87f-da80514ee0b4 label.sk-toggleable__label {cursor: pointer;display: block;width: 100%;margin-bottom: 0;padding: 0.3em;box-sizing: border-box;text-align: center;}#sk-0a5adffa-5c5a-4221-a87f-da80514ee0b4 div.sk-toggleable__content {max-height: 0;max-width: 0;overflow: hidden;text-align: left;background-color: #f0f8ff;}#sk-0a5adffa-5c5a-4221-a87f-da80514ee0b4 div.sk-toggleable__content pre {margin: 0.2em;color: black;border-radius: 0.25em;background-color: #f0f8ff;}#sk-0a5adffa-5c5a-4221-a87f-da80514ee0b4 input.sk-toggleable__control:checked~div.sk-toggleable__content {max-height: 200px;max-width: 100%;overflow: auto;}#sk-0a5adffa-5c5a-4221-a87f-da80514ee0b4 div.sk-estimator input.sk-toggleable__control:checked~label.sk-toggleable__label {background-color: #d4ebff;}#sk-0a5adffa-5c5a-4221-a87f-da80514ee0b4 div.sk-label input.sk-toggleable__control:checked~label.sk-toggleable__label {background-color: #d4ebff;}#sk-0a5adffa-5c5a-4221-a87f-da80514ee0b4 input.sk-hidden--visually {border: 0;clip: rect(1px 1px 1px 1px);clip: rect(1px, 1px, 1px, 1px);height: 1px;margin: -1px;overflow: hidden;padding: 0;position: absolute;width: 1px;}#sk-0a5adffa-5c5a-4221-a87f-da80514ee0b4 div.sk-estimator {font-family: monospace;background-color: #f0f8ff;border: 1px dotted black;border-radius: 0.25em;box-sizing: border-box;margin-bottom: 0.5em;}#sk-0a5adffa-5c5a-4221-a87f-da80514ee0b4 div.sk-estimator:hover {background-color: #d4ebff;}#sk-0a5adffa-5c5a-4221-a87f-da80514ee0b4 div.sk-parallel-item::after {content: \"\";width: 100%;border-bottom: 1px solid gray;flex-grow: 1;}#sk-0a5adffa-5c5a-4221-a87f-da80514ee0b4 div.sk-label:hover label.sk-toggleable__label {background-color: #d4ebff;}#sk-0a5adffa-5c5a-4221-a87f-da80514ee0b4 div.sk-serial::before {content: \"\";position: absolute;border-left: 1px solid gray;box-sizing: border-box;top: 2em;bottom: 0;left: 50%;}#sk-0a5adffa-5c5a-4221-a87f-da80514ee0b4 div.sk-serial {display: flex;flex-direction: column;align-items: center;background-color: white;padding-right: 0.2em;padding-left: 0.2em;}#sk-0a5adffa-5c5a-4221-a87f-da80514ee0b4 div.sk-item {z-index: 1;}#sk-0a5adffa-5c5a-4221-a87f-da80514ee0b4 div.sk-parallel {display: flex;align-items: stretch;justify-content: center;background-color: white;}#sk-0a5adffa-5c5a-4221-a87f-da80514ee0b4 div.sk-parallel::before {content: \"\";position: absolute;border-left: 1px solid gray;box-sizing: border-box;top: 2em;bottom: 0;left: 50%;}#sk-0a5adffa-5c5a-4221-a87f-da80514ee0b4 div.sk-parallel-item {display: flex;flex-direction: column;position: relative;background-color: white;}#sk-0a5adffa-5c5a-4221-a87f-da80514ee0b4 div.sk-parallel-item:first-child::after {align-self: flex-end;width: 50%;}#sk-0a5adffa-5c5a-4221-a87f-da80514ee0b4 div.sk-parallel-item:last-child::after {align-self: flex-start;width: 50%;}#sk-0a5adffa-5c5a-4221-a87f-da80514ee0b4 div.sk-parallel-item:only-child::after {width: 0;}#sk-0a5adffa-5c5a-4221-a87f-da80514ee0b4 div.sk-dashed-wrapped {border: 1px dashed gray;margin: 0 0.4em 0.5em 0.4em;box-sizing: border-box;padding-bottom: 0.4em;background-color: white;position: relative;}#sk-0a5adffa-5c5a-4221-a87f-da80514ee0b4 div.sk-label label {font-family: monospace;font-weight: bold;background-color: white;display: inline-block;line-height: 1.2em;}#sk-0a5adffa-5c5a-4221-a87f-da80514ee0b4 div.sk-label-container {position: relative;z-index: 2;text-align: center;}#sk-0a5adffa-5c5a-4221-a87f-da80514ee0b4 div.sk-container {display: inline-block;position: relative;}</style><div id=\"sk-0a5adffa-5c5a-4221-a87f-da80514ee0b4\" class\"sk-top-container\"><div class=\"sk-container\"><div class=\"sk-item\"><div class=\"sk-estimator sk-toggleable\"><input class=\"sk-toggleable__control sk-hidden--visually\" id=\"6a9dad4b-0fa6-4182-a3bd-6270ec9cce8c\" type=\"checkbox\" checked><label class=\"sk-toggleable__label\" for=\"6a9dad4b-0fa6-4182-a3bd-6270ec9cce8c\">LogisticRegression</label><div class=\"sk-toggleable__content\"><pre>LogisticRegression(C=0.01, solver='liblinear')</pre></div></div></div></div></div>"
      ],
      "text/plain": [
       "LogisticRegression(C=0.01, solver='liblinear')"
      ]
     },
     "execution_count": 269,
     "metadata": {},
     "output_type": "execute_result"
    }
   ],
   "source": [
    "clf"
   ]
  },
  {
   "cell_type": "markdown",
   "id": "d3f0289c",
   "metadata": {},
   "source": [
    "### Describing all parameters without get_params()"
   ]
  },
  {
   "cell_type": "code",
   "execution_count": 270,
   "id": "ddede22b",
   "metadata": {},
   "outputs": [],
   "source": [
    "from sklearn import set_config"
   ]
  },
  {
   "cell_type": "code",
   "execution_count": 271,
   "id": "acdd4cba",
   "metadata": {},
   "outputs": [],
   "source": [
    "set_config(print_changed_only=False)"
   ]
  },
  {
   "cell_type": "code",
   "execution_count": 272,
   "id": "e6d61b67",
   "metadata": {},
   "outputs": [
    {
     "data": {
      "text/html": [
       "<style>#sk-0b3f4901-fd8c-4f15-8995-8fac0e571d0d {color: black;background-color: white;}#sk-0b3f4901-fd8c-4f15-8995-8fac0e571d0d pre{padding: 0;}#sk-0b3f4901-fd8c-4f15-8995-8fac0e571d0d div.sk-toggleable {background-color: white;}#sk-0b3f4901-fd8c-4f15-8995-8fac0e571d0d label.sk-toggleable__label {cursor: pointer;display: block;width: 100%;margin-bottom: 0;padding: 0.3em;box-sizing: border-box;text-align: center;}#sk-0b3f4901-fd8c-4f15-8995-8fac0e571d0d div.sk-toggleable__content {max-height: 0;max-width: 0;overflow: hidden;text-align: left;background-color: #f0f8ff;}#sk-0b3f4901-fd8c-4f15-8995-8fac0e571d0d div.sk-toggleable__content pre {margin: 0.2em;color: black;border-radius: 0.25em;background-color: #f0f8ff;}#sk-0b3f4901-fd8c-4f15-8995-8fac0e571d0d input.sk-toggleable__control:checked~div.sk-toggleable__content {max-height: 200px;max-width: 100%;overflow: auto;}#sk-0b3f4901-fd8c-4f15-8995-8fac0e571d0d div.sk-estimator input.sk-toggleable__control:checked~label.sk-toggleable__label {background-color: #d4ebff;}#sk-0b3f4901-fd8c-4f15-8995-8fac0e571d0d div.sk-label input.sk-toggleable__control:checked~label.sk-toggleable__label {background-color: #d4ebff;}#sk-0b3f4901-fd8c-4f15-8995-8fac0e571d0d input.sk-hidden--visually {border: 0;clip: rect(1px 1px 1px 1px);clip: rect(1px, 1px, 1px, 1px);height: 1px;margin: -1px;overflow: hidden;padding: 0;position: absolute;width: 1px;}#sk-0b3f4901-fd8c-4f15-8995-8fac0e571d0d div.sk-estimator {font-family: monospace;background-color: #f0f8ff;border: 1px dotted black;border-radius: 0.25em;box-sizing: border-box;margin-bottom: 0.5em;}#sk-0b3f4901-fd8c-4f15-8995-8fac0e571d0d div.sk-estimator:hover {background-color: #d4ebff;}#sk-0b3f4901-fd8c-4f15-8995-8fac0e571d0d div.sk-parallel-item::after {content: \"\";width: 100%;border-bottom: 1px solid gray;flex-grow: 1;}#sk-0b3f4901-fd8c-4f15-8995-8fac0e571d0d div.sk-label:hover label.sk-toggleable__label {background-color: #d4ebff;}#sk-0b3f4901-fd8c-4f15-8995-8fac0e571d0d div.sk-serial::before {content: \"\";position: absolute;border-left: 1px solid gray;box-sizing: border-box;top: 2em;bottom: 0;left: 50%;}#sk-0b3f4901-fd8c-4f15-8995-8fac0e571d0d div.sk-serial {display: flex;flex-direction: column;align-items: center;background-color: white;padding-right: 0.2em;padding-left: 0.2em;}#sk-0b3f4901-fd8c-4f15-8995-8fac0e571d0d div.sk-item {z-index: 1;}#sk-0b3f4901-fd8c-4f15-8995-8fac0e571d0d div.sk-parallel {display: flex;align-items: stretch;justify-content: center;background-color: white;}#sk-0b3f4901-fd8c-4f15-8995-8fac0e571d0d div.sk-parallel::before {content: \"\";position: absolute;border-left: 1px solid gray;box-sizing: border-box;top: 2em;bottom: 0;left: 50%;}#sk-0b3f4901-fd8c-4f15-8995-8fac0e571d0d div.sk-parallel-item {display: flex;flex-direction: column;position: relative;background-color: white;}#sk-0b3f4901-fd8c-4f15-8995-8fac0e571d0d div.sk-parallel-item:first-child::after {align-self: flex-end;width: 50%;}#sk-0b3f4901-fd8c-4f15-8995-8fac0e571d0d div.sk-parallel-item:last-child::after {align-self: flex-start;width: 50%;}#sk-0b3f4901-fd8c-4f15-8995-8fac0e571d0d div.sk-parallel-item:only-child::after {width: 0;}#sk-0b3f4901-fd8c-4f15-8995-8fac0e571d0d div.sk-dashed-wrapped {border: 1px dashed gray;margin: 0 0.4em 0.5em 0.4em;box-sizing: border-box;padding-bottom: 0.4em;background-color: white;position: relative;}#sk-0b3f4901-fd8c-4f15-8995-8fac0e571d0d div.sk-label label {font-family: monospace;font-weight: bold;background-color: white;display: inline-block;line-height: 1.2em;}#sk-0b3f4901-fd8c-4f15-8995-8fac0e571d0d div.sk-label-container {position: relative;z-index: 2;text-align: center;}#sk-0b3f4901-fd8c-4f15-8995-8fac0e571d0d div.sk-container {display: inline-block;position: relative;}</style><div id=\"sk-0b3f4901-fd8c-4f15-8995-8fac0e571d0d\" class\"sk-top-container\"><div class=\"sk-container\"><div class=\"sk-item\"><div class=\"sk-estimator sk-toggleable\"><input class=\"sk-toggleable__control sk-hidden--visually\" id=\"e7f9049a-7c1c-4364-af18-b60a55aca0f3\" type=\"checkbox\" checked><label class=\"sk-toggleable__label\" for=\"e7f9049a-7c1c-4364-af18-b60a55aca0f3\">LogisticRegression</label><div class=\"sk-toggleable__content\"><pre>LogisticRegression(C=0.01, class_weight=None, dual=False, fit_intercept=True,\n",
       "                   intercept_scaling=1, l1_ratio=None, max_iter=100,\n",
       "                   multi_class='auto', n_jobs=None, penalty='l2',\n",
       "                   random_state=None, solver='liblinear', tol=0.0001, verbose=0,\n",
       "                   warm_start=False)</pre></div></div></div></div></div>"
      ],
      "text/plain": [
       "LogisticRegression(C=0.01, class_weight=None, dual=False, fit_intercept=True,\n",
       "                   intercept_scaling=1, l1_ratio=None, max_iter=100,\n",
       "                   multi_class='auto', n_jobs=None, penalty='l2',\n",
       "                   random_state=None, solver='liblinear', tol=0.0001, verbose=0,\n",
       "                   warm_start=False)"
      ]
     },
     "execution_count": 272,
     "metadata": {},
     "output_type": "execute_result"
    }
   ],
   "source": [
    "clf"
   ]
  },
  {
   "cell_type": "markdown",
   "id": "217725b1",
   "metadata": {},
   "source": [
    "## Speed up GridSearchCV using parallel processing\n",
    "\n",
    "In order to run faster GridSearch, we set n_jobs=-1 to use parallel processing with all CPUs.\n",
    "\n",
    "Ref: [n_jobs](https://scikit-learn.org/stable/glossary.html#term-n_jobs)"
   ]
  },
  {
   "cell_type": "code",
   "execution_count": 273,
   "id": "f139fa29",
   "metadata": {},
   "outputs": [],
   "source": [
    "file_input_path = \"titanic_train.csv\"\n",
    "if not os.path.exists(file_input_path):\n",
    "    df_train = pd.read_csv(\"http://bit.ly/kaggletrain\")\n",
    "    df_train.to_csv(file_input_path, header=True, index=False, sep=\"\\t\")\n",
    "else:\n",
    "    df_train = pd.read_csv(file_input_path, header=0, sep=\"\\t\")"
   ]
  },
  {
   "cell_type": "code",
   "execution_count": 274,
   "id": "c30b497c",
   "metadata": {},
   "outputs": [],
   "source": [
    "features = [\"Sex\", \"Name\", \"Age\"]\n",
    "X, y = df_train[features], df_train[\"Survived\"]"
   ]
  },
  {
   "cell_type": "code",
   "execution_count": 275,
   "id": "795840cf",
   "metadata": {},
   "outputs": [],
   "source": [
    "from sklearn import set_config\n",
    "set_config(display=\"diagram\")"
   ]
  },
  {
   "cell_type": "code",
   "execution_count": 276,
   "id": "478619d3",
   "metadata": {},
   "outputs": [],
   "source": [
    "col_transformer = ColumnTransformer(\n",
    "    [\n",
    "        (\"ohe\", OneHotEncoder(), [\"Sex\"]),\n",
    "        (\"vectorizer\", CountVectorizer(), \"Name\"),\n",
    "        (\"imputer\", SimpleImputer(), [\"Age\"])\n",
    "    ]\n",
    ")"
   ]
  },
  {
   "cell_type": "code",
   "execution_count": 277,
   "id": "a148c19d",
   "metadata": {},
   "outputs": [],
   "source": [
    "clf = LogisticRegression(solver=\"liblinear\", random_state=1)"
   ]
  },
  {
   "cell_type": "code",
   "execution_count": 278,
   "id": "b37454ed",
   "metadata": {},
   "outputs": [],
   "source": [
    "pipe = Pipeline(\n",
    "    [\n",
    "        (\"preprocessor\", col_transformer),\n",
    "        (\"classifier\", clf)\n",
    "    ]\n",
    ")"
   ]
  },
  {
   "cell_type": "code",
   "execution_count": 279,
   "id": "b747e465",
   "metadata": {},
   "outputs": [],
   "source": [
    "params = {}\n",
    "params[\"preprocessor__ohe__drop\"] = [None, \"first\"]\n",
    "params[\"preprocessor__vectorizer__min_df\"] = [1,2,3]\n",
    "params[\"preprocessor__vectorizer__ngram_range\"] = [(1,1), (1,2)]\n",
    "params[\"classifier__C\"] = [0.001, 0.01, 0.1, 1, 10, 100, 1000]\n",
    "params[\"classifier__penalty\"] = [\"l1\", \"l2\"]"
   ]
  },
  {
   "cell_type": "code",
   "execution_count": 280,
   "id": "746726fd",
   "metadata": {},
   "outputs": [],
   "source": [
    "grid = GridSearchCV(pipe, params)"
   ]
  },
  {
   "cell_type": "code",
   "execution_count": 281,
   "id": "5c781a77",
   "metadata": {},
   "outputs": [
    {
     "data": {
      "text/html": [
       "<style>#sk-6b703a00-2415-4e70-a1b5-3a0ba453e33b {color: black;background-color: white;}#sk-6b703a00-2415-4e70-a1b5-3a0ba453e33b pre{padding: 0;}#sk-6b703a00-2415-4e70-a1b5-3a0ba453e33b div.sk-toggleable {background-color: white;}#sk-6b703a00-2415-4e70-a1b5-3a0ba453e33b label.sk-toggleable__label {cursor: pointer;display: block;width: 100%;margin-bottom: 0;padding: 0.3em;box-sizing: border-box;text-align: center;}#sk-6b703a00-2415-4e70-a1b5-3a0ba453e33b div.sk-toggleable__content {max-height: 0;max-width: 0;overflow: hidden;text-align: left;background-color: #f0f8ff;}#sk-6b703a00-2415-4e70-a1b5-3a0ba453e33b div.sk-toggleable__content pre {margin: 0.2em;color: black;border-radius: 0.25em;background-color: #f0f8ff;}#sk-6b703a00-2415-4e70-a1b5-3a0ba453e33b input.sk-toggleable__control:checked~div.sk-toggleable__content {max-height: 200px;max-width: 100%;overflow: auto;}#sk-6b703a00-2415-4e70-a1b5-3a0ba453e33b div.sk-estimator input.sk-toggleable__control:checked~label.sk-toggleable__label {background-color: #d4ebff;}#sk-6b703a00-2415-4e70-a1b5-3a0ba453e33b div.sk-label input.sk-toggleable__control:checked~label.sk-toggleable__label {background-color: #d4ebff;}#sk-6b703a00-2415-4e70-a1b5-3a0ba453e33b input.sk-hidden--visually {border: 0;clip: rect(1px 1px 1px 1px);clip: rect(1px, 1px, 1px, 1px);height: 1px;margin: -1px;overflow: hidden;padding: 0;position: absolute;width: 1px;}#sk-6b703a00-2415-4e70-a1b5-3a0ba453e33b div.sk-estimator {font-family: monospace;background-color: #f0f8ff;border: 1px dotted black;border-radius: 0.25em;box-sizing: border-box;margin-bottom: 0.5em;}#sk-6b703a00-2415-4e70-a1b5-3a0ba453e33b div.sk-estimator:hover {background-color: #d4ebff;}#sk-6b703a00-2415-4e70-a1b5-3a0ba453e33b div.sk-parallel-item::after {content: \"\";width: 100%;border-bottom: 1px solid gray;flex-grow: 1;}#sk-6b703a00-2415-4e70-a1b5-3a0ba453e33b div.sk-label:hover label.sk-toggleable__label {background-color: #d4ebff;}#sk-6b703a00-2415-4e70-a1b5-3a0ba453e33b div.sk-serial::before {content: \"\";position: absolute;border-left: 1px solid gray;box-sizing: border-box;top: 2em;bottom: 0;left: 50%;}#sk-6b703a00-2415-4e70-a1b5-3a0ba453e33b div.sk-serial {display: flex;flex-direction: column;align-items: center;background-color: white;padding-right: 0.2em;padding-left: 0.2em;}#sk-6b703a00-2415-4e70-a1b5-3a0ba453e33b div.sk-item {z-index: 1;}#sk-6b703a00-2415-4e70-a1b5-3a0ba453e33b div.sk-parallel {display: flex;align-items: stretch;justify-content: center;background-color: white;}#sk-6b703a00-2415-4e70-a1b5-3a0ba453e33b div.sk-parallel::before {content: \"\";position: absolute;border-left: 1px solid gray;box-sizing: border-box;top: 2em;bottom: 0;left: 50%;}#sk-6b703a00-2415-4e70-a1b5-3a0ba453e33b div.sk-parallel-item {display: flex;flex-direction: column;position: relative;background-color: white;}#sk-6b703a00-2415-4e70-a1b5-3a0ba453e33b div.sk-parallel-item:first-child::after {align-self: flex-end;width: 50%;}#sk-6b703a00-2415-4e70-a1b5-3a0ba453e33b div.sk-parallel-item:last-child::after {align-self: flex-start;width: 50%;}#sk-6b703a00-2415-4e70-a1b5-3a0ba453e33b div.sk-parallel-item:only-child::after {width: 0;}#sk-6b703a00-2415-4e70-a1b5-3a0ba453e33b div.sk-dashed-wrapped {border: 1px dashed gray;margin: 0 0.4em 0.5em 0.4em;box-sizing: border-box;padding-bottom: 0.4em;background-color: white;position: relative;}#sk-6b703a00-2415-4e70-a1b5-3a0ba453e33b div.sk-label label {font-family: monospace;font-weight: bold;background-color: white;display: inline-block;line-height: 1.2em;}#sk-6b703a00-2415-4e70-a1b5-3a0ba453e33b div.sk-label-container {position: relative;z-index: 2;text-align: center;}#sk-6b703a00-2415-4e70-a1b5-3a0ba453e33b div.sk-container {display: inline-block;position: relative;}</style><div id=\"sk-6b703a00-2415-4e70-a1b5-3a0ba453e33b\" class\"sk-top-container\"><div class=\"sk-container\"><div class=\"sk-item sk-dashed-wrapped\"><div class=\"sk-label-container\"><div class=\"sk-label sk-toggleable\"><input class=\"sk-toggleable__control sk-hidden--visually\" id=\"b3f670aa-4777-46e9-973d-7291dfd1bcb0\" type=\"checkbox\" ><label class=\"sk-toggleable__label\" for=\"b3f670aa-4777-46e9-973d-7291dfd1bcb0\">GridSearchCV</label><div class=\"sk-toggleable__content\"><pre>GridSearchCV(cv=None, error_score=nan,\n",
       "             estimator=Pipeline(memory=None,\n",
       "                                steps=[('preprocessor',\n",
       "                                        ColumnTransformer(n_jobs=None,\n",
       "                                                          remainder='drop',\n",
       "                                                          sparse_threshold=0.3,\n",
       "                                                          transformer_weights=None,\n",
       "                                                          transformers=[('ohe',\n",
       "                                                                         OneHotEncoder(categories='auto',\n",
       "                                                                                       drop=None,\n",
       "                                                                                       dtype=<class 'numpy.float64'>,\n",
       "                                                                                       handle_unknown='error',\n",
       "                                                                                       sparse=True),\n",
       "                                                                         ['Sex']),\n",
       "                                                                        ('vectorizer',\n",
       "                                                                         CountVectorizer...\n",
       "                                                           warm_start=False))],\n",
       "                                verbose=False),\n",
       "             n_jobs=None,\n",
       "             param_grid={'classifier__C': [0.001, 0.01, 0.1, 1, 10, 100, 1000],\n",
       "                         'classifier__penalty': ['l1', 'l2'],\n",
       "                         'preprocessor__ohe__drop': [None, 'first'],\n",
       "                         'preprocessor__vectorizer__min_df': [1, 2, 3],\n",
       "                         'preprocessor__vectorizer__ngram_range': [(1, 1),\n",
       "                                                                   (1, 2)]},\n",
       "             pre_dispatch='2*n_jobs', refit=True, return_train_score=False,\n",
       "             scoring=None, verbose=0)</pre></div></div></div><div class=\"sk-parallel\"><div class=\"sk-parallel-item\"><div class=\"sk-item\"><div class=\"sk-serial\"><div class=\"sk-item\"><div class=\"sk-serial\"><div class=\"sk-item sk-dashed-wrapped\"><div class=\"sk-label-container\"><div class=\"sk-label sk-toggleable\"><input class=\"sk-toggleable__control sk-hidden--visually\" id=\"d08d4e53-be3c-4c41-85c7-fbdf042f926b\" type=\"checkbox\" ><label class=\"sk-toggleable__label\" for=\"d08d4e53-be3c-4c41-85c7-fbdf042f926b\">preprocessor: ColumnTransformer</label><div class=\"sk-toggleable__content\"><pre>ColumnTransformer(transformers=[('ohe', OneHotEncoder(), ['Sex']),\n",
       "                                ('vectorizer', CountVectorizer(), 'Name'),\n",
       "                                ('imputer', SimpleImputer(), ['Age'])])</pre></div></div></div><div class=\"sk-parallel\"><div class=\"sk-parallel-item\"><div class=\"sk-item\"><div class=\"sk-label-container\"><div class=\"sk-label sk-toggleable\"><input class=\"sk-toggleable__control sk-hidden--visually\" id=\"449833ca-7311-40db-8044-487a9e8c482b\" type=\"checkbox\" ><label class=\"sk-toggleable__label\" for=\"449833ca-7311-40db-8044-487a9e8c482b\">ohe</label><div class=\"sk-toggleable__content\"><pre>['Sex']</pre></div></div></div><div class=\"sk-serial\"><div class=\"sk-item\"><div class=\"sk-estimator sk-toggleable\"><input class=\"sk-toggleable__control sk-hidden--visually\" id=\"fe7eed18-440a-4fef-ab47-62d65af75f53\" type=\"checkbox\" ><label class=\"sk-toggleable__label\" for=\"fe7eed18-440a-4fef-ab47-62d65af75f53\">OneHotEncoder</label><div class=\"sk-toggleable__content\"><pre>OneHotEncoder()</pre></div></div></div></div></div></div><div class=\"sk-parallel-item\"><div class=\"sk-item\"><div class=\"sk-label-container\"><div class=\"sk-label sk-toggleable\"><input class=\"sk-toggleable__control sk-hidden--visually\" id=\"0a76f776-1104-422f-a522-48c9739186b7\" type=\"checkbox\" ><label class=\"sk-toggleable__label\" for=\"0a76f776-1104-422f-a522-48c9739186b7\">vectorizer</label><div class=\"sk-toggleable__content\"><pre>Name</pre></div></div></div><div class=\"sk-serial\"><div class=\"sk-item\"><div class=\"sk-estimator sk-toggleable\"><input class=\"sk-toggleable__control sk-hidden--visually\" id=\"430bc55c-539e-46e5-bb9d-01c0a597c32f\" type=\"checkbox\" ><label class=\"sk-toggleable__label\" for=\"430bc55c-539e-46e5-bb9d-01c0a597c32f\">CountVectorizer</label><div class=\"sk-toggleable__content\"><pre>CountVectorizer()</pre></div></div></div></div></div></div><div class=\"sk-parallel-item\"><div class=\"sk-item\"><div class=\"sk-label-container\"><div class=\"sk-label sk-toggleable\"><input class=\"sk-toggleable__control sk-hidden--visually\" id=\"91a7c31d-8a07-4458-af5c-822b564c4abe\" type=\"checkbox\" ><label class=\"sk-toggleable__label\" for=\"91a7c31d-8a07-4458-af5c-822b564c4abe\">imputer</label><div class=\"sk-toggleable__content\"><pre>['Age']</pre></div></div></div><div class=\"sk-serial\"><div class=\"sk-item\"><div class=\"sk-estimator sk-toggleable\"><input class=\"sk-toggleable__control sk-hidden--visually\" id=\"e6c1c439-77c2-4487-991d-c27bddbb1100\" type=\"checkbox\" ><label class=\"sk-toggleable__label\" for=\"e6c1c439-77c2-4487-991d-c27bddbb1100\">SimpleImputer</label><div class=\"sk-toggleable__content\"><pre>SimpleImputer()</pre></div></div></div></div></div></div></div></div><div class=\"sk-item\"><div class=\"sk-estimator sk-toggleable\"><input class=\"sk-toggleable__control sk-hidden--visually\" id=\"50c711aa-1042-406d-9c20-cb183c91ac8a\" type=\"checkbox\" ><label class=\"sk-toggleable__label\" for=\"50c711aa-1042-406d-9c20-cb183c91ac8a\">LogisticRegression</label><div class=\"sk-toggleable__content\"><pre>LogisticRegression(random_state=1, solver='liblinear')</pre></div></div></div></div></div></div></div></div></div></div></div></div>"
      ],
      "text/plain": [
       "GridSearchCV(cv=None, error_score=nan,\n",
       "             estimator=Pipeline(memory=None,\n",
       "                                steps=[('preprocessor',\n",
       "                                        ColumnTransformer(n_jobs=None,\n",
       "                                                          remainder='drop',\n",
       "                                                          sparse_threshold=0.3,\n",
       "                                                          transformer_weights=None,\n",
       "                                                          transformers=[('ohe',\n",
       "                                                                         OneHotEncoder(categories='auto',\n",
       "                                                                                       drop=None,\n",
       "                                                                                       dtype=<class 'numpy.float64'>,\n",
       "                                                                                       handle_unknown='error',\n",
       "                                                                                       sparse=True),\n",
       "                                                                         ['Sex']),\n",
       "                                                                        ('vectorizer',\n",
       "                                                                         CountVectorizer...\n",
       "                                                           warm_start=False))],\n",
       "                                verbose=False),\n",
       "             n_jobs=None,\n",
       "             param_grid={'classifier__C': [0.001, 0.01, 0.1, 1, 10, 100, 1000],\n",
       "                         'classifier__penalty': ['l1', 'l2'],\n",
       "                         'preprocessor__ohe__drop': [None, 'first'],\n",
       "                         'preprocessor__vectorizer__min_df': [1, 2, 3],\n",
       "                         'preprocessor__vectorizer__ngram_range': [(1, 1),\n",
       "                                                                   (1, 2)]},\n",
       "             pre_dispatch='2*n_jobs', refit=True, return_train_score=False,\n",
       "             scoring=None, verbose=0)"
      ]
     },
     "execution_count": 281,
     "metadata": {},
     "output_type": "execute_result"
    }
   ],
   "source": [
    "grid"
   ]
  },
  {
   "cell_type": "markdown",
   "id": "af954c2f",
   "metadata": {},
   "source": [
    "### Not using parallel jobs"
   ]
  },
  {
   "cell_type": "code",
   "execution_count": 282,
   "id": "c6c3c5d3",
   "metadata": {},
   "outputs": [
    {
     "name": "stdout",
     "output_type": "stream",
     "text": [
      "Wall time: 25.5 s\n"
     ]
    },
    {
     "data": {
      "text/html": [
       "<style>#sk-61ba0ea6-8003-4294-9223-d057c978b960 {color: black;background-color: white;}#sk-61ba0ea6-8003-4294-9223-d057c978b960 pre{padding: 0;}#sk-61ba0ea6-8003-4294-9223-d057c978b960 div.sk-toggleable {background-color: white;}#sk-61ba0ea6-8003-4294-9223-d057c978b960 label.sk-toggleable__label {cursor: pointer;display: block;width: 100%;margin-bottom: 0;padding: 0.3em;box-sizing: border-box;text-align: center;}#sk-61ba0ea6-8003-4294-9223-d057c978b960 div.sk-toggleable__content {max-height: 0;max-width: 0;overflow: hidden;text-align: left;background-color: #f0f8ff;}#sk-61ba0ea6-8003-4294-9223-d057c978b960 div.sk-toggleable__content pre {margin: 0.2em;color: black;border-radius: 0.25em;background-color: #f0f8ff;}#sk-61ba0ea6-8003-4294-9223-d057c978b960 input.sk-toggleable__control:checked~div.sk-toggleable__content {max-height: 200px;max-width: 100%;overflow: auto;}#sk-61ba0ea6-8003-4294-9223-d057c978b960 div.sk-estimator input.sk-toggleable__control:checked~label.sk-toggleable__label {background-color: #d4ebff;}#sk-61ba0ea6-8003-4294-9223-d057c978b960 div.sk-label input.sk-toggleable__control:checked~label.sk-toggleable__label {background-color: #d4ebff;}#sk-61ba0ea6-8003-4294-9223-d057c978b960 input.sk-hidden--visually {border: 0;clip: rect(1px 1px 1px 1px);clip: rect(1px, 1px, 1px, 1px);height: 1px;margin: -1px;overflow: hidden;padding: 0;position: absolute;width: 1px;}#sk-61ba0ea6-8003-4294-9223-d057c978b960 div.sk-estimator {font-family: monospace;background-color: #f0f8ff;border: 1px dotted black;border-radius: 0.25em;box-sizing: border-box;margin-bottom: 0.5em;}#sk-61ba0ea6-8003-4294-9223-d057c978b960 div.sk-estimator:hover {background-color: #d4ebff;}#sk-61ba0ea6-8003-4294-9223-d057c978b960 div.sk-parallel-item::after {content: \"\";width: 100%;border-bottom: 1px solid gray;flex-grow: 1;}#sk-61ba0ea6-8003-4294-9223-d057c978b960 div.sk-label:hover label.sk-toggleable__label {background-color: #d4ebff;}#sk-61ba0ea6-8003-4294-9223-d057c978b960 div.sk-serial::before {content: \"\";position: absolute;border-left: 1px solid gray;box-sizing: border-box;top: 2em;bottom: 0;left: 50%;}#sk-61ba0ea6-8003-4294-9223-d057c978b960 div.sk-serial {display: flex;flex-direction: column;align-items: center;background-color: white;padding-right: 0.2em;padding-left: 0.2em;}#sk-61ba0ea6-8003-4294-9223-d057c978b960 div.sk-item {z-index: 1;}#sk-61ba0ea6-8003-4294-9223-d057c978b960 div.sk-parallel {display: flex;align-items: stretch;justify-content: center;background-color: white;}#sk-61ba0ea6-8003-4294-9223-d057c978b960 div.sk-parallel::before {content: \"\";position: absolute;border-left: 1px solid gray;box-sizing: border-box;top: 2em;bottom: 0;left: 50%;}#sk-61ba0ea6-8003-4294-9223-d057c978b960 div.sk-parallel-item {display: flex;flex-direction: column;position: relative;background-color: white;}#sk-61ba0ea6-8003-4294-9223-d057c978b960 div.sk-parallel-item:first-child::after {align-self: flex-end;width: 50%;}#sk-61ba0ea6-8003-4294-9223-d057c978b960 div.sk-parallel-item:last-child::after {align-self: flex-start;width: 50%;}#sk-61ba0ea6-8003-4294-9223-d057c978b960 div.sk-parallel-item:only-child::after {width: 0;}#sk-61ba0ea6-8003-4294-9223-d057c978b960 div.sk-dashed-wrapped {border: 1px dashed gray;margin: 0 0.4em 0.5em 0.4em;box-sizing: border-box;padding-bottom: 0.4em;background-color: white;position: relative;}#sk-61ba0ea6-8003-4294-9223-d057c978b960 div.sk-label label {font-family: monospace;font-weight: bold;background-color: white;display: inline-block;line-height: 1.2em;}#sk-61ba0ea6-8003-4294-9223-d057c978b960 div.sk-label-container {position: relative;z-index: 2;text-align: center;}#sk-61ba0ea6-8003-4294-9223-d057c978b960 div.sk-container {display: inline-block;position: relative;}</style><div id=\"sk-61ba0ea6-8003-4294-9223-d057c978b960\" class\"sk-top-container\"><div class=\"sk-container\"><div class=\"sk-item sk-dashed-wrapped\"><div class=\"sk-label-container\"><div class=\"sk-label sk-toggleable\"><input class=\"sk-toggleable__control sk-hidden--visually\" id=\"5cea9ea9-fb26-4b08-b8b5-64a50c7854c3\" type=\"checkbox\" ><label class=\"sk-toggleable__label\" for=\"5cea9ea9-fb26-4b08-b8b5-64a50c7854c3\">GridSearchCV</label><div class=\"sk-toggleable__content\"><pre>GridSearchCV(cv=None, error_score=nan,\n",
       "             estimator=Pipeline(memory=None,\n",
       "                                steps=[('preprocessor',\n",
       "                                        ColumnTransformer(n_jobs=None,\n",
       "                                                          remainder='drop',\n",
       "                                                          sparse_threshold=0.3,\n",
       "                                                          transformer_weights=None,\n",
       "                                                          transformers=[('ohe',\n",
       "                                                                         OneHotEncoder(categories='auto',\n",
       "                                                                                       drop=None,\n",
       "                                                                                       dtype=<class 'numpy.float64'>,\n",
       "                                                                                       handle_unknown='error',\n",
       "                                                                                       sparse=True),\n",
       "                                                                         ['Sex']),\n",
       "                                                                        ('vectorizer',\n",
       "                                                                         CountVectorizer...\n",
       "                                                           warm_start=False))],\n",
       "                                verbose=False),\n",
       "             n_jobs=None,\n",
       "             param_grid={'classifier__C': [0.001, 0.01, 0.1, 1, 10, 100, 1000],\n",
       "                         'classifier__penalty': ['l1', 'l2'],\n",
       "                         'preprocessor__ohe__drop': [None, 'first'],\n",
       "                         'preprocessor__vectorizer__min_df': [1, 2, 3],\n",
       "                         'preprocessor__vectorizer__ngram_range': [(1, 1),\n",
       "                                                                   (1, 2)]},\n",
       "             pre_dispatch='2*n_jobs', refit=True, return_train_score=False,\n",
       "             scoring=None, verbose=0)</pre></div></div></div><div class=\"sk-parallel\"><div class=\"sk-parallel-item\"><div class=\"sk-item\"><div class=\"sk-serial\"><div class=\"sk-item\"><div class=\"sk-serial\"><div class=\"sk-item sk-dashed-wrapped\"><div class=\"sk-label-container\"><div class=\"sk-label sk-toggleable\"><input class=\"sk-toggleable__control sk-hidden--visually\" id=\"0fa79bb2-9473-4919-94d3-572dad88a516\" type=\"checkbox\" ><label class=\"sk-toggleable__label\" for=\"0fa79bb2-9473-4919-94d3-572dad88a516\">preprocessor: ColumnTransformer</label><div class=\"sk-toggleable__content\"><pre>ColumnTransformer(transformers=[('ohe', OneHotEncoder(), ['Sex']),\n",
       "                                ('vectorizer', CountVectorizer(), 'Name'),\n",
       "                                ('imputer', SimpleImputer(), ['Age'])])</pre></div></div></div><div class=\"sk-parallel\"><div class=\"sk-parallel-item\"><div class=\"sk-item\"><div class=\"sk-label-container\"><div class=\"sk-label sk-toggleable\"><input class=\"sk-toggleable__control sk-hidden--visually\" id=\"8601f3a0-139e-4c94-ae69-baf54bead532\" type=\"checkbox\" ><label class=\"sk-toggleable__label\" for=\"8601f3a0-139e-4c94-ae69-baf54bead532\">ohe</label><div class=\"sk-toggleable__content\"><pre>['Sex']</pre></div></div></div><div class=\"sk-serial\"><div class=\"sk-item\"><div class=\"sk-estimator sk-toggleable\"><input class=\"sk-toggleable__control sk-hidden--visually\" id=\"08850f9d-0e92-49f2-ab3c-7258f3e44d49\" type=\"checkbox\" ><label class=\"sk-toggleable__label\" for=\"08850f9d-0e92-49f2-ab3c-7258f3e44d49\">OneHotEncoder</label><div class=\"sk-toggleable__content\"><pre>OneHotEncoder()</pre></div></div></div></div></div></div><div class=\"sk-parallel-item\"><div class=\"sk-item\"><div class=\"sk-label-container\"><div class=\"sk-label sk-toggleable\"><input class=\"sk-toggleable__control sk-hidden--visually\" id=\"a3e9c25f-f9f6-4468-9a6d-827f4f8317bb\" type=\"checkbox\" ><label class=\"sk-toggleable__label\" for=\"a3e9c25f-f9f6-4468-9a6d-827f4f8317bb\">vectorizer</label><div class=\"sk-toggleable__content\"><pre>Name</pre></div></div></div><div class=\"sk-serial\"><div class=\"sk-item\"><div class=\"sk-estimator sk-toggleable\"><input class=\"sk-toggleable__control sk-hidden--visually\" id=\"6ad8f1f4-08db-408d-acce-d0462f3e9786\" type=\"checkbox\" ><label class=\"sk-toggleable__label\" for=\"6ad8f1f4-08db-408d-acce-d0462f3e9786\">CountVectorizer</label><div class=\"sk-toggleable__content\"><pre>CountVectorizer()</pre></div></div></div></div></div></div><div class=\"sk-parallel-item\"><div class=\"sk-item\"><div class=\"sk-label-container\"><div class=\"sk-label sk-toggleable\"><input class=\"sk-toggleable__control sk-hidden--visually\" id=\"c30ebc3a-12dc-459e-b905-7c56da6dbfa1\" type=\"checkbox\" ><label class=\"sk-toggleable__label\" for=\"c30ebc3a-12dc-459e-b905-7c56da6dbfa1\">imputer</label><div class=\"sk-toggleable__content\"><pre>['Age']</pre></div></div></div><div class=\"sk-serial\"><div class=\"sk-item\"><div class=\"sk-estimator sk-toggleable\"><input class=\"sk-toggleable__control sk-hidden--visually\" id=\"9a3d83bb-30b0-4d2a-a4d2-c048238cbd48\" type=\"checkbox\" ><label class=\"sk-toggleable__label\" for=\"9a3d83bb-30b0-4d2a-a4d2-c048238cbd48\">SimpleImputer</label><div class=\"sk-toggleable__content\"><pre>SimpleImputer()</pre></div></div></div></div></div></div></div></div><div class=\"sk-item\"><div class=\"sk-estimator sk-toggleable\"><input class=\"sk-toggleable__control sk-hidden--visually\" id=\"c3137723-52f4-4823-8f13-66deaca60628\" type=\"checkbox\" ><label class=\"sk-toggleable__label\" for=\"c3137723-52f4-4823-8f13-66deaca60628\">LogisticRegression</label><div class=\"sk-toggleable__content\"><pre>LogisticRegression(random_state=1, solver='liblinear')</pre></div></div></div></div></div></div></div></div></div></div></div></div>"
      ],
      "text/plain": [
       "GridSearchCV(cv=None, error_score=nan,\n",
       "             estimator=Pipeline(memory=None,\n",
       "                                steps=[('preprocessor',\n",
       "                                        ColumnTransformer(n_jobs=None,\n",
       "                                                          remainder='drop',\n",
       "                                                          sparse_threshold=0.3,\n",
       "                                                          transformer_weights=None,\n",
       "                                                          transformers=[('ohe',\n",
       "                                                                         OneHotEncoder(categories='auto',\n",
       "                                                                                       drop=None,\n",
       "                                                                                       dtype=<class 'numpy.float64'>,\n",
       "                                                                                       handle_unknown='error',\n",
       "                                                                                       sparse=True),\n",
       "                                                                         ['Sex']),\n",
       "                                                                        ('vectorizer',\n",
       "                                                                         CountVectorizer...\n",
       "                                                           warm_start=False))],\n",
       "                                verbose=False),\n",
       "             n_jobs=None,\n",
       "             param_grid={'classifier__C': [0.001, 0.01, 0.1, 1, 10, 100, 1000],\n",
       "                         'classifier__penalty': ['l1', 'l2'],\n",
       "                         'preprocessor__ohe__drop': [None, 'first'],\n",
       "                         'preprocessor__vectorizer__min_df': [1, 2, 3],\n",
       "                         'preprocessor__vectorizer__ngram_range': [(1, 1),\n",
       "                                                                   (1, 2)]},\n",
       "             pre_dispatch='2*n_jobs', refit=True, return_train_score=False,\n",
       "             scoring=None, verbose=0)"
      ]
     },
     "execution_count": 282,
     "metadata": {},
     "output_type": "execute_result"
    }
   ],
   "source": [
    "%time grid.fit(X, y)"
   ]
  },
  {
   "cell_type": "markdown",
   "id": "89038e90",
   "metadata": {},
   "source": [
    "### Using parallel processing"
   ]
  },
  {
   "cell_type": "code",
   "execution_count": 283,
   "id": "0039c163",
   "metadata": {},
   "outputs": [
    {
     "name": "stdout",
     "output_type": "stream",
     "text": [
      "Wall time: 25.3 s\n"
     ]
    },
    {
     "data": {
      "text/html": [
       "<style>#sk-32285d4f-85f7-4163-9b17-98c4a0b2a56b {color: black;background-color: white;}#sk-32285d4f-85f7-4163-9b17-98c4a0b2a56b pre{padding: 0;}#sk-32285d4f-85f7-4163-9b17-98c4a0b2a56b div.sk-toggleable {background-color: white;}#sk-32285d4f-85f7-4163-9b17-98c4a0b2a56b label.sk-toggleable__label {cursor: pointer;display: block;width: 100%;margin-bottom: 0;padding: 0.3em;box-sizing: border-box;text-align: center;}#sk-32285d4f-85f7-4163-9b17-98c4a0b2a56b div.sk-toggleable__content {max-height: 0;max-width: 0;overflow: hidden;text-align: left;background-color: #f0f8ff;}#sk-32285d4f-85f7-4163-9b17-98c4a0b2a56b div.sk-toggleable__content pre {margin: 0.2em;color: black;border-radius: 0.25em;background-color: #f0f8ff;}#sk-32285d4f-85f7-4163-9b17-98c4a0b2a56b input.sk-toggleable__control:checked~div.sk-toggleable__content {max-height: 200px;max-width: 100%;overflow: auto;}#sk-32285d4f-85f7-4163-9b17-98c4a0b2a56b div.sk-estimator input.sk-toggleable__control:checked~label.sk-toggleable__label {background-color: #d4ebff;}#sk-32285d4f-85f7-4163-9b17-98c4a0b2a56b div.sk-label input.sk-toggleable__control:checked~label.sk-toggleable__label {background-color: #d4ebff;}#sk-32285d4f-85f7-4163-9b17-98c4a0b2a56b input.sk-hidden--visually {border: 0;clip: rect(1px 1px 1px 1px);clip: rect(1px, 1px, 1px, 1px);height: 1px;margin: -1px;overflow: hidden;padding: 0;position: absolute;width: 1px;}#sk-32285d4f-85f7-4163-9b17-98c4a0b2a56b div.sk-estimator {font-family: monospace;background-color: #f0f8ff;border: 1px dotted black;border-radius: 0.25em;box-sizing: border-box;margin-bottom: 0.5em;}#sk-32285d4f-85f7-4163-9b17-98c4a0b2a56b div.sk-estimator:hover {background-color: #d4ebff;}#sk-32285d4f-85f7-4163-9b17-98c4a0b2a56b div.sk-parallel-item::after {content: \"\";width: 100%;border-bottom: 1px solid gray;flex-grow: 1;}#sk-32285d4f-85f7-4163-9b17-98c4a0b2a56b div.sk-label:hover label.sk-toggleable__label {background-color: #d4ebff;}#sk-32285d4f-85f7-4163-9b17-98c4a0b2a56b div.sk-serial::before {content: \"\";position: absolute;border-left: 1px solid gray;box-sizing: border-box;top: 2em;bottom: 0;left: 50%;}#sk-32285d4f-85f7-4163-9b17-98c4a0b2a56b div.sk-serial {display: flex;flex-direction: column;align-items: center;background-color: white;padding-right: 0.2em;padding-left: 0.2em;}#sk-32285d4f-85f7-4163-9b17-98c4a0b2a56b div.sk-item {z-index: 1;}#sk-32285d4f-85f7-4163-9b17-98c4a0b2a56b div.sk-parallel {display: flex;align-items: stretch;justify-content: center;background-color: white;}#sk-32285d4f-85f7-4163-9b17-98c4a0b2a56b div.sk-parallel::before {content: \"\";position: absolute;border-left: 1px solid gray;box-sizing: border-box;top: 2em;bottom: 0;left: 50%;}#sk-32285d4f-85f7-4163-9b17-98c4a0b2a56b div.sk-parallel-item {display: flex;flex-direction: column;position: relative;background-color: white;}#sk-32285d4f-85f7-4163-9b17-98c4a0b2a56b div.sk-parallel-item:first-child::after {align-self: flex-end;width: 50%;}#sk-32285d4f-85f7-4163-9b17-98c4a0b2a56b div.sk-parallel-item:last-child::after {align-self: flex-start;width: 50%;}#sk-32285d4f-85f7-4163-9b17-98c4a0b2a56b div.sk-parallel-item:only-child::after {width: 0;}#sk-32285d4f-85f7-4163-9b17-98c4a0b2a56b div.sk-dashed-wrapped {border: 1px dashed gray;margin: 0 0.4em 0.5em 0.4em;box-sizing: border-box;padding-bottom: 0.4em;background-color: white;position: relative;}#sk-32285d4f-85f7-4163-9b17-98c4a0b2a56b div.sk-label label {font-family: monospace;font-weight: bold;background-color: white;display: inline-block;line-height: 1.2em;}#sk-32285d4f-85f7-4163-9b17-98c4a0b2a56b div.sk-label-container {position: relative;z-index: 2;text-align: center;}#sk-32285d4f-85f7-4163-9b17-98c4a0b2a56b div.sk-container {display: inline-block;position: relative;}</style><div id=\"sk-32285d4f-85f7-4163-9b17-98c4a0b2a56b\" class\"sk-top-container\"><div class=\"sk-container\"><div class=\"sk-item sk-dashed-wrapped\"><div class=\"sk-label-container\"><div class=\"sk-label sk-toggleable\"><input class=\"sk-toggleable__control sk-hidden--visually\" id=\"97e6f053-7628-4a3f-af2d-6df99bccb48e\" type=\"checkbox\" ><label class=\"sk-toggleable__label\" for=\"97e6f053-7628-4a3f-af2d-6df99bccb48e\">GridSearchCV</label><div class=\"sk-toggleable__content\"><pre>GridSearchCV(cv=None, error_score=nan,\n",
       "             estimator=Pipeline(memory=None,\n",
       "                                steps=[('preprocessor',\n",
       "                                        ColumnTransformer(n_jobs=None,\n",
       "                                                          remainder='drop',\n",
       "                                                          sparse_threshold=0.3,\n",
       "                                                          transformer_weights=None,\n",
       "                                                          transformers=[('ohe',\n",
       "                                                                         OneHotEncoder(categories='auto',\n",
       "                                                                                       drop=None,\n",
       "                                                                                       dtype=<class 'numpy.float64'>,\n",
       "                                                                                       handle_unknown='error',\n",
       "                                                                                       sparse=True),\n",
       "                                                                         ['Sex']),\n",
       "                                                                        ('vectorizer',\n",
       "                                                                         CountVectorizer...\n",
       "                                                           warm_start=False))],\n",
       "                                verbose=False),\n",
       "             n_jobs=None,\n",
       "             param_grid={'classifier__C': [0.001, 0.01, 0.1, 1, 10, 100, 1000],\n",
       "                         'classifier__penalty': ['l1', 'l2'],\n",
       "                         'preprocessor__ohe__drop': [None, 'first'],\n",
       "                         'preprocessor__vectorizer__min_df': [1, 2, 3],\n",
       "                         'preprocessor__vectorizer__ngram_range': [(1, 1),\n",
       "                                                                   (1, 2)]},\n",
       "             pre_dispatch='2*n_jobs', refit=True, return_train_score=False,\n",
       "             scoring=None, verbose=0)</pre></div></div></div><div class=\"sk-parallel\"><div class=\"sk-parallel-item\"><div class=\"sk-item\"><div class=\"sk-serial\"><div class=\"sk-item\"><div class=\"sk-serial\"><div class=\"sk-item sk-dashed-wrapped\"><div class=\"sk-label-container\"><div class=\"sk-label sk-toggleable\"><input class=\"sk-toggleable__control sk-hidden--visually\" id=\"3704a735-4fac-4ddb-a2df-91f9c27707e7\" type=\"checkbox\" ><label class=\"sk-toggleable__label\" for=\"3704a735-4fac-4ddb-a2df-91f9c27707e7\">preprocessor: ColumnTransformer</label><div class=\"sk-toggleable__content\"><pre>ColumnTransformer(transformers=[('ohe', OneHotEncoder(), ['Sex']),\n",
       "                                ('vectorizer', CountVectorizer(), 'Name'),\n",
       "                                ('imputer', SimpleImputer(), ['Age'])])</pre></div></div></div><div class=\"sk-parallel\"><div class=\"sk-parallel-item\"><div class=\"sk-item\"><div class=\"sk-label-container\"><div class=\"sk-label sk-toggleable\"><input class=\"sk-toggleable__control sk-hidden--visually\" id=\"6f5c3876-03c8-45cf-87c0-19d277545b8c\" type=\"checkbox\" ><label class=\"sk-toggleable__label\" for=\"6f5c3876-03c8-45cf-87c0-19d277545b8c\">ohe</label><div class=\"sk-toggleable__content\"><pre>['Sex']</pre></div></div></div><div class=\"sk-serial\"><div class=\"sk-item\"><div class=\"sk-estimator sk-toggleable\"><input class=\"sk-toggleable__control sk-hidden--visually\" id=\"a86d316b-6b7f-422a-ab7d-b4ac5ebed6f5\" type=\"checkbox\" ><label class=\"sk-toggleable__label\" for=\"a86d316b-6b7f-422a-ab7d-b4ac5ebed6f5\">OneHotEncoder</label><div class=\"sk-toggleable__content\"><pre>OneHotEncoder()</pre></div></div></div></div></div></div><div class=\"sk-parallel-item\"><div class=\"sk-item\"><div class=\"sk-label-container\"><div class=\"sk-label sk-toggleable\"><input class=\"sk-toggleable__control sk-hidden--visually\" id=\"caa31bef-8717-4315-8a11-b1c2feb8bafe\" type=\"checkbox\" ><label class=\"sk-toggleable__label\" for=\"caa31bef-8717-4315-8a11-b1c2feb8bafe\">vectorizer</label><div class=\"sk-toggleable__content\"><pre>Name</pre></div></div></div><div class=\"sk-serial\"><div class=\"sk-item\"><div class=\"sk-estimator sk-toggleable\"><input class=\"sk-toggleable__control sk-hidden--visually\" id=\"0618dc69-f773-4cce-b1f2-fc9a0d583038\" type=\"checkbox\" ><label class=\"sk-toggleable__label\" for=\"0618dc69-f773-4cce-b1f2-fc9a0d583038\">CountVectorizer</label><div class=\"sk-toggleable__content\"><pre>CountVectorizer()</pre></div></div></div></div></div></div><div class=\"sk-parallel-item\"><div class=\"sk-item\"><div class=\"sk-label-container\"><div class=\"sk-label sk-toggleable\"><input class=\"sk-toggleable__control sk-hidden--visually\" id=\"1ee9e21c-3b3e-47fc-ad95-89437893dce9\" type=\"checkbox\" ><label class=\"sk-toggleable__label\" for=\"1ee9e21c-3b3e-47fc-ad95-89437893dce9\">imputer</label><div class=\"sk-toggleable__content\"><pre>['Age']</pre></div></div></div><div class=\"sk-serial\"><div class=\"sk-item\"><div class=\"sk-estimator sk-toggleable\"><input class=\"sk-toggleable__control sk-hidden--visually\" id=\"d1c13061-c1e7-4600-9dcc-c3141a580c77\" type=\"checkbox\" ><label class=\"sk-toggleable__label\" for=\"d1c13061-c1e7-4600-9dcc-c3141a580c77\">SimpleImputer</label><div class=\"sk-toggleable__content\"><pre>SimpleImputer()</pre></div></div></div></div></div></div></div></div><div class=\"sk-item\"><div class=\"sk-estimator sk-toggleable\"><input class=\"sk-toggleable__control sk-hidden--visually\" id=\"9f5248f2-ac4a-4b7f-a544-2ea7733f51cf\" type=\"checkbox\" ><label class=\"sk-toggleable__label\" for=\"9f5248f2-ac4a-4b7f-a544-2ea7733f51cf\">LogisticRegression</label><div class=\"sk-toggleable__content\"><pre>LogisticRegression(random_state=1, solver='liblinear')</pre></div></div></div></div></div></div></div></div></div></div></div></div>"
      ],
      "text/plain": [
       "GridSearchCV(cv=None, error_score=nan,\n",
       "             estimator=Pipeline(memory=None,\n",
       "                                steps=[('preprocessor',\n",
       "                                        ColumnTransformer(n_jobs=None,\n",
       "                                                          remainder='drop',\n",
       "                                                          sparse_threshold=0.3,\n",
       "                                                          transformer_weights=None,\n",
       "                                                          transformers=[('ohe',\n",
       "                                                                         OneHotEncoder(categories='auto',\n",
       "                                                                                       drop=None,\n",
       "                                                                                       dtype=<class 'numpy.float64'>,\n",
       "                                                                                       handle_unknown='error',\n",
       "                                                                                       sparse=True),\n",
       "                                                                         ['Sex']),\n",
       "                                                                        ('vectorizer',\n",
       "                                                                         CountVectorizer...\n",
       "                                                           warm_start=False))],\n",
       "                                verbose=False),\n",
       "             n_jobs=None,\n",
       "             param_grid={'classifier__C': [0.001, 0.01, 0.1, 1, 10, 100, 1000],\n",
       "                         'classifier__penalty': ['l1', 'l2'],\n",
       "                         'preprocessor__ohe__drop': [None, 'first'],\n",
       "                         'preprocessor__vectorizer__min_df': [1, 2, 3],\n",
       "                         'preprocessor__vectorizer__ngram_range': [(1, 1),\n",
       "                                                                   (1, 2)]},\n",
       "             pre_dispatch='2*n_jobs', refit=True, return_train_score=False,\n",
       "             scoring=None, verbose=0)"
      ]
     },
     "execution_count": 283,
     "metadata": {},
     "output_type": "execute_result"
    }
   ],
   "source": [
    "grid2 = GridSearchCV(pipe, params, n_jobs=-1)\n",
    "%time grid.fit(X, y)"
   ]
  },
  {
   "cell_type": "markdown",
   "id": "00f05a8b",
   "metadata": {},
   "source": [
    "## Tune multiple models simultaneously with GridSearchCV\n",
    "\n",
    "You can tune 2+ models using the same grid search! Here's how:\n",
    "+ Create multiple parameter dictionaries\n",
    "+ Specify the model within each dictionary\n",
    "+ Put the dictionaries in a list"
   ]
  },
  {
   "cell_type": "code",
   "execution_count": 284,
   "id": "aff9741c",
   "metadata": {},
   "outputs": [],
   "source": [
    "file_input_path = \"titanic_train.csv\"\n",
    "if not os.path.exists(file_input_path):\n",
    "    df_train = pd.read_csv(\"http://bit.ly/kaggletrain\")\n",
    "    df_train.to_csv(file_input_path, header=True, index=False, sep=\"\\t\")\n",
    "else:\n",
    "    df_train = pd.read_csv(file_input_path, header=0, sep=\"\\t\")\n",
    "    \n",
    "features = [\"Sex\", \"Name\", \"Age\"]\n",
    "X, y = df_train[features], df_train[\"Survived\"]"
   ]
  },
  {
   "cell_type": "code",
   "execution_count": 285,
   "id": "3d5b3ac3",
   "metadata": {},
   "outputs": [],
   "source": [
    "col_transformer = ColumnTransformer(\n",
    "    [\n",
    "        (\"ohe\", OneHotEncoder(), [\"Sex\"]),\n",
    "        (\"vectorizer\", CountVectorizer(), \"Name\"),\n",
    "        (\"imputer\", SimpleImputer(), [\"Age\"])\n",
    "    ]\n",
    ")"
   ]
  },
  {
   "cell_type": "code",
   "execution_count": 286,
   "id": "b61f8639",
   "metadata": {},
   "outputs": [],
   "source": [
    "clf1 = LogisticRegression(solver=\"liblinear\", random_state=1)\n",
    "clf2 = RandomForestClassifier(random_state=1)"
   ]
  },
  {
   "cell_type": "markdown",
   "id": "d75d3a8b",
   "metadata": {},
   "source": [
    "### Create multiple parameter dictionaries"
   ]
  },
  {
   "cell_type": "code",
   "execution_count": 287,
   "id": "15a31234",
   "metadata": {},
   "outputs": [],
   "source": [
    "# create the parameter dictionary for clf1\n",
    "params1 = {}\n",
    "params1['preprocessor__vectorizer__ngram_range'] = [(1, 1), (1, 2)]\n",
    "params1['classifier__penalty'] = ['l1', 'l2']\n",
    "params1['classifier__C'] = [0.1, 1, 10]\n",
    "params1['classifier'] = [clf1]"
   ]
  },
  {
   "cell_type": "code",
   "execution_count": 288,
   "id": "0f73491b",
   "metadata": {},
   "outputs": [],
   "source": [
    "# create the parameter dictionary for clf2\n",
    "params2 = {}\n",
    "params2['preprocessor__vectorizer__ngram_range'] = [(1, 1), (1, 2)]\n",
    "params2['classifier__n_estimators'] = [100, 200]\n",
    "params2['classifier__min_samples_leaf'] = [1, 2]\n",
    "params2['classifier'] = [clf2]"
   ]
  },
  {
   "cell_type": "markdown",
   "id": "71c35b7e",
   "metadata": {},
   "source": [
    "### Create a list of parameter dictionaries"
   ]
  },
  {
   "cell_type": "code",
   "execution_count": 289,
   "id": "e8ecbf9f",
   "metadata": {},
   "outputs": [],
   "source": [
    "params = [params1, params2]"
   ]
  },
  {
   "cell_type": "markdown",
   "id": "3b7cd646",
   "metadata": {},
   "source": [
    "### Create the Pipeline"
   ]
  },
  {
   "cell_type": "code",
   "execution_count": 290,
   "id": "0d0e943d",
   "metadata": {},
   "outputs": [],
   "source": [
    "pipe = Pipeline([('preprocessor', col_transformer), ('classifier', clf2)])"
   ]
  },
  {
   "cell_type": "markdown",
   "id": "38f5934d",
   "metadata": {},
   "source": [
    "### Grid Search with given dictionary"
   ]
  },
  {
   "cell_type": "code",
   "execution_count": 291,
   "id": "cdaab67f",
   "metadata": {},
   "outputs": [
    {
     "data": {
      "text/html": [
       "<style>#sk-cc86e194-bfed-4ee3-8c3b-9d78590f3bdc {color: black;background-color: white;}#sk-cc86e194-bfed-4ee3-8c3b-9d78590f3bdc pre{padding: 0;}#sk-cc86e194-bfed-4ee3-8c3b-9d78590f3bdc div.sk-toggleable {background-color: white;}#sk-cc86e194-bfed-4ee3-8c3b-9d78590f3bdc label.sk-toggleable__label {cursor: pointer;display: block;width: 100%;margin-bottom: 0;padding: 0.3em;box-sizing: border-box;text-align: center;}#sk-cc86e194-bfed-4ee3-8c3b-9d78590f3bdc div.sk-toggleable__content {max-height: 0;max-width: 0;overflow: hidden;text-align: left;background-color: #f0f8ff;}#sk-cc86e194-bfed-4ee3-8c3b-9d78590f3bdc div.sk-toggleable__content pre {margin: 0.2em;color: black;border-radius: 0.25em;background-color: #f0f8ff;}#sk-cc86e194-bfed-4ee3-8c3b-9d78590f3bdc input.sk-toggleable__control:checked~div.sk-toggleable__content {max-height: 200px;max-width: 100%;overflow: auto;}#sk-cc86e194-bfed-4ee3-8c3b-9d78590f3bdc div.sk-estimator input.sk-toggleable__control:checked~label.sk-toggleable__label {background-color: #d4ebff;}#sk-cc86e194-bfed-4ee3-8c3b-9d78590f3bdc div.sk-label input.sk-toggleable__control:checked~label.sk-toggleable__label {background-color: #d4ebff;}#sk-cc86e194-bfed-4ee3-8c3b-9d78590f3bdc input.sk-hidden--visually {border: 0;clip: rect(1px 1px 1px 1px);clip: rect(1px, 1px, 1px, 1px);height: 1px;margin: -1px;overflow: hidden;padding: 0;position: absolute;width: 1px;}#sk-cc86e194-bfed-4ee3-8c3b-9d78590f3bdc div.sk-estimator {font-family: monospace;background-color: #f0f8ff;border: 1px dotted black;border-radius: 0.25em;box-sizing: border-box;margin-bottom: 0.5em;}#sk-cc86e194-bfed-4ee3-8c3b-9d78590f3bdc div.sk-estimator:hover {background-color: #d4ebff;}#sk-cc86e194-bfed-4ee3-8c3b-9d78590f3bdc div.sk-parallel-item::after {content: \"\";width: 100%;border-bottom: 1px solid gray;flex-grow: 1;}#sk-cc86e194-bfed-4ee3-8c3b-9d78590f3bdc div.sk-label:hover label.sk-toggleable__label {background-color: #d4ebff;}#sk-cc86e194-bfed-4ee3-8c3b-9d78590f3bdc div.sk-serial::before {content: \"\";position: absolute;border-left: 1px solid gray;box-sizing: border-box;top: 2em;bottom: 0;left: 50%;}#sk-cc86e194-bfed-4ee3-8c3b-9d78590f3bdc div.sk-serial {display: flex;flex-direction: column;align-items: center;background-color: white;padding-right: 0.2em;padding-left: 0.2em;}#sk-cc86e194-bfed-4ee3-8c3b-9d78590f3bdc div.sk-item {z-index: 1;}#sk-cc86e194-bfed-4ee3-8c3b-9d78590f3bdc div.sk-parallel {display: flex;align-items: stretch;justify-content: center;background-color: white;}#sk-cc86e194-bfed-4ee3-8c3b-9d78590f3bdc div.sk-parallel::before {content: \"\";position: absolute;border-left: 1px solid gray;box-sizing: border-box;top: 2em;bottom: 0;left: 50%;}#sk-cc86e194-bfed-4ee3-8c3b-9d78590f3bdc div.sk-parallel-item {display: flex;flex-direction: column;position: relative;background-color: white;}#sk-cc86e194-bfed-4ee3-8c3b-9d78590f3bdc div.sk-parallel-item:first-child::after {align-self: flex-end;width: 50%;}#sk-cc86e194-bfed-4ee3-8c3b-9d78590f3bdc div.sk-parallel-item:last-child::after {align-self: flex-start;width: 50%;}#sk-cc86e194-bfed-4ee3-8c3b-9d78590f3bdc div.sk-parallel-item:only-child::after {width: 0;}#sk-cc86e194-bfed-4ee3-8c3b-9d78590f3bdc div.sk-dashed-wrapped {border: 1px dashed gray;margin: 0 0.4em 0.5em 0.4em;box-sizing: border-box;padding-bottom: 0.4em;background-color: white;position: relative;}#sk-cc86e194-bfed-4ee3-8c3b-9d78590f3bdc div.sk-label label {font-family: monospace;font-weight: bold;background-color: white;display: inline-block;line-height: 1.2em;}#sk-cc86e194-bfed-4ee3-8c3b-9d78590f3bdc div.sk-label-container {position: relative;z-index: 2;text-align: center;}#sk-cc86e194-bfed-4ee3-8c3b-9d78590f3bdc div.sk-container {display: inline-block;position: relative;}</style><div id=\"sk-cc86e194-bfed-4ee3-8c3b-9d78590f3bdc\" class\"sk-top-container\"><div class=\"sk-container\"><div class=\"sk-item sk-dashed-wrapped\"><div class=\"sk-label-container\"><div class=\"sk-label sk-toggleable\"><input class=\"sk-toggleable__control sk-hidden--visually\" id=\"90a02434-825f-4dc8-9937-6ecb46684700\" type=\"checkbox\" ><label class=\"sk-toggleable__label\" for=\"90a02434-825f-4dc8-9937-6ecb46684700\">GridSearchCV</label><div class=\"sk-toggleable__content\"><pre>GridSearchCV(cv=None, error_score=nan,\n",
       "             estimator=Pipeline(memory=None,\n",
       "                                steps=[('preprocessor',\n",
       "                                        ColumnTransformer(n_jobs=None,\n",
       "                                                          remainder='drop',\n",
       "                                                          sparse_threshold=0.3,\n",
       "                                                          transformer_weights=None,\n",
       "                                                          transformers=[('ohe',\n",
       "                                                                         OneHotEncoder(categories='auto',\n",
       "                                                                                       drop=None,\n",
       "                                                                                       dtype=<class 'numpy.float64'>,\n",
       "                                                                                       handle_unknown='error',\n",
       "                                                                                       sparse=True),\n",
       "                                                                         ['Sex']),\n",
       "                                                                        ('vectorizer',\n",
       "                                                                         CountVectorizer...\n",
       "                                                                min_samples_split=2,\n",
       "                                                                min_weight_fraction_leaf=0.0,\n",
       "                                                                n_estimators=100,\n",
       "                                                                n_jobs=None,\n",
       "                                                                oob_score=False,\n",
       "                                                                random_state=1,\n",
       "                                                                verbose=0,\n",
       "                                                                warm_start=False)],\n",
       "                          'classifier__min_samples_leaf': [1, 2],\n",
       "                          'classifier__n_estimators': [100, 200],\n",
       "                          'preprocessor__vectorizer__ngram_range': [(1, 1),\n",
       "                                                                    (1, 2)]}],\n",
       "             pre_dispatch='2*n_jobs', refit=True, return_train_score=False,\n",
       "             scoring=None, verbose=0)</pre></div></div></div><div class=\"sk-parallel\"><div class=\"sk-parallel-item\"><div class=\"sk-item\"><div class=\"sk-serial\"><div class=\"sk-item\"><div class=\"sk-serial\"><div class=\"sk-item sk-dashed-wrapped\"><div class=\"sk-label-container\"><div class=\"sk-label sk-toggleable\"><input class=\"sk-toggleable__control sk-hidden--visually\" id=\"85a26575-cc0c-45bd-bee7-8fc9dee05f7a\" type=\"checkbox\" ><label class=\"sk-toggleable__label\" for=\"85a26575-cc0c-45bd-bee7-8fc9dee05f7a\">preprocessor: ColumnTransformer</label><div class=\"sk-toggleable__content\"><pre>ColumnTransformer(transformers=[('ohe', OneHotEncoder(), ['Sex']),\n",
       "                                ('vectorizer', CountVectorizer(), 'Name'),\n",
       "                                ('imputer', SimpleImputer(), ['Age'])])</pre></div></div></div><div class=\"sk-parallel\"><div class=\"sk-parallel-item\"><div class=\"sk-item\"><div class=\"sk-label-container\"><div class=\"sk-label sk-toggleable\"><input class=\"sk-toggleable__control sk-hidden--visually\" id=\"d6737c8d-1786-4727-b0df-08e3f591debd\" type=\"checkbox\" ><label class=\"sk-toggleable__label\" for=\"d6737c8d-1786-4727-b0df-08e3f591debd\">ohe</label><div class=\"sk-toggleable__content\"><pre>['Sex']</pre></div></div></div><div class=\"sk-serial\"><div class=\"sk-item\"><div class=\"sk-estimator sk-toggleable\"><input class=\"sk-toggleable__control sk-hidden--visually\" id=\"e935f1af-31e2-4659-9a50-b58fae09cd47\" type=\"checkbox\" ><label class=\"sk-toggleable__label\" for=\"e935f1af-31e2-4659-9a50-b58fae09cd47\">OneHotEncoder</label><div class=\"sk-toggleable__content\"><pre>OneHotEncoder()</pre></div></div></div></div></div></div><div class=\"sk-parallel-item\"><div class=\"sk-item\"><div class=\"sk-label-container\"><div class=\"sk-label sk-toggleable\"><input class=\"sk-toggleable__control sk-hidden--visually\" id=\"041c203b-14f9-4547-8c23-12bd8e9199da\" type=\"checkbox\" ><label class=\"sk-toggleable__label\" for=\"041c203b-14f9-4547-8c23-12bd8e9199da\">vectorizer</label><div class=\"sk-toggleable__content\"><pre>Name</pre></div></div></div><div class=\"sk-serial\"><div class=\"sk-item\"><div class=\"sk-estimator sk-toggleable\"><input class=\"sk-toggleable__control sk-hidden--visually\" id=\"0efa4523-dd18-472d-9754-5be5ddd81300\" type=\"checkbox\" ><label class=\"sk-toggleable__label\" for=\"0efa4523-dd18-472d-9754-5be5ddd81300\">CountVectorizer</label><div class=\"sk-toggleable__content\"><pre>CountVectorizer()</pre></div></div></div></div></div></div><div class=\"sk-parallel-item\"><div class=\"sk-item\"><div class=\"sk-label-container\"><div class=\"sk-label sk-toggleable\"><input class=\"sk-toggleable__control sk-hidden--visually\" id=\"dc3b0f86-6fe6-4087-a3ec-a961d0c1af2a\" type=\"checkbox\" ><label class=\"sk-toggleable__label\" for=\"dc3b0f86-6fe6-4087-a3ec-a961d0c1af2a\">imputer</label><div class=\"sk-toggleable__content\"><pre>['Age']</pre></div></div></div><div class=\"sk-serial\"><div class=\"sk-item\"><div class=\"sk-estimator sk-toggleable\"><input class=\"sk-toggleable__control sk-hidden--visually\" id=\"03da53b2-785a-4ef0-be48-6bb9c404669a\" type=\"checkbox\" ><label class=\"sk-toggleable__label\" for=\"03da53b2-785a-4ef0-be48-6bb9c404669a\">SimpleImputer</label><div class=\"sk-toggleable__content\"><pre>SimpleImputer()</pre></div></div></div></div></div></div></div></div><div class=\"sk-item\"><div class=\"sk-estimator sk-toggleable\"><input class=\"sk-toggleable__control sk-hidden--visually\" id=\"089f4cc8-6bdf-44cf-86b2-b5acc2e45472\" type=\"checkbox\" ><label class=\"sk-toggleable__label\" for=\"089f4cc8-6bdf-44cf-86b2-b5acc2e45472\">RandomForestClassifier</label><div class=\"sk-toggleable__content\"><pre>RandomForestClassifier(random_state=1)</pre></div></div></div></div></div></div></div></div></div></div></div></div>"
      ],
      "text/plain": [
       "GridSearchCV(cv=None, error_score=nan,\n",
       "             estimator=Pipeline(memory=None,\n",
       "                                steps=[('preprocessor',\n",
       "                                        ColumnTransformer(n_jobs=None,\n",
       "                                                          remainder='drop',\n",
       "                                                          sparse_threshold=0.3,\n",
       "                                                          transformer_weights=None,\n",
       "                                                          transformers=[('ohe',\n",
       "                                                                         OneHotEncoder(categories='auto',\n",
       "                                                                                       drop=None,\n",
       "                                                                                       dtype=<class 'numpy.float64'>,\n",
       "                                                                                       handle_unknown='error',\n",
       "                                                                                       sparse=True),\n",
       "                                                                         ['Sex']),\n",
       "                                                                        ('vectorizer',\n",
       "                                                                         CountVectorizer...\n",
       "                                                                min_samples_split=2,\n",
       "                                                                min_weight_fraction_leaf=0.0,\n",
       "                                                                n_estimators=100,\n",
       "                                                                n_jobs=None,\n",
       "                                                                oob_score=False,\n",
       "                                                                random_state=1,\n",
       "                                                                verbose=0,\n",
       "                                                                warm_start=False)],\n",
       "                          'classifier__min_samples_leaf': [1, 2],\n",
       "                          'classifier__n_estimators': [100, 200],\n",
       "                          'preprocessor__vectorizer__ngram_range': [(1, 1),\n",
       "                                                                    (1, 2)]}],\n",
       "             pre_dispatch='2*n_jobs', refit=True, return_train_score=False,\n",
       "             scoring=None, verbose=0)"
      ]
     },
     "execution_count": 291,
     "metadata": {},
     "output_type": "execute_result"
    }
   ],
   "source": [
    "grid = GridSearchCV(pipe, params)\n",
    "grid"
   ]
  },
  {
   "cell_type": "code",
   "execution_count": 292,
   "id": "80d62179",
   "metadata": {},
   "outputs": [
    {
     "name": "stdout",
     "output_type": "stream",
     "text": [
      "Wall time: 16.1 s\n"
     ]
    },
    {
     "data": {
      "text/html": [
       "<style>#sk-dbc1b606-0c27-47ce-b339-363db575c225 {color: black;background-color: white;}#sk-dbc1b606-0c27-47ce-b339-363db575c225 pre{padding: 0;}#sk-dbc1b606-0c27-47ce-b339-363db575c225 div.sk-toggleable {background-color: white;}#sk-dbc1b606-0c27-47ce-b339-363db575c225 label.sk-toggleable__label {cursor: pointer;display: block;width: 100%;margin-bottom: 0;padding: 0.3em;box-sizing: border-box;text-align: center;}#sk-dbc1b606-0c27-47ce-b339-363db575c225 div.sk-toggleable__content {max-height: 0;max-width: 0;overflow: hidden;text-align: left;background-color: #f0f8ff;}#sk-dbc1b606-0c27-47ce-b339-363db575c225 div.sk-toggleable__content pre {margin: 0.2em;color: black;border-radius: 0.25em;background-color: #f0f8ff;}#sk-dbc1b606-0c27-47ce-b339-363db575c225 input.sk-toggleable__control:checked~div.sk-toggleable__content {max-height: 200px;max-width: 100%;overflow: auto;}#sk-dbc1b606-0c27-47ce-b339-363db575c225 div.sk-estimator input.sk-toggleable__control:checked~label.sk-toggleable__label {background-color: #d4ebff;}#sk-dbc1b606-0c27-47ce-b339-363db575c225 div.sk-label input.sk-toggleable__control:checked~label.sk-toggleable__label {background-color: #d4ebff;}#sk-dbc1b606-0c27-47ce-b339-363db575c225 input.sk-hidden--visually {border: 0;clip: rect(1px 1px 1px 1px);clip: rect(1px, 1px, 1px, 1px);height: 1px;margin: -1px;overflow: hidden;padding: 0;position: absolute;width: 1px;}#sk-dbc1b606-0c27-47ce-b339-363db575c225 div.sk-estimator {font-family: monospace;background-color: #f0f8ff;border: 1px dotted black;border-radius: 0.25em;box-sizing: border-box;margin-bottom: 0.5em;}#sk-dbc1b606-0c27-47ce-b339-363db575c225 div.sk-estimator:hover {background-color: #d4ebff;}#sk-dbc1b606-0c27-47ce-b339-363db575c225 div.sk-parallel-item::after {content: \"\";width: 100%;border-bottom: 1px solid gray;flex-grow: 1;}#sk-dbc1b606-0c27-47ce-b339-363db575c225 div.sk-label:hover label.sk-toggleable__label {background-color: #d4ebff;}#sk-dbc1b606-0c27-47ce-b339-363db575c225 div.sk-serial::before {content: \"\";position: absolute;border-left: 1px solid gray;box-sizing: border-box;top: 2em;bottom: 0;left: 50%;}#sk-dbc1b606-0c27-47ce-b339-363db575c225 div.sk-serial {display: flex;flex-direction: column;align-items: center;background-color: white;padding-right: 0.2em;padding-left: 0.2em;}#sk-dbc1b606-0c27-47ce-b339-363db575c225 div.sk-item {z-index: 1;}#sk-dbc1b606-0c27-47ce-b339-363db575c225 div.sk-parallel {display: flex;align-items: stretch;justify-content: center;background-color: white;}#sk-dbc1b606-0c27-47ce-b339-363db575c225 div.sk-parallel::before {content: \"\";position: absolute;border-left: 1px solid gray;box-sizing: border-box;top: 2em;bottom: 0;left: 50%;}#sk-dbc1b606-0c27-47ce-b339-363db575c225 div.sk-parallel-item {display: flex;flex-direction: column;position: relative;background-color: white;}#sk-dbc1b606-0c27-47ce-b339-363db575c225 div.sk-parallel-item:first-child::after {align-self: flex-end;width: 50%;}#sk-dbc1b606-0c27-47ce-b339-363db575c225 div.sk-parallel-item:last-child::after {align-self: flex-start;width: 50%;}#sk-dbc1b606-0c27-47ce-b339-363db575c225 div.sk-parallel-item:only-child::after {width: 0;}#sk-dbc1b606-0c27-47ce-b339-363db575c225 div.sk-dashed-wrapped {border: 1px dashed gray;margin: 0 0.4em 0.5em 0.4em;box-sizing: border-box;padding-bottom: 0.4em;background-color: white;position: relative;}#sk-dbc1b606-0c27-47ce-b339-363db575c225 div.sk-label label {font-family: monospace;font-weight: bold;background-color: white;display: inline-block;line-height: 1.2em;}#sk-dbc1b606-0c27-47ce-b339-363db575c225 div.sk-label-container {position: relative;z-index: 2;text-align: center;}#sk-dbc1b606-0c27-47ce-b339-363db575c225 div.sk-container {display: inline-block;position: relative;}</style><div id=\"sk-dbc1b606-0c27-47ce-b339-363db575c225\" class\"sk-top-container\"><div class=\"sk-container\"><div class=\"sk-item sk-dashed-wrapped\"><div class=\"sk-label-container\"><div class=\"sk-label sk-toggleable\"><input class=\"sk-toggleable__control sk-hidden--visually\" id=\"e484d03d-aa85-480c-b910-311be0eef7c2\" type=\"checkbox\" ><label class=\"sk-toggleable__label\" for=\"e484d03d-aa85-480c-b910-311be0eef7c2\">GridSearchCV</label><div class=\"sk-toggleable__content\"><pre>GridSearchCV(cv=None, error_score=nan,\n",
       "             estimator=Pipeline(memory=None,\n",
       "                                steps=[('preprocessor',\n",
       "                                        ColumnTransformer(n_jobs=None,\n",
       "                                                          remainder='drop',\n",
       "                                                          sparse_threshold=0.3,\n",
       "                                                          transformer_weights=None,\n",
       "                                                          transformers=[('ohe',\n",
       "                                                                         OneHotEncoder(categories='auto',\n",
       "                                                                                       drop=None,\n",
       "                                                                                       dtype=<class 'numpy.float64'>,\n",
       "                                                                                       handle_unknown='error',\n",
       "                                                                                       sparse=True),\n",
       "                                                                         ['Sex']),\n",
       "                                                                        ('vectorizer',\n",
       "                                                                         CountVectorizer...\n",
       "                                                                min_samples_split=2,\n",
       "                                                                min_weight_fraction_leaf=0.0,\n",
       "                                                                n_estimators=100,\n",
       "                                                                n_jobs=None,\n",
       "                                                                oob_score=False,\n",
       "                                                                random_state=1,\n",
       "                                                                verbose=0,\n",
       "                                                                warm_start=False)],\n",
       "                          'classifier__min_samples_leaf': [1, 2],\n",
       "                          'classifier__n_estimators': [100, 200],\n",
       "                          'preprocessor__vectorizer__ngram_range': [(1, 1),\n",
       "                                                                    (1, 2)]}],\n",
       "             pre_dispatch='2*n_jobs', refit=True, return_train_score=False,\n",
       "             scoring=None, verbose=0)</pre></div></div></div><div class=\"sk-parallel\"><div class=\"sk-parallel-item\"><div class=\"sk-item\"><div class=\"sk-serial\"><div class=\"sk-item\"><div class=\"sk-serial\"><div class=\"sk-item sk-dashed-wrapped\"><div class=\"sk-label-container\"><div class=\"sk-label sk-toggleable\"><input class=\"sk-toggleable__control sk-hidden--visually\" id=\"0c84a8c8-2a34-4ad8-bec0-5f946ad863a6\" type=\"checkbox\" ><label class=\"sk-toggleable__label\" for=\"0c84a8c8-2a34-4ad8-bec0-5f946ad863a6\">preprocessor: ColumnTransformer</label><div class=\"sk-toggleable__content\"><pre>ColumnTransformer(transformers=[('ohe', OneHotEncoder(), ['Sex']),\n",
       "                                ('vectorizer', CountVectorizer(), 'Name'),\n",
       "                                ('imputer', SimpleImputer(), ['Age'])])</pre></div></div></div><div class=\"sk-parallel\"><div class=\"sk-parallel-item\"><div class=\"sk-item\"><div class=\"sk-label-container\"><div class=\"sk-label sk-toggleable\"><input class=\"sk-toggleable__control sk-hidden--visually\" id=\"0c2c779e-d8a8-46e0-b65a-cd5f787c0ebc\" type=\"checkbox\" ><label class=\"sk-toggleable__label\" for=\"0c2c779e-d8a8-46e0-b65a-cd5f787c0ebc\">ohe</label><div class=\"sk-toggleable__content\"><pre>['Sex']</pre></div></div></div><div class=\"sk-serial\"><div class=\"sk-item\"><div class=\"sk-estimator sk-toggleable\"><input class=\"sk-toggleable__control sk-hidden--visually\" id=\"4aa46556-e067-42a8-89c1-e8b401a3fdf1\" type=\"checkbox\" ><label class=\"sk-toggleable__label\" for=\"4aa46556-e067-42a8-89c1-e8b401a3fdf1\">OneHotEncoder</label><div class=\"sk-toggleable__content\"><pre>OneHotEncoder()</pre></div></div></div></div></div></div><div class=\"sk-parallel-item\"><div class=\"sk-item\"><div class=\"sk-label-container\"><div class=\"sk-label sk-toggleable\"><input class=\"sk-toggleable__control sk-hidden--visually\" id=\"8900e6bf-4e01-4143-8c0b-30469ee19785\" type=\"checkbox\" ><label class=\"sk-toggleable__label\" for=\"8900e6bf-4e01-4143-8c0b-30469ee19785\">vectorizer</label><div class=\"sk-toggleable__content\"><pre>Name</pre></div></div></div><div class=\"sk-serial\"><div class=\"sk-item\"><div class=\"sk-estimator sk-toggleable\"><input class=\"sk-toggleable__control sk-hidden--visually\" id=\"139b7b77-c238-467a-be52-7b80d285ef80\" type=\"checkbox\" ><label class=\"sk-toggleable__label\" for=\"139b7b77-c238-467a-be52-7b80d285ef80\">CountVectorizer</label><div class=\"sk-toggleable__content\"><pre>CountVectorizer()</pre></div></div></div></div></div></div><div class=\"sk-parallel-item\"><div class=\"sk-item\"><div class=\"sk-label-container\"><div class=\"sk-label sk-toggleable\"><input class=\"sk-toggleable__control sk-hidden--visually\" id=\"231443f2-8057-48b5-aca8-da87a7a57bff\" type=\"checkbox\" ><label class=\"sk-toggleable__label\" for=\"231443f2-8057-48b5-aca8-da87a7a57bff\">imputer</label><div class=\"sk-toggleable__content\"><pre>['Age']</pre></div></div></div><div class=\"sk-serial\"><div class=\"sk-item\"><div class=\"sk-estimator sk-toggleable\"><input class=\"sk-toggleable__control sk-hidden--visually\" id=\"1417edca-b329-4fee-b004-caf908e27189\" type=\"checkbox\" ><label class=\"sk-toggleable__label\" for=\"1417edca-b329-4fee-b004-caf908e27189\">SimpleImputer</label><div class=\"sk-toggleable__content\"><pre>SimpleImputer()</pre></div></div></div></div></div></div></div></div><div class=\"sk-item\"><div class=\"sk-estimator sk-toggleable\"><input class=\"sk-toggleable__control sk-hidden--visually\" id=\"c4e9669e-0c07-4807-894b-8563274bcb36\" type=\"checkbox\" ><label class=\"sk-toggleable__label\" for=\"c4e9669e-0c07-4807-894b-8563274bcb36\">RandomForestClassifier</label><div class=\"sk-toggleable__content\"><pre>RandomForestClassifier(random_state=1)</pre></div></div></div></div></div></div></div></div></div></div></div></div>"
      ],
      "text/plain": [
       "GridSearchCV(cv=None, error_score=nan,\n",
       "             estimator=Pipeline(memory=None,\n",
       "                                steps=[('preprocessor',\n",
       "                                        ColumnTransformer(n_jobs=None,\n",
       "                                                          remainder='drop',\n",
       "                                                          sparse_threshold=0.3,\n",
       "                                                          transformer_weights=None,\n",
       "                                                          transformers=[('ohe',\n",
       "                                                                         OneHotEncoder(categories='auto',\n",
       "                                                                                       drop=None,\n",
       "                                                                                       dtype=<class 'numpy.float64'>,\n",
       "                                                                                       handle_unknown='error',\n",
       "                                                                                       sparse=True),\n",
       "                                                                         ['Sex']),\n",
       "                                                                        ('vectorizer',\n",
       "                                                                         CountVectorizer...\n",
       "                                                                min_samples_split=2,\n",
       "                                                                min_weight_fraction_leaf=0.0,\n",
       "                                                                n_estimators=100,\n",
       "                                                                n_jobs=None,\n",
       "                                                                oob_score=False,\n",
       "                                                                random_state=1,\n",
       "                                                                verbose=0,\n",
       "                                                                warm_start=False)],\n",
       "                          'classifier__min_samples_leaf': [1, 2],\n",
       "                          'classifier__n_estimators': [100, 200],\n",
       "                          'preprocessor__vectorizer__ngram_range': [(1, 1),\n",
       "                                                                    (1, 2)]}],\n",
       "             pre_dispatch='2*n_jobs', refit=True, return_train_score=False,\n",
       "             scoring=None, verbose=0)"
      ]
     },
     "execution_count": 292,
     "metadata": {},
     "output_type": "execute_result"
    }
   ],
   "source": [
    "%time grid.fit(X, y)"
   ]
  },
  {
   "cell_type": "code",
   "execution_count": 293,
   "id": "540be208",
   "metadata": {},
   "outputs": [
    {
     "data": {
      "text/plain": [
       "{'classifier': LogisticRegression(C=10, class_weight=None, dual=False, fit_intercept=True,\n",
       "                    intercept_scaling=1, l1_ratio=None, max_iter=100,\n",
       "                    multi_class='auto', n_jobs=None, penalty='l1',\n",
       "                    random_state=1, solver='liblinear', tol=0.0001, verbose=0,\n",
       "                    warm_start=False),\n",
       " 'classifier__C': 10,\n",
       " 'classifier__penalty': 'l1',\n",
       " 'preprocessor__vectorizer__ngram_range': (1, 2)}"
      ]
     },
     "execution_count": 293,
     "metadata": {},
     "output_type": "execute_result"
    }
   ],
   "source": [
    "grid.best_params_"
   ]
  },
  {
   "cell_type": "markdown",
   "id": "243c74b5",
   "metadata": {},
   "source": [
    "# Model Evaluation"
   ]
  },
  {
   "cell_type": "markdown",
   "id": "e3a584b3",
   "metadata": {},
   "source": [
    "## Plot a confusion matrix\n",
    "\n",
    "New in scikit-learn 0.22: [Plot a confusion matrix](https://scikit-learn.org/stable/modules/model_evaluation.html#confusion-matrix) in one line of code!\n",
    "\n",
    "Highly customizable, including the [colormap](https://matplotlib.org/stable/gallery/color/colormap_reference.html), display labels, and [value formatting](https://docs.python.org/3/library/string.html#format-specification-mini-language).\n",
    "\n",
    "Note: Beginning in scikit-learn 1.0, the plot_confusion_matrix function has been deprecated in favor of [two new methods](https://scikit-learn.org/stable/modules/generated/sklearn.metrics.ConfusionMatrixDisplay.html) in the ConfusionMatrixDisplay class."
   ]
  },
  {
   "cell_type": "code",
   "execution_count": 294,
   "id": "0069a5fc",
   "metadata": {},
   "outputs": [],
   "source": [
    "file_input_path = \"titanic_train.csv\"\n",
    "if not os.path.exists(file_input_path):\n",
    "    df_train = pd.read_csv(\"http://bit.ly/kaggletrain\")\n",
    "    df_train.to_csv(file_input_path, header=True, index=False, sep=\"\\t\")\n",
    "else:\n",
    "    df_train = pd.read_csv(file_input_path, header=0, sep=\"\\t\")\n",
    "    \n",
    "features = [\"Pclass\", \"Fare\"]\n",
    "X, y = df_train[features], df_train[\"Survived\"]\n",
    "\n",
    "from sklearn.model_selection import train_test_split\n",
    "X_train, X_test, y_train, y_test = train_test_split(X, y, random_state=0)"
   ]
  },
  {
   "cell_type": "code",
   "execution_count": 295,
   "id": "11109900",
   "metadata": {},
   "outputs": [],
   "source": [
    "from sklearn.linear_model import LogisticRegression\n",
    "from sklearn.metrics import plot_confusion_matrix, ConfusionMatrixDisplay, confusion_matrix"
   ]
  },
  {
   "cell_type": "markdown",
   "id": "820e7beb",
   "metadata": {},
   "source": [
    "### Splitting Phase"
   ]
  },
  {
   "cell_type": "code",
   "execution_count": 296,
   "id": "04eee6b0",
   "metadata": {},
   "outputs": [],
   "source": [
    "X_train, X_test, y_train, y_test = train_test_split(X, y, random_state=0)"
   ]
  },
  {
   "cell_type": "markdown",
   "id": "3b68a640",
   "metadata": {},
   "source": [
    "### Training Phase"
   ]
  },
  {
   "cell_type": "code",
   "execution_count": 297,
   "id": "1d6f6730",
   "metadata": {},
   "outputs": [
    {
     "data": {
      "text/html": [
       "<style>#sk-fbdd63ac-df3b-4d23-bdba-b2461e3d17ab {color: black;background-color: white;}#sk-fbdd63ac-df3b-4d23-bdba-b2461e3d17ab pre{padding: 0;}#sk-fbdd63ac-df3b-4d23-bdba-b2461e3d17ab div.sk-toggleable {background-color: white;}#sk-fbdd63ac-df3b-4d23-bdba-b2461e3d17ab label.sk-toggleable__label {cursor: pointer;display: block;width: 100%;margin-bottom: 0;padding: 0.3em;box-sizing: border-box;text-align: center;}#sk-fbdd63ac-df3b-4d23-bdba-b2461e3d17ab div.sk-toggleable__content {max-height: 0;max-width: 0;overflow: hidden;text-align: left;background-color: #f0f8ff;}#sk-fbdd63ac-df3b-4d23-bdba-b2461e3d17ab div.sk-toggleable__content pre {margin: 0.2em;color: black;border-radius: 0.25em;background-color: #f0f8ff;}#sk-fbdd63ac-df3b-4d23-bdba-b2461e3d17ab input.sk-toggleable__control:checked~div.sk-toggleable__content {max-height: 200px;max-width: 100%;overflow: auto;}#sk-fbdd63ac-df3b-4d23-bdba-b2461e3d17ab div.sk-estimator input.sk-toggleable__control:checked~label.sk-toggleable__label {background-color: #d4ebff;}#sk-fbdd63ac-df3b-4d23-bdba-b2461e3d17ab div.sk-label input.sk-toggleable__control:checked~label.sk-toggleable__label {background-color: #d4ebff;}#sk-fbdd63ac-df3b-4d23-bdba-b2461e3d17ab input.sk-hidden--visually {border: 0;clip: rect(1px 1px 1px 1px);clip: rect(1px, 1px, 1px, 1px);height: 1px;margin: -1px;overflow: hidden;padding: 0;position: absolute;width: 1px;}#sk-fbdd63ac-df3b-4d23-bdba-b2461e3d17ab div.sk-estimator {font-family: monospace;background-color: #f0f8ff;border: 1px dotted black;border-radius: 0.25em;box-sizing: border-box;margin-bottom: 0.5em;}#sk-fbdd63ac-df3b-4d23-bdba-b2461e3d17ab div.sk-estimator:hover {background-color: #d4ebff;}#sk-fbdd63ac-df3b-4d23-bdba-b2461e3d17ab div.sk-parallel-item::after {content: \"\";width: 100%;border-bottom: 1px solid gray;flex-grow: 1;}#sk-fbdd63ac-df3b-4d23-bdba-b2461e3d17ab div.sk-label:hover label.sk-toggleable__label {background-color: #d4ebff;}#sk-fbdd63ac-df3b-4d23-bdba-b2461e3d17ab div.sk-serial::before {content: \"\";position: absolute;border-left: 1px solid gray;box-sizing: border-box;top: 2em;bottom: 0;left: 50%;}#sk-fbdd63ac-df3b-4d23-bdba-b2461e3d17ab div.sk-serial {display: flex;flex-direction: column;align-items: center;background-color: white;padding-right: 0.2em;padding-left: 0.2em;}#sk-fbdd63ac-df3b-4d23-bdba-b2461e3d17ab div.sk-item {z-index: 1;}#sk-fbdd63ac-df3b-4d23-bdba-b2461e3d17ab div.sk-parallel {display: flex;align-items: stretch;justify-content: center;background-color: white;}#sk-fbdd63ac-df3b-4d23-bdba-b2461e3d17ab div.sk-parallel::before {content: \"\";position: absolute;border-left: 1px solid gray;box-sizing: border-box;top: 2em;bottom: 0;left: 50%;}#sk-fbdd63ac-df3b-4d23-bdba-b2461e3d17ab div.sk-parallel-item {display: flex;flex-direction: column;position: relative;background-color: white;}#sk-fbdd63ac-df3b-4d23-bdba-b2461e3d17ab div.sk-parallel-item:first-child::after {align-self: flex-end;width: 50%;}#sk-fbdd63ac-df3b-4d23-bdba-b2461e3d17ab div.sk-parallel-item:last-child::after {align-self: flex-start;width: 50%;}#sk-fbdd63ac-df3b-4d23-bdba-b2461e3d17ab div.sk-parallel-item:only-child::after {width: 0;}#sk-fbdd63ac-df3b-4d23-bdba-b2461e3d17ab div.sk-dashed-wrapped {border: 1px dashed gray;margin: 0 0.4em 0.5em 0.4em;box-sizing: border-box;padding-bottom: 0.4em;background-color: white;position: relative;}#sk-fbdd63ac-df3b-4d23-bdba-b2461e3d17ab div.sk-label label {font-family: monospace;font-weight: bold;background-color: white;display: inline-block;line-height: 1.2em;}#sk-fbdd63ac-df3b-4d23-bdba-b2461e3d17ab div.sk-label-container {position: relative;z-index: 2;text-align: center;}#sk-fbdd63ac-df3b-4d23-bdba-b2461e3d17ab div.sk-container {display: inline-block;position: relative;}</style><div id=\"sk-fbdd63ac-df3b-4d23-bdba-b2461e3d17ab\" class\"sk-top-container\"><div class=\"sk-container\"><div class=\"sk-item\"><div class=\"sk-estimator sk-toggleable\"><input class=\"sk-toggleable__control sk-hidden--visually\" id=\"ea420704-9f7d-43e6-9aa1-a6a2ed69d3a8\" type=\"checkbox\" checked><label class=\"sk-toggleable__label\" for=\"ea420704-9f7d-43e6-9aa1-a6a2ed69d3a8\">LogisticRegression</label><div class=\"sk-toggleable__content\"><pre>LogisticRegression(C=1.0, class_weight=None, dual=False, fit_intercept=True,\n",
       "                   intercept_scaling=1, l1_ratio=None, max_iter=100,\n",
       "                   multi_class='auto', n_jobs=None, penalty='l2',\n",
       "                   random_state=None, solver='lbfgs', tol=0.0001, verbose=0,\n",
       "                   warm_start=False)</pre></div></div></div></div></div>"
      ],
      "text/plain": [
       "LogisticRegression(C=1.0, class_weight=None, dual=False, fit_intercept=True,\n",
       "                   intercept_scaling=1, l1_ratio=None, max_iter=100,\n",
       "                   multi_class='auto', n_jobs=None, penalty='l2',\n",
       "                   random_state=None, solver='lbfgs', tol=0.0001, verbose=0,\n",
       "                   warm_start=False)"
      ]
     },
     "execution_count": 297,
     "metadata": {},
     "output_type": "execute_result"
    }
   ],
   "source": [
    "clf = LogisticRegression()\n",
    "clf"
   ]
  },
  {
   "cell_type": "code",
   "execution_count": 298,
   "id": "bf3f5b62",
   "metadata": {},
   "outputs": [
    {
     "data": {
      "text/html": [
       "<style>#sk-53e7e056-cfb0-4d22-afcf-2fdd4c6b4281 {color: black;background-color: white;}#sk-53e7e056-cfb0-4d22-afcf-2fdd4c6b4281 pre{padding: 0;}#sk-53e7e056-cfb0-4d22-afcf-2fdd4c6b4281 div.sk-toggleable {background-color: white;}#sk-53e7e056-cfb0-4d22-afcf-2fdd4c6b4281 label.sk-toggleable__label {cursor: pointer;display: block;width: 100%;margin-bottom: 0;padding: 0.3em;box-sizing: border-box;text-align: center;}#sk-53e7e056-cfb0-4d22-afcf-2fdd4c6b4281 div.sk-toggleable__content {max-height: 0;max-width: 0;overflow: hidden;text-align: left;background-color: #f0f8ff;}#sk-53e7e056-cfb0-4d22-afcf-2fdd4c6b4281 div.sk-toggleable__content pre {margin: 0.2em;color: black;border-radius: 0.25em;background-color: #f0f8ff;}#sk-53e7e056-cfb0-4d22-afcf-2fdd4c6b4281 input.sk-toggleable__control:checked~div.sk-toggleable__content {max-height: 200px;max-width: 100%;overflow: auto;}#sk-53e7e056-cfb0-4d22-afcf-2fdd4c6b4281 div.sk-estimator input.sk-toggleable__control:checked~label.sk-toggleable__label {background-color: #d4ebff;}#sk-53e7e056-cfb0-4d22-afcf-2fdd4c6b4281 div.sk-label input.sk-toggleable__control:checked~label.sk-toggleable__label {background-color: #d4ebff;}#sk-53e7e056-cfb0-4d22-afcf-2fdd4c6b4281 input.sk-hidden--visually {border: 0;clip: rect(1px 1px 1px 1px);clip: rect(1px, 1px, 1px, 1px);height: 1px;margin: -1px;overflow: hidden;padding: 0;position: absolute;width: 1px;}#sk-53e7e056-cfb0-4d22-afcf-2fdd4c6b4281 div.sk-estimator {font-family: monospace;background-color: #f0f8ff;border: 1px dotted black;border-radius: 0.25em;box-sizing: border-box;margin-bottom: 0.5em;}#sk-53e7e056-cfb0-4d22-afcf-2fdd4c6b4281 div.sk-estimator:hover {background-color: #d4ebff;}#sk-53e7e056-cfb0-4d22-afcf-2fdd4c6b4281 div.sk-parallel-item::after {content: \"\";width: 100%;border-bottom: 1px solid gray;flex-grow: 1;}#sk-53e7e056-cfb0-4d22-afcf-2fdd4c6b4281 div.sk-label:hover label.sk-toggleable__label {background-color: #d4ebff;}#sk-53e7e056-cfb0-4d22-afcf-2fdd4c6b4281 div.sk-serial::before {content: \"\";position: absolute;border-left: 1px solid gray;box-sizing: border-box;top: 2em;bottom: 0;left: 50%;}#sk-53e7e056-cfb0-4d22-afcf-2fdd4c6b4281 div.sk-serial {display: flex;flex-direction: column;align-items: center;background-color: white;padding-right: 0.2em;padding-left: 0.2em;}#sk-53e7e056-cfb0-4d22-afcf-2fdd4c6b4281 div.sk-item {z-index: 1;}#sk-53e7e056-cfb0-4d22-afcf-2fdd4c6b4281 div.sk-parallel {display: flex;align-items: stretch;justify-content: center;background-color: white;}#sk-53e7e056-cfb0-4d22-afcf-2fdd4c6b4281 div.sk-parallel::before {content: \"\";position: absolute;border-left: 1px solid gray;box-sizing: border-box;top: 2em;bottom: 0;left: 50%;}#sk-53e7e056-cfb0-4d22-afcf-2fdd4c6b4281 div.sk-parallel-item {display: flex;flex-direction: column;position: relative;background-color: white;}#sk-53e7e056-cfb0-4d22-afcf-2fdd4c6b4281 div.sk-parallel-item:first-child::after {align-self: flex-end;width: 50%;}#sk-53e7e056-cfb0-4d22-afcf-2fdd4c6b4281 div.sk-parallel-item:last-child::after {align-self: flex-start;width: 50%;}#sk-53e7e056-cfb0-4d22-afcf-2fdd4c6b4281 div.sk-parallel-item:only-child::after {width: 0;}#sk-53e7e056-cfb0-4d22-afcf-2fdd4c6b4281 div.sk-dashed-wrapped {border: 1px dashed gray;margin: 0 0.4em 0.5em 0.4em;box-sizing: border-box;padding-bottom: 0.4em;background-color: white;position: relative;}#sk-53e7e056-cfb0-4d22-afcf-2fdd4c6b4281 div.sk-label label {font-family: monospace;font-weight: bold;background-color: white;display: inline-block;line-height: 1.2em;}#sk-53e7e056-cfb0-4d22-afcf-2fdd4c6b4281 div.sk-label-container {position: relative;z-index: 2;text-align: center;}#sk-53e7e056-cfb0-4d22-afcf-2fdd4c6b4281 div.sk-container {display: inline-block;position: relative;}</style><div id=\"sk-53e7e056-cfb0-4d22-afcf-2fdd4c6b4281\" class\"sk-top-container\"><div class=\"sk-container\"><div class=\"sk-item\"><div class=\"sk-estimator sk-toggleable\"><input class=\"sk-toggleable__control sk-hidden--visually\" id=\"80f76b3c-f50f-49be-bd4e-6565b33d0aaf\" type=\"checkbox\" checked><label class=\"sk-toggleable__label\" for=\"80f76b3c-f50f-49be-bd4e-6565b33d0aaf\">LogisticRegression</label><div class=\"sk-toggleable__content\"><pre>LogisticRegression(C=1.0, class_weight=None, dual=False, fit_intercept=True,\n",
       "                   intercept_scaling=1, l1_ratio=None, max_iter=100,\n",
       "                   multi_class='auto', n_jobs=None, penalty='l2',\n",
       "                   random_state=None, solver='lbfgs', tol=0.0001, verbose=0,\n",
       "                   warm_start=False)</pre></div></div></div></div></div>"
      ],
      "text/plain": [
       "LogisticRegression(C=1.0, class_weight=None, dual=False, fit_intercept=True,\n",
       "                   intercept_scaling=1, l1_ratio=None, max_iter=100,\n",
       "                   multi_class='auto', n_jobs=None, penalty='l2',\n",
       "                   random_state=None, solver='lbfgs', tol=0.0001, verbose=0,\n",
       "                   warm_start=False)"
      ]
     },
     "execution_count": 298,
     "metadata": {},
     "output_type": "execute_result"
    }
   ],
   "source": [
    "clf.fit(X_train, y_train)"
   ]
  },
  {
   "cell_type": "markdown",
   "id": "c21671d6",
   "metadata": {},
   "source": [
    "### Plot the confusion matrix\n",
    "\n",
    "It makes the predictions based on the trained model for X_test and then compares them to y_test"
   ]
  },
  {
   "cell_type": "markdown",
   "id": "ccb8604a",
   "metadata": {},
   "source": [
    "#### Using plot_confusion_matrix --> be removed in 1.2"
   ]
  },
  {
   "cell_type": "code",
   "execution_count": 299,
   "id": "14d8160d",
   "metadata": {
    "scrolled": true
   },
   "outputs": [
    {
     "name": "stderr",
     "output_type": "stream",
     "text": [
      "C:\\Users\\TienLE\\anaconda3\\envs\\py39\\lib\\site-packages\\sklearn\\utils\\deprecation.py:87: FutureWarning: Function plot_confusion_matrix is deprecated; Function `plot_confusion_matrix` is deprecated in 1.0 and will be removed in 1.2. Use one of the class methods: ConfusionMatrixDisplay.from_predictions or ConfusionMatrixDisplay.from_estimator.\n",
      "  warnings.warn(msg, category=FutureWarning)\n"
     ]
    },
    {
     "data": {
      "image/png": "[encoded data removed]",
      "text/plain": [
       "<Figure size 432x288 with 2 Axes>"
      ]
     },
     "metadata": {
      "needs_background": "light"
     },
     "output_type": "display_data"
    }
   ],
   "source": [
    "disp = plot_confusion_matrix(clf, X_test, y_test, cmap=\"viridis\", values_format=\"d\")  # Blues, default-sklearn=viridis\n",
    "# https://scikit-learn.org/stable/modules/generated/sklearn.metrics.ConfusionMatrixDisplay.html#sklearn.metrics.ConfusionMatrixDisplay.from_estimator"
   ]
  },
  {
   "cell_type": "code",
   "execution_count": 300,
   "id": "1096f622",
   "metadata": {},
   "outputs": [
    {
     "data": {
      "text/plain": [
       "array([[122,  17],\n",
       "       [ 48,  36]], dtype=int64)"
      ]
     },
     "execution_count": 300,
     "metadata": {},
     "output_type": "execute_result"
    }
   ],
   "source": [
    "disp.confusion_matrix"
   ]
  },
  {
   "cell_type": "markdown",
   "id": "582e90fe",
   "metadata": {},
   "source": [
    "#### Using ConfusionMatrixDisplay\n",
    "\n",
    "Ref: [ConfusionMatrixDisplay](https://scikit-learn.org/stable/modules/generated/sklearn.metrics.ConfusionMatrixDisplay.html)"
   ]
  },
  {
   "cell_type": "code",
   "execution_count": 301,
   "id": "5132b3e7",
   "metadata": {},
   "outputs": [
    {
     "data": {
      "text/plain": [
       "array([[122,  17],\n",
       "       [ 48,  36]], dtype=int64)"
      ]
     },
     "execution_count": 301,
     "metadata": {},
     "output_type": "execute_result"
    }
   ],
   "source": [
    "y_pred = clf.predict(X_test)\n",
    "cm = confusion_matrix(y_true=y_test, y_pred=y_pred, labels=clf.classes_)\n",
    "cm"
   ]
  },
  {
   "cell_type": "code",
   "execution_count": 302,
   "id": "dfad7a2a",
   "metadata": {},
   "outputs": [
    {
     "data": {
      "image/png": "[encoded data removed]",
      "text/plain": [
       "<Figure size 432x288 with 2 Axes>"
      ]
     },
     "metadata": {
      "needs_background": "light"
     },
     "output_type": "display_data"
    }
   ],
   "source": [
    "disp = ConfusionMatrixDisplay(confusion_matrix=cm, \n",
    "                              display_labels=clf.classes_)\n",
    "disp.plot()\n",
    "plt.show()"
   ]
  },
  {
   "cell_type": "markdown",
   "id": "a25a14e1",
   "metadata": {},
   "source": [
    "## Compare multiple ROC (Receiver Operating Characteristic) curves in a single plot\n",
    "\n",
    "New in scikit-learn 0.22: Easily [compare multiple ROC curves](https://scikit-learn.org/stable/modules/generated/sklearn.metrics.plot_roc_curve.html) in a single plot!\n",
    "\n",
    "Automatically displays the [AUC](https://www.dataschool.io/roc-curves-and-auc-explained/) for each model as well.\n",
    "\n",
    "Note: Beginning in scikit-learn 1.0, the plot_roc_curve function has been deprecated in favor of [two new methods](https://scikit-learn.org/stable/modules/generated/sklearn.metrics.RocCurveDisplay.html) in the RocCurveDisplay class."
   ]
  },
  {
   "cell_type": "code",
   "execution_count": 303,
   "id": "e1cd43a0",
   "metadata": {},
   "outputs": [],
   "source": [
    "file_input_path = \"titanic_train.csv\"\n",
    "if not os.path.exists(file_input_path):\n",
    "    df_train = pd.read_csv(\"http://bit.ly/kaggletrain\")\n",
    "    df_train.to_csv(file_input_path, header=True, index=False, sep=\"\\t\")\n",
    "else:\n",
    "    df_train = pd.read_csv(file_input_path, header=0, sep=\"\\t\")\n",
    "    \n",
    "features = [\"Pclass\", \"Fare\", \"SibSp\"]\n",
    "X, y = df_train[features], df_train[\"Survived\"]\n",
    "\n",
    "from sklearn.model_selection import train_test_split\n",
    "X_train, X_test, y_train, y_test = train_test_split(X, y, random_state=0)"
   ]
  },
  {
   "cell_type": "code",
   "execution_count": 304,
   "id": "4157e692",
   "metadata": {},
   "outputs": [
    {
     "data": {
      "text/html": [
       "<div>\n",
       "<style scoped>\n",
       "    .dataframe tbody tr th:only-of-type {\n",
       "        vertical-align: middle;\n",
       "    }\n",
       "\n",
       "    .dataframe tbody tr th {\n",
       "        vertical-align: top;\n",
       "    }\n",
       "\n",
       "    .dataframe thead th {\n",
       "        text-align: right;\n",
       "    }\n",
       "</style>\n",
       "<table border=\"1\" class=\"dataframe\">\n",
       "  <thead>\n",
       "    <tr style=\"text-align: right;\">\n",
       "      <th></th>\n",
       "      <th>Pclass</th>\n",
       "      <th>Fare</th>\n",
       "      <th>SibSp</th>\n",
       "    </tr>\n",
       "  </thead>\n",
       "  <tbody>\n",
       "    <tr>\n",
       "      <th>105</th>\n",
       "      <td>3</td>\n",
       "      <td>7.8958</td>\n",
       "      <td>0</td>\n",
       "    </tr>\n",
       "    <tr>\n",
       "      <th>68</th>\n",
       "      <td>3</td>\n",
       "      <td>7.9250</td>\n",
       "      <td>4</td>\n",
       "    </tr>\n",
       "  </tbody>\n",
       "</table>\n",
       "</div>"
      ],
      "text/plain": [
       "     Pclass    Fare  SibSp\n",
       "105       3  7.8958      0\n",
       "68        3  7.9250      4"
      ]
     },
     "execution_count": 304,
     "metadata": {},
     "output_type": "execute_result"
    }
   ],
   "source": [
    "X_train.head(2)"
   ]
  },
  {
   "cell_type": "code",
   "execution_count": 305,
   "id": "b325f6ce",
   "metadata": {},
   "outputs": [
    {
     "data": {
      "text/plain": [
       "105    0\n",
       "68     1\n",
       "Name: Survived, dtype: int64"
      ]
     },
     "execution_count": 305,
     "metadata": {},
     "output_type": "execute_result"
    }
   ],
   "source": [
    "y_train.head(2)"
   ]
  },
  {
   "cell_type": "code",
   "execution_count": 306,
   "id": "a98b1a7c",
   "metadata": {},
   "outputs": [],
   "source": [
    "from sklearn.linear_model import LogisticRegression\n",
    "from sklearn.tree import DecisionTreeClassifier\n",
    "from sklearn.ensemble import RandomForestClassifier"
   ]
  },
  {
   "cell_type": "code",
   "execution_count": 307,
   "id": "0135efa1",
   "metadata": {},
   "outputs": [],
   "source": [
    "lr = LogisticRegression()\n",
    "dt = DecisionTreeClassifier()\n",
    "rf = RandomForestClassifier()"
   ]
  },
  {
   "cell_type": "code",
   "execution_count": 308,
   "id": "57a41823",
   "metadata": {},
   "outputs": [
    {
     "data": {
      "text/html": [
       "<style>#sk-aee9efff-7972-4858-bcfa-497d19944864 {color: black;background-color: white;}#sk-aee9efff-7972-4858-bcfa-497d19944864 pre{padding: 0;}#sk-aee9efff-7972-4858-bcfa-497d19944864 div.sk-toggleable {background-color: white;}#sk-aee9efff-7972-4858-bcfa-497d19944864 label.sk-toggleable__label {cursor: pointer;display: block;width: 100%;margin-bottom: 0;padding: 0.3em;box-sizing: border-box;text-align: center;}#sk-aee9efff-7972-4858-bcfa-497d19944864 div.sk-toggleable__content {max-height: 0;max-width: 0;overflow: hidden;text-align: left;background-color: #f0f8ff;}#sk-aee9efff-7972-4858-bcfa-497d19944864 div.sk-toggleable__content pre {margin: 0.2em;color: black;border-radius: 0.25em;background-color: #f0f8ff;}#sk-aee9efff-7972-4858-bcfa-497d19944864 input.sk-toggleable__control:checked~div.sk-toggleable__content {max-height: 200px;max-width: 100%;overflow: auto;}#sk-aee9efff-7972-4858-bcfa-497d19944864 div.sk-estimator input.sk-toggleable__control:checked~label.sk-toggleable__label {background-color: #d4ebff;}#sk-aee9efff-7972-4858-bcfa-497d19944864 div.sk-label input.sk-toggleable__control:checked~label.sk-toggleable__label {background-color: #d4ebff;}#sk-aee9efff-7972-4858-bcfa-497d19944864 input.sk-hidden--visually {border: 0;clip: rect(1px 1px 1px 1px);clip: rect(1px, 1px, 1px, 1px);height: 1px;margin: -1px;overflow: hidden;padding: 0;position: absolute;width: 1px;}#sk-aee9efff-7972-4858-bcfa-497d19944864 div.sk-estimator {font-family: monospace;background-color: #f0f8ff;border: 1px dotted black;border-radius: 0.25em;box-sizing: border-box;margin-bottom: 0.5em;}#sk-aee9efff-7972-4858-bcfa-497d19944864 div.sk-estimator:hover {background-color: #d4ebff;}#sk-aee9efff-7972-4858-bcfa-497d19944864 div.sk-parallel-item::after {content: \"\";width: 100%;border-bottom: 1px solid gray;flex-grow: 1;}#sk-aee9efff-7972-4858-bcfa-497d19944864 div.sk-label:hover label.sk-toggleable__label {background-color: #d4ebff;}#sk-aee9efff-7972-4858-bcfa-497d19944864 div.sk-serial::before {content: \"\";position: absolute;border-left: 1px solid gray;box-sizing: border-box;top: 2em;bottom: 0;left: 50%;}#sk-aee9efff-7972-4858-bcfa-497d19944864 div.sk-serial {display: flex;flex-direction: column;align-items: center;background-color: white;padding-right: 0.2em;padding-left: 0.2em;}#sk-aee9efff-7972-4858-bcfa-497d19944864 div.sk-item {z-index: 1;}#sk-aee9efff-7972-4858-bcfa-497d19944864 div.sk-parallel {display: flex;align-items: stretch;justify-content: center;background-color: white;}#sk-aee9efff-7972-4858-bcfa-497d19944864 div.sk-parallel::before {content: \"\";position: absolute;border-left: 1px solid gray;box-sizing: border-box;top: 2em;bottom: 0;left: 50%;}#sk-aee9efff-7972-4858-bcfa-497d19944864 div.sk-parallel-item {display: flex;flex-direction: column;position: relative;background-color: white;}#sk-aee9efff-7972-4858-bcfa-497d19944864 div.sk-parallel-item:first-child::after {align-self: flex-end;width: 50%;}#sk-aee9efff-7972-4858-bcfa-497d19944864 div.sk-parallel-item:last-child::after {align-self: flex-start;width: 50%;}#sk-aee9efff-7972-4858-bcfa-497d19944864 div.sk-parallel-item:only-child::after {width: 0;}#sk-aee9efff-7972-4858-bcfa-497d19944864 div.sk-dashed-wrapped {border: 1px dashed gray;margin: 0 0.4em 0.5em 0.4em;box-sizing: border-box;padding-bottom: 0.4em;background-color: white;position: relative;}#sk-aee9efff-7972-4858-bcfa-497d19944864 div.sk-label label {font-family: monospace;font-weight: bold;background-color: white;display: inline-block;line-height: 1.2em;}#sk-aee9efff-7972-4858-bcfa-497d19944864 div.sk-label-container {position: relative;z-index: 2;text-align: center;}#sk-aee9efff-7972-4858-bcfa-497d19944864 div.sk-container {display: inline-block;position: relative;}</style><div id=\"sk-aee9efff-7972-4858-bcfa-497d19944864\" class\"sk-top-container\"><div class=\"sk-container\"><div class=\"sk-item\"><div class=\"sk-estimator sk-toggleable\"><input class=\"sk-toggleable__control sk-hidden--visually\" id=\"17861c86-9137-4b48-93de-895aecaa6d6a\" type=\"checkbox\" checked><label class=\"sk-toggleable__label\" for=\"17861c86-9137-4b48-93de-895aecaa6d6a\">LogisticRegression</label><div class=\"sk-toggleable__content\"><pre>LogisticRegression(C=1.0, class_weight=None, dual=False, fit_intercept=True,\n",
       "                   intercept_scaling=1, l1_ratio=None, max_iter=100,\n",
       "                   multi_class='auto', n_jobs=None, penalty='l2',\n",
       "                   random_state=None, solver='lbfgs', tol=0.0001, verbose=0,\n",
       "                   warm_start=False)</pre></div></div></div></div></div>"
      ],
      "text/plain": [
       "LogisticRegression(C=1.0, class_weight=None, dual=False, fit_intercept=True,\n",
       "                   intercept_scaling=1, l1_ratio=None, max_iter=100,\n",
       "                   multi_class='auto', n_jobs=None, penalty='l2',\n",
       "                   random_state=None, solver='lbfgs', tol=0.0001, verbose=0,\n",
       "                   warm_start=False)"
      ]
     },
     "execution_count": 308,
     "metadata": {},
     "output_type": "execute_result"
    }
   ],
   "source": [
    "lr.fit(X_train, y_train)"
   ]
  },
  {
   "cell_type": "code",
   "execution_count": 309,
   "id": "2490b5e0",
   "metadata": {},
   "outputs": [
    {
     "data": {
      "text/html": [
       "<style>#sk-580c12c4-b448-4f5a-9e20-ac092f91f496 {color: black;background-color: white;}#sk-580c12c4-b448-4f5a-9e20-ac092f91f496 pre{padding: 0;}#sk-580c12c4-b448-4f5a-9e20-ac092f91f496 div.sk-toggleable {background-color: white;}#sk-580c12c4-b448-4f5a-9e20-ac092f91f496 label.sk-toggleable__label {cursor: pointer;display: block;width: 100%;margin-bottom: 0;padding: 0.3em;box-sizing: border-box;text-align: center;}#sk-580c12c4-b448-4f5a-9e20-ac092f91f496 div.sk-toggleable__content {max-height: 0;max-width: 0;overflow: hidden;text-align: left;background-color: #f0f8ff;}#sk-580c12c4-b448-4f5a-9e20-ac092f91f496 div.sk-toggleable__content pre {margin: 0.2em;color: black;border-radius: 0.25em;background-color: #f0f8ff;}#sk-580c12c4-b448-4f5a-9e20-ac092f91f496 input.sk-toggleable__control:checked~div.sk-toggleable__content {max-height: 200px;max-width: 100%;overflow: auto;}#sk-580c12c4-b448-4f5a-9e20-ac092f91f496 div.sk-estimator input.sk-toggleable__control:checked~label.sk-toggleable__label {background-color: #d4ebff;}#sk-580c12c4-b448-4f5a-9e20-ac092f91f496 div.sk-label input.sk-toggleable__control:checked~label.sk-toggleable__label {background-color: #d4ebff;}#sk-580c12c4-b448-4f5a-9e20-ac092f91f496 input.sk-hidden--visually {border: 0;clip: rect(1px 1px 1px 1px);clip: rect(1px, 1px, 1px, 1px);height: 1px;margin: -1px;overflow: hidden;padding: 0;position: absolute;width: 1px;}#sk-580c12c4-b448-4f5a-9e20-ac092f91f496 div.sk-estimator {font-family: monospace;background-color: #f0f8ff;border: 1px dotted black;border-radius: 0.25em;box-sizing: border-box;margin-bottom: 0.5em;}#sk-580c12c4-b448-4f5a-9e20-ac092f91f496 div.sk-estimator:hover {background-color: #d4ebff;}#sk-580c12c4-b448-4f5a-9e20-ac092f91f496 div.sk-parallel-item::after {content: \"\";width: 100%;border-bottom: 1px solid gray;flex-grow: 1;}#sk-580c12c4-b448-4f5a-9e20-ac092f91f496 div.sk-label:hover label.sk-toggleable__label {background-color: #d4ebff;}#sk-580c12c4-b448-4f5a-9e20-ac092f91f496 div.sk-serial::before {content: \"\";position: absolute;border-left: 1px solid gray;box-sizing: border-box;top: 2em;bottom: 0;left: 50%;}#sk-580c12c4-b448-4f5a-9e20-ac092f91f496 div.sk-serial {display: flex;flex-direction: column;align-items: center;background-color: white;padding-right: 0.2em;padding-left: 0.2em;}#sk-580c12c4-b448-4f5a-9e20-ac092f91f496 div.sk-item {z-index: 1;}#sk-580c12c4-b448-4f5a-9e20-ac092f91f496 div.sk-parallel {display: flex;align-items: stretch;justify-content: center;background-color: white;}#sk-580c12c4-b448-4f5a-9e20-ac092f91f496 div.sk-parallel::before {content: \"\";position: absolute;border-left: 1px solid gray;box-sizing: border-box;top: 2em;bottom: 0;left: 50%;}#sk-580c12c4-b448-4f5a-9e20-ac092f91f496 div.sk-parallel-item {display: flex;flex-direction: column;position: relative;background-color: white;}#sk-580c12c4-b448-4f5a-9e20-ac092f91f496 div.sk-parallel-item:first-child::after {align-self: flex-end;width: 50%;}#sk-580c12c4-b448-4f5a-9e20-ac092f91f496 div.sk-parallel-item:last-child::after {align-self: flex-start;width: 50%;}#sk-580c12c4-b448-4f5a-9e20-ac092f91f496 div.sk-parallel-item:only-child::after {width: 0;}#sk-580c12c4-b448-4f5a-9e20-ac092f91f496 div.sk-dashed-wrapped {border: 1px dashed gray;margin: 0 0.4em 0.5em 0.4em;box-sizing: border-box;padding-bottom: 0.4em;background-color: white;position: relative;}#sk-580c12c4-b448-4f5a-9e20-ac092f91f496 div.sk-label label {font-family: monospace;font-weight: bold;background-color: white;display: inline-block;line-height: 1.2em;}#sk-580c12c4-b448-4f5a-9e20-ac092f91f496 div.sk-label-container {position: relative;z-index: 2;text-align: center;}#sk-580c12c4-b448-4f5a-9e20-ac092f91f496 div.sk-container {display: inline-block;position: relative;}</style><div id=\"sk-580c12c4-b448-4f5a-9e20-ac092f91f496\" class\"sk-top-container\"><div class=\"sk-container\"><div class=\"sk-item\"><div class=\"sk-estimator sk-toggleable\"><input class=\"sk-toggleable__control sk-hidden--visually\" id=\"98cc8044-a95a-43de-a5a2-57270a46ad3a\" type=\"checkbox\" checked><label class=\"sk-toggleable__label\" for=\"98cc8044-a95a-43de-a5a2-57270a46ad3a\">DecisionTreeClassifier</label><div class=\"sk-toggleable__content\"><pre>DecisionTreeClassifier(ccp_alpha=0.0, class_weight=None, criterion='gini',\n",
       "                       max_depth=None, max_features=None, max_leaf_nodes=None,\n",
       "                       min_impurity_decrease=0.0, min_samples_leaf=1,\n",
       "                       min_samples_split=2, min_weight_fraction_leaf=0.0,\n",
       "                       random_state=None, splitter='best')</pre></div></div></div></div></div>"
      ],
      "text/plain": [
       "DecisionTreeClassifier(ccp_alpha=0.0, class_weight=None, criterion='gini',\n",
       "                       max_depth=None, max_features=None, max_leaf_nodes=None,\n",
       "                       min_impurity_decrease=0.0, min_samples_leaf=1,\n",
       "                       min_samples_split=2, min_weight_fraction_leaf=0.0,\n",
       "                       random_state=None, splitter='best')"
      ]
     },
     "execution_count": 309,
     "metadata": {},
     "output_type": "execute_result"
    }
   ],
   "source": [
    "dt.fit(X_train, y_train)"
   ]
  },
  {
   "cell_type": "code",
   "execution_count": 310,
   "id": "230e8b0a",
   "metadata": {},
   "outputs": [
    {
     "data": {
      "text/html": [
       "<style>#sk-c3a77a4a-3724-4cf4-8b58-b1f9c7143250 {color: black;background-color: white;}#sk-c3a77a4a-3724-4cf4-8b58-b1f9c7143250 pre{padding: 0;}#sk-c3a77a4a-3724-4cf4-8b58-b1f9c7143250 div.sk-toggleable {background-color: white;}#sk-c3a77a4a-3724-4cf4-8b58-b1f9c7143250 label.sk-toggleable__label {cursor: pointer;display: block;width: 100%;margin-bottom: 0;padding: 0.3em;box-sizing: border-box;text-align: center;}#sk-c3a77a4a-3724-4cf4-8b58-b1f9c7143250 div.sk-toggleable__content {max-height: 0;max-width: 0;overflow: hidden;text-align: left;background-color: #f0f8ff;}#sk-c3a77a4a-3724-4cf4-8b58-b1f9c7143250 div.sk-toggleable__content pre {margin: 0.2em;color: black;border-radius: 0.25em;background-color: #f0f8ff;}#sk-c3a77a4a-3724-4cf4-8b58-b1f9c7143250 input.sk-toggleable__control:checked~div.sk-toggleable__content {max-height: 200px;max-width: 100%;overflow: auto;}#sk-c3a77a4a-3724-4cf4-8b58-b1f9c7143250 div.sk-estimator input.sk-toggleable__control:checked~label.sk-toggleable__label {background-color: #d4ebff;}#sk-c3a77a4a-3724-4cf4-8b58-b1f9c7143250 div.sk-label input.sk-toggleable__control:checked~label.sk-toggleable__label {background-color: #d4ebff;}#sk-c3a77a4a-3724-4cf4-8b58-b1f9c7143250 input.sk-hidden--visually {border: 0;clip: rect(1px 1px 1px 1px);clip: rect(1px, 1px, 1px, 1px);height: 1px;margin: -1px;overflow: hidden;padding: 0;position: absolute;width: 1px;}#sk-c3a77a4a-3724-4cf4-8b58-b1f9c7143250 div.sk-estimator {font-family: monospace;background-color: #f0f8ff;border: 1px dotted black;border-radius: 0.25em;box-sizing: border-box;margin-bottom: 0.5em;}#sk-c3a77a4a-3724-4cf4-8b58-b1f9c7143250 div.sk-estimator:hover {background-color: #d4ebff;}#sk-c3a77a4a-3724-4cf4-8b58-b1f9c7143250 div.sk-parallel-item::after {content: \"\";width: 100%;border-bottom: 1px solid gray;flex-grow: 1;}#sk-c3a77a4a-3724-4cf4-8b58-b1f9c7143250 div.sk-label:hover label.sk-toggleable__label {background-color: #d4ebff;}#sk-c3a77a4a-3724-4cf4-8b58-b1f9c7143250 div.sk-serial::before {content: \"\";position: absolute;border-left: 1px solid gray;box-sizing: border-box;top: 2em;bottom: 0;left: 50%;}#sk-c3a77a4a-3724-4cf4-8b58-b1f9c7143250 div.sk-serial {display: flex;flex-direction: column;align-items: center;background-color: white;padding-right: 0.2em;padding-left: 0.2em;}#sk-c3a77a4a-3724-4cf4-8b58-b1f9c7143250 div.sk-item {z-index: 1;}#sk-c3a77a4a-3724-4cf4-8b58-b1f9c7143250 div.sk-parallel {display: flex;align-items: stretch;justify-content: center;background-color: white;}#sk-c3a77a4a-3724-4cf4-8b58-b1f9c7143250 div.sk-parallel::before {content: \"\";position: absolute;border-left: 1px solid gray;box-sizing: border-box;top: 2em;bottom: 0;left: 50%;}#sk-c3a77a4a-3724-4cf4-8b58-b1f9c7143250 div.sk-parallel-item {display: flex;flex-direction: column;position: relative;background-color: white;}#sk-c3a77a4a-3724-4cf4-8b58-b1f9c7143250 div.sk-parallel-item:first-child::after {align-self: flex-end;width: 50%;}#sk-c3a77a4a-3724-4cf4-8b58-b1f9c7143250 div.sk-parallel-item:last-child::after {align-self: flex-start;width: 50%;}#sk-c3a77a4a-3724-4cf4-8b58-b1f9c7143250 div.sk-parallel-item:only-child::after {width: 0;}#sk-c3a77a4a-3724-4cf4-8b58-b1f9c7143250 div.sk-dashed-wrapped {border: 1px dashed gray;margin: 0 0.4em 0.5em 0.4em;box-sizing: border-box;padding-bottom: 0.4em;background-color: white;position: relative;}#sk-c3a77a4a-3724-4cf4-8b58-b1f9c7143250 div.sk-label label {font-family: monospace;font-weight: bold;background-color: white;display: inline-block;line-height: 1.2em;}#sk-c3a77a4a-3724-4cf4-8b58-b1f9c7143250 div.sk-label-container {position: relative;z-index: 2;text-align: center;}#sk-c3a77a4a-3724-4cf4-8b58-b1f9c7143250 div.sk-container {display: inline-block;position: relative;}</style><div id=\"sk-c3a77a4a-3724-4cf4-8b58-b1f9c7143250\" class\"sk-top-container\"><div class=\"sk-container\"><div class=\"sk-item\"><div class=\"sk-estimator sk-toggleable\"><input class=\"sk-toggleable__control sk-hidden--visually\" id=\"580a15b3-c891-4fca-9dca-1898daf845a4\" type=\"checkbox\" checked><label class=\"sk-toggleable__label\" for=\"580a15b3-c891-4fca-9dca-1898daf845a4\">RandomForestClassifier</label><div class=\"sk-toggleable__content\"><pre>RandomForestClassifier(bootstrap=True, ccp_alpha=0.0, class_weight=None,\n",
       "                       criterion='gini', max_depth=None, max_features='auto',\n",
       "                       max_leaf_nodes=None, max_samples=None,\n",
       "                       min_impurity_decrease=0.0, min_samples_leaf=1,\n",
       "                       min_samples_split=2, min_weight_fraction_leaf=0.0,\n",
       "                       n_estimators=100, n_jobs=None, oob_score=False,\n",
       "                       random_state=None, verbose=0, warm_start=False)</pre></div></div></div></div></div>"
      ],
      "text/plain": [
       "RandomForestClassifier(bootstrap=True, ccp_alpha=0.0, class_weight=None,\n",
       "                       criterion='gini', max_depth=None, max_features='auto',\n",
       "                       max_leaf_nodes=None, max_samples=None,\n",
       "                       min_impurity_decrease=0.0, min_samples_leaf=1,\n",
       "                       min_samples_split=2, min_weight_fraction_leaf=0.0,\n",
       "                       n_estimators=100, n_jobs=None, oob_score=False,\n",
       "                       random_state=None, verbose=0, warm_start=False)"
      ]
     },
     "execution_count": 310,
     "metadata": {},
     "output_type": "execute_result"
    }
   ],
   "source": [
    "rf.fit(X_train, y_train)"
   ]
  },
  {
   "cell_type": "markdown",
   "id": "b238b9d8",
   "metadata": {},
   "source": [
    "### Using plot_roc_curve --> be removed in 1.2"
   ]
  },
  {
   "cell_type": "code",
   "execution_count": 311,
   "id": "67e8b78e",
   "metadata": {},
   "outputs": [
    {
     "name": "stderr",
     "output_type": "stream",
     "text": [
      "C:\\Users\\TienLE\\anaconda3\\envs\\py39\\lib\\site-packages\\sklearn\\utils\\deprecation.py:87: FutureWarning: Function plot_roc_curve is deprecated; Function `plot_roc_curve` is deprecated in 1.0 and will be removed in 1.2. Use one of the class methods: RocCurveDisplay.from_predictions or RocCurveDisplay.from_estimator.\n",
      "  warnings.warn(msg, category=FutureWarning)\n",
      "C:\\Users\\TienLE\\anaconda3\\envs\\py39\\lib\\site-packages\\sklearn\\utils\\deprecation.py:87: FutureWarning: Function plot_roc_curve is deprecated; Function `plot_roc_curve` is deprecated in 1.0 and will be removed in 1.2. Use one of the class methods: RocCurveDisplay.from_predictions or RocCurveDisplay.from_estimator.\n",
      "  warnings.warn(msg, category=FutureWarning)\n",
      "C:\\Users\\TienLE\\anaconda3\\envs\\py39\\lib\\site-packages\\sklearn\\utils\\deprecation.py:87: FutureWarning: Function plot_roc_curve is deprecated; Function `plot_roc_curve` is deprecated in 1.0 and will be removed in 1.2. Use one of the class methods: RocCurveDisplay.from_predictions or RocCurveDisplay.from_estimator.\n",
      "  warnings.warn(msg, category=FutureWarning)\n"
     ]
    },
    {
     "data": {
      "image/png": "[encoded data removed]",
      "text/plain": [
       "<Figure size 432x288 with 1 Axes>"
      ]
     },
     "metadata": {
      "needs_background": "light"
     },
     "output_type": "display_data"
    }
   ],
   "source": [
    "from sklearn.metrics import plot_roc_curve\n",
    "disp = plot_roc_curve(lr, X_test, y_test)\n",
    "plot_roc_curve(dt, X_test, y_test, ax=disp.ax_);\n",
    "plot_roc_curve(rf, X_test, y_test, ax=disp.ax_);\n",
    "plt.show()"
   ]
  },
  {
   "cell_type": "markdown",
   "id": "c201c294",
   "metadata": {},
   "source": [
    "### Using RocCurveDisplay\n",
    "\n",
    "Ref:\n",
    "+ [RocCurveDisplay](https://scikit-learn.org/stable/modules/generated/sklearn.metrics.RocCurveDisplay.html)\n",
    "+ [roc_curve](https://scikit-learn.org/stable/modules/generated/sklearn.metrics.roc_curve.html#sklearn.metrics.roc_curve)"
   ]
  },
  {
   "cell_type": "code",
   "execution_count": 312,
   "id": "4fd2d045",
   "metadata": {},
   "outputs": [],
   "source": [
    "from sklearn.metrics import RocCurveDisplay, roc_curve, auc"
   ]
  },
  {
   "cell_type": "code",
   "execution_count": 313,
   "id": "88f19d95",
   "metadata": {},
   "outputs": [],
   "source": [
    "y_pred_lr = lr.predict(X_test)\n",
    "y_pred_dt = dt.predict(X_test)\n",
    "y_pred_rf = rf.predict(X_test)"
   ]
  },
  {
   "cell_type": "code",
   "execution_count": 314,
   "id": "e4e9f2bd",
   "metadata": {},
   "outputs": [
    {
     "data": {
      "text/plain": [
       "array([0, 0, 0, 1, 0, 1, 1, 1, 1, 0], dtype=int64)"
      ]
     },
     "execution_count": 314,
     "metadata": {},
     "output_type": "execute_result"
    }
   ],
   "source": [
    "y_pred_lr[:10]"
   ]
  },
  {
   "cell_type": "code",
   "execution_count": 315,
   "id": "c699627c",
   "metadata": {},
   "outputs": [
    {
     "data": {
      "text/plain": [
       "array([0, 0, 0, 1, 1, 1, 0, 1, 1, 0], dtype=int64)"
      ]
     },
     "execution_count": 315,
     "metadata": {},
     "output_type": "execute_result"
    }
   ],
   "source": [
    "y_pred_dt[:10]"
   ]
  },
  {
   "cell_type": "code",
   "execution_count": 316,
   "id": "6e2e5176",
   "metadata": {},
   "outputs": [
    {
     "data": {
      "text/plain": [
       "array([0, 0, 0, 0, 0, 1, 1, 1, 1, 0], dtype=int64)"
      ]
     },
     "execution_count": 316,
     "metadata": {},
     "output_type": "execute_result"
    }
   ],
   "source": [
    "y_pred_rf[:10]"
   ]
  },
  {
   "cell_type": "code",
   "execution_count": 317,
   "id": "30135614",
   "metadata": {},
   "outputs": [
    {
     "data": {
      "image/png": "[encoded data removed]",
      "text/plain": [
       "<Figure size 432x288 with 1 Axes>"
      ]
     },
     "metadata": {
      "needs_background": "light"
     },
     "output_type": "display_data"
    }
   ],
   "source": [
    "# LogisticRegression\n",
    "fpr_lr, tpr_lr, thresholds_lr = roc_curve(y_true=y_test,y_score=y_pred_lr, pos_label=1)\n",
    "# pos_labelint or str, default=None\n",
    "#   The label of the positive class. When pos_label=None, if y_true is in {-1, 1} or {0, 1}, pos_label is set to 1, otherwise an error will be raised.\n",
    "\n",
    "disp = RocCurveDisplay(fpr=fpr_lr, tpr=tpr_lr, roc_auc=auc(fpr_lr, tpr_lr), estimator_name=\"LogisticRegression\")\n",
    "\n",
    "disp.plot()\n",
    "plt.show()"
   ]
  },
  {
   "cell_type": "code",
   "execution_count": 318,
   "id": "b6ea0cff",
   "metadata": {},
   "outputs": [
    {
     "data": {
      "text/plain": [
       "<Figure size 432x288 with 0 Axes>"
      ]
     },
     "metadata": {},
     "output_type": "display_data"
    },
    {
     "data": {
      "image/png": "[encoded data removed]",
      "text/plain": [
       "<Figure size 432x288 with 1 Axes>"
      ]
     },
     "metadata": {
      "needs_background": "light"
     },
     "output_type": "display_data"
    }
   ],
   "source": [
    "# Plot all ROC curves\n",
    "plt.figure()\n",
    "\n",
    "disp = RocCurveDisplay.from_predictions(y_true=y_test, y_pred=y_pred_lr, name=\"LogisticRegression\");\n",
    "RocCurveDisplay.from_predictions(y_true=y_test, y_pred=y_pred_dt, name=\"DecisionTreeClassifier\", ax=disp.ax_)\n",
    "RocCurveDisplay.from_predictions(y_true=y_test, y_pred=y_pred_rf, name=\"RandomForestClassifier\", ax=disp.ax_)\n",
    "plt.show()"
   ]
  },
  {
   "cell_type": "markdown",
   "id": "229e248c",
   "metadata": {},
   "source": [
    "## Using stratified sampling with train_test_split\n",
    "\n",
    "Be sure to set \"stratify=y\" so that class proportions are preserved when splitting.\n",
    "\n",
    "Especially important if you have class imbalance!\n",
    "\n",
    "Ref: [train_test_split](https://scikit-learn.org/stable/modules/generated/sklearn.model_selection.train_test_split.html)"
   ]
  },
  {
   "cell_type": "code",
   "execution_count": 319,
   "id": "5b5a5b09",
   "metadata": {},
   "outputs": [],
   "source": [
    "df = pd.DataFrame({'feature':list(range(8)), 'target':['not fraud']*6 + ['fraud']*2})"
   ]
  },
  {
   "cell_type": "code",
   "execution_count": 320,
   "id": "05691094",
   "metadata": {},
   "outputs": [
    {
     "data": {
      "text/html": [
       "<div>\n",
       "<style scoped>\n",
       "    .dataframe tbody tr th:only-of-type {\n",
       "        vertical-align: middle;\n",
       "    }\n",
       "\n",
       "    .dataframe tbody tr th {\n",
       "        vertical-align: top;\n",
       "    }\n",
       "\n",
       "    .dataframe thead th {\n",
       "        text-align: right;\n",
       "    }\n",
       "</style>\n",
       "<table border=\"1\" class=\"dataframe\">\n",
       "  <thead>\n",
       "    <tr style=\"text-align: right;\">\n",
       "      <th></th>\n",
       "      <th>feature</th>\n",
       "      <th>target</th>\n",
       "    </tr>\n",
       "  </thead>\n",
       "  <tbody>\n",
       "    <tr>\n",
       "      <th>0</th>\n",
       "      <td>0</td>\n",
       "      <td>not fraud</td>\n",
       "    </tr>\n",
       "    <tr>\n",
       "      <th>1</th>\n",
       "      <td>1</td>\n",
       "      <td>not fraud</td>\n",
       "    </tr>\n",
       "    <tr>\n",
       "      <th>2</th>\n",
       "      <td>2</td>\n",
       "      <td>not fraud</td>\n",
       "    </tr>\n",
       "  </tbody>\n",
       "</table>\n",
       "</div>"
      ],
      "text/plain": [
       "   feature     target\n",
       "0        0  not fraud\n",
       "1        1  not fraud\n",
       "2        2  not fraud"
      ]
     },
     "execution_count": 320,
     "metadata": {},
     "output_type": "execute_result"
    }
   ],
   "source": [
    "df.head(3)"
   ]
  },
  {
   "cell_type": "code",
   "execution_count": 321,
   "id": "36f3bf4e",
   "metadata": {},
   "outputs": [
    {
     "data": {
      "text/plain": [
       "not fraud    6\n",
       "fraud        2\n",
       "Name: target, dtype: int64"
      ]
     },
     "execution_count": 321,
     "metadata": {},
     "output_type": "execute_result"
    }
   ],
   "source": [
    "df[\"target\"].value_counts()"
   ]
  },
  {
   "cell_type": "code",
   "execution_count": 322,
   "id": "eecec41a",
   "metadata": {},
   "outputs": [],
   "source": [
    "X = df[['feature']]\n",
    "y = df['target']"
   ]
  },
  {
   "cell_type": "code",
   "execution_count": 323,
   "id": "ec5bc900",
   "metadata": {},
   "outputs": [],
   "source": [
    "from sklearn.model_selection import train_test_split"
   ]
  },
  {
   "cell_type": "markdown",
   "id": "9c58f29e",
   "metadata": {},
   "source": [
    "### Not stratified\n",
    "\n",
    "`y_train` contains **NONE** of the minority class, whereas `y_test` contains **ALL** of the minority class."
   ]
  },
  {
   "cell_type": "code",
   "execution_count": 324,
   "id": "07d8c382",
   "metadata": {},
   "outputs": [],
   "source": [
    "X_train, X_test, y_train, y_test = train_test_split(X, y, test_size=0.5, random_state=0)"
   ]
  },
  {
   "cell_type": "code",
   "execution_count": 325,
   "id": "9bb7879b",
   "metadata": {},
   "outputs": [
    {
     "data": {
      "text/plain": [
       "3    not fraud\n",
       "0    not fraud\n",
       "5    not fraud\n",
       "4    not fraud\n",
       "Name: target, dtype: object"
      ]
     },
     "execution_count": 325,
     "metadata": {},
     "output_type": "execute_result"
    }
   ],
   "source": [
    "y_train"
   ]
  },
  {
   "cell_type": "code",
   "execution_count": 326,
   "id": "8e552cae",
   "metadata": {},
   "outputs": [
    {
     "data": {
      "text/plain": [
       "6        fraud\n",
       "2    not fraud\n",
       "1    not fraud\n",
       "7        fraud\n",
       "Name: target, dtype: object"
      ]
     },
     "execution_count": 326,
     "metadata": {},
     "output_type": "execute_result"
    }
   ],
   "source": [
    "y_test"
   ]
  },
  {
   "cell_type": "markdown",
   "id": "beb7dd4e",
   "metadata": {},
   "source": [
    "### Stratified\n",
    "\n",
    "Class proportions are the **SAME** in `y_train` and `y_test`."
   ]
  },
  {
   "cell_type": "code",
   "execution_count": 327,
   "id": "bfc42ff4",
   "metadata": {},
   "outputs": [],
   "source": [
    "X_train, X_test, y_train, y_test = train_test_split(X, y, test_size=0.5, random_state=0, stratify=y)"
   ]
  },
  {
   "cell_type": "code",
   "execution_count": 328,
   "id": "798d2a7f",
   "metadata": {},
   "outputs": [
    {
     "data": {
      "text/plain": [
       "1    not fraud\n",
       "7        fraud\n",
       "2    not fraud\n",
       "4    not fraud\n",
       "Name: target, dtype: object"
      ]
     },
     "execution_count": 328,
     "metadata": {},
     "output_type": "execute_result"
    }
   ],
   "source": [
    "y_train"
   ]
  },
  {
   "cell_type": "code",
   "execution_count": 329,
   "id": "04219d6f",
   "metadata": {},
   "outputs": [
    {
     "data": {
      "text/plain": [
       "3    not fraud\n",
       "6        fraud\n",
       "0    not fraud\n",
       "5    not fraud\n",
       "Name: target, dtype: object"
      ]
     },
     "execution_count": 329,
     "metadata": {},
     "output_type": "execute_result"
    }
   ],
   "source": [
    "y_test"
   ]
  },
  {
   "cell_type": "markdown",
   "id": "d0f62826",
   "metadata": {},
   "source": [
    "## Shuffle our dataset when applying cross_val_score\n",
    "\n",
    "If you use [cross-validation](https://scikit-learn.org/stable/modules/cross_validation.html) and your samples are NOT in an arbitrary order, [shuffling](https://scikit-learn.org/stable/modules/cross_validation.html#a-note-on-shuffling) may be required to get meaningful results.\n",
    "\n",
    "Use [KFold](https://scikit-learn.org/stable/modules/cross_validation.html#k-fold) or [StratifiedKFold](https://scikit-learn.org/stable/modules/cross_validation.html#stratified-k-fold) in order to shuffle!"
   ]
  },
  {
   "cell_type": "markdown",
   "id": "e4dcb5a3",
   "metadata": {},
   "source": [
    "### Using StratifiedKFold for classification problems"
   ]
  },
  {
   "cell_type": "code",
   "execution_count": 330,
   "id": "dda1b395",
   "metadata": {},
   "outputs": [],
   "source": [
    "file_input_path = \"titanic_train.csv\"\n",
    "if not os.path.exists(file_input_path):\n",
    "    df_train = pd.read_csv(\"http://bit.ly/kaggletrain\")\n",
    "    df_train.to_csv(file_input_path, header=True, index=False, sep=\"\\t\")\n",
    "else:\n",
    "    df_train = pd.read_csv(file_input_path, header=0, sep=\"\\t\")\n",
    "    \n",
    "features = [\"Pclass\", \"Fare\", \"SibSp\"]\n",
    "X, y = df_train[features], df_train[\"Survived\"]\n",
    "\n",
    "from sklearn.model_selection import train_test_split\n",
    "X_train, X_test, y_train, y_test = train_test_split(X, y, random_state=0)"
   ]
  },
  {
   "cell_type": "code",
   "execution_count": 331,
   "id": "f4d2aacc",
   "metadata": {},
   "outputs": [],
   "source": [
    "from sklearn.model_selection import StratifiedKFold\n",
    "skf = StratifiedKFold(5, shuffle=True, random_state=1)"
   ]
  },
  {
   "cell_type": "code",
   "execution_count": 332,
   "id": "aa3cbe6c",
   "metadata": {},
   "outputs": [],
   "source": [
    "clf = LogisticRegression()"
   ]
  },
  {
   "cell_type": "code",
   "execution_count": 333,
   "id": "93365fb0",
   "metadata": {},
   "outputs": [
    {
     "data": {
      "text/plain": [
       "array([0.65363128, 0.7247191 , 0.66853933, 0.68539326, 0.65730337])"
      ]
     },
     "execution_count": 333,
     "metadata": {},
     "output_type": "execute_result"
    }
   ],
   "source": [
    "scores = cross_val_score(clf, X, y, cv=skf, scoring=\"accuracy\")\n",
    "scores"
   ]
  },
  {
   "cell_type": "code",
   "execution_count": 334,
   "id": "5d562664",
   "metadata": {},
   "outputs": [
    {
     "data": {
      "text/plain": [
       "0.6779172682191954"
      ]
     },
     "execution_count": 334,
     "metadata": {},
     "output_type": "execute_result"
    }
   ],
   "source": [
    "scores.mean()"
   ]
  },
  {
   "cell_type": "markdown",
   "id": "3b0a0c87",
   "metadata": {},
   "source": [
    "### Using KFold with regression problems"
   ]
  },
  {
   "cell_type": "code",
   "execution_count": 335,
   "id": "9bbd2c24",
   "metadata": {},
   "outputs": [],
   "source": [
    "# Regression corpus\n",
    "from sklearn.datasets import load_diabetes\n",
    "\n",
    "from sklearn.linear_model import LinearRegression\n",
    "from sklearn.model_selection import KFold"
   ]
  },
  {
   "cell_type": "code",
   "execution_count": 336,
   "id": "e2ff8e34",
   "metadata": {},
   "outputs": [],
   "source": [
    "reg = LinearRegression()"
   ]
  },
  {
   "cell_type": "code",
   "execution_count": 337,
   "id": "2bb219de",
   "metadata": {},
   "outputs": [],
   "source": [
    "X_reg, y_reg = load_diabetes(return_X_y=True)"
   ]
  },
  {
   "cell_type": "code",
   "execution_count": 338,
   "id": "713c6725",
   "metadata": {},
   "outputs": [
    {
     "data": {
      "text/plain": [
       "array([[ 0.03807591,  0.05068012,  0.06169621,  0.02187235, -0.0442235 ,\n",
       "        -0.03482076, -0.04340085, -0.00259226,  0.01990842, -0.01764613],\n",
       "       [-0.00188202, -0.04464164, -0.05147406, -0.02632783, -0.00844872,\n",
       "        -0.01916334,  0.07441156, -0.03949338, -0.06832974, -0.09220405],\n",
       "       [ 0.08529891,  0.05068012,  0.04445121, -0.00567061, -0.04559945,\n",
       "        -0.03419447, -0.03235593, -0.00259226,  0.00286377, -0.02593034]])"
      ]
     },
     "execution_count": 338,
     "metadata": {},
     "output_type": "execute_result"
    }
   ],
   "source": [
    "X_reg[:3]"
   ]
  },
  {
   "cell_type": "code",
   "execution_count": 339,
   "id": "4f5a1fa0",
   "metadata": {},
   "outputs": [
    {
     "data": {
      "text/plain": [
       "array([151.,  75., 141.])"
      ]
     },
     "execution_count": 339,
     "metadata": {},
     "output_type": "execute_result"
    }
   ],
   "source": [
    "y_reg[:3]"
   ]
  },
  {
   "cell_type": "code",
   "execution_count": 340,
   "id": "0c344651",
   "metadata": {},
   "outputs": [],
   "source": [
    "kf = KFold(5, shuffle=True, random_state=1)"
   ]
  },
  {
   "cell_type": "code",
   "execution_count": 341,
   "id": "3fe6a4d1",
   "metadata": {},
   "outputs": [
    {
     "data": {
      "text/plain": [
       "array([0.43843604, 0.38982527, 0.52792606, 0.47359858, 0.57449343])"
      ]
     },
     "execution_count": 341,
     "metadata": {},
     "output_type": "execute_result"
    }
   ],
   "source": [
    "scores = cross_val_score(reg, X_reg, y_reg, cv=kf, scoring=\"r2\")\n",
    "scores"
   ]
  },
  {
   "cell_type": "code",
   "execution_count": 342,
   "id": "1b2a483c",
   "metadata": {},
   "outputs": [
    {
     "data": {
      "text/plain": [
       "0.4808558770194292"
      ]
     },
     "execution_count": 342,
     "metadata": {},
     "output_type": "execute_result"
    }
   ],
   "source": [
    "scores.mean()"
   ]
  },
  {
   "cell_type": "markdown",
   "id": "af5b7ef2",
   "metadata": {},
   "source": [
    "## Use AUC to evaluate multi-class problems\n",
    "\n",
    "[AUC](https://scikit-learn.org/stable/modules/model_evaluation.html#receiver-operating-characteristic-roc) is an excellent evaluation metric for binary classification, especially if you have class imbalance.\n",
    "\n",
    "New in scikit-learn 0.22: AUC can be used with [multiclass problems](https://scikit-learn.org/stable/modules/model_evaluation.html#multi-class-case)! Supports \"one-vs-one\" and \"one-vs-rest\" strategies.\n",
    "\n",
    "Additional links: [ROC curves and AUC explained (video)](https://www.dataschool.io/roc-curves-and-auc-explained/)"
   ]
  },
  {
   "cell_type": "code",
   "execution_count": 343,
   "id": "97b323ab",
   "metadata": {},
   "outputs": [],
   "source": [
    "from sklearn.datasets import load_wine"
   ]
  },
  {
   "cell_type": "code",
   "execution_count": 344,
   "id": "9342ab73",
   "metadata": {},
   "outputs": [],
   "source": [
    "X, y = load_wine(return_X_y=True)"
   ]
  },
  {
   "cell_type": "code",
   "execution_count": 345,
   "id": "80f681b7",
   "metadata": {},
   "outputs": [
    {
     "data": {
      "text/plain": [
       "array([[1.423e+01, 1.710e+00, 2.430e+00, 1.560e+01, 1.270e+02, 2.800e+00,\n",
       "        3.060e+00, 2.800e-01, 2.290e+00, 5.640e+00, 1.040e+00, 3.920e+00,\n",
       "        1.065e+03],\n",
       "       [1.320e+01, 1.780e+00, 2.140e+00, 1.120e+01, 1.000e+02, 2.650e+00,\n",
       "        2.760e+00, 2.600e-01, 1.280e+00, 4.380e+00, 1.050e+00, 3.400e+00,\n",
       "        1.050e+03],\n",
       "       [1.316e+01, 2.360e+00, 2.670e+00, 1.860e+01, 1.010e+02, 2.800e+00,\n",
       "        3.240e+00, 3.000e-01, 2.810e+00, 5.680e+00, 1.030e+00, 3.170e+00,\n",
       "        1.185e+03]])"
      ]
     },
     "execution_count": 345,
     "metadata": {},
     "output_type": "execute_result"
    }
   ],
   "source": [
    "X[:3]"
   ]
  },
  {
   "cell_type": "code",
   "execution_count": 346,
   "id": "f66fc624",
   "metadata": {},
   "outputs": [
    {
     "data": {
      "text/plain": [
       "array([0, 0, 0])"
      ]
     },
     "execution_count": 346,
     "metadata": {},
     "output_type": "execute_result"
    }
   ],
   "source": [
    "y[:3]"
   ]
  },
  {
   "cell_type": "code",
   "execution_count": 347,
   "id": "116a66ec",
   "metadata": {},
   "outputs": [
    {
     "data": {
      "text/plain": [
       "array([0, 1, 2])"
      ]
     },
     "execution_count": 347,
     "metadata": {},
     "output_type": "execute_result"
    }
   ],
   "source": [
    "np.unique(y)"
   ]
  },
  {
   "cell_type": "code",
   "execution_count": 348,
   "id": "3875bfd0",
   "metadata": {},
   "outputs": [],
   "source": [
    "clf = LogisticRegression()"
   ]
  },
  {
   "cell_type": "code",
   "execution_count": 349,
   "id": "ce2192fd",
   "metadata": {},
   "outputs": [],
   "source": [
    "X_train, X_test, y_train, y_test = train_test_split(X, y, random_state=0, stratify=y)"
   ]
  },
  {
   "cell_type": "code",
   "execution_count": 350,
   "id": "27309aac",
   "metadata": {},
   "outputs": [
    {
     "name": "stderr",
     "output_type": "stream",
     "text": [
      "C:\\Users\\TienLE\\anaconda3\\envs\\py39\\lib\\site-packages\\sklearn\\linear_model\\_logistic.py:814: ConvergenceWarning: lbfgs failed to converge (status=1):\n",
      "STOP: TOTAL NO. of ITERATIONS REACHED LIMIT.\n",
      "\n",
      "Increase the number of iterations (max_iter) or scale the data as shown in:\n",
      "    https://scikit-learn.org/stable/modules/preprocessing.html\n",
      "Please also refer to the documentation for alternative solver options:\n",
      "    https://scikit-learn.org/stable/modules/linear_model.html#logistic-regression\n",
      "  n_iter_i = _check_optimize_result(\n"
     ]
    },
    {
     "data": {
      "text/html": [
       "<style>#sk-475fb83b-d888-45e0-9147-604aba52a4e2 {color: black;background-color: white;}#sk-475fb83b-d888-45e0-9147-604aba52a4e2 pre{padding: 0;}#sk-475fb83b-d888-45e0-9147-604aba52a4e2 div.sk-toggleable {background-color: white;}#sk-475fb83b-d888-45e0-9147-604aba52a4e2 label.sk-toggleable__label {cursor: pointer;display: block;width: 100%;margin-bottom: 0;padding: 0.3em;box-sizing: border-box;text-align: center;}#sk-475fb83b-d888-45e0-9147-604aba52a4e2 div.sk-toggleable__content {max-height: 0;max-width: 0;overflow: hidden;text-align: left;background-color: #f0f8ff;}#sk-475fb83b-d888-45e0-9147-604aba52a4e2 div.sk-toggleable__content pre {margin: 0.2em;color: black;border-radius: 0.25em;background-color: #f0f8ff;}#sk-475fb83b-d888-45e0-9147-604aba52a4e2 input.sk-toggleable__control:checked~div.sk-toggleable__content {max-height: 200px;max-width: 100%;overflow: auto;}#sk-475fb83b-d888-45e0-9147-604aba52a4e2 div.sk-estimator input.sk-toggleable__control:checked~label.sk-toggleable__label {background-color: #d4ebff;}#sk-475fb83b-d888-45e0-9147-604aba52a4e2 div.sk-label input.sk-toggleable__control:checked~label.sk-toggleable__label {background-color: #d4ebff;}#sk-475fb83b-d888-45e0-9147-604aba52a4e2 input.sk-hidden--visually {border: 0;clip: rect(1px 1px 1px 1px);clip: rect(1px, 1px, 1px, 1px);height: 1px;margin: -1px;overflow: hidden;padding: 0;position: absolute;width: 1px;}#sk-475fb83b-d888-45e0-9147-604aba52a4e2 div.sk-estimator {font-family: monospace;background-color: #f0f8ff;border: 1px dotted black;border-radius: 0.25em;box-sizing: border-box;margin-bottom: 0.5em;}#sk-475fb83b-d888-45e0-9147-604aba52a4e2 div.sk-estimator:hover {background-color: #d4ebff;}#sk-475fb83b-d888-45e0-9147-604aba52a4e2 div.sk-parallel-item::after {content: \"\";width: 100%;border-bottom: 1px solid gray;flex-grow: 1;}#sk-475fb83b-d888-45e0-9147-604aba52a4e2 div.sk-label:hover label.sk-toggleable__label {background-color: #d4ebff;}#sk-475fb83b-d888-45e0-9147-604aba52a4e2 div.sk-serial::before {content: \"\";position: absolute;border-left: 1px solid gray;box-sizing: border-box;top: 2em;bottom: 0;left: 50%;}#sk-475fb83b-d888-45e0-9147-604aba52a4e2 div.sk-serial {display: flex;flex-direction: column;align-items: center;background-color: white;padding-right: 0.2em;padding-left: 0.2em;}#sk-475fb83b-d888-45e0-9147-604aba52a4e2 div.sk-item {z-index: 1;}#sk-475fb83b-d888-45e0-9147-604aba52a4e2 div.sk-parallel {display: flex;align-items: stretch;justify-content: center;background-color: white;}#sk-475fb83b-d888-45e0-9147-604aba52a4e2 div.sk-parallel::before {content: \"\";position: absolute;border-left: 1px solid gray;box-sizing: border-box;top: 2em;bottom: 0;left: 50%;}#sk-475fb83b-d888-45e0-9147-604aba52a4e2 div.sk-parallel-item {display: flex;flex-direction: column;position: relative;background-color: white;}#sk-475fb83b-d888-45e0-9147-604aba52a4e2 div.sk-parallel-item:first-child::after {align-self: flex-end;width: 50%;}#sk-475fb83b-d888-45e0-9147-604aba52a4e2 div.sk-parallel-item:last-child::after {align-self: flex-start;width: 50%;}#sk-475fb83b-d888-45e0-9147-604aba52a4e2 div.sk-parallel-item:only-child::after {width: 0;}#sk-475fb83b-d888-45e0-9147-604aba52a4e2 div.sk-dashed-wrapped {border: 1px dashed gray;margin: 0 0.4em 0.5em 0.4em;box-sizing: border-box;padding-bottom: 0.4em;background-color: white;position: relative;}#sk-475fb83b-d888-45e0-9147-604aba52a4e2 div.sk-label label {font-family: monospace;font-weight: bold;background-color: white;display: inline-block;line-height: 1.2em;}#sk-475fb83b-d888-45e0-9147-604aba52a4e2 div.sk-label-container {position: relative;z-index: 2;text-align: center;}#sk-475fb83b-d888-45e0-9147-604aba52a4e2 div.sk-container {display: inline-block;position: relative;}</style><div id=\"sk-475fb83b-d888-45e0-9147-604aba52a4e2\" class\"sk-top-container\"><div class=\"sk-container\"><div class=\"sk-item\"><div class=\"sk-estimator sk-toggleable\"><input class=\"sk-toggleable__control sk-hidden--visually\" id=\"e574a6be-d9a0-48bb-af2b-c71b0da9d4ee\" type=\"checkbox\" checked><label class=\"sk-toggleable__label\" for=\"e574a6be-d9a0-48bb-af2b-c71b0da9d4ee\">LogisticRegression</label><div class=\"sk-toggleable__content\"><pre>LogisticRegression(C=1.0, class_weight=None, dual=False, fit_intercept=True,\n",
       "                   intercept_scaling=1, l1_ratio=None, max_iter=100,\n",
       "                   multi_class='auto', n_jobs=None, penalty='l2',\n",
       "                   random_state=None, solver='lbfgs', tol=0.0001, verbose=0,\n",
       "                   warm_start=False)</pre></div></div></div></div></div>"
      ],
      "text/plain": [
       "LogisticRegression(C=1.0, class_weight=None, dual=False, fit_intercept=True,\n",
       "                   intercept_scaling=1, l1_ratio=None, max_iter=100,\n",
       "                   multi_class='auto', n_jobs=None, penalty='l2',\n",
       "                   random_state=None, solver='lbfgs', tol=0.0001, verbose=0,\n",
       "                   warm_start=False)"
      ]
     },
     "execution_count": 350,
     "metadata": {},
     "output_type": "execute_result"
    }
   ],
   "source": [
    "clf.fit(X_train, y_train)"
   ]
  },
  {
   "cell_type": "code",
   "execution_count": 351,
   "id": "b309a56b",
   "metadata": {},
   "outputs": [],
   "source": [
    "y_pred_proba = clf.predict_proba(X_test)"
   ]
  },
  {
   "cell_type": "code",
   "execution_count": 352,
   "id": "c09225d6",
   "metadata": {},
   "outputs": [
    {
     "data": {
      "text/plain": [
       "array([[1.52956883e-03, 8.33190734e-05, 9.98387112e-01],\n",
       "       [3.52924736e-01, 6.45037036e-01, 2.03822723e-03],\n",
       "       [2.91763667e-05, 9.99875495e-01, 9.53286356e-05]])"
      ]
     },
     "execution_count": 352,
     "metadata": {},
     "output_type": "execute_result"
    }
   ],
   "source": [
    "y_pred_proba[:3]"
   ]
  },
  {
   "cell_type": "markdown",
   "id": "6515f79e",
   "metadata": {},
   "source": [
    "### Using 'ovo' (One-vs-One) or 'ovr' (One-vs-Rest)"
   ]
  },
  {
   "cell_type": "code",
   "execution_count": 353,
   "id": "62e2ae96",
   "metadata": {},
   "outputs": [],
   "source": [
    "from sklearn.metrics import roc_auc_score"
   ]
  },
  {
   "cell_type": "code",
   "execution_count": 354,
   "id": "03a4cf93",
   "metadata": {},
   "outputs": [
    {
     "data": {
      "text/plain": [
       "0.9975308641975308"
      ]
     },
     "execution_count": 354,
     "metadata": {},
     "output_type": "execute_result"
    }
   ],
   "source": [
    "roc_auc_score(y_test, y_pred_proba, multi_class=\"ovo\")"
   ]
  },
  {
   "cell_type": "markdown",
   "id": "dac11b6a",
   "metadata": {},
   "source": [
    "### Multiclass AUC with cross-validation"
   ]
  },
  {
   "cell_type": "code",
   "execution_count": 355,
   "id": "ff1b92cd",
   "metadata": {
    "scrolled": true
   },
   "outputs": [
    {
     "name": "stderr",
     "output_type": "stream",
     "text": [
      "C:\\Users\\TienLE\\anaconda3\\envs\\py39\\lib\\site-packages\\sklearn\\linear_model\\_logistic.py:814: ConvergenceWarning: lbfgs failed to converge (status=1):\n",
      "STOP: TOTAL NO. of ITERATIONS REACHED LIMIT.\n",
      "\n",
      "Increase the number of iterations (max_iter) or scale the data as shown in:\n",
      "    https://scikit-learn.org/stable/modules/preprocessing.html\n",
      "Please also refer to the documentation for alternative solver options:\n",
      "    https://scikit-learn.org/stable/modules/linear_model.html#logistic-regression\n",
      "  n_iter_i = _check_optimize_result(\n",
      "C:\\Users\\TienLE\\anaconda3\\envs\\py39\\lib\\site-packages\\sklearn\\linear_model\\_logistic.py:814: ConvergenceWarning: lbfgs failed to converge (status=1):\n",
      "STOP: TOTAL NO. of ITERATIONS REACHED LIMIT.\n",
      "\n",
      "Increase the number of iterations (max_iter) or scale the data as shown in:\n",
      "    https://scikit-learn.org/stable/modules/preprocessing.html\n",
      "Please also refer to the documentation for alternative solver options:\n",
      "    https://scikit-learn.org/stable/modules/linear_model.html#logistic-regression\n",
      "  n_iter_i = _check_optimize_result(\n",
      "C:\\Users\\TienLE\\anaconda3\\envs\\py39\\lib\\site-packages\\sklearn\\linear_model\\_logistic.py:814: ConvergenceWarning: lbfgs failed to converge (status=1):\n",
      "STOP: TOTAL NO. of ITERATIONS REACHED LIMIT.\n",
      "\n",
      "Increase the number of iterations (max_iter) or scale the data as shown in:\n",
      "    https://scikit-learn.org/stable/modules/preprocessing.html\n",
      "Please also refer to the documentation for alternative solver options:\n",
      "    https://scikit-learn.org/stable/modules/linear_model.html#logistic-regression\n",
      "  n_iter_i = _check_optimize_result(\n",
      "C:\\Users\\TienLE\\anaconda3\\envs\\py39\\lib\\site-packages\\sklearn\\linear_model\\_logistic.py:814: ConvergenceWarning: lbfgs failed to converge (status=1):\n",
      "STOP: TOTAL NO. of ITERATIONS REACHED LIMIT.\n",
      "\n",
      "Increase the number of iterations (max_iter) or scale the data as shown in:\n",
      "    https://scikit-learn.org/stable/modules/preprocessing.html\n",
      "Please also refer to the documentation for alternative solver options:\n",
      "    https://scikit-learn.org/stable/modules/linear_model.html#logistic-regression\n",
      "  n_iter_i = _check_optimize_result(\n",
      "C:\\Users\\TienLE\\anaconda3\\envs\\py39\\lib\\site-packages\\sklearn\\linear_model\\_logistic.py:814: ConvergenceWarning: lbfgs failed to converge (status=1):\n",
      "STOP: TOTAL NO. of ITERATIONS REACHED LIMIT.\n",
      "\n",
      "Increase the number of iterations (max_iter) or scale the data as shown in:\n",
      "    https://scikit-learn.org/stable/modules/preprocessing.html\n",
      "Please also refer to the documentation for alternative solver options:\n",
      "    https://scikit-learn.org/stable/modules/linear_model.html#logistic-regression\n",
      "  n_iter_i = _check_optimize_result(\n"
     ]
    },
    {
     "data": {
      "text/plain": [
       "array([0.97678571, 0.9952381 , 0.99007937, 1.        , 1.        ])"
      ]
     },
     "execution_count": 355,
     "metadata": {},
     "output_type": "execute_result"
    }
   ],
   "source": [
    "scores = cross_val_score(clf, X, y, cv=5, scoring=\"roc_auc_ovo\")\n",
    "scores"
   ]
  },
  {
   "cell_type": "code",
   "execution_count": 356,
   "id": "ba45046d",
   "metadata": {},
   "outputs": [
    {
     "data": {
      "text/plain": [
       "0.9924206349206349"
      ]
     },
     "execution_count": 356,
     "metadata": {},
     "output_type": "execute_result"
    }
   ],
   "source": [
    "scores.mean()"
   ]
  },
  {
   "cell_type": "markdown",
   "id": "fe16aea5",
   "metadata": {},
   "source": [
    "### Estimating by F1-score"
   ]
  },
  {
   "cell_type": "code",
   "execution_count": 357,
   "id": "a8a42323",
   "metadata": {},
   "outputs": [
    {
     "name": "stderr",
     "output_type": "stream",
     "text": [
      "C:\\Users\\TienLE\\anaconda3\\envs\\py39\\lib\\site-packages\\sklearn\\linear_model\\_logistic.py:814: ConvergenceWarning: lbfgs failed to converge (status=1):\n",
      "STOP: TOTAL NO. of ITERATIONS REACHED LIMIT.\n",
      "\n",
      "Increase the number of iterations (max_iter) or scale the data as shown in:\n",
      "    https://scikit-learn.org/stable/modules/preprocessing.html\n",
      "Please also refer to the documentation for alternative solver options:\n",
      "    https://scikit-learn.org/stable/modules/linear_model.html#logistic-regression\n",
      "  n_iter_i = _check_optimize_result(\n",
      "C:\\Users\\TienLE\\anaconda3\\envs\\py39\\lib\\site-packages\\sklearn\\linear_model\\_logistic.py:814: ConvergenceWarning: lbfgs failed to converge (status=1):\n",
      "STOP: TOTAL NO. of ITERATIONS REACHED LIMIT.\n",
      "\n",
      "Increase the number of iterations (max_iter) or scale the data as shown in:\n",
      "    https://scikit-learn.org/stable/modules/preprocessing.html\n",
      "Please also refer to the documentation for alternative solver options:\n",
      "    https://scikit-learn.org/stable/modules/linear_model.html#logistic-regression\n",
      "  n_iter_i = _check_optimize_result(\n",
      "C:\\Users\\TienLE\\anaconda3\\envs\\py39\\lib\\site-packages\\sklearn\\linear_model\\_logistic.py:814: ConvergenceWarning: lbfgs failed to converge (status=1):\n",
      "STOP: TOTAL NO. of ITERATIONS REACHED LIMIT.\n",
      "\n",
      "Increase the number of iterations (max_iter) or scale the data as shown in:\n",
      "    https://scikit-learn.org/stable/modules/preprocessing.html\n",
      "Please also refer to the documentation for alternative solver options:\n",
      "    https://scikit-learn.org/stable/modules/linear_model.html#logistic-regression\n",
      "  n_iter_i = _check_optimize_result(\n",
      "C:\\Users\\TienLE\\anaconda3\\envs\\py39\\lib\\site-packages\\sklearn\\linear_model\\_logistic.py:814: ConvergenceWarning: lbfgs failed to converge (status=1):\n",
      "STOP: TOTAL NO. of ITERATIONS REACHED LIMIT.\n",
      "\n",
      "Increase the number of iterations (max_iter) or scale the data as shown in:\n",
      "    https://scikit-learn.org/stable/modules/preprocessing.html\n",
      "Please also refer to the documentation for alternative solver options:\n",
      "    https://scikit-learn.org/stable/modules/linear_model.html#logistic-regression\n",
      "  n_iter_i = _check_optimize_result(\n",
      "C:\\Users\\TienLE\\anaconda3\\envs\\py39\\lib\\site-packages\\sklearn\\linear_model\\_logistic.py:814: ConvergenceWarning: lbfgs failed to converge (status=1):\n",
      "STOP: TOTAL NO. of ITERATIONS REACHED LIMIT.\n",
      "\n",
      "Increase the number of iterations (max_iter) or scale the data as shown in:\n",
      "    https://scikit-learn.org/stable/modules/preprocessing.html\n",
      "Please also refer to the documentation for alternative solver options:\n",
      "    https://scikit-learn.org/stable/modules/linear_model.html#logistic-regression\n",
      "  n_iter_i = _check_optimize_result(\n"
     ]
    },
    {
     "data": {
      "text/plain": [
       "0.9568115743905217"
      ]
     },
     "execution_count": 357,
     "metadata": {},
     "output_type": "execute_result"
    }
   ],
   "source": [
    "cross_val_score(clf, X, y, cv=5, scoring=\"f1_macro\").mean()"
   ]
  },
  {
   "cell_type": "code",
   "execution_count": null,
   "id": "c3a20867",
   "metadata": {},
   "outputs": [],
   "source": []
  }
 ],
 "metadata": {
  "kernelspec": {
   "display_name": "Python [conda env:py39] *",
   "language": "python",
   "name": "conda-env-py39-py"
  },
  "language_info": {
   "codemirror_mode": {
    "name": "ipython",
    "version": 3
   },
   "file_extension": ".py",
   "mimetype": "text/x-python",
   "name": "python",
   "nbconvert_exporter": "python",
   "pygments_lexer": "ipython3",
   "version": "3.9.7"
  },
  "latex_envs": {
   "LaTeX_envs_menu_present": true,
   "autoclose": false,
   "autocomplete": true,
   "bibliofile": "biblio.bib",
   "cite_by": "apalike",
   "current_citInitial": 1,
   "eqLabelWithNumbers": true,
   "eqNumInitial": 1,
   "hotkeys": {
    "equation": "Ctrl-E",
    "itemize": "Ctrl-I"
   },
   "labels_anchors": false,
   "latex_user_defs": false,
   "report_style_numbering": false,
   "user_envs_cfg": false
  },
  "toc": {
   "base_numbering": 1,
   "nav_menu": {},
   "number_sections": true,
   "sideBar": true,
   "skip_h1_title": false,
   "title_cell": "Table of Contents",
   "title_sidebar": "Contents",
   "toc_cell": false,
   "toc_position": {
    "height": "calc(100% - 180px)",
    "left": "10px",
    "top": "150px",
    "width": "369px"
   },
   "toc_section_display": true,
   "toc_window_display": true
  },
  "varInspector": {
   "cols": {
    "lenName": 16,
    "lenType": 16,
    "lenVar": 40
   },
   "kernels_config": {
    "python": {
     "delete_cmd_postfix": "",
     "delete_cmd_prefix": "del ",
     "library": "var_list.py",
     "varRefreshCmd": "print(var_dic_list())"
    },
    "r": {
     "delete_cmd_postfix": ") ",
     "delete_cmd_prefix": "rm(",
     "library": "var_list.r",
     "varRefreshCmd": "cat(var_dic_list()) "
    }
   },
   "types_to_exclude": [
    "module",
    "function",
    "builtin_function_or_method",
    "instance",
    "_Feature"
   ],
   "window_display": false
  }
 },
 "nbformat": 4,
 "nbformat_minor": 5
}
