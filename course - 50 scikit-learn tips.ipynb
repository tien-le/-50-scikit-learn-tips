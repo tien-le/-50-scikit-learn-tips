{
 "cells": [
  {
   "cell_type": "markdown",
   "id": "1c9654a5",
   "metadata": {},
   "source": [
    "Course \"50 scikit-learn tips\" by **Kenvin Markham**\n",
    "\n",
    "Link: https://courses.dataschool.io/courses/scikit-learn-tips/801794-introduction/2376425-welcome-to-the-course\n",
    "\n",
    "* Updated by Tien LE\n",
    "* Updated date: 2021-10-01\n"
   ]
  },
  {
   "cell_type": "code",
   "execution_count": 1,
   "id": "69662ef3",
   "metadata": {
    "ExecuteTime": {
     "end_time": "2021-10-17T18:27:04.042932Z",
     "start_time": "2021-10-17T18:27:02.792014Z"
    }
   },
   "outputs": [],
   "source": [
    "import os\n",
    "import sys\n",
    "import sklearn\n",
    "import numpy as np\n",
    "import pandas as pd\n",
    "import matplotlib.pyplot as plt"
   ]
  },
  {
   "cell_type": "code",
   "execution_count": 2,
   "id": "b3d3096e",
   "metadata": {
    "ExecuteTime": {
     "end_time": "2021-10-17T18:27:04.074149Z",
     "start_time": "2021-10-17T18:27:04.058524Z"
    }
   },
   "outputs": [
    {
     "data": {
      "text/plain": [
       "'1.0.1'"
      ]
     },
     "execution_count": 2,
     "metadata": {},
     "output_type": "execute_result"
    }
   ],
   "source": [
    "sklearn.__version__"
   ]
  },
  {
   "cell_type": "code",
   "execution_count": 3,
   "id": "a7d9429c",
   "metadata": {
    "ExecuteTime": {
     "end_time": "2021-10-17T18:27:04.111927Z",
     "start_time": "2021-10-17T18:27:04.096274Z"
    }
   },
   "outputs": [],
   "source": [
    "# Upgrade scikit-learn to 1.0\n",
    "# ! pip install --upgrade scikit-learn"
   ]
  },
  {
   "cell_type": "markdown",
   "id": "378c36a3-047e-4e4a-a58e-79c6011c84ae",
   "metadata": {},
   "source": [
    "# Data Settings"
   ]
  },
  {
   "cell_type": "code",
   "execution_count": 4,
   "id": "05f73c10-6100-416a-86a3-6d4cb7dc1784",
   "metadata": {},
   "outputs": [],
   "source": [
    "file_input_path = \"titanic_train.csv\"\n",
    "if not os.path.exists(file_input_path):\n",
    "    df_train = pd.read_csv(\"http://bit.ly/kaggletrain\")\n",
    "    df_train.to_csv(file_input_path, header=True, index=False, sep=\"\\t\")\n",
    "else:\n",
    "    df_train = pd.read_csv(file_input_path, header=0, sep=\"\\t\")\n",
    "    \n",
    "features = [\"Pclass\", \"Fare\"]\n",
    "X, y = df_train[features], df_train[\"Survived\"]\n",
    "\n",
    "from sklearn.model_selection import train_test_split\n",
    "X_train, X_test, y_train, y_test = train_test_split(X, y, random_state=0)"
   ]
  },
  {
   "cell_type": "code",
   "execution_count": 5,
   "id": "7f62a09d-1a3b-4097-9a30-2e3fc40f3330",
   "metadata": {},
   "outputs": [],
   "source": [
    "file_input_path = \"titanic_test.csv\"\n",
    "if not os.path.exists(file_input_path):\n",
    "    df_test = pd.read_csv(\"http://bit.ly/kaggletest\")\n",
    "    df_test.to_csv(file_input_path, header=True, index=False, sep=\"\\t\")\n",
    "else:\n",
    "    df_test = pd.read_csv(file_input_path, header=0, sep=\"\\t\")"
   ]
  },
  {
   "cell_type": "markdown",
   "id": "29fa6d89",
   "metadata": {},
   "source": [
    "# Data Preprocessing"
   ]
  },
  {
   "cell_type": "markdown",
   "id": "8c6424ba",
   "metadata": {},
   "source": [
    "## Use ColumnTransformer to apply different preprocessing to different columns\n",
    "\n",
    "Use ColumnTransformer to apply different preprocessing to different columns:\n",
    "+ select from DataFrame columns by name\n",
    "+ passthrough or drop unspecified columns\n",
    "\n",
    "Requires scikit-learn 0.20+\n",
    "\n",
    "Additional links: [OneHotEncoder](https://scikit-learn.org/stable/modules/generated/sklearn.preprocessing.OneHotEncoder.html), [SimpleImputer](https://scikit-learn.org/stable/modules/generated/sklearn.impute.SimpleImputer.html), [make_column_transformer](https://scikit-learn.org/stable/modules/generated/sklearn.compose.make_column_transformer.html?highlight=make_column_transformer)"
   ]
  },
  {
   "cell_type": "code",
   "execution_count": 6,
   "id": "df79d079",
   "metadata": {
    "ExecuteTime": {
     "end_time": "2021-10-17T18:27:04.591014Z",
     "start_time": "2021-10-17T18:27:04.544150Z"
    }
   },
   "outputs": [],
   "source": [
    "file_input_path = \"titanic_train.csv\"\n",
    "if not os.path.exists(file_input_path):\n",
    "    df = pd.read_csv(\"http://bit.ly/kaggletrain\")\n",
    "    df.to_csv(file_input_path, header=True, index=False, sep=\"\\t\")\n",
    "else:\n",
    "    df = pd.read_csv(file_input_path, header=0, sep=\"\\t\")"
   ]
  },
  {
   "cell_type": "code",
   "execution_count": 7,
   "id": "a8359d1c",
   "metadata": {
    "ExecuteTime": {
     "end_time": "2021-10-17T18:27:04.644390Z",
     "start_time": "2021-10-17T18:27:04.597519Z"
    }
   },
   "outputs": [
    {
     "name": "stdout",
     "output_type": "stream",
     "text": [
      "<class 'pandas.core.frame.DataFrame'>\n",
      "RangeIndex: 891 entries, 0 to 890\n",
      "Data columns (total 12 columns):\n",
      " #   Column       Non-Null Count  Dtype  \n",
      "---  ------       --------------  -----  \n",
      " 0   PassengerId  891 non-null    int64  \n",
      " 1   Survived     891 non-null    int64  \n",
      " 2   Pclass       891 non-null    int64  \n",
      " 3   Name         891 non-null    object \n",
      " 4   Sex          891 non-null    object \n",
      " 5   Age          714 non-null    float64\n",
      " 6   SibSp        891 non-null    int64  \n",
      " 7   Parch        891 non-null    int64  \n",
      " 8   Ticket       891 non-null    object \n",
      " 9   Fare         891 non-null    float64\n",
      " 10  Cabin        204 non-null    object \n",
      " 11  Embarked     889 non-null    object \n",
      "dtypes: float64(2), int64(5), object(5)\n",
      "memory usage: 83.7+ KB\n"
     ]
    }
   ],
   "source": [
    "df.info()"
   ]
  },
  {
   "cell_type": "code",
   "execution_count": 8,
   "id": "de1617b9",
   "metadata": {
    "ExecuteTime": {
     "end_time": "2021-10-17T18:27:04.675631Z",
     "start_time": "2021-10-17T18:27:04.644390Z"
    }
   },
   "outputs": [
    {
     "data": {
      "text/html": [
       "<div>\n",
       "<style scoped>\n",
       "    .dataframe tbody tr th:only-of-type {\n",
       "        vertical-align: middle;\n",
       "    }\n",
       "\n",
       "    .dataframe tbody tr th {\n",
       "        vertical-align: top;\n",
       "    }\n",
       "\n",
       "    .dataframe thead th {\n",
       "        text-align: right;\n",
       "    }\n",
       "</style>\n",
       "<table border=\"1\" class=\"dataframe\">\n",
       "  <thead>\n",
       "    <tr style=\"text-align: right;\">\n",
       "      <th></th>\n",
       "      <th>PassengerId</th>\n",
       "      <th>Survived</th>\n",
       "      <th>Pclass</th>\n",
       "      <th>Name</th>\n",
       "      <th>Sex</th>\n",
       "      <th>Age</th>\n",
       "      <th>SibSp</th>\n",
       "      <th>Parch</th>\n",
       "      <th>Ticket</th>\n",
       "      <th>Fare</th>\n",
       "      <th>Cabin</th>\n",
       "      <th>Embarked</th>\n",
       "    </tr>\n",
       "  </thead>\n",
       "  <tbody>\n",
       "    <tr>\n",
       "      <th>0</th>\n",
       "      <td>1</td>\n",
       "      <td>0</td>\n",
       "      <td>3</td>\n",
       "      <td>Braund, Mr. Owen Harris</td>\n",
       "      <td>male</td>\n",
       "      <td>22.0</td>\n",
       "      <td>1</td>\n",
       "      <td>0</td>\n",
       "      <td>A/5 21171</td>\n",
       "      <td>7.2500</td>\n",
       "      <td>NaN</td>\n",
       "      <td>S</td>\n",
       "    </tr>\n",
       "    <tr>\n",
       "      <th>1</th>\n",
       "      <td>2</td>\n",
       "      <td>1</td>\n",
       "      <td>1</td>\n",
       "      <td>Cumings, Mrs. John Bradley (Florence Briggs Th...</td>\n",
       "      <td>female</td>\n",
       "      <td>38.0</td>\n",
       "      <td>1</td>\n",
       "      <td>0</td>\n",
       "      <td>PC 17599</td>\n",
       "      <td>71.2833</td>\n",
       "      <td>C85</td>\n",
       "      <td>C</td>\n",
       "    </tr>\n",
       "    <tr>\n",
       "      <th>2</th>\n",
       "      <td>3</td>\n",
       "      <td>1</td>\n",
       "      <td>3</td>\n",
       "      <td>Heikkinen, Miss. Laina</td>\n",
       "      <td>female</td>\n",
       "      <td>26.0</td>\n",
       "      <td>0</td>\n",
       "      <td>0</td>\n",
       "      <td>STON/O2. 3101282</td>\n",
       "      <td>7.9250</td>\n",
       "      <td>NaN</td>\n",
       "      <td>S</td>\n",
       "    </tr>\n",
       "    <tr>\n",
       "      <th>3</th>\n",
       "      <td>4</td>\n",
       "      <td>1</td>\n",
       "      <td>1</td>\n",
       "      <td>Futrelle, Mrs. Jacques Heath (Lily May Peel)</td>\n",
       "      <td>female</td>\n",
       "      <td>35.0</td>\n",
       "      <td>1</td>\n",
       "      <td>0</td>\n",
       "      <td>113803</td>\n",
       "      <td>53.1000</td>\n",
       "      <td>C123</td>\n",
       "      <td>S</td>\n",
       "    </tr>\n",
       "    <tr>\n",
       "      <th>4</th>\n",
       "      <td>5</td>\n",
       "      <td>0</td>\n",
       "      <td>3</td>\n",
       "      <td>Allen, Mr. William Henry</td>\n",
       "      <td>male</td>\n",
       "      <td>35.0</td>\n",
       "      <td>0</td>\n",
       "      <td>0</td>\n",
       "      <td>373450</td>\n",
       "      <td>8.0500</td>\n",
       "      <td>NaN</td>\n",
       "      <td>S</td>\n",
       "    </tr>\n",
       "    <tr>\n",
       "      <th>5</th>\n",
       "      <td>6</td>\n",
       "      <td>0</td>\n",
       "      <td>3</td>\n",
       "      <td>Moran, Mr. James</td>\n",
       "      <td>male</td>\n",
       "      <td>NaN</td>\n",
       "      <td>0</td>\n",
       "      <td>0</td>\n",
       "      <td>330877</td>\n",
       "      <td>8.4583</td>\n",
       "      <td>NaN</td>\n",
       "      <td>Q</td>\n",
       "    </tr>\n",
       "  </tbody>\n",
       "</table>\n",
       "</div>"
      ],
      "text/plain": [
       "   PassengerId  Survived  Pclass  \\\n",
       "0            1         0       3   \n",
       "1            2         1       1   \n",
       "2            3         1       3   \n",
       "3            4         1       1   \n",
       "4            5         0       3   \n",
       "5            6         0       3   \n",
       "\n",
       "                                                Name     Sex   Age  SibSp  \\\n",
       "0                            Braund, Mr. Owen Harris    male  22.0      1   \n",
       "1  Cumings, Mrs. John Bradley (Florence Briggs Th...  female  38.0      1   \n",
       "2                             Heikkinen, Miss. Laina  female  26.0      0   \n",
       "3       Futrelle, Mrs. Jacques Heath (Lily May Peel)  female  35.0      1   \n",
       "4                           Allen, Mr. William Henry    male  35.0      0   \n",
       "5                                   Moran, Mr. James    male   NaN      0   \n",
       "\n",
       "   Parch            Ticket     Fare Cabin Embarked  \n",
       "0      0         A/5 21171   7.2500   NaN        S  \n",
       "1      0          PC 17599  71.2833   C85        C  \n",
       "2      0  STON/O2. 3101282   7.9250   NaN        S  \n",
       "3      0            113803  53.1000  C123        S  \n",
       "4      0            373450   8.0500   NaN        S  \n",
       "5      0            330877   8.4583   NaN        Q  "
      ]
     },
     "execution_count": 8,
     "metadata": {},
     "output_type": "execute_result"
    }
   ],
   "source": [
    "df.head(6)"
   ]
  },
  {
   "cell_type": "code",
   "execution_count": 9,
   "id": "f988b93e",
   "metadata": {
    "ExecuteTime": {
     "end_time": "2021-10-17T18:27:04.720388Z",
     "start_time": "2021-10-17T18:27:04.691252Z"
    }
   },
   "outputs": [
    {
     "data": {
      "text/html": [
       "<div>\n",
       "<style scoped>\n",
       "    .dataframe tbody tr th:only-of-type {\n",
       "        vertical-align: middle;\n",
       "    }\n",
       "\n",
       "    .dataframe tbody tr th {\n",
       "        vertical-align: top;\n",
       "    }\n",
       "\n",
       "    .dataframe thead th {\n",
       "        text-align: right;\n",
       "    }\n",
       "</style>\n",
       "<table border=\"1\" class=\"dataframe\">\n",
       "  <thead>\n",
       "    <tr style=\"text-align: right;\">\n",
       "      <th></th>\n",
       "      <th>Fare</th>\n",
       "      <th>Embarked</th>\n",
       "      <th>Sex</th>\n",
       "      <th>Age</th>\n",
       "    </tr>\n",
       "  </thead>\n",
       "  <tbody>\n",
       "    <tr>\n",
       "      <th>0</th>\n",
       "      <td>7.2500</td>\n",
       "      <td>S</td>\n",
       "      <td>male</td>\n",
       "      <td>22.0</td>\n",
       "    </tr>\n",
       "    <tr>\n",
       "      <th>1</th>\n",
       "      <td>71.2833</td>\n",
       "      <td>C</td>\n",
       "      <td>female</td>\n",
       "      <td>38.0</td>\n",
       "    </tr>\n",
       "    <tr>\n",
       "      <th>2</th>\n",
       "      <td>7.9250</td>\n",
       "      <td>S</td>\n",
       "      <td>female</td>\n",
       "      <td>26.0</td>\n",
       "    </tr>\n",
       "    <tr>\n",
       "      <th>3</th>\n",
       "      <td>53.1000</td>\n",
       "      <td>S</td>\n",
       "      <td>female</td>\n",
       "      <td>35.0</td>\n",
       "    </tr>\n",
       "    <tr>\n",
       "      <th>4</th>\n",
       "      <td>8.0500</td>\n",
       "      <td>S</td>\n",
       "      <td>male</td>\n",
       "      <td>35.0</td>\n",
       "    </tr>\n",
       "    <tr>\n",
       "      <th>5</th>\n",
       "      <td>8.4583</td>\n",
       "      <td>Q</td>\n",
       "      <td>male</td>\n",
       "      <td>NaN</td>\n",
       "    </tr>\n",
       "  </tbody>\n",
       "</table>\n",
       "</div>"
      ],
      "text/plain": [
       "      Fare Embarked     Sex   Age\n",
       "0   7.2500        S    male  22.0\n",
       "1  71.2833        C  female  38.0\n",
       "2   7.9250        S  female  26.0\n",
       "3  53.1000        S  female  35.0\n",
       "4   8.0500        S    male  35.0\n",
       "5   8.4583        Q    male   NaN"
      ]
     },
     "execution_count": 9,
     "metadata": {},
     "output_type": "execute_result"
    }
   ],
   "source": [
    "cols = [\"Fare\", \"Embarked\", \"Sex\", \"Age\"]\n",
    "X = df[cols]\n",
    "X = X.head(6)\n",
    "X"
   ]
  },
  {
   "cell_type": "code",
   "execution_count": 10,
   "id": "82340a4a",
   "metadata": {
    "ExecuteTime": {
     "end_time": "2021-10-17T18:27:04.920871Z",
     "start_time": "2021-10-17T18:27:04.720388Z"
    }
   },
   "outputs": [],
   "source": [
    "from sklearn.preprocessing import OneHotEncoder\n",
    "from sklearn.impute import SimpleImputer\n",
    "from sklearn.compose import make_column_transformer"
   ]
  },
  {
   "cell_type": "code",
   "execution_count": 11,
   "id": "f48537b0",
   "metadata": {
    "ExecuteTime": {
     "end_time": "2021-10-17T18:27:04.936492Z",
     "start_time": "2021-10-17T18:27:04.920871Z"
    }
   },
   "outputs": [],
   "source": [
    "ohe = OneHotEncoder()\n",
    "simple_imputer = SimpleImputer()  # get mean value"
   ]
  },
  {
   "cell_type": "code",
   "execution_count": 12,
   "id": "67386b4b",
   "metadata": {
    "ExecuteTime": {
     "end_time": "2021-10-17T18:27:04.983362Z",
     "start_time": "2021-10-17T18:27:04.952112Z"
    }
   },
   "outputs": [],
   "source": [
    "col_transformer = make_column_transformer(\n",
    "    (ohe, [\"Embarked\", \"Sex\"]),\n",
    "    (simple_imputer, [\"Age\"]),\n",
    "    remainder=\"passthrough\"\n",
    ")\n",
    "\n",
    "#https://scikit-learn.org/stable/modules/generated/sklearn.compose.make_column_transformer.html?highlight=make_column_transformer\n",
    "#remainder{‘drop’, ‘passthrough’} or estimator, default=’drop’\n",
    "#   By default, only the specified columns in transformers are transformed and combined in the output, and the non-specified columns are dropped. (default of 'drop'). By specifying remainder='passthrough', all remaining columns that were not specified in transformers will be automatically passed through. This subset of columns is concatenated with the output of the transformers. By setting remainder to be an estimator, the remaining non-specified columns will use the remainder estimator. The estimator must support fit and transform."
   ]
  },
  {
   "cell_type": "code",
   "execution_count": 13,
   "id": "0997c6b2",
   "metadata": {
    "ExecuteTime": {
     "end_time": "2021-10-17T18:27:05.021110Z",
     "start_time": "2021-10-17T18:27:04.983362Z"
    }
   },
   "outputs": [
    {
     "data": {
      "text/plain": [
       "array([[ 0.    ,  0.    ,  1.    ,  0.    ,  1.    , 22.    ,  7.25  ],\n",
       "       [ 1.    ,  0.    ,  0.    ,  1.    ,  0.    , 38.    , 71.2833],\n",
       "       [ 0.    ,  0.    ,  1.    ,  1.    ,  0.    , 26.    ,  7.925 ],\n",
       "       [ 0.    ,  0.    ,  1.    ,  1.    ,  0.    , 35.    , 53.1   ],\n",
       "       [ 0.    ,  0.    ,  1.    ,  0.    ,  1.    , 35.    ,  8.05  ],\n",
       "       [ 0.    ,  1.    ,  0.    ,  0.    ,  1.    , 31.2   ,  8.4583]])"
      ]
     },
     "execution_count": 13,
     "metadata": {},
     "output_type": "execute_result"
    }
   ],
   "source": [
    "col_transformer.fit_transform(X)"
   ]
  },
  {
   "cell_type": "markdown",
   "id": "aa7a5db0",
   "metadata": {},
   "source": [
    "## Seven ways to select columns using ColumnTransformer\n",
    "\n",
    "There are SEVEN ways to select columns using [ColumnTransformer](https://scikit-learn.org/stable/modules/generated/sklearn.compose.make_column_transformer.html):\n",
    "+ column name\n",
    "+ integer position\n",
    "+ slice\n",
    "+ boolean mask\n",
    "+ regex pattern\n",
    "+ dtypes to include\n",
    "+ dtypes to exclude\n",
    "\n",
    "Additional links: [make_column_selector](https://scikit-learn.org/stable/modules/generated/sklearn.compose.make_column_selector.html)"
   ]
  },
  {
   "cell_type": "code",
   "execution_count": 14,
   "id": "23d4209b",
   "metadata": {
    "ExecuteTime": {
     "end_time": "2021-10-17T18:27:05.036731Z",
     "start_time": "2021-10-17T18:27:05.021110Z"
    }
   },
   "outputs": [],
   "source": [
    "import os \n",
    "\n",
    "file_input_path = \"titanic_train.csv\"\n",
    "if not os.path.exists(file_input_path):\n",
    "    df = pd.read_csv(\"http://bit.ly/kaggletrain\")\n",
    "    df.to_csv(file_input_path, header=True, index=False, sep=\"\\t\")\n",
    "else:\n",
    "    df = pd.read_csv(file_input_path, header=0, sep=\"\\t\")"
   ]
  },
  {
   "cell_type": "code",
   "execution_count": 15,
   "id": "8fec41bd",
   "metadata": {
    "ExecuteTime": {
     "end_time": "2021-10-17T18:27:05.083595Z",
     "start_time": "2021-10-17T18:27:05.036731Z"
    }
   },
   "outputs": [
    {
     "data": {
      "text/html": [
       "<div>\n",
       "<style scoped>\n",
       "    .dataframe tbody tr th:only-of-type {\n",
       "        vertical-align: middle;\n",
       "    }\n",
       "\n",
       "    .dataframe tbody tr th {\n",
       "        vertical-align: top;\n",
       "    }\n",
       "\n",
       "    .dataframe thead th {\n",
       "        text-align: right;\n",
       "    }\n",
       "</style>\n",
       "<table border=\"1\" class=\"dataframe\">\n",
       "  <thead>\n",
       "    <tr style=\"text-align: right;\">\n",
       "      <th></th>\n",
       "      <th>Fare</th>\n",
       "      <th>Embarked</th>\n",
       "      <th>Sex</th>\n",
       "      <th>Age</th>\n",
       "    </tr>\n",
       "  </thead>\n",
       "  <tbody>\n",
       "    <tr>\n",
       "      <th>0</th>\n",
       "      <td>7.2500</td>\n",
       "      <td>S</td>\n",
       "      <td>male</td>\n",
       "      <td>22.0</td>\n",
       "    </tr>\n",
       "    <tr>\n",
       "      <th>1</th>\n",
       "      <td>71.2833</td>\n",
       "      <td>C</td>\n",
       "      <td>female</td>\n",
       "      <td>38.0</td>\n",
       "    </tr>\n",
       "    <tr>\n",
       "      <th>2</th>\n",
       "      <td>7.9250</td>\n",
       "      <td>S</td>\n",
       "      <td>female</td>\n",
       "      <td>26.0</td>\n",
       "    </tr>\n",
       "    <tr>\n",
       "      <th>3</th>\n",
       "      <td>53.1000</td>\n",
       "      <td>S</td>\n",
       "      <td>female</td>\n",
       "      <td>35.0</td>\n",
       "    </tr>\n",
       "    <tr>\n",
       "      <th>4</th>\n",
       "      <td>8.0500</td>\n",
       "      <td>S</td>\n",
       "      <td>male</td>\n",
       "      <td>35.0</td>\n",
       "    </tr>\n",
       "    <tr>\n",
       "      <th>5</th>\n",
       "      <td>8.4583</td>\n",
       "      <td>Q</td>\n",
       "      <td>male</td>\n",
       "      <td>NaN</td>\n",
       "    </tr>\n",
       "  </tbody>\n",
       "</table>\n",
       "</div>"
      ],
      "text/plain": [
       "      Fare Embarked     Sex   Age\n",
       "0   7.2500        S    male  22.0\n",
       "1  71.2833        C  female  38.0\n",
       "2   7.9250        S  female  26.0\n",
       "3  53.1000        S  female  35.0\n",
       "4   8.0500        S    male  35.0\n",
       "5   8.4583        Q    male   NaN"
      ]
     },
     "execution_count": 15,
     "metadata": {},
     "output_type": "execute_result"
    }
   ],
   "source": [
    "cols = [\"Fare\", \"Embarked\", \"Sex\", \"Age\"]\n",
    "X = df[cols]\n",
    "X = X.head(6)\n",
    "X"
   ]
  },
  {
   "cell_type": "code",
   "execution_count": 16,
   "id": "87e4eb68",
   "metadata": {
    "ExecuteTime": {
     "end_time": "2021-10-17T18:27:05.099216Z",
     "start_time": "2021-10-17T18:27:05.083595Z"
    }
   },
   "outputs": [],
   "source": [
    "from sklearn.preprocessing import OneHotEncoder\n",
    "from sklearn.compose import make_column_transformer, make_column_selector"
   ]
  },
  {
   "cell_type": "code",
   "execution_count": 17,
   "id": "81d65960",
   "metadata": {
    "ExecuteTime": {
     "end_time": "2021-10-17T18:27:05.152590Z",
     "start_time": "2021-10-17T18:27:05.105722Z"
    }
   },
   "outputs": [],
   "source": [
    "ohe = OneHotEncoder()"
   ]
  },
  {
   "cell_type": "code",
   "execution_count": 18,
   "id": "0e27ce4b",
   "metadata": {
    "ExecuteTime": {
     "end_time": "2021-10-17T18:27:05.168212Z",
     "start_time": "2021-10-17T18:27:05.152590Z"
    }
   },
   "outputs": [
    {
     "data": {
      "text/plain": [
       "Index(['Fare', 'Embarked', 'Sex', 'Age'], dtype='object')"
      ]
     },
     "execution_count": 18,
     "metadata": {},
     "output_type": "execute_result"
    }
   ],
   "source": [
    "X.columns"
   ]
  },
  {
   "cell_type": "code",
   "execution_count": 19,
   "id": "2bcdcfa8",
   "metadata": {
    "ExecuteTime": {
     "end_time": "2021-10-17T18:27:05.223587Z",
     "start_time": "2021-10-17T18:27:05.168212Z"
    }
   },
   "outputs": [],
   "source": [
    "# all SEVEN of these produce the same results\n",
    "# Note that: reminder = \"drop\" (by default)\n",
    "\n",
    "# column name\n",
    "col_transformer = make_column_transformer((ohe, ['Embarked', 'Sex']))\n",
    "\n",
    "# integer position\n",
    "col_transformer = make_column_transformer((ohe, [1,2]))  # column index 0,1,2,...\n",
    "\n",
    "# slice\n",
    "col_transformer = make_column_transformer((ohe, slice(1,3)))  # column from index 1 to k-1\n",
    "\n",
    "# boolean mask\n",
    "col_transformer = make_column_transformer((ohe, [False, True, True, False]))\n",
    "\n",
    "# regex pattern\n",
    "col_transformer = make_column_transformer((ohe, make_column_selector(pattern=\"E|S\")))  # startwiths E or S\n",
    "# https://scikit-learn.org/stable/modules/generated/sklearn.compose.make_column_selector.html\n",
    "# patternstr, default=None\n",
    "#   Name of columns containing this regex pattern will be included. If None, column selection will not be selected based on pattern.\n",
    "\n",
    "# dtypes to include\n",
    "col_transformer = make_column_transformer((ohe, make_column_selector(dtype_include=object)))\n",
    "\n",
    "# dtypes to exclude\n",
    "col_transformer = make_column_transformer((ohe, make_column_selector(dtype_exclude=np.number)))"
   ]
  },
  {
   "cell_type": "code",
   "execution_count": 20,
   "id": "13282248",
   "metadata": {
    "ExecuteTime": {
     "end_time": "2021-10-17T18:27:05.254830Z",
     "start_time": "2021-10-17T18:27:05.223587Z"
    }
   },
   "outputs": [
    {
     "data": {
      "text/plain": [
       "array([[0., 0., 1., 0., 1.],\n",
       "       [1., 0., 0., 1., 0.],\n",
       "       [0., 0., 1., 1., 0.],\n",
       "       [0., 0., 1., 1., 0.],\n",
       "       [0., 0., 1., 0., 1.],\n",
       "       [0., 1., 0., 0., 1.]])"
      ]
     },
     "execution_count": 20,
     "metadata": {},
     "output_type": "execute_result"
    }
   ],
   "source": [
    "col_transformer.fit_transform(X)"
   ]
  },
  {
   "cell_type": "markdown",
   "id": "68146ed9",
   "metadata": {},
   "source": [
    "### Simple Case\n",
    "\n",
    "https://scikit-learn.org/stable/modules/generated/sklearn.preprocessing.StandardScaler.html?highlight=standardscaler#sklearn.preprocessing.StandardScaler\n",
    "\n",
    "Standardize features by removing the mean and scaling to unit variance."
   ]
  },
  {
   "cell_type": "code",
   "execution_count": 21,
   "id": "b8a63c05",
   "metadata": {
    "ExecuteTime": {
     "end_time": "2021-10-17T18:27:05.286080Z",
     "start_time": "2021-10-17T18:27:05.254830Z"
    }
   },
   "outputs": [
    {
     "data": {
      "text/html": [
       "<div>\n",
       "<style scoped>\n",
       "    .dataframe tbody tr th:only-of-type {\n",
       "        vertical-align: middle;\n",
       "    }\n",
       "\n",
       "    .dataframe tbody tr th {\n",
       "        vertical-align: top;\n",
       "    }\n",
       "\n",
       "    .dataframe thead th {\n",
       "        text-align: right;\n",
       "    }\n",
       "</style>\n",
       "<table border=\"1\" class=\"dataframe\">\n",
       "  <thead>\n",
       "    <tr style=\"text-align: right;\">\n",
       "      <th></th>\n",
       "      <th>Fare</th>\n",
       "      <th>Embarked</th>\n",
       "      <th>Sex</th>\n",
       "      <th>Age</th>\n",
       "    </tr>\n",
       "  </thead>\n",
       "  <tbody>\n",
       "    <tr>\n",
       "      <th>0</th>\n",
       "      <td>7.2500</td>\n",
       "      <td>S</td>\n",
       "      <td>male</td>\n",
       "      <td>22.0</td>\n",
       "    </tr>\n",
       "    <tr>\n",
       "      <th>1</th>\n",
       "      <td>71.2833</td>\n",
       "      <td>C</td>\n",
       "      <td>female</td>\n",
       "      <td>38.0</td>\n",
       "    </tr>\n",
       "    <tr>\n",
       "      <th>2</th>\n",
       "      <td>7.9250</td>\n",
       "      <td>S</td>\n",
       "      <td>female</td>\n",
       "      <td>26.0</td>\n",
       "    </tr>\n",
       "    <tr>\n",
       "      <th>3</th>\n",
       "      <td>53.1000</td>\n",
       "      <td>S</td>\n",
       "      <td>female</td>\n",
       "      <td>35.0</td>\n",
       "    </tr>\n",
       "    <tr>\n",
       "      <th>4</th>\n",
       "      <td>8.0500</td>\n",
       "      <td>S</td>\n",
       "      <td>male</td>\n",
       "      <td>35.0</td>\n",
       "    </tr>\n",
       "    <tr>\n",
       "      <th>5</th>\n",
       "      <td>8.4583</td>\n",
       "      <td>Q</td>\n",
       "      <td>male</td>\n",
       "      <td>NaN</td>\n",
       "    </tr>\n",
       "  </tbody>\n",
       "</table>\n",
       "</div>"
      ],
      "text/plain": [
       "      Fare Embarked     Sex   Age\n",
       "0   7.2500        S    male  22.0\n",
       "1  71.2833        C  female  38.0\n",
       "2   7.9250        S  female  26.0\n",
       "3  53.1000        S  female  35.0\n",
       "4   8.0500        S    male  35.0\n",
       "5   8.4583        Q    male   NaN"
      ]
     },
     "execution_count": 21,
     "metadata": {},
     "output_type": "execute_result"
    }
   ],
   "source": [
    "X"
   ]
  },
  {
   "cell_type": "code",
   "execution_count": 22,
   "id": "4611ec0a",
   "metadata": {
    "ExecuteTime": {
     "end_time": "2021-10-17T18:27:05.323828Z",
     "start_time": "2021-10-17T18:27:05.286080Z"
    }
   },
   "outputs": [
    {
     "data": {
      "text/plain": [
       "array([[-0.71829711, -1.50516598,  0.        ,  0.        ,  1.        ,\n",
       "         0.        ,  1.        ],\n",
       "       [ 1.7333147 ,  1.11251398,  1.        ,  0.        ,  0.        ,\n",
       "         1.        ,  0.        ],\n",
       "       [-0.69245371, -0.85074599,  0.        ,  0.        ,  1.        ,\n",
       "         1.        ,  0.        ],\n",
       "       [ 1.03713954,  0.62169899,  0.        ,  0.        ,  1.        ,\n",
       "         1.        ,  0.        ],\n",
       "       [-0.6876679 ,  0.62169899,  0.        ,  0.        ,  1.        ,\n",
       "         0.        ,  1.        ],\n",
       "       [-0.67203551,         nan,  0.        ,  1.        ,  0.        ,\n",
       "         0.        ,  1.        ]])"
      ]
     },
     "execution_count": 22,
     "metadata": {},
     "output_type": "execute_result"
    }
   ],
   "source": [
    "from sklearn.preprocessing import StandardScaler, OneHotEncoder\n",
    "\n",
    "col_transformer = make_column_transformer(\n",
    "    (StandardScaler(), make_column_selector(dtype_include=np.number)),  \n",
    "    (OneHotEncoder(), make_column_selector(dtype_include=object))\n",
    ")\n",
    "\n",
    "col_transformer.fit_transform(X)"
   ]
  },
  {
   "cell_type": "markdown",
   "id": "9a5e785c",
   "metadata": {},
   "source": [
    "### Flexible Case\n",
    "\n",
    "Link: https://scikit-learn.org/stable/auto_examples/compose/plot_column_transformer_mixed_types.html#sphx-glr-auto-examples-compose-plot-column-transformer-mixed-types-py"
   ]
  },
  {
   "cell_type": "code",
   "execution_count": 23,
   "id": "8bbc83ed",
   "metadata": {
    "ExecuteTime": {
     "end_time": "2021-10-17T18:27:05.370691Z",
     "start_time": "2021-10-17T18:27:05.339450Z"
    }
   },
   "outputs": [
    {
     "data": {
      "text/plain": [
       "array([[-0.71829711, -1.70817275,  0.        ,  0.        ,  1.        ,\n",
       "         0.        ,  1.        ],\n",
       "       [ 1.7333147 ,  1.07122698,  1.        ,  0.        ,  0.        ,\n",
       "         1.        ,  0.        ],\n",
       "       [-0.69245371, -1.01332282,  0.        ,  0.        ,  1.        ,\n",
       "         1.        ,  0.        ],\n",
       "       [ 1.03713954,  0.55008953,  0.        ,  0.        ,  1.        ,\n",
       "         1.        ,  0.        ],\n",
       "       [-0.6876679 ,  0.55008953,  0.        ,  0.        ,  1.        ,\n",
       "         0.        ,  1.        ],\n",
       "       [-0.67203551,  0.55008953,  0.        ,  1.        ,  0.        ,\n",
       "         0.        ,  1.        ]])"
      ]
     },
     "execution_count": 23,
     "metadata": {},
     "output_type": "execute_result"
    }
   ],
   "source": [
    "from sklearn.preprocessing import StandardScaler, OneHotEncoder\n",
    "from sklearn.pipeline import Pipeline\n",
    "from sklearn.impute import SimpleImputer\n",
    "from sklearn.compose import ColumnTransformer\n",
    "\n",
    "numeric_features = [\"Fare\", \"Age\"]\n",
    "numeric_transformer = Pipeline(\n",
    "    steps=[\n",
    "        (\"imputer\", SimpleImputer(strategy=\"median\")),\n",
    "        (\"scaler\", StandardScaler())\n",
    "    ]\n",
    ")\n",
    "\n",
    "categorical_features = [\"Embarked\", \"Sex\"]\n",
    "categorical_transformer = OneHotEncoder(handle_unknown=\"ignore\")\n",
    "\n",
    "preprocessor = ColumnTransformer(\n",
    "    transformers=[\n",
    "        (\"numeric\", numeric_transformer, numeric_features),\n",
    "        (\"categorical\", categorical_transformer, categorical_features)\n",
    "    ]\n",
    ")\n",
    "\n",
    "preprocessor.fit_transform(X)"
   ]
  },
  {
   "cell_type": "markdown",
   "id": "0184cdde",
   "metadata": {},
   "source": [
    "## What is the difference between \"fit\" and \"transform\"?\n",
    "\n",
    "Q: What is the difference between the \"fit\" and \"transform\" methods?\n",
    "\n",
    "+ \"[fit](https://scikit-learn.org/stable/glossary.html#term-fit)\": transformer learns something about the data\n",
    "+ \"[transform](https://scikit-learn.org/stable/glossary.html#term-transform)\": it uses what it learned to do the data transformation\n",
    "\n",
    "For examples\n",
    "+ CountVectorizer\n",
    "    - fit: learns the vocabulary\n",
    "    - transform: creates a document-term matrix using the vocabulary\n",
    "    \n",
    "+ SimpleImputer\n",
    "    - fit: learns the value to impute\n",
    "    - transform: fills in missing entries using the imputation value\n",
    "    \n",
    "+ StandardScaler\n",
    "    - fit: learns the mean and scale of each feature\n",
    "    - transform: standardizes the features using the mean and scale\n",
    "    \n",
    "+ HashingVectorizer\n",
    "    - fit: is not used, and thus it is known as a \"stateless\" transformer\n",
    "    - transform: create the document-term matrix using a hash of the token"
   ]
  },
  {
   "cell_type": "markdown",
   "id": "08fbc95b",
   "metadata": {},
   "source": [
    "## Use \"fit_transform\" on training data, but \"transform\" (only) on testing/new data\n",
    "\n",
    "Use \"[fit_transform](https://scikit-learn.org/stable/glossary.html#term-fit_transform)\" on training data, but \"[transform](https://scikit-learn.org/stable/glossary.html#term-transform)\" (only) on testing/new data.\n",
    "\n",
    "Applies the same transformations to both sets of data, which creates consistent columns and prevents [data leakage](https://scikit-learn.org/stable/common_pitfalls.html#data-leakage)!"
   ]
  },
  {
   "cell_type": "markdown",
   "id": "e0148db9",
   "metadata": {},
   "source": [
    "## Get the feature names output by a ColumnTransformer\n",
    "\n",
    "Need to get the feature names output by a [ColumnTransformer](https://scikit-learn.org/stable/modules/generated/sklearn.compose.ColumnTransformer.html)?\n",
    "\n",
    "Use get_feature_names(), which now works with \"passthrough\" columns (new in version 0.23)!\n",
    "\n",
    "Note: Beginning in scikit-learn 1.0, the get_feature_names method has been deprecated in favor of [get_feature_names_out](https://scikit-learn.org/stable/modules/generated/sklearn.compose.ColumnTransformer.html#sklearn.compose.ColumnTransformer.get_feature_names_out).\n"
   ]
  },
  {
   "cell_type": "code",
   "execution_count": 24,
   "id": "fdb5a536",
   "metadata": {
    "ExecuteTime": {
     "end_time": "2021-10-17T18:27:05.386313Z",
     "start_time": "2021-10-17T18:27:05.370691Z"
    }
   },
   "outputs": [
    {
     "data": {
      "text/html": [
       "<div>\n",
       "<style scoped>\n",
       "    .dataframe tbody tr th:only-of-type {\n",
       "        vertical-align: middle;\n",
       "    }\n",
       "\n",
       "    .dataframe tbody tr th {\n",
       "        vertical-align: top;\n",
       "    }\n",
       "\n",
       "    .dataframe thead th {\n",
       "        text-align: right;\n",
       "    }\n",
       "</style>\n",
       "<table border=\"1\" class=\"dataframe\">\n",
       "  <thead>\n",
       "    <tr style=\"text-align: right;\">\n",
       "      <th></th>\n",
       "      <th>Fare</th>\n",
       "      <th>Embarked</th>\n",
       "      <th>Sex</th>\n",
       "      <th>Age</th>\n",
       "    </tr>\n",
       "  </thead>\n",
       "  <tbody>\n",
       "    <tr>\n",
       "      <th>0</th>\n",
       "      <td>7.2500</td>\n",
       "      <td>S</td>\n",
       "      <td>male</td>\n",
       "      <td>22.0</td>\n",
       "    </tr>\n",
       "    <tr>\n",
       "      <th>1</th>\n",
       "      <td>71.2833</td>\n",
       "      <td>C</td>\n",
       "      <td>female</td>\n",
       "      <td>38.0</td>\n",
       "    </tr>\n",
       "    <tr>\n",
       "      <th>2</th>\n",
       "      <td>7.9250</td>\n",
       "      <td>S</td>\n",
       "      <td>female</td>\n",
       "      <td>26.0</td>\n",
       "    </tr>\n",
       "    <tr>\n",
       "      <th>3</th>\n",
       "      <td>53.1000</td>\n",
       "      <td>S</td>\n",
       "      <td>female</td>\n",
       "      <td>35.0</td>\n",
       "    </tr>\n",
       "    <tr>\n",
       "      <th>4</th>\n",
       "      <td>8.0500</td>\n",
       "      <td>S</td>\n",
       "      <td>male</td>\n",
       "      <td>35.0</td>\n",
       "    </tr>\n",
       "    <tr>\n",
       "      <th>5</th>\n",
       "      <td>8.4583</td>\n",
       "      <td>Q</td>\n",
       "      <td>male</td>\n",
       "      <td>NaN</td>\n",
       "    </tr>\n",
       "  </tbody>\n",
       "</table>\n",
       "</div>"
      ],
      "text/plain": [
       "      Fare Embarked     Sex   Age\n",
       "0   7.2500        S    male  22.0\n",
       "1  71.2833        C  female  38.0\n",
       "2   7.9250        S  female  26.0\n",
       "3  53.1000        S  female  35.0\n",
       "4   8.0500        S    male  35.0\n",
       "5   8.4583        Q    male   NaN"
      ]
     },
     "execution_count": 24,
     "metadata": {},
     "output_type": "execute_result"
    }
   ],
   "source": [
    "X"
   ]
  },
  {
   "cell_type": "code",
   "execution_count": 25,
   "id": "a9eff50f",
   "metadata": {
    "ExecuteTime": {
     "end_time": "2021-10-17T18:27:05.424067Z",
     "start_time": "2021-10-17T18:27:05.386313Z"
    }
   },
   "outputs": [
    {
     "data": {
      "text/plain": [
       "Index(['Fare', 'Embarked', 'Sex', 'Age'], dtype='object')"
      ]
     },
     "execution_count": 25,
     "metadata": {},
     "output_type": "execute_result"
    }
   ],
   "source": [
    "X.columns"
   ]
  },
  {
   "cell_type": "code",
   "execution_count": 26,
   "id": "8458886e",
   "metadata": {
    "ExecuteTime": {
     "end_time": "2021-10-17T18:27:05.439689Z",
     "start_time": "2021-10-17T18:27:05.424067Z"
    }
   },
   "outputs": [],
   "source": [
    "col_transformer = make_column_transformer(\n",
    "    (OneHotEncoder(), [\"Embarked\", \"Sex\"]),\n",
    "    remainder=\"passthrough\"\n",
    ")"
   ]
  },
  {
   "cell_type": "code",
   "execution_count": 27,
   "id": "ce53dad4",
   "metadata": {
    "ExecuteTime": {
     "end_time": "2021-10-17T18:27:05.470931Z",
     "start_time": "2021-10-17T18:27:05.455310Z"
    }
   },
   "outputs": [
    {
     "data": {
      "text/plain": [
       "array([[ 0.    ,  0.    ,  1.    ,  0.    ,  1.    ,  7.25  , 22.    ],\n",
       "       [ 1.    ,  0.    ,  0.    ,  1.    ,  0.    , 71.2833, 38.    ],\n",
       "       [ 0.    ,  0.    ,  1.    ,  1.    ,  0.    ,  7.925 , 26.    ],\n",
       "       [ 0.    ,  0.    ,  1.    ,  1.    ,  0.    , 53.1   , 35.    ],\n",
       "       [ 0.    ,  0.    ,  1.    ,  0.    ,  1.    ,  8.05  , 35.    ],\n",
       "       [ 0.    ,  1.    ,  0.    ,  0.    ,  1.    ,  8.4583,     nan]])"
      ]
     },
     "execution_count": 27,
     "metadata": {},
     "output_type": "execute_result"
    }
   ],
   "source": [
    "ft = col_transformer.fit_transform(X)\n",
    "ft"
   ]
  },
  {
   "cell_type": "code",
   "execution_count": 28,
   "id": "bb46a78d",
   "metadata": {
    "ExecuteTime": {
     "end_time": "2021-10-17T18:27:05.502174Z",
     "start_time": "2021-10-17T18:27:05.470931Z"
    }
   },
   "outputs": [
    {
     "data": {
      "text/plain": [
       "(6, 7)"
      ]
     },
     "execution_count": 28,
     "metadata": {},
     "output_type": "execute_result"
    }
   ],
   "source": [
    "ft.shape"
   ]
  },
  {
   "cell_type": "code",
   "execution_count": 29,
   "id": "8fff2656",
   "metadata": {
    "ExecuteTime": {
     "end_time": "2021-10-17T18:27:05.524807Z",
     "start_time": "2021-10-17T18:27:05.509180Z"
    }
   },
   "outputs": [
    {
     "name": "stderr",
     "output_type": "stream",
     "text": [
      "C:\\Users\\TienLE\\anaconda3\\envs\\py39\\lib\\site-packages\\sklearn\\utils\\deprecation.py:87: FutureWarning: Function get_feature_names is deprecated; get_feature_names is deprecated in 1.0 and will be removed in 1.2. Please use get_feature_names_out instead.\n",
      "  warnings.warn(msg, category=FutureWarning)\n"
     ]
    },
    {
     "data": {
      "text/plain": [
       "['onehotencoder__x0_C',\n",
       " 'onehotencoder__x0_Q',\n",
       " 'onehotencoder__x0_S',\n",
       " 'onehotencoder__x1_female',\n",
       " 'onehotencoder__x1_male',\n",
       " 'Fare',\n",
       " 'Age']"
      ]
     },
     "execution_count": 29,
     "metadata": {},
     "output_type": "execute_result"
    }
   ],
   "source": [
    "col_transformer.get_feature_names()"
   ]
  },
  {
   "cell_type": "markdown",
   "id": "0f9294c4",
   "metadata": {},
   "source": [
    "## Passthrough some columns and drop others in a ColumnTransformer\n",
    "\n",
    "In a [ColumnTransformer](https://scikit-learn.org/stable/modules/generated/sklearn.compose.make_column_transformer.html), you can use the strings 'passthrough' and 'drop' in place of a transformer. \n",
    "\n",
    "Useful if you need to passthrough some columns and drop others!"
   ]
  },
  {
   "cell_type": "code",
   "execution_count": 30,
   "id": "dfda9ab1",
   "metadata": {
    "ExecuteTime": {
     "end_time": "2021-10-17T18:27:05.556050Z",
     "start_time": "2021-10-17T18:27:05.524807Z"
    }
   },
   "outputs": [
    {
     "data": {
      "text/html": [
       "<div>\n",
       "<style scoped>\n",
       "    .dataframe tbody tr th:only-of-type {\n",
       "        vertical-align: middle;\n",
       "    }\n",
       "\n",
       "    .dataframe tbody tr th {\n",
       "        vertical-align: top;\n",
       "    }\n",
       "\n",
       "    .dataframe thead th {\n",
       "        text-align: right;\n",
       "    }\n",
       "</style>\n",
       "<table border=\"1\" class=\"dataframe\">\n",
       "  <thead>\n",
       "    <tr style=\"text-align: right;\">\n",
       "      <th></th>\n",
       "      <th>Fare</th>\n",
       "      <th>Embarked</th>\n",
       "      <th>Sex</th>\n",
       "      <th>Age</th>\n",
       "    </tr>\n",
       "  </thead>\n",
       "  <tbody>\n",
       "    <tr>\n",
       "      <th>0</th>\n",
       "      <td>7.2500</td>\n",
       "      <td>S</td>\n",
       "      <td>male</td>\n",
       "      <td>22.0</td>\n",
       "    </tr>\n",
       "    <tr>\n",
       "      <th>1</th>\n",
       "      <td>71.2833</td>\n",
       "      <td>C</td>\n",
       "      <td>female</td>\n",
       "      <td>38.0</td>\n",
       "    </tr>\n",
       "    <tr>\n",
       "      <th>2</th>\n",
       "      <td>7.9250</td>\n",
       "      <td>S</td>\n",
       "      <td>female</td>\n",
       "      <td>26.0</td>\n",
       "    </tr>\n",
       "    <tr>\n",
       "      <th>3</th>\n",
       "      <td>53.1000</td>\n",
       "      <td>S</td>\n",
       "      <td>female</td>\n",
       "      <td>35.0</td>\n",
       "    </tr>\n",
       "    <tr>\n",
       "      <th>4</th>\n",
       "      <td>8.0500</td>\n",
       "      <td>S</td>\n",
       "      <td>male</td>\n",
       "      <td>35.0</td>\n",
       "    </tr>\n",
       "    <tr>\n",
       "      <th>5</th>\n",
       "      <td>8.4583</td>\n",
       "      <td>Q</td>\n",
       "      <td>male</td>\n",
       "      <td>NaN</td>\n",
       "    </tr>\n",
       "  </tbody>\n",
       "</table>\n",
       "</div>"
      ],
      "text/plain": [
       "      Fare Embarked     Sex   Age\n",
       "0   7.2500        S    male  22.0\n",
       "1  71.2833        C  female  38.0\n",
       "2   7.9250        S  female  26.0\n",
       "3  53.1000        S  female  35.0\n",
       "4   8.0500        S    male  35.0\n",
       "5   8.4583        Q    male   NaN"
      ]
     },
     "execution_count": 30,
     "metadata": {},
     "output_type": "execute_result"
    }
   ],
   "source": [
    "X"
   ]
  },
  {
   "cell_type": "markdown",
   "id": "684a697c",
   "metadata": {},
   "source": [
    "### Method 1: \"passthrough\" with some columns"
   ]
  },
  {
   "cell_type": "code",
   "execution_count": 31,
   "id": "6e904b93",
   "metadata": {
    "ExecuteTime": {
     "end_time": "2021-10-17T18:27:05.602915Z",
     "start_time": "2021-10-17T18:27:05.556050Z"
    }
   },
   "outputs": [
    {
     "data": {
      "text/plain": [
       "array([[22.    ,  7.25  ],\n",
       "       [38.    , 71.2833],\n",
       "       [26.    ,  7.925 ],\n",
       "       [35.    , 53.1   ],\n",
       "       [35.    ,  8.05  ],\n",
       "       [31.2   ,  8.4583]])"
      ]
     },
     "execution_count": 31,
     "metadata": {},
     "output_type": "execute_result"
    }
   ],
   "source": [
    "col_transformer = make_column_transformer(\n",
    "    (SimpleImputer(), [\"Age\"]),\n",
    "    (\"passthrough\", [\"Fare\"]),\n",
    "    remainder=\"drop\"\n",
    ")\n",
    "col_transformer.fit_transform(X)"
   ]
  },
  {
   "cell_type": "markdown",
   "id": "711bb405",
   "metadata": {},
   "source": [
    "### Method 2: \"drop\" with some columns"
   ]
  },
  {
   "cell_type": "code",
   "execution_count": 32,
   "id": "d570f84b",
   "metadata": {
    "ExecuteTime": {
     "end_time": "2021-10-17T18:27:05.723332Z",
     "start_time": "2021-10-17T18:27:05.690143Z"
    }
   },
   "outputs": [
    {
     "data": {
      "text/plain": [
       "array([[22.    ,  7.25  ],\n",
       "       [38.    , 71.2833],\n",
       "       [26.    ,  7.925 ],\n",
       "       [35.    , 53.1   ],\n",
       "       [35.    ,  8.05  ],\n",
       "       [31.2   ,  8.4583]])"
      ]
     },
     "execution_count": 32,
     "metadata": {},
     "output_type": "execute_result"
    }
   ],
   "source": [
    "col_transformer = make_column_transformer(\n",
    "    (SimpleImputer(), [\"Age\"]),\n",
    "    (\"drop\", [\"Embarked\", \"Sex\"]),\n",
    "    remainder=\"passthrough\"\n",
    ")\n",
    "\n",
    "col_transformer.fit_transform(X)"
   ]
  },
  {
   "cell_type": "markdown",
   "id": "ee98c976",
   "metadata": {},
   "source": [
    "## (Detail ?) Four reasons to use scikit-learn (not pandas) for ML preprocessing\n",
    "\n",
    "Reasons to use scikit-learn (not pandas) for ML [preprocessing](https://scikit-learn.org/stable/modules/preprocessing.html):\n",
    "+ You can cross-validate the entire workflow\n",
    "+ You can [grid search](https://scikit-learn.org/stable/modules/grid_search.html) model & preprocessing hyperparameters\n",
    "+ Avoids adding new columns to the source DataFrame\n",
    "+ pandas lacks separate fit/transform steps to prevent [data leakage](https://scikit-learn.org/stable/common_pitfalls.html#data-leakage)"
   ]
  },
  {
   "cell_type": "markdown",
   "id": "ad915c6e",
   "metadata": {},
   "source": [
    "## Don't use .values when passing a pandas object to scikit-learn\n",
    "\n",
    "There's no need to use \".values\" when passing a DataFrame or Series to scikit-learn... it knows how to access the underlying NumPy array!\n"
   ]
  },
  {
   "cell_type": "code",
   "execution_count": 33,
   "id": "13d90e82",
   "metadata": {
    "ExecuteTime": {
     "end_time": "2021-10-17T18:27:06.239697Z",
     "start_time": "2021-10-17T18:27:06.208433Z"
    }
   },
   "outputs": [
    {
     "data": {
      "text/html": [
       "<div>\n",
       "<style scoped>\n",
       "    .dataframe tbody tr th:only-of-type {\n",
       "        vertical-align: middle;\n",
       "    }\n",
       "\n",
       "    .dataframe tbody tr th {\n",
       "        vertical-align: top;\n",
       "    }\n",
       "\n",
       "    .dataframe thead th {\n",
       "        text-align: right;\n",
       "    }\n",
       "</style>\n",
       "<table border=\"1\" class=\"dataframe\">\n",
       "  <thead>\n",
       "    <tr style=\"text-align: right;\">\n",
       "      <th></th>\n",
       "      <th>PassengerId</th>\n",
       "      <th>Survived</th>\n",
       "      <th>Pclass</th>\n",
       "      <th>Name</th>\n",
       "      <th>Sex</th>\n",
       "      <th>Age</th>\n",
       "      <th>SibSp</th>\n",
       "      <th>Parch</th>\n",
       "      <th>Ticket</th>\n",
       "      <th>Fare</th>\n",
       "      <th>Cabin</th>\n",
       "      <th>Embarked</th>\n",
       "    </tr>\n",
       "  </thead>\n",
       "  <tbody>\n",
       "    <tr>\n",
       "      <th>0</th>\n",
       "      <td>1</td>\n",
       "      <td>0</td>\n",
       "      <td>3</td>\n",
       "      <td>Braund, Mr. Owen Harris</td>\n",
       "      <td>male</td>\n",
       "      <td>22.0</td>\n",
       "      <td>1</td>\n",
       "      <td>0</td>\n",
       "      <td>A/5 21171</td>\n",
       "      <td>7.2500</td>\n",
       "      <td>NaN</td>\n",
       "      <td>S</td>\n",
       "    </tr>\n",
       "    <tr>\n",
       "      <th>1</th>\n",
       "      <td>2</td>\n",
       "      <td>1</td>\n",
       "      <td>1</td>\n",
       "      <td>Cumings, Mrs. John Bradley (Florence Briggs Th...</td>\n",
       "      <td>female</td>\n",
       "      <td>38.0</td>\n",
       "      <td>1</td>\n",
       "      <td>0</td>\n",
       "      <td>PC 17599</td>\n",
       "      <td>71.2833</td>\n",
       "      <td>C85</td>\n",
       "      <td>C</td>\n",
       "    </tr>\n",
       "  </tbody>\n",
       "</table>\n",
       "</div>"
      ],
      "text/plain": [
       "   PassengerId  Survived  Pclass  \\\n",
       "0            1         0       3   \n",
       "1            2         1       1   \n",
       "\n",
       "                                                Name     Sex   Age  SibSp  \\\n",
       "0                            Braund, Mr. Owen Harris    male  22.0      1   \n",
       "1  Cumings, Mrs. John Bradley (Florence Briggs Th...  female  38.0      1   \n",
       "\n",
       "   Parch     Ticket     Fare Cabin Embarked  \n",
       "0      0  A/5 21171   7.2500   NaN        S  \n",
       "1      0   PC 17599  71.2833   C85        C  "
      ]
     },
     "execution_count": 33,
     "metadata": {},
     "output_type": "execute_result"
    }
   ],
   "source": [
    "df.head(2)"
   ]
  },
  {
   "cell_type": "code",
   "execution_count": 34,
   "id": "799e3653",
   "metadata": {
    "ExecuteTime": {
     "end_time": "2021-10-17T18:27:06.277429Z",
     "start_time": "2021-10-17T18:27:06.239697Z"
    }
   },
   "outputs": [],
   "source": [
    "from sklearn.linear_model import LogisticRegression"
   ]
  },
  {
   "cell_type": "code",
   "execution_count": 35,
   "id": "71d9bcbb",
   "metadata": {
    "ExecuteTime": {
     "end_time": "2021-10-17T18:27:06.308671Z",
     "start_time": "2021-10-17T18:27:06.293050Z"
    }
   },
   "outputs": [],
   "source": [
    "clf = LogisticRegression()"
   ]
  },
  {
   "cell_type": "code",
   "execution_count": 36,
   "id": "98963de0",
   "metadata": {
    "ExecuteTime": {
     "end_time": "2021-10-17T18:27:06.339914Z",
     "start_time": "2021-10-17T18:27:06.324292Z"
    }
   },
   "outputs": [],
   "source": [
    "X = df[[\"Pclass\", \"Fare\"]]\n",
    "y = df[\"Survived\"]"
   ]
  },
  {
   "cell_type": "code",
   "execution_count": 37,
   "id": "c7aeccd1",
   "metadata": {
    "ExecuteTime": {
     "end_time": "2021-10-17T18:27:06.380168Z",
     "start_time": "2021-10-17T18:27:06.339914Z"
    }
   },
   "outputs": [
    {
     "data": {
      "text/plain": [
       "pandas.core.frame.DataFrame"
      ]
     },
     "execution_count": 37,
     "metadata": {},
     "output_type": "execute_result"
    }
   ],
   "source": [
    "type(X)"
   ]
  },
  {
   "cell_type": "code",
   "execution_count": 38,
   "id": "8fece016",
   "metadata": {
    "ExecuteTime": {
     "end_time": "2021-10-17T18:27:06.395789Z",
     "start_time": "2021-10-17T18:27:06.380168Z"
    }
   },
   "outputs": [
    {
     "data": {
      "text/plain": [
       "pandas.core.series.Series"
      ]
     },
     "execution_count": 38,
     "metadata": {},
     "output_type": "execute_result"
    }
   ],
   "source": [
    "type(y)"
   ]
  },
  {
   "cell_type": "code",
   "execution_count": 39,
   "id": "e4056d03",
   "metadata": {
    "ExecuteTime": {
     "end_time": "2021-10-17T18:27:06.458274Z",
     "start_time": "2021-10-17T18:27:06.395789Z"
    }
   },
   "outputs": [
    {
     "data": {
      "text/plain": [
       "LogisticRegression()"
      ]
     },
     "execution_count": 39,
     "metadata": {},
     "output_type": "execute_result"
    }
   ],
   "source": [
    "clf.fit(X, y)"
   ]
  },
  {
   "cell_type": "markdown",
   "id": "7165e1e6",
   "metadata": {},
   "source": [
    "## Load a toy dataset into a DataFrame\n",
    "\n",
    "New in version 0.23: Need to load a [toy dataset](https://scikit-learn.org/stable/datasets/toy_dataset.html) into a DataFrame, including column names? Set as_frame=True.\n",
    "\n",
    "Want features and target as separate objects? Also set return_X_y=True.\n",
    "\n",
    "Additional links: [load_iris](https://scikit-learn.org/stable/modules/generated/sklearn.datasets.load_iris.html)"
   ]
  },
  {
   "cell_type": "code",
   "execution_count": 40,
   "id": "0472a149",
   "metadata": {
    "ExecuteTime": {
     "end_time": "2021-10-17T18:27:06.658807Z",
     "start_time": "2021-10-17T18:27:06.587134Z"
    }
   },
   "outputs": [],
   "source": [
    "from sklearn.datasets import load_iris"
   ]
  },
  {
   "cell_type": "markdown",
   "id": "67663962",
   "metadata": {},
   "source": [
    "### Return DataFrame with features and target"
   ]
  },
  {
   "cell_type": "code",
   "execution_count": 41,
   "id": "1933eebd",
   "metadata": {
    "ExecuteTime": {
     "end_time": "2021-10-17T18:27:06.864246Z",
     "start_time": "2021-10-17T18:27:06.817417Z"
    }
   },
   "outputs": [],
   "source": [
    "df_toy = load_iris(as_frame=True)"
   ]
  },
  {
   "cell_type": "code",
   "execution_count": 42,
   "id": "d603c999",
   "metadata": {
    "ExecuteTime": {
     "end_time": "2021-10-17T18:27:06.917650Z",
     "start_time": "2021-10-17T18:27:06.864246Z"
    }
   },
   "outputs": [
    {
     "data": {
      "text/plain": [
       "sklearn.utils.Bunch"
      ]
     },
     "execution_count": 42,
     "metadata": {},
     "output_type": "execute_result"
    }
   ],
   "source": [
    "type(df_toy)"
   ]
  },
  {
   "cell_type": "code",
   "execution_count": 43,
   "id": "7c11ee7f",
   "metadata": {
    "ExecuteTime": {
     "end_time": "2021-10-17T18:27:06.933243Z",
     "start_time": "2021-10-17T18:27:06.917650Z"
    }
   },
   "outputs": [
    {
     "name": "stdout",
     "output_type": "stream",
     "text": [
      "['DESCR', 'data', 'data_module', 'feature_names', 'filename', 'frame', 'target', 'target_names']\n"
     ]
    }
   ],
   "source": [
    "print(dir(df_toy))"
   ]
  },
  {
   "cell_type": "code",
   "execution_count": 44,
   "id": "d86b4bc4",
   "metadata": {
    "ExecuteTime": {
     "end_time": "2021-10-17T18:27:06.980107Z",
     "start_time": "2021-10-17T18:27:06.933243Z"
    }
   },
   "outputs": [],
   "source": [
    "df_toy_frame = df_toy[\"frame\"]"
   ]
  },
  {
   "cell_type": "code",
   "execution_count": 45,
   "id": "dc969840",
   "metadata": {
    "ExecuteTime": {
     "end_time": "2021-10-17T18:27:07.020360Z",
     "start_time": "2021-10-17T18:27:06.980107Z"
    }
   },
   "outputs": [
    {
     "data": {
      "text/html": [
       "<div>\n",
       "<style scoped>\n",
       "    .dataframe tbody tr th:only-of-type {\n",
       "        vertical-align: middle;\n",
       "    }\n",
       "\n",
       "    .dataframe tbody tr th {\n",
       "        vertical-align: top;\n",
       "    }\n",
       "\n",
       "    .dataframe thead th {\n",
       "        text-align: right;\n",
       "    }\n",
       "</style>\n",
       "<table border=\"1\" class=\"dataframe\">\n",
       "  <thead>\n",
       "    <tr style=\"text-align: right;\">\n",
       "      <th></th>\n",
       "      <th>sepal length (cm)</th>\n",
       "      <th>sepal width (cm)</th>\n",
       "      <th>petal length (cm)</th>\n",
       "      <th>petal width (cm)</th>\n",
       "      <th>target</th>\n",
       "    </tr>\n",
       "  </thead>\n",
       "  <tbody>\n",
       "    <tr>\n",
       "      <th>0</th>\n",
       "      <td>5.1</td>\n",
       "      <td>3.5</td>\n",
       "      <td>1.4</td>\n",
       "      <td>0.2</td>\n",
       "      <td>0</td>\n",
       "    </tr>\n",
       "    <tr>\n",
       "      <th>1</th>\n",
       "      <td>4.9</td>\n",
       "      <td>3.0</td>\n",
       "      <td>1.4</td>\n",
       "      <td>0.2</td>\n",
       "      <td>0</td>\n",
       "    </tr>\n",
       "    <tr>\n",
       "      <th>2</th>\n",
       "      <td>4.7</td>\n",
       "      <td>3.2</td>\n",
       "      <td>1.3</td>\n",
       "      <td>0.2</td>\n",
       "      <td>0</td>\n",
       "    </tr>\n",
       "  </tbody>\n",
       "</table>\n",
       "</div>"
      ],
      "text/plain": [
       "   sepal length (cm)  sepal width (cm)  petal length (cm)  petal width (cm)  \\\n",
       "0                5.1               3.5                1.4               0.2   \n",
       "1                4.9               3.0                1.4               0.2   \n",
       "2                4.7               3.2                1.3               0.2   \n",
       "\n",
       "   target  \n",
       "0       0  \n",
       "1       0  \n",
       "2       0  "
      ]
     },
     "execution_count": 45,
     "metadata": {},
     "output_type": "execute_result"
    }
   ],
   "source": [
    "df_toy_frame.head(3)"
   ]
  },
  {
   "cell_type": "markdown",
   "id": "44d8803f",
   "metadata": {},
   "source": [
    "### Return Feature DataFrame and Target Series "
   ]
  },
  {
   "cell_type": "code",
   "execution_count": 46,
   "id": "d3383aab",
   "metadata": {
    "ExecuteTime": {
     "end_time": "2021-10-17T18:27:07.183116Z",
     "start_time": "2021-10-17T18:27:07.167495Z"
    }
   },
   "outputs": [],
   "source": [
    "X_toy, y_toy = load_iris(as_frame=True, return_X_y=True)"
   ]
  },
  {
   "cell_type": "code",
   "execution_count": 47,
   "id": "86b89257",
   "metadata": {
    "ExecuteTime": {
     "end_time": "2021-10-17T18:27:07.237493Z",
     "start_time": "2021-10-17T18:27:07.183116Z"
    }
   },
   "outputs": [
    {
     "data": {
      "text/html": [
       "<div>\n",
       "<style scoped>\n",
       "    .dataframe tbody tr th:only-of-type {\n",
       "        vertical-align: middle;\n",
       "    }\n",
       "\n",
       "    .dataframe tbody tr th {\n",
       "        vertical-align: top;\n",
       "    }\n",
       "\n",
       "    .dataframe thead th {\n",
       "        text-align: right;\n",
       "    }\n",
       "</style>\n",
       "<table border=\"1\" class=\"dataframe\">\n",
       "  <thead>\n",
       "    <tr style=\"text-align: right;\">\n",
       "      <th></th>\n",
       "      <th>sepal length (cm)</th>\n",
       "      <th>sepal width (cm)</th>\n",
       "      <th>petal length (cm)</th>\n",
       "      <th>petal width (cm)</th>\n",
       "    </tr>\n",
       "  </thead>\n",
       "  <tbody>\n",
       "    <tr>\n",
       "      <th>0</th>\n",
       "      <td>5.1</td>\n",
       "      <td>3.5</td>\n",
       "      <td>1.4</td>\n",
       "      <td>0.2</td>\n",
       "    </tr>\n",
       "    <tr>\n",
       "      <th>1</th>\n",
       "      <td>4.9</td>\n",
       "      <td>3.0</td>\n",
       "      <td>1.4</td>\n",
       "      <td>0.2</td>\n",
       "    </tr>\n",
       "    <tr>\n",
       "      <th>2</th>\n",
       "      <td>4.7</td>\n",
       "      <td>3.2</td>\n",
       "      <td>1.3</td>\n",
       "      <td>0.2</td>\n",
       "    </tr>\n",
       "  </tbody>\n",
       "</table>\n",
       "</div>"
      ],
      "text/plain": [
       "   sepal length (cm)  sepal width (cm)  petal length (cm)  petal width (cm)\n",
       "0                5.1               3.5                1.4               0.2\n",
       "1                4.9               3.0                1.4               0.2\n",
       "2                4.7               3.2                1.3               0.2"
      ]
     },
     "execution_count": 47,
     "metadata": {},
     "output_type": "execute_result"
    }
   ],
   "source": [
    "X_toy.head(3)"
   ]
  },
  {
   "cell_type": "code",
   "execution_count": 48,
   "id": "75cf18be",
   "metadata": {
    "ExecuteTime": {
     "end_time": "2021-10-17T18:27:07.253116Z",
     "start_time": "2021-10-17T18:27:07.237493Z"
    }
   },
   "outputs": [
    {
     "data": {
      "text/plain": [
       "0    0\n",
       "1    0\n",
       "2    0\n",
       "Name: target, dtype: int32"
      ]
     },
     "execution_count": 48,
     "metadata": {},
     "output_type": "execute_result"
    }
   ],
   "source": [
    "y_toy.head(3)"
   ]
  },
  {
   "cell_type": "markdown",
   "id": "10be6fe8",
   "metadata": {},
   "source": [
    "# Categorical Features"
   ]
  },
  {
   "cell_type": "markdown",
   "id": "32f004df",
   "metadata": {},
   "source": [
    "## Encode categorical features using OneHotEncoder or OrdinalEncoder\n",
    "\n",
    "Two common ways to encode categorical features:\n",
    "+ [OneHotEncoder](https://scikit-learn.org/stable/modules/generated/sklearn.preprocessing.OneHotEncoder.html) for unordered (nominal) data\n",
    "+ [OrdinalEncoder](https://scikit-learn.org/stable/modules/generated/sklearn.preprocessing.OrdinalEncoder.html) for ordered (ordinal) data\n",
    "\n",
    "P.S. [LabelEncoder](https://scikit-learn.org/stable/modules/generated/sklearn.preprocessing.LabelEncoder.html) is for labels, not features!"
   ]
  },
  {
   "cell_type": "code",
   "execution_count": 49,
   "id": "54e4cf27",
   "metadata": {
    "ExecuteTime": {
     "end_time": "2021-10-17T18:27:07.746808Z",
     "start_time": "2021-10-17T18:27:07.731216Z"
    }
   },
   "outputs": [],
   "source": [
    "# \"Shape\" is unordered, \"Class\" and \"Size\" are ordered\n",
    "X = pd.DataFrame({'Shape':['square', 'square', 'oval', 'circle'],\n",
    "                  'Class': ['third', 'first', 'second', 'third'],\n",
    "                  'Size': ['S', 'S', 'L', 'XL']})"
   ]
  },
  {
   "cell_type": "code",
   "execution_count": 50,
   "id": "0678ecfa",
   "metadata": {
    "ExecuteTime": {
     "end_time": "2021-10-17T18:27:07.793673Z",
     "start_time": "2021-10-17T18:27:07.762430Z"
    }
   },
   "outputs": [
    {
     "data": {
      "text/html": [
       "<div>\n",
       "<style scoped>\n",
       "    .dataframe tbody tr th:only-of-type {\n",
       "        vertical-align: middle;\n",
       "    }\n",
       "\n",
       "    .dataframe tbody tr th {\n",
       "        vertical-align: top;\n",
       "    }\n",
       "\n",
       "    .dataframe thead th {\n",
       "        text-align: right;\n",
       "    }\n",
       "</style>\n",
       "<table border=\"1\" class=\"dataframe\">\n",
       "  <thead>\n",
       "    <tr style=\"text-align: right;\">\n",
       "      <th></th>\n",
       "      <th>Shape</th>\n",
       "      <th>Class</th>\n",
       "      <th>Size</th>\n",
       "    </tr>\n",
       "  </thead>\n",
       "  <tbody>\n",
       "    <tr>\n",
       "      <th>0</th>\n",
       "      <td>square</td>\n",
       "      <td>third</td>\n",
       "      <td>S</td>\n",
       "    </tr>\n",
       "    <tr>\n",
       "      <th>1</th>\n",
       "      <td>square</td>\n",
       "      <td>first</td>\n",
       "      <td>S</td>\n",
       "    </tr>\n",
       "    <tr>\n",
       "      <th>2</th>\n",
       "      <td>oval</td>\n",
       "      <td>second</td>\n",
       "      <td>L</td>\n",
       "    </tr>\n",
       "    <tr>\n",
       "      <th>3</th>\n",
       "      <td>circle</td>\n",
       "      <td>third</td>\n",
       "      <td>XL</td>\n",
       "    </tr>\n",
       "  </tbody>\n",
       "</table>\n",
       "</div>"
      ],
      "text/plain": [
       "    Shape   Class Size\n",
       "0  square   third    S\n",
       "1  square   first    S\n",
       "2    oval  second    L\n",
       "3  circle   third   XL"
      ]
     },
     "execution_count": 50,
     "metadata": {},
     "output_type": "execute_result"
    }
   ],
   "source": [
    "X"
   ]
  },
  {
   "cell_type": "code",
   "execution_count": 51,
   "id": "28d8156e",
   "metadata": {
    "ExecuteTime": {
     "end_time": "2021-10-17T18:27:07.809294Z",
     "start_time": "2021-10-17T18:27:07.793673Z"
    }
   },
   "outputs": [
    {
     "data": {
      "text/plain": [
       "(4,)"
      ]
     },
     "execution_count": 51,
     "metadata": {},
     "output_type": "execute_result"
    }
   ],
   "source": [
    "X[\"Shape\"].shape"
   ]
  },
  {
   "cell_type": "code",
   "execution_count": 52,
   "id": "d55f71b0",
   "metadata": {
    "ExecuteTime": {
     "end_time": "2021-10-17T18:27:07.847091Z",
     "start_time": "2021-10-17T18:27:07.815801Z"
    }
   },
   "outputs": [
    {
     "data": {
      "text/plain": [
       "(4, 1)"
      ]
     },
     "execution_count": 52,
     "metadata": {},
     "output_type": "execute_result"
    }
   ],
   "source": [
    "X[[\"Shape\"]].shape"
   ]
  },
  {
   "cell_type": "markdown",
   "id": "1c21ef03",
   "metadata": {},
   "source": [
    "### left-to-right column order is alphabetical (circle, oval, square)"
   ]
  },
  {
   "cell_type": "code",
   "execution_count": 53,
   "id": "cce28190",
   "metadata": {
    "ExecuteTime": {
     "end_time": "2021-10-17T18:27:08.096424Z",
     "start_time": "2021-10-17T18:27:08.084457Z"
    }
   },
   "outputs": [
    {
     "data": {
      "text/plain": [
       "array([[0., 0., 1.],\n",
       "       [0., 0., 1.],\n",
       "       [0., 1., 0.],\n",
       "       [1., 0., 0.]])"
      ]
     },
     "execution_count": 53,
     "metadata": {},
     "output_type": "execute_result"
    }
   ],
   "source": [
    "ohe = OneHotEncoder(sparse=False)\n",
    "ohe.fit_transform(X[[\"Shape\"]])"
   ]
  },
  {
   "cell_type": "code",
   "execution_count": 54,
   "id": "328b72b3",
   "metadata": {
    "ExecuteTime": {
     "end_time": "2021-10-17T18:27:08.144296Z",
     "start_time": "2021-10-17T18:27:08.117368Z"
    }
   },
   "outputs": [
    {
     "data": {
      "text/plain": [
       "[array(['circle', 'oval', 'square'], dtype=object)]"
      ]
     },
     "execution_count": 54,
     "metadata": {},
     "output_type": "execute_result"
    }
   ],
   "source": [
    "ohe.categories_"
   ]
  },
  {
   "cell_type": "markdown",
   "id": "9960e657",
   "metadata": {},
   "source": [
    "### category ordering (within each feature) "
   ]
  },
  {
   "cell_type": "code",
   "execution_count": 55,
   "id": "5fa14dcb",
   "metadata": {
    "ExecuteTime": {
     "end_time": "2021-10-17T18:27:08.395734Z",
     "start_time": "2021-10-17T18:27:08.380113Z"
    }
   },
   "outputs": [
    {
     "data": {
      "text/plain": [
       "array([[2., 0.],\n",
       "       [0., 0.],\n",
       "       [1., 2.],\n",
       "       [2., 3.]])"
      ]
     },
     "execution_count": 55,
     "metadata": {},
     "output_type": "execute_result"
    }
   ],
   "source": [
    "from sklearn.preprocessing import OrdinalEncoder\n",
    "\n",
    "oe = OrdinalEncoder(categories=[\n",
    "    [\"first\", \"second\", \"third\"],  # order of Class\n",
    "    [\"S\", \"M\", \"L\", \"XL\"]          # order of Size  \n",
    "])\n",
    "\n",
    "oe.fit_transform(X[[\"Class\", \"Size\"]])"
   ]
  },
  {
   "cell_type": "code",
   "execution_count": 56,
   "id": "eef6b05b",
   "metadata": {
    "ExecuteTime": {
     "end_time": "2021-10-17T18:27:08.433496Z",
     "start_time": "2021-10-17T18:27:08.411356Z"
    }
   },
   "outputs": [
    {
     "data": {
      "text/plain": [
       "[array(['first', 'second', 'third'], dtype=object),\n",
       " array(['S', 'M', 'L', 'XL'], dtype=object)]"
      ]
     },
     "execution_count": 56,
     "metadata": {},
     "output_type": "execute_result"
    }
   ],
   "source": [
    "oe.categories_"
   ]
  },
  {
   "cell_type": "markdown",
   "id": "0cb524a8",
   "metadata": {},
   "source": [
    "## Handle unknown categories with OneHotEncoder by encoding them as zeros\n",
    "\n",
    "Q: For a [one-hot encoded feature](https://scikit-learn.org/stable/modules/preprocessing.html#encoding-categorical-features), what can you do if new data contains categories that weren't seen during training?\n",
    "\n",
    "A: Set handle_unknown='ignore' to encode new categories as all zeros.\n",
    "\n",
    "P.S. If you know all possible categories that might ever appear, you can instead specify the categories manually. handle_unknown='ignore' is useful specifically when you don't know all possible categories."
   ]
  },
  {
   "cell_type": "code",
   "execution_count": 57,
   "id": "3fa6b879",
   "metadata": {
    "ExecuteTime": {
     "end_time": "2021-10-17T18:27:08.686399Z",
     "start_time": "2021-10-17T18:27:08.670779Z"
    }
   },
   "outputs": [],
   "source": [
    "X = pd.DataFrame({'col':['A', 'B', 'C', 'B']})\n",
    "X_new = pd.DataFrame({'col':['A', 'C', 'D']})"
   ]
  },
  {
   "cell_type": "code",
   "execution_count": 58,
   "id": "b616c928",
   "metadata": {
    "ExecuteTime": {
     "end_time": "2021-10-17T18:27:08.739804Z",
     "start_time": "2021-10-17T18:27:08.686399Z"
    }
   },
   "outputs": [],
   "source": [
    "ohe = OneHotEncoder(sparse=False, handle_unknown=\"ignore\")\n",
    "#sparse : bool, default=True\n",
    "#    Will return sparse matrix if set True else will return an array.\n",
    "\n",
    "#handle_unknown : {'error', 'ignore'}, default='error'\n",
    "#    Whether to raise an error or ignore if an unknown categorical feature\n",
    "#    is present during transform (default is to raise). When this parameter\n",
    "#    is set to 'ignore' and an unknown category is encountered during\n",
    "#    transform, the resulting one-hot encoded columns for this feature\n",
    "#    will be all zeros. In the inverse transform, an unknown category\n",
    "#    will be denoted as None.\n"
   ]
  },
  {
   "cell_type": "code",
   "execution_count": 59,
   "id": "66b77c2b",
   "metadata": {
    "ExecuteTime": {
     "end_time": "2021-10-17T18:27:08.755394Z",
     "start_time": "2021-10-17T18:27:08.739804Z"
    }
   },
   "outputs": [
    {
     "data": {
      "text/html": [
       "<div>\n",
       "<style scoped>\n",
       "    .dataframe tbody tr th:only-of-type {\n",
       "        vertical-align: middle;\n",
       "    }\n",
       "\n",
       "    .dataframe tbody tr th {\n",
       "        vertical-align: top;\n",
       "    }\n",
       "\n",
       "    .dataframe thead th {\n",
       "        text-align: right;\n",
       "    }\n",
       "</style>\n",
       "<table border=\"1\" class=\"dataframe\">\n",
       "  <thead>\n",
       "    <tr style=\"text-align: right;\">\n",
       "      <th></th>\n",
       "      <th>col</th>\n",
       "    </tr>\n",
       "  </thead>\n",
       "  <tbody>\n",
       "    <tr>\n",
       "      <th>0</th>\n",
       "      <td>A</td>\n",
       "    </tr>\n",
       "    <tr>\n",
       "      <th>1</th>\n",
       "      <td>B</td>\n",
       "    </tr>\n",
       "    <tr>\n",
       "      <th>2</th>\n",
       "      <td>C</td>\n",
       "    </tr>\n",
       "    <tr>\n",
       "      <th>3</th>\n",
       "      <td>B</td>\n",
       "    </tr>\n",
       "  </tbody>\n",
       "</table>\n",
       "</div>"
      ],
      "text/plain": [
       "  col\n",
       "0   A\n",
       "1   B\n",
       "2   C\n",
       "3   B"
      ]
     },
     "execution_count": 59,
     "metadata": {},
     "output_type": "execute_result"
    }
   ],
   "source": [
    "X"
   ]
  },
  {
   "cell_type": "code",
   "execution_count": 60,
   "id": "6bb1feac",
   "metadata": {
    "ExecuteTime": {
     "end_time": "2021-10-17T18:27:08.786637Z",
     "start_time": "2021-10-17T18:27:08.755394Z"
    }
   },
   "outputs": [
    {
     "data": {
      "text/html": [
       "<div>\n",
       "<style scoped>\n",
       "    .dataframe tbody tr th:only-of-type {\n",
       "        vertical-align: middle;\n",
       "    }\n",
       "\n",
       "    .dataframe tbody tr th {\n",
       "        vertical-align: top;\n",
       "    }\n",
       "\n",
       "    .dataframe thead th {\n",
       "        text-align: right;\n",
       "    }\n",
       "</style>\n",
       "<table border=\"1\" class=\"dataframe\">\n",
       "  <thead>\n",
       "    <tr style=\"text-align: right;\">\n",
       "      <th></th>\n",
       "      <th>col</th>\n",
       "    </tr>\n",
       "  </thead>\n",
       "  <tbody>\n",
       "    <tr>\n",
       "      <th>0</th>\n",
       "      <td>A</td>\n",
       "    </tr>\n",
       "    <tr>\n",
       "      <th>1</th>\n",
       "      <td>C</td>\n",
       "    </tr>\n",
       "    <tr>\n",
       "      <th>2</th>\n",
       "      <td>D</td>\n",
       "    </tr>\n",
       "  </tbody>\n",
       "</table>\n",
       "</div>"
      ],
      "text/plain": [
       "  col\n",
       "0   A\n",
       "1   C\n",
       "2   D"
      ]
     },
     "execution_count": 60,
     "metadata": {},
     "output_type": "execute_result"
    }
   ],
   "source": [
    "X_new"
   ]
  },
  {
   "cell_type": "code",
   "execution_count": 61,
   "id": "b140ea85",
   "metadata": {
    "ExecuteTime": {
     "end_time": "2021-10-17T18:27:08.841012Z",
     "start_time": "2021-10-17T18:27:08.802258Z"
    }
   },
   "outputs": [
    {
     "data": {
      "text/plain": [
       "array([[1., 0., 0.],\n",
       "       [0., 1., 0.],\n",
       "       [0., 0., 1.],\n",
       "       [0., 1., 0.]])"
      ]
     },
     "execution_count": 61,
     "metadata": {},
     "output_type": "execute_result"
    }
   ],
   "source": [
    "# three columns represent categories A, B, and C\n",
    "ohe.fit_transform(X[[\"col\"]])"
   ]
  },
  {
   "cell_type": "code",
   "execution_count": 62,
   "id": "01191af3",
   "metadata": {
    "ExecuteTime": {
     "end_time": "2021-10-17T18:27:08.856634Z",
     "start_time": "2021-10-17T18:27:08.841012Z"
    }
   },
   "outputs": [
    {
     "data": {
      "text/plain": [
       "array([[1., 0., 0.],\n",
       "       [0., 0., 1.],\n",
       "       [0., 0., 0.]])"
      ]
     },
     "execution_count": 62,
     "metadata": {},
     "output_type": "execute_result"
    }
   ],
   "source": [
    "# category D was not learned by OneHotEncoder during the \"fit\" step\n",
    "# category D is encoded as all zeros\n",
    "ohe.transform(X_new)"
   ]
  },
  {
   "cell_type": "markdown",
   "id": "2f4d3b39",
   "metadata": {},
   "source": [
    "## Three reasons not to use drop='first' with OneHotEncoder\n",
    "\n",
    "In most cases, I recommend that you don't use drop='first' with OneHotEncoder. Here's why:\n",
    "\n",
    "+ Multicollinearity is rarely an issue with scikit-learn models\n",
    "+ drop='first' is incompatible with handle_unknown='ignore'\n",
    "+ May be problematic if you standardize all features or use a regularized model\n",
    "\n",
    "\n",
    "Note: Beginning in scikit-learn 1.0, drop='first' and handle_unknown='ignore' can be used together. However, the dropped category and an unknown category will both be encoded as all zeros. "
   ]
  },
  {
   "cell_type": "markdown",
   "id": "89f655e3",
   "metadata": {},
   "source": [
    "## Drop the first category from binary features (only) with OneHotEncoder\n",
    "\n",
    "New in version 0.23: Use drop='if_binary' with OneHotEncoder to drop the first category ONLY if it's a binary feature (meaning it has exactly two categories).\n",
    "\n",
    "Note: Beginning in scikit-learn 1.0, drop='first' and drop='if_binary' can both be used with handle_unknown='ignore'. However, the dropped category and an unknown category will both be encoded as all zeros."
   ]
  },
  {
   "cell_type": "code",
   "execution_count": 63,
   "id": "a9f37a74",
   "metadata": {
    "ExecuteTime": {
     "end_time": "2021-10-17T18:27:09.342383Z",
     "start_time": "2021-10-17T18:27:09.326756Z"
    }
   },
   "outputs": [],
   "source": [
    "X = pd.DataFrame({'Shape':['circle', 'oval', 'square', 'square'],\n",
    "                  'Color': ['pink', 'yellow', 'pink', 'yellow']})"
   ]
  },
  {
   "cell_type": "code",
   "execution_count": 64,
   "id": "d593b220",
   "metadata": {
    "ExecuteTime": {
     "end_time": "2021-10-17T18:27:09.389247Z",
     "start_time": "2021-10-17T18:27:09.358004Z"
    }
   },
   "outputs": [
    {
     "data": {
      "text/html": [
       "<div>\n",
       "<style scoped>\n",
       "    .dataframe tbody tr th:only-of-type {\n",
       "        vertical-align: middle;\n",
       "    }\n",
       "\n",
       "    .dataframe tbody tr th {\n",
       "        vertical-align: top;\n",
       "    }\n",
       "\n",
       "    .dataframe thead th {\n",
       "        text-align: right;\n",
       "    }\n",
       "</style>\n",
       "<table border=\"1\" class=\"dataframe\">\n",
       "  <thead>\n",
       "    <tr style=\"text-align: right;\">\n",
       "      <th></th>\n",
       "      <th>Shape</th>\n",
       "      <th>Color</th>\n",
       "    </tr>\n",
       "  </thead>\n",
       "  <tbody>\n",
       "    <tr>\n",
       "      <th>0</th>\n",
       "      <td>circle</td>\n",
       "      <td>pink</td>\n",
       "    </tr>\n",
       "    <tr>\n",
       "      <th>1</th>\n",
       "      <td>oval</td>\n",
       "      <td>yellow</td>\n",
       "    </tr>\n",
       "    <tr>\n",
       "      <th>2</th>\n",
       "      <td>square</td>\n",
       "      <td>pink</td>\n",
       "    </tr>\n",
       "    <tr>\n",
       "      <th>3</th>\n",
       "      <td>square</td>\n",
       "      <td>yellow</td>\n",
       "    </tr>\n",
       "  </tbody>\n",
       "</table>\n",
       "</div>"
      ],
      "text/plain": [
       "    Shape   Color\n",
       "0  circle    pink\n",
       "1    oval  yellow\n",
       "2  square    pink\n",
       "3  square  yellow"
      ]
     },
     "execution_count": 64,
     "metadata": {},
     "output_type": "execute_result"
    }
   ],
   "source": [
    "# Shape has 3 categories, Color has 2 categories\n",
    "X"
   ]
  },
  {
   "cell_type": "code",
   "execution_count": 65,
   "id": "177f0f8c",
   "metadata": {
    "ExecuteTime": {
     "end_time": "2021-10-17T18:27:09.420489Z",
     "start_time": "2021-10-17T18:27:09.389247Z"
    }
   },
   "outputs": [
    {
     "data": {
      "text/plain": [
       "array([[1., 0., 0., 1., 0.],\n",
       "       [0., 1., 0., 0., 1.],\n",
       "       [0., 0., 1., 1., 0.],\n",
       "       [0., 0., 1., 0., 1.]])"
      ]
     },
     "execution_count": 65,
     "metadata": {},
     "output_type": "execute_result"
    }
   ],
   "source": [
    "# drop=None (default) creates one feature column per category\n",
    "ohe = OneHotEncoder(sparse=False, drop=None)\n",
    "ohe.fit_transform(X)"
   ]
  },
  {
   "cell_type": "code",
   "execution_count": 66,
   "id": "e69e15ea",
   "metadata": {
    "ExecuteTime": {
     "end_time": "2021-10-17T18:27:09.458242Z",
     "start_time": "2021-10-17T18:27:09.420489Z"
    }
   },
   "outputs": [
    {
     "data": {
      "text/plain": [
       "array([[1., 0., 0., 0.],\n",
       "       [0., 1., 0., 1.],\n",
       "       [0., 0., 1., 0.],\n",
       "       [0., 0., 1., 1.]])"
      ]
     },
     "execution_count": 66,
     "metadata": {},
     "output_type": "execute_result"
    }
   ],
   "source": [
    "# drop='if_binary' drops the first category of binary features\n",
    "ohe = OneHotEncoder(sparse=False, drop=\"if_binary\")\n",
    "ohe.fit_transform(X)"
   ]
  },
  {
   "cell_type": "markdown",
   "id": "6a7abe30",
   "metadata": {},
   "source": [
    "## Use OrdinalEncoder instead of OneHotEncoder with tree-based models\n",
    "\n",
    "With a [tree-based model](https://scikit-learn.org/stable/modules/tree.html), try [OrdinalEncoder](https://scikit-learn.org/stable/modules/generated/sklearn.preprocessing.OrdinalEncoder.html) instead of [OneHotEncoder](https://scikit-learn.org/stable/modules/generated/sklearn.preprocessing.OneHotEncoder.html) even for nominal (unordered) features.\n",
    "\n",
    "Accuracy will often be similar, but OrdinalEncoder will be much faster!\n",
    "\n",
    "Additional links: [Random Forests](https://scikit-learn.org/stable/modules/ensemble.html#forests-of-randomized-trees)"
   ]
  },
  {
   "cell_type": "code",
   "execution_count": 67,
   "id": "8ccee629",
   "metadata": {
    "ExecuteTime": {
     "end_time": "2021-10-17T18:27:09.848216Z",
     "start_time": "2021-10-17T18:27:09.721249Z"
    }
   },
   "outputs": [],
   "source": [
    "file_input_path = \"adult-census.csv\"\n",
    "if not os.path.exists(file_input_path):\n",
    "    df = pd.read_csv('https://www.openml.org/data/get_csv/1595261/adult-census.csv')\n",
    "    df.to_csv(file_input_path, header=True, index=False, sep=\"\\t\")\n",
    "else:\n",
    "    df = pd.read_csv(file_input_path, header=0, sep=\"\\t\")"
   ]
  },
  {
   "cell_type": "code",
   "execution_count": 68,
   "id": "315a6459",
   "metadata": {
    "ExecuteTime": {
     "end_time": "2021-10-17T18:27:09.895080Z",
     "start_time": "2021-10-17T18:27:09.848216Z"
    }
   },
   "outputs": [
    {
     "name": "stdout",
     "output_type": "stream",
     "text": [
      "<class 'pandas.core.frame.DataFrame'>\n",
      "RangeIndex: 48842 entries, 0 to 48841\n",
      "Data columns (total 15 columns):\n",
      " #   Column          Non-Null Count  Dtype \n",
      "---  ------          --------------  ----- \n",
      " 0   age             48842 non-null  int64 \n",
      " 1   workclass       48842 non-null  object\n",
      " 2   fnlwgt          48842 non-null  int64 \n",
      " 3   education       48842 non-null  object\n",
      " 4   education-num   48842 non-null  int64 \n",
      " 5   marital-status  48842 non-null  object\n",
      " 6   occupation      48842 non-null  object\n",
      " 7   relationship    48842 non-null  object\n",
      " 8   race            48842 non-null  object\n",
      " 9   sex             48842 non-null  object\n",
      " 10  capital-gain    48842 non-null  int64 \n",
      " 11  capital-loss    48842 non-null  int64 \n",
      " 12  hours-per-week  48842 non-null  int64 \n",
      " 13  native-country  48842 non-null  object\n",
      " 14  class           48842 non-null  object\n",
      "dtypes: int64(6), object(9)\n",
      "memory usage: 5.6+ MB\n"
     ]
    }
   ],
   "source": [
    "df.info()"
   ]
  },
  {
   "cell_type": "code",
   "execution_count": 69,
   "id": "2f50561e",
   "metadata": {
    "ExecuteTime": {
     "end_time": "2021-10-17T18:27:09.948457Z",
     "start_time": "2021-10-17T18:27:09.895080Z"
    }
   },
   "outputs": [
    {
     "data": {
      "text/html": [
       "<div>\n",
       "<style scoped>\n",
       "    .dataframe tbody tr th:only-of-type {\n",
       "        vertical-align: middle;\n",
       "    }\n",
       "\n",
       "    .dataframe tbody tr th {\n",
       "        vertical-align: top;\n",
       "    }\n",
       "\n",
       "    .dataframe thead th {\n",
       "        text-align: right;\n",
       "    }\n",
       "</style>\n",
       "<table border=\"1\" class=\"dataframe\">\n",
       "  <thead>\n",
       "    <tr style=\"text-align: right;\">\n",
       "      <th></th>\n",
       "      <th>age</th>\n",
       "      <th>fnlwgt</th>\n",
       "      <th>education-num</th>\n",
       "      <th>capital-gain</th>\n",
       "      <th>capital-loss</th>\n",
       "      <th>hours-per-week</th>\n",
       "    </tr>\n",
       "  </thead>\n",
       "  <tbody>\n",
       "    <tr>\n",
       "      <th>count</th>\n",
       "      <td>48842.000000</td>\n",
       "      <td>4.884200e+04</td>\n",
       "      <td>48842.000000</td>\n",
       "      <td>48842.000000</td>\n",
       "      <td>48842.000000</td>\n",
       "      <td>48842.000000</td>\n",
       "    </tr>\n",
       "    <tr>\n",
       "      <th>mean</th>\n",
       "      <td>38.643585</td>\n",
       "      <td>1.896641e+05</td>\n",
       "      <td>10.078089</td>\n",
       "      <td>1079.067626</td>\n",
       "      <td>87.502314</td>\n",
       "      <td>40.422382</td>\n",
       "    </tr>\n",
       "    <tr>\n",
       "      <th>std</th>\n",
       "      <td>13.710510</td>\n",
       "      <td>1.056040e+05</td>\n",
       "      <td>2.570973</td>\n",
       "      <td>7452.019058</td>\n",
       "      <td>403.004552</td>\n",
       "      <td>12.391444</td>\n",
       "    </tr>\n",
       "    <tr>\n",
       "      <th>min</th>\n",
       "      <td>17.000000</td>\n",
       "      <td>1.228500e+04</td>\n",
       "      <td>1.000000</td>\n",
       "      <td>0.000000</td>\n",
       "      <td>0.000000</td>\n",
       "      <td>1.000000</td>\n",
       "    </tr>\n",
       "    <tr>\n",
       "      <th>25%</th>\n",
       "      <td>28.000000</td>\n",
       "      <td>1.175505e+05</td>\n",
       "      <td>9.000000</td>\n",
       "      <td>0.000000</td>\n",
       "      <td>0.000000</td>\n",
       "      <td>40.000000</td>\n",
       "    </tr>\n",
       "    <tr>\n",
       "      <th>50%</th>\n",
       "      <td>37.000000</td>\n",
       "      <td>1.781445e+05</td>\n",
       "      <td>10.000000</td>\n",
       "      <td>0.000000</td>\n",
       "      <td>0.000000</td>\n",
       "      <td>40.000000</td>\n",
       "    </tr>\n",
       "    <tr>\n",
       "      <th>75%</th>\n",
       "      <td>48.000000</td>\n",
       "      <td>2.376420e+05</td>\n",
       "      <td>12.000000</td>\n",
       "      <td>0.000000</td>\n",
       "      <td>0.000000</td>\n",
       "      <td>45.000000</td>\n",
       "    </tr>\n",
       "    <tr>\n",
       "      <th>max</th>\n",
       "      <td>90.000000</td>\n",
       "      <td>1.490400e+06</td>\n",
       "      <td>16.000000</td>\n",
       "      <td>99999.000000</td>\n",
       "      <td>4356.000000</td>\n",
       "      <td>99.000000</td>\n",
       "    </tr>\n",
       "  </tbody>\n",
       "</table>\n",
       "</div>"
      ],
      "text/plain": [
       "                age        fnlwgt  education-num  capital-gain  capital-loss  \\\n",
       "count  48842.000000  4.884200e+04   48842.000000  48842.000000  48842.000000   \n",
       "mean      38.643585  1.896641e+05      10.078089   1079.067626     87.502314   \n",
       "std       13.710510  1.056040e+05       2.570973   7452.019058    403.004552   \n",
       "min       17.000000  1.228500e+04       1.000000      0.000000      0.000000   \n",
       "25%       28.000000  1.175505e+05       9.000000      0.000000      0.000000   \n",
       "50%       37.000000  1.781445e+05      10.000000      0.000000      0.000000   \n",
       "75%       48.000000  2.376420e+05      12.000000      0.000000      0.000000   \n",
       "max       90.000000  1.490400e+06      16.000000  99999.000000   4356.000000   \n",
       "\n",
       "       hours-per-week  \n",
       "count    48842.000000  \n",
       "mean        40.422382  \n",
       "std         12.391444  \n",
       "min          1.000000  \n",
       "25%         40.000000  \n",
       "50%         40.000000  \n",
       "75%         45.000000  \n",
       "max         99.000000  "
      ]
     },
     "execution_count": 69,
     "metadata": {},
     "output_type": "execute_result"
    }
   ],
   "source": [
    "df.describe()"
   ]
  },
  {
   "cell_type": "code",
   "execution_count": 70,
   "id": "e41fd59c",
   "metadata": {
    "ExecuteTime": {
     "end_time": "2021-10-17T18:27:09.979699Z",
     "start_time": "2021-10-17T18:27:09.948457Z"
    }
   },
   "outputs": [
    {
     "data": {
      "text/html": [
       "<div>\n",
       "<style scoped>\n",
       "    .dataframe tbody tr th:only-of-type {\n",
       "        vertical-align: middle;\n",
       "    }\n",
       "\n",
       "    .dataframe tbody tr th {\n",
       "        vertical-align: top;\n",
       "    }\n",
       "\n",
       "    .dataframe thead th {\n",
       "        text-align: right;\n",
       "    }\n",
       "</style>\n",
       "<table border=\"1\" class=\"dataframe\">\n",
       "  <thead>\n",
       "    <tr style=\"text-align: right;\">\n",
       "      <th></th>\n",
       "      <th>age</th>\n",
       "      <th>workclass</th>\n",
       "      <th>fnlwgt</th>\n",
       "      <th>education</th>\n",
       "      <th>education-num</th>\n",
       "      <th>marital-status</th>\n",
       "      <th>occupation</th>\n",
       "      <th>relationship</th>\n",
       "      <th>race</th>\n",
       "      <th>sex</th>\n",
       "      <th>capital-gain</th>\n",
       "      <th>capital-loss</th>\n",
       "      <th>hours-per-week</th>\n",
       "      <th>native-country</th>\n",
       "      <th>class</th>\n",
       "    </tr>\n",
       "  </thead>\n",
       "  <tbody>\n",
       "    <tr>\n",
       "      <th>0</th>\n",
       "      <td>25</td>\n",
       "      <td>Private</td>\n",
       "      <td>226802</td>\n",
       "      <td>11th</td>\n",
       "      <td>7</td>\n",
       "      <td>Never-married</td>\n",
       "      <td>Machine-op-inspct</td>\n",
       "      <td>Own-child</td>\n",
       "      <td>Black</td>\n",
       "      <td>Male</td>\n",
       "      <td>0</td>\n",
       "      <td>0</td>\n",
       "      <td>40</td>\n",
       "      <td>United-States</td>\n",
       "      <td>&lt;=50K</td>\n",
       "    </tr>\n",
       "    <tr>\n",
       "      <th>1</th>\n",
       "      <td>38</td>\n",
       "      <td>Private</td>\n",
       "      <td>89814</td>\n",
       "      <td>HS-grad</td>\n",
       "      <td>9</td>\n",
       "      <td>Married-civ-spouse</td>\n",
       "      <td>Farming-fishing</td>\n",
       "      <td>Husband</td>\n",
       "      <td>White</td>\n",
       "      <td>Male</td>\n",
       "      <td>0</td>\n",
       "      <td>0</td>\n",
       "      <td>50</td>\n",
       "      <td>United-States</td>\n",
       "      <td>&lt;=50K</td>\n",
       "    </tr>\n",
       "  </tbody>\n",
       "</table>\n",
       "</div>"
      ],
      "text/plain": [
       "   age workclass  fnlwgt education  education-num       marital-status  \\\n",
       "0   25   Private  226802      11th              7        Never-married   \n",
       "1   38   Private   89814   HS-grad              9   Married-civ-spouse   \n",
       "\n",
       "           occupation relationship    race    sex  capital-gain  capital-loss  \\\n",
       "0   Machine-op-inspct    Own-child   Black   Male             0             0   \n",
       "1     Farming-fishing      Husband   White   Male             0             0   \n",
       "\n",
       "   hours-per-week  native-country   class  \n",
       "0              40   United-States   <=50K  \n",
       "1              50   United-States   <=50K  "
      ]
     },
     "execution_count": 70,
     "metadata": {},
     "output_type": "execute_result"
    }
   ],
   "source": [
    "df.head(2)"
   ]
  },
  {
   "cell_type": "code",
   "execution_count": 71,
   "id": "782ec57a",
   "metadata": {
    "ExecuteTime": {
     "end_time": "2021-10-17T18:27:09.995293Z",
     "start_time": "2021-10-17T18:27:09.979699Z"
    }
   },
   "outputs": [],
   "source": [
    "categorical_cols = ['workclass', 'education', 'marital-status',\n",
    "                    'occupation', 'relationship', 'race', 'sex']"
   ]
  },
  {
   "cell_type": "code",
   "execution_count": 72,
   "id": "e260d416",
   "metadata": {
    "ExecuteTime": {
     "end_time": "2021-10-17T18:27:10.064316Z",
     "start_time": "2021-10-17T18:27:09.995293Z"
    }
   },
   "outputs": [],
   "source": [
    "from sklearn.preprocessing import OneHotEncoder, OrdinalEncoder\n",
    "from sklearn.pipeline import make_pipeline\n",
    "from sklearn.ensemble import RandomForestClassifier\n",
    "from sklearn.model_selection import cross_val_score"
   ]
  },
  {
   "cell_type": "code",
   "execution_count": 73,
   "id": "f163aebb",
   "metadata": {
    "ExecuteTime": {
     "end_time": "2021-10-17T18:27:10.079916Z",
     "start_time": "2021-10-17T18:27:10.064316Z"
    }
   },
   "outputs": [],
   "source": [
    "X = df[categorical_cols]\n",
    "y = df[\"class\"]"
   ]
  },
  {
   "cell_type": "code",
   "execution_count": 74,
   "id": "7fa27199",
   "metadata": {
    "ExecuteTime": {
     "end_time": "2021-10-17T18:27:10.111152Z",
     "start_time": "2021-10-17T18:27:10.079916Z"
    }
   },
   "outputs": [
    {
     "data": {
      "text/plain": [
       "Index(['workclass', 'education', 'marital-status', 'occupation',\n",
       "       'relationship', 'race', 'sex'],\n",
       "      dtype='object')"
      ]
     },
     "execution_count": 74,
     "metadata": {},
     "output_type": "execute_result"
    }
   ],
   "source": [
    "X.columns"
   ]
  },
  {
   "cell_type": "code",
   "execution_count": 75,
   "id": "dd8e6bf3",
   "metadata": {
    "ExecuteTime": {
     "end_time": "2021-10-17T18:27:10.148906Z",
     "start_time": "2021-10-17T18:27:10.111152Z"
    }
   },
   "outputs": [
    {
     "data": {
      "text/html": [
       "<div>\n",
       "<style scoped>\n",
       "    .dataframe tbody tr th:only-of-type {\n",
       "        vertical-align: middle;\n",
       "    }\n",
       "\n",
       "    .dataframe tbody tr th {\n",
       "        vertical-align: top;\n",
       "    }\n",
       "\n",
       "    .dataframe thead th {\n",
       "        text-align: right;\n",
       "    }\n",
       "</style>\n",
       "<table border=\"1\" class=\"dataframe\">\n",
       "  <thead>\n",
       "    <tr style=\"text-align: right;\">\n",
       "      <th></th>\n",
       "      <th>workclass</th>\n",
       "      <th>education</th>\n",
       "      <th>marital-status</th>\n",
       "      <th>occupation</th>\n",
       "      <th>relationship</th>\n",
       "      <th>race</th>\n",
       "      <th>sex</th>\n",
       "    </tr>\n",
       "  </thead>\n",
       "  <tbody>\n",
       "    <tr>\n",
       "      <th>0</th>\n",
       "      <td>Private</td>\n",
       "      <td>11th</td>\n",
       "      <td>Never-married</td>\n",
       "      <td>Machine-op-inspct</td>\n",
       "      <td>Own-child</td>\n",
       "      <td>Black</td>\n",
       "      <td>Male</td>\n",
       "    </tr>\n",
       "    <tr>\n",
       "      <th>1</th>\n",
       "      <td>Private</td>\n",
       "      <td>HS-grad</td>\n",
       "      <td>Married-civ-spouse</td>\n",
       "      <td>Farming-fishing</td>\n",
       "      <td>Husband</td>\n",
       "      <td>White</td>\n",
       "      <td>Male</td>\n",
       "    </tr>\n",
       "  </tbody>\n",
       "</table>\n",
       "</div>"
      ],
      "text/plain": [
       "  workclass education       marital-status          occupation relationship  \\\n",
       "0   Private      11th        Never-married   Machine-op-inspct    Own-child   \n",
       "1   Private   HS-grad   Married-civ-spouse     Farming-fishing      Husband   \n",
       "\n",
       "     race    sex  \n",
       "0   Black   Male  \n",
       "1   White   Male  "
      ]
     },
     "execution_count": 75,
     "metadata": {},
     "output_type": "execute_result"
    }
   ],
   "source": [
    "X.head(2)"
   ]
  },
  {
   "cell_type": "code",
   "execution_count": 76,
   "id": "8ad0d621",
   "metadata": {
    "ExecuteTime": {
     "end_time": "2021-10-17T18:27:10.164526Z",
     "start_time": "2021-10-17T18:27:10.148906Z"
    }
   },
   "outputs": [
    {
     "data": {
      "text/plain": [
       "0     <=50K\n",
       "1     <=50K\n",
       "Name: class, dtype: object"
      ]
     },
     "execution_count": 76,
     "metadata": {},
     "output_type": "execute_result"
    }
   ],
   "source": [
    "y.head(2)"
   ]
  },
  {
   "cell_type": "markdown",
   "id": "ce333755",
   "metadata": {},
   "source": [
    "### Comparasion between OneHotEncoder and OrdinalEncoder"
   ]
  },
  {
   "cell_type": "code",
   "execution_count": 77,
   "id": "c63db6c3",
   "metadata": {
    "ExecuteTime": {
     "end_time": "2021-10-17T18:27:10.249174Z",
     "start_time": "2021-10-17T18:27:10.233549Z"
    }
   },
   "outputs": [
    {
     "name": "stdout",
     "output_type": "stream",
     "text": [
      "Number of columns in X: 7\n"
     ]
    }
   ],
   "source": [
    "print(f\"Number of columns in X: {len(X.columns)}\")"
   ]
  },
  {
   "cell_type": "code",
   "execution_count": 78,
   "id": "30ba60c3",
   "metadata": {
    "ExecuteTime": {
     "end_time": "2021-10-17T18:27:10.380661Z",
     "start_time": "2021-10-17T18:27:10.264795Z"
    }
   },
   "outputs": [
    {
     "data": {
      "text/plain": [
       "(48842, 60)"
      ]
     },
     "execution_count": 78,
     "metadata": {},
     "output_type": "execute_result"
    }
   ],
   "source": [
    "ohe = OneHotEncoder(sparse=False)\n",
    "ohe.fit_transform(X).shape"
   ]
  },
  {
   "cell_type": "code",
   "execution_count": 79,
   "id": "de5cbbaf",
   "metadata": {
    "ExecuteTime": {
     "end_time": "2021-10-17T18:27:10.465273Z",
     "start_time": "2021-10-17T18:27:10.380661Z"
    }
   },
   "outputs": [
    {
     "data": {
      "text/plain": [
       "array([[0., 0., 0., ..., 0., 0., 1.],\n",
       "       [0., 0., 0., ..., 1., 0., 1.],\n",
       "       [0., 0., 1., ..., 1., 0., 1.],\n",
       "       ...,\n",
       "       [0., 0., 0., ..., 1., 1., 0.],\n",
       "       [0., 0., 0., ..., 1., 0., 1.],\n",
       "       [0., 0., 0., ..., 1., 1., 0.]])"
      ]
     },
     "execution_count": 79,
     "metadata": {},
     "output_type": "execute_result"
    }
   ],
   "source": [
    "ohe.fit_transform(X)"
   ]
  },
  {
   "cell_type": "code",
   "execution_count": 80,
   "id": "200c51d4",
   "metadata": {
    "ExecuteTime": {
     "end_time": "2021-10-17T18:27:10.581135Z",
     "start_time": "2021-10-17T18:27:10.465273Z"
    }
   },
   "outputs": [
    {
     "data": {
      "text/plain": [
       "(48842, 7)"
      ]
     },
     "execution_count": 80,
     "metadata": {},
     "output_type": "execute_result"
    }
   ],
   "source": [
    "oe = OrdinalEncoder()\n",
    "oe.fit_transform(X).shape"
   ]
  },
  {
   "cell_type": "code",
   "execution_count": 81,
   "id": "871906c5",
   "metadata": {
    "ExecuteTime": {
     "end_time": "2021-10-17T18:27:10.681377Z",
     "start_time": "2021-10-17T18:27:10.581135Z"
    }
   },
   "outputs": [
    {
     "data": {
      "text/plain": [
       "array([[ 4.,  1.,  4., ...,  3.,  2.,  1.],\n",
       "       [ 4., 11.,  2., ...,  0.,  4.,  1.],\n",
       "       [ 2.,  7.,  2., ...,  0.,  4.,  1.],\n",
       "       ...,\n",
       "       [ 4., 11.,  6., ...,  4.,  4.,  0.],\n",
       "       [ 4., 11.,  4., ...,  3.,  4.,  1.],\n",
       "       [ 5., 11.,  2., ...,  5.,  4.,  0.]])"
      ]
     },
     "execution_count": 81,
     "metadata": {},
     "output_type": "execute_result"
    }
   ],
   "source": [
    "oe.fit_transform(X)"
   ]
  },
  {
   "cell_type": "markdown",
   "id": "03154271",
   "metadata": {},
   "source": [
    "### Classifier"
   ]
  },
  {
   "cell_type": "code",
   "execution_count": 82,
   "id": "ef3434a7",
   "metadata": {
    "ExecuteTime": {
     "end_time": "2021-10-17T18:27:10.750380Z",
     "start_time": "2021-10-17T18:27:10.728241Z"
    }
   },
   "outputs": [],
   "source": [
    "rf = RandomForestClassifier(random_state=1, n_jobs=-1)"
   ]
  },
  {
   "cell_type": "code",
   "execution_count": 83,
   "id": "5f5c8b95",
   "metadata": {
    "ExecuteTime": {
     "end_time": "2021-10-17T18:27:23.089276Z",
     "start_time": "2021-10-17T18:27:10.766002Z"
    }
   },
   "outputs": [
    {
     "name": "stdout",
     "output_type": "stream",
     "text": [
      "Wall time: 13.8 s\n"
     ]
    },
    {
     "data": {
      "text/plain": [
       "0.8262561170407418"
      ]
     },
     "execution_count": 83,
     "metadata": {},
     "output_type": "execute_result"
    }
   ],
   "source": [
    "# Pipeline containing OneHotEncoder\n",
    "ohe_pipe = make_pipeline(\n",
    "    ohe,\n",
    "    rf\n",
    ")\n",
    "%time cross_val_score(ohe_pipe, X, y).mean()"
   ]
  },
  {
   "cell_type": "code",
   "execution_count": 84,
   "id": "9f7409ce",
   "metadata": {
    "ExecuteTime": {
     "end_time": "2021-10-17T18:27:28.445448Z",
     "start_time": "2021-10-17T18:27:23.096257Z"
    }
   },
   "outputs": [
    {
     "name": "stdout",
     "output_type": "stream",
     "text": [
      "Wall time: 4.98 s\n"
     ]
    },
    {
     "data": {
      "text/plain": [
       "0.8256623624061437"
      ]
     },
     "execution_count": 84,
     "metadata": {},
     "output_type": "execute_result"
    }
   ],
   "source": [
    "# Pipeline containing OrdinalEncoder\n",
    "oe_pipe = make_pipeline(\n",
    "    oe,\n",
    "    rf\n",
    ")\n",
    "%time cross_val_score(oe_pipe, X, y).mean()"
   ]
  },
  {
   "cell_type": "markdown",
   "id": "2a8222cf",
   "metadata": {},
   "source": [
    "# Missing values"
   ]
  },
  {
   "cell_type": "markdown",
   "id": "d919e25d",
   "metadata": {},
   "source": [
    "## Add a missing indicator to encode \"missingness\" as a feature\n",
    "\n",
    "When [imputing missing values](https://scikit-learn.org/stable/modules/impute.html), you can preserve info about which values were missing and use THAT as a feature!\n",
    "\n",
    "Why? Sometimes there's a relationship between \"missingness\" and the target/label you are trying to predict."
   ]
  },
  {
   "cell_type": "code",
   "execution_count": 85,
   "id": "c1a12a44",
   "metadata": {
    "ExecuteTime": {
     "end_time": "2021-10-17T18:27:28.476690Z",
     "start_time": "2021-10-17T18:27:28.445448Z"
    }
   },
   "outputs": [],
   "source": [
    "X = pd.DataFrame({'Age':[20, 30, 10, np.nan, 10]})"
   ]
  },
  {
   "cell_type": "code",
   "execution_count": 86,
   "id": "027e33ca",
   "metadata": {
    "ExecuteTime": {
     "end_time": "2021-10-17T18:27:28.514443Z",
     "start_time": "2021-10-17T18:27:28.476690Z"
    }
   },
   "outputs": [],
   "source": [
    "from sklearn.impute import SimpleImputer"
   ]
  },
  {
   "cell_type": "code",
   "execution_count": 87,
   "id": "f652aea1",
   "metadata": {
    "ExecuteTime": {
     "end_time": "2021-10-17T18:27:28.530064Z",
     "start_time": "2021-10-17T18:27:28.514443Z"
    }
   },
   "outputs": [
    {
     "data": {
      "text/plain": [
       "array([[20. ],\n",
       "       [30. ],\n",
       "       [10. ],\n",
       "       [17.5],\n",
       "       [10. ]])"
      ]
     },
     "execution_count": 87,
     "metadata": {},
     "output_type": "execute_result"
    }
   ],
   "source": [
    "# impute the mean\n",
    "imputer = SimpleImputer()\n",
    "imputer.fit_transform(X)"
   ]
  },
  {
   "cell_type": "code",
   "execution_count": 88,
   "id": "d9e652bd",
   "metadata": {
    "ExecuteTime": {
     "end_time": "2021-10-17T18:27:28.592549Z",
     "start_time": "2021-10-17T18:27:28.530064Z"
    }
   },
   "outputs": [
    {
     "data": {
      "text/plain": [
       "array([[20. ,  0. ],\n",
       "       [30. ,  0. ],\n",
       "       [10. ,  0. ],\n",
       "       [17.5,  1. ],\n",
       "       [10. ,  0. ]])"
      ]
     },
     "execution_count": 88,
     "metadata": {},
     "output_type": "execute_result"
    }
   ],
   "source": [
    "# add an indicator\n",
    "imputer = SimpleImputer(add_indicator=True)\n",
    "imputer.fit_transform(X)"
   ]
  },
  {
   "cell_type": "markdown",
   "id": "1067ae6d",
   "metadata": {},
   "source": [
    "## Impute missing values using KNNImputer or IterativeImputer\n",
    "\n",
    "Need something better than [SimpleImputer](https://scikit-learn.org/stable/modules/generated/sklearn.impute.SimpleImputer.html) for missing value imputation?\n",
    "\n",
    "Try [KNNImputer](https://scikit-learn.org/stable/modules/generated/sklearn.impute.KNNImputer.html) or [IterativeImputer](https://scikit-learn.org/stable/modules/generated/sklearn.impute.IterativeImputer.html) (inspired by R's MICE package). Both are multivariate approaches (they take other features into account!)\n"
   ]
  },
  {
   "cell_type": "code",
   "execution_count": 89,
   "id": "4380ffad",
   "metadata": {
    "ExecuteTime": {
     "end_time": "2021-10-17T18:27:28.630302Z",
     "start_time": "2021-10-17T18:27:28.592549Z"
    }
   },
   "outputs": [],
   "source": [
    "from sklearn.experimental import enable_iterative_imputer\n",
    "from sklearn.impute import IterativeImputer\n",
    "\n",
    "from sklearn.impute import KNNImputer"
   ]
  },
  {
   "cell_type": "code",
   "execution_count": 90,
   "id": "f83cc600",
   "metadata": {
    "ExecuteTime": {
     "end_time": "2021-10-17T18:27:28.645923Z",
     "start_time": "2021-10-17T18:27:28.630302Z"
    }
   },
   "outputs": [],
   "source": [
    "import os \n",
    "\n",
    "file_input_path = \"titanic_train.csv\"\n",
    "if not os.path.exists(file_input_path):\n",
    "    df = pd.read_csv(\"http://bit.ly/kaggletrain\")\n",
    "    df.to_csv(file_input_path, header=True, index=False, sep=\"\\t\")\n",
    "else:\n",
    "    df = pd.read_csv(file_input_path, header=0, sep=\"\\t\")"
   ]
  },
  {
   "cell_type": "code",
   "execution_count": 91,
   "id": "0ca067dd",
   "metadata": {
    "ExecuteTime": {
     "end_time": "2021-10-17T18:27:28.692787Z",
     "start_time": "2021-10-17T18:27:28.661544Z"
    }
   },
   "outputs": [
    {
     "data": {
      "text/html": [
       "<div>\n",
       "<style scoped>\n",
       "    .dataframe tbody tr th:only-of-type {\n",
       "        vertical-align: middle;\n",
       "    }\n",
       "\n",
       "    .dataframe tbody tr th {\n",
       "        vertical-align: top;\n",
       "    }\n",
       "\n",
       "    .dataframe thead th {\n",
       "        text-align: right;\n",
       "    }\n",
       "</style>\n",
       "<table border=\"1\" class=\"dataframe\">\n",
       "  <thead>\n",
       "    <tr style=\"text-align: right;\">\n",
       "      <th></th>\n",
       "      <th>PassengerId</th>\n",
       "      <th>Survived</th>\n",
       "      <th>Pclass</th>\n",
       "      <th>Name</th>\n",
       "      <th>Sex</th>\n",
       "      <th>Age</th>\n",
       "      <th>SibSp</th>\n",
       "      <th>Parch</th>\n",
       "      <th>Ticket</th>\n",
       "      <th>Fare</th>\n",
       "      <th>Cabin</th>\n",
       "      <th>Embarked</th>\n",
       "    </tr>\n",
       "  </thead>\n",
       "  <tbody>\n",
       "    <tr>\n",
       "      <th>0</th>\n",
       "      <td>1</td>\n",
       "      <td>0</td>\n",
       "      <td>3</td>\n",
       "      <td>Braund, Mr. Owen Harris</td>\n",
       "      <td>male</td>\n",
       "      <td>22.0</td>\n",
       "      <td>1</td>\n",
       "      <td>0</td>\n",
       "      <td>A/5 21171</td>\n",
       "      <td>7.2500</td>\n",
       "      <td>NaN</td>\n",
       "      <td>S</td>\n",
       "    </tr>\n",
       "    <tr>\n",
       "      <th>1</th>\n",
       "      <td>2</td>\n",
       "      <td>1</td>\n",
       "      <td>1</td>\n",
       "      <td>Cumings, Mrs. John Bradley (Florence Briggs Th...</td>\n",
       "      <td>female</td>\n",
       "      <td>38.0</td>\n",
       "      <td>1</td>\n",
       "      <td>0</td>\n",
       "      <td>PC 17599</td>\n",
       "      <td>71.2833</td>\n",
       "      <td>C85</td>\n",
       "      <td>C</td>\n",
       "    </tr>\n",
       "  </tbody>\n",
       "</table>\n",
       "</div>"
      ],
      "text/plain": [
       "   PassengerId  Survived  Pclass  \\\n",
       "0            1         0       3   \n",
       "1            2         1       1   \n",
       "\n",
       "                                                Name     Sex   Age  SibSp  \\\n",
       "0                            Braund, Mr. Owen Harris    male  22.0      1   \n",
       "1  Cumings, Mrs. John Bradley (Florence Briggs Th...  female  38.0      1   \n",
       "\n",
       "   Parch     Ticket     Fare Cabin Embarked  \n",
       "0      0  A/5 21171   7.2500   NaN        S  \n",
       "1      0   PC 17599  71.2833   C85        C  "
      ]
     },
     "execution_count": 91,
     "metadata": {},
     "output_type": "execute_result"
    }
   ],
   "source": [
    "df.head(2)"
   ]
  },
  {
   "cell_type": "code",
   "execution_count": 92,
   "id": "41665222",
   "metadata": {
    "ExecuteTime": {
     "end_time": "2021-10-17T18:27:28.734043Z",
     "start_time": "2021-10-17T18:27:28.692787Z"
    }
   },
   "outputs": [],
   "source": [
    "cols = ['SibSp', 'Fare', 'Age']\n",
    "X = df[cols][:6]"
   ]
  },
  {
   "cell_type": "code",
   "execution_count": 93,
   "id": "73adcc31",
   "metadata": {
    "ExecuteTime": {
     "end_time": "2021-10-17T18:27:28.749667Z",
     "start_time": "2021-10-17T18:27:28.734043Z"
    }
   },
   "outputs": [
    {
     "data": {
      "text/html": [
       "<div>\n",
       "<style scoped>\n",
       "    .dataframe tbody tr th:only-of-type {\n",
       "        vertical-align: middle;\n",
       "    }\n",
       "\n",
       "    .dataframe tbody tr th {\n",
       "        vertical-align: top;\n",
       "    }\n",
       "\n",
       "    .dataframe thead th {\n",
       "        text-align: right;\n",
       "    }\n",
       "</style>\n",
       "<table border=\"1\" class=\"dataframe\">\n",
       "  <thead>\n",
       "    <tr style=\"text-align: right;\">\n",
       "      <th></th>\n",
       "      <th>SibSp</th>\n",
       "      <th>Fare</th>\n",
       "      <th>Age</th>\n",
       "    </tr>\n",
       "  </thead>\n",
       "  <tbody>\n",
       "    <tr>\n",
       "      <th>0</th>\n",
       "      <td>1</td>\n",
       "      <td>7.2500</td>\n",
       "      <td>22.0</td>\n",
       "    </tr>\n",
       "    <tr>\n",
       "      <th>1</th>\n",
       "      <td>1</td>\n",
       "      <td>71.2833</td>\n",
       "      <td>38.0</td>\n",
       "    </tr>\n",
       "    <tr>\n",
       "      <th>2</th>\n",
       "      <td>0</td>\n",
       "      <td>7.9250</td>\n",
       "      <td>26.0</td>\n",
       "    </tr>\n",
       "    <tr>\n",
       "      <th>3</th>\n",
       "      <td>1</td>\n",
       "      <td>53.1000</td>\n",
       "      <td>35.0</td>\n",
       "    </tr>\n",
       "    <tr>\n",
       "      <th>4</th>\n",
       "      <td>0</td>\n",
       "      <td>8.0500</td>\n",
       "      <td>35.0</td>\n",
       "    </tr>\n",
       "    <tr>\n",
       "      <th>5</th>\n",
       "      <td>0</td>\n",
       "      <td>8.4583</td>\n",
       "      <td>NaN</td>\n",
       "    </tr>\n",
       "  </tbody>\n",
       "</table>\n",
       "</div>"
      ],
      "text/plain": [
       "   SibSp     Fare   Age\n",
       "0      1   7.2500  22.0\n",
       "1      1  71.2833  38.0\n",
       "2      0   7.9250  26.0\n",
       "3      1  53.1000  35.0\n",
       "4      0   8.0500  35.0\n",
       "5      0   8.4583   NaN"
      ]
     },
     "execution_count": 93,
     "metadata": {},
     "output_type": "execute_result"
    }
   ],
   "source": [
    "X"
   ]
  },
  {
   "cell_type": "code",
   "execution_count": 94,
   "id": "b1c050ba",
   "metadata": {
    "ExecuteTime": {
     "end_time": "2021-10-17T18:27:28.819156Z",
     "start_time": "2021-10-17T18:27:28.749667Z"
    }
   },
   "outputs": [
    {
     "data": {
      "text/plain": [
       "array([[ 1.        ,  7.25      , 22.        ],\n",
       "       [ 1.        , 71.2833    , 38.        ],\n",
       "       [ 0.        ,  7.925     , 26.        ],\n",
       "       [ 1.        , 53.1       , 35.        ],\n",
       "       [ 0.        ,  8.05      , 35.        ],\n",
       "       [ 0.        ,  8.4583    , 28.50639495]])"
      ]
     },
     "execution_count": 94,
     "metadata": {},
     "output_type": "execute_result"
    }
   ],
   "source": [
    "imputer_it = IterativeImputer()\n",
    "imputer_it.fit_transform(X)"
   ]
  },
  {
   "cell_type": "code",
   "execution_count": 95,
   "id": "0af50ff3",
   "metadata": {
    "ExecuteTime": {
     "end_time": "2021-10-17T18:27:28.836789Z",
     "start_time": "2021-10-17T18:27:28.821164Z"
    }
   },
   "outputs": [
    {
     "data": {
      "text/plain": [
       "array([[ 1.    ,  7.25  , 22.    ],\n",
       "       [ 1.    , 71.2833, 38.    ],\n",
       "       [ 0.    ,  7.925 , 26.    ],\n",
       "       [ 1.    , 53.1   , 35.    ],\n",
       "       [ 0.    ,  8.05  , 35.    ],\n",
       "       [ 0.    ,  8.4583, 30.5   ]])"
      ]
     },
     "execution_count": 95,
     "metadata": {},
     "output_type": "execute_result"
    }
   ],
   "source": [
    "imputer_knn = KNNImputer(n_neighbors=2)  # default=5\n",
    "imputer_knn.fit_transform(X)\n",
    "# Note: (26+35)/2 = 30.5"
   ]
  },
  {
   "cell_type": "markdown",
   "id": "47cc9345",
   "metadata": {},
   "source": [
    "## HistGradientBoostingClassifier natively supports missing values\n",
    "\n",
    "Four options for handling missing values (NaNs):\n",
    "+ Drop rows containing NaNs\n",
    "+ Drop columns containing NaNs\n",
    "+ Fill NaNs with imputed values\n",
    "+ [Use a model that natively handles NaNs (NEW!)](https://scikit-learn.org/stable/modules/ensemble.html#missing-values-support)\n",
    "\n",
    "Note: Beginning in scikit-learn 1.0, HistGradientBoostingClassifier and HistGradientBoostingRegressor are considered stable (rather than experimental), and thus you no longer have to enable them explicitly.\n"
   ]
  },
  {
   "cell_type": "code",
   "execution_count": 96,
   "id": "85fb3da6",
   "metadata": {
    "ExecuteTime": {
     "end_time": "2021-10-17T18:27:28.868371Z",
     "start_time": "2021-10-17T18:27:28.852631Z"
    }
   },
   "outputs": [],
   "source": [
    "import os \n",
    "\n",
    "file_input_path = \"titanic_train.csv\"\n",
    "if not os.path.exists(file_input_path):\n",
    "    df_train = pd.read_csv(\"http://bit.ly/kaggletrain\")\n",
    "    df_train.to_csv(file_input_path, header=True, index=False, sep=\"\\t\")\n",
    "else:\n",
    "    df_train = pd.read_csv(file_input_path, header=0, sep=\"\\t\")"
   ]
  },
  {
   "cell_type": "code",
   "execution_count": 97,
   "id": "0a80abfe",
   "metadata": {
    "ExecuteTime": {
     "end_time": "2021-10-17T18:27:28.924423Z",
     "start_time": "2021-10-17T18:27:28.868371Z"
    }
   },
   "outputs": [],
   "source": [
    "import os \n",
    "\n",
    "file_input_path = \"titanic_test.csv\"\n",
    "if not os.path.exists(file_input_path):\n",
    "    df_test = pd.read_csv(\"http://bit.ly/kaggletest\")\n",
    "    df_test.to_csv(file_input_path, header=True, index=False, sep=\"\\t\")\n",
    "else:\n",
    "    df_test = pd.read_csv(file_input_path, header=0, sep=\"\\t\")"
   ]
  },
  {
   "cell_type": "code",
   "execution_count": 98,
   "id": "8120fa5b",
   "metadata": {
    "ExecuteTime": {
     "end_time": "2021-10-17T18:27:28.945096Z",
     "start_time": "2021-10-17T18:27:28.926431Z"
    }
   },
   "outputs": [],
   "source": [
    "df_test = df_test[:175]"
   ]
  },
  {
   "cell_type": "code",
   "execution_count": 99,
   "id": "85001449",
   "metadata": {
    "ExecuteTime": {
     "end_time": "2021-10-17T18:27:28.988506Z",
     "start_time": "2021-10-17T18:27:28.945096Z"
    }
   },
   "outputs": [],
   "source": [
    "col_train = ['Survived', 'Age', 'Fare', 'Pclass']\n",
    "col_test = ['Age', 'Fare', 'Pclass']"
   ]
  },
  {
   "cell_type": "code",
   "execution_count": 100,
   "id": "9ce449ae",
   "metadata": {
    "ExecuteTime": {
     "end_time": "2021-10-17T18:27:29.014141Z",
     "start_time": "2021-10-17T18:27:28.988506Z"
    }
   },
   "outputs": [],
   "source": [
    "df_train = df_train[col_train]\n",
    "df_test = df_test[col_test]"
   ]
  },
  {
   "cell_type": "markdown",
   "id": "88319e29",
   "metadata": {},
   "source": [
    "### count the number of NaNs in each column"
   ]
  },
  {
   "cell_type": "code",
   "execution_count": 101,
   "id": "931446a5",
   "metadata": {
    "ExecuteTime": {
     "end_time": "2021-10-17T18:27:29.045385Z",
     "start_time": "2021-10-17T18:27:29.014141Z"
    }
   },
   "outputs": [
    {
     "data": {
      "text/plain": [
       "Survived      0\n",
       "Age         177\n",
       "Fare          0\n",
       "Pclass        0\n",
       "dtype: int64"
      ]
     },
     "execution_count": 101,
     "metadata": {},
     "output_type": "execute_result"
    }
   ],
   "source": [
    "df_train.isna().sum()"
   ]
  },
  {
   "cell_type": "code",
   "execution_count": 102,
   "id": "b70fefb9",
   "metadata": {
    "ExecuteTime": {
     "end_time": "2021-10-17T18:27:29.092248Z",
     "start_time": "2021-10-17T18:27:29.045385Z"
    }
   },
   "outputs": [
    {
     "data": {
      "text/plain": [
       "Age       36\n",
       "Fare       1\n",
       "Pclass     0\n",
       "dtype: int64"
      ]
     },
     "execution_count": 102,
     "metadata": {},
     "output_type": "execute_result"
    }
   ],
   "source": [
    "df_test.isna().sum()"
   ]
  },
  {
   "cell_type": "code",
   "execution_count": 103,
   "id": "d45c3423",
   "metadata": {
    "ExecuteTime": {
     "end_time": "2021-10-17T18:27:29.114384Z",
     "start_time": "2021-10-17T18:27:29.092248Z"
    }
   },
   "outputs": [],
   "source": [
    "df_label = df_train.pop(\"Survived\")"
   ]
  },
  {
   "cell_type": "code",
   "execution_count": 104,
   "id": "d057ec1d",
   "metadata": {
    "ExecuteTime": {
     "end_time": "2021-10-17T18:27:29.145622Z",
     "start_time": "2021-10-17T18:27:29.130000Z"
    }
   },
   "outputs": [
    {
     "data": {
      "text/plain": [
       "pandas.core.series.Series"
      ]
     },
     "execution_count": 104,
     "metadata": {},
     "output_type": "execute_result"
    }
   ],
   "source": [
    "type(df_label)"
   ]
  },
  {
   "cell_type": "code",
   "execution_count": 105,
   "id": "f292a145",
   "metadata": {
    "ExecuteTime": {
     "end_time": "2021-10-17T18:27:29.230240Z",
     "start_time": "2021-10-17T18:27:29.145622Z"
    }
   },
   "outputs": [
    {
     "name": "stderr",
     "output_type": "stream",
     "text": [
      "C:\\Users\\TienLE\\anaconda3\\envs\\py39\\lib\\site-packages\\sklearn\\experimental\\enable_hist_gradient_boosting.py:16: UserWarning: Since version 1.0, it is not needed to import enable_hist_gradient_boosting anymore. HistGradientBoostingClassifier and HistGradientBoostingRegressor are now stable and can be normally imported from sklearn.ensemble.\n",
      "  warnings.warn(\n"
     ]
    }
   ],
   "source": [
    "from sklearn.experimental import enable_hist_gradient_boosting\n",
    "from sklearn.ensemble import HistGradientBoostingClassifier"
   ]
  },
  {
   "cell_type": "code",
   "execution_count": 106,
   "id": "fb87eb91",
   "metadata": {
    "ExecuteTime": {
     "end_time": "2021-10-17T18:27:29.630620Z",
     "start_time": "2021-10-17T18:27:29.230240Z"
    }
   },
   "outputs": [
    {
     "data": {
      "text/plain": [
       "HistGradientBoostingClassifier()"
      ]
     },
     "execution_count": 106,
     "metadata": {},
     "output_type": "execute_result"
    }
   ],
   "source": [
    "# no errors, despite NaNs in train and test!\n",
    "clf = HistGradientBoostingClassifier()\n",
    "clf.fit(df_train, df_label)"
   ]
  },
  {
   "cell_type": "code",
   "execution_count": 107,
   "id": "e0b573cd",
   "metadata": {
    "ExecuteTime": {
     "end_time": "2021-10-17T18:27:29.673744Z",
     "start_time": "2021-10-17T18:27:29.633691Z"
    }
   },
   "outputs": [
    {
     "data": {
      "text/plain": [
       "array([0, 0, 0, 1, 0, 0, 0, 0, 0, 0, 0, 0, 1, 0, 0, 1, 0, 1, 1, 0, 1, 0,\n",
       "       1, 1, 1, 0, 1, 1, 1, 0, 1, 1, 0, 0, 1, 0, 0, 0, 0, 1, 0, 0, 0, 0,\n",
       "       1, 0, 0, 0, 1, 1, 1, 0, 1, 0, 0, 0, 0, 0, 1, 1, 0, 1, 0, 1, 1, 0,\n",
       "       1, 0, 0, 1, 0, 0, 0, 0, 1, 1, 0, 0, 0, 0, 1, 0, 1, 0, 1, 0, 1, 1,\n",
       "       0, 1, 0, 0, 1, 0, 1, 0, 1, 0, 0, 0, 1, 0, 0, 0, 0, 0, 0, 0, 0, 0,\n",
       "       0, 0, 1, 0, 1, 0, 0, 1, 1, 1, 1, 0, 1, 0, 0, 0, 0, 1, 1, 0, 0, 0,\n",
       "       0, 0, 0, 0, 0, 0, 0, 0, 0, 1, 1, 1, 1, 0, 1, 0, 0, 1, 1, 0, 0, 0,\n",
       "       0, 0, 1, 0, 1, 0, 0, 1, 0, 0, 1, 0, 1, 0, 0, 0, 0, 0, 0, 0, 0],\n",
       "      dtype=int64)"
      ]
     },
     "execution_count": 107,
     "metadata": {},
     "output_type": "execute_result"
    }
   ],
   "source": [
    "pred = clf.predict(df_test)\n",
    "pred"
   ]
  },
  {
   "cell_type": "code",
   "execution_count": 108,
   "id": "d494db1c",
   "metadata": {
    "ExecuteTime": {
     "end_time": "2021-10-17T18:27:29.711056Z",
     "start_time": "2021-10-17T18:27:29.675765Z"
    }
   },
   "outputs": [
    {
     "data": {
      "text/html": [
       "<div>\n",
       "<style scoped>\n",
       "    .dataframe tbody tr th:only-of-type {\n",
       "        vertical-align: middle;\n",
       "    }\n",
       "\n",
       "    .dataframe tbody tr th {\n",
       "        vertical-align: top;\n",
       "    }\n",
       "\n",
       "    .dataframe thead th {\n",
       "        text-align: right;\n",
       "    }\n",
       "</style>\n",
       "<table border=\"1\" class=\"dataframe\">\n",
       "  <thead>\n",
       "    <tr style=\"text-align: right;\">\n",
       "      <th></th>\n",
       "      <th>Age</th>\n",
       "      <th>Fare</th>\n",
       "      <th>Pclass</th>\n",
       "    </tr>\n",
       "  </thead>\n",
       "  <tbody>\n",
       "    <tr>\n",
       "      <th>0</th>\n",
       "      <td>34.5</td>\n",
       "      <td>7.8292</td>\n",
       "      <td>3</td>\n",
       "    </tr>\n",
       "    <tr>\n",
       "      <th>1</th>\n",
       "      <td>47.0</td>\n",
       "      <td>7.0000</td>\n",
       "      <td>3</td>\n",
       "    </tr>\n",
       "    <tr>\n",
       "      <th>2</th>\n",
       "      <td>62.0</td>\n",
       "      <td>9.6875</td>\n",
       "      <td>2</td>\n",
       "    </tr>\n",
       "    <tr>\n",
       "      <th>3</th>\n",
       "      <td>27.0</td>\n",
       "      <td>8.6625</td>\n",
       "      <td>3</td>\n",
       "    </tr>\n",
       "    <tr>\n",
       "      <th>4</th>\n",
       "      <td>22.0</td>\n",
       "      <td>12.2875</td>\n",
       "      <td>3</td>\n",
       "    </tr>\n",
       "  </tbody>\n",
       "</table>\n",
       "</div>"
      ],
      "text/plain": [
       "    Age     Fare  Pclass\n",
       "0  34.5   7.8292       3\n",
       "1  47.0   7.0000       3\n",
       "2  62.0   9.6875       2\n",
       "3  27.0   8.6625       3\n",
       "4  22.0  12.2875       3"
      ]
     },
     "execution_count": 108,
     "metadata": {},
     "output_type": "execute_result"
    }
   ],
   "source": [
    "df_test.head()"
   ]
  },
  {
   "cell_type": "markdown",
   "id": "e5569ce8",
   "metadata": {},
   "source": [
    "## Two ways to impute missing values for a categorical feature\n",
    "\n",
    "Need to [impute missing values](https://scikit-learn.org/stable/modules/generated/sklearn.impute.SimpleImputer.html) for a categorical feature?\n",
    "\n",
    "Two options:\n",
    "+ Impute the most frequent value\n",
    "+ Impute the value \"missing\", which treats it as a separate category\n",
    "\n",
    "strategy : str, default='mean'\n",
    "    The imputation strategy.\n",
    "\n",
    "    - If \"mean\", then replace missing values using the mean along\n",
    "      each column. Can only be used with numeric data.\n",
    "    - If \"median\", then replace missing values using the median along\n",
    "      each column. Can only be used with numeric data.\n",
    "    - If \"most_frequent\", then replace missing using the most frequent\n",
    "      value along each column. Can be used with strings or numeric data.\n",
    "      If there is more than one such value, only the smallest is returned.\n",
    "    - If \"constant\", then replace missing values with fill_value. Can be\n",
    "      used with strings or numeric data.\n",
    "\n",
    "    .. versionadded:: 0.20\n",
    "       strategy=\"constant\" for fixed value imputation.\n",
    "\n",
    "fill_value : str or numerical value, default=None\n",
    "    When strategy == \"constant\", fill_value is used to replace all\n",
    "    occurrences of missing_values.\n",
    "    If left to the default, fill_value will be 0 when imputing numerical\n",
    "    data and \"missing_value\" for strings or object data types."
   ]
  },
  {
   "cell_type": "code",
   "execution_count": 109,
   "id": "45b4680f",
   "metadata": {
    "ExecuteTime": {
     "end_time": "2021-10-17T18:27:29.733864Z",
     "start_time": "2021-10-17T18:27:29.715697Z"
    }
   },
   "outputs": [],
   "source": [
    "X = pd.DataFrame({'Shape':['square', 'square', 'oval', 'circle', np.nan]})"
   ]
  },
  {
   "cell_type": "code",
   "execution_count": 110,
   "id": "b52d2a5e",
   "metadata": {
    "ExecuteTime": {
     "end_time": "2021-10-17T18:27:29.751498Z",
     "start_time": "2021-10-17T18:27:29.735873Z"
    }
   },
   "outputs": [],
   "source": [
    "from sklearn.impute import SimpleImputer"
   ]
  },
  {
   "cell_type": "code",
   "execution_count": 111,
   "id": "7dadd4d7",
   "metadata": {
    "ExecuteTime": {
     "end_time": "2021-10-17T18:27:29.788089Z",
     "start_time": "2021-10-17T18:27:29.764407Z"
    }
   },
   "outputs": [
    {
     "data": {
      "text/plain": [
       "array([['square'],\n",
       "       ['square'],\n",
       "       ['oval'],\n",
       "       ['circle'],\n",
       "       ['square']], dtype=object)"
      ]
     },
     "execution_count": 111,
     "metadata": {},
     "output_type": "execute_result"
    }
   ],
   "source": [
    "imputer = SimpleImputer(strategy=\"most_frequent\")\n",
    "imputer.fit_transform(X)"
   ]
  },
  {
   "cell_type": "code",
   "execution_count": 112,
   "id": "a2030f4e",
   "metadata": {
    "ExecuteTime": {
     "end_time": "2021-10-17T18:27:29.820507Z",
     "start_time": "2021-10-17T18:27:29.791883Z"
    }
   },
   "outputs": [
    {
     "data": {
      "text/plain": [
       "array([['square'],\n",
       "       ['square'],\n",
       "       ['oval'],\n",
       "       ['circle'],\n",
       "       ['missing']], dtype=object)"
      ]
     },
     "execution_count": 112,
     "metadata": {},
     "output_type": "execute_result"
    }
   ],
   "source": [
    "imputer = SimpleImputer(strategy=\"constant\", fill_value=\"missing\")\n",
    "imputer.fit_transform(X)\n",
    "# Note: after imputering based on \"missing\" value, we can use OneHotEncoding to numerize this column."
   ]
  },
  {
   "cell_type": "markdown",
   "id": "221bef91",
   "metadata": {},
   "source": [
    "# Pipeline"
   ]
  },
  {
   "cell_type": "markdown",
   "id": "4e02b68a",
   "metadata": {},
   "source": [
    "## Use Pipeline to chain together multiple steps\n",
    "\n",
    "Q: What does [\"pipeline\"](https://scikit-learn.org/stable/modules/compose.html#pipeline-chaining-estimators) do?\n",
    "\n",
    "A: Chains together multiple steps: output of each step is used as input to the next step.\n",
    "\n",
    "Makes it easy to apply the same [preprocessing](https://scikit-learn.org/stable/modules/preprocessing.html) to train and test!\n",
    "\n",
    "Additional links: [SimpleImputer](https://scikit-learn.org/stable/modules/generated/sklearn.impute.SimpleImputer.html), [data leakage](https://scikit-learn.org/stable/common_pitfalls.html#data-leakage)\n"
   ]
  },
  {
   "cell_type": "code",
   "execution_count": 113,
   "id": "5eddb261",
   "metadata": {
    "ExecuteTime": {
     "end_time": "2021-10-17T18:27:29.854724Z",
     "start_time": "2021-10-17T18:27:29.822527Z"
    }
   },
   "outputs": [],
   "source": [
    "train = pd.DataFrame({'feat1':[10, 20, np.nan, 2], 'feat2':[25., 20, 5, 3], 'label':['A', 'A', 'B', 'B']})\n",
    "test = pd.DataFrame({'feat1':[30., 5, 15], 'feat2':[12, 10, np.nan]})"
   ]
  },
  {
   "cell_type": "code",
   "execution_count": 114,
   "id": "a172f871",
   "metadata": {
    "ExecuteTime": {
     "end_time": "2021-10-17T18:27:29.880357Z",
     "start_time": "2021-10-17T18:27:29.854724Z"
    }
   },
   "outputs": [],
   "source": [
    "from sklearn.impute import SimpleImputer\n",
    "from sklearn.linear_model import LogisticRegression\n",
    "from sklearn.pipeline import make_pipeline"
   ]
  },
  {
   "cell_type": "code",
   "execution_count": 115,
   "id": "8a7c2bd1",
   "metadata": {
    "ExecuteTime": {
     "end_time": "2021-10-17T18:27:29.895978Z",
     "start_time": "2021-10-17T18:27:29.880357Z"
    }
   },
   "outputs": [],
   "source": [
    "imputer = SimpleImputer()\n",
    "clf = LogisticRegression()"
   ]
  },
  {
   "cell_type": "code",
   "execution_count": 116,
   "id": "460ede6d",
   "metadata": {
    "ExecuteTime": {
     "end_time": "2021-10-17T18:27:29.927220Z",
     "start_time": "2021-10-17T18:27:29.895978Z"
    }
   },
   "outputs": [],
   "source": [
    "# pipeline: impute missing values, then pass the results to the classifier\n",
    "pipe = make_pipeline(\n",
    "    imputer,\n",
    "    clf\n",
    ")"
   ]
  },
  {
   "cell_type": "code",
   "execution_count": 117,
   "id": "76f1c9c9",
   "metadata": {
    "ExecuteTime": {
     "end_time": "2021-10-17T18:27:29.942842Z",
     "start_time": "2021-10-17T18:27:29.927220Z"
    }
   },
   "outputs": [
    {
     "data": {
      "text/html": [
       "<div>\n",
       "<style scoped>\n",
       "    .dataframe tbody tr th:only-of-type {\n",
       "        vertical-align: middle;\n",
       "    }\n",
       "\n",
       "    .dataframe tbody tr th {\n",
       "        vertical-align: top;\n",
       "    }\n",
       "\n",
       "    .dataframe thead th {\n",
       "        text-align: right;\n",
       "    }\n",
       "</style>\n",
       "<table border=\"1\" class=\"dataframe\">\n",
       "  <thead>\n",
       "    <tr style=\"text-align: right;\">\n",
       "      <th></th>\n",
       "      <th>feat1</th>\n",
       "      <th>feat2</th>\n",
       "      <th>label</th>\n",
       "    </tr>\n",
       "  </thead>\n",
       "  <tbody>\n",
       "    <tr>\n",
       "      <th>0</th>\n",
       "      <td>10.0</td>\n",
       "      <td>25.0</td>\n",
       "      <td>A</td>\n",
       "    </tr>\n",
       "    <tr>\n",
       "      <th>1</th>\n",
       "      <td>20.0</td>\n",
       "      <td>20.0</td>\n",
       "      <td>A</td>\n",
       "    </tr>\n",
       "    <tr>\n",
       "      <th>2</th>\n",
       "      <td>NaN</td>\n",
       "      <td>5.0</td>\n",
       "      <td>B</td>\n",
       "    </tr>\n",
       "    <tr>\n",
       "      <th>3</th>\n",
       "      <td>2.0</td>\n",
       "      <td>3.0</td>\n",
       "      <td>B</td>\n",
       "    </tr>\n",
       "  </tbody>\n",
       "</table>\n",
       "</div>"
      ],
      "text/plain": [
       "   feat1  feat2 label\n",
       "0   10.0   25.0     A\n",
       "1   20.0   20.0     A\n",
       "2    NaN    5.0     B\n",
       "3    2.0    3.0     B"
      ]
     },
     "execution_count": 117,
     "metadata": {},
     "output_type": "execute_result"
    }
   ],
   "source": [
    "train"
   ]
  },
  {
   "cell_type": "code",
   "execution_count": 118,
   "id": "79054743",
   "metadata": {
    "ExecuteTime": {
     "end_time": "2021-10-17T18:27:29.982596Z",
     "start_time": "2021-10-17T18:27:29.942842Z"
    }
   },
   "outputs": [
    {
     "data": {
      "text/html": [
       "<div>\n",
       "<style scoped>\n",
       "    .dataframe tbody tr th:only-of-type {\n",
       "        vertical-align: middle;\n",
       "    }\n",
       "\n",
       "    .dataframe tbody tr th {\n",
       "        vertical-align: top;\n",
       "    }\n",
       "\n",
       "    .dataframe thead th {\n",
       "        text-align: right;\n",
       "    }\n",
       "</style>\n",
       "<table border=\"1\" class=\"dataframe\">\n",
       "  <thead>\n",
       "    <tr style=\"text-align: right;\">\n",
       "      <th></th>\n",
       "      <th>feat1</th>\n",
       "      <th>feat2</th>\n",
       "    </tr>\n",
       "  </thead>\n",
       "  <tbody>\n",
       "    <tr>\n",
       "      <th>0</th>\n",
       "      <td>30.0</td>\n",
       "      <td>12.0</td>\n",
       "    </tr>\n",
       "    <tr>\n",
       "      <th>1</th>\n",
       "      <td>5.0</td>\n",
       "      <td>10.0</td>\n",
       "    </tr>\n",
       "    <tr>\n",
       "      <th>2</th>\n",
       "      <td>15.0</td>\n",
       "      <td>NaN</td>\n",
       "    </tr>\n",
       "  </tbody>\n",
       "</table>\n",
       "</div>"
      ],
      "text/plain": [
       "   feat1  feat2\n",
       "0   30.0   12.0\n",
       "1    5.0   10.0\n",
       "2   15.0    NaN"
      ]
     },
     "execution_count": 118,
     "metadata": {},
     "output_type": "execute_result"
    }
   ],
   "source": [
    "test"
   ]
  },
  {
   "cell_type": "code",
   "execution_count": 119,
   "id": "6199922f",
   "metadata": {
    "ExecuteTime": {
     "end_time": "2021-10-17T18:27:29.998216Z",
     "start_time": "2021-10-17T18:27:29.982596Z"
    }
   },
   "outputs": [],
   "source": [
    "features, label = train[['feat1', 'feat2']], train[\"label\"]"
   ]
  },
  {
   "cell_type": "code",
   "execution_count": 120,
   "id": "22ca2117",
   "metadata": {
    "ExecuteTime": {
     "end_time": "2021-10-17T18:27:30.045081Z",
     "start_time": "2021-10-17T18:27:30.013838Z"
    }
   },
   "outputs": [
    {
     "data": {
      "text/plain": [
       "Pipeline(steps=[('simpleimputer', SimpleImputer()),\n",
       "                ('logisticregression', LogisticRegression())])"
      ]
     },
     "execution_count": 120,
     "metadata": {},
     "output_type": "execute_result"
    }
   ],
   "source": [
    "# Train phase based on pipeline\n",
    "pipe.fit(features, label)"
   ]
  },
  {
   "cell_type": "code",
   "execution_count": 121,
   "id": "bcf92e46",
   "metadata": {
    "ExecuteTime": {
     "end_time": "2021-10-17T18:27:30.060702Z",
     "start_time": "2021-10-17T18:27:30.045081Z"
    }
   },
   "outputs": [
    {
     "data": {
      "text/plain": [
       "array(['A', 'B', 'A'], dtype=object)"
      ]
     },
     "execution_count": 121,
     "metadata": {},
     "output_type": "execute_result"
    }
   ],
   "source": [
    "# Predict based on pipeline\n",
    "pipe.predict(test)"
   ]
  },
  {
   "cell_type": "code",
   "execution_count": 122,
   "id": "fe9e46f8",
   "metadata": {
    "ExecuteTime": {
     "end_time": "2021-10-17T18:27:30.099458Z",
     "start_time": "2021-10-17T18:27:30.068211Z"
    }
   },
   "outputs": [
    {
     "data": {
      "text/plain": [
       "array([[0.91180344, 0.08819656],\n",
       "       [0.07269959, 0.92730041],\n",
       "       [0.61128195, 0.38871805]])"
      ]
     },
     "execution_count": 122,
     "metadata": {},
     "output_type": "execute_result"
    }
   ],
   "source": [
    "pipe.predict_proba(test)"
   ]
  },
  {
   "cell_type": "markdown",
   "id": "c09b7d06",
   "metadata": {},
   "source": [
    "## What is the difference between Pipeline and make_pipeline?\n",
    "\n",
    "Q: What's the difference between [Pipeline](https://scikit-learn.org/stable/modules/generated/sklearn.pipeline.Pipeline.html) and [make_pipeline](https://scikit-learn.org/stable/modules/generated/sklearn.pipeline.make_pipeline.html)?\n",
    "\n",
    "A: Pipeline requires naming of steps, make_pipeline does not.\n",
    "\n",
    "(Same applies to [ColumnTransformer](https://scikit-learn.org/stable/modules/generated/sklearn.compose.ColumnTransformer.html) vs [make_column_transformer](https://scikit-learn.org/stable/modules/generated/sklearn.compose.make_column_transformer.html))"
   ]
  },
  {
   "cell_type": "code",
   "execution_count": 123,
   "id": "633cdf8c",
   "metadata": {
    "ExecuteTime": {
     "end_time": "2021-10-17T18:27:30.146322Z",
     "start_time": "2021-10-17T18:27:30.115080Z"
    }
   },
   "outputs": [],
   "source": [
    "from sklearn.preprocessing import OneHotEncoder\n",
    "from sklearn.impute import SimpleImputer\n",
    "from sklearn.linear_model import LogisticRegression"
   ]
  },
  {
   "cell_type": "code",
   "execution_count": 124,
   "id": "f504310b",
   "metadata": {
    "ExecuteTime": {
     "end_time": "2021-10-17T18:27:30.161945Z",
     "start_time": "2021-10-17T18:27:30.146322Z"
    }
   },
   "outputs": [],
   "source": [
    "ohe = OneHotEncoder()\n",
    "imp = SimpleImputer()\n",
    "clf = LogisticRegression()"
   ]
  },
  {
   "cell_type": "markdown",
   "id": "4412549e",
   "metadata": {},
   "source": [
    "### make_column_transformer & make_pipeline"
   ]
  },
  {
   "cell_type": "code",
   "execution_count": 125,
   "id": "45dbc5a3",
   "metadata": {
    "ExecuteTime": {
     "end_time": "2021-10-17T18:27:30.184077Z",
     "start_time": "2021-10-17T18:27:30.161945Z"
    }
   },
   "outputs": [],
   "source": [
    "from sklearn.compose import make_column_transformer\n",
    "from sklearn.pipeline import make_pipeline"
   ]
  },
  {
   "cell_type": "code",
   "execution_count": 126,
   "id": "f20c00e9",
   "metadata": {
    "ExecuteTime": {
     "end_time": "2021-10-17T18:27:30.199699Z",
     "start_time": "2021-10-17T18:27:30.184077Z"
    }
   },
   "outputs": [],
   "source": [
    "col_transformer = make_column_transformer(\n",
    "    (ohe, [\"Embarked\", \"Sex\"]),\n",
    "    (imp, [\"Age\"]),\n",
    "    remainder=\"passthrough\"\n",
    ")"
   ]
  },
  {
   "cell_type": "code",
   "execution_count": 127,
   "id": "1eb6c5c0",
   "metadata": {
    "ExecuteTime": {
     "end_time": "2021-10-17T18:27:30.246562Z",
     "start_time": "2021-10-17T18:27:30.215320Z"
    }
   },
   "outputs": [],
   "source": [
    "pipe = make_pipeline(col_transformer, clf)"
   ]
  },
  {
   "cell_type": "markdown",
   "id": "d32cad64",
   "metadata": {},
   "source": [
    "### ColumnTransformer & Pipeline"
   ]
  },
  {
   "cell_type": "code",
   "execution_count": 128,
   "id": "19816d99",
   "metadata": {
    "ExecuteTime": {
     "end_time": "2021-10-17T18:27:30.262183Z",
     "start_time": "2021-10-17T18:27:30.246562Z"
    }
   },
   "outputs": [],
   "source": [
    "from sklearn.compose import ColumnTransformer\n",
    "from sklearn.pipeline import Pipeline"
   ]
  },
  {
   "cell_type": "code",
   "execution_count": 129,
   "id": "68f9622d",
   "metadata": {
    "ExecuteTime": {
     "end_time": "2021-10-17T18:27:30.284315Z",
     "start_time": "2021-10-17T18:27:30.262183Z"
    }
   },
   "outputs": [],
   "source": [
    "col_transformer = ColumnTransformer(\n",
    "    [\n",
    "        (\"encoder\", ohe, [\"Embarked\", \"Sex\"]),\n",
    "        (\"imputer\", imp, [\"Age\"])\n",
    "    ],\n",
    "    remainder=\"passthrough\"\n",
    ")"
   ]
  },
  {
   "cell_type": "code",
   "execution_count": 130,
   "id": "ee501ff3",
   "metadata": {
    "ExecuteTime": {
     "end_time": "2021-10-17T18:27:30.315559Z",
     "start_time": "2021-10-17T18:27:30.284315Z"
    }
   },
   "outputs": [],
   "source": [
    "pipe = Pipeline(\n",
    "    [\n",
    "        (\"preprocessor\", col_transformer),\n",
    "        (\"classifier\", clf)\n",
    "    ]\n",
    ")"
   ]
  },
  {
   "cell_type": "markdown",
   "id": "5cf30a17",
   "metadata": {},
   "source": [
    "## Examine the intermediate steps in a Pipeline\n",
    "\n",
    "Q: How do you examine the intermediate steps in a Pipeline?\n",
    "\n",
    "A: By using the \"named_steps\" attribute:\n",
    "\n",
    "pipe.named_steps.STEP_NAME.ATTRIBUTE"
   ]
  },
  {
   "cell_type": "code",
   "execution_count": 131,
   "id": "74e52c28",
   "metadata": {
    "ExecuteTime": {
     "end_time": "2021-10-17T18:27:30.346801Z",
     "start_time": "2021-10-17T18:27:30.315559Z"
    }
   },
   "outputs": [],
   "source": [
    "import os \n",
    "\n",
    "file_input_path = \"titanic_train.csv\"\n",
    "if not os.path.exists(file_input_path):\n",
    "    df_train = pd.read_csv(\"http://bit.ly/kaggletrain\")\n",
    "    df_train.to_csv(file_input_path, header=True, index=False, sep=\"\\t\")\n",
    "else:\n",
    "    df_train = pd.read_csv(file_input_path, header=0, sep=\"\\t\")"
   ]
  },
  {
   "cell_type": "code",
   "execution_count": 132,
   "id": "c73b5072",
   "metadata": {
    "ExecuteTime": {
     "end_time": "2021-10-17T18:27:30.362421Z",
     "start_time": "2021-10-17T18:27:30.346801Z"
    }
   },
   "outputs": [],
   "source": [
    "df_train = df_train[:6][[\"Age\", \"Pclass\", \"Survived\"]]"
   ]
  },
  {
   "cell_type": "code",
   "execution_count": 133,
   "id": "73590dfc",
   "metadata": {
    "ExecuteTime": {
     "end_time": "2021-10-17T18:27:30.400194Z",
     "start_time": "2021-10-17T18:27:30.362421Z"
    }
   },
   "outputs": [
    {
     "data": {
      "text/html": [
       "<div>\n",
       "<style scoped>\n",
       "    .dataframe tbody tr th:only-of-type {\n",
       "        vertical-align: middle;\n",
       "    }\n",
       "\n",
       "    .dataframe tbody tr th {\n",
       "        vertical-align: top;\n",
       "    }\n",
       "\n",
       "    .dataframe thead th {\n",
       "        text-align: right;\n",
       "    }\n",
       "</style>\n",
       "<table border=\"1\" class=\"dataframe\">\n",
       "  <thead>\n",
       "    <tr style=\"text-align: right;\">\n",
       "      <th></th>\n",
       "      <th>Age</th>\n",
       "      <th>Pclass</th>\n",
       "      <th>Survived</th>\n",
       "    </tr>\n",
       "  </thead>\n",
       "  <tbody>\n",
       "    <tr>\n",
       "      <th>0</th>\n",
       "      <td>22.0</td>\n",
       "      <td>3</td>\n",
       "      <td>0</td>\n",
       "    </tr>\n",
       "    <tr>\n",
       "      <th>1</th>\n",
       "      <td>38.0</td>\n",
       "      <td>1</td>\n",
       "      <td>1</td>\n",
       "    </tr>\n",
       "    <tr>\n",
       "      <th>2</th>\n",
       "      <td>26.0</td>\n",
       "      <td>3</td>\n",
       "      <td>1</td>\n",
       "    </tr>\n",
       "    <tr>\n",
       "      <th>3</th>\n",
       "      <td>35.0</td>\n",
       "      <td>1</td>\n",
       "      <td>1</td>\n",
       "    </tr>\n",
       "    <tr>\n",
       "      <th>4</th>\n",
       "      <td>35.0</td>\n",
       "      <td>3</td>\n",
       "      <td>0</td>\n",
       "    </tr>\n",
       "    <tr>\n",
       "      <th>5</th>\n",
       "      <td>NaN</td>\n",
       "      <td>3</td>\n",
       "      <td>0</td>\n",
       "    </tr>\n",
       "  </tbody>\n",
       "</table>\n",
       "</div>"
      ],
      "text/plain": [
       "    Age  Pclass  Survived\n",
       "0  22.0       3         0\n",
       "1  38.0       1         1\n",
       "2  26.0       3         1\n",
       "3  35.0       1         1\n",
       "4  35.0       3         0\n",
       "5   NaN       3         0"
      ]
     },
     "execution_count": 133,
     "metadata": {},
     "output_type": "execute_result"
    }
   ],
   "source": [
    "df_train"
   ]
  },
  {
   "cell_type": "code",
   "execution_count": 134,
   "id": "618bc435",
   "metadata": {
    "ExecuteTime": {
     "end_time": "2021-10-17T18:27:30.436783Z",
     "start_time": "2021-10-17T18:27:30.413464Z"
    }
   },
   "outputs": [],
   "source": [
    "X, y = df_train[[\"Age\", \"Pclass\"]], df_train[\"Survived\"]"
   ]
  },
  {
   "cell_type": "code",
   "execution_count": 135,
   "id": "e8618905",
   "metadata": {
    "ExecuteTime": {
     "end_time": "2021-10-17T18:27:30.461464Z",
     "start_time": "2021-10-17T18:27:30.436783Z"
    }
   },
   "outputs": [
    {
     "data": {
      "text/html": [
       "<div>\n",
       "<style scoped>\n",
       "    .dataframe tbody tr th:only-of-type {\n",
       "        vertical-align: middle;\n",
       "    }\n",
       "\n",
       "    .dataframe tbody tr th {\n",
       "        vertical-align: top;\n",
       "    }\n",
       "\n",
       "    .dataframe thead th {\n",
       "        text-align: right;\n",
       "    }\n",
       "</style>\n",
       "<table border=\"1\" class=\"dataframe\">\n",
       "  <thead>\n",
       "    <tr style=\"text-align: right;\">\n",
       "      <th></th>\n",
       "      <th>Age</th>\n",
       "      <th>Pclass</th>\n",
       "    </tr>\n",
       "  </thead>\n",
       "  <tbody>\n",
       "    <tr>\n",
       "      <th>0</th>\n",
       "      <td>22.0</td>\n",
       "      <td>3</td>\n",
       "    </tr>\n",
       "    <tr>\n",
       "      <th>1</th>\n",
       "      <td>38.0</td>\n",
       "      <td>1</td>\n",
       "    </tr>\n",
       "    <tr>\n",
       "      <th>2</th>\n",
       "      <td>26.0</td>\n",
       "      <td>3</td>\n",
       "    </tr>\n",
       "    <tr>\n",
       "      <th>3</th>\n",
       "      <td>35.0</td>\n",
       "      <td>1</td>\n",
       "    </tr>\n",
       "    <tr>\n",
       "      <th>4</th>\n",
       "      <td>35.0</td>\n",
       "      <td>3</td>\n",
       "    </tr>\n",
       "    <tr>\n",
       "      <th>5</th>\n",
       "      <td>NaN</td>\n",
       "      <td>3</td>\n",
       "    </tr>\n",
       "  </tbody>\n",
       "</table>\n",
       "</div>"
      ],
      "text/plain": [
       "    Age  Pclass\n",
       "0  22.0       3\n",
       "1  38.0       1\n",
       "2  26.0       3\n",
       "3  35.0       1\n",
       "4  35.0       3\n",
       "5   NaN       3"
      ]
     },
     "execution_count": 135,
     "metadata": {},
     "output_type": "execute_result"
    }
   ],
   "source": [
    "X"
   ]
  },
  {
   "cell_type": "code",
   "execution_count": 136,
   "id": "33de45e8",
   "metadata": {
    "ExecuteTime": {
     "end_time": "2021-10-17T18:27:30.494310Z",
     "start_time": "2021-10-17T18:27:30.463483Z"
    }
   },
   "outputs": [
    {
     "data": {
      "text/plain": [
       "0    0\n",
       "1    1\n",
       "2    1\n",
       "3    1\n",
       "4    0\n",
       "5    0\n",
       "Name: Survived, dtype: int64"
      ]
     },
     "execution_count": 136,
     "metadata": {},
     "output_type": "execute_result"
    }
   ],
   "source": [
    "y\n",
    "# if y is a DataFrame, we will see the warning when fitting phase as follows\n",
    "# .../sklearn/utils/validation.py:985: DataConversionWarning: A column-vector y was passed when a 1d array was expected. Please change the shape of y to (n_samples, ), for example using ravel().\n",
    "# y = column_or_1d(y, warn=True)"
   ]
  },
  {
   "cell_type": "code",
   "execution_count": 137,
   "id": "77398dc3",
   "metadata": {
    "ExecuteTime": {
     "end_time": "2021-10-17T18:27:30.509944Z",
     "start_time": "2021-10-17T18:27:30.496330Z"
    }
   },
   "outputs": [],
   "source": [
    "from sklearn.impute import SimpleImputer\n",
    "from sklearn.linear_model import LogisticRegression\n",
    "from sklearn.pipeline import make_pipeline"
   ]
  },
  {
   "cell_type": "code",
   "execution_count": 138,
   "id": "81e37205",
   "metadata": {
    "ExecuteTime": {
     "end_time": "2021-10-17T18:27:30.549740Z",
     "start_time": "2021-10-17T18:27:30.509944Z"
    }
   },
   "outputs": [],
   "source": [
    "pipe = make_pipeline(\n",
    "    SimpleImputer(),\n",
    "    LogisticRegression()\n",
    ")"
   ]
  },
  {
   "cell_type": "code",
   "execution_count": 139,
   "id": "e4995398",
   "metadata": {
    "ExecuteTime": {
     "end_time": "2021-10-17T18:27:30.580776Z",
     "start_time": "2021-10-17T18:27:30.554477Z"
    }
   },
   "outputs": [
    {
     "data": {
      "text/plain": [
       "Pipeline(steps=[('simpleimputer', SimpleImputer()),\n",
       "                ('logisticregression', LogisticRegression())])"
      ]
     },
     "execution_count": 139,
     "metadata": {},
     "output_type": "execute_result"
    }
   ],
   "source": [
    "pipe.fit(X, y)"
   ]
  },
  {
   "cell_type": "markdown",
   "id": "c952e8eb",
   "metadata": {},
   "source": [
    "### Step in pipeline"
   ]
  },
  {
   "cell_type": "code",
   "execution_count": 140,
   "id": "fac5c5a7",
   "metadata": {
    "ExecuteTime": {
     "end_time": "2021-10-17T18:27:30.623313Z",
     "start_time": "2021-10-17T18:27:30.580776Z"
    }
   },
   "outputs": [
    {
     "data": {
      "text/plain": [
       "{'simpleimputer': SimpleImputer(), 'logisticregression': LogisticRegression()}"
      ]
     },
     "execution_count": 140,
     "metadata": {},
     "output_type": "execute_result"
    }
   ],
   "source": [
    "pipe.named_steps"
   ]
  },
  {
   "cell_type": "markdown",
   "id": "2f60ab31",
   "metadata": {},
   "source": [
    "### Values of imputation and model coefficients"
   ]
  },
  {
   "cell_type": "code",
   "execution_count": 141,
   "id": "65814053",
   "metadata": {
    "ExecuteTime": {
     "end_time": "2021-10-17T18:27:30.648947Z",
     "start_time": "2021-10-17T18:27:30.623313Z"
    }
   },
   "outputs": [
    {
     "data": {
      "text/plain": [
       "array([31.2       ,  2.33333333])"
      ]
     },
     "execution_count": 141,
     "metadata": {},
     "output_type": "execute_result"
    }
   ],
   "source": [
    "pipe.named_steps.simpleimputer.statistics_"
   ]
  },
  {
   "cell_type": "code",
   "execution_count": 142,
   "id": "c529b3e0",
   "metadata": {
    "ExecuteTime": {
     "end_time": "2021-10-17T18:27:30.664569Z",
     "start_time": "2021-10-17T18:27:30.648947Z"
    },
    "cell_style": "split"
   },
   "outputs": [
    {
     "data": {
      "text/plain": [
       "[('Age', 31.2), ('Pclass', 2.3333333333333335)]"
      ]
     },
     "execution_count": 142,
     "metadata": {},
     "output_type": "execute_result"
    }
   ],
   "source": [
    "list(zip(X.columns, pipe.named_steps.simpleimputer.statistics_.tolist()))"
   ]
  },
  {
   "cell_type": "code",
   "execution_count": 143,
   "id": "6faed4b2",
   "metadata": {
    "ExecuteTime": {
     "end_time": "2021-10-17T18:27:30.711432Z",
     "start_time": "2021-10-17T18:27:30.680190Z"
    }
   },
   "outputs": [
    {
     "data": {
      "text/plain": [
       "array([[ 0.03232238, -0.83741131]])"
      ]
     },
     "execution_count": 143,
     "metadata": {},
     "output_type": "execute_result"
    }
   ],
   "source": [
    "pipe.named_steps.logisticregression.coef_"
   ]
  },
  {
   "cell_type": "code",
   "execution_count": 144,
   "id": "a4be1bba",
   "metadata": {
    "ExecuteTime": {
     "end_time": "2021-10-17T18:27:30.742675Z",
     "start_time": "2021-10-17T18:27:30.711432Z"
    }
   },
   "outputs": [
    {
     "data": {
      "text/plain": [
       "[('Age', 0.03232237651702789), ('Pclass', -0.8374113057215837)]"
      ]
     },
     "execution_count": 144,
     "metadata": {},
     "output_type": "execute_result"
    }
   ],
   "source": [
    "list(zip(X.columns, pipe.named_steps.logisticregression.coef_[0].tolist()))"
   ]
  },
  {
   "cell_type": "markdown",
   "id": "749218d2",
   "metadata": {},
   "source": [
    "## Use the correct methods for each type of Pipeline\n",
    "\n",
    "Did you know that there are two types of [Pipelines](https://scikit-learn.org/stable/modules/compose.html#pipeline-chaining-estimators)?\n",
    "\n",
    "The Pipeline type determines which methods you can use with it, and what those methods actually do.\n",
    "\n",
    "Additional links: [fit_transform](https://scikit-learn.org/stable/glossary.html#term-fit_transform), [transform](https://scikit-learn.org/stable/glossary.html#term-transform)\n",
    "\n",
    "### Last step of Pipeline is classifier / regressor --> fit & predict\n",
    "+ **pipe.fit()** : All steps before the final one run **fit_transform()**, and then trains based on **fit()**\n",
    "+ **pipe.predict()** : All steps before the final one run **transform()**, and then runs **predict()**\n",
    "\n",
    "### Last step of Pipeline is a transformer --> fit_transform & transform\n",
    "+ **pipe.fit_transform()** : All steps run **fit_transorform()**\n",
    "+ **pipe.transform()** : All steps run **transform()**"
   ]
  },
  {
   "cell_type": "markdown",
   "id": "7696c6ef",
   "metadata": {},
   "source": [
    "## Save a model of Pipeline using joblib\n",
    "\n",
    "Want to [save a model](https://scikit-learn.org/stable/modules/model_persistence.html) (or pipeline) for later use? Use joblib!\n",
    "\n",
    "Warning: You must load it into an identical environment, and only load objects you trust 😇\n",
    "\n",
    "Additional links: [pickle](https://docs.python.org/3/library/pickle.html)"
   ]
  },
  {
   "cell_type": "code",
   "execution_count": 145,
   "id": "472fec92",
   "metadata": {
    "ExecuteTime": {
     "end_time": "2021-10-17T18:27:30.775429Z",
     "start_time": "2021-10-17T18:27:30.759808Z"
    }
   },
   "outputs": [],
   "source": [
    "import os \n",
    "\n",
    "file_input_path = \"titanic_train.csv\"\n",
    "if not os.path.exists(file_input_path):\n",
    "    df_train = pd.read_csv(\"http://bit.ly/kaggletrain\")\n",
    "    df_train.to_csv(file_input_path, header=True, index=False, sep=\"\\t\")\n",
    "else:\n",
    "    df_train = pd.read_csv(file_input_path, header=0, sep=\"\\t\")"
   ]
  },
  {
   "cell_type": "code",
   "execution_count": 146,
   "id": "94a858b4",
   "metadata": {
    "ExecuteTime": {
     "end_time": "2021-10-17T18:27:30.791051Z",
     "start_time": "2021-10-17T18:27:30.775429Z"
    }
   },
   "outputs": [],
   "source": [
    "file_input_path = \"titanic_test.csv\"\n",
    "if not os.path.exists(file_input_path):\n",
    "    df_test = pd.read_csv(\"http://bit.ly/kaggletest\")\n",
    "    df_test.to_csv(file_input_path, header=True, index=False, sep=\"\\t\")\n",
    "else:\n",
    "    df_test = pd.read_csv(file_input_path, header=0, sep=\"\\t\")"
   ]
  },
  {
   "cell_type": "code",
   "execution_count": 147,
   "id": "e750cf0b",
   "metadata": {
    "ExecuteTime": {
     "end_time": "2021-10-17T18:27:30.806673Z",
     "start_time": "2021-10-17T18:27:30.791051Z"
    }
   },
   "outputs": [],
   "source": [
    "cols = ['Embarked', 'Sex']"
   ]
  },
  {
   "cell_type": "code",
   "execution_count": 148,
   "id": "7dd6cd34",
   "metadata": {
    "ExecuteTime": {
     "end_time": "2021-10-17T18:27:30.875172Z",
     "start_time": "2021-10-17T18:27:30.806673Z"
    }
   },
   "outputs": [],
   "source": [
    "X, y = df_train[cols], df_train[\"Survived\"]"
   ]
  },
  {
   "cell_type": "code",
   "execution_count": 149,
   "id": "09a19f69",
   "metadata": {
    "ExecuteTime": {
     "end_time": "2021-10-17T18:27:30.890792Z",
     "start_time": "2021-10-17T18:27:30.875172Z"
    }
   },
   "outputs": [],
   "source": [
    "from sklearn.preprocessing import OneHotEncoder\n",
    "from sklearn.linear_model import LogisticRegression\n",
    "from sklearn.pipeline import make_pipeline"
   ]
  },
  {
   "cell_type": "code",
   "execution_count": 150,
   "id": "22876c91",
   "metadata": {
    "ExecuteTime": {
     "end_time": "2021-10-17T18:27:30.937662Z",
     "start_time": "2021-10-17T18:27:30.890792Z"
    }
   },
   "outputs": [],
   "source": [
    "pipe = make_pipeline(\n",
    "    OneHotEncoder(),\n",
    "    LogisticRegression(solver=\"liblinear\", random_state=1)\n",
    ")"
   ]
  },
  {
   "cell_type": "code",
   "execution_count": 151,
   "id": "9807c9de",
   "metadata": {
    "ExecuteTime": {
     "end_time": "2021-10-17T18:27:30.953278Z",
     "start_time": "2021-10-17T18:27:30.937662Z"
    }
   },
   "outputs": [
    {
     "data": {
      "text/plain": [
       "Pipeline(steps=[('onehotencoder', OneHotEncoder()),\n",
       "                ('logisticregression',\n",
       "                 LogisticRegression(random_state=1, solver='liblinear'))])"
      ]
     },
     "execution_count": 151,
     "metadata": {},
     "output_type": "execute_result"
    }
   ],
   "source": [
    "pipe.fit(X, y)"
   ]
  },
  {
   "cell_type": "code",
   "execution_count": 152,
   "id": "70727ec2",
   "metadata": {
    "ExecuteTime": {
     "end_time": "2021-10-17T18:27:30.975409Z",
     "start_time": "2021-10-17T18:27:30.959784Z"
    }
   },
   "outputs": [
    {
     "data": {
      "text/plain": [
       "array([0, 1, 0, 0, 1, 0, 1, 0, 1, 0], dtype=int64)"
      ]
     },
     "execution_count": 152,
     "metadata": {},
     "output_type": "execute_result"
    }
   ],
   "source": [
    "pipe.predict(df_test[cols][:10])"
   ]
  },
  {
   "cell_type": "markdown",
   "id": "032c170e",
   "metadata": {},
   "source": [
    "### Save a model pipeline"
   ]
  },
  {
   "cell_type": "code",
   "execution_count": 153,
   "id": "764292f2",
   "metadata": {
    "ExecuteTime": {
     "end_time": "2021-10-17T18:27:31.022273Z",
     "start_time": "2021-10-17T18:27:30.975409Z"
    }
   },
   "outputs": [
    {
     "data": {
      "text/plain": [
       "['pipe4-5.joblib']"
      ]
     },
     "execution_count": 153,
     "metadata": {},
     "output_type": "execute_result"
    }
   ],
   "source": [
    "import joblib\n",
    "model_path = \"pipe4-5.joblib\"\n",
    "joblib.dump(pipe, model_path)"
   ]
  },
  {
   "cell_type": "markdown",
   "id": "f0dcc457",
   "metadata": {},
   "source": [
    "### Load model pipeline"
   ]
  },
  {
   "cell_type": "code",
   "execution_count": 154,
   "id": "891d4a73",
   "metadata": {
    "ExecuteTime": {
     "end_time": "2021-10-17T18:27:31.053516Z",
     "start_time": "2021-10-17T18:27:31.022273Z"
    }
   },
   "outputs": [],
   "source": [
    "loaded_pipe = joblib.load(model_path)"
   ]
  },
  {
   "cell_type": "code",
   "execution_count": 155,
   "id": "be90d9b0",
   "metadata": {
    "ExecuteTime": {
     "end_time": "2021-10-17T18:27:31.071505Z",
     "start_time": "2021-10-17T18:27:31.053516Z"
    }
   },
   "outputs": [
    {
     "data": {
      "text/plain": [
       "array([0, 1, 0, 0, 1, 0, 1, 0, 1, 0], dtype=int64)"
      ]
     },
     "execution_count": 155,
     "metadata": {},
     "output_type": "execute_result"
    }
   ],
   "source": [
    "loaded_pipe.predict(df_test[cols][:10])"
   ]
  },
  {
   "cell_type": "markdown",
   "id": "0781fcef",
   "metadata": {},
   "source": [
    "### Save and load based on pickle\n"
   ]
  },
  {
   "cell_type": "code",
   "execution_count": 156,
   "id": "e6892b3f",
   "metadata": {
    "ExecuteTime": {
     "end_time": "2021-10-17T18:27:31.115132Z",
     "start_time": "2021-10-17T18:27:31.073524Z"
    }
   },
   "outputs": [],
   "source": [
    "model_pkl_path = \"pipe4-5.pkl\"\n",
    "\n",
    "import pickle\n",
    "with open(model_pkl_path, \"wb\") as f:\n",
    "    pickle.dump(pipe, f)\n",
    "\n",
    "# Load model\n",
    "with open(model_pkl_path, \"rb\") as f:\n",
    "    loaded_pipe_pkl = pickle.load(f)"
   ]
  },
  {
   "cell_type": "code",
   "execution_count": 157,
   "id": "57f31c4b",
   "metadata": {
    "ExecuteTime": {
     "end_time": "2021-10-17T18:27:31.130303Z",
     "start_time": "2021-10-17T18:27:31.117154Z"
    }
   },
   "outputs": [
    {
     "data": {
      "text/plain": [
       "array([0, 1, 0, 0, 1, 0, 1, 0, 1, 0], dtype=int64)"
      ]
     },
     "execution_count": 157,
     "metadata": {},
     "output_type": "execute_result"
    }
   ],
   "source": [
    "loaded_pipe_pkl.predict(df_test[cols][:10])"
   ]
  },
  {
   "cell_type": "markdown",
   "id": "419dbced",
   "metadata": {},
   "source": [
    "## Four ways to examine the steps of a Pipeline\n",
    "\n",
    "There are FOUR ways to examine the steps of a [Pipeline](https://scikit-learn.org/stable/modules/compose.html#pipeline-chaining-estimators)!\n",
    "\n",
    "(I prefer method 1 since you can autocomplete the step & parameter names... but method 4 is SO short!)"
   ]
  },
  {
   "cell_type": "code",
   "execution_count": 158,
   "id": "e2fddff2",
   "metadata": {
    "ExecuteTime": {
     "end_time": "2021-10-17T18:27:31.180133Z",
     "start_time": "2021-10-17T18:27:31.138312Z"
    }
   },
   "outputs": [],
   "source": [
    "from sklearn.preprocessing import OneHotEncoder\n",
    "from sklearn.linear_model import LogisticRegression\n",
    "from sklearn.pipeline import Pipeline"
   ]
  },
  {
   "cell_type": "code",
   "execution_count": 159,
   "id": "383ae292",
   "metadata": {
    "ExecuteTime": {
     "end_time": "2021-10-17T18:27:31.207054Z",
     "start_time": "2021-10-17T18:27:31.190183Z"
    }
   },
   "outputs": [],
   "source": [
    "pipe = Pipeline(\n",
    "    steps=[\n",
    "        (\"ohe\", OneHotEncoder()),\n",
    "        (\"clf\", LogisticRegression())\n",
    "    ]\n",
    ")"
   ]
  },
  {
   "cell_type": "code",
   "execution_count": 160,
   "id": "929105d5",
   "metadata": {
    "ExecuteTime": {
     "end_time": "2021-10-17T18:27:31.252015Z",
     "start_time": "2021-10-17T18:27:31.209078Z"
    }
   },
   "outputs": [
    {
     "data": {
      "text/plain": [
       "Pipeline(steps=[('ohe', OneHotEncoder()), ('clf', LogisticRegression())])"
      ]
     },
     "execution_count": 160,
     "metadata": {},
     "output_type": "execute_result"
    }
   ],
   "source": [
    "pipe.fit(X, y)"
   ]
  },
  {
   "cell_type": "markdown",
   "id": "99108ea7",
   "metadata": {},
   "source": [
    "### Four ways to illustrate the coefficients"
   ]
  },
  {
   "cell_type": "code",
   "execution_count": 161,
   "id": "7c070bec",
   "metadata": {
    "ExecuteTime": {
     "end_time": "2021-10-17T18:27:31.270130Z",
     "start_time": "2021-10-17T18:27:31.254037Z"
    }
   },
   "outputs": [
    {
     "data": {
      "text/plain": [
       "array([[ 0.50148245, -0.49193018, -0.35190112,  0.3419172 ,  1.24440439,\n",
       "        -1.24483605]])"
      ]
     },
     "execution_count": 161,
     "metadata": {},
     "output_type": "execute_result"
    }
   ],
   "source": [
    "pipe.named_steps.clf.coef_"
   ]
  },
  {
   "cell_type": "code",
   "execution_count": 162,
   "id": "27ef977e",
   "metadata": {
    "ExecuteTime": {
     "end_time": "2021-10-17T18:27:31.290954Z",
     "start_time": "2021-10-17T18:27:31.270130Z"
    }
   },
   "outputs": [
    {
     "data": {
      "text/plain": [
       "array([[ 0.50148245, -0.49193018, -0.35190112,  0.3419172 ,  1.24440439,\n",
       "        -1.24483605]])"
      ]
     },
     "execution_count": 162,
     "metadata": {},
     "output_type": "execute_result"
    }
   ],
   "source": [
    "pipe.named_steps[\"clf\"].coef_"
   ]
  },
  {
   "cell_type": "code",
   "execution_count": 163,
   "id": "5f3601f3",
   "metadata": {
    "ExecuteTime": {
     "end_time": "2021-10-17T18:27:31.309624Z",
     "start_time": "2021-10-17T18:27:31.293579Z"
    }
   },
   "outputs": [
    {
     "data": {
      "text/plain": [
       "array([[ 0.50148245, -0.49193018, -0.35190112,  0.3419172 ,  1.24440439,\n",
       "        -1.24483605]])"
      ]
     },
     "execution_count": 163,
     "metadata": {},
     "output_type": "execute_result"
    }
   ],
   "source": [
    "pipe[\"clf\"].coef_"
   ]
  },
  {
   "cell_type": "code",
   "execution_count": 164,
   "id": "ddb3e0b8",
   "metadata": {
    "ExecuteTime": {
     "end_time": "2021-10-17T18:27:31.350549Z",
     "start_time": "2021-10-17T18:27:31.319363Z"
    }
   },
   "outputs": [
    {
     "data": {
      "text/plain": [
       "array([[ 0.50148245, -0.49193018, -0.35190112,  0.3419172 ,  1.24440439,\n",
       "        -1.24483605]])"
      ]
     },
     "execution_count": 164,
     "metadata": {},
     "output_type": "execute_result"
    }
   ],
   "source": [
    "pipe[1].coef_"
   ]
  },
  {
   "cell_type": "markdown",
   "id": "2e1d24e4",
   "metadata": {},
   "source": [
    "### Name of steps"
   ]
  },
  {
   "cell_type": "code",
   "execution_count": 165,
   "id": "63fb758c",
   "metadata": {
    "ExecuteTime": {
     "end_time": "2021-10-17T18:27:31.386528Z",
     "start_time": "2021-10-17T18:27:31.374097Z"
    }
   },
   "outputs": [
    {
     "data": {
      "text/plain": [
       "sklearn.utils.Bunch"
      ]
     },
     "execution_count": 165,
     "metadata": {},
     "output_type": "execute_result"
    }
   ],
   "source": [
    "type(pipe.named_steps)"
   ]
  },
  {
   "cell_type": "code",
   "execution_count": 166,
   "id": "61eb4e9d",
   "metadata": {
    "ExecuteTime": {
     "end_time": "2021-10-17T18:27:31.425388Z",
     "start_time": "2021-10-17T18:27:31.401761Z"
    }
   },
   "outputs": [
    {
     "data": {
      "text/plain": [
       "['ohe', 'clf']"
      ]
     },
     "execution_count": 166,
     "metadata": {},
     "output_type": "execute_result"
    }
   ],
   "source": [
    "list(pipe.named_steps.keys())"
   ]
  },
  {
   "cell_type": "markdown",
   "id": "13e979f2",
   "metadata": {},
   "source": [
    "## Add feature selection to Pipeline\n",
    "\n",
    "It's simple to add [feature selection](https://scikit-learn.org/stable/modules/feature_selection.html) to a Pipeline:\n",
    "+ Use [SelectPercentile](https://scikit-learn.org/stable/modules/generated/sklearn.feature_selection.SelectPercentile.html) to keep the highest scoring features\n",
    "+ Add feature selection after preprocessing but before model building\n",
    "\n",
    "P.S. Make sure to tune the percentile value!\n",
    "\n",
    "Additional links: [chi2](https://scikit-learn.org/stable/modules/generated/sklearn.feature_selection.chi2.html)"
   ]
  },
  {
   "cell_type": "code",
   "execution_count": 167,
   "id": "daab3dd3",
   "metadata": {
    "ExecuteTime": {
     "end_time": "2021-10-17T18:27:31.460096Z",
     "start_time": "2021-10-17T18:27:31.427396Z"
    }
   },
   "outputs": [],
   "source": [
    "import os \n",
    "\n",
    "file_input_path = \"titanic_train.csv\"\n",
    "if not os.path.exists(file_input_path):\n",
    "    df_train = pd.read_csv(\"http://bit.ly/kaggletrain\")\n",
    "    df_train.to_csv(file_input_path, header=True, index=False, sep=\"\\t\")\n",
    "else:\n",
    "    df_train = pd.read_csv(file_input_path, header=0, sep=\"\\t\")"
   ]
  },
  {
   "cell_type": "code",
   "execution_count": 168,
   "id": "b67ab205",
   "metadata": {
    "ExecuteTime": {
     "end_time": "2021-10-17T18:27:31.488535Z",
     "start_time": "2021-10-17T18:27:31.462120Z"
    }
   },
   "outputs": [],
   "source": [
    "X = df['Name']\n",
    "y = df['Survived']"
   ]
  },
  {
   "cell_type": "code",
   "execution_count": 169,
   "id": "10f30bff",
   "metadata": {
    "ExecuteTime": {
     "end_time": "2021-10-17T18:27:31.544052Z",
     "start_time": "2021-10-17T18:27:31.494828Z"
    }
   },
   "outputs": [],
   "source": [
    "from sklearn.pipeline import make_pipeline\n",
    "from sklearn.feature_extraction.text import CountVectorizer\n",
    "from sklearn.linear_model import LogisticRegression\n",
    "from sklearn.model_selection import cross_val_score"
   ]
  },
  {
   "cell_type": "markdown",
   "id": "f226e283",
   "metadata": {},
   "source": [
    "### Not using Feature Selection"
   ]
  },
  {
   "cell_type": "code",
   "execution_count": 170,
   "id": "614319dc",
   "metadata": {
    "ExecuteTime": {
     "end_time": "2021-10-17T18:27:32.096086Z",
     "start_time": "2021-10-17T18:27:32.075415Z"
    }
   },
   "outputs": [],
   "source": [
    "pipe = make_pipeline(\n",
    "    CountVectorizer(),\n",
    "    LogisticRegression()\n",
    ")"
   ]
  },
  {
   "cell_type": "code",
   "execution_count": 171,
   "id": "b4798d10",
   "metadata": {
    "ExecuteTime": {
     "end_time": "2021-10-17T18:27:32.236646Z",
     "start_time": "2021-10-17T18:27:32.097594Z"
    }
   },
   "outputs": [
    {
     "data": {
      "text/plain": [
       "0.7957190383528967"
      ]
     },
     "execution_count": 171,
     "metadata": {},
     "output_type": "execute_result"
    }
   ],
   "source": [
    "cross_val_score(pipe, X, y, scoring='accuracy').mean()"
   ]
  },
  {
   "cell_type": "markdown",
   "id": "a6f4e1e5",
   "metadata": {},
   "source": [
    "### Using Feature Selection"
   ]
  },
  {
   "cell_type": "code",
   "execution_count": 172,
   "id": "c58af82c",
   "metadata": {
    "ExecuteTime": {
     "end_time": "2021-10-17T18:27:32.722436Z",
     "start_time": "2021-10-17T18:27:32.684681Z"
    }
   },
   "outputs": [],
   "source": [
    "from sklearn.feature_selection import chi2, SelectPercentile"
   ]
  },
  {
   "cell_type": "code",
   "execution_count": 173,
   "id": "8f62610d",
   "metadata": {
    "ExecuteTime": {
     "end_time": "2021-10-17T18:27:32.753648Z",
     "start_time": "2021-10-17T18:27:32.738028Z"
    }
   },
   "outputs": [],
   "source": [
    "pipe = make_pipeline(\n",
    "    CountVectorizer(),\n",
    "    SelectPercentile(score_func=chi2, percentile=50),\n",
    "    LogisticRegression()\n",
    ")"
   ]
  },
  {
   "cell_type": "code",
   "execution_count": 174,
   "id": "67bc6c44",
   "metadata": {
    "ExecuteTime": {
     "end_time": "2021-10-17T18:27:32.938568Z",
     "start_time": "2021-10-17T18:27:32.753648Z"
    }
   },
   "outputs": [
    {
     "data": {
      "text/plain": [
       "0.8147824995292197"
      ]
     },
     "execution_count": 174,
     "metadata": {},
     "output_type": "execute_result"
    }
   ],
   "source": [
    "cross_val_score(pipe, X, y, scoring=\"accuracy\").mean()"
   ]
  },
  {
   "cell_type": "markdown",
   "id": "0caacecd",
   "metadata": {},
   "source": [
    "## Create an interactive diagram of Pipeline\n",
    "\n",
    "New in version 0.23: Create [interactive diagrams](https://scikit-learn.org/stable/auto_examples/release_highlights/plot_release_highlights_0_23_0.html#rich-visual-representation-of-estimators) of Pipelines (and other estimators) in Jupyter!\n",
    "\n",
    "Click on any element to see more details. You can even export the diagram to an HTML file!\n",
    "\n",
    "Additional links: [set_config](https://scikit-learn.org/stable/modules/generated/sklearn.set_config.html)"
   ]
  },
  {
   "cell_type": "markdown",
   "id": "2c6c81f4",
   "metadata": {},
   "source": [
    "### Sample Codes 1"
   ]
  },
  {
   "cell_type": "code",
   "execution_count": 175,
   "id": "7b0f263a",
   "metadata": {
    "ExecuteTime": {
     "end_time": "2021-10-17T18:27:33.979158Z",
     "start_time": "2021-10-17T18:27:33.963533Z"
    }
   },
   "outputs": [],
   "source": [
    "from sklearn import set_config\n",
    "set_config(display='diagram')"
   ]
  },
  {
   "cell_type": "code",
   "execution_count": 176,
   "id": "c2d0c8b1",
   "metadata": {
    "ExecuteTime": {
     "end_time": "2021-10-17T18:27:34.026051Z",
     "start_time": "2021-10-17T18:27:33.994779Z"
    }
   },
   "outputs": [],
   "source": [
    "from sklearn.pipeline import make_pipeline\n",
    "from sklearn.preprocessing import OneHotEncoder, StandardScaler\n",
    "from sklearn.impute import SimpleImputer\n",
    "from sklearn.compose import make_column_transformer\n",
    "from sklearn.linear_model import LogisticRegression"
   ]
  },
  {
   "cell_type": "code",
   "execution_count": 177,
   "id": "1f42e8bd",
   "metadata": {
    "ExecuteTime": {
     "end_time": "2021-10-17T18:27:34.110669Z",
     "start_time": "2021-10-17T18:27:34.026051Z"
    }
   },
   "outputs": [
    {
     "data": {
      "text/html": [
       "<style>#sk-0d420da3-0238-4c18-b043-6f63af500995 {color: black;background-color: white;}#sk-0d420da3-0238-4c18-b043-6f63af500995 pre{padding: 0;}#sk-0d420da3-0238-4c18-b043-6f63af500995 div.sk-toggleable {background-color: white;}#sk-0d420da3-0238-4c18-b043-6f63af500995 label.sk-toggleable__label {cursor: pointer;display: block;width: 100%;margin-bottom: 0;padding: 0.3em;box-sizing: border-box;text-align: center;}#sk-0d420da3-0238-4c18-b043-6f63af500995 div.sk-toggleable__content {max-height: 0;max-width: 0;overflow: hidden;text-align: left;background-color: #f0f8ff;}#sk-0d420da3-0238-4c18-b043-6f63af500995 div.sk-toggleable__content pre {margin: 0.2em;color: black;border-radius: 0.25em;background-color: #f0f8ff;}#sk-0d420da3-0238-4c18-b043-6f63af500995 input.sk-toggleable__control:checked~div.sk-toggleable__content {max-height: 200px;max-width: 100%;overflow: auto;}#sk-0d420da3-0238-4c18-b043-6f63af500995 div.sk-estimator input.sk-toggleable__control:checked~label.sk-toggleable__label {background-color: #d4ebff;}#sk-0d420da3-0238-4c18-b043-6f63af500995 div.sk-label input.sk-toggleable__control:checked~label.sk-toggleable__label {background-color: #d4ebff;}#sk-0d420da3-0238-4c18-b043-6f63af500995 input.sk-hidden--visually {border: 0;clip: rect(1px 1px 1px 1px);clip: rect(1px, 1px, 1px, 1px);height: 1px;margin: -1px;overflow: hidden;padding: 0;position: absolute;width: 1px;}#sk-0d420da3-0238-4c18-b043-6f63af500995 div.sk-estimator {font-family: monospace;background-color: #f0f8ff;border: 1px dotted black;border-radius: 0.25em;box-sizing: border-box;margin-bottom: 0.5em;}#sk-0d420da3-0238-4c18-b043-6f63af500995 div.sk-estimator:hover {background-color: #d4ebff;}#sk-0d420da3-0238-4c18-b043-6f63af500995 div.sk-parallel-item::after {content: \"\";width: 100%;border-bottom: 1px solid gray;flex-grow: 1;}#sk-0d420da3-0238-4c18-b043-6f63af500995 div.sk-label:hover label.sk-toggleable__label {background-color: #d4ebff;}#sk-0d420da3-0238-4c18-b043-6f63af500995 div.sk-serial::before {content: \"\";position: absolute;border-left: 1px solid gray;box-sizing: border-box;top: 2em;bottom: 0;left: 50%;}#sk-0d420da3-0238-4c18-b043-6f63af500995 div.sk-serial {display: flex;flex-direction: column;align-items: center;background-color: white;padding-right: 0.2em;padding-left: 0.2em;}#sk-0d420da3-0238-4c18-b043-6f63af500995 div.sk-item {z-index: 1;}#sk-0d420da3-0238-4c18-b043-6f63af500995 div.sk-parallel {display: flex;align-items: stretch;justify-content: center;background-color: white;}#sk-0d420da3-0238-4c18-b043-6f63af500995 div.sk-parallel::before {content: \"\";position: absolute;border-left: 1px solid gray;box-sizing: border-box;top: 2em;bottom: 0;left: 50%;}#sk-0d420da3-0238-4c18-b043-6f63af500995 div.sk-parallel-item {display: flex;flex-direction: column;position: relative;background-color: white;}#sk-0d420da3-0238-4c18-b043-6f63af500995 div.sk-parallel-item:first-child::after {align-self: flex-end;width: 50%;}#sk-0d420da3-0238-4c18-b043-6f63af500995 div.sk-parallel-item:last-child::after {align-self: flex-start;width: 50%;}#sk-0d420da3-0238-4c18-b043-6f63af500995 div.sk-parallel-item:only-child::after {width: 0;}#sk-0d420da3-0238-4c18-b043-6f63af500995 div.sk-dashed-wrapped {border: 1px dashed gray;margin: 0 0.4em 0.5em 0.4em;box-sizing: border-box;padding-bottom: 0.4em;background-color: white;position: relative;}#sk-0d420da3-0238-4c18-b043-6f63af500995 div.sk-label label {font-family: monospace;font-weight: bold;background-color: white;display: inline-block;line-height: 1.2em;}#sk-0d420da3-0238-4c18-b043-6f63af500995 div.sk-label-container {position: relative;z-index: 2;text-align: center;}#sk-0d420da3-0238-4c18-b043-6f63af500995 div.sk-container {display: inline-block;position: relative;}</style><div id=\"sk-0d420da3-0238-4c18-b043-6f63af500995\" class\"sk-top-container\"><div class=\"sk-container\"><div class=\"sk-item sk-dashed-wrapped\"><div class=\"sk-label-container\"><div class=\"sk-label sk-toggleable\"><input class=\"sk-toggleable__control sk-hidden--visually\" id=\"56775225-c641-44c6-84d1-06c3bd230c27\" type=\"checkbox\" ><label class=\"sk-toggleable__label\" for=\"56775225-c641-44c6-84d1-06c3bd230c27\">Pipeline</label><div class=\"sk-toggleable__content\"><pre>Pipeline(steps=[('columntransformer',\n",
       "                 ColumnTransformer(transformers=[('pipeline-1',\n",
       "                                                  Pipeline(steps=[('simpleimputer',\n",
       "                                                                   SimpleImputer(strategy='median')),\n",
       "                                                                  ('standardscaler',\n",
       "                                                                   StandardScaler())]),\n",
       "                                                  ('feat1', 'feat3')),\n",
       "                                                 ('pipeline-2',\n",
       "                                                  Pipeline(steps=[('simpleimputer',\n",
       "                                                                   SimpleImputer(fill_value='missing',\n",
       "                                                                                 strategy='constant')),\n",
       "                                                                  ('onehotencoder',\n",
       "                                                                   OneHotEncoder(handle_unknown='ignore'))]),\n",
       "                                                  ('feat0', 'feat2'))])),\n",
       "                ('logisticregression', LogisticRegression())])</pre></div></div></div><div class=\"sk-serial\"><div class=\"sk-item sk-dashed-wrapped\"><div class=\"sk-label-container\"><div class=\"sk-label sk-toggleable\"><input class=\"sk-toggleable__control sk-hidden--visually\" id=\"58e44bad-d7eb-42cb-89eb-fea6511ce46c\" type=\"checkbox\" ><label class=\"sk-toggleable__label\" for=\"58e44bad-d7eb-42cb-89eb-fea6511ce46c\">columntransformer: ColumnTransformer</label><div class=\"sk-toggleable__content\"><pre>ColumnTransformer(transformers=[('pipeline-1',\n",
       "                                 Pipeline(steps=[('simpleimputer',\n",
       "                                                  SimpleImputer(strategy='median')),\n",
       "                                                 ('standardscaler',\n",
       "                                                  StandardScaler())]),\n",
       "                                 ('feat1', 'feat3')),\n",
       "                                ('pipeline-2',\n",
       "                                 Pipeline(steps=[('simpleimputer',\n",
       "                                                  SimpleImputer(fill_value='missing',\n",
       "                                                                strategy='constant')),\n",
       "                                                 ('onehotencoder',\n",
       "                                                  OneHotEncoder(handle_unknown='ignore'))]),\n",
       "                                 ('feat0', 'feat2'))])</pre></div></div></div><div class=\"sk-parallel\"><div class=\"sk-parallel-item\"><div class=\"sk-item\"><div class=\"sk-label-container\"><div class=\"sk-label sk-toggleable\"><input class=\"sk-toggleable__control sk-hidden--visually\" id=\"8eeb892d-f41b-4e3f-b59b-002b4d8f6fe4\" type=\"checkbox\" ><label class=\"sk-toggleable__label\" for=\"8eeb892d-f41b-4e3f-b59b-002b4d8f6fe4\">pipeline-1</label><div class=\"sk-toggleable__content\"><pre>('feat1', 'feat3')</pre></div></div></div><div class=\"sk-serial\"><div class=\"sk-item\"><div class=\"sk-serial\"><div class=\"sk-item\"><div class=\"sk-estimator sk-toggleable\"><input class=\"sk-toggleable__control sk-hidden--visually\" id=\"7e7069d1-fb0b-4084-91ab-5c55f99e3db2\" type=\"checkbox\" ><label class=\"sk-toggleable__label\" for=\"7e7069d1-fb0b-4084-91ab-5c55f99e3db2\">SimpleImputer</label><div class=\"sk-toggleable__content\"><pre>SimpleImputer(strategy='median')</pre></div></div></div><div class=\"sk-item\"><div class=\"sk-estimator sk-toggleable\"><input class=\"sk-toggleable__control sk-hidden--visually\" id=\"09cef2e5-8d7b-4f02-8b55-58aeaaab7d21\" type=\"checkbox\" ><label class=\"sk-toggleable__label\" for=\"09cef2e5-8d7b-4f02-8b55-58aeaaab7d21\">StandardScaler</label><div class=\"sk-toggleable__content\"><pre>StandardScaler()</pre></div></div></div></div></div></div></div></div><div class=\"sk-parallel-item\"><div class=\"sk-item\"><div class=\"sk-label-container\"><div class=\"sk-label sk-toggleable\"><input class=\"sk-toggleable__control sk-hidden--visually\" id=\"b07ee508-ae88-40e3-8a13-ed34cf512ab9\" type=\"checkbox\" ><label class=\"sk-toggleable__label\" for=\"b07ee508-ae88-40e3-8a13-ed34cf512ab9\">pipeline-2</label><div class=\"sk-toggleable__content\"><pre>('feat0', 'feat2')</pre></div></div></div><div class=\"sk-serial\"><div class=\"sk-item\"><div class=\"sk-serial\"><div class=\"sk-item\"><div class=\"sk-estimator sk-toggleable\"><input class=\"sk-toggleable__control sk-hidden--visually\" id=\"01eff4b8-bd35-4407-86fc-fb8767c2882c\" type=\"checkbox\" ><label class=\"sk-toggleable__label\" for=\"01eff4b8-bd35-4407-86fc-fb8767c2882c\">SimpleImputer</label><div class=\"sk-toggleable__content\"><pre>SimpleImputer(fill_value='missing', strategy='constant')</pre></div></div></div><div class=\"sk-item\"><div class=\"sk-estimator sk-toggleable\"><input class=\"sk-toggleable__control sk-hidden--visually\" id=\"4d85c734-c8d4-4338-9d2f-e6ebcc77c089\" type=\"checkbox\" ><label class=\"sk-toggleable__label\" for=\"4d85c734-c8d4-4338-9d2f-e6ebcc77c089\">OneHotEncoder</label><div class=\"sk-toggleable__content\"><pre>OneHotEncoder(handle_unknown='ignore')</pre></div></div></div></div></div></div></div></div></div></div><div class=\"sk-item\"><div class=\"sk-estimator sk-toggleable\"><input class=\"sk-toggleable__control sk-hidden--visually\" id=\"243f3a6d-19a7-4f24-bc4f-33c0d84705b7\" type=\"checkbox\" ><label class=\"sk-toggleable__label\" for=\"243f3a6d-19a7-4f24-bc4f-33c0d84705b7\">LogisticRegression</label><div class=\"sk-toggleable__content\"><pre>LogisticRegression()</pre></div></div></div></div></div></div></div>"
      ],
      "text/plain": [
       "Pipeline(steps=[('columntransformer',\n",
       "                 ColumnTransformer(transformers=[('pipeline-1',\n",
       "                                                  Pipeline(steps=[('simpleimputer',\n",
       "                                                                   SimpleImputer(strategy='median')),\n",
       "                                                                  ('standardscaler',\n",
       "                                                                   StandardScaler())]),\n",
       "                                                  ('feat1', 'feat3')),\n",
       "                                                 ('pipeline-2',\n",
       "                                                  Pipeline(steps=[('simpleimputer',\n",
       "                                                                   SimpleImputer(fill_value='missing',\n",
       "                                                                                 strategy='constant')),\n",
       "                                                                  ('onehotencoder',\n",
       "                                                                   OneHotEncoder(handle_unknown='ignore'))]),\n",
       "                                                  ('feat0', 'feat2'))])),\n",
       "                ('logisticregression', LogisticRegression())])"
      ]
     },
     "execution_count": 177,
     "metadata": {},
     "output_type": "execute_result"
    }
   ],
   "source": [
    "num_proc = make_pipeline(SimpleImputer(strategy='median'), StandardScaler())\n",
    "\n",
    "cat_proc = make_pipeline(\n",
    "    SimpleImputer(strategy='constant', fill_value='missing'),\n",
    "    OneHotEncoder(handle_unknown='ignore'))\n",
    "\n",
    "preprocessor = make_column_transformer((num_proc, ('feat1', 'feat3')),\n",
    "                                       (cat_proc, ('feat0', 'feat2')))\n",
    "\n",
    "clf = make_pipeline(preprocessor, LogisticRegression())\n",
    "clf"
   ]
  },
  {
   "cell_type": "markdown",
   "id": "9cd0f194",
   "metadata": {},
   "source": [
    "### Sample Codes 2"
   ]
  },
  {
   "cell_type": "code",
   "execution_count": 178,
   "id": "a184364a",
   "metadata": {
    "ExecuteTime": {
     "end_time": "2021-10-17T18:27:34.727975Z",
     "start_time": "2021-10-17T18:27:34.696738Z"
    }
   },
   "outputs": [],
   "source": [
    "from sklearn.impute import SimpleImputer\n",
    "from sklearn.preprocessing import OneHotEncoder\n",
    "from sklearn.feature_extraction.text import CountVectorizer\n",
    "from sklearn.feature_selection import SelectPercentile, chi2\n",
    "from sklearn.linear_model import LogisticRegression\n",
    "from sklearn.compose import make_column_transformer\n",
    "from sklearn.pipeline import make_pipeline"
   ]
  },
  {
   "cell_type": "code",
   "execution_count": 179,
   "id": "b1d690f3",
   "metadata": {
    "ExecuteTime": {
     "end_time": "2021-10-17T18:27:34.759191Z",
     "start_time": "2021-10-17T18:27:34.743569Z"
    }
   },
   "outputs": [],
   "source": [
    "import os \n",
    "\n",
    "file_input_path = \"titanic_train.csv\"\n",
    "if not os.path.exists(file_input_path):\n",
    "    df_train = pd.read_csv(\"http://bit.ly/kaggletrain\")\n",
    "    df_train.to_csv(file_input_path, header=True, index=False, sep=\"\\t\")\n",
    "else:\n",
    "    df_train = pd.read_csv(file_input_path, header=0, sep=\"\\t\")"
   ]
  },
  {
   "cell_type": "code",
   "execution_count": 180,
   "id": "1f21807f",
   "metadata": {
    "ExecuteTime": {
     "end_time": "2021-10-17T18:27:34.812566Z",
     "start_time": "2021-10-17T18:27:34.765697Z"
    }
   },
   "outputs": [],
   "source": [
    "X = df_train[['Parch', 'Fare', 'Embarked', 'Sex', 'Name', 'Age']]\n",
    "y = df_train['Survived']"
   ]
  },
  {
   "cell_type": "code",
   "execution_count": 181,
   "id": "d84b6d16",
   "metadata": {
    "ExecuteTime": {
     "end_time": "2021-10-17T18:27:34.843809Z",
     "start_time": "2021-10-17T18:27:34.812566Z"
    }
   },
   "outputs": [],
   "source": [
    "imp_ohe = make_pipeline(\n",
    "    SimpleImputer(strategy=\"constant\"),\n",
    "    OneHotEncoder()\n",
    ")\n",
    "vect = CountVectorizer()\n",
    "imp = SimpleImputer()"
   ]
  },
  {
   "cell_type": "code",
   "execution_count": 182,
   "id": "e487b0c4",
   "metadata": {
    "ExecuteTime": {
     "end_time": "2021-10-17T18:27:34.882063Z",
     "start_time": "2021-10-17T18:27:34.859430Z"
    }
   },
   "outputs": [],
   "source": [
    "# pipeline step 1\n",
    "ct = make_column_transformer(\n",
    "    (imp_ohe, ['Embarked', 'Sex']),\n",
    "    (vect, 'Name'),\n",
    "    (imp, ['Age', 'Fare']),\n",
    "    ('passthrough', ['Parch'])\n",
    ")"
   ]
  },
  {
   "cell_type": "code",
   "execution_count": 183,
   "id": "49b175dc",
   "metadata": {
    "ExecuteTime": {
     "end_time": "2021-10-17T18:27:34.913306Z",
     "start_time": "2021-10-17T18:27:34.882063Z"
    }
   },
   "outputs": [],
   "source": [
    "# pipeline step 2\n",
    "selection = SelectPercentile(score_func=chi2, percentile=50)"
   ]
  },
  {
   "cell_type": "code",
   "execution_count": 184,
   "id": "c75f05ef",
   "metadata": {
    "ExecuteTime": {
     "end_time": "2021-10-17T18:27:34.928927Z",
     "start_time": "2021-10-17T18:27:34.913306Z"
    }
   },
   "outputs": [],
   "source": [
    "# pipeline step 3\n",
    "clf = LogisticRegression(solver='liblinear')"
   ]
  },
  {
   "cell_type": "code",
   "execution_count": 185,
   "id": "a43e7c1d",
   "metadata": {
    "ExecuteTime": {
     "end_time": "2021-10-17T18:27:34.998926Z",
     "start_time": "2021-10-17T18:27:34.928927Z"
    }
   },
   "outputs": [
    {
     "data": {
      "text/html": [
       "<style>#sk-7da0906d-3b14-46e2-9c05-3056229360d6 {color: black;background-color: white;}#sk-7da0906d-3b14-46e2-9c05-3056229360d6 pre{padding: 0;}#sk-7da0906d-3b14-46e2-9c05-3056229360d6 div.sk-toggleable {background-color: white;}#sk-7da0906d-3b14-46e2-9c05-3056229360d6 label.sk-toggleable__label {cursor: pointer;display: block;width: 100%;margin-bottom: 0;padding: 0.3em;box-sizing: border-box;text-align: center;}#sk-7da0906d-3b14-46e2-9c05-3056229360d6 div.sk-toggleable__content {max-height: 0;max-width: 0;overflow: hidden;text-align: left;background-color: #f0f8ff;}#sk-7da0906d-3b14-46e2-9c05-3056229360d6 div.sk-toggleable__content pre {margin: 0.2em;color: black;border-radius: 0.25em;background-color: #f0f8ff;}#sk-7da0906d-3b14-46e2-9c05-3056229360d6 input.sk-toggleable__control:checked~div.sk-toggleable__content {max-height: 200px;max-width: 100%;overflow: auto;}#sk-7da0906d-3b14-46e2-9c05-3056229360d6 div.sk-estimator input.sk-toggleable__control:checked~label.sk-toggleable__label {background-color: #d4ebff;}#sk-7da0906d-3b14-46e2-9c05-3056229360d6 div.sk-label input.sk-toggleable__control:checked~label.sk-toggleable__label {background-color: #d4ebff;}#sk-7da0906d-3b14-46e2-9c05-3056229360d6 input.sk-hidden--visually {border: 0;clip: rect(1px 1px 1px 1px);clip: rect(1px, 1px, 1px, 1px);height: 1px;margin: -1px;overflow: hidden;padding: 0;position: absolute;width: 1px;}#sk-7da0906d-3b14-46e2-9c05-3056229360d6 div.sk-estimator {font-family: monospace;background-color: #f0f8ff;border: 1px dotted black;border-radius: 0.25em;box-sizing: border-box;margin-bottom: 0.5em;}#sk-7da0906d-3b14-46e2-9c05-3056229360d6 div.sk-estimator:hover {background-color: #d4ebff;}#sk-7da0906d-3b14-46e2-9c05-3056229360d6 div.sk-parallel-item::after {content: \"\";width: 100%;border-bottom: 1px solid gray;flex-grow: 1;}#sk-7da0906d-3b14-46e2-9c05-3056229360d6 div.sk-label:hover label.sk-toggleable__label {background-color: #d4ebff;}#sk-7da0906d-3b14-46e2-9c05-3056229360d6 div.sk-serial::before {content: \"\";position: absolute;border-left: 1px solid gray;box-sizing: border-box;top: 2em;bottom: 0;left: 50%;}#sk-7da0906d-3b14-46e2-9c05-3056229360d6 div.sk-serial {display: flex;flex-direction: column;align-items: center;background-color: white;padding-right: 0.2em;padding-left: 0.2em;}#sk-7da0906d-3b14-46e2-9c05-3056229360d6 div.sk-item {z-index: 1;}#sk-7da0906d-3b14-46e2-9c05-3056229360d6 div.sk-parallel {display: flex;align-items: stretch;justify-content: center;background-color: white;}#sk-7da0906d-3b14-46e2-9c05-3056229360d6 div.sk-parallel::before {content: \"\";position: absolute;border-left: 1px solid gray;box-sizing: border-box;top: 2em;bottom: 0;left: 50%;}#sk-7da0906d-3b14-46e2-9c05-3056229360d6 div.sk-parallel-item {display: flex;flex-direction: column;position: relative;background-color: white;}#sk-7da0906d-3b14-46e2-9c05-3056229360d6 div.sk-parallel-item:first-child::after {align-self: flex-end;width: 50%;}#sk-7da0906d-3b14-46e2-9c05-3056229360d6 div.sk-parallel-item:last-child::after {align-self: flex-start;width: 50%;}#sk-7da0906d-3b14-46e2-9c05-3056229360d6 div.sk-parallel-item:only-child::after {width: 0;}#sk-7da0906d-3b14-46e2-9c05-3056229360d6 div.sk-dashed-wrapped {border: 1px dashed gray;margin: 0 0.4em 0.5em 0.4em;box-sizing: border-box;padding-bottom: 0.4em;background-color: white;position: relative;}#sk-7da0906d-3b14-46e2-9c05-3056229360d6 div.sk-label label {font-family: monospace;font-weight: bold;background-color: white;display: inline-block;line-height: 1.2em;}#sk-7da0906d-3b14-46e2-9c05-3056229360d6 div.sk-label-container {position: relative;z-index: 2;text-align: center;}#sk-7da0906d-3b14-46e2-9c05-3056229360d6 div.sk-container {display: inline-block;position: relative;}</style><div id=\"sk-7da0906d-3b14-46e2-9c05-3056229360d6\" class\"sk-top-container\"><div class=\"sk-container\"><div class=\"sk-item sk-dashed-wrapped\"><div class=\"sk-label-container\"><div class=\"sk-label sk-toggleable\"><input class=\"sk-toggleable__control sk-hidden--visually\" id=\"818348ea-4684-4f85-aba6-0506c74874cb\" type=\"checkbox\" ><label class=\"sk-toggleable__label\" for=\"818348ea-4684-4f85-aba6-0506c74874cb\">Pipeline</label><div class=\"sk-toggleable__content\"><pre>Pipeline(steps=[('columntransformer',\n",
       "                 ColumnTransformer(transformers=[('pipeline',\n",
       "                                                  Pipeline(steps=[('simpleimputer',\n",
       "                                                                   SimpleImputer(strategy='constant')),\n",
       "                                                                  ('onehotencoder',\n",
       "                                                                   OneHotEncoder())]),\n",
       "                                                  ['Embarked', 'Sex']),\n",
       "                                                 ('countvectorizer',\n",
       "                                                  CountVectorizer(), 'Name'),\n",
       "                                                 ('simpleimputer',\n",
       "                                                  SimpleImputer(),\n",
       "                                                  ['Age', 'Fare']),\n",
       "                                                 ('passthrough', 'passthrough',\n",
       "                                                  ['Parch'])])),\n",
       "                ('selectpercentile',\n",
       "                 SelectPercentile(percentile=50,\n",
       "                                  score_func=<function chi2 at 0x0000019FAB2D3040>)),\n",
       "                ('logisticregression', LogisticRegression(solver='liblinear'))])</pre></div></div></div><div class=\"sk-serial\"><div class=\"sk-item sk-dashed-wrapped\"><div class=\"sk-label-container\"><div class=\"sk-label sk-toggleable\"><input class=\"sk-toggleable__control sk-hidden--visually\" id=\"f90d9a7a-7885-4c5c-af4f-4a005d52c650\" type=\"checkbox\" ><label class=\"sk-toggleable__label\" for=\"f90d9a7a-7885-4c5c-af4f-4a005d52c650\">columntransformer: ColumnTransformer</label><div class=\"sk-toggleable__content\"><pre>ColumnTransformer(transformers=[('pipeline',\n",
       "                                 Pipeline(steps=[('simpleimputer',\n",
       "                                                  SimpleImputer(strategy='constant')),\n",
       "                                                 ('onehotencoder',\n",
       "                                                  OneHotEncoder())]),\n",
       "                                 ['Embarked', 'Sex']),\n",
       "                                ('countvectorizer', CountVectorizer(), 'Name'),\n",
       "                                ('simpleimputer', SimpleImputer(),\n",
       "                                 ['Age', 'Fare']),\n",
       "                                ('passthrough', 'passthrough', ['Parch'])])</pre></div></div></div><div class=\"sk-parallel\"><div class=\"sk-parallel-item\"><div class=\"sk-item\"><div class=\"sk-label-container\"><div class=\"sk-label sk-toggleable\"><input class=\"sk-toggleable__control sk-hidden--visually\" id=\"b65f7606-4b02-402d-940c-6dbca9367a0f\" type=\"checkbox\" ><label class=\"sk-toggleable__label\" for=\"b65f7606-4b02-402d-940c-6dbca9367a0f\">pipeline</label><div class=\"sk-toggleable__content\"><pre>['Embarked', 'Sex']</pre></div></div></div><div class=\"sk-serial\"><div class=\"sk-item\"><div class=\"sk-serial\"><div class=\"sk-item\"><div class=\"sk-estimator sk-toggleable\"><input class=\"sk-toggleable__control sk-hidden--visually\" id=\"29ae2417-abbc-4888-897f-09c630743141\" type=\"checkbox\" ><label class=\"sk-toggleable__label\" for=\"29ae2417-abbc-4888-897f-09c630743141\">SimpleImputer</label><div class=\"sk-toggleable__content\"><pre>SimpleImputer(strategy='constant')</pre></div></div></div><div class=\"sk-item\"><div class=\"sk-estimator sk-toggleable\"><input class=\"sk-toggleable__control sk-hidden--visually\" id=\"bb523887-930e-4ded-aa3e-fec5ee2a0b5e\" type=\"checkbox\" ><label class=\"sk-toggleable__label\" for=\"bb523887-930e-4ded-aa3e-fec5ee2a0b5e\">OneHotEncoder</label><div class=\"sk-toggleable__content\"><pre>OneHotEncoder()</pre></div></div></div></div></div></div></div></div><div class=\"sk-parallel-item\"><div class=\"sk-item\"><div class=\"sk-label-container\"><div class=\"sk-label sk-toggleable\"><input class=\"sk-toggleable__control sk-hidden--visually\" id=\"fec0708d-9eb2-4143-b38b-e214b46e63f5\" type=\"checkbox\" ><label class=\"sk-toggleable__label\" for=\"fec0708d-9eb2-4143-b38b-e214b46e63f5\">countvectorizer</label><div class=\"sk-toggleable__content\"><pre>Name</pre></div></div></div><div class=\"sk-serial\"><div class=\"sk-item\"><div class=\"sk-estimator sk-toggleable\"><input class=\"sk-toggleable__control sk-hidden--visually\" id=\"af84d8b7-9c58-405b-8f83-6a9a5db573cf\" type=\"checkbox\" ><label class=\"sk-toggleable__label\" for=\"af84d8b7-9c58-405b-8f83-6a9a5db573cf\">CountVectorizer</label><div class=\"sk-toggleable__content\"><pre>CountVectorizer()</pre></div></div></div></div></div></div><div class=\"sk-parallel-item\"><div class=\"sk-item\"><div class=\"sk-label-container\"><div class=\"sk-label sk-toggleable\"><input class=\"sk-toggleable__control sk-hidden--visually\" id=\"cc2d730b-a7d2-4851-a4a2-11a98040bfe8\" type=\"checkbox\" ><label class=\"sk-toggleable__label\" for=\"cc2d730b-a7d2-4851-a4a2-11a98040bfe8\">simpleimputer</label><div class=\"sk-toggleable__content\"><pre>['Age', 'Fare']</pre></div></div></div><div class=\"sk-serial\"><div class=\"sk-item\"><div class=\"sk-estimator sk-toggleable\"><input class=\"sk-toggleable__control sk-hidden--visually\" id=\"981d4b91-debf-4f41-91d8-25ecc4c5e791\" type=\"checkbox\" ><label class=\"sk-toggleable__label\" for=\"981d4b91-debf-4f41-91d8-25ecc4c5e791\">SimpleImputer</label><div class=\"sk-toggleable__content\"><pre>SimpleImputer()</pre></div></div></div></div></div></div><div class=\"sk-parallel-item\"><div class=\"sk-item\"><div class=\"sk-label-container\"><div class=\"sk-label sk-toggleable\"><input class=\"sk-toggleable__control sk-hidden--visually\" id=\"079f695b-6cbf-4806-a186-d92e507af523\" type=\"checkbox\" ><label class=\"sk-toggleable__label\" for=\"079f695b-6cbf-4806-a186-d92e507af523\">passthrough</label><div class=\"sk-toggleable__content\"><pre>['Parch']</pre></div></div></div><div class=\"sk-serial\"><div class=\"sk-item\"><div class=\"sk-estimator sk-toggleable\"><input class=\"sk-toggleable__control sk-hidden--visually\" id=\"77d75e3f-3de6-4b54-b2b7-0fefa5031b7e\" type=\"checkbox\" ><label class=\"sk-toggleable__label\" for=\"77d75e3f-3de6-4b54-b2b7-0fefa5031b7e\">passthrough</label><div class=\"sk-toggleable__content\"><pre>passthrough</pre></div></div></div></div></div></div></div></div><div class=\"sk-item\"><div class=\"sk-estimator sk-toggleable\"><input class=\"sk-toggleable__control sk-hidden--visually\" id=\"f7492640-9ca6-4ef4-a398-f6e61d94a860\" type=\"checkbox\" ><label class=\"sk-toggleable__label\" for=\"f7492640-9ca6-4ef4-a398-f6e61d94a860\">SelectPercentile</label><div class=\"sk-toggleable__content\"><pre>SelectPercentile(percentile=50,\n",
       "                 score_func=<function chi2 at 0x0000019FAB2D3040>)</pre></div></div></div><div class=\"sk-item\"><div class=\"sk-estimator sk-toggleable\"><input class=\"sk-toggleable__control sk-hidden--visually\" id=\"3901db3c-b8c9-4155-afbf-2d4338512fb8\" type=\"checkbox\" ><label class=\"sk-toggleable__label\" for=\"3901db3c-b8c9-4155-afbf-2d4338512fb8\">LogisticRegression</label><div class=\"sk-toggleable__content\"><pre>LogisticRegression(solver='liblinear')</pre></div></div></div></div></div></div></div>"
      ],
      "text/plain": [
       "Pipeline(steps=[('columntransformer',\n",
       "                 ColumnTransformer(transformers=[('pipeline',\n",
       "                                                  Pipeline(steps=[('simpleimputer',\n",
       "                                                                   SimpleImputer(strategy='constant')),\n",
       "                                                                  ('onehotencoder',\n",
       "                                                                   OneHotEncoder())]),\n",
       "                                                  ['Embarked', 'Sex']),\n",
       "                                                 ('countvectorizer',\n",
       "                                                  CountVectorizer(), 'Name'),\n",
       "                                                 ('simpleimputer',\n",
       "                                                  SimpleImputer(),\n",
       "                                                  ['Age', 'Fare']),\n",
       "                                                 ('passthrough', 'passthrough',\n",
       "                                                  ['Parch'])])),\n",
       "                ('selectpercentile',\n",
       "                 SelectPercentile(percentile=50,\n",
       "                                  score_func=<function chi2 at 0x0000019FAB2D3040>)),\n",
       "                ('logisticregression', LogisticRegression(solver='liblinear'))])"
      ]
     },
     "execution_count": 185,
     "metadata": {},
     "output_type": "execute_result"
    }
   ],
   "source": [
    "pipe = make_pipeline(ct, selection, clf)\n",
    "pipe"
   ]
  },
  {
   "cell_type": "markdown",
   "id": "b09e2cab",
   "metadata": {},
   "source": [
    "### Export to file HTML"
   ]
  },
  {
   "cell_type": "code",
   "execution_count": 186,
   "id": "ed6a3415",
   "metadata": {
    "ExecuteTime": {
     "end_time": "2021-10-17T18:27:35.547240Z",
     "start_time": "2021-10-17T18:27:35.500349Z"
    }
   },
   "outputs": [],
   "source": [
    "# export the diagram to a file\n",
    "file_html_path = \"pipe.html\"\n",
    "from sklearn.utils import estimator_html_repr\n",
    "with open(file_html_path, 'w') as f:  \n",
    "    f.write(estimator_html_repr(pipe))"
   ]
  },
  {
   "cell_type": "markdown",
   "id": "e7836306",
   "metadata": {},
   "source": [
    "## Access part of a Pipeline using slicing\n",
    "\n",
    "Want to operate on part of a Pipeline(instead of the whole thing)? Slice it using Python's slicing notation."
   ]
  },
  {
   "cell_type": "code",
   "execution_count": 187,
   "id": "77911e68",
   "metadata": {
    "ExecuteTime": {
     "end_time": "2021-10-17T18:27:36.164298Z",
     "start_time": "2021-10-17T18:27:36.148676Z"
    }
   },
   "outputs": [],
   "source": [
    "import os \n",
    "\n",
    "file_input_path = \"titanic_train.csv\"\n",
    "if not os.path.exists(file_input_path):\n",
    "    df_train = pd.read_csv(\"http://bit.ly/kaggletrain\")\n",
    "    df_train.to_csv(file_input_path, header=True, index=False, sep=\"\\t\")\n",
    "else:\n",
    "    df_train = pd.read_csv(file_input_path, header=0, sep=\"\\t\")"
   ]
  },
  {
   "cell_type": "code",
   "execution_count": 188,
   "id": "ffba1ba1",
   "metadata": {
    "ExecuteTime": {
     "end_time": "2021-10-17T18:27:36.217704Z",
     "start_time": "2021-10-17T18:27:36.170804Z"
    }
   },
   "outputs": [],
   "source": [
    "cols = [\"Sex\", \"Name\", \"Age\"]\n",
    "X, y = df_train[cols], df[\"Survived\"]"
   ]
  },
  {
   "cell_type": "code",
   "execution_count": 189,
   "id": "75f25907",
   "metadata": {
    "ExecuteTime": {
     "end_time": "2021-10-17T18:27:36.233294Z",
     "start_time": "2021-10-17T18:27:36.217704Z"
    }
   },
   "outputs": [
    {
     "data": {
      "text/html": [
       "<div>\n",
       "<style scoped>\n",
       "    .dataframe tbody tr th:only-of-type {\n",
       "        vertical-align: middle;\n",
       "    }\n",
       "\n",
       "    .dataframe tbody tr th {\n",
       "        vertical-align: top;\n",
       "    }\n",
       "\n",
       "    .dataframe thead th {\n",
       "        text-align: right;\n",
       "    }\n",
       "</style>\n",
       "<table border=\"1\" class=\"dataframe\">\n",
       "  <thead>\n",
       "    <tr style=\"text-align: right;\">\n",
       "      <th></th>\n",
       "      <th>Sex</th>\n",
       "      <th>Name</th>\n",
       "      <th>Age</th>\n",
       "    </tr>\n",
       "  </thead>\n",
       "  <tbody>\n",
       "    <tr>\n",
       "      <th>0</th>\n",
       "      <td>male</td>\n",
       "      <td>Braund, Mr. Owen Harris</td>\n",
       "      <td>22.0</td>\n",
       "    </tr>\n",
       "    <tr>\n",
       "      <th>1</th>\n",
       "      <td>female</td>\n",
       "      <td>Cumings, Mrs. John Bradley (Florence Briggs Th...</td>\n",
       "      <td>38.0</td>\n",
       "    </tr>\n",
       "  </tbody>\n",
       "</table>\n",
       "</div>"
      ],
      "text/plain": [
       "      Sex                                               Name   Age\n",
       "0    male                            Braund, Mr. Owen Harris  22.0\n",
       "1  female  Cumings, Mrs. John Bradley (Florence Briggs Th...  38.0"
      ]
     },
     "execution_count": 189,
     "metadata": {},
     "output_type": "execute_result"
    }
   ],
   "source": [
    "X.head(2)"
   ]
  },
  {
   "cell_type": "code",
   "execution_count": 190,
   "id": "90834f28",
   "metadata": {
    "ExecuteTime": {
     "end_time": "2021-10-17T18:27:36.272548Z",
     "start_time": "2021-10-17T18:27:36.233294Z"
    }
   },
   "outputs": [
    {
     "data": {
      "text/plain": [
       "0    0\n",
       "1    1\n",
       "Name: Survived, dtype: int64"
      ]
     },
     "execution_count": 190,
     "metadata": {},
     "output_type": "execute_result"
    }
   ],
   "source": [
    "y.head(2)"
   ]
  },
  {
   "cell_type": "code",
   "execution_count": 191,
   "id": "3b4862ba",
   "metadata": {
    "ExecuteTime": {
     "end_time": "2021-10-17T18:27:36.303795Z",
     "start_time": "2021-10-17T18:27:36.272548Z"
    }
   },
   "outputs": [],
   "source": [
    "from sklearn import set_config\n",
    "set_config(display=\"diagram\")"
   ]
  },
  {
   "cell_type": "code",
   "execution_count": 192,
   "id": "3f1e41f5",
   "metadata": {
    "ExecuteTime": {
     "end_time": "2021-10-17T18:27:36.335039Z",
     "start_time": "2021-10-17T18:27:36.303795Z"
    }
   },
   "outputs": [],
   "source": [
    "from sklearn.preprocessing import OneHotEncoder\n",
    "from sklearn.feature_extraction.text import CountVectorizer\n",
    "from sklearn.impute import SimpleImputer\n",
    "from sklearn.feature_selection import SelectPercentile, chi2\n",
    "from sklearn.linear_model import LogisticRegression\n",
    "from sklearn.compose import ColumnTransformer\n",
    "from sklearn.pipeline import Pipeline"
   ]
  },
  {
   "cell_type": "code",
   "execution_count": 193,
   "id": "13648d54",
   "metadata": {
    "ExecuteTime": {
     "end_time": "2021-10-17T18:27:36.350660Z",
     "start_time": "2021-10-17T18:27:36.335039Z"
    }
   },
   "outputs": [],
   "source": [
    "col_transformer = ColumnTransformer(\n",
    "    [\n",
    "        (\"ohe\", OneHotEncoder(), [\"Sex\"]),\n",
    "        (\"vectorizer\", CountVectorizer(), \"Name\"),\n",
    "        (\"imputer\", SimpleImputer(), [\"Age\"])\n",
    "    ]\n",
    ")"
   ]
  },
  {
   "cell_type": "code",
   "execution_count": 194,
   "id": "9308af3f",
   "metadata": {
    "ExecuteTime": {
     "end_time": "2021-10-17T18:27:36.366281Z",
     "start_time": "2021-10-17T18:27:36.350660Z"
    }
   },
   "outputs": [],
   "source": [
    "feat_selector = SelectPercentile(score_func=chi2, percentile=50)"
   ]
  },
  {
   "cell_type": "code",
   "execution_count": 195,
   "id": "fdf4fb11",
   "metadata": {
    "ExecuteTime": {
     "end_time": "2021-10-17T18:27:36.402550Z",
     "start_time": "2021-10-17T18:27:36.366281Z"
    }
   },
   "outputs": [],
   "source": [
    "clf = LogisticRegression(solver=\"liblinear\", random_state=1)"
   ]
  },
  {
   "cell_type": "code",
   "execution_count": 196,
   "id": "7ce335e7",
   "metadata": {
    "ExecuteTime": {
     "end_time": "2021-10-17T18:27:36.435790Z",
     "start_time": "2021-10-17T18:27:36.407702Z"
    }
   },
   "outputs": [],
   "source": [
    "pipe = Pipeline(\n",
    "    [\n",
    "        (\"preprocessor\", col_transformer),\n",
    "        (\"feature_selector\", feat_selector),\n",
    "        (\"classifier\", clf)\n",
    "    ]\n",
    ")"
   ]
  },
  {
   "cell_type": "code",
   "execution_count": 197,
   "id": "e6e3004a",
   "metadata": {
    "ExecuteTime": {
     "end_time": "2021-10-17T18:27:36.494082Z",
     "start_time": "2021-10-17T18:27:36.437799Z"
    }
   },
   "outputs": [
    {
     "data": {
      "text/html": [
       "<style>#sk-6218789e-c53b-4783-ab46-db441081930d {color: black;background-color: white;}#sk-6218789e-c53b-4783-ab46-db441081930d pre{padding: 0;}#sk-6218789e-c53b-4783-ab46-db441081930d div.sk-toggleable {background-color: white;}#sk-6218789e-c53b-4783-ab46-db441081930d label.sk-toggleable__label {cursor: pointer;display: block;width: 100%;margin-bottom: 0;padding: 0.3em;box-sizing: border-box;text-align: center;}#sk-6218789e-c53b-4783-ab46-db441081930d div.sk-toggleable__content {max-height: 0;max-width: 0;overflow: hidden;text-align: left;background-color: #f0f8ff;}#sk-6218789e-c53b-4783-ab46-db441081930d div.sk-toggleable__content pre {margin: 0.2em;color: black;border-radius: 0.25em;background-color: #f0f8ff;}#sk-6218789e-c53b-4783-ab46-db441081930d input.sk-toggleable__control:checked~div.sk-toggleable__content {max-height: 200px;max-width: 100%;overflow: auto;}#sk-6218789e-c53b-4783-ab46-db441081930d div.sk-estimator input.sk-toggleable__control:checked~label.sk-toggleable__label {background-color: #d4ebff;}#sk-6218789e-c53b-4783-ab46-db441081930d div.sk-label input.sk-toggleable__control:checked~label.sk-toggleable__label {background-color: #d4ebff;}#sk-6218789e-c53b-4783-ab46-db441081930d input.sk-hidden--visually {border: 0;clip: rect(1px 1px 1px 1px);clip: rect(1px, 1px, 1px, 1px);height: 1px;margin: -1px;overflow: hidden;padding: 0;position: absolute;width: 1px;}#sk-6218789e-c53b-4783-ab46-db441081930d div.sk-estimator {font-family: monospace;background-color: #f0f8ff;border: 1px dotted black;border-radius: 0.25em;box-sizing: border-box;margin-bottom: 0.5em;}#sk-6218789e-c53b-4783-ab46-db441081930d div.sk-estimator:hover {background-color: #d4ebff;}#sk-6218789e-c53b-4783-ab46-db441081930d div.sk-parallel-item::after {content: \"\";width: 100%;border-bottom: 1px solid gray;flex-grow: 1;}#sk-6218789e-c53b-4783-ab46-db441081930d div.sk-label:hover label.sk-toggleable__label {background-color: #d4ebff;}#sk-6218789e-c53b-4783-ab46-db441081930d div.sk-serial::before {content: \"\";position: absolute;border-left: 1px solid gray;box-sizing: border-box;top: 2em;bottom: 0;left: 50%;}#sk-6218789e-c53b-4783-ab46-db441081930d div.sk-serial {display: flex;flex-direction: column;align-items: center;background-color: white;padding-right: 0.2em;padding-left: 0.2em;}#sk-6218789e-c53b-4783-ab46-db441081930d div.sk-item {z-index: 1;}#sk-6218789e-c53b-4783-ab46-db441081930d div.sk-parallel {display: flex;align-items: stretch;justify-content: center;background-color: white;}#sk-6218789e-c53b-4783-ab46-db441081930d div.sk-parallel::before {content: \"\";position: absolute;border-left: 1px solid gray;box-sizing: border-box;top: 2em;bottom: 0;left: 50%;}#sk-6218789e-c53b-4783-ab46-db441081930d div.sk-parallel-item {display: flex;flex-direction: column;position: relative;background-color: white;}#sk-6218789e-c53b-4783-ab46-db441081930d div.sk-parallel-item:first-child::after {align-self: flex-end;width: 50%;}#sk-6218789e-c53b-4783-ab46-db441081930d div.sk-parallel-item:last-child::after {align-self: flex-start;width: 50%;}#sk-6218789e-c53b-4783-ab46-db441081930d div.sk-parallel-item:only-child::after {width: 0;}#sk-6218789e-c53b-4783-ab46-db441081930d div.sk-dashed-wrapped {border: 1px dashed gray;margin: 0 0.4em 0.5em 0.4em;box-sizing: border-box;padding-bottom: 0.4em;background-color: white;position: relative;}#sk-6218789e-c53b-4783-ab46-db441081930d div.sk-label label {font-family: monospace;font-weight: bold;background-color: white;display: inline-block;line-height: 1.2em;}#sk-6218789e-c53b-4783-ab46-db441081930d div.sk-label-container {position: relative;z-index: 2;text-align: center;}#sk-6218789e-c53b-4783-ab46-db441081930d div.sk-container {display: inline-block;position: relative;}</style><div id=\"sk-6218789e-c53b-4783-ab46-db441081930d\" class\"sk-top-container\"><div class=\"sk-container\"><div class=\"sk-item sk-dashed-wrapped\"><div class=\"sk-label-container\"><div class=\"sk-label sk-toggleable\"><input class=\"sk-toggleable__control sk-hidden--visually\" id=\"6da79c7c-faab-4318-8fd0-58a45ebe0cca\" type=\"checkbox\" ><label class=\"sk-toggleable__label\" for=\"6da79c7c-faab-4318-8fd0-58a45ebe0cca\">Pipeline</label><div class=\"sk-toggleable__content\"><pre>Pipeline(steps=[('preprocessor',\n",
       "                 ColumnTransformer(transformers=[('ohe', OneHotEncoder(),\n",
       "                                                  ['Sex']),\n",
       "                                                 ('vectorizer',\n",
       "                                                  CountVectorizer(), 'Name'),\n",
       "                                                 ('imputer', SimpleImputer(),\n",
       "                                                  ['Age'])])),\n",
       "                ('feature_selector',\n",
       "                 SelectPercentile(percentile=50,\n",
       "                                  score_func=<function chi2 at 0x0000019FAB2D3040>)),\n",
       "                ('classifier',\n",
       "                 LogisticRegression(random_state=1, solver='liblinear'))])</pre></div></div></div><div class=\"sk-serial\"><div class=\"sk-item sk-dashed-wrapped\"><div class=\"sk-label-container\"><div class=\"sk-label sk-toggleable\"><input class=\"sk-toggleable__control sk-hidden--visually\" id=\"52ab7bf3-033b-413c-a1d6-a4b003d64812\" type=\"checkbox\" ><label class=\"sk-toggleable__label\" for=\"52ab7bf3-033b-413c-a1d6-a4b003d64812\">preprocessor: ColumnTransformer</label><div class=\"sk-toggleable__content\"><pre>ColumnTransformer(transformers=[('ohe', OneHotEncoder(), ['Sex']),\n",
       "                                ('vectorizer', CountVectorizer(), 'Name'),\n",
       "                                ('imputer', SimpleImputer(), ['Age'])])</pre></div></div></div><div class=\"sk-parallel\"><div class=\"sk-parallel-item\"><div class=\"sk-item\"><div class=\"sk-label-container\"><div class=\"sk-label sk-toggleable\"><input class=\"sk-toggleable__control sk-hidden--visually\" id=\"e326bace-d2db-4f47-85ad-bc70d45b47f6\" type=\"checkbox\" ><label class=\"sk-toggleable__label\" for=\"e326bace-d2db-4f47-85ad-bc70d45b47f6\">ohe</label><div class=\"sk-toggleable__content\"><pre>['Sex']</pre></div></div></div><div class=\"sk-serial\"><div class=\"sk-item\"><div class=\"sk-estimator sk-toggleable\"><input class=\"sk-toggleable__control sk-hidden--visually\" id=\"b1d7b7f6-06fc-4eed-a185-0ca4a4f82877\" type=\"checkbox\" ><label class=\"sk-toggleable__label\" for=\"b1d7b7f6-06fc-4eed-a185-0ca4a4f82877\">OneHotEncoder</label><div class=\"sk-toggleable__content\"><pre>OneHotEncoder()</pre></div></div></div></div></div></div><div class=\"sk-parallel-item\"><div class=\"sk-item\"><div class=\"sk-label-container\"><div class=\"sk-label sk-toggleable\"><input class=\"sk-toggleable__control sk-hidden--visually\" id=\"86fb2fe2-ceb5-45b1-973f-302d4e49df93\" type=\"checkbox\" ><label class=\"sk-toggleable__label\" for=\"86fb2fe2-ceb5-45b1-973f-302d4e49df93\">vectorizer</label><div class=\"sk-toggleable__content\"><pre>Name</pre></div></div></div><div class=\"sk-serial\"><div class=\"sk-item\"><div class=\"sk-estimator sk-toggleable\"><input class=\"sk-toggleable__control sk-hidden--visually\" id=\"e3eb52c9-61f3-45e4-863d-0ffb138f7a3d\" type=\"checkbox\" ><label class=\"sk-toggleable__label\" for=\"e3eb52c9-61f3-45e4-863d-0ffb138f7a3d\">CountVectorizer</label><div class=\"sk-toggleable__content\"><pre>CountVectorizer()</pre></div></div></div></div></div></div><div class=\"sk-parallel-item\"><div class=\"sk-item\"><div class=\"sk-label-container\"><div class=\"sk-label sk-toggleable\"><input class=\"sk-toggleable__control sk-hidden--visually\" id=\"338c4b97-c652-4bc7-ba3c-2696ab36f1e9\" type=\"checkbox\" ><label class=\"sk-toggleable__label\" for=\"338c4b97-c652-4bc7-ba3c-2696ab36f1e9\">imputer</label><div class=\"sk-toggleable__content\"><pre>['Age']</pre></div></div></div><div class=\"sk-serial\"><div class=\"sk-item\"><div class=\"sk-estimator sk-toggleable\"><input class=\"sk-toggleable__control sk-hidden--visually\" id=\"700d506b-d917-4a5d-a6d7-c4bcae59a142\" type=\"checkbox\" ><label class=\"sk-toggleable__label\" for=\"700d506b-d917-4a5d-a6d7-c4bcae59a142\">SimpleImputer</label><div class=\"sk-toggleable__content\"><pre>SimpleImputer()</pre></div></div></div></div></div></div></div></div><div class=\"sk-item\"><div class=\"sk-estimator sk-toggleable\"><input class=\"sk-toggleable__control sk-hidden--visually\" id=\"f81b26a5-6c2a-4450-9e01-00eeea8d405a\" type=\"checkbox\" ><label class=\"sk-toggleable__label\" for=\"f81b26a5-6c2a-4450-9e01-00eeea8d405a\">SelectPercentile</label><div class=\"sk-toggleable__content\"><pre>SelectPercentile(percentile=50,\n",
       "                 score_func=<function chi2 at 0x0000019FAB2D3040>)</pre></div></div></div><div class=\"sk-item\"><div class=\"sk-estimator sk-toggleable\"><input class=\"sk-toggleable__control sk-hidden--visually\" id=\"c5eb32fc-da1a-443c-ac39-8d26067c9305\" type=\"checkbox\" ><label class=\"sk-toggleable__label\" for=\"c5eb32fc-da1a-443c-ac39-8d26067c9305\">LogisticRegression</label><div class=\"sk-toggleable__content\"><pre>LogisticRegression(random_state=1, solver='liblinear')</pre></div></div></div></div></div></div></div>"
      ],
      "text/plain": [
       "Pipeline(steps=[('preprocessor',\n",
       "                 ColumnTransformer(transformers=[('ohe', OneHotEncoder(),\n",
       "                                                  ['Sex']),\n",
       "                                                 ('vectorizer',\n",
       "                                                  CountVectorizer(), 'Name'),\n",
       "                                                 ('imputer', SimpleImputer(),\n",
       "                                                  ['Age'])])),\n",
       "                ('feature_selector',\n",
       "                 SelectPercentile(percentile=50,\n",
       "                                  score_func=<function chi2 at 0x0000019FAB2D3040>)),\n",
       "                ('classifier',\n",
       "                 LogisticRegression(random_state=1, solver='liblinear'))])"
      ]
     },
     "execution_count": 197,
     "metadata": {},
     "output_type": "execute_result"
    }
   ],
   "source": [
    "pipe"
   ]
  },
  {
   "cell_type": "markdown",
   "id": "647f82aa",
   "metadata": {},
   "source": [
    "### access step 0: preprocessor"
   ]
  },
  {
   "cell_type": "code",
   "execution_count": 198,
   "id": "765f4107",
   "metadata": {
    "ExecuteTime": {
     "end_time": "2021-10-17T18:27:37.118313Z",
     "start_time": "2021-10-17T18:27:37.080587Z"
    }
   },
   "outputs": [
    {
     "data": {
      "text/plain": [
       "<891x1512 sparse matrix of type '<class 'numpy.float64'>'\n",
       "\twith 5348 stored elements in Compressed Sparse Row format>"
      ]
     },
     "execution_count": 198,
     "metadata": {},
     "output_type": "execute_result"
    }
   ],
   "source": [
    "pipe[0].fit_transform(X)"
   ]
  },
  {
   "cell_type": "markdown",
   "id": "00f5834d",
   "metadata": {},
   "source": [
    "### access step 0 and 1: preprocessor and feature selector"
   ]
  },
  {
   "cell_type": "code",
   "execution_count": 199,
   "id": "07e50c04",
   "metadata": {
    "ExecuteTime": {
     "end_time": "2021-10-17T18:27:37.820642Z",
     "start_time": "2021-10-17T18:27:37.782888Z"
    }
   },
   "outputs": [
    {
     "data": {
      "text/plain": [
       "<891x756 sparse matrix of type '<class 'numpy.float64'>'\n",
       "\twith 4128 stored elements in Compressed Sparse Row format>"
      ]
     },
     "execution_count": 199,
     "metadata": {},
     "output_type": "execute_result"
    }
   ],
   "source": [
    "pipe[0:2].fit_transform(X, y)"
   ]
  },
  {
   "cell_type": "markdown",
   "id": "00bc5371",
   "metadata": {},
   "source": [
    "### access step 1: feature selector"
   ]
  },
  {
   "cell_type": "code",
   "execution_count": 200,
   "id": "936e6c0a",
   "metadata": {
    "ExecuteTime": {
     "end_time": "2021-10-17T18:27:38.554205Z",
     "start_time": "2021-10-17T18:27:38.522995Z"
    }
   },
   "outputs": [
    {
     "data": {
      "text/plain": [
       "array([ True,  True,  True, ...,  True, False,  True])"
      ]
     },
     "execution_count": 200,
     "metadata": {},
     "output_type": "execute_result"
    }
   ],
   "source": [
    "pipe[1].get_support()"
   ]
  },
  {
   "cell_type": "code",
   "execution_count": 201,
   "id": "e6b056c2",
   "metadata": {
    "ExecuteTime": {
     "end_time": "2021-10-17T18:27:38.601102Z",
     "start_time": "2021-10-17T18:27:38.554205Z"
    }
   },
   "outputs": [
    {
     "data": {
      "text/plain": [
       "756"
      ]
     },
     "execution_count": 201,
     "metadata": {},
     "output_type": "execute_result"
    }
   ],
   "source": [
    "sum(pipe[1].get_support())"
   ]
  },
  {
   "cell_type": "code",
   "execution_count": 202,
   "id": "8a6e60be",
   "metadata": {
    "ExecuteTime": {
     "end_time": "2021-10-17T18:27:38.623235Z",
     "start_time": "2021-10-17T18:27:38.601102Z"
    }
   },
   "outputs": [
    {
     "data": {
      "text/plain": [
       "1512"
      ]
     },
     "execution_count": 202,
     "metadata": {},
     "output_type": "execute_result"
    }
   ],
   "source": [
    "len(pipe[1].get_support())"
   ]
  },
  {
   "cell_type": "code",
   "execution_count": 203,
   "id": "a25dde3f",
   "metadata": {
    "ExecuteTime": {
     "end_time": "2021-10-17T18:27:38.654477Z",
     "start_time": "2021-10-17T18:27:38.623235Z"
    }
   },
   "outputs": [
    {
     "data": {
      "text/plain": [
       "0.5"
      ]
     },
     "execution_count": 203,
     "metadata": {},
     "output_type": "execute_result"
    }
   ],
   "source": [
    "# Percentage - Feature Selector (verifying phase)\n",
    "sum(pipe[1].get_support()) / len(pipe[1].get_support())"
   ]
  },
  {
   "cell_type": "markdown",
   "id": "cf9106b0",
   "metadata": {},
   "source": [
    "## Adapt this pattern to solve many Machine Learning problems\n",
    "\n",
    "Here's a simple pattern that can be adapted to solve many ML problems. It has plenty of shortcomings, but can work surprisingly well as-is!\n",
    "\n",
    "Shortcomings include:\n",
    "+ Assumes all columns have proper data types\n",
    "+ May include irrelevant or improper features\n",
    "+ Does not handle text or date columns well\n",
    "+ Does not include feature engineering\n",
    "+ [Ordinal encoding](https://scikit-learn.org/stable/modules/generated/sklearn.preprocessing.OrdinalEncoder.html) may be better\n",
    "+ [Other imputation strategies](https://scikit-learn.org/stable/modules/impute.html) may be better\n",
    "+ Numeric features may not need scaling\n",
    "+ A different model may be better\n",
    "+ And so on...\n",
    "\n",
    "\n",
    "Additional links: [SimpleImputer](https://scikit-learn.org/stable/modules/generated/sklearn.impute.SimpleImputer.html), [StandardScaler](https://scikit-learn.org/stable/modules/generated/sklearn.preprocessing.StandardScaler.html), [OneHotEncoder](https://scikit-learn.org/stable/modules/generated/sklearn.preprocessing.OneHotEncoder.html), [make_column_selector](https://scikit-learn.org/stable/modules/generated/sklearn.compose.make_column_selector.html)\n",
    "\n",
    "Note: Beginning in scikit-learn 0.24, OneHotEncoder can handle missing values (without the use of SimpleImputer) by treating them as a separate category.\n"
   ]
  },
  {
   "cell_type": "code",
   "execution_count": 204,
   "id": "82cd6349",
   "metadata": {
    "ExecuteTime": {
     "end_time": "2021-10-17T18:27:39.305079Z",
     "start_time": "2021-10-17T18:27:39.289459Z"
    }
   },
   "outputs": [],
   "source": [
    "import os \n",
    "\n",
    "file_input_path = \"titanic_train.csv\"\n",
    "if not os.path.exists(file_input_path):\n",
    "    df_train = pd.read_csv(\"http://bit.ly/kaggletrain\")\n",
    "    df_train.to_csv(file_input_path, header=True, index=False, sep=\"\\t\")\n",
    "else:\n",
    "    df_train = pd.read_csv(file_input_path, header=0, sep=\"\\t\")"
   ]
  },
  {
   "cell_type": "code",
   "execution_count": 205,
   "id": "e57afef0",
   "metadata": {
    "ExecuteTime": {
     "end_time": "2021-10-17T18:27:39.342831Z",
     "start_time": "2021-10-17T18:27:39.311585Z"
    }
   },
   "outputs": [],
   "source": [
    "cols = ['Pclass', 'Name', 'Sex', 'Age', 'SibSp', 'Parch', 'Ticket', 'Fare', 'Cabin', 'Embarked']"
   ]
  },
  {
   "cell_type": "code",
   "execution_count": 206,
   "id": "eb3dbec9",
   "metadata": {
    "ExecuteTime": {
     "end_time": "2021-10-17T18:27:39.374074Z",
     "start_time": "2021-10-17T18:27:39.342831Z"
    }
   },
   "outputs": [],
   "source": [
    "X, y = df_train[cols], df_train[\"Survived\"]"
   ]
  },
  {
   "cell_type": "code",
   "execution_count": 207,
   "id": "84fb4e64",
   "metadata": {
    "ExecuteTime": {
     "end_time": "2021-10-17T18:27:39.427450Z",
     "start_time": "2021-10-17T18:27:39.389696Z"
    }
   },
   "outputs": [],
   "source": [
    "import os \n",
    "\n",
    "file_input_path = \"titanic_test.csv\"\n",
    "if not os.path.exists(file_input_path):\n",
    "    df_test = pd.read_csv(\"http://bit.ly/kaggletest\")\n",
    "    df_test.to_csv(file_input_path, header=True, index=False, sep=\"\\t\")\n",
    "else:\n",
    "    df_test = pd.read_csv(file_input_path, header=0, sep=\"\\t\")"
   ]
  },
  {
   "cell_type": "code",
   "execution_count": 208,
   "id": "942faa15",
   "metadata": {
    "ExecuteTime": {
     "end_time": "2021-10-17T18:27:39.443071Z",
     "start_time": "2021-10-17T18:27:39.427450Z"
    }
   },
   "outputs": [],
   "source": [
    "df_test = df_test[:10]\n",
    "X_new = df_test[cols]"
   ]
  },
  {
   "cell_type": "code",
   "execution_count": 209,
   "id": "6cea98dc",
   "metadata": {
    "ExecuteTime": {
     "end_time": "2021-10-17T18:27:39.489935Z",
     "start_time": "2021-10-17T18:27:39.443071Z"
    }
   },
   "outputs": [],
   "source": [
    "from sklearn.preprocessing import StandardScaler, OneHotEncoder\n",
    "from sklearn.impute import SimpleImputer\n",
    "from sklearn.linear_model import LogisticRegression\n",
    "from sklearn.pipeline import make_pipeline\n",
    "from sklearn.compose import make_column_selector, make_column_transformer\n",
    "from sklearn.model_selection import cross_val_score"
   ]
  },
  {
   "cell_type": "markdown",
   "id": "0e88585f",
   "metadata": {},
   "source": [
    "### Preprocessing"
   ]
  },
  {
   "cell_type": "markdown",
   "id": "fca17888",
   "metadata": {},
   "source": [
    "#### Preprocessing for Numeric columns and Categorical columns"
   ]
  },
  {
   "cell_type": "code",
   "execution_count": 210,
   "id": "82c80d31",
   "metadata": {
    "ExecuteTime": {
     "end_time": "2021-10-17T18:27:40.915941Z",
     "start_time": "2021-10-17T18:27:40.900320Z"
    }
   },
   "outputs": [],
   "source": [
    "imputer_median = SimpleImputer(strategy=\"median\", add_indicator=True)\n",
    "scaler = StandardScaler()"
   ]
  },
  {
   "cell_type": "code",
   "execution_count": 211,
   "id": "4b65574a",
   "metadata": {
    "ExecuteTime": {
     "end_time": "2021-10-17T18:27:40.984937Z",
     "start_time": "2021-10-17T18:27:40.938073Z"
    }
   },
   "outputs": [],
   "source": [
    "imputer_constant = SimpleImputer(strategy=\"constant\")\n",
    "ohe = OneHotEncoder(handle_unknown=\"ignore\")"
   ]
  },
  {
   "cell_type": "markdown",
   "id": "91cd1e4f",
   "metadata": {},
   "source": [
    "#### Select columns by Data type"
   ]
  },
  {
   "cell_type": "code",
   "execution_count": 212,
   "id": "0f7066af",
   "metadata": {
    "ExecuteTime": {
     "end_time": "2021-10-17T18:27:41.642532Z",
     "start_time": "2021-10-17T18:27:41.620400Z"
    }
   },
   "outputs": [],
   "source": [
    "feat_numeric = make_column_selector(dtype_include=np.number)\n",
    "feat_categorical = make_column_selector(dtype_exclude=np.number)"
   ]
  },
  {
   "cell_type": "code",
   "execution_count": 213,
   "id": "03ab2635",
   "metadata": {
    "ExecuteTime": {
     "end_time": "2021-10-17T18:27:41.658153Z",
     "start_time": "2021-10-17T18:27:41.642532Z"
    }
   },
   "outputs": [],
   "source": [
    "# Pre-processing\n",
    "preprocessor = make_column_transformer(\n",
    "    (make_pipeline(imputer_median, scaler), feat_numeric),\n",
    "    (make_pipeline(imputer_constant, ohe), feat_categorical)\n",
    ")"
   ]
  },
  {
   "cell_type": "markdown",
   "id": "73902e9e",
   "metadata": {},
   "source": [
    "### Pipeline"
   ]
  },
  {
   "cell_type": "code",
   "execution_count": 214,
   "id": "5309264d",
   "metadata": {
    "ExecuteTime": {
     "end_time": "2021-10-17T18:27:42.375713Z",
     "start_time": "2021-10-17T18:27:42.360092Z"
    }
   },
   "outputs": [],
   "source": [
    "pipe = make_pipeline(\n",
    "    preprocessor,\n",
    "    LogisticRegression()\n",
    ")"
   ]
  },
  {
   "cell_type": "code",
   "execution_count": 215,
   "id": "adb305c7",
   "metadata": {
    "ExecuteTime": {
     "end_time": "2021-10-17T18:27:42.707705Z",
     "start_time": "2021-10-17T18:27:42.391334Z"
    }
   },
   "outputs": [
    {
     "data": {
      "text/plain": [
       "0.8035904839620865"
      ]
     },
     "execution_count": 215,
     "metadata": {},
     "output_type": "execute_result"
    }
   ],
   "source": [
    "cross_val_score(pipe, X, y).mean()"
   ]
  },
  {
   "cell_type": "code",
   "execution_count": 216,
   "id": "797246cc",
   "metadata": {
    "ExecuteTime": {
     "end_time": "2021-10-17T18:27:42.723327Z",
     "start_time": "2021-10-17T18:27:42.707705Z"
    }
   },
   "outputs": [],
   "source": [
    "# Train and Predict"
   ]
  },
  {
   "cell_type": "code",
   "execution_count": 217,
   "id": "c672a002",
   "metadata": {
    "ExecuteTime": {
     "end_time": "2021-10-17T18:27:42.869382Z",
     "start_time": "2021-10-17T18:27:42.723327Z"
    }
   },
   "outputs": [
    {
     "data": {
      "text/html": [
       "<style>#sk-f42c221a-947d-4e47-a1c0-13cc6da5915c {color: black;background-color: white;}#sk-f42c221a-947d-4e47-a1c0-13cc6da5915c pre{padding: 0;}#sk-f42c221a-947d-4e47-a1c0-13cc6da5915c div.sk-toggleable {background-color: white;}#sk-f42c221a-947d-4e47-a1c0-13cc6da5915c label.sk-toggleable__label {cursor: pointer;display: block;width: 100%;margin-bottom: 0;padding: 0.3em;box-sizing: border-box;text-align: center;}#sk-f42c221a-947d-4e47-a1c0-13cc6da5915c div.sk-toggleable__content {max-height: 0;max-width: 0;overflow: hidden;text-align: left;background-color: #f0f8ff;}#sk-f42c221a-947d-4e47-a1c0-13cc6da5915c div.sk-toggleable__content pre {margin: 0.2em;color: black;border-radius: 0.25em;background-color: #f0f8ff;}#sk-f42c221a-947d-4e47-a1c0-13cc6da5915c input.sk-toggleable__control:checked~div.sk-toggleable__content {max-height: 200px;max-width: 100%;overflow: auto;}#sk-f42c221a-947d-4e47-a1c0-13cc6da5915c div.sk-estimator input.sk-toggleable__control:checked~label.sk-toggleable__label {background-color: #d4ebff;}#sk-f42c221a-947d-4e47-a1c0-13cc6da5915c div.sk-label input.sk-toggleable__control:checked~label.sk-toggleable__label {background-color: #d4ebff;}#sk-f42c221a-947d-4e47-a1c0-13cc6da5915c input.sk-hidden--visually {border: 0;clip: rect(1px 1px 1px 1px);clip: rect(1px, 1px, 1px, 1px);height: 1px;margin: -1px;overflow: hidden;padding: 0;position: absolute;width: 1px;}#sk-f42c221a-947d-4e47-a1c0-13cc6da5915c div.sk-estimator {font-family: monospace;background-color: #f0f8ff;border: 1px dotted black;border-radius: 0.25em;box-sizing: border-box;margin-bottom: 0.5em;}#sk-f42c221a-947d-4e47-a1c0-13cc6da5915c div.sk-estimator:hover {background-color: #d4ebff;}#sk-f42c221a-947d-4e47-a1c0-13cc6da5915c div.sk-parallel-item::after {content: \"\";width: 100%;border-bottom: 1px solid gray;flex-grow: 1;}#sk-f42c221a-947d-4e47-a1c0-13cc6da5915c div.sk-label:hover label.sk-toggleable__label {background-color: #d4ebff;}#sk-f42c221a-947d-4e47-a1c0-13cc6da5915c div.sk-serial::before {content: \"\";position: absolute;border-left: 1px solid gray;box-sizing: border-box;top: 2em;bottom: 0;left: 50%;}#sk-f42c221a-947d-4e47-a1c0-13cc6da5915c div.sk-serial {display: flex;flex-direction: column;align-items: center;background-color: white;padding-right: 0.2em;padding-left: 0.2em;}#sk-f42c221a-947d-4e47-a1c0-13cc6da5915c div.sk-item {z-index: 1;}#sk-f42c221a-947d-4e47-a1c0-13cc6da5915c div.sk-parallel {display: flex;align-items: stretch;justify-content: center;background-color: white;}#sk-f42c221a-947d-4e47-a1c0-13cc6da5915c div.sk-parallel::before {content: \"\";position: absolute;border-left: 1px solid gray;box-sizing: border-box;top: 2em;bottom: 0;left: 50%;}#sk-f42c221a-947d-4e47-a1c0-13cc6da5915c div.sk-parallel-item {display: flex;flex-direction: column;position: relative;background-color: white;}#sk-f42c221a-947d-4e47-a1c0-13cc6da5915c div.sk-parallel-item:first-child::after {align-self: flex-end;width: 50%;}#sk-f42c221a-947d-4e47-a1c0-13cc6da5915c div.sk-parallel-item:last-child::after {align-self: flex-start;width: 50%;}#sk-f42c221a-947d-4e47-a1c0-13cc6da5915c div.sk-parallel-item:only-child::after {width: 0;}#sk-f42c221a-947d-4e47-a1c0-13cc6da5915c div.sk-dashed-wrapped {border: 1px dashed gray;margin: 0 0.4em 0.5em 0.4em;box-sizing: border-box;padding-bottom: 0.4em;background-color: white;position: relative;}#sk-f42c221a-947d-4e47-a1c0-13cc6da5915c div.sk-label label {font-family: monospace;font-weight: bold;background-color: white;display: inline-block;line-height: 1.2em;}#sk-f42c221a-947d-4e47-a1c0-13cc6da5915c div.sk-label-container {position: relative;z-index: 2;text-align: center;}#sk-f42c221a-947d-4e47-a1c0-13cc6da5915c div.sk-container {display: inline-block;position: relative;}</style><div id=\"sk-f42c221a-947d-4e47-a1c0-13cc6da5915c\" class\"sk-top-container\"><div class=\"sk-container\"><div class=\"sk-item sk-dashed-wrapped\"><div class=\"sk-label-container\"><div class=\"sk-label sk-toggleable\"><input class=\"sk-toggleable__control sk-hidden--visually\" id=\"29f4e948-43f3-4069-b684-39173df6db98\" type=\"checkbox\" ><label class=\"sk-toggleable__label\" for=\"29f4e948-43f3-4069-b684-39173df6db98\">Pipeline</label><div class=\"sk-toggleable__content\"><pre>Pipeline(steps=[('columntransformer',\n",
       "                 ColumnTransformer(transformers=[('pipeline-1',\n",
       "                                                  Pipeline(steps=[('simpleimputer',\n",
       "                                                                   SimpleImputer(add_indicator=True,\n",
       "                                                                                 strategy='median')),\n",
       "                                                                  ('standardscaler',\n",
       "                                                                   StandardScaler())]),\n",
       "                                                  <sklearn.compose._column_transformer.make_column_selector object at 0x0000019FAB30B790>),\n",
       "                                                 ('pipeline-2',\n",
       "                                                  Pipeline(steps=[('simpleimputer',\n",
       "                                                                   SimpleImputer(strategy='constant')),\n",
       "                                                                  ('onehotencoder',\n",
       "                                                                   OneHotEncoder(handle_unknown='ignore'))]),\n",
       "                                                  <sklearn.compose._column_transformer.make_column_selector object at 0x0000019FAB30B310>)])),\n",
       "                ('logisticregression', LogisticRegression())])</pre></div></div></div><div class=\"sk-serial\"><div class=\"sk-item sk-dashed-wrapped\"><div class=\"sk-label-container\"><div class=\"sk-label sk-toggleable\"><input class=\"sk-toggleable__control sk-hidden--visually\" id=\"b0e72fb3-d0b6-4191-8c2e-49f6183ce034\" type=\"checkbox\" ><label class=\"sk-toggleable__label\" for=\"b0e72fb3-d0b6-4191-8c2e-49f6183ce034\">columntransformer: ColumnTransformer</label><div class=\"sk-toggleable__content\"><pre>ColumnTransformer(transformers=[('pipeline-1',\n",
       "                                 Pipeline(steps=[('simpleimputer',\n",
       "                                                  SimpleImputer(add_indicator=True,\n",
       "                                                                strategy='median')),\n",
       "                                                 ('standardscaler',\n",
       "                                                  StandardScaler())]),\n",
       "                                 <sklearn.compose._column_transformer.make_column_selector object at 0x0000019FAB30B790>),\n",
       "                                ('pipeline-2',\n",
       "                                 Pipeline(steps=[('simpleimputer',\n",
       "                                                  SimpleImputer(strategy='constant')),\n",
       "                                                 ('onehotencoder',\n",
       "                                                  OneHotEncoder(handle_unknown='ignore'))]),\n",
       "                                 <sklearn.compose._column_transformer.make_column_selector object at 0x0000019FAB30B310>)])</pre></div></div></div><div class=\"sk-parallel\"><div class=\"sk-parallel-item\"><div class=\"sk-item\"><div class=\"sk-label-container\"><div class=\"sk-label sk-toggleable\"><input class=\"sk-toggleable__control sk-hidden--visually\" id=\"db8d659b-4445-415b-bb67-d367f2ee8bda\" type=\"checkbox\" ><label class=\"sk-toggleable__label\" for=\"db8d659b-4445-415b-bb67-d367f2ee8bda\">pipeline-1</label><div class=\"sk-toggleable__content\"><pre><sklearn.compose._column_transformer.make_column_selector object at 0x0000019FAB30B790></pre></div></div></div><div class=\"sk-serial\"><div class=\"sk-item\"><div class=\"sk-serial\"><div class=\"sk-item\"><div class=\"sk-estimator sk-toggleable\"><input class=\"sk-toggleable__control sk-hidden--visually\" id=\"712c7cbe-2bd9-4dcb-989b-163cd7f23908\" type=\"checkbox\" ><label class=\"sk-toggleable__label\" for=\"712c7cbe-2bd9-4dcb-989b-163cd7f23908\">SimpleImputer</label><div class=\"sk-toggleable__content\"><pre>SimpleImputer(add_indicator=True, strategy='median')</pre></div></div></div><div class=\"sk-item\"><div class=\"sk-estimator sk-toggleable\"><input class=\"sk-toggleable__control sk-hidden--visually\" id=\"9add26a3-7886-4d02-ab4d-4b1a912a33e6\" type=\"checkbox\" ><label class=\"sk-toggleable__label\" for=\"9add26a3-7886-4d02-ab4d-4b1a912a33e6\">StandardScaler</label><div class=\"sk-toggleable__content\"><pre>StandardScaler()</pre></div></div></div></div></div></div></div></div><div class=\"sk-parallel-item\"><div class=\"sk-item\"><div class=\"sk-label-container\"><div class=\"sk-label sk-toggleable\"><input class=\"sk-toggleable__control sk-hidden--visually\" id=\"19b61dd8-2b01-45fe-b7ee-8533e3dd3eb5\" type=\"checkbox\" ><label class=\"sk-toggleable__label\" for=\"19b61dd8-2b01-45fe-b7ee-8533e3dd3eb5\">pipeline-2</label><div class=\"sk-toggleable__content\"><pre><sklearn.compose._column_transformer.make_column_selector object at 0x0000019FAB30B310></pre></div></div></div><div class=\"sk-serial\"><div class=\"sk-item\"><div class=\"sk-serial\"><div class=\"sk-item\"><div class=\"sk-estimator sk-toggleable\"><input class=\"sk-toggleable__control sk-hidden--visually\" id=\"acd1f145-2480-49b0-a889-a7649298ba7f\" type=\"checkbox\" ><label class=\"sk-toggleable__label\" for=\"acd1f145-2480-49b0-a889-a7649298ba7f\">SimpleImputer</label><div class=\"sk-toggleable__content\"><pre>SimpleImputer(strategy='constant')</pre></div></div></div><div class=\"sk-item\"><div class=\"sk-estimator sk-toggleable\"><input class=\"sk-toggleable__control sk-hidden--visually\" id=\"5d59b175-a91d-456f-99ad-6e070c50d16b\" type=\"checkbox\" ><label class=\"sk-toggleable__label\" for=\"5d59b175-a91d-456f-99ad-6e070c50d16b\">OneHotEncoder</label><div class=\"sk-toggleable__content\"><pre>OneHotEncoder(handle_unknown='ignore')</pre></div></div></div></div></div></div></div></div></div></div><div class=\"sk-item\"><div class=\"sk-estimator sk-toggleable\"><input class=\"sk-toggleable__control sk-hidden--visually\" id=\"72fc8838-01a3-43ec-9ec8-d2c5d30b0b6e\" type=\"checkbox\" ><label class=\"sk-toggleable__label\" for=\"72fc8838-01a3-43ec-9ec8-d2c5d30b0b6e\">LogisticRegression</label><div class=\"sk-toggleable__content\"><pre>LogisticRegression()</pre></div></div></div></div></div></div></div>"
      ],
      "text/plain": [
       "Pipeline(steps=[('columntransformer',\n",
       "                 ColumnTransformer(transformers=[('pipeline-1',\n",
       "                                                  Pipeline(steps=[('simpleimputer',\n",
       "                                                                   SimpleImputer(add_indicator=True,\n",
       "                                                                                 strategy='median')),\n",
       "                                                                  ('standardscaler',\n",
       "                                                                   StandardScaler())]),\n",
       "                                                  <sklearn.compose._column_transformer.make_column_selector object at 0x0000019FAB30B790>),\n",
       "                                                 ('pipeline-2',\n",
       "                                                  Pipeline(steps=[('simpleimputer',\n",
       "                                                                   SimpleImputer(strategy='constant')),\n",
       "                                                                  ('onehotencoder',\n",
       "                                                                   OneHotEncoder(handle_unknown='ignore'))]),\n",
       "                                                  <sklearn.compose._column_transformer.make_column_selector object at 0x0000019FAB30B310>)])),\n",
       "                ('logisticregression', LogisticRegression())])"
      ]
     },
     "execution_count": 217,
     "metadata": {},
     "output_type": "execute_result"
    }
   ],
   "source": [
    "pipe.fit(X, y)"
   ]
  },
  {
   "cell_type": "code",
   "execution_count": 218,
   "id": "f43a6dbb",
   "metadata": {
    "ExecuteTime": {
     "end_time": "2021-10-17T18:27:42.916217Z",
     "start_time": "2021-10-17T18:27:42.884975Z"
    }
   },
   "outputs": [
    {
     "data": {
      "text/plain": [
       "array([0, 0, 0, 0, 1, 0, 1, 0, 1, 0], dtype=int64)"
      ]
     },
     "execution_count": 218,
     "metadata": {},
     "output_type": "execute_result"
    }
   ],
   "source": [
    "pipe.predict(X_new)"
   ]
  },
  {
   "cell_type": "markdown",
   "id": "ed8a1e5f-0bd7-4e0c-bce2-12da0767adf0",
   "metadata": {},
   "source": [
    "# Parameter Tuning\n"
   ]
  },
  {
   "cell_type": "markdown",
   "id": "d9b2ccca-3d60-44b5-981a-926032523581",
   "metadata": {},
   "source": [
    "## Use cross_val_score and GridSearchCV on a Pipeline\n",
    "\n",
    "Preprocessing steps will automatically occur AFTER each cross-validation split, which is critical if you want meaningful scores."
   ]
  },
  {
   "cell_type": "code",
   "execution_count": 219,
   "id": "2d8cf1df",
   "metadata": {},
   "outputs": [],
   "source": [
    "from sklearn.preprocessing import OneHotEncoder\n",
    "from sklearn.feature_extraction.text import CountVectorizer\n",
    "from sklearn.compose import make_column_transformer"
   ]
  },
  {
   "cell_type": "code",
   "execution_count": 220,
   "id": "776761a1-2669-4e94-a64c-75980c5795d2",
   "metadata": {},
   "outputs": [],
   "source": [
    "file_input_path = \"titanic_train.csv\"\n",
    "if not os.path.exists(file_input_path):\n",
    "    df_train = pd.read_csv(\"http://bit.ly/kaggletrain\")\n",
    "    df_train.to_csv(file_input_path, header=True, index=False, sep=\"\\t\")\n",
    "else:\n",
    "    df_train = pd.read_csv(file_input_path, header=0, sep=\"\\t\")"
   ]
  },
  {
   "cell_type": "code",
   "execution_count": 221,
   "id": "238239ee-59b6-44a1-8df3-9ae925a4293a",
   "metadata": {},
   "outputs": [],
   "source": [
    "X, y = df_train[[\"Sex\", \"Name\"]], df_train[\"Survived\"]"
   ]
  },
  {
   "cell_type": "code",
   "execution_count": 222,
   "id": "8c95861a",
   "metadata": {},
   "outputs": [],
   "source": [
    "col_transformer = make_column_transformer(\n",
    "    (OneHotEncoder(), [\"Sex\"]),\n",
    "    (CountVectorizer(), \"Name\")\n",
    ")"
   ]
  },
  {
   "cell_type": "code",
   "execution_count": 223,
   "id": "ebb7f48a",
   "metadata": {},
   "outputs": [],
   "source": [
    "from sklearn.linear_model import LogisticRegression\n",
    "clf = LogisticRegression(solver=\"liblinear\", random_state=1)"
   ]
  },
  {
   "cell_type": "code",
   "execution_count": 224,
   "id": "f5928a3d",
   "metadata": {},
   "outputs": [],
   "source": [
    "from sklearn.pipeline import make_pipeline\n",
    "pipe = make_pipeline(col_transformer, clf)"
   ]
  },
  {
   "cell_type": "markdown",
   "id": "534e3af3-84f5-4a04-8170-a0168aba36f8",
   "metadata": {
    "tags": []
   },
   "source": [
    "### Cross validate the entire pipeline, instead of the model"
   ]
  },
  {
   "cell_type": "code",
   "execution_count": 225,
   "id": "ff876223",
   "metadata": {},
   "outputs": [
    {
     "data": {
      "text/plain": [
       "0.8024543343167408"
      ]
     },
     "execution_count": 225,
     "metadata": {},
     "output_type": "execute_result"
    }
   ],
   "source": [
    "from sklearn.model_selection import cross_val_score\n",
    "cross_val_score(pipe, X, y, cv=5, scoring=\"accuracy\").mean()"
   ]
  },
  {
   "cell_type": "markdown",
   "id": "420ebd0c-d404-461c-bb0c-e0301c2c4261",
   "metadata": {},
   "source": [
    "### Find the optimal tuning parameter"
   ]
  },
  {
   "cell_type": "code",
   "execution_count": 226,
   "id": "9c90ae00",
   "metadata": {},
   "outputs": [],
   "source": [
    "# specify parameter values to search\n",
    "params = {}\n",
    "params['columntransformer__countvectorizer__min_df'] = [1, 2]\n",
    "params['logisticregression__C'] = [0.1, 1, 10]\n",
    "params['logisticregression__penalty'] = ['l1', 'l2']"
   ]
  },
  {
   "cell_type": "code",
   "execution_count": 227,
   "id": "d45448fc-e5bf-49df-be51-f298827bb0b9",
   "metadata": {},
   "outputs": [],
   "source": [
    "# try all possible combinations of those parameter values\n",
    "from sklearn.model_selection import GridSearchCV\n",
    "grid = GridSearchCV(pipe, params, cv=5, scoring='accuracy')\n",
    "grid.fit(X, y);"
   ]
  },
  {
   "cell_type": "code",
   "execution_count": 228,
   "id": "f85cc1cf-9c33-4bca-91ac-f236d41668ea",
   "metadata": {},
   "outputs": [
    {
     "data": {
      "text/plain": [
       "0.8215177954930638"
      ]
     },
     "execution_count": 228,
     "metadata": {},
     "output_type": "execute_result"
    }
   ],
   "source": [
    "# what was the best score found during the search?\n",
    "grid.best_score_"
   ]
  },
  {
   "cell_type": "code",
   "execution_count": 229,
   "id": "7c7ebf30-c9b5-4b4f-ae0c-ba6088974792",
   "metadata": {},
   "outputs": [
    {
     "data": {
      "text/plain": [
       "{'columntransformer__countvectorizer__min_df': 1,\n",
       " 'logisticregression__C': 1,\n",
       " 'logisticregression__penalty': 'l1'}"
      ]
     },
     "execution_count": 229,
     "metadata": {},
     "output_type": "execute_result"
    }
   ],
   "source": [
    "# which combination of parameters produced the best score?\n",
    "grid.best_params_"
   ]
  },
  {
   "cell_type": "markdown",
   "id": "574a878b-e365-4564-bdee-7223ec09dc7d",
   "metadata": {},
   "source": [
    "## When GridSearchCV takes too long, try RandomizedSearchCV\n",
    "\n",
    "[GridSearchCV](https://scikit-learn.org/stable/modules/generated/sklearn.model_selection.GridSearchCV.html) taking too long? Try [RandomizedSearchCV](https://scikit-learn.org/stable/modules/generated/sklearn.model_selection.RandomizedSearchCV.html) with a small number of iterations.\n",
    "\n",
    "Make sure to specify a [distribution](https://docs.scipy.org/doc/scipy/reference/stats.html) (instead of a list of values) for continuous parameters!\n",
    "\n",
    "Additional links: [np.linspace](https://numpy.org/doc/stable/reference/generated/numpy.linspace.html), [np.logspace](https://numpy.org/doc/stable/reference/generated/numpy.logspace.html)"
   ]
  },
  {
   "cell_type": "code",
   "execution_count": 230,
   "id": "fb34558c-77e3-4ab9-8cff-6dd9997a44eb",
   "metadata": {},
   "outputs": [],
   "source": [
    "file_input_path = \"titanic_train.csv\"\n",
    "if not os.path.exists(file_input_path):\n",
    "    df_train = pd.read_csv(\"http://bit.ly/kaggletrain\")\n",
    "    df_train.to_csv(file_input_path, header=True, index=False, sep=\"\\t\")\n",
    "else:\n",
    "    df_train = pd.read_csv(file_input_path, header=0, sep=\"\\t\")"
   ]
  },
  {
   "cell_type": "code",
   "execution_count": 231,
   "id": "e66c1a50-581d-4437-9dd1-3fbff2a17115",
   "metadata": {},
   "outputs": [],
   "source": [
    "X, y = df_train[\"Name\"], df_train[\"Survived\"]"
   ]
  },
  {
   "cell_type": "code",
   "execution_count": 232,
   "id": "ff157865-9d66-484b-9d83-a7667a4b1ea5",
   "metadata": {},
   "outputs": [],
   "source": [
    "from sklearn.feature_extraction.text import CountVectorizer\n",
    "from sklearn.naive_bayes import MultinomialNB\n",
    "from sklearn.pipeline import make_pipeline"
   ]
  },
  {
   "cell_type": "code",
   "execution_count": 233,
   "id": "a9fb27f1-68e7-4baf-9c9e-c6a9ba4bad7d",
   "metadata": {},
   "outputs": [],
   "source": [
    "pipe = make_pipeline(\n",
    "    CountVectorizer(),\n",
    "    MultinomialNB()\n",
    ")"
   ]
  },
  {
   "cell_type": "markdown",
   "id": "e092567a-2a3e-45aa-8ebd-f1f157b63666",
   "metadata": {},
   "source": [
    "### cross-validate the pipeline using default parameters"
   ]
  },
  {
   "cell_type": "code",
   "execution_count": 234,
   "id": "708b2a9c",
   "metadata": {},
   "outputs": [
    {
     "data": {
      "text/plain": [
       "0.8001820350260498"
      ]
     },
     "execution_count": 234,
     "metadata": {},
     "output_type": "execute_result"
    }
   ],
   "source": [
    "from sklearn.model_selection import cross_val_score\n",
    "cross_val_score(pipe, X, y, cv=5, scoring='accuracy').mean()"
   ]
  },
  {
   "cell_type": "markdown",
   "id": "2485cb18-ded1-4908-84df-c7d1e02cd629",
   "metadata": {},
   "source": [
    "### specify parameter values to search (use a distribution for any continuous parameters)"
   ]
  },
  {
   "cell_type": "code",
   "execution_count": 235,
   "id": "00cd2b83-c1c2-42c7-ac83-b4fd35c375a2",
   "metadata": {},
   "outputs": [],
   "source": [
    "import scipy as sp\n",
    "params = {}\n",
    "params['countvectorizer__min_df'] = [1, 2, 3, 4]\n",
    "params['countvectorizer__lowercase'] = [True, False]\n",
    "params['multinomialnb__alpha'] = sp.stats.uniform(scale=1)"
   ]
  },
  {
   "cell_type": "code",
   "execution_count": 236,
   "id": "b8f861c1-f739-4b46-8823-d606d13ed566",
   "metadata": {},
   "outputs": [],
   "source": [
    "# try \"n_iter\" random combinations of those parameter values\n",
    "from sklearn.model_selection import RandomizedSearchCV\n",
    "rand = RandomizedSearchCV(pipe, params, n_iter=10, cv=5, scoring='accuracy', random_state=1)\n",
    "rand.fit(X, y);"
   ]
  },
  {
   "cell_type": "code",
   "execution_count": 237,
   "id": "a1141430-e1ea-48b9-a124-0887b2569e9f",
   "metadata": {},
   "outputs": [
    {
     "data": {
      "text/plain": [
       "0.8080534806352395"
      ]
     },
     "execution_count": 237,
     "metadata": {},
     "output_type": "execute_result"
    }
   ],
   "source": [
    "# what was the best score found during the search?\n",
    "rand.best_score_"
   ]
  },
  {
   "cell_type": "code",
   "execution_count": 238,
   "id": "fea8ee9f-d005-4d39-8178-fcf4f3f8b504",
   "metadata": {},
   "outputs": [
    {
     "data": {
      "text/plain": [
       "{'countvectorizer__lowercase': False,\n",
       " 'countvectorizer__min_df': 3,\n",
       " 'multinomialnb__alpha': 0.1981014890848788}"
      ]
     },
     "execution_count": 238,
     "metadata": {},
     "output_type": "execute_result"
    }
   ],
   "source": [
    "# which combination of parameters produced the best score?\n",
    "rand.best_params_"
   ]
  },
  {
   "cell_type": "markdown",
   "id": "ae31ccdb-1896-44e1-bf6a-f8b6cb1bbd9d",
   "metadata": {},
   "source": [
    "## Display GridSearchCV and RandomizedSearchCV results in a DataFrame\n",
    "\n",
    "Hyperparameter search results (from GridSearchCV or RandomizedSearchCV) can be converted into a pandas DataFrame.\n",
    "\n",
    "Makes it far easier to explore the results!"
   ]
  },
  {
   "cell_type": "code",
   "execution_count": 239,
   "id": "3032b9bf-b670-4cc9-bc1e-0970935a73fe",
   "metadata": {},
   "outputs": [],
   "source": [
    "file_input_path = \"titanic_train.csv\"\n",
    "if not os.path.exists(file_input_path):\n",
    "    df_train = pd.read_csv(\"http://bit.ly/kaggletrain\")\n",
    "    df_train.to_csv(file_input_path, header=True, index=False, sep=\"\\t\")\n",
    "else:\n",
    "    df_train = pd.read_csv(file_input_path, header=0, sep=\"\\t\")"
   ]
  },
  {
   "cell_type": "code",
   "execution_count": 240,
   "id": "a3778752-55b1-4213-841e-eab0cf133168",
   "metadata": {},
   "outputs": [],
   "source": [
    "X = df_train[['Pclass', 'Sex', 'Name']]\n",
    "y = df_train['Survived']"
   ]
  },
  {
   "cell_type": "code",
   "execution_count": 241,
   "id": "c1866a91-2964-4ac0-a93b-69f5b2701f07",
   "metadata": {},
   "outputs": [],
   "source": [
    "from sklearn.preprocessing import OneHotEncoder\n",
    "from sklearn.feature_extraction.text import CountVectorizer\n",
    "from sklearn.linear_model import LogisticRegression\n",
    "from sklearn.compose import make_column_transformer\n",
    "from sklearn.pipeline import Pipeline"
   ]
  },
  {
   "cell_type": "code",
   "execution_count": 242,
   "id": "f131d960-8d15-42e8-a0d3-1952cc7b6ac2",
   "metadata": {},
   "outputs": [],
   "source": [
    "col_transformer = make_column_transformer(\n",
    "    (OneHotEncoder(), [\"Sex\"]),\n",
    "    (CountVectorizer(), \"Name\"),\n",
    "    remainder=\"passthrough\"\n",
    ")"
   ]
  },
  {
   "cell_type": "code",
   "execution_count": 243,
   "id": "c1182c0b-77e9-41f4-a5b1-f669045747c8",
   "metadata": {},
   "outputs": [],
   "source": [
    "clf = LogisticRegression(solver=\"liblinear\", random_state=1)"
   ]
  },
  {
   "cell_type": "code",
   "execution_count": 244,
   "id": "49699641-3eb0-4fcf-aedd-e4d03e6c46aa",
   "metadata": {},
   "outputs": [],
   "source": [
    "pipe = Pipeline(\n",
    "    [\n",
    "        (\"preprocessor\", col_transformer),\n",
    "        (\"model\", clf)\n",
    "    ]\n",
    ")"
   ]
  },
  {
   "cell_type": "code",
   "execution_count": 245,
   "id": "b75412f2-eb07-4131-9103-9f5c7b8e5de0",
   "metadata": {},
   "outputs": [],
   "source": [
    "# specify parameter values to search\n",
    "params = {}\n",
    "params['model__C'] = [0.1, 1, 10]\n",
    "params['model__penalty'] = ['l1', 'l2']"
   ]
  },
  {
   "cell_type": "code",
   "execution_count": 246,
   "id": "8d3a4e3f-0301-410e-ab17-a0d317064b69",
   "metadata": {},
   "outputs": [],
   "source": [
    "# try all possible combinations of those parameter values\n",
    "from sklearn.model_selection import GridSearchCV\n",
    "grid = GridSearchCV(pipe, params, cv=5, scoring='accuracy')\n",
    "grid.fit(X, y);"
   ]
  },
  {
   "cell_type": "code",
   "execution_count": 247,
   "id": "4da0a172-c285-4109-ae0a-c1d1fdd41632",
   "metadata": {},
   "outputs": [],
   "source": [
    "# convert results into a DataFrame\n",
    "results = pd.DataFrame(grid.cv_results_)[['params', 'mean_test_score', 'rank_test_score']]"
   ]
  },
  {
   "cell_type": "code",
   "execution_count": 248,
   "id": "70492410-3666-41e4-abeb-b9cfbc92f876",
   "metadata": {},
   "outputs": [
    {
     "data": {
      "text/html": [
       "<div>\n",
       "<style scoped>\n",
       "    .dataframe tbody tr th:only-of-type {\n",
       "        vertical-align: middle;\n",
       "    }\n",
       "\n",
       "    .dataframe tbody tr th {\n",
       "        vertical-align: top;\n",
       "    }\n",
       "\n",
       "    .dataframe thead th {\n",
       "        text-align: right;\n",
       "    }\n",
       "</style>\n",
       "<table border=\"1\" class=\"dataframe\">\n",
       "  <thead>\n",
       "    <tr style=\"text-align: right;\">\n",
       "      <th></th>\n",
       "      <th>params</th>\n",
       "      <th>mean_test_score</th>\n",
       "      <th>rank_test_score</th>\n",
       "    </tr>\n",
       "  </thead>\n",
       "  <tbody>\n",
       "    <tr>\n",
       "      <th>4</th>\n",
       "      <td>{'model__C': 10, 'model__penalty': 'l1'}</td>\n",
       "      <td>0.821537</td>\n",
       "      <td>1</td>\n",
       "    </tr>\n",
       "    <tr>\n",
       "      <th>2</th>\n",
       "      <td>{'model__C': 1, 'model__penalty': 'l1'}</td>\n",
       "      <td>0.820394</td>\n",
       "      <td>2</td>\n",
       "    </tr>\n",
       "    <tr>\n",
       "      <th>5</th>\n",
       "      <td>{'model__C': 10, 'model__penalty': 'l2'}</td>\n",
       "      <td>0.817055</td>\n",
       "      <td>3</td>\n",
       "    </tr>\n",
       "    <tr>\n",
       "      <th>3</th>\n",
       "      <td>{'model__C': 1, 'model__penalty': 'l2'}</td>\n",
       "      <td>0.812573</td>\n",
       "      <td>4</td>\n",
       "    </tr>\n",
       "    <tr>\n",
       "      <th>1</th>\n",
       "      <td>{'model__C': 0.1, 'model__penalty': 'l2'}</td>\n",
       "      <td>0.791225</td>\n",
       "      <td>5</td>\n",
       "    </tr>\n",
       "    <tr>\n",
       "      <th>0</th>\n",
       "      <td>{'model__C': 0.1, 'model__penalty': 'l1'}</td>\n",
       "      <td>0.788984</td>\n",
       "      <td>6</td>\n",
       "    </tr>\n",
       "  </tbody>\n",
       "</table>\n",
       "</div>"
      ],
      "text/plain": [
       "                                      params  mean_test_score  rank_test_score\n",
       "4   {'model__C': 10, 'model__penalty': 'l1'}         0.821537                1\n",
       "2    {'model__C': 1, 'model__penalty': 'l1'}         0.820394                2\n",
       "5   {'model__C': 10, 'model__penalty': 'l2'}         0.817055                3\n",
       "3    {'model__C': 1, 'model__penalty': 'l2'}         0.812573                4\n",
       "1  {'model__C': 0.1, 'model__penalty': 'l2'}         0.791225                5\n",
       "0  {'model__C': 0.1, 'model__penalty': 'l1'}         0.788984                6"
      ]
     },
     "execution_count": 248,
     "metadata": {},
     "output_type": "execute_result"
    }
   ],
   "source": [
    "# sort by test score\n",
    "results.sort_values('rank_test_score')"
   ]
  },
  {
   "cell_type": "markdown",
   "id": "12d1e82d-b7b6-4af6-9063-31e33a20ead7",
   "metadata": {},
   "source": [
    "## Important tuning parameter for LogisticRegression\n",
    "\n",
    "Some important tuning parameters for [LogisticRegression](https://scikit-learn.org/stable/modules/linear_model.html#logistic-regression):\n",
    "+ C: inverse of regularization strength\n",
    "+ penalty: type of regularization\n",
    "+ solver: algorithm used for optimization"
   ]
  },
  {
   "cell_type": "markdown",
   "id": "6983f9ea-37b5-4183-a684-3b8f0cef3152",
   "metadata": {},
   "source": [
    "## Prune a decision tree to avoid overfitting\n",
    "\n",
    "New in scikit-learn 0.22: Pruning of decision trees to avoid overfitting!\n",
    "+ Uses cost-complexity pruning\n",
    "+ Increase \"ccp_alpha\" to increase pruning (default value is 0)\n",
    "\n",
    "Ref: [DecisionTreeClassifier](https://scikit-learn.org/stable/modules/generated/sklearn.tree.DecisionTreeClassifier.html)"
   ]
  },
  {
   "cell_type": "code",
   "execution_count": 249,
   "id": "dc3b3fe7-fb3f-4262-8f41-d156b3ca7a29",
   "metadata": {},
   "outputs": [],
   "source": [
    "file_input_path = \"titanic_train.csv\"\n",
    "if not os.path.exists(file_input_path):\n",
    "    df_train = pd.read_csv(\"http://bit.ly/kaggletrain\")\n",
    "    df_train.to_csv(file_input_path, header=True, index=False, sep=\"\\t\")\n",
    "else:\n",
    "    df_train = pd.read_csv(file_input_path, header=0, sep=\"\\t\")"
   ]
  },
  {
   "cell_type": "code",
   "execution_count": 250,
   "id": "d1f4c94a",
   "metadata": {},
   "outputs": [
    {
     "data": {
      "text/html": [
       "<div>\n",
       "<style scoped>\n",
       "    .dataframe tbody tr th:only-of-type {\n",
       "        vertical-align: middle;\n",
       "    }\n",
       "\n",
       "    .dataframe tbody tr th {\n",
       "        vertical-align: top;\n",
       "    }\n",
       "\n",
       "    .dataframe thead th {\n",
       "        text-align: right;\n",
       "    }\n",
       "</style>\n",
       "<table border=\"1\" class=\"dataframe\">\n",
       "  <thead>\n",
       "    <tr style=\"text-align: right;\">\n",
       "      <th></th>\n",
       "      <th>PassengerId</th>\n",
       "      <th>Survived</th>\n",
       "      <th>Pclass</th>\n",
       "      <th>Name</th>\n",
       "      <th>Sex</th>\n",
       "      <th>Age</th>\n",
       "      <th>SibSp</th>\n",
       "      <th>Parch</th>\n",
       "      <th>Ticket</th>\n",
       "      <th>Fare</th>\n",
       "      <th>Cabin</th>\n",
       "      <th>Embarked</th>\n",
       "    </tr>\n",
       "  </thead>\n",
       "  <tbody>\n",
       "    <tr>\n",
       "      <th>0</th>\n",
       "      <td>1</td>\n",
       "      <td>0</td>\n",
       "      <td>3</td>\n",
       "      <td>Braund, Mr. Owen Harris</td>\n",
       "      <td>male</td>\n",
       "      <td>22.0</td>\n",
       "      <td>1</td>\n",
       "      <td>0</td>\n",
       "      <td>A/5 21171</td>\n",
       "      <td>7.2500</td>\n",
       "      <td>NaN</td>\n",
       "      <td>S</td>\n",
       "    </tr>\n",
       "    <tr>\n",
       "      <th>1</th>\n",
       "      <td>2</td>\n",
       "      <td>1</td>\n",
       "      <td>1</td>\n",
       "      <td>Cumings, Mrs. John Bradley (Florence Briggs Th...</td>\n",
       "      <td>female</td>\n",
       "      <td>38.0</td>\n",
       "      <td>1</td>\n",
       "      <td>0</td>\n",
       "      <td>PC 17599</td>\n",
       "      <td>71.2833</td>\n",
       "      <td>C85</td>\n",
       "      <td>C</td>\n",
       "    </tr>\n",
       "    <tr>\n",
       "      <th>2</th>\n",
       "      <td>3</td>\n",
       "      <td>1</td>\n",
       "      <td>3</td>\n",
       "      <td>Heikkinen, Miss. Laina</td>\n",
       "      <td>female</td>\n",
       "      <td>26.0</td>\n",
       "      <td>0</td>\n",
       "      <td>0</td>\n",
       "      <td>STON/O2. 3101282</td>\n",
       "      <td>7.9250</td>\n",
       "      <td>NaN</td>\n",
       "      <td>S</td>\n",
       "    </tr>\n",
       "  </tbody>\n",
       "</table>\n",
       "</div>"
      ],
      "text/plain": [
       "   PassengerId  Survived  Pclass  \\\n",
       "0            1         0       3   \n",
       "1            2         1       1   \n",
       "2            3         1       3   \n",
       "\n",
       "                                                Name     Sex   Age  SibSp  \\\n",
       "0                            Braund, Mr. Owen Harris    male  22.0      1   \n",
       "1  Cumings, Mrs. John Bradley (Florence Briggs Th...  female  38.0      1   \n",
       "2                             Heikkinen, Miss. Laina  female  26.0      0   \n",
       "\n",
       "   Parch            Ticket     Fare Cabin Embarked  \n",
       "0      0         A/5 21171   7.2500   NaN        S  \n",
       "1      0          PC 17599  71.2833   C85        C  \n",
       "2      0  STON/O2. 3101282   7.9250   NaN        S  "
      ]
     },
     "execution_count": 250,
     "metadata": {},
     "output_type": "execute_result"
    }
   ],
   "source": [
    "df_train.head(3)"
   ]
  },
  {
   "cell_type": "markdown",
   "id": "989408cd",
   "metadata": {},
   "source": [
    "### Transform categorical column to numeric"
   ]
  },
  {
   "cell_type": "code",
   "execution_count": 251,
   "id": "d976eb45",
   "metadata": {},
   "outputs": [],
   "source": [
    "df_train[\"Sex\"] = df_train[\"Sex\"].map(\n",
    "    {\"male\": 0, \"female\": 1}\n",
    ")"
   ]
  },
  {
   "cell_type": "code",
   "execution_count": 252,
   "id": "026a654d",
   "metadata": {},
   "outputs": [
    {
     "data": {
      "text/html": [
       "<div>\n",
       "<style scoped>\n",
       "    .dataframe tbody tr th:only-of-type {\n",
       "        vertical-align: middle;\n",
       "    }\n",
       "\n",
       "    .dataframe tbody tr th {\n",
       "        vertical-align: top;\n",
       "    }\n",
       "\n",
       "    .dataframe thead th {\n",
       "        text-align: right;\n",
       "    }\n",
       "</style>\n",
       "<table border=\"1\" class=\"dataframe\">\n",
       "  <thead>\n",
       "    <tr style=\"text-align: right;\">\n",
       "      <th></th>\n",
       "      <th>PassengerId</th>\n",
       "      <th>Survived</th>\n",
       "      <th>Pclass</th>\n",
       "      <th>Name</th>\n",
       "      <th>Sex</th>\n",
       "      <th>Age</th>\n",
       "      <th>SibSp</th>\n",
       "      <th>Parch</th>\n",
       "      <th>Ticket</th>\n",
       "      <th>Fare</th>\n",
       "      <th>Cabin</th>\n",
       "      <th>Embarked</th>\n",
       "    </tr>\n",
       "  </thead>\n",
       "  <tbody>\n",
       "    <tr>\n",
       "      <th>0</th>\n",
       "      <td>1</td>\n",
       "      <td>0</td>\n",
       "      <td>3</td>\n",
       "      <td>Braund, Mr. Owen Harris</td>\n",
       "      <td>0</td>\n",
       "      <td>22.0</td>\n",
       "      <td>1</td>\n",
       "      <td>0</td>\n",
       "      <td>A/5 21171</td>\n",
       "      <td>7.2500</td>\n",
       "      <td>NaN</td>\n",
       "      <td>S</td>\n",
       "    </tr>\n",
       "    <tr>\n",
       "      <th>1</th>\n",
       "      <td>2</td>\n",
       "      <td>1</td>\n",
       "      <td>1</td>\n",
       "      <td>Cumings, Mrs. John Bradley (Florence Briggs Th...</td>\n",
       "      <td>1</td>\n",
       "      <td>38.0</td>\n",
       "      <td>1</td>\n",
       "      <td>0</td>\n",
       "      <td>PC 17599</td>\n",
       "      <td>71.2833</td>\n",
       "      <td>C85</td>\n",
       "      <td>C</td>\n",
       "    </tr>\n",
       "    <tr>\n",
       "      <th>2</th>\n",
       "      <td>3</td>\n",
       "      <td>1</td>\n",
       "      <td>3</td>\n",
       "      <td>Heikkinen, Miss. Laina</td>\n",
       "      <td>1</td>\n",
       "      <td>26.0</td>\n",
       "      <td>0</td>\n",
       "      <td>0</td>\n",
       "      <td>STON/O2. 3101282</td>\n",
       "      <td>7.9250</td>\n",
       "      <td>NaN</td>\n",
       "      <td>S</td>\n",
       "    </tr>\n",
       "  </tbody>\n",
       "</table>\n",
       "</div>"
      ],
      "text/plain": [
       "   PassengerId  Survived  Pclass  \\\n",
       "0            1         0       3   \n",
       "1            2         1       1   \n",
       "2            3         1       3   \n",
       "\n",
       "                                                Name  Sex   Age  SibSp  Parch  \\\n",
       "0                            Braund, Mr. Owen Harris    0  22.0      1      0   \n",
       "1  Cumings, Mrs. John Bradley (Florence Briggs Th...    1  38.0      1      0   \n",
       "2                             Heikkinen, Miss. Laina    1  26.0      0      0   \n",
       "\n",
       "             Ticket     Fare Cabin Embarked  \n",
       "0         A/5 21171   7.2500   NaN        S  \n",
       "1          PC 17599  71.2833   C85        C  \n",
       "2  STON/O2. 3101282   7.9250   NaN        S  "
      ]
     },
     "execution_count": 252,
     "metadata": {},
     "output_type": "execute_result"
    }
   ],
   "source": [
    "df_train.head(3)"
   ]
  },
  {
   "cell_type": "markdown",
   "id": "9dd3da50",
   "metadata": {},
   "source": [
    "### Filter out the features"
   ]
  },
  {
   "cell_type": "code",
   "execution_count": 253,
   "id": "aaa6f023",
   "metadata": {},
   "outputs": [],
   "source": [
    "features = [\"Pclass\", \"Fare\", \"Sex\", \"Parch\"]\n",
    "X, y = df_train[features], df_train[\"Survived\"]"
   ]
  },
  {
   "cell_type": "code",
   "execution_count": 254,
   "id": "cf9b29f7",
   "metadata": {},
   "outputs": [
    {
     "data": {
      "text/html": [
       "<div>\n",
       "<style scoped>\n",
       "    .dataframe tbody tr th:only-of-type {\n",
       "        vertical-align: middle;\n",
       "    }\n",
       "\n",
       "    .dataframe tbody tr th {\n",
       "        vertical-align: top;\n",
       "    }\n",
       "\n",
       "    .dataframe thead th {\n",
       "        text-align: right;\n",
       "    }\n",
       "</style>\n",
       "<table border=\"1\" class=\"dataframe\">\n",
       "  <thead>\n",
       "    <tr style=\"text-align: right;\">\n",
       "      <th></th>\n",
       "      <th>Pclass</th>\n",
       "      <th>Fare</th>\n",
       "      <th>Sex</th>\n",
       "      <th>Parch</th>\n",
       "    </tr>\n",
       "  </thead>\n",
       "  <tbody>\n",
       "    <tr>\n",
       "      <th>0</th>\n",
       "      <td>3</td>\n",
       "      <td>7.2500</td>\n",
       "      <td>0</td>\n",
       "      <td>0</td>\n",
       "    </tr>\n",
       "    <tr>\n",
       "      <th>1</th>\n",
       "      <td>1</td>\n",
       "      <td>71.2833</td>\n",
       "      <td>1</td>\n",
       "      <td>0</td>\n",
       "    </tr>\n",
       "    <tr>\n",
       "      <th>2</th>\n",
       "      <td>3</td>\n",
       "      <td>7.9250</td>\n",
       "      <td>1</td>\n",
       "      <td>0</td>\n",
       "    </tr>\n",
       "  </tbody>\n",
       "</table>\n",
       "</div>"
      ],
      "text/plain": [
       "   Pclass     Fare  Sex  Parch\n",
       "0       3   7.2500    0      0\n",
       "1       1  71.2833    1      0\n",
       "2       3   7.9250    1      0"
      ]
     },
     "execution_count": 254,
     "metadata": {},
     "output_type": "execute_result"
    }
   ],
   "source": [
    "X.head(3)"
   ]
  },
  {
   "cell_type": "code",
   "execution_count": 255,
   "id": "826c1ce6",
   "metadata": {},
   "outputs": [
    {
     "data": {
      "text/plain": [
       "0    0\n",
       "1    1\n",
       "2    1\n",
       "Name: Survived, dtype: int64"
      ]
     },
     "execution_count": 255,
     "metadata": {},
     "output_type": "execute_result"
    }
   ],
   "source": [
    "y.head(3)"
   ]
  },
  {
   "cell_type": "markdown",
   "id": "610dd249",
   "metadata": {},
   "source": [
    "### Training phase based on cross validation"
   ]
  },
  {
   "cell_type": "code",
   "execution_count": 256,
   "id": "fcd58d52",
   "metadata": {},
   "outputs": [],
   "source": [
    "from sklearn.tree import DecisionTreeClassifier\n",
    "from sklearn.model_selection import cross_val_score"
   ]
  },
  {
   "cell_type": "code",
   "execution_count": 257,
   "id": "4cb96f10",
   "metadata": {},
   "outputs": [],
   "source": [
    "dt = DecisionTreeClassifier(random_state=0)"
   ]
  },
  {
   "cell_type": "code",
   "execution_count": 258,
   "id": "533c91dc",
   "metadata": {},
   "outputs": [
    {
     "name": "stdout",
     "output_type": "stream",
     "text": [
      "Default tree has 331 (nodes).\n"
     ]
    }
   ],
   "source": [
    "print(f\"Default tree has {dt.fit(X, y).tree_.node_count} (nodes).\")"
   ]
  },
  {
   "cell_type": "code",
   "execution_count": 259,
   "id": "8e1b34e8",
   "metadata": {},
   "outputs": [
    {
     "data": {
      "text/plain": [
       "array([0.77094972, 0.78089888, 0.83707865, 0.80337079, 0.8258427 ])"
      ]
     },
     "execution_count": 259,
     "metadata": {},
     "output_type": "execute_result"
    }
   ],
   "source": [
    "scores = cross_val_score(dt, X, y, cv=5, scoring=\"accuracy\")\n",
    "scores"
   ]
  },
  {
   "cell_type": "code",
   "execution_count": 260,
   "id": "76d2890b",
   "metadata": {},
   "outputs": [
    {
     "data": {
      "text/plain": [
       "0.8036281463812692"
      ]
     },
     "execution_count": 260,
     "metadata": {},
     "output_type": "execute_result"
    }
   ],
   "source": [
    "scores.mean()"
   ]
  },
  {
   "cell_type": "markdown",
   "id": "d973785c",
   "metadata": {},
   "source": [
    "### Prune tree"
   ]
  },
  {
   "cell_type": "code",
   "execution_count": 261,
   "id": "02463b5c",
   "metadata": {},
   "outputs": [
    {
     "data": {
      "text/html": [
       "<style>#sk-9ce75b73-a914-493d-8c85-202072c6dd15 {color: black;background-color: white;}#sk-9ce75b73-a914-493d-8c85-202072c6dd15 pre{padding: 0;}#sk-9ce75b73-a914-493d-8c85-202072c6dd15 div.sk-toggleable {background-color: white;}#sk-9ce75b73-a914-493d-8c85-202072c6dd15 label.sk-toggleable__label {cursor: pointer;display: block;width: 100%;margin-bottom: 0;padding: 0.3em;box-sizing: border-box;text-align: center;}#sk-9ce75b73-a914-493d-8c85-202072c6dd15 div.sk-toggleable__content {max-height: 0;max-width: 0;overflow: hidden;text-align: left;background-color: #f0f8ff;}#sk-9ce75b73-a914-493d-8c85-202072c6dd15 div.sk-toggleable__content pre {margin: 0.2em;color: black;border-radius: 0.25em;background-color: #f0f8ff;}#sk-9ce75b73-a914-493d-8c85-202072c6dd15 input.sk-toggleable__control:checked~div.sk-toggleable__content {max-height: 200px;max-width: 100%;overflow: auto;}#sk-9ce75b73-a914-493d-8c85-202072c6dd15 div.sk-estimator input.sk-toggleable__control:checked~label.sk-toggleable__label {background-color: #d4ebff;}#sk-9ce75b73-a914-493d-8c85-202072c6dd15 div.sk-label input.sk-toggleable__control:checked~label.sk-toggleable__label {background-color: #d4ebff;}#sk-9ce75b73-a914-493d-8c85-202072c6dd15 input.sk-hidden--visually {border: 0;clip: rect(1px 1px 1px 1px);clip: rect(1px, 1px, 1px, 1px);height: 1px;margin: -1px;overflow: hidden;padding: 0;position: absolute;width: 1px;}#sk-9ce75b73-a914-493d-8c85-202072c6dd15 div.sk-estimator {font-family: monospace;background-color: #f0f8ff;border: 1px dotted black;border-radius: 0.25em;box-sizing: border-box;margin-bottom: 0.5em;}#sk-9ce75b73-a914-493d-8c85-202072c6dd15 div.sk-estimator:hover {background-color: #d4ebff;}#sk-9ce75b73-a914-493d-8c85-202072c6dd15 div.sk-parallel-item::after {content: \"\";width: 100%;border-bottom: 1px solid gray;flex-grow: 1;}#sk-9ce75b73-a914-493d-8c85-202072c6dd15 div.sk-label:hover label.sk-toggleable__label {background-color: #d4ebff;}#sk-9ce75b73-a914-493d-8c85-202072c6dd15 div.sk-serial::before {content: \"\";position: absolute;border-left: 1px solid gray;box-sizing: border-box;top: 2em;bottom: 0;left: 50%;}#sk-9ce75b73-a914-493d-8c85-202072c6dd15 div.sk-serial {display: flex;flex-direction: column;align-items: center;background-color: white;padding-right: 0.2em;padding-left: 0.2em;}#sk-9ce75b73-a914-493d-8c85-202072c6dd15 div.sk-item {z-index: 1;}#sk-9ce75b73-a914-493d-8c85-202072c6dd15 div.sk-parallel {display: flex;align-items: stretch;justify-content: center;background-color: white;}#sk-9ce75b73-a914-493d-8c85-202072c6dd15 div.sk-parallel::before {content: \"\";position: absolute;border-left: 1px solid gray;box-sizing: border-box;top: 2em;bottom: 0;left: 50%;}#sk-9ce75b73-a914-493d-8c85-202072c6dd15 div.sk-parallel-item {display: flex;flex-direction: column;position: relative;background-color: white;}#sk-9ce75b73-a914-493d-8c85-202072c6dd15 div.sk-parallel-item:first-child::after {align-self: flex-end;width: 50%;}#sk-9ce75b73-a914-493d-8c85-202072c6dd15 div.sk-parallel-item:last-child::after {align-self: flex-start;width: 50%;}#sk-9ce75b73-a914-493d-8c85-202072c6dd15 div.sk-parallel-item:only-child::after {width: 0;}#sk-9ce75b73-a914-493d-8c85-202072c6dd15 div.sk-dashed-wrapped {border: 1px dashed gray;margin: 0 0.4em 0.5em 0.4em;box-sizing: border-box;padding-bottom: 0.4em;background-color: white;position: relative;}#sk-9ce75b73-a914-493d-8c85-202072c6dd15 div.sk-label label {font-family: monospace;font-weight: bold;background-color: white;display: inline-block;line-height: 1.2em;}#sk-9ce75b73-a914-493d-8c85-202072c6dd15 div.sk-label-container {position: relative;z-index: 2;text-align: center;}#sk-9ce75b73-a914-493d-8c85-202072c6dd15 div.sk-container {display: inline-block;position: relative;}</style><div id=\"sk-9ce75b73-a914-493d-8c85-202072c6dd15\" class\"sk-top-container\"><div class=\"sk-container\"><div class=\"sk-item\"><div class=\"sk-estimator sk-toggleable\"><input class=\"sk-toggleable__control sk-hidden--visually\" id=\"746f74a5-9d71-47cb-8270-7f7022969955\" type=\"checkbox\" checked><label class=\"sk-toggleable__label\" for=\"746f74a5-9d71-47cb-8270-7f7022969955\">DecisionTreeClassifier</label><div class=\"sk-toggleable__content\"><pre>DecisionTreeClassifier(ccp_alpha=0.001, random_state=0)</pre></div></div></div></div></div>"
      ],
      "text/plain": [
       "DecisionTreeClassifier(ccp_alpha=0.001, random_state=0)"
      ]
     },
     "execution_count": 261,
     "metadata": {},
     "output_type": "execute_result"
    }
   ],
   "source": [
    "dt_pruned = DecisionTreeClassifier(ccp_alpha=0.001, random_state=0)\n",
    "dt_pruned"
   ]
  },
  {
   "cell_type": "code",
   "execution_count": 262,
   "id": "34bb3b39",
   "metadata": {},
   "outputs": [
    {
     "name": "stdout",
     "output_type": "stream",
     "text": [
      "Pruned tree has 121 (nodes).\n"
     ]
    }
   ],
   "source": [
    "print(f\"Pruned tree has {dt_pruned.fit(X, y).tree_.node_count} (nodes).\")"
   ]
  },
  {
   "cell_type": "code",
   "execution_count": 263,
   "id": "019c61a1",
   "metadata": {},
   "outputs": [
    {
     "data": {
      "text/plain": [
       "array([0.77653631, 0.78651685, 0.83707865, 0.82022472, 0.82022472])"
      ]
     },
     "execution_count": 263,
     "metadata": {},
     "output_type": "execute_result"
    }
   ],
   "source": [
    "scores_pruned = cross_val_score(dt_pruned, X, y, cv=5, scoring=\"accuracy\")\n",
    "scores_pruned"
   ]
  },
  {
   "cell_type": "code",
   "execution_count": 264,
   "id": "6522c14b",
   "metadata": {},
   "outputs": [
    {
     "data": {
      "text/plain": [
       "0.8081162513338773"
      ]
     },
     "execution_count": 264,
     "metadata": {},
     "output_type": "execute_result"
    }
   ],
   "source": [
    "scores_pruned.mean()"
   ]
  },
  {
   "cell_type": "code",
   "execution_count": 265,
   "id": "f8a8b1f9",
   "metadata": {},
   "outputs": [
    {
     "name": "stdout",
     "output_type": "stream",
     "text": [
      "After pruning tree, the accuracy score improves about 0.45%\n"
     ]
    }
   ],
   "source": [
    "print(f\"After pruning tree, the accuracy score improves about {np.round((scores_pruned.mean()-scores.mean())*100, 2)}%\")"
   ]
  },
  {
   "cell_type": "markdown",
   "id": "8d1828a1",
   "metadata": {},
   "source": [
    "## Estimators only print parameters that have been changed\n",
    "\n",
    "New in version 0.23: Estimators only print the parameters that are *not* set to their default values.\n",
    "\n",
    "You can still see all parameters with [get_params()](https://scikit-learn.org/stable/modules/generated/sklearn.base.BaseEstimator.html), or restore the previous behavior with [set_config()](https://scikit-learn.org/stable/modules/generated/sklearn.set_config.html)."
   ]
  },
  {
   "cell_type": "code",
   "execution_count": 266,
   "id": "c74030e0",
   "metadata": {},
   "outputs": [],
   "source": [
    "from sklearn.linear_model import LogisticRegression"
   ]
  },
  {
   "cell_type": "code",
   "execution_count": 267,
   "id": "23bfd8c8",
   "metadata": {},
   "outputs": [],
   "source": [
    "clf = LogisticRegression(C=0.01, solver=\"liblinear\")"
   ]
  },
  {
   "cell_type": "markdown",
   "id": "95b9e597",
   "metadata": {},
   "source": [
    "### Showing all parameters"
   ]
  },
  {
   "cell_type": "code",
   "execution_count": 268,
   "id": "80cdd058",
   "metadata": {},
   "outputs": [
    {
     "data": {
      "text/plain": [
       "{'C': 0.01,\n",
       " 'class_weight': None,\n",
       " 'dual': False,\n",
       " 'fit_intercept': True,\n",
       " 'intercept_scaling': 1,\n",
       " 'l1_ratio': None,\n",
       " 'max_iter': 100,\n",
       " 'multi_class': 'auto',\n",
       " 'n_jobs': None,\n",
       " 'penalty': 'l2',\n",
       " 'random_state': None,\n",
       " 'solver': 'liblinear',\n",
       " 'tol': 0.0001,\n",
       " 'verbose': 0,\n",
       " 'warm_start': False}"
      ]
     },
     "execution_count": 268,
     "metadata": {},
     "output_type": "execute_result"
    }
   ],
   "source": [
    "clf.get_params()"
   ]
  },
  {
   "cell_type": "markdown",
   "id": "edacae43",
   "metadata": {},
   "source": [
    "### Describing only the changed parameters"
   ]
  },
  {
   "cell_type": "code",
   "execution_count": 269,
   "id": "d1cb3246",
   "metadata": {},
   "outputs": [
    {
     "data": {
      "text/html": [
       "<style>#sk-1b83756a-95a3-4116-8ef6-f6bfed5f9edb {color: black;background-color: white;}#sk-1b83756a-95a3-4116-8ef6-f6bfed5f9edb pre{padding: 0;}#sk-1b83756a-95a3-4116-8ef6-f6bfed5f9edb div.sk-toggleable {background-color: white;}#sk-1b83756a-95a3-4116-8ef6-f6bfed5f9edb label.sk-toggleable__label {cursor: pointer;display: block;width: 100%;margin-bottom: 0;padding: 0.3em;box-sizing: border-box;text-align: center;}#sk-1b83756a-95a3-4116-8ef6-f6bfed5f9edb div.sk-toggleable__content {max-height: 0;max-width: 0;overflow: hidden;text-align: left;background-color: #f0f8ff;}#sk-1b83756a-95a3-4116-8ef6-f6bfed5f9edb div.sk-toggleable__content pre {margin: 0.2em;color: black;border-radius: 0.25em;background-color: #f0f8ff;}#sk-1b83756a-95a3-4116-8ef6-f6bfed5f9edb input.sk-toggleable__control:checked~div.sk-toggleable__content {max-height: 200px;max-width: 100%;overflow: auto;}#sk-1b83756a-95a3-4116-8ef6-f6bfed5f9edb div.sk-estimator input.sk-toggleable__control:checked~label.sk-toggleable__label {background-color: #d4ebff;}#sk-1b83756a-95a3-4116-8ef6-f6bfed5f9edb div.sk-label input.sk-toggleable__control:checked~label.sk-toggleable__label {background-color: #d4ebff;}#sk-1b83756a-95a3-4116-8ef6-f6bfed5f9edb input.sk-hidden--visually {border: 0;clip: rect(1px 1px 1px 1px);clip: rect(1px, 1px, 1px, 1px);height: 1px;margin: -1px;overflow: hidden;padding: 0;position: absolute;width: 1px;}#sk-1b83756a-95a3-4116-8ef6-f6bfed5f9edb div.sk-estimator {font-family: monospace;background-color: #f0f8ff;border: 1px dotted black;border-radius: 0.25em;box-sizing: border-box;margin-bottom: 0.5em;}#sk-1b83756a-95a3-4116-8ef6-f6bfed5f9edb div.sk-estimator:hover {background-color: #d4ebff;}#sk-1b83756a-95a3-4116-8ef6-f6bfed5f9edb div.sk-parallel-item::after {content: \"\";width: 100%;border-bottom: 1px solid gray;flex-grow: 1;}#sk-1b83756a-95a3-4116-8ef6-f6bfed5f9edb div.sk-label:hover label.sk-toggleable__label {background-color: #d4ebff;}#sk-1b83756a-95a3-4116-8ef6-f6bfed5f9edb div.sk-serial::before {content: \"\";position: absolute;border-left: 1px solid gray;box-sizing: border-box;top: 2em;bottom: 0;left: 50%;}#sk-1b83756a-95a3-4116-8ef6-f6bfed5f9edb div.sk-serial {display: flex;flex-direction: column;align-items: center;background-color: white;padding-right: 0.2em;padding-left: 0.2em;}#sk-1b83756a-95a3-4116-8ef6-f6bfed5f9edb div.sk-item {z-index: 1;}#sk-1b83756a-95a3-4116-8ef6-f6bfed5f9edb div.sk-parallel {display: flex;align-items: stretch;justify-content: center;background-color: white;}#sk-1b83756a-95a3-4116-8ef6-f6bfed5f9edb div.sk-parallel::before {content: \"\";position: absolute;border-left: 1px solid gray;box-sizing: border-box;top: 2em;bottom: 0;left: 50%;}#sk-1b83756a-95a3-4116-8ef6-f6bfed5f9edb div.sk-parallel-item {display: flex;flex-direction: column;position: relative;background-color: white;}#sk-1b83756a-95a3-4116-8ef6-f6bfed5f9edb div.sk-parallel-item:first-child::after {align-self: flex-end;width: 50%;}#sk-1b83756a-95a3-4116-8ef6-f6bfed5f9edb div.sk-parallel-item:last-child::after {align-self: flex-start;width: 50%;}#sk-1b83756a-95a3-4116-8ef6-f6bfed5f9edb div.sk-parallel-item:only-child::after {width: 0;}#sk-1b83756a-95a3-4116-8ef6-f6bfed5f9edb div.sk-dashed-wrapped {border: 1px dashed gray;margin: 0 0.4em 0.5em 0.4em;box-sizing: border-box;padding-bottom: 0.4em;background-color: white;position: relative;}#sk-1b83756a-95a3-4116-8ef6-f6bfed5f9edb div.sk-label label {font-family: monospace;font-weight: bold;background-color: white;display: inline-block;line-height: 1.2em;}#sk-1b83756a-95a3-4116-8ef6-f6bfed5f9edb div.sk-label-container {position: relative;z-index: 2;text-align: center;}#sk-1b83756a-95a3-4116-8ef6-f6bfed5f9edb div.sk-container {display: inline-block;position: relative;}</style><div id=\"sk-1b83756a-95a3-4116-8ef6-f6bfed5f9edb\" class\"sk-top-container\"><div class=\"sk-container\"><div class=\"sk-item\"><div class=\"sk-estimator sk-toggleable\"><input class=\"sk-toggleable__control sk-hidden--visually\" id=\"9af0d374-b877-4404-93b9-463478aaaea9\" type=\"checkbox\" checked><label class=\"sk-toggleable__label\" for=\"9af0d374-b877-4404-93b9-463478aaaea9\">LogisticRegression</label><div class=\"sk-toggleable__content\"><pre>LogisticRegression(C=0.01, solver='liblinear')</pre></div></div></div></div></div>"
      ],
      "text/plain": [
       "LogisticRegression(C=0.01, solver='liblinear')"
      ]
     },
     "execution_count": 269,
     "metadata": {},
     "output_type": "execute_result"
    }
   ],
   "source": [
    "clf"
   ]
  },
  {
   "cell_type": "markdown",
   "id": "d3f0289c",
   "metadata": {},
   "source": [
    "### Describing all parameters without get_params()"
   ]
  },
  {
   "cell_type": "code",
   "execution_count": 270,
   "id": "ddede22b",
   "metadata": {},
   "outputs": [],
   "source": [
    "from sklearn import set_config"
   ]
  },
  {
   "cell_type": "code",
   "execution_count": 271,
   "id": "acdd4cba",
   "metadata": {},
   "outputs": [],
   "source": [
    "set_config(print_changed_only=False)"
   ]
  },
  {
   "cell_type": "code",
   "execution_count": 272,
   "id": "e6d61b67",
   "metadata": {},
   "outputs": [
    {
     "data": {
      "text/html": [
       "<style>#sk-e95cf6c9-2765-40e5-8172-cea8c2957c2f {color: black;background-color: white;}#sk-e95cf6c9-2765-40e5-8172-cea8c2957c2f pre{padding: 0;}#sk-e95cf6c9-2765-40e5-8172-cea8c2957c2f div.sk-toggleable {background-color: white;}#sk-e95cf6c9-2765-40e5-8172-cea8c2957c2f label.sk-toggleable__label {cursor: pointer;display: block;width: 100%;margin-bottom: 0;padding: 0.3em;box-sizing: border-box;text-align: center;}#sk-e95cf6c9-2765-40e5-8172-cea8c2957c2f div.sk-toggleable__content {max-height: 0;max-width: 0;overflow: hidden;text-align: left;background-color: #f0f8ff;}#sk-e95cf6c9-2765-40e5-8172-cea8c2957c2f div.sk-toggleable__content pre {margin: 0.2em;color: black;border-radius: 0.25em;background-color: #f0f8ff;}#sk-e95cf6c9-2765-40e5-8172-cea8c2957c2f input.sk-toggleable__control:checked~div.sk-toggleable__content {max-height: 200px;max-width: 100%;overflow: auto;}#sk-e95cf6c9-2765-40e5-8172-cea8c2957c2f div.sk-estimator input.sk-toggleable__control:checked~label.sk-toggleable__label {background-color: #d4ebff;}#sk-e95cf6c9-2765-40e5-8172-cea8c2957c2f div.sk-label input.sk-toggleable__control:checked~label.sk-toggleable__label {background-color: #d4ebff;}#sk-e95cf6c9-2765-40e5-8172-cea8c2957c2f input.sk-hidden--visually {border: 0;clip: rect(1px 1px 1px 1px);clip: rect(1px, 1px, 1px, 1px);height: 1px;margin: -1px;overflow: hidden;padding: 0;position: absolute;width: 1px;}#sk-e95cf6c9-2765-40e5-8172-cea8c2957c2f div.sk-estimator {font-family: monospace;background-color: #f0f8ff;border: 1px dotted black;border-radius: 0.25em;box-sizing: border-box;margin-bottom: 0.5em;}#sk-e95cf6c9-2765-40e5-8172-cea8c2957c2f div.sk-estimator:hover {background-color: #d4ebff;}#sk-e95cf6c9-2765-40e5-8172-cea8c2957c2f div.sk-parallel-item::after {content: \"\";width: 100%;border-bottom: 1px solid gray;flex-grow: 1;}#sk-e95cf6c9-2765-40e5-8172-cea8c2957c2f div.sk-label:hover label.sk-toggleable__label {background-color: #d4ebff;}#sk-e95cf6c9-2765-40e5-8172-cea8c2957c2f div.sk-serial::before {content: \"\";position: absolute;border-left: 1px solid gray;box-sizing: border-box;top: 2em;bottom: 0;left: 50%;}#sk-e95cf6c9-2765-40e5-8172-cea8c2957c2f div.sk-serial {display: flex;flex-direction: column;align-items: center;background-color: white;padding-right: 0.2em;padding-left: 0.2em;}#sk-e95cf6c9-2765-40e5-8172-cea8c2957c2f div.sk-item {z-index: 1;}#sk-e95cf6c9-2765-40e5-8172-cea8c2957c2f div.sk-parallel {display: flex;align-items: stretch;justify-content: center;background-color: white;}#sk-e95cf6c9-2765-40e5-8172-cea8c2957c2f div.sk-parallel::before {content: \"\";position: absolute;border-left: 1px solid gray;box-sizing: border-box;top: 2em;bottom: 0;left: 50%;}#sk-e95cf6c9-2765-40e5-8172-cea8c2957c2f div.sk-parallel-item {display: flex;flex-direction: column;position: relative;background-color: white;}#sk-e95cf6c9-2765-40e5-8172-cea8c2957c2f div.sk-parallel-item:first-child::after {align-self: flex-end;width: 50%;}#sk-e95cf6c9-2765-40e5-8172-cea8c2957c2f div.sk-parallel-item:last-child::after {align-self: flex-start;width: 50%;}#sk-e95cf6c9-2765-40e5-8172-cea8c2957c2f div.sk-parallel-item:only-child::after {width: 0;}#sk-e95cf6c9-2765-40e5-8172-cea8c2957c2f div.sk-dashed-wrapped {border: 1px dashed gray;margin: 0 0.4em 0.5em 0.4em;box-sizing: border-box;padding-bottom: 0.4em;background-color: white;position: relative;}#sk-e95cf6c9-2765-40e5-8172-cea8c2957c2f div.sk-label label {font-family: monospace;font-weight: bold;background-color: white;display: inline-block;line-height: 1.2em;}#sk-e95cf6c9-2765-40e5-8172-cea8c2957c2f div.sk-label-container {position: relative;z-index: 2;text-align: center;}#sk-e95cf6c9-2765-40e5-8172-cea8c2957c2f div.sk-container {display: inline-block;position: relative;}</style><div id=\"sk-e95cf6c9-2765-40e5-8172-cea8c2957c2f\" class\"sk-top-container\"><div class=\"sk-container\"><div class=\"sk-item\"><div class=\"sk-estimator sk-toggleable\"><input class=\"sk-toggleable__control sk-hidden--visually\" id=\"5d621da2-d5a1-4f8e-895d-96ff8e89dcf6\" type=\"checkbox\" checked><label class=\"sk-toggleable__label\" for=\"5d621da2-d5a1-4f8e-895d-96ff8e89dcf6\">LogisticRegression</label><div class=\"sk-toggleable__content\"><pre>LogisticRegression(C=0.01, class_weight=None, dual=False, fit_intercept=True,\n",
       "                   intercept_scaling=1, l1_ratio=None, max_iter=100,\n",
       "                   multi_class='auto', n_jobs=None, penalty='l2',\n",
       "                   random_state=None, solver='liblinear', tol=0.0001, verbose=0,\n",
       "                   warm_start=False)</pre></div></div></div></div></div>"
      ],
      "text/plain": [
       "LogisticRegression(C=0.01, class_weight=None, dual=False, fit_intercept=True,\n",
       "                   intercept_scaling=1, l1_ratio=None, max_iter=100,\n",
       "                   multi_class='auto', n_jobs=None, penalty='l2',\n",
       "                   random_state=None, solver='liblinear', tol=0.0001, verbose=0,\n",
       "                   warm_start=False)"
      ]
     },
     "execution_count": 272,
     "metadata": {},
     "output_type": "execute_result"
    }
   ],
   "source": [
    "clf"
   ]
  },
  {
   "cell_type": "markdown",
   "id": "217725b1",
   "metadata": {},
   "source": [
    "## Speed up GridSearchCV using parallel processing\n",
    "\n",
    "In order to run faster GridSearch, we set n_jobs=-1 to use parallel processing with all CPUs.\n",
    "\n",
    "Ref: [n_jobs](https://scikit-learn.org/stable/glossary.html#term-n_jobs)"
   ]
  },
  {
   "cell_type": "code",
   "execution_count": 273,
   "id": "f139fa29",
   "metadata": {},
   "outputs": [],
   "source": [
    "file_input_path = \"titanic_train.csv\"\n",
    "if not os.path.exists(file_input_path):\n",
    "    df_train = pd.read_csv(\"http://bit.ly/kaggletrain\")\n",
    "    df_train.to_csv(file_input_path, header=True, index=False, sep=\"\\t\")\n",
    "else:\n",
    "    df_train = pd.read_csv(file_input_path, header=0, sep=\"\\t\")"
   ]
  },
  {
   "cell_type": "code",
   "execution_count": 274,
   "id": "c30b497c",
   "metadata": {},
   "outputs": [],
   "source": [
    "features = [\"Sex\", \"Name\", \"Age\"]\n",
    "X, y = df_train[features], df_train[\"Survived\"]"
   ]
  },
  {
   "cell_type": "code",
   "execution_count": 275,
   "id": "795840cf",
   "metadata": {},
   "outputs": [],
   "source": [
    "from sklearn import set_config\n",
    "set_config(display=\"diagram\")"
   ]
  },
  {
   "cell_type": "code",
   "execution_count": 276,
   "id": "478619d3",
   "metadata": {},
   "outputs": [],
   "source": [
    "col_transformer = ColumnTransformer(\n",
    "    [\n",
    "        (\"ohe\", OneHotEncoder(), [\"Sex\"]),\n",
    "        (\"vectorizer\", CountVectorizer(), \"Name\"),\n",
    "        (\"imputer\", SimpleImputer(), [\"Age\"])\n",
    "    ]\n",
    ")"
   ]
  },
  {
   "cell_type": "code",
   "execution_count": 277,
   "id": "a148c19d",
   "metadata": {},
   "outputs": [],
   "source": [
    "clf = LogisticRegression(solver=\"liblinear\", random_state=1)"
   ]
  },
  {
   "cell_type": "code",
   "execution_count": 278,
   "id": "b37454ed",
   "metadata": {},
   "outputs": [],
   "source": [
    "pipe = Pipeline(\n",
    "    [\n",
    "        (\"preprocessor\", col_transformer),\n",
    "        (\"classifier\", clf)\n",
    "    ]\n",
    ")"
   ]
  },
  {
   "cell_type": "code",
   "execution_count": 279,
   "id": "b747e465",
   "metadata": {},
   "outputs": [],
   "source": [
    "params = {}\n",
    "params[\"preprocessor__ohe__drop\"] = [None, \"first\"]\n",
    "params[\"preprocessor__vectorizer__min_df\"] = [1,2,3]\n",
    "params[\"preprocessor__vectorizer__ngram_range\"] = [(1,1), (1,2)]\n",
    "params[\"classifier__C\"] = [0.001, 0.01, 0.1, 1, 10, 100, 1000]\n",
    "params[\"classifier__penalty\"] = [\"l1\", \"l2\"]"
   ]
  },
  {
   "cell_type": "code",
   "execution_count": 280,
   "id": "746726fd",
   "metadata": {},
   "outputs": [],
   "source": [
    "grid = GridSearchCV(pipe, params)"
   ]
  },
  {
   "cell_type": "code",
   "execution_count": 281,
   "id": "5c781a77",
   "metadata": {},
   "outputs": [
    {
     "data": {
      "text/html": [
       "<style>#sk-e94e1756-0db9-4a08-83ca-c6ff3d114b29 {color: black;background-color: white;}#sk-e94e1756-0db9-4a08-83ca-c6ff3d114b29 pre{padding: 0;}#sk-e94e1756-0db9-4a08-83ca-c6ff3d114b29 div.sk-toggleable {background-color: white;}#sk-e94e1756-0db9-4a08-83ca-c6ff3d114b29 label.sk-toggleable__label {cursor: pointer;display: block;width: 100%;margin-bottom: 0;padding: 0.3em;box-sizing: border-box;text-align: center;}#sk-e94e1756-0db9-4a08-83ca-c6ff3d114b29 div.sk-toggleable__content {max-height: 0;max-width: 0;overflow: hidden;text-align: left;background-color: #f0f8ff;}#sk-e94e1756-0db9-4a08-83ca-c6ff3d114b29 div.sk-toggleable__content pre {margin: 0.2em;color: black;border-radius: 0.25em;background-color: #f0f8ff;}#sk-e94e1756-0db9-4a08-83ca-c6ff3d114b29 input.sk-toggleable__control:checked~div.sk-toggleable__content {max-height: 200px;max-width: 100%;overflow: auto;}#sk-e94e1756-0db9-4a08-83ca-c6ff3d114b29 div.sk-estimator input.sk-toggleable__control:checked~label.sk-toggleable__label {background-color: #d4ebff;}#sk-e94e1756-0db9-4a08-83ca-c6ff3d114b29 div.sk-label input.sk-toggleable__control:checked~label.sk-toggleable__label {background-color: #d4ebff;}#sk-e94e1756-0db9-4a08-83ca-c6ff3d114b29 input.sk-hidden--visually {border: 0;clip: rect(1px 1px 1px 1px);clip: rect(1px, 1px, 1px, 1px);height: 1px;margin: -1px;overflow: hidden;padding: 0;position: absolute;width: 1px;}#sk-e94e1756-0db9-4a08-83ca-c6ff3d114b29 div.sk-estimator {font-family: monospace;background-color: #f0f8ff;border: 1px dotted black;border-radius: 0.25em;box-sizing: border-box;margin-bottom: 0.5em;}#sk-e94e1756-0db9-4a08-83ca-c6ff3d114b29 div.sk-estimator:hover {background-color: #d4ebff;}#sk-e94e1756-0db9-4a08-83ca-c6ff3d114b29 div.sk-parallel-item::after {content: \"\";width: 100%;border-bottom: 1px solid gray;flex-grow: 1;}#sk-e94e1756-0db9-4a08-83ca-c6ff3d114b29 div.sk-label:hover label.sk-toggleable__label {background-color: #d4ebff;}#sk-e94e1756-0db9-4a08-83ca-c6ff3d114b29 div.sk-serial::before {content: \"\";position: absolute;border-left: 1px solid gray;box-sizing: border-box;top: 2em;bottom: 0;left: 50%;}#sk-e94e1756-0db9-4a08-83ca-c6ff3d114b29 div.sk-serial {display: flex;flex-direction: column;align-items: center;background-color: white;padding-right: 0.2em;padding-left: 0.2em;}#sk-e94e1756-0db9-4a08-83ca-c6ff3d114b29 div.sk-item {z-index: 1;}#sk-e94e1756-0db9-4a08-83ca-c6ff3d114b29 div.sk-parallel {display: flex;align-items: stretch;justify-content: center;background-color: white;}#sk-e94e1756-0db9-4a08-83ca-c6ff3d114b29 div.sk-parallel::before {content: \"\";position: absolute;border-left: 1px solid gray;box-sizing: border-box;top: 2em;bottom: 0;left: 50%;}#sk-e94e1756-0db9-4a08-83ca-c6ff3d114b29 div.sk-parallel-item {display: flex;flex-direction: column;position: relative;background-color: white;}#sk-e94e1756-0db9-4a08-83ca-c6ff3d114b29 div.sk-parallel-item:first-child::after {align-self: flex-end;width: 50%;}#sk-e94e1756-0db9-4a08-83ca-c6ff3d114b29 div.sk-parallel-item:last-child::after {align-self: flex-start;width: 50%;}#sk-e94e1756-0db9-4a08-83ca-c6ff3d114b29 div.sk-parallel-item:only-child::after {width: 0;}#sk-e94e1756-0db9-4a08-83ca-c6ff3d114b29 div.sk-dashed-wrapped {border: 1px dashed gray;margin: 0 0.4em 0.5em 0.4em;box-sizing: border-box;padding-bottom: 0.4em;background-color: white;position: relative;}#sk-e94e1756-0db9-4a08-83ca-c6ff3d114b29 div.sk-label label {font-family: monospace;font-weight: bold;background-color: white;display: inline-block;line-height: 1.2em;}#sk-e94e1756-0db9-4a08-83ca-c6ff3d114b29 div.sk-label-container {position: relative;z-index: 2;text-align: center;}#sk-e94e1756-0db9-4a08-83ca-c6ff3d114b29 div.sk-container {display: inline-block;position: relative;}</style><div id=\"sk-e94e1756-0db9-4a08-83ca-c6ff3d114b29\" class\"sk-top-container\"><div class=\"sk-container\"><div class=\"sk-item sk-dashed-wrapped\"><div class=\"sk-label-container\"><div class=\"sk-label sk-toggleable\"><input class=\"sk-toggleable__control sk-hidden--visually\" id=\"c863d25c-47c1-4998-ba52-2449bc511387\" type=\"checkbox\" ><label class=\"sk-toggleable__label\" for=\"c863d25c-47c1-4998-ba52-2449bc511387\">GridSearchCV</label><div class=\"sk-toggleable__content\"><pre>GridSearchCV(cv=None, error_score=nan,\n",
       "             estimator=Pipeline(memory=None,\n",
       "                                steps=[('preprocessor',\n",
       "                                        ColumnTransformer(n_jobs=None,\n",
       "                                                          remainder='drop',\n",
       "                                                          sparse_threshold=0.3,\n",
       "                                                          transformer_weights=None,\n",
       "                                                          transformers=[('ohe',\n",
       "                                                                         OneHotEncoder(categories='auto',\n",
       "                                                                                       drop=None,\n",
       "                                                                                       dtype=<class 'numpy.float64'>,\n",
       "                                                                                       handle_unknown='error',\n",
       "                                                                                       sparse=True),\n",
       "                                                                         ['Sex']),\n",
       "                                                                        ('vectorizer',\n",
       "                                                                         CountVectorizer...\n",
       "                                                           warm_start=False))],\n",
       "                                verbose=False),\n",
       "             n_jobs=None,\n",
       "             param_grid={'classifier__C': [0.001, 0.01, 0.1, 1, 10, 100, 1000],\n",
       "                         'classifier__penalty': ['l1', 'l2'],\n",
       "                         'preprocessor__ohe__drop': [None, 'first'],\n",
       "                         'preprocessor__vectorizer__min_df': [1, 2, 3],\n",
       "                         'preprocessor__vectorizer__ngram_range': [(1, 1),\n",
       "                                                                   (1, 2)]},\n",
       "             pre_dispatch='2*n_jobs', refit=True, return_train_score=False,\n",
       "             scoring=None, verbose=0)</pre></div></div></div><div class=\"sk-parallel\"><div class=\"sk-parallel-item\"><div class=\"sk-item\"><div class=\"sk-serial\"><div class=\"sk-item\"><div class=\"sk-serial\"><div class=\"sk-item sk-dashed-wrapped\"><div class=\"sk-label-container\"><div class=\"sk-label sk-toggleable\"><input class=\"sk-toggleable__control sk-hidden--visually\" id=\"386853bf-fd87-444f-a8af-142e50b3b96e\" type=\"checkbox\" ><label class=\"sk-toggleable__label\" for=\"386853bf-fd87-444f-a8af-142e50b3b96e\">preprocessor: ColumnTransformer</label><div class=\"sk-toggleable__content\"><pre>ColumnTransformer(transformers=[('ohe', OneHotEncoder(), ['Sex']),\n",
       "                                ('vectorizer', CountVectorizer(), 'Name'),\n",
       "                                ('imputer', SimpleImputer(), ['Age'])])</pre></div></div></div><div class=\"sk-parallel\"><div class=\"sk-parallel-item\"><div class=\"sk-item\"><div class=\"sk-label-container\"><div class=\"sk-label sk-toggleable\"><input class=\"sk-toggleable__control sk-hidden--visually\" id=\"6528145e-40b4-4cb2-b2c1-bafc8b2f09a3\" type=\"checkbox\" ><label class=\"sk-toggleable__label\" for=\"6528145e-40b4-4cb2-b2c1-bafc8b2f09a3\">ohe</label><div class=\"sk-toggleable__content\"><pre>['Sex']</pre></div></div></div><div class=\"sk-serial\"><div class=\"sk-item\"><div class=\"sk-estimator sk-toggleable\"><input class=\"sk-toggleable__control sk-hidden--visually\" id=\"4ee8f236-b28c-46a4-b85d-7cd87cc96e61\" type=\"checkbox\" ><label class=\"sk-toggleable__label\" for=\"4ee8f236-b28c-46a4-b85d-7cd87cc96e61\">OneHotEncoder</label><div class=\"sk-toggleable__content\"><pre>OneHotEncoder()</pre></div></div></div></div></div></div><div class=\"sk-parallel-item\"><div class=\"sk-item\"><div class=\"sk-label-container\"><div class=\"sk-label sk-toggleable\"><input class=\"sk-toggleable__control sk-hidden--visually\" id=\"148e0680-2154-48b5-8122-36a8c036ec09\" type=\"checkbox\" ><label class=\"sk-toggleable__label\" for=\"148e0680-2154-48b5-8122-36a8c036ec09\">vectorizer</label><div class=\"sk-toggleable__content\"><pre>Name</pre></div></div></div><div class=\"sk-serial\"><div class=\"sk-item\"><div class=\"sk-estimator sk-toggleable\"><input class=\"sk-toggleable__control sk-hidden--visually\" id=\"1148f853-7984-4f3a-9d74-c63f3e4a9496\" type=\"checkbox\" ><label class=\"sk-toggleable__label\" for=\"1148f853-7984-4f3a-9d74-c63f3e4a9496\">CountVectorizer</label><div class=\"sk-toggleable__content\"><pre>CountVectorizer()</pre></div></div></div></div></div></div><div class=\"sk-parallel-item\"><div class=\"sk-item\"><div class=\"sk-label-container\"><div class=\"sk-label sk-toggleable\"><input class=\"sk-toggleable__control sk-hidden--visually\" id=\"db8d080d-2595-45ef-88f5-8ab3bb10adbf\" type=\"checkbox\" ><label class=\"sk-toggleable__label\" for=\"db8d080d-2595-45ef-88f5-8ab3bb10adbf\">imputer</label><div class=\"sk-toggleable__content\"><pre>['Age']</pre></div></div></div><div class=\"sk-serial\"><div class=\"sk-item\"><div class=\"sk-estimator sk-toggleable\"><input class=\"sk-toggleable__control sk-hidden--visually\" id=\"5b98d9a1-e8d9-4d21-9af5-7af088d55498\" type=\"checkbox\" ><label class=\"sk-toggleable__label\" for=\"5b98d9a1-e8d9-4d21-9af5-7af088d55498\">SimpleImputer</label><div class=\"sk-toggleable__content\"><pre>SimpleImputer()</pre></div></div></div></div></div></div></div></div><div class=\"sk-item\"><div class=\"sk-estimator sk-toggleable\"><input class=\"sk-toggleable__control sk-hidden--visually\" id=\"6b169d23-66ec-4c39-b480-7af318948a4c\" type=\"checkbox\" ><label class=\"sk-toggleable__label\" for=\"6b169d23-66ec-4c39-b480-7af318948a4c\">LogisticRegression</label><div class=\"sk-toggleable__content\"><pre>LogisticRegression(random_state=1, solver='liblinear')</pre></div></div></div></div></div></div></div></div></div></div></div></div>"
      ],
      "text/plain": [
       "GridSearchCV(cv=None, error_score=nan,\n",
       "             estimator=Pipeline(memory=None,\n",
       "                                steps=[('preprocessor',\n",
       "                                        ColumnTransformer(n_jobs=None,\n",
       "                                                          remainder='drop',\n",
       "                                                          sparse_threshold=0.3,\n",
       "                                                          transformer_weights=None,\n",
       "                                                          transformers=[('ohe',\n",
       "                                                                         OneHotEncoder(categories='auto',\n",
       "                                                                                       drop=None,\n",
       "                                                                                       dtype=<class 'numpy.float64'>,\n",
       "                                                                                       handle_unknown='error',\n",
       "                                                                                       sparse=True),\n",
       "                                                                         ['Sex']),\n",
       "                                                                        ('vectorizer',\n",
       "                                                                         CountVectorizer...\n",
       "                                                           warm_start=False))],\n",
       "                                verbose=False),\n",
       "             n_jobs=None,\n",
       "             param_grid={'classifier__C': [0.001, 0.01, 0.1, 1, 10, 100, 1000],\n",
       "                         'classifier__penalty': ['l1', 'l2'],\n",
       "                         'preprocessor__ohe__drop': [None, 'first'],\n",
       "                         'preprocessor__vectorizer__min_df': [1, 2, 3],\n",
       "                         'preprocessor__vectorizer__ngram_range': [(1, 1),\n",
       "                                                                   (1, 2)]},\n",
       "             pre_dispatch='2*n_jobs', refit=True, return_train_score=False,\n",
       "             scoring=None, verbose=0)"
      ]
     },
     "execution_count": 281,
     "metadata": {},
     "output_type": "execute_result"
    }
   ],
   "source": [
    "grid"
   ]
  },
  {
   "cell_type": "markdown",
   "id": "af954c2f",
   "metadata": {},
   "source": [
    "### Not using parallel jobs"
   ]
  },
  {
   "cell_type": "code",
   "execution_count": 282,
   "id": "c6c3c5d3",
   "metadata": {},
   "outputs": [
    {
     "name": "stdout",
     "output_type": "stream",
     "text": [
      "Wall time: 26 s\n"
     ]
    },
    {
     "data": {
      "text/html": [
       "<style>#sk-e0f282de-9a15-4560-8dd1-15ed356fd2af {color: black;background-color: white;}#sk-e0f282de-9a15-4560-8dd1-15ed356fd2af pre{padding: 0;}#sk-e0f282de-9a15-4560-8dd1-15ed356fd2af div.sk-toggleable {background-color: white;}#sk-e0f282de-9a15-4560-8dd1-15ed356fd2af label.sk-toggleable__label {cursor: pointer;display: block;width: 100%;margin-bottom: 0;padding: 0.3em;box-sizing: border-box;text-align: center;}#sk-e0f282de-9a15-4560-8dd1-15ed356fd2af div.sk-toggleable__content {max-height: 0;max-width: 0;overflow: hidden;text-align: left;background-color: #f0f8ff;}#sk-e0f282de-9a15-4560-8dd1-15ed356fd2af div.sk-toggleable__content pre {margin: 0.2em;color: black;border-radius: 0.25em;background-color: #f0f8ff;}#sk-e0f282de-9a15-4560-8dd1-15ed356fd2af input.sk-toggleable__control:checked~div.sk-toggleable__content {max-height: 200px;max-width: 100%;overflow: auto;}#sk-e0f282de-9a15-4560-8dd1-15ed356fd2af div.sk-estimator input.sk-toggleable__control:checked~label.sk-toggleable__label {background-color: #d4ebff;}#sk-e0f282de-9a15-4560-8dd1-15ed356fd2af div.sk-label input.sk-toggleable__control:checked~label.sk-toggleable__label {background-color: #d4ebff;}#sk-e0f282de-9a15-4560-8dd1-15ed356fd2af input.sk-hidden--visually {border: 0;clip: rect(1px 1px 1px 1px);clip: rect(1px, 1px, 1px, 1px);height: 1px;margin: -1px;overflow: hidden;padding: 0;position: absolute;width: 1px;}#sk-e0f282de-9a15-4560-8dd1-15ed356fd2af div.sk-estimator {font-family: monospace;background-color: #f0f8ff;border: 1px dotted black;border-radius: 0.25em;box-sizing: border-box;margin-bottom: 0.5em;}#sk-e0f282de-9a15-4560-8dd1-15ed356fd2af div.sk-estimator:hover {background-color: #d4ebff;}#sk-e0f282de-9a15-4560-8dd1-15ed356fd2af div.sk-parallel-item::after {content: \"\";width: 100%;border-bottom: 1px solid gray;flex-grow: 1;}#sk-e0f282de-9a15-4560-8dd1-15ed356fd2af div.sk-label:hover label.sk-toggleable__label {background-color: #d4ebff;}#sk-e0f282de-9a15-4560-8dd1-15ed356fd2af div.sk-serial::before {content: \"\";position: absolute;border-left: 1px solid gray;box-sizing: border-box;top: 2em;bottom: 0;left: 50%;}#sk-e0f282de-9a15-4560-8dd1-15ed356fd2af div.sk-serial {display: flex;flex-direction: column;align-items: center;background-color: white;padding-right: 0.2em;padding-left: 0.2em;}#sk-e0f282de-9a15-4560-8dd1-15ed356fd2af div.sk-item {z-index: 1;}#sk-e0f282de-9a15-4560-8dd1-15ed356fd2af div.sk-parallel {display: flex;align-items: stretch;justify-content: center;background-color: white;}#sk-e0f282de-9a15-4560-8dd1-15ed356fd2af div.sk-parallel::before {content: \"\";position: absolute;border-left: 1px solid gray;box-sizing: border-box;top: 2em;bottom: 0;left: 50%;}#sk-e0f282de-9a15-4560-8dd1-15ed356fd2af div.sk-parallel-item {display: flex;flex-direction: column;position: relative;background-color: white;}#sk-e0f282de-9a15-4560-8dd1-15ed356fd2af div.sk-parallel-item:first-child::after {align-self: flex-end;width: 50%;}#sk-e0f282de-9a15-4560-8dd1-15ed356fd2af div.sk-parallel-item:last-child::after {align-self: flex-start;width: 50%;}#sk-e0f282de-9a15-4560-8dd1-15ed356fd2af div.sk-parallel-item:only-child::after {width: 0;}#sk-e0f282de-9a15-4560-8dd1-15ed356fd2af div.sk-dashed-wrapped {border: 1px dashed gray;margin: 0 0.4em 0.5em 0.4em;box-sizing: border-box;padding-bottom: 0.4em;background-color: white;position: relative;}#sk-e0f282de-9a15-4560-8dd1-15ed356fd2af div.sk-label label {font-family: monospace;font-weight: bold;background-color: white;display: inline-block;line-height: 1.2em;}#sk-e0f282de-9a15-4560-8dd1-15ed356fd2af div.sk-label-container {position: relative;z-index: 2;text-align: center;}#sk-e0f282de-9a15-4560-8dd1-15ed356fd2af div.sk-container {display: inline-block;position: relative;}</style><div id=\"sk-e0f282de-9a15-4560-8dd1-15ed356fd2af\" class\"sk-top-container\"><div class=\"sk-container\"><div class=\"sk-item sk-dashed-wrapped\"><div class=\"sk-label-container\"><div class=\"sk-label sk-toggleable\"><input class=\"sk-toggleable__control sk-hidden--visually\" id=\"4add3e6f-96c5-443e-8535-68b7868de7ec\" type=\"checkbox\" ><label class=\"sk-toggleable__label\" for=\"4add3e6f-96c5-443e-8535-68b7868de7ec\">GridSearchCV</label><div class=\"sk-toggleable__content\"><pre>GridSearchCV(cv=None, error_score=nan,\n",
       "             estimator=Pipeline(memory=None,\n",
       "                                steps=[('preprocessor',\n",
       "                                        ColumnTransformer(n_jobs=None,\n",
       "                                                          remainder='drop',\n",
       "                                                          sparse_threshold=0.3,\n",
       "                                                          transformer_weights=None,\n",
       "                                                          transformers=[('ohe',\n",
       "                                                                         OneHotEncoder(categories='auto',\n",
       "                                                                                       drop=None,\n",
       "                                                                                       dtype=<class 'numpy.float64'>,\n",
       "                                                                                       handle_unknown='error',\n",
       "                                                                                       sparse=True),\n",
       "                                                                         ['Sex']),\n",
       "                                                                        ('vectorizer',\n",
       "                                                                         CountVectorizer...\n",
       "                                                           warm_start=False))],\n",
       "                                verbose=False),\n",
       "             n_jobs=None,\n",
       "             param_grid={'classifier__C': [0.001, 0.01, 0.1, 1, 10, 100, 1000],\n",
       "                         'classifier__penalty': ['l1', 'l2'],\n",
       "                         'preprocessor__ohe__drop': [None, 'first'],\n",
       "                         'preprocessor__vectorizer__min_df': [1, 2, 3],\n",
       "                         'preprocessor__vectorizer__ngram_range': [(1, 1),\n",
       "                                                                   (1, 2)]},\n",
       "             pre_dispatch='2*n_jobs', refit=True, return_train_score=False,\n",
       "             scoring=None, verbose=0)</pre></div></div></div><div class=\"sk-parallel\"><div class=\"sk-parallel-item\"><div class=\"sk-item\"><div class=\"sk-serial\"><div class=\"sk-item\"><div class=\"sk-serial\"><div class=\"sk-item sk-dashed-wrapped\"><div class=\"sk-label-container\"><div class=\"sk-label sk-toggleable\"><input class=\"sk-toggleable__control sk-hidden--visually\" id=\"e01c1bfe-28ac-42b1-be33-920e0253f2fc\" type=\"checkbox\" ><label class=\"sk-toggleable__label\" for=\"e01c1bfe-28ac-42b1-be33-920e0253f2fc\">preprocessor: ColumnTransformer</label><div class=\"sk-toggleable__content\"><pre>ColumnTransformer(transformers=[('ohe', OneHotEncoder(), ['Sex']),\n",
       "                                ('vectorizer', CountVectorizer(), 'Name'),\n",
       "                                ('imputer', SimpleImputer(), ['Age'])])</pre></div></div></div><div class=\"sk-parallel\"><div class=\"sk-parallel-item\"><div class=\"sk-item\"><div class=\"sk-label-container\"><div class=\"sk-label sk-toggleable\"><input class=\"sk-toggleable__control sk-hidden--visually\" id=\"6f827de0-29cf-484a-9e6f-6ac47fad5b4f\" type=\"checkbox\" ><label class=\"sk-toggleable__label\" for=\"6f827de0-29cf-484a-9e6f-6ac47fad5b4f\">ohe</label><div class=\"sk-toggleable__content\"><pre>['Sex']</pre></div></div></div><div class=\"sk-serial\"><div class=\"sk-item\"><div class=\"sk-estimator sk-toggleable\"><input class=\"sk-toggleable__control sk-hidden--visually\" id=\"a3b6ab28-9351-401a-9c87-7dc0611444c5\" type=\"checkbox\" ><label class=\"sk-toggleable__label\" for=\"a3b6ab28-9351-401a-9c87-7dc0611444c5\">OneHotEncoder</label><div class=\"sk-toggleable__content\"><pre>OneHotEncoder()</pre></div></div></div></div></div></div><div class=\"sk-parallel-item\"><div class=\"sk-item\"><div class=\"sk-label-container\"><div class=\"sk-label sk-toggleable\"><input class=\"sk-toggleable__control sk-hidden--visually\" id=\"fb547c0e-86a4-4894-9672-6c64a335fb5b\" type=\"checkbox\" ><label class=\"sk-toggleable__label\" for=\"fb547c0e-86a4-4894-9672-6c64a335fb5b\">vectorizer</label><div class=\"sk-toggleable__content\"><pre>Name</pre></div></div></div><div class=\"sk-serial\"><div class=\"sk-item\"><div class=\"sk-estimator sk-toggleable\"><input class=\"sk-toggleable__control sk-hidden--visually\" id=\"dd5d3d48-bd8d-4107-9f89-d8683b182c9d\" type=\"checkbox\" ><label class=\"sk-toggleable__label\" for=\"dd5d3d48-bd8d-4107-9f89-d8683b182c9d\">CountVectorizer</label><div class=\"sk-toggleable__content\"><pre>CountVectorizer()</pre></div></div></div></div></div></div><div class=\"sk-parallel-item\"><div class=\"sk-item\"><div class=\"sk-label-container\"><div class=\"sk-label sk-toggleable\"><input class=\"sk-toggleable__control sk-hidden--visually\" id=\"5210f54d-f0e3-4945-986e-e074eeba1f3e\" type=\"checkbox\" ><label class=\"sk-toggleable__label\" for=\"5210f54d-f0e3-4945-986e-e074eeba1f3e\">imputer</label><div class=\"sk-toggleable__content\"><pre>['Age']</pre></div></div></div><div class=\"sk-serial\"><div class=\"sk-item\"><div class=\"sk-estimator sk-toggleable\"><input class=\"sk-toggleable__control sk-hidden--visually\" id=\"16c1df34-2cb3-4fca-bb33-05e5fa3f5d33\" type=\"checkbox\" ><label class=\"sk-toggleable__label\" for=\"16c1df34-2cb3-4fca-bb33-05e5fa3f5d33\">SimpleImputer</label><div class=\"sk-toggleable__content\"><pre>SimpleImputer()</pre></div></div></div></div></div></div></div></div><div class=\"sk-item\"><div class=\"sk-estimator sk-toggleable\"><input class=\"sk-toggleable__control sk-hidden--visually\" id=\"aa61f8b6-8f24-45fe-acd9-3a393dc42907\" type=\"checkbox\" ><label class=\"sk-toggleable__label\" for=\"aa61f8b6-8f24-45fe-acd9-3a393dc42907\">LogisticRegression</label><div class=\"sk-toggleable__content\"><pre>LogisticRegression(random_state=1, solver='liblinear')</pre></div></div></div></div></div></div></div></div></div></div></div></div>"
      ],
      "text/plain": [
       "GridSearchCV(cv=None, error_score=nan,\n",
       "             estimator=Pipeline(memory=None,\n",
       "                                steps=[('preprocessor',\n",
       "                                        ColumnTransformer(n_jobs=None,\n",
       "                                                          remainder='drop',\n",
       "                                                          sparse_threshold=0.3,\n",
       "                                                          transformer_weights=None,\n",
       "                                                          transformers=[('ohe',\n",
       "                                                                         OneHotEncoder(categories='auto',\n",
       "                                                                                       drop=None,\n",
       "                                                                                       dtype=<class 'numpy.float64'>,\n",
       "                                                                                       handle_unknown='error',\n",
       "                                                                                       sparse=True),\n",
       "                                                                         ['Sex']),\n",
       "                                                                        ('vectorizer',\n",
       "                                                                         CountVectorizer...\n",
       "                                                           warm_start=False))],\n",
       "                                verbose=False),\n",
       "             n_jobs=None,\n",
       "             param_grid={'classifier__C': [0.001, 0.01, 0.1, 1, 10, 100, 1000],\n",
       "                         'classifier__penalty': ['l1', 'l2'],\n",
       "                         'preprocessor__ohe__drop': [None, 'first'],\n",
       "                         'preprocessor__vectorizer__min_df': [1, 2, 3],\n",
       "                         'preprocessor__vectorizer__ngram_range': [(1, 1),\n",
       "                                                                   (1, 2)]},\n",
       "             pre_dispatch='2*n_jobs', refit=True, return_train_score=False,\n",
       "             scoring=None, verbose=0)"
      ]
     },
     "execution_count": 282,
     "metadata": {},
     "output_type": "execute_result"
    }
   ],
   "source": [
    "%time grid.fit(X, y)"
   ]
  },
  {
   "cell_type": "markdown",
   "id": "89038e90",
   "metadata": {},
   "source": [
    "### Using parallel processing"
   ]
  },
  {
   "cell_type": "code",
   "execution_count": 283,
   "id": "0039c163",
   "metadata": {},
   "outputs": [
    {
     "name": "stdout",
     "output_type": "stream",
     "text": [
      "Wall time: 25.1 s\n"
     ]
    },
    {
     "data": {
      "text/html": [
       "<style>#sk-2d84ea7d-6188-404e-80c3-45cd5d4fac04 {color: black;background-color: white;}#sk-2d84ea7d-6188-404e-80c3-45cd5d4fac04 pre{padding: 0;}#sk-2d84ea7d-6188-404e-80c3-45cd5d4fac04 div.sk-toggleable {background-color: white;}#sk-2d84ea7d-6188-404e-80c3-45cd5d4fac04 label.sk-toggleable__label {cursor: pointer;display: block;width: 100%;margin-bottom: 0;padding: 0.3em;box-sizing: border-box;text-align: center;}#sk-2d84ea7d-6188-404e-80c3-45cd5d4fac04 div.sk-toggleable__content {max-height: 0;max-width: 0;overflow: hidden;text-align: left;background-color: #f0f8ff;}#sk-2d84ea7d-6188-404e-80c3-45cd5d4fac04 div.sk-toggleable__content pre {margin: 0.2em;color: black;border-radius: 0.25em;background-color: #f0f8ff;}#sk-2d84ea7d-6188-404e-80c3-45cd5d4fac04 input.sk-toggleable__control:checked~div.sk-toggleable__content {max-height: 200px;max-width: 100%;overflow: auto;}#sk-2d84ea7d-6188-404e-80c3-45cd5d4fac04 div.sk-estimator input.sk-toggleable__control:checked~label.sk-toggleable__label {background-color: #d4ebff;}#sk-2d84ea7d-6188-404e-80c3-45cd5d4fac04 div.sk-label input.sk-toggleable__control:checked~label.sk-toggleable__label {background-color: #d4ebff;}#sk-2d84ea7d-6188-404e-80c3-45cd5d4fac04 input.sk-hidden--visually {border: 0;clip: rect(1px 1px 1px 1px);clip: rect(1px, 1px, 1px, 1px);height: 1px;margin: -1px;overflow: hidden;padding: 0;position: absolute;width: 1px;}#sk-2d84ea7d-6188-404e-80c3-45cd5d4fac04 div.sk-estimator {font-family: monospace;background-color: #f0f8ff;border: 1px dotted black;border-radius: 0.25em;box-sizing: border-box;margin-bottom: 0.5em;}#sk-2d84ea7d-6188-404e-80c3-45cd5d4fac04 div.sk-estimator:hover {background-color: #d4ebff;}#sk-2d84ea7d-6188-404e-80c3-45cd5d4fac04 div.sk-parallel-item::after {content: \"\";width: 100%;border-bottom: 1px solid gray;flex-grow: 1;}#sk-2d84ea7d-6188-404e-80c3-45cd5d4fac04 div.sk-label:hover label.sk-toggleable__label {background-color: #d4ebff;}#sk-2d84ea7d-6188-404e-80c3-45cd5d4fac04 div.sk-serial::before {content: \"\";position: absolute;border-left: 1px solid gray;box-sizing: border-box;top: 2em;bottom: 0;left: 50%;}#sk-2d84ea7d-6188-404e-80c3-45cd5d4fac04 div.sk-serial {display: flex;flex-direction: column;align-items: center;background-color: white;padding-right: 0.2em;padding-left: 0.2em;}#sk-2d84ea7d-6188-404e-80c3-45cd5d4fac04 div.sk-item {z-index: 1;}#sk-2d84ea7d-6188-404e-80c3-45cd5d4fac04 div.sk-parallel {display: flex;align-items: stretch;justify-content: center;background-color: white;}#sk-2d84ea7d-6188-404e-80c3-45cd5d4fac04 div.sk-parallel::before {content: \"\";position: absolute;border-left: 1px solid gray;box-sizing: border-box;top: 2em;bottom: 0;left: 50%;}#sk-2d84ea7d-6188-404e-80c3-45cd5d4fac04 div.sk-parallel-item {display: flex;flex-direction: column;position: relative;background-color: white;}#sk-2d84ea7d-6188-404e-80c3-45cd5d4fac04 div.sk-parallel-item:first-child::after {align-self: flex-end;width: 50%;}#sk-2d84ea7d-6188-404e-80c3-45cd5d4fac04 div.sk-parallel-item:last-child::after {align-self: flex-start;width: 50%;}#sk-2d84ea7d-6188-404e-80c3-45cd5d4fac04 div.sk-parallel-item:only-child::after {width: 0;}#sk-2d84ea7d-6188-404e-80c3-45cd5d4fac04 div.sk-dashed-wrapped {border: 1px dashed gray;margin: 0 0.4em 0.5em 0.4em;box-sizing: border-box;padding-bottom: 0.4em;background-color: white;position: relative;}#sk-2d84ea7d-6188-404e-80c3-45cd5d4fac04 div.sk-label label {font-family: monospace;font-weight: bold;background-color: white;display: inline-block;line-height: 1.2em;}#sk-2d84ea7d-6188-404e-80c3-45cd5d4fac04 div.sk-label-container {position: relative;z-index: 2;text-align: center;}#sk-2d84ea7d-6188-404e-80c3-45cd5d4fac04 div.sk-container {display: inline-block;position: relative;}</style><div id=\"sk-2d84ea7d-6188-404e-80c3-45cd5d4fac04\" class\"sk-top-container\"><div class=\"sk-container\"><div class=\"sk-item sk-dashed-wrapped\"><div class=\"sk-label-container\"><div class=\"sk-label sk-toggleable\"><input class=\"sk-toggleable__control sk-hidden--visually\" id=\"efb0ffd1-c3f0-4d7b-ac76-52f5c3bdb4ab\" type=\"checkbox\" ><label class=\"sk-toggleable__label\" for=\"efb0ffd1-c3f0-4d7b-ac76-52f5c3bdb4ab\">GridSearchCV</label><div class=\"sk-toggleable__content\"><pre>GridSearchCV(cv=None, error_score=nan,\n",
       "             estimator=Pipeline(memory=None,\n",
       "                                steps=[('preprocessor',\n",
       "                                        ColumnTransformer(n_jobs=None,\n",
       "                                                          remainder='drop',\n",
       "                                                          sparse_threshold=0.3,\n",
       "                                                          transformer_weights=None,\n",
       "                                                          transformers=[('ohe',\n",
       "                                                                         OneHotEncoder(categories='auto',\n",
       "                                                                                       drop=None,\n",
       "                                                                                       dtype=<class 'numpy.float64'>,\n",
       "                                                                                       handle_unknown='error',\n",
       "                                                                                       sparse=True),\n",
       "                                                                         ['Sex']),\n",
       "                                                                        ('vectorizer',\n",
       "                                                                         CountVectorizer...\n",
       "                                                           warm_start=False))],\n",
       "                                verbose=False),\n",
       "             n_jobs=None,\n",
       "             param_grid={'classifier__C': [0.001, 0.01, 0.1, 1, 10, 100, 1000],\n",
       "                         'classifier__penalty': ['l1', 'l2'],\n",
       "                         'preprocessor__ohe__drop': [None, 'first'],\n",
       "                         'preprocessor__vectorizer__min_df': [1, 2, 3],\n",
       "                         'preprocessor__vectorizer__ngram_range': [(1, 1),\n",
       "                                                                   (1, 2)]},\n",
       "             pre_dispatch='2*n_jobs', refit=True, return_train_score=False,\n",
       "             scoring=None, verbose=0)</pre></div></div></div><div class=\"sk-parallel\"><div class=\"sk-parallel-item\"><div class=\"sk-item\"><div class=\"sk-serial\"><div class=\"sk-item\"><div class=\"sk-serial\"><div class=\"sk-item sk-dashed-wrapped\"><div class=\"sk-label-container\"><div class=\"sk-label sk-toggleable\"><input class=\"sk-toggleable__control sk-hidden--visually\" id=\"aff9a55f-f710-4e9c-99cc-c6a68b0ab322\" type=\"checkbox\" ><label class=\"sk-toggleable__label\" for=\"aff9a55f-f710-4e9c-99cc-c6a68b0ab322\">preprocessor: ColumnTransformer</label><div class=\"sk-toggleable__content\"><pre>ColumnTransformer(transformers=[('ohe', OneHotEncoder(), ['Sex']),\n",
       "                                ('vectorizer', CountVectorizer(), 'Name'),\n",
       "                                ('imputer', SimpleImputer(), ['Age'])])</pre></div></div></div><div class=\"sk-parallel\"><div class=\"sk-parallel-item\"><div class=\"sk-item\"><div class=\"sk-label-container\"><div class=\"sk-label sk-toggleable\"><input class=\"sk-toggleable__control sk-hidden--visually\" id=\"a83c29e8-2eaa-4590-884f-bc096b475638\" type=\"checkbox\" ><label class=\"sk-toggleable__label\" for=\"a83c29e8-2eaa-4590-884f-bc096b475638\">ohe</label><div class=\"sk-toggleable__content\"><pre>['Sex']</pre></div></div></div><div class=\"sk-serial\"><div class=\"sk-item\"><div class=\"sk-estimator sk-toggleable\"><input class=\"sk-toggleable__control sk-hidden--visually\" id=\"a379341c-0416-479d-ba94-7051a33275e4\" type=\"checkbox\" ><label class=\"sk-toggleable__label\" for=\"a379341c-0416-479d-ba94-7051a33275e4\">OneHotEncoder</label><div class=\"sk-toggleable__content\"><pre>OneHotEncoder()</pre></div></div></div></div></div></div><div class=\"sk-parallel-item\"><div class=\"sk-item\"><div class=\"sk-label-container\"><div class=\"sk-label sk-toggleable\"><input class=\"sk-toggleable__control sk-hidden--visually\" id=\"950b2580-ca96-4535-bb10-1444ad83263f\" type=\"checkbox\" ><label class=\"sk-toggleable__label\" for=\"950b2580-ca96-4535-bb10-1444ad83263f\">vectorizer</label><div class=\"sk-toggleable__content\"><pre>Name</pre></div></div></div><div class=\"sk-serial\"><div class=\"sk-item\"><div class=\"sk-estimator sk-toggleable\"><input class=\"sk-toggleable__control sk-hidden--visually\" id=\"ef6c5f40-1978-48b8-ac3c-b674454eccff\" type=\"checkbox\" ><label class=\"sk-toggleable__label\" for=\"ef6c5f40-1978-48b8-ac3c-b674454eccff\">CountVectorizer</label><div class=\"sk-toggleable__content\"><pre>CountVectorizer()</pre></div></div></div></div></div></div><div class=\"sk-parallel-item\"><div class=\"sk-item\"><div class=\"sk-label-container\"><div class=\"sk-label sk-toggleable\"><input class=\"sk-toggleable__control sk-hidden--visually\" id=\"1df0ab4d-5e46-4afa-b638-d39f0fda92c0\" type=\"checkbox\" ><label class=\"sk-toggleable__label\" for=\"1df0ab4d-5e46-4afa-b638-d39f0fda92c0\">imputer</label><div class=\"sk-toggleable__content\"><pre>['Age']</pre></div></div></div><div class=\"sk-serial\"><div class=\"sk-item\"><div class=\"sk-estimator sk-toggleable\"><input class=\"sk-toggleable__control sk-hidden--visually\" id=\"e0d55cf3-5308-4156-9645-68e3612c5a9a\" type=\"checkbox\" ><label class=\"sk-toggleable__label\" for=\"e0d55cf3-5308-4156-9645-68e3612c5a9a\">SimpleImputer</label><div class=\"sk-toggleable__content\"><pre>SimpleImputer()</pre></div></div></div></div></div></div></div></div><div class=\"sk-item\"><div class=\"sk-estimator sk-toggleable\"><input class=\"sk-toggleable__control sk-hidden--visually\" id=\"95e24b1b-ca20-4c36-a28b-9ad8cdf34a06\" type=\"checkbox\" ><label class=\"sk-toggleable__label\" for=\"95e24b1b-ca20-4c36-a28b-9ad8cdf34a06\">LogisticRegression</label><div class=\"sk-toggleable__content\"><pre>LogisticRegression(random_state=1, solver='liblinear')</pre></div></div></div></div></div></div></div></div></div></div></div></div>"
      ],
      "text/plain": [
       "GridSearchCV(cv=None, error_score=nan,\n",
       "             estimator=Pipeline(memory=None,\n",
       "                                steps=[('preprocessor',\n",
       "                                        ColumnTransformer(n_jobs=None,\n",
       "                                                          remainder='drop',\n",
       "                                                          sparse_threshold=0.3,\n",
       "                                                          transformer_weights=None,\n",
       "                                                          transformers=[('ohe',\n",
       "                                                                         OneHotEncoder(categories='auto',\n",
       "                                                                                       drop=None,\n",
       "                                                                                       dtype=<class 'numpy.float64'>,\n",
       "                                                                                       handle_unknown='error',\n",
       "                                                                                       sparse=True),\n",
       "                                                                         ['Sex']),\n",
       "                                                                        ('vectorizer',\n",
       "                                                                         CountVectorizer...\n",
       "                                                           warm_start=False))],\n",
       "                                verbose=False),\n",
       "             n_jobs=None,\n",
       "             param_grid={'classifier__C': [0.001, 0.01, 0.1, 1, 10, 100, 1000],\n",
       "                         'classifier__penalty': ['l1', 'l2'],\n",
       "                         'preprocessor__ohe__drop': [None, 'first'],\n",
       "                         'preprocessor__vectorizer__min_df': [1, 2, 3],\n",
       "                         'preprocessor__vectorizer__ngram_range': [(1, 1),\n",
       "                                                                   (1, 2)]},\n",
       "             pre_dispatch='2*n_jobs', refit=True, return_train_score=False,\n",
       "             scoring=None, verbose=0)"
      ]
     },
     "execution_count": 283,
     "metadata": {},
     "output_type": "execute_result"
    }
   ],
   "source": [
    "grid2 = GridSearchCV(pipe, params, n_jobs=-1)\n",
    "%time grid.fit(X, y)"
   ]
  },
  {
   "cell_type": "markdown",
   "id": "00f05a8b",
   "metadata": {},
   "source": [
    "## Tune multiple models simultaneously with GridSearchCV\n",
    "\n",
    "You can tune 2+ models using the same grid search! Here's how:\n",
    "+ Create multiple parameter dictionaries\n",
    "+ Specify the model within each dictionary\n",
    "+ Put the dictionaries in a list"
   ]
  },
  {
   "cell_type": "code",
   "execution_count": 284,
   "id": "aff9741c",
   "metadata": {},
   "outputs": [],
   "source": [
    "file_input_path = \"titanic_train.csv\"\n",
    "if not os.path.exists(file_input_path):\n",
    "    df_train = pd.read_csv(\"http://bit.ly/kaggletrain\")\n",
    "    df_train.to_csv(file_input_path, header=True, index=False, sep=\"\\t\")\n",
    "else:\n",
    "    df_train = pd.read_csv(file_input_path, header=0, sep=\"\\t\")\n",
    "    \n",
    "features = [\"Sex\", \"Name\", \"Age\"]\n",
    "X, y = df_train[features], df_train[\"Survived\"]"
   ]
  },
  {
   "cell_type": "code",
   "execution_count": 285,
   "id": "3d5b3ac3",
   "metadata": {},
   "outputs": [],
   "source": [
    "col_transformer = ColumnTransformer(\n",
    "    [\n",
    "        (\"ohe\", OneHotEncoder(), [\"Sex\"]),\n",
    "        (\"vectorizer\", CountVectorizer(), \"Name\"),\n",
    "        (\"imputer\", SimpleImputer(), [\"Age\"])\n",
    "    ]\n",
    ")"
   ]
  },
  {
   "cell_type": "code",
   "execution_count": 286,
   "id": "b61f8639",
   "metadata": {},
   "outputs": [],
   "source": [
    "clf1 = LogisticRegression(solver=\"liblinear\", random_state=1)\n",
    "clf2 = RandomForestClassifier(random_state=1)"
   ]
  },
  {
   "cell_type": "markdown",
   "id": "d75d3a8b",
   "metadata": {},
   "source": [
    "### Create multiple parameter dictionaries"
   ]
  },
  {
   "cell_type": "code",
   "execution_count": 287,
   "id": "15a31234",
   "metadata": {},
   "outputs": [],
   "source": [
    "# create the parameter dictionary for clf1\n",
    "params1 = {}\n",
    "params1['preprocessor__vectorizer__ngram_range'] = [(1, 1), (1, 2)]\n",
    "params1['classifier__penalty'] = ['l1', 'l2']\n",
    "params1['classifier__C'] = [0.1, 1, 10]\n",
    "params1['classifier'] = [clf1]"
   ]
  },
  {
   "cell_type": "code",
   "execution_count": 288,
   "id": "0f73491b",
   "metadata": {},
   "outputs": [],
   "source": [
    "# create the parameter dictionary for clf2\n",
    "params2 = {}\n",
    "params2['preprocessor__vectorizer__ngram_range'] = [(1, 1), (1, 2)]\n",
    "params2['classifier__n_estimators'] = [100, 200]\n",
    "params2['classifier__min_samples_leaf'] = [1, 2]\n",
    "params2['classifier'] = [clf2]"
   ]
  },
  {
   "cell_type": "markdown",
   "id": "71c35b7e",
   "metadata": {},
   "source": [
    "### Create a list of parameter dictionaries"
   ]
  },
  {
   "cell_type": "code",
   "execution_count": 289,
   "id": "e8ecbf9f",
   "metadata": {},
   "outputs": [],
   "source": [
    "params = [params1, params2]"
   ]
  },
  {
   "cell_type": "markdown",
   "id": "3b7cd646",
   "metadata": {},
   "source": [
    "### Create the Pipeline"
   ]
  },
  {
   "cell_type": "code",
   "execution_count": 290,
   "id": "0d0e943d",
   "metadata": {},
   "outputs": [],
   "source": [
    "pipe = Pipeline([('preprocessor', col_transformer), ('classifier', clf2)])"
   ]
  },
  {
   "cell_type": "markdown",
   "id": "38f5934d",
   "metadata": {},
   "source": [
    "### Grid Search with given dictionary"
   ]
  },
  {
   "cell_type": "code",
   "execution_count": 291,
   "id": "cdaab67f",
   "metadata": {},
   "outputs": [
    {
     "data": {
      "text/html": [
       "<style>#sk-15165478-276b-4eaf-a4b6-200ff42334f6 {color: black;background-color: white;}#sk-15165478-276b-4eaf-a4b6-200ff42334f6 pre{padding: 0;}#sk-15165478-276b-4eaf-a4b6-200ff42334f6 div.sk-toggleable {background-color: white;}#sk-15165478-276b-4eaf-a4b6-200ff42334f6 label.sk-toggleable__label {cursor: pointer;display: block;width: 100%;margin-bottom: 0;padding: 0.3em;box-sizing: border-box;text-align: center;}#sk-15165478-276b-4eaf-a4b6-200ff42334f6 div.sk-toggleable__content {max-height: 0;max-width: 0;overflow: hidden;text-align: left;background-color: #f0f8ff;}#sk-15165478-276b-4eaf-a4b6-200ff42334f6 div.sk-toggleable__content pre {margin: 0.2em;color: black;border-radius: 0.25em;background-color: #f0f8ff;}#sk-15165478-276b-4eaf-a4b6-200ff42334f6 input.sk-toggleable__control:checked~div.sk-toggleable__content {max-height: 200px;max-width: 100%;overflow: auto;}#sk-15165478-276b-4eaf-a4b6-200ff42334f6 div.sk-estimator input.sk-toggleable__control:checked~label.sk-toggleable__label {background-color: #d4ebff;}#sk-15165478-276b-4eaf-a4b6-200ff42334f6 div.sk-label input.sk-toggleable__control:checked~label.sk-toggleable__label {background-color: #d4ebff;}#sk-15165478-276b-4eaf-a4b6-200ff42334f6 input.sk-hidden--visually {border: 0;clip: rect(1px 1px 1px 1px);clip: rect(1px, 1px, 1px, 1px);height: 1px;margin: -1px;overflow: hidden;padding: 0;position: absolute;width: 1px;}#sk-15165478-276b-4eaf-a4b6-200ff42334f6 div.sk-estimator {font-family: monospace;background-color: #f0f8ff;border: 1px dotted black;border-radius: 0.25em;box-sizing: border-box;margin-bottom: 0.5em;}#sk-15165478-276b-4eaf-a4b6-200ff42334f6 div.sk-estimator:hover {background-color: #d4ebff;}#sk-15165478-276b-4eaf-a4b6-200ff42334f6 div.sk-parallel-item::after {content: \"\";width: 100%;border-bottom: 1px solid gray;flex-grow: 1;}#sk-15165478-276b-4eaf-a4b6-200ff42334f6 div.sk-label:hover label.sk-toggleable__label {background-color: #d4ebff;}#sk-15165478-276b-4eaf-a4b6-200ff42334f6 div.sk-serial::before {content: \"\";position: absolute;border-left: 1px solid gray;box-sizing: border-box;top: 2em;bottom: 0;left: 50%;}#sk-15165478-276b-4eaf-a4b6-200ff42334f6 div.sk-serial {display: flex;flex-direction: column;align-items: center;background-color: white;padding-right: 0.2em;padding-left: 0.2em;}#sk-15165478-276b-4eaf-a4b6-200ff42334f6 div.sk-item {z-index: 1;}#sk-15165478-276b-4eaf-a4b6-200ff42334f6 div.sk-parallel {display: flex;align-items: stretch;justify-content: center;background-color: white;}#sk-15165478-276b-4eaf-a4b6-200ff42334f6 div.sk-parallel::before {content: \"\";position: absolute;border-left: 1px solid gray;box-sizing: border-box;top: 2em;bottom: 0;left: 50%;}#sk-15165478-276b-4eaf-a4b6-200ff42334f6 div.sk-parallel-item {display: flex;flex-direction: column;position: relative;background-color: white;}#sk-15165478-276b-4eaf-a4b6-200ff42334f6 div.sk-parallel-item:first-child::after {align-self: flex-end;width: 50%;}#sk-15165478-276b-4eaf-a4b6-200ff42334f6 div.sk-parallel-item:last-child::after {align-self: flex-start;width: 50%;}#sk-15165478-276b-4eaf-a4b6-200ff42334f6 div.sk-parallel-item:only-child::after {width: 0;}#sk-15165478-276b-4eaf-a4b6-200ff42334f6 div.sk-dashed-wrapped {border: 1px dashed gray;margin: 0 0.4em 0.5em 0.4em;box-sizing: border-box;padding-bottom: 0.4em;background-color: white;position: relative;}#sk-15165478-276b-4eaf-a4b6-200ff42334f6 div.sk-label label {font-family: monospace;font-weight: bold;background-color: white;display: inline-block;line-height: 1.2em;}#sk-15165478-276b-4eaf-a4b6-200ff42334f6 div.sk-label-container {position: relative;z-index: 2;text-align: center;}#sk-15165478-276b-4eaf-a4b6-200ff42334f6 div.sk-container {display: inline-block;position: relative;}</style><div id=\"sk-15165478-276b-4eaf-a4b6-200ff42334f6\" class\"sk-top-container\"><div class=\"sk-container\"><div class=\"sk-item sk-dashed-wrapped\"><div class=\"sk-label-container\"><div class=\"sk-label sk-toggleable\"><input class=\"sk-toggleable__control sk-hidden--visually\" id=\"4dde23db-1876-4382-ac05-b3867db78bcf\" type=\"checkbox\" ><label class=\"sk-toggleable__label\" for=\"4dde23db-1876-4382-ac05-b3867db78bcf\">GridSearchCV</label><div class=\"sk-toggleable__content\"><pre>GridSearchCV(cv=None, error_score=nan,\n",
       "             estimator=Pipeline(memory=None,\n",
       "                                steps=[('preprocessor',\n",
       "                                        ColumnTransformer(n_jobs=None,\n",
       "                                                          remainder='drop',\n",
       "                                                          sparse_threshold=0.3,\n",
       "                                                          transformer_weights=None,\n",
       "                                                          transformers=[('ohe',\n",
       "                                                                         OneHotEncoder(categories='auto',\n",
       "                                                                                       drop=None,\n",
       "                                                                                       dtype=<class 'numpy.float64'>,\n",
       "                                                                                       handle_unknown='error',\n",
       "                                                                                       sparse=True),\n",
       "                                                                         ['Sex']),\n",
       "                                                                        ('vectorizer',\n",
       "                                                                         CountVectorizer...\n",
       "                                                                min_samples_split=2,\n",
       "                                                                min_weight_fraction_leaf=0.0,\n",
       "                                                                n_estimators=100,\n",
       "                                                                n_jobs=None,\n",
       "                                                                oob_score=False,\n",
       "                                                                random_state=1,\n",
       "                                                                verbose=0,\n",
       "                                                                warm_start=False)],\n",
       "                          'classifier__min_samples_leaf': [1, 2],\n",
       "                          'classifier__n_estimators': [100, 200],\n",
       "                          'preprocessor__vectorizer__ngram_range': [(1, 1),\n",
       "                                                                    (1, 2)]}],\n",
       "             pre_dispatch='2*n_jobs', refit=True, return_train_score=False,\n",
       "             scoring=None, verbose=0)</pre></div></div></div><div class=\"sk-parallel\"><div class=\"sk-parallel-item\"><div class=\"sk-item\"><div class=\"sk-serial\"><div class=\"sk-item\"><div class=\"sk-serial\"><div class=\"sk-item sk-dashed-wrapped\"><div class=\"sk-label-container\"><div class=\"sk-label sk-toggleable\"><input class=\"sk-toggleable__control sk-hidden--visually\" id=\"ce33be9c-9340-47dd-9889-bc7e8eb0775a\" type=\"checkbox\" ><label class=\"sk-toggleable__label\" for=\"ce33be9c-9340-47dd-9889-bc7e8eb0775a\">preprocessor: ColumnTransformer</label><div class=\"sk-toggleable__content\"><pre>ColumnTransformer(transformers=[('ohe', OneHotEncoder(), ['Sex']),\n",
       "                                ('vectorizer', CountVectorizer(), 'Name'),\n",
       "                                ('imputer', SimpleImputer(), ['Age'])])</pre></div></div></div><div class=\"sk-parallel\"><div class=\"sk-parallel-item\"><div class=\"sk-item\"><div class=\"sk-label-container\"><div class=\"sk-label sk-toggleable\"><input class=\"sk-toggleable__control sk-hidden--visually\" id=\"858b4900-4050-4b80-a4b3-c63d13172a24\" type=\"checkbox\" ><label class=\"sk-toggleable__label\" for=\"858b4900-4050-4b80-a4b3-c63d13172a24\">ohe</label><div class=\"sk-toggleable__content\"><pre>['Sex']</pre></div></div></div><div class=\"sk-serial\"><div class=\"sk-item\"><div class=\"sk-estimator sk-toggleable\"><input class=\"sk-toggleable__control sk-hidden--visually\" id=\"2e874484-5023-407c-8931-d8dfb681721b\" type=\"checkbox\" ><label class=\"sk-toggleable__label\" for=\"2e874484-5023-407c-8931-d8dfb681721b\">OneHotEncoder</label><div class=\"sk-toggleable__content\"><pre>OneHotEncoder()</pre></div></div></div></div></div></div><div class=\"sk-parallel-item\"><div class=\"sk-item\"><div class=\"sk-label-container\"><div class=\"sk-label sk-toggleable\"><input class=\"sk-toggleable__control sk-hidden--visually\" id=\"0156a096-e225-4eaa-9483-d6ea7ab3ccc9\" type=\"checkbox\" ><label class=\"sk-toggleable__label\" for=\"0156a096-e225-4eaa-9483-d6ea7ab3ccc9\">vectorizer</label><div class=\"sk-toggleable__content\"><pre>Name</pre></div></div></div><div class=\"sk-serial\"><div class=\"sk-item\"><div class=\"sk-estimator sk-toggleable\"><input class=\"sk-toggleable__control sk-hidden--visually\" id=\"f9809d33-68aa-4d60-b624-ed165242510c\" type=\"checkbox\" ><label class=\"sk-toggleable__label\" for=\"f9809d33-68aa-4d60-b624-ed165242510c\">CountVectorizer</label><div class=\"sk-toggleable__content\"><pre>CountVectorizer()</pre></div></div></div></div></div></div><div class=\"sk-parallel-item\"><div class=\"sk-item\"><div class=\"sk-label-container\"><div class=\"sk-label sk-toggleable\"><input class=\"sk-toggleable__control sk-hidden--visually\" id=\"6275c32d-2963-4e6d-95d4-817be663a2f2\" type=\"checkbox\" ><label class=\"sk-toggleable__label\" for=\"6275c32d-2963-4e6d-95d4-817be663a2f2\">imputer</label><div class=\"sk-toggleable__content\"><pre>['Age']</pre></div></div></div><div class=\"sk-serial\"><div class=\"sk-item\"><div class=\"sk-estimator sk-toggleable\"><input class=\"sk-toggleable__control sk-hidden--visually\" id=\"33fc72bf-4e94-431f-8db0-467aa2f84f86\" type=\"checkbox\" ><label class=\"sk-toggleable__label\" for=\"33fc72bf-4e94-431f-8db0-467aa2f84f86\">SimpleImputer</label><div class=\"sk-toggleable__content\"><pre>SimpleImputer()</pre></div></div></div></div></div></div></div></div><div class=\"sk-item\"><div class=\"sk-estimator sk-toggleable\"><input class=\"sk-toggleable__control sk-hidden--visually\" id=\"1273bfee-7aa6-4472-ae78-07f10146d97b\" type=\"checkbox\" ><label class=\"sk-toggleable__label\" for=\"1273bfee-7aa6-4472-ae78-07f10146d97b\">RandomForestClassifier</label><div class=\"sk-toggleable__content\"><pre>RandomForestClassifier(random_state=1)</pre></div></div></div></div></div></div></div></div></div></div></div></div>"
      ],
      "text/plain": [
       "GridSearchCV(cv=None, error_score=nan,\n",
       "             estimator=Pipeline(memory=None,\n",
       "                                steps=[('preprocessor',\n",
       "                                        ColumnTransformer(n_jobs=None,\n",
       "                                                          remainder='drop',\n",
       "                                                          sparse_threshold=0.3,\n",
       "                                                          transformer_weights=None,\n",
       "                                                          transformers=[('ohe',\n",
       "                                                                         OneHotEncoder(categories='auto',\n",
       "                                                                                       drop=None,\n",
       "                                                                                       dtype=<class 'numpy.float64'>,\n",
       "                                                                                       handle_unknown='error',\n",
       "                                                                                       sparse=True),\n",
       "                                                                         ['Sex']),\n",
       "                                                                        ('vectorizer',\n",
       "                                                                         CountVectorizer...\n",
       "                                                                min_samples_split=2,\n",
       "                                                                min_weight_fraction_leaf=0.0,\n",
       "                                                                n_estimators=100,\n",
       "                                                                n_jobs=None,\n",
       "                                                                oob_score=False,\n",
       "                                                                random_state=1,\n",
       "                                                                verbose=0,\n",
       "                                                                warm_start=False)],\n",
       "                          'classifier__min_samples_leaf': [1, 2],\n",
       "                          'classifier__n_estimators': [100, 200],\n",
       "                          'preprocessor__vectorizer__ngram_range': [(1, 1),\n",
       "                                                                    (1, 2)]}],\n",
       "             pre_dispatch='2*n_jobs', refit=True, return_train_score=False,\n",
       "             scoring=None, verbose=0)"
      ]
     },
     "execution_count": 291,
     "metadata": {},
     "output_type": "execute_result"
    }
   ],
   "source": [
    "grid = GridSearchCV(pipe, params)\n",
    "grid"
   ]
  },
  {
   "cell_type": "code",
   "execution_count": 292,
   "id": "80d62179",
   "metadata": {},
   "outputs": [
    {
     "name": "stdout",
     "output_type": "stream",
     "text": [
      "Wall time: 16.1 s\n"
     ]
    },
    {
     "data": {
      "text/html": [
       "<style>#sk-c271a95e-5c31-4bd8-86fe-127c4d704e34 {color: black;background-color: white;}#sk-c271a95e-5c31-4bd8-86fe-127c4d704e34 pre{padding: 0;}#sk-c271a95e-5c31-4bd8-86fe-127c4d704e34 div.sk-toggleable {background-color: white;}#sk-c271a95e-5c31-4bd8-86fe-127c4d704e34 label.sk-toggleable__label {cursor: pointer;display: block;width: 100%;margin-bottom: 0;padding: 0.3em;box-sizing: border-box;text-align: center;}#sk-c271a95e-5c31-4bd8-86fe-127c4d704e34 div.sk-toggleable__content {max-height: 0;max-width: 0;overflow: hidden;text-align: left;background-color: #f0f8ff;}#sk-c271a95e-5c31-4bd8-86fe-127c4d704e34 div.sk-toggleable__content pre {margin: 0.2em;color: black;border-radius: 0.25em;background-color: #f0f8ff;}#sk-c271a95e-5c31-4bd8-86fe-127c4d704e34 input.sk-toggleable__control:checked~div.sk-toggleable__content {max-height: 200px;max-width: 100%;overflow: auto;}#sk-c271a95e-5c31-4bd8-86fe-127c4d704e34 div.sk-estimator input.sk-toggleable__control:checked~label.sk-toggleable__label {background-color: #d4ebff;}#sk-c271a95e-5c31-4bd8-86fe-127c4d704e34 div.sk-label input.sk-toggleable__control:checked~label.sk-toggleable__label {background-color: #d4ebff;}#sk-c271a95e-5c31-4bd8-86fe-127c4d704e34 input.sk-hidden--visually {border: 0;clip: rect(1px 1px 1px 1px);clip: rect(1px, 1px, 1px, 1px);height: 1px;margin: -1px;overflow: hidden;padding: 0;position: absolute;width: 1px;}#sk-c271a95e-5c31-4bd8-86fe-127c4d704e34 div.sk-estimator {font-family: monospace;background-color: #f0f8ff;border: 1px dotted black;border-radius: 0.25em;box-sizing: border-box;margin-bottom: 0.5em;}#sk-c271a95e-5c31-4bd8-86fe-127c4d704e34 div.sk-estimator:hover {background-color: #d4ebff;}#sk-c271a95e-5c31-4bd8-86fe-127c4d704e34 div.sk-parallel-item::after {content: \"\";width: 100%;border-bottom: 1px solid gray;flex-grow: 1;}#sk-c271a95e-5c31-4bd8-86fe-127c4d704e34 div.sk-label:hover label.sk-toggleable__label {background-color: #d4ebff;}#sk-c271a95e-5c31-4bd8-86fe-127c4d704e34 div.sk-serial::before {content: \"\";position: absolute;border-left: 1px solid gray;box-sizing: border-box;top: 2em;bottom: 0;left: 50%;}#sk-c271a95e-5c31-4bd8-86fe-127c4d704e34 div.sk-serial {display: flex;flex-direction: column;align-items: center;background-color: white;padding-right: 0.2em;padding-left: 0.2em;}#sk-c271a95e-5c31-4bd8-86fe-127c4d704e34 div.sk-item {z-index: 1;}#sk-c271a95e-5c31-4bd8-86fe-127c4d704e34 div.sk-parallel {display: flex;align-items: stretch;justify-content: center;background-color: white;}#sk-c271a95e-5c31-4bd8-86fe-127c4d704e34 div.sk-parallel::before {content: \"\";position: absolute;border-left: 1px solid gray;box-sizing: border-box;top: 2em;bottom: 0;left: 50%;}#sk-c271a95e-5c31-4bd8-86fe-127c4d704e34 div.sk-parallel-item {display: flex;flex-direction: column;position: relative;background-color: white;}#sk-c271a95e-5c31-4bd8-86fe-127c4d704e34 div.sk-parallel-item:first-child::after {align-self: flex-end;width: 50%;}#sk-c271a95e-5c31-4bd8-86fe-127c4d704e34 div.sk-parallel-item:last-child::after {align-self: flex-start;width: 50%;}#sk-c271a95e-5c31-4bd8-86fe-127c4d704e34 div.sk-parallel-item:only-child::after {width: 0;}#sk-c271a95e-5c31-4bd8-86fe-127c4d704e34 div.sk-dashed-wrapped {border: 1px dashed gray;margin: 0 0.4em 0.5em 0.4em;box-sizing: border-box;padding-bottom: 0.4em;background-color: white;position: relative;}#sk-c271a95e-5c31-4bd8-86fe-127c4d704e34 div.sk-label label {font-family: monospace;font-weight: bold;background-color: white;display: inline-block;line-height: 1.2em;}#sk-c271a95e-5c31-4bd8-86fe-127c4d704e34 div.sk-label-container {position: relative;z-index: 2;text-align: center;}#sk-c271a95e-5c31-4bd8-86fe-127c4d704e34 div.sk-container {display: inline-block;position: relative;}</style><div id=\"sk-c271a95e-5c31-4bd8-86fe-127c4d704e34\" class\"sk-top-container\"><div class=\"sk-container\"><div class=\"sk-item sk-dashed-wrapped\"><div class=\"sk-label-container\"><div class=\"sk-label sk-toggleable\"><input class=\"sk-toggleable__control sk-hidden--visually\" id=\"ca5c8c5c-b92a-4640-8e34-836df4b8fa6c\" type=\"checkbox\" ><label class=\"sk-toggleable__label\" for=\"ca5c8c5c-b92a-4640-8e34-836df4b8fa6c\">GridSearchCV</label><div class=\"sk-toggleable__content\"><pre>GridSearchCV(cv=None, error_score=nan,\n",
       "             estimator=Pipeline(memory=None,\n",
       "                                steps=[('preprocessor',\n",
       "                                        ColumnTransformer(n_jobs=None,\n",
       "                                                          remainder='drop',\n",
       "                                                          sparse_threshold=0.3,\n",
       "                                                          transformer_weights=None,\n",
       "                                                          transformers=[('ohe',\n",
       "                                                                         OneHotEncoder(categories='auto',\n",
       "                                                                                       drop=None,\n",
       "                                                                                       dtype=<class 'numpy.float64'>,\n",
       "                                                                                       handle_unknown='error',\n",
       "                                                                                       sparse=True),\n",
       "                                                                         ['Sex']),\n",
       "                                                                        ('vectorizer',\n",
       "                                                                         CountVectorizer...\n",
       "                                                                min_samples_split=2,\n",
       "                                                                min_weight_fraction_leaf=0.0,\n",
       "                                                                n_estimators=100,\n",
       "                                                                n_jobs=None,\n",
       "                                                                oob_score=False,\n",
       "                                                                random_state=1,\n",
       "                                                                verbose=0,\n",
       "                                                                warm_start=False)],\n",
       "                          'classifier__min_samples_leaf': [1, 2],\n",
       "                          'classifier__n_estimators': [100, 200],\n",
       "                          'preprocessor__vectorizer__ngram_range': [(1, 1),\n",
       "                                                                    (1, 2)]}],\n",
       "             pre_dispatch='2*n_jobs', refit=True, return_train_score=False,\n",
       "             scoring=None, verbose=0)</pre></div></div></div><div class=\"sk-parallel\"><div class=\"sk-parallel-item\"><div class=\"sk-item\"><div class=\"sk-serial\"><div class=\"sk-item\"><div class=\"sk-serial\"><div class=\"sk-item sk-dashed-wrapped\"><div class=\"sk-label-container\"><div class=\"sk-label sk-toggleable\"><input class=\"sk-toggleable__control sk-hidden--visually\" id=\"75d5291b-28eb-499e-9912-12f4b909411d\" type=\"checkbox\" ><label class=\"sk-toggleable__label\" for=\"75d5291b-28eb-499e-9912-12f4b909411d\">preprocessor: ColumnTransformer</label><div class=\"sk-toggleable__content\"><pre>ColumnTransformer(transformers=[('ohe', OneHotEncoder(), ['Sex']),\n",
       "                                ('vectorizer', CountVectorizer(), 'Name'),\n",
       "                                ('imputer', SimpleImputer(), ['Age'])])</pre></div></div></div><div class=\"sk-parallel\"><div class=\"sk-parallel-item\"><div class=\"sk-item\"><div class=\"sk-label-container\"><div class=\"sk-label sk-toggleable\"><input class=\"sk-toggleable__control sk-hidden--visually\" id=\"bf716b04-0775-4d42-b52d-920eac79a64e\" type=\"checkbox\" ><label class=\"sk-toggleable__label\" for=\"bf716b04-0775-4d42-b52d-920eac79a64e\">ohe</label><div class=\"sk-toggleable__content\"><pre>['Sex']</pre></div></div></div><div class=\"sk-serial\"><div class=\"sk-item\"><div class=\"sk-estimator sk-toggleable\"><input class=\"sk-toggleable__control sk-hidden--visually\" id=\"7cfdec4c-09b5-4c65-b53d-1e569aa90a76\" type=\"checkbox\" ><label class=\"sk-toggleable__label\" for=\"7cfdec4c-09b5-4c65-b53d-1e569aa90a76\">OneHotEncoder</label><div class=\"sk-toggleable__content\"><pre>OneHotEncoder()</pre></div></div></div></div></div></div><div class=\"sk-parallel-item\"><div class=\"sk-item\"><div class=\"sk-label-container\"><div class=\"sk-label sk-toggleable\"><input class=\"sk-toggleable__control sk-hidden--visually\" id=\"71ce71f4-f1d3-42fc-a24e-02cee5b76e9a\" type=\"checkbox\" ><label class=\"sk-toggleable__label\" for=\"71ce71f4-f1d3-42fc-a24e-02cee5b76e9a\">vectorizer</label><div class=\"sk-toggleable__content\"><pre>Name</pre></div></div></div><div class=\"sk-serial\"><div class=\"sk-item\"><div class=\"sk-estimator sk-toggleable\"><input class=\"sk-toggleable__control sk-hidden--visually\" id=\"ac39b7bf-e57b-4386-b87e-a373ba55703f\" type=\"checkbox\" ><label class=\"sk-toggleable__label\" for=\"ac39b7bf-e57b-4386-b87e-a373ba55703f\">CountVectorizer</label><div class=\"sk-toggleable__content\"><pre>CountVectorizer()</pre></div></div></div></div></div></div><div class=\"sk-parallel-item\"><div class=\"sk-item\"><div class=\"sk-label-container\"><div class=\"sk-label sk-toggleable\"><input class=\"sk-toggleable__control sk-hidden--visually\" id=\"80723e2e-b786-457d-8b2a-f18478896630\" type=\"checkbox\" ><label class=\"sk-toggleable__label\" for=\"80723e2e-b786-457d-8b2a-f18478896630\">imputer</label><div class=\"sk-toggleable__content\"><pre>['Age']</pre></div></div></div><div class=\"sk-serial\"><div class=\"sk-item\"><div class=\"sk-estimator sk-toggleable\"><input class=\"sk-toggleable__control sk-hidden--visually\" id=\"50dd1752-9b70-4a3c-9128-9cf51330754e\" type=\"checkbox\" ><label class=\"sk-toggleable__label\" for=\"50dd1752-9b70-4a3c-9128-9cf51330754e\">SimpleImputer</label><div class=\"sk-toggleable__content\"><pre>SimpleImputer()</pre></div></div></div></div></div></div></div></div><div class=\"sk-item\"><div class=\"sk-estimator sk-toggleable\"><input class=\"sk-toggleable__control sk-hidden--visually\" id=\"46609fa0-3d9c-42bc-87ef-5eda5f5f3359\" type=\"checkbox\" ><label class=\"sk-toggleable__label\" for=\"46609fa0-3d9c-42bc-87ef-5eda5f5f3359\">RandomForestClassifier</label><div class=\"sk-toggleable__content\"><pre>RandomForestClassifier(random_state=1)</pre></div></div></div></div></div></div></div></div></div></div></div></div>"
      ],
      "text/plain": [
       "GridSearchCV(cv=None, error_score=nan,\n",
       "             estimator=Pipeline(memory=None,\n",
       "                                steps=[('preprocessor',\n",
       "                                        ColumnTransformer(n_jobs=None,\n",
       "                                                          remainder='drop',\n",
       "                                                          sparse_threshold=0.3,\n",
       "                                                          transformer_weights=None,\n",
       "                                                          transformers=[('ohe',\n",
       "                                                                         OneHotEncoder(categories='auto',\n",
       "                                                                                       drop=None,\n",
       "                                                                                       dtype=<class 'numpy.float64'>,\n",
       "                                                                                       handle_unknown='error',\n",
       "                                                                                       sparse=True),\n",
       "                                                                         ['Sex']),\n",
       "                                                                        ('vectorizer',\n",
       "                                                                         CountVectorizer...\n",
       "                                                                min_samples_split=2,\n",
       "                                                                min_weight_fraction_leaf=0.0,\n",
       "                                                                n_estimators=100,\n",
       "                                                                n_jobs=None,\n",
       "                                                                oob_score=False,\n",
       "                                                                random_state=1,\n",
       "                                                                verbose=0,\n",
       "                                                                warm_start=False)],\n",
       "                          'classifier__min_samples_leaf': [1, 2],\n",
       "                          'classifier__n_estimators': [100, 200],\n",
       "                          'preprocessor__vectorizer__ngram_range': [(1, 1),\n",
       "                                                                    (1, 2)]}],\n",
       "             pre_dispatch='2*n_jobs', refit=True, return_train_score=False,\n",
       "             scoring=None, verbose=0)"
      ]
     },
     "execution_count": 292,
     "metadata": {},
     "output_type": "execute_result"
    }
   ],
   "source": [
    "%time grid.fit(X, y)"
   ]
  },
  {
   "cell_type": "code",
   "execution_count": 293,
   "id": "540be208",
   "metadata": {},
   "outputs": [
    {
     "data": {
      "text/plain": [
       "{'classifier': LogisticRegression(C=10, class_weight=None, dual=False, fit_intercept=True,\n",
       "                    intercept_scaling=1, l1_ratio=None, max_iter=100,\n",
       "                    multi_class='auto', n_jobs=None, penalty='l1',\n",
       "                    random_state=1, solver='liblinear', tol=0.0001, verbose=0,\n",
       "                    warm_start=False),\n",
       " 'classifier__C': 10,\n",
       " 'classifier__penalty': 'l1',\n",
       " 'preprocessor__vectorizer__ngram_range': (1, 2)}"
      ]
     },
     "execution_count": 293,
     "metadata": {},
     "output_type": "execute_result"
    }
   ],
   "source": [
    "grid.best_params_"
   ]
  },
  {
   "cell_type": "markdown",
   "id": "243c74b5",
   "metadata": {},
   "source": [
    "# Model Evaluation"
   ]
  },
  {
   "cell_type": "markdown",
   "id": "e3a584b3",
   "metadata": {},
   "source": [
    "## Plot a confusion matrix\n",
    "\n",
    "New in scikit-learn 0.22: [Plot a confusion matrix](https://scikit-learn.org/stable/modules/model_evaluation.html#confusion-matrix) in one line of code!\n",
    "\n",
    "Highly customizable, including the [colormap](https://matplotlib.org/stable/gallery/color/colormap_reference.html), display labels, and [value formatting](https://docs.python.org/3/library/string.html#format-specification-mini-language).\n",
    "\n",
    "Note: Beginning in scikit-learn 1.0, the plot_confusion_matrix function has been deprecated in favor of [two new methods](https://scikit-learn.org/stable/modules/generated/sklearn.metrics.ConfusionMatrixDisplay.html) in the ConfusionMatrixDisplay class."
   ]
  },
  {
   "cell_type": "code",
   "execution_count": 294,
   "id": "0069a5fc",
   "metadata": {},
   "outputs": [],
   "source": [
    "file_input_path = \"titanic_train.csv\"\n",
    "if not os.path.exists(file_input_path):\n",
    "    df_train = pd.read_csv(\"http://bit.ly/kaggletrain\")\n",
    "    df_train.to_csv(file_input_path, header=True, index=False, sep=\"\\t\")\n",
    "else:\n",
    "    df_train = pd.read_csv(file_input_path, header=0, sep=\"\\t\")\n",
    "    \n",
    "features = [\"Pclass\", \"Fare\"]\n",
    "X, y = df_train[features], df_train[\"Survived\"]\n",
    "\n",
    "from sklearn.model_selection import train_test_split\n",
    "X_train, X_test, y_train, y_test = train_test_split(X, y, random_state=0)"
   ]
  },
  {
   "cell_type": "code",
   "execution_count": 295,
   "id": "11109900",
   "metadata": {},
   "outputs": [],
   "source": [
    "from sklearn.linear_model import LogisticRegression\n",
    "from sklearn.metrics import plot_confusion_matrix, ConfusionMatrixDisplay, confusion_matrix"
   ]
  },
  {
   "cell_type": "markdown",
   "id": "820e7beb",
   "metadata": {},
   "source": [
    "### Splitting Phase"
   ]
  },
  {
   "cell_type": "code",
   "execution_count": 296,
   "id": "04eee6b0",
   "metadata": {},
   "outputs": [],
   "source": [
    "X_train, X_test, y_train, y_test = train_test_split(X, y, random_state=0)"
   ]
  },
  {
   "cell_type": "markdown",
   "id": "3b68a640",
   "metadata": {},
   "source": [
    "### Training Phase"
   ]
  },
  {
   "cell_type": "code",
   "execution_count": 297,
   "id": "1d6f6730",
   "metadata": {},
   "outputs": [
    {
     "data": {
      "text/html": [
       "<style>#sk-cb990212-c930-4329-b17b-fa09cf80be6f {color: black;background-color: white;}#sk-cb990212-c930-4329-b17b-fa09cf80be6f pre{padding: 0;}#sk-cb990212-c930-4329-b17b-fa09cf80be6f div.sk-toggleable {background-color: white;}#sk-cb990212-c930-4329-b17b-fa09cf80be6f label.sk-toggleable__label {cursor: pointer;display: block;width: 100%;margin-bottom: 0;padding: 0.3em;box-sizing: border-box;text-align: center;}#sk-cb990212-c930-4329-b17b-fa09cf80be6f div.sk-toggleable__content {max-height: 0;max-width: 0;overflow: hidden;text-align: left;background-color: #f0f8ff;}#sk-cb990212-c930-4329-b17b-fa09cf80be6f div.sk-toggleable__content pre {margin: 0.2em;color: black;border-radius: 0.25em;background-color: #f0f8ff;}#sk-cb990212-c930-4329-b17b-fa09cf80be6f input.sk-toggleable__control:checked~div.sk-toggleable__content {max-height: 200px;max-width: 100%;overflow: auto;}#sk-cb990212-c930-4329-b17b-fa09cf80be6f div.sk-estimator input.sk-toggleable__control:checked~label.sk-toggleable__label {background-color: #d4ebff;}#sk-cb990212-c930-4329-b17b-fa09cf80be6f div.sk-label input.sk-toggleable__control:checked~label.sk-toggleable__label {background-color: #d4ebff;}#sk-cb990212-c930-4329-b17b-fa09cf80be6f input.sk-hidden--visually {border: 0;clip: rect(1px 1px 1px 1px);clip: rect(1px, 1px, 1px, 1px);height: 1px;margin: -1px;overflow: hidden;padding: 0;position: absolute;width: 1px;}#sk-cb990212-c930-4329-b17b-fa09cf80be6f div.sk-estimator {font-family: monospace;background-color: #f0f8ff;border: 1px dotted black;border-radius: 0.25em;box-sizing: border-box;margin-bottom: 0.5em;}#sk-cb990212-c930-4329-b17b-fa09cf80be6f div.sk-estimator:hover {background-color: #d4ebff;}#sk-cb990212-c930-4329-b17b-fa09cf80be6f div.sk-parallel-item::after {content: \"\";width: 100%;border-bottom: 1px solid gray;flex-grow: 1;}#sk-cb990212-c930-4329-b17b-fa09cf80be6f div.sk-label:hover label.sk-toggleable__label {background-color: #d4ebff;}#sk-cb990212-c930-4329-b17b-fa09cf80be6f div.sk-serial::before {content: \"\";position: absolute;border-left: 1px solid gray;box-sizing: border-box;top: 2em;bottom: 0;left: 50%;}#sk-cb990212-c930-4329-b17b-fa09cf80be6f div.sk-serial {display: flex;flex-direction: column;align-items: center;background-color: white;padding-right: 0.2em;padding-left: 0.2em;}#sk-cb990212-c930-4329-b17b-fa09cf80be6f div.sk-item {z-index: 1;}#sk-cb990212-c930-4329-b17b-fa09cf80be6f div.sk-parallel {display: flex;align-items: stretch;justify-content: center;background-color: white;}#sk-cb990212-c930-4329-b17b-fa09cf80be6f div.sk-parallel::before {content: \"\";position: absolute;border-left: 1px solid gray;box-sizing: border-box;top: 2em;bottom: 0;left: 50%;}#sk-cb990212-c930-4329-b17b-fa09cf80be6f div.sk-parallel-item {display: flex;flex-direction: column;position: relative;background-color: white;}#sk-cb990212-c930-4329-b17b-fa09cf80be6f div.sk-parallel-item:first-child::after {align-self: flex-end;width: 50%;}#sk-cb990212-c930-4329-b17b-fa09cf80be6f div.sk-parallel-item:last-child::after {align-self: flex-start;width: 50%;}#sk-cb990212-c930-4329-b17b-fa09cf80be6f div.sk-parallel-item:only-child::after {width: 0;}#sk-cb990212-c930-4329-b17b-fa09cf80be6f div.sk-dashed-wrapped {border: 1px dashed gray;margin: 0 0.4em 0.5em 0.4em;box-sizing: border-box;padding-bottom: 0.4em;background-color: white;position: relative;}#sk-cb990212-c930-4329-b17b-fa09cf80be6f div.sk-label label {font-family: monospace;font-weight: bold;background-color: white;display: inline-block;line-height: 1.2em;}#sk-cb990212-c930-4329-b17b-fa09cf80be6f div.sk-label-container {position: relative;z-index: 2;text-align: center;}#sk-cb990212-c930-4329-b17b-fa09cf80be6f div.sk-container {display: inline-block;position: relative;}</style><div id=\"sk-cb990212-c930-4329-b17b-fa09cf80be6f\" class\"sk-top-container\"><div class=\"sk-container\"><div class=\"sk-item\"><div class=\"sk-estimator sk-toggleable\"><input class=\"sk-toggleable__control sk-hidden--visually\" id=\"7c624d74-d693-47fe-9036-14531a20d56a\" type=\"checkbox\" checked><label class=\"sk-toggleable__label\" for=\"7c624d74-d693-47fe-9036-14531a20d56a\">LogisticRegression</label><div class=\"sk-toggleable__content\"><pre>LogisticRegression(C=1.0, class_weight=None, dual=False, fit_intercept=True,\n",
       "                   intercept_scaling=1, l1_ratio=None, max_iter=100,\n",
       "                   multi_class='auto', n_jobs=None, penalty='l2',\n",
       "                   random_state=None, solver='lbfgs', tol=0.0001, verbose=0,\n",
       "                   warm_start=False)</pre></div></div></div></div></div>"
      ],
      "text/plain": [
       "LogisticRegression(C=1.0, class_weight=None, dual=False, fit_intercept=True,\n",
       "                   intercept_scaling=1, l1_ratio=None, max_iter=100,\n",
       "                   multi_class='auto', n_jobs=None, penalty='l2',\n",
       "                   random_state=None, solver='lbfgs', tol=0.0001, verbose=0,\n",
       "                   warm_start=False)"
      ]
     },
     "execution_count": 297,
     "metadata": {},
     "output_type": "execute_result"
    }
   ],
   "source": [
    "clf = LogisticRegression()\n",
    "clf"
   ]
  },
  {
   "cell_type": "code",
   "execution_count": 298,
   "id": "bf3f5b62",
   "metadata": {},
   "outputs": [
    {
     "data": {
      "text/html": [
       "<style>#sk-0ad0713c-3d21-4b97-b6e2-6d067d9e2e6d {color: black;background-color: white;}#sk-0ad0713c-3d21-4b97-b6e2-6d067d9e2e6d pre{padding: 0;}#sk-0ad0713c-3d21-4b97-b6e2-6d067d9e2e6d div.sk-toggleable {background-color: white;}#sk-0ad0713c-3d21-4b97-b6e2-6d067d9e2e6d label.sk-toggleable__label {cursor: pointer;display: block;width: 100%;margin-bottom: 0;padding: 0.3em;box-sizing: border-box;text-align: center;}#sk-0ad0713c-3d21-4b97-b6e2-6d067d9e2e6d div.sk-toggleable__content {max-height: 0;max-width: 0;overflow: hidden;text-align: left;background-color: #f0f8ff;}#sk-0ad0713c-3d21-4b97-b6e2-6d067d9e2e6d div.sk-toggleable__content pre {margin: 0.2em;color: black;border-radius: 0.25em;background-color: #f0f8ff;}#sk-0ad0713c-3d21-4b97-b6e2-6d067d9e2e6d input.sk-toggleable__control:checked~div.sk-toggleable__content {max-height: 200px;max-width: 100%;overflow: auto;}#sk-0ad0713c-3d21-4b97-b6e2-6d067d9e2e6d div.sk-estimator input.sk-toggleable__control:checked~label.sk-toggleable__label {background-color: #d4ebff;}#sk-0ad0713c-3d21-4b97-b6e2-6d067d9e2e6d div.sk-label input.sk-toggleable__control:checked~label.sk-toggleable__label {background-color: #d4ebff;}#sk-0ad0713c-3d21-4b97-b6e2-6d067d9e2e6d input.sk-hidden--visually {border: 0;clip: rect(1px 1px 1px 1px);clip: rect(1px, 1px, 1px, 1px);height: 1px;margin: -1px;overflow: hidden;padding: 0;position: absolute;width: 1px;}#sk-0ad0713c-3d21-4b97-b6e2-6d067d9e2e6d div.sk-estimator {font-family: monospace;background-color: #f0f8ff;border: 1px dotted black;border-radius: 0.25em;box-sizing: border-box;margin-bottom: 0.5em;}#sk-0ad0713c-3d21-4b97-b6e2-6d067d9e2e6d div.sk-estimator:hover {background-color: #d4ebff;}#sk-0ad0713c-3d21-4b97-b6e2-6d067d9e2e6d div.sk-parallel-item::after {content: \"\";width: 100%;border-bottom: 1px solid gray;flex-grow: 1;}#sk-0ad0713c-3d21-4b97-b6e2-6d067d9e2e6d div.sk-label:hover label.sk-toggleable__label {background-color: #d4ebff;}#sk-0ad0713c-3d21-4b97-b6e2-6d067d9e2e6d div.sk-serial::before {content: \"\";position: absolute;border-left: 1px solid gray;box-sizing: border-box;top: 2em;bottom: 0;left: 50%;}#sk-0ad0713c-3d21-4b97-b6e2-6d067d9e2e6d div.sk-serial {display: flex;flex-direction: column;align-items: center;background-color: white;padding-right: 0.2em;padding-left: 0.2em;}#sk-0ad0713c-3d21-4b97-b6e2-6d067d9e2e6d div.sk-item {z-index: 1;}#sk-0ad0713c-3d21-4b97-b6e2-6d067d9e2e6d div.sk-parallel {display: flex;align-items: stretch;justify-content: center;background-color: white;}#sk-0ad0713c-3d21-4b97-b6e2-6d067d9e2e6d div.sk-parallel::before {content: \"\";position: absolute;border-left: 1px solid gray;box-sizing: border-box;top: 2em;bottom: 0;left: 50%;}#sk-0ad0713c-3d21-4b97-b6e2-6d067d9e2e6d div.sk-parallel-item {display: flex;flex-direction: column;position: relative;background-color: white;}#sk-0ad0713c-3d21-4b97-b6e2-6d067d9e2e6d div.sk-parallel-item:first-child::after {align-self: flex-end;width: 50%;}#sk-0ad0713c-3d21-4b97-b6e2-6d067d9e2e6d div.sk-parallel-item:last-child::after {align-self: flex-start;width: 50%;}#sk-0ad0713c-3d21-4b97-b6e2-6d067d9e2e6d div.sk-parallel-item:only-child::after {width: 0;}#sk-0ad0713c-3d21-4b97-b6e2-6d067d9e2e6d div.sk-dashed-wrapped {border: 1px dashed gray;margin: 0 0.4em 0.5em 0.4em;box-sizing: border-box;padding-bottom: 0.4em;background-color: white;position: relative;}#sk-0ad0713c-3d21-4b97-b6e2-6d067d9e2e6d div.sk-label label {font-family: monospace;font-weight: bold;background-color: white;display: inline-block;line-height: 1.2em;}#sk-0ad0713c-3d21-4b97-b6e2-6d067d9e2e6d div.sk-label-container {position: relative;z-index: 2;text-align: center;}#sk-0ad0713c-3d21-4b97-b6e2-6d067d9e2e6d div.sk-container {display: inline-block;position: relative;}</style><div id=\"sk-0ad0713c-3d21-4b97-b6e2-6d067d9e2e6d\" class\"sk-top-container\"><div class=\"sk-container\"><div class=\"sk-item\"><div class=\"sk-estimator sk-toggleable\"><input class=\"sk-toggleable__control sk-hidden--visually\" id=\"6f920e5a-8b34-41af-9995-8e1b02d6ccdb\" type=\"checkbox\" checked><label class=\"sk-toggleable__label\" for=\"6f920e5a-8b34-41af-9995-8e1b02d6ccdb\">LogisticRegression</label><div class=\"sk-toggleable__content\"><pre>LogisticRegression(C=1.0, class_weight=None, dual=False, fit_intercept=True,\n",
       "                   intercept_scaling=1, l1_ratio=None, max_iter=100,\n",
       "                   multi_class='auto', n_jobs=None, penalty='l2',\n",
       "                   random_state=None, solver='lbfgs', tol=0.0001, verbose=0,\n",
       "                   warm_start=False)</pre></div></div></div></div></div>"
      ],
      "text/plain": [
       "LogisticRegression(C=1.0, class_weight=None, dual=False, fit_intercept=True,\n",
       "                   intercept_scaling=1, l1_ratio=None, max_iter=100,\n",
       "                   multi_class='auto', n_jobs=None, penalty='l2',\n",
       "                   random_state=None, solver='lbfgs', tol=0.0001, verbose=0,\n",
       "                   warm_start=False)"
      ]
     },
     "execution_count": 298,
     "metadata": {},
     "output_type": "execute_result"
    }
   ],
   "source": [
    "clf.fit(X_train, y_train)"
   ]
  },
  {
   "cell_type": "markdown",
   "id": "c21671d6",
   "metadata": {},
   "source": [
    "### Plot the confusion matrix\n",
    "\n",
    "It makes the predictions based on the trained model for X_test and then compares them to y_test"
   ]
  },
  {
   "cell_type": "markdown",
   "id": "ccb8604a",
   "metadata": {},
   "source": [
    "#### Using plot_confusion_matrix --> be removed in 1.2"
   ]
  },
  {
   "cell_type": "code",
   "execution_count": 299,
   "id": "14d8160d",
   "metadata": {
    "scrolled": true
   },
   "outputs": [
    {
     "name": "stderr",
     "output_type": "stream",
     "text": [
      "C:\\Users\\TienLE\\anaconda3\\envs\\py39\\lib\\site-packages\\sklearn\\utils\\deprecation.py:87: FutureWarning: Function plot_confusion_matrix is deprecated; Function `plot_confusion_matrix` is deprecated in 1.0 and will be removed in 1.2. Use one of the class methods: ConfusionMatrixDisplay.from_predictions or ConfusionMatrixDisplay.from_estimator.\n",
      "  warnings.warn(msg, category=FutureWarning)\n"
     ]
    },
    {
     "data": {
      "image/png": "[encoded data removed]",
      "text/plain": [
       "<Figure size 432x288 with 2 Axes>"
      ]
     },
     "metadata": {
      "needs_background": "light"
     },
     "output_type": "display_data"
    }
   ],
   "source": [
    "disp = plot_confusion_matrix(clf, X_test, y_test, cmap=\"viridis\", values_format=\"d\")  # Blues, default-sklearn=viridis\n",
    "# https://scikit-learn.org/stable/modules/generated/sklearn.metrics.ConfusionMatrixDisplay.html#sklearn.metrics.ConfusionMatrixDisplay.from_estimator"
   ]
  },
  {
   "cell_type": "code",
   "execution_count": 300,
   "id": "1096f622",
   "metadata": {},
   "outputs": [
    {
     "data": {
      "text/plain": [
       "array([[122,  17],\n",
       "       [ 48,  36]], dtype=int64)"
      ]
     },
     "execution_count": 300,
     "metadata": {},
     "output_type": "execute_result"
    }
   ],
   "source": [
    "disp.confusion_matrix"
   ]
  },
  {
   "cell_type": "markdown",
   "id": "582e90fe",
   "metadata": {},
   "source": [
    "#### Using ConfusionMatrixDisplay\n",
    "\n",
    "Ref: [ConfusionMatrixDisplay](https://scikit-learn.org/stable/modules/generated/sklearn.metrics.ConfusionMatrixDisplay.html)"
   ]
  },
  {
   "cell_type": "code",
   "execution_count": 301,
   "id": "5132b3e7",
   "metadata": {},
   "outputs": [
    {
     "data": {
      "text/plain": [
       "array([[122,  17],\n",
       "       [ 48,  36]], dtype=int64)"
      ]
     },
     "execution_count": 301,
     "metadata": {},
     "output_type": "execute_result"
    }
   ],
   "source": [
    "y_pred = clf.predict(X_test)\n",
    "cm = confusion_matrix(y_true=y_test, y_pred=y_pred, labels=clf.classes_)\n",
    "cm"
   ]
  },
  {
   "cell_type": "code",
   "execution_count": 302,
   "id": "dfad7a2a",
   "metadata": {},
   "outputs": [
    {
     "data": {
      "image/png": "[encoded data removed]",
      "text/plain": [
       "<Figure size 432x288 with 2 Axes>"
      ]
     },
     "metadata": {
      "needs_background": "light"
     },
     "output_type": "display_data"
    }
   ],
   "source": [
    "disp = ConfusionMatrixDisplay(confusion_matrix=cm, \n",
    "                              display_labels=clf.classes_)\n",
    "disp.plot()\n",
    "plt.show()"
   ]
  },
  {
   "cell_type": "markdown",
   "id": "a25a14e1",
   "metadata": {},
   "source": [
    "## Compare multiple ROC (Receiver Operating Characteristic) curves in a single plot\n",
    "\n",
    "New in scikit-learn 0.22: Easily [compare multiple ROC curves](https://scikit-learn.org/stable/modules/generated/sklearn.metrics.plot_roc_curve.html) in a single plot!\n",
    "\n",
    "Automatically displays the [AUC](https://www.dataschool.io/roc-curves-and-auc-explained/) for each model as well.\n",
    "\n",
    "Note: Beginning in scikit-learn 1.0, the plot_roc_curve function has been deprecated in favor of [two new methods](https://scikit-learn.org/stable/modules/generated/sklearn.metrics.RocCurveDisplay.html) in the RocCurveDisplay class."
   ]
  },
  {
   "cell_type": "code",
   "execution_count": 303,
   "id": "e1cd43a0",
   "metadata": {},
   "outputs": [],
   "source": [
    "file_input_path = \"titanic_train.csv\"\n",
    "if not os.path.exists(file_input_path):\n",
    "    df_train = pd.read_csv(\"http://bit.ly/kaggletrain\")\n",
    "    df_train.to_csv(file_input_path, header=True, index=False, sep=\"\\t\")\n",
    "else:\n",
    "    df_train = pd.read_csv(file_input_path, header=0, sep=\"\\t\")\n",
    "    \n",
    "features = [\"Pclass\", \"Fare\", \"SibSp\"]\n",
    "X, y = df_train[features], df_train[\"Survived\"]\n",
    "\n",
    "from sklearn.model_selection import train_test_split\n",
    "X_train, X_test, y_train, y_test = train_test_split(X, y, random_state=0)"
   ]
  },
  {
   "cell_type": "code",
   "execution_count": 304,
   "id": "4157e692",
   "metadata": {},
   "outputs": [
    {
     "data": {
      "text/html": [
       "<div>\n",
       "<style scoped>\n",
       "    .dataframe tbody tr th:only-of-type {\n",
       "        vertical-align: middle;\n",
       "    }\n",
       "\n",
       "    .dataframe tbody tr th {\n",
       "        vertical-align: top;\n",
       "    }\n",
       "\n",
       "    .dataframe thead th {\n",
       "        text-align: right;\n",
       "    }\n",
       "</style>\n",
       "<table border=\"1\" class=\"dataframe\">\n",
       "  <thead>\n",
       "    <tr style=\"text-align: right;\">\n",
       "      <th></th>\n",
       "      <th>Pclass</th>\n",
       "      <th>Fare</th>\n",
       "      <th>SibSp</th>\n",
       "    </tr>\n",
       "  </thead>\n",
       "  <tbody>\n",
       "    <tr>\n",
       "      <th>105</th>\n",
       "      <td>3</td>\n",
       "      <td>7.8958</td>\n",
       "      <td>0</td>\n",
       "    </tr>\n",
       "    <tr>\n",
       "      <th>68</th>\n",
       "      <td>3</td>\n",
       "      <td>7.9250</td>\n",
       "      <td>4</td>\n",
       "    </tr>\n",
       "  </tbody>\n",
       "</table>\n",
       "</div>"
      ],
      "text/plain": [
       "     Pclass    Fare  SibSp\n",
       "105       3  7.8958      0\n",
       "68        3  7.9250      4"
      ]
     },
     "execution_count": 304,
     "metadata": {},
     "output_type": "execute_result"
    }
   ],
   "source": [
    "X_train.head(2)"
   ]
  },
  {
   "cell_type": "code",
   "execution_count": 305,
   "id": "b325f6ce",
   "metadata": {},
   "outputs": [
    {
     "data": {
      "text/plain": [
       "105    0\n",
       "68     1\n",
       "Name: Survived, dtype: int64"
      ]
     },
     "execution_count": 305,
     "metadata": {},
     "output_type": "execute_result"
    }
   ],
   "source": [
    "y_train.head(2)"
   ]
  },
  {
   "cell_type": "code",
   "execution_count": 306,
   "id": "a98b1a7c",
   "metadata": {},
   "outputs": [],
   "source": [
    "from sklearn.linear_model import LogisticRegression\n",
    "from sklearn.tree import DecisionTreeClassifier\n",
    "from sklearn.ensemble import RandomForestClassifier"
   ]
  },
  {
   "cell_type": "code",
   "execution_count": 307,
   "id": "0135efa1",
   "metadata": {},
   "outputs": [],
   "source": [
    "lr = LogisticRegression()\n",
    "dt = DecisionTreeClassifier()\n",
    "rf = RandomForestClassifier()"
   ]
  },
  {
   "cell_type": "code",
   "execution_count": 308,
   "id": "57a41823",
   "metadata": {},
   "outputs": [
    {
     "data": {
      "text/html": [
       "<style>#sk-5bd650e9-4249-4c52-9572-6f6ccb4fb2fa {color: black;background-color: white;}#sk-5bd650e9-4249-4c52-9572-6f6ccb4fb2fa pre{padding: 0;}#sk-5bd650e9-4249-4c52-9572-6f6ccb4fb2fa div.sk-toggleable {background-color: white;}#sk-5bd650e9-4249-4c52-9572-6f6ccb4fb2fa label.sk-toggleable__label {cursor: pointer;display: block;width: 100%;margin-bottom: 0;padding: 0.3em;box-sizing: border-box;text-align: center;}#sk-5bd650e9-4249-4c52-9572-6f6ccb4fb2fa div.sk-toggleable__content {max-height: 0;max-width: 0;overflow: hidden;text-align: left;background-color: #f0f8ff;}#sk-5bd650e9-4249-4c52-9572-6f6ccb4fb2fa div.sk-toggleable__content pre {margin: 0.2em;color: black;border-radius: 0.25em;background-color: #f0f8ff;}#sk-5bd650e9-4249-4c52-9572-6f6ccb4fb2fa input.sk-toggleable__control:checked~div.sk-toggleable__content {max-height: 200px;max-width: 100%;overflow: auto;}#sk-5bd650e9-4249-4c52-9572-6f6ccb4fb2fa div.sk-estimator input.sk-toggleable__control:checked~label.sk-toggleable__label {background-color: #d4ebff;}#sk-5bd650e9-4249-4c52-9572-6f6ccb4fb2fa div.sk-label input.sk-toggleable__control:checked~label.sk-toggleable__label {background-color: #d4ebff;}#sk-5bd650e9-4249-4c52-9572-6f6ccb4fb2fa input.sk-hidden--visually {border: 0;clip: rect(1px 1px 1px 1px);clip: rect(1px, 1px, 1px, 1px);height: 1px;margin: -1px;overflow: hidden;padding: 0;position: absolute;width: 1px;}#sk-5bd650e9-4249-4c52-9572-6f6ccb4fb2fa div.sk-estimator {font-family: monospace;background-color: #f0f8ff;border: 1px dotted black;border-radius: 0.25em;box-sizing: border-box;margin-bottom: 0.5em;}#sk-5bd650e9-4249-4c52-9572-6f6ccb4fb2fa div.sk-estimator:hover {background-color: #d4ebff;}#sk-5bd650e9-4249-4c52-9572-6f6ccb4fb2fa div.sk-parallel-item::after {content: \"\";width: 100%;border-bottom: 1px solid gray;flex-grow: 1;}#sk-5bd650e9-4249-4c52-9572-6f6ccb4fb2fa div.sk-label:hover label.sk-toggleable__label {background-color: #d4ebff;}#sk-5bd650e9-4249-4c52-9572-6f6ccb4fb2fa div.sk-serial::before {content: \"\";position: absolute;border-left: 1px solid gray;box-sizing: border-box;top: 2em;bottom: 0;left: 50%;}#sk-5bd650e9-4249-4c52-9572-6f6ccb4fb2fa div.sk-serial {display: flex;flex-direction: column;align-items: center;background-color: white;padding-right: 0.2em;padding-left: 0.2em;}#sk-5bd650e9-4249-4c52-9572-6f6ccb4fb2fa div.sk-item {z-index: 1;}#sk-5bd650e9-4249-4c52-9572-6f6ccb4fb2fa div.sk-parallel {display: flex;align-items: stretch;justify-content: center;background-color: white;}#sk-5bd650e9-4249-4c52-9572-6f6ccb4fb2fa div.sk-parallel::before {content: \"\";position: absolute;border-left: 1px solid gray;box-sizing: border-box;top: 2em;bottom: 0;left: 50%;}#sk-5bd650e9-4249-4c52-9572-6f6ccb4fb2fa div.sk-parallel-item {display: flex;flex-direction: column;position: relative;background-color: white;}#sk-5bd650e9-4249-4c52-9572-6f6ccb4fb2fa div.sk-parallel-item:first-child::after {align-self: flex-end;width: 50%;}#sk-5bd650e9-4249-4c52-9572-6f6ccb4fb2fa div.sk-parallel-item:last-child::after {align-self: flex-start;width: 50%;}#sk-5bd650e9-4249-4c52-9572-6f6ccb4fb2fa div.sk-parallel-item:only-child::after {width: 0;}#sk-5bd650e9-4249-4c52-9572-6f6ccb4fb2fa div.sk-dashed-wrapped {border: 1px dashed gray;margin: 0 0.4em 0.5em 0.4em;box-sizing: border-box;padding-bottom: 0.4em;background-color: white;position: relative;}#sk-5bd650e9-4249-4c52-9572-6f6ccb4fb2fa div.sk-label label {font-family: monospace;font-weight: bold;background-color: white;display: inline-block;line-height: 1.2em;}#sk-5bd650e9-4249-4c52-9572-6f6ccb4fb2fa div.sk-label-container {position: relative;z-index: 2;text-align: center;}#sk-5bd650e9-4249-4c52-9572-6f6ccb4fb2fa div.sk-container {display: inline-block;position: relative;}</style><div id=\"sk-5bd650e9-4249-4c52-9572-6f6ccb4fb2fa\" class\"sk-top-container\"><div class=\"sk-container\"><div class=\"sk-item\"><div class=\"sk-estimator sk-toggleable\"><input class=\"sk-toggleable__control sk-hidden--visually\" id=\"a6887ace-343c-4192-9ba8-aab7fbf227f6\" type=\"checkbox\" checked><label class=\"sk-toggleable__label\" for=\"a6887ace-343c-4192-9ba8-aab7fbf227f6\">LogisticRegression</label><div class=\"sk-toggleable__content\"><pre>LogisticRegression(C=1.0, class_weight=None, dual=False, fit_intercept=True,\n",
       "                   intercept_scaling=1, l1_ratio=None, max_iter=100,\n",
       "                   multi_class='auto', n_jobs=None, penalty='l2',\n",
       "                   random_state=None, solver='lbfgs', tol=0.0001, verbose=0,\n",
       "                   warm_start=False)</pre></div></div></div></div></div>"
      ],
      "text/plain": [
       "LogisticRegression(C=1.0, class_weight=None, dual=False, fit_intercept=True,\n",
       "                   intercept_scaling=1, l1_ratio=None, max_iter=100,\n",
       "                   multi_class='auto', n_jobs=None, penalty='l2',\n",
       "                   random_state=None, solver='lbfgs', tol=0.0001, verbose=0,\n",
       "                   warm_start=False)"
      ]
     },
     "execution_count": 308,
     "metadata": {},
     "output_type": "execute_result"
    }
   ],
   "source": [
    "lr.fit(X_train, y_train)"
   ]
  },
  {
   "cell_type": "code",
   "execution_count": 309,
   "id": "2490b5e0",
   "metadata": {},
   "outputs": [
    {
     "data": {
      "text/html": [
       "<style>#sk-19745d7c-739d-4786-96e4-f9b30bc07f47 {color: black;background-color: white;}#sk-19745d7c-739d-4786-96e4-f9b30bc07f47 pre{padding: 0;}#sk-19745d7c-739d-4786-96e4-f9b30bc07f47 div.sk-toggleable {background-color: white;}#sk-19745d7c-739d-4786-96e4-f9b30bc07f47 label.sk-toggleable__label {cursor: pointer;display: block;width: 100%;margin-bottom: 0;padding: 0.3em;box-sizing: border-box;text-align: center;}#sk-19745d7c-739d-4786-96e4-f9b30bc07f47 div.sk-toggleable__content {max-height: 0;max-width: 0;overflow: hidden;text-align: left;background-color: #f0f8ff;}#sk-19745d7c-739d-4786-96e4-f9b30bc07f47 div.sk-toggleable__content pre {margin: 0.2em;color: black;border-radius: 0.25em;background-color: #f0f8ff;}#sk-19745d7c-739d-4786-96e4-f9b30bc07f47 input.sk-toggleable__control:checked~div.sk-toggleable__content {max-height: 200px;max-width: 100%;overflow: auto;}#sk-19745d7c-739d-4786-96e4-f9b30bc07f47 div.sk-estimator input.sk-toggleable__control:checked~label.sk-toggleable__label {background-color: #d4ebff;}#sk-19745d7c-739d-4786-96e4-f9b30bc07f47 div.sk-label input.sk-toggleable__control:checked~label.sk-toggleable__label {background-color: #d4ebff;}#sk-19745d7c-739d-4786-96e4-f9b30bc07f47 input.sk-hidden--visually {border: 0;clip: rect(1px 1px 1px 1px);clip: rect(1px, 1px, 1px, 1px);height: 1px;margin: -1px;overflow: hidden;padding: 0;position: absolute;width: 1px;}#sk-19745d7c-739d-4786-96e4-f9b30bc07f47 div.sk-estimator {font-family: monospace;background-color: #f0f8ff;border: 1px dotted black;border-radius: 0.25em;box-sizing: border-box;margin-bottom: 0.5em;}#sk-19745d7c-739d-4786-96e4-f9b30bc07f47 div.sk-estimator:hover {background-color: #d4ebff;}#sk-19745d7c-739d-4786-96e4-f9b30bc07f47 div.sk-parallel-item::after {content: \"\";width: 100%;border-bottom: 1px solid gray;flex-grow: 1;}#sk-19745d7c-739d-4786-96e4-f9b30bc07f47 div.sk-label:hover label.sk-toggleable__label {background-color: #d4ebff;}#sk-19745d7c-739d-4786-96e4-f9b30bc07f47 div.sk-serial::before {content: \"\";position: absolute;border-left: 1px solid gray;box-sizing: border-box;top: 2em;bottom: 0;left: 50%;}#sk-19745d7c-739d-4786-96e4-f9b30bc07f47 div.sk-serial {display: flex;flex-direction: column;align-items: center;background-color: white;padding-right: 0.2em;padding-left: 0.2em;}#sk-19745d7c-739d-4786-96e4-f9b30bc07f47 div.sk-item {z-index: 1;}#sk-19745d7c-739d-4786-96e4-f9b30bc07f47 div.sk-parallel {display: flex;align-items: stretch;justify-content: center;background-color: white;}#sk-19745d7c-739d-4786-96e4-f9b30bc07f47 div.sk-parallel::before {content: \"\";position: absolute;border-left: 1px solid gray;box-sizing: border-box;top: 2em;bottom: 0;left: 50%;}#sk-19745d7c-739d-4786-96e4-f9b30bc07f47 div.sk-parallel-item {display: flex;flex-direction: column;position: relative;background-color: white;}#sk-19745d7c-739d-4786-96e4-f9b30bc07f47 div.sk-parallel-item:first-child::after {align-self: flex-end;width: 50%;}#sk-19745d7c-739d-4786-96e4-f9b30bc07f47 div.sk-parallel-item:last-child::after {align-self: flex-start;width: 50%;}#sk-19745d7c-739d-4786-96e4-f9b30bc07f47 div.sk-parallel-item:only-child::after {width: 0;}#sk-19745d7c-739d-4786-96e4-f9b30bc07f47 div.sk-dashed-wrapped {border: 1px dashed gray;margin: 0 0.4em 0.5em 0.4em;box-sizing: border-box;padding-bottom: 0.4em;background-color: white;position: relative;}#sk-19745d7c-739d-4786-96e4-f9b30bc07f47 div.sk-label label {font-family: monospace;font-weight: bold;background-color: white;display: inline-block;line-height: 1.2em;}#sk-19745d7c-739d-4786-96e4-f9b30bc07f47 div.sk-label-container {position: relative;z-index: 2;text-align: center;}#sk-19745d7c-739d-4786-96e4-f9b30bc07f47 div.sk-container {display: inline-block;position: relative;}</style><div id=\"sk-19745d7c-739d-4786-96e4-f9b30bc07f47\" class\"sk-top-container\"><div class=\"sk-container\"><div class=\"sk-item\"><div class=\"sk-estimator sk-toggleable\"><input class=\"sk-toggleable__control sk-hidden--visually\" id=\"ea95b332-951b-4a0b-8391-691dddd7f55d\" type=\"checkbox\" checked><label class=\"sk-toggleable__label\" for=\"ea95b332-951b-4a0b-8391-691dddd7f55d\">DecisionTreeClassifier</label><div class=\"sk-toggleable__content\"><pre>DecisionTreeClassifier(ccp_alpha=0.0, class_weight=None, criterion='gini',\n",
       "                       max_depth=None, max_features=None, max_leaf_nodes=None,\n",
       "                       min_impurity_decrease=0.0, min_samples_leaf=1,\n",
       "                       min_samples_split=2, min_weight_fraction_leaf=0.0,\n",
       "                       random_state=None, splitter='best')</pre></div></div></div></div></div>"
      ],
      "text/plain": [
       "DecisionTreeClassifier(ccp_alpha=0.0, class_weight=None, criterion='gini',\n",
       "                       max_depth=None, max_features=None, max_leaf_nodes=None,\n",
       "                       min_impurity_decrease=0.0, min_samples_leaf=1,\n",
       "                       min_samples_split=2, min_weight_fraction_leaf=0.0,\n",
       "                       random_state=None, splitter='best')"
      ]
     },
     "execution_count": 309,
     "metadata": {},
     "output_type": "execute_result"
    }
   ],
   "source": [
    "dt.fit(X_train, y_train)"
   ]
  },
  {
   "cell_type": "code",
   "execution_count": 310,
   "id": "230e8b0a",
   "metadata": {},
   "outputs": [
    {
     "data": {
      "text/html": [
       "<style>#sk-4f1cfc40-3dd9-41e9-a692-863d40baa536 {color: black;background-color: white;}#sk-4f1cfc40-3dd9-41e9-a692-863d40baa536 pre{padding: 0;}#sk-4f1cfc40-3dd9-41e9-a692-863d40baa536 div.sk-toggleable {background-color: white;}#sk-4f1cfc40-3dd9-41e9-a692-863d40baa536 label.sk-toggleable__label {cursor: pointer;display: block;width: 100%;margin-bottom: 0;padding: 0.3em;box-sizing: border-box;text-align: center;}#sk-4f1cfc40-3dd9-41e9-a692-863d40baa536 div.sk-toggleable__content {max-height: 0;max-width: 0;overflow: hidden;text-align: left;background-color: #f0f8ff;}#sk-4f1cfc40-3dd9-41e9-a692-863d40baa536 div.sk-toggleable__content pre {margin: 0.2em;color: black;border-radius: 0.25em;background-color: #f0f8ff;}#sk-4f1cfc40-3dd9-41e9-a692-863d40baa536 input.sk-toggleable__control:checked~div.sk-toggleable__content {max-height: 200px;max-width: 100%;overflow: auto;}#sk-4f1cfc40-3dd9-41e9-a692-863d40baa536 div.sk-estimator input.sk-toggleable__control:checked~label.sk-toggleable__label {background-color: #d4ebff;}#sk-4f1cfc40-3dd9-41e9-a692-863d40baa536 div.sk-label input.sk-toggleable__control:checked~label.sk-toggleable__label {background-color: #d4ebff;}#sk-4f1cfc40-3dd9-41e9-a692-863d40baa536 input.sk-hidden--visually {border: 0;clip: rect(1px 1px 1px 1px);clip: rect(1px, 1px, 1px, 1px);height: 1px;margin: -1px;overflow: hidden;padding: 0;position: absolute;width: 1px;}#sk-4f1cfc40-3dd9-41e9-a692-863d40baa536 div.sk-estimator {font-family: monospace;background-color: #f0f8ff;border: 1px dotted black;border-radius: 0.25em;box-sizing: border-box;margin-bottom: 0.5em;}#sk-4f1cfc40-3dd9-41e9-a692-863d40baa536 div.sk-estimator:hover {background-color: #d4ebff;}#sk-4f1cfc40-3dd9-41e9-a692-863d40baa536 div.sk-parallel-item::after {content: \"\";width: 100%;border-bottom: 1px solid gray;flex-grow: 1;}#sk-4f1cfc40-3dd9-41e9-a692-863d40baa536 div.sk-label:hover label.sk-toggleable__label {background-color: #d4ebff;}#sk-4f1cfc40-3dd9-41e9-a692-863d40baa536 div.sk-serial::before {content: \"\";position: absolute;border-left: 1px solid gray;box-sizing: border-box;top: 2em;bottom: 0;left: 50%;}#sk-4f1cfc40-3dd9-41e9-a692-863d40baa536 div.sk-serial {display: flex;flex-direction: column;align-items: center;background-color: white;padding-right: 0.2em;padding-left: 0.2em;}#sk-4f1cfc40-3dd9-41e9-a692-863d40baa536 div.sk-item {z-index: 1;}#sk-4f1cfc40-3dd9-41e9-a692-863d40baa536 div.sk-parallel {display: flex;align-items: stretch;justify-content: center;background-color: white;}#sk-4f1cfc40-3dd9-41e9-a692-863d40baa536 div.sk-parallel::before {content: \"\";position: absolute;border-left: 1px solid gray;box-sizing: border-box;top: 2em;bottom: 0;left: 50%;}#sk-4f1cfc40-3dd9-41e9-a692-863d40baa536 div.sk-parallel-item {display: flex;flex-direction: column;position: relative;background-color: white;}#sk-4f1cfc40-3dd9-41e9-a692-863d40baa536 div.sk-parallel-item:first-child::after {align-self: flex-end;width: 50%;}#sk-4f1cfc40-3dd9-41e9-a692-863d40baa536 div.sk-parallel-item:last-child::after {align-self: flex-start;width: 50%;}#sk-4f1cfc40-3dd9-41e9-a692-863d40baa536 div.sk-parallel-item:only-child::after {width: 0;}#sk-4f1cfc40-3dd9-41e9-a692-863d40baa536 div.sk-dashed-wrapped {border: 1px dashed gray;margin: 0 0.4em 0.5em 0.4em;box-sizing: border-box;padding-bottom: 0.4em;background-color: white;position: relative;}#sk-4f1cfc40-3dd9-41e9-a692-863d40baa536 div.sk-label label {font-family: monospace;font-weight: bold;background-color: white;display: inline-block;line-height: 1.2em;}#sk-4f1cfc40-3dd9-41e9-a692-863d40baa536 div.sk-label-container {position: relative;z-index: 2;text-align: center;}#sk-4f1cfc40-3dd9-41e9-a692-863d40baa536 div.sk-container {display: inline-block;position: relative;}</style><div id=\"sk-4f1cfc40-3dd9-41e9-a692-863d40baa536\" class\"sk-top-container\"><div class=\"sk-container\"><div class=\"sk-item\"><div class=\"sk-estimator sk-toggleable\"><input class=\"sk-toggleable__control sk-hidden--visually\" id=\"64eefc9a-4705-4b95-b655-5fe7d1c516c0\" type=\"checkbox\" checked><label class=\"sk-toggleable__label\" for=\"64eefc9a-4705-4b95-b655-5fe7d1c516c0\">RandomForestClassifier</label><div class=\"sk-toggleable__content\"><pre>RandomForestClassifier(bootstrap=True, ccp_alpha=0.0, class_weight=None,\n",
       "                       criterion='gini', max_depth=None, max_features='auto',\n",
       "                       max_leaf_nodes=None, max_samples=None,\n",
       "                       min_impurity_decrease=0.0, min_samples_leaf=1,\n",
       "                       min_samples_split=2, min_weight_fraction_leaf=0.0,\n",
       "                       n_estimators=100, n_jobs=None, oob_score=False,\n",
       "                       random_state=None, verbose=0, warm_start=False)</pre></div></div></div></div></div>"
      ],
      "text/plain": [
       "RandomForestClassifier(bootstrap=True, ccp_alpha=0.0, class_weight=None,\n",
       "                       criterion='gini', max_depth=None, max_features='auto',\n",
       "                       max_leaf_nodes=None, max_samples=None,\n",
       "                       min_impurity_decrease=0.0, min_samples_leaf=1,\n",
       "                       min_samples_split=2, min_weight_fraction_leaf=0.0,\n",
       "                       n_estimators=100, n_jobs=None, oob_score=False,\n",
       "                       random_state=None, verbose=0, warm_start=False)"
      ]
     },
     "execution_count": 310,
     "metadata": {},
     "output_type": "execute_result"
    }
   ],
   "source": [
    "rf.fit(X_train, y_train)"
   ]
  },
  {
   "cell_type": "markdown",
   "id": "b238b9d8",
   "metadata": {},
   "source": [
    "### Using plot_roc_curve --> be removed in 1.2"
   ]
  },
  {
   "cell_type": "code",
   "execution_count": 311,
   "id": "67e8b78e",
   "metadata": {},
   "outputs": [
    {
     "name": "stderr",
     "output_type": "stream",
     "text": [
      "C:\\Users\\TienLE\\anaconda3\\envs\\py39\\lib\\site-packages\\sklearn\\utils\\deprecation.py:87: FutureWarning: Function plot_roc_curve is deprecated; Function `plot_roc_curve` is deprecated in 1.0 and will be removed in 1.2. Use one of the class methods: RocCurveDisplay.from_predictions or RocCurveDisplay.from_estimator.\n",
      "  warnings.warn(msg, category=FutureWarning)\n",
      "C:\\Users\\TienLE\\anaconda3\\envs\\py39\\lib\\site-packages\\sklearn\\utils\\deprecation.py:87: FutureWarning: Function plot_roc_curve is deprecated; Function `plot_roc_curve` is deprecated in 1.0 and will be removed in 1.2. Use one of the class methods: RocCurveDisplay.from_predictions or RocCurveDisplay.from_estimator.\n",
      "  warnings.warn(msg, category=FutureWarning)\n",
      "C:\\Users\\TienLE\\anaconda3\\envs\\py39\\lib\\site-packages\\sklearn\\utils\\deprecation.py:87: FutureWarning: Function plot_roc_curve is deprecated; Function `plot_roc_curve` is deprecated in 1.0 and will be removed in 1.2. Use one of the class methods: RocCurveDisplay.from_predictions or RocCurveDisplay.from_estimator.\n",
      "  warnings.warn(msg, category=FutureWarning)\n"
     ]
    },
    {
     "data": {
      "image/png": "[encoded data removed]",
      "text/plain": [
       "<Figure size 432x288 with 1 Axes>"
      ]
     },
     "metadata": {
      "needs_background": "light"
     },
     "output_type": "display_data"
    }
   ],
   "source": [
    "from sklearn.metrics import plot_roc_curve\n",
    "disp = plot_roc_curve(lr, X_test, y_test)\n",
    "plot_roc_curve(dt, X_test, y_test, ax=disp.ax_);\n",
    "plot_roc_curve(rf, X_test, y_test, ax=disp.ax_);\n",
    "plt.show()"
   ]
  },
  {
   "cell_type": "markdown",
   "id": "c201c294",
   "metadata": {},
   "source": [
    "### Using RocCurveDisplay\n",
    "\n",
    "Ref:\n",
    "+ [RocCurveDisplay](https://scikit-learn.org/stable/modules/generated/sklearn.metrics.RocCurveDisplay.html)\n",
    "+ [roc_curve](https://scikit-learn.org/stable/modules/generated/sklearn.metrics.roc_curve.html#sklearn.metrics.roc_curve)"
   ]
  },
  {
   "cell_type": "code",
   "execution_count": 312,
   "id": "4fd2d045",
   "metadata": {},
   "outputs": [],
   "source": [
    "from sklearn.metrics import RocCurveDisplay, roc_curve, auc"
   ]
  },
  {
   "cell_type": "code",
   "execution_count": 313,
   "id": "88f19d95",
   "metadata": {},
   "outputs": [],
   "source": [
    "y_pred_lr = lr.predict(X_test)\n",
    "y_pred_dt = dt.predict(X_test)\n",
    "y_pred_rf = rf.predict(X_test)"
   ]
  },
  {
   "cell_type": "code",
   "execution_count": 314,
   "id": "e4e9f2bd",
   "metadata": {},
   "outputs": [
    {
     "data": {
      "text/plain": [
       "array([0, 0, 0, 1, 0, 1, 1, 1, 1, 0], dtype=int64)"
      ]
     },
     "execution_count": 314,
     "metadata": {},
     "output_type": "execute_result"
    }
   ],
   "source": [
    "y_pred_lr[:10]"
   ]
  },
  {
   "cell_type": "code",
   "execution_count": 315,
   "id": "c699627c",
   "metadata": {},
   "outputs": [
    {
     "data": {
      "text/plain": [
       "array([0, 0, 0, 1, 1, 1, 0, 1, 1, 0], dtype=int64)"
      ]
     },
     "execution_count": 315,
     "metadata": {},
     "output_type": "execute_result"
    }
   ],
   "source": [
    "y_pred_dt[:10]"
   ]
  },
  {
   "cell_type": "code",
   "execution_count": 316,
   "id": "6e2e5176",
   "metadata": {},
   "outputs": [
    {
     "data": {
      "text/plain": [
       "array([0, 0, 0, 0, 0, 1, 1, 1, 1, 0], dtype=int64)"
      ]
     },
     "execution_count": 316,
     "metadata": {},
     "output_type": "execute_result"
    }
   ],
   "source": [
    "y_pred_rf[:10]"
   ]
  },
  {
   "cell_type": "code",
   "execution_count": 317,
   "id": "30135614",
   "metadata": {},
   "outputs": [
    {
     "data": {
      "image/png": "[encoded data removed]",
      "text/plain": [
       "<Figure size 432x288 with 1 Axes>"
      ]
     },
     "metadata": {
      "needs_background": "light"
     },
     "output_type": "display_data"
    }
   ],
   "source": [
    "# LogisticRegression\n",
    "fpr_lr, tpr_lr, thresholds_lr = roc_curve(y_true=y_test,y_score=y_pred_lr, pos_label=1)\n",
    "# pos_labelint or str, default=None\n",
    "#   The label of the positive class. When pos_label=None, if y_true is in {-1, 1} or {0, 1}, pos_label is set to 1, otherwise an error will be raised.\n",
    "\n",
    "disp = RocCurveDisplay(fpr=fpr_lr, tpr=tpr_lr, roc_auc=auc(fpr_lr, tpr_lr), estimator_name=\"LogisticRegression\")\n",
    "\n",
    "disp.plot()\n",
    "plt.show()"
   ]
  },
  {
   "cell_type": "code",
   "execution_count": 318,
   "id": "b6ea0cff",
   "metadata": {},
   "outputs": [
    {
     "data": {
      "text/plain": [
       "<Figure size 432x288 with 0 Axes>"
      ]
     },
     "metadata": {},
     "output_type": "display_data"
    },
    {
     "data": {
      "image/png": "[encoded data removed]",
      "text/plain": [
       "<Figure size 432x288 with 1 Axes>"
      ]
     },
     "metadata": {
      "needs_background": "light"
     },
     "output_type": "display_data"
    }
   ],
   "source": [
    "# Plot all ROC curves\n",
    "plt.figure()\n",
    "\n",
    "disp = RocCurveDisplay.from_predictions(y_true=y_test, y_pred=y_pred_lr, name=\"LogisticRegression\");\n",
    "RocCurveDisplay.from_predictions(y_true=y_test, y_pred=y_pred_dt, name=\"DecisionTreeClassifier\", ax=disp.ax_)\n",
    "RocCurveDisplay.from_predictions(y_true=y_test, y_pred=y_pred_rf, name=\"RandomForestClassifier\", ax=disp.ax_)\n",
    "plt.show()"
   ]
  },
  {
   "cell_type": "markdown",
   "id": "229e248c",
   "metadata": {},
   "source": [
    "## Using stratified sampling with train_test_split\n",
    "\n",
    "Be sure to set \"stratify=y\" so that class proportions are preserved when splitting.\n",
    "\n",
    "Especially important if you have class imbalance!\n",
    "\n",
    "Ref: [train_test_split](https://scikit-learn.org/stable/modules/generated/sklearn.model_selection.train_test_split.html)"
   ]
  },
  {
   "cell_type": "code",
   "execution_count": 319,
   "id": "5b5a5b09",
   "metadata": {},
   "outputs": [],
   "source": [
    "df = pd.DataFrame({'feature':list(range(8)), 'target':['not fraud']*6 + ['fraud']*2})"
   ]
  },
  {
   "cell_type": "code",
   "execution_count": 320,
   "id": "05691094",
   "metadata": {},
   "outputs": [
    {
     "data": {
      "text/html": [
       "<div>\n",
       "<style scoped>\n",
       "    .dataframe tbody tr th:only-of-type {\n",
       "        vertical-align: middle;\n",
       "    }\n",
       "\n",
       "    .dataframe tbody tr th {\n",
       "        vertical-align: top;\n",
       "    }\n",
       "\n",
       "    .dataframe thead th {\n",
       "        text-align: right;\n",
       "    }\n",
       "</style>\n",
       "<table border=\"1\" class=\"dataframe\">\n",
       "  <thead>\n",
       "    <tr style=\"text-align: right;\">\n",
       "      <th></th>\n",
       "      <th>feature</th>\n",
       "      <th>target</th>\n",
       "    </tr>\n",
       "  </thead>\n",
       "  <tbody>\n",
       "    <tr>\n",
       "      <th>0</th>\n",
       "      <td>0</td>\n",
       "      <td>not fraud</td>\n",
       "    </tr>\n",
       "    <tr>\n",
       "      <th>1</th>\n",
       "      <td>1</td>\n",
       "      <td>not fraud</td>\n",
       "    </tr>\n",
       "    <tr>\n",
       "      <th>2</th>\n",
       "      <td>2</td>\n",
       "      <td>not fraud</td>\n",
       "    </tr>\n",
       "  </tbody>\n",
       "</table>\n",
       "</div>"
      ],
      "text/plain": [
       "   feature     target\n",
       "0        0  not fraud\n",
       "1        1  not fraud\n",
       "2        2  not fraud"
      ]
     },
     "execution_count": 320,
     "metadata": {},
     "output_type": "execute_result"
    }
   ],
   "source": [
    "df.head(3)"
   ]
  },
  {
   "cell_type": "code",
   "execution_count": 321,
   "id": "36f3bf4e",
   "metadata": {},
   "outputs": [
    {
     "data": {
      "text/plain": [
       "not fraud    6\n",
       "fraud        2\n",
       "Name: target, dtype: int64"
      ]
     },
     "execution_count": 321,
     "metadata": {},
     "output_type": "execute_result"
    }
   ],
   "source": [
    "df[\"target\"].value_counts()"
   ]
  },
  {
   "cell_type": "code",
   "execution_count": 322,
   "id": "eecec41a",
   "metadata": {},
   "outputs": [],
   "source": [
    "X = df[['feature']]\n",
    "y = df['target']"
   ]
  },
  {
   "cell_type": "code",
   "execution_count": 323,
   "id": "ec5bc900",
   "metadata": {},
   "outputs": [],
   "source": [
    "from sklearn.model_selection import train_test_split"
   ]
  },
  {
   "cell_type": "markdown",
   "id": "9c58f29e",
   "metadata": {},
   "source": [
    "### Not stratified\n",
    "\n",
    "`y_train` contains **NONE** of the minority class, whereas `y_test` contains **ALL** of the minority class."
   ]
  },
  {
   "cell_type": "code",
   "execution_count": 324,
   "id": "07d8c382",
   "metadata": {},
   "outputs": [],
   "source": [
    "X_train, X_test, y_train, y_test = train_test_split(X, y, test_size=0.5, random_state=0)"
   ]
  },
  {
   "cell_type": "code",
   "execution_count": 325,
   "id": "9bb7879b",
   "metadata": {},
   "outputs": [
    {
     "data": {
      "text/plain": [
       "3    not fraud\n",
       "0    not fraud\n",
       "5    not fraud\n",
       "4    not fraud\n",
       "Name: target, dtype: object"
      ]
     },
     "execution_count": 325,
     "metadata": {},
     "output_type": "execute_result"
    }
   ],
   "source": [
    "y_train"
   ]
  },
  {
   "cell_type": "code",
   "execution_count": 326,
   "id": "8e552cae",
   "metadata": {},
   "outputs": [
    {
     "data": {
      "text/plain": [
       "6        fraud\n",
       "2    not fraud\n",
       "1    not fraud\n",
       "7        fraud\n",
       "Name: target, dtype: object"
      ]
     },
     "execution_count": 326,
     "metadata": {},
     "output_type": "execute_result"
    }
   ],
   "source": [
    "y_test"
   ]
  },
  {
   "cell_type": "markdown",
   "id": "beb7dd4e",
   "metadata": {},
   "source": [
    "### Stratified\n",
    "\n",
    "Class proportions are the **SAME** in `y_train` and `y_test`."
   ]
  },
  {
   "cell_type": "code",
   "execution_count": 327,
   "id": "bfc42ff4",
   "metadata": {},
   "outputs": [],
   "source": [
    "X_train, X_test, y_train, y_test = train_test_split(X, y, test_size=0.5, random_state=0, stratify=y)"
   ]
  },
  {
   "cell_type": "code",
   "execution_count": 328,
   "id": "798d2a7f",
   "metadata": {},
   "outputs": [
    {
     "data": {
      "text/plain": [
       "1    not fraud\n",
       "7        fraud\n",
       "2    not fraud\n",
       "4    not fraud\n",
       "Name: target, dtype: object"
      ]
     },
     "execution_count": 328,
     "metadata": {},
     "output_type": "execute_result"
    }
   ],
   "source": [
    "y_train"
   ]
  },
  {
   "cell_type": "code",
   "execution_count": 329,
   "id": "04219d6f",
   "metadata": {},
   "outputs": [
    {
     "data": {
      "text/plain": [
       "3    not fraud\n",
       "6        fraud\n",
       "0    not fraud\n",
       "5    not fraud\n",
       "Name: target, dtype: object"
      ]
     },
     "execution_count": 329,
     "metadata": {},
     "output_type": "execute_result"
    }
   ],
   "source": [
    "y_test"
   ]
  },
  {
   "cell_type": "markdown",
   "id": "d0f62826",
   "metadata": {},
   "source": [
    "## Shuffle our dataset when applying cross_val_score\n",
    "\n",
    "If you use [cross-validation](https://scikit-learn.org/stable/modules/cross_validation.html) and your samples are NOT in an arbitrary order, [shuffling](https://scikit-learn.org/stable/modules/cross_validation.html#a-note-on-shuffling) may be required to get meaningful results.\n",
    "\n",
    "Use [KFold](https://scikit-learn.org/stable/modules/cross_validation.html#k-fold) or [StratifiedKFold](https://scikit-learn.org/stable/modules/cross_validation.html#stratified-k-fold) in order to shuffle!"
   ]
  },
  {
   "cell_type": "markdown",
   "id": "e4dcb5a3",
   "metadata": {},
   "source": [
    "### Using StratifiedKFold for classification problems"
   ]
  },
  {
   "cell_type": "code",
   "execution_count": 330,
   "id": "dda1b395",
   "metadata": {},
   "outputs": [],
   "source": [
    "file_input_path = \"titanic_train.csv\"\n",
    "if not os.path.exists(file_input_path):\n",
    "    df_train = pd.read_csv(\"http://bit.ly/kaggletrain\")\n",
    "    df_train.to_csv(file_input_path, header=True, index=False, sep=\"\\t\")\n",
    "else:\n",
    "    df_train = pd.read_csv(file_input_path, header=0, sep=\"\\t\")\n",
    "    \n",
    "features = [\"Pclass\", \"Fare\", \"SibSp\"]\n",
    "X, y = df_train[features], df_train[\"Survived\"]\n",
    "\n",
    "from sklearn.model_selection import train_test_split\n",
    "X_train, X_test, y_train, y_test = train_test_split(X, y, random_state=0)"
   ]
  },
  {
   "cell_type": "code",
   "execution_count": 331,
   "id": "f4d2aacc",
   "metadata": {},
   "outputs": [],
   "source": [
    "from sklearn.model_selection import StratifiedKFold\n",
    "skf = StratifiedKFold(5, shuffle=True, random_state=1)"
   ]
  },
  {
   "cell_type": "code",
   "execution_count": 332,
   "id": "aa3cbe6c",
   "metadata": {},
   "outputs": [],
   "source": [
    "clf = LogisticRegression()"
   ]
  },
  {
   "cell_type": "code",
   "execution_count": 333,
   "id": "93365fb0",
   "metadata": {},
   "outputs": [
    {
     "data": {
      "text/plain": [
       "array([0.65363128, 0.7247191 , 0.66853933, 0.68539326, 0.65730337])"
      ]
     },
     "execution_count": 333,
     "metadata": {},
     "output_type": "execute_result"
    }
   ],
   "source": [
    "scores = cross_val_score(clf, X, y, cv=skf, scoring=\"accuracy\")\n",
    "scores"
   ]
  },
  {
   "cell_type": "code",
   "execution_count": 334,
   "id": "5d562664",
   "metadata": {},
   "outputs": [
    {
     "data": {
      "text/plain": [
       "0.6779172682191954"
      ]
     },
     "execution_count": 334,
     "metadata": {},
     "output_type": "execute_result"
    }
   ],
   "source": [
    "scores.mean()"
   ]
  },
  {
   "cell_type": "markdown",
   "id": "3b0a0c87",
   "metadata": {},
   "source": [
    "### Using KFold with regression problems"
   ]
  },
  {
   "cell_type": "code",
   "execution_count": 335,
   "id": "9bbd2c24",
   "metadata": {},
   "outputs": [],
   "source": [
    "# Regression corpus\n",
    "from sklearn.datasets import load_diabetes\n",
    "\n",
    "from sklearn.linear_model import LinearRegression\n",
    "from sklearn.model_selection import KFold"
   ]
  },
  {
   "cell_type": "code",
   "execution_count": 336,
   "id": "e2ff8e34",
   "metadata": {},
   "outputs": [],
   "source": [
    "reg = LinearRegression()"
   ]
  },
  {
   "cell_type": "code",
   "execution_count": 337,
   "id": "2bb219de",
   "metadata": {},
   "outputs": [],
   "source": [
    "X_reg, y_reg = load_diabetes(return_X_y=True)"
   ]
  },
  {
   "cell_type": "code",
   "execution_count": 338,
   "id": "713c6725",
   "metadata": {},
   "outputs": [
    {
     "data": {
      "text/plain": [
       "array([[ 0.03807591,  0.05068012,  0.06169621,  0.02187235, -0.0442235 ,\n",
       "        -0.03482076, -0.04340085, -0.00259226,  0.01990842, -0.01764613],\n",
       "       [-0.00188202, -0.04464164, -0.05147406, -0.02632783, -0.00844872,\n",
       "        -0.01916334,  0.07441156, -0.03949338, -0.06832974, -0.09220405],\n",
       "       [ 0.08529891,  0.05068012,  0.04445121, -0.00567061, -0.04559945,\n",
       "        -0.03419447, -0.03235593, -0.00259226,  0.00286377, -0.02593034]])"
      ]
     },
     "execution_count": 338,
     "metadata": {},
     "output_type": "execute_result"
    }
   ],
   "source": [
    "X_reg[:3]"
   ]
  },
  {
   "cell_type": "code",
   "execution_count": 339,
   "id": "4f5a1fa0",
   "metadata": {},
   "outputs": [
    {
     "data": {
      "text/plain": [
       "array([151.,  75., 141.])"
      ]
     },
     "execution_count": 339,
     "metadata": {},
     "output_type": "execute_result"
    }
   ],
   "source": [
    "y_reg[:3]"
   ]
  },
  {
   "cell_type": "code",
   "execution_count": 340,
   "id": "0c344651",
   "metadata": {},
   "outputs": [],
   "source": [
    "kf = KFold(5, shuffle=True, random_state=1)"
   ]
  },
  {
   "cell_type": "code",
   "execution_count": 341,
   "id": "3fe6a4d1",
   "metadata": {},
   "outputs": [
    {
     "data": {
      "text/plain": [
       "array([0.43843604, 0.38982527, 0.52792606, 0.47359858, 0.57449343])"
      ]
     },
     "execution_count": 341,
     "metadata": {},
     "output_type": "execute_result"
    }
   ],
   "source": [
    "scores = cross_val_score(reg, X_reg, y_reg, cv=kf, scoring=\"r2\")\n",
    "scores"
   ]
  },
  {
   "cell_type": "code",
   "execution_count": 342,
   "id": "1b2a483c",
   "metadata": {},
   "outputs": [
    {
     "data": {
      "text/plain": [
       "0.4808558770194292"
      ]
     },
     "execution_count": 342,
     "metadata": {},
     "output_type": "execute_result"
    }
   ],
   "source": [
    "scores.mean()"
   ]
  },
  {
   "cell_type": "markdown",
   "id": "af5b7ef2",
   "metadata": {},
   "source": [
    "## Use AUC to evaluate multi-class problems\n",
    "\n",
    "[AUC](https://scikit-learn.org/stable/modules/model_evaluation.html#receiver-operating-characteristic-roc) is an excellent evaluation metric for binary classification, especially if you have class imbalance.\n",
    "\n",
    "New in scikit-learn 0.22: AUC can be used with [multiclass problems](https://scikit-learn.org/stable/modules/model_evaluation.html#multi-class-case)! Supports \"one-vs-one\" and \"one-vs-rest\" strategies.\n",
    "\n",
    "Additional links: [ROC curves and AUC explained (video)](https://www.dataschool.io/roc-curves-and-auc-explained/)"
   ]
  },
  {
   "cell_type": "code",
   "execution_count": 343,
   "id": "97b323ab",
   "metadata": {},
   "outputs": [],
   "source": [
    "from sklearn.datasets import load_wine"
   ]
  },
  {
   "cell_type": "code",
   "execution_count": 344,
   "id": "9342ab73",
   "metadata": {},
   "outputs": [],
   "source": [
    "X, y = load_wine(return_X_y=True)"
   ]
  },
  {
   "cell_type": "code",
   "execution_count": 345,
   "id": "80f681b7",
   "metadata": {},
   "outputs": [
    {
     "data": {
      "text/plain": [
       "array([[1.423e+01, 1.710e+00, 2.430e+00, 1.560e+01, 1.270e+02, 2.800e+00,\n",
       "        3.060e+00, 2.800e-01, 2.290e+00, 5.640e+00, 1.040e+00, 3.920e+00,\n",
       "        1.065e+03],\n",
       "       [1.320e+01, 1.780e+00, 2.140e+00, 1.120e+01, 1.000e+02, 2.650e+00,\n",
       "        2.760e+00, 2.600e-01, 1.280e+00, 4.380e+00, 1.050e+00, 3.400e+00,\n",
       "        1.050e+03],\n",
       "       [1.316e+01, 2.360e+00, 2.670e+00, 1.860e+01, 1.010e+02, 2.800e+00,\n",
       "        3.240e+00, 3.000e-01, 2.810e+00, 5.680e+00, 1.030e+00, 3.170e+00,\n",
       "        1.185e+03]])"
      ]
     },
     "execution_count": 345,
     "metadata": {},
     "output_type": "execute_result"
    }
   ],
   "source": [
    "X[:3]"
   ]
  },
  {
   "cell_type": "code",
   "execution_count": 346,
   "id": "f66fc624",
   "metadata": {},
   "outputs": [
    {
     "data": {
      "text/plain": [
       "array([0, 0, 0])"
      ]
     },
     "execution_count": 346,
     "metadata": {},
     "output_type": "execute_result"
    }
   ],
   "source": [
    "y[:3]"
   ]
  },
  {
   "cell_type": "code",
   "execution_count": 347,
   "id": "116a66ec",
   "metadata": {},
   "outputs": [
    {
     "data": {
      "text/plain": [
       "array([0, 1, 2])"
      ]
     },
     "execution_count": 347,
     "metadata": {},
     "output_type": "execute_result"
    }
   ],
   "source": [
    "np.unique(y)"
   ]
  },
  {
   "cell_type": "code",
   "execution_count": 348,
   "id": "3875bfd0",
   "metadata": {},
   "outputs": [],
   "source": [
    "clf = LogisticRegression()"
   ]
  },
  {
   "cell_type": "code",
   "execution_count": 349,
   "id": "ce2192fd",
   "metadata": {},
   "outputs": [],
   "source": [
    "X_train, X_test, y_train, y_test = train_test_split(X, y, random_state=0, stratify=y)"
   ]
  },
  {
   "cell_type": "code",
   "execution_count": 350,
   "id": "27309aac",
   "metadata": {},
   "outputs": [
    {
     "name": "stderr",
     "output_type": "stream",
     "text": [
      "C:\\Users\\TienLE\\anaconda3\\envs\\py39\\lib\\site-packages\\sklearn\\linear_model\\_logistic.py:814: ConvergenceWarning: lbfgs failed to converge (status=1):\n",
      "STOP: TOTAL NO. of ITERATIONS REACHED LIMIT.\n",
      "\n",
      "Increase the number of iterations (max_iter) or scale the data as shown in:\n",
      "    https://scikit-learn.org/stable/modules/preprocessing.html\n",
      "Please also refer to the documentation for alternative solver options:\n",
      "    https://scikit-learn.org/stable/modules/linear_model.html#logistic-regression\n",
      "  n_iter_i = _check_optimize_result(\n"
     ]
    },
    {
     "data": {
      "text/html": [
       "<style>#sk-325e895c-7a71-4aaa-81be-8b613517e636 {color: black;background-color: white;}#sk-325e895c-7a71-4aaa-81be-8b613517e636 pre{padding: 0;}#sk-325e895c-7a71-4aaa-81be-8b613517e636 div.sk-toggleable {background-color: white;}#sk-325e895c-7a71-4aaa-81be-8b613517e636 label.sk-toggleable__label {cursor: pointer;display: block;width: 100%;margin-bottom: 0;padding: 0.3em;box-sizing: border-box;text-align: center;}#sk-325e895c-7a71-4aaa-81be-8b613517e636 div.sk-toggleable__content {max-height: 0;max-width: 0;overflow: hidden;text-align: left;background-color: #f0f8ff;}#sk-325e895c-7a71-4aaa-81be-8b613517e636 div.sk-toggleable__content pre {margin: 0.2em;color: black;border-radius: 0.25em;background-color: #f0f8ff;}#sk-325e895c-7a71-4aaa-81be-8b613517e636 input.sk-toggleable__control:checked~div.sk-toggleable__content {max-height: 200px;max-width: 100%;overflow: auto;}#sk-325e895c-7a71-4aaa-81be-8b613517e636 div.sk-estimator input.sk-toggleable__control:checked~label.sk-toggleable__label {background-color: #d4ebff;}#sk-325e895c-7a71-4aaa-81be-8b613517e636 div.sk-label input.sk-toggleable__control:checked~label.sk-toggleable__label {background-color: #d4ebff;}#sk-325e895c-7a71-4aaa-81be-8b613517e636 input.sk-hidden--visually {border: 0;clip: rect(1px 1px 1px 1px);clip: rect(1px, 1px, 1px, 1px);height: 1px;margin: -1px;overflow: hidden;padding: 0;position: absolute;width: 1px;}#sk-325e895c-7a71-4aaa-81be-8b613517e636 div.sk-estimator {font-family: monospace;background-color: #f0f8ff;border: 1px dotted black;border-radius: 0.25em;box-sizing: border-box;margin-bottom: 0.5em;}#sk-325e895c-7a71-4aaa-81be-8b613517e636 div.sk-estimator:hover {background-color: #d4ebff;}#sk-325e895c-7a71-4aaa-81be-8b613517e636 div.sk-parallel-item::after {content: \"\";width: 100%;border-bottom: 1px solid gray;flex-grow: 1;}#sk-325e895c-7a71-4aaa-81be-8b613517e636 div.sk-label:hover label.sk-toggleable__label {background-color: #d4ebff;}#sk-325e895c-7a71-4aaa-81be-8b613517e636 div.sk-serial::before {content: \"\";position: absolute;border-left: 1px solid gray;box-sizing: border-box;top: 2em;bottom: 0;left: 50%;}#sk-325e895c-7a71-4aaa-81be-8b613517e636 div.sk-serial {display: flex;flex-direction: column;align-items: center;background-color: white;padding-right: 0.2em;padding-left: 0.2em;}#sk-325e895c-7a71-4aaa-81be-8b613517e636 div.sk-item {z-index: 1;}#sk-325e895c-7a71-4aaa-81be-8b613517e636 div.sk-parallel {display: flex;align-items: stretch;justify-content: center;background-color: white;}#sk-325e895c-7a71-4aaa-81be-8b613517e636 div.sk-parallel::before {content: \"\";position: absolute;border-left: 1px solid gray;box-sizing: border-box;top: 2em;bottom: 0;left: 50%;}#sk-325e895c-7a71-4aaa-81be-8b613517e636 div.sk-parallel-item {display: flex;flex-direction: column;position: relative;background-color: white;}#sk-325e895c-7a71-4aaa-81be-8b613517e636 div.sk-parallel-item:first-child::after {align-self: flex-end;width: 50%;}#sk-325e895c-7a71-4aaa-81be-8b613517e636 div.sk-parallel-item:last-child::after {align-self: flex-start;width: 50%;}#sk-325e895c-7a71-4aaa-81be-8b613517e636 div.sk-parallel-item:only-child::after {width: 0;}#sk-325e895c-7a71-4aaa-81be-8b613517e636 div.sk-dashed-wrapped {border: 1px dashed gray;margin: 0 0.4em 0.5em 0.4em;box-sizing: border-box;padding-bottom: 0.4em;background-color: white;position: relative;}#sk-325e895c-7a71-4aaa-81be-8b613517e636 div.sk-label label {font-family: monospace;font-weight: bold;background-color: white;display: inline-block;line-height: 1.2em;}#sk-325e895c-7a71-4aaa-81be-8b613517e636 div.sk-label-container {position: relative;z-index: 2;text-align: center;}#sk-325e895c-7a71-4aaa-81be-8b613517e636 div.sk-container {display: inline-block;position: relative;}</style><div id=\"sk-325e895c-7a71-4aaa-81be-8b613517e636\" class\"sk-top-container\"><div class=\"sk-container\"><div class=\"sk-item\"><div class=\"sk-estimator sk-toggleable\"><input class=\"sk-toggleable__control sk-hidden--visually\" id=\"1411f81a-d05c-484d-9a0d-4747b9ec85ac\" type=\"checkbox\" checked><label class=\"sk-toggleable__label\" for=\"1411f81a-d05c-484d-9a0d-4747b9ec85ac\">LogisticRegression</label><div class=\"sk-toggleable__content\"><pre>LogisticRegression(C=1.0, class_weight=None, dual=False, fit_intercept=True,\n",
       "                   intercept_scaling=1, l1_ratio=None, max_iter=100,\n",
       "                   multi_class='auto', n_jobs=None, penalty='l2',\n",
       "                   random_state=None, solver='lbfgs', tol=0.0001, verbose=0,\n",
       "                   warm_start=False)</pre></div></div></div></div></div>"
      ],
      "text/plain": [
       "LogisticRegression(C=1.0, class_weight=None, dual=False, fit_intercept=True,\n",
       "                   intercept_scaling=1, l1_ratio=None, max_iter=100,\n",
       "                   multi_class='auto', n_jobs=None, penalty='l2',\n",
       "                   random_state=None, solver='lbfgs', tol=0.0001, verbose=0,\n",
       "                   warm_start=False)"
      ]
     },
     "execution_count": 350,
     "metadata": {},
     "output_type": "execute_result"
    }
   ],
   "source": [
    "clf.fit(X_train, y_train)"
   ]
  },
  {
   "cell_type": "code",
   "execution_count": 351,
   "id": "b309a56b",
   "metadata": {},
   "outputs": [],
   "source": [
    "y_pred_proba = clf.predict_proba(X_test)"
   ]
  },
  {
   "cell_type": "code",
   "execution_count": 352,
   "id": "c09225d6",
   "metadata": {},
   "outputs": [
    {
     "data": {
      "text/plain": [
       "array([[1.52956883e-03, 8.33190734e-05, 9.98387112e-01],\n",
       "       [3.52924736e-01, 6.45037036e-01, 2.03822723e-03],\n",
       "       [2.91763667e-05, 9.99875495e-01, 9.53286356e-05]])"
      ]
     },
     "execution_count": 352,
     "metadata": {},
     "output_type": "execute_result"
    }
   ],
   "source": [
    "y_pred_proba[:3]"
   ]
  },
  {
   "cell_type": "markdown",
   "id": "6515f79e",
   "metadata": {},
   "source": [
    "### Using 'ovo' (One-vs-One) or 'ovr' (One-vs-Rest)"
   ]
  },
  {
   "cell_type": "code",
   "execution_count": 353,
   "id": "62e2ae96",
   "metadata": {},
   "outputs": [],
   "source": [
    "from sklearn.metrics import roc_auc_score"
   ]
  },
  {
   "cell_type": "code",
   "execution_count": 354,
   "id": "03a4cf93",
   "metadata": {},
   "outputs": [
    {
     "data": {
      "text/plain": [
       "0.9975308641975308"
      ]
     },
     "execution_count": 354,
     "metadata": {},
     "output_type": "execute_result"
    }
   ],
   "source": [
    "roc_auc_score(y_test, y_pred_proba, multi_class=\"ovo\")"
   ]
  },
  {
   "cell_type": "markdown",
   "id": "dac11b6a",
   "metadata": {},
   "source": [
    "### Multiclass AUC with cross-validation"
   ]
  },
  {
   "cell_type": "code",
   "execution_count": 355,
   "id": "ff1b92cd",
   "metadata": {
    "scrolled": true
   },
   "outputs": [
    {
     "name": "stderr",
     "output_type": "stream",
     "text": [
      "C:\\Users\\TienLE\\anaconda3\\envs\\py39\\lib\\site-packages\\sklearn\\linear_model\\_logistic.py:814: ConvergenceWarning: lbfgs failed to converge (status=1):\n",
      "STOP: TOTAL NO. of ITERATIONS REACHED LIMIT.\n",
      "\n",
      "Increase the number of iterations (max_iter) or scale the data as shown in:\n",
      "    https://scikit-learn.org/stable/modules/preprocessing.html\n",
      "Please also refer to the documentation for alternative solver options:\n",
      "    https://scikit-learn.org/stable/modules/linear_model.html#logistic-regression\n",
      "  n_iter_i = _check_optimize_result(\n",
      "C:\\Users\\TienLE\\anaconda3\\envs\\py39\\lib\\site-packages\\sklearn\\linear_model\\_logistic.py:814: ConvergenceWarning: lbfgs failed to converge (status=1):\n",
      "STOP: TOTAL NO. of ITERATIONS REACHED LIMIT.\n",
      "\n",
      "Increase the number of iterations (max_iter) or scale the data as shown in:\n",
      "    https://scikit-learn.org/stable/modules/preprocessing.html\n",
      "Please also refer to the documentation for alternative solver options:\n",
      "    https://scikit-learn.org/stable/modules/linear_model.html#logistic-regression\n",
      "  n_iter_i = _check_optimize_result(\n",
      "C:\\Users\\TienLE\\anaconda3\\envs\\py39\\lib\\site-packages\\sklearn\\linear_model\\_logistic.py:814: ConvergenceWarning: lbfgs failed to converge (status=1):\n",
      "STOP: TOTAL NO. of ITERATIONS REACHED LIMIT.\n",
      "\n",
      "Increase the number of iterations (max_iter) or scale the data as shown in:\n",
      "    https://scikit-learn.org/stable/modules/preprocessing.html\n",
      "Please also refer to the documentation for alternative solver options:\n",
      "    https://scikit-learn.org/stable/modules/linear_model.html#logistic-regression\n",
      "  n_iter_i = _check_optimize_result(\n",
      "C:\\Users\\TienLE\\anaconda3\\envs\\py39\\lib\\site-packages\\sklearn\\linear_model\\_logistic.py:814: ConvergenceWarning: lbfgs failed to converge (status=1):\n",
      "STOP: TOTAL NO. of ITERATIONS REACHED LIMIT.\n",
      "\n",
      "Increase the number of iterations (max_iter) or scale the data as shown in:\n",
      "    https://scikit-learn.org/stable/modules/preprocessing.html\n",
      "Please also refer to the documentation for alternative solver options:\n",
      "    https://scikit-learn.org/stable/modules/linear_model.html#logistic-regression\n",
      "  n_iter_i = _check_optimize_result(\n",
      "C:\\Users\\TienLE\\anaconda3\\envs\\py39\\lib\\site-packages\\sklearn\\linear_model\\_logistic.py:814: ConvergenceWarning: lbfgs failed to converge (status=1):\n",
      "STOP: TOTAL NO. of ITERATIONS REACHED LIMIT.\n",
      "\n",
      "Increase the number of iterations (max_iter) or scale the data as shown in:\n",
      "    https://scikit-learn.org/stable/modules/preprocessing.html\n",
      "Please also refer to the documentation for alternative solver options:\n",
      "    https://scikit-learn.org/stable/modules/linear_model.html#logistic-regression\n",
      "  n_iter_i = _check_optimize_result(\n"
     ]
    },
    {
     "data": {
      "text/plain": [
       "array([0.97678571, 0.9952381 , 0.99007937, 1.        , 1.        ])"
      ]
     },
     "execution_count": 355,
     "metadata": {},
     "output_type": "execute_result"
    }
   ],
   "source": [
    "scores = cross_val_score(clf, X, y, cv=5, scoring=\"roc_auc_ovo\")\n",
    "scores"
   ]
  },
  {
   "cell_type": "code",
   "execution_count": 356,
   "id": "ba45046d",
   "metadata": {},
   "outputs": [
    {
     "data": {
      "text/plain": [
       "0.9924206349206349"
      ]
     },
     "execution_count": 356,
     "metadata": {},
     "output_type": "execute_result"
    }
   ],
   "source": [
    "scores.mean()"
   ]
  },
  {
   "cell_type": "markdown",
   "id": "fe16aea5",
   "metadata": {},
   "source": [
    "### Estimating by F1-score"
   ]
  },
  {
   "cell_type": "code",
   "execution_count": 357,
   "id": "a8a42323",
   "metadata": {},
   "outputs": [
    {
     "name": "stderr",
     "output_type": "stream",
     "text": [
      "C:\\Users\\TienLE\\anaconda3\\envs\\py39\\lib\\site-packages\\sklearn\\linear_model\\_logistic.py:814: ConvergenceWarning: lbfgs failed to converge (status=1):\n",
      "STOP: TOTAL NO. of ITERATIONS REACHED LIMIT.\n",
      "\n",
      "Increase the number of iterations (max_iter) or scale the data as shown in:\n",
      "    https://scikit-learn.org/stable/modules/preprocessing.html\n",
      "Please also refer to the documentation for alternative solver options:\n",
      "    https://scikit-learn.org/stable/modules/linear_model.html#logistic-regression\n",
      "  n_iter_i = _check_optimize_result(\n",
      "C:\\Users\\TienLE\\anaconda3\\envs\\py39\\lib\\site-packages\\sklearn\\linear_model\\_logistic.py:814: ConvergenceWarning: lbfgs failed to converge (status=1):\n",
      "STOP: TOTAL NO. of ITERATIONS REACHED LIMIT.\n",
      "\n",
      "Increase the number of iterations (max_iter) or scale the data as shown in:\n",
      "    https://scikit-learn.org/stable/modules/preprocessing.html\n",
      "Please also refer to the documentation for alternative solver options:\n",
      "    https://scikit-learn.org/stable/modules/linear_model.html#logistic-regression\n",
      "  n_iter_i = _check_optimize_result(\n",
      "C:\\Users\\TienLE\\anaconda3\\envs\\py39\\lib\\site-packages\\sklearn\\linear_model\\_logistic.py:814: ConvergenceWarning: lbfgs failed to converge (status=1):\n",
      "STOP: TOTAL NO. of ITERATIONS REACHED LIMIT.\n",
      "\n",
      "Increase the number of iterations (max_iter) or scale the data as shown in:\n",
      "    https://scikit-learn.org/stable/modules/preprocessing.html\n",
      "Please also refer to the documentation for alternative solver options:\n",
      "    https://scikit-learn.org/stable/modules/linear_model.html#logistic-regression\n",
      "  n_iter_i = _check_optimize_result(\n",
      "C:\\Users\\TienLE\\anaconda3\\envs\\py39\\lib\\site-packages\\sklearn\\linear_model\\_logistic.py:814: ConvergenceWarning: lbfgs failed to converge (status=1):\n",
      "STOP: TOTAL NO. of ITERATIONS REACHED LIMIT.\n",
      "\n",
      "Increase the number of iterations (max_iter) or scale the data as shown in:\n",
      "    https://scikit-learn.org/stable/modules/preprocessing.html\n",
      "Please also refer to the documentation for alternative solver options:\n",
      "    https://scikit-learn.org/stable/modules/linear_model.html#logistic-regression\n",
      "  n_iter_i = _check_optimize_result(\n",
      "C:\\Users\\TienLE\\anaconda3\\envs\\py39\\lib\\site-packages\\sklearn\\linear_model\\_logistic.py:814: ConvergenceWarning: lbfgs failed to converge (status=1):\n",
      "STOP: TOTAL NO. of ITERATIONS REACHED LIMIT.\n",
      "\n",
      "Increase the number of iterations (max_iter) or scale the data as shown in:\n",
      "    https://scikit-learn.org/stable/modules/preprocessing.html\n",
      "Please also refer to the documentation for alternative solver options:\n",
      "    https://scikit-learn.org/stable/modules/linear_model.html#logistic-regression\n",
      "  n_iter_i = _check_optimize_result(\n"
     ]
    },
    {
     "data": {
      "text/plain": [
       "0.9568115743905217"
      ]
     },
     "execution_count": 357,
     "metadata": {},
     "output_type": "execute_result"
    }
   ],
   "source": [
    "cross_val_score(clf, X, y, cv=5, scoring=\"f1_macro\").mean()"
   ]
  },
  {
   "cell_type": "markdown",
   "id": "adf95572",
   "metadata": {},
   "source": [
    "# Model Inspection\n"
   ]
  },
  {
   "cell_type": "markdown",
   "id": "d0eda686",
   "metadata": {},
   "source": [
    "## Display the intercept and coefficients for a linear model\n",
    "\n",
    "Q: How do you display the intercept & coefficients for a [linear model](https://scikit-learn.org/stable/modules/classes.html#module-sklearn.linear_model)?\n",
    "\n",
    "A: They are stored as attributes of the model: \"intercept_\" and \"coef_\"\n",
    "\n",
    "Attributes end with \"_\" if they are set during \"fit\""
   ]
  },
  {
   "cell_type": "code",
   "execution_count": 358,
   "id": "5b22085e",
   "metadata": {},
   "outputs": [],
   "source": [
    "from sklearn.datasets import load_diabetes"
   ]
  },
  {
   "cell_type": "code",
   "execution_count": 359,
   "id": "8c757718",
   "metadata": {},
   "outputs": [
    {
     "data": {
      "text/plain": [
       "sklearn.utils.Bunch"
      ]
     },
     "execution_count": 359,
     "metadata": {},
     "output_type": "execute_result"
    }
   ],
   "source": [
    "dataset = load_diabetes()\n",
    "type(dataset)"
   ]
  },
  {
   "cell_type": "code",
   "execution_count": 360,
   "id": "d3140c74",
   "metadata": {},
   "outputs": [
    {
     "data": {
      "text/plain": [
       "dict_keys(['data', 'target', 'frame', 'DESCR', 'feature_names', 'data_filename', 'target_filename', 'data_module'])"
      ]
     },
     "execution_count": 360,
     "metadata": {},
     "output_type": "execute_result"
    }
   ],
   "source": [
    "dict(dataset).keys()"
   ]
  },
  {
   "cell_type": "code",
   "execution_count": 361,
   "id": "d9735316",
   "metadata": {},
   "outputs": [],
   "source": [
    "X, y = dataset.data, dataset.target"
   ]
  },
  {
   "cell_type": "code",
   "execution_count": 362,
   "id": "72b790ea",
   "metadata": {},
   "outputs": [
    {
     "data": {
      "text/html": [
       "<style>#sk-01464829-f050-4d7a-b84d-8a1673f9bdf2 {color: black;background-color: white;}#sk-01464829-f050-4d7a-b84d-8a1673f9bdf2 pre{padding: 0;}#sk-01464829-f050-4d7a-b84d-8a1673f9bdf2 div.sk-toggleable {background-color: white;}#sk-01464829-f050-4d7a-b84d-8a1673f9bdf2 label.sk-toggleable__label {cursor: pointer;display: block;width: 100%;margin-bottom: 0;padding: 0.3em;box-sizing: border-box;text-align: center;}#sk-01464829-f050-4d7a-b84d-8a1673f9bdf2 div.sk-toggleable__content {max-height: 0;max-width: 0;overflow: hidden;text-align: left;background-color: #f0f8ff;}#sk-01464829-f050-4d7a-b84d-8a1673f9bdf2 div.sk-toggleable__content pre {margin: 0.2em;color: black;border-radius: 0.25em;background-color: #f0f8ff;}#sk-01464829-f050-4d7a-b84d-8a1673f9bdf2 input.sk-toggleable__control:checked~div.sk-toggleable__content {max-height: 200px;max-width: 100%;overflow: auto;}#sk-01464829-f050-4d7a-b84d-8a1673f9bdf2 div.sk-estimator input.sk-toggleable__control:checked~label.sk-toggleable__label {background-color: #d4ebff;}#sk-01464829-f050-4d7a-b84d-8a1673f9bdf2 div.sk-label input.sk-toggleable__control:checked~label.sk-toggleable__label {background-color: #d4ebff;}#sk-01464829-f050-4d7a-b84d-8a1673f9bdf2 input.sk-hidden--visually {border: 0;clip: rect(1px 1px 1px 1px);clip: rect(1px, 1px, 1px, 1px);height: 1px;margin: -1px;overflow: hidden;padding: 0;position: absolute;width: 1px;}#sk-01464829-f050-4d7a-b84d-8a1673f9bdf2 div.sk-estimator {font-family: monospace;background-color: #f0f8ff;border: 1px dotted black;border-radius: 0.25em;box-sizing: border-box;margin-bottom: 0.5em;}#sk-01464829-f050-4d7a-b84d-8a1673f9bdf2 div.sk-estimator:hover {background-color: #d4ebff;}#sk-01464829-f050-4d7a-b84d-8a1673f9bdf2 div.sk-parallel-item::after {content: \"\";width: 100%;border-bottom: 1px solid gray;flex-grow: 1;}#sk-01464829-f050-4d7a-b84d-8a1673f9bdf2 div.sk-label:hover label.sk-toggleable__label {background-color: #d4ebff;}#sk-01464829-f050-4d7a-b84d-8a1673f9bdf2 div.sk-serial::before {content: \"\";position: absolute;border-left: 1px solid gray;box-sizing: border-box;top: 2em;bottom: 0;left: 50%;}#sk-01464829-f050-4d7a-b84d-8a1673f9bdf2 div.sk-serial {display: flex;flex-direction: column;align-items: center;background-color: white;padding-right: 0.2em;padding-left: 0.2em;}#sk-01464829-f050-4d7a-b84d-8a1673f9bdf2 div.sk-item {z-index: 1;}#sk-01464829-f050-4d7a-b84d-8a1673f9bdf2 div.sk-parallel {display: flex;align-items: stretch;justify-content: center;background-color: white;}#sk-01464829-f050-4d7a-b84d-8a1673f9bdf2 div.sk-parallel::before {content: \"\";position: absolute;border-left: 1px solid gray;box-sizing: border-box;top: 2em;bottom: 0;left: 50%;}#sk-01464829-f050-4d7a-b84d-8a1673f9bdf2 div.sk-parallel-item {display: flex;flex-direction: column;position: relative;background-color: white;}#sk-01464829-f050-4d7a-b84d-8a1673f9bdf2 div.sk-parallel-item:first-child::after {align-self: flex-end;width: 50%;}#sk-01464829-f050-4d7a-b84d-8a1673f9bdf2 div.sk-parallel-item:last-child::after {align-self: flex-start;width: 50%;}#sk-01464829-f050-4d7a-b84d-8a1673f9bdf2 div.sk-parallel-item:only-child::after {width: 0;}#sk-01464829-f050-4d7a-b84d-8a1673f9bdf2 div.sk-dashed-wrapped {border: 1px dashed gray;margin: 0 0.4em 0.5em 0.4em;box-sizing: border-box;padding-bottom: 0.4em;background-color: white;position: relative;}#sk-01464829-f050-4d7a-b84d-8a1673f9bdf2 div.sk-label label {font-family: monospace;font-weight: bold;background-color: white;display: inline-block;line-height: 1.2em;}#sk-01464829-f050-4d7a-b84d-8a1673f9bdf2 div.sk-label-container {position: relative;z-index: 2;text-align: center;}#sk-01464829-f050-4d7a-b84d-8a1673f9bdf2 div.sk-container {display: inline-block;position: relative;}</style><div id=\"sk-01464829-f050-4d7a-b84d-8a1673f9bdf2\" class\"sk-top-container\"><div class=\"sk-container\"><div class=\"sk-item\"><div class=\"sk-estimator sk-toggleable\"><input class=\"sk-toggleable__control sk-hidden--visually\" id=\"d363f8d6-33e1-45bc-a19c-53b14ea1110a\" type=\"checkbox\" checked><label class=\"sk-toggleable__label\" for=\"d363f8d6-33e1-45bc-a19c-53b14ea1110a\">LinearRegression</label><div class=\"sk-toggleable__content\"><pre>LinearRegression(copy_X=True, fit_intercept=True, n_jobs=None,\n",
       "                 normalize='deprecated', positive=False)</pre></div></div></div></div></div>"
      ],
      "text/plain": [
       "LinearRegression(copy_X=True, fit_intercept=True, n_jobs=None,\n",
       "                 normalize='deprecated', positive=False)"
      ]
     },
     "execution_count": 362,
     "metadata": {},
     "output_type": "execute_result"
    }
   ],
   "source": [
    "lr = LinearRegression()\n",
    "lr"
   ]
  },
  {
   "cell_type": "code",
   "execution_count": 363,
   "id": "150bf1ba",
   "metadata": {},
   "outputs": [
    {
     "data": {
      "text/html": [
       "<style>#sk-f619fe4d-75eb-468e-b37f-c03174005c71 {color: black;background-color: white;}#sk-f619fe4d-75eb-468e-b37f-c03174005c71 pre{padding: 0;}#sk-f619fe4d-75eb-468e-b37f-c03174005c71 div.sk-toggleable {background-color: white;}#sk-f619fe4d-75eb-468e-b37f-c03174005c71 label.sk-toggleable__label {cursor: pointer;display: block;width: 100%;margin-bottom: 0;padding: 0.3em;box-sizing: border-box;text-align: center;}#sk-f619fe4d-75eb-468e-b37f-c03174005c71 div.sk-toggleable__content {max-height: 0;max-width: 0;overflow: hidden;text-align: left;background-color: #f0f8ff;}#sk-f619fe4d-75eb-468e-b37f-c03174005c71 div.sk-toggleable__content pre {margin: 0.2em;color: black;border-radius: 0.25em;background-color: #f0f8ff;}#sk-f619fe4d-75eb-468e-b37f-c03174005c71 input.sk-toggleable__control:checked~div.sk-toggleable__content {max-height: 200px;max-width: 100%;overflow: auto;}#sk-f619fe4d-75eb-468e-b37f-c03174005c71 div.sk-estimator input.sk-toggleable__control:checked~label.sk-toggleable__label {background-color: #d4ebff;}#sk-f619fe4d-75eb-468e-b37f-c03174005c71 div.sk-label input.sk-toggleable__control:checked~label.sk-toggleable__label {background-color: #d4ebff;}#sk-f619fe4d-75eb-468e-b37f-c03174005c71 input.sk-hidden--visually {border: 0;clip: rect(1px 1px 1px 1px);clip: rect(1px, 1px, 1px, 1px);height: 1px;margin: -1px;overflow: hidden;padding: 0;position: absolute;width: 1px;}#sk-f619fe4d-75eb-468e-b37f-c03174005c71 div.sk-estimator {font-family: monospace;background-color: #f0f8ff;border: 1px dotted black;border-radius: 0.25em;box-sizing: border-box;margin-bottom: 0.5em;}#sk-f619fe4d-75eb-468e-b37f-c03174005c71 div.sk-estimator:hover {background-color: #d4ebff;}#sk-f619fe4d-75eb-468e-b37f-c03174005c71 div.sk-parallel-item::after {content: \"\";width: 100%;border-bottom: 1px solid gray;flex-grow: 1;}#sk-f619fe4d-75eb-468e-b37f-c03174005c71 div.sk-label:hover label.sk-toggleable__label {background-color: #d4ebff;}#sk-f619fe4d-75eb-468e-b37f-c03174005c71 div.sk-serial::before {content: \"\";position: absolute;border-left: 1px solid gray;box-sizing: border-box;top: 2em;bottom: 0;left: 50%;}#sk-f619fe4d-75eb-468e-b37f-c03174005c71 div.sk-serial {display: flex;flex-direction: column;align-items: center;background-color: white;padding-right: 0.2em;padding-left: 0.2em;}#sk-f619fe4d-75eb-468e-b37f-c03174005c71 div.sk-item {z-index: 1;}#sk-f619fe4d-75eb-468e-b37f-c03174005c71 div.sk-parallel {display: flex;align-items: stretch;justify-content: center;background-color: white;}#sk-f619fe4d-75eb-468e-b37f-c03174005c71 div.sk-parallel::before {content: \"\";position: absolute;border-left: 1px solid gray;box-sizing: border-box;top: 2em;bottom: 0;left: 50%;}#sk-f619fe4d-75eb-468e-b37f-c03174005c71 div.sk-parallel-item {display: flex;flex-direction: column;position: relative;background-color: white;}#sk-f619fe4d-75eb-468e-b37f-c03174005c71 div.sk-parallel-item:first-child::after {align-self: flex-end;width: 50%;}#sk-f619fe4d-75eb-468e-b37f-c03174005c71 div.sk-parallel-item:last-child::after {align-self: flex-start;width: 50%;}#sk-f619fe4d-75eb-468e-b37f-c03174005c71 div.sk-parallel-item:only-child::after {width: 0;}#sk-f619fe4d-75eb-468e-b37f-c03174005c71 div.sk-dashed-wrapped {border: 1px dashed gray;margin: 0 0.4em 0.5em 0.4em;box-sizing: border-box;padding-bottom: 0.4em;background-color: white;position: relative;}#sk-f619fe4d-75eb-468e-b37f-c03174005c71 div.sk-label label {font-family: monospace;font-weight: bold;background-color: white;display: inline-block;line-height: 1.2em;}#sk-f619fe4d-75eb-468e-b37f-c03174005c71 div.sk-label-container {position: relative;z-index: 2;text-align: center;}#sk-f619fe4d-75eb-468e-b37f-c03174005c71 div.sk-container {display: inline-block;position: relative;}</style><div id=\"sk-f619fe4d-75eb-468e-b37f-c03174005c71\" class\"sk-top-container\"><div class=\"sk-container\"><div class=\"sk-item\"><div class=\"sk-estimator sk-toggleable\"><input class=\"sk-toggleable__control sk-hidden--visually\" id=\"e741630c-1a70-490b-a2ad-bdfc8cae6a3c\" type=\"checkbox\" checked><label class=\"sk-toggleable__label\" for=\"e741630c-1a70-490b-a2ad-bdfc8cae6a3c\">LinearRegression</label><div class=\"sk-toggleable__content\"><pre>LinearRegression(copy_X=True, fit_intercept=True, n_jobs=None,\n",
       "                 normalize='deprecated', positive=False)</pre></div></div></div></div></div>"
      ],
      "text/plain": [
       "LinearRegression(copy_X=True, fit_intercept=True, n_jobs=None,\n",
       "                 normalize='deprecated', positive=False)"
      ]
     },
     "execution_count": 363,
     "metadata": {},
     "output_type": "execute_result"
    }
   ],
   "source": [
    "lr.fit(X, y)"
   ]
  },
  {
   "cell_type": "code",
   "execution_count": 364,
   "id": "8a5b52cd",
   "metadata": {},
   "outputs": [
    {
     "data": {
      "text/plain": [
       "152.1334841628965"
      ]
     },
     "execution_count": 364,
     "metadata": {},
     "output_type": "execute_result"
    }
   ],
   "source": [
    "lr.intercept_"
   ]
  },
  {
   "cell_type": "code",
   "execution_count": 365,
   "id": "ce066e81",
   "metadata": {},
   "outputs": [
    {
     "data": {
      "text/plain": [
       "array([ -10.01219782, -239.81908937,  519.83978679,  324.39042769,\n",
       "       -792.18416163,  476.74583782,  101.04457032,  177.06417623,\n",
       "        751.27932109,   67.62538639])"
      ]
     },
     "execution_count": 365,
     "metadata": {},
     "output_type": "execute_result"
    }
   ],
   "source": [
    "lr.coef_"
   ]
  },
  {
   "cell_type": "markdown",
   "id": "58200e74",
   "metadata": {},
   "source": [
    "### Display tuple (feature name, coefficient)"
   ]
  },
  {
   "cell_type": "code",
   "execution_count": 366,
   "id": "f74c1ffd",
   "metadata": {},
   "outputs": [
    {
     "data": {
      "text/plain": [
       "[('age', -10.012197817470962),\n",
       " ('sex', -239.81908936565566),\n",
       " ('bmi', 519.8397867901349),\n",
       " ('bp', 324.39042768937657),\n",
       " ('s1', -792.1841616283053),\n",
       " ('s2', 476.7458378236622),\n",
       " ('s3', 101.04457032134493),\n",
       " ('s4', 177.06417623225025),\n",
       " ('s5', 751.2793210873947),\n",
       " ('s6', 67.62538639104369)]"
      ]
     },
     "execution_count": 366,
     "metadata": {},
     "output_type": "execute_result"
    }
   ],
   "source": [
    "list(zip(dataset.feature_names, lr.coef_))"
   ]
  },
  {
   "cell_type": "markdown",
   "id": "d09ea313",
   "metadata": {},
   "source": [
    "## Visualize a decision tree two different ways\n",
    "\n",
    "Two new functions in scikit-learn 0.21 for visualizing [decision trees](https://scikit-learn.org/stable/modules/tree.html):\n",
    "+ [plot_tree](https://scikit-learn.org/stable/modules/generated/sklearn.tree.plot_tree.html): uses Matplotlib (not Graphviz!)\n",
    "+ [export_text](https://scikit-learn.org/stable/modules/generated/sklearn.tree.export_text.html): doesn't require any external libraries"
   ]
  },
  {
   "cell_type": "code",
   "execution_count": 367,
   "id": "19d7357e",
   "metadata": {},
   "outputs": [],
   "source": [
    "file_input_path = \"titanic_train.csv\"\n",
    "if not os.path.exists(file_input_path):\n",
    "    df_train = pd.read_csv(\"http://bit.ly/kaggletrain\")\n",
    "    df_train.to_csv(file_input_path, header=True, index=False, sep=\"\\t\")\n",
    "else:\n",
    "    df_train = pd.read_csv(file_input_path, header=0, sep=\"\\t\")\n",
    "\n",
    "df_train[\"Sex\"] = df_train[\"Sex\"].map({\"male\":0, \"female\":1})\n",
    "    \n",
    "features = [\"Pclass\", \"Fare\", \"Sex\"]\n",
    "X, y = df_train[features], df_train[\"Survived\"]"
   ]
  },
  {
   "cell_type": "code",
   "execution_count": 368,
   "id": "897f4ff1",
   "metadata": {},
   "outputs": [
    {
     "data": {
      "text/html": [
       "<div>\n",
       "<style scoped>\n",
       "    .dataframe tbody tr th:only-of-type {\n",
       "        vertical-align: middle;\n",
       "    }\n",
       "\n",
       "    .dataframe tbody tr th {\n",
       "        vertical-align: top;\n",
       "    }\n",
       "\n",
       "    .dataframe thead th {\n",
       "        text-align: right;\n",
       "    }\n",
       "</style>\n",
       "<table border=\"1\" class=\"dataframe\">\n",
       "  <thead>\n",
       "    <tr style=\"text-align: right;\">\n",
       "      <th></th>\n",
       "      <th>Pclass</th>\n",
       "      <th>Fare</th>\n",
       "      <th>Sex</th>\n",
       "    </tr>\n",
       "  </thead>\n",
       "  <tbody>\n",
       "    <tr>\n",
       "      <th>0</th>\n",
       "      <td>3</td>\n",
       "      <td>7.2500</td>\n",
       "      <td>0</td>\n",
       "    </tr>\n",
       "    <tr>\n",
       "      <th>1</th>\n",
       "      <td>1</td>\n",
       "      <td>71.2833</td>\n",
       "      <td>1</td>\n",
       "    </tr>\n",
       "    <tr>\n",
       "      <th>2</th>\n",
       "      <td>3</td>\n",
       "      <td>7.9250</td>\n",
       "      <td>1</td>\n",
       "    </tr>\n",
       "  </tbody>\n",
       "</table>\n",
       "</div>"
      ],
      "text/plain": [
       "   Pclass     Fare  Sex\n",
       "0       3   7.2500    0\n",
       "1       1  71.2833    1\n",
       "2       3   7.9250    1"
      ]
     },
     "execution_count": 368,
     "metadata": {},
     "output_type": "execute_result"
    }
   ],
   "source": [
    "X.head(3)"
   ]
  },
  {
   "cell_type": "code",
   "execution_count": 369,
   "id": "ead2d3de",
   "metadata": {},
   "outputs": [
    {
     "data": {
      "text/plain": [
       "0    0\n",
       "1    1\n",
       "2    1\n",
       "Name: Survived, dtype: int64"
      ]
     },
     "execution_count": 369,
     "metadata": {},
     "output_type": "execute_result"
    }
   ],
   "source": [
    "y.head(3)"
   ]
  },
  {
   "cell_type": "code",
   "execution_count": 370,
   "id": "b25b416d",
   "metadata": {},
   "outputs": [],
   "source": [
    "labels = [\"Deceased\", \"Survived\"]"
   ]
  },
  {
   "cell_type": "code",
   "execution_count": 371,
   "id": "4a505654",
   "metadata": {},
   "outputs": [],
   "source": [
    "from sklearn.tree import DecisionTreeClassifier"
   ]
  },
  {
   "cell_type": "code",
   "execution_count": 372,
   "id": "a4e67995",
   "metadata": {},
   "outputs": [
    {
     "data": {
      "text/html": [
       "<style>#sk-895e861b-64d7-4739-ad20-c7e436ba2f84 {color: black;background-color: white;}#sk-895e861b-64d7-4739-ad20-c7e436ba2f84 pre{padding: 0;}#sk-895e861b-64d7-4739-ad20-c7e436ba2f84 div.sk-toggleable {background-color: white;}#sk-895e861b-64d7-4739-ad20-c7e436ba2f84 label.sk-toggleable__label {cursor: pointer;display: block;width: 100%;margin-bottom: 0;padding: 0.3em;box-sizing: border-box;text-align: center;}#sk-895e861b-64d7-4739-ad20-c7e436ba2f84 div.sk-toggleable__content {max-height: 0;max-width: 0;overflow: hidden;text-align: left;background-color: #f0f8ff;}#sk-895e861b-64d7-4739-ad20-c7e436ba2f84 div.sk-toggleable__content pre {margin: 0.2em;color: black;border-radius: 0.25em;background-color: #f0f8ff;}#sk-895e861b-64d7-4739-ad20-c7e436ba2f84 input.sk-toggleable__control:checked~div.sk-toggleable__content {max-height: 200px;max-width: 100%;overflow: auto;}#sk-895e861b-64d7-4739-ad20-c7e436ba2f84 div.sk-estimator input.sk-toggleable__control:checked~label.sk-toggleable__label {background-color: #d4ebff;}#sk-895e861b-64d7-4739-ad20-c7e436ba2f84 div.sk-label input.sk-toggleable__control:checked~label.sk-toggleable__label {background-color: #d4ebff;}#sk-895e861b-64d7-4739-ad20-c7e436ba2f84 input.sk-hidden--visually {border: 0;clip: rect(1px 1px 1px 1px);clip: rect(1px, 1px, 1px, 1px);height: 1px;margin: -1px;overflow: hidden;padding: 0;position: absolute;width: 1px;}#sk-895e861b-64d7-4739-ad20-c7e436ba2f84 div.sk-estimator {font-family: monospace;background-color: #f0f8ff;border: 1px dotted black;border-radius: 0.25em;box-sizing: border-box;margin-bottom: 0.5em;}#sk-895e861b-64d7-4739-ad20-c7e436ba2f84 div.sk-estimator:hover {background-color: #d4ebff;}#sk-895e861b-64d7-4739-ad20-c7e436ba2f84 div.sk-parallel-item::after {content: \"\";width: 100%;border-bottom: 1px solid gray;flex-grow: 1;}#sk-895e861b-64d7-4739-ad20-c7e436ba2f84 div.sk-label:hover label.sk-toggleable__label {background-color: #d4ebff;}#sk-895e861b-64d7-4739-ad20-c7e436ba2f84 div.sk-serial::before {content: \"\";position: absolute;border-left: 1px solid gray;box-sizing: border-box;top: 2em;bottom: 0;left: 50%;}#sk-895e861b-64d7-4739-ad20-c7e436ba2f84 div.sk-serial {display: flex;flex-direction: column;align-items: center;background-color: white;padding-right: 0.2em;padding-left: 0.2em;}#sk-895e861b-64d7-4739-ad20-c7e436ba2f84 div.sk-item {z-index: 1;}#sk-895e861b-64d7-4739-ad20-c7e436ba2f84 div.sk-parallel {display: flex;align-items: stretch;justify-content: center;background-color: white;}#sk-895e861b-64d7-4739-ad20-c7e436ba2f84 div.sk-parallel::before {content: \"\";position: absolute;border-left: 1px solid gray;box-sizing: border-box;top: 2em;bottom: 0;left: 50%;}#sk-895e861b-64d7-4739-ad20-c7e436ba2f84 div.sk-parallel-item {display: flex;flex-direction: column;position: relative;background-color: white;}#sk-895e861b-64d7-4739-ad20-c7e436ba2f84 div.sk-parallel-item:first-child::after {align-self: flex-end;width: 50%;}#sk-895e861b-64d7-4739-ad20-c7e436ba2f84 div.sk-parallel-item:last-child::after {align-self: flex-start;width: 50%;}#sk-895e861b-64d7-4739-ad20-c7e436ba2f84 div.sk-parallel-item:only-child::after {width: 0;}#sk-895e861b-64d7-4739-ad20-c7e436ba2f84 div.sk-dashed-wrapped {border: 1px dashed gray;margin: 0 0.4em 0.5em 0.4em;box-sizing: border-box;padding-bottom: 0.4em;background-color: white;position: relative;}#sk-895e861b-64d7-4739-ad20-c7e436ba2f84 div.sk-label label {font-family: monospace;font-weight: bold;background-color: white;display: inline-block;line-height: 1.2em;}#sk-895e861b-64d7-4739-ad20-c7e436ba2f84 div.sk-label-container {position: relative;z-index: 2;text-align: center;}#sk-895e861b-64d7-4739-ad20-c7e436ba2f84 div.sk-container {display: inline-block;position: relative;}</style><div id=\"sk-895e861b-64d7-4739-ad20-c7e436ba2f84\" class\"sk-top-container\"><div class=\"sk-container\"><div class=\"sk-item\"><div class=\"sk-estimator sk-toggleable\"><input class=\"sk-toggleable__control sk-hidden--visually\" id=\"d90b9f85-b2ea-491c-ac1b-ca505b166613\" type=\"checkbox\" checked><label class=\"sk-toggleable__label\" for=\"d90b9f85-b2ea-491c-ac1b-ca505b166613\">DecisionTreeClassifier</label><div class=\"sk-toggleable__content\"><pre>DecisionTreeClassifier(ccp_alpha=0.0, class_weight=None, criterion='gini',\n",
       "                       max_depth=2, max_features=None, max_leaf_nodes=None,\n",
       "                       min_impurity_decrease=0.0, min_samples_leaf=1,\n",
       "                       min_samples_split=2, min_weight_fraction_leaf=0.0,\n",
       "                       random_state=0, splitter='best')</pre></div></div></div></div></div>"
      ],
      "text/plain": [
       "DecisionTreeClassifier(ccp_alpha=0.0, class_weight=None, criterion='gini',\n",
       "                       max_depth=2, max_features=None, max_leaf_nodes=None,\n",
       "                       min_impurity_decrease=0.0, min_samples_leaf=1,\n",
       "                       min_samples_split=2, min_weight_fraction_leaf=0.0,\n",
       "                       random_state=0, splitter='best')"
      ]
     },
     "execution_count": 372,
     "metadata": {},
     "output_type": "execute_result"
    }
   ],
   "source": [
    "dt = DecisionTreeClassifier(max_depth=2, random_state=0)\n",
    "dt"
   ]
  },
  {
   "cell_type": "code",
   "execution_count": 373,
   "id": "6d38b640",
   "metadata": {},
   "outputs": [
    {
     "data": {
      "text/html": [
       "<style>#sk-377a0943-05a7-4877-9083-8253829d8550 {color: black;background-color: white;}#sk-377a0943-05a7-4877-9083-8253829d8550 pre{padding: 0;}#sk-377a0943-05a7-4877-9083-8253829d8550 div.sk-toggleable {background-color: white;}#sk-377a0943-05a7-4877-9083-8253829d8550 label.sk-toggleable__label {cursor: pointer;display: block;width: 100%;margin-bottom: 0;padding: 0.3em;box-sizing: border-box;text-align: center;}#sk-377a0943-05a7-4877-9083-8253829d8550 div.sk-toggleable__content {max-height: 0;max-width: 0;overflow: hidden;text-align: left;background-color: #f0f8ff;}#sk-377a0943-05a7-4877-9083-8253829d8550 div.sk-toggleable__content pre {margin: 0.2em;color: black;border-radius: 0.25em;background-color: #f0f8ff;}#sk-377a0943-05a7-4877-9083-8253829d8550 input.sk-toggleable__control:checked~div.sk-toggleable__content {max-height: 200px;max-width: 100%;overflow: auto;}#sk-377a0943-05a7-4877-9083-8253829d8550 div.sk-estimator input.sk-toggleable__control:checked~label.sk-toggleable__label {background-color: #d4ebff;}#sk-377a0943-05a7-4877-9083-8253829d8550 div.sk-label input.sk-toggleable__control:checked~label.sk-toggleable__label {background-color: #d4ebff;}#sk-377a0943-05a7-4877-9083-8253829d8550 input.sk-hidden--visually {border: 0;clip: rect(1px 1px 1px 1px);clip: rect(1px, 1px, 1px, 1px);height: 1px;margin: -1px;overflow: hidden;padding: 0;position: absolute;width: 1px;}#sk-377a0943-05a7-4877-9083-8253829d8550 div.sk-estimator {font-family: monospace;background-color: #f0f8ff;border: 1px dotted black;border-radius: 0.25em;box-sizing: border-box;margin-bottom: 0.5em;}#sk-377a0943-05a7-4877-9083-8253829d8550 div.sk-estimator:hover {background-color: #d4ebff;}#sk-377a0943-05a7-4877-9083-8253829d8550 div.sk-parallel-item::after {content: \"\";width: 100%;border-bottom: 1px solid gray;flex-grow: 1;}#sk-377a0943-05a7-4877-9083-8253829d8550 div.sk-label:hover label.sk-toggleable__label {background-color: #d4ebff;}#sk-377a0943-05a7-4877-9083-8253829d8550 div.sk-serial::before {content: \"\";position: absolute;border-left: 1px solid gray;box-sizing: border-box;top: 2em;bottom: 0;left: 50%;}#sk-377a0943-05a7-4877-9083-8253829d8550 div.sk-serial {display: flex;flex-direction: column;align-items: center;background-color: white;padding-right: 0.2em;padding-left: 0.2em;}#sk-377a0943-05a7-4877-9083-8253829d8550 div.sk-item {z-index: 1;}#sk-377a0943-05a7-4877-9083-8253829d8550 div.sk-parallel {display: flex;align-items: stretch;justify-content: center;background-color: white;}#sk-377a0943-05a7-4877-9083-8253829d8550 div.sk-parallel::before {content: \"\";position: absolute;border-left: 1px solid gray;box-sizing: border-box;top: 2em;bottom: 0;left: 50%;}#sk-377a0943-05a7-4877-9083-8253829d8550 div.sk-parallel-item {display: flex;flex-direction: column;position: relative;background-color: white;}#sk-377a0943-05a7-4877-9083-8253829d8550 div.sk-parallel-item:first-child::after {align-self: flex-end;width: 50%;}#sk-377a0943-05a7-4877-9083-8253829d8550 div.sk-parallel-item:last-child::after {align-self: flex-start;width: 50%;}#sk-377a0943-05a7-4877-9083-8253829d8550 div.sk-parallel-item:only-child::after {width: 0;}#sk-377a0943-05a7-4877-9083-8253829d8550 div.sk-dashed-wrapped {border: 1px dashed gray;margin: 0 0.4em 0.5em 0.4em;box-sizing: border-box;padding-bottom: 0.4em;background-color: white;position: relative;}#sk-377a0943-05a7-4877-9083-8253829d8550 div.sk-label label {font-family: monospace;font-weight: bold;background-color: white;display: inline-block;line-height: 1.2em;}#sk-377a0943-05a7-4877-9083-8253829d8550 div.sk-label-container {position: relative;z-index: 2;text-align: center;}#sk-377a0943-05a7-4877-9083-8253829d8550 div.sk-container {display: inline-block;position: relative;}</style><div id=\"sk-377a0943-05a7-4877-9083-8253829d8550\" class\"sk-top-container\"><div class=\"sk-container\"><div class=\"sk-item\"><div class=\"sk-estimator sk-toggleable\"><input class=\"sk-toggleable__control sk-hidden--visually\" id=\"b371a37d-3246-4c37-9f45-bb916d2c33bc\" type=\"checkbox\" checked><label class=\"sk-toggleable__label\" for=\"b371a37d-3246-4c37-9f45-bb916d2c33bc\">DecisionTreeClassifier</label><div class=\"sk-toggleable__content\"><pre>DecisionTreeClassifier(ccp_alpha=0.0, class_weight=None, criterion='gini',\n",
       "                       max_depth=2, max_features=None, max_leaf_nodes=None,\n",
       "                       min_impurity_decrease=0.0, min_samples_leaf=1,\n",
       "                       min_samples_split=2, min_weight_fraction_leaf=0.0,\n",
       "                       random_state=0, splitter='best')</pre></div></div></div></div></div>"
      ],
      "text/plain": [
       "DecisionTreeClassifier(ccp_alpha=0.0, class_weight=None, criterion='gini',\n",
       "                       max_depth=2, max_features=None, max_leaf_nodes=None,\n",
       "                       min_impurity_decrease=0.0, min_samples_leaf=1,\n",
       "                       min_samples_split=2, min_weight_fraction_leaf=0.0,\n",
       "                       random_state=0, splitter='best')"
      ]
     },
     "execution_count": 373,
     "metadata": {},
     "output_type": "execute_result"
    }
   ],
   "source": [
    "dt.fit(X, y)"
   ]
  },
  {
   "cell_type": "code",
   "execution_count": 374,
   "id": "1eb05acd",
   "metadata": {},
   "outputs": [],
   "source": [
    "from sklearn.tree import plot_tree, export_text"
   ]
  },
  {
   "cell_type": "code",
   "execution_count": 375,
   "id": "6408a33c",
   "metadata": {},
   "outputs": [
    {
     "data": {
      "text/plain": [
       "[Text(223.2, 271.8, 'Sex <= 0.5\\ngini = 0.473\\nsamples = 891\\nvalue = [549, 342]\\nclass = Deceased'),\n",
       " Text(111.6, 163.08, 'Fare <= 26.269\\ngini = 0.306\\nsamples = 577\\nvalue = [468, 109]\\nclass = Deceased'),\n",
       " Text(55.8, 54.360000000000014, 'gini = 0.226\\nsamples = 415\\nvalue = [361, 54]\\nclass = Deceased'),\n",
       " Text(167.39999999999998, 54.360000000000014, 'gini = 0.448\\nsamples = 162\\nvalue = [107, 55]\\nclass = Deceased'),\n",
       " Text(334.79999999999995, 163.08, 'Pclass <= 2.5\\ngini = 0.383\\nsamples = 314\\nvalue = [81, 233]\\nclass = Survived'),\n",
       " Text(279.0, 54.360000000000014, 'gini = 0.1\\nsamples = 170\\nvalue = [9, 161]\\nclass = Survived'),\n",
       " Text(390.59999999999997, 54.360000000000014, 'gini = 0.5\\nsamples = 144\\nvalue = [72, 72]\\nclass = Deceased')]"
      ]
     },
     "execution_count": 375,
     "metadata": {},
     "output_type": "execute_result"
    },
    {
     "data": {
      "image/png": "[encoded data removed]",
      "text/plain": [
       "<Figure size 576x432 with 1 Axes>"
      ]
     },
     "metadata": {
      "needs_background": "light"
     },
     "output_type": "display_data"
    }
   ],
   "source": [
    "plt.figure(figsize=(8,6))\n",
    "plot_tree(dt, feature_names=features, class_names=labels, filled=True)"
   ]
  },
  {
   "cell_type": "code",
   "execution_count": 376,
   "id": "fd7f22ce",
   "metadata": {},
   "outputs": [
    {
     "name": "stdout",
     "output_type": "stream",
     "text": [
      "|--- Sex <= 0.50\n",
      "|   |--- Fare <= 26.27\n",
      "|   |   |--- weights: [361.00, 54.00] class: 0\n",
      "|   |--- Fare >  26.27\n",
      "|   |   |--- weights: [107.00, 55.00] class: 0\n",
      "|--- Sex >  0.50\n",
      "|   |--- Pclass <= 2.50\n",
      "|   |   |--- weights: [9.00, 161.00] class: 1\n",
      "|   |--- Pclass >  2.50\n",
      "|   |   |--- weights: [72.00, 72.00] class: 0\n",
      "\n"
     ]
    }
   ],
   "source": [
    "print(export_text(dt, feature_names=features, show_weights=True))"
   ]
  },
  {
   "cell_type": "markdown",
   "id": "9b38fd2f",
   "metadata": {},
   "source": [
    "# Model Ensembling"
   ]
  },
  {
   "cell_type": "markdown",
   "id": "612b5f02",
   "metadata": {},
   "source": [
    "## Ensemble various models using VotingClassifier or VotingRegressor\n",
    "\n",
    "Want to improve your classifier's accuracy? Create multiple models and ensemble them using [VotingClassifier](https://scikit-learn.org/stable/modules/ensemble.html#voting-classifier)\n",
    "\n",
    "P.S. [VotingRegressor](https://scikit-learn.org/stable/modules/ensemble.html#voting-regressor) is also available"
   ]
  },
  {
   "cell_type": "code",
   "execution_count": 377,
   "id": "17688c79",
   "metadata": {},
   "outputs": [],
   "source": [
    "file_input_path = \"titanic_train.csv\"\n",
    "if not os.path.exists(file_input_path):\n",
    "    df_train = pd.read_csv(\"http://bit.ly/kaggletrain\")\n",
    "    df_train.to_csv(file_input_path, header=True, index=False, sep=\"\\t\")\n",
    "else:\n",
    "    df_train = pd.read_csv(file_input_path, header=0, sep=\"\\t\")\n",
    "   \n",
    "features = [\"Pclass\", \"Parch\", \"SibSp\", \"Fare\"]\n",
    "X, y = df_train[features], df_train[\"Survived\"]"
   ]
  },
  {
   "cell_type": "code",
   "execution_count": 378,
   "id": "1415d685",
   "metadata": {},
   "outputs": [],
   "source": [
    "from sklearn.linear_model import LogisticRegression\n",
    "from sklearn.ensemble import RandomForestClassifier, VotingClassifier\n",
    "from sklearn.model_selection import cross_val_score"
   ]
  },
  {
   "cell_type": "code",
   "execution_count": 379,
   "id": "8bbc60e5",
   "metadata": {},
   "outputs": [
    {
     "data": {
      "text/html": [
       "<style>#sk-74c9c8a3-7dcb-4717-93fe-e31da152bdef {color: black;background-color: white;}#sk-74c9c8a3-7dcb-4717-93fe-e31da152bdef pre{padding: 0;}#sk-74c9c8a3-7dcb-4717-93fe-e31da152bdef div.sk-toggleable {background-color: white;}#sk-74c9c8a3-7dcb-4717-93fe-e31da152bdef label.sk-toggleable__label {cursor: pointer;display: block;width: 100%;margin-bottom: 0;padding: 0.3em;box-sizing: border-box;text-align: center;}#sk-74c9c8a3-7dcb-4717-93fe-e31da152bdef div.sk-toggleable__content {max-height: 0;max-width: 0;overflow: hidden;text-align: left;background-color: #f0f8ff;}#sk-74c9c8a3-7dcb-4717-93fe-e31da152bdef div.sk-toggleable__content pre {margin: 0.2em;color: black;border-radius: 0.25em;background-color: #f0f8ff;}#sk-74c9c8a3-7dcb-4717-93fe-e31da152bdef input.sk-toggleable__control:checked~div.sk-toggleable__content {max-height: 200px;max-width: 100%;overflow: auto;}#sk-74c9c8a3-7dcb-4717-93fe-e31da152bdef div.sk-estimator input.sk-toggleable__control:checked~label.sk-toggleable__label {background-color: #d4ebff;}#sk-74c9c8a3-7dcb-4717-93fe-e31da152bdef div.sk-label input.sk-toggleable__control:checked~label.sk-toggleable__label {background-color: #d4ebff;}#sk-74c9c8a3-7dcb-4717-93fe-e31da152bdef input.sk-hidden--visually {border: 0;clip: rect(1px 1px 1px 1px);clip: rect(1px, 1px, 1px, 1px);height: 1px;margin: -1px;overflow: hidden;padding: 0;position: absolute;width: 1px;}#sk-74c9c8a3-7dcb-4717-93fe-e31da152bdef div.sk-estimator {font-family: monospace;background-color: #f0f8ff;border: 1px dotted black;border-radius: 0.25em;box-sizing: border-box;margin-bottom: 0.5em;}#sk-74c9c8a3-7dcb-4717-93fe-e31da152bdef div.sk-estimator:hover {background-color: #d4ebff;}#sk-74c9c8a3-7dcb-4717-93fe-e31da152bdef div.sk-parallel-item::after {content: \"\";width: 100%;border-bottom: 1px solid gray;flex-grow: 1;}#sk-74c9c8a3-7dcb-4717-93fe-e31da152bdef div.sk-label:hover label.sk-toggleable__label {background-color: #d4ebff;}#sk-74c9c8a3-7dcb-4717-93fe-e31da152bdef div.sk-serial::before {content: \"\";position: absolute;border-left: 1px solid gray;box-sizing: border-box;top: 2em;bottom: 0;left: 50%;}#sk-74c9c8a3-7dcb-4717-93fe-e31da152bdef div.sk-serial {display: flex;flex-direction: column;align-items: center;background-color: white;padding-right: 0.2em;padding-left: 0.2em;}#sk-74c9c8a3-7dcb-4717-93fe-e31da152bdef div.sk-item {z-index: 1;}#sk-74c9c8a3-7dcb-4717-93fe-e31da152bdef div.sk-parallel {display: flex;align-items: stretch;justify-content: center;background-color: white;}#sk-74c9c8a3-7dcb-4717-93fe-e31da152bdef div.sk-parallel::before {content: \"\";position: absolute;border-left: 1px solid gray;box-sizing: border-box;top: 2em;bottom: 0;left: 50%;}#sk-74c9c8a3-7dcb-4717-93fe-e31da152bdef div.sk-parallel-item {display: flex;flex-direction: column;position: relative;background-color: white;}#sk-74c9c8a3-7dcb-4717-93fe-e31da152bdef div.sk-parallel-item:first-child::after {align-self: flex-end;width: 50%;}#sk-74c9c8a3-7dcb-4717-93fe-e31da152bdef div.sk-parallel-item:last-child::after {align-self: flex-start;width: 50%;}#sk-74c9c8a3-7dcb-4717-93fe-e31da152bdef div.sk-parallel-item:only-child::after {width: 0;}#sk-74c9c8a3-7dcb-4717-93fe-e31da152bdef div.sk-dashed-wrapped {border: 1px dashed gray;margin: 0 0.4em 0.5em 0.4em;box-sizing: border-box;padding-bottom: 0.4em;background-color: white;position: relative;}#sk-74c9c8a3-7dcb-4717-93fe-e31da152bdef div.sk-label label {font-family: monospace;font-weight: bold;background-color: white;display: inline-block;line-height: 1.2em;}#sk-74c9c8a3-7dcb-4717-93fe-e31da152bdef div.sk-label-container {position: relative;z-index: 2;text-align: center;}#sk-74c9c8a3-7dcb-4717-93fe-e31da152bdef div.sk-container {display: inline-block;position: relative;}</style><div id=\"sk-74c9c8a3-7dcb-4717-93fe-e31da152bdef\" class\"sk-top-container\"><div class=\"sk-container\"><div class=\"sk-item\"><div class=\"sk-estimator sk-toggleable\"><input class=\"sk-toggleable__control sk-hidden--visually\" id=\"49f528d7-842b-4224-8586-5da5be699e52\" type=\"checkbox\" checked><label class=\"sk-toggleable__label\" for=\"49f528d7-842b-4224-8586-5da5be699e52\">LogisticRegression</label><div class=\"sk-toggleable__content\"><pre>LogisticRegression(C=1.0, class_weight=None, dual=False, fit_intercept=True,\n",
       "                   intercept_scaling=1, l1_ratio=None, max_iter=100,\n",
       "                   multi_class='auto', n_jobs=None, penalty='l2',\n",
       "                   random_state=1, solver='liblinear', tol=0.0001, verbose=0,\n",
       "                   warm_start=False)</pre></div></div></div></div></div>"
      ],
      "text/plain": [
       "LogisticRegression(C=1.0, class_weight=None, dual=False, fit_intercept=True,\n",
       "                   intercept_scaling=1, l1_ratio=None, max_iter=100,\n",
       "                   multi_class='auto', n_jobs=None, penalty='l2',\n",
       "                   random_state=1, solver='liblinear', tol=0.0001, verbose=0,\n",
       "                   warm_start=False)"
      ]
     },
     "execution_count": 379,
     "metadata": {},
     "output_type": "execute_result"
    }
   ],
   "source": [
    "lr = LogisticRegression(solver=\"liblinear\", random_state=1)\n",
    "lr"
   ]
  },
  {
   "cell_type": "code",
   "execution_count": 380,
   "id": "d2d5a47b",
   "metadata": {},
   "outputs": [
    {
     "data": {
      "text/plain": [
       "array([0.61452514, 0.68539326, 0.6741573 , 0.70224719, 0.74157303])"
      ]
     },
     "execution_count": 380,
     "metadata": {},
     "output_type": "execute_result"
    }
   ],
   "source": [
    "scores = cross_val_score(lr, X, y)\n",
    "scores"
   ]
  },
  {
   "cell_type": "code",
   "execution_count": 381,
   "id": "a092f871",
   "metadata": {},
   "outputs": [
    {
     "data": {
      "text/plain": [
       "0.6835791852363318"
      ]
     },
     "execution_count": 381,
     "metadata": {},
     "output_type": "execute_result"
    }
   ],
   "source": [
    "scores.mean()"
   ]
  },
  {
   "cell_type": "code",
   "execution_count": 382,
   "id": "073e8b6f",
   "metadata": {},
   "outputs": [
    {
     "data": {
      "text/html": [
       "<style>#sk-545bad74-bf07-4b77-809f-768c59018c1e {color: black;background-color: white;}#sk-545bad74-bf07-4b77-809f-768c59018c1e pre{padding: 0;}#sk-545bad74-bf07-4b77-809f-768c59018c1e div.sk-toggleable {background-color: white;}#sk-545bad74-bf07-4b77-809f-768c59018c1e label.sk-toggleable__label {cursor: pointer;display: block;width: 100%;margin-bottom: 0;padding: 0.3em;box-sizing: border-box;text-align: center;}#sk-545bad74-bf07-4b77-809f-768c59018c1e div.sk-toggleable__content {max-height: 0;max-width: 0;overflow: hidden;text-align: left;background-color: #f0f8ff;}#sk-545bad74-bf07-4b77-809f-768c59018c1e div.sk-toggleable__content pre {margin: 0.2em;color: black;border-radius: 0.25em;background-color: #f0f8ff;}#sk-545bad74-bf07-4b77-809f-768c59018c1e input.sk-toggleable__control:checked~div.sk-toggleable__content {max-height: 200px;max-width: 100%;overflow: auto;}#sk-545bad74-bf07-4b77-809f-768c59018c1e div.sk-estimator input.sk-toggleable__control:checked~label.sk-toggleable__label {background-color: #d4ebff;}#sk-545bad74-bf07-4b77-809f-768c59018c1e div.sk-label input.sk-toggleable__control:checked~label.sk-toggleable__label {background-color: #d4ebff;}#sk-545bad74-bf07-4b77-809f-768c59018c1e input.sk-hidden--visually {border: 0;clip: rect(1px 1px 1px 1px);clip: rect(1px, 1px, 1px, 1px);height: 1px;margin: -1px;overflow: hidden;padding: 0;position: absolute;width: 1px;}#sk-545bad74-bf07-4b77-809f-768c59018c1e div.sk-estimator {font-family: monospace;background-color: #f0f8ff;border: 1px dotted black;border-radius: 0.25em;box-sizing: border-box;margin-bottom: 0.5em;}#sk-545bad74-bf07-4b77-809f-768c59018c1e div.sk-estimator:hover {background-color: #d4ebff;}#sk-545bad74-bf07-4b77-809f-768c59018c1e div.sk-parallel-item::after {content: \"\";width: 100%;border-bottom: 1px solid gray;flex-grow: 1;}#sk-545bad74-bf07-4b77-809f-768c59018c1e div.sk-label:hover label.sk-toggleable__label {background-color: #d4ebff;}#sk-545bad74-bf07-4b77-809f-768c59018c1e div.sk-serial::before {content: \"\";position: absolute;border-left: 1px solid gray;box-sizing: border-box;top: 2em;bottom: 0;left: 50%;}#sk-545bad74-bf07-4b77-809f-768c59018c1e div.sk-serial {display: flex;flex-direction: column;align-items: center;background-color: white;padding-right: 0.2em;padding-left: 0.2em;}#sk-545bad74-bf07-4b77-809f-768c59018c1e div.sk-item {z-index: 1;}#sk-545bad74-bf07-4b77-809f-768c59018c1e div.sk-parallel {display: flex;align-items: stretch;justify-content: center;background-color: white;}#sk-545bad74-bf07-4b77-809f-768c59018c1e div.sk-parallel::before {content: \"\";position: absolute;border-left: 1px solid gray;box-sizing: border-box;top: 2em;bottom: 0;left: 50%;}#sk-545bad74-bf07-4b77-809f-768c59018c1e div.sk-parallel-item {display: flex;flex-direction: column;position: relative;background-color: white;}#sk-545bad74-bf07-4b77-809f-768c59018c1e div.sk-parallel-item:first-child::after {align-self: flex-end;width: 50%;}#sk-545bad74-bf07-4b77-809f-768c59018c1e div.sk-parallel-item:last-child::after {align-self: flex-start;width: 50%;}#sk-545bad74-bf07-4b77-809f-768c59018c1e div.sk-parallel-item:only-child::after {width: 0;}#sk-545bad74-bf07-4b77-809f-768c59018c1e div.sk-dashed-wrapped {border: 1px dashed gray;margin: 0 0.4em 0.5em 0.4em;box-sizing: border-box;padding-bottom: 0.4em;background-color: white;position: relative;}#sk-545bad74-bf07-4b77-809f-768c59018c1e div.sk-label label {font-family: monospace;font-weight: bold;background-color: white;display: inline-block;line-height: 1.2em;}#sk-545bad74-bf07-4b77-809f-768c59018c1e div.sk-label-container {position: relative;z-index: 2;text-align: center;}#sk-545bad74-bf07-4b77-809f-768c59018c1e div.sk-container {display: inline-block;position: relative;}</style><div id=\"sk-545bad74-bf07-4b77-809f-768c59018c1e\" class\"sk-top-container\"><div class=\"sk-container\"><div class=\"sk-item\"><div class=\"sk-estimator sk-toggleable\"><input class=\"sk-toggleable__control sk-hidden--visually\" id=\"2a8df74e-843b-4ba4-8e76-788f2f69d586\" type=\"checkbox\" checked><label class=\"sk-toggleable__label\" for=\"2a8df74e-843b-4ba4-8e76-788f2f69d586\">RandomForestClassifier</label><div class=\"sk-toggleable__content\"><pre>RandomForestClassifier(bootstrap=True, ccp_alpha=0.0, class_weight=None,\n",
       "                       criterion='gini', max_depth=None, max_features=None,\n",
       "                       max_leaf_nodes=None, max_samples=None,\n",
       "                       min_impurity_decrease=0.0, min_samples_leaf=1,\n",
       "                       min_samples_split=2, min_weight_fraction_leaf=0.0,\n",
       "                       n_estimators=100, n_jobs=None, oob_score=False,\n",
       "                       random_state=1, verbose=0, warm_start=False)</pre></div></div></div></div></div>"
      ],
      "text/plain": [
       "RandomForestClassifier(bootstrap=True, ccp_alpha=0.0, class_weight=None,\n",
       "                       criterion='gini', max_depth=None, max_features=None,\n",
       "                       max_leaf_nodes=None, max_samples=None,\n",
       "                       min_impurity_decrease=0.0, min_samples_leaf=1,\n",
       "                       min_samples_split=2, min_weight_fraction_leaf=0.0,\n",
       "                       n_estimators=100, n_jobs=None, oob_score=False,\n",
       "                       random_state=1, verbose=0, warm_start=False)"
      ]
     },
     "execution_count": 382,
     "metadata": {},
     "output_type": "execute_result"
    }
   ],
   "source": [
    "rf = RandomForestClassifier(max_features=None, random_state=1)\n",
    "rf"
   ]
  },
  {
   "cell_type": "code",
   "execution_count": 383,
   "id": "41f468cd",
   "metadata": {},
   "outputs": [
    {
     "data": {
      "text/plain": [
       "array([0.64804469, 0.66292135, 0.68539326, 0.73595506, 0.74157303])"
      ]
     },
     "execution_count": 383,
     "metadata": {},
     "output_type": "execute_result"
    }
   ],
   "source": [
    "scores_rf = cross_val_score(rf, X, y)\n",
    "scores_rf"
   ]
  },
  {
   "cell_type": "code",
   "execution_count": 384,
   "id": "e423044b",
   "metadata": {},
   "outputs": [
    {
     "data": {
      "text/plain": [
       "0.6947774778733288"
      ]
     },
     "execution_count": 384,
     "metadata": {},
     "output_type": "execute_result"
    }
   ],
   "source": [
    "scores_rf.mean()"
   ]
  },
  {
   "cell_type": "markdown",
   "id": "893792d0",
   "metadata": {},
   "source": [
    "### Ensemble for improved accuracy\n",
    "\n",
    "voting{‘hard’, ‘soft’}, default=’hard’\n",
    "\n",
    "    If ‘hard’, uses predicted class labels for majority rule voting. Else if ‘soft’, predicts the class label based on the argmax of the sums of the predicted probabilities, which is recommended for an ensemble of well-calibrated classifiers.\n",
    "\n",
    "https://scikit-learn.org/stable/modules/generated/sklearn.ensemble.VotingClassifier.html#sklearn.ensemble.VotingClassifier"
   ]
  },
  {
   "cell_type": "code",
   "execution_count": 385,
   "id": "4705a536",
   "metadata": {},
   "outputs": [
    {
     "data": {
      "text/html": [
       "<style>#sk-e3014025-1478-4e53-95fd-0513c66d9670 {color: black;background-color: white;}#sk-e3014025-1478-4e53-95fd-0513c66d9670 pre{padding: 0;}#sk-e3014025-1478-4e53-95fd-0513c66d9670 div.sk-toggleable {background-color: white;}#sk-e3014025-1478-4e53-95fd-0513c66d9670 label.sk-toggleable__label {cursor: pointer;display: block;width: 100%;margin-bottom: 0;padding: 0.3em;box-sizing: border-box;text-align: center;}#sk-e3014025-1478-4e53-95fd-0513c66d9670 div.sk-toggleable__content {max-height: 0;max-width: 0;overflow: hidden;text-align: left;background-color: #f0f8ff;}#sk-e3014025-1478-4e53-95fd-0513c66d9670 div.sk-toggleable__content pre {margin: 0.2em;color: black;border-radius: 0.25em;background-color: #f0f8ff;}#sk-e3014025-1478-4e53-95fd-0513c66d9670 input.sk-toggleable__control:checked~div.sk-toggleable__content {max-height: 200px;max-width: 100%;overflow: auto;}#sk-e3014025-1478-4e53-95fd-0513c66d9670 div.sk-estimator input.sk-toggleable__control:checked~label.sk-toggleable__label {background-color: #d4ebff;}#sk-e3014025-1478-4e53-95fd-0513c66d9670 div.sk-label input.sk-toggleable__control:checked~label.sk-toggleable__label {background-color: #d4ebff;}#sk-e3014025-1478-4e53-95fd-0513c66d9670 input.sk-hidden--visually {border: 0;clip: rect(1px 1px 1px 1px);clip: rect(1px, 1px, 1px, 1px);height: 1px;margin: -1px;overflow: hidden;padding: 0;position: absolute;width: 1px;}#sk-e3014025-1478-4e53-95fd-0513c66d9670 div.sk-estimator {font-family: monospace;background-color: #f0f8ff;border: 1px dotted black;border-radius: 0.25em;box-sizing: border-box;margin-bottom: 0.5em;}#sk-e3014025-1478-4e53-95fd-0513c66d9670 div.sk-estimator:hover {background-color: #d4ebff;}#sk-e3014025-1478-4e53-95fd-0513c66d9670 div.sk-parallel-item::after {content: \"\";width: 100%;border-bottom: 1px solid gray;flex-grow: 1;}#sk-e3014025-1478-4e53-95fd-0513c66d9670 div.sk-label:hover label.sk-toggleable__label {background-color: #d4ebff;}#sk-e3014025-1478-4e53-95fd-0513c66d9670 div.sk-serial::before {content: \"\";position: absolute;border-left: 1px solid gray;box-sizing: border-box;top: 2em;bottom: 0;left: 50%;}#sk-e3014025-1478-4e53-95fd-0513c66d9670 div.sk-serial {display: flex;flex-direction: column;align-items: center;background-color: white;padding-right: 0.2em;padding-left: 0.2em;}#sk-e3014025-1478-4e53-95fd-0513c66d9670 div.sk-item {z-index: 1;}#sk-e3014025-1478-4e53-95fd-0513c66d9670 div.sk-parallel {display: flex;align-items: stretch;justify-content: center;background-color: white;}#sk-e3014025-1478-4e53-95fd-0513c66d9670 div.sk-parallel::before {content: \"\";position: absolute;border-left: 1px solid gray;box-sizing: border-box;top: 2em;bottom: 0;left: 50%;}#sk-e3014025-1478-4e53-95fd-0513c66d9670 div.sk-parallel-item {display: flex;flex-direction: column;position: relative;background-color: white;}#sk-e3014025-1478-4e53-95fd-0513c66d9670 div.sk-parallel-item:first-child::after {align-self: flex-end;width: 50%;}#sk-e3014025-1478-4e53-95fd-0513c66d9670 div.sk-parallel-item:last-child::after {align-self: flex-start;width: 50%;}#sk-e3014025-1478-4e53-95fd-0513c66d9670 div.sk-parallel-item:only-child::after {width: 0;}#sk-e3014025-1478-4e53-95fd-0513c66d9670 div.sk-dashed-wrapped {border: 1px dashed gray;margin: 0 0.4em 0.5em 0.4em;box-sizing: border-box;padding-bottom: 0.4em;background-color: white;position: relative;}#sk-e3014025-1478-4e53-95fd-0513c66d9670 div.sk-label label {font-family: monospace;font-weight: bold;background-color: white;display: inline-block;line-height: 1.2em;}#sk-e3014025-1478-4e53-95fd-0513c66d9670 div.sk-label-container {position: relative;z-index: 2;text-align: center;}#sk-e3014025-1478-4e53-95fd-0513c66d9670 div.sk-container {display: inline-block;position: relative;}</style><div id=\"sk-e3014025-1478-4e53-95fd-0513c66d9670\" class\"sk-top-container\"><div class=\"sk-container\"><div class=\"sk-item sk-dashed-wrapped\"><div class=\"sk-label-container\"><div class=\"sk-label sk-toggleable\"><input class=\"sk-toggleable__control sk-hidden--visually\" id=\"6a14dc5b-316e-44d6-b95a-6ed8f3c09704\" type=\"checkbox\" ><label class=\"sk-toggleable__label\" for=\"6a14dc5b-316e-44d6-b95a-6ed8f3c09704\">VotingClassifier</label><div class=\"sk-toggleable__content\"><pre>VotingClassifier(estimators=[('clf1',\n",
       "                              LogisticRegression(C=1.0, class_weight=None,\n",
       "                                                 dual=False, fit_intercept=True,\n",
       "                                                 intercept_scaling=1,\n",
       "                                                 l1_ratio=None, max_iter=100,\n",
       "                                                 multi_class='auto',\n",
       "                                                 n_jobs=None, penalty='l2',\n",
       "                                                 random_state=1,\n",
       "                                                 solver='liblinear', tol=0.0001,\n",
       "                                                 verbose=0, warm_start=False)),\n",
       "                             ('clf2',\n",
       "                              RandomForestClassifier(bootstrap=True,\n",
       "                                                     ccp_alpha=0.0,\n",
       "                                                     class_weight=None,\n",
       "                                                     criterion='gini',\n",
       "                                                     max_depth=None,\n",
       "                                                     max_features=None,\n",
       "                                                     max_leaf_nodes=None,\n",
       "                                                     max_samples=None,\n",
       "                                                     min_impurity_decrease=0.0,\n",
       "                                                     min_samples_leaf=1,\n",
       "                                                     min_samples_split=2,\n",
       "                                                     min_weight_fraction_leaf=0.0,\n",
       "                                                     n_estimators=100,\n",
       "                                                     n_jobs=None,\n",
       "                                                     oob_score=False,\n",
       "                                                     random_state=1, verbose=0,\n",
       "                                                     warm_start=False))],\n",
       "                 flatten_transform=True, n_jobs=None, verbose=False,\n",
       "                 voting='soft', weights=None)</pre></div></div></div><div class=\"sk-parallel\"><div class=\"sk-parallel-item\"><div class=\"sk-item\"><div class=\"sk-label-container\"><div class=\"sk-label sk-toggleable\"><label>clf1</label></div></div><div class=\"sk-serial\"><div class=\"sk-item\"><div class=\"sk-estimator sk-toggleable\"><input class=\"sk-toggleable__control sk-hidden--visually\" id=\"5090a232-bbd0-473c-b050-b8fe0df60181\" type=\"checkbox\" ><label class=\"sk-toggleable__label\" for=\"5090a232-bbd0-473c-b050-b8fe0df60181\">LogisticRegression</label><div class=\"sk-toggleable__content\"><pre>LogisticRegression(random_state=1, solver='liblinear')</pre></div></div></div></div></div></div><div class=\"sk-parallel-item\"><div class=\"sk-item\"><div class=\"sk-label-container\"><div class=\"sk-label sk-toggleable\"><label>clf2</label></div></div><div class=\"sk-serial\"><div class=\"sk-item\"><div class=\"sk-estimator sk-toggleable\"><input class=\"sk-toggleable__control sk-hidden--visually\" id=\"02653a93-4257-4c07-a05c-619efa426fed\" type=\"checkbox\" ><label class=\"sk-toggleable__label\" for=\"02653a93-4257-4c07-a05c-619efa426fed\">RandomForestClassifier</label><div class=\"sk-toggleable__content\"><pre>RandomForestClassifier(max_features=None, random_state=1)</pre></div></div></div></div></div></div></div></div></div></div>"
      ],
      "text/plain": [
       "VotingClassifier(estimators=[('clf1',\n",
       "                              LogisticRegression(C=1.0, class_weight=None,\n",
       "                                                 dual=False, fit_intercept=True,\n",
       "                                                 intercept_scaling=1,\n",
       "                                                 l1_ratio=None, max_iter=100,\n",
       "                                                 multi_class='auto',\n",
       "                                                 n_jobs=None, penalty='l2',\n",
       "                                                 random_state=1,\n",
       "                                                 solver='liblinear', tol=0.0001,\n",
       "                                                 verbose=0, warm_start=False)),\n",
       "                             ('clf2',\n",
       "                              RandomForestClassifier(bootstrap=True,\n",
       "                                                     ccp_alpha=0.0,\n",
       "                                                     class_weight=None,\n",
       "                                                     criterion='gini',\n",
       "                                                     max_depth=None,\n",
       "                                                     max_features=None,\n",
       "                                                     max_leaf_nodes=None,\n",
       "                                                     max_samples=None,\n",
       "                                                     min_impurity_decrease=0.0,\n",
       "                                                     min_samples_leaf=1,\n",
       "                                                     min_samples_split=2,\n",
       "                                                     min_weight_fraction_leaf=0.0,\n",
       "                                                     n_estimators=100,\n",
       "                                                     n_jobs=None,\n",
       "                                                     oob_score=False,\n",
       "                                                     random_state=1, verbose=0,\n",
       "                                                     warm_start=False))],\n",
       "                 flatten_transform=True, n_jobs=None, verbose=False,\n",
       "                 voting='soft', weights=None)"
      ]
     },
     "execution_count": 385,
     "metadata": {},
     "output_type": "execute_result"
    }
   ],
   "source": [
    "vc = VotingClassifier(\n",
    "    [(\"clf1\", lr), (\"clf2\", rf)],\n",
    "    voting=\"soft\"\n",
    ")\n",
    "vc"
   ]
  },
  {
   "cell_type": "code",
   "execution_count": 386,
   "id": "a52efa10",
   "metadata": {},
   "outputs": [
    {
     "data": {
      "text/plain": [
       "array([0.65921788, 0.6741573 , 0.74157303, 0.76404494, 0.78651685])"
      ]
     },
     "execution_count": 386,
     "metadata": {},
     "output_type": "execute_result"
    }
   ],
   "source": [
    "scores_vc = cross_val_score(vc, X, y)\n",
    "scores_vc"
   ]
  },
  {
   "cell_type": "code",
   "execution_count": 387,
   "id": "f58e3b79",
   "metadata": {},
   "outputs": [
    {
     "data": {
      "text/plain": [
       "0.7251020023852865"
      ]
     },
     "execution_count": 387,
     "metadata": {},
     "output_type": "execute_result"
    }
   ],
   "source": [
    "scores_vc.mean()"
   ]
  },
  {
   "cell_type": "markdown",
   "id": "ff7a01af",
   "metadata": {},
   "source": [
    "## Tune the parameters of a VotingClassifier or VotingRegressor\n",
    "\n",
    "Want to improve the accuracy of your VotingClassifier? Try tuning the 'voting' and 'weights' parameters to change how predictions are combined!\n",
    "\n",
    "P.S. If you're using VotingRegressor, just tune the 'weights' parameter"
   ]
  },
  {
   "cell_type": "code",
   "execution_count": 388,
   "id": "f190e0a3",
   "metadata": {},
   "outputs": [],
   "source": [
    "file_input_path = \"titanic_train.csv\"\n",
    "if not os.path.exists(file_input_path):\n",
    "    df_train = pd.read_csv(\"http://bit.ly/kaggletrain\")\n",
    "    df_train.to_csv(file_input_path, header=True, index=False, sep=\"\\t\")\n",
    "else:\n",
    "    df_train = pd.read_csv(file_input_path, header=0, sep=\"\\t\")\n",
    "   \n",
    "features = [\"Pclass\", \"Parch\", \"SibSp\", \"Fare\"]\n",
    "X, y = df_train[features], df_train[\"Survived\"]"
   ]
  },
  {
   "cell_type": "code",
   "execution_count": 389,
   "id": "a6a2745f",
   "metadata": {},
   "outputs": [],
   "source": [
    "from sklearn.linear_model import LogisticRegression\n",
    "from sklearn.naive_bayes import MultinomialNB\n",
    "from sklearn.ensemble import RandomForestClassifier, VotingClassifier\n",
    "from sklearn.model_selection import cross_val_score, GridSearchCV"
   ]
  },
  {
   "cell_type": "code",
   "execution_count": 390,
   "id": "1f1f0a95",
   "metadata": {},
   "outputs": [],
   "source": [
    "lr = LogisticRegression(solver=\"liblinear\", random_state=1)\n",
    "rf = RandomForestClassifier(max_features=None, random_state=1)\n",
    "nb = MultinomialNB()"
   ]
  },
  {
   "cell_type": "markdown",
   "id": "4b52ebf0",
   "metadata": {},
   "source": [
    "### Ensemble of various models"
   ]
  },
  {
   "cell_type": "code",
   "execution_count": 391,
   "id": "15ad2a0b",
   "metadata": {},
   "outputs": [
    {
     "data": {
      "text/html": [
       "<style>#sk-c04ecd6f-7025-40fc-bef5-a51ae266b4ff {color: black;background-color: white;}#sk-c04ecd6f-7025-40fc-bef5-a51ae266b4ff pre{padding: 0;}#sk-c04ecd6f-7025-40fc-bef5-a51ae266b4ff div.sk-toggleable {background-color: white;}#sk-c04ecd6f-7025-40fc-bef5-a51ae266b4ff label.sk-toggleable__label {cursor: pointer;display: block;width: 100%;margin-bottom: 0;padding: 0.3em;box-sizing: border-box;text-align: center;}#sk-c04ecd6f-7025-40fc-bef5-a51ae266b4ff div.sk-toggleable__content {max-height: 0;max-width: 0;overflow: hidden;text-align: left;background-color: #f0f8ff;}#sk-c04ecd6f-7025-40fc-bef5-a51ae266b4ff div.sk-toggleable__content pre {margin: 0.2em;color: black;border-radius: 0.25em;background-color: #f0f8ff;}#sk-c04ecd6f-7025-40fc-bef5-a51ae266b4ff input.sk-toggleable__control:checked~div.sk-toggleable__content {max-height: 200px;max-width: 100%;overflow: auto;}#sk-c04ecd6f-7025-40fc-bef5-a51ae266b4ff div.sk-estimator input.sk-toggleable__control:checked~label.sk-toggleable__label {background-color: #d4ebff;}#sk-c04ecd6f-7025-40fc-bef5-a51ae266b4ff div.sk-label input.sk-toggleable__control:checked~label.sk-toggleable__label {background-color: #d4ebff;}#sk-c04ecd6f-7025-40fc-bef5-a51ae266b4ff input.sk-hidden--visually {border: 0;clip: rect(1px 1px 1px 1px);clip: rect(1px, 1px, 1px, 1px);height: 1px;margin: -1px;overflow: hidden;padding: 0;position: absolute;width: 1px;}#sk-c04ecd6f-7025-40fc-bef5-a51ae266b4ff div.sk-estimator {font-family: monospace;background-color: #f0f8ff;border: 1px dotted black;border-radius: 0.25em;box-sizing: border-box;margin-bottom: 0.5em;}#sk-c04ecd6f-7025-40fc-bef5-a51ae266b4ff div.sk-estimator:hover {background-color: #d4ebff;}#sk-c04ecd6f-7025-40fc-bef5-a51ae266b4ff div.sk-parallel-item::after {content: \"\";width: 100%;border-bottom: 1px solid gray;flex-grow: 1;}#sk-c04ecd6f-7025-40fc-bef5-a51ae266b4ff div.sk-label:hover label.sk-toggleable__label {background-color: #d4ebff;}#sk-c04ecd6f-7025-40fc-bef5-a51ae266b4ff div.sk-serial::before {content: \"\";position: absolute;border-left: 1px solid gray;box-sizing: border-box;top: 2em;bottom: 0;left: 50%;}#sk-c04ecd6f-7025-40fc-bef5-a51ae266b4ff div.sk-serial {display: flex;flex-direction: column;align-items: center;background-color: white;padding-right: 0.2em;padding-left: 0.2em;}#sk-c04ecd6f-7025-40fc-bef5-a51ae266b4ff div.sk-item {z-index: 1;}#sk-c04ecd6f-7025-40fc-bef5-a51ae266b4ff div.sk-parallel {display: flex;align-items: stretch;justify-content: center;background-color: white;}#sk-c04ecd6f-7025-40fc-bef5-a51ae266b4ff div.sk-parallel::before {content: \"\";position: absolute;border-left: 1px solid gray;box-sizing: border-box;top: 2em;bottom: 0;left: 50%;}#sk-c04ecd6f-7025-40fc-bef5-a51ae266b4ff div.sk-parallel-item {display: flex;flex-direction: column;position: relative;background-color: white;}#sk-c04ecd6f-7025-40fc-bef5-a51ae266b4ff div.sk-parallel-item:first-child::after {align-self: flex-end;width: 50%;}#sk-c04ecd6f-7025-40fc-bef5-a51ae266b4ff div.sk-parallel-item:last-child::after {align-self: flex-start;width: 50%;}#sk-c04ecd6f-7025-40fc-bef5-a51ae266b4ff div.sk-parallel-item:only-child::after {width: 0;}#sk-c04ecd6f-7025-40fc-bef5-a51ae266b4ff div.sk-dashed-wrapped {border: 1px dashed gray;margin: 0 0.4em 0.5em 0.4em;box-sizing: border-box;padding-bottom: 0.4em;background-color: white;position: relative;}#sk-c04ecd6f-7025-40fc-bef5-a51ae266b4ff div.sk-label label {font-family: monospace;font-weight: bold;background-color: white;display: inline-block;line-height: 1.2em;}#sk-c04ecd6f-7025-40fc-bef5-a51ae266b4ff div.sk-label-container {position: relative;z-index: 2;text-align: center;}#sk-c04ecd6f-7025-40fc-bef5-a51ae266b4ff div.sk-container {display: inline-block;position: relative;}</style><div id=\"sk-c04ecd6f-7025-40fc-bef5-a51ae266b4ff\" class\"sk-top-container\"><div class=\"sk-container\"><div class=\"sk-item sk-dashed-wrapped\"><div class=\"sk-label-container\"><div class=\"sk-label sk-toggleable\"><input class=\"sk-toggleable__control sk-hidden--visually\" id=\"8d4e31be-152c-46e5-adf7-f5a83d425f7c\" type=\"checkbox\" ><label class=\"sk-toggleable__label\" for=\"8d4e31be-152c-46e5-adf7-f5a83d425f7c\">VotingClassifier</label><div class=\"sk-toggleable__content\"><pre>VotingClassifier(estimators=[('clf1',\n",
       "                              LogisticRegression(C=1.0, class_weight=None,\n",
       "                                                 dual=False, fit_intercept=True,\n",
       "                                                 intercept_scaling=1,\n",
       "                                                 l1_ratio=None, max_iter=100,\n",
       "                                                 multi_class='auto',\n",
       "                                                 n_jobs=None, penalty='l2',\n",
       "                                                 random_state=1,\n",
       "                                                 solver='liblinear', tol=0.0001,\n",
       "                                                 verbose=0, warm_start=False)),\n",
       "                             ('clf2',\n",
       "                              RandomForestClassifier(bootstrap=True,\n",
       "                                                     ccp_alpha=0.0,\n",
       "                                                     class_weight=No...\n",
       "                                                     max_leaf_nodes=None,\n",
       "                                                     max_samples=None,\n",
       "                                                     min_impurity_decrease=0.0,\n",
       "                                                     min_samples_leaf=1,\n",
       "                                                     min_samples_split=2,\n",
       "                                                     min_weight_fraction_leaf=0.0,\n",
       "                                                     n_estimators=100,\n",
       "                                                     n_jobs=None,\n",
       "                                                     oob_score=False,\n",
       "                                                     random_state=1, verbose=0,\n",
       "                                                     warm_start=False)),\n",
       "                             ('clf3',\n",
       "                              MultinomialNB(alpha=1.0, class_prior=None,\n",
       "                                            fit_prior=True))],\n",
       "                 flatten_transform=True, n_jobs=None, verbose=False,\n",
       "                 voting='hard', weights=None)</pre></div></div></div><div class=\"sk-parallel\"><div class=\"sk-parallel-item\"><div class=\"sk-item\"><div class=\"sk-label-container\"><div class=\"sk-label sk-toggleable\"><label>clf1</label></div></div><div class=\"sk-serial\"><div class=\"sk-item\"><div class=\"sk-estimator sk-toggleable\"><input class=\"sk-toggleable__control sk-hidden--visually\" id=\"bcecf222-a1ff-4d0b-9f29-f6ab73a16d9a\" type=\"checkbox\" ><label class=\"sk-toggleable__label\" for=\"bcecf222-a1ff-4d0b-9f29-f6ab73a16d9a\">LogisticRegression</label><div class=\"sk-toggleable__content\"><pre>LogisticRegression(random_state=1, solver='liblinear')</pre></div></div></div></div></div></div><div class=\"sk-parallel-item\"><div class=\"sk-item\"><div class=\"sk-label-container\"><div class=\"sk-label sk-toggleable\"><label>clf2</label></div></div><div class=\"sk-serial\"><div class=\"sk-item\"><div class=\"sk-estimator sk-toggleable\"><input class=\"sk-toggleable__control sk-hidden--visually\" id=\"95492bf9-76f6-43ef-b16d-dadd2ef2044f\" type=\"checkbox\" ><label class=\"sk-toggleable__label\" for=\"95492bf9-76f6-43ef-b16d-dadd2ef2044f\">RandomForestClassifier</label><div class=\"sk-toggleable__content\"><pre>RandomForestClassifier(max_features=None, random_state=1)</pre></div></div></div></div></div></div><div class=\"sk-parallel-item\"><div class=\"sk-item\"><div class=\"sk-label-container\"><div class=\"sk-label sk-toggleable\"><label>clf3</label></div></div><div class=\"sk-serial\"><div class=\"sk-item\"><div class=\"sk-estimator sk-toggleable\"><input class=\"sk-toggleable__control sk-hidden--visually\" id=\"33305f8e-5ccc-47a3-9f0d-3abfb6620af3\" type=\"checkbox\" ><label class=\"sk-toggleable__label\" for=\"33305f8e-5ccc-47a3-9f0d-3abfb6620af3\">MultinomialNB</label><div class=\"sk-toggleable__content\"><pre>MultinomialNB()</pre></div></div></div></div></div></div></div></div></div></div>"
      ],
      "text/plain": [
       "VotingClassifier(estimators=[('clf1',\n",
       "                              LogisticRegression(C=1.0, class_weight=None,\n",
       "                                                 dual=False, fit_intercept=True,\n",
       "                                                 intercept_scaling=1,\n",
       "                                                 l1_ratio=None, max_iter=100,\n",
       "                                                 multi_class='auto',\n",
       "                                                 n_jobs=None, penalty='l2',\n",
       "                                                 random_state=1,\n",
       "                                                 solver='liblinear', tol=0.0001,\n",
       "                                                 verbose=0, warm_start=False)),\n",
       "                             ('clf2',\n",
       "                              RandomForestClassifier(bootstrap=True,\n",
       "                                                     ccp_alpha=0.0,\n",
       "                                                     class_weight=No...\n",
       "                                                     max_leaf_nodes=None,\n",
       "                                                     max_samples=None,\n",
       "                                                     min_impurity_decrease=0.0,\n",
       "                                                     min_samples_leaf=1,\n",
       "                                                     min_samples_split=2,\n",
       "                                                     min_weight_fraction_leaf=0.0,\n",
       "                                                     n_estimators=100,\n",
       "                                                     n_jobs=None,\n",
       "                                                     oob_score=False,\n",
       "                                                     random_state=1, verbose=0,\n",
       "                                                     warm_start=False)),\n",
       "                             ('clf3',\n",
       "                              MultinomialNB(alpha=1.0, class_prior=None,\n",
       "                                            fit_prior=True))],\n",
       "                 flatten_transform=True, n_jobs=None, verbose=False,\n",
       "                 voting='hard', weights=None)"
      ]
     },
     "execution_count": 391,
     "metadata": {},
     "output_type": "execute_result"
    }
   ],
   "source": [
    "vc = VotingClassifier(\n",
    "    [(\"clf1\", lr), (\"clf2\", rf), (\"clf3\", nb)], \n",
    "    voting=\"hard\"\n",
    ")\n",
    "vc"
   ]
  },
  {
   "cell_type": "code",
   "execution_count": 392,
   "id": "5c3cc2fe",
   "metadata": {},
   "outputs": [
    {
     "data": {
      "text/plain": [
       "array([0.62011173, 0.68539326, 0.6741573 , 0.74157303, 0.76404494])"
      ]
     },
     "execution_count": 392,
     "metadata": {},
     "output_type": "execute_result"
    }
   ],
   "source": [
    "scores = cross_val_score(vc, X, y)\n",
    "scores"
   ]
  },
  {
   "cell_type": "code",
   "execution_count": 393,
   "id": "bc060a96",
   "metadata": {},
   "outputs": [
    {
     "data": {
      "text/plain": [
       "0.6970560542338836"
      ]
     },
     "execution_count": 393,
     "metadata": {},
     "output_type": "execute_result"
    }
   ],
   "source": [
    "scores.mean()"
   ]
  },
  {
   "cell_type": "markdown",
   "id": "5d28f1a0",
   "metadata": {},
   "source": [
    "### Define parameters for GridSearchCV"
   ]
  },
  {
   "cell_type": "code",
   "execution_count": 394,
   "id": "b507b0c5",
   "metadata": {},
   "outputs": [],
   "source": [
    "params = {\n",
    "    \"voting\": [\"hard\", \"soft\"],\n",
    "    \"weights\": [(1,1,1), (2,1,1), (1,2,1), (1,1,2)]\n",
    "}"
   ]
  },
  {
   "cell_type": "code",
   "execution_count": 395,
   "id": "f9e08fbc",
   "metadata": {},
   "outputs": [
    {
     "data": {
      "text/html": [
       "<style>#sk-a74ad3b1-c743-4298-9f68-6d6463a1cb75 {color: black;background-color: white;}#sk-a74ad3b1-c743-4298-9f68-6d6463a1cb75 pre{padding: 0;}#sk-a74ad3b1-c743-4298-9f68-6d6463a1cb75 div.sk-toggleable {background-color: white;}#sk-a74ad3b1-c743-4298-9f68-6d6463a1cb75 label.sk-toggleable__label {cursor: pointer;display: block;width: 100%;margin-bottom: 0;padding: 0.3em;box-sizing: border-box;text-align: center;}#sk-a74ad3b1-c743-4298-9f68-6d6463a1cb75 div.sk-toggleable__content {max-height: 0;max-width: 0;overflow: hidden;text-align: left;background-color: #f0f8ff;}#sk-a74ad3b1-c743-4298-9f68-6d6463a1cb75 div.sk-toggleable__content pre {margin: 0.2em;color: black;border-radius: 0.25em;background-color: #f0f8ff;}#sk-a74ad3b1-c743-4298-9f68-6d6463a1cb75 input.sk-toggleable__control:checked~div.sk-toggleable__content {max-height: 200px;max-width: 100%;overflow: auto;}#sk-a74ad3b1-c743-4298-9f68-6d6463a1cb75 div.sk-estimator input.sk-toggleable__control:checked~label.sk-toggleable__label {background-color: #d4ebff;}#sk-a74ad3b1-c743-4298-9f68-6d6463a1cb75 div.sk-label input.sk-toggleable__control:checked~label.sk-toggleable__label {background-color: #d4ebff;}#sk-a74ad3b1-c743-4298-9f68-6d6463a1cb75 input.sk-hidden--visually {border: 0;clip: rect(1px 1px 1px 1px);clip: rect(1px, 1px, 1px, 1px);height: 1px;margin: -1px;overflow: hidden;padding: 0;position: absolute;width: 1px;}#sk-a74ad3b1-c743-4298-9f68-6d6463a1cb75 div.sk-estimator {font-family: monospace;background-color: #f0f8ff;border: 1px dotted black;border-radius: 0.25em;box-sizing: border-box;margin-bottom: 0.5em;}#sk-a74ad3b1-c743-4298-9f68-6d6463a1cb75 div.sk-estimator:hover {background-color: #d4ebff;}#sk-a74ad3b1-c743-4298-9f68-6d6463a1cb75 div.sk-parallel-item::after {content: \"\";width: 100%;border-bottom: 1px solid gray;flex-grow: 1;}#sk-a74ad3b1-c743-4298-9f68-6d6463a1cb75 div.sk-label:hover label.sk-toggleable__label {background-color: #d4ebff;}#sk-a74ad3b1-c743-4298-9f68-6d6463a1cb75 div.sk-serial::before {content: \"\";position: absolute;border-left: 1px solid gray;box-sizing: border-box;top: 2em;bottom: 0;left: 50%;}#sk-a74ad3b1-c743-4298-9f68-6d6463a1cb75 div.sk-serial {display: flex;flex-direction: column;align-items: center;background-color: white;padding-right: 0.2em;padding-left: 0.2em;}#sk-a74ad3b1-c743-4298-9f68-6d6463a1cb75 div.sk-item {z-index: 1;}#sk-a74ad3b1-c743-4298-9f68-6d6463a1cb75 div.sk-parallel {display: flex;align-items: stretch;justify-content: center;background-color: white;}#sk-a74ad3b1-c743-4298-9f68-6d6463a1cb75 div.sk-parallel::before {content: \"\";position: absolute;border-left: 1px solid gray;box-sizing: border-box;top: 2em;bottom: 0;left: 50%;}#sk-a74ad3b1-c743-4298-9f68-6d6463a1cb75 div.sk-parallel-item {display: flex;flex-direction: column;position: relative;background-color: white;}#sk-a74ad3b1-c743-4298-9f68-6d6463a1cb75 div.sk-parallel-item:first-child::after {align-self: flex-end;width: 50%;}#sk-a74ad3b1-c743-4298-9f68-6d6463a1cb75 div.sk-parallel-item:last-child::after {align-self: flex-start;width: 50%;}#sk-a74ad3b1-c743-4298-9f68-6d6463a1cb75 div.sk-parallel-item:only-child::after {width: 0;}#sk-a74ad3b1-c743-4298-9f68-6d6463a1cb75 div.sk-dashed-wrapped {border: 1px dashed gray;margin: 0 0.4em 0.5em 0.4em;box-sizing: border-box;padding-bottom: 0.4em;background-color: white;position: relative;}#sk-a74ad3b1-c743-4298-9f68-6d6463a1cb75 div.sk-label label {font-family: monospace;font-weight: bold;background-color: white;display: inline-block;line-height: 1.2em;}#sk-a74ad3b1-c743-4298-9f68-6d6463a1cb75 div.sk-label-container {position: relative;z-index: 2;text-align: center;}#sk-a74ad3b1-c743-4298-9f68-6d6463a1cb75 div.sk-container {display: inline-block;position: relative;}</style><div id=\"sk-a74ad3b1-c743-4298-9f68-6d6463a1cb75\" class\"sk-top-container\"><div class=\"sk-container\"><div class=\"sk-item sk-dashed-wrapped\"><div class=\"sk-label-container\"><div class=\"sk-label sk-toggleable\"><input class=\"sk-toggleable__control sk-hidden--visually\" id=\"22891027-ad17-4a26-baf1-c95ddd6f45a2\" type=\"checkbox\" ><label class=\"sk-toggleable__label\" for=\"22891027-ad17-4a26-baf1-c95ddd6f45a2\">GridSearchCV</label><div class=\"sk-toggleable__content\"><pre>GridSearchCV(cv=None, error_score=nan,\n",
       "             estimator=VotingClassifier(estimators=[('clf1',\n",
       "                                                     LogisticRegression(C=1.0,\n",
       "                                                                        class_weight=None,\n",
       "                                                                        dual=False,\n",
       "                                                                        fit_intercept=True,\n",
       "                                                                        intercept_scaling=1,\n",
       "                                                                        l1_ratio=None,\n",
       "                                                                        max_iter=100,\n",
       "                                                                        multi_class='auto',\n",
       "                                                                        n_jobs=None,\n",
       "                                                                        penalty='l2',\n",
       "                                                                        random_state=1,\n",
       "                                                                        solver='liblinear',\n",
       "                                                                        tol=0.0001,\n",
       "                                                                        verbose=0,\n",
       "                                                                        warm_start=False)),\n",
       "                                                    ('clf2',\n",
       "                                                     RandomForestClassifi...\n",
       "                                                                            verbose=0,\n",
       "                                                                            warm_start=False)),\n",
       "                                                    ('clf3',\n",
       "                                                     MultinomialNB(alpha=1.0,\n",
       "                                                                   class_prior=None,\n",
       "                                                                   fit_prior=True))],\n",
       "                                        flatten_transform=True, n_jobs=None,\n",
       "                                        verbose=False, voting='hard',\n",
       "                                        weights=None),\n",
       "             n_jobs=None,\n",
       "             param_grid={'voting': ['hard', 'soft'],\n",
       "                         'weights': [(1, 1, 1), (2, 1, 1), (1, 2, 1),\n",
       "                                     (1, 1, 2)]},\n",
       "             pre_dispatch='2*n_jobs', refit=True, return_train_score=False,\n",
       "             scoring=None, verbose=0)</pre></div></div></div><div class=\"sk-parallel\"><div class=\"sk-parallel-item\"><div class=\"sk-item\"><div class=\"sk-serial\"><div class=\"sk-item sk-dashed-wrapped\"><div class=\"sk-parallel\"><div class=\"sk-parallel-item\"><div class=\"sk-item\"><div class=\"sk-label-container\"><div class=\"sk-label sk-toggleable\"><label>clf1</label></div></div><div class=\"sk-serial\"><div class=\"sk-item\"><div class=\"sk-estimator sk-toggleable\"><input class=\"sk-toggleable__control sk-hidden--visually\" id=\"28d521a6-273c-4146-822f-2abfc6791439\" type=\"checkbox\" ><label class=\"sk-toggleable__label\" for=\"28d521a6-273c-4146-822f-2abfc6791439\">LogisticRegression</label><div class=\"sk-toggleable__content\"><pre>LogisticRegression(random_state=1, solver='liblinear')</pre></div></div></div></div></div></div><div class=\"sk-parallel-item\"><div class=\"sk-item\"><div class=\"sk-label-container\"><div class=\"sk-label sk-toggleable\"><label>clf2</label></div></div><div class=\"sk-serial\"><div class=\"sk-item\"><div class=\"sk-estimator sk-toggleable\"><input class=\"sk-toggleable__control sk-hidden--visually\" id=\"746ff99a-2cb7-4beb-b81e-deea8fb10625\" type=\"checkbox\" ><label class=\"sk-toggleable__label\" for=\"746ff99a-2cb7-4beb-b81e-deea8fb10625\">RandomForestClassifier</label><div class=\"sk-toggleable__content\"><pre>RandomForestClassifier(max_features=None, random_state=1)</pre></div></div></div></div></div></div><div class=\"sk-parallel-item\"><div class=\"sk-item\"><div class=\"sk-label-container\"><div class=\"sk-label sk-toggleable\"><label>clf3</label></div></div><div class=\"sk-serial\"><div class=\"sk-item\"><div class=\"sk-estimator sk-toggleable\"><input class=\"sk-toggleable__control sk-hidden--visually\" id=\"2731df0b-7baa-40ff-8e91-42fff10e3a1b\" type=\"checkbox\" ><label class=\"sk-toggleable__label\" for=\"2731df0b-7baa-40ff-8e91-42fff10e3a1b\">MultinomialNB</label><div class=\"sk-toggleable__content\"><pre>MultinomialNB()</pre></div></div></div></div></div></div></div></div></div></div></div></div></div></div></div>"
      ],
      "text/plain": [
       "GridSearchCV(cv=None, error_score=nan,\n",
       "             estimator=VotingClassifier(estimators=[('clf1',\n",
       "                                                     LogisticRegression(C=1.0,\n",
       "                                                                        class_weight=None,\n",
       "                                                                        dual=False,\n",
       "                                                                        fit_intercept=True,\n",
       "                                                                        intercept_scaling=1,\n",
       "                                                                        l1_ratio=None,\n",
       "                                                                        max_iter=100,\n",
       "                                                                        multi_class='auto',\n",
       "                                                                        n_jobs=None,\n",
       "                                                                        penalty='l2',\n",
       "                                                                        random_state=1,\n",
       "                                                                        solver='liblinear',\n",
       "                                                                        tol=0.0001,\n",
       "                                                                        verbose=0,\n",
       "                                                                        warm_start=False)),\n",
       "                                                    ('clf2',\n",
       "                                                     RandomForestClassifi...\n",
       "                                                                            verbose=0,\n",
       "                                                                            warm_start=False)),\n",
       "                                                    ('clf3',\n",
       "                                                     MultinomialNB(alpha=1.0,\n",
       "                                                                   class_prior=None,\n",
       "                                                                   fit_prior=True))],\n",
       "                                        flatten_transform=True, n_jobs=None,\n",
       "                                        verbose=False, voting='hard',\n",
       "                                        weights=None),\n",
       "             n_jobs=None,\n",
       "             param_grid={'voting': ['hard', 'soft'],\n",
       "                         'weights': [(1, 1, 1), (2, 1, 1), (1, 2, 1),\n",
       "                                     (1, 1, 2)]},\n",
       "             pre_dispatch='2*n_jobs', refit=True, return_train_score=False,\n",
       "             scoring=None, verbose=0)"
      ]
     },
     "execution_count": 395,
     "metadata": {},
     "output_type": "execute_result"
    }
   ],
   "source": [
    "grid = GridSearchCV(vc, param_grid=params)\n",
    "grid"
   ]
  },
  {
   "cell_type": "code",
   "execution_count": 396,
   "id": "7d2d3ac7",
   "metadata": {},
   "outputs": [
    {
     "data": {
      "text/html": [
       "<style>#sk-49cb85ac-a946-4131-9b09-251d889bb934 {color: black;background-color: white;}#sk-49cb85ac-a946-4131-9b09-251d889bb934 pre{padding: 0;}#sk-49cb85ac-a946-4131-9b09-251d889bb934 div.sk-toggleable {background-color: white;}#sk-49cb85ac-a946-4131-9b09-251d889bb934 label.sk-toggleable__label {cursor: pointer;display: block;width: 100%;margin-bottom: 0;padding: 0.3em;box-sizing: border-box;text-align: center;}#sk-49cb85ac-a946-4131-9b09-251d889bb934 div.sk-toggleable__content {max-height: 0;max-width: 0;overflow: hidden;text-align: left;background-color: #f0f8ff;}#sk-49cb85ac-a946-4131-9b09-251d889bb934 div.sk-toggleable__content pre {margin: 0.2em;color: black;border-radius: 0.25em;background-color: #f0f8ff;}#sk-49cb85ac-a946-4131-9b09-251d889bb934 input.sk-toggleable__control:checked~div.sk-toggleable__content {max-height: 200px;max-width: 100%;overflow: auto;}#sk-49cb85ac-a946-4131-9b09-251d889bb934 div.sk-estimator input.sk-toggleable__control:checked~label.sk-toggleable__label {background-color: #d4ebff;}#sk-49cb85ac-a946-4131-9b09-251d889bb934 div.sk-label input.sk-toggleable__control:checked~label.sk-toggleable__label {background-color: #d4ebff;}#sk-49cb85ac-a946-4131-9b09-251d889bb934 input.sk-hidden--visually {border: 0;clip: rect(1px 1px 1px 1px);clip: rect(1px, 1px, 1px, 1px);height: 1px;margin: -1px;overflow: hidden;padding: 0;position: absolute;width: 1px;}#sk-49cb85ac-a946-4131-9b09-251d889bb934 div.sk-estimator {font-family: monospace;background-color: #f0f8ff;border: 1px dotted black;border-radius: 0.25em;box-sizing: border-box;margin-bottom: 0.5em;}#sk-49cb85ac-a946-4131-9b09-251d889bb934 div.sk-estimator:hover {background-color: #d4ebff;}#sk-49cb85ac-a946-4131-9b09-251d889bb934 div.sk-parallel-item::after {content: \"\";width: 100%;border-bottom: 1px solid gray;flex-grow: 1;}#sk-49cb85ac-a946-4131-9b09-251d889bb934 div.sk-label:hover label.sk-toggleable__label {background-color: #d4ebff;}#sk-49cb85ac-a946-4131-9b09-251d889bb934 div.sk-serial::before {content: \"\";position: absolute;border-left: 1px solid gray;box-sizing: border-box;top: 2em;bottom: 0;left: 50%;}#sk-49cb85ac-a946-4131-9b09-251d889bb934 div.sk-serial {display: flex;flex-direction: column;align-items: center;background-color: white;padding-right: 0.2em;padding-left: 0.2em;}#sk-49cb85ac-a946-4131-9b09-251d889bb934 div.sk-item {z-index: 1;}#sk-49cb85ac-a946-4131-9b09-251d889bb934 div.sk-parallel {display: flex;align-items: stretch;justify-content: center;background-color: white;}#sk-49cb85ac-a946-4131-9b09-251d889bb934 div.sk-parallel::before {content: \"\";position: absolute;border-left: 1px solid gray;box-sizing: border-box;top: 2em;bottom: 0;left: 50%;}#sk-49cb85ac-a946-4131-9b09-251d889bb934 div.sk-parallel-item {display: flex;flex-direction: column;position: relative;background-color: white;}#sk-49cb85ac-a946-4131-9b09-251d889bb934 div.sk-parallel-item:first-child::after {align-self: flex-end;width: 50%;}#sk-49cb85ac-a946-4131-9b09-251d889bb934 div.sk-parallel-item:last-child::after {align-self: flex-start;width: 50%;}#sk-49cb85ac-a946-4131-9b09-251d889bb934 div.sk-parallel-item:only-child::after {width: 0;}#sk-49cb85ac-a946-4131-9b09-251d889bb934 div.sk-dashed-wrapped {border: 1px dashed gray;margin: 0 0.4em 0.5em 0.4em;box-sizing: border-box;padding-bottom: 0.4em;background-color: white;position: relative;}#sk-49cb85ac-a946-4131-9b09-251d889bb934 div.sk-label label {font-family: monospace;font-weight: bold;background-color: white;display: inline-block;line-height: 1.2em;}#sk-49cb85ac-a946-4131-9b09-251d889bb934 div.sk-label-container {position: relative;z-index: 2;text-align: center;}#sk-49cb85ac-a946-4131-9b09-251d889bb934 div.sk-container {display: inline-block;position: relative;}</style><div id=\"sk-49cb85ac-a946-4131-9b09-251d889bb934\" class\"sk-top-container\"><div class=\"sk-container\"><div class=\"sk-item sk-dashed-wrapped\"><div class=\"sk-label-container\"><div class=\"sk-label sk-toggleable\"><input class=\"sk-toggleable__control sk-hidden--visually\" id=\"473f9a76-19d1-4b24-805f-b482bc975e4e\" type=\"checkbox\" ><label class=\"sk-toggleable__label\" for=\"473f9a76-19d1-4b24-805f-b482bc975e4e\">GridSearchCV</label><div class=\"sk-toggleable__content\"><pre>GridSearchCV(cv=None, error_score=nan,\n",
       "             estimator=VotingClassifier(estimators=[('clf1',\n",
       "                                                     LogisticRegression(C=1.0,\n",
       "                                                                        class_weight=None,\n",
       "                                                                        dual=False,\n",
       "                                                                        fit_intercept=True,\n",
       "                                                                        intercept_scaling=1,\n",
       "                                                                        l1_ratio=None,\n",
       "                                                                        max_iter=100,\n",
       "                                                                        multi_class='auto',\n",
       "                                                                        n_jobs=None,\n",
       "                                                                        penalty='l2',\n",
       "                                                                        random_state=1,\n",
       "                                                                        solver='liblinear',\n",
       "                                                                        tol=0.0001,\n",
       "                                                                        verbose=0,\n",
       "                                                                        warm_start=False)),\n",
       "                                                    ('clf2',\n",
       "                                                     RandomForestClassifi...\n",
       "                                                                            verbose=0,\n",
       "                                                                            warm_start=False)),\n",
       "                                                    ('clf3',\n",
       "                                                     MultinomialNB(alpha=1.0,\n",
       "                                                                   class_prior=None,\n",
       "                                                                   fit_prior=True))],\n",
       "                                        flatten_transform=True, n_jobs=None,\n",
       "                                        verbose=False, voting='hard',\n",
       "                                        weights=None),\n",
       "             n_jobs=None,\n",
       "             param_grid={'voting': ['hard', 'soft'],\n",
       "                         'weights': [(1, 1, 1), (2, 1, 1), (1, 2, 1),\n",
       "                                     (1, 1, 2)]},\n",
       "             pre_dispatch='2*n_jobs', refit=True, return_train_score=False,\n",
       "             scoring=None, verbose=0)</pre></div></div></div><div class=\"sk-parallel\"><div class=\"sk-parallel-item\"><div class=\"sk-item\"><div class=\"sk-serial\"><div class=\"sk-item sk-dashed-wrapped\"><div class=\"sk-parallel\"><div class=\"sk-parallel-item\"><div class=\"sk-item\"><div class=\"sk-label-container\"><div class=\"sk-label sk-toggleable\"><label>clf1</label></div></div><div class=\"sk-serial\"><div class=\"sk-item\"><div class=\"sk-estimator sk-toggleable\"><input class=\"sk-toggleable__control sk-hidden--visually\" id=\"a6b05a4e-1b18-4c52-9bc7-8c013682bdc9\" type=\"checkbox\" ><label class=\"sk-toggleable__label\" for=\"a6b05a4e-1b18-4c52-9bc7-8c013682bdc9\">LogisticRegression</label><div class=\"sk-toggleable__content\"><pre>LogisticRegression(random_state=1, solver='liblinear')</pre></div></div></div></div></div></div><div class=\"sk-parallel-item\"><div class=\"sk-item\"><div class=\"sk-label-container\"><div class=\"sk-label sk-toggleable\"><label>clf2</label></div></div><div class=\"sk-serial\"><div class=\"sk-item\"><div class=\"sk-estimator sk-toggleable\"><input class=\"sk-toggleable__control sk-hidden--visually\" id=\"7ffae71a-d441-4a05-949b-4beed8233dcd\" type=\"checkbox\" ><label class=\"sk-toggleable__label\" for=\"7ffae71a-d441-4a05-949b-4beed8233dcd\">RandomForestClassifier</label><div class=\"sk-toggleable__content\"><pre>RandomForestClassifier(max_features=None, random_state=1)</pre></div></div></div></div></div></div><div class=\"sk-parallel-item\"><div class=\"sk-item\"><div class=\"sk-label-container\"><div class=\"sk-label sk-toggleable\"><label>clf3</label></div></div><div class=\"sk-serial\"><div class=\"sk-item\"><div class=\"sk-estimator sk-toggleable\"><input class=\"sk-toggleable__control sk-hidden--visually\" id=\"ed30cae0-fd96-4a0c-9794-1a9ff3984682\" type=\"checkbox\" ><label class=\"sk-toggleable__label\" for=\"ed30cae0-fd96-4a0c-9794-1a9ff3984682\">MultinomialNB</label><div class=\"sk-toggleable__content\"><pre>MultinomialNB()</pre></div></div></div></div></div></div></div></div></div></div></div></div></div></div></div>"
      ],
      "text/plain": [
       "GridSearchCV(cv=None, error_score=nan,\n",
       "             estimator=VotingClassifier(estimators=[('clf1',\n",
       "                                                     LogisticRegression(C=1.0,\n",
       "                                                                        class_weight=None,\n",
       "                                                                        dual=False,\n",
       "                                                                        fit_intercept=True,\n",
       "                                                                        intercept_scaling=1,\n",
       "                                                                        l1_ratio=None,\n",
       "                                                                        max_iter=100,\n",
       "                                                                        multi_class='auto',\n",
       "                                                                        n_jobs=None,\n",
       "                                                                        penalty='l2',\n",
       "                                                                        random_state=1,\n",
       "                                                                        solver='liblinear',\n",
       "                                                                        tol=0.0001,\n",
       "                                                                        verbose=0,\n",
       "                                                                        warm_start=False)),\n",
       "                                                    ('clf2',\n",
       "                                                     RandomForestClassifi...\n",
       "                                                                            verbose=0,\n",
       "                                                                            warm_start=False)),\n",
       "                                                    ('clf3',\n",
       "                                                     MultinomialNB(alpha=1.0,\n",
       "                                                                   class_prior=None,\n",
       "                                                                   fit_prior=True))],\n",
       "                                        flatten_transform=True, n_jobs=None,\n",
       "                                        verbose=False, voting='hard',\n",
       "                                        weights=None),\n",
       "             n_jobs=None,\n",
       "             param_grid={'voting': ['hard', 'soft'],\n",
       "                         'weights': [(1, 1, 1), (2, 1, 1), (1, 2, 1),\n",
       "                                     (1, 1, 2)]},\n",
       "             pre_dispatch='2*n_jobs', refit=True, return_train_score=False,\n",
       "             scoring=None, verbose=0)"
      ]
     },
     "execution_count": 396,
     "metadata": {},
     "output_type": "execute_result"
    }
   ],
   "source": [
    "grid.fit(X, y)"
   ]
  },
  {
   "cell_type": "code",
   "execution_count": 397,
   "id": "3ecf4bd4",
   "metadata": {},
   "outputs": [
    {
     "data": {
      "text/plain": [
       "{'voting': 'soft', 'weights': (1, 2, 1)}"
      ]
     },
     "execution_count": 397,
     "metadata": {},
     "output_type": "execute_result"
    }
   ],
   "source": [
    "grid.best_params_"
   ]
  },
  {
   "cell_type": "code",
   "execution_count": 398,
   "id": "ba46a14c",
   "metadata": {},
   "outputs": [
    {
     "data": {
      "text/html": [
       "<style>#sk-36e4909c-9b8d-4048-97ca-eea24b7da0ce {color: black;background-color: white;}#sk-36e4909c-9b8d-4048-97ca-eea24b7da0ce pre{padding: 0;}#sk-36e4909c-9b8d-4048-97ca-eea24b7da0ce div.sk-toggleable {background-color: white;}#sk-36e4909c-9b8d-4048-97ca-eea24b7da0ce label.sk-toggleable__label {cursor: pointer;display: block;width: 100%;margin-bottom: 0;padding: 0.3em;box-sizing: border-box;text-align: center;}#sk-36e4909c-9b8d-4048-97ca-eea24b7da0ce div.sk-toggleable__content {max-height: 0;max-width: 0;overflow: hidden;text-align: left;background-color: #f0f8ff;}#sk-36e4909c-9b8d-4048-97ca-eea24b7da0ce div.sk-toggleable__content pre {margin: 0.2em;color: black;border-radius: 0.25em;background-color: #f0f8ff;}#sk-36e4909c-9b8d-4048-97ca-eea24b7da0ce input.sk-toggleable__control:checked~div.sk-toggleable__content {max-height: 200px;max-width: 100%;overflow: auto;}#sk-36e4909c-9b8d-4048-97ca-eea24b7da0ce div.sk-estimator input.sk-toggleable__control:checked~label.sk-toggleable__label {background-color: #d4ebff;}#sk-36e4909c-9b8d-4048-97ca-eea24b7da0ce div.sk-label input.sk-toggleable__control:checked~label.sk-toggleable__label {background-color: #d4ebff;}#sk-36e4909c-9b8d-4048-97ca-eea24b7da0ce input.sk-hidden--visually {border: 0;clip: rect(1px 1px 1px 1px);clip: rect(1px, 1px, 1px, 1px);height: 1px;margin: -1px;overflow: hidden;padding: 0;position: absolute;width: 1px;}#sk-36e4909c-9b8d-4048-97ca-eea24b7da0ce div.sk-estimator {font-family: monospace;background-color: #f0f8ff;border: 1px dotted black;border-radius: 0.25em;box-sizing: border-box;margin-bottom: 0.5em;}#sk-36e4909c-9b8d-4048-97ca-eea24b7da0ce div.sk-estimator:hover {background-color: #d4ebff;}#sk-36e4909c-9b8d-4048-97ca-eea24b7da0ce div.sk-parallel-item::after {content: \"\";width: 100%;border-bottom: 1px solid gray;flex-grow: 1;}#sk-36e4909c-9b8d-4048-97ca-eea24b7da0ce div.sk-label:hover label.sk-toggleable__label {background-color: #d4ebff;}#sk-36e4909c-9b8d-4048-97ca-eea24b7da0ce div.sk-serial::before {content: \"\";position: absolute;border-left: 1px solid gray;box-sizing: border-box;top: 2em;bottom: 0;left: 50%;}#sk-36e4909c-9b8d-4048-97ca-eea24b7da0ce div.sk-serial {display: flex;flex-direction: column;align-items: center;background-color: white;padding-right: 0.2em;padding-left: 0.2em;}#sk-36e4909c-9b8d-4048-97ca-eea24b7da0ce div.sk-item {z-index: 1;}#sk-36e4909c-9b8d-4048-97ca-eea24b7da0ce div.sk-parallel {display: flex;align-items: stretch;justify-content: center;background-color: white;}#sk-36e4909c-9b8d-4048-97ca-eea24b7da0ce div.sk-parallel::before {content: \"\";position: absolute;border-left: 1px solid gray;box-sizing: border-box;top: 2em;bottom: 0;left: 50%;}#sk-36e4909c-9b8d-4048-97ca-eea24b7da0ce div.sk-parallel-item {display: flex;flex-direction: column;position: relative;background-color: white;}#sk-36e4909c-9b8d-4048-97ca-eea24b7da0ce div.sk-parallel-item:first-child::after {align-self: flex-end;width: 50%;}#sk-36e4909c-9b8d-4048-97ca-eea24b7da0ce div.sk-parallel-item:last-child::after {align-self: flex-start;width: 50%;}#sk-36e4909c-9b8d-4048-97ca-eea24b7da0ce div.sk-parallel-item:only-child::after {width: 0;}#sk-36e4909c-9b8d-4048-97ca-eea24b7da0ce div.sk-dashed-wrapped {border: 1px dashed gray;margin: 0 0.4em 0.5em 0.4em;box-sizing: border-box;padding-bottom: 0.4em;background-color: white;position: relative;}#sk-36e4909c-9b8d-4048-97ca-eea24b7da0ce div.sk-label label {font-family: monospace;font-weight: bold;background-color: white;display: inline-block;line-height: 1.2em;}#sk-36e4909c-9b8d-4048-97ca-eea24b7da0ce div.sk-label-container {position: relative;z-index: 2;text-align: center;}#sk-36e4909c-9b8d-4048-97ca-eea24b7da0ce div.sk-container {display: inline-block;position: relative;}</style><div id=\"sk-36e4909c-9b8d-4048-97ca-eea24b7da0ce\" class\"sk-top-container\"><div class=\"sk-container\"><div class=\"sk-item sk-dashed-wrapped\"><div class=\"sk-label-container\"><div class=\"sk-label sk-toggleable\"><input class=\"sk-toggleable__control sk-hidden--visually\" id=\"0861f019-62cc-404c-b67f-bc0ecf50312c\" type=\"checkbox\" ><label class=\"sk-toggleable__label\" for=\"0861f019-62cc-404c-b67f-bc0ecf50312c\">VotingClassifier</label><div class=\"sk-toggleable__content\"><pre>VotingClassifier(estimators=[('clf1',\n",
       "                              LogisticRegression(C=1.0, class_weight=None,\n",
       "                                                 dual=False, fit_intercept=True,\n",
       "                                                 intercept_scaling=1,\n",
       "                                                 l1_ratio=None, max_iter=100,\n",
       "                                                 multi_class='auto',\n",
       "                                                 n_jobs=None, penalty='l2',\n",
       "                                                 random_state=1,\n",
       "                                                 solver='liblinear', tol=0.0001,\n",
       "                                                 verbose=0, warm_start=False)),\n",
       "                             ('clf2',\n",
       "                              RandomForestClassifier(bootstrap=True,\n",
       "                                                     ccp_alpha=0.0,\n",
       "                                                     class_weight=No...\n",
       "                                                     max_leaf_nodes=None,\n",
       "                                                     max_samples=None,\n",
       "                                                     min_impurity_decrease=0.0,\n",
       "                                                     min_samples_leaf=1,\n",
       "                                                     min_samples_split=2,\n",
       "                                                     min_weight_fraction_leaf=0.0,\n",
       "                                                     n_estimators=100,\n",
       "                                                     n_jobs=None,\n",
       "                                                     oob_score=False,\n",
       "                                                     random_state=1, verbose=0,\n",
       "                                                     warm_start=False)),\n",
       "                             ('clf3',\n",
       "                              MultinomialNB(alpha=1.0, class_prior=None,\n",
       "                                            fit_prior=True))],\n",
       "                 flatten_transform=True, n_jobs=None, verbose=False,\n",
       "                 voting='soft', weights=(1, 2, 1))</pre></div></div></div><div class=\"sk-parallel\"><div class=\"sk-parallel-item\"><div class=\"sk-item\"><div class=\"sk-label-container\"><div class=\"sk-label sk-toggleable\"><label>clf1</label></div></div><div class=\"sk-serial\"><div class=\"sk-item\"><div class=\"sk-estimator sk-toggleable\"><input class=\"sk-toggleable__control sk-hidden--visually\" id=\"b5fbd4ce-e212-49ff-97f9-d3f7f1b8d696\" type=\"checkbox\" ><label class=\"sk-toggleable__label\" for=\"b5fbd4ce-e212-49ff-97f9-d3f7f1b8d696\">LogisticRegression</label><div class=\"sk-toggleable__content\"><pre>LogisticRegression(random_state=1, solver='liblinear')</pre></div></div></div></div></div></div><div class=\"sk-parallel-item\"><div class=\"sk-item\"><div class=\"sk-label-container\"><div class=\"sk-label sk-toggleable\"><label>clf2</label></div></div><div class=\"sk-serial\"><div class=\"sk-item\"><div class=\"sk-estimator sk-toggleable\"><input class=\"sk-toggleable__control sk-hidden--visually\" id=\"17798d7a-f421-482f-b0d1-11b14a98b404\" type=\"checkbox\" ><label class=\"sk-toggleable__label\" for=\"17798d7a-f421-482f-b0d1-11b14a98b404\">RandomForestClassifier</label><div class=\"sk-toggleable__content\"><pre>RandomForestClassifier(max_features=None, random_state=1)</pre></div></div></div></div></div></div><div class=\"sk-parallel-item\"><div class=\"sk-item\"><div class=\"sk-label-container\"><div class=\"sk-label sk-toggleable\"><label>clf3</label></div></div><div class=\"sk-serial\"><div class=\"sk-item\"><div class=\"sk-estimator sk-toggleable\"><input class=\"sk-toggleable__control sk-hidden--visually\" id=\"86f95426-b198-49f1-91b6-252d0b3fa259\" type=\"checkbox\" ><label class=\"sk-toggleable__label\" for=\"86f95426-b198-49f1-91b6-252d0b3fa259\">MultinomialNB</label><div class=\"sk-toggleable__content\"><pre>MultinomialNB()</pre></div></div></div></div></div></div></div></div></div></div>"
      ],
      "text/plain": [
       "VotingClassifier(estimators=[('clf1',\n",
       "                              LogisticRegression(C=1.0, class_weight=None,\n",
       "                                                 dual=False, fit_intercept=True,\n",
       "                                                 intercept_scaling=1,\n",
       "                                                 l1_ratio=None, max_iter=100,\n",
       "                                                 multi_class='auto',\n",
       "                                                 n_jobs=None, penalty='l2',\n",
       "                                                 random_state=1,\n",
       "                                                 solver='liblinear', tol=0.0001,\n",
       "                                                 verbose=0, warm_start=False)),\n",
       "                             ('clf2',\n",
       "                              RandomForestClassifier(bootstrap=True,\n",
       "                                                     ccp_alpha=0.0,\n",
       "                                                     class_weight=No...\n",
       "                                                     max_leaf_nodes=None,\n",
       "                                                     max_samples=None,\n",
       "                                                     min_impurity_decrease=0.0,\n",
       "                                                     min_samples_leaf=1,\n",
       "                                                     min_samples_split=2,\n",
       "                                                     min_weight_fraction_leaf=0.0,\n",
       "                                                     n_estimators=100,\n",
       "                                                     n_jobs=None,\n",
       "                                                     oob_score=False,\n",
       "                                                     random_state=1, verbose=0,\n",
       "                                                     warm_start=False)),\n",
       "                             ('clf3',\n",
       "                              MultinomialNB(alpha=1.0, class_prior=None,\n",
       "                                            fit_prior=True))],\n",
       "                 flatten_transform=True, n_jobs=None, verbose=False,\n",
       "                 voting='soft', weights=(1, 2, 1))"
      ]
     },
     "execution_count": 398,
     "metadata": {},
     "output_type": "execute_result"
    }
   ],
   "source": [
    "grid.best_estimator_"
   ]
  },
  {
   "cell_type": "code",
   "execution_count": 399,
   "id": "75fe5492",
   "metadata": {},
   "outputs": [
    {
     "data": {
      "text/plain": [
       "0.7262820915196786"
      ]
     },
     "execution_count": 399,
     "metadata": {},
     "output_type": "execute_result"
    }
   ],
   "source": [
    "grid.best_score_"
   ]
  },
  {
   "cell_type": "code",
   "execution_count": null,
   "id": "f25d7b6f",
   "metadata": {},
   "outputs": [],
   "source": []
  }
 ],
 "metadata": {
  "kernelspec": {
   "display_name": "Python [conda env:py39] *",
   "language": "python",
   "name": "conda-env-py39-py"
  },
  "language_info": {
   "codemirror_mode": {
    "name": "ipython",
    "version": 3
   },
   "file_extension": ".py",
   "mimetype": "text/x-python",
   "name": "python",
   "nbconvert_exporter": "python",
   "pygments_lexer": "ipython3",
   "version": "3.9.7"
  },
  "latex_envs": {
   "LaTeX_envs_menu_present": true,
   "autoclose": false,
   "autocomplete": true,
   "bibliofile": "biblio.bib",
   "cite_by": "apalike",
   "current_citInitial": 1,
   "eqLabelWithNumbers": true,
   "eqNumInitial": 1,
   "hotkeys": {
    "equation": "Ctrl-E",
    "itemize": "Ctrl-I"
   },
   "labels_anchors": false,
   "latex_user_defs": false,
   "report_style_numbering": false,
   "user_envs_cfg": false
  },
  "toc": {
   "base_numbering": 1,
   "nav_menu": {},
   "number_sections": true,
   "sideBar": true,
   "skip_h1_title": false,
   "title_cell": "Table of Contents",
   "title_sidebar": "Contents",
   "toc_cell": false,
   "toc_position": {
    "height": "calc(100% - 180px)",
    "left": "10px",
    "top": "150px",
    "width": "369px"
   },
   "toc_section_display": true,
   "toc_window_display": true
  },
  "varInspector": {
   "cols": {
    "lenName": 16,
    "lenType": 16,
    "lenVar": 40
   },
   "kernels_config": {
    "python": {
     "delete_cmd_postfix": "",
     "delete_cmd_prefix": "del ",
     "library": "var_list.py",
     "varRefreshCmd": "print(var_dic_list())"
    },
    "r": {
     "delete_cmd_postfix": ") ",
     "delete_cmd_prefix": "rm(",
     "library": "var_list.r",
     "varRefreshCmd": "cat(var_dic_list()) "
    }
   },
   "types_to_exclude": [
    "module",
    "function",
    "builtin_function_or_method",
    "instance",
    "_Feature"
   ],
   "window_display": false
  }
 },
 "nbformat": 4,
 "nbformat_minor": 5
}
