{
 "cells": [
  {
   "cell_type": "markdown",
   "id": "4fa7caa7",
   "metadata": {},
   "source": [
    "Course \"50 scikit-learn tips\" by **Kenvin Markham**\n",
    "\n",
    "Link: https://courses.dataschool.io/courses/scikit-learn-tips/801794-introduction/2376425-welcome-to-the-course\n",
    "\n",
    "* Updated by Tien LE\n",
    "* Updated date: 2021-10-01\n"
   ]
  },
  {
   "cell_type": "code",
   "execution_count": 1,
   "id": "86378f62",
   "metadata": {
    "ExecuteTime": {
     "end_time": "2021-10-01T13:48:07.272891Z",
     "start_time": "2021-10-01T13:48:06.270625Z"
    }
   },
   "outputs": [],
   "source": [
    "import sklearn"
   ]
  },
  {
   "cell_type": "code",
   "execution_count": 2,
   "id": "f61e99c3",
   "metadata": {
    "ExecuteTime": {
     "end_time": "2021-10-01T13:48:07.287882Z",
     "start_time": "2021-10-01T13:48:07.272891Z"
    }
   },
   "outputs": [
    {
     "data": {
      "text/plain": [
       "'0.24.2'"
      ]
     },
     "execution_count": 2,
     "metadata": {},
     "output_type": "execute_result"
    }
   ],
   "source": [
    "sklearn.__version__"
   ]
  },
  {
   "cell_type": "code",
   "execution_count": 3,
   "id": "cac71458",
   "metadata": {
    "ExecuteTime": {
     "end_time": "2021-10-01T13:48:07.317841Z",
     "start_time": "2021-10-01T13:48:07.292852Z"
    }
   },
   "outputs": [],
   "source": [
    "# Upgrade scikit-learn to 1.0\n",
    "# ! pip install --upgrade scikit-learn"
   ]
  },
  {
   "cell_type": "markdown",
   "id": "c0eab1d4",
   "metadata": {},
   "source": [
    "# Use ColumnTransformer to apply different preprocessing to different columns\n",
    "\n",
    "Use ColumnTransformer to apply different preprocessing to different columns:\n",
    "+ select from DataFrame columns by name\n",
    "+ passthrough or drop unspecified columns\n",
    "\n",
    "Requires scikit-learn 0.20+\n",
    "\n",
    "Additional links: [OneHotEncoder](https://scikit-learn.org/stable/modules/generated/sklearn.preprocessing.OneHotEncoder.html), [SimpleImputer](https://scikit-learn.org/stable/modules/generated/sklearn.impute.SimpleImputer.html), [make_column_transformer](https://scikit-learn.org/stable/modules/generated/sklearn.compose.make_column_transformer.html?highlight=make_column_transformer)"
   ]
  },
  {
   "cell_type": "code",
   "execution_count": 4,
   "id": "41aa6737",
   "metadata": {
    "ExecuteTime": {
     "end_time": "2021-10-01T13:48:07.611943Z",
     "start_time": "2021-10-01T13:48:07.317841Z"
    }
   },
   "outputs": [],
   "source": [
    "import numpy as np\n",
    "import pandas as pd"
   ]
  },
  {
   "cell_type": "code",
   "execution_count": 5,
   "id": "f1b6baf8",
   "metadata": {
    "ExecuteTime": {
     "end_time": "2021-10-01T13:48:07.626905Z",
     "start_time": "2021-10-01T13:48:07.611943Z"
    }
   },
   "outputs": [],
   "source": [
    "import os \n",
    "\n",
    "file_input_path = \"titanic_train.csv\"\n",
    "if not os.path.exists(file_input_path):\n",
    "    df = pd.read_csv(\"http://bit.ly/kaggletrain\")\n",
    "    df.to_csv(file_input_path, header=True, index=False, sep=\"\\t\")\n",
    "else:\n",
    "    df = pd.read_csv(file_input_path, header=0, sep=\"\\t\")"
   ]
  },
  {
   "cell_type": "code",
   "execution_count": 6,
   "id": "3086c222",
   "metadata": {
    "ExecuteTime": {
     "end_time": "2021-10-01T13:48:07.656889Z",
     "start_time": "2021-10-01T13:48:07.631904Z"
    }
   },
   "outputs": [
    {
     "name": "stdout",
     "output_type": "stream",
     "text": [
      "<class 'pandas.core.frame.DataFrame'>\n",
      "RangeIndex: 891 entries, 0 to 890\n",
      "Data columns (total 12 columns):\n",
      " #   Column       Non-Null Count  Dtype  \n",
      "---  ------       --------------  -----  \n",
      " 0   PassengerId  891 non-null    int64  \n",
      " 1   Survived     891 non-null    int64  \n",
      " 2   Pclass       891 non-null    int64  \n",
      " 3   Name         891 non-null    object \n",
      " 4   Sex          891 non-null    object \n",
      " 5   Age          714 non-null    float64\n",
      " 6   SibSp        891 non-null    int64  \n",
      " 7   Parch        891 non-null    int64  \n",
      " 8   Ticket       891 non-null    object \n",
      " 9   Fare         891 non-null    float64\n",
      " 10  Cabin        204 non-null    object \n",
      " 11  Embarked     889 non-null    object \n",
      "dtypes: float64(2), int64(5), object(5)\n",
      "memory usage: 83.7+ KB\n"
     ]
    }
   ],
   "source": [
    "df.info()"
   ]
  },
  {
   "cell_type": "code",
   "execution_count": 7,
   "id": "af8d2011",
   "metadata": {
    "ExecuteTime": {
     "end_time": "2021-10-01T13:48:07.701866Z",
     "start_time": "2021-10-01T13:48:07.661887Z"
    }
   },
   "outputs": [
    {
     "data": {
      "text/html": [
       "<div>\n",
       "<style scoped>\n",
       "    .dataframe tbody tr th:only-of-type {\n",
       "        vertical-align: middle;\n",
       "    }\n",
       "\n",
       "    .dataframe tbody tr th {\n",
       "        vertical-align: top;\n",
       "    }\n",
       "\n",
       "    .dataframe thead th {\n",
       "        text-align: right;\n",
       "    }\n",
       "</style>\n",
       "<table border=\"1\" class=\"dataframe\">\n",
       "  <thead>\n",
       "    <tr style=\"text-align: right;\">\n",
       "      <th></th>\n",
       "      <th>PassengerId</th>\n",
       "      <th>Survived</th>\n",
       "      <th>Pclass</th>\n",
       "      <th>Name</th>\n",
       "      <th>Sex</th>\n",
       "      <th>Age</th>\n",
       "      <th>SibSp</th>\n",
       "      <th>Parch</th>\n",
       "      <th>Ticket</th>\n",
       "      <th>Fare</th>\n",
       "      <th>Cabin</th>\n",
       "      <th>Embarked</th>\n",
       "    </tr>\n",
       "  </thead>\n",
       "  <tbody>\n",
       "    <tr>\n",
       "      <th>0</th>\n",
       "      <td>1</td>\n",
       "      <td>0</td>\n",
       "      <td>3</td>\n",
       "      <td>Braund, Mr. Owen Harris</td>\n",
       "      <td>male</td>\n",
       "      <td>22.0</td>\n",
       "      <td>1</td>\n",
       "      <td>0</td>\n",
       "      <td>A/5 21171</td>\n",
       "      <td>7.2500</td>\n",
       "      <td>NaN</td>\n",
       "      <td>S</td>\n",
       "    </tr>\n",
       "    <tr>\n",
       "      <th>1</th>\n",
       "      <td>2</td>\n",
       "      <td>1</td>\n",
       "      <td>1</td>\n",
       "      <td>Cumings, Mrs. John Bradley (Florence Briggs Th...</td>\n",
       "      <td>female</td>\n",
       "      <td>38.0</td>\n",
       "      <td>1</td>\n",
       "      <td>0</td>\n",
       "      <td>PC 17599</td>\n",
       "      <td>71.2833</td>\n",
       "      <td>C85</td>\n",
       "      <td>C</td>\n",
       "    </tr>\n",
       "    <tr>\n",
       "      <th>2</th>\n",
       "      <td>3</td>\n",
       "      <td>1</td>\n",
       "      <td>3</td>\n",
       "      <td>Heikkinen, Miss. Laina</td>\n",
       "      <td>female</td>\n",
       "      <td>26.0</td>\n",
       "      <td>0</td>\n",
       "      <td>0</td>\n",
       "      <td>STON/O2. 3101282</td>\n",
       "      <td>7.9250</td>\n",
       "      <td>NaN</td>\n",
       "      <td>S</td>\n",
       "    </tr>\n",
       "    <tr>\n",
       "      <th>3</th>\n",
       "      <td>4</td>\n",
       "      <td>1</td>\n",
       "      <td>1</td>\n",
       "      <td>Futrelle, Mrs. Jacques Heath (Lily May Peel)</td>\n",
       "      <td>female</td>\n",
       "      <td>35.0</td>\n",
       "      <td>1</td>\n",
       "      <td>0</td>\n",
       "      <td>113803</td>\n",
       "      <td>53.1000</td>\n",
       "      <td>C123</td>\n",
       "      <td>S</td>\n",
       "    </tr>\n",
       "    <tr>\n",
       "      <th>4</th>\n",
       "      <td>5</td>\n",
       "      <td>0</td>\n",
       "      <td>3</td>\n",
       "      <td>Allen, Mr. William Henry</td>\n",
       "      <td>male</td>\n",
       "      <td>35.0</td>\n",
       "      <td>0</td>\n",
       "      <td>0</td>\n",
       "      <td>373450</td>\n",
       "      <td>8.0500</td>\n",
       "      <td>NaN</td>\n",
       "      <td>S</td>\n",
       "    </tr>\n",
       "    <tr>\n",
       "      <th>5</th>\n",
       "      <td>6</td>\n",
       "      <td>0</td>\n",
       "      <td>3</td>\n",
       "      <td>Moran, Mr. James</td>\n",
       "      <td>male</td>\n",
       "      <td>NaN</td>\n",
       "      <td>0</td>\n",
       "      <td>0</td>\n",
       "      <td>330877</td>\n",
       "      <td>8.4583</td>\n",
       "      <td>NaN</td>\n",
       "      <td>Q</td>\n",
       "    </tr>\n",
       "  </tbody>\n",
       "</table>\n",
       "</div>"
      ],
      "text/plain": [
       "   PassengerId  Survived  Pclass  \\\n",
       "0            1         0       3   \n",
       "1            2         1       1   \n",
       "2            3         1       3   \n",
       "3            4         1       1   \n",
       "4            5         0       3   \n",
       "5            6         0       3   \n",
       "\n",
       "                                                Name     Sex   Age  SibSp  \\\n",
       "0                            Braund, Mr. Owen Harris    male  22.0      1   \n",
       "1  Cumings, Mrs. John Bradley (Florence Briggs Th...  female  38.0      1   \n",
       "2                             Heikkinen, Miss. Laina  female  26.0      0   \n",
       "3       Futrelle, Mrs. Jacques Heath (Lily May Peel)  female  35.0      1   \n",
       "4                           Allen, Mr. William Henry    male  35.0      0   \n",
       "5                                   Moran, Mr. James    male   NaN      0   \n",
       "\n",
       "   Parch            Ticket     Fare Cabin Embarked  \n",
       "0      0         A/5 21171   7.2500   NaN        S  \n",
       "1      0          PC 17599  71.2833   C85        C  \n",
       "2      0  STON/O2. 3101282   7.9250   NaN        S  \n",
       "3      0            113803  53.1000  C123        S  \n",
       "4      0            373450   8.0500   NaN        S  \n",
       "5      0            330877   8.4583   NaN        Q  "
      ]
     },
     "execution_count": 7,
     "metadata": {},
     "output_type": "execute_result"
    }
   ],
   "source": [
    "df.head(6)"
   ]
  },
  {
   "cell_type": "code",
   "execution_count": 8,
   "id": "51b415fd",
   "metadata": {
    "ExecuteTime": {
     "end_time": "2021-10-01T13:48:07.716858Z",
     "start_time": "2021-10-01T13:48:07.701866Z"
    }
   },
   "outputs": [
    {
     "data": {
      "text/html": [
       "<div>\n",
       "<style scoped>\n",
       "    .dataframe tbody tr th:only-of-type {\n",
       "        vertical-align: middle;\n",
       "    }\n",
       "\n",
       "    .dataframe tbody tr th {\n",
       "        vertical-align: top;\n",
       "    }\n",
       "\n",
       "    .dataframe thead th {\n",
       "        text-align: right;\n",
       "    }\n",
       "</style>\n",
       "<table border=\"1\" class=\"dataframe\">\n",
       "  <thead>\n",
       "    <tr style=\"text-align: right;\">\n",
       "      <th></th>\n",
       "      <th>Fare</th>\n",
       "      <th>Embarked</th>\n",
       "      <th>Sex</th>\n",
       "      <th>Age</th>\n",
       "    </tr>\n",
       "  </thead>\n",
       "  <tbody>\n",
       "    <tr>\n",
       "      <th>0</th>\n",
       "      <td>7.2500</td>\n",
       "      <td>S</td>\n",
       "      <td>male</td>\n",
       "      <td>22.0</td>\n",
       "    </tr>\n",
       "    <tr>\n",
       "      <th>1</th>\n",
       "      <td>71.2833</td>\n",
       "      <td>C</td>\n",
       "      <td>female</td>\n",
       "      <td>38.0</td>\n",
       "    </tr>\n",
       "    <tr>\n",
       "      <th>2</th>\n",
       "      <td>7.9250</td>\n",
       "      <td>S</td>\n",
       "      <td>female</td>\n",
       "      <td>26.0</td>\n",
       "    </tr>\n",
       "    <tr>\n",
       "      <th>3</th>\n",
       "      <td>53.1000</td>\n",
       "      <td>S</td>\n",
       "      <td>female</td>\n",
       "      <td>35.0</td>\n",
       "    </tr>\n",
       "    <tr>\n",
       "      <th>4</th>\n",
       "      <td>8.0500</td>\n",
       "      <td>S</td>\n",
       "      <td>male</td>\n",
       "      <td>35.0</td>\n",
       "    </tr>\n",
       "    <tr>\n",
       "      <th>5</th>\n",
       "      <td>8.4583</td>\n",
       "      <td>Q</td>\n",
       "      <td>male</td>\n",
       "      <td>NaN</td>\n",
       "    </tr>\n",
       "  </tbody>\n",
       "</table>\n",
       "</div>"
      ],
      "text/plain": [
       "      Fare Embarked     Sex   Age\n",
       "0   7.2500        S    male  22.0\n",
       "1  71.2833        C  female  38.0\n",
       "2   7.9250        S  female  26.0\n",
       "3  53.1000        S  female  35.0\n",
       "4   8.0500        S    male  35.0\n",
       "5   8.4583        Q    male   NaN"
      ]
     },
     "execution_count": 8,
     "metadata": {},
     "output_type": "execute_result"
    }
   ],
   "source": [
    "cols = [\"Fare\", \"Embarked\", \"Sex\", \"Age\"]\n",
    "X = df[cols]\n",
    "X = X.head(6)\n",
    "X"
   ]
  },
  {
   "cell_type": "code",
   "execution_count": 9,
   "id": "3b386be4",
   "metadata": {
    "ExecuteTime": {
     "end_time": "2021-10-01T13:48:07.856815Z",
     "start_time": "2021-10-01T13:48:07.721855Z"
    }
   },
   "outputs": [],
   "source": [
    "from sklearn.preprocessing import OneHotEncoder\n",
    "from sklearn.impute import SimpleImputer\n",
    "from sklearn.compose import make_column_transformer"
   ]
  },
  {
   "cell_type": "code",
   "execution_count": 10,
   "id": "2ece838b",
   "metadata": {
    "ExecuteTime": {
     "end_time": "2021-10-01T13:48:07.871774Z",
     "start_time": "2021-10-01T13:48:07.861781Z"
    }
   },
   "outputs": [],
   "source": [
    "ohe = OneHotEncoder()\n",
    "simple_imputer = SimpleImputer()  # get mean value"
   ]
  },
  {
   "cell_type": "code",
   "execution_count": 11,
   "id": "3a77e01f",
   "metadata": {
    "ExecuteTime": {
     "end_time": "2021-10-01T13:48:07.886767Z",
     "start_time": "2021-10-01T13:48:07.871774Z"
    }
   },
   "outputs": [],
   "source": [
    "col_transformer = make_column_transformer(\n",
    "    (ohe, [\"Embarked\", \"Sex\"]),\n",
    "    (simple_imputer, [\"Age\"]),\n",
    "    remainder=\"passthrough\"\n",
    ")\n",
    "\n",
    "#https://scikit-learn.org/stable/modules/generated/sklearn.compose.make_column_transformer.html?highlight=make_column_transformer\n",
    "#remainder{‘drop’, ‘passthrough’} or estimator, default=’drop’\n",
    "#   By default, only the specified columns in transformers are transformed and combined in the output, and the non-specified columns are dropped. (default of 'drop'). By specifying remainder='passthrough', all remaining columns that were not specified in transformers will be automatically passed through. This subset of columns is concatenated with the output of the transformers. By setting remainder to be an estimator, the remaining non-specified columns will use the remainder estimator. The estimator must support fit and transform."
   ]
  },
  {
   "cell_type": "code",
   "execution_count": 12,
   "id": "1a06bfff",
   "metadata": {
    "ExecuteTime": {
     "end_time": "2021-10-01T13:48:07.916752Z",
     "start_time": "2021-10-01T13:48:07.891765Z"
    }
   },
   "outputs": [
    {
     "data": {
      "text/plain": [
       "array([[ 0.    ,  0.    ,  1.    ,  0.    ,  1.    , 22.    ,  7.25  ],\n",
       "       [ 1.    ,  0.    ,  0.    ,  1.    ,  0.    , 38.    , 71.2833],\n",
       "       [ 0.    ,  0.    ,  1.    ,  1.    ,  0.    , 26.    ,  7.925 ],\n",
       "       [ 0.    ,  0.    ,  1.    ,  1.    ,  0.    , 35.    , 53.1   ],\n",
       "       [ 0.    ,  0.    ,  1.    ,  0.    ,  1.    , 35.    ,  8.05  ],\n",
       "       [ 0.    ,  1.    ,  0.    ,  0.    ,  1.    , 31.2   ,  8.4583]])"
      ]
     },
     "execution_count": 12,
     "metadata": {},
     "output_type": "execute_result"
    }
   ],
   "source": [
    "col_transformer.fit_transform(X)"
   ]
  },
  {
   "cell_type": "markdown",
   "id": "d673ddc7",
   "metadata": {},
   "source": [
    "# Seven ways to select columns using ColumnTransformer\n",
    "\n",
    "There are SEVEN ways to select columns using [ColumnTransformer](https://scikit-learn.org/stable/modules/generated/sklearn.compose.make_column_transformer.html):\n",
    "+ column name\n",
    "+ integer position\n",
    "+ slice\n",
    "+ boolean mask\n",
    "+ regex pattern\n",
    "+ dtypes to include\n",
    "+ dtypes to exclude\n",
    "\n",
    "Additional links: [make_column_selector](https://scikit-learn.org/stable/modules/generated/sklearn.compose.make_column_selector.html)"
   ]
  },
  {
   "cell_type": "code",
   "execution_count": 13,
   "id": "3a2fc1a0",
   "metadata": {
    "ExecuteTime": {
     "end_time": "2021-10-01T13:48:07.931742Z",
     "start_time": "2021-10-01T13:48:07.916752Z"
    }
   },
   "outputs": [],
   "source": [
    "import os \n",
    "\n",
    "file_input_path = \"titanic_train.csv\"\n",
    "if not os.path.exists(file_input_path):\n",
    "    df = pd.read_csv(\"http://bit.ly/kaggletrain\")\n",
    "    df.to_csv(file_input_path, header=True, index=False, sep=\"\\t\")\n",
    "else:\n",
    "    df = pd.read_csv(file_input_path, header=0, sep=\"\\t\")"
   ]
  },
  {
   "cell_type": "code",
   "execution_count": 14,
   "id": "b1515001",
   "metadata": {
    "ExecuteTime": {
     "end_time": "2021-10-01T13:48:07.961732Z",
     "start_time": "2021-10-01T13:48:07.936740Z"
    }
   },
   "outputs": [
    {
     "data": {
      "text/html": [
       "<div>\n",
       "<style scoped>\n",
       "    .dataframe tbody tr th:only-of-type {\n",
       "        vertical-align: middle;\n",
       "    }\n",
       "\n",
       "    .dataframe tbody tr th {\n",
       "        vertical-align: top;\n",
       "    }\n",
       "\n",
       "    .dataframe thead th {\n",
       "        text-align: right;\n",
       "    }\n",
       "</style>\n",
       "<table border=\"1\" class=\"dataframe\">\n",
       "  <thead>\n",
       "    <tr style=\"text-align: right;\">\n",
       "      <th></th>\n",
       "      <th>Fare</th>\n",
       "      <th>Embarked</th>\n",
       "      <th>Sex</th>\n",
       "      <th>Age</th>\n",
       "    </tr>\n",
       "  </thead>\n",
       "  <tbody>\n",
       "    <tr>\n",
       "      <th>0</th>\n",
       "      <td>7.2500</td>\n",
       "      <td>S</td>\n",
       "      <td>male</td>\n",
       "      <td>22.0</td>\n",
       "    </tr>\n",
       "    <tr>\n",
       "      <th>1</th>\n",
       "      <td>71.2833</td>\n",
       "      <td>C</td>\n",
       "      <td>female</td>\n",
       "      <td>38.0</td>\n",
       "    </tr>\n",
       "    <tr>\n",
       "      <th>2</th>\n",
       "      <td>7.9250</td>\n",
       "      <td>S</td>\n",
       "      <td>female</td>\n",
       "      <td>26.0</td>\n",
       "    </tr>\n",
       "    <tr>\n",
       "      <th>3</th>\n",
       "      <td>53.1000</td>\n",
       "      <td>S</td>\n",
       "      <td>female</td>\n",
       "      <td>35.0</td>\n",
       "    </tr>\n",
       "    <tr>\n",
       "      <th>4</th>\n",
       "      <td>8.0500</td>\n",
       "      <td>S</td>\n",
       "      <td>male</td>\n",
       "      <td>35.0</td>\n",
       "    </tr>\n",
       "    <tr>\n",
       "      <th>5</th>\n",
       "      <td>8.4583</td>\n",
       "      <td>Q</td>\n",
       "      <td>male</td>\n",
       "      <td>NaN</td>\n",
       "    </tr>\n",
       "  </tbody>\n",
       "</table>\n",
       "</div>"
      ],
      "text/plain": [
       "      Fare Embarked     Sex   Age\n",
       "0   7.2500        S    male  22.0\n",
       "1  71.2833        C  female  38.0\n",
       "2   7.9250        S  female  26.0\n",
       "3  53.1000        S  female  35.0\n",
       "4   8.0500        S    male  35.0\n",
       "5   8.4583        Q    male   NaN"
      ]
     },
     "execution_count": 14,
     "metadata": {},
     "output_type": "execute_result"
    }
   ],
   "source": [
    "cols = [\"Fare\", \"Embarked\", \"Sex\", \"Age\"]\n",
    "X = df[cols]\n",
    "X = X.head(6)\n",
    "X"
   ]
  },
  {
   "cell_type": "code",
   "execution_count": 15,
   "id": "be80946b",
   "metadata": {
    "ExecuteTime": {
     "end_time": "2021-10-01T13:48:07.976719Z",
     "start_time": "2021-10-01T13:48:07.961732Z"
    }
   },
   "outputs": [],
   "source": [
    "from sklearn.preprocessing import OneHotEncoder\n",
    "from sklearn.compose import make_column_transformer, make_column_selector"
   ]
  },
  {
   "cell_type": "code",
   "execution_count": 16,
   "id": "da1dcc3a",
   "metadata": {
    "ExecuteTime": {
     "end_time": "2021-10-01T13:48:07.991712Z",
     "start_time": "2021-10-01T13:48:07.976719Z"
    }
   },
   "outputs": [],
   "source": [
    "ohe = OneHotEncoder()"
   ]
  },
  {
   "cell_type": "code",
   "execution_count": 17,
   "id": "106115d7",
   "metadata": {
    "ExecuteTime": {
     "end_time": "2021-10-01T13:48:08.006703Z",
     "start_time": "2021-10-01T13:48:07.991712Z"
    }
   },
   "outputs": [
    {
     "data": {
      "text/plain": [
       "Index(['Fare', 'Embarked', 'Sex', 'Age'], dtype='object')"
      ]
     },
     "execution_count": 17,
     "metadata": {},
     "output_type": "execute_result"
    }
   ],
   "source": [
    "X.columns"
   ]
  },
  {
   "cell_type": "code",
   "execution_count": 18,
   "id": "1c9b058a",
   "metadata": {
    "ExecuteTime": {
     "end_time": "2021-10-01T13:48:08.026692Z",
     "start_time": "2021-10-01T13:48:08.006703Z"
    }
   },
   "outputs": [],
   "source": [
    "# all SEVEN of these produce the same results\n",
    "# Note that: reminder = \"drop\" (by default)\n",
    "\n",
    "# column name\n",
    "col_transformer = make_column_transformer((ohe, ['Embarked', 'Sex']))\n",
    "\n",
    "# integer position\n",
    "col_transformer = make_column_transformer((ohe, [1,2]))  # column index 0,1,2,...\n",
    "\n",
    "# slice\n",
    "col_transformer = make_column_transformer((ohe, slice(1,3)))  # column from index 1 to k-1\n",
    "\n",
    "# boolean mask\n",
    "col_transformer = make_column_transformer((ohe, [False, True, True, False]))\n",
    "\n",
    "# regex pattern\n",
    "col_transformer = make_column_transformer((ohe, make_column_selector(pattern=\"E|S\")))  # startwiths E or S\n",
    "# https://scikit-learn.org/stable/modules/generated/sklearn.compose.make_column_selector.html\n",
    "# patternstr, default=None\n",
    "#   Name of columns containing this regex pattern will be included. If None, column selection will not be selected based on pattern.\n",
    "\n",
    "# dtypes to include\n",
    "col_transformer = make_column_transformer((ohe, make_column_selector(dtype_include=object)))\n",
    "\n",
    "# dtypes to exclude\n",
    "col_transformer = make_column_transformer((ohe, make_column_selector(dtype_exclude=np.number)))"
   ]
  },
  {
   "cell_type": "code",
   "execution_count": 19,
   "id": "954ab9d4",
   "metadata": {
    "ExecuteTime": {
     "end_time": "2021-10-01T13:48:08.061675Z",
     "start_time": "2021-10-01T13:48:08.026692Z"
    }
   },
   "outputs": [
    {
     "data": {
      "text/plain": [
       "array([[0., 0., 1., 0., 1.],\n",
       "       [1., 0., 0., 1., 0.],\n",
       "       [0., 0., 1., 1., 0.],\n",
       "       [0., 0., 1., 1., 0.],\n",
       "       [0., 0., 1., 0., 1.],\n",
       "       [0., 1., 0., 0., 1.]])"
      ]
     },
     "execution_count": 19,
     "metadata": {},
     "output_type": "execute_result"
    }
   ],
   "source": [
    "col_transformer.fit_transform(X)"
   ]
  },
  {
   "cell_type": "markdown",
   "id": "aa561326",
   "metadata": {},
   "source": [
    "## Simple Case\n",
    "\n",
    "https://scikit-learn.org/stable/modules/generated/sklearn.preprocessing.StandardScaler.html?highlight=standardscaler#sklearn.preprocessing.StandardScaler\n",
    "\n",
    "Standardize features by removing the mean and scaling to unit variance."
   ]
  },
  {
   "cell_type": "code",
   "execution_count": 20,
   "id": "9642f17b",
   "metadata": {
    "ExecuteTime": {
     "end_time": "2021-10-01T13:48:08.076666Z",
     "start_time": "2021-10-01T13:48:08.061675Z"
    }
   },
   "outputs": [
    {
     "data": {
      "text/html": [
       "<div>\n",
       "<style scoped>\n",
       "    .dataframe tbody tr th:only-of-type {\n",
       "        vertical-align: middle;\n",
       "    }\n",
       "\n",
       "    .dataframe tbody tr th {\n",
       "        vertical-align: top;\n",
       "    }\n",
       "\n",
       "    .dataframe thead th {\n",
       "        text-align: right;\n",
       "    }\n",
       "</style>\n",
       "<table border=\"1\" class=\"dataframe\">\n",
       "  <thead>\n",
       "    <tr style=\"text-align: right;\">\n",
       "      <th></th>\n",
       "      <th>Fare</th>\n",
       "      <th>Embarked</th>\n",
       "      <th>Sex</th>\n",
       "      <th>Age</th>\n",
       "    </tr>\n",
       "  </thead>\n",
       "  <tbody>\n",
       "    <tr>\n",
       "      <th>0</th>\n",
       "      <td>7.2500</td>\n",
       "      <td>S</td>\n",
       "      <td>male</td>\n",
       "      <td>22.0</td>\n",
       "    </tr>\n",
       "    <tr>\n",
       "      <th>1</th>\n",
       "      <td>71.2833</td>\n",
       "      <td>C</td>\n",
       "      <td>female</td>\n",
       "      <td>38.0</td>\n",
       "    </tr>\n",
       "    <tr>\n",
       "      <th>2</th>\n",
       "      <td>7.9250</td>\n",
       "      <td>S</td>\n",
       "      <td>female</td>\n",
       "      <td>26.0</td>\n",
       "    </tr>\n",
       "    <tr>\n",
       "      <th>3</th>\n",
       "      <td>53.1000</td>\n",
       "      <td>S</td>\n",
       "      <td>female</td>\n",
       "      <td>35.0</td>\n",
       "    </tr>\n",
       "    <tr>\n",
       "      <th>4</th>\n",
       "      <td>8.0500</td>\n",
       "      <td>S</td>\n",
       "      <td>male</td>\n",
       "      <td>35.0</td>\n",
       "    </tr>\n",
       "    <tr>\n",
       "      <th>5</th>\n",
       "      <td>8.4583</td>\n",
       "      <td>Q</td>\n",
       "      <td>male</td>\n",
       "      <td>NaN</td>\n",
       "    </tr>\n",
       "  </tbody>\n",
       "</table>\n",
       "</div>"
      ],
      "text/plain": [
       "      Fare Embarked     Sex   Age\n",
       "0   7.2500        S    male  22.0\n",
       "1  71.2833        C  female  38.0\n",
       "2   7.9250        S  female  26.0\n",
       "3  53.1000        S  female  35.0\n",
       "4   8.0500        S    male  35.0\n",
       "5   8.4583        Q    male   NaN"
      ]
     },
     "execution_count": 20,
     "metadata": {},
     "output_type": "execute_result"
    }
   ],
   "source": [
    "X"
   ]
  },
  {
   "cell_type": "code",
   "execution_count": 21,
   "id": "8ecbe7cc",
   "metadata": {
    "ExecuteTime": {
     "end_time": "2021-10-01T13:48:08.121642Z",
     "start_time": "2021-10-01T13:48:08.081662Z"
    }
   },
   "outputs": [
    {
     "data": {
      "text/plain": [
       "array([[-0.71829711, -1.50516598,  0.        ,  0.        ,  1.        ,\n",
       "         0.        ,  1.        ],\n",
       "       [ 1.7333147 ,  1.11251398,  1.        ,  0.        ,  0.        ,\n",
       "         1.        ,  0.        ],\n",
       "       [-0.69245371, -0.85074599,  0.        ,  0.        ,  1.        ,\n",
       "         1.        ,  0.        ],\n",
       "       [ 1.03713954,  0.62169899,  0.        ,  0.        ,  1.        ,\n",
       "         1.        ,  0.        ],\n",
       "       [-0.6876679 ,  0.62169899,  0.        ,  0.        ,  1.        ,\n",
       "         0.        ,  1.        ],\n",
       "       [-0.67203551,         nan,  0.        ,  1.        ,  0.        ,\n",
       "         0.        ,  1.        ]])"
      ]
     },
     "execution_count": 21,
     "metadata": {},
     "output_type": "execute_result"
    }
   ],
   "source": [
    "from sklearn.preprocessing import StandardScaler, OneHotEncoder\n",
    "\n",
    "col_transformer = make_column_transformer(\n",
    "    (StandardScaler(), make_column_selector(dtype_include=np.number)),  \n",
    "    (OneHotEncoder(), make_column_selector(dtype_include=object))\n",
    ")\n",
    "\n",
    "col_transformer.fit_transform(X)"
   ]
  },
  {
   "cell_type": "markdown",
   "id": "10f1ba2d",
   "metadata": {},
   "source": [
    "## Flexible Case\n",
    "\n",
    "Link: https://scikit-learn.org/stable/auto_examples/compose/plot_column_transformer_mixed_types.html#sphx-glr-auto-examples-compose-plot-column-transformer-mixed-types-py"
   ]
  },
  {
   "cell_type": "code",
   "execution_count": 22,
   "id": "de6e42ca",
   "metadata": {
    "ExecuteTime": {
     "end_time": "2021-10-01T13:48:08.151627Z",
     "start_time": "2021-10-01T13:48:08.121642Z"
    }
   },
   "outputs": [
    {
     "data": {
      "text/plain": [
       "array([[-0.71829711, -1.70817275,  0.        ,  0.        ,  1.        ,\n",
       "         0.        ,  1.        ],\n",
       "       [ 1.7333147 ,  1.07122698,  1.        ,  0.        ,  0.        ,\n",
       "         1.        ,  0.        ],\n",
       "       [-0.69245371, -1.01332282,  0.        ,  0.        ,  1.        ,\n",
       "         1.        ,  0.        ],\n",
       "       [ 1.03713954,  0.55008953,  0.        ,  0.        ,  1.        ,\n",
       "         1.        ,  0.        ],\n",
       "       [-0.6876679 ,  0.55008953,  0.        ,  0.        ,  1.        ,\n",
       "         0.        ,  1.        ],\n",
       "       [-0.67203551,  0.55008953,  0.        ,  1.        ,  0.        ,\n",
       "         0.        ,  1.        ]])"
      ]
     },
     "execution_count": 22,
     "metadata": {},
     "output_type": "execute_result"
    }
   ],
   "source": [
    "from sklearn.preprocessing import StandardScaler, OneHotEncoder\n",
    "from sklearn.pipeline import Pipeline\n",
    "from sklearn.impute import SimpleImputer\n",
    "from sklearn.compose import ColumnTransformer\n",
    "\n",
    "numeric_features = [\"Fare\", \"Age\"]\n",
    "numeric_transformer = Pipeline(\n",
    "    steps=[\n",
    "        (\"imputer\", SimpleImputer(strategy=\"median\")),\n",
    "        (\"scaler\", StandardScaler())\n",
    "    ]\n",
    ")\n",
    "\n",
    "categorical_features = [\"Embarked\", \"Sex\"]\n",
    "categorical_transformer = OneHotEncoder(handle_unknown=\"ignore\")\n",
    "\n",
    "preprocessor = ColumnTransformer(\n",
    "    transformers=[\n",
    "        (\"numeric\", numeric_transformer, numeric_features),\n",
    "        (\"categorical\", categorical_transformer, categorical_features)\n",
    "    ]\n",
    ")\n",
    "\n",
    "preprocessor.fit_transform(X)"
   ]
  },
  {
   "cell_type": "markdown",
   "id": "c0fa1d9c",
   "metadata": {},
   "source": [
    "# What is the difference between \"fit\" and \"transform\"?\n",
    "\n",
    "Q: What is the difference between the \"fit\" and \"transform\" methods?\n",
    "\n",
    "+ \"[fit](https://scikit-learn.org/stable/glossary.html#term-fit)\": transformer learns something about the data\n",
    "+ \"[transform](https://scikit-learn.org/stable/glossary.html#term-transform)\": it uses what it learned to do the data transformation\n",
    "\n",
    "For examples\n",
    "+ CountVectorizer\n",
    "    - fit: learns the vocabulary\n",
    "    - transform: creates a document-term matrix using the vocabulary\n",
    "    \n",
    "+ SimpleImputer\n",
    "    - fit: learns the value to impute\n",
    "    - transform: fills in missing entries using the imputation value\n",
    "    \n",
    "+ StandardScaler\n",
    "    - fit: learns the mean and scale of each feature\n",
    "    - transform: standardizes the features using the mean and scale\n",
    "    \n",
    "+ HashingVectorizer\n",
    "    - fit: is not used, and thus it is known as a \"stateless\" transformer\n",
    "    - transform: create the document-term matrix using a hash of the token"
   ]
  },
  {
   "cell_type": "markdown",
   "id": "d3fcc781",
   "metadata": {},
   "source": [
    "# Use \"fit_transform\" on training data, but \"transform\" (only) on testing/new data\n",
    "\n",
    "Use \"[fit_transform](https://scikit-learn.org/stable/glossary.html#term-fit_transform)\" on training data, but \"[transform](https://scikit-learn.org/stable/glossary.html#term-transform)\" (only) on testing/new data.\n",
    "\n",
    "Applies the same transformations to both sets of data, which creates consistent columns and prevents [data leakage](https://scikit-learn.org/stable/common_pitfalls.html#data-leakage)!"
   ]
  },
  {
   "cell_type": "markdown",
   "id": "20f24b1e",
   "metadata": {},
   "source": [
    "# Get the feature names output by a ColumnTransformer\n",
    "\n",
    "Need to get the feature names output by a [ColumnTransformer](https://scikit-learn.org/stable/modules/generated/sklearn.compose.ColumnTransformer.html)?\n",
    "\n",
    "Use get_feature_names(), which now works with \"passthrough\" columns (new in version 0.23)!\n",
    "\n",
    "Note: Beginning in scikit-learn 1.0, the get_feature_names method has been deprecated in favor of [get_feature_names_out](https://scikit-learn.org/stable/modules/generated/sklearn.compose.ColumnTransformer.html#sklearn.compose.ColumnTransformer.get_feature_names_out).\n"
   ]
  },
  {
   "cell_type": "code",
   "execution_count": 23,
   "id": "85d46137",
   "metadata": {
    "ExecuteTime": {
     "end_time": "2021-10-01T13:48:08.181610Z",
     "start_time": "2021-10-01T13:48:08.151627Z"
    }
   },
   "outputs": [
    {
     "data": {
      "text/html": [
       "<div>\n",
       "<style scoped>\n",
       "    .dataframe tbody tr th:only-of-type {\n",
       "        vertical-align: middle;\n",
       "    }\n",
       "\n",
       "    .dataframe tbody tr th {\n",
       "        vertical-align: top;\n",
       "    }\n",
       "\n",
       "    .dataframe thead th {\n",
       "        text-align: right;\n",
       "    }\n",
       "</style>\n",
       "<table border=\"1\" class=\"dataframe\">\n",
       "  <thead>\n",
       "    <tr style=\"text-align: right;\">\n",
       "      <th></th>\n",
       "      <th>Fare</th>\n",
       "      <th>Embarked</th>\n",
       "      <th>Sex</th>\n",
       "      <th>Age</th>\n",
       "    </tr>\n",
       "  </thead>\n",
       "  <tbody>\n",
       "    <tr>\n",
       "      <th>0</th>\n",
       "      <td>7.2500</td>\n",
       "      <td>S</td>\n",
       "      <td>male</td>\n",
       "      <td>22.0</td>\n",
       "    </tr>\n",
       "    <tr>\n",
       "      <th>1</th>\n",
       "      <td>71.2833</td>\n",
       "      <td>C</td>\n",
       "      <td>female</td>\n",
       "      <td>38.0</td>\n",
       "    </tr>\n",
       "    <tr>\n",
       "      <th>2</th>\n",
       "      <td>7.9250</td>\n",
       "      <td>S</td>\n",
       "      <td>female</td>\n",
       "      <td>26.0</td>\n",
       "    </tr>\n",
       "    <tr>\n",
       "      <th>3</th>\n",
       "      <td>53.1000</td>\n",
       "      <td>S</td>\n",
       "      <td>female</td>\n",
       "      <td>35.0</td>\n",
       "    </tr>\n",
       "    <tr>\n",
       "      <th>4</th>\n",
       "      <td>8.0500</td>\n",
       "      <td>S</td>\n",
       "      <td>male</td>\n",
       "      <td>35.0</td>\n",
       "    </tr>\n",
       "    <tr>\n",
       "      <th>5</th>\n",
       "      <td>8.4583</td>\n",
       "      <td>Q</td>\n",
       "      <td>male</td>\n",
       "      <td>NaN</td>\n",
       "    </tr>\n",
       "  </tbody>\n",
       "</table>\n",
       "</div>"
      ],
      "text/plain": [
       "      Fare Embarked     Sex   Age\n",
       "0   7.2500        S    male  22.0\n",
       "1  71.2833        C  female  38.0\n",
       "2   7.9250        S  female  26.0\n",
       "3  53.1000        S  female  35.0\n",
       "4   8.0500        S    male  35.0\n",
       "5   8.4583        Q    male   NaN"
      ]
     },
     "execution_count": 23,
     "metadata": {},
     "output_type": "execute_result"
    }
   ],
   "source": [
    "X"
   ]
  },
  {
   "cell_type": "code",
   "execution_count": 24,
   "id": "e9ef5564",
   "metadata": {
    "ExecuteTime": {
     "end_time": "2021-10-01T13:48:08.196605Z",
     "start_time": "2021-10-01T13:48:08.181610Z"
    }
   },
   "outputs": [
    {
     "data": {
      "text/plain": [
       "Index(['Fare', 'Embarked', 'Sex', 'Age'], dtype='object')"
      ]
     },
     "execution_count": 24,
     "metadata": {},
     "output_type": "execute_result"
    }
   ],
   "source": [
    "X.columns"
   ]
  },
  {
   "cell_type": "code",
   "execution_count": 25,
   "id": "f6fc7e0f",
   "metadata": {
    "ExecuteTime": {
     "end_time": "2021-10-01T13:48:08.226586Z",
     "start_time": "2021-10-01T13:48:08.196605Z"
    }
   },
   "outputs": [],
   "source": [
    "col_transformer = make_column_transformer(\n",
    "    (OneHotEncoder(), [\"Embarked\", \"Sex\"]),\n",
    "    remainder=\"passthrough\"\n",
    ")"
   ]
  },
  {
   "cell_type": "code",
   "execution_count": 26,
   "id": "9ef9b582",
   "metadata": {
    "ExecuteTime": {
     "end_time": "2021-10-01T13:48:08.241578Z",
     "start_time": "2021-10-01T13:48:08.226586Z"
    }
   },
   "outputs": [
    {
     "data": {
      "text/plain": [
       "array([[ 0.    ,  0.    ,  1.    ,  0.    ,  1.    ,  7.25  , 22.    ],\n",
       "       [ 1.    ,  0.    ,  0.    ,  1.    ,  0.    , 71.2833, 38.    ],\n",
       "       [ 0.    ,  0.    ,  1.    ,  1.    ,  0.    ,  7.925 , 26.    ],\n",
       "       [ 0.    ,  0.    ,  1.    ,  1.    ,  0.    , 53.1   , 35.    ],\n",
       "       [ 0.    ,  0.    ,  1.    ,  0.    ,  1.    ,  8.05  , 35.    ],\n",
       "       [ 0.    ,  1.    ,  0.    ,  0.    ,  1.    ,  8.4583,     nan]])"
      ]
     },
     "execution_count": 26,
     "metadata": {},
     "output_type": "execute_result"
    }
   ],
   "source": [
    "ft = col_transformer.fit_transform(X)\n",
    "ft"
   ]
  },
  {
   "cell_type": "code",
   "execution_count": 27,
   "id": "7ee794db",
   "metadata": {
    "ExecuteTime": {
     "end_time": "2021-10-01T13:48:08.256570Z",
     "start_time": "2021-10-01T13:48:08.241578Z"
    }
   },
   "outputs": [
    {
     "data": {
      "text/plain": [
       "(6, 7)"
      ]
     },
     "execution_count": 27,
     "metadata": {},
     "output_type": "execute_result"
    }
   ],
   "source": [
    "ft.shape"
   ]
  },
  {
   "cell_type": "code",
   "execution_count": 28,
   "id": "fbd8a8af",
   "metadata": {
    "ExecuteTime": {
     "end_time": "2021-10-01T13:48:08.276558Z",
     "start_time": "2021-10-01T13:48:08.261567Z"
    }
   },
   "outputs": [
    {
     "data": {
      "text/plain": [
       "['onehotencoder__x0_C',\n",
       " 'onehotencoder__x0_Q',\n",
       " 'onehotencoder__x0_S',\n",
       " 'onehotencoder__x1_female',\n",
       " 'onehotencoder__x1_male',\n",
       " 'Fare',\n",
       " 'Age']"
      ]
     },
     "execution_count": 28,
     "metadata": {},
     "output_type": "execute_result"
    }
   ],
   "source": [
    "col_transformer.get_feature_names()"
   ]
  },
  {
   "cell_type": "markdown",
   "id": "83353873",
   "metadata": {},
   "source": [
    "# Passthrough some columns and drop others in a ColumnTransformer\n",
    "\n",
    "In a [ColumnTransformer](https://scikit-learn.org/stable/modules/generated/sklearn.compose.make_column_transformer.html), you can use the strings 'passthrough' and 'drop' in place of a transformer. \n",
    "\n",
    "Useful if you need to passthrough some columns and drop others!"
   ]
  },
  {
   "cell_type": "code",
   "execution_count": 29,
   "id": "2c2a6053",
   "metadata": {
    "ExecuteTime": {
     "end_time": "2021-10-01T13:48:08.306544Z",
     "start_time": "2021-10-01T13:48:08.276558Z"
    }
   },
   "outputs": [
    {
     "data": {
      "text/html": [
       "<div>\n",
       "<style scoped>\n",
       "    .dataframe tbody tr th:only-of-type {\n",
       "        vertical-align: middle;\n",
       "    }\n",
       "\n",
       "    .dataframe tbody tr th {\n",
       "        vertical-align: top;\n",
       "    }\n",
       "\n",
       "    .dataframe thead th {\n",
       "        text-align: right;\n",
       "    }\n",
       "</style>\n",
       "<table border=\"1\" class=\"dataframe\">\n",
       "  <thead>\n",
       "    <tr style=\"text-align: right;\">\n",
       "      <th></th>\n",
       "      <th>Fare</th>\n",
       "      <th>Embarked</th>\n",
       "      <th>Sex</th>\n",
       "      <th>Age</th>\n",
       "    </tr>\n",
       "  </thead>\n",
       "  <tbody>\n",
       "    <tr>\n",
       "      <th>0</th>\n",
       "      <td>7.2500</td>\n",
       "      <td>S</td>\n",
       "      <td>male</td>\n",
       "      <td>22.0</td>\n",
       "    </tr>\n",
       "    <tr>\n",
       "      <th>1</th>\n",
       "      <td>71.2833</td>\n",
       "      <td>C</td>\n",
       "      <td>female</td>\n",
       "      <td>38.0</td>\n",
       "    </tr>\n",
       "    <tr>\n",
       "      <th>2</th>\n",
       "      <td>7.9250</td>\n",
       "      <td>S</td>\n",
       "      <td>female</td>\n",
       "      <td>26.0</td>\n",
       "    </tr>\n",
       "    <tr>\n",
       "      <th>3</th>\n",
       "      <td>53.1000</td>\n",
       "      <td>S</td>\n",
       "      <td>female</td>\n",
       "      <td>35.0</td>\n",
       "    </tr>\n",
       "    <tr>\n",
       "      <th>4</th>\n",
       "      <td>8.0500</td>\n",
       "      <td>S</td>\n",
       "      <td>male</td>\n",
       "      <td>35.0</td>\n",
       "    </tr>\n",
       "    <tr>\n",
       "      <th>5</th>\n",
       "      <td>8.4583</td>\n",
       "      <td>Q</td>\n",
       "      <td>male</td>\n",
       "      <td>NaN</td>\n",
       "    </tr>\n",
       "  </tbody>\n",
       "</table>\n",
       "</div>"
      ],
      "text/plain": [
       "      Fare Embarked     Sex   Age\n",
       "0   7.2500        S    male  22.0\n",
       "1  71.2833        C  female  38.0\n",
       "2   7.9250        S  female  26.0\n",
       "3  53.1000        S  female  35.0\n",
       "4   8.0500        S    male  35.0\n",
       "5   8.4583        Q    male   NaN"
      ]
     },
     "execution_count": 29,
     "metadata": {},
     "output_type": "execute_result"
    }
   ],
   "source": [
    "X"
   ]
  },
  {
   "cell_type": "markdown",
   "id": "1219b13f",
   "metadata": {},
   "source": [
    "## Method 1: \"passthrough\" with some columns"
   ]
  },
  {
   "cell_type": "code",
   "execution_count": 30,
   "id": "8cc6d1a3",
   "metadata": {
    "ExecuteTime": {
     "end_time": "2021-10-01T13:48:08.321535Z",
     "start_time": "2021-10-01T13:48:08.306544Z"
    }
   },
   "outputs": [
    {
     "data": {
      "text/plain": [
       "array([[22.    ,  7.25  ],\n",
       "       [38.    , 71.2833],\n",
       "       [26.    ,  7.925 ],\n",
       "       [35.    , 53.1   ],\n",
       "       [35.    ,  8.05  ],\n",
       "       [31.2   ,  8.4583]])"
      ]
     },
     "execution_count": 30,
     "metadata": {},
     "output_type": "execute_result"
    }
   ],
   "source": [
    "col_transformer = make_column_transformer(\n",
    "    (SimpleImputer(), [\"Age\"]),\n",
    "    (\"passthrough\", [\"Fare\"]),\n",
    "    remainder=\"drop\"\n",
    ")\n",
    "col_transformer.fit_transform(X)"
   ]
  },
  {
   "cell_type": "markdown",
   "id": "5a10695e",
   "metadata": {},
   "source": [
    "## Method 2: \"drop\" with some columns"
   ]
  },
  {
   "cell_type": "code",
   "execution_count": 31,
   "id": "771efa2b",
   "metadata": {
    "ExecuteTime": {
     "end_time": "2021-10-01T13:48:08.336526Z",
     "start_time": "2021-10-01T13:48:08.321535Z"
    }
   },
   "outputs": [
    {
     "data": {
      "text/plain": [
       "array([[22.    ,  7.25  ],\n",
       "       [38.    , 71.2833],\n",
       "       [26.    ,  7.925 ],\n",
       "       [35.    , 53.1   ],\n",
       "       [35.    ,  8.05  ],\n",
       "       [31.2   ,  8.4583]])"
      ]
     },
     "execution_count": 31,
     "metadata": {},
     "output_type": "execute_result"
    }
   ],
   "source": [
    "col_transformer = make_column_transformer(\n",
    "    (SimpleImputer(), [\"Age\"]),\n",
    "    (\"drop\", [\"Embarked\", \"Sex\"]),\n",
    "    remainder=\"passthrough\"\n",
    ")\n",
    "\n",
    "col_transformer.fit_transform(X)"
   ]
  },
  {
   "cell_type": "markdown",
   "id": "44816c2f",
   "metadata": {},
   "source": [
    "# (Detail ?) Four reasons to use scikit-learn (not pandas) for ML preprocessing\n",
    "\n",
    "Reasons to use scikit-learn (not pandas) for ML [preprocessing](https://scikit-learn.org/stable/modules/preprocessing.html):\n",
    "+ You can cross-validate the entire workflow\n",
    "+ You can [grid search](https://scikit-learn.org/stable/modules/grid_search.html) model & preprocessing hyperparameters\n",
    "+ Avoids adding new columns to the source DataFrame\n",
    "+ pandas lacks separate fit/transform steps to prevent [data leakage](https://scikit-learn.org/stable/common_pitfalls.html#data-leakage)"
   ]
  },
  {
   "cell_type": "markdown",
   "id": "aa8ded58",
   "metadata": {},
   "source": [
    "# Don't use .values when passing a pandas object to scikit-learn\n",
    "\n",
    "There's no need to use \".values\" when passing a DataFrame or Series to scikit-learn... it knows how to access the underlying NumPy array!\n"
   ]
  },
  {
   "cell_type": "code",
   "execution_count": 32,
   "id": "c6e32e59",
   "metadata": {
    "ExecuteTime": {
     "end_time": "2021-10-01T13:48:08.366511Z",
     "start_time": "2021-10-01T13:48:08.336526Z"
    }
   },
   "outputs": [
    {
     "data": {
      "text/html": [
       "<div>\n",
       "<style scoped>\n",
       "    .dataframe tbody tr th:only-of-type {\n",
       "        vertical-align: middle;\n",
       "    }\n",
       "\n",
       "    .dataframe tbody tr th {\n",
       "        vertical-align: top;\n",
       "    }\n",
       "\n",
       "    .dataframe thead th {\n",
       "        text-align: right;\n",
       "    }\n",
       "</style>\n",
       "<table border=\"1\" class=\"dataframe\">\n",
       "  <thead>\n",
       "    <tr style=\"text-align: right;\">\n",
       "      <th></th>\n",
       "      <th>PassengerId</th>\n",
       "      <th>Survived</th>\n",
       "      <th>Pclass</th>\n",
       "      <th>Name</th>\n",
       "      <th>Sex</th>\n",
       "      <th>Age</th>\n",
       "      <th>SibSp</th>\n",
       "      <th>Parch</th>\n",
       "      <th>Ticket</th>\n",
       "      <th>Fare</th>\n",
       "      <th>Cabin</th>\n",
       "      <th>Embarked</th>\n",
       "    </tr>\n",
       "  </thead>\n",
       "  <tbody>\n",
       "    <tr>\n",
       "      <th>0</th>\n",
       "      <td>1</td>\n",
       "      <td>0</td>\n",
       "      <td>3</td>\n",
       "      <td>Braund, Mr. Owen Harris</td>\n",
       "      <td>male</td>\n",
       "      <td>22.0</td>\n",
       "      <td>1</td>\n",
       "      <td>0</td>\n",
       "      <td>A/5 21171</td>\n",
       "      <td>7.2500</td>\n",
       "      <td>NaN</td>\n",
       "      <td>S</td>\n",
       "    </tr>\n",
       "    <tr>\n",
       "      <th>1</th>\n",
       "      <td>2</td>\n",
       "      <td>1</td>\n",
       "      <td>1</td>\n",
       "      <td>Cumings, Mrs. John Bradley (Florence Briggs Th...</td>\n",
       "      <td>female</td>\n",
       "      <td>38.0</td>\n",
       "      <td>1</td>\n",
       "      <td>0</td>\n",
       "      <td>PC 17599</td>\n",
       "      <td>71.2833</td>\n",
       "      <td>C85</td>\n",
       "      <td>C</td>\n",
       "    </tr>\n",
       "  </tbody>\n",
       "</table>\n",
       "</div>"
      ],
      "text/plain": [
       "   PassengerId  Survived  Pclass  \\\n",
       "0            1         0       3   \n",
       "1            2         1       1   \n",
       "\n",
       "                                                Name     Sex   Age  SibSp  \\\n",
       "0                            Braund, Mr. Owen Harris    male  22.0      1   \n",
       "1  Cumings, Mrs. John Bradley (Florence Briggs Th...  female  38.0      1   \n",
       "\n",
       "   Parch     Ticket     Fare Cabin Embarked  \n",
       "0      0  A/5 21171   7.2500   NaN        S  \n",
       "1      0   PC 17599  71.2833   C85        C  "
      ]
     },
     "execution_count": 32,
     "metadata": {},
     "output_type": "execute_result"
    }
   ],
   "source": [
    "df.head(2)"
   ]
  },
  {
   "cell_type": "code",
   "execution_count": 33,
   "id": "73433781",
   "metadata": {
    "ExecuteTime": {
     "end_time": "2021-10-01T13:48:08.381502Z",
     "start_time": "2021-10-01T13:48:08.366511Z"
    }
   },
   "outputs": [],
   "source": [
    "from sklearn.linear_model import LogisticRegression"
   ]
  },
  {
   "cell_type": "code",
   "execution_count": 34,
   "id": "b64a5080",
   "metadata": {
    "ExecuteTime": {
     "end_time": "2021-10-01T13:48:08.396494Z",
     "start_time": "2021-10-01T13:48:08.381502Z"
    }
   },
   "outputs": [],
   "source": [
    "clf = LogisticRegression()"
   ]
  },
  {
   "cell_type": "code",
   "execution_count": 35,
   "id": "19418302",
   "metadata": {
    "ExecuteTime": {
     "end_time": "2021-10-01T13:48:08.411487Z",
     "start_time": "2021-10-01T13:48:08.396494Z"
    }
   },
   "outputs": [],
   "source": [
    "X = df[[\"Pclass\", \"Fare\"]]\n",
    "y = df[\"Survived\"]"
   ]
  },
  {
   "cell_type": "code",
   "execution_count": 36,
   "id": "488f0f50",
   "metadata": {
    "ExecuteTime": {
     "end_time": "2021-10-01T13:48:08.441472Z",
     "start_time": "2021-10-01T13:48:08.411487Z"
    }
   },
   "outputs": [
    {
     "data": {
      "text/plain": [
       "pandas.core.frame.DataFrame"
      ]
     },
     "execution_count": 36,
     "metadata": {},
     "output_type": "execute_result"
    }
   ],
   "source": [
    "type(X)"
   ]
  },
  {
   "cell_type": "code",
   "execution_count": 37,
   "id": "cfa52ca3",
   "metadata": {
    "ExecuteTime": {
     "end_time": "2021-10-01T13:48:08.456463Z",
     "start_time": "2021-10-01T13:48:08.441472Z"
    }
   },
   "outputs": [
    {
     "data": {
      "text/plain": [
       "pandas.core.series.Series"
      ]
     },
     "execution_count": 37,
     "metadata": {},
     "output_type": "execute_result"
    }
   ],
   "source": [
    "type(y)"
   ]
  },
  {
   "cell_type": "code",
   "execution_count": 38,
   "id": "b22e1be2",
   "metadata": {
    "ExecuteTime": {
     "end_time": "2021-10-01T13:48:08.506437Z",
     "start_time": "2021-10-01T13:48:08.456463Z"
    }
   },
   "outputs": [
    {
     "data": {
      "text/plain": [
       "LogisticRegression()"
      ]
     },
     "execution_count": 38,
     "metadata": {},
     "output_type": "execute_result"
    }
   ],
   "source": [
    "clf.fit(X, y)"
   ]
  },
  {
   "cell_type": "markdown",
   "id": "2432bbe1",
   "metadata": {},
   "source": [
    "# Load a toy dataset into a DataFrame\n",
    "\n",
    "New in version 0.23: Need to load a [toy dataset](https://scikit-learn.org/stable/datasets/toy_dataset.html) into a DataFrame, including column names? Set as_frame=True.\n",
    "\n",
    "Want features and target as separate objects? Also set return_X_y=True.\n",
    "\n",
    "Additional links: [load_iris](https://scikit-learn.org/stable/modules/generated/sklearn.datasets.load_iris.html)"
   ]
  },
  {
   "cell_type": "code",
   "execution_count": 39,
   "id": "899b7d19",
   "metadata": {
    "ExecuteTime": {
     "end_time": "2021-10-01T13:48:08.566403Z",
     "start_time": "2021-10-01T13:48:08.516430Z"
    }
   },
   "outputs": [],
   "source": [
    "from sklearn.datasets import load_iris"
   ]
  },
  {
   "cell_type": "markdown",
   "id": "b06a63a3",
   "metadata": {},
   "source": [
    "## Return DataFrame with features and target"
   ]
  },
  {
   "cell_type": "code",
   "execution_count": 40,
   "id": "05023072",
   "metadata": {
    "ExecuteTime": {
     "end_time": "2021-10-01T13:48:08.581396Z",
     "start_time": "2021-10-01T13:48:08.566403Z"
    }
   },
   "outputs": [],
   "source": [
    "df_toy = load_iris(as_frame=True)"
   ]
  },
  {
   "cell_type": "code",
   "execution_count": 41,
   "id": "a439e690",
   "metadata": {
    "ExecuteTime": {
     "end_time": "2021-10-01T13:48:08.596388Z",
     "start_time": "2021-10-01T13:48:08.581396Z"
    }
   },
   "outputs": [
    {
     "data": {
      "text/plain": [
       "sklearn.utils.Bunch"
      ]
     },
     "execution_count": 41,
     "metadata": {},
     "output_type": "execute_result"
    }
   ],
   "source": [
    "type(df_toy)"
   ]
  },
  {
   "cell_type": "code",
   "execution_count": 42,
   "id": "143dbad2",
   "metadata": {
    "ExecuteTime": {
     "end_time": "2021-10-01T13:48:08.611380Z",
     "start_time": "2021-10-01T13:48:08.596388Z"
    }
   },
   "outputs": [
    {
     "name": "stdout",
     "output_type": "stream",
     "text": [
      "['DESCR', 'data', 'feature_names', 'filename', 'frame', 'target', 'target_names']\n"
     ]
    }
   ],
   "source": [
    "print(dir(df_toy))"
   ]
  },
  {
   "cell_type": "code",
   "execution_count": 43,
   "id": "47034b90",
   "metadata": {
    "ExecuteTime": {
     "end_time": "2021-10-01T13:48:08.631368Z",
     "start_time": "2021-10-01T13:48:08.611380Z"
    }
   },
   "outputs": [],
   "source": [
    "df_toy_frame = df_toy[\"frame\"]"
   ]
  },
  {
   "cell_type": "code",
   "execution_count": 44,
   "id": "f6738eaa",
   "metadata": {
    "ExecuteTime": {
     "end_time": "2021-10-01T13:48:08.646578Z",
     "start_time": "2021-10-01T13:48:08.631368Z"
    }
   },
   "outputs": [
    {
     "data": {
      "text/html": [
       "<div>\n",
       "<style scoped>\n",
       "    .dataframe tbody tr th:only-of-type {\n",
       "        vertical-align: middle;\n",
       "    }\n",
       "\n",
       "    .dataframe tbody tr th {\n",
       "        vertical-align: top;\n",
       "    }\n",
       "\n",
       "    .dataframe thead th {\n",
       "        text-align: right;\n",
       "    }\n",
       "</style>\n",
       "<table border=\"1\" class=\"dataframe\">\n",
       "  <thead>\n",
       "    <tr style=\"text-align: right;\">\n",
       "      <th></th>\n",
       "      <th>sepal length (cm)</th>\n",
       "      <th>sepal width (cm)</th>\n",
       "      <th>petal length (cm)</th>\n",
       "      <th>petal width (cm)</th>\n",
       "      <th>target</th>\n",
       "    </tr>\n",
       "  </thead>\n",
       "  <tbody>\n",
       "    <tr>\n",
       "      <th>0</th>\n",
       "      <td>5.1</td>\n",
       "      <td>3.5</td>\n",
       "      <td>1.4</td>\n",
       "      <td>0.2</td>\n",
       "      <td>0</td>\n",
       "    </tr>\n",
       "    <tr>\n",
       "      <th>1</th>\n",
       "      <td>4.9</td>\n",
       "      <td>3.0</td>\n",
       "      <td>1.4</td>\n",
       "      <td>0.2</td>\n",
       "      <td>0</td>\n",
       "    </tr>\n",
       "    <tr>\n",
       "      <th>2</th>\n",
       "      <td>4.7</td>\n",
       "      <td>3.2</td>\n",
       "      <td>1.3</td>\n",
       "      <td>0.2</td>\n",
       "      <td>0</td>\n",
       "    </tr>\n",
       "  </tbody>\n",
       "</table>\n",
       "</div>"
      ],
      "text/plain": [
       "   sepal length (cm)  sepal width (cm)  petal length (cm)  petal width (cm)  \\\n",
       "0                5.1               3.5                1.4               0.2   \n",
       "1                4.9               3.0                1.4               0.2   \n",
       "2                4.7               3.2                1.3               0.2   \n",
       "\n",
       "   target  \n",
       "0       0  \n",
       "1       0  \n",
       "2       0  "
      ]
     },
     "execution_count": 44,
     "metadata": {},
     "output_type": "execute_result"
    }
   ],
   "source": [
    "df_toy_frame.head(3)"
   ]
  },
  {
   "cell_type": "markdown",
   "id": "4e992d48",
   "metadata": {},
   "source": [
    "## Return Feature DataFrame and Target Series "
   ]
  },
  {
   "cell_type": "code",
   "execution_count": 45,
   "id": "c51c5c1f",
   "metadata": {
    "ExecuteTime": {
     "end_time": "2021-10-01T13:48:08.756313Z",
     "start_time": "2021-10-01T13:48:08.739330Z"
    }
   },
   "outputs": [],
   "source": [
    "X_toy, y_toy = load_iris(as_frame=True, return_X_y=True)"
   ]
  },
  {
   "cell_type": "code",
   "execution_count": 46,
   "id": "e78c83fb",
   "metadata": {
    "ExecuteTime": {
     "end_time": "2021-10-01T13:48:08.772243Z",
     "start_time": "2021-10-01T13:48:08.760275Z"
    }
   },
   "outputs": [
    {
     "data": {
      "text/html": [
       "<div>\n",
       "<style scoped>\n",
       "    .dataframe tbody tr th:only-of-type {\n",
       "        vertical-align: middle;\n",
       "    }\n",
       "\n",
       "    .dataframe tbody tr th {\n",
       "        vertical-align: top;\n",
       "    }\n",
       "\n",
       "    .dataframe thead th {\n",
       "        text-align: right;\n",
       "    }\n",
       "</style>\n",
       "<table border=\"1\" class=\"dataframe\">\n",
       "  <thead>\n",
       "    <tr style=\"text-align: right;\">\n",
       "      <th></th>\n",
       "      <th>sepal length (cm)</th>\n",
       "      <th>sepal width (cm)</th>\n",
       "      <th>petal length (cm)</th>\n",
       "      <th>petal width (cm)</th>\n",
       "    </tr>\n",
       "  </thead>\n",
       "  <tbody>\n",
       "    <tr>\n",
       "      <th>0</th>\n",
       "      <td>5.1</td>\n",
       "      <td>3.5</td>\n",
       "      <td>1.4</td>\n",
       "      <td>0.2</td>\n",
       "    </tr>\n",
       "    <tr>\n",
       "      <th>1</th>\n",
       "      <td>4.9</td>\n",
       "      <td>3.0</td>\n",
       "      <td>1.4</td>\n",
       "      <td>0.2</td>\n",
       "    </tr>\n",
       "    <tr>\n",
       "      <th>2</th>\n",
       "      <td>4.7</td>\n",
       "      <td>3.2</td>\n",
       "      <td>1.3</td>\n",
       "      <td>0.2</td>\n",
       "    </tr>\n",
       "  </tbody>\n",
       "</table>\n",
       "</div>"
      ],
      "text/plain": [
       "   sepal length (cm)  sepal width (cm)  petal length (cm)  petal width (cm)\n",
       "0                5.1               3.5                1.4               0.2\n",
       "1                4.9               3.0                1.4               0.2\n",
       "2                4.7               3.2                1.3               0.2"
      ]
     },
     "execution_count": 46,
     "metadata": {},
     "output_type": "execute_result"
    }
   ],
   "source": [
    "X_toy.head(3)"
   ]
  },
  {
   "cell_type": "code",
   "execution_count": 47,
   "id": "49daa631",
   "metadata": {
    "ExecuteTime": {
     "end_time": "2021-10-01T13:48:08.803160Z",
     "start_time": "2021-10-01T13:48:08.776233Z"
    }
   },
   "outputs": [
    {
     "data": {
      "text/plain": [
       "0    0\n",
       "1    0\n",
       "2    0\n",
       "Name: target, dtype: int32"
      ]
     },
     "execution_count": 47,
     "metadata": {},
     "output_type": "execute_result"
    }
   ],
   "source": [
    "y_toy.head(3)"
   ]
  },
  {
   "cell_type": "markdown",
   "id": "16d5c001",
   "metadata": {},
   "source": [
    "# Encode categorical features using OneHotEncoder or OrdinalEncoder\n",
    "\n",
    "Two common ways to encode categorical features:\n",
    "+ [OneHotEncoder](https://scikit-learn.org/stable/modules/generated/sklearn.preprocessing.OneHotEncoder.html) for unordered (nominal) data\n",
    "+ [OrdinalEncoder](https://scikit-learn.org/stable/modules/generated/sklearn.preprocessing.OrdinalEncoder.html) for ordered (ordinal) data\n",
    "\n",
    "P.S. [LabelEncoder](https://scikit-learn.org/stable/modules/generated/sklearn.preprocessing.LabelEncoder.html) is for labels, not features!"
   ]
  },
  {
   "cell_type": "code",
   "execution_count": 48,
   "id": "b41ac93c",
   "metadata": {
    "ExecuteTime": {
     "end_time": "2021-10-01T13:48:08.945779Z",
     "start_time": "2021-10-01T13:48:08.940792Z"
    }
   },
   "outputs": [],
   "source": [
    "# \"Shape\" is unordered, \"Class\" and \"Size\" are ordered\n",
    "X = pd.DataFrame({'Shape':['square', 'square', 'oval', 'circle'],\n",
    "                  'Class': ['third', 'first', 'second', 'third'],\n",
    "                  'Size': ['S', 'S', 'L', 'XL']})"
   ]
  },
  {
   "cell_type": "code",
   "execution_count": 49,
   "id": "7ff853f2",
   "metadata": {
    "ExecuteTime": {
     "end_time": "2021-10-01T13:48:08.986436Z",
     "start_time": "2021-10-01T13:48:08.959741Z"
    }
   },
   "outputs": [
    {
     "data": {
      "text/html": [
       "<div>\n",
       "<style scoped>\n",
       "    .dataframe tbody tr th:only-of-type {\n",
       "        vertical-align: middle;\n",
       "    }\n",
       "\n",
       "    .dataframe tbody tr th {\n",
       "        vertical-align: top;\n",
       "    }\n",
       "\n",
       "    .dataframe thead th {\n",
       "        text-align: right;\n",
       "    }\n",
       "</style>\n",
       "<table border=\"1\" class=\"dataframe\">\n",
       "  <thead>\n",
       "    <tr style=\"text-align: right;\">\n",
       "      <th></th>\n",
       "      <th>Shape</th>\n",
       "      <th>Class</th>\n",
       "      <th>Size</th>\n",
       "    </tr>\n",
       "  </thead>\n",
       "  <tbody>\n",
       "    <tr>\n",
       "      <th>0</th>\n",
       "      <td>square</td>\n",
       "      <td>third</td>\n",
       "      <td>S</td>\n",
       "    </tr>\n",
       "    <tr>\n",
       "      <th>1</th>\n",
       "      <td>square</td>\n",
       "      <td>first</td>\n",
       "      <td>S</td>\n",
       "    </tr>\n",
       "    <tr>\n",
       "      <th>2</th>\n",
       "      <td>oval</td>\n",
       "      <td>second</td>\n",
       "      <td>L</td>\n",
       "    </tr>\n",
       "    <tr>\n",
       "      <th>3</th>\n",
       "      <td>circle</td>\n",
       "      <td>third</td>\n",
       "      <td>XL</td>\n",
       "    </tr>\n",
       "  </tbody>\n",
       "</table>\n",
       "</div>"
      ],
      "text/plain": [
       "    Shape   Class Size\n",
       "0  square   third    S\n",
       "1  square   first    S\n",
       "2    oval  second    L\n",
       "3  circle   third   XL"
      ]
     },
     "execution_count": 49,
     "metadata": {},
     "output_type": "execute_result"
    }
   ],
   "source": [
    "X"
   ]
  },
  {
   "cell_type": "code",
   "execution_count": 50,
   "id": "dd1c82b5",
   "metadata": {
    "ExecuteTime": {
     "end_time": "2021-10-01T13:48:09.001399Z",
     "start_time": "2021-10-01T13:48:08.986436Z"
    }
   },
   "outputs": [
    {
     "data": {
      "text/plain": [
       "(4,)"
      ]
     },
     "execution_count": 50,
     "metadata": {},
     "output_type": "execute_result"
    }
   ],
   "source": [
    "X[\"Shape\"].shape"
   ]
  },
  {
   "cell_type": "code",
   "execution_count": 51,
   "id": "c150a532",
   "metadata": {
    "ExecuteTime": {
     "end_time": "2021-10-01T13:48:09.031412Z",
     "start_time": "2021-10-01T13:48:09.001399Z"
    }
   },
   "outputs": [
    {
     "data": {
      "text/plain": [
       "(4, 1)"
      ]
     },
     "execution_count": 51,
     "metadata": {},
     "output_type": "execute_result"
    }
   ],
   "source": [
    "X[[\"Shape\"]].shape"
   ]
  },
  {
   "cell_type": "markdown",
   "id": "59166ea9",
   "metadata": {},
   "source": [
    "## left-to-right column order is alphabetical (circle, oval, square)"
   ]
  },
  {
   "cell_type": "code",
   "execution_count": 52,
   "id": "d5f6a21b",
   "metadata": {
    "ExecuteTime": {
     "end_time": "2021-10-01T13:48:09.161314Z",
     "start_time": "2021-10-01T13:48:09.151320Z"
    }
   },
   "outputs": [
    {
     "data": {
      "text/plain": [
       "array([[0., 0., 1.],\n",
       "       [0., 0., 1.],\n",
       "       [0., 1., 0.],\n",
       "       [1., 0., 0.]])"
      ]
     },
     "execution_count": 52,
     "metadata": {},
     "output_type": "execute_result"
    }
   ],
   "source": [
    "ohe = OneHotEncoder(sparse=False)\n",
    "ohe.fit_transform(X[[\"Shape\"]])"
   ]
  },
  {
   "cell_type": "markdown",
   "id": "ad4e58cb",
   "metadata": {},
   "source": [
    "## category ordering (within each feature) "
   ]
  },
  {
   "cell_type": "code",
   "execution_count": 53,
   "id": "0a06f596",
   "metadata": {
    "ExecuteTime": {
     "end_time": "2021-10-01T13:48:09.336224Z",
     "start_time": "2021-10-01T13:48:09.321230Z"
    }
   },
   "outputs": [
    {
     "data": {
      "text/plain": [
       "array([[2., 0.],\n",
       "       [0., 0.],\n",
       "       [1., 2.],\n",
       "       [2., 3.]])"
      ]
     },
     "execution_count": 53,
     "metadata": {},
     "output_type": "execute_result"
    }
   ],
   "source": [
    "from sklearn.preprocessing import OrdinalEncoder\n",
    "\n",
    "oe = OrdinalEncoder(categories=[\n",
    "    [\"first\", \"second\", \"third\"],  # order of Class\n",
    "    [\"S\", \"M\", \"L\", \"XL\"]          # order of Size  \n",
    "])\n",
    "\n",
    "oe.fit_transform(X[[\"Class\", \"Size\"]])"
   ]
  },
  {
   "cell_type": "code",
   "execution_count": null,
   "id": "29c673e4",
   "metadata": {},
   "outputs": [],
   "source": []
  },
  {
   "cell_type": "code",
   "execution_count": null,
   "id": "4b376dab",
   "metadata": {},
   "outputs": [],
   "source": []
  },
  {
   "cell_type": "code",
   "execution_count": null,
   "id": "8249497b",
   "metadata": {},
   "outputs": [],
   "source": []
  },
  {
   "cell_type": "code",
   "execution_count": null,
   "id": "309fc490",
   "metadata": {},
   "outputs": [],
   "source": []
  },
  {
   "cell_type": "code",
   "execution_count": null,
   "id": "90ef568f",
   "metadata": {},
   "outputs": [],
   "source": []
  },
  {
   "cell_type": "code",
   "execution_count": null,
   "id": "c35393f7",
   "metadata": {},
   "outputs": [],
   "source": []
  },
  {
   "cell_type": "code",
   "execution_count": null,
   "id": "5599be0d",
   "metadata": {},
   "outputs": [],
   "source": []
  }
 ],
 "metadata": {
  "kernelspec": {
   "display_name": "Python 3 (ipykernel)",
   "language": "python",
   "name": "python3"
  },
  "language_info": {
   "codemirror_mode": {
    "name": "ipython",
    "version": 3
   },
   "file_extension": ".py",
   "mimetype": "text/x-python",
   "name": "python",
   "nbconvert_exporter": "python",
   "pygments_lexer": "ipython3",
   "version": "3.7.6"
  },
  "latex_envs": {
   "LaTeX_envs_menu_present": true,
   "autoclose": false,
   "autocomplete": true,
   "bibliofile": "biblio.bib",
   "cite_by": "apalike",
   "current_citInitial": 1,
   "eqLabelWithNumbers": true,
   "eqNumInitial": 1,
   "hotkeys": {
    "equation": "Ctrl-E",
    "itemize": "Ctrl-I"
   },
   "labels_anchors": false,
   "latex_user_defs": false,
   "report_style_numbering": false,
   "user_envs_cfg": false
  },
  "toc": {
   "base_numbering": 1,
   "nav_menu": {},
   "number_sections": true,
   "sideBar": true,
   "skip_h1_title": false,
   "title_cell": "Table of Contents",
   "title_sidebar": "Contents",
   "toc_cell": false,
   "toc_position": {
    "height": "calc(100% - 180px)",
    "left": "10px",
    "top": "150px",
    "width": "369px"
   },
   "toc_section_display": true,
   "toc_window_display": true
  },
  "varInspector": {
   "cols": {
    "lenName": 16,
    "lenType": 16,
    "lenVar": 40
   },
   "kernels_config": {
    "python": {
     "delete_cmd_postfix": "",
     "delete_cmd_prefix": "del ",
     "library": "var_list.py",
     "varRefreshCmd": "print(var_dic_list())"
    },
    "r": {
     "delete_cmd_postfix": ") ",
     "delete_cmd_prefix": "rm(",
     "library": "var_list.r",
     "varRefreshCmd": "cat(var_dic_list()) "
    }
   },
   "types_to_exclude": [
    "module",
    "function",
    "builtin_function_or_method",
    "instance",
    "_Feature"
   ],
   "window_display": false
  }
 },
 "nbformat": 4,
 "nbformat_minor": 5
}
