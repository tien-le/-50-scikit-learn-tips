{
 "cells": [
  {
   "cell_type": "markdown",
   "id": "armed-sound",
   "metadata": {},
   "source": [
    "Course \"50 scikit-learn tips\" by **Kenvin Markham**\n",
    "\n",
    "Link: https://courses.dataschool.io/courses/scikit-learn-tips/801794-introduction/2376425-welcome-to-the-course\n",
    "\n",
    "* Updated by Tien LE\n",
    "* Updated date: 2021-10-01\n"
   ]
  },
  {
   "cell_type": "code",
   "execution_count": 1,
   "id": "secure-format",
   "metadata": {
    "ExecuteTime": {
     "end_time": "2021-10-15T21:37:17.905540Z",
     "start_time": "2021-10-15T21:37:17.469087Z"
    }
   },
   "outputs": [],
   "source": [
    "import sklearn"
   ]
  },
  {
   "cell_type": "code",
   "execution_count": 2,
   "id": "beautiful-bacteria",
   "metadata": {
    "ExecuteTime": {
     "end_time": "2021-10-15T21:37:17.916744Z",
     "start_time": "2021-10-15T21:37:17.907361Z"
    }
   },
   "outputs": [
    {
     "data": {
      "text/plain": [
       "'1.0'"
      ]
     },
     "execution_count": 2,
     "metadata": {},
     "output_type": "execute_result"
    }
   ],
   "source": [
    "sklearn.__version__"
   ]
  },
  {
   "cell_type": "code",
   "execution_count": 3,
   "id": "atlantic-nickname",
   "metadata": {
    "ExecuteTime": {
     "end_time": "2021-10-15T21:37:17.923928Z",
     "start_time": "2021-10-15T21:37:17.917927Z"
    }
   },
   "outputs": [],
   "source": [
    "# Upgrade scikit-learn to 1.0\n",
    "# ! pip install --upgrade scikit-learn"
   ]
  },
  {
   "cell_type": "markdown",
   "id": "intermediate-things",
   "metadata": {},
   "source": [
    "# Data Preprocessing"
   ]
  },
  {
   "cell_type": "markdown",
   "id": "related-circulation",
   "metadata": {},
   "source": [
    "## Use ColumnTransformer to apply different preprocessing to different columns\n",
    "\n",
    "Use ColumnTransformer to apply different preprocessing to different columns:\n",
    "+ select from DataFrame columns by name\n",
    "+ passthrough or drop unspecified columns\n",
    "\n",
    "Requires scikit-learn 0.20+\n",
    "\n",
    "Additional links: [OneHotEncoder](https://scikit-learn.org/stable/modules/generated/sklearn.preprocessing.OneHotEncoder.html), [SimpleImputer](https://scikit-learn.org/stable/modules/generated/sklearn.impute.SimpleImputer.html), [make_column_transformer](https://scikit-learn.org/stable/modules/generated/sklearn.compose.make_column_transformer.html?highlight=make_column_transformer)"
   ]
  },
  {
   "cell_type": "code",
   "execution_count": 4,
   "id": "structured-mentor",
   "metadata": {
    "ExecuteTime": {
     "end_time": "2021-10-15T21:37:18.093822Z",
     "start_time": "2021-10-15T21:37:17.925664Z"
    }
   },
   "outputs": [],
   "source": [
    "import numpy as np\n",
    "import pandas as pd"
   ]
  },
  {
   "cell_type": "code",
   "execution_count": 5,
   "id": "lightweight-dynamics",
   "metadata": {
    "ExecuteTime": {
     "end_time": "2021-10-15T21:37:18.102699Z",
     "start_time": "2021-10-15T21:37:18.095078Z"
    }
   },
   "outputs": [],
   "source": [
    "import os \n",
    "\n",
    "file_input_path = \"titanic_train.csv\"\n",
    "if not os.path.exists(file_input_path):\n",
    "    df = pd.read_csv(\"http://bit.ly/kaggletrain\")\n",
    "    df.to_csv(file_input_path, header=True, index=False, sep=\"\\t\")\n",
    "else:\n",
    "    df = pd.read_csv(file_input_path, header=0, sep=\"\\t\")"
   ]
  },
  {
   "cell_type": "code",
   "execution_count": 6,
   "id": "sublime-estimate",
   "metadata": {
    "ExecuteTime": {
     "end_time": "2021-10-15T21:37:18.115358Z",
     "start_time": "2021-10-15T21:37:18.104171Z"
    }
   },
   "outputs": [
    {
     "name": "stdout",
     "output_type": "stream",
     "text": [
      "<class 'pandas.core.frame.DataFrame'>\n",
      "RangeIndex: 891 entries, 0 to 890\n",
      "Data columns (total 12 columns):\n",
      " #   Column       Non-Null Count  Dtype  \n",
      "---  ------       --------------  -----  \n",
      " 0   PassengerId  891 non-null    int64  \n",
      " 1   Survived     891 non-null    int64  \n",
      " 2   Pclass       891 non-null    int64  \n",
      " 3   Name         891 non-null    object \n",
      " 4   Sex          891 non-null    object \n",
      " 5   Age          714 non-null    float64\n",
      " 6   SibSp        891 non-null    int64  \n",
      " 7   Parch        891 non-null    int64  \n",
      " 8   Ticket       891 non-null    object \n",
      " 9   Fare         891 non-null    float64\n",
      " 10  Cabin        204 non-null    object \n",
      " 11  Embarked     889 non-null    object \n",
      "dtypes: float64(2), int64(5), object(5)\n",
      "memory usage: 83.7+ KB\n"
     ]
    }
   ],
   "source": [
    "df.info()"
   ]
  },
  {
   "cell_type": "code",
   "execution_count": 7,
   "id": "accepted-value",
   "metadata": {
    "ExecuteTime": {
     "end_time": "2021-10-15T21:37:18.132031Z",
     "start_time": "2021-10-15T21:37:18.116916Z"
    }
   },
   "outputs": [
    {
     "data": {
      "text/html": [
       "<div>\n",
       "<style scoped>\n",
       "    .dataframe tbody tr th:only-of-type {\n",
       "        vertical-align: middle;\n",
       "    }\n",
       "\n",
       "    .dataframe tbody tr th {\n",
       "        vertical-align: top;\n",
       "    }\n",
       "\n",
       "    .dataframe thead th {\n",
       "        text-align: right;\n",
       "    }\n",
       "</style>\n",
       "<table border=\"1\" class=\"dataframe\">\n",
       "  <thead>\n",
       "    <tr style=\"text-align: right;\">\n",
       "      <th></th>\n",
       "      <th>PassengerId</th>\n",
       "      <th>Survived</th>\n",
       "      <th>Pclass</th>\n",
       "      <th>Name</th>\n",
       "      <th>Sex</th>\n",
       "      <th>Age</th>\n",
       "      <th>SibSp</th>\n",
       "      <th>Parch</th>\n",
       "      <th>Ticket</th>\n",
       "      <th>Fare</th>\n",
       "      <th>Cabin</th>\n",
       "      <th>Embarked</th>\n",
       "    </tr>\n",
       "  </thead>\n",
       "  <tbody>\n",
       "    <tr>\n",
       "      <th>0</th>\n",
       "      <td>1</td>\n",
       "      <td>0</td>\n",
       "      <td>3</td>\n",
       "      <td>Braund, Mr. Owen Harris</td>\n",
       "      <td>male</td>\n",
       "      <td>22.0</td>\n",
       "      <td>1</td>\n",
       "      <td>0</td>\n",
       "      <td>A/5 21171</td>\n",
       "      <td>7.2500</td>\n",
       "      <td>NaN</td>\n",
       "      <td>S</td>\n",
       "    </tr>\n",
       "    <tr>\n",
       "      <th>1</th>\n",
       "      <td>2</td>\n",
       "      <td>1</td>\n",
       "      <td>1</td>\n",
       "      <td>Cumings, Mrs. John Bradley (Florence Briggs Th...</td>\n",
       "      <td>female</td>\n",
       "      <td>38.0</td>\n",
       "      <td>1</td>\n",
       "      <td>0</td>\n",
       "      <td>PC 17599</td>\n",
       "      <td>71.2833</td>\n",
       "      <td>C85</td>\n",
       "      <td>C</td>\n",
       "    </tr>\n",
       "    <tr>\n",
       "      <th>2</th>\n",
       "      <td>3</td>\n",
       "      <td>1</td>\n",
       "      <td>3</td>\n",
       "      <td>Heikkinen, Miss. Laina</td>\n",
       "      <td>female</td>\n",
       "      <td>26.0</td>\n",
       "      <td>0</td>\n",
       "      <td>0</td>\n",
       "      <td>STON/O2. 3101282</td>\n",
       "      <td>7.9250</td>\n",
       "      <td>NaN</td>\n",
       "      <td>S</td>\n",
       "    </tr>\n",
       "    <tr>\n",
       "      <th>3</th>\n",
       "      <td>4</td>\n",
       "      <td>1</td>\n",
       "      <td>1</td>\n",
       "      <td>Futrelle, Mrs. Jacques Heath (Lily May Peel)</td>\n",
       "      <td>female</td>\n",
       "      <td>35.0</td>\n",
       "      <td>1</td>\n",
       "      <td>0</td>\n",
       "      <td>113803</td>\n",
       "      <td>53.1000</td>\n",
       "      <td>C123</td>\n",
       "      <td>S</td>\n",
       "    </tr>\n",
       "    <tr>\n",
       "      <th>4</th>\n",
       "      <td>5</td>\n",
       "      <td>0</td>\n",
       "      <td>3</td>\n",
       "      <td>Allen, Mr. William Henry</td>\n",
       "      <td>male</td>\n",
       "      <td>35.0</td>\n",
       "      <td>0</td>\n",
       "      <td>0</td>\n",
       "      <td>373450</td>\n",
       "      <td>8.0500</td>\n",
       "      <td>NaN</td>\n",
       "      <td>S</td>\n",
       "    </tr>\n",
       "    <tr>\n",
       "      <th>5</th>\n",
       "      <td>6</td>\n",
       "      <td>0</td>\n",
       "      <td>3</td>\n",
       "      <td>Moran, Mr. James</td>\n",
       "      <td>male</td>\n",
       "      <td>NaN</td>\n",
       "      <td>0</td>\n",
       "      <td>0</td>\n",
       "      <td>330877</td>\n",
       "      <td>8.4583</td>\n",
       "      <td>NaN</td>\n",
       "      <td>Q</td>\n",
       "    </tr>\n",
       "  </tbody>\n",
       "</table>\n",
       "</div>"
      ],
      "text/plain": [
       "   PassengerId  Survived  Pclass  \\\n",
       "0            1         0       3   \n",
       "1            2         1       1   \n",
       "2            3         1       3   \n",
       "3            4         1       1   \n",
       "4            5         0       3   \n",
       "5            6         0       3   \n",
       "\n",
       "                                                Name     Sex   Age  SibSp  \\\n",
       "0                            Braund, Mr. Owen Harris    male  22.0      1   \n",
       "1  Cumings, Mrs. John Bradley (Florence Briggs Th...  female  38.0      1   \n",
       "2                             Heikkinen, Miss. Laina  female  26.0      0   \n",
       "3       Futrelle, Mrs. Jacques Heath (Lily May Peel)  female  35.0      1   \n",
       "4                           Allen, Mr. William Henry    male  35.0      0   \n",
       "5                                   Moran, Mr. James    male   NaN      0   \n",
       "\n",
       "   Parch            Ticket     Fare Cabin Embarked  \n",
       "0      0         A/5 21171   7.2500   NaN        S  \n",
       "1      0          PC 17599  71.2833   C85        C  \n",
       "2      0  STON/O2. 3101282   7.9250   NaN        S  \n",
       "3      0            113803  53.1000  C123        S  \n",
       "4      0            373450   8.0500   NaN        S  \n",
       "5      0            330877   8.4583   NaN        Q  "
      ]
     },
     "execution_count": 7,
     "metadata": {},
     "output_type": "execute_result"
    }
   ],
   "source": [
    "df.head(6)"
   ]
  },
  {
   "cell_type": "code",
   "execution_count": 8,
   "id": "prescription-zimbabwe",
   "metadata": {
    "ExecuteTime": {
     "end_time": "2021-10-15T21:37:18.143230Z",
     "start_time": "2021-10-15T21:37:18.133290Z"
    }
   },
   "outputs": [
    {
     "data": {
      "text/html": [
       "<div>\n",
       "<style scoped>\n",
       "    .dataframe tbody tr th:only-of-type {\n",
       "        vertical-align: middle;\n",
       "    }\n",
       "\n",
       "    .dataframe tbody tr th {\n",
       "        vertical-align: top;\n",
       "    }\n",
       "\n",
       "    .dataframe thead th {\n",
       "        text-align: right;\n",
       "    }\n",
       "</style>\n",
       "<table border=\"1\" class=\"dataframe\">\n",
       "  <thead>\n",
       "    <tr style=\"text-align: right;\">\n",
       "      <th></th>\n",
       "      <th>Fare</th>\n",
       "      <th>Embarked</th>\n",
       "      <th>Sex</th>\n",
       "      <th>Age</th>\n",
       "    </tr>\n",
       "  </thead>\n",
       "  <tbody>\n",
       "    <tr>\n",
       "      <th>0</th>\n",
       "      <td>7.2500</td>\n",
       "      <td>S</td>\n",
       "      <td>male</td>\n",
       "      <td>22.0</td>\n",
       "    </tr>\n",
       "    <tr>\n",
       "      <th>1</th>\n",
       "      <td>71.2833</td>\n",
       "      <td>C</td>\n",
       "      <td>female</td>\n",
       "      <td>38.0</td>\n",
       "    </tr>\n",
       "    <tr>\n",
       "      <th>2</th>\n",
       "      <td>7.9250</td>\n",
       "      <td>S</td>\n",
       "      <td>female</td>\n",
       "      <td>26.0</td>\n",
       "    </tr>\n",
       "    <tr>\n",
       "      <th>3</th>\n",
       "      <td>53.1000</td>\n",
       "      <td>S</td>\n",
       "      <td>female</td>\n",
       "      <td>35.0</td>\n",
       "    </tr>\n",
       "    <tr>\n",
       "      <th>4</th>\n",
       "      <td>8.0500</td>\n",
       "      <td>S</td>\n",
       "      <td>male</td>\n",
       "      <td>35.0</td>\n",
       "    </tr>\n",
       "    <tr>\n",
       "      <th>5</th>\n",
       "      <td>8.4583</td>\n",
       "      <td>Q</td>\n",
       "      <td>male</td>\n",
       "      <td>NaN</td>\n",
       "    </tr>\n",
       "  </tbody>\n",
       "</table>\n",
       "</div>"
      ],
      "text/plain": [
       "      Fare Embarked     Sex   Age\n",
       "0   7.2500        S    male  22.0\n",
       "1  71.2833        C  female  38.0\n",
       "2   7.9250        S  female  26.0\n",
       "3  53.1000        S  female  35.0\n",
       "4   8.0500        S    male  35.0\n",
       "5   8.4583        Q    male   NaN"
      ]
     },
     "execution_count": 8,
     "metadata": {},
     "output_type": "execute_result"
    }
   ],
   "source": [
    "cols = [\"Fare\", \"Embarked\", \"Sex\", \"Age\"]\n",
    "X = df[cols]\n",
    "X = X.head(6)\n",
    "X"
   ]
  },
  {
   "cell_type": "code",
   "execution_count": 9,
   "id": "pressed-missouri",
   "metadata": {
    "ExecuteTime": {
     "end_time": "2021-10-15T21:37:18.191278Z",
     "start_time": "2021-10-15T21:37:18.144636Z"
    }
   },
   "outputs": [],
   "source": [
    "from sklearn.preprocessing import OneHotEncoder\n",
    "from sklearn.impute import SimpleImputer\n",
    "from sklearn.compose import make_column_transformer"
   ]
  },
  {
   "cell_type": "code",
   "execution_count": 10,
   "id": "backed-dependence",
   "metadata": {
    "ExecuteTime": {
     "end_time": "2021-10-15T21:37:18.196591Z",
     "start_time": "2021-10-15T21:37:18.193808Z"
    }
   },
   "outputs": [],
   "source": [
    "ohe = OneHotEncoder()\n",
    "simple_imputer = SimpleImputer()  # get mean value"
   ]
  },
  {
   "cell_type": "code",
   "execution_count": 11,
   "id": "digital-indianapolis",
   "metadata": {
    "ExecuteTime": {
     "end_time": "2021-10-15T21:37:18.202443Z",
     "start_time": "2021-10-15T21:37:18.197878Z"
    }
   },
   "outputs": [],
   "source": [
    "col_transformer = make_column_transformer(\n",
    "    (ohe, [\"Embarked\", \"Sex\"]),\n",
    "    (simple_imputer, [\"Age\"]),\n",
    "    remainder=\"passthrough\"\n",
    ")\n",
    "\n",
    "#https://scikit-learn.org/stable/modules/generated/sklearn.compose.make_column_transformer.html?highlight=make_column_transformer\n",
    "#remainder{‘drop’, ‘passthrough’} or estimator, default=’drop’\n",
    "#   By default, only the specified columns in transformers are transformed and combined in the output, and the non-specified columns are dropped. (default of 'drop'). By specifying remainder='passthrough', all remaining columns that were not specified in transformers will be automatically passed through. This subset of columns is concatenated with the output of the transformers. By setting remainder to be an estimator, the remaining non-specified columns will use the remainder estimator. The estimator must support fit and transform."
   ]
  },
  {
   "cell_type": "code",
   "execution_count": 12,
   "id": "thick-brief",
   "metadata": {
    "ExecuteTime": {
     "end_time": "2021-10-15T21:37:18.219220Z",
     "start_time": "2021-10-15T21:37:18.203772Z"
    }
   },
   "outputs": [
    {
     "data": {
      "text/plain": [
       "array([[ 0.    ,  0.    ,  1.    ,  0.    ,  1.    , 22.    ,  7.25  ],\n",
       "       [ 1.    ,  0.    ,  0.    ,  1.    ,  0.    , 38.    , 71.2833],\n",
       "       [ 0.    ,  0.    ,  1.    ,  1.    ,  0.    , 26.    ,  7.925 ],\n",
       "       [ 0.    ,  0.    ,  1.    ,  1.    ,  0.    , 35.    , 53.1   ],\n",
       "       [ 0.    ,  0.    ,  1.    ,  0.    ,  1.    , 35.    ,  8.05  ],\n",
       "       [ 0.    ,  1.    ,  0.    ,  0.    ,  1.    , 31.2   ,  8.4583]])"
      ]
     },
     "execution_count": 12,
     "metadata": {},
     "output_type": "execute_result"
    }
   ],
   "source": [
    "col_transformer.fit_transform(X)"
   ]
  },
  {
   "cell_type": "markdown",
   "id": "fabulous-metadata",
   "metadata": {},
   "source": [
    "## Seven ways to select columns using ColumnTransformer\n",
    "\n",
    "There are SEVEN ways to select columns using [ColumnTransformer](https://scikit-learn.org/stable/modules/generated/sklearn.compose.make_column_transformer.html):\n",
    "+ column name\n",
    "+ integer position\n",
    "+ slice\n",
    "+ boolean mask\n",
    "+ regex pattern\n",
    "+ dtypes to include\n",
    "+ dtypes to exclude\n",
    "\n",
    "Additional links: [make_column_selector](https://scikit-learn.org/stable/modules/generated/sklearn.compose.make_column_selector.html)"
   ]
  },
  {
   "cell_type": "code",
   "execution_count": 13,
   "id": "southwest-poultry",
   "metadata": {
    "ExecuteTime": {
     "end_time": "2021-10-15T21:37:18.228603Z",
     "start_time": "2021-10-15T21:37:18.220487Z"
    }
   },
   "outputs": [],
   "source": [
    "import os \n",
    "\n",
    "file_input_path = \"titanic_train.csv\"\n",
    "if not os.path.exists(file_input_path):\n",
    "    df = pd.read_csv(\"http://bit.ly/kaggletrain\")\n",
    "    df.to_csv(file_input_path, header=True, index=False, sep=\"\\t\")\n",
    "else:\n",
    "    df = pd.read_csv(file_input_path, header=0, sep=\"\\t\")"
   ]
  },
  {
   "cell_type": "code",
   "execution_count": 14,
   "id": "assigned-stanley",
   "metadata": {
    "ExecuteTime": {
     "end_time": "2021-10-15T21:37:18.239722Z",
     "start_time": "2021-10-15T21:37:18.229946Z"
    }
   },
   "outputs": [
    {
     "data": {
      "text/html": [
       "<div>\n",
       "<style scoped>\n",
       "    .dataframe tbody tr th:only-of-type {\n",
       "        vertical-align: middle;\n",
       "    }\n",
       "\n",
       "    .dataframe tbody tr th {\n",
       "        vertical-align: top;\n",
       "    }\n",
       "\n",
       "    .dataframe thead th {\n",
       "        text-align: right;\n",
       "    }\n",
       "</style>\n",
       "<table border=\"1\" class=\"dataframe\">\n",
       "  <thead>\n",
       "    <tr style=\"text-align: right;\">\n",
       "      <th></th>\n",
       "      <th>Fare</th>\n",
       "      <th>Embarked</th>\n",
       "      <th>Sex</th>\n",
       "      <th>Age</th>\n",
       "    </tr>\n",
       "  </thead>\n",
       "  <tbody>\n",
       "    <tr>\n",
       "      <th>0</th>\n",
       "      <td>7.2500</td>\n",
       "      <td>S</td>\n",
       "      <td>male</td>\n",
       "      <td>22.0</td>\n",
       "    </tr>\n",
       "    <tr>\n",
       "      <th>1</th>\n",
       "      <td>71.2833</td>\n",
       "      <td>C</td>\n",
       "      <td>female</td>\n",
       "      <td>38.0</td>\n",
       "    </tr>\n",
       "    <tr>\n",
       "      <th>2</th>\n",
       "      <td>7.9250</td>\n",
       "      <td>S</td>\n",
       "      <td>female</td>\n",
       "      <td>26.0</td>\n",
       "    </tr>\n",
       "    <tr>\n",
       "      <th>3</th>\n",
       "      <td>53.1000</td>\n",
       "      <td>S</td>\n",
       "      <td>female</td>\n",
       "      <td>35.0</td>\n",
       "    </tr>\n",
       "    <tr>\n",
       "      <th>4</th>\n",
       "      <td>8.0500</td>\n",
       "      <td>S</td>\n",
       "      <td>male</td>\n",
       "      <td>35.0</td>\n",
       "    </tr>\n",
       "    <tr>\n",
       "      <th>5</th>\n",
       "      <td>8.4583</td>\n",
       "      <td>Q</td>\n",
       "      <td>male</td>\n",
       "      <td>NaN</td>\n",
       "    </tr>\n",
       "  </tbody>\n",
       "</table>\n",
       "</div>"
      ],
      "text/plain": [
       "      Fare Embarked     Sex   Age\n",
       "0   7.2500        S    male  22.0\n",
       "1  71.2833        C  female  38.0\n",
       "2   7.9250        S  female  26.0\n",
       "3  53.1000        S  female  35.0\n",
       "4   8.0500        S    male  35.0\n",
       "5   8.4583        Q    male   NaN"
      ]
     },
     "execution_count": 14,
     "metadata": {},
     "output_type": "execute_result"
    }
   ],
   "source": [
    "cols = [\"Fare\", \"Embarked\", \"Sex\", \"Age\"]\n",
    "X = df[cols]\n",
    "X = X.head(6)\n",
    "X"
   ]
  },
  {
   "cell_type": "code",
   "execution_count": 15,
   "id": "local-panama",
   "metadata": {
    "ExecuteTime": {
     "end_time": "2021-10-15T21:37:18.244485Z",
     "start_time": "2021-10-15T21:37:18.241405Z"
    }
   },
   "outputs": [],
   "source": [
    "from sklearn.preprocessing import OneHotEncoder\n",
    "from sklearn.compose import make_column_transformer, make_column_selector"
   ]
  },
  {
   "cell_type": "code",
   "execution_count": 16,
   "id": "adjacent-assault",
   "metadata": {
    "ExecuteTime": {
     "end_time": "2021-10-15T21:37:18.250088Z",
     "start_time": "2021-10-15T21:37:18.245864Z"
    }
   },
   "outputs": [],
   "source": [
    "ohe = OneHotEncoder()"
   ]
  },
  {
   "cell_type": "code",
   "execution_count": 17,
   "id": "brilliant-arrow",
   "metadata": {
    "ExecuteTime": {
     "end_time": "2021-10-15T21:37:18.257338Z",
     "start_time": "2021-10-15T21:37:18.251409Z"
    }
   },
   "outputs": [
    {
     "data": {
      "text/plain": [
       "Index(['Fare', 'Embarked', 'Sex', 'Age'], dtype='object')"
      ]
     },
     "execution_count": 17,
     "metadata": {},
     "output_type": "execute_result"
    }
   ],
   "source": [
    "X.columns"
   ]
  },
  {
   "cell_type": "code",
   "execution_count": 18,
   "id": "intellectual-increase",
   "metadata": {
    "ExecuteTime": {
     "end_time": "2021-10-15T21:37:18.263909Z",
     "start_time": "2021-10-15T21:37:18.259377Z"
    }
   },
   "outputs": [],
   "source": [
    "# all SEVEN of these produce the same results\n",
    "# Note that: reminder = \"drop\" (by default)\n",
    "\n",
    "# column name\n",
    "col_transformer = make_column_transformer((ohe, ['Embarked', 'Sex']))\n",
    "\n",
    "# integer position\n",
    "col_transformer = make_column_transformer((ohe, [1,2]))  # column index 0,1,2,...\n",
    "\n",
    "# slice\n",
    "col_transformer = make_column_transformer((ohe, slice(1,3)))  # column from index 1 to k-1\n",
    "\n",
    "# boolean mask\n",
    "col_transformer = make_column_transformer((ohe, [False, True, True, False]))\n",
    "\n",
    "# regex pattern\n",
    "col_transformer = make_column_transformer((ohe, make_column_selector(pattern=\"E|S\")))  # startwiths E or S\n",
    "# https://scikit-learn.org/stable/modules/generated/sklearn.compose.make_column_selector.html\n",
    "# patternstr, default=None\n",
    "#   Name of columns containing this regex pattern will be included. If None, column selection will not be selected based on pattern.\n",
    "\n",
    "# dtypes to include\n",
    "col_transformer = make_column_transformer((ohe, make_column_selector(dtype_include=object)))\n",
    "\n",
    "# dtypes to exclude\n",
    "col_transformer = make_column_transformer((ohe, make_column_selector(dtype_exclude=np.number)))"
   ]
  },
  {
   "cell_type": "code",
   "execution_count": 19,
   "id": "contained-consent",
   "metadata": {
    "ExecuteTime": {
     "end_time": "2021-10-15T21:37:18.277016Z",
     "start_time": "2021-10-15T21:37:18.265104Z"
    }
   },
   "outputs": [
    {
     "data": {
      "text/plain": [
       "array([[0., 0., 1., 0., 1.],\n",
       "       [1., 0., 0., 1., 0.],\n",
       "       [0., 0., 1., 1., 0.],\n",
       "       [0., 0., 1., 1., 0.],\n",
       "       [0., 0., 1., 0., 1.],\n",
       "       [0., 1., 0., 0., 1.]])"
      ]
     },
     "execution_count": 19,
     "metadata": {},
     "output_type": "execute_result"
    }
   ],
   "source": [
    "col_transformer.fit_transform(X)"
   ]
  },
  {
   "cell_type": "markdown",
   "id": "norman-sleeve",
   "metadata": {},
   "source": [
    "### Simple Case\n",
    "\n",
    "https://scikit-learn.org/stable/modules/generated/sklearn.preprocessing.StandardScaler.html?highlight=standardscaler#sklearn.preprocessing.StandardScaler\n",
    "\n",
    "Standardize features by removing the mean and scaling to unit variance."
   ]
  },
  {
   "cell_type": "code",
   "execution_count": 20,
   "id": "uniform-click",
   "metadata": {
    "ExecuteTime": {
     "end_time": "2021-10-15T21:37:18.427689Z",
     "start_time": "2021-10-15T21:37:18.418942Z"
    }
   },
   "outputs": [
    {
     "data": {
      "text/html": [
       "<div>\n",
       "<style scoped>\n",
       "    .dataframe tbody tr th:only-of-type {\n",
       "        vertical-align: middle;\n",
       "    }\n",
       "\n",
       "    .dataframe tbody tr th {\n",
       "        vertical-align: top;\n",
       "    }\n",
       "\n",
       "    .dataframe thead th {\n",
       "        text-align: right;\n",
       "    }\n",
       "</style>\n",
       "<table border=\"1\" class=\"dataframe\">\n",
       "  <thead>\n",
       "    <tr style=\"text-align: right;\">\n",
       "      <th></th>\n",
       "      <th>Fare</th>\n",
       "      <th>Embarked</th>\n",
       "      <th>Sex</th>\n",
       "      <th>Age</th>\n",
       "    </tr>\n",
       "  </thead>\n",
       "  <tbody>\n",
       "    <tr>\n",
       "      <th>0</th>\n",
       "      <td>7.2500</td>\n",
       "      <td>S</td>\n",
       "      <td>male</td>\n",
       "      <td>22.0</td>\n",
       "    </tr>\n",
       "    <tr>\n",
       "      <th>1</th>\n",
       "      <td>71.2833</td>\n",
       "      <td>C</td>\n",
       "      <td>female</td>\n",
       "      <td>38.0</td>\n",
       "    </tr>\n",
       "    <tr>\n",
       "      <th>2</th>\n",
       "      <td>7.9250</td>\n",
       "      <td>S</td>\n",
       "      <td>female</td>\n",
       "      <td>26.0</td>\n",
       "    </tr>\n",
       "    <tr>\n",
       "      <th>3</th>\n",
       "      <td>53.1000</td>\n",
       "      <td>S</td>\n",
       "      <td>female</td>\n",
       "      <td>35.0</td>\n",
       "    </tr>\n",
       "    <tr>\n",
       "      <th>4</th>\n",
       "      <td>8.0500</td>\n",
       "      <td>S</td>\n",
       "      <td>male</td>\n",
       "      <td>35.0</td>\n",
       "    </tr>\n",
       "    <tr>\n",
       "      <th>5</th>\n",
       "      <td>8.4583</td>\n",
       "      <td>Q</td>\n",
       "      <td>male</td>\n",
       "      <td>NaN</td>\n",
       "    </tr>\n",
       "  </tbody>\n",
       "</table>\n",
       "</div>"
      ],
      "text/plain": [
       "      Fare Embarked     Sex   Age\n",
       "0   7.2500        S    male  22.0\n",
       "1  71.2833        C  female  38.0\n",
       "2   7.9250        S  female  26.0\n",
       "3  53.1000        S  female  35.0\n",
       "4   8.0500        S    male  35.0\n",
       "5   8.4583        Q    male   NaN"
      ]
     },
     "execution_count": 20,
     "metadata": {},
     "output_type": "execute_result"
    }
   ],
   "source": [
    "X"
   ]
  },
  {
   "cell_type": "code",
   "execution_count": 21,
   "id": "discrete-warner",
   "metadata": {
    "ExecuteTime": {
     "end_time": "2021-10-15T21:37:18.446244Z",
     "start_time": "2021-10-15T21:37:18.429412Z"
    }
   },
   "outputs": [
    {
     "data": {
      "text/plain": [
       "array([[-0.71829711, -1.50516598,  0.        ,  0.        ,  1.        ,\n",
       "         0.        ,  1.        ],\n",
       "       [ 1.7333147 ,  1.11251398,  1.        ,  0.        ,  0.        ,\n",
       "         1.        ,  0.        ],\n",
       "       [-0.69245371, -0.85074599,  0.        ,  0.        ,  1.        ,\n",
       "         1.        ,  0.        ],\n",
       "       [ 1.03713954,  0.62169899,  0.        ,  0.        ,  1.        ,\n",
       "         1.        ,  0.        ],\n",
       "       [-0.6876679 ,  0.62169899,  0.        ,  0.        ,  1.        ,\n",
       "         0.        ,  1.        ],\n",
       "       [-0.67203551,         nan,  0.        ,  1.        ,  0.        ,\n",
       "         0.        ,  1.        ]])"
      ]
     },
     "execution_count": 21,
     "metadata": {},
     "output_type": "execute_result"
    }
   ],
   "source": [
    "from sklearn.preprocessing import StandardScaler, OneHotEncoder\n",
    "\n",
    "col_transformer = make_column_transformer(\n",
    "    (StandardScaler(), make_column_selector(dtype_include=np.number)),  \n",
    "    (OneHotEncoder(), make_column_selector(dtype_include=object))\n",
    ")\n",
    "\n",
    "col_transformer.fit_transform(X)"
   ]
  },
  {
   "cell_type": "markdown",
   "id": "returning-collaboration",
   "metadata": {},
   "source": [
    "### Flexible Case\n",
    "\n",
    "Link: https://scikit-learn.org/stable/auto_examples/compose/plot_column_transformer_mixed_types.html#sphx-glr-auto-examples-compose-plot-column-transformer-mixed-types-py"
   ]
  },
  {
   "cell_type": "code",
   "execution_count": 22,
   "id": "fuzzy-breakdown",
   "metadata": {
    "ExecuteTime": {
     "end_time": "2021-10-15T21:37:18.673157Z",
     "start_time": "2021-10-15T21:37:18.657439Z"
    }
   },
   "outputs": [
    {
     "data": {
      "text/plain": [
       "array([[-0.71829711, -1.70817275,  0.        ,  0.        ,  1.        ,\n",
       "         0.        ,  1.        ],\n",
       "       [ 1.7333147 ,  1.07122698,  1.        ,  0.        ,  0.        ,\n",
       "         1.        ,  0.        ],\n",
       "       [-0.69245371, -1.01332282,  0.        ,  0.        ,  1.        ,\n",
       "         1.        ,  0.        ],\n",
       "       [ 1.03713954,  0.55008953,  0.        ,  0.        ,  1.        ,\n",
       "         1.        ,  0.        ],\n",
       "       [-0.6876679 ,  0.55008953,  0.        ,  0.        ,  1.        ,\n",
       "         0.        ,  1.        ],\n",
       "       [-0.67203551,  0.55008953,  0.        ,  1.        ,  0.        ,\n",
       "         0.        ,  1.        ]])"
      ]
     },
     "execution_count": 22,
     "metadata": {},
     "output_type": "execute_result"
    }
   ],
   "source": [
    "from sklearn.preprocessing import StandardScaler, OneHotEncoder\n",
    "from sklearn.pipeline import Pipeline\n",
    "from sklearn.impute import SimpleImputer\n",
    "from sklearn.compose import ColumnTransformer\n",
    "\n",
    "numeric_features = [\"Fare\", \"Age\"]\n",
    "numeric_transformer = Pipeline(\n",
    "    steps=[\n",
    "        (\"imputer\", SimpleImputer(strategy=\"median\")),\n",
    "        (\"scaler\", StandardScaler())\n",
    "    ]\n",
    ")\n",
    "\n",
    "categorical_features = [\"Embarked\", \"Sex\"]\n",
    "categorical_transformer = OneHotEncoder(handle_unknown=\"ignore\")\n",
    "\n",
    "preprocessor = ColumnTransformer(\n",
    "    transformers=[\n",
    "        (\"numeric\", numeric_transformer, numeric_features),\n",
    "        (\"categorical\", categorical_transformer, categorical_features)\n",
    "    ]\n",
    ")\n",
    "\n",
    "preprocessor.fit_transform(X)"
   ]
  },
  {
   "cell_type": "markdown",
   "id": "affecting-element",
   "metadata": {},
   "source": [
    "## What is the difference between \"fit\" and \"transform\"?\n",
    "\n",
    "Q: What is the difference between the \"fit\" and \"transform\" methods?\n",
    "\n",
    "+ \"[fit](https://scikit-learn.org/stable/glossary.html#term-fit)\": transformer learns something about the data\n",
    "+ \"[transform](https://scikit-learn.org/stable/glossary.html#term-transform)\": it uses what it learned to do the data transformation\n",
    "\n",
    "For examples\n",
    "+ CountVectorizer\n",
    "    - fit: learns the vocabulary\n",
    "    - transform: creates a document-term matrix using the vocabulary\n",
    "    \n",
    "+ SimpleImputer\n",
    "    - fit: learns the value to impute\n",
    "    - transform: fills in missing entries using the imputation value\n",
    "    \n",
    "+ StandardScaler\n",
    "    - fit: learns the mean and scale of each feature\n",
    "    - transform: standardizes the features using the mean and scale\n",
    "    \n",
    "+ HashingVectorizer\n",
    "    - fit: is not used, and thus it is known as a \"stateless\" transformer\n",
    "    - transform: create the document-term matrix using a hash of the token"
   ]
  },
  {
   "cell_type": "markdown",
   "id": "infectious-testament",
   "metadata": {},
   "source": [
    "## Use \"fit_transform\" on training data, but \"transform\" (only) on testing/new data\n",
    "\n",
    "Use \"[fit_transform](https://scikit-learn.org/stable/glossary.html#term-fit_transform)\" on training data, but \"[transform](https://scikit-learn.org/stable/glossary.html#term-transform)\" (only) on testing/new data.\n",
    "\n",
    "Applies the same transformations to both sets of data, which creates consistent columns and prevents [data leakage](https://scikit-learn.org/stable/common_pitfalls.html#data-leakage)!"
   ]
  },
  {
   "cell_type": "markdown",
   "id": "built-typing",
   "metadata": {},
   "source": [
    "## Get the feature names output by a ColumnTransformer\n",
    "\n",
    "Need to get the feature names output by a [ColumnTransformer](https://scikit-learn.org/stable/modules/generated/sklearn.compose.ColumnTransformer.html)?\n",
    "\n",
    "Use get_feature_names(), which now works with \"passthrough\" columns (new in version 0.23)!\n",
    "\n",
    "Note: Beginning in scikit-learn 1.0, the get_feature_names method has been deprecated in favor of [get_feature_names_out](https://scikit-learn.org/stable/modules/generated/sklearn.compose.ColumnTransformer.html#sklearn.compose.ColumnTransformer.get_feature_names_out).\n"
   ]
  },
  {
   "cell_type": "code",
   "execution_count": 23,
   "id": "earned-jaguar",
   "metadata": {
    "ExecuteTime": {
     "end_time": "2021-10-15T21:37:19.381693Z",
     "start_time": "2021-10-15T21:37:19.372419Z"
    }
   },
   "outputs": [
    {
     "data": {
      "text/html": [
       "<div>\n",
       "<style scoped>\n",
       "    .dataframe tbody tr th:only-of-type {\n",
       "        vertical-align: middle;\n",
       "    }\n",
       "\n",
       "    .dataframe tbody tr th {\n",
       "        vertical-align: top;\n",
       "    }\n",
       "\n",
       "    .dataframe thead th {\n",
       "        text-align: right;\n",
       "    }\n",
       "</style>\n",
       "<table border=\"1\" class=\"dataframe\">\n",
       "  <thead>\n",
       "    <tr style=\"text-align: right;\">\n",
       "      <th></th>\n",
       "      <th>Fare</th>\n",
       "      <th>Embarked</th>\n",
       "      <th>Sex</th>\n",
       "      <th>Age</th>\n",
       "    </tr>\n",
       "  </thead>\n",
       "  <tbody>\n",
       "    <tr>\n",
       "      <th>0</th>\n",
       "      <td>7.2500</td>\n",
       "      <td>S</td>\n",
       "      <td>male</td>\n",
       "      <td>22.0</td>\n",
       "    </tr>\n",
       "    <tr>\n",
       "      <th>1</th>\n",
       "      <td>71.2833</td>\n",
       "      <td>C</td>\n",
       "      <td>female</td>\n",
       "      <td>38.0</td>\n",
       "    </tr>\n",
       "    <tr>\n",
       "      <th>2</th>\n",
       "      <td>7.9250</td>\n",
       "      <td>S</td>\n",
       "      <td>female</td>\n",
       "      <td>26.0</td>\n",
       "    </tr>\n",
       "    <tr>\n",
       "      <th>3</th>\n",
       "      <td>53.1000</td>\n",
       "      <td>S</td>\n",
       "      <td>female</td>\n",
       "      <td>35.0</td>\n",
       "    </tr>\n",
       "    <tr>\n",
       "      <th>4</th>\n",
       "      <td>8.0500</td>\n",
       "      <td>S</td>\n",
       "      <td>male</td>\n",
       "      <td>35.0</td>\n",
       "    </tr>\n",
       "    <tr>\n",
       "      <th>5</th>\n",
       "      <td>8.4583</td>\n",
       "      <td>Q</td>\n",
       "      <td>male</td>\n",
       "      <td>NaN</td>\n",
       "    </tr>\n",
       "  </tbody>\n",
       "</table>\n",
       "</div>"
      ],
      "text/plain": [
       "      Fare Embarked     Sex   Age\n",
       "0   7.2500        S    male  22.0\n",
       "1  71.2833        C  female  38.0\n",
       "2   7.9250        S  female  26.0\n",
       "3  53.1000        S  female  35.0\n",
       "4   8.0500        S    male  35.0\n",
       "5   8.4583        Q    male   NaN"
      ]
     },
     "execution_count": 23,
     "metadata": {},
     "output_type": "execute_result"
    }
   ],
   "source": [
    "X"
   ]
  },
  {
   "cell_type": "code",
   "execution_count": 24,
   "id": "behavioral-composer",
   "metadata": {
    "ExecuteTime": {
     "end_time": "2021-10-15T21:37:19.396329Z",
     "start_time": "2021-10-15T21:37:19.383427Z"
    }
   },
   "outputs": [
    {
     "data": {
      "text/plain": [
       "Index(['Fare', 'Embarked', 'Sex', 'Age'], dtype='object')"
      ]
     },
     "execution_count": 24,
     "metadata": {},
     "output_type": "execute_result"
    }
   ],
   "source": [
    "X.columns"
   ]
  },
  {
   "cell_type": "code",
   "execution_count": 25,
   "id": "biological-package",
   "metadata": {
    "ExecuteTime": {
     "end_time": "2021-10-15T21:37:19.401158Z",
     "start_time": "2021-10-15T21:37:19.398051Z"
    }
   },
   "outputs": [],
   "source": [
    "col_transformer = make_column_transformer(\n",
    "    (OneHotEncoder(), [\"Embarked\", \"Sex\"]),\n",
    "    remainder=\"passthrough\"\n",
    ")"
   ]
  },
  {
   "cell_type": "code",
   "execution_count": 26,
   "id": "pressing-boulder",
   "metadata": {
    "ExecuteTime": {
     "end_time": "2021-10-15T21:37:19.412076Z",
     "start_time": "2021-10-15T21:37:19.402425Z"
    }
   },
   "outputs": [
    {
     "data": {
      "text/plain": [
       "array([[ 0.    ,  0.    ,  1.    ,  0.    ,  1.    ,  7.25  , 22.    ],\n",
       "       [ 1.    ,  0.    ,  0.    ,  1.    ,  0.    , 71.2833, 38.    ],\n",
       "       [ 0.    ,  0.    ,  1.    ,  1.    ,  0.    ,  7.925 , 26.    ],\n",
       "       [ 0.    ,  0.    ,  1.    ,  1.    ,  0.    , 53.1   , 35.    ],\n",
       "       [ 0.    ,  0.    ,  1.    ,  0.    ,  1.    ,  8.05  , 35.    ],\n",
       "       [ 0.    ,  1.    ,  0.    ,  0.    ,  1.    ,  8.4583,     nan]])"
      ]
     },
     "execution_count": 26,
     "metadata": {},
     "output_type": "execute_result"
    }
   ],
   "source": [
    "ft = col_transformer.fit_transform(X)\n",
    "ft"
   ]
  },
  {
   "cell_type": "code",
   "execution_count": 27,
   "id": "established-islam",
   "metadata": {
    "ExecuteTime": {
     "end_time": "2021-10-15T21:37:19.417967Z",
     "start_time": "2021-10-15T21:37:19.413723Z"
    }
   },
   "outputs": [
    {
     "data": {
      "text/plain": [
       "(6, 7)"
      ]
     },
     "execution_count": 27,
     "metadata": {},
     "output_type": "execute_result"
    }
   ],
   "source": [
    "ft.shape"
   ]
  },
  {
   "cell_type": "code",
   "execution_count": 28,
   "id": "figured-portugal",
   "metadata": {
    "ExecuteTime": {
     "end_time": "2021-10-15T21:37:19.424919Z",
     "start_time": "2021-10-15T21:37:19.419532Z"
    }
   },
   "outputs": [
    {
     "name": "stderr",
     "output_type": "stream",
     "text": [
      "/home/lavie/dev/perso/Khoa_Hoc/TF2_cert/tools/venv38_tf25/lib/python3.8/site-packages/sklearn/utils/deprecation.py:87: FutureWarning: Function get_feature_names is deprecated; get_feature_names is deprecated in 1.0 and will be removed in 1.2. Please use get_feature_names_out instead.\n",
      "  warnings.warn(msg, category=FutureWarning)\n"
     ]
    },
    {
     "data": {
      "text/plain": [
       "['onehotencoder__x0_C',\n",
       " 'onehotencoder__x0_Q',\n",
       " 'onehotencoder__x0_S',\n",
       " 'onehotencoder__x1_female',\n",
       " 'onehotencoder__x1_male',\n",
       " 'Fare',\n",
       " 'Age']"
      ]
     },
     "execution_count": 28,
     "metadata": {},
     "output_type": "execute_result"
    }
   ],
   "source": [
    "col_transformer.get_feature_names()"
   ]
  },
  {
   "cell_type": "markdown",
   "id": "primary-overall",
   "metadata": {},
   "source": [
    "## Passthrough some columns and drop others in a ColumnTransformer\n",
    "\n",
    "In a [ColumnTransformer](https://scikit-learn.org/stable/modules/generated/sklearn.compose.make_column_transformer.html), you can use the strings 'passthrough' and 'drop' in place of a transformer. \n",
    "\n",
    "Useful if you need to passthrough some columns and drop others!"
   ]
  },
  {
   "cell_type": "code",
   "execution_count": 29,
   "id": "afraid-international",
   "metadata": {
    "ExecuteTime": {
     "end_time": "2021-10-15T21:37:19.689831Z",
     "start_time": "2021-10-15T21:37:19.680916Z"
    }
   },
   "outputs": [
    {
     "data": {
      "text/html": [
       "<div>\n",
       "<style scoped>\n",
       "    .dataframe tbody tr th:only-of-type {\n",
       "        vertical-align: middle;\n",
       "    }\n",
       "\n",
       "    .dataframe tbody tr th {\n",
       "        vertical-align: top;\n",
       "    }\n",
       "\n",
       "    .dataframe thead th {\n",
       "        text-align: right;\n",
       "    }\n",
       "</style>\n",
       "<table border=\"1\" class=\"dataframe\">\n",
       "  <thead>\n",
       "    <tr style=\"text-align: right;\">\n",
       "      <th></th>\n",
       "      <th>Fare</th>\n",
       "      <th>Embarked</th>\n",
       "      <th>Sex</th>\n",
       "      <th>Age</th>\n",
       "    </tr>\n",
       "  </thead>\n",
       "  <tbody>\n",
       "    <tr>\n",
       "      <th>0</th>\n",
       "      <td>7.2500</td>\n",
       "      <td>S</td>\n",
       "      <td>male</td>\n",
       "      <td>22.0</td>\n",
       "    </tr>\n",
       "    <tr>\n",
       "      <th>1</th>\n",
       "      <td>71.2833</td>\n",
       "      <td>C</td>\n",
       "      <td>female</td>\n",
       "      <td>38.0</td>\n",
       "    </tr>\n",
       "    <tr>\n",
       "      <th>2</th>\n",
       "      <td>7.9250</td>\n",
       "      <td>S</td>\n",
       "      <td>female</td>\n",
       "      <td>26.0</td>\n",
       "    </tr>\n",
       "    <tr>\n",
       "      <th>3</th>\n",
       "      <td>53.1000</td>\n",
       "      <td>S</td>\n",
       "      <td>female</td>\n",
       "      <td>35.0</td>\n",
       "    </tr>\n",
       "    <tr>\n",
       "      <th>4</th>\n",
       "      <td>8.0500</td>\n",
       "      <td>S</td>\n",
       "      <td>male</td>\n",
       "      <td>35.0</td>\n",
       "    </tr>\n",
       "    <tr>\n",
       "      <th>5</th>\n",
       "      <td>8.4583</td>\n",
       "      <td>Q</td>\n",
       "      <td>male</td>\n",
       "      <td>NaN</td>\n",
       "    </tr>\n",
       "  </tbody>\n",
       "</table>\n",
       "</div>"
      ],
      "text/plain": [
       "      Fare Embarked     Sex   Age\n",
       "0   7.2500        S    male  22.0\n",
       "1  71.2833        C  female  38.0\n",
       "2   7.9250        S  female  26.0\n",
       "3  53.1000        S  female  35.0\n",
       "4   8.0500        S    male  35.0\n",
       "5   8.4583        Q    male   NaN"
      ]
     },
     "execution_count": 29,
     "metadata": {},
     "output_type": "execute_result"
    }
   ],
   "source": [
    "X"
   ]
  },
  {
   "cell_type": "markdown",
   "id": "significant-hartford",
   "metadata": {},
   "source": [
    "### Method 1: \"passthrough\" with some columns"
   ]
  },
  {
   "cell_type": "code",
   "execution_count": 30,
   "id": "visible-blade",
   "metadata": {
    "ExecuteTime": {
     "end_time": "2021-10-15T21:37:19.986010Z",
     "start_time": "2021-10-15T21:37:19.975535Z"
    }
   },
   "outputs": [
    {
     "data": {
      "text/plain": [
       "array([[22.    ,  7.25  ],\n",
       "       [38.    , 71.2833],\n",
       "       [26.    ,  7.925 ],\n",
       "       [35.    , 53.1   ],\n",
       "       [35.    ,  8.05  ],\n",
       "       [31.2   ,  8.4583]])"
      ]
     },
     "execution_count": 30,
     "metadata": {},
     "output_type": "execute_result"
    }
   ],
   "source": [
    "col_transformer = make_column_transformer(\n",
    "    (SimpleImputer(), [\"Age\"]),\n",
    "    (\"passthrough\", [\"Fare\"]),\n",
    "    remainder=\"drop\"\n",
    ")\n",
    "col_transformer.fit_transform(X)"
   ]
  },
  {
   "cell_type": "markdown",
   "id": "distinguished-liberal",
   "metadata": {},
   "source": [
    "### Method 2: \"drop\" with some columns"
   ]
  },
  {
   "cell_type": "code",
   "execution_count": 31,
   "id": "preliminary-mention",
   "metadata": {
    "ExecuteTime": {
     "end_time": "2021-10-15T21:37:20.249998Z",
     "start_time": "2021-10-15T21:37:20.239345Z"
    }
   },
   "outputs": [
    {
     "data": {
      "text/plain": [
       "array([[22.    ,  7.25  ],\n",
       "       [38.    , 71.2833],\n",
       "       [26.    ,  7.925 ],\n",
       "       [35.    , 53.1   ],\n",
       "       [35.    ,  8.05  ],\n",
       "       [31.2   ,  8.4583]])"
      ]
     },
     "execution_count": 31,
     "metadata": {},
     "output_type": "execute_result"
    }
   ],
   "source": [
    "col_transformer = make_column_transformer(\n",
    "    (SimpleImputer(), [\"Age\"]),\n",
    "    (\"drop\", [\"Embarked\", \"Sex\"]),\n",
    "    remainder=\"passthrough\"\n",
    ")\n",
    "\n",
    "col_transformer.fit_transform(X)"
   ]
  },
  {
   "cell_type": "markdown",
   "id": "average-planet",
   "metadata": {},
   "source": [
    "## (Detail ?) Four reasons to use scikit-learn (not pandas) for ML preprocessing\n",
    "\n",
    "Reasons to use scikit-learn (not pandas) for ML [preprocessing](https://scikit-learn.org/stable/modules/preprocessing.html):\n",
    "+ You can cross-validate the entire workflow\n",
    "+ You can [grid search](https://scikit-learn.org/stable/modules/grid_search.html) model & preprocessing hyperparameters\n",
    "+ Avoids adding new columns to the source DataFrame\n",
    "+ pandas lacks separate fit/transform steps to prevent [data leakage](https://scikit-learn.org/stable/common_pitfalls.html#data-leakage)"
   ]
  },
  {
   "cell_type": "markdown",
   "id": "traditional-guinea",
   "metadata": {},
   "source": [
    "## Don't use .values when passing a pandas object to scikit-learn\n",
    "\n",
    "There's no need to use \".values\" when passing a DataFrame or Series to scikit-learn... it knows how to access the underlying NumPy array!\n"
   ]
  },
  {
   "cell_type": "code",
   "execution_count": 32,
   "id": "martial-smooth",
   "metadata": {
    "ExecuteTime": {
     "end_time": "2021-10-15T21:37:20.732157Z",
     "start_time": "2021-10-15T21:37:20.719394Z"
    }
   },
   "outputs": [
    {
     "data": {
      "text/html": [
       "<div>\n",
       "<style scoped>\n",
       "    .dataframe tbody tr th:only-of-type {\n",
       "        vertical-align: middle;\n",
       "    }\n",
       "\n",
       "    .dataframe tbody tr th {\n",
       "        vertical-align: top;\n",
       "    }\n",
       "\n",
       "    .dataframe thead th {\n",
       "        text-align: right;\n",
       "    }\n",
       "</style>\n",
       "<table border=\"1\" class=\"dataframe\">\n",
       "  <thead>\n",
       "    <tr style=\"text-align: right;\">\n",
       "      <th></th>\n",
       "      <th>PassengerId</th>\n",
       "      <th>Survived</th>\n",
       "      <th>Pclass</th>\n",
       "      <th>Name</th>\n",
       "      <th>Sex</th>\n",
       "      <th>Age</th>\n",
       "      <th>SibSp</th>\n",
       "      <th>Parch</th>\n",
       "      <th>Ticket</th>\n",
       "      <th>Fare</th>\n",
       "      <th>Cabin</th>\n",
       "      <th>Embarked</th>\n",
       "    </tr>\n",
       "  </thead>\n",
       "  <tbody>\n",
       "    <tr>\n",
       "      <th>0</th>\n",
       "      <td>1</td>\n",
       "      <td>0</td>\n",
       "      <td>3</td>\n",
       "      <td>Braund, Mr. Owen Harris</td>\n",
       "      <td>male</td>\n",
       "      <td>22.0</td>\n",
       "      <td>1</td>\n",
       "      <td>0</td>\n",
       "      <td>A/5 21171</td>\n",
       "      <td>7.2500</td>\n",
       "      <td>NaN</td>\n",
       "      <td>S</td>\n",
       "    </tr>\n",
       "    <tr>\n",
       "      <th>1</th>\n",
       "      <td>2</td>\n",
       "      <td>1</td>\n",
       "      <td>1</td>\n",
       "      <td>Cumings, Mrs. John Bradley (Florence Briggs Th...</td>\n",
       "      <td>female</td>\n",
       "      <td>38.0</td>\n",
       "      <td>1</td>\n",
       "      <td>0</td>\n",
       "      <td>PC 17599</td>\n",
       "      <td>71.2833</td>\n",
       "      <td>C85</td>\n",
       "      <td>C</td>\n",
       "    </tr>\n",
       "  </tbody>\n",
       "</table>\n",
       "</div>"
      ],
      "text/plain": [
       "   PassengerId  Survived  Pclass  \\\n",
       "0            1         0       3   \n",
       "1            2         1       1   \n",
       "\n",
       "                                                Name     Sex   Age  SibSp  \\\n",
       "0                            Braund, Mr. Owen Harris    male  22.0      1   \n",
       "1  Cumings, Mrs. John Bradley (Florence Briggs Th...  female  38.0      1   \n",
       "\n",
       "   Parch     Ticket     Fare Cabin Embarked  \n",
       "0      0  A/5 21171   7.2500   NaN        S  \n",
       "1      0   PC 17599  71.2833   C85        C  "
      ]
     },
     "execution_count": 32,
     "metadata": {},
     "output_type": "execute_result"
    }
   ],
   "source": [
    "df.head(2)"
   ]
  },
  {
   "cell_type": "code",
   "execution_count": 33,
   "id": "peaceful-plastic",
   "metadata": {
    "ExecuteTime": {
     "end_time": "2021-10-15T21:37:20.745493Z",
     "start_time": "2021-10-15T21:37:20.733891Z"
    }
   },
   "outputs": [],
   "source": [
    "from sklearn.linear_model import LogisticRegression"
   ]
  },
  {
   "cell_type": "code",
   "execution_count": 34,
   "id": "flush-ireland",
   "metadata": {
    "ExecuteTime": {
     "end_time": "2021-10-15T21:37:20.760617Z",
     "start_time": "2021-10-15T21:37:20.747336Z"
    }
   },
   "outputs": [],
   "source": [
    "clf = LogisticRegression()"
   ]
  },
  {
   "cell_type": "code",
   "execution_count": 35,
   "id": "exposed-statement",
   "metadata": {
    "ExecuteTime": {
     "end_time": "2021-10-15T21:37:20.767534Z",
     "start_time": "2021-10-15T21:37:20.762043Z"
    }
   },
   "outputs": [],
   "source": [
    "X = df[[\"Pclass\", \"Fare\"]]\n",
    "y = df[\"Survived\"]"
   ]
  },
  {
   "cell_type": "code",
   "execution_count": 36,
   "id": "empty-wrong",
   "metadata": {
    "ExecuteTime": {
     "end_time": "2021-10-15T21:37:20.774287Z",
     "start_time": "2021-10-15T21:37:20.769361Z"
    }
   },
   "outputs": [
    {
     "data": {
      "text/plain": [
       "pandas.core.frame.DataFrame"
      ]
     },
     "execution_count": 36,
     "metadata": {},
     "output_type": "execute_result"
    }
   ],
   "source": [
    "type(X)"
   ]
  },
  {
   "cell_type": "code",
   "execution_count": 37,
   "id": "gorgeous-discount",
   "metadata": {
    "ExecuteTime": {
     "end_time": "2021-10-15T21:37:20.780645Z",
     "start_time": "2021-10-15T21:37:20.775582Z"
    }
   },
   "outputs": [
    {
     "data": {
      "text/plain": [
       "pandas.core.series.Series"
      ]
     },
     "execution_count": 37,
     "metadata": {},
     "output_type": "execute_result"
    }
   ],
   "source": [
    "type(y)"
   ]
  },
  {
   "cell_type": "code",
   "execution_count": 38,
   "id": "latin-richards",
   "metadata": {
    "ExecuteTime": {
     "end_time": "2021-10-15T21:37:20.799105Z",
     "start_time": "2021-10-15T21:37:20.781889Z"
    }
   },
   "outputs": [
    {
     "data": {
      "text/plain": [
       "LogisticRegression()"
      ]
     },
     "execution_count": 38,
     "metadata": {},
     "output_type": "execute_result"
    }
   ],
   "source": [
    "clf.fit(X, y)"
   ]
  },
  {
   "cell_type": "markdown",
   "id": "based-steal",
   "metadata": {},
   "source": [
    "## Load a toy dataset into a DataFrame\n",
    "\n",
    "New in version 0.23: Need to load a [toy dataset](https://scikit-learn.org/stable/datasets/toy_dataset.html) into a DataFrame, including column names? Set as_frame=True.\n",
    "\n",
    "Want features and target as separate objects? Also set return_X_y=True.\n",
    "\n",
    "Additional links: [load_iris](https://scikit-learn.org/stable/modules/generated/sklearn.datasets.load_iris.html)"
   ]
  },
  {
   "cell_type": "code",
   "execution_count": 39,
   "id": "vietnamese-franchise",
   "metadata": {
    "ExecuteTime": {
     "end_time": "2021-10-15T21:37:21.095131Z",
     "start_time": "2021-10-15T21:37:21.030839Z"
    }
   },
   "outputs": [],
   "source": [
    "from sklearn.datasets import load_iris"
   ]
  },
  {
   "cell_type": "markdown",
   "id": "colonial-variety",
   "metadata": {},
   "source": [
    "### Return DataFrame with features and target"
   ]
  },
  {
   "cell_type": "code",
   "execution_count": 40,
   "id": "electronic-group",
   "metadata": {
    "ExecuteTime": {
     "end_time": "2021-10-15T21:37:21.320804Z",
     "start_time": "2021-10-15T21:37:21.311874Z"
    }
   },
   "outputs": [],
   "source": [
    "df_toy = load_iris(as_frame=True)"
   ]
  },
  {
   "cell_type": "code",
   "execution_count": 41,
   "id": "overhead-pointer",
   "metadata": {
    "ExecuteTime": {
     "end_time": "2021-10-15T21:37:21.326958Z",
     "start_time": "2021-10-15T21:37:21.322859Z"
    }
   },
   "outputs": [
    {
     "data": {
      "text/plain": [
       "sklearn.utils.Bunch"
      ]
     },
     "execution_count": 41,
     "metadata": {},
     "output_type": "execute_result"
    }
   ],
   "source": [
    "type(df_toy)"
   ]
  },
  {
   "cell_type": "code",
   "execution_count": 42,
   "id": "prescribed-hearing",
   "metadata": {
    "ExecuteTime": {
     "end_time": "2021-10-15T21:37:21.332534Z",
     "start_time": "2021-10-15T21:37:21.329469Z"
    }
   },
   "outputs": [
    {
     "name": "stdout",
     "output_type": "stream",
     "text": [
      "['DESCR', 'data', 'data_module', 'feature_names', 'filename', 'frame', 'target', 'target_names']\n"
     ]
    }
   ],
   "source": [
    "print(dir(df_toy))"
   ]
  },
  {
   "cell_type": "code",
   "execution_count": 43,
   "id": "diverse-finance",
   "metadata": {
    "ExecuteTime": {
     "end_time": "2021-10-15T21:37:21.338600Z",
     "start_time": "2021-10-15T21:37:21.336165Z"
    }
   },
   "outputs": [],
   "source": [
    "df_toy_frame = df_toy[\"frame\"]"
   ]
  },
  {
   "cell_type": "code",
   "execution_count": 44,
   "id": "respected-processing",
   "metadata": {
    "ExecuteTime": {
     "end_time": "2021-10-15T21:37:21.353113Z",
     "start_time": "2021-10-15T21:37:21.344074Z"
    }
   },
   "outputs": [
    {
     "data": {
      "text/html": [
       "<div>\n",
       "<style scoped>\n",
       "    .dataframe tbody tr th:only-of-type {\n",
       "        vertical-align: middle;\n",
       "    }\n",
       "\n",
       "    .dataframe tbody tr th {\n",
       "        vertical-align: top;\n",
       "    }\n",
       "\n",
       "    .dataframe thead th {\n",
       "        text-align: right;\n",
       "    }\n",
       "</style>\n",
       "<table border=\"1\" class=\"dataframe\">\n",
       "  <thead>\n",
       "    <tr style=\"text-align: right;\">\n",
       "      <th></th>\n",
       "      <th>sepal length (cm)</th>\n",
       "      <th>sepal width (cm)</th>\n",
       "      <th>petal length (cm)</th>\n",
       "      <th>petal width (cm)</th>\n",
       "      <th>target</th>\n",
       "    </tr>\n",
       "  </thead>\n",
       "  <tbody>\n",
       "    <tr>\n",
       "      <th>0</th>\n",
       "      <td>5.1</td>\n",
       "      <td>3.5</td>\n",
       "      <td>1.4</td>\n",
       "      <td>0.2</td>\n",
       "      <td>0</td>\n",
       "    </tr>\n",
       "    <tr>\n",
       "      <th>1</th>\n",
       "      <td>4.9</td>\n",
       "      <td>3.0</td>\n",
       "      <td>1.4</td>\n",
       "      <td>0.2</td>\n",
       "      <td>0</td>\n",
       "    </tr>\n",
       "    <tr>\n",
       "      <th>2</th>\n",
       "      <td>4.7</td>\n",
       "      <td>3.2</td>\n",
       "      <td>1.3</td>\n",
       "      <td>0.2</td>\n",
       "      <td>0</td>\n",
       "    </tr>\n",
       "  </tbody>\n",
       "</table>\n",
       "</div>"
      ],
      "text/plain": [
       "   sepal length (cm)  sepal width (cm)  petal length (cm)  petal width (cm)  \\\n",
       "0                5.1               3.5                1.4               0.2   \n",
       "1                4.9               3.0                1.4               0.2   \n",
       "2                4.7               3.2                1.3               0.2   \n",
       "\n",
       "   target  \n",
       "0       0  \n",
       "1       0  \n",
       "2       0  "
      ]
     },
     "execution_count": 44,
     "metadata": {},
     "output_type": "execute_result"
    }
   ],
   "source": [
    "df_toy_frame.head(3)"
   ]
  },
  {
   "cell_type": "markdown",
   "id": "fundamental-winner",
   "metadata": {},
   "source": [
    "### Return Feature DataFrame and Target Series "
   ]
  },
  {
   "cell_type": "code",
   "execution_count": 45,
   "id": "virtual-margin",
   "metadata": {
    "ExecuteTime": {
     "end_time": "2021-10-15T21:37:21.635087Z",
     "start_time": "2021-10-15T21:37:21.628095Z"
    }
   },
   "outputs": [],
   "source": [
    "X_toy, y_toy = load_iris(as_frame=True, return_X_y=True)"
   ]
  },
  {
   "cell_type": "code",
   "execution_count": 46,
   "id": "excited-theme",
   "metadata": {
    "ExecuteTime": {
     "end_time": "2021-10-15T21:37:21.649229Z",
     "start_time": "2021-10-15T21:37:21.637231Z"
    }
   },
   "outputs": [
    {
     "data": {
      "text/html": [
       "<div>\n",
       "<style scoped>\n",
       "    .dataframe tbody tr th:only-of-type {\n",
       "        vertical-align: middle;\n",
       "    }\n",
       "\n",
       "    .dataframe tbody tr th {\n",
       "        vertical-align: top;\n",
       "    }\n",
       "\n",
       "    .dataframe thead th {\n",
       "        text-align: right;\n",
       "    }\n",
       "</style>\n",
       "<table border=\"1\" class=\"dataframe\">\n",
       "  <thead>\n",
       "    <tr style=\"text-align: right;\">\n",
       "      <th></th>\n",
       "      <th>sepal length (cm)</th>\n",
       "      <th>sepal width (cm)</th>\n",
       "      <th>petal length (cm)</th>\n",
       "      <th>petal width (cm)</th>\n",
       "    </tr>\n",
       "  </thead>\n",
       "  <tbody>\n",
       "    <tr>\n",
       "      <th>0</th>\n",
       "      <td>5.1</td>\n",
       "      <td>3.5</td>\n",
       "      <td>1.4</td>\n",
       "      <td>0.2</td>\n",
       "    </tr>\n",
       "    <tr>\n",
       "      <th>1</th>\n",
       "      <td>4.9</td>\n",
       "      <td>3.0</td>\n",
       "      <td>1.4</td>\n",
       "      <td>0.2</td>\n",
       "    </tr>\n",
       "    <tr>\n",
       "      <th>2</th>\n",
       "      <td>4.7</td>\n",
       "      <td>3.2</td>\n",
       "      <td>1.3</td>\n",
       "      <td>0.2</td>\n",
       "    </tr>\n",
       "  </tbody>\n",
       "</table>\n",
       "</div>"
      ],
      "text/plain": [
       "   sepal length (cm)  sepal width (cm)  petal length (cm)  petal width (cm)\n",
       "0                5.1               3.5                1.4               0.2\n",
       "1                4.9               3.0                1.4               0.2\n",
       "2                4.7               3.2                1.3               0.2"
      ]
     },
     "execution_count": 46,
     "metadata": {},
     "output_type": "execute_result"
    }
   ],
   "source": [
    "X_toy.head(3)"
   ]
  },
  {
   "cell_type": "code",
   "execution_count": 47,
   "id": "handmade-marshall",
   "metadata": {
    "ExecuteTime": {
     "end_time": "2021-10-15T21:37:21.656004Z",
     "start_time": "2021-10-15T21:37:21.651063Z"
    }
   },
   "outputs": [
    {
     "data": {
      "text/plain": [
       "0    0\n",
       "1    0\n",
       "2    0\n",
       "Name: target, dtype: int64"
      ]
     },
     "execution_count": 47,
     "metadata": {},
     "output_type": "execute_result"
    }
   ],
   "source": [
    "y_toy.head(3)"
   ]
  },
  {
   "cell_type": "markdown",
   "id": "fiscal-rebecca",
   "metadata": {},
   "source": [
    "# Categorical Features"
   ]
  },
  {
   "cell_type": "markdown",
   "id": "respiratory-crash",
   "metadata": {},
   "source": [
    "## Encode categorical features using OneHotEncoder or OrdinalEncoder\n",
    "\n",
    "Two common ways to encode categorical features:\n",
    "+ [OneHotEncoder](https://scikit-learn.org/stable/modules/generated/sklearn.preprocessing.OneHotEncoder.html) for unordered (nominal) data\n",
    "+ [OrdinalEncoder](https://scikit-learn.org/stable/modules/generated/sklearn.preprocessing.OrdinalEncoder.html) for ordered (ordinal) data\n",
    "\n",
    "P.S. [LabelEncoder](https://scikit-learn.org/stable/modules/generated/sklearn.preprocessing.LabelEncoder.html) is for labels, not features!"
   ]
  },
  {
   "cell_type": "code",
   "execution_count": 48,
   "id": "cross-lambda",
   "metadata": {
    "ExecuteTime": {
     "end_time": "2021-10-15T21:37:22.218886Z",
     "start_time": "2021-10-15T21:37:22.215398Z"
    }
   },
   "outputs": [],
   "source": [
    "# \"Shape\" is unordered, \"Class\" and \"Size\" are ordered\n",
    "X = pd.DataFrame({'Shape':['square', 'square', 'oval', 'circle'],\n",
    "                  'Class': ['third', 'first', 'second', 'third'],\n",
    "                  'Size': ['S', 'S', 'L', 'XL']})"
   ]
  },
  {
   "cell_type": "code",
   "execution_count": 49,
   "id": "varying-headquarters",
   "metadata": {
    "ExecuteTime": {
     "end_time": "2021-10-15T21:37:22.233824Z",
     "start_time": "2021-10-15T21:37:22.223312Z"
    }
   },
   "outputs": [
    {
     "data": {
      "text/html": [
       "<div>\n",
       "<style scoped>\n",
       "    .dataframe tbody tr th:only-of-type {\n",
       "        vertical-align: middle;\n",
       "    }\n",
       "\n",
       "    .dataframe tbody tr th {\n",
       "        vertical-align: top;\n",
       "    }\n",
       "\n",
       "    .dataframe thead th {\n",
       "        text-align: right;\n",
       "    }\n",
       "</style>\n",
       "<table border=\"1\" class=\"dataframe\">\n",
       "  <thead>\n",
       "    <tr style=\"text-align: right;\">\n",
       "      <th></th>\n",
       "      <th>Shape</th>\n",
       "      <th>Class</th>\n",
       "      <th>Size</th>\n",
       "    </tr>\n",
       "  </thead>\n",
       "  <tbody>\n",
       "    <tr>\n",
       "      <th>0</th>\n",
       "      <td>square</td>\n",
       "      <td>third</td>\n",
       "      <td>S</td>\n",
       "    </tr>\n",
       "    <tr>\n",
       "      <th>1</th>\n",
       "      <td>square</td>\n",
       "      <td>first</td>\n",
       "      <td>S</td>\n",
       "    </tr>\n",
       "    <tr>\n",
       "      <th>2</th>\n",
       "      <td>oval</td>\n",
       "      <td>second</td>\n",
       "      <td>L</td>\n",
       "    </tr>\n",
       "    <tr>\n",
       "      <th>3</th>\n",
       "      <td>circle</td>\n",
       "      <td>third</td>\n",
       "      <td>XL</td>\n",
       "    </tr>\n",
       "  </tbody>\n",
       "</table>\n",
       "</div>"
      ],
      "text/plain": [
       "    Shape   Class Size\n",
       "0  square   third    S\n",
       "1  square   first    S\n",
       "2    oval  second    L\n",
       "3  circle   third   XL"
      ]
     },
     "execution_count": 49,
     "metadata": {},
     "output_type": "execute_result"
    }
   ],
   "source": [
    "X"
   ]
  },
  {
   "cell_type": "code",
   "execution_count": 50,
   "id": "unlike-cleaner",
   "metadata": {
    "ExecuteTime": {
     "end_time": "2021-10-15T21:37:22.240340Z",
     "start_time": "2021-10-15T21:37:22.235516Z"
    }
   },
   "outputs": [
    {
     "data": {
      "text/plain": [
       "(4,)"
      ]
     },
     "execution_count": 50,
     "metadata": {},
     "output_type": "execute_result"
    }
   ],
   "source": [
    "X[\"Shape\"].shape"
   ]
  },
  {
   "cell_type": "code",
   "execution_count": 51,
   "id": "laden-region",
   "metadata": {
    "ExecuteTime": {
     "end_time": "2021-10-15T21:37:22.247910Z",
     "start_time": "2021-10-15T21:37:22.241872Z"
    }
   },
   "outputs": [
    {
     "data": {
      "text/plain": [
       "(4, 1)"
      ]
     },
     "execution_count": 51,
     "metadata": {},
     "output_type": "execute_result"
    }
   ],
   "source": [
    "X[[\"Shape\"]].shape"
   ]
  },
  {
   "cell_type": "markdown",
   "id": "contemporary-video",
   "metadata": {},
   "source": [
    "### left-to-right column order is alphabetical (circle, oval, square)"
   ]
  },
  {
   "cell_type": "code",
   "execution_count": 52,
   "id": "residential-hartford",
   "metadata": {
    "ExecuteTime": {
     "end_time": "2021-10-15T21:37:22.542534Z",
     "start_time": "2021-10-15T21:37:22.536418Z"
    }
   },
   "outputs": [
    {
     "data": {
      "text/plain": [
       "array([[0., 0., 1.],\n",
       "       [0., 0., 1.],\n",
       "       [0., 1., 0.],\n",
       "       [1., 0., 0.]])"
      ]
     },
     "execution_count": 52,
     "metadata": {},
     "output_type": "execute_result"
    }
   ],
   "source": [
    "ohe = OneHotEncoder(sparse=False)\n",
    "ohe.fit_transform(X[[\"Shape\"]])"
   ]
  },
  {
   "cell_type": "code",
   "execution_count": 53,
   "id": "micro-channels",
   "metadata": {
    "ExecuteTime": {
     "end_time": "2021-10-15T21:37:22.551035Z",
     "start_time": "2021-10-15T21:37:22.547307Z"
    }
   },
   "outputs": [
    {
     "data": {
      "text/plain": [
       "[array(['circle', 'oval', 'square'], dtype=object)]"
      ]
     },
     "execution_count": 53,
     "metadata": {},
     "output_type": "execute_result"
    }
   ],
   "source": [
    "ohe.categories_"
   ]
  },
  {
   "cell_type": "markdown",
   "id": "respective-rogers",
   "metadata": {},
   "source": [
    "### category ordering (within each feature) "
   ]
  },
  {
   "cell_type": "code",
   "execution_count": 54,
   "id": "anticipated-spider",
   "metadata": {
    "ExecuteTime": {
     "end_time": "2021-10-15T21:37:22.859320Z",
     "start_time": "2021-10-15T21:37:22.852288Z"
    }
   },
   "outputs": [
    {
     "data": {
      "text/plain": [
       "array([[2., 0.],\n",
       "       [0., 0.],\n",
       "       [1., 2.],\n",
       "       [2., 3.]])"
      ]
     },
     "execution_count": 54,
     "metadata": {},
     "output_type": "execute_result"
    }
   ],
   "source": [
    "from sklearn.preprocessing import OrdinalEncoder\n",
    "\n",
    "oe = OrdinalEncoder(categories=[\n",
    "    [\"first\", \"second\", \"third\"],  # order of Class\n",
    "    [\"S\", \"M\", \"L\", \"XL\"]          # order of Size  \n",
    "])\n",
    "\n",
    "oe.fit_transform(X[[\"Class\", \"Size\"]])"
   ]
  },
  {
   "cell_type": "code",
   "execution_count": 55,
   "id": "selected-catalog",
   "metadata": {
    "ExecuteTime": {
     "end_time": "2021-10-15T21:37:22.867884Z",
     "start_time": "2021-10-15T21:37:22.863462Z"
    }
   },
   "outputs": [
    {
     "data": {
      "text/plain": [
       "[array(['first', 'second', 'third'], dtype=object),\n",
       " array(['S', 'M', 'L', 'XL'], dtype=object)]"
      ]
     },
     "execution_count": 55,
     "metadata": {},
     "output_type": "execute_result"
    }
   ],
   "source": [
    "oe.categories_"
   ]
  },
  {
   "cell_type": "markdown",
   "id": "extra-filter",
   "metadata": {},
   "source": [
    "## Handle unknown categories with OneHotEncoder by encoding them as zeros\n",
    "\n",
    "Q: For a [one-hot encoded feature](https://scikit-learn.org/stable/modules/preprocessing.html#encoding-categorical-features), what can you do if new data contains categories that weren't seen during training?\n",
    "\n",
    "A: Set handle_unknown='ignore' to encode new categories as all zeros.\n",
    "\n",
    "P.S. If you know all possible categories that might ever appear, you can instead specify the categories manually. handle_unknown='ignore' is useful specifically when you don't know all possible categories."
   ]
  },
  {
   "cell_type": "code",
   "execution_count": 56,
   "id": "passing-constitutional",
   "metadata": {
    "ExecuteTime": {
     "end_time": "2021-10-15T21:37:23.161772Z",
     "start_time": "2021-10-15T21:37:23.158141Z"
    }
   },
   "outputs": [],
   "source": [
    "X = pd.DataFrame({'col':['A', 'B', 'C', 'B']})\n",
    "X_new = pd.DataFrame({'col':['A', 'C', 'D']})"
   ]
  },
  {
   "cell_type": "code",
   "execution_count": 57,
   "id": "monthly-garbage",
   "metadata": {
    "ExecuteTime": {
     "end_time": "2021-10-15T21:37:23.170182Z",
     "start_time": "2021-10-15T21:37:23.166213Z"
    }
   },
   "outputs": [],
   "source": [
    "ohe = OneHotEncoder(sparse=False, handle_unknown=\"ignore\")\n",
    "#sparse : bool, default=True\n",
    "#    Will return sparse matrix if set True else will return an array.\n",
    "\n",
    "#handle_unknown : {'error', 'ignore'}, default='error'\n",
    "#    Whether to raise an error or ignore if an unknown categorical feature\n",
    "#    is present during transform (default is to raise). When this parameter\n",
    "#    is set to 'ignore' and an unknown category is encountered during\n",
    "#    transform, the resulting one-hot encoded columns for this feature\n",
    "#    will be all zeros. In the inverse transform, an unknown category\n",
    "#    will be denoted as None.\n"
   ]
  },
  {
   "cell_type": "code",
   "execution_count": 58,
   "id": "preliminary-little",
   "metadata": {
    "ExecuteTime": {
     "end_time": "2021-10-15T21:37:23.179999Z",
     "start_time": "2021-10-15T21:37:23.174147Z"
    }
   },
   "outputs": [
    {
     "data": {
      "text/html": [
       "<div>\n",
       "<style scoped>\n",
       "    .dataframe tbody tr th:only-of-type {\n",
       "        vertical-align: middle;\n",
       "    }\n",
       "\n",
       "    .dataframe tbody tr th {\n",
       "        vertical-align: top;\n",
       "    }\n",
       "\n",
       "    .dataframe thead th {\n",
       "        text-align: right;\n",
       "    }\n",
       "</style>\n",
       "<table border=\"1\" class=\"dataframe\">\n",
       "  <thead>\n",
       "    <tr style=\"text-align: right;\">\n",
       "      <th></th>\n",
       "      <th>col</th>\n",
       "    </tr>\n",
       "  </thead>\n",
       "  <tbody>\n",
       "    <tr>\n",
       "      <th>0</th>\n",
       "      <td>A</td>\n",
       "    </tr>\n",
       "    <tr>\n",
       "      <th>1</th>\n",
       "      <td>B</td>\n",
       "    </tr>\n",
       "    <tr>\n",
       "      <th>2</th>\n",
       "      <td>C</td>\n",
       "    </tr>\n",
       "    <tr>\n",
       "      <th>3</th>\n",
       "      <td>B</td>\n",
       "    </tr>\n",
       "  </tbody>\n",
       "</table>\n",
       "</div>"
      ],
      "text/plain": [
       "  col\n",
       "0   A\n",
       "1   B\n",
       "2   C\n",
       "3   B"
      ]
     },
     "execution_count": 58,
     "metadata": {},
     "output_type": "execute_result"
    }
   ],
   "source": [
    "X"
   ]
  },
  {
   "cell_type": "code",
   "execution_count": 59,
   "id": "functional-bottle",
   "metadata": {
    "ExecuteTime": {
     "end_time": "2021-10-15T21:37:23.189931Z",
     "start_time": "2021-10-15T21:37:23.184305Z"
    }
   },
   "outputs": [
    {
     "data": {
      "text/html": [
       "<div>\n",
       "<style scoped>\n",
       "    .dataframe tbody tr th:only-of-type {\n",
       "        vertical-align: middle;\n",
       "    }\n",
       "\n",
       "    .dataframe tbody tr th {\n",
       "        vertical-align: top;\n",
       "    }\n",
       "\n",
       "    .dataframe thead th {\n",
       "        text-align: right;\n",
       "    }\n",
       "</style>\n",
       "<table border=\"1\" class=\"dataframe\">\n",
       "  <thead>\n",
       "    <tr style=\"text-align: right;\">\n",
       "      <th></th>\n",
       "      <th>col</th>\n",
       "    </tr>\n",
       "  </thead>\n",
       "  <tbody>\n",
       "    <tr>\n",
       "      <th>0</th>\n",
       "      <td>A</td>\n",
       "    </tr>\n",
       "    <tr>\n",
       "      <th>1</th>\n",
       "      <td>C</td>\n",
       "    </tr>\n",
       "    <tr>\n",
       "      <th>2</th>\n",
       "      <td>D</td>\n",
       "    </tr>\n",
       "  </tbody>\n",
       "</table>\n",
       "</div>"
      ],
      "text/plain": [
       "  col\n",
       "0   A\n",
       "1   C\n",
       "2   D"
      ]
     },
     "execution_count": 59,
     "metadata": {},
     "output_type": "execute_result"
    }
   ],
   "source": [
    "X_new"
   ]
  },
  {
   "cell_type": "code",
   "execution_count": 60,
   "id": "pacific-renaissance",
   "metadata": {
    "ExecuteTime": {
     "end_time": "2021-10-15T21:37:23.199863Z",
     "start_time": "2021-10-15T21:37:23.194224Z"
    }
   },
   "outputs": [
    {
     "data": {
      "text/plain": [
       "array([[1., 0., 0.],\n",
       "       [0., 1., 0.],\n",
       "       [0., 0., 1.],\n",
       "       [0., 1., 0.]])"
      ]
     },
     "execution_count": 60,
     "metadata": {},
     "output_type": "execute_result"
    }
   ],
   "source": [
    "# three columns represent categories A, B, and C\n",
    "ohe.fit_transform(X[[\"col\"]])"
   ]
  },
  {
   "cell_type": "code",
   "execution_count": 61,
   "id": "broke-morning",
   "metadata": {
    "ExecuteTime": {
     "end_time": "2021-10-15T21:37:23.207014Z",
     "start_time": "2021-10-15T21:37:23.201300Z"
    }
   },
   "outputs": [
    {
     "data": {
      "text/plain": [
       "array([[1., 0., 0.],\n",
       "       [0., 0., 1.],\n",
       "       [0., 0., 0.]])"
      ]
     },
     "execution_count": 61,
     "metadata": {},
     "output_type": "execute_result"
    }
   ],
   "source": [
    "# category D was not learned by OneHotEncoder during the \"fit\" step\n",
    "# category D is encoded as all zeros\n",
    "ohe.transform(X_new)"
   ]
  },
  {
   "cell_type": "markdown",
   "id": "0c58d10c",
   "metadata": {},
   "source": [
    "## Three reasons not to use drop='first' with OneHotEncoder\n",
    "\n",
    "In most cases, I recommend that you don't use drop='first' with OneHotEncoder. Here's why:\n",
    "\n",
    "+ Multicollinearity is rarely an issue with scikit-learn models\n",
    "+ drop='first' is incompatible with handle_unknown='ignore'\n",
    "+ May be problematic if you standardize all features or use a regularized model\n",
    "\n",
    "\n",
    "Note: Beginning in scikit-learn 1.0, drop='first' and handle_unknown='ignore' can be used together. However, the dropped category and an unknown category will both be encoded as all zeros. "
   ]
  },
  {
   "cell_type": "markdown",
   "id": "f1b0c4a0",
   "metadata": {},
   "source": [
    "## Drop the first category from binary features (only) with OneHotEncoder\n",
    "\n",
    "New in version 0.23: Use drop='if_binary' with OneHotEncoder to drop the first category ONLY if it's a binary feature (meaning it has exactly two categories).\n",
    "\n",
    "Note: Beginning in scikit-learn 1.0, drop='first' and drop='if_binary' can both be used with handle_unknown='ignore'. However, the dropped category and an unknown category will both be encoded as all zeros."
   ]
  },
  {
   "cell_type": "code",
   "execution_count": 62,
   "id": "equipped-bidder",
   "metadata": {
    "ExecuteTime": {
     "end_time": "2021-10-15T21:37:23.842901Z",
     "start_time": "2021-10-15T21:37:23.839386Z"
    }
   },
   "outputs": [],
   "source": [
    "import pandas as pd\n",
    "X = pd.DataFrame({'Shape':['circle', 'oval', 'square', 'square'],\n",
    "                  'Color': ['pink', 'yellow', 'pink', 'yellow']})"
   ]
  },
  {
   "cell_type": "code",
   "execution_count": 63,
   "id": "million-medicaid",
   "metadata": {
    "ExecuteTime": {
     "end_time": "2021-10-15T21:37:23.860084Z",
     "start_time": "2021-10-15T21:37:23.847738Z"
    }
   },
   "outputs": [
    {
     "data": {
      "text/html": [
       "<div>\n",
       "<style scoped>\n",
       "    .dataframe tbody tr th:only-of-type {\n",
       "        vertical-align: middle;\n",
       "    }\n",
       "\n",
       "    .dataframe tbody tr th {\n",
       "        vertical-align: top;\n",
       "    }\n",
       "\n",
       "    .dataframe thead th {\n",
       "        text-align: right;\n",
       "    }\n",
       "</style>\n",
       "<table border=\"1\" class=\"dataframe\">\n",
       "  <thead>\n",
       "    <tr style=\"text-align: right;\">\n",
       "      <th></th>\n",
       "      <th>Shape</th>\n",
       "      <th>Color</th>\n",
       "    </tr>\n",
       "  </thead>\n",
       "  <tbody>\n",
       "    <tr>\n",
       "      <th>0</th>\n",
       "      <td>circle</td>\n",
       "      <td>pink</td>\n",
       "    </tr>\n",
       "    <tr>\n",
       "      <th>1</th>\n",
       "      <td>oval</td>\n",
       "      <td>yellow</td>\n",
       "    </tr>\n",
       "    <tr>\n",
       "      <th>2</th>\n",
       "      <td>square</td>\n",
       "      <td>pink</td>\n",
       "    </tr>\n",
       "    <tr>\n",
       "      <th>3</th>\n",
       "      <td>square</td>\n",
       "      <td>yellow</td>\n",
       "    </tr>\n",
       "  </tbody>\n",
       "</table>\n",
       "</div>"
      ],
      "text/plain": [
       "    Shape   Color\n",
       "0  circle    pink\n",
       "1    oval  yellow\n",
       "2  square    pink\n",
       "3  square  yellow"
      ]
     },
     "execution_count": 63,
     "metadata": {},
     "output_type": "execute_result"
    }
   ],
   "source": [
    "# Shape has 3 categories, Color has 2 categories\n",
    "X"
   ]
  },
  {
   "cell_type": "code",
   "execution_count": 64,
   "id": "9d1f3aaf",
   "metadata": {
    "ExecuteTime": {
     "end_time": "2021-10-15T21:37:23.868498Z",
     "start_time": "2021-10-15T21:37:23.861787Z"
    }
   },
   "outputs": [
    {
     "data": {
      "text/plain": [
       "array([[1., 0., 0., 1., 0.],\n",
       "       [0., 1., 0., 0., 1.],\n",
       "       [0., 0., 1., 1., 0.],\n",
       "       [0., 0., 1., 0., 1.]])"
      ]
     },
     "execution_count": 64,
     "metadata": {},
     "output_type": "execute_result"
    }
   ],
   "source": [
    "# drop=None (default) creates one feature column per category\n",
    "ohe = OneHotEncoder(sparse=False, drop=None)\n",
    "ohe.fit_transform(X)"
   ]
  },
  {
   "cell_type": "code",
   "execution_count": 65,
   "id": "718dd8a9",
   "metadata": {
    "ExecuteTime": {
     "end_time": "2021-10-15T21:37:23.876928Z",
     "start_time": "2021-10-15T21:37:23.870048Z"
    }
   },
   "outputs": [
    {
     "data": {
      "text/plain": [
       "array([[1., 0., 0., 0.],\n",
       "       [0., 1., 0., 1.],\n",
       "       [0., 0., 1., 0.],\n",
       "       [0., 0., 1., 1.]])"
      ]
     },
     "execution_count": 65,
     "metadata": {},
     "output_type": "execute_result"
    }
   ],
   "source": [
    "# drop='if_binary' drops the first category of binary features\n",
    "ohe = OneHotEncoder(sparse=False, drop=\"if_binary\")\n",
    "ohe.fit_transform(X)"
   ]
  },
  {
   "cell_type": "markdown",
   "id": "f0ff68c0",
   "metadata": {},
   "source": [
    "## Use OrdinalEncoder instead of OneHotEncoder with tree-based models\n",
    "\n",
    "With a [tree-based model](https://scikit-learn.org/stable/modules/tree.html), try [OrdinalEncoder](https://scikit-learn.org/stable/modules/generated/sklearn.preprocessing.OrdinalEncoder.html) instead of [OneHotEncoder](https://scikit-learn.org/stable/modules/generated/sklearn.preprocessing.OneHotEncoder.html) even for nominal (unordered) features.\n",
    "\n",
    "Accuracy will often be similar, but OrdinalEncoder will be much faster!\n",
    "\n",
    "Additional links: [Random Forests](https://scikit-learn.org/stable/modules/ensemble.html#forests-of-randomized-trees)"
   ]
  },
  {
   "cell_type": "code",
   "execution_count": 66,
   "id": "elect-yesterday",
   "metadata": {
    "ExecuteTime": {
     "end_time": "2021-10-15T21:37:24.285678Z",
     "start_time": "2021-10-15T21:37:24.200330Z"
    }
   },
   "outputs": [],
   "source": [
    "file_input_path = \"adult-census.csv\"\n",
    "if not os.path.exists(file_input_path):\n",
    "    df = pd.read_csv('https://www.openml.org/data/get_csv/1595261/adult-census.csv')\n",
    "    df.to_csv(file_input_path, header=True, index=False, sep=\"\\t\")\n",
    "else:\n",
    "    df = pd.read_csv(file_input_path, header=0, sep=\"\\t\")"
   ]
  },
  {
   "cell_type": "code",
   "execution_count": 67,
   "id": "superior-cassette",
   "metadata": {
    "ExecuteTime": {
     "end_time": "2021-10-15T21:37:24.315623Z",
     "start_time": "2021-10-15T21:37:24.287209Z"
    }
   },
   "outputs": [
    {
     "name": "stdout",
     "output_type": "stream",
     "text": [
      "<class 'pandas.core.frame.DataFrame'>\n",
      "RangeIndex: 48842 entries, 0 to 48841\n",
      "Data columns (total 15 columns):\n",
      " #   Column          Non-Null Count  Dtype \n",
      "---  ------          --------------  ----- \n",
      " 0   age             48842 non-null  int64 \n",
      " 1   workclass       48842 non-null  object\n",
      " 2   fnlwgt          48842 non-null  int64 \n",
      " 3   education       48842 non-null  object\n",
      " 4   education-num   48842 non-null  int64 \n",
      " 5   marital-status  48842 non-null  object\n",
      " 6   occupation      48842 non-null  object\n",
      " 7   relationship    48842 non-null  object\n",
      " 8   race            48842 non-null  object\n",
      " 9   sex             48842 non-null  object\n",
      " 10  capital-gain    48842 non-null  int64 \n",
      " 11  capital-loss    48842 non-null  int64 \n",
      " 12  hours-per-week  48842 non-null  int64 \n",
      " 13  native-country  48842 non-null  object\n",
      " 14  class           48842 non-null  object\n",
      "dtypes: int64(6), object(9)\n",
      "memory usage: 5.6+ MB\n"
     ]
    }
   ],
   "source": [
    "df.info()"
   ]
  },
  {
   "cell_type": "code",
   "execution_count": 68,
   "id": "beginning-estate",
   "metadata": {
    "ExecuteTime": {
     "end_time": "2021-10-15T21:37:24.348363Z",
     "start_time": "2021-10-15T21:37:24.317122Z"
    }
   },
   "outputs": [
    {
     "data": {
      "text/html": [
       "<div>\n",
       "<style scoped>\n",
       "    .dataframe tbody tr th:only-of-type {\n",
       "        vertical-align: middle;\n",
       "    }\n",
       "\n",
       "    .dataframe tbody tr th {\n",
       "        vertical-align: top;\n",
       "    }\n",
       "\n",
       "    .dataframe thead th {\n",
       "        text-align: right;\n",
       "    }\n",
       "</style>\n",
       "<table border=\"1\" class=\"dataframe\">\n",
       "  <thead>\n",
       "    <tr style=\"text-align: right;\">\n",
       "      <th></th>\n",
       "      <th>age</th>\n",
       "      <th>fnlwgt</th>\n",
       "      <th>education-num</th>\n",
       "      <th>capital-gain</th>\n",
       "      <th>capital-loss</th>\n",
       "      <th>hours-per-week</th>\n",
       "    </tr>\n",
       "  </thead>\n",
       "  <tbody>\n",
       "    <tr>\n",
       "      <th>count</th>\n",
       "      <td>48842.000000</td>\n",
       "      <td>4.884200e+04</td>\n",
       "      <td>48842.000000</td>\n",
       "      <td>48842.000000</td>\n",
       "      <td>48842.000000</td>\n",
       "      <td>48842.000000</td>\n",
       "    </tr>\n",
       "    <tr>\n",
       "      <th>mean</th>\n",
       "      <td>38.643585</td>\n",
       "      <td>1.896641e+05</td>\n",
       "      <td>10.078089</td>\n",
       "      <td>1079.067626</td>\n",
       "      <td>87.502314</td>\n",
       "      <td>40.422382</td>\n",
       "    </tr>\n",
       "    <tr>\n",
       "      <th>std</th>\n",
       "      <td>13.710510</td>\n",
       "      <td>1.056040e+05</td>\n",
       "      <td>2.570973</td>\n",
       "      <td>7452.019058</td>\n",
       "      <td>403.004552</td>\n",
       "      <td>12.391444</td>\n",
       "    </tr>\n",
       "    <tr>\n",
       "      <th>min</th>\n",
       "      <td>17.000000</td>\n",
       "      <td>1.228500e+04</td>\n",
       "      <td>1.000000</td>\n",
       "      <td>0.000000</td>\n",
       "      <td>0.000000</td>\n",
       "      <td>1.000000</td>\n",
       "    </tr>\n",
       "    <tr>\n",
       "      <th>25%</th>\n",
       "      <td>28.000000</td>\n",
       "      <td>1.175505e+05</td>\n",
       "      <td>9.000000</td>\n",
       "      <td>0.000000</td>\n",
       "      <td>0.000000</td>\n",
       "      <td>40.000000</td>\n",
       "    </tr>\n",
       "    <tr>\n",
       "      <th>50%</th>\n",
       "      <td>37.000000</td>\n",
       "      <td>1.781445e+05</td>\n",
       "      <td>10.000000</td>\n",
       "      <td>0.000000</td>\n",
       "      <td>0.000000</td>\n",
       "      <td>40.000000</td>\n",
       "    </tr>\n",
       "    <tr>\n",
       "      <th>75%</th>\n",
       "      <td>48.000000</td>\n",
       "      <td>2.376420e+05</td>\n",
       "      <td>12.000000</td>\n",
       "      <td>0.000000</td>\n",
       "      <td>0.000000</td>\n",
       "      <td>45.000000</td>\n",
       "    </tr>\n",
       "    <tr>\n",
       "      <th>max</th>\n",
       "      <td>90.000000</td>\n",
       "      <td>1.490400e+06</td>\n",
       "      <td>16.000000</td>\n",
       "      <td>99999.000000</td>\n",
       "      <td>4356.000000</td>\n",
       "      <td>99.000000</td>\n",
       "    </tr>\n",
       "  </tbody>\n",
       "</table>\n",
       "</div>"
      ],
      "text/plain": [
       "                age        fnlwgt  education-num  capital-gain  capital-loss  \\\n",
       "count  48842.000000  4.884200e+04   48842.000000  48842.000000  48842.000000   \n",
       "mean      38.643585  1.896641e+05      10.078089   1079.067626     87.502314   \n",
       "std       13.710510  1.056040e+05       2.570973   7452.019058    403.004552   \n",
       "min       17.000000  1.228500e+04       1.000000      0.000000      0.000000   \n",
       "25%       28.000000  1.175505e+05       9.000000      0.000000      0.000000   \n",
       "50%       37.000000  1.781445e+05      10.000000      0.000000      0.000000   \n",
       "75%       48.000000  2.376420e+05      12.000000      0.000000      0.000000   \n",
       "max       90.000000  1.490400e+06      16.000000  99999.000000   4356.000000   \n",
       "\n",
       "       hours-per-week  \n",
       "count    48842.000000  \n",
       "mean        40.422382  \n",
       "std         12.391444  \n",
       "min          1.000000  \n",
       "25%         40.000000  \n",
       "50%         40.000000  \n",
       "75%         45.000000  \n",
       "max         99.000000  "
      ]
     },
     "execution_count": 68,
     "metadata": {},
     "output_type": "execute_result"
    }
   ],
   "source": [
    "df.describe()"
   ]
  },
  {
   "cell_type": "code",
   "execution_count": 69,
   "id": "79f6b39e",
   "metadata": {
    "ExecuteTime": {
     "end_time": "2021-10-15T21:37:24.362356Z",
     "start_time": "2021-10-15T21:37:24.350161Z"
    }
   },
   "outputs": [
    {
     "data": {
      "text/html": [
       "<div>\n",
       "<style scoped>\n",
       "    .dataframe tbody tr th:only-of-type {\n",
       "        vertical-align: middle;\n",
       "    }\n",
       "\n",
       "    .dataframe tbody tr th {\n",
       "        vertical-align: top;\n",
       "    }\n",
       "\n",
       "    .dataframe thead th {\n",
       "        text-align: right;\n",
       "    }\n",
       "</style>\n",
       "<table border=\"1\" class=\"dataframe\">\n",
       "  <thead>\n",
       "    <tr style=\"text-align: right;\">\n",
       "      <th></th>\n",
       "      <th>age</th>\n",
       "      <th>workclass</th>\n",
       "      <th>fnlwgt</th>\n",
       "      <th>education</th>\n",
       "      <th>education-num</th>\n",
       "      <th>marital-status</th>\n",
       "      <th>occupation</th>\n",
       "      <th>relationship</th>\n",
       "      <th>race</th>\n",
       "      <th>sex</th>\n",
       "      <th>capital-gain</th>\n",
       "      <th>capital-loss</th>\n",
       "      <th>hours-per-week</th>\n",
       "      <th>native-country</th>\n",
       "      <th>class</th>\n",
       "    </tr>\n",
       "  </thead>\n",
       "  <tbody>\n",
       "    <tr>\n",
       "      <th>0</th>\n",
       "      <td>25</td>\n",
       "      <td>Private</td>\n",
       "      <td>226802</td>\n",
       "      <td>11th</td>\n",
       "      <td>7</td>\n",
       "      <td>Never-married</td>\n",
       "      <td>Machine-op-inspct</td>\n",
       "      <td>Own-child</td>\n",
       "      <td>Black</td>\n",
       "      <td>Male</td>\n",
       "      <td>0</td>\n",
       "      <td>0</td>\n",
       "      <td>40</td>\n",
       "      <td>United-States</td>\n",
       "      <td>&lt;=50K</td>\n",
       "    </tr>\n",
       "    <tr>\n",
       "      <th>1</th>\n",
       "      <td>38</td>\n",
       "      <td>Private</td>\n",
       "      <td>89814</td>\n",
       "      <td>HS-grad</td>\n",
       "      <td>9</td>\n",
       "      <td>Married-civ-spouse</td>\n",
       "      <td>Farming-fishing</td>\n",
       "      <td>Husband</td>\n",
       "      <td>White</td>\n",
       "      <td>Male</td>\n",
       "      <td>0</td>\n",
       "      <td>0</td>\n",
       "      <td>50</td>\n",
       "      <td>United-States</td>\n",
       "      <td>&lt;=50K</td>\n",
       "    </tr>\n",
       "  </tbody>\n",
       "</table>\n",
       "</div>"
      ],
      "text/plain": [
       "   age workclass  fnlwgt education  education-num       marital-status  \\\n",
       "0   25   Private  226802      11th              7        Never-married   \n",
       "1   38   Private   89814   HS-grad              9   Married-civ-spouse   \n",
       "\n",
       "           occupation relationship    race    sex  capital-gain  capital-loss  \\\n",
       "0   Machine-op-inspct    Own-child   Black   Male             0             0   \n",
       "1     Farming-fishing      Husband   White   Male             0             0   \n",
       "\n",
       "   hours-per-week  native-country   class  \n",
       "0              40   United-States   <=50K  \n",
       "1              50   United-States   <=50K  "
      ]
     },
     "execution_count": 69,
     "metadata": {},
     "output_type": "execute_result"
    }
   ],
   "source": [
    "df.head(2)"
   ]
  },
  {
   "cell_type": "code",
   "execution_count": 70,
   "id": "e8794709",
   "metadata": {
    "ExecuteTime": {
     "end_time": "2021-10-15T21:37:24.367059Z",
     "start_time": "2021-10-15T21:37:24.363737Z"
    }
   },
   "outputs": [],
   "source": [
    "categorical_cols = ['workclass', 'education', 'marital-status',\n",
    "                    'occupation', 'relationship', 'race', 'sex']"
   ]
  },
  {
   "cell_type": "code",
   "execution_count": 71,
   "id": "a089de37",
   "metadata": {
    "ExecuteTime": {
     "end_time": "2021-10-15T21:37:24.386963Z",
     "start_time": "2021-10-15T21:37:24.368331Z"
    }
   },
   "outputs": [],
   "source": [
    "from sklearn.preprocessing import OneHotEncoder, OrdinalEncoder\n",
    "from sklearn.pipeline import make_pipeline\n",
    "from sklearn.ensemble import RandomForestClassifier\n",
    "from sklearn.model_selection import cross_val_score"
   ]
  },
  {
   "cell_type": "code",
   "execution_count": 72,
   "id": "2353d8c9",
   "metadata": {
    "ExecuteTime": {
     "end_time": "2021-10-15T21:37:24.393675Z",
     "start_time": "2021-10-15T21:37:24.388414Z"
    }
   },
   "outputs": [],
   "source": [
    "X = df[categorical_cols]\n",
    "y = df[\"class\"]"
   ]
  },
  {
   "cell_type": "code",
   "execution_count": 73,
   "id": "41ec2e11",
   "metadata": {
    "ExecuteTime": {
     "end_time": "2021-10-15T21:37:24.400338Z",
     "start_time": "2021-10-15T21:37:24.394995Z"
    }
   },
   "outputs": [
    {
     "data": {
      "text/plain": [
       "Index(['workclass', 'education', 'marital-status', 'occupation',\n",
       "       'relationship', 'race', 'sex'],\n",
       "      dtype='object')"
      ]
     },
     "execution_count": 73,
     "metadata": {},
     "output_type": "execute_result"
    }
   ],
   "source": [
    "X.columns"
   ]
  },
  {
   "cell_type": "code",
   "execution_count": 74,
   "id": "98c66252",
   "metadata": {
    "ExecuteTime": {
     "end_time": "2021-10-15T21:37:24.411861Z",
     "start_time": "2021-10-15T21:37:24.401653Z"
    }
   },
   "outputs": [
    {
     "data": {
      "text/html": [
       "<div>\n",
       "<style scoped>\n",
       "    .dataframe tbody tr th:only-of-type {\n",
       "        vertical-align: middle;\n",
       "    }\n",
       "\n",
       "    .dataframe tbody tr th {\n",
       "        vertical-align: top;\n",
       "    }\n",
       "\n",
       "    .dataframe thead th {\n",
       "        text-align: right;\n",
       "    }\n",
       "</style>\n",
       "<table border=\"1\" class=\"dataframe\">\n",
       "  <thead>\n",
       "    <tr style=\"text-align: right;\">\n",
       "      <th></th>\n",
       "      <th>workclass</th>\n",
       "      <th>education</th>\n",
       "      <th>marital-status</th>\n",
       "      <th>occupation</th>\n",
       "      <th>relationship</th>\n",
       "      <th>race</th>\n",
       "      <th>sex</th>\n",
       "    </tr>\n",
       "  </thead>\n",
       "  <tbody>\n",
       "    <tr>\n",
       "      <th>0</th>\n",
       "      <td>Private</td>\n",
       "      <td>11th</td>\n",
       "      <td>Never-married</td>\n",
       "      <td>Machine-op-inspct</td>\n",
       "      <td>Own-child</td>\n",
       "      <td>Black</td>\n",
       "      <td>Male</td>\n",
       "    </tr>\n",
       "    <tr>\n",
       "      <th>1</th>\n",
       "      <td>Private</td>\n",
       "      <td>HS-grad</td>\n",
       "      <td>Married-civ-spouse</td>\n",
       "      <td>Farming-fishing</td>\n",
       "      <td>Husband</td>\n",
       "      <td>White</td>\n",
       "      <td>Male</td>\n",
       "    </tr>\n",
       "  </tbody>\n",
       "</table>\n",
       "</div>"
      ],
      "text/plain": [
       "  workclass education       marital-status          occupation relationship  \\\n",
       "0   Private      11th        Never-married   Machine-op-inspct    Own-child   \n",
       "1   Private   HS-grad   Married-civ-spouse     Farming-fishing      Husband   \n",
       "\n",
       "     race    sex  \n",
       "0   Black   Male  \n",
       "1   White   Male  "
      ]
     },
     "execution_count": 74,
     "metadata": {},
     "output_type": "execute_result"
    }
   ],
   "source": [
    "X.head(2)"
   ]
  },
  {
   "cell_type": "code",
   "execution_count": 75,
   "id": "100f27ed",
   "metadata": {
    "ExecuteTime": {
     "end_time": "2021-10-15T21:37:24.418692Z",
     "start_time": "2021-10-15T21:37:24.413712Z"
    }
   },
   "outputs": [
    {
     "data": {
      "text/plain": [
       "0     <=50K\n",
       "1     <=50K\n",
       "Name: class, dtype: object"
      ]
     },
     "execution_count": 75,
     "metadata": {},
     "output_type": "execute_result"
    }
   ],
   "source": [
    "y.head(2)"
   ]
  },
  {
   "cell_type": "markdown",
   "id": "a6899725",
   "metadata": {},
   "source": [
    "### Comparasion between OneHotEncoder and OrdinalEncoder"
   ]
  },
  {
   "cell_type": "code",
   "execution_count": 76,
   "id": "a8572aff",
   "metadata": {
    "ExecuteTime": {
     "end_time": "2021-10-15T21:37:24.645772Z",
     "start_time": "2021-10-15T21:37:24.642737Z"
    }
   },
   "outputs": [
    {
     "name": "stdout",
     "output_type": "stream",
     "text": [
      "Number of columns in X: 7\n"
     ]
    }
   ],
   "source": [
    "print(f\"Number of columns in X: {len(X.columns)}\")"
   ]
  },
  {
   "cell_type": "code",
   "execution_count": 77,
   "id": "016bcf54",
   "metadata": {
    "ExecuteTime": {
     "end_time": "2021-10-15T21:37:24.741256Z",
     "start_time": "2021-10-15T21:37:24.650379Z"
    }
   },
   "outputs": [
    {
     "data": {
      "text/plain": [
       "(48842, 60)"
      ]
     },
     "execution_count": 77,
     "metadata": {},
     "output_type": "execute_result"
    }
   ],
   "source": [
    "ohe = OneHotEncoder(sparse=False)\n",
    "ohe.fit_transform(X).shape"
   ]
  },
  {
   "cell_type": "code",
   "execution_count": 78,
   "id": "128b00a0",
   "metadata": {
    "ExecuteTime": {
     "end_time": "2021-10-15T21:37:24.828110Z",
     "start_time": "2021-10-15T21:37:24.742822Z"
    }
   },
   "outputs": [
    {
     "data": {
      "text/plain": [
       "array([[0., 0., 0., ..., 0., 0., 1.],\n",
       "       [0., 0., 0., ..., 1., 0., 1.],\n",
       "       [0., 0., 1., ..., 1., 0., 1.],\n",
       "       ...,\n",
       "       [0., 0., 0., ..., 1., 1., 0.],\n",
       "       [0., 0., 0., ..., 1., 0., 1.],\n",
       "       [0., 0., 0., ..., 1., 1., 0.]])"
      ]
     },
     "execution_count": 78,
     "metadata": {},
     "output_type": "execute_result"
    }
   ],
   "source": [
    "ohe.fit_transform(X)"
   ]
  },
  {
   "cell_type": "code",
   "execution_count": 79,
   "id": "ae4e26cc",
   "metadata": {
    "ExecuteTime": {
     "end_time": "2021-10-15T21:37:24.897763Z",
     "start_time": "2021-10-15T21:37:24.829434Z"
    }
   },
   "outputs": [
    {
     "data": {
      "text/plain": [
       "(48842, 7)"
      ]
     },
     "execution_count": 79,
     "metadata": {},
     "output_type": "execute_result"
    }
   ],
   "source": [
    "oe = OrdinalEncoder()\n",
    "oe.fit_transform(X).shape"
   ]
  },
  {
   "cell_type": "code",
   "execution_count": 80,
   "id": "1de94039",
   "metadata": {
    "ExecuteTime": {
     "end_time": "2021-10-15T21:37:24.968009Z",
     "start_time": "2021-10-15T21:37:24.899395Z"
    }
   },
   "outputs": [
    {
     "data": {
      "text/plain": [
       "array([[ 4.,  1.,  4., ...,  3.,  2.,  1.],\n",
       "       [ 4., 11.,  2., ...,  0.,  4.,  1.],\n",
       "       [ 2.,  7.,  2., ...,  0.,  4.,  1.],\n",
       "       ...,\n",
       "       [ 4., 11.,  6., ...,  4.,  4.,  0.],\n",
       "       [ 4., 11.,  4., ...,  3.,  4.,  1.],\n",
       "       [ 5., 11.,  2., ...,  5.,  4.,  0.]])"
      ]
     },
     "execution_count": 80,
     "metadata": {},
     "output_type": "execute_result"
    }
   ],
   "source": [
    "oe.fit_transform(X)"
   ]
  },
  {
   "cell_type": "markdown",
   "id": "4f7eb773",
   "metadata": {},
   "source": [
    "### Classifier"
   ]
  },
  {
   "cell_type": "code",
   "execution_count": 81,
   "id": "dcf9fb5e",
   "metadata": {
    "ExecuteTime": {
     "end_time": "2021-10-15T21:37:25.090089Z",
     "start_time": "2021-10-15T21:37:25.087241Z"
    }
   },
   "outputs": [],
   "source": [
    "rf = RandomForestClassifier(random_state=1, n_jobs=-1)"
   ]
  },
  {
   "cell_type": "code",
   "execution_count": 82,
   "id": "5450fc3c",
   "metadata": {
    "ExecuteTime": {
     "end_time": "2021-10-15T21:37:32.857583Z",
     "start_time": "2021-10-15T21:37:25.095030Z"
    }
   },
   "outputs": [
    {
     "name": "stdout",
     "output_type": "stream",
     "text": [
      "CPU times: user 3.34 s, sys: 448 ms, total: 3.79 s\n",
      "Wall time: 7.76 s\n"
     ]
    },
    {
     "data": {
      "text/plain": [
       "0.8262561170407418"
      ]
     },
     "execution_count": 82,
     "metadata": {},
     "output_type": "execute_result"
    }
   ],
   "source": [
    "# Pipeline containing OneHotEncoder\n",
    "ohe_pipe = make_pipeline(\n",
    "    ohe,\n",
    "    rf\n",
    ")\n",
    "%time cross_val_score(ohe_pipe, X, y).mean()"
   ]
  },
  {
   "cell_type": "code",
   "execution_count": 83,
   "id": "aff2f730",
   "metadata": {
    "ExecuteTime": {
     "end_time": "2021-10-15T21:37:36.455876Z",
     "start_time": "2021-10-15T21:37:32.859665Z"
    }
   },
   "outputs": [
    {
     "name": "stdout",
     "output_type": "stream",
     "text": [
      "CPU times: user 2.99 s, sys: 204 ms, total: 3.2 s\n",
      "Wall time: 3.59 s\n"
     ]
    },
    {
     "data": {
      "text/plain": [
       "0.8256623624061437"
      ]
     },
     "execution_count": 83,
     "metadata": {},
     "output_type": "execute_result"
    }
   ],
   "source": [
    "# Pipeline containing OrdinalEncoder\n",
    "oe_pipe = make_pipeline(\n",
    "    oe,\n",
    "    rf\n",
    ")\n",
    "%time cross_val_score(oe_pipe, X, y).mean()"
   ]
  },
  {
   "cell_type": "markdown",
   "id": "f517edea",
   "metadata": {},
   "source": [
    "# Missing values"
   ]
  },
  {
   "cell_type": "markdown",
   "id": "11e89da3",
   "metadata": {},
   "source": [
    "## Add a missing indicator to encode \"missingness\" as a feature\n",
    "\n",
    "When [imputing missing values](https://scikit-learn.org/stable/modules/impute.html), you can preserve info about which values were missing and use THAT as a feature!\n",
    "\n",
    "Why? Sometimes there's a relationship between \"missingness\" and the target/label you are trying to predict."
   ]
  },
  {
   "cell_type": "code",
   "execution_count": 84,
   "id": "8ace0241",
   "metadata": {
    "ExecuteTime": {
     "end_time": "2021-10-15T21:37:36.460300Z",
     "start_time": "2021-10-15T21:37:36.457088Z"
    }
   },
   "outputs": [],
   "source": [
    "X = pd.DataFrame({'Age':[20, 30, 10, np.nan, 10]})"
   ]
  },
  {
   "cell_type": "code",
   "execution_count": 85,
   "id": "f42cf4b7",
   "metadata": {
    "ExecuteTime": {
     "end_time": "2021-10-15T21:37:36.473678Z",
     "start_time": "2021-10-15T21:37:36.461946Z"
    }
   },
   "outputs": [],
   "source": [
    "from sklearn.impute import SimpleImputer"
   ]
  },
  {
   "cell_type": "code",
   "execution_count": 86,
   "id": "a7afb861",
   "metadata": {
    "ExecuteTime": {
     "end_time": "2021-10-15T21:37:36.484645Z",
     "start_time": "2021-10-15T21:37:36.475061Z"
    }
   },
   "outputs": [
    {
     "data": {
      "text/plain": [
       "array([[20. ],\n",
       "       [30. ],\n",
       "       [10. ],\n",
       "       [17.5],\n",
       "       [10. ]])"
      ]
     },
     "execution_count": 86,
     "metadata": {},
     "output_type": "execute_result"
    }
   ],
   "source": [
    "# impute the mean\n",
    "imputer = SimpleImputer()\n",
    "imputer.fit_transform(X)"
   ]
  },
  {
   "cell_type": "code",
   "execution_count": 87,
   "id": "0861fe87",
   "metadata": {
    "ExecuteTime": {
     "end_time": "2021-10-15T21:37:36.495305Z",
     "start_time": "2021-10-15T21:37:36.486032Z"
    }
   },
   "outputs": [
    {
     "data": {
      "text/plain": [
       "array([[20. ,  0. ],\n",
       "       [30. ,  0. ],\n",
       "       [10. ,  0. ],\n",
       "       [17.5,  1. ],\n",
       "       [10. ,  0. ]])"
      ]
     },
     "execution_count": 87,
     "metadata": {},
     "output_type": "execute_result"
    }
   ],
   "source": [
    "# add an indicator\n",
    "imputer = SimpleImputer(add_indicator=True)\n",
    "imputer.fit_transform(X)"
   ]
  },
  {
   "cell_type": "markdown",
   "id": "16632545",
   "metadata": {},
   "source": [
    "## Impute missing values using KNNImputer or IterativeImputer\n",
    "\n",
    "Need something better than [SimpleImputer](https://scikit-learn.org/stable/modules/generated/sklearn.impute.SimpleImputer.html) for missing value imputation?\n",
    "\n",
    "Try [KNNImputer](https://scikit-learn.org/stable/modules/generated/sklearn.impute.KNNImputer.html) or [IterativeImputer](https://scikit-learn.org/stable/modules/generated/sklearn.impute.IterativeImputer.html) (inspired by R's MICE package). Both are multivariate approaches (they take other features into account!)\n"
   ]
  },
  {
   "cell_type": "code",
   "execution_count": 88,
   "id": "ca787363",
   "metadata": {
    "ExecuteTime": {
     "end_time": "2021-10-15T21:37:36.501333Z",
     "start_time": "2021-10-15T21:37:36.496757Z"
    }
   },
   "outputs": [],
   "source": [
    "from sklearn.experimental import enable_iterative_imputer\n",
    "from sklearn.impute import IterativeImputer\n",
    "\n",
    "from sklearn.impute import KNNImputer"
   ]
  },
  {
   "cell_type": "code",
   "execution_count": 89,
   "id": "6c4d707e",
   "metadata": {
    "ExecuteTime": {
     "end_time": "2021-10-15T21:37:36.510800Z",
     "start_time": "2021-10-15T21:37:36.502821Z"
    }
   },
   "outputs": [],
   "source": [
    "import os \n",
    "\n",
    "file_input_path = \"titanic_train.csv\"\n",
    "if not os.path.exists(file_input_path):\n",
    "    df = pd.read_csv(\"http://bit.ly/kaggletrain\")\n",
    "    df.to_csv(file_input_path, header=True, index=False, sep=\"\\t\")\n",
    "else:\n",
    "    df = pd.read_csv(file_input_path, header=0, sep=\"\\t\")"
   ]
  },
  {
   "cell_type": "code",
   "execution_count": 90,
   "id": "6c321583",
   "metadata": {
    "ExecuteTime": {
     "end_time": "2021-10-15T21:37:36.524275Z",
     "start_time": "2021-10-15T21:37:36.512327Z"
    }
   },
   "outputs": [
    {
     "data": {
      "text/html": [
       "<div>\n",
       "<style scoped>\n",
       "    .dataframe tbody tr th:only-of-type {\n",
       "        vertical-align: middle;\n",
       "    }\n",
       "\n",
       "    .dataframe tbody tr th {\n",
       "        vertical-align: top;\n",
       "    }\n",
       "\n",
       "    .dataframe thead th {\n",
       "        text-align: right;\n",
       "    }\n",
       "</style>\n",
       "<table border=\"1\" class=\"dataframe\">\n",
       "  <thead>\n",
       "    <tr style=\"text-align: right;\">\n",
       "      <th></th>\n",
       "      <th>PassengerId</th>\n",
       "      <th>Survived</th>\n",
       "      <th>Pclass</th>\n",
       "      <th>Name</th>\n",
       "      <th>Sex</th>\n",
       "      <th>Age</th>\n",
       "      <th>SibSp</th>\n",
       "      <th>Parch</th>\n",
       "      <th>Ticket</th>\n",
       "      <th>Fare</th>\n",
       "      <th>Cabin</th>\n",
       "      <th>Embarked</th>\n",
       "    </tr>\n",
       "  </thead>\n",
       "  <tbody>\n",
       "    <tr>\n",
       "      <th>0</th>\n",
       "      <td>1</td>\n",
       "      <td>0</td>\n",
       "      <td>3</td>\n",
       "      <td>Braund, Mr. Owen Harris</td>\n",
       "      <td>male</td>\n",
       "      <td>22.0</td>\n",
       "      <td>1</td>\n",
       "      <td>0</td>\n",
       "      <td>A/5 21171</td>\n",
       "      <td>7.2500</td>\n",
       "      <td>NaN</td>\n",
       "      <td>S</td>\n",
       "    </tr>\n",
       "    <tr>\n",
       "      <th>1</th>\n",
       "      <td>2</td>\n",
       "      <td>1</td>\n",
       "      <td>1</td>\n",
       "      <td>Cumings, Mrs. John Bradley (Florence Briggs Th...</td>\n",
       "      <td>female</td>\n",
       "      <td>38.0</td>\n",
       "      <td>1</td>\n",
       "      <td>0</td>\n",
       "      <td>PC 17599</td>\n",
       "      <td>71.2833</td>\n",
       "      <td>C85</td>\n",
       "      <td>C</td>\n",
       "    </tr>\n",
       "  </tbody>\n",
       "</table>\n",
       "</div>"
      ],
      "text/plain": [
       "   PassengerId  Survived  Pclass  \\\n",
       "0            1         0       3   \n",
       "1            2         1       1   \n",
       "\n",
       "                                                Name     Sex   Age  SibSp  \\\n",
       "0                            Braund, Mr. Owen Harris    male  22.0      1   \n",
       "1  Cumings, Mrs. John Bradley (Florence Briggs Th...  female  38.0      1   \n",
       "\n",
       "   Parch     Ticket     Fare Cabin Embarked  \n",
       "0      0  A/5 21171   7.2500   NaN        S  \n",
       "1      0   PC 17599  71.2833   C85        C  "
      ]
     },
     "execution_count": 90,
     "metadata": {},
     "output_type": "execute_result"
    }
   ],
   "source": [
    "df.head(2)"
   ]
  },
  {
   "cell_type": "code",
   "execution_count": 91,
   "id": "3717ba1c",
   "metadata": {
    "ExecuteTime": {
     "end_time": "2021-10-15T21:37:36.530408Z",
     "start_time": "2021-10-15T21:37:36.526792Z"
    }
   },
   "outputs": [],
   "source": [
    "cols = ['SibSp', 'Fare', 'Age']\n",
    "X = df[cols][:6]"
   ]
  },
  {
   "cell_type": "code",
   "execution_count": 92,
   "id": "39b9186b",
   "metadata": {
    "ExecuteTime": {
     "end_time": "2021-10-15T21:37:36.540701Z",
     "start_time": "2021-10-15T21:37:36.531896Z"
    }
   },
   "outputs": [
    {
     "data": {
      "text/html": [
       "<div>\n",
       "<style scoped>\n",
       "    .dataframe tbody tr th:only-of-type {\n",
       "        vertical-align: middle;\n",
       "    }\n",
       "\n",
       "    .dataframe tbody tr th {\n",
       "        vertical-align: top;\n",
       "    }\n",
       "\n",
       "    .dataframe thead th {\n",
       "        text-align: right;\n",
       "    }\n",
       "</style>\n",
       "<table border=\"1\" class=\"dataframe\">\n",
       "  <thead>\n",
       "    <tr style=\"text-align: right;\">\n",
       "      <th></th>\n",
       "      <th>SibSp</th>\n",
       "      <th>Fare</th>\n",
       "      <th>Age</th>\n",
       "    </tr>\n",
       "  </thead>\n",
       "  <tbody>\n",
       "    <tr>\n",
       "      <th>0</th>\n",
       "      <td>1</td>\n",
       "      <td>7.2500</td>\n",
       "      <td>22.0</td>\n",
       "    </tr>\n",
       "    <tr>\n",
       "      <th>1</th>\n",
       "      <td>1</td>\n",
       "      <td>71.2833</td>\n",
       "      <td>38.0</td>\n",
       "    </tr>\n",
       "    <tr>\n",
       "      <th>2</th>\n",
       "      <td>0</td>\n",
       "      <td>7.9250</td>\n",
       "      <td>26.0</td>\n",
       "    </tr>\n",
       "    <tr>\n",
       "      <th>3</th>\n",
       "      <td>1</td>\n",
       "      <td>53.1000</td>\n",
       "      <td>35.0</td>\n",
       "    </tr>\n",
       "    <tr>\n",
       "      <th>4</th>\n",
       "      <td>0</td>\n",
       "      <td>8.0500</td>\n",
       "      <td>35.0</td>\n",
       "    </tr>\n",
       "    <tr>\n",
       "      <th>5</th>\n",
       "      <td>0</td>\n",
       "      <td>8.4583</td>\n",
       "      <td>NaN</td>\n",
       "    </tr>\n",
       "  </tbody>\n",
       "</table>\n",
       "</div>"
      ],
      "text/plain": [
       "   SibSp     Fare   Age\n",
       "0      1   7.2500  22.0\n",
       "1      1  71.2833  38.0\n",
       "2      0   7.9250  26.0\n",
       "3      1  53.1000  35.0\n",
       "4      0   8.0500  35.0\n",
       "5      0   8.4583   NaN"
      ]
     },
     "execution_count": 92,
     "metadata": {},
     "output_type": "execute_result"
    }
   ],
   "source": [
    "X"
   ]
  },
  {
   "cell_type": "code",
   "execution_count": 93,
   "id": "690625a9",
   "metadata": {
    "ExecuteTime": {
     "end_time": "2021-10-15T21:37:36.562900Z",
     "start_time": "2021-10-15T21:37:36.542191Z"
    }
   },
   "outputs": [
    {
     "data": {
      "text/plain": [
       "array([[ 1.        ,  7.25      , 22.        ],\n",
       "       [ 1.        , 71.2833    , 38.        ],\n",
       "       [ 0.        ,  7.925     , 26.        ],\n",
       "       [ 1.        , 53.1       , 35.        ],\n",
       "       [ 0.        ,  8.05      , 35.        ],\n",
       "       [ 0.        ,  8.4583    , 28.50639495]])"
      ]
     },
     "execution_count": 93,
     "metadata": {},
     "output_type": "execute_result"
    }
   ],
   "source": [
    "imputer_it = IterativeImputer()\n",
    "imputer_it.fit_transform(X)"
   ]
  },
  {
   "cell_type": "code",
   "execution_count": 94,
   "id": "d5033876",
   "metadata": {
    "ExecuteTime": {
     "end_time": "2021-10-15T21:37:36.572458Z",
     "start_time": "2021-10-15T21:37:36.564327Z"
    }
   },
   "outputs": [
    {
     "data": {
      "text/plain": [
       "array([[ 1.    ,  7.25  , 22.    ],\n",
       "       [ 1.    , 71.2833, 38.    ],\n",
       "       [ 0.    ,  7.925 , 26.    ],\n",
       "       [ 1.    , 53.1   , 35.    ],\n",
       "       [ 0.    ,  8.05  , 35.    ],\n",
       "       [ 0.    ,  8.4583, 30.5   ]])"
      ]
     },
     "execution_count": 94,
     "metadata": {},
     "output_type": "execute_result"
    }
   ],
   "source": [
    "imputer_knn = KNNImputer(n_neighbors=2)  # default=5\n",
    "imputer_knn.fit_transform(X)\n",
    "# Note: (26+35)/2 = 30.5"
   ]
  },
  {
   "cell_type": "markdown",
   "id": "9c315044",
   "metadata": {},
   "source": [
    "## HistGradientBoostingClassifier natively supports missing values\n",
    "\n",
    "Four options for handling missing values (NaNs):\n",
    "+ Drop rows containing NaNs\n",
    "+ Drop columns containing NaNs\n",
    "+ Fill NaNs with imputed values\n",
    "+ [Use a model that natively handles NaNs (NEW!)](https://scikit-learn.org/stable/modules/ensemble.html#missing-values-support)\n",
    "\n",
    "Note: Beginning in scikit-learn 1.0, HistGradientBoostingClassifier and HistGradientBoostingRegressor are considered stable (rather than experimental), and thus you no longer have to enable them explicitly.\n"
   ]
  },
  {
   "cell_type": "code",
   "execution_count": 95,
   "id": "czech-board",
   "metadata": {
    "ExecuteTime": {
     "end_time": "2021-10-15T21:37:36.581942Z",
     "start_time": "2021-10-15T21:37:36.573968Z"
    }
   },
   "outputs": [],
   "source": [
    "import os \n",
    "\n",
    "file_input_path = \"titanic_train.csv\"\n",
    "if not os.path.exists(file_input_path):\n",
    "    df_train = pd.read_csv(\"http://bit.ly/kaggletrain\")\n",
    "    df_train.to_csv(file_input_path, header=True, index=False, sep=\"\\t\")\n",
    "else:\n",
    "    df_train = pd.read_csv(file_input_path, header=0, sep=\"\\t\")"
   ]
  },
  {
   "cell_type": "code",
   "execution_count": 96,
   "id": "90ad1d28",
   "metadata": {
    "ExecuteTime": {
     "end_time": "2021-10-15T21:37:36.591255Z",
     "start_time": "2021-10-15T21:37:36.583405Z"
    }
   },
   "outputs": [],
   "source": [
    "import os \n",
    "\n",
    "file_input_path = \"titanic_test.csv\"\n",
    "if not os.path.exists(file_input_path):\n",
    "    df_test = pd.read_csv(\"http://bit.ly/kaggletest\")\n",
    "    df_test.to_csv(file_input_path, header=True, index=False, sep=\"\\t\")\n",
    "else:\n",
    "    df_test = pd.read_csv(file_input_path, header=0, sep=\"\\t\")"
   ]
  },
  {
   "cell_type": "code",
   "execution_count": 97,
   "id": "824eca0b",
   "metadata": {
    "ExecuteTime": {
     "end_time": "2021-10-15T21:37:36.595131Z",
     "start_time": "2021-10-15T21:37:36.592593Z"
    }
   },
   "outputs": [],
   "source": [
    "df_test = df_test[:175]"
   ]
  },
  {
   "cell_type": "code",
   "execution_count": 98,
   "id": "0a335263",
   "metadata": {
    "ExecuteTime": {
     "end_time": "2021-10-15T21:37:36.600543Z",
     "start_time": "2021-10-15T21:37:36.596572Z"
    }
   },
   "outputs": [],
   "source": [
    "col_train = ['Survived', 'Age', 'Fare', 'Pclass']\n",
    "col_test = ['Age', 'Fare', 'Pclass']"
   ]
  },
  {
   "cell_type": "code",
   "execution_count": 99,
   "id": "0b350e20",
   "metadata": {
    "ExecuteTime": {
     "end_time": "2021-10-15T21:37:36.607616Z",
     "start_time": "2021-10-15T21:37:36.601836Z"
    }
   },
   "outputs": [],
   "source": [
    "df_train = df_train[col_train]\n",
    "df_test = df_test[col_test]"
   ]
  },
  {
   "cell_type": "markdown",
   "id": "0709cb92",
   "metadata": {},
   "source": [
    "### count the number of NaNs in each column"
   ]
  },
  {
   "cell_type": "code",
   "execution_count": 100,
   "id": "ff2bac87",
   "metadata": {
    "ExecuteTime": {
     "end_time": "2021-10-15T21:37:36.616070Z",
     "start_time": "2021-10-15T21:37:36.608897Z"
    }
   },
   "outputs": [
    {
     "data": {
      "text/plain": [
       "Survived      0\n",
       "Age         177\n",
       "Fare          0\n",
       "Pclass        0\n",
       "dtype: int64"
      ]
     },
     "execution_count": 100,
     "metadata": {},
     "output_type": "execute_result"
    }
   ],
   "source": [
    "df_train.isna().sum()"
   ]
  },
  {
   "cell_type": "code",
   "execution_count": 101,
   "id": "711910ec",
   "metadata": {
    "ExecuteTime": {
     "end_time": "2021-10-15T21:37:36.623970Z",
     "start_time": "2021-10-15T21:37:36.617774Z"
    }
   },
   "outputs": [
    {
     "data": {
      "text/plain": [
       "Age       36\n",
       "Fare       1\n",
       "Pclass     0\n",
       "dtype: int64"
      ]
     },
     "execution_count": 101,
     "metadata": {},
     "output_type": "execute_result"
    }
   ],
   "source": [
    "df_test.isna().sum()"
   ]
  },
  {
   "cell_type": "code",
   "execution_count": 102,
   "id": "opening-christianity",
   "metadata": {
    "ExecuteTime": {
     "end_time": "2021-10-15T21:37:36.629061Z",
     "start_time": "2021-10-15T21:37:36.625240Z"
    }
   },
   "outputs": [],
   "source": [
    "df_label = df_train.pop(\"Survived\")"
   ]
  },
  {
   "cell_type": "code",
   "execution_count": 103,
   "id": "4dbf2683",
   "metadata": {
    "ExecuteTime": {
     "end_time": "2021-10-15T21:37:36.635502Z",
     "start_time": "2021-10-15T21:37:36.630632Z"
    }
   },
   "outputs": [
    {
     "data": {
      "text/plain": [
       "pandas.core.series.Series"
      ]
     },
     "execution_count": 103,
     "metadata": {},
     "output_type": "execute_result"
    }
   ],
   "source": [
    "type(df_label)"
   ]
  },
  {
   "cell_type": "code",
   "execution_count": 104,
   "id": "ba3d5fd4",
   "metadata": {
    "ExecuteTime": {
     "end_time": "2021-10-15T21:37:36.640037Z",
     "start_time": "2021-10-15T21:37:36.636797Z"
    }
   },
   "outputs": [],
   "source": [
    "# from sklearn.experimental import enable_hist_gradient_boosting\n",
    "from sklearn.ensemble import HistGradientBoostingClassifier"
   ]
  },
  {
   "cell_type": "code",
   "execution_count": 105,
   "id": "e82d27eb",
   "metadata": {
    "ExecuteTime": {
     "end_time": "2021-10-15T21:37:58.782850Z",
     "start_time": "2021-10-15T21:37:36.641274Z"
    }
   },
   "outputs": [
    {
     "data": {
      "text/plain": [
       "HistGradientBoostingClassifier()"
      ]
     },
     "execution_count": 105,
     "metadata": {},
     "output_type": "execute_result"
    }
   ],
   "source": [
    "# no errors, despite NaNs in train and test!\n",
    "clf = HistGradientBoostingClassifier()\n",
    "clf.fit(df_train, df_label)"
   ]
  },
  {
   "cell_type": "code",
   "execution_count": 106,
   "id": "aaf90ad7",
   "metadata": {
    "ExecuteTime": {
     "end_time": "2021-10-15T21:38:01.309385Z",
     "start_time": "2021-10-15T21:37:58.784694Z"
    }
   },
   "outputs": [
    {
     "data": {
      "text/plain": [
       "array([0, 0, 0, 1, 0, 0, 0, 0, 0, 0, 0, 0, 1, 0, 0, 1, 0, 1, 1, 0, 1, 0,\n",
       "       1, 1, 1, 0, 1, 1, 1, 0, 1, 1, 0, 0, 1, 0, 0, 0, 0, 1, 0, 0, 0, 0,\n",
       "       1, 0, 0, 0, 1, 1, 1, 0, 1, 0, 0, 0, 0, 0, 1, 1, 0, 1, 0, 1, 1, 0,\n",
       "       1, 0, 0, 1, 0, 0, 0, 0, 1, 1, 0, 0, 0, 0, 1, 0, 1, 0, 1, 0, 1, 1,\n",
       "       0, 1, 0, 0, 1, 0, 1, 0, 1, 0, 0, 0, 1, 0, 0, 0, 0, 0, 0, 0, 0, 0,\n",
       "       0, 0, 1, 0, 1, 0, 0, 1, 1, 1, 1, 0, 1, 0, 0, 0, 0, 1, 1, 0, 0, 0,\n",
       "       0, 0, 0, 0, 0, 0, 0, 0, 0, 1, 1, 1, 1, 0, 1, 0, 0, 1, 1, 0, 0, 0,\n",
       "       0, 0, 1, 0, 1, 0, 0, 1, 0, 0, 1, 0, 1, 0, 0, 0, 0, 0, 0, 0, 0])"
      ]
     },
     "execution_count": 106,
     "metadata": {},
     "output_type": "execute_result"
    }
   ],
   "source": [
    "pred = clf.predict(df_test)\n",
    "pred"
   ]
  },
  {
   "cell_type": "code",
   "execution_count": 107,
   "id": "69770685",
   "metadata": {
    "ExecuteTime": {
     "end_time": "2021-10-15T21:38:01.328617Z",
     "start_time": "2021-10-15T21:38:01.312053Z"
    }
   },
   "outputs": [
    {
     "data": {
      "text/html": [
       "<div>\n",
       "<style scoped>\n",
       "    .dataframe tbody tr th:only-of-type {\n",
       "        vertical-align: middle;\n",
       "    }\n",
       "\n",
       "    .dataframe tbody tr th {\n",
       "        vertical-align: top;\n",
       "    }\n",
       "\n",
       "    .dataframe thead th {\n",
       "        text-align: right;\n",
       "    }\n",
       "</style>\n",
       "<table border=\"1\" class=\"dataframe\">\n",
       "  <thead>\n",
       "    <tr style=\"text-align: right;\">\n",
       "      <th></th>\n",
       "      <th>Age</th>\n",
       "      <th>Fare</th>\n",
       "      <th>Pclass</th>\n",
       "    </tr>\n",
       "  </thead>\n",
       "  <tbody>\n",
       "    <tr>\n",
       "      <th>0</th>\n",
       "      <td>34.5</td>\n",
       "      <td>7.8292</td>\n",
       "      <td>3</td>\n",
       "    </tr>\n",
       "    <tr>\n",
       "      <th>1</th>\n",
       "      <td>47.0</td>\n",
       "      <td>7.0000</td>\n",
       "      <td>3</td>\n",
       "    </tr>\n",
       "    <tr>\n",
       "      <th>2</th>\n",
       "      <td>62.0</td>\n",
       "      <td>9.6875</td>\n",
       "      <td>2</td>\n",
       "    </tr>\n",
       "    <tr>\n",
       "      <th>3</th>\n",
       "      <td>27.0</td>\n",
       "      <td>8.6625</td>\n",
       "      <td>3</td>\n",
       "    </tr>\n",
       "    <tr>\n",
       "      <th>4</th>\n",
       "      <td>22.0</td>\n",
       "      <td>12.2875</td>\n",
       "      <td>3</td>\n",
       "    </tr>\n",
       "  </tbody>\n",
       "</table>\n",
       "</div>"
      ],
      "text/plain": [
       "    Age     Fare  Pclass\n",
       "0  34.5   7.8292       3\n",
       "1  47.0   7.0000       3\n",
       "2  62.0   9.6875       2\n",
       "3  27.0   8.6625       3\n",
       "4  22.0  12.2875       3"
      ]
     },
     "execution_count": 107,
     "metadata": {},
     "output_type": "execute_result"
    }
   ],
   "source": [
    "df_test.head()"
   ]
  },
  {
   "cell_type": "markdown",
   "id": "0c656bd9",
   "metadata": {},
   "source": [
    "## Two ways to impute missing values for a categorical feature\n",
    "\n",
    "Need to [impute missing values](https://scikit-learn.org/stable/modules/generated/sklearn.impute.SimpleImputer.html) for a categorical feature?\n",
    "\n",
    "Two options:\n",
    "+ Impute the most frequent value\n",
    "+ Impute the value \"missing\", which treats it as a separate category\n",
    "\n",
    "strategy : str, default='mean'\n",
    "    The imputation strategy.\n",
    "\n",
    "    - If \"mean\", then replace missing values using the mean along\n",
    "      each column. Can only be used with numeric data.\n",
    "    - If \"median\", then replace missing values using the median along\n",
    "      each column. Can only be used with numeric data.\n",
    "    - If \"most_frequent\", then replace missing using the most frequent\n",
    "      value along each column. Can be used with strings or numeric data.\n",
    "      If there is more than one such value, only the smallest is returned.\n",
    "    - If \"constant\", then replace missing values with fill_value. Can be\n",
    "      used with strings or numeric data.\n",
    "\n",
    "    .. versionadded:: 0.20\n",
    "       strategy=\"constant\" for fixed value imputation.\n",
    "\n",
    "fill_value : str or numerical value, default=None\n",
    "    When strategy == \"constant\", fill_value is used to replace all\n",
    "    occurrences of missing_values.\n",
    "    If left to the default, fill_value will be 0 when imputing numerical\n",
    "    data and \"missing_value\" for strings or object data types."
   ]
  },
  {
   "cell_type": "code",
   "execution_count": 108,
   "id": "5744563c",
   "metadata": {
    "ExecuteTime": {
     "end_time": "2021-10-15T21:38:01.337107Z",
     "start_time": "2021-10-15T21:38:01.329798Z"
    }
   },
   "outputs": [],
   "source": [
    "X = pd.DataFrame({'Shape':['square', 'square', 'oval', 'circle', np.nan]})"
   ]
  },
  {
   "cell_type": "code",
   "execution_count": 109,
   "id": "bb1aacef",
   "metadata": {
    "ExecuteTime": {
     "end_time": "2021-10-15T21:38:01.344783Z",
     "start_time": "2021-10-15T21:38:01.342083Z"
    }
   },
   "outputs": [],
   "source": [
    "from sklearn.impute import SimpleImputer"
   ]
  },
  {
   "cell_type": "code",
   "execution_count": 110,
   "id": "685f4dcc",
   "metadata": {
    "ExecuteTime": {
     "end_time": "2021-10-15T21:38:01.355080Z",
     "start_time": "2021-10-15T21:38:01.346111Z"
    }
   },
   "outputs": [
    {
     "data": {
      "text/plain": [
       "array([['square'],\n",
       "       ['square'],\n",
       "       ['oval'],\n",
       "       ['circle'],\n",
       "       ['square']], dtype=object)"
      ]
     },
     "execution_count": 110,
     "metadata": {},
     "output_type": "execute_result"
    }
   ],
   "source": [
    "imputer = SimpleImputer(strategy=\"most_frequent\")\n",
    "imputer.fit_transform(X)"
   ]
  },
  {
   "cell_type": "code",
   "execution_count": 111,
   "id": "8fac8838",
   "metadata": {
    "ExecuteTime": {
     "end_time": "2021-10-15T21:38:01.364343Z",
     "start_time": "2021-10-15T21:38:01.356448Z"
    }
   },
   "outputs": [
    {
     "data": {
      "text/plain": [
       "array([['square'],\n",
       "       ['square'],\n",
       "       ['oval'],\n",
       "       ['circle'],\n",
       "       ['missing']], dtype=object)"
      ]
     },
     "execution_count": 111,
     "metadata": {},
     "output_type": "execute_result"
    }
   ],
   "source": [
    "imputer = SimpleImputer(strategy=\"constant\", fill_value=\"missing\")\n",
    "imputer.fit_transform(X)\n",
    "# Note: after imputering based on \"missing\" value, we can use OneHotEncoding to numerize this column."
   ]
  },
  {
   "cell_type": "markdown",
   "id": "1e876c4d",
   "metadata": {},
   "source": [
    "# Pipeline"
   ]
  },
  {
   "cell_type": "markdown",
   "id": "d124933c",
   "metadata": {},
   "source": [
    "## Use Pipeline to chain together multiple steps\n",
    "\n",
    "Q: What does [\"pipeline\"](https://scikit-learn.org/stable/modules/compose.html#pipeline-chaining-estimators) do?\n",
    "\n",
    "A: Chains together multiple steps: output of each step is used as input to the next step.\n",
    "\n",
    "Makes it easy to apply the same [preprocessing](https://scikit-learn.org/stable/modules/preprocessing.html) to train and test!\n",
    "\n",
    "Additional links: [SimpleImputer](https://scikit-learn.org/stable/modules/generated/sklearn.impute.SimpleImputer.html), [data leakage](https://scikit-learn.org/stable/common_pitfalls.html#data-leakage)\n"
   ]
  },
  {
   "cell_type": "code",
   "execution_count": 112,
   "id": "9617f28f",
   "metadata": {
    "ExecuteTime": {
     "end_time": "2021-10-15T21:38:01.372790Z",
     "start_time": "2021-10-15T21:38:01.365625Z"
    }
   },
   "outputs": [],
   "source": [
    "train = pd.DataFrame({'feat1':[10, 20, np.nan, 2], 'feat2':[25., 20, 5, 3], 'label':['A', 'A', 'B', 'B']})\n",
    "test = pd.DataFrame({'feat1':[30., 5, 15], 'feat2':[12, 10, np.nan]})"
   ]
  },
  {
   "cell_type": "code",
   "execution_count": 113,
   "id": "8284dde6",
   "metadata": {
    "ExecuteTime": {
     "end_time": "2021-10-15T21:38:01.378253Z",
     "start_time": "2021-10-15T21:38:01.374063Z"
    }
   },
   "outputs": [],
   "source": [
    "from sklearn.impute import SimpleImputer\n",
    "from sklearn.linear_model import LogisticRegression\n",
    "from sklearn.pipeline import make_pipeline"
   ]
  },
  {
   "cell_type": "code",
   "execution_count": 114,
   "id": "4d0f26e6",
   "metadata": {
    "ExecuteTime": {
     "end_time": "2021-10-15T21:38:01.383642Z",
     "start_time": "2021-10-15T21:38:01.379522Z"
    }
   },
   "outputs": [],
   "source": [
    "imputer = SimpleImputer()\n",
    "clf = LogisticRegression()"
   ]
  },
  {
   "cell_type": "code",
   "execution_count": 115,
   "id": "40ea1e3a",
   "metadata": {
    "ExecuteTime": {
     "end_time": "2021-10-15T21:38:01.389178Z",
     "start_time": "2021-10-15T21:38:01.384786Z"
    }
   },
   "outputs": [],
   "source": [
    "# pipeline: impute missing values, then pass the results to the classifier\n",
    "pipe = make_pipeline(\n",
    "    imputer,\n",
    "    clf\n",
    ")"
   ]
  },
  {
   "cell_type": "code",
   "execution_count": 116,
   "id": "b335e709",
   "metadata": {
    "ExecuteTime": {
     "end_time": "2021-10-15T21:38:01.399373Z",
     "start_time": "2021-10-15T21:38:01.390413Z"
    }
   },
   "outputs": [
    {
     "data": {
      "text/html": [
       "<div>\n",
       "<style scoped>\n",
       "    .dataframe tbody tr th:only-of-type {\n",
       "        vertical-align: middle;\n",
       "    }\n",
       "\n",
       "    .dataframe tbody tr th {\n",
       "        vertical-align: top;\n",
       "    }\n",
       "\n",
       "    .dataframe thead th {\n",
       "        text-align: right;\n",
       "    }\n",
       "</style>\n",
       "<table border=\"1\" class=\"dataframe\">\n",
       "  <thead>\n",
       "    <tr style=\"text-align: right;\">\n",
       "      <th></th>\n",
       "      <th>feat1</th>\n",
       "      <th>feat2</th>\n",
       "      <th>label</th>\n",
       "    </tr>\n",
       "  </thead>\n",
       "  <tbody>\n",
       "    <tr>\n",
       "      <th>0</th>\n",
       "      <td>10.0</td>\n",
       "      <td>25.0</td>\n",
       "      <td>A</td>\n",
       "    </tr>\n",
       "    <tr>\n",
       "      <th>1</th>\n",
       "      <td>20.0</td>\n",
       "      <td>20.0</td>\n",
       "      <td>A</td>\n",
       "    </tr>\n",
       "    <tr>\n",
       "      <th>2</th>\n",
       "      <td>NaN</td>\n",
       "      <td>5.0</td>\n",
       "      <td>B</td>\n",
       "    </tr>\n",
       "    <tr>\n",
       "      <th>3</th>\n",
       "      <td>2.0</td>\n",
       "      <td>3.0</td>\n",
       "      <td>B</td>\n",
       "    </tr>\n",
       "  </tbody>\n",
       "</table>\n",
       "</div>"
      ],
      "text/plain": [
       "   feat1  feat2 label\n",
       "0   10.0   25.0     A\n",
       "1   20.0   20.0     A\n",
       "2    NaN    5.0     B\n",
       "3    2.0    3.0     B"
      ]
     },
     "execution_count": 116,
     "metadata": {},
     "output_type": "execute_result"
    }
   ],
   "source": [
    "train"
   ]
  },
  {
   "cell_type": "code",
   "execution_count": 117,
   "id": "1f43febe",
   "metadata": {
    "ExecuteTime": {
     "end_time": "2021-10-15T21:38:01.408723Z",
     "start_time": "2021-10-15T21:38:01.400756Z"
    }
   },
   "outputs": [
    {
     "data": {
      "text/html": [
       "<div>\n",
       "<style scoped>\n",
       "    .dataframe tbody tr th:only-of-type {\n",
       "        vertical-align: middle;\n",
       "    }\n",
       "\n",
       "    .dataframe tbody tr th {\n",
       "        vertical-align: top;\n",
       "    }\n",
       "\n",
       "    .dataframe thead th {\n",
       "        text-align: right;\n",
       "    }\n",
       "</style>\n",
       "<table border=\"1\" class=\"dataframe\">\n",
       "  <thead>\n",
       "    <tr style=\"text-align: right;\">\n",
       "      <th></th>\n",
       "      <th>feat1</th>\n",
       "      <th>feat2</th>\n",
       "    </tr>\n",
       "  </thead>\n",
       "  <tbody>\n",
       "    <tr>\n",
       "      <th>0</th>\n",
       "      <td>30.0</td>\n",
       "      <td>12.0</td>\n",
       "    </tr>\n",
       "    <tr>\n",
       "      <th>1</th>\n",
       "      <td>5.0</td>\n",
       "      <td>10.0</td>\n",
       "    </tr>\n",
       "    <tr>\n",
       "      <th>2</th>\n",
       "      <td>15.0</td>\n",
       "      <td>NaN</td>\n",
       "    </tr>\n",
       "  </tbody>\n",
       "</table>\n",
       "</div>"
      ],
      "text/plain": [
       "   feat1  feat2\n",
       "0   30.0   12.0\n",
       "1    5.0   10.0\n",
       "2   15.0    NaN"
      ]
     },
     "execution_count": 117,
     "metadata": {},
     "output_type": "execute_result"
    }
   ],
   "source": [
    "test"
   ]
  },
  {
   "cell_type": "code",
   "execution_count": 118,
   "id": "3c0349fc",
   "metadata": {
    "ExecuteTime": {
     "end_time": "2021-10-15T21:38:01.414455Z",
     "start_time": "2021-10-15T21:38:01.409895Z"
    }
   },
   "outputs": [],
   "source": [
    "features, label = train[['feat1', 'feat2']], train[\"label\"]"
   ]
  },
  {
   "cell_type": "code",
   "execution_count": 119,
   "id": "7c4a8155",
   "metadata": {
    "ExecuteTime": {
     "end_time": "2021-10-15T21:38:01.433378Z",
     "start_time": "2021-10-15T21:38:01.415712Z"
    }
   },
   "outputs": [
    {
     "data": {
      "text/plain": [
       "Pipeline(steps=[('simpleimputer', SimpleImputer()),\n",
       "                ('logisticregression', LogisticRegression())])"
      ]
     },
     "execution_count": 119,
     "metadata": {},
     "output_type": "execute_result"
    }
   ],
   "source": [
    "# Train phase based on pipeline\n",
    "pipe.fit(features, label)"
   ]
  },
  {
   "cell_type": "code",
   "execution_count": 120,
   "id": "c4b475f9",
   "metadata": {
    "ExecuteTime": {
     "end_time": "2021-10-15T21:38:01.440720Z",
     "start_time": "2021-10-15T21:38:01.434787Z"
    }
   },
   "outputs": [
    {
     "data": {
      "text/plain": [
       "array(['A', 'B', 'A'], dtype=object)"
      ]
     },
     "execution_count": 120,
     "metadata": {},
     "output_type": "execute_result"
    }
   ],
   "source": [
    "# Predict based on pipeline\n",
    "pipe.predict(test)"
   ]
  },
  {
   "cell_type": "code",
   "execution_count": 121,
   "id": "896f3a15",
   "metadata": {
    "ExecuteTime": {
     "end_time": "2021-10-15T21:38:01.448325Z",
     "start_time": "2021-10-15T21:38:01.442013Z"
    }
   },
   "outputs": [
    {
     "data": {
      "text/plain": [
       "array([[0.91180344, 0.08819656],\n",
       "       [0.07269959, 0.92730041],\n",
       "       [0.61128195, 0.38871805]])"
      ]
     },
     "execution_count": 121,
     "metadata": {},
     "output_type": "execute_result"
    }
   ],
   "source": [
    "pipe.predict_proba(test)"
   ]
  },
  {
   "cell_type": "markdown",
   "id": "14e2c0e1",
   "metadata": {},
   "source": [
    "## What is the difference between Pipeline and make_pipeline?\n",
    "\n",
    "Q: What's the difference between [Pipeline](https://scikit-learn.org/stable/modules/generated/sklearn.pipeline.Pipeline.html) and [make_pipeline](https://scikit-learn.org/stable/modules/generated/sklearn.pipeline.make_pipeline.html)?\n",
    "\n",
    "A: Pipeline requires naming of steps, make_pipeline does not.\n",
    "\n",
    "(Same applies to [ColumnTransformer](https://scikit-learn.org/stable/modules/generated/sklearn.compose.ColumnTransformer.html) vs [make_column_transformer](https://scikit-learn.org/stable/modules/generated/sklearn.compose.make_column_transformer.html))"
   ]
  },
  {
   "cell_type": "code",
   "execution_count": 122,
   "id": "5c90293e",
   "metadata": {
    "ExecuteTime": {
     "end_time": "2021-10-15T21:38:01.453055Z",
     "start_time": "2021-10-15T21:38:01.449679Z"
    }
   },
   "outputs": [],
   "source": [
    "from sklearn.preprocessing import OneHotEncoder\n",
    "from sklearn.impute import SimpleImputer\n",
    "from sklearn.linear_model import LogisticRegression"
   ]
  },
  {
   "cell_type": "code",
   "execution_count": 123,
   "id": "e8ef2b38",
   "metadata": {
    "ExecuteTime": {
     "end_time": "2021-10-15T21:38:01.458440Z",
     "start_time": "2021-10-15T21:38:01.454279Z"
    }
   },
   "outputs": [],
   "source": [
    "ohe = OneHotEncoder()\n",
    "imp = SimpleImputer()\n",
    "clf = LogisticRegression()"
   ]
  },
  {
   "cell_type": "markdown",
   "id": "77e5a92e",
   "metadata": {},
   "source": [
    "### make_column_transformer & make_pipeline"
   ]
  },
  {
   "cell_type": "code",
   "execution_count": 124,
   "id": "0c0ed3b0",
   "metadata": {
    "ExecuteTime": {
     "end_time": "2021-10-15T21:38:01.463839Z",
     "start_time": "2021-10-15T21:38:01.459724Z"
    }
   },
   "outputs": [],
   "source": [
    "from sklearn.compose import make_column_transformer\n",
    "from sklearn.pipeline import make_pipeline"
   ]
  },
  {
   "cell_type": "code",
   "execution_count": 125,
   "id": "9211c654",
   "metadata": {
    "ExecuteTime": {
     "end_time": "2021-10-15T21:38:01.469485Z",
     "start_time": "2021-10-15T21:38:01.465045Z"
    }
   },
   "outputs": [],
   "source": [
    "col_transformer = make_column_transformer(\n",
    "    (ohe, [\"Embarked\", \"Sex\"]),\n",
    "    (imp, [\"Age\"]),\n",
    "    remainder=\"passthrough\"\n",
    ")"
   ]
  },
  {
   "cell_type": "code",
   "execution_count": 126,
   "id": "12967f47",
   "metadata": {
    "ExecuteTime": {
     "end_time": "2021-10-15T21:38:01.475072Z",
     "start_time": "2021-10-15T21:38:01.470743Z"
    }
   },
   "outputs": [],
   "source": [
    "pipe = make_pipeline(col_transformer, clf)"
   ]
  },
  {
   "cell_type": "markdown",
   "id": "9101f136",
   "metadata": {},
   "source": [
    "### ColumnTransformer & Pipeline"
   ]
  },
  {
   "cell_type": "code",
   "execution_count": 127,
   "id": "966a91ab",
   "metadata": {
    "ExecuteTime": {
     "end_time": "2021-10-15T21:38:01.480517Z",
     "start_time": "2021-10-15T21:38:01.476277Z"
    }
   },
   "outputs": [],
   "source": [
    "from sklearn.compose import ColumnTransformer\n",
    "from sklearn.pipeline import Pipeline"
   ]
  },
  {
   "cell_type": "code",
   "execution_count": 128,
   "id": "196d0e9c",
   "metadata": {
    "ExecuteTime": {
     "end_time": "2021-10-15T21:38:01.486016Z",
     "start_time": "2021-10-15T21:38:01.481688Z"
    }
   },
   "outputs": [],
   "source": [
    "col_transformer = ColumnTransformer(\n",
    "    [\n",
    "        (\"encoder\", ohe, [\"Embarked\", \"Sex\"]),\n",
    "        (\"imputer\", imp, [\"Age\"])\n",
    "    ],\n",
    "    remainder=\"passthrough\"\n",
    ")"
   ]
  },
  {
   "cell_type": "code",
   "execution_count": 129,
   "id": "4a5b5701",
   "metadata": {
    "ExecuteTime": {
     "end_time": "2021-10-15T21:38:01.491560Z",
     "start_time": "2021-10-15T21:38:01.487246Z"
    }
   },
   "outputs": [],
   "source": [
    "pipe = Pipeline(\n",
    "    [\n",
    "        (\"preprocessor\", col_transformer),\n",
    "        (\"classifier\", clf)\n",
    "    ]\n",
    ")"
   ]
  },
  {
   "cell_type": "markdown",
   "id": "9142e22c",
   "metadata": {},
   "source": [
    "## Examine the intermediate steps in a Pipeline\n",
    "\n",
    "Q: How do you examine the intermediate steps in a Pipeline?\n",
    "\n",
    "A: By using the \"named_steps\" attribute:\n",
    "\n",
    "pipe.named_steps.STEP_NAME.ATTRIBUTE"
   ]
  },
  {
   "cell_type": "code",
   "execution_count": 130,
   "id": "beb8233b",
   "metadata": {
    "ExecuteTime": {
     "end_time": "2021-10-15T21:38:01.501102Z",
     "start_time": "2021-10-15T21:38:01.492769Z"
    }
   },
   "outputs": [],
   "source": [
    "import os \n",
    "\n",
    "file_input_path = \"titanic_train.csv\"\n",
    "if not os.path.exists(file_input_path):\n",
    "    df_train = pd.read_csv(\"http://bit.ly/kaggletrain\")\n",
    "    df_train.to_csv(file_input_path, header=True, index=False, sep=\"\\t\")\n",
    "else:\n",
    "    df_train = pd.read_csv(file_input_path, header=0, sep=\"\\t\")"
   ]
  },
  {
   "cell_type": "code",
   "execution_count": 131,
   "id": "712be32b",
   "metadata": {
    "ExecuteTime": {
     "end_time": "2021-10-15T21:38:01.505884Z",
     "start_time": "2021-10-15T21:38:01.502340Z"
    }
   },
   "outputs": [],
   "source": [
    "df_train = df_train[:6][[\"Age\", \"Pclass\", \"Survived\"]]"
   ]
  },
  {
   "cell_type": "code",
   "execution_count": 132,
   "id": "4bef4ab4",
   "metadata": {
    "ExecuteTime": {
     "end_time": "2021-10-15T21:38:01.516103Z",
     "start_time": "2021-10-15T21:38:01.507394Z"
    }
   },
   "outputs": [
    {
     "data": {
      "text/html": [
       "<div>\n",
       "<style scoped>\n",
       "    .dataframe tbody tr th:only-of-type {\n",
       "        vertical-align: middle;\n",
       "    }\n",
       "\n",
       "    .dataframe tbody tr th {\n",
       "        vertical-align: top;\n",
       "    }\n",
       "\n",
       "    .dataframe thead th {\n",
       "        text-align: right;\n",
       "    }\n",
       "</style>\n",
       "<table border=\"1\" class=\"dataframe\">\n",
       "  <thead>\n",
       "    <tr style=\"text-align: right;\">\n",
       "      <th></th>\n",
       "      <th>Age</th>\n",
       "      <th>Pclass</th>\n",
       "      <th>Survived</th>\n",
       "    </tr>\n",
       "  </thead>\n",
       "  <tbody>\n",
       "    <tr>\n",
       "      <th>0</th>\n",
       "      <td>22.0</td>\n",
       "      <td>3</td>\n",
       "      <td>0</td>\n",
       "    </tr>\n",
       "    <tr>\n",
       "      <th>1</th>\n",
       "      <td>38.0</td>\n",
       "      <td>1</td>\n",
       "      <td>1</td>\n",
       "    </tr>\n",
       "    <tr>\n",
       "      <th>2</th>\n",
       "      <td>26.0</td>\n",
       "      <td>3</td>\n",
       "      <td>1</td>\n",
       "    </tr>\n",
       "    <tr>\n",
       "      <th>3</th>\n",
       "      <td>35.0</td>\n",
       "      <td>1</td>\n",
       "      <td>1</td>\n",
       "    </tr>\n",
       "    <tr>\n",
       "      <th>4</th>\n",
       "      <td>35.0</td>\n",
       "      <td>3</td>\n",
       "      <td>0</td>\n",
       "    </tr>\n",
       "    <tr>\n",
       "      <th>5</th>\n",
       "      <td>NaN</td>\n",
       "      <td>3</td>\n",
       "      <td>0</td>\n",
       "    </tr>\n",
       "  </tbody>\n",
       "</table>\n",
       "</div>"
      ],
      "text/plain": [
       "    Age  Pclass  Survived\n",
       "0  22.0       3         0\n",
       "1  38.0       1         1\n",
       "2  26.0       3         1\n",
       "3  35.0       1         1\n",
       "4  35.0       3         0\n",
       "5   NaN       3         0"
      ]
     },
     "execution_count": 132,
     "metadata": {},
     "output_type": "execute_result"
    }
   ],
   "source": [
    "df_train"
   ]
  },
  {
   "cell_type": "code",
   "execution_count": 133,
   "id": "5be841c4",
   "metadata": {
    "ExecuteTime": {
     "end_time": "2021-10-15T21:38:01.522952Z",
     "start_time": "2021-10-15T21:38:01.517992Z"
    }
   },
   "outputs": [],
   "source": [
    "X, y = df_train[[\"Age\", \"Pclass\"]], df_train[\"Survived\"]"
   ]
  },
  {
   "cell_type": "code",
   "execution_count": 134,
   "id": "d8fd191e",
   "metadata": {
    "ExecuteTime": {
     "end_time": "2021-10-15T21:38:01.533098Z",
     "start_time": "2021-10-15T21:38:01.524518Z"
    }
   },
   "outputs": [
    {
     "data": {
      "text/html": [
       "<div>\n",
       "<style scoped>\n",
       "    .dataframe tbody tr th:only-of-type {\n",
       "        vertical-align: middle;\n",
       "    }\n",
       "\n",
       "    .dataframe tbody tr th {\n",
       "        vertical-align: top;\n",
       "    }\n",
       "\n",
       "    .dataframe thead th {\n",
       "        text-align: right;\n",
       "    }\n",
       "</style>\n",
       "<table border=\"1\" class=\"dataframe\">\n",
       "  <thead>\n",
       "    <tr style=\"text-align: right;\">\n",
       "      <th></th>\n",
       "      <th>Age</th>\n",
       "      <th>Pclass</th>\n",
       "    </tr>\n",
       "  </thead>\n",
       "  <tbody>\n",
       "    <tr>\n",
       "      <th>0</th>\n",
       "      <td>22.0</td>\n",
       "      <td>3</td>\n",
       "    </tr>\n",
       "    <tr>\n",
       "      <th>1</th>\n",
       "      <td>38.0</td>\n",
       "      <td>1</td>\n",
       "    </tr>\n",
       "    <tr>\n",
       "      <th>2</th>\n",
       "      <td>26.0</td>\n",
       "      <td>3</td>\n",
       "    </tr>\n",
       "    <tr>\n",
       "      <th>3</th>\n",
       "      <td>35.0</td>\n",
       "      <td>1</td>\n",
       "    </tr>\n",
       "    <tr>\n",
       "      <th>4</th>\n",
       "      <td>35.0</td>\n",
       "      <td>3</td>\n",
       "    </tr>\n",
       "    <tr>\n",
       "      <th>5</th>\n",
       "      <td>NaN</td>\n",
       "      <td>3</td>\n",
       "    </tr>\n",
       "  </tbody>\n",
       "</table>\n",
       "</div>"
      ],
      "text/plain": [
       "    Age  Pclass\n",
       "0  22.0       3\n",
       "1  38.0       1\n",
       "2  26.0       3\n",
       "3  35.0       1\n",
       "4  35.0       3\n",
       "5   NaN       3"
      ]
     },
     "execution_count": 134,
     "metadata": {},
     "output_type": "execute_result"
    }
   ],
   "source": [
    "X"
   ]
  },
  {
   "cell_type": "code",
   "execution_count": 135,
   "id": "dfad02d2",
   "metadata": {
    "ExecuteTime": {
     "end_time": "2021-10-15T21:38:01.540825Z",
     "start_time": "2021-10-15T21:38:01.534830Z"
    }
   },
   "outputs": [
    {
     "data": {
      "text/plain": [
       "0    0\n",
       "1    1\n",
       "2    1\n",
       "3    1\n",
       "4    0\n",
       "5    0\n",
       "Name: Survived, dtype: int64"
      ]
     },
     "execution_count": 135,
     "metadata": {},
     "output_type": "execute_result"
    }
   ],
   "source": [
    "y\n",
    "# if y is a DataFrame, we will see the warning when fitting phase as follows\n",
    "# .../sklearn/utils/validation.py:985: DataConversionWarning: A column-vector y was passed when a 1d array was expected. Please change the shape of y to (n_samples, ), for example using ravel().\n",
    "# y = column_or_1d(y, warn=True)"
   ]
  },
  {
   "cell_type": "code",
   "execution_count": 136,
   "id": "ff02a17b",
   "metadata": {
    "ExecuteTime": {
     "end_time": "2021-10-15T21:38:01.546193Z",
     "start_time": "2021-10-15T21:38:01.542536Z"
    }
   },
   "outputs": [],
   "source": [
    "from sklearn.impute import SimpleImputer\n",
    "from sklearn.linear_model import LogisticRegression\n",
    "from sklearn.pipeline import make_pipeline"
   ]
  },
  {
   "cell_type": "code",
   "execution_count": 137,
   "id": "1b19af71",
   "metadata": {
    "ExecuteTime": {
     "end_time": "2021-10-15T21:38:01.551990Z",
     "start_time": "2021-10-15T21:38:01.547728Z"
    }
   },
   "outputs": [],
   "source": [
    "pipe = make_pipeline(\n",
    "    SimpleImputer(),\n",
    "    LogisticRegression()\n",
    ")"
   ]
  },
  {
   "cell_type": "code",
   "execution_count": 138,
   "id": "c859efba",
   "metadata": {
    "ExecuteTime": {
     "end_time": "2021-10-15T21:38:01.571746Z",
     "start_time": "2021-10-15T21:38:01.553686Z"
    }
   },
   "outputs": [
    {
     "data": {
      "text/plain": [
       "Pipeline(steps=[('simpleimputer', SimpleImputer()),\n",
       "                ('logisticregression', LogisticRegression())])"
      ]
     },
     "execution_count": 138,
     "metadata": {},
     "output_type": "execute_result"
    }
   ],
   "source": [
    "pipe.fit(X, y)"
   ]
  },
  {
   "cell_type": "markdown",
   "id": "60f55cce",
   "metadata": {},
   "source": [
    "### Step in pipeline"
   ]
  },
  {
   "cell_type": "code",
   "execution_count": 139,
   "id": "594061a0",
   "metadata": {
    "ExecuteTime": {
     "end_time": "2021-10-15T21:38:01.578499Z",
     "start_time": "2021-10-15T21:38:01.573349Z"
    }
   },
   "outputs": [
    {
     "data": {
      "text/plain": [
       "{'simpleimputer': SimpleImputer(), 'logisticregression': LogisticRegression()}"
      ]
     },
     "execution_count": 139,
     "metadata": {},
     "output_type": "execute_result"
    }
   ],
   "source": [
    "pipe.named_steps"
   ]
  },
  {
   "cell_type": "markdown",
   "id": "aa2f7d18",
   "metadata": {},
   "source": [
    "### Values of imputation and model coefficients"
   ]
  },
  {
   "cell_type": "code",
   "execution_count": 140,
   "id": "79af5161",
   "metadata": {
    "ExecuteTime": {
     "end_time": "2021-10-15T21:38:01.585908Z",
     "start_time": "2021-10-15T21:38:01.580405Z"
    }
   },
   "outputs": [
    {
     "data": {
      "text/plain": [
       "array([31.2       ,  2.33333333])"
      ]
     },
     "execution_count": 140,
     "metadata": {},
     "output_type": "execute_result"
    }
   ],
   "source": [
    "pipe.named_steps.simpleimputer.statistics_"
   ]
  },
  {
   "cell_type": "code",
   "execution_count": 141,
   "id": "c3c73e94",
   "metadata": {
    "ExecuteTime": {
     "end_time": "2021-10-15T21:38:01.592753Z",
     "start_time": "2021-10-15T21:38:01.587990Z"
    },
    "cell_style": "split"
   },
   "outputs": [
    {
     "data": {
      "text/plain": [
       "[('Age', 31.2), ('Pclass', 2.3333333333333335)]"
      ]
     },
     "execution_count": 141,
     "metadata": {},
     "output_type": "execute_result"
    }
   ],
   "source": [
    "list(zip(X.columns, pipe.named_steps.simpleimputer.statistics_.tolist()))"
   ]
  },
  {
   "cell_type": "code",
   "execution_count": 142,
   "id": "c1712649",
   "metadata": {
    "ExecuteTime": {
     "end_time": "2021-10-15T21:38:01.599373Z",
     "start_time": "2021-10-15T21:38:01.594665Z"
    }
   },
   "outputs": [
    {
     "data": {
      "text/plain": [
       "array([[ 0.03232238, -0.83741131]])"
      ]
     },
     "execution_count": 142,
     "metadata": {},
     "output_type": "execute_result"
    }
   ],
   "source": [
    "pipe.named_steps.logisticregression.coef_"
   ]
  },
  {
   "cell_type": "code",
   "execution_count": 143,
   "id": "dd3c7eeb",
   "metadata": {
    "ExecuteTime": {
     "end_time": "2021-10-15T21:38:01.605930Z",
     "start_time": "2021-10-15T21:38:01.600903Z"
    }
   },
   "outputs": [
    {
     "data": {
      "text/plain": [
       "[('Age', 0.032322376517027906), ('Pclass', -0.8374113057215837)]"
      ]
     },
     "execution_count": 143,
     "metadata": {},
     "output_type": "execute_result"
    }
   ],
   "source": [
    "list(zip(X.columns, pipe.named_steps.logisticregression.coef_[0].tolist()))"
   ]
  },
  {
   "cell_type": "markdown",
   "id": "2d54c4b9",
   "metadata": {},
   "source": [
    "## Use the correct methods for each type of Pipeline\n",
    "\n",
    "Did you know that there are two types of [Pipelines](https://scikit-learn.org/stable/modules/compose.html#pipeline-chaining-estimators)?\n",
    "\n",
    "The Pipeline type determines which methods you can use with it, and what those methods actually do.\n",
    "\n",
    "Additional links: [fit_transform](https://scikit-learn.org/stable/glossary.html#term-fit_transform), [transform](https://scikit-learn.org/stable/glossary.html#term-transform)\n",
    "\n",
    "### Last step of Pipeline is classifier / regressor --> fit & predict\n",
    "+ **pipe.fit()** : All steps before the final one run **fit_transform()**, and then trains based on **fit()**\n",
    "+ **pipe.predict()** : All steps before the final one run **transform()**, and then runs **predict()**\n",
    "\n",
    "### Last step of Pipeline is a transformer --> fit_transform & transform\n",
    "+ **pipe.fit_transform()** : All steps run **fit_transorform()**\n",
    "+ **pipe.transform()** : All steps run **transform()**"
   ]
  },
  {
   "cell_type": "markdown",
   "id": "4c6b9cf4",
   "metadata": {},
   "source": [
    "## Save a model of Pipeline using joblib\n",
    "\n",
    "Want to [save a model](https://scikit-learn.org/stable/modules/model_persistence.html) (or pipeline) for later use? Use joblib!\n",
    "\n",
    "Warning: You must load it into an identical environment, and only load objects you trust 😇\n",
    "\n",
    "Additional links: [pickle](https://docs.python.org/3/library/pickle.html)"
   ]
  },
  {
   "cell_type": "code",
   "execution_count": 144,
   "id": "046791de",
   "metadata": {
    "ExecuteTime": {
     "end_time": "2021-10-15T21:38:01.616039Z",
     "start_time": "2021-10-15T21:38:01.607511Z"
    }
   },
   "outputs": [],
   "source": [
    "import os \n",
    "\n",
    "file_input_path = \"titanic_train.csv\"\n",
    "if not os.path.exists(file_input_path):\n",
    "    df_train = pd.read_csv(\"http://bit.ly/kaggletrain\")\n",
    "    df_train.to_csv(file_input_path, header=True, index=False, sep=\"\\t\")\n",
    "else:\n",
    "    df_train = pd.read_csv(file_input_path, header=0, sep=\"\\t\")"
   ]
  },
  {
   "cell_type": "code",
   "execution_count": 145,
   "id": "2d137918",
   "metadata": {
    "ExecuteTime": {
     "end_time": "2021-10-15T21:38:01.624993Z",
     "start_time": "2021-10-15T21:38:01.617683Z"
    }
   },
   "outputs": [],
   "source": [
    "file_input_path = \"titanic_test.csv\"\n",
    "if not os.path.exists(file_input_path):\n",
    "    df_test = pd.read_csv(\"http://bit.ly/kaggletest\")\n",
    "    df_test.to_csv(file_input_path, header=True, index=False, sep=\"\\t\")\n",
    "else:\n",
    "    df_test = pd.read_csv(file_input_path, header=0, sep=\"\\t\")"
   ]
  },
  {
   "cell_type": "code",
   "execution_count": 146,
   "id": "3e5846e4",
   "metadata": {
    "ExecuteTime": {
     "end_time": "2021-10-15T21:38:01.629204Z",
     "start_time": "2021-10-15T21:38:01.626662Z"
    }
   },
   "outputs": [],
   "source": [
    "cols = ['Embarked', 'Sex']"
   ]
  },
  {
   "cell_type": "code",
   "execution_count": 147,
   "id": "7f285496",
   "metadata": {
    "ExecuteTime": {
     "end_time": "2021-10-15T21:38:01.636070Z",
     "start_time": "2021-10-15T21:38:01.630904Z"
    }
   },
   "outputs": [],
   "source": [
    "X, y = df_train[cols], df_train[\"Survived\"]"
   ]
  },
  {
   "cell_type": "code",
   "execution_count": 148,
   "id": "b6f60fbe",
   "metadata": {
    "ExecuteTime": {
     "end_time": "2021-10-15T21:38:01.641976Z",
     "start_time": "2021-10-15T21:38:01.637483Z"
    }
   },
   "outputs": [],
   "source": [
    "from sklearn.preprocessing import OneHotEncoder\n",
    "from sklearn.linear_model import LogisticRegression\n",
    "from sklearn.pipeline import make_pipeline"
   ]
  },
  {
   "cell_type": "code",
   "execution_count": 149,
   "id": "09fd7f12",
   "metadata": {
    "ExecuteTime": {
     "end_time": "2021-10-15T21:38:01.649738Z",
     "start_time": "2021-10-15T21:38:01.643600Z"
    }
   },
   "outputs": [],
   "source": [
    "pipe = make_pipeline(\n",
    "    OneHotEncoder(),\n",
    "    LogisticRegression(solver=\"liblinear\", random_state=1)\n",
    ")"
   ]
  },
  {
   "cell_type": "code",
   "execution_count": 150,
   "id": "8de52c6f",
   "metadata": {
    "ExecuteTime": {
     "end_time": "2021-10-15T21:38:01.662286Z",
     "start_time": "2021-10-15T21:38:01.651182Z"
    }
   },
   "outputs": [
    {
     "data": {
      "text/plain": [
       "Pipeline(steps=[('onehotencoder', OneHotEncoder()),\n",
       "                ('logisticregression',\n",
       "                 LogisticRegression(random_state=1, solver='liblinear'))])"
      ]
     },
     "execution_count": 150,
     "metadata": {},
     "output_type": "execute_result"
    }
   ],
   "source": [
    "pipe.fit(X, y)"
   ]
  },
  {
   "cell_type": "code",
   "execution_count": 151,
   "id": "87dc3c04",
   "metadata": {
    "ExecuteTime": {
     "end_time": "2021-10-15T21:38:01.670897Z",
     "start_time": "2021-10-15T21:38:01.664051Z"
    }
   },
   "outputs": [
    {
     "data": {
      "text/plain": [
       "array([0, 1, 0, 0, 1, 0, 1, 0, 1, 0])"
      ]
     },
     "execution_count": 151,
     "metadata": {},
     "output_type": "execute_result"
    }
   ],
   "source": [
    "pipe.predict(df_test[cols][:10])"
   ]
  },
  {
   "cell_type": "markdown",
   "id": "6b011985",
   "metadata": {},
   "source": [
    "### Save a model pipeline"
   ]
  },
  {
   "cell_type": "code",
   "execution_count": 152,
   "id": "8ee12e3f",
   "metadata": {
    "ExecuteTime": {
     "end_time": "2021-10-15T21:38:01.679179Z",
     "start_time": "2021-10-15T21:38:01.672618Z"
    }
   },
   "outputs": [
    {
     "data": {
      "text/plain": [
       "['pipe4-5.joblib']"
      ]
     },
     "execution_count": 152,
     "metadata": {},
     "output_type": "execute_result"
    }
   ],
   "source": [
    "import joblib\n",
    "model_path = \"pipe4-5.joblib\"\n",
    "joblib.dump(pipe, model_path)"
   ]
  },
  {
   "cell_type": "markdown",
   "id": "d18091af",
   "metadata": {},
   "source": [
    "### Load model pipeline"
   ]
  },
  {
   "cell_type": "code",
   "execution_count": 153,
   "id": "a66c57c8",
   "metadata": {
    "ExecuteTime": {
     "end_time": "2021-10-15T21:38:01.685590Z",
     "start_time": "2021-10-15T21:38:01.680797Z"
    }
   },
   "outputs": [],
   "source": [
    "loaded_pipe = joblib.load(model_path)"
   ]
  },
  {
   "cell_type": "code",
   "execution_count": 154,
   "id": "3bdf12a1",
   "metadata": {
    "ExecuteTime": {
     "end_time": "2021-10-15T21:38:01.694271Z",
     "start_time": "2021-10-15T21:38:01.686884Z"
    }
   },
   "outputs": [
    {
     "data": {
      "text/plain": [
       "array([0, 1, 0, 0, 1, 0, 1, 0, 1, 0])"
      ]
     },
     "execution_count": 154,
     "metadata": {},
     "output_type": "execute_result"
    }
   ],
   "source": [
    "loaded_pipe.predict(df_test[cols][:10])"
   ]
  },
  {
   "cell_type": "markdown",
   "id": "c1bcef1b",
   "metadata": {},
   "source": [
    "### Save and load based on pickle\n"
   ]
  },
  {
   "cell_type": "code",
   "execution_count": 155,
   "id": "2bfe3864",
   "metadata": {
    "ExecuteTime": {
     "end_time": "2021-10-15T21:38:01.700417Z",
     "start_time": "2021-10-15T21:38:01.695809Z"
    }
   },
   "outputs": [],
   "source": [
    "model_pkl_path = \"pipe4-5.pkl\"\n",
    "\n",
    "import pickle\n",
    "with open(model_pkl_path, \"wb\") as f:\n",
    "    pickle.dump(pipe, f)\n",
    "\n",
    "# Load model\n",
    "with open(model_pkl_path, \"rb\") as f:\n",
    "    loaded_pipe_pkl = pickle.load(f)"
   ]
  },
  {
   "cell_type": "code",
   "execution_count": 156,
   "id": "87b9a04d",
   "metadata": {
    "ExecuteTime": {
     "end_time": "2021-10-15T21:38:01.709093Z",
     "start_time": "2021-10-15T21:38:01.701862Z"
    }
   },
   "outputs": [
    {
     "data": {
      "text/plain": [
       "array([0, 1, 0, 0, 1, 0, 1, 0, 1, 0])"
      ]
     },
     "execution_count": 156,
     "metadata": {},
     "output_type": "execute_result"
    }
   ],
   "source": [
    "loaded_pipe_pkl.predict(df_test[cols][:10])"
   ]
  },
  {
   "cell_type": "markdown",
   "id": "ea2c9a26",
   "metadata": {},
   "source": [
    "## Four ways to examine the steps of a Pipeline\n",
    "\n",
    "There are FOUR ways to examine the steps of a [Pipeline](https://scikit-learn.org/stable/modules/compose.html#pipeline-chaining-estimators)!\n",
    "\n",
    "(I prefer method 1 since you can autocomplete the step & parameter names... but method 4 is SO short!)"
   ]
  },
  {
   "cell_type": "code",
   "execution_count": 157,
   "id": "5bf06526",
   "metadata": {
    "ExecuteTime": {
     "end_time": "2021-10-15T21:38:01.714157Z",
     "start_time": "2021-10-15T21:38:01.710756Z"
    }
   },
   "outputs": [],
   "source": [
    "from sklearn.preprocessing import OneHotEncoder\n",
    "from sklearn.linear_model import LogisticRegression\n",
    "from sklearn.pipeline import Pipeline"
   ]
  },
  {
   "cell_type": "code",
   "execution_count": 158,
   "id": "f88793a8",
   "metadata": {
    "ExecuteTime": {
     "end_time": "2021-10-15T21:38:01.720025Z",
     "start_time": "2021-10-15T21:38:01.715780Z"
    }
   },
   "outputs": [],
   "source": [
    "pipe = Pipeline(\n",
    "    steps=[\n",
    "        (\"ohe\", OneHotEncoder()),\n",
    "        (\"clf\", LogisticRegression())\n",
    "    ]\n",
    ")"
   ]
  },
  {
   "cell_type": "code",
   "execution_count": 159,
   "id": "5c518e3a",
   "metadata": {
    "ExecuteTime": {
     "end_time": "2021-10-15T21:38:01.739666Z",
     "start_time": "2021-10-15T21:38:01.721551Z"
    }
   },
   "outputs": [
    {
     "data": {
      "text/plain": [
       "Pipeline(steps=[('ohe', OneHotEncoder()), ('clf', LogisticRegression())])"
      ]
     },
     "execution_count": 159,
     "metadata": {},
     "output_type": "execute_result"
    }
   ],
   "source": [
    "pipe.fit(X, y)"
   ]
  },
  {
   "cell_type": "markdown",
   "id": "6111a2f1",
   "metadata": {},
   "source": [
    "### Four ways to illustrate the coefficients"
   ]
  },
  {
   "cell_type": "code",
   "execution_count": 160,
   "id": "e03eaa0d",
   "metadata": {
    "ExecuteTime": {
     "end_time": "2021-10-15T21:38:01.745792Z",
     "start_time": "2021-10-15T21:38:01.741361Z"
    }
   },
   "outputs": [
    {
     "data": {
      "text/plain": [
       "array([[ 0.50148245, -0.49193018, -0.35190112,  0.3419172 ,  1.24440439,\n",
       "        -1.24483605]])"
      ]
     },
     "execution_count": 160,
     "metadata": {},
     "output_type": "execute_result"
    }
   ],
   "source": [
    "pipe.named_steps.clf.coef_"
   ]
  },
  {
   "cell_type": "code",
   "execution_count": 161,
   "id": "02a1e06a",
   "metadata": {
    "ExecuteTime": {
     "end_time": "2021-10-15T21:38:01.752539Z",
     "start_time": "2021-10-15T21:38:01.747661Z"
    }
   },
   "outputs": [
    {
     "data": {
      "text/plain": [
       "array([[ 0.50148245, -0.49193018, -0.35190112,  0.3419172 ,  1.24440439,\n",
       "        -1.24483605]])"
      ]
     },
     "execution_count": 161,
     "metadata": {},
     "output_type": "execute_result"
    }
   ],
   "source": [
    "pipe.named_steps[\"clf\"].coef_"
   ]
  },
  {
   "cell_type": "code",
   "execution_count": 162,
   "id": "7cb6a5b3",
   "metadata": {
    "ExecuteTime": {
     "end_time": "2021-10-15T21:38:01.759070Z",
     "start_time": "2021-10-15T21:38:01.754205Z"
    }
   },
   "outputs": [
    {
     "data": {
      "text/plain": [
       "array([[ 0.50148245, -0.49193018, -0.35190112,  0.3419172 ,  1.24440439,\n",
       "        -1.24483605]])"
      ]
     },
     "execution_count": 162,
     "metadata": {},
     "output_type": "execute_result"
    }
   ],
   "source": [
    "pipe[\"clf\"].coef_"
   ]
  },
  {
   "cell_type": "code",
   "execution_count": 163,
   "id": "829f8440",
   "metadata": {
    "ExecuteTime": {
     "end_time": "2021-10-15T21:38:01.770472Z",
     "start_time": "2021-10-15T21:38:01.766676Z"
    }
   },
   "outputs": [
    {
     "data": {
      "text/plain": [
       "array([[ 0.50148245, -0.49193018, -0.35190112,  0.3419172 ,  1.24440439,\n",
       "        -1.24483605]])"
      ]
     },
     "execution_count": 163,
     "metadata": {},
     "output_type": "execute_result"
    }
   ],
   "source": [
    "pipe[1].coef_"
   ]
  },
  {
   "cell_type": "markdown",
   "id": "79df9b31",
   "metadata": {},
   "source": [
    "### Name of steps"
   ]
  },
  {
   "cell_type": "code",
   "execution_count": 164,
   "id": "bb843f81",
   "metadata": {
    "ExecuteTime": {
     "end_time": "2021-10-15T21:38:01.776384Z",
     "start_time": "2021-10-15T21:38:01.772126Z"
    }
   },
   "outputs": [
    {
     "data": {
      "text/plain": [
       "sklearn.utils.Bunch"
      ]
     },
     "execution_count": 164,
     "metadata": {},
     "output_type": "execute_result"
    }
   ],
   "source": [
    "type(pipe.named_steps)"
   ]
  },
  {
   "cell_type": "code",
   "execution_count": 165,
   "id": "29257a41",
   "metadata": {
    "ExecuteTime": {
     "end_time": "2021-10-15T21:38:01.782826Z",
     "start_time": "2021-10-15T21:38:01.778030Z"
    }
   },
   "outputs": [
    {
     "data": {
      "text/plain": [
       "['ohe', 'clf']"
      ]
     },
     "execution_count": 165,
     "metadata": {},
     "output_type": "execute_result"
    }
   ],
   "source": [
    "list(pipe.named_steps.keys())"
   ]
  },
  {
   "cell_type": "markdown",
   "id": "1f1054ef",
   "metadata": {},
   "source": [
    "## Add feature selection to Pipeline\n",
    "\n",
    "It's simple to add [feature selection](https://scikit-learn.org/stable/modules/feature_selection.html) to a Pipeline:\n",
    "+ Use [SelectPercentile](https://scikit-learn.org/stable/modules/generated/sklearn.feature_selection.SelectPercentile.html) to keep the highest scoring features\n",
    "+ Add feature selection after preprocessing but before model building\n",
    "\n",
    "P.S. Make sure to tune the percentile value!\n",
    "\n",
    "Additional links: [chi2](https://scikit-learn.org/stable/modules/generated/sklearn.feature_selection.chi2.html)"
   ]
  },
  {
   "cell_type": "code",
   "execution_count": 166,
   "id": "0ec71391",
   "metadata": {
    "ExecuteTime": {
     "end_time": "2021-10-15T21:38:01.793192Z",
     "start_time": "2021-10-15T21:38:01.784553Z"
    }
   },
   "outputs": [],
   "source": [
    "import os \n",
    "\n",
    "file_input_path = \"titanic_train.csv\"\n",
    "if not os.path.exists(file_input_path):\n",
    "    df_train = pd.read_csv(\"http://bit.ly/kaggletrain\")\n",
    "    df_train.to_csv(file_input_path, header=True, index=False, sep=\"\\t\")\n",
    "else:\n",
    "    df_train = pd.read_csv(file_input_path, header=0, sep=\"\\t\")"
   ]
  },
  {
   "cell_type": "code",
   "execution_count": 167,
   "id": "a41def95",
   "metadata": {
    "ExecuteTime": {
     "end_time": "2021-10-15T21:38:01.797656Z",
     "start_time": "2021-10-15T21:38:01.794742Z"
    }
   },
   "outputs": [],
   "source": [
    "X = df['Name']\n",
    "y = df['Survived']"
   ]
  },
  {
   "cell_type": "code",
   "execution_count": 168,
   "id": "73c38a50",
   "metadata": {
    "ExecuteTime": {
     "end_time": "2021-10-15T21:38:01.803434Z",
     "start_time": "2021-10-15T21:38:01.799283Z"
    }
   },
   "outputs": [],
   "source": [
    "from sklearn.pipeline import make_pipeline\n",
    "from sklearn.feature_extraction.text import CountVectorizer\n",
    "from sklearn.linear_model import LogisticRegression\n",
    "from sklearn.model_selection import cross_val_score"
   ]
  },
  {
   "cell_type": "markdown",
   "id": "c0a51071",
   "metadata": {},
   "source": [
    "### Not using Feature Selection"
   ]
  },
  {
   "cell_type": "code",
   "execution_count": 169,
   "id": "6e99c011",
   "metadata": {
    "ExecuteTime": {
     "end_time": "2021-10-15T21:38:01.809182Z",
     "start_time": "2021-10-15T21:38:01.805097Z"
    }
   },
   "outputs": [],
   "source": [
    "pipe = make_pipeline(\n",
    "    CountVectorizer(),\n",
    "    LogisticRegression()\n",
    ")"
   ]
  },
  {
   "cell_type": "code",
   "execution_count": 170,
   "id": "d4cb71e2",
   "metadata": {
    "ExecuteTime": {
     "end_time": "2021-10-15T21:38:01.972548Z",
     "start_time": "2021-10-15T21:38:01.810774Z"
    }
   },
   "outputs": [
    {
     "data": {
      "text/plain": [
       "0.7957190383528967"
      ]
     },
     "execution_count": 170,
     "metadata": {},
     "output_type": "execute_result"
    }
   ],
   "source": [
    "cross_val_score(pipe, X, y, scoring='accuracy').mean()"
   ]
  },
  {
   "cell_type": "markdown",
   "id": "81ee4ce0",
   "metadata": {},
   "source": [
    "### Using Feature Selection"
   ]
  },
  {
   "cell_type": "code",
   "execution_count": 171,
   "id": "38448c35",
   "metadata": {
    "ExecuteTime": {
     "end_time": "2021-10-15T21:38:01.980738Z",
     "start_time": "2021-10-15T21:38:01.974235Z"
    }
   },
   "outputs": [],
   "source": [
    "from sklearn.feature_selection import chi2, SelectPercentile"
   ]
  },
  {
   "cell_type": "code",
   "execution_count": 172,
   "id": "a0eba873",
   "metadata": {
    "ExecuteTime": {
     "end_time": "2021-10-15T21:38:01.986241Z",
     "start_time": "2021-10-15T21:38:01.982487Z"
    }
   },
   "outputs": [],
   "source": [
    "pipe = make_pipeline(\n",
    "    CountVectorizer(),\n",
    "    SelectPercentile(score_func=chi2, percentile=50),\n",
    "    LogisticRegression()\n",
    ")"
   ]
  },
  {
   "cell_type": "code",
   "execution_count": 173,
   "id": "ae6dc334",
   "metadata": {
    "ExecuteTime": {
     "end_time": "2021-10-15T21:38:02.175278Z",
     "start_time": "2021-10-15T21:38:01.987605Z"
    }
   },
   "outputs": [
    {
     "data": {
      "text/plain": [
       "0.8147824995292197"
      ]
     },
     "execution_count": 173,
     "metadata": {},
     "output_type": "execute_result"
    }
   ],
   "source": [
    "cross_val_score(pipe, X, y, scoring=\"accuracy\").mean()"
   ]
  },
  {
   "cell_type": "markdown",
   "id": "65e0d93a",
   "metadata": {},
   "source": [
    "## Create an interactive diagram of Pipeline\n",
    "\n",
    "New in version 0.23: Create [interactive diagrams](https://scikit-learn.org/stable/auto_examples/release_highlights/plot_release_highlights_0_23_0.html#rich-visual-representation-of-estimators) of Pipelines (and other estimators) in Jupyter!\n",
    "\n",
    "Click on any element to see more details. You can even export the diagram to an HTML file!\n",
    "\n",
    "Additional links: [set_config](https://scikit-learn.org/stable/modules/generated/sklearn.set_config.html)"
   ]
  },
  {
   "cell_type": "markdown",
   "id": "ae8b3492",
   "metadata": {},
   "source": [
    "### Sample Codes 1"
   ]
  },
  {
   "cell_type": "code",
   "execution_count": 174,
   "id": "62b4b2df",
   "metadata": {
    "ExecuteTime": {
     "end_time": "2021-10-15T21:38:02.179830Z",
     "start_time": "2021-10-15T21:38:02.177098Z"
    }
   },
   "outputs": [],
   "source": [
    "from sklearn import set_config\n",
    "set_config(display='diagram')"
   ]
  },
  {
   "cell_type": "code",
   "execution_count": 175,
   "id": "39681425",
   "metadata": {
    "ExecuteTime": {
     "end_time": "2021-10-15T21:38:02.188264Z",
     "start_time": "2021-10-15T21:38:02.181557Z"
    }
   },
   "outputs": [],
   "source": [
    "from sklearn.pipeline import make_pipeline\n",
    "from sklearn.preprocessing import OneHotEncoder, StandardScaler\n",
    "from sklearn.impute import SimpleImputer\n",
    "from sklearn.compose import make_column_transformer\n",
    "from sklearn.linear_model import LogisticRegression"
   ]
  },
  {
   "cell_type": "code",
   "execution_count": 176,
   "id": "d7c01be7",
   "metadata": {
    "ExecuteTime": {
     "end_time": "2021-10-15T21:38:02.258412Z",
     "start_time": "2021-10-15T21:38:02.189716Z"
    }
   },
   "outputs": [
    {
     "data": {
      "text/html": [
       "<style>#sk-49839377-7690-4751-b99f-1ba8f804436c {color: black;background-color: white;}#sk-49839377-7690-4751-b99f-1ba8f804436c pre{padding: 0;}#sk-49839377-7690-4751-b99f-1ba8f804436c div.sk-toggleable {background-color: white;}#sk-49839377-7690-4751-b99f-1ba8f804436c label.sk-toggleable__label {cursor: pointer;display: block;width: 100%;margin-bottom: 0;padding: 0.3em;box-sizing: border-box;text-align: center;}#sk-49839377-7690-4751-b99f-1ba8f804436c div.sk-toggleable__content {max-height: 0;max-width: 0;overflow: hidden;text-align: left;background-color: #f0f8ff;}#sk-49839377-7690-4751-b99f-1ba8f804436c div.sk-toggleable__content pre {margin: 0.2em;color: black;border-radius: 0.25em;background-color: #f0f8ff;}#sk-49839377-7690-4751-b99f-1ba8f804436c input.sk-toggleable__control:checked~div.sk-toggleable__content {max-height: 200px;max-width: 100%;overflow: auto;}#sk-49839377-7690-4751-b99f-1ba8f804436c div.sk-estimator input.sk-toggleable__control:checked~label.sk-toggleable__label {background-color: #d4ebff;}#sk-49839377-7690-4751-b99f-1ba8f804436c div.sk-label input.sk-toggleable__control:checked~label.sk-toggleable__label {background-color: #d4ebff;}#sk-49839377-7690-4751-b99f-1ba8f804436c input.sk-hidden--visually {border: 0;clip: rect(1px 1px 1px 1px);clip: rect(1px, 1px, 1px, 1px);height: 1px;margin: -1px;overflow: hidden;padding: 0;position: absolute;width: 1px;}#sk-49839377-7690-4751-b99f-1ba8f804436c div.sk-estimator {font-family: monospace;background-color: #f0f8ff;border: 1px dotted black;border-radius: 0.25em;box-sizing: border-box;margin-bottom: 0.5em;}#sk-49839377-7690-4751-b99f-1ba8f804436c div.sk-estimator:hover {background-color: #d4ebff;}#sk-49839377-7690-4751-b99f-1ba8f804436c div.sk-parallel-item::after {content: \"\";width: 100%;border-bottom: 1px solid gray;flex-grow: 1;}#sk-49839377-7690-4751-b99f-1ba8f804436c div.sk-label:hover label.sk-toggleable__label {background-color: #d4ebff;}#sk-49839377-7690-4751-b99f-1ba8f804436c div.sk-serial::before {content: \"\";position: absolute;border-left: 1px solid gray;box-sizing: border-box;top: 2em;bottom: 0;left: 50%;}#sk-49839377-7690-4751-b99f-1ba8f804436c div.sk-serial {display: flex;flex-direction: column;align-items: center;background-color: white;padding-right: 0.2em;padding-left: 0.2em;}#sk-49839377-7690-4751-b99f-1ba8f804436c div.sk-item {z-index: 1;}#sk-49839377-7690-4751-b99f-1ba8f804436c div.sk-parallel {display: flex;align-items: stretch;justify-content: center;background-color: white;}#sk-49839377-7690-4751-b99f-1ba8f804436c div.sk-parallel::before {content: \"\";position: absolute;border-left: 1px solid gray;box-sizing: border-box;top: 2em;bottom: 0;left: 50%;}#sk-49839377-7690-4751-b99f-1ba8f804436c div.sk-parallel-item {display: flex;flex-direction: column;position: relative;background-color: white;}#sk-49839377-7690-4751-b99f-1ba8f804436c div.sk-parallel-item:first-child::after {align-self: flex-end;width: 50%;}#sk-49839377-7690-4751-b99f-1ba8f804436c div.sk-parallel-item:last-child::after {align-self: flex-start;width: 50%;}#sk-49839377-7690-4751-b99f-1ba8f804436c div.sk-parallel-item:only-child::after {width: 0;}#sk-49839377-7690-4751-b99f-1ba8f804436c div.sk-dashed-wrapped {border: 1px dashed gray;margin: 0 0.4em 0.5em 0.4em;box-sizing: border-box;padding-bottom: 0.4em;background-color: white;position: relative;}#sk-49839377-7690-4751-b99f-1ba8f804436c div.sk-label label {font-family: monospace;font-weight: bold;background-color: white;display: inline-block;line-height: 1.2em;}#sk-49839377-7690-4751-b99f-1ba8f804436c div.sk-label-container {position: relative;z-index: 2;text-align: center;}#sk-49839377-7690-4751-b99f-1ba8f804436c div.sk-container {display: inline-block;position: relative;}</style><div id=\"sk-49839377-7690-4751-b99f-1ba8f804436c\" class\"sk-top-container\"><div class=\"sk-container\"><div class=\"sk-item sk-dashed-wrapped\"><div class=\"sk-label-container\"><div class=\"sk-label sk-toggleable\"><input class=\"sk-toggleable__control sk-hidden--visually\" id=\"a7d339b9-6555-4f9f-a833-b8f8a3c391c0\" type=\"checkbox\" ><label class=\"sk-toggleable__label\" for=\"a7d339b9-6555-4f9f-a833-b8f8a3c391c0\">Pipeline</label><div class=\"sk-toggleable__content\"><pre>Pipeline(steps=[('columntransformer',\n",
       "                 ColumnTransformer(transformers=[('pipeline-1',\n",
       "                                                  Pipeline(steps=[('simpleimputer',\n",
       "                                                                   SimpleImputer(strategy='median')),\n",
       "                                                                  ('standardscaler',\n",
       "                                                                   StandardScaler())]),\n",
       "                                                  ('feat1', 'feat3')),\n",
       "                                                 ('pipeline-2',\n",
       "                                                  Pipeline(steps=[('simpleimputer',\n",
       "                                                                   SimpleImputer(fill_value='missing',\n",
       "                                                                                 strategy='constant')),\n",
       "                                                                  ('onehotencoder',\n",
       "                                                                   OneHotEncoder(handle_unknown='ignore'))]),\n",
       "                                                  ('feat0', 'feat2'))])),\n",
       "                ('logisticregression', LogisticRegression())])</pre></div></div></div><div class=\"sk-serial\"><div class=\"sk-item sk-dashed-wrapped\"><div class=\"sk-label-container\"><div class=\"sk-label sk-toggleable\"><input class=\"sk-toggleable__control sk-hidden--visually\" id=\"7d84c6f9-90c9-4e3d-baf7-aa9864c2f06f\" type=\"checkbox\" ><label class=\"sk-toggleable__label\" for=\"7d84c6f9-90c9-4e3d-baf7-aa9864c2f06f\">columntransformer: ColumnTransformer</label><div class=\"sk-toggleable__content\"><pre>ColumnTransformer(transformers=[('pipeline-1',\n",
       "                                 Pipeline(steps=[('simpleimputer',\n",
       "                                                  SimpleImputer(strategy='median')),\n",
       "                                                 ('standardscaler',\n",
       "                                                  StandardScaler())]),\n",
       "                                 ('feat1', 'feat3')),\n",
       "                                ('pipeline-2',\n",
       "                                 Pipeline(steps=[('simpleimputer',\n",
       "                                                  SimpleImputer(fill_value='missing',\n",
       "                                                                strategy='constant')),\n",
       "                                                 ('onehotencoder',\n",
       "                                                  OneHotEncoder(handle_unknown='ignore'))]),\n",
       "                                 ('feat0', 'feat2'))])</pre></div></div></div><div class=\"sk-parallel\"><div class=\"sk-parallel-item\"><div class=\"sk-item\"><div class=\"sk-label-container\"><div class=\"sk-label sk-toggleable\"><input class=\"sk-toggleable__control sk-hidden--visually\" id=\"16bceb9a-cd2b-4a13-99c1-2a4475684be8\" type=\"checkbox\" ><label class=\"sk-toggleable__label\" for=\"16bceb9a-cd2b-4a13-99c1-2a4475684be8\">pipeline-1</label><div class=\"sk-toggleable__content\"><pre>('feat1', 'feat3')</pre></div></div></div><div class=\"sk-serial\"><div class=\"sk-item\"><div class=\"sk-serial\"><div class=\"sk-item\"><div class=\"sk-estimator sk-toggleable\"><input class=\"sk-toggleable__control sk-hidden--visually\" id=\"c357f87b-be22-459e-838c-61145fbda3ed\" type=\"checkbox\" ><label class=\"sk-toggleable__label\" for=\"c357f87b-be22-459e-838c-61145fbda3ed\">SimpleImputer</label><div class=\"sk-toggleable__content\"><pre>SimpleImputer(strategy='median')</pre></div></div></div><div class=\"sk-item\"><div class=\"sk-estimator sk-toggleable\"><input class=\"sk-toggleable__control sk-hidden--visually\" id=\"c2d345b4-b6f2-400b-8da6-7fc9ccf8555f\" type=\"checkbox\" ><label class=\"sk-toggleable__label\" for=\"c2d345b4-b6f2-400b-8da6-7fc9ccf8555f\">StandardScaler</label><div class=\"sk-toggleable__content\"><pre>StandardScaler()</pre></div></div></div></div></div></div></div></div><div class=\"sk-parallel-item\"><div class=\"sk-item\"><div class=\"sk-label-container\"><div class=\"sk-label sk-toggleable\"><input class=\"sk-toggleable__control sk-hidden--visually\" id=\"f199f3a0-7d7d-4917-a193-5a9bf17be3cb\" type=\"checkbox\" ><label class=\"sk-toggleable__label\" for=\"f199f3a0-7d7d-4917-a193-5a9bf17be3cb\">pipeline-2</label><div class=\"sk-toggleable__content\"><pre>('feat0', 'feat2')</pre></div></div></div><div class=\"sk-serial\"><div class=\"sk-item\"><div class=\"sk-serial\"><div class=\"sk-item\"><div class=\"sk-estimator sk-toggleable\"><input class=\"sk-toggleable__control sk-hidden--visually\" id=\"2f8cf7cf-b075-410e-8886-4e556526a244\" type=\"checkbox\" ><label class=\"sk-toggleable__label\" for=\"2f8cf7cf-b075-410e-8886-4e556526a244\">SimpleImputer</label><div class=\"sk-toggleable__content\"><pre>SimpleImputer(fill_value='missing', strategy='constant')</pre></div></div></div><div class=\"sk-item\"><div class=\"sk-estimator sk-toggleable\"><input class=\"sk-toggleable__control sk-hidden--visually\" id=\"0d3c6f14-d35b-48fe-8c4c-0885f3dcf452\" type=\"checkbox\" ><label class=\"sk-toggleable__label\" for=\"0d3c6f14-d35b-48fe-8c4c-0885f3dcf452\">OneHotEncoder</label><div class=\"sk-toggleable__content\"><pre>OneHotEncoder(handle_unknown='ignore')</pre></div></div></div></div></div></div></div></div></div></div><div class=\"sk-item\"><div class=\"sk-estimator sk-toggleable\"><input class=\"sk-toggleable__control sk-hidden--visually\" id=\"9b59d3d6-80b6-4bbf-bb6c-0a08349ea2ce\" type=\"checkbox\" ><label class=\"sk-toggleable__label\" for=\"9b59d3d6-80b6-4bbf-bb6c-0a08349ea2ce\">LogisticRegression</label><div class=\"sk-toggleable__content\"><pre>LogisticRegression()</pre></div></div></div></div></div></div></div>"
      ],
      "text/plain": [
       "Pipeline(steps=[('columntransformer',\n",
       "                 ColumnTransformer(transformers=[('pipeline-1',\n",
       "                                                  Pipeline(steps=[('simpleimputer',\n",
       "                                                                   SimpleImputer(strategy='median')),\n",
       "                                                                  ('standardscaler',\n",
       "                                                                   StandardScaler())]),\n",
       "                                                  ('feat1', 'feat3')),\n",
       "                                                 ('pipeline-2',\n",
       "                                                  Pipeline(steps=[('simpleimputer',\n",
       "                                                                   SimpleImputer(fill_value='missing',\n",
       "                                                                                 strategy='constant')),\n",
       "                                                                  ('onehotencoder',\n",
       "                                                                   OneHotEncoder(handle_unknown='ignore'))]),\n",
       "                                                  ('feat0', 'feat2'))])),\n",
       "                ('logisticregression', LogisticRegression())])"
      ]
     },
     "execution_count": 176,
     "metadata": {},
     "output_type": "execute_result"
    }
   ],
   "source": [
    "num_proc = make_pipeline(SimpleImputer(strategy='median'), StandardScaler())\n",
    "\n",
    "cat_proc = make_pipeline(\n",
    "    SimpleImputer(strategy='constant', fill_value='missing'),\n",
    "    OneHotEncoder(handle_unknown='ignore'))\n",
    "\n",
    "preprocessor = make_column_transformer((num_proc, ('feat1', 'feat3')),\n",
    "                                       (cat_proc, ('feat0', 'feat2')))\n",
    "\n",
    "clf = make_pipeline(preprocessor, LogisticRegression())\n",
    "clf"
   ]
  },
  {
   "cell_type": "markdown",
   "id": "173c5fac",
   "metadata": {},
   "source": [
    "### Sample Codes 2"
   ]
  },
  {
   "cell_type": "code",
   "execution_count": 177,
   "id": "c78d3b90",
   "metadata": {
    "ExecuteTime": {
     "end_time": "2021-10-15T21:38:02.264363Z",
     "start_time": "2021-10-15T21:38:02.260152Z"
    }
   },
   "outputs": [],
   "source": [
    "from sklearn.impute import SimpleImputer\n",
    "from sklearn.preprocessing import OneHotEncoder\n",
    "from sklearn.feature_extraction.text import CountVectorizer\n",
    "from sklearn.feature_selection import SelectPercentile, chi2\n",
    "from sklearn.linear_model import LogisticRegression\n",
    "from sklearn.compose import make_column_transformer\n",
    "from sklearn.pipeline import make_pipeline"
   ]
  },
  {
   "cell_type": "code",
   "execution_count": 178,
   "id": "b8501b1e",
   "metadata": {
    "ExecuteTime": {
     "end_time": "2021-10-15T21:38:02.273978Z",
     "start_time": "2021-10-15T21:38:02.265819Z"
    }
   },
   "outputs": [],
   "source": [
    "import os \n",
    "\n",
    "file_input_path = \"titanic_train.csv\"\n",
    "if not os.path.exists(file_input_path):\n",
    "    df_train = pd.read_csv(\"http://bit.ly/kaggletrain\")\n",
    "    df_train.to_csv(file_input_path, header=True, index=False, sep=\"\\t\")\n",
    "else:\n",
    "    df_train = pd.read_csv(file_input_path, header=0, sep=\"\\t\")"
   ]
  },
  {
   "cell_type": "code",
   "execution_count": 179,
   "id": "3f757e3e",
   "metadata": {
    "ExecuteTime": {
     "end_time": "2021-10-15T21:38:02.280430Z",
     "start_time": "2021-10-15T21:38:02.276054Z"
    }
   },
   "outputs": [],
   "source": [
    "X = df_train[['Parch', 'Fare', 'Embarked', 'Sex', 'Name', 'Age']]\n",
    "y = df_train['Survived']"
   ]
  },
  {
   "cell_type": "code",
   "execution_count": 180,
   "id": "1badfc2f",
   "metadata": {
    "ExecuteTime": {
     "end_time": "2021-10-15T21:38:02.286061Z",
     "start_time": "2021-10-15T21:38:02.281896Z"
    }
   },
   "outputs": [],
   "source": [
    "imp_ohe = make_pipeline(\n",
    "    SimpleImputer(strategy=\"constant\"),\n",
    "    OneHotEncoder()\n",
    ")\n",
    "vect = CountVectorizer()\n",
    "imp = SimpleImputer()"
   ]
  },
  {
   "cell_type": "code",
   "execution_count": 181,
   "id": "ce791378",
   "metadata": {
    "ExecuteTime": {
     "end_time": "2021-10-15T21:38:02.291689Z",
     "start_time": "2021-10-15T21:38:02.287308Z"
    }
   },
   "outputs": [],
   "source": [
    "# pipeline step 1\n",
    "ct = make_column_transformer(\n",
    "    (imp_ohe, ['Embarked', 'Sex']),\n",
    "    (vect, 'Name'),\n",
    "    (imp, ['Age', 'Fare']),\n",
    "    ('passthrough', ['Parch'])\n",
    ")"
   ]
  },
  {
   "cell_type": "code",
   "execution_count": 182,
   "id": "e257c929",
   "metadata": {
    "ExecuteTime": {
     "end_time": "2021-10-15T21:38:02.297252Z",
     "start_time": "2021-10-15T21:38:02.292912Z"
    }
   },
   "outputs": [],
   "source": [
    "# pipeline step 2\n",
    "selection = SelectPercentile(score_func=chi2, percentile=50)"
   ]
  },
  {
   "cell_type": "code",
   "execution_count": 183,
   "id": "348b4767",
   "metadata": {
    "ExecuteTime": {
     "end_time": "2021-10-15T21:38:02.304783Z",
     "start_time": "2021-10-15T21:38:02.298514Z"
    }
   },
   "outputs": [],
   "source": [
    "# pipeline step 3\n",
    "clf = LogisticRegression(solver='liblinear')"
   ]
  },
  {
   "cell_type": "code",
   "execution_count": 184,
   "id": "2cf31ce1",
   "metadata": {
    "ExecuteTime": {
     "end_time": "2021-10-15T21:38:02.360988Z",
     "start_time": "2021-10-15T21:38:02.306038Z"
    }
   },
   "outputs": [
    {
     "data": {
      "text/html": [
       "<style>#sk-e95184b7-09db-456c-b230-dd7632b7cc3d {color: black;background-color: white;}#sk-e95184b7-09db-456c-b230-dd7632b7cc3d pre{padding: 0;}#sk-e95184b7-09db-456c-b230-dd7632b7cc3d div.sk-toggleable {background-color: white;}#sk-e95184b7-09db-456c-b230-dd7632b7cc3d label.sk-toggleable__label {cursor: pointer;display: block;width: 100%;margin-bottom: 0;padding: 0.3em;box-sizing: border-box;text-align: center;}#sk-e95184b7-09db-456c-b230-dd7632b7cc3d div.sk-toggleable__content {max-height: 0;max-width: 0;overflow: hidden;text-align: left;background-color: #f0f8ff;}#sk-e95184b7-09db-456c-b230-dd7632b7cc3d div.sk-toggleable__content pre {margin: 0.2em;color: black;border-radius: 0.25em;background-color: #f0f8ff;}#sk-e95184b7-09db-456c-b230-dd7632b7cc3d input.sk-toggleable__control:checked~div.sk-toggleable__content {max-height: 200px;max-width: 100%;overflow: auto;}#sk-e95184b7-09db-456c-b230-dd7632b7cc3d div.sk-estimator input.sk-toggleable__control:checked~label.sk-toggleable__label {background-color: #d4ebff;}#sk-e95184b7-09db-456c-b230-dd7632b7cc3d div.sk-label input.sk-toggleable__control:checked~label.sk-toggleable__label {background-color: #d4ebff;}#sk-e95184b7-09db-456c-b230-dd7632b7cc3d input.sk-hidden--visually {border: 0;clip: rect(1px 1px 1px 1px);clip: rect(1px, 1px, 1px, 1px);height: 1px;margin: -1px;overflow: hidden;padding: 0;position: absolute;width: 1px;}#sk-e95184b7-09db-456c-b230-dd7632b7cc3d div.sk-estimator {font-family: monospace;background-color: #f0f8ff;border: 1px dotted black;border-radius: 0.25em;box-sizing: border-box;margin-bottom: 0.5em;}#sk-e95184b7-09db-456c-b230-dd7632b7cc3d div.sk-estimator:hover {background-color: #d4ebff;}#sk-e95184b7-09db-456c-b230-dd7632b7cc3d div.sk-parallel-item::after {content: \"\";width: 100%;border-bottom: 1px solid gray;flex-grow: 1;}#sk-e95184b7-09db-456c-b230-dd7632b7cc3d div.sk-label:hover label.sk-toggleable__label {background-color: #d4ebff;}#sk-e95184b7-09db-456c-b230-dd7632b7cc3d div.sk-serial::before {content: \"\";position: absolute;border-left: 1px solid gray;box-sizing: border-box;top: 2em;bottom: 0;left: 50%;}#sk-e95184b7-09db-456c-b230-dd7632b7cc3d div.sk-serial {display: flex;flex-direction: column;align-items: center;background-color: white;padding-right: 0.2em;padding-left: 0.2em;}#sk-e95184b7-09db-456c-b230-dd7632b7cc3d div.sk-item {z-index: 1;}#sk-e95184b7-09db-456c-b230-dd7632b7cc3d div.sk-parallel {display: flex;align-items: stretch;justify-content: center;background-color: white;}#sk-e95184b7-09db-456c-b230-dd7632b7cc3d div.sk-parallel::before {content: \"\";position: absolute;border-left: 1px solid gray;box-sizing: border-box;top: 2em;bottom: 0;left: 50%;}#sk-e95184b7-09db-456c-b230-dd7632b7cc3d div.sk-parallel-item {display: flex;flex-direction: column;position: relative;background-color: white;}#sk-e95184b7-09db-456c-b230-dd7632b7cc3d div.sk-parallel-item:first-child::after {align-self: flex-end;width: 50%;}#sk-e95184b7-09db-456c-b230-dd7632b7cc3d div.sk-parallel-item:last-child::after {align-self: flex-start;width: 50%;}#sk-e95184b7-09db-456c-b230-dd7632b7cc3d div.sk-parallel-item:only-child::after {width: 0;}#sk-e95184b7-09db-456c-b230-dd7632b7cc3d div.sk-dashed-wrapped {border: 1px dashed gray;margin: 0 0.4em 0.5em 0.4em;box-sizing: border-box;padding-bottom: 0.4em;background-color: white;position: relative;}#sk-e95184b7-09db-456c-b230-dd7632b7cc3d div.sk-label label {font-family: monospace;font-weight: bold;background-color: white;display: inline-block;line-height: 1.2em;}#sk-e95184b7-09db-456c-b230-dd7632b7cc3d div.sk-label-container {position: relative;z-index: 2;text-align: center;}#sk-e95184b7-09db-456c-b230-dd7632b7cc3d div.sk-container {display: inline-block;position: relative;}</style><div id=\"sk-e95184b7-09db-456c-b230-dd7632b7cc3d\" class\"sk-top-container\"><div class=\"sk-container\"><div class=\"sk-item sk-dashed-wrapped\"><div class=\"sk-label-container\"><div class=\"sk-label sk-toggleable\"><input class=\"sk-toggleable__control sk-hidden--visually\" id=\"819644bf-16f1-401d-9142-64b0b19d35e8\" type=\"checkbox\" ><label class=\"sk-toggleable__label\" for=\"819644bf-16f1-401d-9142-64b0b19d35e8\">Pipeline</label><div class=\"sk-toggleable__content\"><pre>Pipeline(steps=[('columntransformer',\n",
       "                 ColumnTransformer(transformers=[('pipeline',\n",
       "                                                  Pipeline(steps=[('simpleimputer',\n",
       "                                                                   SimpleImputer(strategy='constant')),\n",
       "                                                                  ('onehotencoder',\n",
       "                                                                   OneHotEncoder())]),\n",
       "                                                  ['Embarked', 'Sex']),\n",
       "                                                 ('countvectorizer',\n",
       "                                                  CountVectorizer(), 'Name'),\n",
       "                                                 ('simpleimputer',\n",
       "                                                  SimpleImputer(),\n",
       "                                                  ['Age', 'Fare']),\n",
       "                                                 ('passthrough', 'passthrough',\n",
       "                                                  ['Parch'])])),\n",
       "                ('selectpercentile',\n",
       "                 SelectPercentile(percentile=50,\n",
       "                                  score_func=<function chi2 at 0x7f259ff77040>)),\n",
       "                ('logisticregression', LogisticRegression(solver='liblinear'))])</pre></div></div></div><div class=\"sk-serial\"><div class=\"sk-item sk-dashed-wrapped\"><div class=\"sk-label-container\"><div class=\"sk-label sk-toggleable\"><input class=\"sk-toggleable__control sk-hidden--visually\" id=\"0e8db1d9-e3dc-4951-ac0e-2cd1839b778c\" type=\"checkbox\" ><label class=\"sk-toggleable__label\" for=\"0e8db1d9-e3dc-4951-ac0e-2cd1839b778c\">columntransformer: ColumnTransformer</label><div class=\"sk-toggleable__content\"><pre>ColumnTransformer(transformers=[('pipeline',\n",
       "                                 Pipeline(steps=[('simpleimputer',\n",
       "                                                  SimpleImputer(strategy='constant')),\n",
       "                                                 ('onehotencoder',\n",
       "                                                  OneHotEncoder())]),\n",
       "                                 ['Embarked', 'Sex']),\n",
       "                                ('countvectorizer', CountVectorizer(), 'Name'),\n",
       "                                ('simpleimputer', SimpleImputer(),\n",
       "                                 ['Age', 'Fare']),\n",
       "                                ('passthrough', 'passthrough', ['Parch'])])</pre></div></div></div><div class=\"sk-parallel\"><div class=\"sk-parallel-item\"><div class=\"sk-item\"><div class=\"sk-label-container\"><div class=\"sk-label sk-toggleable\"><input class=\"sk-toggleable__control sk-hidden--visually\" id=\"871a3640-2839-4c89-81f2-953ab70d9ade\" type=\"checkbox\" ><label class=\"sk-toggleable__label\" for=\"871a3640-2839-4c89-81f2-953ab70d9ade\">pipeline</label><div class=\"sk-toggleable__content\"><pre>['Embarked', 'Sex']</pre></div></div></div><div class=\"sk-serial\"><div class=\"sk-item\"><div class=\"sk-serial\"><div class=\"sk-item\"><div class=\"sk-estimator sk-toggleable\"><input class=\"sk-toggleable__control sk-hidden--visually\" id=\"cbd6c345-49a3-4bee-a850-8aeb65526214\" type=\"checkbox\" ><label class=\"sk-toggleable__label\" for=\"cbd6c345-49a3-4bee-a850-8aeb65526214\">SimpleImputer</label><div class=\"sk-toggleable__content\"><pre>SimpleImputer(strategy='constant')</pre></div></div></div><div class=\"sk-item\"><div class=\"sk-estimator sk-toggleable\"><input class=\"sk-toggleable__control sk-hidden--visually\" id=\"58467d57-a6b7-41fc-8a9d-960bb8f4a4ad\" type=\"checkbox\" ><label class=\"sk-toggleable__label\" for=\"58467d57-a6b7-41fc-8a9d-960bb8f4a4ad\">OneHotEncoder</label><div class=\"sk-toggleable__content\"><pre>OneHotEncoder()</pre></div></div></div></div></div></div></div></div><div class=\"sk-parallel-item\"><div class=\"sk-item\"><div class=\"sk-label-container\"><div class=\"sk-label sk-toggleable\"><input class=\"sk-toggleable__control sk-hidden--visually\" id=\"46ecc177-7dc6-46a8-940f-bd66debf0716\" type=\"checkbox\" ><label class=\"sk-toggleable__label\" for=\"46ecc177-7dc6-46a8-940f-bd66debf0716\">countvectorizer</label><div class=\"sk-toggleable__content\"><pre>Name</pre></div></div></div><div class=\"sk-serial\"><div class=\"sk-item\"><div class=\"sk-estimator sk-toggleable\"><input class=\"sk-toggleable__control sk-hidden--visually\" id=\"d8845e8e-6023-4d66-b1b5-b248a37f4566\" type=\"checkbox\" ><label class=\"sk-toggleable__label\" for=\"d8845e8e-6023-4d66-b1b5-b248a37f4566\">CountVectorizer</label><div class=\"sk-toggleable__content\"><pre>CountVectorizer()</pre></div></div></div></div></div></div><div class=\"sk-parallel-item\"><div class=\"sk-item\"><div class=\"sk-label-container\"><div class=\"sk-label sk-toggleable\"><input class=\"sk-toggleable__control sk-hidden--visually\" id=\"a74d1d8f-f9cb-4beb-b46e-67905bbfa699\" type=\"checkbox\" ><label class=\"sk-toggleable__label\" for=\"a74d1d8f-f9cb-4beb-b46e-67905bbfa699\">simpleimputer</label><div class=\"sk-toggleable__content\"><pre>['Age', 'Fare']</pre></div></div></div><div class=\"sk-serial\"><div class=\"sk-item\"><div class=\"sk-estimator sk-toggleable\"><input class=\"sk-toggleable__control sk-hidden--visually\" id=\"73e063b1-6b7f-4287-a8a9-e516d1290781\" type=\"checkbox\" ><label class=\"sk-toggleable__label\" for=\"73e063b1-6b7f-4287-a8a9-e516d1290781\">SimpleImputer</label><div class=\"sk-toggleable__content\"><pre>SimpleImputer()</pre></div></div></div></div></div></div><div class=\"sk-parallel-item\"><div class=\"sk-item\"><div class=\"sk-label-container\"><div class=\"sk-label sk-toggleable\"><input class=\"sk-toggleable__control sk-hidden--visually\" id=\"2aa4fb6c-e707-4071-a7d1-9eed242e6ee3\" type=\"checkbox\" ><label class=\"sk-toggleable__label\" for=\"2aa4fb6c-e707-4071-a7d1-9eed242e6ee3\">passthrough</label><div class=\"sk-toggleable__content\"><pre>['Parch']</pre></div></div></div><div class=\"sk-serial\"><div class=\"sk-item\"><div class=\"sk-estimator sk-toggleable\"><input class=\"sk-toggleable__control sk-hidden--visually\" id=\"881e6070-d3b7-44ac-a038-6a7b2d800ce2\" type=\"checkbox\" ><label class=\"sk-toggleable__label\" for=\"881e6070-d3b7-44ac-a038-6a7b2d800ce2\">passthrough</label><div class=\"sk-toggleable__content\"><pre>passthrough</pre></div></div></div></div></div></div></div></div><div class=\"sk-item\"><div class=\"sk-estimator sk-toggleable\"><input class=\"sk-toggleable__control sk-hidden--visually\" id=\"6388ba23-5a7c-4f13-a109-73ed686ac012\" type=\"checkbox\" ><label class=\"sk-toggleable__label\" for=\"6388ba23-5a7c-4f13-a109-73ed686ac012\">SelectPercentile</label><div class=\"sk-toggleable__content\"><pre>SelectPercentile(percentile=50, score_func=<function chi2 at 0x7f259ff77040>)</pre></div></div></div><div class=\"sk-item\"><div class=\"sk-estimator sk-toggleable\"><input class=\"sk-toggleable__control sk-hidden--visually\" id=\"87b77212-7b89-461b-b01e-ce673f83f704\" type=\"checkbox\" ><label class=\"sk-toggleable__label\" for=\"87b77212-7b89-461b-b01e-ce673f83f704\">LogisticRegression</label><div class=\"sk-toggleable__content\"><pre>LogisticRegression(solver='liblinear')</pre></div></div></div></div></div></div></div>"
      ],
      "text/plain": [
       "Pipeline(steps=[('columntransformer',\n",
       "                 ColumnTransformer(transformers=[('pipeline',\n",
       "                                                  Pipeline(steps=[('simpleimputer',\n",
       "                                                                   SimpleImputer(strategy='constant')),\n",
       "                                                                  ('onehotencoder',\n",
       "                                                                   OneHotEncoder())]),\n",
       "                                                  ['Embarked', 'Sex']),\n",
       "                                                 ('countvectorizer',\n",
       "                                                  CountVectorizer(), 'Name'),\n",
       "                                                 ('simpleimputer',\n",
       "                                                  SimpleImputer(),\n",
       "                                                  ['Age', 'Fare']),\n",
       "                                                 ('passthrough', 'passthrough',\n",
       "                                                  ['Parch'])])),\n",
       "                ('selectpercentile',\n",
       "                 SelectPercentile(percentile=50,\n",
       "                                  score_func=<function chi2 at 0x7f259ff77040>)),\n",
       "                ('logisticregression', LogisticRegression(solver='liblinear'))])"
      ]
     },
     "execution_count": 184,
     "metadata": {},
     "output_type": "execute_result"
    }
   ],
   "source": [
    "pipe = make_pipeline(ct, selection, clf)\n",
    "pipe"
   ]
  },
  {
   "cell_type": "markdown",
   "id": "6c0dc8b1",
   "metadata": {},
   "source": [
    "### Export to file HTML"
   ]
  },
  {
   "cell_type": "code",
   "execution_count": 185,
   "id": "851feacd",
   "metadata": {
    "ExecuteTime": {
     "end_time": "2021-10-15T21:38:02.394327Z",
     "start_time": "2021-10-15T21:38:02.362484Z"
    }
   },
   "outputs": [],
   "source": [
    "# export the diagram to a file\n",
    "file_html_path = \"pipe.html\"\n",
    "from sklearn.utils import estimator_html_repr\n",
    "with open(file_html_path, 'w') as f:  \n",
    "    f.write(estimator_html_repr(pipe))"
   ]
  },
  {
   "cell_type": "code",
   "execution_count": null,
   "id": "9fb56e07",
   "metadata": {},
   "outputs": [],
   "source": []
  },
  {
   "cell_type": "code",
   "execution_count": null,
   "id": "93ab00cc",
   "metadata": {},
   "outputs": [],
   "source": []
  }
 ],
 "metadata": {
  "kernelspec": {
   "display_name": "Python 3 (ipykernel)",
   "language": "python",
   "name": "python3"
  },
  "language_info": {
   "codemirror_mode": {
    "name": "ipython",
    "version": 3
   },
   "file_extension": ".py",
   "mimetype": "text/x-python",
   "name": "python",
   "nbconvert_exporter": "python",
   "pygments_lexer": "ipython3",
   "version": "3.8.10"
  },
  "latex_envs": {
   "LaTeX_envs_menu_present": true,
   "autoclose": false,
   "autocomplete": true,
   "bibliofile": "biblio.bib",
   "cite_by": "apalike",
   "current_citInitial": 1,
   "eqLabelWithNumbers": true,
   "eqNumInitial": 1,
   "hotkeys": {
    "equation": "Ctrl-E",
    "itemize": "Ctrl-I"
   },
   "labels_anchors": false,
   "latex_user_defs": false,
   "report_style_numbering": false,
   "user_envs_cfg": false
  },
  "toc": {
   "base_numbering": 1,
   "nav_menu": {},
   "number_sections": true,
   "sideBar": true,
   "skip_h1_title": false,
   "title_cell": "Table of Contents",
   "title_sidebar": "Contents",
   "toc_cell": false,
   "toc_position": {
    "height": "calc(100% - 180px)",
    "left": "10px",
    "top": "150px",
    "width": "369px"
   },
   "toc_section_display": true,
   "toc_window_display": true
  },
  "varInspector": {
   "cols": {
    "lenName": 16,
    "lenType": 16,
    "lenVar": 40
   },
   "kernels_config": {
    "python": {
     "delete_cmd_postfix": "",
     "delete_cmd_prefix": "del ",
     "library": "var_list.py",
     "varRefreshCmd": "print(var_dic_list())"
    },
    "r": {
     "delete_cmd_postfix": ") ",
     "delete_cmd_prefix": "rm(",
     "library": "var_list.r",
     "varRefreshCmd": "cat(var_dic_list()) "
    }
   },
   "types_to_exclude": [
    "module",
    "function",
    "builtin_function_or_method",
    "instance",
    "_Feature"
   ],
   "window_display": false
  }
 },
 "nbformat": 4,
 "nbformat_minor": 5
}
