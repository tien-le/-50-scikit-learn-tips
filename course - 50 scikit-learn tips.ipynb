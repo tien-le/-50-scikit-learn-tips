{
 "cells": [
  {
   "cell_type": "markdown",
   "id": "armed-sound",
   "metadata": {},
   "source": [
    "Course \"50 scikit-learn tips\" by **Kenvin Markham**\n",
    "\n",
    "Link: https://courses.dataschool.io/courses/scikit-learn-tips/801794-introduction/2376425-welcome-to-the-course\n",
    "\n",
    "* Updated by Tien LE\n",
    "* Updated date: 2021-10-01\n"
   ]
  },
  {
   "cell_type": "code",
   "execution_count": 1,
   "id": "secure-format",
   "metadata": {
    "ExecuteTime": {
     "end_time": "2021-10-13T19:37:17.958208Z",
     "start_time": "2021-10-13T19:37:17.465318Z"
    }
   },
   "outputs": [],
   "source": [
    "import sklearn"
   ]
  },
  {
   "cell_type": "code",
   "execution_count": 2,
   "id": "beautiful-bacteria",
   "metadata": {
    "ExecuteTime": {
     "end_time": "2021-10-13T19:37:17.968649Z",
     "start_time": "2021-10-13T19:37:17.959846Z"
    }
   },
   "outputs": [
    {
     "data": {
      "text/plain": [
       "'0.24.2'"
      ]
     },
     "execution_count": 2,
     "metadata": {},
     "output_type": "execute_result"
    }
   ],
   "source": [
    "sklearn.__version__"
   ]
  },
  {
   "cell_type": "code",
   "execution_count": 3,
   "id": "atlantic-nickname",
   "metadata": {
    "ExecuteTime": {
     "end_time": "2021-10-13T19:37:17.975442Z",
     "start_time": "2021-10-13T19:37:17.969907Z"
    }
   },
   "outputs": [],
   "source": [
    "# Upgrade scikit-learn to 1.0\n",
    "# ! pip install --upgrade scikit-learn"
   ]
  },
  {
   "cell_type": "markdown",
   "id": "intermediate-things",
   "metadata": {},
   "source": [
    "# Data Preprocessing"
   ]
  },
  {
   "cell_type": "markdown",
   "id": "related-circulation",
   "metadata": {},
   "source": [
    "## Use ColumnTransformer to apply different preprocessing to different columns\n",
    "\n",
    "Use ColumnTransformer to apply different preprocessing to different columns:\n",
    "+ select from DataFrame columns by name\n",
    "+ passthrough or drop unspecified columns\n",
    "\n",
    "Requires scikit-learn 0.20+\n",
    "\n",
    "Additional links: [OneHotEncoder](https://scikit-learn.org/stable/modules/generated/sklearn.preprocessing.OneHotEncoder.html), [SimpleImputer](https://scikit-learn.org/stable/modules/generated/sklearn.impute.SimpleImputer.html), [make_column_transformer](https://scikit-learn.org/stable/modules/generated/sklearn.compose.make_column_transformer.html?highlight=make_column_transformer)"
   ]
  },
  {
   "cell_type": "code",
   "execution_count": 4,
   "id": "structured-mentor",
   "metadata": {
    "ExecuteTime": {
     "end_time": "2021-10-13T19:37:18.131596Z",
     "start_time": "2021-10-13T19:37:17.977375Z"
    }
   },
   "outputs": [],
   "source": [
    "import numpy as np\n",
    "import pandas as pd"
   ]
  },
  {
   "cell_type": "code",
   "execution_count": 5,
   "id": "lightweight-dynamics",
   "metadata": {
    "ExecuteTime": {
     "end_time": "2021-10-13T19:37:18.140488Z",
     "start_time": "2021-10-13T19:37:18.133014Z"
    }
   },
   "outputs": [],
   "source": [
    "import os \n",
    "\n",
    "file_input_path = \"titanic_train.csv\"\n",
    "if not os.path.exists(file_input_path):\n",
    "    df = pd.read_csv(\"http://bit.ly/kaggletrain\")\n",
    "    df.to_csv(file_input_path, header=True, index=False, sep=\"\\t\")\n",
    "else:\n",
    "    df = pd.read_csv(file_input_path, header=0, sep=\"\\t\")"
   ]
  },
  {
   "cell_type": "code",
   "execution_count": 6,
   "id": "sublime-estimate",
   "metadata": {
    "ExecuteTime": {
     "end_time": "2021-10-13T19:37:18.151941Z",
     "start_time": "2021-10-13T19:37:18.141804Z"
    }
   },
   "outputs": [
    {
     "name": "stdout",
     "output_type": "stream",
     "text": [
      "<class 'pandas.core.frame.DataFrame'>\n",
      "RangeIndex: 891 entries, 0 to 890\n",
      "Data columns (total 12 columns):\n",
      " #   Column       Non-Null Count  Dtype  \n",
      "---  ------       --------------  -----  \n",
      " 0   PassengerId  891 non-null    int64  \n",
      " 1   Survived     891 non-null    int64  \n",
      " 2   Pclass       891 non-null    int64  \n",
      " 3   Name         891 non-null    object \n",
      " 4   Sex          891 non-null    object \n",
      " 5   Age          714 non-null    float64\n",
      " 6   SibSp        891 non-null    int64  \n",
      " 7   Parch        891 non-null    int64  \n",
      " 8   Ticket       891 non-null    object \n",
      " 9   Fare         891 non-null    float64\n",
      " 10  Cabin        204 non-null    object \n",
      " 11  Embarked     889 non-null    object \n",
      "dtypes: float64(2), int64(5), object(5)\n",
      "memory usage: 83.7+ KB\n"
     ]
    }
   ],
   "source": [
    "df.info()"
   ]
  },
  {
   "cell_type": "code",
   "execution_count": 7,
   "id": "accepted-value",
   "metadata": {
    "ExecuteTime": {
     "end_time": "2021-10-13T19:37:18.167332Z",
     "start_time": "2021-10-13T19:37:18.153217Z"
    }
   },
   "outputs": [
    {
     "data": {
      "text/html": [
       "<div>\n",
       "<style scoped>\n",
       "    .dataframe tbody tr th:only-of-type {\n",
       "        vertical-align: middle;\n",
       "    }\n",
       "\n",
       "    .dataframe tbody tr th {\n",
       "        vertical-align: top;\n",
       "    }\n",
       "\n",
       "    .dataframe thead th {\n",
       "        text-align: right;\n",
       "    }\n",
       "</style>\n",
       "<table border=\"1\" class=\"dataframe\">\n",
       "  <thead>\n",
       "    <tr style=\"text-align: right;\">\n",
       "      <th></th>\n",
       "      <th>PassengerId</th>\n",
       "      <th>Survived</th>\n",
       "      <th>Pclass</th>\n",
       "      <th>Name</th>\n",
       "      <th>Sex</th>\n",
       "      <th>Age</th>\n",
       "      <th>SibSp</th>\n",
       "      <th>Parch</th>\n",
       "      <th>Ticket</th>\n",
       "      <th>Fare</th>\n",
       "      <th>Cabin</th>\n",
       "      <th>Embarked</th>\n",
       "    </tr>\n",
       "  </thead>\n",
       "  <tbody>\n",
       "    <tr>\n",
       "      <th>0</th>\n",
       "      <td>1</td>\n",
       "      <td>0</td>\n",
       "      <td>3</td>\n",
       "      <td>Braund, Mr. Owen Harris</td>\n",
       "      <td>male</td>\n",
       "      <td>22.0</td>\n",
       "      <td>1</td>\n",
       "      <td>0</td>\n",
       "      <td>A/5 21171</td>\n",
       "      <td>7.2500</td>\n",
       "      <td>NaN</td>\n",
       "      <td>S</td>\n",
       "    </tr>\n",
       "    <tr>\n",
       "      <th>1</th>\n",
       "      <td>2</td>\n",
       "      <td>1</td>\n",
       "      <td>1</td>\n",
       "      <td>Cumings, Mrs. John Bradley (Florence Briggs Th...</td>\n",
       "      <td>female</td>\n",
       "      <td>38.0</td>\n",
       "      <td>1</td>\n",
       "      <td>0</td>\n",
       "      <td>PC 17599</td>\n",
       "      <td>71.2833</td>\n",
       "      <td>C85</td>\n",
       "      <td>C</td>\n",
       "    </tr>\n",
       "    <tr>\n",
       "      <th>2</th>\n",
       "      <td>3</td>\n",
       "      <td>1</td>\n",
       "      <td>3</td>\n",
       "      <td>Heikkinen, Miss. Laina</td>\n",
       "      <td>female</td>\n",
       "      <td>26.0</td>\n",
       "      <td>0</td>\n",
       "      <td>0</td>\n",
       "      <td>STON/O2. 3101282</td>\n",
       "      <td>7.9250</td>\n",
       "      <td>NaN</td>\n",
       "      <td>S</td>\n",
       "    </tr>\n",
       "    <tr>\n",
       "      <th>3</th>\n",
       "      <td>4</td>\n",
       "      <td>1</td>\n",
       "      <td>1</td>\n",
       "      <td>Futrelle, Mrs. Jacques Heath (Lily May Peel)</td>\n",
       "      <td>female</td>\n",
       "      <td>35.0</td>\n",
       "      <td>1</td>\n",
       "      <td>0</td>\n",
       "      <td>113803</td>\n",
       "      <td>53.1000</td>\n",
       "      <td>C123</td>\n",
       "      <td>S</td>\n",
       "    </tr>\n",
       "    <tr>\n",
       "      <th>4</th>\n",
       "      <td>5</td>\n",
       "      <td>0</td>\n",
       "      <td>3</td>\n",
       "      <td>Allen, Mr. William Henry</td>\n",
       "      <td>male</td>\n",
       "      <td>35.0</td>\n",
       "      <td>0</td>\n",
       "      <td>0</td>\n",
       "      <td>373450</td>\n",
       "      <td>8.0500</td>\n",
       "      <td>NaN</td>\n",
       "      <td>S</td>\n",
       "    </tr>\n",
       "    <tr>\n",
       "      <th>5</th>\n",
       "      <td>6</td>\n",
       "      <td>0</td>\n",
       "      <td>3</td>\n",
       "      <td>Moran, Mr. James</td>\n",
       "      <td>male</td>\n",
       "      <td>NaN</td>\n",
       "      <td>0</td>\n",
       "      <td>0</td>\n",
       "      <td>330877</td>\n",
       "      <td>8.4583</td>\n",
       "      <td>NaN</td>\n",
       "      <td>Q</td>\n",
       "    </tr>\n",
       "  </tbody>\n",
       "</table>\n",
       "</div>"
      ],
      "text/plain": [
       "   PassengerId  Survived  Pclass  \\\n",
       "0            1         0       3   \n",
       "1            2         1       1   \n",
       "2            3         1       3   \n",
       "3            4         1       1   \n",
       "4            5         0       3   \n",
       "5            6         0       3   \n",
       "\n",
       "                                                Name     Sex   Age  SibSp  \\\n",
       "0                            Braund, Mr. Owen Harris    male  22.0      1   \n",
       "1  Cumings, Mrs. John Bradley (Florence Briggs Th...  female  38.0      1   \n",
       "2                             Heikkinen, Miss. Laina  female  26.0      0   \n",
       "3       Futrelle, Mrs. Jacques Heath (Lily May Peel)  female  35.0      1   \n",
       "4                           Allen, Mr. William Henry    male  35.0      0   \n",
       "5                                   Moran, Mr. James    male   NaN      0   \n",
       "\n",
       "   Parch            Ticket     Fare Cabin Embarked  \n",
       "0      0         A/5 21171   7.2500   NaN        S  \n",
       "1      0          PC 17599  71.2833   C85        C  \n",
       "2      0  STON/O2. 3101282   7.9250   NaN        S  \n",
       "3      0            113803  53.1000  C123        S  \n",
       "4      0            373450   8.0500   NaN        S  \n",
       "5      0            330877   8.4583   NaN        Q  "
      ]
     },
     "execution_count": 7,
     "metadata": {},
     "output_type": "execute_result"
    }
   ],
   "source": [
    "df.head(6)"
   ]
  },
  {
   "cell_type": "code",
   "execution_count": 8,
   "id": "prescription-zimbabwe",
   "metadata": {
    "ExecuteTime": {
     "end_time": "2021-10-13T19:37:18.177938Z",
     "start_time": "2021-10-13T19:37:18.168720Z"
    }
   },
   "outputs": [
    {
     "data": {
      "text/html": [
       "<div>\n",
       "<style scoped>\n",
       "    .dataframe tbody tr th:only-of-type {\n",
       "        vertical-align: middle;\n",
       "    }\n",
       "\n",
       "    .dataframe tbody tr th {\n",
       "        vertical-align: top;\n",
       "    }\n",
       "\n",
       "    .dataframe thead th {\n",
       "        text-align: right;\n",
       "    }\n",
       "</style>\n",
       "<table border=\"1\" class=\"dataframe\">\n",
       "  <thead>\n",
       "    <tr style=\"text-align: right;\">\n",
       "      <th></th>\n",
       "      <th>Fare</th>\n",
       "      <th>Embarked</th>\n",
       "      <th>Sex</th>\n",
       "      <th>Age</th>\n",
       "    </tr>\n",
       "  </thead>\n",
       "  <tbody>\n",
       "    <tr>\n",
       "      <th>0</th>\n",
       "      <td>7.2500</td>\n",
       "      <td>S</td>\n",
       "      <td>male</td>\n",
       "      <td>22.0</td>\n",
       "    </tr>\n",
       "    <tr>\n",
       "      <th>1</th>\n",
       "      <td>71.2833</td>\n",
       "      <td>C</td>\n",
       "      <td>female</td>\n",
       "      <td>38.0</td>\n",
       "    </tr>\n",
       "    <tr>\n",
       "      <th>2</th>\n",
       "      <td>7.9250</td>\n",
       "      <td>S</td>\n",
       "      <td>female</td>\n",
       "      <td>26.0</td>\n",
       "    </tr>\n",
       "    <tr>\n",
       "      <th>3</th>\n",
       "      <td>53.1000</td>\n",
       "      <td>S</td>\n",
       "      <td>female</td>\n",
       "      <td>35.0</td>\n",
       "    </tr>\n",
       "    <tr>\n",
       "      <th>4</th>\n",
       "      <td>8.0500</td>\n",
       "      <td>S</td>\n",
       "      <td>male</td>\n",
       "      <td>35.0</td>\n",
       "    </tr>\n",
       "    <tr>\n",
       "      <th>5</th>\n",
       "      <td>8.4583</td>\n",
       "      <td>Q</td>\n",
       "      <td>male</td>\n",
       "      <td>NaN</td>\n",
       "    </tr>\n",
       "  </tbody>\n",
       "</table>\n",
       "</div>"
      ],
      "text/plain": [
       "      Fare Embarked     Sex   Age\n",
       "0   7.2500        S    male  22.0\n",
       "1  71.2833        C  female  38.0\n",
       "2   7.9250        S  female  26.0\n",
       "3  53.1000        S  female  35.0\n",
       "4   8.0500        S    male  35.0\n",
       "5   8.4583        Q    male   NaN"
      ]
     },
     "execution_count": 8,
     "metadata": {},
     "output_type": "execute_result"
    }
   ],
   "source": [
    "cols = [\"Fare\", \"Embarked\", \"Sex\", \"Age\"]\n",
    "X = df[cols]\n",
    "X = X.head(6)\n",
    "X"
   ]
  },
  {
   "cell_type": "code",
   "execution_count": 9,
   "id": "pressed-missouri",
   "metadata": {
    "ExecuteTime": {
     "end_time": "2021-10-13T19:37:18.230981Z",
     "start_time": "2021-10-13T19:37:18.179285Z"
    }
   },
   "outputs": [],
   "source": [
    "from sklearn.preprocessing import OneHotEncoder\n",
    "from sklearn.impute import SimpleImputer\n",
    "from sklearn.compose import make_column_transformer"
   ]
  },
  {
   "cell_type": "code",
   "execution_count": 10,
   "id": "backed-dependence",
   "metadata": {
    "ExecuteTime": {
     "end_time": "2021-10-13T19:37:18.235878Z",
     "start_time": "2021-10-13T19:37:18.233233Z"
    }
   },
   "outputs": [],
   "source": [
    "ohe = OneHotEncoder()\n",
    "simple_imputer = SimpleImputer()  # get mean value"
   ]
  },
  {
   "cell_type": "code",
   "execution_count": 11,
   "id": "digital-indianapolis",
   "metadata": {
    "ExecuteTime": {
     "end_time": "2021-10-13T19:37:18.241600Z",
     "start_time": "2021-10-13T19:37:18.237201Z"
    }
   },
   "outputs": [],
   "source": [
    "col_transformer = make_column_transformer(\n",
    "    (ohe, [\"Embarked\", \"Sex\"]),\n",
    "    (simple_imputer, [\"Age\"]),\n",
    "    remainder=\"passthrough\"\n",
    ")\n",
    "\n",
    "#https://scikit-learn.org/stable/modules/generated/sklearn.compose.make_column_transformer.html?highlight=make_column_transformer\n",
    "#remainder{‘drop’, ‘passthrough’} or estimator, default=’drop’\n",
    "#   By default, only the specified columns in transformers are transformed and combined in the output, and the non-specified columns are dropped. (default of 'drop'). By specifying remainder='passthrough', all remaining columns that were not specified in transformers will be automatically passed through. This subset of columns is concatenated with the output of the transformers. By setting remainder to be an estimator, the remaining non-specified columns will use the remainder estimator. The estimator must support fit and transform."
   ]
  },
  {
   "cell_type": "code",
   "execution_count": 12,
   "id": "thick-brief",
   "metadata": {
    "ExecuteTime": {
     "end_time": "2021-10-13T19:37:18.255708Z",
     "start_time": "2021-10-13T19:37:18.242920Z"
    }
   },
   "outputs": [
    {
     "data": {
      "text/plain": [
       "array([[ 0.    ,  0.    ,  1.    ,  0.    ,  1.    , 22.    ,  7.25  ],\n",
       "       [ 1.    ,  0.    ,  0.    ,  1.    ,  0.    , 38.    , 71.2833],\n",
       "       [ 0.    ,  0.    ,  1.    ,  1.    ,  0.    , 26.    ,  7.925 ],\n",
       "       [ 0.    ,  0.    ,  1.    ,  1.    ,  0.    , 35.    , 53.1   ],\n",
       "       [ 0.    ,  0.    ,  1.    ,  0.    ,  1.    , 35.    ,  8.05  ],\n",
       "       [ 0.    ,  1.    ,  0.    ,  0.    ,  1.    , 31.2   ,  8.4583]])"
      ]
     },
     "execution_count": 12,
     "metadata": {},
     "output_type": "execute_result"
    }
   ],
   "source": [
    "col_transformer.fit_transform(X)"
   ]
  },
  {
   "cell_type": "markdown",
   "id": "fabulous-metadata",
   "metadata": {},
   "source": [
    "## Seven ways to select columns using ColumnTransformer\n",
    "\n",
    "There are SEVEN ways to select columns using [ColumnTransformer](https://scikit-learn.org/stable/modules/generated/sklearn.compose.make_column_transformer.html):\n",
    "+ column name\n",
    "+ integer position\n",
    "+ slice\n",
    "+ boolean mask\n",
    "+ regex pattern\n",
    "+ dtypes to include\n",
    "+ dtypes to exclude\n",
    "\n",
    "Additional links: [make_column_selector](https://scikit-learn.org/stable/modules/generated/sklearn.compose.make_column_selector.html)"
   ]
  },
  {
   "cell_type": "code",
   "execution_count": 13,
   "id": "southwest-poultry",
   "metadata": {
    "ExecuteTime": {
     "end_time": "2021-10-13T19:37:18.264915Z",
     "start_time": "2021-10-13T19:37:18.257026Z"
    }
   },
   "outputs": [],
   "source": [
    "import os \n",
    "\n",
    "file_input_path = \"titanic_train.csv\"\n",
    "if not os.path.exists(file_input_path):\n",
    "    df = pd.read_csv(\"http://bit.ly/kaggletrain\")\n",
    "    df.to_csv(file_input_path, header=True, index=False, sep=\"\\t\")\n",
    "else:\n",
    "    df = pd.read_csv(file_input_path, header=0, sep=\"\\t\")"
   ]
  },
  {
   "cell_type": "code",
   "execution_count": 14,
   "id": "assigned-stanley",
   "metadata": {
    "ExecuteTime": {
     "end_time": "2021-10-13T19:37:18.275530Z",
     "start_time": "2021-10-13T19:37:18.266226Z"
    }
   },
   "outputs": [
    {
     "data": {
      "text/html": [
       "<div>\n",
       "<style scoped>\n",
       "    .dataframe tbody tr th:only-of-type {\n",
       "        vertical-align: middle;\n",
       "    }\n",
       "\n",
       "    .dataframe tbody tr th {\n",
       "        vertical-align: top;\n",
       "    }\n",
       "\n",
       "    .dataframe thead th {\n",
       "        text-align: right;\n",
       "    }\n",
       "</style>\n",
       "<table border=\"1\" class=\"dataframe\">\n",
       "  <thead>\n",
       "    <tr style=\"text-align: right;\">\n",
       "      <th></th>\n",
       "      <th>Fare</th>\n",
       "      <th>Embarked</th>\n",
       "      <th>Sex</th>\n",
       "      <th>Age</th>\n",
       "    </tr>\n",
       "  </thead>\n",
       "  <tbody>\n",
       "    <tr>\n",
       "      <th>0</th>\n",
       "      <td>7.2500</td>\n",
       "      <td>S</td>\n",
       "      <td>male</td>\n",
       "      <td>22.0</td>\n",
       "    </tr>\n",
       "    <tr>\n",
       "      <th>1</th>\n",
       "      <td>71.2833</td>\n",
       "      <td>C</td>\n",
       "      <td>female</td>\n",
       "      <td>38.0</td>\n",
       "    </tr>\n",
       "    <tr>\n",
       "      <th>2</th>\n",
       "      <td>7.9250</td>\n",
       "      <td>S</td>\n",
       "      <td>female</td>\n",
       "      <td>26.0</td>\n",
       "    </tr>\n",
       "    <tr>\n",
       "      <th>3</th>\n",
       "      <td>53.1000</td>\n",
       "      <td>S</td>\n",
       "      <td>female</td>\n",
       "      <td>35.0</td>\n",
       "    </tr>\n",
       "    <tr>\n",
       "      <th>4</th>\n",
       "      <td>8.0500</td>\n",
       "      <td>S</td>\n",
       "      <td>male</td>\n",
       "      <td>35.0</td>\n",
       "    </tr>\n",
       "    <tr>\n",
       "      <th>5</th>\n",
       "      <td>8.4583</td>\n",
       "      <td>Q</td>\n",
       "      <td>male</td>\n",
       "      <td>NaN</td>\n",
       "    </tr>\n",
       "  </tbody>\n",
       "</table>\n",
       "</div>"
      ],
      "text/plain": [
       "      Fare Embarked     Sex   Age\n",
       "0   7.2500        S    male  22.0\n",
       "1  71.2833        C  female  38.0\n",
       "2   7.9250        S  female  26.0\n",
       "3  53.1000        S  female  35.0\n",
       "4   8.0500        S    male  35.0\n",
       "5   8.4583        Q    male   NaN"
      ]
     },
     "execution_count": 14,
     "metadata": {},
     "output_type": "execute_result"
    }
   ],
   "source": [
    "cols = [\"Fare\", \"Embarked\", \"Sex\", \"Age\"]\n",
    "X = df[cols]\n",
    "X = X.head(6)\n",
    "X"
   ]
  },
  {
   "cell_type": "code",
   "execution_count": 15,
   "id": "local-panama",
   "metadata": {
    "ExecuteTime": {
     "end_time": "2021-10-13T19:37:18.280540Z",
     "start_time": "2021-10-13T19:37:18.276858Z"
    }
   },
   "outputs": [],
   "source": [
    "from sklearn.preprocessing import OneHotEncoder\n",
    "from sklearn.compose import make_column_transformer, make_column_selector"
   ]
  },
  {
   "cell_type": "code",
   "execution_count": 16,
   "id": "adjacent-assault",
   "metadata": {
    "ExecuteTime": {
     "end_time": "2021-10-13T19:37:18.288042Z",
     "start_time": "2021-10-13T19:37:18.281881Z"
    }
   },
   "outputs": [],
   "source": [
    "ohe = OneHotEncoder()"
   ]
  },
  {
   "cell_type": "code",
   "execution_count": 17,
   "id": "brilliant-arrow",
   "metadata": {
    "ExecuteTime": {
     "end_time": "2021-10-13T19:37:18.294922Z",
     "start_time": "2021-10-13T19:37:18.289367Z"
    }
   },
   "outputs": [
    {
     "data": {
      "text/plain": [
       "Index(['Fare', 'Embarked', 'Sex', 'Age'], dtype='object')"
      ]
     },
     "execution_count": 17,
     "metadata": {},
     "output_type": "execute_result"
    }
   ],
   "source": [
    "X.columns"
   ]
  },
  {
   "cell_type": "code",
   "execution_count": 18,
   "id": "intellectual-increase",
   "metadata": {
    "ExecuteTime": {
     "end_time": "2021-10-13T19:37:18.301275Z",
     "start_time": "2021-10-13T19:37:18.296974Z"
    }
   },
   "outputs": [],
   "source": [
    "# all SEVEN of these produce the same results\n",
    "# Note that: reminder = \"drop\" (by default)\n",
    "\n",
    "# column name\n",
    "col_transformer = make_column_transformer((ohe, ['Embarked', 'Sex']))\n",
    "\n",
    "# integer position\n",
    "col_transformer = make_column_transformer((ohe, [1,2]))  # column index 0,1,2,...\n",
    "\n",
    "# slice\n",
    "col_transformer = make_column_transformer((ohe, slice(1,3)))  # column from index 1 to k-1\n",
    "\n",
    "# boolean mask\n",
    "col_transformer = make_column_transformer((ohe, [False, True, True, False]))\n",
    "\n",
    "# regex pattern\n",
    "col_transformer = make_column_transformer((ohe, make_column_selector(pattern=\"E|S\")))  # startwiths E or S\n",
    "# https://scikit-learn.org/stable/modules/generated/sklearn.compose.make_column_selector.html\n",
    "# patternstr, default=None\n",
    "#   Name of columns containing this regex pattern will be included. If None, column selection will not be selected based on pattern.\n",
    "\n",
    "# dtypes to include\n",
    "col_transformer = make_column_transformer((ohe, make_column_selector(dtype_include=object)))\n",
    "\n",
    "# dtypes to exclude\n",
    "col_transformer = make_column_transformer((ohe, make_column_selector(dtype_exclude=np.number)))"
   ]
  },
  {
   "cell_type": "code",
   "execution_count": 19,
   "id": "contained-consent",
   "metadata": {
    "ExecuteTime": {
     "end_time": "2021-10-13T19:37:18.312066Z",
     "start_time": "2021-10-13T19:37:18.302566Z"
    }
   },
   "outputs": [
    {
     "data": {
      "text/plain": [
       "array([[0., 0., 1., 0., 1.],\n",
       "       [1., 0., 0., 1., 0.],\n",
       "       [0., 0., 1., 1., 0.],\n",
       "       [0., 0., 1., 1., 0.],\n",
       "       [0., 0., 1., 0., 1.],\n",
       "       [0., 1., 0., 0., 1.]])"
      ]
     },
     "execution_count": 19,
     "metadata": {},
     "output_type": "execute_result"
    }
   ],
   "source": [
    "col_transformer.fit_transform(X)"
   ]
  },
  {
   "cell_type": "markdown",
   "id": "norman-sleeve",
   "metadata": {},
   "source": [
    "### Simple Case\n",
    "\n",
    "https://scikit-learn.org/stable/modules/generated/sklearn.preprocessing.StandardScaler.html?highlight=standardscaler#sklearn.preprocessing.StandardScaler\n",
    "\n",
    "Standardize features by removing the mean and scaling to unit variance."
   ]
  },
  {
   "cell_type": "code",
   "execution_count": 20,
   "id": "uniform-click",
   "metadata": {
    "ExecuteTime": {
     "end_time": "2021-10-13T19:37:18.321599Z",
     "start_time": "2021-10-13T19:37:18.313377Z"
    }
   },
   "outputs": [
    {
     "data": {
      "text/html": [
       "<div>\n",
       "<style scoped>\n",
       "    .dataframe tbody tr th:only-of-type {\n",
       "        vertical-align: middle;\n",
       "    }\n",
       "\n",
       "    .dataframe tbody tr th {\n",
       "        vertical-align: top;\n",
       "    }\n",
       "\n",
       "    .dataframe thead th {\n",
       "        text-align: right;\n",
       "    }\n",
       "</style>\n",
       "<table border=\"1\" class=\"dataframe\">\n",
       "  <thead>\n",
       "    <tr style=\"text-align: right;\">\n",
       "      <th></th>\n",
       "      <th>Fare</th>\n",
       "      <th>Embarked</th>\n",
       "      <th>Sex</th>\n",
       "      <th>Age</th>\n",
       "    </tr>\n",
       "  </thead>\n",
       "  <tbody>\n",
       "    <tr>\n",
       "      <th>0</th>\n",
       "      <td>7.2500</td>\n",
       "      <td>S</td>\n",
       "      <td>male</td>\n",
       "      <td>22.0</td>\n",
       "    </tr>\n",
       "    <tr>\n",
       "      <th>1</th>\n",
       "      <td>71.2833</td>\n",
       "      <td>C</td>\n",
       "      <td>female</td>\n",
       "      <td>38.0</td>\n",
       "    </tr>\n",
       "    <tr>\n",
       "      <th>2</th>\n",
       "      <td>7.9250</td>\n",
       "      <td>S</td>\n",
       "      <td>female</td>\n",
       "      <td>26.0</td>\n",
       "    </tr>\n",
       "    <tr>\n",
       "      <th>3</th>\n",
       "      <td>53.1000</td>\n",
       "      <td>S</td>\n",
       "      <td>female</td>\n",
       "      <td>35.0</td>\n",
       "    </tr>\n",
       "    <tr>\n",
       "      <th>4</th>\n",
       "      <td>8.0500</td>\n",
       "      <td>S</td>\n",
       "      <td>male</td>\n",
       "      <td>35.0</td>\n",
       "    </tr>\n",
       "    <tr>\n",
       "      <th>5</th>\n",
       "      <td>8.4583</td>\n",
       "      <td>Q</td>\n",
       "      <td>male</td>\n",
       "      <td>NaN</td>\n",
       "    </tr>\n",
       "  </tbody>\n",
       "</table>\n",
       "</div>"
      ],
      "text/plain": [
       "      Fare Embarked     Sex   Age\n",
       "0   7.2500        S    male  22.0\n",
       "1  71.2833        C  female  38.0\n",
       "2   7.9250        S  female  26.0\n",
       "3  53.1000        S  female  35.0\n",
       "4   8.0500        S    male  35.0\n",
       "5   8.4583        Q    male   NaN"
      ]
     },
     "execution_count": 20,
     "metadata": {},
     "output_type": "execute_result"
    }
   ],
   "source": [
    "X"
   ]
  },
  {
   "cell_type": "code",
   "execution_count": 21,
   "id": "discrete-warner",
   "metadata": {
    "ExecuteTime": {
     "end_time": "2021-10-13T19:37:18.336641Z",
     "start_time": "2021-10-13T19:37:18.322874Z"
    }
   },
   "outputs": [
    {
     "data": {
      "text/plain": [
       "array([[-0.71829711, -1.50516598,  0.        ,  0.        ,  1.        ,\n",
       "         0.        ,  1.        ],\n",
       "       [ 1.7333147 ,  1.11251398,  1.        ,  0.        ,  0.        ,\n",
       "         1.        ,  0.        ],\n",
       "       [-0.69245371, -0.85074599,  0.        ,  0.        ,  1.        ,\n",
       "         1.        ,  0.        ],\n",
       "       [ 1.03713954,  0.62169899,  0.        ,  0.        ,  1.        ,\n",
       "         1.        ,  0.        ],\n",
       "       [-0.6876679 ,  0.62169899,  0.        ,  0.        ,  1.        ,\n",
       "         0.        ,  1.        ],\n",
       "       [-0.67203551,         nan,  0.        ,  1.        ,  0.        ,\n",
       "         0.        ,  1.        ]])"
      ]
     },
     "execution_count": 21,
     "metadata": {},
     "output_type": "execute_result"
    }
   ],
   "source": [
    "from sklearn.preprocessing import StandardScaler, OneHotEncoder\n",
    "\n",
    "col_transformer = make_column_transformer(\n",
    "    (StandardScaler(), make_column_selector(dtype_include=np.number)),  \n",
    "    (OneHotEncoder(), make_column_selector(dtype_include=object))\n",
    ")\n",
    "\n",
    "col_transformer.fit_transform(X)"
   ]
  },
  {
   "cell_type": "markdown",
   "id": "returning-collaboration",
   "metadata": {},
   "source": [
    "### Flexible Case\n",
    "\n",
    "Link: https://scikit-learn.org/stable/auto_examples/compose/plot_column_transformer_mixed_types.html#sphx-glr-auto-examples-compose-plot-column-transformer-mixed-types-py"
   ]
  },
  {
   "cell_type": "code",
   "execution_count": 22,
   "id": "fuzzy-breakdown",
   "metadata": {
    "ExecuteTime": {
     "end_time": "2021-10-13T19:37:18.351676Z",
     "start_time": "2021-10-13T19:37:18.338651Z"
    }
   },
   "outputs": [
    {
     "data": {
      "text/plain": [
       "array([[-0.71829711, -1.70817275,  0.        ,  0.        ,  1.        ,\n",
       "         0.        ,  1.        ],\n",
       "       [ 1.7333147 ,  1.07122698,  1.        ,  0.        ,  0.        ,\n",
       "         1.        ,  0.        ],\n",
       "       [-0.69245371, -1.01332282,  0.        ,  0.        ,  1.        ,\n",
       "         1.        ,  0.        ],\n",
       "       [ 1.03713954,  0.55008953,  0.        ,  0.        ,  1.        ,\n",
       "         1.        ,  0.        ],\n",
       "       [-0.6876679 ,  0.55008953,  0.        ,  0.        ,  1.        ,\n",
       "         0.        ,  1.        ],\n",
       "       [-0.67203551,  0.55008953,  0.        ,  1.        ,  0.        ,\n",
       "         0.        ,  1.        ]])"
      ]
     },
     "execution_count": 22,
     "metadata": {},
     "output_type": "execute_result"
    }
   ],
   "source": [
    "from sklearn.preprocessing import StandardScaler, OneHotEncoder\n",
    "from sklearn.pipeline import Pipeline\n",
    "from sklearn.impute import SimpleImputer\n",
    "from sklearn.compose import ColumnTransformer\n",
    "\n",
    "numeric_features = [\"Fare\", \"Age\"]\n",
    "numeric_transformer = Pipeline(\n",
    "    steps=[\n",
    "        (\"imputer\", SimpleImputer(strategy=\"median\")),\n",
    "        (\"scaler\", StandardScaler())\n",
    "    ]\n",
    ")\n",
    "\n",
    "categorical_features = [\"Embarked\", \"Sex\"]\n",
    "categorical_transformer = OneHotEncoder(handle_unknown=\"ignore\")\n",
    "\n",
    "preprocessor = ColumnTransformer(\n",
    "    transformers=[\n",
    "        (\"numeric\", numeric_transformer, numeric_features),\n",
    "        (\"categorical\", categorical_transformer, categorical_features)\n",
    "    ]\n",
    ")\n",
    "\n",
    "preprocessor.fit_transform(X)"
   ]
  },
  {
   "cell_type": "markdown",
   "id": "affecting-element",
   "metadata": {},
   "source": [
    "## What is the difference between \"fit\" and \"transform\"?\n",
    "\n",
    "Q: What is the difference between the \"fit\" and \"transform\" methods?\n",
    "\n",
    "+ \"[fit](https://scikit-learn.org/stable/glossary.html#term-fit)\": transformer learns something about the data\n",
    "+ \"[transform](https://scikit-learn.org/stable/glossary.html#term-transform)\": it uses what it learned to do the data transformation\n",
    "\n",
    "For examples\n",
    "+ CountVectorizer\n",
    "    - fit: learns the vocabulary\n",
    "    - transform: creates a document-term matrix using the vocabulary\n",
    "    \n",
    "+ SimpleImputer\n",
    "    - fit: learns the value to impute\n",
    "    - transform: fills in missing entries using the imputation value\n",
    "    \n",
    "+ StandardScaler\n",
    "    - fit: learns the mean and scale of each feature\n",
    "    - transform: standardizes the features using the mean and scale\n",
    "    \n",
    "+ HashingVectorizer\n",
    "    - fit: is not used, and thus it is known as a \"stateless\" transformer\n",
    "    - transform: create the document-term matrix using a hash of the token"
   ]
  },
  {
   "cell_type": "markdown",
   "id": "infectious-testament",
   "metadata": {},
   "source": [
    "## Use \"fit_transform\" on training data, but \"transform\" (only) on testing/new data\n",
    "\n",
    "Use \"[fit_transform](https://scikit-learn.org/stable/glossary.html#term-fit_transform)\" on training data, but \"[transform](https://scikit-learn.org/stable/glossary.html#term-transform)\" (only) on testing/new data.\n",
    "\n",
    "Applies the same transformations to both sets of data, which creates consistent columns and prevents [data leakage](https://scikit-learn.org/stable/common_pitfalls.html#data-leakage)!"
   ]
  },
  {
   "cell_type": "markdown",
   "id": "built-typing",
   "metadata": {},
   "source": [
    "## Get the feature names output by a ColumnTransformer\n",
    "\n",
    "Need to get the feature names output by a [ColumnTransformer](https://scikit-learn.org/stable/modules/generated/sklearn.compose.ColumnTransformer.html)?\n",
    "\n",
    "Use get_feature_names(), which now works with \"passthrough\" columns (new in version 0.23)!\n",
    "\n",
    "Note: Beginning in scikit-learn 1.0, the get_feature_names method has been deprecated in favor of [get_feature_names_out](https://scikit-learn.org/stable/modules/generated/sklearn.compose.ColumnTransformer.html#sklearn.compose.ColumnTransformer.get_feature_names_out).\n"
   ]
  },
  {
   "cell_type": "code",
   "execution_count": 23,
   "id": "earned-jaguar",
   "metadata": {
    "ExecuteTime": {
     "end_time": "2021-10-13T19:37:18.637584Z",
     "start_time": "2021-10-13T19:37:18.629582Z"
    }
   },
   "outputs": [
    {
     "data": {
      "text/html": [
       "<div>\n",
       "<style scoped>\n",
       "    .dataframe tbody tr th:only-of-type {\n",
       "        vertical-align: middle;\n",
       "    }\n",
       "\n",
       "    .dataframe tbody tr th {\n",
       "        vertical-align: top;\n",
       "    }\n",
       "\n",
       "    .dataframe thead th {\n",
       "        text-align: right;\n",
       "    }\n",
       "</style>\n",
       "<table border=\"1\" class=\"dataframe\">\n",
       "  <thead>\n",
       "    <tr style=\"text-align: right;\">\n",
       "      <th></th>\n",
       "      <th>Fare</th>\n",
       "      <th>Embarked</th>\n",
       "      <th>Sex</th>\n",
       "      <th>Age</th>\n",
       "    </tr>\n",
       "  </thead>\n",
       "  <tbody>\n",
       "    <tr>\n",
       "      <th>0</th>\n",
       "      <td>7.2500</td>\n",
       "      <td>S</td>\n",
       "      <td>male</td>\n",
       "      <td>22.0</td>\n",
       "    </tr>\n",
       "    <tr>\n",
       "      <th>1</th>\n",
       "      <td>71.2833</td>\n",
       "      <td>C</td>\n",
       "      <td>female</td>\n",
       "      <td>38.0</td>\n",
       "    </tr>\n",
       "    <tr>\n",
       "      <th>2</th>\n",
       "      <td>7.9250</td>\n",
       "      <td>S</td>\n",
       "      <td>female</td>\n",
       "      <td>26.0</td>\n",
       "    </tr>\n",
       "    <tr>\n",
       "      <th>3</th>\n",
       "      <td>53.1000</td>\n",
       "      <td>S</td>\n",
       "      <td>female</td>\n",
       "      <td>35.0</td>\n",
       "    </tr>\n",
       "    <tr>\n",
       "      <th>4</th>\n",
       "      <td>8.0500</td>\n",
       "      <td>S</td>\n",
       "      <td>male</td>\n",
       "      <td>35.0</td>\n",
       "    </tr>\n",
       "    <tr>\n",
       "      <th>5</th>\n",
       "      <td>8.4583</td>\n",
       "      <td>Q</td>\n",
       "      <td>male</td>\n",
       "      <td>NaN</td>\n",
       "    </tr>\n",
       "  </tbody>\n",
       "</table>\n",
       "</div>"
      ],
      "text/plain": [
       "      Fare Embarked     Sex   Age\n",
       "0   7.2500        S    male  22.0\n",
       "1  71.2833        C  female  38.0\n",
       "2   7.9250        S  female  26.0\n",
       "3  53.1000        S  female  35.0\n",
       "4   8.0500        S    male  35.0\n",
       "5   8.4583        Q    male   NaN"
      ]
     },
     "execution_count": 23,
     "metadata": {},
     "output_type": "execute_result"
    }
   ],
   "source": [
    "X"
   ]
  },
  {
   "cell_type": "code",
   "execution_count": 24,
   "id": "behavioral-composer",
   "metadata": {
    "ExecuteTime": {
     "end_time": "2021-10-13T19:37:18.646253Z",
     "start_time": "2021-10-13T19:37:18.638985Z"
    }
   },
   "outputs": [
    {
     "data": {
      "text/plain": [
       "Index(['Fare', 'Embarked', 'Sex', 'Age'], dtype='object')"
      ]
     },
     "execution_count": 24,
     "metadata": {},
     "output_type": "execute_result"
    }
   ],
   "source": [
    "X.columns"
   ]
  },
  {
   "cell_type": "code",
   "execution_count": 25,
   "id": "biological-package",
   "metadata": {
    "ExecuteTime": {
     "end_time": "2021-10-13T19:37:18.651189Z",
     "start_time": "2021-10-13T19:37:18.647838Z"
    }
   },
   "outputs": [],
   "source": [
    "col_transformer = make_column_transformer(\n",
    "    (OneHotEncoder(), [\"Embarked\", \"Sex\"]),\n",
    "    remainder=\"passthrough\"\n",
    ")"
   ]
  },
  {
   "cell_type": "code",
   "execution_count": 26,
   "id": "pressing-boulder",
   "metadata": {
    "ExecuteTime": {
     "end_time": "2021-10-13T19:37:18.661303Z",
     "start_time": "2021-10-13T19:37:18.652456Z"
    }
   },
   "outputs": [
    {
     "data": {
      "text/plain": [
       "array([[ 0.    ,  0.    ,  1.    ,  0.    ,  1.    ,  7.25  , 22.    ],\n",
       "       [ 1.    ,  0.    ,  0.    ,  1.    ,  0.    , 71.2833, 38.    ],\n",
       "       [ 0.    ,  0.    ,  1.    ,  1.    ,  0.    ,  7.925 , 26.    ],\n",
       "       [ 0.    ,  0.    ,  1.    ,  1.    ,  0.    , 53.1   , 35.    ],\n",
       "       [ 0.    ,  0.    ,  1.    ,  0.    ,  1.    ,  8.05  , 35.    ],\n",
       "       [ 0.    ,  1.    ,  0.    ,  0.    ,  1.    ,  8.4583,     nan]])"
      ]
     },
     "execution_count": 26,
     "metadata": {},
     "output_type": "execute_result"
    }
   ],
   "source": [
    "ft = col_transformer.fit_transform(X)\n",
    "ft"
   ]
  },
  {
   "cell_type": "code",
   "execution_count": 27,
   "id": "established-islam",
   "metadata": {
    "ExecuteTime": {
     "end_time": "2021-10-13T19:37:18.667118Z",
     "start_time": "2021-10-13T19:37:18.662865Z"
    }
   },
   "outputs": [
    {
     "data": {
      "text/plain": [
       "(6, 7)"
      ]
     },
     "execution_count": 27,
     "metadata": {},
     "output_type": "execute_result"
    }
   ],
   "source": [
    "ft.shape"
   ]
  },
  {
   "cell_type": "code",
   "execution_count": 28,
   "id": "figured-portugal",
   "metadata": {
    "ExecuteTime": {
     "end_time": "2021-10-13T19:37:18.673095Z",
     "start_time": "2021-10-13T19:37:18.668288Z"
    }
   },
   "outputs": [
    {
     "data": {
      "text/plain": [
       "['onehotencoder__x0_C',\n",
       " 'onehotencoder__x0_Q',\n",
       " 'onehotencoder__x0_S',\n",
       " 'onehotencoder__x1_female',\n",
       " 'onehotencoder__x1_male',\n",
       " 'Fare',\n",
       " 'Age']"
      ]
     },
     "execution_count": 28,
     "metadata": {},
     "output_type": "execute_result"
    }
   ],
   "source": [
    "col_transformer.get_feature_names()"
   ]
  },
  {
   "cell_type": "markdown",
   "id": "primary-overall",
   "metadata": {},
   "source": [
    "## Passthrough some columns and drop others in a ColumnTransformer\n",
    "\n",
    "In a [ColumnTransformer](https://scikit-learn.org/stable/modules/generated/sklearn.compose.make_column_transformer.html), you can use the strings 'passthrough' and 'drop' in place of a transformer. \n",
    "\n",
    "Useful if you need to passthrough some columns and drop others!"
   ]
  },
  {
   "cell_type": "code",
   "execution_count": 29,
   "id": "afraid-international",
   "metadata": {
    "ExecuteTime": {
     "end_time": "2021-10-13T19:37:18.798682Z",
     "start_time": "2021-10-13T19:37:18.790614Z"
    }
   },
   "outputs": [
    {
     "data": {
      "text/html": [
       "<div>\n",
       "<style scoped>\n",
       "    .dataframe tbody tr th:only-of-type {\n",
       "        vertical-align: middle;\n",
       "    }\n",
       "\n",
       "    .dataframe tbody tr th {\n",
       "        vertical-align: top;\n",
       "    }\n",
       "\n",
       "    .dataframe thead th {\n",
       "        text-align: right;\n",
       "    }\n",
       "</style>\n",
       "<table border=\"1\" class=\"dataframe\">\n",
       "  <thead>\n",
       "    <tr style=\"text-align: right;\">\n",
       "      <th></th>\n",
       "      <th>Fare</th>\n",
       "      <th>Embarked</th>\n",
       "      <th>Sex</th>\n",
       "      <th>Age</th>\n",
       "    </tr>\n",
       "  </thead>\n",
       "  <tbody>\n",
       "    <tr>\n",
       "      <th>0</th>\n",
       "      <td>7.2500</td>\n",
       "      <td>S</td>\n",
       "      <td>male</td>\n",
       "      <td>22.0</td>\n",
       "    </tr>\n",
       "    <tr>\n",
       "      <th>1</th>\n",
       "      <td>71.2833</td>\n",
       "      <td>C</td>\n",
       "      <td>female</td>\n",
       "      <td>38.0</td>\n",
       "    </tr>\n",
       "    <tr>\n",
       "      <th>2</th>\n",
       "      <td>7.9250</td>\n",
       "      <td>S</td>\n",
       "      <td>female</td>\n",
       "      <td>26.0</td>\n",
       "    </tr>\n",
       "    <tr>\n",
       "      <th>3</th>\n",
       "      <td>53.1000</td>\n",
       "      <td>S</td>\n",
       "      <td>female</td>\n",
       "      <td>35.0</td>\n",
       "    </tr>\n",
       "    <tr>\n",
       "      <th>4</th>\n",
       "      <td>8.0500</td>\n",
       "      <td>S</td>\n",
       "      <td>male</td>\n",
       "      <td>35.0</td>\n",
       "    </tr>\n",
       "    <tr>\n",
       "      <th>5</th>\n",
       "      <td>8.4583</td>\n",
       "      <td>Q</td>\n",
       "      <td>male</td>\n",
       "      <td>NaN</td>\n",
       "    </tr>\n",
       "  </tbody>\n",
       "</table>\n",
       "</div>"
      ],
      "text/plain": [
       "      Fare Embarked     Sex   Age\n",
       "0   7.2500        S    male  22.0\n",
       "1  71.2833        C  female  38.0\n",
       "2   7.9250        S  female  26.0\n",
       "3  53.1000        S  female  35.0\n",
       "4   8.0500        S    male  35.0\n",
       "5   8.4583        Q    male   NaN"
      ]
     },
     "execution_count": 29,
     "metadata": {},
     "output_type": "execute_result"
    }
   ],
   "source": [
    "X"
   ]
  },
  {
   "cell_type": "markdown",
   "id": "significant-hartford",
   "metadata": {},
   "source": [
    "### Method 1: \"passthrough\" with some columns"
   ]
  },
  {
   "cell_type": "code",
   "execution_count": 30,
   "id": "visible-blade",
   "metadata": {
    "ExecuteTime": {
     "end_time": "2021-10-13T19:37:18.951138Z",
     "start_time": "2021-10-13T19:37:18.928473Z"
    }
   },
   "outputs": [
    {
     "data": {
      "text/plain": [
       "array([[22.    ,  7.25  ],\n",
       "       [38.    , 71.2833],\n",
       "       [26.    ,  7.925 ],\n",
       "       [35.    , 53.1   ],\n",
       "       [35.    ,  8.05  ],\n",
       "       [31.2   ,  8.4583]])"
      ]
     },
     "execution_count": 30,
     "metadata": {},
     "output_type": "execute_result"
    }
   ],
   "source": [
    "col_transformer = make_column_transformer(\n",
    "    (SimpleImputer(), [\"Age\"]),\n",
    "    (\"passthrough\", [\"Fare\"]),\n",
    "    remainder=\"drop\"\n",
    ")\n",
    "col_transformer.fit_transform(X)"
   ]
  },
  {
   "cell_type": "markdown",
   "id": "distinguished-liberal",
   "metadata": {},
   "source": [
    "### Method 2: \"drop\" with some columns"
   ]
  },
  {
   "cell_type": "code",
   "execution_count": 31,
   "id": "preliminary-mention",
   "metadata": {
    "ExecuteTime": {
     "end_time": "2021-10-13T19:37:19.091077Z",
     "start_time": "2021-10-13T19:37:19.077762Z"
    }
   },
   "outputs": [
    {
     "data": {
      "text/plain": [
       "array([[22.    ,  7.25  ],\n",
       "       [38.    , 71.2833],\n",
       "       [26.    ,  7.925 ],\n",
       "       [35.    , 53.1   ],\n",
       "       [35.    ,  8.05  ],\n",
       "       [31.2   ,  8.4583]])"
      ]
     },
     "execution_count": 31,
     "metadata": {},
     "output_type": "execute_result"
    }
   ],
   "source": [
    "col_transformer = make_column_transformer(\n",
    "    (SimpleImputer(), [\"Age\"]),\n",
    "    (\"drop\", [\"Embarked\", \"Sex\"]),\n",
    "    remainder=\"passthrough\"\n",
    ")\n",
    "\n",
    "col_transformer.fit_transform(X)"
   ]
  },
  {
   "cell_type": "markdown",
   "id": "average-planet",
   "metadata": {},
   "source": [
    "## (Detail ?) Four reasons to use scikit-learn (not pandas) for ML preprocessing\n",
    "\n",
    "Reasons to use scikit-learn (not pandas) for ML [preprocessing](https://scikit-learn.org/stable/modules/preprocessing.html):\n",
    "+ You can cross-validate the entire workflow\n",
    "+ You can [grid search](https://scikit-learn.org/stable/modules/grid_search.html) model & preprocessing hyperparameters\n",
    "+ Avoids adding new columns to the source DataFrame\n",
    "+ pandas lacks separate fit/transform steps to prevent [data leakage](https://scikit-learn.org/stable/common_pitfalls.html#data-leakage)"
   ]
  },
  {
   "cell_type": "markdown",
   "id": "traditional-guinea",
   "metadata": {},
   "source": [
    "## Don't use .values when passing a pandas object to scikit-learn\n",
    "\n",
    "There's no need to use \".values\" when passing a DataFrame or Series to scikit-learn... it knows how to access the underlying NumPy array!\n"
   ]
  },
  {
   "cell_type": "code",
   "execution_count": 32,
   "id": "martial-smooth",
   "metadata": {
    "ExecuteTime": {
     "end_time": "2021-10-13T19:37:19.361303Z",
     "start_time": "2021-10-13T19:37:19.345125Z"
    }
   },
   "outputs": [
    {
     "data": {
      "text/html": [
       "<div>\n",
       "<style scoped>\n",
       "    .dataframe tbody tr th:only-of-type {\n",
       "        vertical-align: middle;\n",
       "    }\n",
       "\n",
       "    .dataframe tbody tr th {\n",
       "        vertical-align: top;\n",
       "    }\n",
       "\n",
       "    .dataframe thead th {\n",
       "        text-align: right;\n",
       "    }\n",
       "</style>\n",
       "<table border=\"1\" class=\"dataframe\">\n",
       "  <thead>\n",
       "    <tr style=\"text-align: right;\">\n",
       "      <th></th>\n",
       "      <th>PassengerId</th>\n",
       "      <th>Survived</th>\n",
       "      <th>Pclass</th>\n",
       "      <th>Name</th>\n",
       "      <th>Sex</th>\n",
       "      <th>Age</th>\n",
       "      <th>SibSp</th>\n",
       "      <th>Parch</th>\n",
       "      <th>Ticket</th>\n",
       "      <th>Fare</th>\n",
       "      <th>Cabin</th>\n",
       "      <th>Embarked</th>\n",
       "    </tr>\n",
       "  </thead>\n",
       "  <tbody>\n",
       "    <tr>\n",
       "      <th>0</th>\n",
       "      <td>1</td>\n",
       "      <td>0</td>\n",
       "      <td>3</td>\n",
       "      <td>Braund, Mr. Owen Harris</td>\n",
       "      <td>male</td>\n",
       "      <td>22.0</td>\n",
       "      <td>1</td>\n",
       "      <td>0</td>\n",
       "      <td>A/5 21171</td>\n",
       "      <td>7.2500</td>\n",
       "      <td>NaN</td>\n",
       "      <td>S</td>\n",
       "    </tr>\n",
       "    <tr>\n",
       "      <th>1</th>\n",
       "      <td>2</td>\n",
       "      <td>1</td>\n",
       "      <td>1</td>\n",
       "      <td>Cumings, Mrs. John Bradley (Florence Briggs Th...</td>\n",
       "      <td>female</td>\n",
       "      <td>38.0</td>\n",
       "      <td>1</td>\n",
       "      <td>0</td>\n",
       "      <td>PC 17599</td>\n",
       "      <td>71.2833</td>\n",
       "      <td>C85</td>\n",
       "      <td>C</td>\n",
       "    </tr>\n",
       "  </tbody>\n",
       "</table>\n",
       "</div>"
      ],
      "text/plain": [
       "   PassengerId  Survived  Pclass  \\\n",
       "0            1         0       3   \n",
       "1            2         1       1   \n",
       "\n",
       "                                                Name     Sex   Age  SibSp  \\\n",
       "0                            Braund, Mr. Owen Harris    male  22.0      1   \n",
       "1  Cumings, Mrs. John Bradley (Florence Briggs Th...  female  38.0      1   \n",
       "\n",
       "   Parch     Ticket     Fare Cabin Embarked  \n",
       "0      0  A/5 21171   7.2500   NaN        S  \n",
       "1      0   PC 17599  71.2833   C85        C  "
      ]
     },
     "execution_count": 32,
     "metadata": {},
     "output_type": "execute_result"
    }
   ],
   "source": [
    "df.head(2)"
   ]
  },
  {
   "cell_type": "code",
   "execution_count": 33,
   "id": "peaceful-plastic",
   "metadata": {
    "ExecuteTime": {
     "end_time": "2021-10-13T19:37:19.368613Z",
     "start_time": "2021-10-13T19:37:19.363309Z"
    }
   },
   "outputs": [],
   "source": [
    "from sklearn.linear_model import LogisticRegression"
   ]
  },
  {
   "cell_type": "code",
   "execution_count": 34,
   "id": "flush-ireland",
   "metadata": {
    "ExecuteTime": {
     "end_time": "2021-10-13T19:37:19.374370Z",
     "start_time": "2021-10-13T19:37:19.370262Z"
    }
   },
   "outputs": [],
   "source": [
    "clf = LogisticRegression()"
   ]
  },
  {
   "cell_type": "code",
   "execution_count": 35,
   "id": "exposed-statement",
   "metadata": {
    "ExecuteTime": {
     "end_time": "2021-10-13T19:37:19.381331Z",
     "start_time": "2021-10-13T19:37:19.376331Z"
    }
   },
   "outputs": [],
   "source": [
    "X = df[[\"Pclass\", \"Fare\"]]\n",
    "y = df[\"Survived\"]"
   ]
  },
  {
   "cell_type": "code",
   "execution_count": 36,
   "id": "empty-wrong",
   "metadata": {
    "ExecuteTime": {
     "end_time": "2021-10-13T19:37:19.388431Z",
     "start_time": "2021-10-13T19:37:19.382833Z"
    }
   },
   "outputs": [
    {
     "data": {
      "text/plain": [
       "pandas.core.frame.DataFrame"
      ]
     },
     "execution_count": 36,
     "metadata": {},
     "output_type": "execute_result"
    }
   ],
   "source": [
    "type(X)"
   ]
  },
  {
   "cell_type": "code",
   "execution_count": 37,
   "id": "gorgeous-discount",
   "metadata": {
    "ExecuteTime": {
     "end_time": "2021-10-13T19:37:19.394719Z",
     "start_time": "2021-10-13T19:37:19.389991Z"
    }
   },
   "outputs": [
    {
     "data": {
      "text/plain": [
       "pandas.core.series.Series"
      ]
     },
     "execution_count": 37,
     "metadata": {},
     "output_type": "execute_result"
    }
   ],
   "source": [
    "type(y)"
   ]
  },
  {
   "cell_type": "code",
   "execution_count": 38,
   "id": "latin-richards",
   "metadata": {
    "ExecuteTime": {
     "end_time": "2021-10-13T19:37:19.420096Z",
     "start_time": "2021-10-13T19:37:19.396824Z"
    }
   },
   "outputs": [
    {
     "data": {
      "text/plain": [
       "LogisticRegression()"
      ]
     },
     "execution_count": 38,
     "metadata": {},
     "output_type": "execute_result"
    }
   ],
   "source": [
    "clf.fit(X, y)"
   ]
  },
  {
   "cell_type": "markdown",
   "id": "based-steal",
   "metadata": {},
   "source": [
    "## Load a toy dataset into a DataFrame\n",
    "\n",
    "New in version 0.23: Need to load a [toy dataset](https://scikit-learn.org/stable/datasets/toy_dataset.html) into a DataFrame, including column names? Set as_frame=True.\n",
    "\n",
    "Want features and target as separate objects? Also set return_X_y=True.\n",
    "\n",
    "Additional links: [load_iris](https://scikit-learn.org/stable/modules/generated/sklearn.datasets.load_iris.html)"
   ]
  },
  {
   "cell_type": "code",
   "execution_count": 39,
   "id": "vietnamese-franchise",
   "metadata": {
    "ExecuteTime": {
     "end_time": "2021-10-13T19:37:19.609610Z",
     "start_time": "2021-10-13T19:37:19.539647Z"
    }
   },
   "outputs": [],
   "source": [
    "from sklearn.datasets import load_iris"
   ]
  },
  {
   "cell_type": "markdown",
   "id": "colonial-variety",
   "metadata": {},
   "source": [
    "### Return DataFrame with features and target"
   ]
  },
  {
   "cell_type": "code",
   "execution_count": 40,
   "id": "electronic-group",
   "metadata": {
    "ExecuteTime": {
     "end_time": "2021-10-13T19:37:19.711415Z",
     "start_time": "2021-10-13T19:37:19.704664Z"
    }
   },
   "outputs": [],
   "source": [
    "df_toy = load_iris(as_frame=True)"
   ]
  },
  {
   "cell_type": "code",
   "execution_count": 41,
   "id": "overhead-pointer",
   "metadata": {
    "ExecuteTime": {
     "end_time": "2021-10-13T19:37:19.720814Z",
     "start_time": "2021-10-13T19:37:19.712846Z"
    }
   },
   "outputs": [
    {
     "data": {
      "text/plain": [
       "sklearn.utils.Bunch"
      ]
     },
     "execution_count": 41,
     "metadata": {},
     "output_type": "execute_result"
    }
   ],
   "source": [
    "type(df_toy)"
   ]
  },
  {
   "cell_type": "code",
   "execution_count": 42,
   "id": "prescribed-hearing",
   "metadata": {
    "ExecuteTime": {
     "end_time": "2021-10-13T19:37:19.726280Z",
     "start_time": "2021-10-13T19:37:19.722577Z"
    }
   },
   "outputs": [
    {
     "name": "stdout",
     "output_type": "stream",
     "text": [
      "['DESCR', 'data', 'feature_names', 'filename', 'frame', 'target', 'target_names']\n"
     ]
    }
   ],
   "source": [
    "print(dir(df_toy))"
   ]
  },
  {
   "cell_type": "code",
   "execution_count": 43,
   "id": "diverse-finance",
   "metadata": {
    "ExecuteTime": {
     "end_time": "2021-10-13T19:37:19.731307Z",
     "start_time": "2021-10-13T19:37:19.727428Z"
    }
   },
   "outputs": [],
   "source": [
    "df_toy_frame = df_toy[\"frame\"]"
   ]
  },
  {
   "cell_type": "code",
   "execution_count": 44,
   "id": "respected-processing",
   "metadata": {
    "ExecuteTime": {
     "end_time": "2021-10-13T19:37:19.743034Z",
     "start_time": "2021-10-13T19:37:19.732712Z"
    }
   },
   "outputs": [
    {
     "data": {
      "text/html": [
       "<div>\n",
       "<style scoped>\n",
       "    .dataframe tbody tr th:only-of-type {\n",
       "        vertical-align: middle;\n",
       "    }\n",
       "\n",
       "    .dataframe tbody tr th {\n",
       "        vertical-align: top;\n",
       "    }\n",
       "\n",
       "    .dataframe thead th {\n",
       "        text-align: right;\n",
       "    }\n",
       "</style>\n",
       "<table border=\"1\" class=\"dataframe\">\n",
       "  <thead>\n",
       "    <tr style=\"text-align: right;\">\n",
       "      <th></th>\n",
       "      <th>sepal length (cm)</th>\n",
       "      <th>sepal width (cm)</th>\n",
       "      <th>petal length (cm)</th>\n",
       "      <th>petal width (cm)</th>\n",
       "      <th>target</th>\n",
       "    </tr>\n",
       "  </thead>\n",
       "  <tbody>\n",
       "    <tr>\n",
       "      <th>0</th>\n",
       "      <td>5.1</td>\n",
       "      <td>3.5</td>\n",
       "      <td>1.4</td>\n",
       "      <td>0.2</td>\n",
       "      <td>0</td>\n",
       "    </tr>\n",
       "    <tr>\n",
       "      <th>1</th>\n",
       "      <td>4.9</td>\n",
       "      <td>3.0</td>\n",
       "      <td>1.4</td>\n",
       "      <td>0.2</td>\n",
       "      <td>0</td>\n",
       "    </tr>\n",
       "    <tr>\n",
       "      <th>2</th>\n",
       "      <td>4.7</td>\n",
       "      <td>3.2</td>\n",
       "      <td>1.3</td>\n",
       "      <td>0.2</td>\n",
       "      <td>0</td>\n",
       "    </tr>\n",
       "  </tbody>\n",
       "</table>\n",
       "</div>"
      ],
      "text/plain": [
       "   sepal length (cm)  sepal width (cm)  petal length (cm)  petal width (cm)  \\\n",
       "0                5.1               3.5                1.4               0.2   \n",
       "1                4.9               3.0                1.4               0.2   \n",
       "2                4.7               3.2                1.3               0.2   \n",
       "\n",
       "   target  \n",
       "0       0  \n",
       "1       0  \n",
       "2       0  "
      ]
     },
     "execution_count": 44,
     "metadata": {},
     "output_type": "execute_result"
    }
   ],
   "source": [
    "df_toy_frame.head(3)"
   ]
  },
  {
   "cell_type": "markdown",
   "id": "fundamental-winner",
   "metadata": {},
   "source": [
    "### Return Feature DataFrame and Target Series "
   ]
  },
  {
   "cell_type": "code",
   "execution_count": 45,
   "id": "virtual-margin",
   "metadata": {
    "ExecuteTime": {
     "end_time": "2021-10-13T19:37:19.887196Z",
     "start_time": "2021-10-13T19:37:19.880859Z"
    }
   },
   "outputs": [],
   "source": [
    "X_toy, y_toy = load_iris(as_frame=True, return_X_y=True)"
   ]
  },
  {
   "cell_type": "code",
   "execution_count": 46,
   "id": "excited-theme",
   "metadata": {
    "ExecuteTime": {
     "end_time": "2021-10-13T19:37:19.898138Z",
     "start_time": "2021-10-13T19:37:19.888646Z"
    }
   },
   "outputs": [
    {
     "data": {
      "text/html": [
       "<div>\n",
       "<style scoped>\n",
       "    .dataframe tbody tr th:only-of-type {\n",
       "        vertical-align: middle;\n",
       "    }\n",
       "\n",
       "    .dataframe tbody tr th {\n",
       "        vertical-align: top;\n",
       "    }\n",
       "\n",
       "    .dataframe thead th {\n",
       "        text-align: right;\n",
       "    }\n",
       "</style>\n",
       "<table border=\"1\" class=\"dataframe\">\n",
       "  <thead>\n",
       "    <tr style=\"text-align: right;\">\n",
       "      <th></th>\n",
       "      <th>sepal length (cm)</th>\n",
       "      <th>sepal width (cm)</th>\n",
       "      <th>petal length (cm)</th>\n",
       "      <th>petal width (cm)</th>\n",
       "    </tr>\n",
       "  </thead>\n",
       "  <tbody>\n",
       "    <tr>\n",
       "      <th>0</th>\n",
       "      <td>5.1</td>\n",
       "      <td>3.5</td>\n",
       "      <td>1.4</td>\n",
       "      <td>0.2</td>\n",
       "    </tr>\n",
       "    <tr>\n",
       "      <th>1</th>\n",
       "      <td>4.9</td>\n",
       "      <td>3.0</td>\n",
       "      <td>1.4</td>\n",
       "      <td>0.2</td>\n",
       "    </tr>\n",
       "    <tr>\n",
       "      <th>2</th>\n",
       "      <td>4.7</td>\n",
       "      <td>3.2</td>\n",
       "      <td>1.3</td>\n",
       "      <td>0.2</td>\n",
       "    </tr>\n",
       "  </tbody>\n",
       "</table>\n",
       "</div>"
      ],
      "text/plain": [
       "   sepal length (cm)  sepal width (cm)  petal length (cm)  petal width (cm)\n",
       "0                5.1               3.5                1.4               0.2\n",
       "1                4.9               3.0                1.4               0.2\n",
       "2                4.7               3.2                1.3               0.2"
      ]
     },
     "execution_count": 46,
     "metadata": {},
     "output_type": "execute_result"
    }
   ],
   "source": [
    "X_toy.head(3)"
   ]
  },
  {
   "cell_type": "code",
   "execution_count": 47,
   "id": "handmade-marshall",
   "metadata": {
    "ExecuteTime": {
     "end_time": "2021-10-13T19:37:19.904168Z",
     "start_time": "2021-10-13T19:37:19.899794Z"
    }
   },
   "outputs": [
    {
     "data": {
      "text/plain": [
       "0    0\n",
       "1    0\n",
       "2    0\n",
       "Name: target, dtype: int64"
      ]
     },
     "execution_count": 47,
     "metadata": {},
     "output_type": "execute_result"
    }
   ],
   "source": [
    "y_toy.head(3)"
   ]
  },
  {
   "cell_type": "markdown",
   "id": "fiscal-rebecca",
   "metadata": {},
   "source": [
    "# Categorical Features"
   ]
  },
  {
   "cell_type": "markdown",
   "id": "respiratory-crash",
   "metadata": {},
   "source": [
    "## Encode categorical features using OneHotEncoder or OrdinalEncoder\n",
    "\n",
    "Two common ways to encode categorical features:\n",
    "+ [OneHotEncoder](https://scikit-learn.org/stable/modules/generated/sklearn.preprocessing.OneHotEncoder.html) for unordered (nominal) data\n",
    "+ [OrdinalEncoder](https://scikit-learn.org/stable/modules/generated/sklearn.preprocessing.OrdinalEncoder.html) for ordered (ordinal) data\n",
    "\n",
    "P.S. [LabelEncoder](https://scikit-learn.org/stable/modules/generated/sklearn.preprocessing.LabelEncoder.html) is for labels, not features!"
   ]
  },
  {
   "cell_type": "code",
   "execution_count": 48,
   "id": "cross-lambda",
   "metadata": {
    "ExecuteTime": {
     "end_time": "2021-10-13T19:37:20.221959Z",
     "start_time": "2021-10-13T19:37:20.218476Z"
    }
   },
   "outputs": [],
   "source": [
    "# \"Shape\" is unordered, \"Class\" and \"Size\" are ordered\n",
    "X = pd.DataFrame({'Shape':['square', 'square', 'oval', 'circle'],\n",
    "                  'Class': ['third', 'first', 'second', 'third'],\n",
    "                  'Size': ['S', 'S', 'L', 'XL']})"
   ]
  },
  {
   "cell_type": "code",
   "execution_count": 49,
   "id": "varying-headquarters",
   "metadata": {
    "ExecuteTime": {
     "end_time": "2021-10-13T19:37:20.236686Z",
     "start_time": "2021-10-13T19:37:20.225359Z"
    }
   },
   "outputs": [
    {
     "data": {
      "text/html": [
       "<div>\n",
       "<style scoped>\n",
       "    .dataframe tbody tr th:only-of-type {\n",
       "        vertical-align: middle;\n",
       "    }\n",
       "\n",
       "    .dataframe tbody tr th {\n",
       "        vertical-align: top;\n",
       "    }\n",
       "\n",
       "    .dataframe thead th {\n",
       "        text-align: right;\n",
       "    }\n",
       "</style>\n",
       "<table border=\"1\" class=\"dataframe\">\n",
       "  <thead>\n",
       "    <tr style=\"text-align: right;\">\n",
       "      <th></th>\n",
       "      <th>Shape</th>\n",
       "      <th>Class</th>\n",
       "      <th>Size</th>\n",
       "    </tr>\n",
       "  </thead>\n",
       "  <tbody>\n",
       "    <tr>\n",
       "      <th>0</th>\n",
       "      <td>square</td>\n",
       "      <td>third</td>\n",
       "      <td>S</td>\n",
       "    </tr>\n",
       "    <tr>\n",
       "      <th>1</th>\n",
       "      <td>square</td>\n",
       "      <td>first</td>\n",
       "      <td>S</td>\n",
       "    </tr>\n",
       "    <tr>\n",
       "      <th>2</th>\n",
       "      <td>oval</td>\n",
       "      <td>second</td>\n",
       "      <td>L</td>\n",
       "    </tr>\n",
       "    <tr>\n",
       "      <th>3</th>\n",
       "      <td>circle</td>\n",
       "      <td>third</td>\n",
       "      <td>XL</td>\n",
       "    </tr>\n",
       "  </tbody>\n",
       "</table>\n",
       "</div>"
      ],
      "text/plain": [
       "    Shape   Class Size\n",
       "0  square   third    S\n",
       "1  square   first    S\n",
       "2    oval  second    L\n",
       "3  circle   third   XL"
      ]
     },
     "execution_count": 49,
     "metadata": {},
     "output_type": "execute_result"
    }
   ],
   "source": [
    "X"
   ]
  },
  {
   "cell_type": "code",
   "execution_count": 50,
   "id": "unlike-cleaner",
   "metadata": {
    "ExecuteTime": {
     "end_time": "2021-10-13T19:37:20.243105Z",
     "start_time": "2021-10-13T19:37:20.238167Z"
    }
   },
   "outputs": [
    {
     "data": {
      "text/plain": [
       "(4,)"
      ]
     },
     "execution_count": 50,
     "metadata": {},
     "output_type": "execute_result"
    }
   ],
   "source": [
    "X[\"Shape\"].shape"
   ]
  },
  {
   "cell_type": "code",
   "execution_count": 51,
   "id": "laden-region",
   "metadata": {
    "ExecuteTime": {
     "end_time": "2021-10-13T19:37:20.249769Z",
     "start_time": "2021-10-13T19:37:20.244175Z"
    }
   },
   "outputs": [
    {
     "data": {
      "text/plain": [
       "(4, 1)"
      ]
     },
     "execution_count": 51,
     "metadata": {},
     "output_type": "execute_result"
    }
   ],
   "source": [
    "X[[\"Shape\"]].shape"
   ]
  },
  {
   "cell_type": "markdown",
   "id": "contemporary-video",
   "metadata": {},
   "source": [
    "### left-to-right column order is alphabetical (circle, oval, square)"
   ]
  },
  {
   "cell_type": "code",
   "execution_count": 52,
   "id": "residential-hartford",
   "metadata": {
    "ExecuteTime": {
     "end_time": "2021-10-13T19:37:20.413484Z",
     "start_time": "2021-10-13T19:37:20.407366Z"
    }
   },
   "outputs": [
    {
     "data": {
      "text/plain": [
       "array([[0., 0., 1.],\n",
       "       [0., 0., 1.],\n",
       "       [0., 1., 0.],\n",
       "       [1., 0., 0.]])"
      ]
     },
     "execution_count": 52,
     "metadata": {},
     "output_type": "execute_result"
    }
   ],
   "source": [
    "ohe = OneHotEncoder(sparse=False)\n",
    "ohe.fit_transform(X[[\"Shape\"]])"
   ]
  },
  {
   "cell_type": "code",
   "execution_count": 53,
   "id": "micro-channels",
   "metadata": {
    "ExecuteTime": {
     "end_time": "2021-10-13T19:37:20.421682Z",
     "start_time": "2021-10-13T19:37:20.415478Z"
    }
   },
   "outputs": [
    {
     "data": {
      "text/plain": [
       "[array(['circle', 'oval', 'square'], dtype=object)]"
      ]
     },
     "execution_count": 53,
     "metadata": {},
     "output_type": "execute_result"
    }
   ],
   "source": [
    "ohe.categories_"
   ]
  },
  {
   "cell_type": "markdown",
   "id": "respective-rogers",
   "metadata": {},
   "source": [
    "### category ordering (within each feature) "
   ]
  },
  {
   "cell_type": "code",
   "execution_count": 54,
   "id": "anticipated-spider",
   "metadata": {
    "ExecuteTime": {
     "end_time": "2021-10-13T19:37:20.595038Z",
     "start_time": "2021-10-13T19:37:20.588195Z"
    }
   },
   "outputs": [
    {
     "data": {
      "text/plain": [
       "array([[2., 0.],\n",
       "       [0., 0.],\n",
       "       [1., 2.],\n",
       "       [2., 3.]])"
      ]
     },
     "execution_count": 54,
     "metadata": {},
     "output_type": "execute_result"
    }
   ],
   "source": [
    "from sklearn.preprocessing import OrdinalEncoder\n",
    "\n",
    "oe = OrdinalEncoder(categories=[\n",
    "    [\"first\", \"second\", \"third\"],  # order of Class\n",
    "    [\"S\", \"M\", \"L\", \"XL\"]          # order of Size  \n",
    "])\n",
    "\n",
    "oe.fit_transform(X[[\"Class\", \"Size\"]])"
   ]
  },
  {
   "cell_type": "code",
   "execution_count": 55,
   "id": "selected-catalog",
   "metadata": {
    "ExecuteTime": {
     "end_time": "2021-10-13T19:37:20.603181Z",
     "start_time": "2021-10-13T19:37:20.596969Z"
    }
   },
   "outputs": [
    {
     "data": {
      "text/plain": [
       "[array(['first', 'second', 'third'], dtype=object),\n",
       " array(['S', 'M', 'L', 'XL'], dtype=object)]"
      ]
     },
     "execution_count": 55,
     "metadata": {},
     "output_type": "execute_result"
    }
   ],
   "source": [
    "oe.categories_"
   ]
  },
  {
   "cell_type": "markdown",
   "id": "extra-filter",
   "metadata": {},
   "source": [
    "## Handle unknown categories with OneHotEncoder by encoding them as zeros\n",
    "\n",
    "Q: For a [one-hot encoded feature](https://scikit-learn.org/stable/modules/preprocessing.html#encoding-categorical-features), what can you do if new data contains categories that weren't seen during training?\n",
    "\n",
    "A: Set handle_unknown='ignore' to encode new categories as all zeros.\n",
    "\n",
    "P.S. If you know all possible categories that might ever appear, you can instead specify the categories manually. handle_unknown='ignore' is useful specifically when you don't know all possible categories."
   ]
  },
  {
   "cell_type": "code",
   "execution_count": 56,
   "id": "passing-constitutional",
   "metadata": {
    "ExecuteTime": {
     "end_time": "2021-10-13T19:37:20.766482Z",
     "start_time": "2021-10-13T19:37:20.762680Z"
    }
   },
   "outputs": [],
   "source": [
    "X = pd.DataFrame({'col':['A', 'B', 'C', 'B']})\n",
    "X_new = pd.DataFrame({'col':['A', 'C', 'D']})"
   ]
  },
  {
   "cell_type": "code",
   "execution_count": 57,
   "id": "monthly-garbage",
   "metadata": {
    "ExecuteTime": {
     "end_time": "2021-10-13T19:37:20.774786Z",
     "start_time": "2021-10-13T19:37:20.770176Z"
    }
   },
   "outputs": [],
   "source": [
    "ohe = OneHotEncoder(sparse=False, handle_unknown=\"ignore\")\n",
    "#sparse : bool, default=True\n",
    "#    Will return sparse matrix if set True else will return an array.\n",
    "\n",
    "#handle_unknown : {'error', 'ignore'}, default='error'\n",
    "#    Whether to raise an error or ignore if an unknown categorical feature\n",
    "#    is present during transform (default is to raise). When this parameter\n",
    "#    is set to 'ignore' and an unknown category is encountered during\n",
    "#    transform, the resulting one-hot encoded columns for this feature\n",
    "#    will be all zeros. In the inverse transform, an unknown category\n",
    "#    will be denoted as None.\n"
   ]
  },
  {
   "cell_type": "code",
   "execution_count": 58,
   "id": "preliminary-little",
   "metadata": {
    "ExecuteTime": {
     "end_time": "2021-10-13T19:37:20.783949Z",
     "start_time": "2021-10-13T19:37:20.776425Z"
    }
   },
   "outputs": [
    {
     "data": {
      "text/html": [
       "<div>\n",
       "<style scoped>\n",
       "    .dataframe tbody tr th:only-of-type {\n",
       "        vertical-align: middle;\n",
       "    }\n",
       "\n",
       "    .dataframe tbody tr th {\n",
       "        vertical-align: top;\n",
       "    }\n",
       "\n",
       "    .dataframe thead th {\n",
       "        text-align: right;\n",
       "    }\n",
       "</style>\n",
       "<table border=\"1\" class=\"dataframe\">\n",
       "  <thead>\n",
       "    <tr style=\"text-align: right;\">\n",
       "      <th></th>\n",
       "      <th>col</th>\n",
       "    </tr>\n",
       "  </thead>\n",
       "  <tbody>\n",
       "    <tr>\n",
       "      <th>0</th>\n",
       "      <td>A</td>\n",
       "    </tr>\n",
       "    <tr>\n",
       "      <th>1</th>\n",
       "      <td>B</td>\n",
       "    </tr>\n",
       "    <tr>\n",
       "      <th>2</th>\n",
       "      <td>C</td>\n",
       "    </tr>\n",
       "    <tr>\n",
       "      <th>3</th>\n",
       "      <td>B</td>\n",
       "    </tr>\n",
       "  </tbody>\n",
       "</table>\n",
       "</div>"
      ],
      "text/plain": [
       "  col\n",
       "0   A\n",
       "1   B\n",
       "2   C\n",
       "3   B"
      ]
     },
     "execution_count": 58,
     "metadata": {},
     "output_type": "execute_result"
    }
   ],
   "source": [
    "X"
   ]
  },
  {
   "cell_type": "code",
   "execution_count": 59,
   "id": "functional-bottle",
   "metadata": {
    "ExecuteTime": {
     "end_time": "2021-10-13T19:37:20.792914Z",
     "start_time": "2021-10-13T19:37:20.785890Z"
    }
   },
   "outputs": [
    {
     "data": {
      "text/html": [
       "<div>\n",
       "<style scoped>\n",
       "    .dataframe tbody tr th:only-of-type {\n",
       "        vertical-align: middle;\n",
       "    }\n",
       "\n",
       "    .dataframe tbody tr th {\n",
       "        vertical-align: top;\n",
       "    }\n",
       "\n",
       "    .dataframe thead th {\n",
       "        text-align: right;\n",
       "    }\n",
       "</style>\n",
       "<table border=\"1\" class=\"dataframe\">\n",
       "  <thead>\n",
       "    <tr style=\"text-align: right;\">\n",
       "      <th></th>\n",
       "      <th>col</th>\n",
       "    </tr>\n",
       "  </thead>\n",
       "  <tbody>\n",
       "    <tr>\n",
       "      <th>0</th>\n",
       "      <td>A</td>\n",
       "    </tr>\n",
       "    <tr>\n",
       "      <th>1</th>\n",
       "      <td>C</td>\n",
       "    </tr>\n",
       "    <tr>\n",
       "      <th>2</th>\n",
       "      <td>D</td>\n",
       "    </tr>\n",
       "  </tbody>\n",
       "</table>\n",
       "</div>"
      ],
      "text/plain": [
       "  col\n",
       "0   A\n",
       "1   C\n",
       "2   D"
      ]
     },
     "execution_count": 59,
     "metadata": {},
     "output_type": "execute_result"
    }
   ],
   "source": [
    "X_new"
   ]
  },
  {
   "cell_type": "code",
   "execution_count": 60,
   "id": "pacific-renaissance",
   "metadata": {
    "ExecuteTime": {
     "end_time": "2021-10-13T19:37:20.801165Z",
     "start_time": "2021-10-13T19:37:20.794994Z"
    }
   },
   "outputs": [
    {
     "data": {
      "text/plain": [
       "array([[1., 0., 0.],\n",
       "       [0., 1., 0.],\n",
       "       [0., 0., 1.],\n",
       "       [0., 1., 0.]])"
      ]
     },
     "execution_count": 60,
     "metadata": {},
     "output_type": "execute_result"
    }
   ],
   "source": [
    "# three columns represent categories A, B, and C\n",
    "ohe.fit_transform(X[[\"col\"]])"
   ]
  },
  {
   "cell_type": "code",
   "execution_count": 61,
   "id": "broke-morning",
   "metadata": {
    "ExecuteTime": {
     "end_time": "2021-10-13T19:37:20.808581Z",
     "start_time": "2021-10-13T19:37:20.802518Z"
    }
   },
   "outputs": [
    {
     "data": {
      "text/plain": [
       "array([[1., 0., 0.],\n",
       "       [0., 0., 1.],\n",
       "       [0., 0., 0.]])"
      ]
     },
     "execution_count": 61,
     "metadata": {},
     "output_type": "execute_result"
    }
   ],
   "source": [
    "# category D was not learned by OneHotEncoder during the \"fit\" step\n",
    "# category D is encoded as all zeros\n",
    "ohe.transform(X_new)"
   ]
  },
  {
   "cell_type": "markdown",
   "id": "0c58d10c",
   "metadata": {},
   "source": [
    "## Three reasons not to use drop='first' with OneHotEncoder\n",
    "\n",
    "In most cases, I recommend that you don't use drop='first' with OneHotEncoder. Here's why:\n",
    "\n",
    "+ Multicollinearity is rarely an issue with scikit-learn models\n",
    "+ drop='first' is incompatible with handle_unknown='ignore'\n",
    "+ May be problematic if you standardize all features or use a regularized model\n",
    "\n",
    "\n",
    "Note: Beginning in scikit-learn 1.0, drop='first' and handle_unknown='ignore' can be used together. However, the dropped category and an unknown category will both be encoded as all zeros. "
   ]
  },
  {
   "cell_type": "markdown",
   "id": "f1b0c4a0",
   "metadata": {},
   "source": [
    "## Drop the first category from binary features (only) with OneHotEncoder\n",
    "\n",
    "New in version 0.23: Use drop='if_binary' with OneHotEncoder to drop the first category ONLY if it's a binary feature (meaning it has exactly two categories).\n",
    "\n",
    "Note: Beginning in scikit-learn 1.0, drop='first' and drop='if_binary' can both be used with handle_unknown='ignore'. However, the dropped category and an unknown category will both be encoded as all zeros."
   ]
  },
  {
   "cell_type": "code",
   "execution_count": 62,
   "id": "equipped-bidder",
   "metadata": {
    "ExecuteTime": {
     "end_time": "2021-10-13T19:37:21.162237Z",
     "start_time": "2021-10-13T19:37:21.159123Z"
    }
   },
   "outputs": [],
   "source": [
    "import pandas as pd\n",
    "X = pd.DataFrame({'Shape':['circle', 'oval', 'square', 'square'],\n",
    "                  'Color': ['pink', 'yellow', 'pink', 'yellow']})"
   ]
  },
  {
   "cell_type": "code",
   "execution_count": 63,
   "id": "million-medicaid",
   "metadata": {
    "ExecuteTime": {
     "end_time": "2021-10-13T19:37:21.174346Z",
     "start_time": "2021-10-13T19:37:21.165335Z"
    }
   },
   "outputs": [
    {
     "data": {
      "text/html": [
       "<div>\n",
       "<style scoped>\n",
       "    .dataframe tbody tr th:only-of-type {\n",
       "        vertical-align: middle;\n",
       "    }\n",
       "\n",
       "    .dataframe tbody tr th {\n",
       "        vertical-align: top;\n",
       "    }\n",
       "\n",
       "    .dataframe thead th {\n",
       "        text-align: right;\n",
       "    }\n",
       "</style>\n",
       "<table border=\"1\" class=\"dataframe\">\n",
       "  <thead>\n",
       "    <tr style=\"text-align: right;\">\n",
       "      <th></th>\n",
       "      <th>Shape</th>\n",
       "      <th>Color</th>\n",
       "    </tr>\n",
       "  </thead>\n",
       "  <tbody>\n",
       "    <tr>\n",
       "      <th>0</th>\n",
       "      <td>circle</td>\n",
       "      <td>pink</td>\n",
       "    </tr>\n",
       "    <tr>\n",
       "      <th>1</th>\n",
       "      <td>oval</td>\n",
       "      <td>yellow</td>\n",
       "    </tr>\n",
       "    <tr>\n",
       "      <th>2</th>\n",
       "      <td>square</td>\n",
       "      <td>pink</td>\n",
       "    </tr>\n",
       "    <tr>\n",
       "      <th>3</th>\n",
       "      <td>square</td>\n",
       "      <td>yellow</td>\n",
       "    </tr>\n",
       "  </tbody>\n",
       "</table>\n",
       "</div>"
      ],
      "text/plain": [
       "    Shape   Color\n",
       "0  circle    pink\n",
       "1    oval  yellow\n",
       "2  square    pink\n",
       "3  square  yellow"
      ]
     },
     "execution_count": 63,
     "metadata": {},
     "output_type": "execute_result"
    }
   ],
   "source": [
    "# Shape has 3 categories, Color has 2 categories\n",
    "X"
   ]
  },
  {
   "cell_type": "code",
   "execution_count": 64,
   "id": "9d1f3aaf",
   "metadata": {
    "ExecuteTime": {
     "end_time": "2021-10-13T19:37:21.181852Z",
     "start_time": "2021-10-13T19:37:21.176291Z"
    }
   },
   "outputs": [
    {
     "data": {
      "text/plain": [
       "array([[1., 0., 0., 1., 0.],\n",
       "       [0., 1., 0., 0., 1.],\n",
       "       [0., 0., 1., 1., 0.],\n",
       "       [0., 0., 1., 0., 1.]])"
      ]
     },
     "execution_count": 64,
     "metadata": {},
     "output_type": "execute_result"
    }
   ],
   "source": [
    "# drop=None (default) creates one feature column per category\n",
    "ohe = OneHotEncoder(sparse=False, drop=None)\n",
    "ohe.fit_transform(X)"
   ]
  },
  {
   "cell_type": "code",
   "execution_count": 65,
   "id": "718dd8a9",
   "metadata": {
    "ExecuteTime": {
     "end_time": "2021-10-13T19:37:21.189271Z",
     "start_time": "2021-10-13T19:37:21.182989Z"
    }
   },
   "outputs": [
    {
     "data": {
      "text/plain": [
       "array([[1., 0., 0., 0.],\n",
       "       [0., 1., 0., 1.],\n",
       "       [0., 0., 1., 0.],\n",
       "       [0., 0., 1., 1.]])"
      ]
     },
     "execution_count": 65,
     "metadata": {},
     "output_type": "execute_result"
    }
   ],
   "source": [
    "# drop='if_binary' drops the first category of binary features\n",
    "ohe = OneHotEncoder(sparse=False, drop=\"if_binary\")\n",
    "ohe.fit_transform(X)"
   ]
  },
  {
   "cell_type": "markdown",
   "id": "f0ff68c0",
   "metadata": {},
   "source": [
    "## Use OrdinalEncoder instead of OneHotEncoder with tree-based models\n",
    "\n",
    "With a [tree-based model](https://scikit-learn.org/stable/modules/tree.html), try [OrdinalEncoder](https://scikit-learn.org/stable/modules/generated/sklearn.preprocessing.OrdinalEncoder.html) instead of [OneHotEncoder](https://scikit-learn.org/stable/modules/generated/sklearn.preprocessing.OneHotEncoder.html) even for nominal (unordered) features.\n",
    "\n",
    "Accuracy will often be similar, but OrdinalEncoder will be much faster!\n",
    "\n",
    "Additional links: [Random Forests](https://scikit-learn.org/stable/modules/ensemble.html#forests-of-randomized-trees)"
   ]
  },
  {
   "cell_type": "code",
   "execution_count": 66,
   "id": "elect-yesterday",
   "metadata": {
    "ExecuteTime": {
     "end_time": "2021-10-13T19:37:21.446711Z",
     "start_time": "2021-10-13T19:37:21.368343Z"
    }
   },
   "outputs": [],
   "source": [
    "file_input_path = \"adult-census.csv\"\n",
    "if not os.path.exists(file_input_path):\n",
    "    df = pd.read_csv('https://www.openml.org/data/get_csv/1595261/adult-census.csv')\n",
    "    df.to_csv(file_input_path, header=True, index=False, sep=\"\\t\")\n",
    "else:\n",
    "    df = pd.read_csv(file_input_path, header=0, sep=\"\\t\")"
   ]
  },
  {
   "cell_type": "code",
   "execution_count": 67,
   "id": "superior-cassette",
   "metadata": {
    "ExecuteTime": {
     "end_time": "2021-10-13T19:37:21.476122Z",
     "start_time": "2021-10-13T19:37:21.448361Z"
    }
   },
   "outputs": [
    {
     "name": "stdout",
     "output_type": "stream",
     "text": [
      "<class 'pandas.core.frame.DataFrame'>\n",
      "RangeIndex: 48842 entries, 0 to 48841\n",
      "Data columns (total 15 columns):\n",
      " #   Column          Non-Null Count  Dtype \n",
      "---  ------          --------------  ----- \n",
      " 0   age             48842 non-null  int64 \n",
      " 1   workclass       48842 non-null  object\n",
      " 2   fnlwgt          48842 non-null  int64 \n",
      " 3   education       48842 non-null  object\n",
      " 4   education-num   48842 non-null  int64 \n",
      " 5   marital-status  48842 non-null  object\n",
      " 6   occupation      48842 non-null  object\n",
      " 7   relationship    48842 non-null  object\n",
      " 8   race            48842 non-null  object\n",
      " 9   sex             48842 non-null  object\n",
      " 10  capital-gain    48842 non-null  int64 \n",
      " 11  capital-loss    48842 non-null  int64 \n",
      " 12  hours-per-week  48842 non-null  int64 \n",
      " 13  native-country  48842 non-null  object\n",
      " 14  class           48842 non-null  object\n",
      "dtypes: int64(6), object(9)\n",
      "memory usage: 5.6+ MB\n"
     ]
    }
   ],
   "source": [
    "df.info()"
   ]
  },
  {
   "cell_type": "code",
   "execution_count": 68,
   "id": "beginning-estate",
   "metadata": {
    "ExecuteTime": {
     "end_time": "2021-10-13T19:37:21.509845Z",
     "start_time": "2021-10-13T19:37:21.477667Z"
    }
   },
   "outputs": [
    {
     "data": {
      "text/html": [
       "<div>\n",
       "<style scoped>\n",
       "    .dataframe tbody tr th:only-of-type {\n",
       "        vertical-align: middle;\n",
       "    }\n",
       "\n",
       "    .dataframe tbody tr th {\n",
       "        vertical-align: top;\n",
       "    }\n",
       "\n",
       "    .dataframe thead th {\n",
       "        text-align: right;\n",
       "    }\n",
       "</style>\n",
       "<table border=\"1\" class=\"dataframe\">\n",
       "  <thead>\n",
       "    <tr style=\"text-align: right;\">\n",
       "      <th></th>\n",
       "      <th>age</th>\n",
       "      <th>fnlwgt</th>\n",
       "      <th>education-num</th>\n",
       "      <th>capital-gain</th>\n",
       "      <th>capital-loss</th>\n",
       "      <th>hours-per-week</th>\n",
       "    </tr>\n",
       "  </thead>\n",
       "  <tbody>\n",
       "    <tr>\n",
       "      <th>count</th>\n",
       "      <td>48842.000000</td>\n",
       "      <td>4.884200e+04</td>\n",
       "      <td>48842.000000</td>\n",
       "      <td>48842.000000</td>\n",
       "      <td>48842.000000</td>\n",
       "      <td>48842.000000</td>\n",
       "    </tr>\n",
       "    <tr>\n",
       "      <th>mean</th>\n",
       "      <td>38.643585</td>\n",
       "      <td>1.896641e+05</td>\n",
       "      <td>10.078089</td>\n",
       "      <td>1079.067626</td>\n",
       "      <td>87.502314</td>\n",
       "      <td>40.422382</td>\n",
       "    </tr>\n",
       "    <tr>\n",
       "      <th>std</th>\n",
       "      <td>13.710510</td>\n",
       "      <td>1.056040e+05</td>\n",
       "      <td>2.570973</td>\n",
       "      <td>7452.019058</td>\n",
       "      <td>403.004552</td>\n",
       "      <td>12.391444</td>\n",
       "    </tr>\n",
       "    <tr>\n",
       "      <th>min</th>\n",
       "      <td>17.000000</td>\n",
       "      <td>1.228500e+04</td>\n",
       "      <td>1.000000</td>\n",
       "      <td>0.000000</td>\n",
       "      <td>0.000000</td>\n",
       "      <td>1.000000</td>\n",
       "    </tr>\n",
       "    <tr>\n",
       "      <th>25%</th>\n",
       "      <td>28.000000</td>\n",
       "      <td>1.175505e+05</td>\n",
       "      <td>9.000000</td>\n",
       "      <td>0.000000</td>\n",
       "      <td>0.000000</td>\n",
       "      <td>40.000000</td>\n",
       "    </tr>\n",
       "    <tr>\n",
       "      <th>50%</th>\n",
       "      <td>37.000000</td>\n",
       "      <td>1.781445e+05</td>\n",
       "      <td>10.000000</td>\n",
       "      <td>0.000000</td>\n",
       "      <td>0.000000</td>\n",
       "      <td>40.000000</td>\n",
       "    </tr>\n",
       "    <tr>\n",
       "      <th>75%</th>\n",
       "      <td>48.000000</td>\n",
       "      <td>2.376420e+05</td>\n",
       "      <td>12.000000</td>\n",
       "      <td>0.000000</td>\n",
       "      <td>0.000000</td>\n",
       "      <td>45.000000</td>\n",
       "    </tr>\n",
       "    <tr>\n",
       "      <th>max</th>\n",
       "      <td>90.000000</td>\n",
       "      <td>1.490400e+06</td>\n",
       "      <td>16.000000</td>\n",
       "      <td>99999.000000</td>\n",
       "      <td>4356.000000</td>\n",
       "      <td>99.000000</td>\n",
       "    </tr>\n",
       "  </tbody>\n",
       "</table>\n",
       "</div>"
      ],
      "text/plain": [
       "                age        fnlwgt  education-num  capital-gain  capital-loss  \\\n",
       "count  48842.000000  4.884200e+04   48842.000000  48842.000000  48842.000000   \n",
       "mean      38.643585  1.896641e+05      10.078089   1079.067626     87.502314   \n",
       "std       13.710510  1.056040e+05       2.570973   7452.019058    403.004552   \n",
       "min       17.000000  1.228500e+04       1.000000      0.000000      0.000000   \n",
       "25%       28.000000  1.175505e+05       9.000000      0.000000      0.000000   \n",
       "50%       37.000000  1.781445e+05      10.000000      0.000000      0.000000   \n",
       "75%       48.000000  2.376420e+05      12.000000      0.000000      0.000000   \n",
       "max       90.000000  1.490400e+06      16.000000  99999.000000   4356.000000   \n",
       "\n",
       "       hours-per-week  \n",
       "count    48842.000000  \n",
       "mean        40.422382  \n",
       "std         12.391444  \n",
       "min          1.000000  \n",
       "25%         40.000000  \n",
       "50%         40.000000  \n",
       "75%         45.000000  \n",
       "max         99.000000  "
      ]
     },
     "execution_count": 68,
     "metadata": {},
     "output_type": "execute_result"
    }
   ],
   "source": [
    "df.describe()"
   ]
  },
  {
   "cell_type": "code",
   "execution_count": 69,
   "id": "79f6b39e",
   "metadata": {
    "ExecuteTime": {
     "end_time": "2021-10-13T19:37:21.524912Z",
     "start_time": "2021-10-13T19:37:21.512263Z"
    }
   },
   "outputs": [
    {
     "data": {
      "text/html": [
       "<div>\n",
       "<style scoped>\n",
       "    .dataframe tbody tr th:only-of-type {\n",
       "        vertical-align: middle;\n",
       "    }\n",
       "\n",
       "    .dataframe tbody tr th {\n",
       "        vertical-align: top;\n",
       "    }\n",
       "\n",
       "    .dataframe thead th {\n",
       "        text-align: right;\n",
       "    }\n",
       "</style>\n",
       "<table border=\"1\" class=\"dataframe\">\n",
       "  <thead>\n",
       "    <tr style=\"text-align: right;\">\n",
       "      <th></th>\n",
       "      <th>age</th>\n",
       "      <th>workclass</th>\n",
       "      <th>fnlwgt</th>\n",
       "      <th>education</th>\n",
       "      <th>education-num</th>\n",
       "      <th>marital-status</th>\n",
       "      <th>occupation</th>\n",
       "      <th>relationship</th>\n",
       "      <th>race</th>\n",
       "      <th>sex</th>\n",
       "      <th>capital-gain</th>\n",
       "      <th>capital-loss</th>\n",
       "      <th>hours-per-week</th>\n",
       "      <th>native-country</th>\n",
       "      <th>class</th>\n",
       "    </tr>\n",
       "  </thead>\n",
       "  <tbody>\n",
       "    <tr>\n",
       "      <th>0</th>\n",
       "      <td>25</td>\n",
       "      <td>Private</td>\n",
       "      <td>226802</td>\n",
       "      <td>11th</td>\n",
       "      <td>7</td>\n",
       "      <td>Never-married</td>\n",
       "      <td>Machine-op-inspct</td>\n",
       "      <td>Own-child</td>\n",
       "      <td>Black</td>\n",
       "      <td>Male</td>\n",
       "      <td>0</td>\n",
       "      <td>0</td>\n",
       "      <td>40</td>\n",
       "      <td>United-States</td>\n",
       "      <td>&lt;=50K</td>\n",
       "    </tr>\n",
       "    <tr>\n",
       "      <th>1</th>\n",
       "      <td>38</td>\n",
       "      <td>Private</td>\n",
       "      <td>89814</td>\n",
       "      <td>HS-grad</td>\n",
       "      <td>9</td>\n",
       "      <td>Married-civ-spouse</td>\n",
       "      <td>Farming-fishing</td>\n",
       "      <td>Husband</td>\n",
       "      <td>White</td>\n",
       "      <td>Male</td>\n",
       "      <td>0</td>\n",
       "      <td>0</td>\n",
       "      <td>50</td>\n",
       "      <td>United-States</td>\n",
       "      <td>&lt;=50K</td>\n",
       "    </tr>\n",
       "  </tbody>\n",
       "</table>\n",
       "</div>"
      ],
      "text/plain": [
       "   age workclass  fnlwgt education  education-num       marital-status  \\\n",
       "0   25   Private  226802      11th              7        Never-married   \n",
       "1   38   Private   89814   HS-grad              9   Married-civ-spouse   \n",
       "\n",
       "           occupation relationship    race    sex  capital-gain  capital-loss  \\\n",
       "0   Machine-op-inspct    Own-child   Black   Male             0             0   \n",
       "1     Farming-fishing      Husband   White   Male             0             0   \n",
       "\n",
       "   hours-per-week  native-country   class  \n",
       "0              40   United-States   <=50K  \n",
       "1              50   United-States   <=50K  "
      ]
     },
     "execution_count": 69,
     "metadata": {},
     "output_type": "execute_result"
    }
   ],
   "source": [
    "df.head(2)"
   ]
  },
  {
   "cell_type": "code",
   "execution_count": 70,
   "id": "e8794709",
   "metadata": {
    "ExecuteTime": {
     "end_time": "2021-10-13T19:37:21.529361Z",
     "start_time": "2021-10-13T19:37:21.526132Z"
    }
   },
   "outputs": [],
   "source": [
    "categorical_cols = ['workclass', 'education', 'marital-status',\n",
    "                    'occupation', 'relationship', 'race', 'sex']"
   ]
  },
  {
   "cell_type": "code",
   "execution_count": 71,
   "id": "a089de37",
   "metadata": {
    "ExecuteTime": {
     "end_time": "2021-10-13T19:37:21.546051Z",
     "start_time": "2021-10-13T19:37:21.530499Z"
    }
   },
   "outputs": [],
   "source": [
    "from sklearn.preprocessing import OneHotEncoder, OrdinalEncoder\n",
    "from sklearn.pipeline import make_pipeline\n",
    "from sklearn.ensemble import RandomForestClassifier\n",
    "from sklearn.model_selection import cross_val_score"
   ]
  },
  {
   "cell_type": "code",
   "execution_count": 72,
   "id": "2353d8c9",
   "metadata": {
    "ExecuteTime": {
     "end_time": "2021-10-13T19:37:21.553529Z",
     "start_time": "2021-10-13T19:37:21.547377Z"
    }
   },
   "outputs": [],
   "source": [
    "X = df[categorical_cols]\n",
    "y = df[\"class\"]"
   ]
  },
  {
   "cell_type": "code",
   "execution_count": 73,
   "id": "41ec2e11",
   "metadata": {
    "ExecuteTime": {
     "end_time": "2021-10-13T19:37:21.559549Z",
     "start_time": "2021-10-13T19:37:21.554846Z"
    }
   },
   "outputs": [
    {
     "data": {
      "text/plain": [
       "Index(['workclass', 'education', 'marital-status', 'occupation',\n",
       "       'relationship', 'race', 'sex'],\n",
       "      dtype='object')"
      ]
     },
     "execution_count": 73,
     "metadata": {},
     "output_type": "execute_result"
    }
   ],
   "source": [
    "X.columns"
   ]
  },
  {
   "cell_type": "code",
   "execution_count": 74,
   "id": "98c66252",
   "metadata": {
    "ExecuteTime": {
     "end_time": "2021-10-13T19:37:21.571479Z",
     "start_time": "2021-10-13T19:37:21.560703Z"
    }
   },
   "outputs": [
    {
     "data": {
      "text/html": [
       "<div>\n",
       "<style scoped>\n",
       "    .dataframe tbody tr th:only-of-type {\n",
       "        vertical-align: middle;\n",
       "    }\n",
       "\n",
       "    .dataframe tbody tr th {\n",
       "        vertical-align: top;\n",
       "    }\n",
       "\n",
       "    .dataframe thead th {\n",
       "        text-align: right;\n",
       "    }\n",
       "</style>\n",
       "<table border=\"1\" class=\"dataframe\">\n",
       "  <thead>\n",
       "    <tr style=\"text-align: right;\">\n",
       "      <th></th>\n",
       "      <th>workclass</th>\n",
       "      <th>education</th>\n",
       "      <th>marital-status</th>\n",
       "      <th>occupation</th>\n",
       "      <th>relationship</th>\n",
       "      <th>race</th>\n",
       "      <th>sex</th>\n",
       "    </tr>\n",
       "  </thead>\n",
       "  <tbody>\n",
       "    <tr>\n",
       "      <th>0</th>\n",
       "      <td>Private</td>\n",
       "      <td>11th</td>\n",
       "      <td>Never-married</td>\n",
       "      <td>Machine-op-inspct</td>\n",
       "      <td>Own-child</td>\n",
       "      <td>Black</td>\n",
       "      <td>Male</td>\n",
       "    </tr>\n",
       "    <tr>\n",
       "      <th>1</th>\n",
       "      <td>Private</td>\n",
       "      <td>HS-grad</td>\n",
       "      <td>Married-civ-spouse</td>\n",
       "      <td>Farming-fishing</td>\n",
       "      <td>Husband</td>\n",
       "      <td>White</td>\n",
       "      <td>Male</td>\n",
       "    </tr>\n",
       "  </tbody>\n",
       "</table>\n",
       "</div>"
      ],
      "text/plain": [
       "  workclass education       marital-status          occupation relationship  \\\n",
       "0   Private      11th        Never-married   Machine-op-inspct    Own-child   \n",
       "1   Private   HS-grad   Married-civ-spouse     Farming-fishing      Husband   \n",
       "\n",
       "     race    sex  \n",
       "0   Black   Male  \n",
       "1   White   Male  "
      ]
     },
     "execution_count": 74,
     "metadata": {},
     "output_type": "execute_result"
    }
   ],
   "source": [
    "X.head(2)"
   ]
  },
  {
   "cell_type": "code",
   "execution_count": 75,
   "id": "100f27ed",
   "metadata": {
    "ExecuteTime": {
     "end_time": "2021-10-13T19:37:21.578078Z",
     "start_time": "2021-10-13T19:37:21.573230Z"
    }
   },
   "outputs": [
    {
     "data": {
      "text/plain": [
       "0     <=50K\n",
       "1     <=50K\n",
       "Name: class, dtype: object"
      ]
     },
     "execution_count": 75,
     "metadata": {},
     "output_type": "execute_result"
    }
   ],
   "source": [
    "y.head(2)"
   ]
  },
  {
   "cell_type": "markdown",
   "id": "a6899725",
   "metadata": {},
   "source": [
    "### Comparasion between OneHotEncoder and OrdinalEncoder"
   ]
  },
  {
   "cell_type": "code",
   "execution_count": 76,
   "id": "a8572aff",
   "metadata": {
    "ExecuteTime": {
     "end_time": "2021-10-13T19:37:21.635156Z",
     "start_time": "2021-10-13T19:37:21.631822Z"
    }
   },
   "outputs": [
    {
     "name": "stdout",
     "output_type": "stream",
     "text": [
      "Number of columns in X: 7\n"
     ]
    }
   ],
   "source": [
    "print(f\"Number of columns in X: {len(X.columns)}\")"
   ]
  },
  {
   "cell_type": "code",
   "execution_count": 77,
   "id": "016bcf54",
   "metadata": {
    "ExecuteTime": {
     "end_time": "2021-10-13T19:37:21.722575Z",
     "start_time": "2021-10-13T19:37:21.638334Z"
    }
   },
   "outputs": [
    {
     "data": {
      "text/plain": [
       "(48842, 60)"
      ]
     },
     "execution_count": 77,
     "metadata": {},
     "output_type": "execute_result"
    }
   ],
   "source": [
    "ohe = OneHotEncoder(sparse=False)\n",
    "ohe.fit_transform(X).shape"
   ]
  },
  {
   "cell_type": "code",
   "execution_count": 78,
   "id": "128b00a0",
   "metadata": {
    "ExecuteTime": {
     "end_time": "2021-10-13T19:37:21.805810Z",
     "start_time": "2021-10-13T19:37:21.724247Z"
    }
   },
   "outputs": [
    {
     "data": {
      "text/plain": [
       "array([[0., 0., 0., ..., 0., 0., 1.],\n",
       "       [0., 0., 0., ..., 1., 0., 1.],\n",
       "       [0., 0., 1., ..., 1., 0., 1.],\n",
       "       ...,\n",
       "       [0., 0., 0., ..., 1., 1., 0.],\n",
       "       [0., 0., 0., ..., 1., 0., 1.],\n",
       "       [0., 0., 0., ..., 1., 1., 0.]])"
      ]
     },
     "execution_count": 78,
     "metadata": {},
     "output_type": "execute_result"
    }
   ],
   "source": [
    "ohe.fit_transform(X)"
   ]
  },
  {
   "cell_type": "code",
   "execution_count": 79,
   "id": "ae4e26cc",
   "metadata": {
    "ExecuteTime": {
     "end_time": "2021-10-13T19:37:21.878532Z",
     "start_time": "2021-10-13T19:37:21.807066Z"
    }
   },
   "outputs": [
    {
     "data": {
      "text/plain": [
       "(48842, 7)"
      ]
     },
     "execution_count": 79,
     "metadata": {},
     "output_type": "execute_result"
    }
   ],
   "source": [
    "oe = OrdinalEncoder()\n",
    "oe.fit_transform(X).shape"
   ]
  },
  {
   "cell_type": "code",
   "execution_count": 80,
   "id": "1de94039",
   "metadata": {
    "ExecuteTime": {
     "end_time": "2021-10-13T19:37:21.951930Z",
     "start_time": "2021-10-13T19:37:21.880269Z"
    }
   },
   "outputs": [
    {
     "data": {
      "text/plain": [
       "array([[ 4.,  1.,  4., ...,  3.,  2.,  1.],\n",
       "       [ 4., 11.,  2., ...,  0.,  4.,  1.],\n",
       "       [ 2.,  7.,  2., ...,  0.,  4.,  1.],\n",
       "       ...,\n",
       "       [ 4., 11.,  6., ...,  4.,  4.,  0.],\n",
       "       [ 4., 11.,  4., ...,  3.,  4.,  1.],\n",
       "       [ 5., 11.,  2., ...,  5.,  4.,  0.]])"
      ]
     },
     "execution_count": 80,
     "metadata": {},
     "output_type": "execute_result"
    }
   ],
   "source": [
    "oe.fit_transform(X)"
   ]
  },
  {
   "cell_type": "markdown",
   "id": "4f7eb773",
   "metadata": {},
   "source": [
    "### Classifier"
   ]
  },
  {
   "cell_type": "code",
   "execution_count": 81,
   "id": "dcf9fb5e",
   "metadata": {
    "ExecuteTime": {
     "end_time": "2021-10-13T19:37:21.955794Z",
     "start_time": "2021-10-13T19:37:21.953438Z"
    }
   },
   "outputs": [],
   "source": [
    "rf = RandomForestClassifier(random_state=1, n_jobs=-1)"
   ]
  },
  {
   "cell_type": "code",
   "execution_count": 82,
   "id": "5450fc3c",
   "metadata": {
    "ExecuteTime": {
     "end_time": "2021-10-13T19:37:28.655398Z",
     "start_time": "2021-10-13T19:37:21.956933Z"
    }
   },
   "outputs": [
    {
     "name": "stdout",
     "output_type": "stream",
     "text": [
      "CPU times: user 3.13 s, sys: 394 ms, total: 3.52 s\n",
      "Wall time: 6.69 s\n"
     ]
    },
    {
     "data": {
      "text/plain": [
       "0.8262561170407418"
      ]
     },
     "execution_count": 82,
     "metadata": {},
     "output_type": "execute_result"
    }
   ],
   "source": [
    "# Pipeline containing OneHotEncoder\n",
    "ohe_pipe = make_pipeline(\n",
    "    ohe,\n",
    "    rf\n",
    ")\n",
    "%time cross_val_score(ohe_pipe, X, y).mean()"
   ]
  },
  {
   "cell_type": "code",
   "execution_count": 83,
   "id": "aff2f730",
   "metadata": {
    "ExecuteTime": {
     "end_time": "2021-10-13T19:37:32.027574Z",
     "start_time": "2021-10-13T19:37:28.658106Z"
    }
   },
   "outputs": [
    {
     "name": "stdout",
     "output_type": "stream",
     "text": [
      "CPU times: user 2.73 s, sys: 176 ms, total: 2.9 s\n",
      "Wall time: 3.36 s\n"
     ]
    },
    {
     "data": {
      "text/plain": [
       "0.8256623624061437"
      ]
     },
     "execution_count": 83,
     "metadata": {},
     "output_type": "execute_result"
    }
   ],
   "source": [
    "# Pipeline containing OrdinalEncoder\n",
    "oe_pipe = make_pipeline(\n",
    "    oe,\n",
    "    rf\n",
    ")\n",
    "%time cross_val_score(oe_pipe, X, y).mean()"
   ]
  },
  {
   "cell_type": "code",
   "execution_count": null,
   "id": "2c2ee74e",
   "metadata": {},
   "outputs": [],
   "source": []
  },
  {
   "cell_type": "code",
   "execution_count": null,
   "id": "2f855dab",
   "metadata": {},
   "outputs": [],
   "source": []
  },
  {
   "cell_type": "code",
   "execution_count": null,
   "id": "8ace0241",
   "metadata": {},
   "outputs": [],
   "source": []
  },
  {
   "cell_type": "code",
   "execution_count": null,
   "id": "f42cf4b7",
   "metadata": {},
   "outputs": [],
   "source": []
  },
  {
   "cell_type": "code",
   "execution_count": null,
   "id": "a7afb861",
   "metadata": {},
   "outputs": [],
   "source": []
  },
  {
   "cell_type": "code",
   "execution_count": null,
   "id": "0861fe87",
   "metadata": {},
   "outputs": [],
   "source": []
  },
  {
   "cell_type": "code",
   "execution_count": null,
   "id": "ed51c528",
   "metadata": {},
   "outputs": [],
   "source": []
  },
  {
   "cell_type": "code",
   "execution_count": null,
   "id": "czech-board",
   "metadata": {},
   "outputs": [],
   "source": []
  },
  {
   "cell_type": "code",
   "execution_count": null,
   "id": "opening-christianity",
   "metadata": {},
   "outputs": [],
   "source": []
  }
 ],
 "metadata": {
  "kernelspec": {
   "display_name": "Python 3 (ipykernel)",
   "language": "python",
   "name": "python3"
  },
  "language_info": {
   "codemirror_mode": {
    "name": "ipython",
    "version": 3
   },
   "file_extension": ".py",
   "mimetype": "text/x-python",
   "name": "python",
   "nbconvert_exporter": "python",
   "pygments_lexer": "ipython3",
   "version": "3.8.10"
  },
  "latex_envs": {
   "LaTeX_envs_menu_present": true,
   "autoclose": false,
   "autocomplete": true,
   "bibliofile": "biblio.bib",
   "cite_by": "apalike",
   "current_citInitial": 1,
   "eqLabelWithNumbers": true,
   "eqNumInitial": 1,
   "hotkeys": {
    "equation": "Ctrl-E",
    "itemize": "Ctrl-I"
   },
   "labels_anchors": false,
   "latex_user_defs": false,
   "report_style_numbering": false,
   "user_envs_cfg": false
  },
  "toc": {
   "base_numbering": 1,
   "nav_menu": {},
   "number_sections": true,
   "sideBar": true,
   "skip_h1_title": false,
   "title_cell": "Table of Contents",
   "title_sidebar": "Contents",
   "toc_cell": false,
   "toc_position": {
    "height": "calc(100% - 180px)",
    "left": "10px",
    "top": "150px",
    "width": "369px"
   },
   "toc_section_display": true,
   "toc_window_display": true
  },
  "varInspector": {
   "cols": {
    "lenName": 16,
    "lenType": 16,
    "lenVar": 40
   },
   "kernels_config": {
    "python": {
     "delete_cmd_postfix": "",
     "delete_cmd_prefix": "del ",
     "library": "var_list.py",
     "varRefreshCmd": "print(var_dic_list())"
    },
    "r": {
     "delete_cmd_postfix": ") ",
     "delete_cmd_prefix": "rm(",
     "library": "var_list.r",
     "varRefreshCmd": "cat(var_dic_list()) "
    }
   },
   "types_to_exclude": [
    "module",
    "function",
    "builtin_function_or_method",
    "instance",
    "_Feature"
   ],
   "window_display": false
  }
 },
 "nbformat": 4,
 "nbformat_minor": 5
}
